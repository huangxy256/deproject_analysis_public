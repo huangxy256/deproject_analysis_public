{
 "cells": [
  {
   "cell_type": "markdown",
   "id": "dba5f08e",
   "metadata": {
    "papermill": {
     "duration": 0.005943,
     "end_time": "2025-09-16T18:13:37.404176",
     "exception": false,
     "start_time": "2025-09-16T18:13:37.398233",
     "status": "completed"
    },
    "tags": []
   },
   "source": [
    "# Create mock kinematics data for axisymmetric ETG sample\n",
    "\n",
    "Xiangyu Huang\n"
   ]
  },
  {
   "cell_type": "code",
   "execution_count": 1,
   "id": "5ac4f42e",
   "metadata": {
    "execution": {
     "iopub.execute_input": "2025-09-16T18:13:37.408292Z",
     "iopub.status.busy": "2025-09-16T18:13:37.408083Z",
     "iopub.status.idle": "2025-09-16T18:13:38.380782Z",
     "shell.execute_reply": "2025-09-16T18:13:38.380367Z"
    },
    "papermill": {
     "duration": 0.975737,
     "end_time": "2025-09-16T18:13:38.381788",
     "exception": false,
     "start_time": "2025-09-16T18:13:37.406051",
     "status": "completed"
    },
    "tags": []
   },
   "outputs": [],
   "source": [
    "import numpy as np\n",
    "\n",
    "import pandas as pd\n",
    "import corner\n",
    "from copy import deepcopy\n",
    "import h5py\n"
   ]
  },
  {
   "cell_type": "code",
   "execution_count": 2,
   "id": "6b7aab68",
   "metadata": {
    "execution": {
     "iopub.execute_input": "2025-09-16T18:13:38.416211Z",
     "iopub.status.busy": "2025-09-16T18:13:38.415669Z",
     "iopub.status.idle": "2025-09-16T18:13:38.761053Z",
     "shell.execute_reply": "2025-09-16T18:13:38.760782Z"
    },
    "papermill": {
     "duration": 0.351613,
     "end_time": "2025-09-16T18:13:38.762130",
     "exception": false,
     "start_time": "2025-09-16T18:13:38.410517",
     "status": "completed"
    },
    "tags": []
   },
   "outputs": [],
   "source": [
    "from deproject.Profiles.SIS_truncated_physical import SIS_truncated_physical\n",
    "from deproject.Util.orientation import Inclination, Sphere_random_point\n",
    "from deproject.Profiles.Jaffe import Jaffe\n",
    "from deproject.Cosmo.default_cosmo import get_default_lens_cosmo\n",
    "from deproject.MGE_analysis.mge_proj import MGE_Proj\n",
    "from deproject.MGE_analysis.intr_mge import Intr_MGE\n",
    "from deproject.MGE_analysis.mge_misc import sum_gaussian_components\n",
    "\n",
    "from jampy.jam_axi_proj import jam_axi_proj\n",
    "from jampy.mge_half_light_isophote import mge_half_light_isophote\n",
    "\n",
    "from plotbin.plot_velfield import plot_velfield\n",
    "\n",
    "from mgefit.mge_fit_1d import mge_fit_1d\n",
    "\n",
    "from lenstronomy.Analysis.lens_profile import LensProfileAnalysis\n",
    "\n",
    "import sys\n",
    "import os\n",
    "sys.path.append(os.path.dirname(os.getcwd()))\n",
    "from get_sigma_e import get_sigma_e"
   ]
  },
  {
   "cell_type": "markdown",
   "id": "774180ed",
   "metadata": {
    "papermill": {
     "duration": 0.002029,
     "end_time": "2025-09-16T18:13:38.783828",
     "exception": false,
     "start_time": "2025-09-16T18:13:38.781799",
     "status": "completed"
    },
    "tags": []
   },
   "source": [
    "## Calculation\n",
    "\n",
    "We use the truncated SIS profile as the mass density profile and Jaffe profile as the stellar tracer."
   ]
  },
  {
   "cell_type": "code",
   "execution_count": 3,
   "id": "95784605",
   "metadata": {
    "execution": {
     "iopub.execute_input": "2025-09-16T18:13:38.806458Z",
     "iopub.status.busy": "2025-09-16T18:13:38.806077Z",
     "iopub.status.idle": "2025-09-16T18:13:38.811790Z",
     "shell.execute_reply": "2025-09-16T18:13:38.811127Z"
    },
    "papermill": {
     "duration": 0.027513,
     "end_time": "2025-09-16T18:13:38.813676",
     "exception": false,
     "start_time": "2025-09-16T18:13:38.786163",
     "status": "completed"
    },
    "tags": []
   },
   "outputs": [],
   "source": [
    "def get_truncsis_intr_mge(sigma_v, rc_kpc, r_sym, qintr, plot_mge=0, fignum=1):\n",
    "    \"\"\"get the amplitude and dispersion of the MGE describing the INTRINSIC mass density/stellar light profile along the symmetry axis \n",
    "\n",
    "    Args:\n",
    "        sigma_v (_type_): sigma_sph of the truncated SIS profile\n",
    "        rc_kpc (_type_): truncation radius in kpc\n",
    "        r_sym (_type_): coordinate along the symmetry axis\n",
    "        qintr (_type_): intrinsic axis ratio. If oblate, qintr < 1; if prolate, qintr > 1\n",
    "        plot_mge (int, optional): _description_. Defaults to 0.\n",
    "        fignum (int, optional): _description_. Defaults to 1.\n",
    "\n",
    "    Returns:\n",
    "        _type_: amplitude in M_sun/pc^3\n",
    "        _type_: dispersion in pc\n",
    "    \"\"\"\n",
    "    sis_profile = SIS_truncated_physical(sigma_v=sigma_v, rc = rc_kpc)\n",
    "    intr_mge = Intr_MGE(profile=sis_profile, qintr=qintr, r_sym=r_sym)\n",
    "    peak, sigma = intr_mge.MGE_param(kwargs_mge={'ngauss': 20, 'inner_slope': 3, 'outer_slope':1}, plot_mge=plot_mge, fignum=fignum)\n",
    "\n",
    "    peak = peak / 1e9 # convert to [M_sun/pc^3]\n",
    "    sigma = sigma * 1e3 # convert to [pc]\n",
    "\n",
    "    return peak, sigma"
   ]
  },
  {
   "cell_type": "code",
   "execution_count": 4,
   "id": "49cda1dd",
   "metadata": {
    "execution": {
     "iopub.execute_input": "2025-09-16T18:13:38.843764Z",
     "iopub.status.busy": "2025-09-16T18:13:38.843384Z",
     "iopub.status.idle": "2025-09-16T18:13:38.859130Z",
     "shell.execute_reply": "2025-09-16T18:13:38.858612Z"
    },
    "papermill": {
     "duration": 0.041764,
     "end_time": "2025-09-16T18:13:38.860051",
     "exception": false,
     "start_time": "2025-09-16T18:13:38.818287",
     "status": "completed"
    },
    "tags": []
   },
   "outputs": [],
   "source": [
    "def get_proj_mge(mge_proj, distance, inc):\n",
    "    \"\"\"get projected MGE\n",
    "\n",
    "    Args:\n",
    "        mge_proj (_type_): MGE_proj instance\n",
    "        distance (_type_): angular diameter distance in Mpc, used to convert the dispersion to arcsec\n",
    "        inc (_type_): inclination angle [rad]\n",
    "\n",
    "    Returns:\n",
    "        _type_: peak of the projected MGE [M_sun/pc^3]\n",
    "        _type_: sigma of the projected MGE [arcsec]\n",
    "        _type_: projected axis ratio \n",
    "    \"\"\"\n",
    "    surf = mge_proj.surf(inc=inc)\n",
    "    qobs = mge_proj.qobs(inc=inc)\n",
    "\n",
    "    qobs = np.full_like(surf, qobs)\n",
    "\n",
    "    pc = distance * np.pi / 0.648 # convert to arcsec\n",
    "    sigma_intr = mge_proj.sigma\n",
    "    sigma = sigma_intr / pc\n",
    "\n",
    "    return surf, sigma, qobs"
   ]
  },
  {
   "cell_type": "code",
   "execution_count": 5,
   "id": "8b87c322",
   "metadata": {
    "execution": {
     "iopub.execute_input": "2025-09-16T18:13:38.867328Z",
     "iopub.status.busy": "2025-09-16T18:13:38.866895Z",
     "iopub.status.idle": "2025-09-16T18:13:38.900295Z",
     "shell.execute_reply": "2025-09-16T18:13:38.900012Z"
    },
    "papermill": {
     "duration": 0.039644,
     "end_time": "2025-09-16T18:13:38.901522",
     "exception": false,
     "start_time": "2025-09-16T18:13:38.861878",
     "status": "completed"
    },
    "tags": []
   },
   "outputs": [],
   "source": [
    "def get_jaffe_intr_mge(m_star, rs_kpc, qintr, plot_mge=0, fignum=1):\n",
    "\n",
    "    jaffe_profile = Jaffe(rs=rs_kpc, rho0=1e5)\n",
    "\n",
    "    r_sym = np.geomspace(0.001, 10 * rs_kpc, 300)\n",
    "\n",
    "    intr_mge = Intr_MGE(profile=jaffe_profile, qintr=qintr, r_sym=r_sym)\n",
    "\n",
    "    peak, sigma = intr_mge.MGE_param(kwargs_mge = {'ngauss': 20}, plot_mge=plot_mge, fignum=fignum)\n",
    "\n",
    "    peak = peak / 1e9 # convert to [M_sun/pc^3]\n",
    "    sigma = sigma * 1e3 # convert to [pc]\n",
    "\n",
    "    mtot = intr_mge.MGE_mass_sph()\n",
    "    peak = m_star / mtot * peak # rescale to desired input stellar mass\n",
    "\n",
    "    return peak, sigma"
   ]
  },
  {
   "cell_type": "code",
   "execution_count": 6,
   "id": "4f6eae9e",
   "metadata": {
    "execution": {
     "iopub.execute_input": "2025-09-16T18:13:38.912411Z",
     "iopub.status.busy": "2025-09-16T18:13:38.912209Z",
     "iopub.status.idle": "2025-09-16T18:13:38.935400Z",
     "shell.execute_reply": "2025-09-16T18:13:38.934940Z"
    },
    "papermill": {
     "duration": 0.032703,
     "end_time": "2025-09-16T18:13:38.936578",
     "exception": false,
     "start_time": "2025-09-16T18:13:38.903875",
     "status": "completed"
    },
    "tags": []
   },
   "outputs": [],
   "source": [
    "def get_sigma_e_dist(catalog, oblate, single_proj, save_mge=0):\n",
    "    \"\"\"calculate velocity dispersion distribution under many projections\n",
    "\n",
    "    Args:\n",
    "        catalog (_type_): _description_\n",
    "        oblate (_type_): True if intrinsic shape is oblate; False if intrinsic shape is prolate\n",
    "        single_proj (_type_): number of projections for a single halo\n",
    "        save_mge (int, optional): whether to return the MGE components. Defaults to 0.\n",
    "\n",
    "    Returns:\n",
    "        _type_: _description_\n",
    "    \"\"\"\n",
    "    # set up a cosmology and lens_source configuration\n",
    "    lens_cosmo = get_default_lens_cosmo()\n",
    "    distance = lens_cosmo.Dd\n",
    "    sigma_crit = lens_cosmo.Sigma_crit / 1e12 # [M_sun/pc^2]\n",
    "\n",
    "    num_galaxy = len(catalog)\n",
    "    num_proj = num_galaxy * single_proj\n",
    "    sigma_e_all = np.zeros(num_proj)\n",
    "    qobs_all = np.zeros(num_proj)\n",
    "    theta_e_all = np.zeros(num_proj)\n",
    "\n",
    "    if save_mge:\n",
    "        peak_mge_den_all = np.zeros(shape=(num_proj, 20))\n",
    "        sigma_mge_den_all = np.zeros_like(peak_mge_den_all)\n",
    "        peak_mge_lum_all = np.zeros(shape=(num_proj, 20))\n",
    "        sigma_mge_lum_all = np.zeros_like(peak_mge_lum_all)\n",
    "\n",
    "    # access catalog info\n",
    "    sigma_rm_all = catalog['sigma_random_los'].values\n",
    "    Re_kpc_all = catalog['Re'].values\n",
    "    if oblate:\n",
    "        qintr_all = catalog['xi_new'].values\n",
    "    else:\n",
    "        qintr_all = 1/catalog['zeta_new'].values\n",
    "    # compute rc_kpc for truncated sis profile\n",
    "    theta_e_sis_all = lens_cosmo.sis_sigma_v2theta_E(sigma_rm_all)\n",
    "    theta_e_sis_kpc_all = lens_cosmo.arcsec2Mpc_lens(theta_e_sis_all) * 1e3\n",
    "    rc_kpc_all = theta_e_sis_kpc_all * 200\n",
    "\n",
    "    # compute effective radius in arcsec\n",
    "    Re_arcsec_all = lens_cosmo.Mpc2arcsec_lens(Re_kpc_all / 1e3)\n",
    "\n",
    "    # sample inclination angle uniformly on a sphere\n",
    "    theta_all, phi_all = Sphere_random_point(num_proj)\n",
    "    inc_all = Inclination(oblate=oblate, theta=theta_all, phi=phi_all, deg=0)\n",
    "    inc_deg_all = Inclination(oblate=oblate, theta=theta_all, phi=phi_all, deg=1)\n",
    "\n",
    "    for i in range(num_galaxy):\n",
    "\n",
    "        sigma_rm = sigma_rm_all[i]\n",
    "        rs_kpc = Re_kpc_all[i] / 0.763 \n",
    "        qintr = qintr_all[i]\n",
    "        rc_kpc = rc_kpc_all[i]\n",
    "        theta_e_sis = theta_e_sis_all[i]\n",
    "        Re_arcsec = Re_arcsec_all[i]\n",
    "\n",
    "        # intrinsic MGE component of density and luminosity\n",
    "        r_sym = np.geomspace(0.01, 5 * rc_kpc, 300)\n",
    "        r_fine = np.geomspace(0.01, 10 * theta_e_sis, 100)\n",
    "        peak_den, sigma_den = get_truncsis_intr_mge(sigma_rm, rc_kpc, r_sym, qintr)\n",
    "        peak_lum, sigma_lum = get_jaffe_intr_mge(1e11, rs_kpc, qintr)\n",
    "\n",
    "        beta = np.zeros_like(peak_lum)\n",
    "\n",
    "        # project each single_proj times\n",
    "        mge_proj_den = MGE_Proj(peak_den, sigma_den, qintr)\n",
    "        mge_proj_lum = MGE_Proj(peak_lum, sigma_lum, qintr)\n",
    "\n",
    "        # make a grid\n",
    "        xx = np.linspace(-4 * theta_e_sis, 4 * theta_e_sis, 100)  # avoid (x,y)=(0,0)\n",
    "        xbin, ybin = map(np.ravel, np.meshgrid(xx, xx))\n",
    "\n",
    "        for j in range(single_proj):\n",
    "            \n",
    "            inc = inc_all[single_proj*i + j]\n",
    "            inc_deg = inc_deg_all[single_proj*i + j]\n",
    "            peak_surf_den, sigma_surf_den, qobs_den = get_proj_mge(mge_proj_den, distance, inc)\n",
    "            peak_surf_lum, sigma_surf_lum, qobs_lum = get_proj_mge(mge_proj_lum, distance, inc)\n",
    "\n",
    "            # save the mge\n",
    "            if save_mge:\n",
    "                peak_mge_den_all[single_proj*i + j, :len(peak_surf_den)] =  peak_surf_den\n",
    "                sigma_mge_den_all[single_proj*i + j, :len(sigma_surf_den)] = sigma_surf_den\n",
    "                peak_mge_lum_all[single_proj*i + j, :len(peak_surf_lum)] = peak_surf_lum\n",
    "                sigma_mge_lum_all[single_proj*i + j, :len(sigma_surf_lum)] = sigma_surf_lum\n",
    "\n",
    "            # compute observed axis ratio \n",
    "            Qobs = mge_proj_den.qobs(inc=inc)\n",
    "            qobs_all[single_proj*i + j] = Qobs\n",
    "\n",
    "            # compute einstein radius from the radial profile\n",
    "            surf_den_circ = sum_gaussian_components(r_fine/np.sqrt(Qobs), peak_surf_den, sigma_surf_den) # circularized surface density profile\n",
    "            theta_e_jam = LensProfileAnalysis.effective_einstein_radius_from_radial_profile(r_fine, surf_den_circ/sigma_crit)\n",
    "            theta_e_all[single_proj*i + j] = theta_e_jam\n",
    "            print(f\"theta_E: {theta_e_jam:.3f} arcsec\")\n",
    "\n",
    "            # jam prediction of LoS velocity dispersion\n",
    "            jam = jam_axi_proj(peak_surf_lum, sigma_surf_lum, qobs_lum, peak_surf_den, sigma_surf_den, qobs_den, inc_deg, 0, distance, xbin, ybin, plot=0, beta=beta, align='sph', quiet=True)\n",
    "            sigma_e = get_sigma_e(peak_surf_lum, sigma_surf_lum, qobs_lum, jam, xbin, ybin)\n",
    "            print(f\"sigma_e: {sigma_e:.2f} km/s\")\n",
    "            sigma_e_all[single_proj*i + j] = sigma_e\n",
    "\n",
    "    data = np.vstack([theta_e_all, qobs_all, sigma_e_all, inc_deg_all, theta_all, phi_all])\n",
    "\n",
    "    if save_mge:\n",
    "        return data, peak_mge_den_all, sigma_mge_den_all, peak_mge_lum_all, sigma_mge_lum_all\n",
    "    else:\n",
    "        return data"
   ]
  },
  {
   "cell_type": "markdown",
   "id": "278720af",
   "metadata": {
    "papermill": {
     "duration": 0.001725,
     "end_time": "2025-09-16T18:13:38.940356",
     "exception": false,
     "start_time": "2025-09-16T18:13:38.938631",
     "status": "completed"
    },
    "tags": []
   },
   "source": [
    "## Access data\n",
    "\n",
    "Data is axisymmetric shape catalog, which is modified from the original triaxial TNG ETG catalog. For the oblate sample with $T < 0.5$, we take $b/a \\rightarrow 1$, $c/a \\rightarrow (1 + b/a) * c/a / 2$ (preserving total volumn of the ellipsoid). For the prolate sample with $T > 0.5$, we take $b/a = c/a \\rightarrow (b/a + c/a) / 2$."
   ]
  },
  {
   "cell_type": "code",
   "execution_count": 7,
   "id": "3e2ab03e",
   "metadata": {
    "execution": {
     "iopub.execute_input": "2025-09-16T18:13:38.948012Z",
     "iopub.status.busy": "2025-09-16T18:13:38.947820Z",
     "iopub.status.idle": "2025-09-16T18:13:38.987053Z",
     "shell.execute_reply": "2025-09-16T18:13:38.986589Z"
    },
    "papermill": {
     "duration": 0.044912,
     "end_time": "2025-09-16T18:13:38.988279",
     "exception": false,
     "start_time": "2025-09-16T18:13:38.943367",
     "status": "completed"
    },
    "tags": []
   },
   "outputs": [],
   "source": [
    "cat_oblate = pd.read_pickle('./axisym_tng_catalog/oblate_catalog.pkl')\n",
    "cat_prolate = pd.read_pickle('./axisym_tng_catalog/prolate_catalog.pkl')"
   ]
  },
  {
   "cell_type": "markdown",
   "id": "8f65d66e",
   "metadata": {
    "papermill": {
     "duration": 0.00189,
     "end_time": "2025-09-16T18:13:38.992515",
     "exception": false,
     "start_time": "2025-09-16T18:13:38.990625",
     "status": "completed"
    },
    "tags": []
   },
   "source": [
    "## Mock data for oblate TNG100 ETG"
   ]
  },
  {
   "cell_type": "code",
   "execution_count": 8,
   "id": "7d0f8af8",
   "metadata": {
    "execution": {
     "iopub.execute_input": "2025-09-16T18:13:39.004472Z",
     "iopub.status.busy": "2025-09-16T18:13:39.004338Z",
     "iopub.status.idle": "2025-09-16T18:29:32.959899Z",
     "shell.execute_reply": "2025-09-16T18:29:32.959548Z"
    },
    "papermill": {
     "duration": 953.958686,
     "end_time": "2025-09-16T18:29:32.960764",
     "exception": false,
     "start_time": "2025-09-16T18:13:39.002078",
     "status": "completed"
    },
    "tags": []
   },
   "outputs": [
    {
     "name": "stdout",
     "output_type": "stream",
     "text": [
      "theta_E: 0.563 arcsec\n"
     ]
    },
    {
     "name": "stdout",
     "output_type": "stream",
     "text": [
      "sigma_e: 158.96 km/s\n",
      "theta_E: 0.676 arcsec\n"
     ]
    },
    {
     "name": "stdout",
     "output_type": "stream",
     "text": [
      "sigma_e: 171.22 km/s\n",
      "theta_E: 0.585 arcsec\n"
     ]
    },
    {
     "name": "stdout",
     "output_type": "stream",
     "text": [
      "sigma_e: 162.65 km/s\n",
      "theta_E: 0.540 arcsec\n"
     ]
    },
    {
     "name": "stdout",
     "output_type": "stream",
     "text": [
      "sigma_e: 153.96 km/s\n",
      "theta_E: 0.661 arcsec\n"
     ]
    },
    {
     "name": "stdout",
     "output_type": "stream",
     "text": [
      "sigma_e: 170.26 km/s\n",
      "theta_E: 0.549 arcsec\n"
     ]
    },
    {
     "name": "stdout",
     "output_type": "stream",
     "text": [
      "sigma_e: 156.17 km/s\n",
      "theta_E: 0.682 arcsec\n"
     ]
    },
    {
     "name": "stdout",
     "output_type": "stream",
     "text": [
      "sigma_e: 171.52 km/s\n",
      "theta_E: 0.714 arcsec\n"
     ]
    },
    {
     "name": "stdout",
     "output_type": "stream",
     "text": [
      "sigma_e: 173.00 km/s\n",
      "theta_E: 0.629 arcsec\n"
     ]
    },
    {
     "name": "stdout",
     "output_type": "stream",
     "text": [
      "sigma_e: 167.78 km/s\n",
      "theta_E: 0.690 arcsec\n"
     ]
    },
    {
     "name": "stdout",
     "output_type": "stream",
     "text": [
      "sigma_e: 171.95 km/s\n"
     ]
    },
    {
     "name": "stdout",
     "output_type": "stream",
     "text": [
      "theta_E: 0.313 arcsec\n"
     ]
    },
    {
     "name": "stdout",
     "output_type": "stream",
     "text": [
      "sigma_e: 114.44 km/s\n",
      "theta_E: 0.334 arcsec\n"
     ]
    },
    {
     "name": "stdout",
     "output_type": "stream",
     "text": [
      "sigma_e: 121.66 km/s\n",
      "theta_E: 0.415 arcsec\n"
     ]
    },
    {
     "name": "stdout",
     "output_type": "stream",
     "text": [
      "sigma_e: 133.47 km/s\n",
      "theta_E: 0.395 arcsec\n"
     ]
    },
    {
     "name": "stdout",
     "output_type": "stream",
     "text": [
      "sigma_e: 131.97 km/s\n",
      "theta_E: 0.396 arcsec\n"
     ]
    },
    {
     "name": "stdout",
     "output_type": "stream",
     "text": [
      "sigma_e: 132.03 km/s\n",
      "theta_E: 0.378 arcsec\n"
     ]
    },
    {
     "name": "stdout",
     "output_type": "stream",
     "text": [
      "sigma_e: 130.21 km/s\n",
      "theta_E: 0.329 arcsec\n"
     ]
    },
    {
     "name": "stdout",
     "output_type": "stream",
     "text": [
      "sigma_e: 120.16 km/s\n",
      "theta_E: 0.414 arcsec\n"
     ]
    },
    {
     "name": "stdout",
     "output_type": "stream",
     "text": [
      "sigma_e: 133.41 km/s\n",
      "theta_E: 0.368 arcsec\n"
     ]
    },
    {
     "name": "stdout",
     "output_type": "stream",
     "text": [
      "sigma_e: 128.84 km/s\n",
      "theta_E: 0.348 arcsec\n"
     ]
    },
    {
     "name": "stdout",
     "output_type": "stream",
     "text": [
      "sigma_e: 125.22 km/s\n"
     ]
    },
    {
     "name": "stdout",
     "output_type": "stream",
     "text": [
      "theta_E: 0.744 arcsec\n"
     ]
    },
    {
     "name": "stdout",
     "output_type": "stream",
     "text": [
      "sigma_e: 175.81 km/s\n",
      "theta_E: 0.613 arcsec\n"
     ]
    },
    {
     "name": "stdout",
     "output_type": "stream",
     "text": [
      "sigma_e: 165.69 km/s\n",
      "theta_E: 0.612 arcsec\n"
     ]
    },
    {
     "name": "stdout",
     "output_type": "stream",
     "text": [
      "sigma_e: 165.53 km/s\n",
      "theta_E: 0.541 arcsec\n"
     ]
    },
    {
     "name": "stdout",
     "output_type": "stream",
     "text": [
      "sigma_e: 149.44 km/s\n",
      "theta_E: 0.747 arcsec\n"
     ]
    },
    {
     "name": "stdout",
     "output_type": "stream",
     "text": [
      "sigma_e: 175.91 km/s\n",
      "theta_E: 0.650 arcsec\n"
     ]
    },
    {
     "name": "stdout",
     "output_type": "stream",
     "text": [
      "sigma_e: 170.04 km/s\n",
      "theta_E: 0.682 arcsec\n"
     ]
    },
    {
     "name": "stdout",
     "output_type": "stream",
     "text": [
      "sigma_e: 172.68 km/s\n",
      "theta_E: 0.748 arcsec\n"
     ]
    },
    {
     "name": "stdout",
     "output_type": "stream",
     "text": [
      "sigma_e: 175.93 km/s\n",
      "theta_E: 0.685 arcsec\n"
     ]
    },
    {
     "name": "stdout",
     "output_type": "stream",
     "text": [
      "sigma_e: 172.85 km/s\n",
      "theta_E: 0.616 arcsec\n"
     ]
    },
    {
     "name": "stdout",
     "output_type": "stream",
     "text": [
      "sigma_e: 166.05 km/s\n"
     ]
    },
    {
     "name": "stdout",
     "output_type": "stream",
     "text": [
      "theta_E: 0.444 arcsec\n"
     ]
    },
    {
     "name": "stdout",
     "output_type": "stream",
     "text": [
      "sigma_e: 138.98 km/s\n",
      "theta_E: 0.344 arcsec\n"
     ]
    },
    {
     "name": "stdout",
     "output_type": "stream",
     "text": [
      "sigma_e: 120.48 km/s\n",
      "theta_E: 0.339 arcsec\n"
     ]
    },
    {
     "name": "stdout",
     "output_type": "stream",
     "text": [
      "sigma_e: 117.93 km/s\n",
      "theta_E: 0.459 arcsec\n"
     ]
    },
    {
     "name": "stdout",
     "output_type": "stream",
     "text": [
      "sigma_e: 139.92 km/s\n",
      "theta_E: 0.341 arcsec\n"
     ]
    },
    {
     "name": "stdout",
     "output_type": "stream",
     "text": [
      "sigma_e: 119.16 km/s\n",
      "theta_E: 0.361 arcsec\n"
     ]
    },
    {
     "name": "stdout",
     "output_type": "stream",
     "text": [
      "sigma_e: 126.23 km/s\n",
      "theta_E: 0.384 arcsec\n"
     ]
    },
    {
     "name": "stdout",
     "output_type": "stream",
     "text": [
      "sigma_e: 131.70 km/s\n",
      "theta_E: 0.418 arcsec\n"
     ]
    },
    {
     "name": "stdout",
     "output_type": "stream",
     "text": [
      "sigma_e: 136.71 km/s\n",
      "theta_E: 0.403 arcsec\n"
     ]
    },
    {
     "name": "stdout",
     "output_type": "stream",
     "text": [
      "sigma_e: 134.91 km/s\n",
      "theta_E: 0.367 arcsec\n"
     ]
    },
    {
     "name": "stdout",
     "output_type": "stream",
     "text": [
      "sigma_e: 127.80 km/s\n"
     ]
    },
    {
     "name": "stdout",
     "output_type": "stream",
     "text": [
      "theta_E: 0.890 arcsec\n"
     ]
    },
    {
     "name": "stdout",
     "output_type": "stream",
     "text": [
      "sigma_e: 197.80 km/s\n",
      "theta_E: 0.744 arcsec\n"
     ]
    },
    {
     "name": "stdout",
     "output_type": "stream",
     "text": [
      "sigma_e: 180.84 km/s\n",
      "theta_E: 0.858 arcsec\n"
     ]
    },
    {
     "name": "stdout",
     "output_type": "stream",
     "text": [
      "sigma_e: 195.67 km/s\n",
      "theta_E: 0.925 arcsec\n"
     ]
    },
    {
     "name": "stdout",
     "output_type": "stream",
     "text": [
      "sigma_e: 199.63 km/s\n",
      "theta_E: 0.928 arcsec\n"
     ]
    },
    {
     "name": "stdout",
     "output_type": "stream",
     "text": [
      "sigma_e: 199.73 km/s\n",
      "theta_E: 0.718 arcsec\n"
     ]
    },
    {
     "name": "stdout",
     "output_type": "stream",
     "text": [
      "sigma_e: 174.79 km/s\n",
      "theta_E: 0.934 arcsec\n"
     ]
    },
    {
     "name": "stdout",
     "output_type": "stream",
     "text": [
      "sigma_e: 200.01 km/s\n",
      "theta_E: 0.768 arcsec\n"
     ]
    },
    {
     "name": "stdout",
     "output_type": "stream",
     "text": [
      "sigma_e: 185.33 km/s\n",
      "theta_E: 0.713 arcsec\n"
     ]
    },
    {
     "name": "stdout",
     "output_type": "stream",
     "text": [
      "sigma_e: 173.47 km/s\n",
      "theta_E: 0.901 arcsec\n"
     ]
    },
    {
     "name": "stdout",
     "output_type": "stream",
     "text": [
      "sigma_e: 198.46 km/s\n"
     ]
    },
    {
     "name": "stdout",
     "output_type": "stream",
     "text": [
      "theta_E: 0.419 arcsec\n"
     ]
    },
    {
     "name": "stdout",
     "output_type": "stream",
     "text": [
      "sigma_e: 136.97 km/s\n",
      "theta_E: 0.525 arcsec\n"
     ]
    },
    {
     "name": "stdout",
     "output_type": "stream",
     "text": [
      "sigma_e: 146.26 km/s\n",
      "theta_E: 0.435 arcsec\n"
     ]
    },
    {
     "name": "stdout",
     "output_type": "stream",
     "text": [
      "sigma_e: 139.52 km/s\n",
      "theta_E: 0.360 arcsec\n"
     ]
    },
    {
     "name": "stdout",
     "output_type": "stream",
     "text": [
      "sigma_e: 118.37 km/s\n",
      "theta_E: 0.427 arcsec\n"
     ]
    },
    {
     "name": "stdout",
     "output_type": "stream",
     "text": [
      "sigma_e: 138.32 km/s\n",
      "theta_E: 0.506 arcsec\n"
     ]
    },
    {
     "name": "stdout",
     "output_type": "stream",
     "text": [
      "sigma_e: 145.50 km/s\n",
      "theta_E: 0.520 arcsec\n"
     ]
    },
    {
     "name": "stdout",
     "output_type": "stream",
     "text": [
      "sigma_e: 146.05 km/s\n",
      "theta_E: 0.431 arcsec\n"
     ]
    },
    {
     "name": "stdout",
     "output_type": "stream",
     "text": [
      "sigma_e: 139.02 km/s\n",
      "theta_E: 0.518 arcsec\n"
     ]
    },
    {
     "name": "stdout",
     "output_type": "stream",
     "text": [
      "sigma_e: 146.00 km/s\n",
      "theta_E: 0.401 arcsec\n"
     ]
    },
    {
     "name": "stdout",
     "output_type": "stream",
     "text": [
      "sigma_e: 133.24 km/s\n"
     ]
    },
    {
     "name": "stdout",
     "output_type": "stream",
     "text": [
      "theta_E: 0.327 arcsec\n"
     ]
    },
    {
     "name": "stdout",
     "output_type": "stream",
     "text": [
      "sigma_e: 110.05 km/s\n",
      "theta_E: 0.426 arcsec\n"
     ]
    },
    {
     "name": "stdout",
     "output_type": "stream",
     "text": [
      "sigma_e: 136.05 km/s\n",
      "theta_E: 0.505 arcsec\n"
     ]
    },
    {
     "name": "stdout",
     "output_type": "stream",
     "text": [
      "sigma_e: 140.07 km/s\n",
      "theta_E: 0.498 arcsec\n"
     ]
    },
    {
     "name": "stdout",
     "output_type": "stream",
     "text": [
      "sigma_e: 139.99 km/s\n",
      "theta_E: 0.459 arcsec\n"
     ]
    },
    {
     "name": "stdout",
     "output_type": "stream",
     "text": [
      "sigma_e: 138.44 km/s\n",
      "theta_E: 0.374 arcsec\n"
     ]
    },
    {
     "name": "stdout",
     "output_type": "stream",
     "text": [
      "sigma_e: 128.13 km/s\n",
      "theta_E: 0.329 arcsec\n"
     ]
    },
    {
     "name": "stdout",
     "output_type": "stream",
     "text": [
      "sigma_e: 111.13 km/s\n",
      "theta_E: 0.537 arcsec\n"
     ]
    },
    {
     "name": "stdout",
     "output_type": "stream",
     "text": [
      "sigma_e: 140.65 km/s\n",
      "theta_E: 0.344 arcsec\n"
     ]
    },
    {
     "name": "stdout",
     "output_type": "stream",
     "text": [
      "sigma_e: 118.65 km/s\n",
      "theta_E: 0.404 arcsec\n"
     ]
    },
    {
     "name": "stdout",
     "output_type": "stream",
     "text": [
      "sigma_e: 133.48 km/s\n"
     ]
    },
    {
     "name": "stdout",
     "output_type": "stream",
     "text": [
      "theta_E: 0.360 arcsec\n"
     ]
    },
    {
     "name": "stdout",
     "output_type": "stream",
     "text": [
      "sigma_e: 124.60 km/s\n",
      "theta_E: 0.318 arcsec\n"
     ]
    },
    {
     "name": "stdout",
     "output_type": "stream",
     "text": [
      "sigma_e: 118.52 km/s\n",
      "theta_E: 0.334 arcsec\n"
     ]
    },
    {
     "name": "stdout",
     "output_type": "stream",
     "text": [
      "sigma_e: 121.49 km/s\n",
      "theta_E: 0.445 arcsec\n"
     ]
    },
    {
     "name": "stdout",
     "output_type": "stream",
     "text": [
      "sigma_e: 128.07 km/s\n",
      "theta_E: 0.304 arcsec\n"
     ]
    },
    {
     "name": "stdout",
     "output_type": "stream",
     "text": [
      "sigma_e: 115.09 km/s\n",
      "theta_E: 0.314 arcsec\n"
     ]
    },
    {
     "name": "stdout",
     "output_type": "stream",
     "text": [
      "sigma_e: 117.59 km/s\n",
      "theta_E: 0.299 arcsec\n"
     ]
    },
    {
     "name": "stdout",
     "output_type": "stream",
     "text": [
      "sigma_e: 113.41 km/s\n",
      "theta_E: 0.297 arcsec\n"
     ]
    },
    {
     "name": "stdout",
     "output_type": "stream",
     "text": [
      "sigma_e: 112.82 km/s\n",
      "theta_E: 0.360 arcsec\n"
     ]
    },
    {
     "name": "stdout",
     "output_type": "stream",
     "text": [
      "sigma_e: 124.56 km/s\n",
      "theta_E: 0.443 arcsec\n"
     ]
    },
    {
     "name": "stdout",
     "output_type": "stream",
     "text": [
      "sigma_e: 128.03 km/s\n"
     ]
    },
    {
     "name": "stdout",
     "output_type": "stream",
     "text": [
      "theta_E: 0.532 arcsec\n"
     ]
    },
    {
     "name": "stdout",
     "output_type": "stream",
     "text": [
      "sigma_e: 153.13 km/s\n",
      "theta_E: 0.613 arcsec\n"
     ]
    },
    {
     "name": "stdout",
     "output_type": "stream",
     "text": [
      "sigma_e: 162.81 km/s\n",
      "theta_E: 0.603 arcsec\n"
     ]
    },
    {
     "name": "stdout",
     "output_type": "stream",
     "text": [
      "sigma_e: 162.13 km/s\n",
      "theta_E: 0.492 arcsec\n"
     ]
    },
    {
     "name": "stdout",
     "output_type": "stream",
     "text": [
      "sigma_e: 143.33 km/s\n",
      "theta_E: 0.493 arcsec\n"
     ]
    },
    {
     "name": "stdout",
     "output_type": "stream",
     "text": [
      "sigma_e: 143.39 km/s\n",
      "theta_E: 0.634 arcsec\n"
     ]
    },
    {
     "name": "stdout",
     "output_type": "stream",
     "text": [
      "sigma_e: 164.15 km/s\n",
      "theta_E: 0.522 arcsec\n"
     ]
    },
    {
     "name": "stdout",
     "output_type": "stream",
     "text": [
      "sigma_e: 151.09 km/s\n",
      "theta_E: 0.487 arcsec\n"
     ]
    },
    {
     "name": "stdout",
     "output_type": "stream",
     "text": [
      "sigma_e: 141.57 km/s\n",
      "theta_E: 0.698 arcsec\n"
     ]
    },
    {
     "name": "stdout",
     "output_type": "stream",
     "text": [
      "sigma_e: 166.57 km/s\n",
      "theta_E: 0.525 arcsec\n"
     ]
    },
    {
     "name": "stdout",
     "output_type": "stream",
     "text": [
      "sigma_e: 151.76 km/s\n"
     ]
    },
    {
     "name": "stdout",
     "output_type": "stream",
     "text": [
      "theta_E: 0.499 arcsec\n"
     ]
    },
    {
     "name": "stdout",
     "output_type": "stream",
     "text": [
      "sigma_e: 147.02 km/s\n",
      "theta_E: 0.466 arcsec\n"
     ]
    },
    {
     "name": "stdout",
     "output_type": "stream",
     "text": [
      "sigma_e: 135.83 km/s\n",
      "theta_E: 0.464 arcsec\n"
     ]
    },
    {
     "name": "stdout",
     "output_type": "stream",
     "text": [
      "sigma_e: 134.72 km/s\n",
      "theta_E: 0.643 arcsec\n"
     ]
    },
    {
     "name": "stdout",
     "output_type": "stream",
     "text": [
      "sigma_e: 164.59 km/s\n",
      "theta_E: 0.603 arcsec\n"
     ]
    },
    {
     "name": "stdout",
     "output_type": "stream",
     "text": [
      "sigma_e: 162.26 km/s\n",
      "theta_E: 0.566 arcsec\n"
     ]
    },
    {
     "name": "stdout",
     "output_type": "stream",
     "text": [
      "sigma_e: 158.97 km/s\n",
      "theta_E: 0.613 arcsec\n"
     ]
    },
    {
     "name": "stdout",
     "output_type": "stream",
     "text": [
      "sigma_e: 162.95 km/s\n",
      "theta_E: 0.520 arcsec\n"
     ]
    },
    {
     "name": "stdout",
     "output_type": "stream",
     "text": [
      "sigma_e: 151.86 km/s\n",
      "theta_E: 0.676 arcsec\n"
     ]
    },
    {
     "name": "stdout",
     "output_type": "stream",
     "text": [
      "sigma_e: 165.84 km/s\n",
      "theta_E: 0.545 arcsec\n"
     ]
    },
    {
     "name": "stdout",
     "output_type": "stream",
     "text": [
      "sigma_e: 156.28 km/s\n"
     ]
    },
    {
     "name": "stdout",
     "output_type": "stream",
     "text": [
      "theta_E: 0.309 arcsec\n"
     ]
    },
    {
     "name": "stdout",
     "output_type": "stream",
     "text": [
      "sigma_e: 112.55 km/s\n",
      "theta_E: 0.443 arcsec\n"
     ]
    },
    {
     "name": "stdout",
     "output_type": "stream",
     "text": [
      "sigma_e: 134.13 km/s\n",
      "theta_E: 0.386 arcsec\n"
     ]
    },
    {
     "name": "stdout",
     "output_type": "stream",
     "text": [
      "sigma_e: 130.59 km/s\n",
      "theta_E: 0.324 arcsec\n"
     ]
    },
    {
     "name": "stdout",
     "output_type": "stream",
     "text": [
      "sigma_e: 118.76 km/s\n",
      "theta_E: 0.402 arcsec\n"
     ]
    },
    {
     "name": "stdout",
     "output_type": "stream",
     "text": [
      "sigma_e: 131.94 km/s\n",
      "theta_E: 0.354 arcsec\n"
     ]
    },
    {
     "name": "stdout",
     "output_type": "stream",
     "text": [
      "sigma_e: 126.15 km/s\n",
      "theta_E: 0.440 arcsec\n"
     ]
    },
    {
     "name": "stdout",
     "output_type": "stream",
     "text": [
      "sigma_e: 134.00 km/s\n",
      "theta_E: 0.382 arcsec\n"
     ]
    },
    {
     "name": "stdout",
     "output_type": "stream",
     "text": [
      "sigma_e: 130.14 km/s\n",
      "theta_E: 0.309 arcsec\n"
     ]
    },
    {
     "name": "stdout",
     "output_type": "stream",
     "text": [
      "sigma_e: 112.65 km/s\n",
      "theta_E: 0.412 arcsec\n"
     ]
    },
    {
     "name": "stdout",
     "output_type": "stream",
     "text": [
      "sigma_e: 132.64 km/s\n"
     ]
    },
    {
     "name": "stdout",
     "output_type": "stream",
     "text": [
      "theta_E: 0.925 arcsec\n"
     ]
    },
    {
     "name": "stdout",
     "output_type": "stream",
     "text": [
      "sigma_e: 201.26 km/s\n",
      "theta_E: 0.909 arcsec\n"
     ]
    },
    {
     "name": "stdout",
     "output_type": "stream",
     "text": [
      "sigma_e: 199.19 km/s\n",
      "theta_E: 0.866 arcsec\n"
     ]
    },
    {
     "name": "stdout",
     "output_type": "stream",
     "text": [
      "sigma_e: 192.28 km/s\n",
      "theta_E: 0.919 arcsec\n"
     ]
    },
    {
     "name": "stdout",
     "output_type": "stream",
     "text": [
      "sigma_e: 200.61 km/s\n",
      "theta_E: 1.113 arcsec\n"
     ]
    },
    {
     "name": "stdout",
     "output_type": "stream",
     "text": [
      "sigma_e: 213.48 km/s\n",
      "theta_E: 0.790 arcsec\n"
     ]
    },
    {
     "name": "stdout",
     "output_type": "stream",
     "text": [
      "sigma_e: 171.80 km/s\n",
      "theta_E: 0.865 arcsec\n"
     ]
    },
    {
     "name": "stdout",
     "output_type": "stream",
     "text": [
      "sigma_e: 192.02 km/s\n",
      "theta_E: 1.171 arcsec\n"
     ]
    },
    {
     "name": "stdout",
     "output_type": "stream",
     "text": [
      "sigma_e: 214.87 km/s\n",
      "theta_E: 1.131 arcsec\n"
     ]
    },
    {
     "name": "stdout",
     "output_type": "stream",
     "text": [
      "sigma_e: 214.11 km/s\n",
      "theta_E: 0.780 arcsec\n"
     ]
    },
    {
     "name": "stdout",
     "output_type": "stream",
     "text": [
      "sigma_e: 168.00 km/s\n"
     ]
    },
    {
     "name": "stdout",
     "output_type": "stream",
     "text": [
      "theta_E: 0.417 arcsec\n"
     ]
    },
    {
     "name": "stdout",
     "output_type": "stream",
     "text": [
      "sigma_e: 136.39 km/s\n",
      "theta_E: 0.386 arcsec\n"
     ]
    },
    {
     "name": "stdout",
     "output_type": "stream",
     "text": [
      "sigma_e: 132.97 km/s\n",
      "theta_E: 0.353 arcsec\n"
     ]
    },
    {
     "name": "stdout",
     "output_type": "stream",
     "text": [
      "sigma_e: 126.63 km/s\n",
      "theta_E: 0.347 arcsec\n"
     ]
    },
    {
     "name": "stdout",
     "output_type": "stream",
     "text": [
      "sigma_e: 125.01 km/s\n",
      "theta_E: 0.405 arcsec\n"
     ]
    },
    {
     "name": "stdout",
     "output_type": "stream",
     "text": [
      "sigma_e: 135.35 km/s\n",
      "theta_E: 0.390 arcsec\n"
     ]
    },
    {
     "name": "stdout",
     "output_type": "stream",
     "text": [
      "sigma_e: 133.53 km/s\n",
      "theta_E: 0.416 arcsec\n"
     ]
    },
    {
     "name": "stdout",
     "output_type": "stream",
     "text": [
      "sigma_e: 136.37 km/s\n",
      "theta_E: 0.369 arcsec\n"
     ]
    },
    {
     "name": "stdout",
     "output_type": "stream",
     "text": [
      "sigma_e: 130.08 km/s\n",
      "theta_E: 0.365 arcsec\n"
     ]
    },
    {
     "name": "stdout",
     "output_type": "stream",
     "text": [
      "sigma_e: 129.25 km/s\n",
      "theta_E: 0.411 arcsec\n"
     ]
    },
    {
     "name": "stdout",
     "output_type": "stream",
     "text": [
      "sigma_e: 135.86 km/s\n"
     ]
    },
    {
     "name": "stdout",
     "output_type": "stream",
     "text": [
      "theta_E: 0.827 arcsec\n"
     ]
    },
    {
     "name": "stdout",
     "output_type": "stream",
     "text": [
      "sigma_e: 188.82 km/s\n",
      "theta_E: 0.779 arcsec\n"
     ]
    },
    {
     "name": "stdout",
     "output_type": "stream",
     "text": [
      "sigma_e: 185.53 km/s\n",
      "theta_E: 0.805 arcsec\n"
     ]
    },
    {
     "name": "stdout",
     "output_type": "stream",
     "text": [
      "sigma_e: 187.54 km/s\n",
      "theta_E: 0.655 arcsec\n"
     ]
    },
    {
     "name": "stdout",
     "output_type": "stream",
     "text": [
      "sigma_e: 165.82 km/s\n",
      "theta_E: 0.901 arcsec\n"
     ]
    },
    {
     "name": "stdout",
     "output_type": "stream",
     "text": [
      "sigma_e: 191.76 km/s\n",
      "theta_E: 0.898 arcsec\n"
     ]
    },
    {
     "name": "stdout",
     "output_type": "stream",
     "text": [
      "sigma_e: 191.69 km/s\n",
      "theta_E: 0.909 arcsec\n"
     ]
    },
    {
     "name": "stdout",
     "output_type": "stream",
     "text": [
      "sigma_e: 191.98 km/s\n",
      "theta_E: 0.886 arcsec\n"
     ]
    },
    {
     "name": "stdout",
     "output_type": "stream",
     "text": [
      "sigma_e: 191.37 km/s\n",
      "theta_E: 0.742 arcsec\n"
     ]
    },
    {
     "name": "stdout",
     "output_type": "stream",
     "text": [
      "sigma_e: 181.88 km/s\n",
      "theta_E: 0.851 arcsec\n"
     ]
    },
    {
     "name": "stdout",
     "output_type": "stream",
     "text": [
      "sigma_e: 190.03 km/s\n"
     ]
    },
    {
     "name": "stdout",
     "output_type": "stream",
     "text": [
      "theta_E: 1.512 arcsec\n"
     ]
    },
    {
     "name": "stdout",
     "output_type": "stream",
     "text": [
      "sigma_e: 256.93 km/s\n",
      "theta_E: 1.912 arcsec\n"
     ]
    },
    {
     "name": "stdout",
     "output_type": "stream",
     "text": [
      "sigma_e: 284.93 km/s\n",
      "theta_E: 1.511 arcsec\n"
     ]
    },
    {
     "name": "stdout",
     "output_type": "stream",
     "text": [
      "sigma_e: 256.88 km/s\n",
      "theta_E: 1.436 arcsec\n"
     ]
    },
    {
     "name": "stdout",
     "output_type": "stream",
     "text": [
      "sigma_e: 243.38 km/s\n",
      "theta_E: 1.783 arcsec\n"
     ]
    },
    {
     "name": "stdout",
     "output_type": "stream",
     "text": [
      "sigma_e: 280.24 km/s\n",
      "theta_E: 1.892 arcsec\n"
     ]
    },
    {
     "name": "stdout",
     "output_type": "stream",
     "text": [
      "sigma_e: 284.34 km/s\n",
      "theta_E: 1.812 arcsec\n"
     ]
    },
    {
     "name": "stdout",
     "output_type": "stream",
     "text": [
      "sigma_e: 281.49 km/s\n",
      "theta_E: 1.433 arcsec\n"
     ]
    },
    {
     "name": "stdout",
     "output_type": "stream",
     "text": [
      "sigma_e: 242.89 km/s\n",
      "theta_E: 1.503 arcsec\n"
     ]
    },
    {
     "name": "stdout",
     "output_type": "stream",
     "text": [
      "sigma_e: 255.54 km/s\n",
      "theta_E: 1.440 arcsec\n"
     ]
    },
    {
     "name": "stdout",
     "output_type": "stream",
     "text": [
      "sigma_e: 244.35 km/s\n"
     ]
    },
    {
     "name": "stdout",
     "output_type": "stream",
     "text": [
      "theta_E: 0.574 arcsec\n"
     ]
    },
    {
     "name": "stdout",
     "output_type": "stream",
     "text": [
      "sigma_e: 152.38 km/s\n",
      "theta_E: 0.401 arcsec\n"
     ]
    },
    {
     "name": "stdout",
     "output_type": "stream",
     "text": [
      "sigma_e: 126.38 km/s\n",
      "theta_E: 0.575 arcsec\n"
     ]
    },
    {
     "name": "stdout",
     "output_type": "stream",
     "text": [
      "sigma_e: 152.42 km/s\n",
      "theta_E: 0.555 arcsec\n"
     ]
    },
    {
     "name": "stdout",
     "output_type": "stream",
     "text": [
      "sigma_e: 151.68 km/s\n",
      "theta_E: 0.389 arcsec\n"
     ]
    },
    {
     "name": "stdout",
     "output_type": "stream",
     "text": [
      "sigma_e: 120.49 km/s\n",
      "theta_E: 0.642 arcsec\n"
     ]
    },
    {
     "name": "stdout",
     "output_type": "stream",
     "text": [
      "sigma_e: 153.74 km/s\n",
      "theta_E: 0.423 arcsec\n"
     ]
    },
    {
     "name": "stdout",
     "output_type": "stream",
     "text": [
      "sigma_e: 134.32 km/s\n",
      "theta_E: 0.514 arcsec\n"
     ]
    },
    {
     "name": "stdout",
     "output_type": "stream",
     "text": [
      "sigma_e: 149.27 km/s\n",
      "theta_E: 0.644 arcsec\n"
     ]
    },
    {
     "name": "stdout",
     "output_type": "stream",
     "text": [
      "sigma_e: 153.74 km/s\n",
      "theta_E: 0.500 arcsec\n"
     ]
    },
    {
     "name": "stdout",
     "output_type": "stream",
     "text": [
      "sigma_e: 148.09 km/s\n"
     ]
    },
    {
     "name": "stdout",
     "output_type": "stream",
     "text": [
      "theta_E: 0.792 arcsec\n"
     ]
    },
    {
     "name": "stdout",
     "output_type": "stream",
     "text": [
      "sigma_e: 186.99 km/s\n",
      "theta_E: 0.764 arcsec\n"
     ]
    },
    {
     "name": "stdout",
     "output_type": "stream",
     "text": [
      "sigma_e: 185.60 km/s\n",
      "theta_E: 0.749 arcsec\n"
     ]
    },
    {
     "name": "stdout",
     "output_type": "stream",
     "text": [
      "sigma_e: 184.70 km/s\n",
      "theta_E: 0.711 arcsec\n"
     ]
    },
    {
     "name": "stdout",
     "output_type": "stream",
     "text": [
      "sigma_e: 181.61 km/s\n",
      "theta_E: 0.731 arcsec\n"
     ]
    },
    {
     "name": "stdout",
     "output_type": "stream",
     "text": [
      "sigma_e: 183.35 km/s\n",
      "theta_E: 0.713 arcsec\n"
     ]
    },
    {
     "name": "stdout",
     "output_type": "stream",
     "text": [
      "sigma_e: 181.83 km/s\n",
      "theta_E: 0.634 arcsec\n"
     ]
    },
    {
     "name": "stdout",
     "output_type": "stream",
     "text": [
      "sigma_e: 170.02 km/s\n",
      "theta_E: 0.653 arcsec\n"
     ]
    },
    {
     "name": "stdout",
     "output_type": "stream",
     "text": [
      "sigma_e: 173.90 km/s\n",
      "theta_E: 0.794 arcsec\n"
     ]
    },
    {
     "name": "stdout",
     "output_type": "stream",
     "text": [
      "sigma_e: 187.05 km/s\n",
      "theta_E: 0.823 arcsec\n"
     ]
    },
    {
     "name": "stdout",
     "output_type": "stream",
     "text": [
      "sigma_e: 188.10 km/s\n"
     ]
    },
    {
     "name": "stdout",
     "output_type": "stream",
     "text": [
      "theta_E: 0.447 arcsec\n"
     ]
    },
    {
     "name": "stdout",
     "output_type": "stream",
     "text": [
      "sigma_e: 133.56 km/s\n",
      "theta_E: 0.323 arcsec\n"
     ]
    },
    {
     "name": "stdout",
     "output_type": "stream",
     "text": [
      "sigma_e: 118.51 km/s\n",
      "theta_E: 0.318 arcsec\n"
     ]
    },
    {
     "name": "stdout",
     "output_type": "stream",
     "text": [
      "sigma_e: 116.72 km/s\n",
      "theta_E: 0.302 arcsec\n"
     ]
    },
    {
     "name": "stdout",
     "output_type": "stream",
     "text": [
      "sigma_e: 109.72 km/s\n",
      "theta_E: 0.300 arcsec\n"
     ]
    },
    {
     "name": "stdout",
     "output_type": "stream",
     "text": [
      "sigma_e: 108.62 km/s\n",
      "theta_E: 0.296 arcsec\n"
     ]
    },
    {
     "name": "stdout",
     "output_type": "stream",
     "text": [
      "sigma_e: 106.71 km/s\n",
      "theta_E: 0.405 arcsec\n"
     ]
    },
    {
     "name": "stdout",
     "output_type": "stream",
     "text": [
      "sigma_e: 131.62 km/s\n",
      "theta_E: 0.306 arcsec\n"
     ]
    },
    {
     "name": "stdout",
     "output_type": "stream",
     "text": [
      "sigma_e: 111.67 km/s\n",
      "theta_E: 0.301 arcsec\n"
     ]
    },
    {
     "name": "stdout",
     "output_type": "stream",
     "text": [
      "sigma_e: 109.25 km/s\n",
      "theta_E: 0.436 arcsec\n"
     ]
    },
    {
     "name": "stdout",
     "output_type": "stream",
     "text": [
      "sigma_e: 133.17 km/s\n"
     ]
    },
    {
     "name": "stdout",
     "output_type": "stream",
     "text": [
      "theta_E: 0.547 arcsec\n"
     ]
    },
    {
     "name": "stdout",
     "output_type": "stream",
     "text": [
      "sigma_e: 151.58 km/s\n",
      "theta_E: 0.616 arcsec\n"
     ]
    },
    {
     "name": "stdout",
     "output_type": "stream",
     "text": [
      "sigma_e: 165.07 km/s\n",
      "theta_E: 0.729 arcsec\n"
     ]
    },
    {
     "name": "stdout",
     "output_type": "stream",
     "text": [
      "sigma_e: 173.43 km/s\n",
      "theta_E: 0.548 arcsec\n"
     ]
    },
    {
     "name": "stdout",
     "output_type": "stream",
     "text": [
      "sigma_e: 151.91 km/s\n",
      "theta_E: 0.759 arcsec\n"
     ]
    },
    {
     "name": "stdout",
     "output_type": "stream",
     "text": [
      "sigma_e: 174.38 km/s\n",
      "theta_E: 0.756 arcsec\n"
     ]
    },
    {
     "name": "stdout",
     "output_type": "stream",
     "text": [
      "sigma_e: 174.30 km/s\n",
      "theta_E: 0.759 arcsec\n"
     ]
    },
    {
     "name": "stdout",
     "output_type": "stream",
     "text": [
      "sigma_e: 174.38 km/s\n",
      "theta_E: 0.617 arcsec\n"
     ]
    },
    {
     "name": "stdout",
     "output_type": "stream",
     "text": [
      "sigma_e: 165.31 km/s\n",
      "theta_E: 0.534 arcsec\n"
     ]
    },
    {
     "name": "stdout",
     "output_type": "stream",
     "text": [
      "sigma_e: 147.53 km/s\n",
      "theta_E: 0.597 arcsec\n"
     ]
    },
    {
     "name": "stdout",
     "output_type": "stream",
     "text": [
      "sigma_e: 162.47 km/s\n"
     ]
    },
    {
     "name": "stdout",
     "output_type": "stream",
     "text": [
      "theta_E: 0.764 arcsec\n"
     ]
    },
    {
     "name": "stdout",
     "output_type": "stream",
     "text": [
      "sigma_e: 184.39 km/s\n",
      "theta_E: 0.656 arcsec\n"
     ]
    },
    {
     "name": "stdout",
     "output_type": "stream",
     "text": [
      "sigma_e: 171.37 km/s\n",
      "theta_E: 0.760 arcsec\n"
     ]
    },
    {
     "name": "stdout",
     "output_type": "stream",
     "text": [
      "sigma_e: 184.08 km/s\n",
      "theta_E: 0.686 arcsec\n"
     ]
    },
    {
     "name": "stdout",
     "output_type": "stream",
     "text": [
      "sigma_e: 176.42 km/s\n",
      "theta_E: 0.715 arcsec\n"
     ]
    },
    {
     "name": "stdout",
     "output_type": "stream",
     "text": [
      "sigma_e: 180.09 km/s\n",
      "theta_E: 0.698 arcsec\n"
     ]
    },
    {
     "name": "stdout",
     "output_type": "stream",
     "text": [
      "sigma_e: 178.09 km/s\n",
      "theta_E: 0.793 arcsec\n"
     ]
    },
    {
     "name": "stdout",
     "output_type": "stream",
     "text": [
      "sigma_e: 186.15 km/s\n",
      "theta_E: 0.712 arcsec\n"
     ]
    },
    {
     "name": "stdout",
     "output_type": "stream",
     "text": [
      "sigma_e: 179.73 km/s\n",
      "theta_E: 0.797 arcsec\n"
     ]
    },
    {
     "name": "stdout",
     "output_type": "stream",
     "text": [
      "sigma_e: 186.35 km/s\n",
      "theta_E: 0.697 arcsec\n"
     ]
    },
    {
     "name": "stdout",
     "output_type": "stream",
     "text": [
      "sigma_e: 177.87 km/s\n"
     ]
    },
    {
     "name": "stdout",
     "output_type": "stream",
     "text": [
      "theta_E: 0.278 arcsec\n"
     ]
    },
    {
     "name": "stdout",
     "output_type": "stream",
     "text": [
      "sigma_e: 98.20 km/s\n",
      "theta_E: 0.426 arcsec\n"
     ]
    },
    {
     "name": "stdout",
     "output_type": "stream",
     "text": [
      "sigma_e: 130.74 km/s\n",
      "theta_E: 0.289 arcsec\n"
     ]
    },
    {
     "name": "stdout",
     "output_type": "stream",
     "text": [
      "sigma_e: 105.77 km/s\n",
      "theta_E: 0.417 arcsec\n"
     ]
    },
    {
     "name": "stdout",
     "output_type": "stream",
     "text": [
      "sigma_e: 130.35 km/s\n",
      "theta_E: 0.293 arcsec\n"
     ]
    },
    {
     "name": "stdout",
     "output_type": "stream",
     "text": [
      "sigma_e: 107.85 km/s\n",
      "theta_E: 0.292 arcsec\n"
     ]
    },
    {
     "name": "stdout",
     "output_type": "stream",
     "text": [
      "sigma_e: 107.56 km/s\n",
      "theta_E: 0.354 arcsec\n"
     ]
    },
    {
     "name": "stdout",
     "output_type": "stream",
     "text": [
      "sigma_e: 125.25 km/s\n",
      "theta_E: 0.397 arcsec\n"
     ]
    },
    {
     "name": "stdout",
     "output_type": "stream",
     "text": [
      "sigma_e: 129.35 km/s\n",
      "theta_E: 0.327 arcsec\n"
     ]
    },
    {
     "name": "stdout",
     "output_type": "stream",
     "text": [
      "sigma_e: 120.28 km/s\n",
      "theta_E: 0.292 arcsec\n"
     ]
    },
    {
     "name": "stdout",
     "output_type": "stream",
     "text": [
      "sigma_e: 107.45 km/s\n"
     ]
    },
    {
     "name": "stdout",
     "output_type": "stream",
     "text": [
      "theta_E: 1.052 arcsec\n"
     ]
    },
    {
     "name": "stdout",
     "output_type": "stream",
     "text": [
      "sigma_e: 215.91 km/s\n",
      "theta_E: 1.185 arcsec\n"
     ]
    },
    {
     "name": "stdout",
     "output_type": "stream",
     "text": [
      "sigma_e: 222.68 km/s\n",
      "theta_E: 1.221 arcsec\n"
     ]
    },
    {
     "name": "stdout",
     "output_type": "stream",
     "text": [
      "sigma_e: 223.68 km/s\n",
      "theta_E: 1.114 arcsec\n"
     ]
    },
    {
     "name": "stdout",
     "output_type": "stream",
     "text": [
      "sigma_e: 219.84 km/s\n",
      "theta_E: 1.014 arcsec\n"
     ]
    },
    {
     "name": "stdout",
     "output_type": "stream",
     "text": [
      "sigma_e: 212.61 km/s\n",
      "theta_E: 1.012 arcsec\n"
     ]
    },
    {
     "name": "stdout",
     "output_type": "stream",
     "text": [
      "sigma_e: 212.35 km/s\n",
      "theta_E: 1.162 arcsec\n"
     ]
    },
    {
     "name": "stdout",
     "output_type": "stream",
     "text": [
      "sigma_e: 221.89 km/s\n",
      "theta_E: 1.037 arcsec\n"
     ]
    },
    {
     "name": "stdout",
     "output_type": "stream",
     "text": [
      "sigma_e: 214.66 km/s\n",
      "theta_E: 0.960 arcsec\n"
     ]
    },
    {
     "name": "stdout",
     "output_type": "stream",
     "text": [
      "sigma_e: 206.02 km/s\n",
      "theta_E: 0.927 arcsec\n"
     ]
    },
    {
     "name": "stdout",
     "output_type": "stream",
     "text": [
      "sigma_e: 200.62 km/s\n"
     ]
    },
    {
     "name": "stdout",
     "output_type": "stream",
     "text": [
      "theta_E: 0.551 arcsec\n"
     ]
    },
    {
     "name": "stdout",
     "output_type": "stream",
     "text": [
      "sigma_e: 157.69 km/s\n",
      "theta_E: 0.640 arcsec\n"
     ]
    },
    {
     "name": "stdout",
     "output_type": "stream",
     "text": [
      "sigma_e: 165.84 km/s\n",
      "theta_E: 0.644 arcsec\n"
     ]
    },
    {
     "name": "stdout",
     "output_type": "stream",
     "text": [
      "sigma_e: 166.09 km/s\n",
      "theta_E: 0.518 arcsec\n"
     ]
    },
    {
     "name": "stdout",
     "output_type": "stream",
     "text": [
      "sigma_e: 151.64 km/s\n",
      "theta_E: 0.616 arcsec\n"
     ]
    },
    {
     "name": "stdout",
     "output_type": "stream",
     "text": [
      "sigma_e: 164.43 km/s\n",
      "theta_E: 0.580 arcsec\n"
     ]
    },
    {
     "name": "stdout",
     "output_type": "stream",
     "text": [
      "sigma_e: 161.32 km/s\n",
      "theta_E: 0.539 arcsec\n"
     ]
    },
    {
     "name": "stdout",
     "output_type": "stream",
     "text": [
      "sigma_e: 155.73 km/s\n",
      "theta_E: 0.636 arcsec\n"
     ]
    },
    {
     "name": "stdout",
     "output_type": "stream",
     "text": [
      "sigma_e: 165.62 km/s\n",
      "theta_E: 0.642 arcsec\n"
     ]
    },
    {
     "name": "stdout",
     "output_type": "stream",
     "text": [
      "sigma_e: 165.93 km/s\n",
      "theta_E: 0.541 arcsec\n"
     ]
    },
    {
     "name": "stdout",
     "output_type": "stream",
     "text": [
      "sigma_e: 156.08 km/s\n"
     ]
    },
    {
     "name": "stdout",
     "output_type": "stream",
     "text": [
      "theta_E: 0.955 arcsec\n"
     ]
    },
    {
     "name": "stdout",
     "output_type": "stream",
     "text": [
      "sigma_e: 200.98 km/s\n",
      "theta_E: 0.726 arcsec\n"
     ]
    },
    {
     "name": "stdout",
     "output_type": "stream",
     "text": [
      "sigma_e: 176.72 km/s\n",
      "theta_E: 0.795 arcsec\n"
     ]
    },
    {
     "name": "stdout",
     "output_type": "stream",
     "text": [
      "sigma_e: 189.16 km/s\n",
      "theta_E: 0.797 arcsec\n"
     ]
    },
    {
     "name": "stdout",
     "output_type": "stream",
     "text": [
      "sigma_e: 189.47 km/s\n",
      "theta_E: 0.858 arcsec\n"
     ]
    },
    {
     "name": "stdout",
     "output_type": "stream",
     "text": [
      "sigma_e: 195.73 km/s\n",
      "theta_E: 0.873 arcsec\n"
     ]
    },
    {
     "name": "stdout",
     "output_type": "stream",
     "text": [
      "sigma_e: 196.85 km/s\n",
      "theta_E: 0.732 arcsec\n"
     ]
    },
    {
     "name": "stdout",
     "output_type": "stream",
     "text": [
      "sigma_e: 178.28 km/s\n",
      "theta_E: 0.772 arcsec\n"
     ]
    },
    {
     "name": "stdout",
     "output_type": "stream",
     "text": [
      "sigma_e: 185.79 km/s\n",
      "theta_E: 0.953 arcsec\n"
     ]
    },
    {
     "name": "stdout",
     "output_type": "stream",
     "text": [
      "sigma_e: 200.91 km/s\n",
      "theta_E: 0.848 arcsec\n"
     ]
    },
    {
     "name": "stdout",
     "output_type": "stream",
     "text": [
      "sigma_e: 194.86 km/s\n"
     ]
    },
    {
     "name": "stdout",
     "output_type": "stream",
     "text": [
      "theta_E: 0.371 arcsec\n"
     ]
    },
    {
     "name": "stdout",
     "output_type": "stream",
     "text": [
      "sigma_e: 127.59 km/s\n",
      "theta_E: 0.295 arcsec\n"
     ]
    },
    {
     "name": "stdout",
     "output_type": "stream",
     "text": [
      "sigma_e: 109.53 km/s\n",
      "theta_E: 0.396 arcsec\n"
     ]
    },
    {
     "name": "stdout",
     "output_type": "stream",
     "text": [
      "sigma_e: 129.54 km/s\n",
      "theta_E: 0.385 arcsec\n"
     ]
    },
    {
     "name": "stdout",
     "output_type": "stream",
     "text": [
      "sigma_e: 128.79 km/s\n",
      "theta_E: 0.328 arcsec\n"
     ]
    },
    {
     "name": "stdout",
     "output_type": "stream",
     "text": [
      "sigma_e: 120.90 km/s\n",
      "theta_E: 0.412 arcsec\n"
     ]
    },
    {
     "name": "stdout",
     "output_type": "stream",
     "text": [
      "sigma_e: 130.35 km/s\n",
      "theta_E: 0.392 arcsec\n"
     ]
    },
    {
     "name": "stdout",
     "output_type": "stream",
     "text": [
      "sigma_e: 129.25 km/s\n",
      "theta_E: 0.359 arcsec\n"
     ]
    },
    {
     "name": "stdout",
     "output_type": "stream",
     "text": [
      "sigma_e: 126.21 km/s\n",
      "theta_E: 0.403 arcsec\n"
     ]
    },
    {
     "name": "stdout",
     "output_type": "stream",
     "text": [
      "sigma_e: 129.99 km/s\n",
      "theta_E: 0.385 arcsec\n"
     ]
    },
    {
     "name": "stdout",
     "output_type": "stream",
     "text": [
      "sigma_e: 128.77 km/s\n"
     ]
    },
    {
     "name": "stdout",
     "output_type": "stream",
     "text": [
      "theta_E: 0.815 arcsec\n"
     ]
    },
    {
     "name": "stdout",
     "output_type": "stream",
     "text": [
      "sigma_e: 188.81 km/s\n",
      "theta_E: 0.762 arcsec\n"
     ]
    },
    {
     "name": "stdout",
     "output_type": "stream",
     "text": [
      "sigma_e: 184.94 km/s\n",
      "theta_E: 0.670 arcsec\n"
     ]
    },
    {
     "name": "stdout",
     "output_type": "stream",
     "text": [
      "sigma_e: 171.51 km/s\n",
      "theta_E: 0.841 arcsec\n"
     ]
    },
    {
     "name": "stdout",
     "output_type": "stream",
     "text": [
      "sigma_e: 190.12 km/s\n",
      "theta_E: 0.832 arcsec\n"
     ]
    },
    {
     "name": "stdout",
     "output_type": "stream",
     "text": [
      "sigma_e: 189.69 km/s\n",
      "theta_E: 0.844 arcsec\n"
     ]
    },
    {
     "name": "stdout",
     "output_type": "stream",
     "text": [
      "sigma_e: 190.25 km/s\n",
      "theta_E: 0.705 arcsec\n"
     ]
    },
    {
     "name": "stdout",
     "output_type": "stream",
     "text": [
      "sigma_e: 178.04 km/s\n",
      "theta_E: 0.776 arcsec\n"
     ]
    },
    {
     "name": "stdout",
     "output_type": "stream",
     "text": [
      "sigma_e: 186.16 km/s\n",
      "theta_E: 0.779 arcsec\n"
     ]
    },
    {
     "name": "stdout",
     "output_type": "stream",
     "text": [
      "sigma_e: 186.38 km/s\n",
      "theta_E: 0.846 arcsec\n"
     ]
    },
    {
     "name": "stdout",
     "output_type": "stream",
     "text": [
      "sigma_e: 190.34 km/s\n"
     ]
    },
    {
     "name": "stdout",
     "output_type": "stream",
     "text": [
      "theta_E: 0.424 arcsec\n"
     ]
    },
    {
     "name": "stdout",
     "output_type": "stream",
     "text": [
      "sigma_e: 138.37 km/s\n",
      "theta_E: 0.428 arcsec\n"
     ]
    },
    {
     "name": "stdout",
     "output_type": "stream",
     "text": [
      "sigma_e: 139.05 km/s\n",
      "theta_E: 0.434 arcsec\n"
     ]
    },
    {
     "name": "stdout",
     "output_type": "stream",
     "text": [
      "sigma_e: 139.89 km/s\n",
      "theta_E: 0.392 arcsec\n"
     ]
    },
    {
     "name": "stdout",
     "output_type": "stream",
     "text": [
      "sigma_e: 131.02 km/s\n",
      "theta_E: 0.508 arcsec\n"
     ]
    },
    {
     "name": "stdout",
     "output_type": "stream",
     "text": [
      "sigma_e: 146.43 km/s\n",
      "theta_E: 0.379 arcsec\n"
     ]
    },
    {
     "name": "stdout",
     "output_type": "stream",
     "text": [
      "sigma_e: 126.53 km/s\n",
      "theta_E: 0.472 arcsec\n"
     ]
    },
    {
     "name": "stdout",
     "output_type": "stream",
     "text": [
      "sigma_e: 144.16 km/s\n",
      "theta_E: 0.506 arcsec\n"
     ]
    },
    {
     "name": "stdout",
     "output_type": "stream",
     "text": [
      "sigma_e: 146.32 km/s\n",
      "theta_E: 0.413 arcsec\n"
     ]
    },
    {
     "name": "stdout",
     "output_type": "stream",
     "text": [
      "sigma_e: 136.25 km/s\n",
      "theta_E: 0.497 arcsec\n"
     ]
    },
    {
     "name": "stdout",
     "output_type": "stream",
     "text": [
      "sigma_e: 145.89 km/s\n"
     ]
    },
    {
     "name": "stdout",
     "output_type": "stream",
     "text": [
      "theta_E: 0.953 arcsec\n"
     ]
    },
    {
     "name": "stdout",
     "output_type": "stream",
     "text": [
      "sigma_e: 198.06 km/s\n",
      "theta_E: 0.914 arcsec\n"
     ]
    },
    {
     "name": "stdout",
     "output_type": "stream",
     "text": [
      "sigma_e: 196.72 km/s\n",
      "theta_E: 0.727 arcsec\n"
     ]
    },
    {
     "name": "stdout",
     "output_type": "stream",
     "text": [
      "sigma_e: 178.01 km/s\n",
      "theta_E: 0.868 arcsec\n"
     ]
    },
    {
     "name": "stdout",
     "output_type": "stream",
     "text": [
      "sigma_e: 194.50 km/s\n",
      "theta_E: 0.931 arcsec\n"
     ]
    },
    {
     "name": "stdout",
     "output_type": "stream",
     "text": [
      "sigma_e: 197.41 km/s\n",
      "theta_E: 0.871 arcsec\n"
     ]
    },
    {
     "name": "stdout",
     "output_type": "stream",
     "text": [
      "sigma_e: 194.65 km/s\n",
      "theta_E: 0.750 arcsec\n"
     ]
    },
    {
     "name": "stdout",
     "output_type": "stream",
     "text": [
      "sigma_e: 182.24 km/s\n",
      "theta_E: 0.812 arcsec\n"
     ]
    },
    {
     "name": "stdout",
     "output_type": "stream",
     "text": [
      "sigma_e: 190.18 km/s\n",
      "theta_E: 0.690 arcsec\n"
     ]
    },
    {
     "name": "stdout",
     "output_type": "stream",
     "text": [
      "sigma_e: 168.93 km/s\n",
      "theta_E: 0.674 arcsec\n"
     ]
    },
    {
     "name": "stdout",
     "output_type": "stream",
     "text": [
      "sigma_e: 163.92 km/s\n"
     ]
    },
    {
     "name": "stdout",
     "output_type": "stream",
     "text": [
      "theta_E: 0.822 arcsec\n"
     ]
    },
    {
     "name": "stdout",
     "output_type": "stream",
     "text": [
      "sigma_e: 192.96 km/s\n",
      "theta_E: 0.834 arcsec\n"
     ]
    },
    {
     "name": "stdout",
     "output_type": "stream",
     "text": [
      "sigma_e: 194.54 km/s\n",
      "theta_E: 0.799 arcsec\n"
     ]
    },
    {
     "name": "stdout",
     "output_type": "stream",
     "text": [
      "sigma_e: 189.68 km/s\n",
      "theta_E: 0.742 arcsec\n"
     ]
    },
    {
     "name": "stdout",
     "output_type": "stream",
     "text": [
      "sigma_e: 178.09 km/s\n",
      "theta_E: 0.870 arcsec\n"
     ]
    },
    {
     "name": "stdout",
     "output_type": "stream",
     "text": [
      "sigma_e: 198.13 km/s\n",
      "theta_E: 0.858 arcsec\n"
     ]
    },
    {
     "name": "stdout",
     "output_type": "stream",
     "text": [
      "sigma_e: 197.00 km/s\n",
      "theta_E: 0.804 arcsec\n"
     ]
    },
    {
     "name": "stdout",
     "output_type": "stream",
     "text": [
      "sigma_e: 190.44 km/s\n",
      "theta_E: 0.817 arcsec\n"
     ]
    },
    {
     "name": "stdout",
     "output_type": "stream",
     "text": [
      "sigma_e: 192.33 km/s\n",
      "theta_E: 0.910 arcsec\n"
     ]
    },
    {
     "name": "stdout",
     "output_type": "stream",
     "text": [
      "sigma_e: 201.16 km/s\n",
      "theta_E: 0.830 arcsec\n"
     ]
    },
    {
     "name": "stdout",
     "output_type": "stream",
     "text": [
      "sigma_e: 194.00 km/s\n"
     ]
    },
    {
     "name": "stdout",
     "output_type": "stream",
     "text": [
      "theta_E: 0.448 arcsec\n"
     ]
    },
    {
     "name": "stdout",
     "output_type": "stream",
     "text": [
      "sigma_e: 137.85 km/s\n",
      "theta_E: 0.545 arcsec\n"
     ]
    },
    {
     "name": "stdout",
     "output_type": "stream",
     "text": [
      "sigma_e: 154.26 km/s\n",
      "theta_E: 0.550 arcsec\n"
     ]
    },
    {
     "name": "stdout",
     "output_type": "stream",
     "text": [
      "sigma_e: 154.63 km/s\n",
      "theta_E: 0.409 arcsec\n"
     ]
    },
    {
     "name": "stdout",
     "output_type": "stream",
     "text": [
      "sigma_e: 120.73 km/s\n",
      "theta_E: 0.423 arcsec\n"
     ]
    },
    {
     "name": "stdout",
     "output_type": "stream",
     "text": [
      "sigma_e: 128.24 km/s\n",
      "theta_E: 0.494 arcsec\n"
     ]
    },
    {
     "name": "stdout",
     "output_type": "stream",
     "text": [
      "sigma_e: 148.36 km/s\n",
      "theta_E: 0.666 arcsec\n"
     ]
    },
    {
     "name": "stdout",
     "output_type": "stream",
     "text": [
      "sigma_e: 159.12 km/s\n",
      "theta_E: 0.529 arcsec\n"
     ]
    },
    {
     "name": "stdout",
     "output_type": "stream",
     "text": [
      "sigma_e: 152.74 km/s\n",
      "theta_E: 0.442 arcsec\n"
     ]
    },
    {
     "name": "stdout",
     "output_type": "stream",
     "text": [
      "sigma_e: 135.72 km/s\n",
      "theta_E: 0.662 arcsec\n"
     ]
    },
    {
     "name": "stdout",
     "output_type": "stream",
     "text": [
      "sigma_e: 159.05 km/s\n"
     ]
    },
    {
     "name": "stdout",
     "output_type": "stream",
     "text": [
      "theta_E: 0.501 arcsec\n"
     ]
    },
    {
     "name": "stdout",
     "output_type": "stream",
     "text": [
      "sigma_e: 150.15 km/s\n",
      "theta_E: 0.478 arcsec\n"
     ]
    },
    {
     "name": "stdout",
     "output_type": "stream",
     "text": [
      "sigma_e: 147.63 km/s\n",
      "theta_E: 0.514 arcsec\n"
     ]
    },
    {
     "name": "stdout",
     "output_type": "stream",
     "text": [
      "sigma_e: 151.15 km/s\n",
      "theta_E: 0.511 arcsec\n"
     ]
    },
    {
     "name": "stdout",
     "output_type": "stream",
     "text": [
      "sigma_e: 150.96 km/s\n",
      "theta_E: 0.415 arcsec\n"
     ]
    },
    {
     "name": "stdout",
     "output_type": "stream",
     "text": [
      "sigma_e: 134.66 km/s\n",
      "theta_E: 0.438 arcsec\n"
     ]
    },
    {
     "name": "stdout",
     "output_type": "stream",
     "text": [
      "sigma_e: 140.91 km/s\n",
      "theta_E: 0.470 arcsec\n"
     ]
    },
    {
     "name": "stdout",
     "output_type": "stream",
     "text": [
      "sigma_e: 146.70 km/s\n",
      "theta_E: 0.445 arcsec\n"
     ]
    },
    {
     "name": "stdout",
     "output_type": "stream",
     "text": [
      "sigma_e: 142.43 km/s\n",
      "theta_E: 0.446 arcsec\n"
     ]
    },
    {
     "name": "stdout",
     "output_type": "stream",
     "text": [
      "sigma_e: 142.64 km/s\n",
      "theta_E: 0.456 arcsec\n"
     ]
    },
    {
     "name": "stdout",
     "output_type": "stream",
     "text": [
      "sigma_e: 144.39 km/s\n"
     ]
    },
    {
     "name": "stdout",
     "output_type": "stream",
     "text": [
      "theta_E: 0.543 arcsec\n"
     ]
    },
    {
     "name": "stdout",
     "output_type": "stream",
     "text": [
      "sigma_e: 148.74 km/s\n",
      "theta_E: 0.641 arcsec\n"
     ]
    },
    {
     "name": "stdout",
     "output_type": "stream",
     "text": [
      "sigma_e: 168.84 km/s\n",
      "theta_E: 0.776 arcsec\n"
     ]
    },
    {
     "name": "stdout",
     "output_type": "stream",
     "text": [
      "sigma_e: 176.72 km/s\n",
      "theta_E: 0.564 arcsec\n"
     ]
    },
    {
     "name": "stdout",
     "output_type": "stream",
     "text": [
      "sigma_e: 155.21 km/s\n",
      "theta_E: 0.626 arcsec\n"
     ]
    },
    {
     "name": "stdout",
     "output_type": "stream",
     "text": [
      "sigma_e: 166.94 km/s\n",
      "theta_E: 0.538 arcsec\n"
     ]
    },
    {
     "name": "stdout",
     "output_type": "stream",
     "text": [
      "sigma_e: 146.90 km/s\n",
      "theta_E: 0.612 arcsec\n"
     ]
    },
    {
     "name": "stdout",
     "output_type": "stream",
     "text": [
      "sigma_e: 164.97 km/s\n",
      "theta_E: 0.622 arcsec\n"
     ]
    },
    {
     "name": "stdout",
     "output_type": "stream",
     "text": [
      "sigma_e: 166.50 km/s\n",
      "theta_E: 0.679 arcsec\n"
     ]
    },
    {
     "name": "stdout",
     "output_type": "stream",
     "text": [
      "sigma_e: 172.29 km/s\n",
      "theta_E: 0.735 arcsec\n"
     ]
    },
    {
     "name": "stdout",
     "output_type": "stream",
     "text": [
      "sigma_e: 175.42 km/s\n"
     ]
    },
    {
     "name": "stdout",
     "output_type": "stream",
     "text": [
      "theta_E: 0.517 arcsec\n"
     ]
    },
    {
     "name": "stdout",
     "output_type": "stream",
     "text": [
      "sigma_e: 152.59 km/s\n",
      "theta_E: 0.517 arcsec\n"
     ]
    },
    {
     "name": "stdout",
     "output_type": "stream",
     "text": [
      "sigma_e: 152.62 km/s\n",
      "theta_E: 0.517 arcsec\n"
     ]
    },
    {
     "name": "stdout",
     "output_type": "stream",
     "text": [
      "sigma_e: 152.63 km/s\n",
      "theta_E: 0.470 arcsec\n"
     ]
    },
    {
     "name": "stdout",
     "output_type": "stream",
     "text": [
      "sigma_e: 146.73 km/s\n",
      "theta_E: 0.531 arcsec\n"
     ]
    },
    {
     "name": "stdout",
     "output_type": "stream",
     "text": [
      "sigma_e: 153.76 km/s\n",
      "theta_E: 0.530 arcsec\n"
     ]
    },
    {
     "name": "stdout",
     "output_type": "stream",
     "text": [
      "sigma_e: 153.67 km/s\n",
      "theta_E: 0.449 arcsec\n"
     ]
    },
    {
     "name": "stdout",
     "output_type": "stream",
     "text": [
      "sigma_e: 142.61 km/s\n",
      "theta_E: 0.522 arcsec\n"
     ]
    },
    {
     "name": "stdout",
     "output_type": "stream",
     "text": [
      "sigma_e: 153.11 km/s\n",
      "theta_E: 0.490 arcsec\n"
     ]
    },
    {
     "name": "stdout",
     "output_type": "stream",
     "text": [
      "sigma_e: 149.70 km/s\n",
      "theta_E: 0.442 arcsec\n"
     ]
    },
    {
     "name": "stdout",
     "output_type": "stream",
     "text": [
      "sigma_e: 140.97 km/s\n"
     ]
    },
    {
     "name": "stdout",
     "output_type": "stream",
     "text": [
      "theta_E: 0.447 arcsec\n"
     ]
    },
    {
     "name": "stdout",
     "output_type": "stream",
     "text": [
      "sigma_e: 137.81 km/s\n",
      "theta_E: 0.453 arcsec\n"
     ]
    },
    {
     "name": "stdout",
     "output_type": "stream",
     "text": [
      "sigma_e: 139.68 km/s\n",
      "theta_E: 0.460 arcsec\n"
     ]
    },
    {
     "name": "stdout",
     "output_type": "stream",
     "text": [
      "sigma_e: 141.77 km/s\n",
      "theta_E: 0.575 arcsec\n"
     ]
    },
    {
     "name": "stdout",
     "output_type": "stream",
     "text": [
      "sigma_e: 157.75 km/s\n",
      "theta_E: 0.488 arcsec\n"
     ]
    },
    {
     "name": "stdout",
     "output_type": "stream",
     "text": [
      "sigma_e: 148.28 km/s\n",
      "theta_E: 0.470 arcsec\n"
     ]
    },
    {
     "name": "stdout",
     "output_type": "stream",
     "text": [
      "sigma_e: 144.47 km/s\n",
      "theta_E: 0.512 arcsec\n"
     ]
    },
    {
     "name": "stdout",
     "output_type": "stream",
     "text": [
      "sigma_e: 152.02 km/s\n",
      "theta_E: 0.577 arcsec\n"
     ]
    },
    {
     "name": "stdout",
     "output_type": "stream",
     "text": [
      "sigma_e: 157.89 km/s\n",
      "theta_E: 0.549 arcsec\n"
     ]
    },
    {
     "name": "stdout",
     "output_type": "stream",
     "text": [
      "sigma_e: 155.94 km/s\n",
      "theta_E: 0.480 arcsec\n"
     ]
    },
    {
     "name": "stdout",
     "output_type": "stream",
     "text": [
      "sigma_e: 146.67 km/s\n"
     ]
    },
    {
     "name": "stdout",
     "output_type": "stream",
     "text": [
      "theta_E: 0.434 arcsec\n"
     ]
    },
    {
     "name": "stdout",
     "output_type": "stream",
     "text": [
      "sigma_e: 132.80 km/s\n",
      "theta_E: 0.423 arcsec\n"
     ]
    },
    {
     "name": "stdout",
     "output_type": "stream",
     "text": [
      "sigma_e: 132.32 km/s\n",
      "theta_E: 0.394 arcsec\n"
     ]
    },
    {
     "name": "stdout",
     "output_type": "stream",
     "text": [
      "sigma_e: 130.69 km/s\n",
      "theta_E: 0.391 arcsec\n"
     ]
    },
    {
     "name": "stdout",
     "output_type": "stream",
     "text": [
      "sigma_e: 130.50 km/s\n",
      "theta_E: 0.344 arcsec\n"
     ]
    },
    {
     "name": "stdout",
     "output_type": "stream",
     "text": [
      "sigma_e: 124.92 km/s\n",
      "theta_E: 0.343 arcsec\n"
     ]
    },
    {
     "name": "stdout",
     "output_type": "stream",
     "text": [
      "sigma_e: 124.84 km/s\n",
      "theta_E: 0.331 arcsec\n"
     ]
    },
    {
     "name": "stdout",
     "output_type": "stream",
     "text": [
      "sigma_e: 122.28 km/s\n",
      "theta_E: 0.386 arcsec\n"
     ]
    },
    {
     "name": "stdout",
     "output_type": "stream",
     "text": [
      "sigma_e: 130.10 km/s\n",
      "theta_E: 0.332 arcsec\n"
     ]
    },
    {
     "name": "stdout",
     "output_type": "stream",
     "text": [
      "sigma_e: 122.58 km/s\n",
      "theta_E: 0.421 arcsec\n"
     ]
    },
    {
     "name": "stdout",
     "output_type": "stream",
     "text": [
      "sigma_e: 132.24 km/s\n"
     ]
    },
    {
     "name": "stdout",
     "output_type": "stream",
     "text": [
      "theta_E: 0.696 arcsec\n"
     ]
    },
    {
     "name": "stdout",
     "output_type": "stream",
     "text": [
      "sigma_e: 169.15 km/s\n",
      "theta_E: 0.603 arcsec\n"
     ]
    },
    {
     "name": "stdout",
     "output_type": "stream",
     "text": [
      "sigma_e: 163.49 km/s\n",
      "theta_E: 0.678 arcsec\n"
     ]
    },
    {
     "name": "stdout",
     "output_type": "stream",
     "text": [
      "sigma_e: 168.53 km/s\n",
      "theta_E: 0.695 arcsec\n"
     ]
    },
    {
     "name": "stdout",
     "output_type": "stream",
     "text": [
      "sigma_e: 169.16 km/s\n",
      "theta_E: 0.674 arcsec\n"
     ]
    },
    {
     "name": "stdout",
     "output_type": "stream",
     "text": [
      "sigma_e: 168.33 km/s\n",
      "theta_E: 0.624 arcsec\n"
     ]
    },
    {
     "name": "stdout",
     "output_type": "stream",
     "text": [
      "sigma_e: 165.33 km/s\n",
      "theta_E: 0.555 arcsec\n"
     ]
    },
    {
     "name": "stdout",
     "output_type": "stream",
     "text": [
      "sigma_e: 157.12 km/s\n",
      "theta_E: 0.693 arcsec\n"
     ]
    },
    {
     "name": "stdout",
     "output_type": "stream",
     "text": [
      "sigma_e: 169.07 km/s\n",
      "theta_E: 0.691 arcsec\n"
     ]
    },
    {
     "name": "stdout",
     "output_type": "stream",
     "text": [
      "sigma_e: 169.00 km/s\n",
      "theta_E: 0.497 arcsec\n"
     ]
    },
    {
     "name": "stdout",
     "output_type": "stream",
     "text": [
      "sigma_e: 141.90 km/s\n"
     ]
    },
    {
     "name": "stdout",
     "output_type": "stream",
     "text": [
      "theta_E: 0.620 arcsec\n"
     ]
    },
    {
     "name": "stdout",
     "output_type": "stream",
     "text": [
      "sigma_e: 164.96 km/s\n",
      "theta_E: 0.620 arcsec\n"
     ]
    },
    {
     "name": "stdout",
     "output_type": "stream",
     "text": [
      "sigma_e: 164.98 km/s\n",
      "theta_E: 0.618 arcsec\n"
     ]
    },
    {
     "name": "stdout",
     "output_type": "stream",
     "text": [
      "sigma_e: 164.83 km/s\n",
      "theta_E: 0.550 arcsec\n"
     ]
    },
    {
     "name": "stdout",
     "output_type": "stream",
     "text": [
      "sigma_e: 158.18 km/s\n",
      "theta_E: 0.624 arcsec\n"
     ]
    },
    {
     "name": "stdout",
     "output_type": "stream",
     "text": [
      "sigma_e: 165.22 km/s\n",
      "theta_E: 0.568 arcsec\n"
     ]
    },
    {
     "name": "stdout",
     "output_type": "stream",
     "text": [
      "sigma_e: 160.50 km/s\n",
      "theta_E: 0.527 arcsec\n"
     ]
    },
    {
     "name": "stdout",
     "output_type": "stream",
     "text": [
      "sigma_e: 154.36 km/s\n",
      "theta_E: 0.595 arcsec\n"
     ]
    },
    {
     "name": "stdout",
     "output_type": "stream",
     "text": [
      "sigma_e: 163.13 km/s\n",
      "theta_E: 0.552 arcsec\n"
     ]
    },
    {
     "name": "stdout",
     "output_type": "stream",
     "text": [
      "sigma_e: 158.45 km/s\n",
      "theta_E: 0.493 arcsec\n"
     ]
    },
    {
     "name": "stdout",
     "output_type": "stream",
     "text": [
      "sigma_e: 146.01 km/s\n"
     ]
    },
    {
     "name": "stdout",
     "output_type": "stream",
     "text": [
      "theta_E: 0.419 arcsec\n"
     ]
    },
    {
     "name": "stdout",
     "output_type": "stream",
     "text": [
      "sigma_e: 138.93 km/s\n",
      "theta_E: 0.442 arcsec\n"
     ]
    },
    {
     "name": "stdout",
     "output_type": "stream",
     "text": [
      "sigma_e: 141.98 km/s\n",
      "theta_E: 0.415 arcsec\n"
     ]
    },
    {
     "name": "stdout",
     "output_type": "stream",
     "text": [
      "sigma_e: 138.22 km/s\n",
      "theta_E: 0.439 arcsec\n"
     ]
    },
    {
     "name": "stdout",
     "output_type": "stream",
     "text": [
      "sigma_e: 141.69 km/s\n",
      "theta_E: 0.384 arcsec\n"
     ]
    },
    {
     "name": "stdout",
     "output_type": "stream",
     "text": [
      "sigma_e: 131.09 km/s\n",
      "theta_E: 0.452 arcsec\n"
     ]
    },
    {
     "name": "stdout",
     "output_type": "stream",
     "text": [
      "sigma_e: 143.09 km/s\n",
      "theta_E: 0.407 arcsec\n"
     ]
    },
    {
     "name": "stdout",
     "output_type": "stream",
     "text": [
      "sigma_e: 136.79 km/s\n",
      "theta_E: 0.451 arcsec\n"
     ]
    },
    {
     "name": "stdout",
     "output_type": "stream",
     "text": [
      "sigma_e: 143.03 km/s\n",
      "theta_E: 0.445 arcsec\n"
     ]
    },
    {
     "name": "stdout",
     "output_type": "stream",
     "text": [
      "sigma_e: 142.31 km/s\n",
      "theta_E: 0.396 arcsec\n"
     ]
    },
    {
     "name": "stdout",
     "output_type": "stream",
     "text": [
      "sigma_e: 134.35 km/s\n"
     ]
    },
    {
     "name": "stdout",
     "output_type": "stream",
     "text": [
      "theta_E: 0.404 arcsec\n"
     ]
    },
    {
     "name": "stdout",
     "output_type": "stream",
     "text": [
      "sigma_e: 127.52 km/s\n",
      "theta_E: 0.269 arcsec\n"
     ]
    },
    {
     "name": "stdout",
     "output_type": "stream",
     "text": [
      "sigma_e: 102.81 km/s\n",
      "theta_E: 0.392 arcsec\n"
     ]
    },
    {
     "name": "stdout",
     "output_type": "stream",
     "text": [
      "sigma_e: 127.00 km/s\n",
      "theta_E: 0.332 arcsec\n"
     ]
    },
    {
     "name": "stdout",
     "output_type": "stream",
     "text": [
      "sigma_e: 121.79 km/s\n",
      "theta_E: 0.327 arcsec\n"
     ]
    },
    {
     "name": "stdout",
     "output_type": "stream",
     "text": [
      "sigma_e: 121.14 km/s\n",
      "theta_E: 0.319 arcsec\n"
     ]
    },
    {
     "name": "stdout",
     "output_type": "stream",
     "text": [
      "sigma_e: 119.77 km/s\n",
      "theta_E: 0.350 arcsec\n"
     ]
    },
    {
     "name": "stdout",
     "output_type": "stream",
     "text": [
      "sigma_e: 124.06 km/s\n",
      "theta_E: 0.319 arcsec\n"
     ]
    },
    {
     "name": "stdout",
     "output_type": "stream",
     "text": [
      "sigma_e: 119.73 km/s\n",
      "theta_E: 0.393 arcsec\n"
     ]
    },
    {
     "name": "stdout",
     "output_type": "stream",
     "text": [
      "sigma_e: 127.05 km/s\n",
      "theta_E: 0.373 arcsec\n"
     ]
    },
    {
     "name": "stdout",
     "output_type": "stream",
     "text": [
      "sigma_e: 125.90 km/s\n"
     ]
    },
    {
     "name": "stdout",
     "output_type": "stream",
     "text": [
      "theta_E: 0.519 arcsec\n"
     ]
    },
    {
     "name": "stdout",
     "output_type": "stream",
     "text": [
      "sigma_e: 138.90 km/s\n",
      "theta_E: 0.782 arcsec\n"
     ]
    },
    {
     "name": "stdout",
     "output_type": "stream",
     "text": [
      "sigma_e: 176.95 km/s\n",
      "theta_E: 0.803 arcsec\n"
     ]
    },
    {
     "name": "stdout",
     "output_type": "stream",
     "text": [
      "sigma_e: 177.38 km/s\n",
      "theta_E: 0.793 arcsec\n"
     ]
    },
    {
     "name": "stdout",
     "output_type": "stream",
     "text": [
      "sigma_e: 177.22 km/s\n",
      "theta_E: 0.720 arcsec\n"
     ]
    },
    {
     "name": "stdout",
     "output_type": "stream",
     "text": [
      "sigma_e: 174.76 km/s\n",
      "theta_E: 0.779 arcsec\n"
     ]
    },
    {
     "name": "stdout",
     "output_type": "stream",
     "text": [
      "sigma_e: 176.87 km/s\n",
      "theta_E: 0.574 arcsec\n"
     ]
    },
    {
     "name": "stdout",
     "output_type": "stream",
     "text": [
      "sigma_e: 157.68 km/s\n",
      "theta_E: 0.684 arcsec\n"
     ]
    },
    {
     "name": "stdout",
     "output_type": "stream",
     "text": [
      "sigma_e: 172.65 km/s\n",
      "theta_E: 0.518 arcsec\n"
     ]
    },
    {
     "name": "stdout",
     "output_type": "stream",
     "text": [
      "sigma_e: 138.23 km/s\n",
      "theta_E: 0.553 arcsec\n"
     ]
    },
    {
     "name": "stdout",
     "output_type": "stream",
     "text": [
      "sigma_e: 152.15 km/s\n"
     ]
    },
    {
     "name": "stdout",
     "output_type": "stream",
     "text": [
      "theta_E: 0.576 arcsec\n"
     ]
    },
    {
     "name": "stdout",
     "output_type": "stream",
     "text": [
      "sigma_e: 160.40 km/s\n",
      "theta_E: 0.545 arcsec\n"
     ]
    },
    {
     "name": "stdout",
     "output_type": "stream",
     "text": [
      "sigma_e: 156.66 km/s\n",
      "theta_E: 0.491 arcsec\n"
     ]
    },
    {
     "name": "stdout",
     "output_type": "stream",
     "text": [
      "sigma_e: 145.77 km/s\n",
      "theta_E: 0.491 arcsec\n"
     ]
    },
    {
     "name": "stdout",
     "output_type": "stream",
     "text": [
      "sigma_e: 145.62 km/s\n",
      "theta_E: 0.643 arcsec\n"
     ]
    },
    {
     "name": "stdout",
     "output_type": "stream",
     "text": [
      "sigma_e: 164.82 km/s\n",
      "theta_E: 0.643 arcsec\n"
     ]
    },
    {
     "name": "stdout",
     "output_type": "stream",
     "text": [
      "sigma_e: 164.85 km/s\n",
      "theta_E: 0.472 arcsec\n"
     ]
    },
    {
     "name": "stdout",
     "output_type": "stream",
     "text": [
      "sigma_e: 139.32 km/s\n",
      "theta_E: 0.523 arcsec\n"
     ]
    },
    {
     "name": "stdout",
     "output_type": "stream",
     "text": [
      "sigma_e: 153.15 km/s\n",
      "theta_E: 0.494 arcsec\n"
     ]
    },
    {
     "name": "stdout",
     "output_type": "stream",
     "text": [
      "sigma_e: 146.39 km/s\n",
      "theta_E: 0.641 arcsec\n"
     ]
    },
    {
     "name": "stdout",
     "output_type": "stream",
     "text": [
      "sigma_e: 164.74 km/s\n"
     ]
    },
    {
     "name": "stdout",
     "output_type": "stream",
     "text": [
      "theta_E: 0.427 arcsec\n"
     ]
    },
    {
     "name": "stdout",
     "output_type": "stream",
     "text": [
      "sigma_e: 138.22 km/s\n",
      "theta_E: 0.512 arcsec\n"
     ]
    },
    {
     "name": "stdout",
     "output_type": "stream",
     "text": [
      "sigma_e: 149.84 km/s\n",
      "theta_E: 0.427 arcsec\n"
     ]
    },
    {
     "name": "stdout",
     "output_type": "stream",
     "text": [
      "sigma_e: 137.99 km/s\n",
      "theta_E: 0.524 arcsec\n"
     ]
    },
    {
     "name": "stdout",
     "output_type": "stream",
     "text": [
      "sigma_e: 150.64 km/s\n",
      "theta_E: 0.414 arcsec\n"
     ]
    },
    {
     "name": "stdout",
     "output_type": "stream",
     "text": [
      "sigma_e: 134.48 km/s\n",
      "theta_E: 0.502 arcsec\n"
     ]
    },
    {
     "name": "stdout",
     "output_type": "stream",
     "text": [
      "sigma_e: 149.08 km/s\n",
      "theta_E: 0.476 arcsec\n"
     ]
    },
    {
     "name": "stdout",
     "output_type": "stream",
     "text": [
      "sigma_e: 146.60 km/s\n",
      "theta_E: 0.412 arcsec\n"
     ]
    },
    {
     "name": "stdout",
     "output_type": "stream",
     "text": [
      "sigma_e: 133.78 km/s\n",
      "theta_E: 0.444 arcsec\n"
     ]
    },
    {
     "name": "stdout",
     "output_type": "stream",
     "text": [
      "sigma_e: 141.70 km/s\n",
      "theta_E: 0.471 arcsec\n"
     ]
    },
    {
     "name": "stdout",
     "output_type": "stream",
     "text": [
      "sigma_e: 145.97 km/s\n"
     ]
    },
    {
     "name": "stdout",
     "output_type": "stream",
     "text": [
      "theta_E: 0.590 arcsec\n"
     ]
    },
    {
     "name": "stdout",
     "output_type": "stream",
     "text": [
      "sigma_e: 157.50 km/s\n",
      "theta_E: 0.548 arcsec\n"
     ]
    },
    {
     "name": "stdout",
     "output_type": "stream",
     "text": [
      "sigma_e: 155.06 km/s\n",
      "theta_E: 0.446 arcsec\n"
     ]
    },
    {
     "name": "stdout",
     "output_type": "stream",
     "text": [
      "sigma_e: 138.53 km/s\n",
      "theta_E: 0.578 arcsec\n"
     ]
    },
    {
     "name": "stdout",
     "output_type": "stream",
     "text": [
      "sigma_e: 156.93 km/s\n",
      "theta_E: 0.488 arcsec\n"
     ]
    },
    {
     "name": "stdout",
     "output_type": "stream",
     "text": [
      "sigma_e: 148.22 km/s\n",
      "theta_E: 0.595 arcsec\n"
     ]
    },
    {
     "name": "stdout",
     "output_type": "stream",
     "text": [
      "sigma_e: 157.73 km/s\n",
      "theta_E: 0.450 arcsec\n"
     ]
    },
    {
     "name": "stdout",
     "output_type": "stream",
     "text": [
      "sigma_e: 139.57 km/s\n",
      "theta_E: 0.469 arcsec\n"
     ]
    },
    {
     "name": "stdout",
     "output_type": "stream",
     "text": [
      "sigma_e: 144.48 km/s\n",
      "theta_E: 0.580 arcsec\n"
     ]
    },
    {
     "name": "stdout",
     "output_type": "stream",
     "text": [
      "sigma_e: 157.03 km/s\n",
      "theta_E: 0.577 arcsec\n"
     ]
    },
    {
     "name": "stdout",
     "output_type": "stream",
     "text": [
      "sigma_e: 156.88 km/s\n"
     ]
    },
    {
     "name": "stdout",
     "output_type": "stream",
     "text": [
      "theta_E: 0.501 arcsec\n"
     ]
    },
    {
     "name": "stdout",
     "output_type": "stream",
     "text": [
      "sigma_e: 144.69 km/s\n",
      "theta_E: 0.448 arcsec\n"
     ]
    },
    {
     "name": "stdout",
     "output_type": "stream",
     "text": [
      "sigma_e: 141.11 km/s\n",
      "theta_E: 0.489 arcsec\n"
     ]
    },
    {
     "name": "stdout",
     "output_type": "stream",
     "text": [
      "sigma_e: 144.13 km/s\n",
      "theta_E: 0.400 arcsec\n"
     ]
    },
    {
     "name": "stdout",
     "output_type": "stream",
     "text": [
      "sigma_e: 133.94 km/s\n",
      "theta_E: 0.401 arcsec\n"
     ]
    },
    {
     "name": "stdout",
     "output_type": "stream",
     "text": [
      "sigma_e: 134.06 km/s\n",
      "theta_E: 0.445 arcsec\n"
     ]
    },
    {
     "name": "stdout",
     "output_type": "stream",
     "text": [
      "sigma_e: 140.87 km/s\n",
      "theta_E: 0.472 arcsec\n"
     ]
    },
    {
     "name": "stdout",
     "output_type": "stream",
     "text": [
      "sigma_e: 143.08 km/s\n",
      "theta_E: 0.428 arcsec\n"
     ]
    },
    {
     "name": "stdout",
     "output_type": "stream",
     "text": [
      "sigma_e: 138.76 km/s\n",
      "theta_E: 0.502 arcsec\n"
     ]
    },
    {
     "name": "stdout",
     "output_type": "stream",
     "text": [
      "sigma_e: 144.76 km/s\n",
      "theta_E: 0.393 arcsec\n"
     ]
    },
    {
     "name": "stdout",
     "output_type": "stream",
     "text": [
      "sigma_e: 132.35 km/s\n"
     ]
    },
    {
     "name": "stdout",
     "output_type": "stream",
     "text": [
      "theta_E: 0.639 arcsec\n"
     ]
    },
    {
     "name": "stdout",
     "output_type": "stream",
     "text": [
      "sigma_e: 163.30 km/s\n",
      "theta_E: 0.492 arcsec\n"
     ]
    },
    {
     "name": "stdout",
     "output_type": "stream",
     "text": [
      "sigma_e: 145.96 km/s\n",
      "theta_E: 0.596 arcsec\n"
     ]
    },
    {
     "name": "stdout",
     "output_type": "stream",
     "text": [
      "sigma_e: 160.95 km/s\n",
      "theta_E: 0.628 arcsec\n"
     ]
    },
    {
     "name": "stdout",
     "output_type": "stream",
     "text": [
      "sigma_e: 162.82 km/s\n",
      "theta_E: 0.534 arcsec\n"
     ]
    },
    {
     "name": "stdout",
     "output_type": "stream",
     "text": [
      "sigma_e: 154.52 km/s\n",
      "theta_E: 0.617 arcsec\n"
     ]
    },
    {
     "name": "stdout",
     "output_type": "stream",
     "text": [
      "sigma_e: 162.27 km/s\n",
      "theta_E: 0.532 arcsec\n"
     ]
    },
    {
     "name": "stdout",
     "output_type": "stream",
     "text": [
      "sigma_e: 154.19 km/s\n",
      "theta_E: 0.528 arcsec\n"
     ]
    },
    {
     "name": "stdout",
     "output_type": "stream",
     "text": [
      "sigma_e: 153.54 km/s\n",
      "theta_E: 0.466 arcsec\n"
     ]
    },
    {
     "name": "stdout",
     "output_type": "stream",
     "text": [
      "sigma_e: 137.54 km/s\n",
      "theta_E: 0.635 arcsec\n"
     ]
    },
    {
     "name": "stdout",
     "output_type": "stream",
     "text": [
      "sigma_e: 163.12 km/s\n"
     ]
    },
    {
     "name": "stdout",
     "output_type": "stream",
     "text": [
      "theta_E: 0.497 arcsec\n"
     ]
    },
    {
     "name": "stdout",
     "output_type": "stream",
     "text": [
      "sigma_e: 140.57 km/s\n",
      "theta_E: 0.647 arcsec\n"
     ]
    },
    {
     "name": "stdout",
     "output_type": "stream",
     "text": [
      "sigma_e: 167.47 km/s\n",
      "theta_E: 0.564 arcsec\n"
     ]
    },
    {
     "name": "stdout",
     "output_type": "stream",
     "text": [
      "sigma_e: 158.45 km/s\n",
      "theta_E: 0.610 arcsec\n"
     ]
    },
    {
     "name": "stdout",
     "output_type": "stream",
     "text": [
      "sigma_e: 164.53 km/s\n",
      "theta_E: 0.706 arcsec\n"
     ]
    },
    {
     "name": "stdout",
     "output_type": "stream",
     "text": [
      "sigma_e: 170.28 km/s\n",
      "theta_E: 0.625 arcsec\n"
     ]
    },
    {
     "name": "stdout",
     "output_type": "stream",
     "text": [
      "sigma_e: 165.89 km/s\n",
      "theta_E: 0.722 arcsec\n"
     ]
    },
    {
     "name": "stdout",
     "output_type": "stream",
     "text": [
      "sigma_e: 170.75 km/s\n",
      "theta_E: 0.536 arcsec\n"
     ]
    },
    {
     "name": "stdout",
     "output_type": "stream",
     "text": [
      "sigma_e: 152.89 km/s\n",
      "theta_E: 0.680 arcsec\n"
     ]
    },
    {
     "name": "stdout",
     "output_type": "stream",
     "text": [
      "sigma_e: 169.26 km/s\n",
      "theta_E: 0.618 arcsec\n"
     ]
    },
    {
     "name": "stdout",
     "output_type": "stream",
     "text": [
      "sigma_e: 165.27 km/s\n"
     ]
    },
    {
     "name": "stdout",
     "output_type": "stream",
     "text": [
      "theta_E: 0.396 arcsec\n"
     ]
    },
    {
     "name": "stdout",
     "output_type": "stream",
     "text": [
      "sigma_e: 134.34 km/s\n",
      "theta_E: 0.406 arcsec\n"
     ]
    },
    {
     "name": "stdout",
     "output_type": "stream",
     "text": [
      "sigma_e: 135.85 km/s\n",
      "theta_E: 0.454 arcsec\n"
     ]
    },
    {
     "name": "stdout",
     "output_type": "stream",
     "text": [
      "sigma_e: 140.46 km/s\n",
      "theta_E: 0.452 arcsec\n"
     ]
    },
    {
     "name": "stdout",
     "output_type": "stream",
     "text": [
      "sigma_e: 140.29 km/s\n",
      "theta_E: 0.453 arcsec\n"
     ]
    },
    {
     "name": "stdout",
     "output_type": "stream",
     "text": [
      "sigma_e: 140.41 km/s\n",
      "theta_E: 0.375 arcsec\n"
     ]
    },
    {
     "name": "stdout",
     "output_type": "stream",
     "text": [
      "sigma_e: 130.30 km/s\n",
      "theta_E: 0.352 arcsec\n"
     ]
    },
    {
     "name": "stdout",
     "output_type": "stream",
     "text": [
      "sigma_e: 123.56 km/s\n",
      "theta_E: 0.352 arcsec\n"
     ]
    },
    {
     "name": "stdout",
     "output_type": "stream",
     "text": [
      "sigma_e: 123.70 km/s\n",
      "theta_E: 0.444 arcsec\n"
     ]
    },
    {
     "name": "stdout",
     "output_type": "stream",
     "text": [
      "sigma_e: 139.78 km/s\n",
      "theta_E: 0.353 arcsec\n"
     ]
    },
    {
     "name": "stdout",
     "output_type": "stream",
     "text": [
      "sigma_e: 124.06 km/s\n"
     ]
    },
    {
     "name": "stdout",
     "output_type": "stream",
     "text": [
      "theta_E: 0.510 arcsec\n"
     ]
    },
    {
     "name": "stdout",
     "output_type": "stream",
     "text": [
      "sigma_e: 146.95 km/s\n",
      "theta_E: 0.501 arcsec\n"
     ]
    },
    {
     "name": "stdout",
     "output_type": "stream",
     "text": [
      "sigma_e: 146.43 km/s\n",
      "theta_E: 0.411 arcsec\n"
     ]
    },
    {
     "name": "stdout",
     "output_type": "stream",
     "text": [
      "sigma_e: 135.21 km/s\n",
      "theta_E: 0.368 arcsec\n"
     ]
    },
    {
     "name": "stdout",
     "output_type": "stream",
     "text": [
      "sigma_e: 120.67 km/s\n",
      "theta_E: 0.479 arcsec\n"
     ]
    },
    {
     "name": "stdout",
     "output_type": "stream",
     "text": [
      "sigma_e: 144.96 km/s\n",
      "theta_E: 0.396 arcsec\n"
     ]
    },
    {
     "name": "stdout",
     "output_type": "stream",
     "text": [
      "sigma_e: 131.54 km/s\n",
      "theta_E: 0.474 arcsec\n"
     ]
    },
    {
     "name": "stdout",
     "output_type": "stream",
     "text": [
      "sigma_e: 144.55 km/s\n",
      "theta_E: 0.528 arcsec\n"
     ]
    },
    {
     "name": "stdout",
     "output_type": "stream",
     "text": [
      "sigma_e: 147.74 km/s\n",
      "theta_E: 0.421 arcsec\n"
     ]
    },
    {
     "name": "stdout",
     "output_type": "stream",
     "text": [
      "sigma_e: 137.45 km/s\n",
      "theta_E: 0.410 arcsec\n"
     ]
    },
    {
     "name": "stdout",
     "output_type": "stream",
     "text": [
      "sigma_e: 134.98 km/s\n"
     ]
    },
    {
     "name": "stdout",
     "output_type": "stream",
     "text": [
      "theta_E: 0.407 arcsec\n"
     ]
    },
    {
     "name": "stdout",
     "output_type": "stream",
     "text": [
      "sigma_e: 136.97 km/s\n",
      "theta_E: 0.394 arcsec\n"
     ]
    },
    {
     "name": "stdout",
     "output_type": "stream",
     "text": [
      "sigma_e: 135.20 km/s\n",
      "theta_E: 0.365 arcsec\n"
     ]
    },
    {
     "name": "stdout",
     "output_type": "stream",
     "text": [
      "sigma_e: 128.95 km/s\n",
      "theta_E: 0.382 arcsec\n"
     ]
    },
    {
     "name": "stdout",
     "output_type": "stream",
     "text": [
      "sigma_e: 133.02 km/s\n",
      "theta_E: 0.387 arcsec\n"
     ]
    },
    {
     "name": "stdout",
     "output_type": "stream",
     "text": [
      "sigma_e: 133.98 km/s\n",
      "theta_E: 0.390 arcsec\n"
     ]
    },
    {
     "name": "stdout",
     "output_type": "stream",
     "text": [
      "sigma_e: 134.49 km/s\n",
      "theta_E: 0.374 arcsec\n"
     ]
    },
    {
     "name": "stdout",
     "output_type": "stream",
     "text": [
      "sigma_e: 131.29 km/s\n",
      "theta_E: 0.376 arcsec\n"
     ]
    },
    {
     "name": "stdout",
     "output_type": "stream",
     "text": [
      "sigma_e: 131.70 km/s\n",
      "theta_E: 0.385 arcsec\n"
     ]
    },
    {
     "name": "stdout",
     "output_type": "stream",
     "text": [
      "sigma_e: 133.57 km/s\n",
      "theta_E: 0.412 arcsec\n"
     ]
    },
    {
     "name": "stdout",
     "output_type": "stream",
     "text": [
      "sigma_e: 137.59 km/s\n"
     ]
    },
    {
     "name": "stdout",
     "output_type": "stream",
     "text": [
      "theta_E: 0.306 arcsec\n"
     ]
    },
    {
     "name": "stdout",
     "output_type": "stream",
     "text": [
      "sigma_e: 116.36 km/s\n",
      "theta_E: 0.320 arcsec\n"
     ]
    },
    {
     "name": "stdout",
     "output_type": "stream",
     "text": [
      "sigma_e: 119.60 km/s\n",
      "theta_E: 0.422 arcsec\n"
     ]
    },
    {
     "name": "stdout",
     "output_type": "stream",
     "text": [
      "sigma_e: 128.04 km/s\n",
      "theta_E: 0.284 arcsec\n"
     ]
    },
    {
     "name": "stdout",
     "output_type": "stream",
     "text": [
      "sigma_e: 108.56 km/s\n",
      "theta_E: 0.426 arcsec\n"
     ]
    },
    {
     "name": "stdout",
     "output_type": "stream",
     "text": [
      "sigma_e: 128.12 km/s\n",
      "theta_E: 0.385 arcsec\n"
     ]
    },
    {
     "name": "stdout",
     "output_type": "stream",
     "text": [
      "sigma_e: 126.71 km/s\n",
      "theta_E: 0.392 arcsec\n"
     ]
    },
    {
     "name": "stdout",
     "output_type": "stream",
     "text": [
      "sigma_e: 127.04 km/s\n",
      "theta_E: 0.322 arcsec\n"
     ]
    },
    {
     "name": "stdout",
     "output_type": "stream",
     "text": [
      "sigma_e: 120.02 km/s\n",
      "theta_E: 0.316 arcsec\n"
     ]
    },
    {
     "name": "stdout",
     "output_type": "stream",
     "text": [
      "sigma_e: 118.70 km/s\n",
      "theta_E: 0.391 arcsec\n"
     ]
    },
    {
     "name": "stdout",
     "output_type": "stream",
     "text": [
      "sigma_e: 127.03 km/s\n"
     ]
    },
    {
     "name": "stdout",
     "output_type": "stream",
     "text": [
      "theta_E: 0.442 arcsec\n"
     ]
    },
    {
     "name": "stdout",
     "output_type": "stream",
     "text": [
      "sigma_e: 139.94 km/s\n",
      "theta_E: 0.364 arcsec\n"
     ]
    },
    {
     "name": "stdout",
     "output_type": "stream",
     "text": [
      "sigma_e: 125.30 km/s\n",
      "theta_E: 0.364 arcsec\n"
     ]
    },
    {
     "name": "stdout",
     "output_type": "stream",
     "text": [
      "sigma_e: 125.22 km/s\n",
      "theta_E: 0.466 arcsec\n"
     ]
    },
    {
     "name": "stdout",
     "output_type": "stream",
     "text": [
      "sigma_e: 141.86 km/s\n",
      "theta_E: 0.473 arcsec\n"
     ]
    },
    {
     "name": "stdout",
     "output_type": "stream",
     "text": [
      "sigma_e: 142.26 km/s\n",
      "theta_E: 0.489 arcsec\n"
     ]
    },
    {
     "name": "stdout",
     "output_type": "stream",
     "text": [
      "sigma_e: 143.05 km/s\n",
      "theta_E: 0.372 arcsec\n"
     ]
    },
    {
     "name": "stdout",
     "output_type": "stream",
     "text": [
      "sigma_e: 127.62 km/s\n",
      "theta_E: 0.481 arcsec\n"
     ]
    },
    {
     "name": "stdout",
     "output_type": "stream",
     "text": [
      "sigma_e: 142.67 km/s\n",
      "theta_E: 0.449 arcsec\n"
     ]
    },
    {
     "name": "stdout",
     "output_type": "stream",
     "text": [
      "sigma_e: 140.58 km/s\n",
      "theta_E: 0.470 arcsec\n"
     ]
    },
    {
     "name": "stdout",
     "output_type": "stream",
     "text": [
      "sigma_e: 142.09 km/s\n"
     ]
    },
    {
     "name": "stdout",
     "output_type": "stream",
     "text": [
      "theta_E: 0.391 arcsec\n"
     ]
    },
    {
     "name": "stdout",
     "output_type": "stream",
     "text": [
      "sigma_e: 131.87 km/s\n",
      "theta_E: 0.459 arcsec\n"
     ]
    },
    {
     "name": "stdout",
     "output_type": "stream",
     "text": [
      "sigma_e: 136.43 km/s\n",
      "theta_E: 0.464 arcsec\n"
     ]
    },
    {
     "name": "stdout",
     "output_type": "stream",
     "text": [
      "sigma_e: 136.59 km/s\n",
      "theta_E: 0.445 arcsec\n"
     ]
    },
    {
     "name": "stdout",
     "output_type": "stream",
     "text": [
      "sigma_e: 135.90 km/s\n",
      "theta_E: 0.315 arcsec\n"
     ]
    },
    {
     "name": "stdout",
     "output_type": "stream",
     "text": [
      "sigma_e: 111.76 km/s\n",
      "theta_E: 0.408 arcsec\n"
     ]
    },
    {
     "name": "stdout",
     "output_type": "stream",
     "text": [
      "sigma_e: 133.57 km/s\n",
      "theta_E: 0.311 arcsec\n"
     ]
    },
    {
     "name": "stdout",
     "output_type": "stream",
     "text": [
      "sigma_e: 109.69 km/s\n",
      "theta_E: 0.425 arcsec\n"
     ]
    },
    {
     "name": "stdout",
     "output_type": "stream",
     "text": [
      "sigma_e: 134.79 km/s\n",
      "theta_E: 0.350 arcsec\n"
     ]
    },
    {
     "name": "stdout",
     "output_type": "stream",
     "text": [
      "sigma_e: 124.75 km/s\n",
      "theta_E: 0.339 arcsec\n"
     ]
    },
    {
     "name": "stdout",
     "output_type": "stream",
     "text": [
      "sigma_e: 121.74 km/s\n"
     ]
    },
    {
     "name": "stdout",
     "output_type": "stream",
     "text": [
      "theta_E: 0.480 arcsec\n"
     ]
    },
    {
     "name": "stdout",
     "output_type": "stream",
     "text": [
      "sigma_e: 142.88 km/s\n",
      "theta_E: 0.460 arcsec\n"
     ]
    },
    {
     "name": "stdout",
     "output_type": "stream",
     "text": [
      "sigma_e: 141.47 km/s\n",
      "theta_E: 0.456 arcsec\n"
     ]
    },
    {
     "name": "stdout",
     "output_type": "stream",
     "text": [
      "sigma_e: 141.03 km/s\n",
      "theta_E: 0.422 arcsec\n"
     ]
    },
    {
     "name": "stdout",
     "output_type": "stream",
     "text": [
      "sigma_e: 137.15 km/s\n",
      "theta_E: 0.400 arcsec\n"
     ]
    },
    {
     "name": "stdout",
     "output_type": "stream",
     "text": [
      "sigma_e: 133.26 km/s\n",
      "theta_E: 0.463 arcsec\n"
     ]
    },
    {
     "name": "stdout",
     "output_type": "stream",
     "text": [
      "sigma_e: 141.71 km/s\n",
      "theta_E: 0.361 arcsec\n"
     ]
    },
    {
     "name": "stdout",
     "output_type": "stream",
     "text": [
      "sigma_e: 120.93 km/s\n",
      "theta_E: 0.490 arcsec\n"
     ]
    },
    {
     "name": "stdout",
     "output_type": "stream",
     "text": [
      "sigma_e: 143.37 km/s\n",
      "theta_E: 0.452 arcsec\n"
     ]
    },
    {
     "name": "stdout",
     "output_type": "stream",
     "text": [
      "sigma_e: 140.68 km/s\n",
      "theta_E: 0.471 arcsec\n"
     ]
    },
    {
     "name": "stdout",
     "output_type": "stream",
     "text": [
      "sigma_e: 142.31 km/s\n"
     ]
    },
    {
     "name": "stdout",
     "output_type": "stream",
     "text": [
      "theta_E: 0.404 arcsec\n"
     ]
    },
    {
     "name": "stdout",
     "output_type": "stream",
     "text": [
      "sigma_e: 134.21 km/s\n",
      "theta_E: 0.417 arcsec\n"
     ]
    },
    {
     "name": "stdout",
     "output_type": "stream",
     "text": [
      "sigma_e: 136.80 km/s\n",
      "theta_E: 0.524 arcsec\n"
     ]
    },
    {
     "name": "stdout",
     "output_type": "stream",
     "text": [
      "sigma_e: 145.83 km/s\n",
      "theta_E: 0.441 arcsec\n"
     ]
    },
    {
     "name": "stdout",
     "output_type": "stream",
     "text": [
      "sigma_e: 140.32 km/s\n",
      "theta_E: 0.524 arcsec\n"
     ]
    },
    {
     "name": "stdout",
     "output_type": "stream",
     "text": [
      "sigma_e: 145.84 km/s\n",
      "theta_E: 0.421 arcsec\n"
     ]
    },
    {
     "name": "stdout",
     "output_type": "stream",
     "text": [
      "sigma_e: 137.45 km/s\n",
      "theta_E: 0.456 arcsec\n"
     ]
    },
    {
     "name": "stdout",
     "output_type": "stream",
     "text": [
      "sigma_e: 141.90 km/s\n",
      "theta_E: 0.443 arcsec\n"
     ]
    },
    {
     "name": "stdout",
     "output_type": "stream",
     "text": [
      "sigma_e: 140.56 km/s\n",
      "theta_E: 0.476 arcsec\n"
     ]
    },
    {
     "name": "stdout",
     "output_type": "stream",
     "text": [
      "sigma_e: 143.48 km/s\n",
      "theta_E: 0.401 arcsec\n"
     ]
    },
    {
     "name": "stdout",
     "output_type": "stream",
     "text": [
      "sigma_e: 133.63 km/s\n"
     ]
    },
    {
     "name": "stdout",
     "output_type": "stream",
     "text": [
      "theta_E: 0.515 arcsec\n"
     ]
    },
    {
     "name": "stdout",
     "output_type": "stream",
     "text": [
      "sigma_e: 150.89 km/s\n",
      "theta_E: 0.598 arcsec\n"
     ]
    },
    {
     "name": "stdout",
     "output_type": "stream",
     "text": [
      "sigma_e: 155.69 km/s\n",
      "theta_E: 0.532 arcsec\n"
     ]
    },
    {
     "name": "stdout",
     "output_type": "stream",
     "text": [
      "sigma_e: 152.32 km/s\n",
      "theta_E: 0.447 arcsec\n"
     ]
    },
    {
     "name": "stdout",
     "output_type": "stream",
     "text": [
      "sigma_e: 139.79 km/s\n",
      "theta_E: 0.450 arcsec\n"
     ]
    },
    {
     "name": "stdout",
     "output_type": "stream",
     "text": [
      "sigma_e: 140.54 km/s\n",
      "theta_E: 0.413 arcsec\n"
     ]
    },
    {
     "name": "stdout",
     "output_type": "stream",
     "text": [
      "sigma_e: 128.32 km/s\n",
      "theta_E: 0.480 arcsec\n"
     ]
    },
    {
     "name": "stdout",
     "output_type": "stream",
     "text": [
      "sigma_e: 146.48 km/s\n",
      "theta_E: 0.510 arcsec\n"
     ]
    },
    {
     "name": "stdout",
     "output_type": "stream",
     "text": [
      "sigma_e: 150.35 km/s\n",
      "theta_E: 0.475 arcsec\n"
     ]
    },
    {
     "name": "stdout",
     "output_type": "stream",
     "text": [
      "sigma_e: 145.71 km/s\n",
      "theta_E: 0.574 arcsec\n"
     ]
    },
    {
     "name": "stdout",
     "output_type": "stream",
     "text": [
      "sigma_e: 154.81 km/s\n"
     ]
    },
    {
     "name": "stdout",
     "output_type": "stream",
     "text": [
      "theta_E: 0.364 arcsec\n"
     ]
    },
    {
     "name": "stdout",
     "output_type": "stream",
     "text": [
      "sigma_e: 127.96 km/s\n",
      "theta_E: 0.321 arcsec\n"
     ]
    },
    {
     "name": "stdout",
     "output_type": "stream",
     "text": [
      "sigma_e: 115.91 km/s\n",
      "theta_E: 0.359 arcsec\n"
     ]
    },
    {
     "name": "stdout",
     "output_type": "stream",
     "text": [
      "sigma_e: 126.95 km/s\n",
      "theta_E: 0.378 arcsec\n"
     ]
    },
    {
     "name": "stdout",
     "output_type": "stream",
     "text": [
      "sigma_e: 130.13 km/s\n",
      "theta_E: 0.428 arcsec\n"
     ]
    },
    {
     "name": "stdout",
     "output_type": "stream",
     "text": [
      "sigma_e: 134.66 km/s\n",
      "theta_E: 0.439 arcsec\n"
     ]
    },
    {
     "name": "stdout",
     "output_type": "stream",
     "text": [
      "sigma_e: 135.20 km/s\n",
      "theta_E: 0.427 arcsec\n"
     ]
    },
    {
     "name": "stdout",
     "output_type": "stream",
     "text": [
      "sigma_e: 134.61 km/s\n",
      "theta_E: 0.317 arcsec\n"
     ]
    },
    {
     "name": "stdout",
     "output_type": "stream",
     "text": [
      "sigma_e: 114.05 km/s\n",
      "theta_E: 0.324 arcsec\n"
     ]
    },
    {
     "name": "stdout",
     "output_type": "stream",
     "text": [
      "sigma_e: 116.82 km/s\n",
      "theta_E: 0.331 arcsec\n"
     ]
    },
    {
     "name": "stdout",
     "output_type": "stream",
     "text": [
      "sigma_e: 119.44 km/s\n"
     ]
    },
    {
     "name": "stdout",
     "output_type": "stream",
     "text": [
      "theta_E: 0.355 arcsec\n"
     ]
    },
    {
     "name": "stdout",
     "output_type": "stream",
     "text": [
      "sigma_e: 125.03 km/s\n",
      "theta_E: 0.426 arcsec\n"
     ]
    },
    {
     "name": "stdout",
     "output_type": "stream",
     "text": [
      "sigma_e: 129.03 km/s\n",
      "theta_E: 0.417 arcsec\n"
     ]
    },
    {
     "name": "stdout",
     "output_type": "stream",
     "text": [
      "sigma_e: 128.79 km/s\n",
      "theta_E: 0.292 arcsec\n"
     ]
    },
    {
     "name": "stdout",
     "output_type": "stream",
     "text": [
      "sigma_e: 111.64 km/s\n",
      "theta_E: 0.362 arcsec\n"
     ]
    },
    {
     "name": "stdout",
     "output_type": "stream",
     "text": [
      "sigma_e: 125.76 km/s\n",
      "theta_E: 0.285 arcsec\n"
     ]
    },
    {
     "name": "stdout",
     "output_type": "stream",
     "text": [
      "sigma_e: 108.83 km/s\n",
      "theta_E: 0.280 arcsec\n"
     ]
    },
    {
     "name": "stdout",
     "output_type": "stream",
     "text": [
      "sigma_e: 106.17 km/s\n",
      "theta_E: 0.280 arcsec\n"
     ]
    },
    {
     "name": "stdout",
     "output_type": "stream",
     "text": [
      "sigma_e: 106.46 km/s\n",
      "theta_E: 0.363 arcsec\n"
     ]
    },
    {
     "name": "stdout",
     "output_type": "stream",
     "text": [
      "sigma_e: 125.87 km/s\n",
      "theta_E: 0.320 arcsec\n"
     ]
    },
    {
     "name": "stdout",
     "output_type": "stream",
     "text": [
      "sigma_e: 119.78 km/s\n"
     ]
    },
    {
     "name": "stdout",
     "output_type": "stream",
     "text": [
      "theta_E: 0.313 arcsec\n"
     ]
    },
    {
     "name": "stdout",
     "output_type": "stream",
     "text": [
      "sigma_e: 115.95 km/s\n",
      "theta_E: 0.416 arcsec\n"
     ]
    },
    {
     "name": "stdout",
     "output_type": "stream",
     "text": [
      "sigma_e: 132.70 km/s\n",
      "theta_E: 0.367 arcsec\n"
     ]
    },
    {
     "name": "stdout",
     "output_type": "stream",
     "text": [
      "sigma_e: 128.55 km/s\n",
      "theta_E: 0.323 arcsec\n"
     ]
    },
    {
     "name": "stdout",
     "output_type": "stream",
     "text": [
      "sigma_e: 119.41 km/s\n",
      "theta_E: 0.370 arcsec\n"
     ]
    },
    {
     "name": "stdout",
     "output_type": "stream",
     "text": [
      "sigma_e: 128.90 km/s\n",
      "theta_E: 0.339 arcsec\n"
     ]
    },
    {
     "name": "stdout",
     "output_type": "stream",
     "text": [
      "sigma_e: 123.61 km/s\n",
      "theta_E: 0.351 arcsec\n"
     ]
    },
    {
     "name": "stdout",
     "output_type": "stream",
     "text": [
      "sigma_e: 126.03 km/s\n",
      "theta_E: 0.395 arcsec\n"
     ]
    },
    {
     "name": "stdout",
     "output_type": "stream",
     "text": [
      "sigma_e: 131.34 km/s\n",
      "theta_E: 0.380 arcsec\n"
     ]
    },
    {
     "name": "stdout",
     "output_type": "stream",
     "text": [
      "sigma_e: 129.99 km/s\n",
      "theta_E: 0.403 arcsec\n"
     ]
    },
    {
     "name": "stdout",
     "output_type": "stream",
     "text": [
      "sigma_e: 131.93 km/s\n"
     ]
    },
    {
     "name": "stdout",
     "output_type": "stream",
     "text": [
      "theta_E: 0.432 arcsec\n"
     ]
    },
    {
     "name": "stdout",
     "output_type": "stream",
     "text": [
      "sigma_e: 139.00 km/s\n",
      "theta_E: 0.435 arcsec\n"
     ]
    },
    {
     "name": "stdout",
     "output_type": "stream",
     "text": [
      "sigma_e: 139.50 km/s\n",
      "theta_E: 0.547 arcsec\n"
     ]
    },
    {
     "name": "stdout",
     "output_type": "stream",
     "text": [
      "sigma_e: 149.09 km/s\n",
      "theta_E: 0.557 arcsec\n"
     ]
    },
    {
     "name": "stdout",
     "output_type": "stream",
     "text": [
      "sigma_e: 149.38 km/s\n",
      "theta_E: 0.432 arcsec\n"
     ]
    },
    {
     "name": "stdout",
     "output_type": "stream",
     "text": [
      "sigma_e: 138.97 km/s\n",
      "theta_E: 0.493 arcsec\n"
     ]
    },
    {
     "name": "stdout",
     "output_type": "stream",
     "text": [
      "sigma_e: 146.32 km/s\n",
      "theta_E: 0.477 arcsec\n"
     ]
    },
    {
     "name": "stdout",
     "output_type": "stream",
     "text": [
      "sigma_e: 145.01 km/s\n",
      "theta_E: 0.506 arcsec\n"
     ]
    },
    {
     "name": "stdout",
     "output_type": "stream",
     "text": [
      "sigma_e: 147.24 km/s\n",
      "theta_E: 0.399 arcsec\n"
     ]
    },
    {
     "name": "stdout",
     "output_type": "stream",
     "text": [
      "sigma_e: 130.75 km/s\n",
      "theta_E: 0.546 arcsec\n"
     ]
    },
    {
     "name": "stdout",
     "output_type": "stream",
     "text": [
      "sigma_e: 149.03 km/s\n"
     ]
    },
    {
     "name": "stdout",
     "output_type": "stream",
     "text": [
      "theta_E: 0.341 arcsec\n"
     ]
    },
    {
     "name": "stdout",
     "output_type": "stream",
     "text": [
      "sigma_e: 118.98 km/s\n",
      "theta_E: 0.418 arcsec\n"
     ]
    },
    {
     "name": "stdout",
     "output_type": "stream",
     "text": [
      "sigma_e: 135.92 km/s\n",
      "theta_E: 0.379 arcsec\n"
     ]
    },
    {
     "name": "stdout",
     "output_type": "stream",
     "text": [
      "sigma_e: 130.24 km/s\n",
      "theta_E: 0.412 arcsec\n"
     ]
    },
    {
     "name": "stdout",
     "output_type": "stream",
     "text": [
      "sigma_e: 135.21 km/s\n",
      "theta_E: 0.445 arcsec\n"
     ]
    },
    {
     "name": "stdout",
     "output_type": "stream",
     "text": [
      "sigma_e: 138.08 km/s\n",
      "theta_E: 0.425 arcsec\n"
     ]
    },
    {
     "name": "stdout",
     "output_type": "stream",
     "text": [
      "sigma_e: 136.52 km/s\n",
      "theta_E: 0.369 arcsec\n"
     ]
    },
    {
     "name": "stdout",
     "output_type": "stream",
     "text": [
      "sigma_e: 128.01 km/s\n",
      "theta_E: 0.388 arcsec\n"
     ]
    },
    {
     "name": "stdout",
     "output_type": "stream",
     "text": [
      "sigma_e: 131.92 km/s\n",
      "theta_E: 0.371 arcsec\n"
     ]
    },
    {
     "name": "stdout",
     "output_type": "stream",
     "text": [
      "sigma_e: 128.38 km/s\n",
      "theta_E: 0.430 arcsec\n"
     ]
    },
    {
     "name": "stdout",
     "output_type": "stream",
     "text": [
      "sigma_e: 136.96 km/s\n"
     ]
    },
    {
     "name": "stdout",
     "output_type": "stream",
     "text": [
      "theta_E: 0.412 arcsec\n"
     ]
    },
    {
     "name": "stdout",
     "output_type": "stream",
     "text": [
      "sigma_e: 130.95 km/s\n",
      "theta_E: 0.306 arcsec\n"
     ]
    },
    {
     "name": "stdout",
     "output_type": "stream",
     "text": [
      "sigma_e: 114.13 km/s\n",
      "theta_E: 0.385 arcsec\n"
     ]
    },
    {
     "name": "stdout",
     "output_type": "stream",
     "text": [
      "sigma_e: 129.24 km/s\n",
      "theta_E: 0.325 arcsec\n"
     ]
    },
    {
     "name": "stdout",
     "output_type": "stream",
     "text": [
      "sigma_e: 120.33 km/s\n",
      "theta_E: 0.368 arcsec\n"
     ]
    },
    {
     "name": "stdout",
     "output_type": "stream",
     "text": [
      "sigma_e: 127.70 km/s\n",
      "theta_E: 0.416 arcsec\n"
     ]
    },
    {
     "name": "stdout",
     "output_type": "stream",
     "text": [
      "sigma_e: 131.15 km/s\n",
      "theta_E: 0.368 arcsec\n"
     ]
    },
    {
     "name": "stdout",
     "output_type": "stream",
     "text": [
      "sigma_e: 127.71 km/s\n",
      "theta_E: 0.369 arcsec\n"
     ]
    },
    {
     "name": "stdout",
     "output_type": "stream",
     "text": [
      "sigma_e: 127.83 km/s\n",
      "theta_E: 0.308 arcsec\n"
     ]
    },
    {
     "name": "stdout",
     "output_type": "stream",
     "text": [
      "sigma_e: 114.88 km/s\n",
      "theta_E: 0.380 arcsec\n"
     ]
    },
    {
     "name": "stdout",
     "output_type": "stream",
     "text": [
      "sigma_e: 128.82 km/s\n"
     ]
    },
    {
     "name": "stdout",
     "output_type": "stream",
     "text": [
      "theta_E: 0.419 arcsec\n"
     ]
    },
    {
     "name": "stdout",
     "output_type": "stream",
     "text": [
      "sigma_e: 131.93 km/s\n",
      "theta_E: 0.539 arcsec\n"
     ]
    },
    {
     "name": "stdout",
     "output_type": "stream",
     "text": [
      "sigma_e: 152.74 km/s\n",
      "theta_E: 0.577 arcsec\n"
     ]
    },
    {
     "name": "stdout",
     "output_type": "stream",
     "text": [
      "sigma_e: 154.63 km/s\n",
      "theta_E: 0.590 arcsec\n"
     ]
    },
    {
     "name": "stdout",
     "output_type": "stream",
     "text": [
      "sigma_e: 155.11 km/s\n",
      "theta_E: 0.589 arcsec\n"
     ]
    },
    {
     "name": "stdout",
     "output_type": "stream",
     "text": [
      "sigma_e: 155.05 km/s\n",
      "theta_E: 0.494 arcsec\n"
     ]
    },
    {
     "name": "stdout",
     "output_type": "stream",
     "text": [
      "sigma_e: 148.65 km/s\n",
      "theta_E: 0.572 arcsec\n"
     ]
    },
    {
     "name": "stdout",
     "output_type": "stream",
     "text": [
      "sigma_e: 154.44 km/s\n",
      "theta_E: 0.557 arcsec\n"
     ]
    },
    {
     "name": "stdout",
     "output_type": "stream",
     "text": [
      "sigma_e: 153.74 km/s\n",
      "theta_E: 0.589 arcsec\n"
     ]
    },
    {
     "name": "stdout",
     "output_type": "stream",
     "text": [
      "sigma_e: 155.07 km/s\n",
      "theta_E: 0.445 arcsec\n"
     ]
    },
    {
     "name": "stdout",
     "output_type": "stream",
     "text": [
      "sigma_e: 140.13 km/s\n"
     ]
    },
    {
     "name": "stdout",
     "output_type": "stream",
     "text": [
      "theta_E: 0.322 arcsec\n"
     ]
    },
    {
     "name": "stdout",
     "output_type": "stream",
     "text": [
      "sigma_e: 105.55 km/s\n",
      "theta_E: 0.318 arcsec\n"
     ]
    },
    {
     "name": "stdout",
     "output_type": "stream",
     "text": [
      "sigma_e: 102.39 km/s\n",
      "theta_E: 0.529 arcsec\n"
     ]
    },
    {
     "name": "stdout",
     "output_type": "stream",
     "text": [
      "sigma_e: 141.91 km/s\n",
      "theta_E: 0.368 arcsec\n"
     ]
    },
    {
     "name": "stdout",
     "output_type": "stream",
     "text": [
      "sigma_e: 126.34 km/s\n",
      "theta_E: 0.437 arcsec\n"
     ]
    },
    {
     "name": "stdout",
     "output_type": "stream",
     "text": [
      "sigma_e: 137.88 km/s\n",
      "theta_E: 0.321 arcsec\n"
     ]
    },
    {
     "name": "stdout",
     "output_type": "stream",
     "text": [
      "sigma_e: 104.45 km/s\n",
      "theta_E: 0.385 arcsec\n"
     ]
    },
    {
     "name": "stdout",
     "output_type": "stream",
     "text": [
      "sigma_e: 130.52 km/s\n",
      "theta_E: 0.345 arcsec\n"
     ]
    },
    {
     "name": "stdout",
     "output_type": "stream",
     "text": [
      "sigma_e: 118.27 km/s\n",
      "theta_E: 0.380 arcsec\n"
     ]
    },
    {
     "name": "stdout",
     "output_type": "stream",
     "text": [
      "sigma_e: 129.35 km/s\n",
      "theta_E: 0.318 arcsec\n"
     ]
    },
    {
     "name": "stdout",
     "output_type": "stream",
     "text": [
      "sigma_e: 102.56 km/s\n"
     ]
    },
    {
     "name": "stdout",
     "output_type": "stream",
     "text": [
      "theta_E: 0.738 arcsec\n"
     ]
    },
    {
     "name": "stdout",
     "output_type": "stream",
     "text": [
      "sigma_e: 177.79 km/s\n",
      "theta_E: 0.604 arcsec\n"
     ]
    },
    {
     "name": "stdout",
     "output_type": "stream",
     "text": [
      "sigma_e: 163.71 km/s\n",
      "theta_E: 0.739 arcsec\n"
     ]
    },
    {
     "name": "stdout",
     "output_type": "stream",
     "text": [
      "sigma_e: 177.83 km/s\n",
      "theta_E: 0.669 arcsec\n"
     ]
    },
    {
     "name": "stdout",
     "output_type": "stream",
     "text": [
      "sigma_e: 172.82 km/s\n",
      "theta_E: 0.709 arcsec\n"
     ]
    },
    {
     "name": "stdout",
     "output_type": "stream",
     "text": [
      "sigma_e: 176.13 km/s\n",
      "theta_E: 0.722 arcsec\n"
     ]
    },
    {
     "name": "stdout",
     "output_type": "stream",
     "text": [
      "sigma_e: 176.94 km/s\n",
      "theta_E: 0.726 arcsec\n"
     ]
    },
    {
     "name": "stdout",
     "output_type": "stream",
     "text": [
      "sigma_e: 177.16 km/s\n",
      "theta_E: 0.771 arcsec\n"
     ]
    },
    {
     "name": "stdout",
     "output_type": "stream",
     "text": [
      "sigma_e: 179.17 km/s\n",
      "theta_E: 0.574 arcsec\n"
     ]
    },
    {
     "name": "stdout",
     "output_type": "stream",
     "text": [
      "sigma_e: 156.43 km/s\n",
      "theta_E: 0.678 arcsec\n"
     ]
    },
    {
     "name": "stdout",
     "output_type": "stream",
     "text": [
      "sigma_e: 173.72 km/s\n"
     ]
    },
    {
     "name": "stdout",
     "output_type": "stream",
     "text": [
      "theta_E: 0.364 arcsec\n"
     ]
    },
    {
     "name": "stdout",
     "output_type": "stream",
     "text": [
      "sigma_e: 115.89 km/s\n",
      "theta_E: 0.438 arcsec\n"
     ]
    },
    {
     "name": "stdout",
     "output_type": "stream",
     "text": [
      "sigma_e: 139.60 km/s\n",
      "theta_E: 0.583 arcsec\n"
     ]
    },
    {
     "name": "stdout",
     "output_type": "stream",
     "text": [
      "sigma_e: 148.75 km/s\n",
      "theta_E: 0.414 arcsec\n"
     ]
    },
    {
     "name": "stdout",
     "output_type": "stream",
     "text": [
      "sigma_e: 134.90 km/s\n",
      "theta_E: 0.497 arcsec\n"
     ]
    },
    {
     "name": "stdout",
     "output_type": "stream",
     "text": [
      "sigma_e: 145.69 km/s\n",
      "theta_E: 0.463 arcsec\n"
     ]
    },
    {
     "name": "stdout",
     "output_type": "stream",
     "text": [
      "sigma_e: 142.86 km/s\n",
      "theta_E: 0.591 arcsec\n"
     ]
    },
    {
     "name": "stdout",
     "output_type": "stream",
     "text": [
      "sigma_e: 148.87 km/s\n",
      "theta_E: 0.584 arcsec\n"
     ]
    },
    {
     "name": "stdout",
     "output_type": "stream",
     "text": [
      "sigma_e: 148.77 km/s\n",
      "theta_E: 0.373 arcsec\n"
     ]
    },
    {
     "name": "stdout",
     "output_type": "stream",
     "text": [
      "sigma_e: 120.77 km/s\n",
      "theta_E: 0.520 arcsec\n"
     ]
    },
    {
     "name": "stdout",
     "output_type": "stream",
     "text": [
      "sigma_e: 146.96 km/s\n"
     ]
    }
   ],
   "source": [
    "rerun_oblate = True\n",
    "\n",
    "if rerun_oblate:\n",
    "\n",
    "    data_oblate, peak_mge_den, sigma_mge_den, peak_mge_lum, sigma_mge_lum = get_sigma_e_dist(cat_oblate, 1, 10, save_mge=True)\n",
    "    np.save('./tng_kin_oblate.npy', data_oblate)\n",
    "\n",
    "    with h5py.File('./tng_kin_mge_oblate.hdf5', 'w') as f:\n",
    "        f.create_dataset(name='peak_den', data = peak_mge_den)\n",
    "        f.create_dataset(name='sigma_den', data = sigma_mge_den)\n",
    "        f.create_dataset(name='peak_lum', data = peak_mge_lum)\n",
    "        f.create_dataset(name='sigma_lum', data = sigma_mge_lum)"
   ]
  },
  {
   "cell_type": "markdown",
   "id": "1bb9df4c",
   "metadata": {
    "papermill": {
     "duration": 0.015563,
     "end_time": "2025-09-16T18:29:33.016323",
     "exception": false,
     "start_time": "2025-09-16T18:29:33.000760",
     "status": "completed"
    },
    "tags": []
   },
   "source": [
    "## Mock data for prolate TNG100 ETG"
   ]
  },
  {
   "cell_type": "code",
   "execution_count": 9,
   "id": "9940cac6",
   "metadata": {
    "execution": {
     "iopub.execute_input": "2025-09-16T18:29:33.055278Z",
     "iopub.status.busy": "2025-09-16T18:29:33.055108Z",
     "iopub.status.idle": "2025-09-16T19:02:39.354525Z",
     "shell.execute_reply": "2025-09-16T19:02:39.354215Z"
    },
    "papermill": {
     "duration": 1986.32403,
     "end_time": "2025-09-16T19:02:39.355293",
     "exception": false,
     "start_time": "2025-09-16T18:29:33.031263",
     "status": "completed"
    },
    "tags": []
   },
   "outputs": [
    {
     "name": "stdout",
     "output_type": "stream",
     "text": [
      "theta_E: 0.454 arcsec\n"
     ]
    },
    {
     "name": "stdout",
     "output_type": "stream",
     "text": [
      "sigma_e: 145.58 km/s\n",
      "theta_E: 0.451 arcsec\n"
     ]
    },
    {
     "name": "stdout",
     "output_type": "stream",
     "text": [
      "sigma_e: 144.68 km/s\n",
      "theta_E: 0.526 arcsec\n"
     ]
    },
    {
     "name": "stdout",
     "output_type": "stream",
     "text": [
      "sigma_e: 160.95 km/s\n",
      "theta_E: 0.451 arcsec\n"
     ]
    },
    {
     "name": "stdout",
     "output_type": "stream",
     "text": [
      "sigma_e: 144.58 km/s\n",
      "theta_E: 0.455 arcsec\n"
     ]
    },
    {
     "name": "stdout",
     "output_type": "stream",
     "text": [
      "sigma_e: 145.98 km/s\n",
      "theta_E: 0.501 arcsec\n"
     ]
    },
    {
     "name": "stdout",
     "output_type": "stream",
     "text": [
      "sigma_e: 156.89 km/s\n",
      "theta_E: 0.452 arcsec\n"
     ]
    },
    {
     "name": "stdout",
     "output_type": "stream",
     "text": [
      "sigma_e: 144.98 km/s\n",
      "theta_E: 0.522 arcsec\n"
     ]
    },
    {
     "name": "stdout",
     "output_type": "stream",
     "text": [
      "sigma_e: 160.33 km/s\n",
      "theta_E: 0.458 arcsec\n"
     ]
    },
    {
     "name": "stdout",
     "output_type": "stream",
     "text": [
      "sigma_e: 146.72 km/s\n",
      "theta_E: 0.503 arcsec\n"
     ]
    },
    {
     "name": "stdout",
     "output_type": "stream",
     "text": [
      "sigma_e: 157.30 km/s\n"
     ]
    },
    {
     "name": "stdout",
     "output_type": "stream",
     "text": [
      "theta_E: 0.421 arcsec\n"
     ]
    },
    {
     "name": "stdout",
     "output_type": "stream",
     "text": [
      "sigma_e: 144.09 km/s\n",
      "theta_E: 0.445 arcsec\n"
     ]
    },
    {
     "name": "stdout",
     "output_type": "stream",
     "text": [
      "sigma_e: 148.47 km/s\n",
      "theta_E: 0.431 arcsec\n"
     ]
    },
    {
     "name": "stdout",
     "output_type": "stream",
     "text": [
      "sigma_e: 146.17 km/s\n",
      "theta_E: 0.382 arcsec\n"
     ]
    },
    {
     "name": "stdout",
     "output_type": "stream",
     "text": [
      "sigma_e: 133.59 km/s\n",
      "theta_E: 0.373 arcsec\n"
     ]
    },
    {
     "name": "stdout",
     "output_type": "stream",
     "text": [
      "sigma_e: 130.24 km/s\n",
      "theta_E: 0.369 arcsec\n"
     ]
    },
    {
     "name": "stdout",
     "output_type": "stream",
     "text": [
      "sigma_e: 128.78 km/s\n",
      "theta_E: 0.421 arcsec\n"
     ]
    },
    {
     "name": "stdout",
     "output_type": "stream",
     "text": [
      "sigma_e: 144.19 km/s\n",
      "theta_E: 0.425 arcsec\n"
     ]
    },
    {
     "name": "stdout",
     "output_type": "stream",
     "text": [
      "sigma_e: 145.07 km/s\n",
      "theta_E: 0.377 arcsec\n"
     ]
    },
    {
     "name": "stdout",
     "output_type": "stream",
     "text": [
      "sigma_e: 131.98 km/s\n",
      "theta_E: 0.440 arcsec\n"
     ]
    },
    {
     "name": "stdout",
     "output_type": "stream",
     "text": [
      "sigma_e: 147.67 km/s\n"
     ]
    },
    {
     "name": "stdout",
     "output_type": "stream",
     "text": [
      "theta_E: 0.548 arcsec\n"
     ]
    },
    {
     "name": "stdout",
     "output_type": "stream",
     "text": [
      "sigma_e: 165.23 km/s\n",
      "theta_E: 0.500 arcsec\n"
     ]
    },
    {
     "name": "stdout",
     "output_type": "stream",
     "text": [
      "sigma_e: 156.58 km/s\n",
      "theta_E: 0.441 arcsec\n"
     ]
    },
    {
     "name": "stdout",
     "output_type": "stream",
     "text": [
      "sigma_e: 139.19 km/s\n",
      "theta_E: 0.522 arcsec\n"
     ]
    },
    {
     "name": "stdout",
     "output_type": "stream",
     "text": [
      "sigma_e: 161.03 km/s\n",
      "theta_E: 0.452 arcsec\n"
     ]
    },
    {
     "name": "stdout",
     "output_type": "stream",
     "text": [
      "sigma_e: 143.05 km/s\n",
      "theta_E: 0.455 arcsec\n"
     ]
    },
    {
     "name": "stdout",
     "output_type": "stream",
     "text": [
      "sigma_e: 144.00 km/s\n",
      "theta_E: 0.444 arcsec\n"
     ]
    },
    {
     "name": "stdout",
     "output_type": "stream",
     "text": [
      "sigma_e: 140.24 km/s\n",
      "theta_E: 0.514 arcsec\n"
     ]
    },
    {
     "name": "stdout",
     "output_type": "stream",
     "text": [
      "sigma_e: 159.45 km/s\n",
      "theta_E: 0.528 arcsec\n"
     ]
    },
    {
     "name": "stdout",
     "output_type": "stream",
     "text": [
      "sigma_e: 162.17 km/s\n",
      "theta_E: 0.576 arcsec\n"
     ]
    },
    {
     "name": "stdout",
     "output_type": "stream",
     "text": [
      "sigma_e: 168.84 km/s\n"
     ]
    },
    {
     "name": "stdout",
     "output_type": "stream",
     "text": [
      "theta_E: 0.436 arcsec\n"
     ]
    },
    {
     "name": "stdout",
     "output_type": "stream",
     "text": [
      "sigma_e: 134.90 km/s\n",
      "theta_E: 0.553 arcsec\n"
     ]
    },
    {
     "name": "stdout",
     "output_type": "stream",
     "text": [
      "sigma_e: 166.28 km/s\n",
      "theta_E: 0.512 arcsec\n"
     ]
    },
    {
     "name": "stdout",
     "output_type": "stream",
     "text": [
      "sigma_e: 158.43 km/s\n",
      "theta_E: 0.436 arcsec\n"
     ]
    },
    {
     "name": "stdout",
     "output_type": "stream",
     "text": [
      "sigma_e: 134.78 km/s\n",
      "theta_E: 0.445 arcsec\n"
     ]
    },
    {
     "name": "stdout",
     "output_type": "stream",
     "text": [
      "sigma_e: 138.49 km/s\n",
      "theta_E: 0.616 arcsec\n"
     ]
    },
    {
     "name": "stdout",
     "output_type": "stream",
     "text": [
      "sigma_e: 174.06 km/s\n",
      "theta_E: 0.542 arcsec\n"
     ]
    },
    {
     "name": "stdout",
     "output_type": "stream",
     "text": [
      "sigma_e: 164.50 km/s\n",
      "theta_E: 0.543 arcsec\n"
     ]
    },
    {
     "name": "stdout",
     "output_type": "stream",
     "text": [
      "sigma_e: 164.58 km/s\n",
      "theta_E: 0.438 arcsec\n"
     ]
    },
    {
     "name": "stdout",
     "output_type": "stream",
     "text": [
      "sigma_e: 135.46 km/s\n",
      "theta_E: 0.574 arcsec\n"
     ]
    },
    {
     "name": "stdout",
     "output_type": "stream",
     "text": [
      "sigma_e: 169.29 km/s\n"
     ]
    },
    {
     "name": "stdout",
     "output_type": "stream",
     "text": [
      "theta_E: 0.591 arcsec\n"
     ]
    },
    {
     "name": "stdout",
     "output_type": "stream",
     "text": [
      "sigma_e: 170.71 km/s\n",
      "theta_E: 0.565 arcsec\n"
     ]
    },
    {
     "name": "stdout",
     "output_type": "stream",
     "text": [
      "sigma_e: 165.41 km/s\n",
      "theta_E: 0.529 arcsec\n"
     ]
    },
    {
     "name": "stdout",
     "output_type": "stream",
     "text": [
      "sigma_e: 156.01 km/s\n",
      "theta_E: 0.544 arcsec\n"
     ]
    },
    {
     "name": "stdout",
     "output_type": "stream",
     "text": [
      "sigma_e: 160.24 km/s\n",
      "theta_E: 0.534 arcsec\n"
     ]
    },
    {
     "name": "stdout",
     "output_type": "stream",
     "text": [
      "sigma_e: 157.63 km/s\n",
      "theta_E: 0.644 arcsec\n"
     ]
    },
    {
     "name": "stdout",
     "output_type": "stream",
     "text": [
      "sigma_e: 178.06 km/s\n",
      "theta_E: 0.529 arcsec\n"
     ]
    },
    {
     "name": "stdout",
     "output_type": "stream",
     "text": [
      "sigma_e: 155.98 km/s\n",
      "theta_E: 0.530 arcsec\n"
     ]
    },
    {
     "name": "stdout",
     "output_type": "stream",
     "text": [
      "sigma_e: 156.44 km/s\n",
      "theta_E: 0.563 arcsec\n"
     ]
    },
    {
     "name": "stdout",
     "output_type": "stream",
     "text": [
      "sigma_e: 165.08 km/s\n",
      "theta_E: 0.550 arcsec\n"
     ]
    },
    {
     "name": "stdout",
     "output_type": "stream",
     "text": [
      "sigma_e: 161.84 km/s\n"
     ]
    },
    {
     "name": "stdout",
     "output_type": "stream",
     "text": [
      "theta_E: 0.872 arcsec\n"
     ]
    },
    {
     "name": "stdout",
     "output_type": "stream",
     "text": [
      "sigma_e: 206.90 km/s\n",
      "theta_E: 0.741 arcsec\n"
     ]
    },
    {
     "name": "stdout",
     "output_type": "stream",
     "text": [
      "sigma_e: 186.79 km/s\n",
      "theta_E: 0.815 arcsec\n"
     ]
    },
    {
     "name": "stdout",
     "output_type": "stream",
     "text": [
      "sigma_e: 200.29 km/s\n",
      "theta_E: 0.884 arcsec\n"
     ]
    },
    {
     "name": "stdout",
     "output_type": "stream",
     "text": [
      "sigma_e: 208.03 km/s\n",
      "theta_E: 0.815 arcsec\n"
     ]
    },
    {
     "name": "stdout",
     "output_type": "stream",
     "text": [
      "sigma_e: 200.35 km/s\n",
      "theta_E: 0.895 arcsec\n"
     ]
    },
    {
     "name": "stdout",
     "output_type": "stream",
     "text": [
      "sigma_e: 208.90 km/s\n",
      "theta_E: 0.903 arcsec\n"
     ]
    },
    {
     "name": "stdout",
     "output_type": "stream",
     "text": [
      "sigma_e: 209.57 km/s\n",
      "theta_E: 0.789 arcsec\n"
     ]
    },
    {
     "name": "stdout",
     "output_type": "stream",
     "text": [
      "sigma_e: 196.26 km/s\n",
      "theta_E: 0.730 arcsec\n"
     ]
    },
    {
     "name": "stdout",
     "output_type": "stream",
     "text": [
      "sigma_e: 184.26 km/s\n",
      "theta_E: 0.763 arcsec\n"
     ]
    },
    {
     "name": "stdout",
     "output_type": "stream",
     "text": [
      "sigma_e: 191.59 km/s\n"
     ]
    },
    {
     "name": "stdout",
     "output_type": "stream",
     "text": [
      "theta_E: 0.621 arcsec\n"
     ]
    },
    {
     "name": "stdout",
     "output_type": "stream",
     "text": [
      "sigma_e: 171.94 km/s\n",
      "theta_E: 0.590 arcsec\n"
     ]
    },
    {
     "name": "stdout",
     "output_type": "stream",
     "text": [
      "sigma_e: 164.11 km/s\n",
      "theta_E: 0.584 arcsec\n"
     ]
    },
    {
     "name": "stdout",
     "output_type": "stream",
     "text": [
      "sigma_e: 162.11 km/s\n",
      "theta_E: 0.619 arcsec\n"
     ]
    },
    {
     "name": "stdout",
     "output_type": "stream",
     "text": [
      "sigma_e: 171.55 km/s\n",
      "theta_E: 0.708 arcsec\n"
     ]
    },
    {
     "name": "stdout",
     "output_type": "stream",
     "text": [
      "sigma_e: 186.69 km/s\n",
      "theta_E: 0.752 arcsec\n"
     ]
    },
    {
     "name": "stdout",
     "output_type": "stream",
     "text": [
      "sigma_e: 191.07 km/s\n",
      "theta_E: 0.584 arcsec\n"
     ]
    },
    {
     "name": "stdout",
     "output_type": "stream",
     "text": [
      "sigma_e: 162.19 km/s\n",
      "theta_E: 0.582 arcsec\n"
     ]
    },
    {
     "name": "stdout",
     "output_type": "stream",
     "text": [
      "sigma_e: 161.75 km/s\n",
      "theta_E: 0.684 arcsec\n"
     ]
    },
    {
     "name": "stdout",
     "output_type": "stream",
     "text": [
      "sigma_e: 183.69 km/s\n",
      "theta_E: 0.715 arcsec\n"
     ]
    },
    {
     "name": "stdout",
     "output_type": "stream",
     "text": [
      "sigma_e: 187.50 km/s\n"
     ]
    },
    {
     "name": "stdout",
     "output_type": "stream",
     "text": [
      "theta_E: 1.223 arcsec\n"
     ]
    },
    {
     "name": "stdout",
     "output_type": "stream",
     "text": [
      "sigma_e: 241.01 km/s\n",
      "theta_E: 1.394 arcsec\n"
     ]
    },
    {
     "name": "stdout",
     "output_type": "stream",
     "text": [
      "sigma_e: 261.66 km/s\n",
      "theta_E: 1.206 arcsec\n"
     ]
    },
    {
     "name": "stdout",
     "output_type": "stream",
     "text": [
      "sigma_e: 238.01 km/s\n",
      "theta_E: 1.376 arcsec\n"
     ]
    },
    {
     "name": "stdout",
     "output_type": "stream",
     "text": [
      "sigma_e: 260.15 km/s\n",
      "theta_E: 1.300 arcsec\n"
     ]
    },
    {
     "name": "stdout",
     "output_type": "stream",
     "text": [
      "sigma_e: 252.26 km/s\n",
      "theta_E: 1.407 arcsec\n"
     ]
    },
    {
     "name": "stdout",
     "output_type": "stream",
     "text": [
      "sigma_e: 262.71 km/s\n",
      "theta_E: 1.285 arcsec\n"
     ]
    },
    {
     "name": "stdout",
     "output_type": "stream",
     "text": [
      "sigma_e: 250.36 km/s\n",
      "theta_E: 1.202 arcsec\n"
     ]
    },
    {
     "name": "stdout",
     "output_type": "stream",
     "text": [
      "sigma_e: 237.19 km/s\n",
      "theta_E: 1.208 arcsec\n"
     ]
    },
    {
     "name": "stdout",
     "output_type": "stream",
     "text": [
      "sigma_e: 238.25 km/s\n",
      "theta_E: 1.202 arcsec\n"
     ]
    },
    {
     "name": "stdout",
     "output_type": "stream",
     "text": [
      "sigma_e: 237.25 km/s\n"
     ]
    },
    {
     "name": "stdout",
     "output_type": "stream",
     "text": [
      "theta_E: 1.033 arcsec\n"
     ]
    },
    {
     "name": "stdout",
     "output_type": "stream",
     "text": [
      "sigma_e: 215.56 km/s\n",
      "theta_E: 1.077 arcsec\n"
     ]
    },
    {
     "name": "stdout",
     "output_type": "stream",
     "text": [
      "sigma_e: 225.16 km/s\n",
      "theta_E: 1.254 arcsec\n"
     ]
    },
    {
     "name": "stdout",
     "output_type": "stream",
     "text": [
      "sigma_e: 248.89 km/s\n",
      "theta_E: 1.070 arcsec\n"
     ]
    },
    {
     "name": "stdout",
     "output_type": "stream",
     "text": [
      "sigma_e: 223.75 km/s\n",
      "theta_E: 1.283 arcsec\n"
     ]
    },
    {
     "name": "stdout",
     "output_type": "stream",
     "text": [
      "sigma_e: 251.31 km/s\n",
      "theta_E: 1.087 arcsec\n"
     ]
    },
    {
     "name": "stdout",
     "output_type": "stream",
     "text": [
      "sigma_e: 226.97 km/s\n",
      "theta_E: 1.256 arcsec\n"
     ]
    },
    {
     "name": "stdout",
     "output_type": "stream",
     "text": [
      "sigma_e: 249.14 km/s\n",
      "theta_E: 1.034 arcsec\n"
     ]
    },
    {
     "name": "stdout",
     "output_type": "stream",
     "text": [
      "sigma_e: 215.96 km/s\n",
      "theta_E: 1.336 arcsec\n"
     ]
    },
    {
     "name": "stdout",
     "output_type": "stream",
     "text": [
      "sigma_e: 254.99 km/s\n",
      "theta_E: 1.324 arcsec\n"
     ]
    },
    {
     "name": "stdout",
     "output_type": "stream",
     "text": [
      "sigma_e: 254.21 km/s\n"
     ]
    },
    {
     "name": "stdout",
     "output_type": "stream",
     "text": [
      "theta_E: 0.554 arcsec\n"
     ]
    },
    {
     "name": "stdout",
     "output_type": "stream",
     "text": [
      "sigma_e: 162.11 km/s\n",
      "theta_E: 0.578 arcsec\n"
     ]
    },
    {
     "name": "stdout",
     "output_type": "stream",
     "text": [
      "sigma_e: 167.70 km/s\n",
      "theta_E: 0.567 arcsec\n"
     ]
    },
    {
     "name": "stdout",
     "output_type": "stream",
     "text": [
      "sigma_e: 165.21 km/s\n",
      "theta_E: 0.614 arcsec\n"
     ]
    },
    {
     "name": "stdout",
     "output_type": "stream",
     "text": [
      "sigma_e: 173.84 km/s\n",
      "theta_E: 0.587 arcsec\n"
     ]
    },
    {
     "name": "stdout",
     "output_type": "stream",
     "text": [
      "sigma_e: 169.41 km/s\n",
      "theta_E: 0.623 arcsec\n"
     ]
    },
    {
     "name": "stdout",
     "output_type": "stream",
     "text": [
      "sigma_e: 174.98 km/s\n",
      "theta_E: 0.604 arcsec\n"
     ]
    },
    {
     "name": "stdout",
     "output_type": "stream",
     "text": [
      "sigma_e: 172.28 km/s\n",
      "theta_E: 0.580 arcsec\n"
     ]
    },
    {
     "name": "stdout",
     "output_type": "stream",
     "text": [
      "sigma_e: 168.09 km/s\n",
      "theta_E: 0.575 arcsec\n"
     ]
    },
    {
     "name": "stdout",
     "output_type": "stream",
     "text": [
      "sigma_e: 167.01 km/s\n",
      "theta_E: 0.569 arcsec\n"
     ]
    },
    {
     "name": "stdout",
     "output_type": "stream",
     "text": [
      "sigma_e: 165.77 km/s\n"
     ]
    },
    {
     "name": "stdout",
     "output_type": "stream",
     "text": [
      "theta_E: 0.545 arcsec\n"
     ]
    },
    {
     "name": "stdout",
     "output_type": "stream",
     "text": [
      "sigma_e: 163.53 km/s\n",
      "theta_E: 0.492 arcsec\n"
     ]
    },
    {
     "name": "stdout",
     "output_type": "stream",
     "text": [
      "sigma_e: 151.11 km/s\n",
      "theta_E: 0.605 arcsec\n"
     ]
    },
    {
     "name": "stdout",
     "output_type": "stream",
     "text": [
      "sigma_e: 171.49 km/s\n",
      "theta_E: 0.505 arcsec\n"
     ]
    },
    {
     "name": "stdout",
     "output_type": "stream",
     "text": [
      "sigma_e: 154.68 km/s\n",
      "theta_E: 0.569 arcsec\n"
     ]
    },
    {
     "name": "stdout",
     "output_type": "stream",
     "text": [
      "sigma_e: 167.30 km/s\n",
      "theta_E: 0.560 arcsec\n"
     ]
    },
    {
     "name": "stdout",
     "output_type": "stream",
     "text": [
      "sigma_e: 166.04 km/s\n",
      "theta_E: 0.495 arcsec\n"
     ]
    },
    {
     "name": "stdout",
     "output_type": "stream",
     "text": [
      "sigma_e: 151.79 km/s\n",
      "theta_E: 0.557 arcsec\n"
     ]
    },
    {
     "name": "stdout",
     "output_type": "stream",
     "text": [
      "sigma_e: 165.55 km/s\n",
      "theta_E: 0.524 arcsec\n"
     ]
    },
    {
     "name": "stdout",
     "output_type": "stream",
     "text": [
      "sigma_e: 159.28 km/s\n",
      "theta_E: 0.499 arcsec\n"
     ]
    },
    {
     "name": "stdout",
     "output_type": "stream",
     "text": [
      "sigma_e: 153.11 km/s\n"
     ]
    },
    {
     "name": "stdout",
     "output_type": "stream",
     "text": [
      "theta_E: 0.369 arcsec\n"
     ]
    },
    {
     "name": "stdout",
     "output_type": "stream",
     "text": [
      "sigma_e: 126.37 km/s\n",
      "theta_E: 0.379 arcsec\n"
     ]
    },
    {
     "name": "stdout",
     "output_type": "stream",
     "text": [
      "sigma_e: 130.50 km/s\n",
      "theta_E: 0.376 arcsec\n"
     ]
    },
    {
     "name": "stdout",
     "output_type": "stream",
     "text": [
      "sigma_e: 129.29 km/s\n",
      "theta_E: 0.368 arcsec\n"
     ]
    },
    {
     "name": "stdout",
     "output_type": "stream",
     "text": [
      "sigma_e: 126.11 km/s\n",
      "theta_E: 0.453 arcsec\n"
     ]
    },
    {
     "name": "stdout",
     "output_type": "stream",
     "text": [
      "sigma_e: 148.43 km/s\n",
      "theta_E: 0.363 arcsec\n"
     ]
    },
    {
     "name": "stdout",
     "output_type": "stream",
     "text": [
      "sigma_e: 124.03 km/s\n",
      "theta_E: 0.394 arcsec\n"
     ]
    },
    {
     "name": "stdout",
     "output_type": "stream",
     "text": [
      "sigma_e: 135.33 km/s\n",
      "theta_E: 0.409 arcsec\n"
     ]
    },
    {
     "name": "stdout",
     "output_type": "stream",
     "text": [
      "sigma_e: 139.62 km/s\n",
      "theta_E: 0.420 arcsec\n"
     ]
    },
    {
     "name": "stdout",
     "output_type": "stream",
     "text": [
      "sigma_e: 142.33 km/s\n",
      "theta_E: 0.444 arcsec\n"
     ]
    },
    {
     "name": "stdout",
     "output_type": "stream",
     "text": [
      "sigma_e: 147.14 km/s\n"
     ]
    },
    {
     "name": "stdout",
     "output_type": "stream",
     "text": [
      "theta_E: 0.465 arcsec\n"
     ]
    },
    {
     "name": "stdout",
     "output_type": "stream",
     "text": [
      "sigma_e: 150.55 km/s\n",
      "theta_E: 0.417 arcsec\n"
     ]
    },
    {
     "name": "stdout",
     "output_type": "stream",
     "text": [
      "sigma_e: 143.32 km/s\n",
      "theta_E: 0.391 arcsec\n"
     ]
    },
    {
     "name": "stdout",
     "output_type": "stream",
     "text": [
      "sigma_e: 137.36 km/s\n",
      "theta_E: 0.381 arcsec\n"
     ]
    },
    {
     "name": "stdout",
     "output_type": "stream",
     "text": [
      "sigma_e: 134.25 km/s\n",
      "theta_E: 0.371 arcsec\n"
     ]
    },
    {
     "name": "stdout",
     "output_type": "stream",
     "text": [
      "sigma_e: 131.07 km/s\n",
      "theta_E: 0.391 arcsec\n"
     ]
    },
    {
     "name": "stdout",
     "output_type": "stream",
     "text": [
      "sigma_e: 137.41 km/s\n",
      "theta_E: 0.380 arcsec\n"
     ]
    },
    {
     "name": "stdout",
     "output_type": "stream",
     "text": [
      "sigma_e: 133.87 km/s\n",
      "theta_E: 0.428 arcsec\n"
     ]
    },
    {
     "name": "stdout",
     "output_type": "stream",
     "text": [
      "sigma_e: 145.37 km/s\n",
      "theta_E: 0.413 arcsec\n"
     ]
    },
    {
     "name": "stdout",
     "output_type": "stream",
     "text": [
      "sigma_e: 142.64 km/s\n",
      "theta_E: 0.411 arcsec\n"
     ]
    },
    {
     "name": "stdout",
     "output_type": "stream",
     "text": [
      "sigma_e: 142.20 km/s\n"
     ]
    },
    {
     "name": "stdout",
     "output_type": "stream",
     "text": [
      "theta_E: 0.489 arcsec\n"
     ]
    },
    {
     "name": "stdout",
     "output_type": "stream",
     "text": [
      "sigma_e: 154.52 km/s\n",
      "theta_E: 0.508 arcsec\n"
     ]
    },
    {
     "name": "stdout",
     "output_type": "stream",
     "text": [
      "sigma_e: 157.87 km/s\n",
      "theta_E: 0.490 arcsec\n"
     ]
    },
    {
     "name": "stdout",
     "output_type": "stream",
     "text": [
      "sigma_e: 154.67 km/s\n",
      "theta_E: 0.522 arcsec\n"
     ]
    },
    {
     "name": "stdout",
     "output_type": "stream",
     "text": [
      "sigma_e: 159.91 km/s\n",
      "theta_E: 0.474 arcsec\n"
     ]
    },
    {
     "name": "stdout",
     "output_type": "stream",
     "text": [
      "sigma_e: 151.12 km/s\n",
      "theta_E: 0.483 arcsec\n"
     ]
    },
    {
     "name": "stdout",
     "output_type": "stream",
     "text": [
      "sigma_e: 153.26 km/s\n",
      "theta_E: 0.468 arcsec\n"
     ]
    },
    {
     "name": "stdout",
     "output_type": "stream",
     "text": [
      "sigma_e: 149.62 km/s\n",
      "theta_E: 0.482 arcsec\n"
     ]
    },
    {
     "name": "stdout",
     "output_type": "stream",
     "text": [
      "sigma_e: 152.95 km/s\n",
      "theta_E: 0.535 arcsec\n"
     ]
    },
    {
     "name": "stdout",
     "output_type": "stream",
     "text": [
      "sigma_e: 161.59 km/s\n",
      "theta_E: 0.470 arcsec\n"
     ]
    },
    {
     "name": "stdout",
     "output_type": "stream",
     "text": [
      "sigma_e: 150.29 km/s\n"
     ]
    },
    {
     "name": "stdout",
     "output_type": "stream",
     "text": [
      "theta_E: 0.364 arcsec\n"
     ]
    },
    {
     "name": "stdout",
     "output_type": "stream",
     "text": [
      "sigma_e: 128.38 km/s\n",
      "theta_E: 0.378 arcsec\n"
     ]
    },
    {
     "name": "stdout",
     "output_type": "stream",
     "text": [
      "sigma_e: 133.70 km/s\n",
      "theta_E: 0.365 arcsec\n"
     ]
    },
    {
     "name": "stdout",
     "output_type": "stream",
     "text": [
      "sigma_e: 128.95 km/s\n",
      "theta_E: 0.389 arcsec\n"
     ]
    },
    {
     "name": "stdout",
     "output_type": "stream",
     "text": [
      "sigma_e: 136.83 km/s\n",
      "theta_E: 0.399 arcsec\n"
     ]
    },
    {
     "name": "stdout",
     "output_type": "stream",
     "text": [
      "sigma_e: 139.68 km/s\n",
      "theta_E: 0.364 arcsec\n"
     ]
    },
    {
     "name": "stdout",
     "output_type": "stream",
     "text": [
      "sigma_e: 128.53 km/s\n",
      "theta_E: 0.453 arcsec\n"
     ]
    },
    {
     "name": "stdout",
     "output_type": "stream",
     "text": [
      "sigma_e: 149.41 km/s\n",
      "theta_E: 0.403 arcsec\n"
     ]
    },
    {
     "name": "stdout",
     "output_type": "stream",
     "text": [
      "sigma_e: 140.53 km/s\n",
      "theta_E: 0.368 arcsec\n"
     ]
    },
    {
     "name": "stdout",
     "output_type": "stream",
     "text": [
      "sigma_e: 129.93 km/s\n",
      "theta_E: 0.379 arcsec\n"
     ]
    },
    {
     "name": "stdout",
     "output_type": "stream",
     "text": [
      "sigma_e: 133.79 km/s\n"
     ]
    },
    {
     "name": "stdout",
     "output_type": "stream",
     "text": [
      "theta_E: 0.388 arcsec\n"
     ]
    },
    {
     "name": "stdout",
     "output_type": "stream",
     "text": [
      "sigma_e: 136.95 km/s\n",
      "theta_E: 0.452 arcsec\n"
     ]
    },
    {
     "name": "stdout",
     "output_type": "stream",
     "text": [
      "sigma_e: 148.64 km/s\n",
      "theta_E: 0.409 arcsec\n"
     ]
    },
    {
     "name": "stdout",
     "output_type": "stream",
     "text": [
      "sigma_e: 141.99 km/s\n",
      "theta_E: 0.373 arcsec\n"
     ]
    },
    {
     "name": "stdout",
     "output_type": "stream",
     "text": [
      "sigma_e: 132.32 km/s\n",
      "theta_E: 0.420 arcsec\n"
     ]
    },
    {
     "name": "stdout",
     "output_type": "stream",
     "text": [
      "sigma_e: 144.03 km/s\n",
      "theta_E: 0.417 arcsec\n"
     ]
    },
    {
     "name": "stdout",
     "output_type": "stream",
     "text": [
      "sigma_e: 143.57 km/s\n",
      "theta_E: 0.443 arcsec\n"
     ]
    },
    {
     "name": "stdout",
     "output_type": "stream",
     "text": [
      "sigma_e: 147.56 km/s\n",
      "theta_E: 0.362 arcsec\n"
     ]
    },
    {
     "name": "stdout",
     "output_type": "stream",
     "text": [
      "sigma_e: 128.49 km/s\n",
      "theta_E: 0.450 arcsec\n"
     ]
    },
    {
     "name": "stdout",
     "output_type": "stream",
     "text": [
      "sigma_e: 148.48 km/s\n",
      "theta_E: 0.379 arcsec\n"
     ]
    },
    {
     "name": "stdout",
     "output_type": "stream",
     "text": [
      "sigma_e: 134.20 km/s\n"
     ]
    },
    {
     "name": "stdout",
     "output_type": "stream",
     "text": [
      "theta_E: 0.474 arcsec\n"
     ]
    },
    {
     "name": "stdout",
     "output_type": "stream",
     "text": [
      "sigma_e: 151.03 km/s\n",
      "theta_E: 0.497 arcsec\n"
     ]
    },
    {
     "name": "stdout",
     "output_type": "stream",
     "text": [
      "sigma_e: 155.73 km/s\n",
      "theta_E: 0.472 arcsec\n"
     ]
    },
    {
     "name": "stdout",
     "output_type": "stream",
     "text": [
      "sigma_e: 150.63 km/s\n",
      "theta_E: 0.485 arcsec\n"
     ]
    },
    {
     "name": "stdout",
     "output_type": "stream",
     "text": [
      "sigma_e: 153.57 km/s\n",
      "theta_E: 0.490 arcsec\n"
     ]
    },
    {
     "name": "stdout",
     "output_type": "stream",
     "text": [
      "sigma_e: 154.56 km/s\n",
      "theta_E: 0.472 arcsec\n"
     ]
    },
    {
     "name": "stdout",
     "output_type": "stream",
     "text": [
      "sigma_e: 150.64 km/s\n",
      "theta_E: 0.494 arcsec\n"
     ]
    },
    {
     "name": "stdout",
     "output_type": "stream",
     "text": [
      "sigma_e: 155.27 km/s\n",
      "theta_E: 0.513 arcsec\n"
     ]
    },
    {
     "name": "stdout",
     "output_type": "stream",
     "text": [
      "sigma_e: 158.28 km/s\n",
      "theta_E: 0.517 arcsec\n"
     ]
    },
    {
     "name": "stdout",
     "output_type": "stream",
     "text": [
      "sigma_e: 158.82 km/s\n",
      "theta_E: 0.486 arcsec\n"
     ]
    },
    {
     "name": "stdout",
     "output_type": "stream",
     "text": [
      "sigma_e: 153.74 km/s\n"
     ]
    },
    {
     "name": "stdout",
     "output_type": "stream",
     "text": [
      "theta_E: 0.785 arcsec\n"
     ]
    },
    {
     "name": "stdout",
     "output_type": "stream",
     "text": [
      "sigma_e: 192.06 km/s\n",
      "theta_E: 0.964 arcsec\n"
     ]
    },
    {
     "name": "stdout",
     "output_type": "stream",
     "text": [
      "sigma_e: 217.86 km/s\n",
      "theta_E: 0.883 arcsec\n"
     ]
    },
    {
     "name": "stdout",
     "output_type": "stream",
     "text": [
      "sigma_e: 209.55 km/s\n",
      "theta_E: 0.792 arcsec\n"
     ]
    },
    {
     "name": "stdout",
     "output_type": "stream",
     "text": [
      "sigma_e: 193.82 km/s\n",
      "theta_E: 0.801 arcsec\n"
     ]
    },
    {
     "name": "stdout",
     "output_type": "stream",
     "text": [
      "sigma_e: 195.65 km/s\n",
      "theta_E: 0.825 arcsec\n"
     ]
    },
    {
     "name": "stdout",
     "output_type": "stream",
     "text": [
      "sigma_e: 200.47 km/s\n",
      "theta_E: 0.865 arcsec\n"
     ]
    },
    {
     "name": "stdout",
     "output_type": "stream",
     "text": [
      "sigma_e: 207.15 km/s\n",
      "theta_E: 0.788 arcsec\n"
     ]
    },
    {
     "name": "stdout",
     "output_type": "stream",
     "text": [
      "sigma_e: 192.90 km/s\n",
      "theta_E: 0.780 arcsec\n"
     ]
    },
    {
     "name": "stdout",
     "output_type": "stream",
     "text": [
      "sigma_e: 190.96 km/s\n",
      "theta_E: 0.927 arcsec\n"
     ]
    },
    {
     "name": "stdout",
     "output_type": "stream",
     "text": [
      "sigma_e: 214.56 km/s\n"
     ]
    },
    {
     "name": "stdout",
     "output_type": "stream",
     "text": [
      "theta_E: 0.698 arcsec\n"
     ]
    },
    {
     "name": "stdout",
     "output_type": "stream",
     "text": [
      "sigma_e: 177.70 km/s\n",
      "theta_E: 0.877 arcsec\n"
     ]
    },
    {
     "name": "stdout",
     "output_type": "stream",
     "text": [
      "sigma_e: 206.55 km/s\n",
      "theta_E: 0.835 arcsec\n"
     ]
    },
    {
     "name": "stdout",
     "output_type": "stream",
     "text": [
      "sigma_e: 202.53 km/s\n",
      "theta_E: 0.814 arcsec\n"
     ]
    },
    {
     "name": "stdout",
     "output_type": "stream",
     "text": [
      "sigma_e: 200.00 km/s\n",
      "theta_E: 0.824 arcsec\n"
     ]
    },
    {
     "name": "stdout",
     "output_type": "stream",
     "text": [
      "sigma_e: 201.39 km/s\n",
      "theta_E: 0.809 arcsec\n"
     ]
    },
    {
     "name": "stdout",
     "output_type": "stream",
     "text": [
      "sigma_e: 199.43 km/s\n",
      "theta_E: 0.719 arcsec\n"
     ]
    },
    {
     "name": "stdout",
     "output_type": "stream",
     "text": [
      "sigma_e: 183.36 km/s\n",
      "theta_E: 0.794 arcsec\n"
     ]
    },
    {
     "name": "stdout",
     "output_type": "stream",
     "text": [
      "sigma_e: 197.46 km/s\n",
      "theta_E: 0.698 arcsec\n"
     ]
    },
    {
     "name": "stdout",
     "output_type": "stream",
     "text": [
      "sigma_e: 177.72 km/s\n",
      "theta_E: 0.884 arcsec\n"
     ]
    },
    {
     "name": "stdout",
     "output_type": "stream",
     "text": [
      "sigma_e: 207.06 km/s\n"
     ]
    },
    {
     "name": "stdout",
     "output_type": "stream",
     "text": [
      "theta_E: 0.987 arcsec\n"
     ]
    },
    {
     "name": "stdout",
     "output_type": "stream",
     "text": [
      "sigma_e: 222.49 km/s\n",
      "theta_E: 0.934 arcsec\n"
     ]
    },
    {
     "name": "stdout",
     "output_type": "stream",
     "text": [
      "sigma_e: 214.59 km/s\n",
      "theta_E: 1.082 arcsec\n"
     ]
    },
    {
     "name": "stdout",
     "output_type": "stream",
     "text": [
      "sigma_e: 231.73 km/s\n",
      "theta_E: 1.103 arcsec\n"
     ]
    },
    {
     "name": "stdout",
     "output_type": "stream",
     "text": [
      "sigma_e: 233.18 km/s\n",
      "theta_E: 1.049 arcsec\n"
     ]
    },
    {
     "name": "stdout",
     "output_type": "stream",
     "text": [
      "sigma_e: 229.10 km/s\n",
      "theta_E: 0.973 arcsec\n"
     ]
    },
    {
     "name": "stdout",
     "output_type": "stream",
     "text": [
      "sigma_e: 220.60 km/s\n",
      "theta_E: 0.969 arcsec\n"
     ]
    },
    {
     "name": "stdout",
     "output_type": "stream",
     "text": [
      "sigma_e: 220.09 km/s\n",
      "theta_E: 0.918 arcsec\n"
     ]
    },
    {
     "name": "stdout",
     "output_type": "stream",
     "text": [
      "sigma_e: 211.65 km/s\n",
      "theta_E: 1.002 arcsec\n"
     ]
    },
    {
     "name": "stdout",
     "output_type": "stream",
     "text": [
      "sigma_e: 224.40 km/s\n",
      "theta_E: 1.068 arcsec\n"
     ]
    },
    {
     "name": "stdout",
     "output_type": "stream",
     "text": [
      "sigma_e: 230.73 km/s\n"
     ]
    },
    {
     "name": "stdout",
     "output_type": "stream",
     "text": [
      "theta_E: 1.105 arcsec\n"
     ]
    },
    {
     "name": "stdout",
     "output_type": "stream",
     "text": [
      "sigma_e: 231.19 km/s\n",
      "theta_E: 1.108 arcsec\n"
     ]
    },
    {
     "name": "stdout",
     "output_type": "stream",
     "text": [
      "sigma_e: 231.50 km/s\n",
      "theta_E: 1.122 arcsec\n"
     ]
    },
    {
     "name": "stdout",
     "output_type": "stream",
     "text": [
      "sigma_e: 232.90 km/s\n",
      "theta_E: 1.109 arcsec\n"
     ]
    },
    {
     "name": "stdout",
     "output_type": "stream",
     "text": [
      "sigma_e: 231.59 km/s\n",
      "theta_E: 1.092 arcsec\n"
     ]
    },
    {
     "name": "stdout",
     "output_type": "stream",
     "text": [
      "sigma_e: 229.64 km/s\n",
      "theta_E: 1.070 arcsec\n"
     ]
    },
    {
     "name": "stdout",
     "output_type": "stream",
     "text": [
      "sigma_e: 226.72 km/s\n",
      "theta_E: 1.127 arcsec\n"
     ]
    },
    {
     "name": "stdout",
     "output_type": "stream",
     "text": [
      "sigma_e: 233.40 km/s\n",
      "theta_E: 1.117 arcsec\n"
     ]
    },
    {
     "name": "stdout",
     "output_type": "stream",
     "text": [
      "sigma_e: 232.44 km/s\n",
      "theta_E: 1.147 arcsec\n"
     ]
    },
    {
     "name": "stdout",
     "output_type": "stream",
     "text": [
      "sigma_e: 235.20 km/s\n",
      "theta_E: 1.073 arcsec\n"
     ]
    },
    {
     "name": "stdout",
     "output_type": "stream",
     "text": [
      "sigma_e: 227.24 km/s\n"
     ]
    },
    {
     "name": "stdout",
     "output_type": "stream",
     "text": [
      "theta_E: 0.457 arcsec\n"
     ]
    },
    {
     "name": "stdout",
     "output_type": "stream",
     "text": [
      "sigma_e: 149.39 km/s\n",
      "theta_E: 0.401 arcsec\n"
     ]
    },
    {
     "name": "stdout",
     "output_type": "stream",
     "text": [
      "sigma_e: 139.25 km/s\n",
      "theta_E: 0.455 arcsec\n"
     ]
    },
    {
     "name": "stdout",
     "output_type": "stream",
     "text": [
      "sigma_e: 149.08 km/s\n",
      "theta_E: 0.392 arcsec\n"
     ]
    },
    {
     "name": "stdout",
     "output_type": "stream",
     "text": [
      "sigma_e: 136.71 km/s\n",
      "theta_E: 0.386 arcsec\n"
     ]
    },
    {
     "name": "stdout",
     "output_type": "stream",
     "text": [
      "sigma_e: 135.04 km/s\n",
      "theta_E: 0.390 arcsec\n"
     ]
    },
    {
     "name": "stdout",
     "output_type": "stream",
     "text": [
      "sigma_e: 136.18 km/s\n",
      "theta_E: 0.383 arcsec\n"
     ]
    },
    {
     "name": "stdout",
     "output_type": "stream",
     "text": [
      "sigma_e: 133.97 km/s\n",
      "theta_E: 0.388 arcsec\n"
     ]
    },
    {
     "name": "stdout",
     "output_type": "stream",
     "text": [
      "sigma_e: 135.46 km/s\n",
      "theta_E: 0.416 arcsec\n"
     ]
    },
    {
     "name": "stdout",
     "output_type": "stream",
     "text": [
      "sigma_e: 142.79 km/s\n",
      "theta_E: 0.409 arcsec\n"
     ]
    },
    {
     "name": "stdout",
     "output_type": "stream",
     "text": [
      "sigma_e: 141.18 km/s\n"
     ]
    },
    {
     "name": "stdout",
     "output_type": "stream",
     "text": [
      "theta_E: 0.837 arcsec\n"
     ]
    },
    {
     "name": "stdout",
     "output_type": "stream",
     "text": [
      "sigma_e: 199.40 km/s\n",
      "theta_E: 0.856 arcsec\n"
     ]
    },
    {
     "name": "stdout",
     "output_type": "stream",
     "text": [
      "sigma_e: 203.06 km/s\n",
      "theta_E: 0.971 arcsec\n"
     ]
    },
    {
     "name": "stdout",
     "output_type": "stream",
     "text": [
      "sigma_e: 218.01 km/s\n",
      "theta_E: 0.831 arcsec\n"
     ]
    },
    {
     "name": "stdout",
     "output_type": "stream",
     "text": [
      "sigma_e: 198.07 km/s\n",
      "theta_E: 0.834 arcsec\n"
     ]
    },
    {
     "name": "stdout",
     "output_type": "stream",
     "text": [
      "sigma_e: 198.63 km/s\n",
      "theta_E: 0.879 arcsec\n"
     ]
    },
    {
     "name": "stdout",
     "output_type": "stream",
     "text": [
      "sigma_e: 207.04 km/s\n",
      "theta_E: 0.950 arcsec\n"
     ]
    },
    {
     "name": "stdout",
     "output_type": "stream",
     "text": [
      "sigma_e: 216.06 km/s\n",
      "theta_E: 0.973 arcsec\n"
     ]
    },
    {
     "name": "stdout",
     "output_type": "stream",
     "text": [
      "sigma_e: 218.19 km/s\n",
      "theta_E: 0.917 arcsec\n"
     ]
    },
    {
     "name": "stdout",
     "output_type": "stream",
     "text": [
      "sigma_e: 212.35 km/s\n",
      "theta_E: 0.831 arcsec\n"
     ]
    },
    {
     "name": "stdout",
     "output_type": "stream",
     "text": [
      "sigma_e: 197.91 km/s\n"
     ]
    },
    {
     "name": "stdout",
     "output_type": "stream",
     "text": [
      "theta_E: 0.609 arcsec\n"
     ]
    },
    {
     "name": "stdout",
     "output_type": "stream",
     "text": [
      "sigma_e: 170.88 km/s\n",
      "theta_E: 0.620 arcsec\n"
     ]
    },
    {
     "name": "stdout",
     "output_type": "stream",
     "text": [
      "sigma_e: 173.43 km/s\n",
      "theta_E: 0.608 arcsec\n"
     ]
    },
    {
     "name": "stdout",
     "output_type": "stream",
     "text": [
      "sigma_e: 170.80 km/s\n",
      "theta_E: 0.586 arcsec\n"
     ]
    },
    {
     "name": "stdout",
     "output_type": "stream",
     "text": [
      "sigma_e: 165.14 km/s\n",
      "theta_E: 0.735 arcsec\n"
     ]
    },
    {
     "name": "stdout",
     "output_type": "stream",
     "text": [
      "sigma_e: 189.85 km/s\n",
      "theta_E: 0.724 arcsec\n"
     ]
    },
    {
     "name": "stdout",
     "output_type": "stream",
     "text": [
      "sigma_e: 188.88 km/s\n",
      "theta_E: 0.577 arcsec\n"
     ]
    },
    {
     "name": "stdout",
     "output_type": "stream",
     "text": [
      "sigma_e: 162.29 km/s\n",
      "theta_E: 0.590 arcsec\n"
     ]
    },
    {
     "name": "stdout",
     "output_type": "stream",
     "text": [
      "sigma_e: 166.24 km/s\n",
      "theta_E: 0.643 arcsec\n"
     ]
    },
    {
     "name": "stdout",
     "output_type": "stream",
     "text": [
      "sigma_e: 177.97 km/s\n",
      "theta_E: 0.700 arcsec\n"
     ]
    },
    {
     "name": "stdout",
     "output_type": "stream",
     "text": [
      "sigma_e: 186.41 km/s\n"
     ]
    },
    {
     "name": "stdout",
     "output_type": "stream",
     "text": [
      "theta_E: 0.893 arcsec\n"
     ]
    },
    {
     "name": "stdout",
     "output_type": "stream",
     "text": [
      "sigma_e: 206.57 km/s\n",
      "theta_E: 0.993 arcsec\n"
     ]
    },
    {
     "name": "stdout",
     "output_type": "stream",
     "text": [
      "sigma_e: 220.44 km/s\n",
      "theta_E: 0.889 arcsec\n"
     ]
    },
    {
     "name": "stdout",
     "output_type": "stream",
     "text": [
      "sigma_e: 205.80 km/s\n",
      "theta_E: 0.945 arcsec\n"
     ]
    },
    {
     "name": "stdout",
     "output_type": "stream",
     "text": [
      "sigma_e: 214.90 km/s\n",
      "theta_E: 0.904 arcsec\n"
     ]
    },
    {
     "name": "stdout",
     "output_type": "stream",
     "text": [
      "sigma_e: 208.52 km/s\n",
      "theta_E: 0.958 arcsec\n"
     ]
    },
    {
     "name": "stdout",
     "output_type": "stream",
     "text": [
      "sigma_e: 216.60 km/s\n",
      "theta_E: 0.978 arcsec\n"
     ]
    },
    {
     "name": "stdout",
     "output_type": "stream",
     "text": [
      "sigma_e: 218.87 km/s\n",
      "theta_E: 0.973 arcsec\n"
     ]
    },
    {
     "name": "stdout",
     "output_type": "stream",
     "text": [
      "sigma_e: 218.36 km/s\n",
      "theta_E: 0.947 arcsec\n"
     ]
    },
    {
     "name": "stdout",
     "output_type": "stream",
     "text": [
      "sigma_e: 215.21 km/s\n",
      "theta_E: 0.913 arcsec\n"
     ]
    },
    {
     "name": "stdout",
     "output_type": "stream",
     "text": [
      "sigma_e: 210.10 km/s\n"
     ]
    },
    {
     "name": "stdout",
     "output_type": "stream",
     "text": [
      "theta_E: 0.566 arcsec\n"
     ]
    },
    {
     "name": "stdout",
     "output_type": "stream",
     "text": [
      "sigma_e: 162.61 km/s\n",
      "theta_E: 0.558 arcsec\n"
     ]
    },
    {
     "name": "stdout",
     "output_type": "stream",
     "text": [
      "sigma_e: 160.37 km/s\n",
      "theta_E: 0.566 arcsec\n"
     ]
    },
    {
     "name": "stdout",
     "output_type": "stream",
     "text": [
      "sigma_e: 162.70 km/s\n",
      "theta_E: 0.662 arcsec\n"
     ]
    },
    {
     "name": "stdout",
     "output_type": "stream",
     "text": [
      "sigma_e: 180.80 km/s\n",
      "theta_E: 0.582 arcsec\n"
     ]
    },
    {
     "name": "stdout",
     "output_type": "stream",
     "text": [
      "sigma_e: 166.93 km/s\n",
      "theta_E: 0.659 arcsec\n"
     ]
    },
    {
     "name": "stdout",
     "output_type": "stream",
     "text": [
      "sigma_e: 180.44 km/s\n",
      "theta_E: 0.604 arcsec\n"
     ]
    },
    {
     "name": "stdout",
     "output_type": "stream",
     "text": [
      "sigma_e: 171.75 km/s\n",
      "theta_E: 0.572 arcsec\n"
     ]
    },
    {
     "name": "stdout",
     "output_type": "stream",
     "text": [
      "sigma_e: 164.38 km/s\n",
      "theta_E: 0.574 arcsec\n"
     ]
    },
    {
     "name": "stdout",
     "output_type": "stream",
     "text": [
      "sigma_e: 164.88 km/s\n",
      "theta_E: 0.698 arcsec\n"
     ]
    },
    {
     "name": "stdout",
     "output_type": "stream",
     "text": [
      "sigma_e: 184.48 km/s\n"
     ]
    },
    {
     "name": "stdout",
     "output_type": "stream",
     "text": [
      "theta_E: 1.622 arcsec\n"
     ]
    },
    {
     "name": "stdout",
     "output_type": "stream",
     "text": [
      "sigma_e: 278.19 km/s\n",
      "theta_E: 1.658 arcsec\n"
     ]
    },
    {
     "name": "stdout",
     "output_type": "stream",
     "text": [
      "sigma_e: 282.70 km/s\n",
      "theta_E: 1.573 arcsec\n"
     ]
    },
    {
     "name": "stdout",
     "output_type": "stream",
     "text": [
      "sigma_e: 271.03 km/s\n",
      "theta_E: 1.729 arcsec\n"
     ]
    },
    {
     "name": "stdout",
     "output_type": "stream",
     "text": [
      "sigma_e: 290.28 km/s\n",
      "theta_E: 1.597 arcsec\n"
     ]
    },
    {
     "name": "stdout",
     "output_type": "stream",
     "text": [
      "sigma_e: 274.64 km/s\n",
      "theta_E: 1.571 arcsec\n"
     ]
    },
    {
     "name": "stdout",
     "output_type": "stream",
     "text": [
      "sigma_e: 270.60 km/s\n",
      "theta_E: 1.735 arcsec\n"
     ]
    },
    {
     "name": "stdout",
     "output_type": "stream",
     "text": [
      "sigma_e: 290.80 km/s\n",
      "theta_E: 1.866 arcsec\n"
     ]
    },
    {
     "name": "stdout",
     "output_type": "stream",
     "text": [
      "sigma_e: 300.67 km/s\n",
      "theta_E: 1.764 arcsec\n"
     ]
    },
    {
     "name": "stdout",
     "output_type": "stream",
     "text": [
      "sigma_e: 293.36 km/s\n",
      "theta_E: 1.672 arcsec\n"
     ]
    },
    {
     "name": "stdout",
     "output_type": "stream",
     "text": [
      "sigma_e: 284.44 km/s\n"
     ]
    },
    {
     "name": "stdout",
     "output_type": "stream",
     "text": [
      "theta_E: 1.430 arcsec\n"
     ]
    },
    {
     "name": "stdout",
     "output_type": "stream",
     "text": [
      "sigma_e: 261.83 km/s\n",
      "theta_E: 1.444 arcsec\n"
     ]
    },
    {
     "name": "stdout",
     "output_type": "stream",
     "text": [
      "sigma_e: 263.14 km/s\n",
      "theta_E: 1.464 arcsec\n"
     ]
    },
    {
     "name": "stdout",
     "output_type": "stream",
     "text": [
      "sigma_e: 264.82 km/s\n",
      "theta_E: 1.399 arcsec\n"
     ]
    },
    {
     "name": "stdout",
     "output_type": "stream",
     "text": [
      "sigma_e: 258.61 km/s\n",
      "theta_E: 1.415 arcsec\n"
     ]
    },
    {
     "name": "stdout",
     "output_type": "stream",
     "text": [
      "sigma_e: 260.33 km/s\n",
      "theta_E: 1.396 arcsec\n"
     ]
    },
    {
     "name": "stdout",
     "output_type": "stream",
     "text": [
      "sigma_e: 258.30 km/s\n",
      "theta_E: 1.400 arcsec\n"
     ]
    },
    {
     "name": "stdout",
     "output_type": "stream",
     "text": [
      "sigma_e: 258.78 km/s\n",
      "theta_E: 1.447 arcsec\n"
     ]
    },
    {
     "name": "stdout",
     "output_type": "stream",
     "text": [
      "sigma_e: 263.51 km/s\n",
      "theta_E: 1.466 arcsec\n"
     ]
    },
    {
     "name": "stdout",
     "output_type": "stream",
     "text": [
      "sigma_e: 265.05 km/s\n",
      "theta_E: 1.438 arcsec\n"
     ]
    },
    {
     "name": "stdout",
     "output_type": "stream",
     "text": [
      "sigma_e: 262.59 km/s\n"
     ]
    },
    {
     "name": "stdout",
     "output_type": "stream",
     "text": [
      "theta_E: 0.524 arcsec\n"
     ]
    },
    {
     "name": "stdout",
     "output_type": "stream",
     "text": [
      "sigma_e: 160.79 km/s\n",
      "theta_E: 0.506 arcsec\n"
     ]
    },
    {
     "name": "stdout",
     "output_type": "stream",
     "text": [
      "sigma_e: 157.23 km/s\n",
      "theta_E: 0.489 arcsec\n"
     ]
    },
    {
     "name": "stdout",
     "output_type": "stream",
     "text": [
      "sigma_e: 153.38 km/s\n",
      "theta_E: 0.565 arcsec\n"
     ]
    },
    {
     "name": "stdout",
     "output_type": "stream",
     "text": [
      "sigma_e: 166.50 km/s\n",
      "theta_E: 0.514 arcsec\n"
     ]
    },
    {
     "name": "stdout",
     "output_type": "stream",
     "text": [
      "sigma_e: 158.95 km/s\n",
      "theta_E: 0.546 arcsec\n"
     ]
    },
    {
     "name": "stdout",
     "output_type": "stream",
     "text": [
      "sigma_e: 164.09 km/s\n",
      "theta_E: 0.531 arcsec\n"
     ]
    },
    {
     "name": "stdout",
     "output_type": "stream",
     "text": [
      "sigma_e: 161.97 km/s\n",
      "theta_E: 0.480 arcsec\n"
     ]
    },
    {
     "name": "stdout",
     "output_type": "stream",
     "text": [
      "sigma_e: 151.00 km/s\n",
      "theta_E: 0.578 arcsec\n"
     ]
    },
    {
     "name": "stdout",
     "output_type": "stream",
     "text": [
      "sigma_e: 167.87 km/s\n",
      "theta_E: 0.479 arcsec\n"
     ]
    },
    {
     "name": "stdout",
     "output_type": "stream",
     "text": [
      "sigma_e: 150.59 km/s\n"
     ]
    },
    {
     "name": "stdout",
     "output_type": "stream",
     "text": [
      "theta_E: 2.080 arcsec\n"
     ]
    },
    {
     "name": "stdout",
     "output_type": "stream",
     "text": [
      "sigma_e: 318.88 km/s\n",
      "theta_E: 1.786 arcsec\n"
     ]
    },
    {
     "name": "stdout",
     "output_type": "stream",
     "text": [
      "sigma_e: 289.66 km/s\n",
      "theta_E: 1.801 arcsec\n"
     ]
    },
    {
     "name": "stdout",
     "output_type": "stream",
     "text": [
      "sigma_e: 291.84 km/s\n",
      "theta_E: 2.059 arcsec\n"
     ]
    },
    {
     "name": "stdout",
     "output_type": "stream",
     "text": [
      "sigma_e: 317.56 km/s\n",
      "theta_E: 1.984 arcsec\n"
     ]
    },
    {
     "name": "stdout",
     "output_type": "stream",
     "text": [
      "sigma_e: 311.71 km/s\n",
      "theta_E: 1.810 arcsec\n"
     ]
    },
    {
     "name": "stdout",
     "output_type": "stream",
     "text": [
      "sigma_e: 292.99 km/s\n",
      "theta_E: 1.800 arcsec\n"
     ]
    },
    {
     "name": "stdout",
     "output_type": "stream",
     "text": [
      "sigma_e: 291.69 km/s\n",
      "theta_E: 1.786 arcsec\n"
     ]
    },
    {
     "name": "stdout",
     "output_type": "stream",
     "text": [
      "sigma_e: 289.71 km/s\n",
      "theta_E: 2.139 arcsec\n"
     ]
    },
    {
     "name": "stdout",
     "output_type": "stream",
     "text": [
      "sigma_e: 322.37 km/s\n",
      "theta_E: 1.906 arcsec\n"
     ]
    },
    {
     "name": "stdout",
     "output_type": "stream",
     "text": [
      "sigma_e: 304.53 km/s\n"
     ]
    },
    {
     "name": "stdout",
     "output_type": "stream",
     "text": [
      "theta_E: 1.345 arcsec\n"
     ]
    },
    {
     "name": "stdout",
     "output_type": "stream",
     "text": [
      "sigma_e: 257.17 km/s\n",
      "theta_E: 1.353 arcsec\n"
     ]
    },
    {
     "name": "stdout",
     "output_type": "stream",
     "text": [
      "sigma_e: 257.68 km/s\n",
      "theta_E: 1.224 arcsec\n"
     ]
    },
    {
     "name": "stdout",
     "output_type": "stream",
     "text": [
      "sigma_e: 246.25 km/s\n",
      "theta_E: 1.338 arcsec\n"
     ]
    },
    {
     "name": "stdout",
     "output_type": "stream",
     "text": [
      "sigma_e: 256.69 km/s\n",
      "theta_E: 1.374 arcsec\n"
     ]
    },
    {
     "name": "stdout",
     "output_type": "stream",
     "text": [
      "sigma_e: 259.07 km/s\n",
      "theta_E: 1.092 arcsec\n"
     ]
    },
    {
     "name": "stdout",
     "output_type": "stream",
     "text": [
      "sigma_e: 225.84 km/s\n",
      "theta_E: 1.063 arcsec\n"
     ]
    },
    {
     "name": "stdout",
     "output_type": "stream",
     "text": [
      "sigma_e: 219.44 km/s\n",
      "theta_E: 1.251 arcsec\n"
     ]
    },
    {
     "name": "stdout",
     "output_type": "stream",
     "text": [
      "sigma_e: 249.20 km/s\n",
      "theta_E: 1.079 arcsec\n"
     ]
    },
    {
     "name": "stdout",
     "output_type": "stream",
     "text": [
      "sigma_e: 223.17 km/s\n",
      "theta_E: 1.171 arcsec\n"
     ]
    },
    {
     "name": "stdout",
     "output_type": "stream",
     "text": [
      "sigma_e: 239.39 km/s\n"
     ]
    },
    {
     "name": "stdout",
     "output_type": "stream",
     "text": [
      "theta_E: 0.896 arcsec\n"
     ]
    },
    {
     "name": "stdout",
     "output_type": "stream",
     "text": [
      "sigma_e: 207.69 km/s\n",
      "theta_E: 0.876 arcsec\n"
     ]
    },
    {
     "name": "stdout",
     "output_type": "stream",
     "text": [
      "sigma_e: 203.85 km/s\n",
      "theta_E: 0.866 arcsec\n"
     ]
    },
    {
     "name": "stdout",
     "output_type": "stream",
     "text": [
      "sigma_e: 201.84 km/s\n",
      "theta_E: 0.870 arcsec\n"
     ]
    },
    {
     "name": "stdout",
     "output_type": "stream",
     "text": [
      "sigma_e: 202.78 km/s\n",
      "theta_E: 0.893 arcsec\n"
     ]
    },
    {
     "name": "stdout",
     "output_type": "stream",
     "text": [
      "sigma_e: 207.22 km/s\n",
      "theta_E: 0.872 arcsec\n"
     ]
    },
    {
     "name": "stdout",
     "output_type": "stream",
     "text": [
      "sigma_e: 203.09 km/s\n",
      "theta_E: 0.964 arcsec\n"
     ]
    },
    {
     "name": "stdout",
     "output_type": "stream",
     "text": [
      "sigma_e: 217.53 km/s\n",
      "theta_E: 0.955 arcsec\n"
     ]
    },
    {
     "name": "stdout",
     "output_type": "stream",
     "text": [
      "sigma_e: 216.48 km/s\n",
      "theta_E: 0.928 arcsec\n"
     ]
    },
    {
     "name": "stdout",
     "output_type": "stream",
     "text": [
      "sigma_e: 212.84 km/s\n",
      "theta_E: 0.884 arcsec\n"
     ]
    },
    {
     "name": "stdout",
     "output_type": "stream",
     "text": [
      "sigma_e: 205.56 km/s\n"
     ]
    },
    {
     "name": "stdout",
     "output_type": "stream",
     "text": [
      "theta_E: 0.588 arcsec\n"
     ]
    },
    {
     "name": "stdout",
     "output_type": "stream",
     "text": [
      "sigma_e: 169.41 km/s\n",
      "theta_E: 0.648 arcsec\n"
     ]
    },
    {
     "name": "stdout",
     "output_type": "stream",
     "text": [
      "sigma_e: 179.23 km/s\n",
      "theta_E: 0.539 arcsec\n"
     ]
    },
    {
     "name": "stdout",
     "output_type": "stream",
     "text": [
      "sigma_e: 156.75 km/s\n",
      "theta_E: 0.542 arcsec\n"
     ]
    },
    {
     "name": "stdout",
     "output_type": "stream",
     "text": [
      "sigma_e: 157.74 km/s\n",
      "theta_E: 0.585 arcsec\n"
     ]
    },
    {
     "name": "stdout",
     "output_type": "stream",
     "text": [
      "sigma_e: 168.79 km/s\n",
      "theta_E: 0.605 arcsec\n"
     ]
    },
    {
     "name": "stdout",
     "output_type": "stream",
     "text": [
      "sigma_e: 172.70 km/s\n",
      "theta_E: 0.536 arcsec\n"
     ]
    },
    {
     "name": "stdout",
     "output_type": "stream",
     "text": [
      "sigma_e: 155.65 km/s\n",
      "theta_E: 0.684 arcsec\n"
     ]
    },
    {
     "name": "stdout",
     "output_type": "stream",
     "text": [
      "sigma_e: 183.12 km/s\n",
      "theta_E: 0.667 arcsec\n"
     ]
    },
    {
     "name": "stdout",
     "output_type": "stream",
     "text": [
      "sigma_e: 181.38 km/s\n",
      "theta_E: 0.561 arcsec\n"
     ]
    },
    {
     "name": "stdout",
     "output_type": "stream",
     "text": [
      "sigma_e: 162.94 km/s\n"
     ]
    },
    {
     "name": "stdout",
     "output_type": "stream",
     "text": [
      "theta_E: 0.823 arcsec\n"
     ]
    },
    {
     "name": "stdout",
     "output_type": "stream",
     "text": [
      "sigma_e: 198.59 km/s\n",
      "theta_E: 0.842 arcsec\n"
     ]
    },
    {
     "name": "stdout",
     "output_type": "stream",
     "text": [
      "sigma_e: 202.01 km/s\n",
      "theta_E: 0.909 arcsec\n"
     ]
    },
    {
     "name": "stdout",
     "output_type": "stream",
     "text": [
      "sigma_e: 211.38 km/s\n",
      "theta_E: 0.800 arcsec\n"
     ]
    },
    {
     "name": "stdout",
     "output_type": "stream",
     "text": [
      "sigma_e: 193.54 km/s\n",
      "theta_E: 0.912 arcsec\n"
     ]
    },
    {
     "name": "stdout",
     "output_type": "stream",
     "text": [
      "sigma_e: 211.75 km/s\n",
      "theta_E: 0.888 arcsec\n"
     ]
    },
    {
     "name": "stdout",
     "output_type": "stream",
     "text": [
      "sigma_e: 208.97 km/s\n",
      "theta_E: 0.803 arcsec\n"
     ]
    },
    {
     "name": "stdout",
     "output_type": "stream",
     "text": [
      "sigma_e: 194.43 km/s\n",
      "theta_E: 0.946 arcsec\n"
     ]
    },
    {
     "name": "stdout",
     "output_type": "stream",
     "text": [
      "sigma_e: 215.13 km/s\n",
      "theta_E: 0.956 arcsec\n"
     ]
    },
    {
     "name": "stdout",
     "output_type": "stream",
     "text": [
      "sigma_e: 215.92 km/s\n",
      "theta_E: 0.842 arcsec\n"
     ]
    },
    {
     "name": "stdout",
     "output_type": "stream",
     "text": [
      "sigma_e: 202.00 km/s\n"
     ]
    },
    {
     "name": "stdout",
     "output_type": "stream",
     "text": [
      "theta_E: 0.723 arcsec\n"
     ]
    },
    {
     "name": "stdout",
     "output_type": "stream",
     "text": [
      "sigma_e: 187.72 km/s\n",
      "theta_E: 0.656 arcsec\n"
     ]
    },
    {
     "name": "stdout",
     "output_type": "stream",
     "text": [
      "sigma_e: 178.69 km/s\n",
      "theta_E: 0.669 arcsec\n"
     ]
    },
    {
     "name": "stdout",
     "output_type": "stream",
     "text": [
      "sigma_e: 180.86 km/s\n",
      "theta_E: 0.650 arcsec\n"
     ]
    },
    {
     "name": "stdout",
     "output_type": "stream",
     "text": [
      "sigma_e: 177.77 km/s\n",
      "theta_E: 0.709 arcsec\n"
     ]
    },
    {
     "name": "stdout",
     "output_type": "stream",
     "text": [
      "sigma_e: 186.29 km/s\n",
      "theta_E: 0.608 arcsec\n"
     ]
    },
    {
     "name": "stdout",
     "output_type": "stream",
     "text": [
      "sigma_e: 168.51 km/s\n",
      "theta_E: 0.734 arcsec\n"
     ]
    },
    {
     "name": "stdout",
     "output_type": "stream",
     "text": [
      "sigma_e: 188.72 km/s\n",
      "theta_E: 0.630 arcsec\n"
     ]
    },
    {
     "name": "stdout",
     "output_type": "stream",
     "text": [
      "sigma_e: 173.66 km/s\n",
      "theta_E: 0.694 arcsec\n"
     ]
    },
    {
     "name": "stdout",
     "output_type": "stream",
     "text": [
      "sigma_e: 184.51 km/s\n",
      "theta_E: 0.599 arcsec\n"
     ]
    },
    {
     "name": "stdout",
     "output_type": "stream",
     "text": [
      "sigma_e: 166.26 km/s\n"
     ]
    },
    {
     "name": "stdout",
     "output_type": "stream",
     "text": [
      "theta_E: 0.416 arcsec\n"
     ]
    },
    {
     "name": "stdout",
     "output_type": "stream",
     "text": [
      "sigma_e: 139.96 km/s\n",
      "theta_E: 0.441 arcsec\n"
     ]
    },
    {
     "name": "stdout",
     "output_type": "stream",
     "text": [
      "sigma_e: 146.72 km/s\n",
      "theta_E: 0.471 arcsec\n"
     ]
    },
    {
     "name": "stdout",
     "output_type": "stream",
     "text": [
      "sigma_e: 152.65 km/s\n",
      "theta_E: 0.422 arcsec\n"
     ]
    },
    {
     "name": "stdout",
     "output_type": "stream",
     "text": [
      "sigma_e: 141.64 km/s\n",
      "theta_E: 0.454 arcsec\n"
     ]
    },
    {
     "name": "stdout",
     "output_type": "stream",
     "text": [
      "sigma_e: 149.52 km/s\n",
      "theta_E: 0.455 arcsec\n"
     ]
    },
    {
     "name": "stdout",
     "output_type": "stream",
     "text": [
      "sigma_e: 149.83 km/s\n",
      "theta_E: 0.472 arcsec\n"
     ]
    },
    {
     "name": "stdout",
     "output_type": "stream",
     "text": [
      "sigma_e: 152.86 km/s\n",
      "theta_E: 0.466 arcsec\n"
     ]
    },
    {
     "name": "stdout",
     "output_type": "stream",
     "text": [
      "sigma_e: 151.87 km/s\n",
      "theta_E: 0.419 arcsec\n"
     ]
    },
    {
     "name": "stdout",
     "output_type": "stream",
     "text": [
      "sigma_e: 140.76 km/s\n",
      "theta_E: 0.432 arcsec\n"
     ]
    },
    {
     "name": "stdout",
     "output_type": "stream",
     "text": [
      "sigma_e: 144.57 km/s\n"
     ]
    },
    {
     "name": "stdout",
     "output_type": "stream",
     "text": [
      "theta_E: 0.539 arcsec\n"
     ]
    },
    {
     "name": "stdout",
     "output_type": "stream",
     "text": [
      "sigma_e: 162.31 km/s\n",
      "theta_E: 0.444 arcsec\n"
     ]
    },
    {
     "name": "stdout",
     "output_type": "stream",
     "text": [
      "sigma_e: 145.08 km/s\n",
      "theta_E: 0.484 arcsec\n"
     ]
    },
    {
     "name": "stdout",
     "output_type": "stream",
     "text": [
      "sigma_e: 154.72 km/s\n",
      "theta_E: 0.504 arcsec\n"
     ]
    },
    {
     "name": "stdout",
     "output_type": "stream",
     "text": [
      "sigma_e: 157.92 km/s\n",
      "theta_E: 0.508 arcsec\n"
     ]
    },
    {
     "name": "stdout",
     "output_type": "stream",
     "text": [
      "sigma_e: 158.53 km/s\n",
      "theta_E: 0.496 arcsec\n"
     ]
    },
    {
     "name": "stdout",
     "output_type": "stream",
     "text": [
      "sigma_e: 156.69 km/s\n",
      "theta_E: 0.482 arcsec\n"
     ]
    },
    {
     "name": "stdout",
     "output_type": "stream",
     "text": [
      "sigma_e: 154.21 km/s\n",
      "theta_E: 0.485 arcsec\n"
     ]
    },
    {
     "name": "stdout",
     "output_type": "stream",
     "text": [
      "sigma_e: 154.89 km/s\n",
      "theta_E: 0.432 arcsec\n"
     ]
    },
    {
     "name": "stdout",
     "output_type": "stream",
     "text": [
      "sigma_e: 141.30 km/s\n",
      "theta_E: 0.483 arcsec\n"
     ]
    },
    {
     "name": "stdout",
     "output_type": "stream",
     "text": [
      "sigma_e: 154.54 km/s\n"
     ]
    },
    {
     "name": "stdout",
     "output_type": "stream",
     "text": [
      "theta_E: 0.657 arcsec\n"
     ]
    },
    {
     "name": "stdout",
     "output_type": "stream",
     "text": [
      "sigma_e: 175.56 km/s\n",
      "theta_E: 0.649 arcsec\n"
     ]
    },
    {
     "name": "stdout",
     "output_type": "stream",
     "text": [
      "sigma_e: 173.53 km/s\n",
      "theta_E: 0.733 arcsec\n"
     ]
    },
    {
     "name": "stdout",
     "output_type": "stream",
     "text": [
      "sigma_e: 190.40 km/s\n",
      "theta_E: 0.638 arcsec\n"
     ]
    },
    {
     "name": "stdout",
     "output_type": "stream",
     "text": [
      "sigma_e: 170.37 km/s\n",
      "theta_E: 0.673 arcsec\n"
     ]
    },
    {
     "name": "stdout",
     "output_type": "stream",
     "text": [
      "sigma_e: 179.33 km/s\n",
      "theta_E: 0.734 arcsec\n"
     ]
    },
    {
     "name": "stdout",
     "output_type": "stream",
     "text": [
      "sigma_e: 190.56 km/s\n",
      "theta_E: 0.814 arcsec\n"
     ]
    },
    {
     "name": "stdout",
     "output_type": "stream",
     "text": [
      "sigma_e: 199.45 km/s\n",
      "theta_E: 0.795 arcsec\n"
     ]
    },
    {
     "name": "stdout",
     "output_type": "stream",
     "text": [
      "sigma_e: 197.83 km/s\n",
      "theta_E: 0.643 arcsec\n"
     ]
    },
    {
     "name": "stdout",
     "output_type": "stream",
     "text": [
      "sigma_e: 171.68 km/s\n",
      "theta_E: 0.713 arcsec\n"
     ]
    },
    {
     "name": "stdout",
     "output_type": "stream",
     "text": [
      "sigma_e: 187.25 km/s\n"
     ]
    },
    {
     "name": "stdout",
     "output_type": "stream",
     "text": [
      "theta_E: 0.597 arcsec\n"
     ]
    },
    {
     "name": "stdout",
     "output_type": "stream",
     "text": [
      "sigma_e: 171.63 km/s\n",
      "theta_E: 0.575 arcsec\n"
     ]
    },
    {
     "name": "stdout",
     "output_type": "stream",
     "text": [
      "sigma_e: 167.32 km/s\n",
      "theta_E: 0.612 arcsec\n"
     ]
    },
    {
     "name": "stdout",
     "output_type": "stream",
     "text": [
      "sigma_e: 174.30 km/s\n",
      "theta_E: 0.573 arcsec\n"
     ]
    },
    {
     "name": "stdout",
     "output_type": "stream",
     "text": [
      "sigma_e: 166.97 km/s\n",
      "theta_E: 0.565 arcsec\n"
     ]
    },
    {
     "name": "stdout",
     "output_type": "stream",
     "text": [
      "sigma_e: 165.04 km/s\n",
      "theta_E: 0.648 arcsec\n"
     ]
    },
    {
     "name": "stdout",
     "output_type": "stream",
     "text": [
      "sigma_e: 179.14 km/s\n",
      "theta_E: 0.588 arcsec\n"
     ]
    },
    {
     "name": "stdout",
     "output_type": "stream",
     "text": [
      "sigma_e: 170.04 km/s\n",
      "theta_E: 0.592 arcsec\n"
     ]
    },
    {
     "name": "stdout",
     "output_type": "stream",
     "text": [
      "sigma_e: 170.72 km/s\n",
      "theta_E: 0.572 arcsec\n"
     ]
    },
    {
     "name": "stdout",
     "output_type": "stream",
     "text": [
      "sigma_e: 166.69 km/s\n",
      "theta_E: 0.526 arcsec\n"
     ]
    },
    {
     "name": "stdout",
     "output_type": "stream",
     "text": [
      "sigma_e: 154.14 km/s\n"
     ]
    },
    {
     "name": "stdout",
     "output_type": "stream",
     "text": [
      "theta_E: 0.779 arcsec\n"
     ]
    },
    {
     "name": "stdout",
     "output_type": "stream",
     "text": [
      "sigma_e: 192.83 km/s\n",
      "theta_E: 0.791 arcsec\n"
     ]
    },
    {
     "name": "stdout",
     "output_type": "stream",
     "text": [
      "sigma_e: 195.08 km/s\n",
      "theta_E: 0.758 arcsec\n"
     ]
    },
    {
     "name": "stdout",
     "output_type": "stream",
     "text": [
      "sigma_e: 187.76 km/s\n",
      "theta_E: 0.834 arcsec\n"
     ]
    },
    {
     "name": "stdout",
     "output_type": "stream",
     "text": [
      "sigma_e: 202.46 km/s\n",
      "theta_E: 0.823 arcsec\n"
     ]
    },
    {
     "name": "stdout",
     "output_type": "stream",
     "text": [
      "sigma_e: 200.87 km/s\n",
      "theta_E: 0.808 arcsec\n"
     ]
    },
    {
     "name": "stdout",
     "output_type": "stream",
     "text": [
      "sigma_e: 198.28 km/s\n",
      "theta_E: 0.781 arcsec\n"
     ]
    },
    {
     "name": "stdout",
     "output_type": "stream",
     "text": [
      "sigma_e: 193.12 km/s\n",
      "theta_E: 0.911 arcsec\n"
     ]
    },
    {
     "name": "stdout",
     "output_type": "stream",
     "text": [
      "sigma_e: 211.35 km/s\n",
      "theta_E: 0.782 arcsec\n"
     ]
    },
    {
     "name": "stdout",
     "output_type": "stream",
     "text": [
      "sigma_e: 193.40 km/s\n",
      "theta_E: 0.760 arcsec\n"
     ]
    },
    {
     "name": "stdout",
     "output_type": "stream",
     "text": [
      "sigma_e: 188.40 km/s\n"
     ]
    },
    {
     "name": "stdout",
     "output_type": "stream",
     "text": [
      "theta_E: 0.875 arcsec\n"
     ]
    },
    {
     "name": "stdout",
     "output_type": "stream",
     "text": [
      "sigma_e: 208.38 km/s\n",
      "theta_E: 0.843 arcsec\n"
     ]
    },
    {
     "name": "stdout",
     "output_type": "stream",
     "text": [
      "sigma_e: 203.90 km/s\n",
      "theta_E: 0.763 arcsec\n"
     ]
    },
    {
     "name": "stdout",
     "output_type": "stream",
     "text": [
      "sigma_e: 188.27 km/s\n",
      "theta_E: 0.803 arcsec\n"
     ]
    },
    {
     "name": "stdout",
     "output_type": "stream",
     "text": [
      "sigma_e: 196.89 km/s\n",
      "theta_E: 0.741 arcsec\n"
     ]
    },
    {
     "name": "stdout",
     "output_type": "stream",
     "text": [
      "sigma_e: 182.29 km/s\n",
      "theta_E: 0.941 arcsec\n"
     ]
    },
    {
     "name": "stdout",
     "output_type": "stream",
     "text": [
      "sigma_e: 215.23 km/s\n",
      "theta_E: 0.854 arcsec\n"
     ]
    },
    {
     "name": "stdout",
     "output_type": "stream",
     "text": [
      "sigma_e: 205.56 km/s\n",
      "theta_E: 0.826 arcsec\n"
     ]
    },
    {
     "name": "stdout",
     "output_type": "stream",
     "text": [
      "sigma_e: 201.22 km/s\n",
      "theta_E: 0.747 arcsec\n"
     ]
    },
    {
     "name": "stdout",
     "output_type": "stream",
     "text": [
      "sigma_e: 184.13 km/s\n",
      "theta_E: 0.797 arcsec\n"
     ]
    },
    {
     "name": "stdout",
     "output_type": "stream",
     "text": [
      "sigma_e: 195.75 km/s\n"
     ]
    },
    {
     "name": "stdout",
     "output_type": "stream",
     "text": [
      "theta_E: 0.618 arcsec\n"
     ]
    },
    {
     "name": "stdout",
     "output_type": "stream",
     "text": [
      "sigma_e: 169.79 km/s\n",
      "theta_E: 0.599 arcsec\n"
     ]
    },
    {
     "name": "stdout",
     "output_type": "stream",
     "text": [
      "sigma_e: 164.37 km/s\n",
      "theta_E: 0.598 arcsec\n"
     ]
    },
    {
     "name": "stdout",
     "output_type": "stream",
     "text": [
      "sigma_e: 164.31 km/s\n",
      "theta_E: 0.677 arcsec\n"
     ]
    },
    {
     "name": "stdout",
     "output_type": "stream",
     "text": [
      "sigma_e: 182.67 km/s\n",
      "theta_E: 0.748 arcsec\n"
     ]
    },
    {
     "name": "stdout",
     "output_type": "stream",
     "text": [
      "sigma_e: 192.05 km/s\n",
      "theta_E: 0.600 arcsec\n"
     ]
    },
    {
     "name": "stdout",
     "output_type": "stream",
     "text": [
      "sigma_e: 164.92 km/s\n",
      "theta_E: 0.622 arcsec\n"
     ]
    },
    {
     "name": "stdout",
     "output_type": "stream",
     "text": [
      "sigma_e: 171.06 km/s\n",
      "theta_E: 0.597 arcsec\n"
     ]
    },
    {
     "name": "stdout",
     "output_type": "stream",
     "text": [
      "sigma_e: 164.02 km/s\n",
      "theta_E: 0.620 arcsec\n"
     ]
    },
    {
     "name": "stdout",
     "output_type": "stream",
     "text": [
      "sigma_e: 170.43 km/s\n",
      "theta_E: 0.778 arcsec\n"
     ]
    },
    {
     "name": "stdout",
     "output_type": "stream",
     "text": [
      "sigma_e: 194.79 km/s\n"
     ]
    },
    {
     "name": "stdout",
     "output_type": "stream",
     "text": [
      "theta_E: 0.405 arcsec\n"
     ]
    },
    {
     "name": "stdout",
     "output_type": "stream",
     "text": [
      "sigma_e: 142.22 km/s\n",
      "theta_E: 0.435 arcsec\n"
     ]
    },
    {
     "name": "stdout",
     "output_type": "stream",
     "text": [
      "sigma_e: 147.26 km/s\n",
      "theta_E: 0.391 arcsec\n"
     ]
    },
    {
     "name": "stdout",
     "output_type": "stream",
     "text": [
      "sigma_e: 139.24 km/s\n",
      "theta_E: 0.445 arcsec\n"
     ]
    },
    {
     "name": "stdout",
     "output_type": "stream",
     "text": [
      "sigma_e: 148.54 km/s\n",
      "theta_E: 0.331 arcsec\n"
     ]
    },
    {
     "name": "stdout",
     "output_type": "stream",
     "text": [
      "sigma_e: 118.87 km/s\n",
      "theta_E: 0.417 arcsec\n"
     ]
    },
    {
     "name": "stdout",
     "output_type": "stream",
     "text": [
      "sigma_e: 144.45 km/s\n",
      "theta_E: 0.424 arcsec\n"
     ]
    },
    {
     "name": "stdout",
     "output_type": "stream",
     "text": [
      "sigma_e: 145.57 km/s\n",
      "theta_E: 0.354 arcsec\n"
     ]
    },
    {
     "name": "stdout",
     "output_type": "stream",
     "text": [
      "sigma_e: 128.22 km/s\n",
      "theta_E: 0.412 arcsec\n"
     ]
    },
    {
     "name": "stdout",
     "output_type": "stream",
     "text": [
      "sigma_e: 143.60 km/s\n",
      "theta_E: 0.362 arcsec\n"
     ]
    },
    {
     "name": "stdout",
     "output_type": "stream",
     "text": [
      "sigma_e: 131.18 km/s\n"
     ]
    },
    {
     "name": "stdout",
     "output_type": "stream",
     "text": [
      "theta_E: 0.970 arcsec\n"
     ]
    },
    {
     "name": "stdout",
     "output_type": "stream",
     "text": [
      "sigma_e: 218.65 km/s\n",
      "theta_E: 0.893 arcsec\n"
     ]
    },
    {
     "name": "stdout",
     "output_type": "stream",
     "text": [
      "sigma_e: 206.92 km/s\n",
      "theta_E: 1.008 arcsec\n"
     ]
    },
    {
     "name": "stdout",
     "output_type": "stream",
     "text": [
      "sigma_e: 222.72 km/s\n",
      "theta_E: 0.911 arcsec\n"
     ]
    },
    {
     "name": "stdout",
     "output_type": "stream",
     "text": [
      "sigma_e: 210.19 km/s\n",
      "theta_E: 0.998 arcsec\n"
     ]
    },
    {
     "name": "stdout",
     "output_type": "stream",
     "text": [
      "sigma_e: 221.80 km/s\n",
      "theta_E: 0.977 arcsec\n"
     ]
    },
    {
     "name": "stdout",
     "output_type": "stream",
     "text": [
      "sigma_e: 219.50 km/s\n",
      "theta_E: 0.840 arcsec\n"
     ]
    },
    {
     "name": "stdout",
     "output_type": "stream",
     "text": [
      "sigma_e: 195.41 km/s\n",
      "theta_E: 0.867 arcsec\n"
     ]
    },
    {
     "name": "stdout",
     "output_type": "stream",
     "text": [
      "sigma_e: 201.79 km/s\n",
      "theta_E: 0.899 arcsec\n"
     ]
    },
    {
     "name": "stdout",
     "output_type": "stream",
     "text": [
      "sigma_e: 208.15 km/s\n",
      "theta_E: 1.064 arcsec\n"
     ]
    },
    {
     "name": "stdout",
     "output_type": "stream",
     "text": [
      "sigma_e: 227.37 km/s\n"
     ]
    },
    {
     "name": "stdout",
     "output_type": "stream",
     "text": [
      "theta_E: 0.412 arcsec\n"
     ]
    },
    {
     "name": "stdout",
     "output_type": "stream",
     "text": [
      "sigma_e: 142.48 km/s\n",
      "theta_E: 0.379 arcsec\n"
     ]
    },
    {
     "name": "stdout",
     "output_type": "stream",
     "text": [
      "sigma_e: 136.51 km/s\n",
      "theta_E: 0.385 arcsec\n"
     ]
    },
    {
     "name": "stdout",
     "output_type": "stream",
     "text": [
      "sigma_e: 137.89 km/s\n",
      "theta_E: 0.350 arcsec\n"
     ]
    },
    {
     "name": "stdout",
     "output_type": "stream",
     "text": [
      "sigma_e: 128.41 km/s\n",
      "theta_E: 0.408 arcsec\n"
     ]
    },
    {
     "name": "stdout",
     "output_type": "stream",
     "text": [
      "sigma_e: 141.88 km/s\n",
      "theta_E: 0.356 arcsec\n"
     ]
    },
    {
     "name": "stdout",
     "output_type": "stream",
     "text": [
      "sigma_e: 130.17 km/s\n",
      "theta_E: 0.407 arcsec\n"
     ]
    },
    {
     "name": "stdout",
     "output_type": "stream",
     "text": [
      "sigma_e: 141.72 km/s\n",
      "theta_E: 0.408 arcsec\n"
     ]
    },
    {
     "name": "stdout",
     "output_type": "stream",
     "text": [
      "sigma_e: 141.88 km/s\n",
      "theta_E: 0.372 arcsec\n"
     ]
    },
    {
     "name": "stdout",
     "output_type": "stream",
     "text": [
      "sigma_e: 134.87 km/s\n",
      "theta_E: 0.367 arcsec\n"
     ]
    },
    {
     "name": "stdout",
     "output_type": "stream",
     "text": [
      "sigma_e: 133.66 km/s\n"
     ]
    },
    {
     "name": "stdout",
     "output_type": "stream",
     "text": [
      "theta_E: 0.729 arcsec\n"
     ]
    },
    {
     "name": "stdout",
     "output_type": "stream",
     "text": [
      "sigma_e: 189.22 km/s\n",
      "theta_E: 0.760 arcsec\n"
     ]
    },
    {
     "name": "stdout",
     "output_type": "stream",
     "text": [
      "sigma_e: 193.03 km/s\n",
      "theta_E: 0.686 arcsec\n"
     ]
    },
    {
     "name": "stdout",
     "output_type": "stream",
     "text": [
      "sigma_e: 182.14 km/s\n",
      "theta_E: 0.690 arcsec\n"
     ]
    },
    {
     "name": "stdout",
     "output_type": "stream",
     "text": [
      "sigma_e: 182.76 km/s\n",
      "theta_E: 0.778 arcsec\n"
     ]
    },
    {
     "name": "stdout",
     "output_type": "stream",
     "text": [
      "sigma_e: 194.73 km/s\n",
      "theta_E: 0.775 arcsec\n"
     ]
    },
    {
     "name": "stdout",
     "output_type": "stream",
     "text": [
      "sigma_e: 194.47 km/s\n",
      "theta_E: 0.671 arcsec\n"
     ]
    },
    {
     "name": "stdout",
     "output_type": "stream",
     "text": [
      "sigma_e: 178.79 km/s\n",
      "theta_E: 0.724 arcsec\n"
     ]
    },
    {
     "name": "stdout",
     "output_type": "stream",
     "text": [
      "sigma_e: 188.49 km/s\n",
      "theta_E: 0.691 arcsec\n"
     ]
    },
    {
     "name": "stdout",
     "output_type": "stream",
     "text": [
      "sigma_e: 182.98 km/s\n",
      "theta_E: 0.751 arcsec\n"
     ]
    },
    {
     "name": "stdout",
     "output_type": "stream",
     "text": [
      "sigma_e: 191.93 km/s\n"
     ]
    },
    {
     "name": "stdout",
     "output_type": "stream",
     "text": [
      "theta_E: 1.322 arcsec\n"
     ]
    },
    {
     "name": "stdout",
     "output_type": "stream",
     "text": [
      "sigma_e: 252.21 km/s\n",
      "theta_E: 1.410 arcsec\n"
     ]
    },
    {
     "name": "stdout",
     "output_type": "stream",
     "text": [
      "sigma_e: 262.94 km/s\n",
      "theta_E: 1.258 arcsec\n"
     ]
    },
    {
     "name": "stdout",
     "output_type": "stream",
     "text": [
      "sigma_e: 241.34 km/s\n",
      "theta_E: 1.257 arcsec\n"
     ]
    },
    {
     "name": "stdout",
     "output_type": "stream",
     "text": [
      "sigma_e: 241.28 km/s\n",
      "theta_E: 1.431 arcsec\n"
     ]
    },
    {
     "name": "stdout",
     "output_type": "stream",
     "text": [
      "sigma_e: 264.98 km/s\n",
      "theta_E: 1.462 arcsec\n"
     ]
    },
    {
     "name": "stdout",
     "output_type": "stream",
     "text": [
      "sigma_e: 267.71 km/s\n",
      "theta_E: 1.272 arcsec\n"
     ]
    },
    {
     "name": "stdout",
     "output_type": "stream",
     "text": [
      "sigma_e: 243.89 km/s\n",
      "theta_E: 1.438 arcsec\n"
     ]
    },
    {
     "name": "stdout",
     "output_type": "stream",
     "text": [
      "sigma_e: 265.63 km/s\n",
      "theta_E: 1.279 arcsec\n"
     ]
    },
    {
     "name": "stdout",
     "output_type": "stream",
     "text": [
      "sigma_e: 245.28 km/s\n",
      "theta_E: 1.339 arcsec\n"
     ]
    },
    {
     "name": "stdout",
     "output_type": "stream",
     "text": [
      "sigma_e: 254.56 km/s\n"
     ]
    },
    {
     "name": "stdout",
     "output_type": "stream",
     "text": [
      "theta_E: 0.752 arcsec\n"
     ]
    },
    {
     "name": "stdout",
     "output_type": "stream",
     "text": [
      "sigma_e: 184.95 km/s\n",
      "theta_E: 0.868 arcsec\n"
     ]
    },
    {
     "name": "stdout",
     "output_type": "stream",
     "text": [
      "sigma_e: 207.49 km/s\n",
      "theta_E: 0.876 arcsec\n"
     ]
    },
    {
     "name": "stdout",
     "output_type": "stream",
     "text": [
      "sigma_e: 208.47 km/s\n",
      "theta_E: 0.878 arcsec\n"
     ]
    },
    {
     "name": "stdout",
     "output_type": "stream",
     "text": [
      "sigma_e: 208.81 km/s\n",
      "theta_E: 0.780 arcsec\n"
     ]
    },
    {
     "name": "stdout",
     "output_type": "stream",
     "text": [
      "sigma_e: 191.88 km/s\n",
      "theta_E: 0.896 arcsec\n"
     ]
    },
    {
     "name": "stdout",
     "output_type": "stream",
     "text": [
      "sigma_e: 210.89 km/s\n",
      "theta_E: 0.753 arcsec\n"
     ]
    },
    {
     "name": "stdout",
     "output_type": "stream",
     "text": [
      "sigma_e: 185.32 km/s\n",
      "theta_E: 0.897 arcsec\n"
     ]
    },
    {
     "name": "stdout",
     "output_type": "stream",
     "text": [
      "sigma_e: 211.00 km/s\n",
      "theta_E: 0.849 arcsec\n"
     ]
    },
    {
     "name": "stdout",
     "output_type": "stream",
     "text": [
      "sigma_e: 204.75 km/s\n",
      "theta_E: 0.797 arcsec\n"
     ]
    },
    {
     "name": "stdout",
     "output_type": "stream",
     "text": [
      "sigma_e: 195.53 km/s\n"
     ]
    },
    {
     "name": "stdout",
     "output_type": "stream",
     "text": [
      "theta_E: 0.917 arcsec\n"
     ]
    },
    {
     "name": "stdout",
     "output_type": "stream",
     "text": [
      "sigma_e: 210.03 km/s\n",
      "theta_E: 0.939 arcsec\n"
     ]
    },
    {
     "name": "stdout",
     "output_type": "stream",
     "text": [
      "sigma_e: 213.75 km/s\n",
      "theta_E: 1.023 arcsec\n"
     ]
    },
    {
     "name": "stdout",
     "output_type": "stream",
     "text": [
      "sigma_e: 223.85 km/s\n",
      "theta_E: 0.894 arcsec\n"
     ]
    },
    {
     "name": "stdout",
     "output_type": "stream",
     "text": [
      "sigma_e: 205.49 km/s\n",
      "theta_E: 0.932 arcsec\n"
     ]
    },
    {
     "name": "stdout",
     "output_type": "stream",
     "text": [
      "sigma_e: 212.69 km/s\n",
      "theta_E: 0.996 arcsec\n"
     ]
    },
    {
     "name": "stdout",
     "output_type": "stream",
     "text": [
      "sigma_e: 221.20 km/s\n",
      "theta_E: 0.909 arcsec\n"
     ]
    },
    {
     "name": "stdout",
     "output_type": "stream",
     "text": [
      "sigma_e: 208.59 km/s\n",
      "theta_E: 0.976 arcsec\n"
     ]
    },
    {
     "name": "stdout",
     "output_type": "stream",
     "text": [
      "sigma_e: 218.87 km/s\n",
      "theta_E: 0.897 arcsec\n"
     ]
    },
    {
     "name": "stdout",
     "output_type": "stream",
     "text": [
      "sigma_e: 206.18 km/s\n",
      "theta_E: 0.941 arcsec\n"
     ]
    },
    {
     "name": "stdout",
     "output_type": "stream",
     "text": [
      "sigma_e: 214.04 km/s\n"
     ]
    },
    {
     "name": "stdout",
     "output_type": "stream",
     "text": [
      "theta_E: 0.691 arcsec\n"
     ]
    },
    {
     "name": "stdout",
     "output_type": "stream",
     "text": [
      "sigma_e: 185.14 km/s\n",
      "theta_E: 0.560 arcsec\n"
     ]
    },
    {
     "name": "stdout",
     "output_type": "stream",
     "text": [
      "sigma_e: 158.47 km/s\n",
      "theta_E: 0.729 arcsec\n"
     ]
    },
    {
     "name": "stdout",
     "output_type": "stream",
     "text": [
      "sigma_e: 189.05 km/s\n",
      "theta_E: 0.645 arcsec\n"
     ]
    },
    {
     "name": "stdout",
     "output_type": "stream",
     "text": [
      "sigma_e: 178.52 km/s\n",
      "theta_E: 0.646 arcsec\n"
     ]
    },
    {
     "name": "stdout",
     "output_type": "stream",
     "text": [
      "sigma_e: 178.81 km/s\n",
      "theta_E: 0.589 arcsec\n"
     ]
    },
    {
     "name": "stdout",
     "output_type": "stream",
     "text": [
      "sigma_e: 166.87 km/s\n",
      "theta_E: 0.572 arcsec\n"
     ]
    },
    {
     "name": "stdout",
     "output_type": "stream",
     "text": [
      "sigma_e: 162.23 km/s\n",
      "theta_E: 0.594 arcsec\n"
     ]
    },
    {
     "name": "stdout",
     "output_type": "stream",
     "text": [
      "sigma_e: 168.09 km/s\n",
      "theta_E: 0.656 arcsec\n"
     ]
    },
    {
     "name": "stdout",
     "output_type": "stream",
     "text": [
      "sigma_e: 180.40 km/s\n",
      "theta_E: 0.721 arcsec\n"
     ]
    },
    {
     "name": "stdout",
     "output_type": "stream",
     "text": [
      "sigma_e: 188.34 km/s\n"
     ]
    },
    {
     "name": "stdout",
     "output_type": "stream",
     "text": [
      "theta_E: 0.737 arcsec\n"
     ]
    },
    {
     "name": "stdout",
     "output_type": "stream",
     "text": [
      "sigma_e: 189.64 km/s\n",
      "theta_E: 0.672 arcsec\n"
     ]
    },
    {
     "name": "stdout",
     "output_type": "stream",
     "text": [
      "sigma_e: 180.41 km/s\n",
      "theta_E: 0.738 arcsec\n"
     ]
    },
    {
     "name": "stdout",
     "output_type": "stream",
     "text": [
      "sigma_e: 189.71 km/s\n",
      "theta_E: 0.719 arcsec\n"
     ]
    },
    {
     "name": "stdout",
     "output_type": "stream",
     "text": [
      "sigma_e: 187.56 km/s\n",
      "theta_E: 0.664 arcsec\n"
     ]
    },
    {
     "name": "stdout",
     "output_type": "stream",
     "text": [
      "sigma_e: 178.95 km/s\n",
      "theta_E: 0.716 arcsec\n"
     ]
    },
    {
     "name": "stdout",
     "output_type": "stream",
     "text": [
      "sigma_e: 187.23 km/s\n",
      "theta_E: 0.712 arcsec\n"
     ]
    },
    {
     "name": "stdout",
     "output_type": "stream",
     "text": [
      "sigma_e: 186.67 km/s\n",
      "theta_E: 0.731 arcsec\n"
     ]
    },
    {
     "name": "stdout",
     "output_type": "stream",
     "text": [
      "sigma_e: 188.93 km/s\n",
      "theta_E: 0.747 arcsec\n"
     ]
    },
    {
     "name": "stdout",
     "output_type": "stream",
     "text": [
      "sigma_e: 190.63 km/s\n",
      "theta_E: 0.658 arcsec\n"
     ]
    },
    {
     "name": "stdout",
     "output_type": "stream",
     "text": [
      "sigma_e: 177.59 km/s\n"
     ]
    },
    {
     "name": "stdout",
     "output_type": "stream",
     "text": [
      "theta_E: 0.683 arcsec\n"
     ]
    },
    {
     "name": "stdout",
     "output_type": "stream",
     "text": [
      "sigma_e: 184.02 km/s\n",
      "theta_E: 0.608 arcsec\n"
     ]
    },
    {
     "name": "stdout",
     "output_type": "stream",
     "text": [
      "sigma_e: 172.70 km/s\n",
      "theta_E: 0.566 arcsec\n"
     ]
    },
    {
     "name": "stdout",
     "output_type": "stream",
     "text": [
      "sigma_e: 162.57 km/s\n",
      "theta_E: 0.696 arcsec\n"
     ]
    },
    {
     "name": "stdout",
     "output_type": "stream",
     "text": [
      "sigma_e: 185.40 km/s\n",
      "theta_E: 0.686 arcsec\n"
     ]
    },
    {
     "name": "stdout",
     "output_type": "stream",
     "text": [
      "sigma_e: 184.38 km/s\n",
      "theta_E: 0.549 arcsec\n"
     ]
    },
    {
     "name": "stdout",
     "output_type": "stream",
     "text": [
      "sigma_e: 157.52 km/s\n",
      "theta_E: 0.548 arcsec\n"
     ]
    },
    {
     "name": "stdout",
     "output_type": "stream",
     "text": [
      "sigma_e: 157.15 km/s\n",
      "theta_E: 0.549 arcsec\n"
     ]
    },
    {
     "name": "stdout",
     "output_type": "stream",
     "text": [
      "sigma_e: 157.62 km/s\n",
      "theta_E: 0.711 arcsec\n"
     ]
    },
    {
     "name": "stdout",
     "output_type": "stream",
     "text": [
      "sigma_e: 186.79 km/s\n",
      "theta_E: 0.625 arcsec\n"
     ]
    },
    {
     "name": "stdout",
     "output_type": "stream",
     "text": [
      "sigma_e: 175.79 km/s\n"
     ]
    },
    {
     "name": "stdout",
     "output_type": "stream",
     "text": [
      "theta_E: 0.627 arcsec\n"
     ]
    },
    {
     "name": "stdout",
     "output_type": "stream",
     "text": [
      "sigma_e: 175.88 km/s\n",
      "theta_E: 0.646 arcsec\n"
     ]
    },
    {
     "name": "stdout",
     "output_type": "stream",
     "text": [
      "sigma_e: 178.90 km/s\n",
      "theta_E: 0.637 arcsec\n"
     ]
    },
    {
     "name": "stdout",
     "output_type": "stream",
     "text": [
      "sigma_e: 177.51 km/s\n",
      "theta_E: 0.680 arcsec\n"
     ]
    },
    {
     "name": "stdout",
     "output_type": "stream",
     "text": [
      "sigma_e: 183.42 km/s\n",
      "theta_E: 0.567 arcsec\n"
     ]
    },
    {
     "name": "stdout",
     "output_type": "stream",
     "text": [
      "sigma_e: 162.22 km/s\n",
      "theta_E: 0.565 arcsec\n"
     ]
    },
    {
     "name": "stdout",
     "output_type": "stream",
     "text": [
      "sigma_e: 161.56 km/s\n",
      "theta_E: 0.592 arcsec\n"
     ]
    },
    {
     "name": "stdout",
     "output_type": "stream",
     "text": [
      "sigma_e: 168.70 km/s\n",
      "theta_E: 0.559 arcsec\n"
     ]
    },
    {
     "name": "stdout",
     "output_type": "stream",
     "text": [
      "sigma_e: 159.87 km/s\n",
      "theta_E: 0.605 arcsec\n"
     ]
    },
    {
     "name": "stdout",
     "output_type": "stream",
     "text": [
      "sigma_e: 171.57 km/s\n",
      "theta_E: 0.684 arcsec\n"
     ]
    },
    {
     "name": "stdout",
     "output_type": "stream",
     "text": [
      "sigma_e: 183.80 km/s\n"
     ]
    },
    {
     "name": "stdout",
     "output_type": "stream",
     "text": [
      "theta_E: 0.916 arcsec\n"
     ]
    },
    {
     "name": "stdout",
     "output_type": "stream",
     "text": [
      "sigma_e: 200.81 km/s\n",
      "theta_E: 1.063 arcsec\n"
     ]
    },
    {
     "name": "stdout",
     "output_type": "stream",
     "text": [
      "sigma_e: 227.61 km/s\n",
      "theta_E: 1.121 arcsec\n"
     ]
    },
    {
     "name": "stdout",
     "output_type": "stream",
     "text": [
      "sigma_e: 233.96 km/s\n",
      "theta_E: 1.081 arcsec\n"
     ]
    },
    {
     "name": "stdout",
     "output_type": "stream",
     "text": [
      "sigma_e: 229.95 km/s\n",
      "theta_E: 1.043 arcsec\n"
     ]
    },
    {
     "name": "stdout",
     "output_type": "stream",
     "text": [
      "sigma_e: 225.09 km/s\n",
      "theta_E: 1.192 arcsec\n"
     ]
    },
    {
     "name": "stdout",
     "output_type": "stream",
     "text": [
      "sigma_e: 239.41 km/s\n",
      "theta_E: 0.941 arcsec\n"
     ]
    },
    {
     "name": "stdout",
     "output_type": "stream",
     "text": [
      "sigma_e: 206.95 km/s\n",
      "theta_E: 1.172 arcsec\n"
     ]
    },
    {
     "name": "stdout",
     "output_type": "stream",
     "text": [
      "sigma_e: 238.00 km/s\n",
      "theta_E: 1.004 arcsec\n"
     ]
    },
    {
     "name": "stdout",
     "output_type": "stream",
     "text": [
      "sigma_e: 219.30 km/s\n",
      "theta_E: 0.986 arcsec\n"
     ]
    },
    {
     "name": "stdout",
     "output_type": "stream",
     "text": [
      "sigma_e: 216.08 km/s\n"
     ]
    },
    {
     "name": "stdout",
     "output_type": "stream",
     "text": [
      "theta_E: 0.664 arcsec\n"
     ]
    },
    {
     "name": "stdout",
     "output_type": "stream",
     "text": [
      "sigma_e: 178.58 km/s\n",
      "theta_E: 0.710 arcsec\n"
     ]
    },
    {
     "name": "stdout",
     "output_type": "stream",
     "text": [
      "sigma_e: 187.01 km/s\n",
      "theta_E: 0.723 arcsec\n"
     ]
    },
    {
     "name": "stdout",
     "output_type": "stream",
     "text": [
      "sigma_e: 188.83 km/s\n",
      "theta_E: 0.654 arcsec\n"
     ]
    },
    {
     "name": "stdout",
     "output_type": "stream",
     "text": [
      "sigma_e: 176.39 km/s\n",
      "theta_E: 0.740 arcsec\n"
     ]
    },
    {
     "name": "stdout",
     "output_type": "stream",
     "text": [
      "sigma_e: 190.98 km/s\n",
      "theta_E: 0.665 arcsec\n"
     ]
    },
    {
     "name": "stdout",
     "output_type": "stream",
     "text": [
      "sigma_e: 178.85 km/s\n",
      "theta_E: 0.674 arcsec\n"
     ]
    },
    {
     "name": "stdout",
     "output_type": "stream",
     "text": [
      "sigma_e: 180.84 km/s\n",
      "theta_E: 0.774 arcsec\n"
     ]
    },
    {
     "name": "stdout",
     "output_type": "stream",
     "text": [
      "sigma_e: 194.61 km/s\n",
      "theta_E: 0.663 arcsec\n"
     ]
    },
    {
     "name": "stdout",
     "output_type": "stream",
     "text": [
      "sigma_e: 178.53 km/s\n",
      "theta_E: 0.712 arcsec\n"
     ]
    },
    {
     "name": "stdout",
     "output_type": "stream",
     "text": [
      "sigma_e: 187.25 km/s\n"
     ]
    },
    {
     "name": "stdout",
     "output_type": "stream",
     "text": [
      "theta_E: 0.627 arcsec\n"
     ]
    },
    {
     "name": "stdout",
     "output_type": "stream",
     "text": [
      "sigma_e: 176.58 km/s\n",
      "theta_E: 0.515 arcsec\n"
     ]
    },
    {
     "name": "stdout",
     "output_type": "stream",
     "text": [
      "sigma_e: 151.72 km/s\n",
      "theta_E: 0.658 arcsec\n"
     ]
    },
    {
     "name": "stdout",
     "output_type": "stream",
     "text": [
      "sigma_e: 180.32 km/s\n",
      "theta_E: 0.586 arcsec\n"
     ]
    },
    {
     "name": "stdout",
     "output_type": "stream",
     "text": [
      "sigma_e: 169.94 km/s\n",
      "theta_E: 0.605 arcsec\n"
     ]
    },
    {
     "name": "stdout",
     "output_type": "stream",
     "text": [
      "sigma_e: 173.37 km/s\n",
      "theta_E: 0.670 arcsec\n"
     ]
    },
    {
     "name": "stdout",
     "output_type": "stream",
     "text": [
      "sigma_e: 181.49 km/s\n",
      "theta_E: 0.518 arcsec\n"
     ]
    },
    {
     "name": "stdout",
     "output_type": "stream",
     "text": [
      "sigma_e: 152.67 km/s\n",
      "theta_E: 0.591 arcsec\n"
     ]
    },
    {
     "name": "stdout",
     "output_type": "stream",
     "text": [
      "sigma_e: 170.93 km/s\n",
      "theta_E: 0.603 arcsec\n"
     ]
    },
    {
     "name": "stdout",
     "output_type": "stream",
     "text": [
      "sigma_e: 173.00 km/s\n",
      "theta_E: 0.583 arcsec\n"
     ]
    },
    {
     "name": "stdout",
     "output_type": "stream",
     "text": [
      "sigma_e: 169.38 km/s\n"
     ]
    },
    {
     "name": "stdout",
     "output_type": "stream",
     "text": [
      "theta_E: 0.412 arcsec\n"
     ]
    },
    {
     "name": "stdout",
     "output_type": "stream",
     "text": [
      "sigma_e: 140.29 km/s\n",
      "theta_E: 0.497 arcsec\n"
     ]
    },
    {
     "name": "stdout",
     "output_type": "stream",
     "text": [
      "sigma_e: 156.43 km/s\n",
      "theta_E: 0.394 arcsec\n"
     ]
    },
    {
     "name": "stdout",
     "output_type": "stream",
     "text": [
      "sigma_e: 134.82 km/s\n",
      "theta_E: 0.463 arcsec\n"
     ]
    },
    {
     "name": "stdout",
     "output_type": "stream",
     "text": [
      "sigma_e: 151.71 km/s\n",
      "theta_E: 0.407 arcsec\n"
     ]
    },
    {
     "name": "stdout",
     "output_type": "stream",
     "text": [
      "sigma_e: 138.86 km/s\n",
      "theta_E: 0.389 arcsec\n"
     ]
    },
    {
     "name": "stdout",
     "output_type": "stream",
     "text": [
      "sigma_e: 132.70 km/s\n",
      "theta_E: 0.494 arcsec\n"
     ]
    },
    {
     "name": "stdout",
     "output_type": "stream",
     "text": [
      "sigma_e: 156.10 km/s\n",
      "theta_E: 0.423 arcsec\n"
     ]
    },
    {
     "name": "stdout",
     "output_type": "stream",
     "text": [
      "sigma_e: 143.56 km/s\n",
      "theta_E: 0.500 arcsec\n"
     ]
    },
    {
     "name": "stdout",
     "output_type": "stream",
     "text": [
      "sigma_e: 156.74 km/s\n",
      "theta_E: 0.384 arcsec\n"
     ]
    },
    {
     "name": "stdout",
     "output_type": "stream",
     "text": [
      "sigma_e: 131.07 km/s\n"
     ]
    },
    {
     "name": "stdout",
     "output_type": "stream",
     "text": [
      "theta_E: 0.661 arcsec\n"
     ]
    },
    {
     "name": "stdout",
     "output_type": "stream",
     "text": [
      "sigma_e: 180.26 km/s\n",
      "theta_E: 0.684 arcsec\n"
     ]
    },
    {
     "name": "stdout",
     "output_type": "stream",
     "text": [
      "sigma_e: 182.69 km/s\n",
      "theta_E: 0.609 arcsec\n"
     ]
    },
    {
     "name": "stdout",
     "output_type": "stream",
     "text": [
      "sigma_e: 171.89 km/s\n",
      "theta_E: 0.676 arcsec\n"
     ]
    },
    {
     "name": "stdout",
     "output_type": "stream",
     "text": [
      "sigma_e: 181.94 km/s\n",
      "theta_E: 0.683 arcsec\n"
     ]
    },
    {
     "name": "stdout",
     "output_type": "stream",
     "text": [
      "sigma_e: 182.61 km/s\n",
      "theta_E: 0.645 arcsec\n"
     ]
    },
    {
     "name": "stdout",
     "output_type": "stream",
     "text": [
      "sigma_e: 178.16 km/s\n",
      "theta_E: 0.636 arcsec\n"
     ]
    },
    {
     "name": "stdout",
     "output_type": "stream",
     "text": [
      "sigma_e: 176.82 km/s\n",
      "theta_E: 0.605 arcsec\n"
     ]
    },
    {
     "name": "stdout",
     "output_type": "stream",
     "text": [
      "sigma_e: 171.04 km/s\n",
      "theta_E: 0.616 arcsec\n"
     ]
    },
    {
     "name": "stdout",
     "output_type": "stream",
     "text": [
      "sigma_e: 173.26 km/s\n",
      "theta_E: 0.605 arcsec\n"
     ]
    },
    {
     "name": "stdout",
     "output_type": "stream",
     "text": [
      "sigma_e: 171.17 km/s\n"
     ]
    },
    {
     "name": "stdout",
     "output_type": "stream",
     "text": [
      "theta_E: 0.386 arcsec\n"
     ]
    },
    {
     "name": "stdout",
     "output_type": "stream",
     "text": [
      "sigma_e: 136.33 km/s\n",
      "theta_E: 0.391 arcsec\n"
     ]
    },
    {
     "name": "stdout",
     "output_type": "stream",
     "text": [
      "sigma_e: 137.43 km/s\n",
      "theta_E: 0.425 arcsec\n"
     ]
    },
    {
     "name": "stdout",
     "output_type": "stream",
     "text": [
      "sigma_e: 144.15 km/s\n",
      "theta_E: 0.389 arcsec\n"
     ]
    },
    {
     "name": "stdout",
     "output_type": "stream",
     "text": [
      "sigma_e: 137.15 km/s\n",
      "theta_E: 0.387 arcsec\n"
     ]
    },
    {
     "name": "stdout",
     "output_type": "stream",
     "text": [
      "sigma_e: 136.45 km/s\n",
      "theta_E: 0.424 arcsec\n"
     ]
    },
    {
     "name": "stdout",
     "output_type": "stream",
     "text": [
      "sigma_e: 144.04 km/s\n",
      "theta_E: 0.426 arcsec\n"
     ]
    },
    {
     "name": "stdout",
     "output_type": "stream",
     "text": [
      "sigma_e: 144.31 km/s\n",
      "theta_E: 0.430 arcsec\n"
     ]
    },
    {
     "name": "stdout",
     "output_type": "stream",
     "text": [
      "sigma_e: 144.82 km/s\n",
      "theta_E: 0.424 arcsec\n"
     ]
    },
    {
     "name": "stdout",
     "output_type": "stream",
     "text": [
      "sigma_e: 144.11 km/s\n",
      "theta_E: 0.396 arcsec\n"
     ]
    },
    {
     "name": "stdout",
     "output_type": "stream",
     "text": [
      "sigma_e: 138.76 km/s\n"
     ]
    },
    {
     "name": "stdout",
     "output_type": "stream",
     "text": [
      "theta_E: 0.740 arcsec\n"
     ]
    },
    {
     "name": "stdout",
     "output_type": "stream",
     "text": [
      "sigma_e: 184.05 km/s\n",
      "theta_E: 0.937 arcsec\n"
     ]
    },
    {
     "name": "stdout",
     "output_type": "stream",
     "text": [
      "sigma_e: 213.82 km/s\n",
      "theta_E: 0.836 arcsec\n"
     ]
    },
    {
     "name": "stdout",
     "output_type": "stream",
     "text": [
      "sigma_e: 203.07 km/s\n",
      "theta_E: 0.897 arcsec\n"
     ]
    },
    {
     "name": "stdout",
     "output_type": "stream",
     "text": [
      "sigma_e: 210.33 km/s\n",
      "theta_E: 0.862 arcsec\n"
     ]
    },
    {
     "name": "stdout",
     "output_type": "stream",
     "text": [
      "sigma_e: 206.58 km/s\n",
      "theta_E: 0.830 arcsec\n"
     ]
    },
    {
     "name": "stdout",
     "output_type": "stream",
     "text": [
      "sigma_e: 202.27 km/s\n",
      "theta_E: 0.776 arcsec\n"
     ]
    },
    {
     "name": "stdout",
     "output_type": "stream",
     "text": [
      "sigma_e: 192.51 km/s\n",
      "theta_E: 0.734 arcsec\n"
     ]
    },
    {
     "name": "stdout",
     "output_type": "stream",
     "text": [
      "sigma_e: 182.45 km/s\n",
      "theta_E: 0.775 arcsec\n"
     ]
    },
    {
     "name": "stdout",
     "output_type": "stream",
     "text": [
      "sigma_e: 192.29 km/s\n",
      "theta_E: 0.812 arcsec\n"
     ]
    },
    {
     "name": "stdout",
     "output_type": "stream",
     "text": [
      "sigma_e: 199.33 km/s\n"
     ]
    },
    {
     "name": "stdout",
     "output_type": "stream",
     "text": [
      "theta_E: 0.461 arcsec\n"
     ]
    },
    {
     "name": "stdout",
     "output_type": "stream",
     "text": [
      "sigma_e: 151.48 km/s\n",
      "theta_E: 0.512 arcsec\n"
     ]
    },
    {
     "name": "stdout",
     "output_type": "stream",
     "text": [
      "sigma_e: 158.56 km/s\n",
      "theta_E: 0.445 arcsec\n"
     ]
    },
    {
     "name": "stdout",
     "output_type": "stream",
     "text": [
      "sigma_e: 148.05 km/s\n",
      "theta_E: 0.444 arcsec\n"
     ]
    },
    {
     "name": "stdout",
     "output_type": "stream",
     "text": [
      "sigma_e: 147.94 km/s\n",
      "theta_E: 0.511 arcsec\n"
     ]
    },
    {
     "name": "stdout",
     "output_type": "stream",
     "text": [
      "sigma_e: 158.44 km/s\n",
      "theta_E: 0.437 arcsec\n"
     ]
    },
    {
     "name": "stdout",
     "output_type": "stream",
     "text": [
      "sigma_e: 146.14 km/s\n",
      "theta_E: 0.465 arcsec\n"
     ]
    },
    {
     "name": "stdout",
     "output_type": "stream",
     "text": [
      "sigma_e: 152.14 km/s\n",
      "theta_E: 0.428 arcsec\n"
     ]
    },
    {
     "name": "stdout",
     "output_type": "stream",
     "text": [
      "sigma_e: 143.69 km/s\n",
      "theta_E: 0.457 arcsec\n"
     ]
    },
    {
     "name": "stdout",
     "output_type": "stream",
     "text": [
      "sigma_e: 150.72 km/s\n",
      "theta_E: 0.430 arcsec\n"
     ]
    },
    {
     "name": "stdout",
     "output_type": "stream",
     "text": [
      "sigma_e: 144.42 km/s\n"
     ]
    },
    {
     "name": "stdout",
     "output_type": "stream",
     "text": [
      "theta_E: 0.568 arcsec\n"
     ]
    },
    {
     "name": "stdout",
     "output_type": "stream",
     "text": [
      "sigma_e: 163.99 km/s\n",
      "theta_E: 0.570 arcsec\n"
     ]
    },
    {
     "name": "stdout",
     "output_type": "stream",
     "text": [
      "sigma_e: 164.59 km/s\n",
      "theta_E: 0.618 arcsec\n"
     ]
    },
    {
     "name": "stdout",
     "output_type": "stream",
     "text": [
      "sigma_e: 174.26 km/s\n",
      "theta_E: 0.579 arcsec\n"
     ]
    },
    {
     "name": "stdout",
     "output_type": "stream",
     "text": [
      "sigma_e: 166.72 km/s\n",
      "theta_E: 0.560 arcsec\n"
     ]
    },
    {
     "name": "stdout",
     "output_type": "stream",
     "text": [
      "sigma_e: 161.88 km/s\n",
      "theta_E: 0.634 arcsec\n"
     ]
    },
    {
     "name": "stdout",
     "output_type": "stream",
     "text": [
      "sigma_e: 176.48 km/s\n",
      "theta_E: 0.580 arcsec\n"
     ]
    },
    {
     "name": "stdout",
     "output_type": "stream",
     "text": [
      "sigma_e: 166.90 km/s\n",
      "theta_E: 0.566 arcsec\n"
     ]
    },
    {
     "name": "stdout",
     "output_type": "stream",
     "text": [
      "sigma_e: 163.66 km/s\n",
      "theta_E: 0.618 arcsec\n"
     ]
    },
    {
     "name": "stdout",
     "output_type": "stream",
     "text": [
      "sigma_e: 174.25 km/s\n",
      "theta_E: 0.558 arcsec\n"
     ]
    },
    {
     "name": "stdout",
     "output_type": "stream",
     "text": [
      "sigma_e: 161.35 km/s\n"
     ]
    },
    {
     "name": "stdout",
     "output_type": "stream",
     "text": [
      "theta_E: 0.444 arcsec\n"
     ]
    },
    {
     "name": "stdout",
     "output_type": "stream",
     "text": [
      "sigma_e: 148.43 km/s\n",
      "theta_E: 0.409 arcsec\n"
     ]
    },
    {
     "name": "stdout",
     "output_type": "stream",
     "text": [
      "sigma_e: 141.79 km/s\n",
      "theta_E: 0.442 arcsec\n"
     ]
    },
    {
     "name": "stdout",
     "output_type": "stream",
     "text": [
      "sigma_e: 148.17 km/s\n",
      "theta_E: 0.423 arcsec\n"
     ]
    },
    {
     "name": "stdout",
     "output_type": "stream",
     "text": [
      "sigma_e: 144.89 km/s\n",
      "theta_E: 0.397 arcsec\n"
     ]
    },
    {
     "name": "stdout",
     "output_type": "stream",
     "text": [
      "sigma_e: 138.57 km/s\n",
      "theta_E: 0.381 arcsec\n"
     ]
    },
    {
     "name": "stdout",
     "output_type": "stream",
     "text": [
      "sigma_e: 133.73 km/s\n",
      "theta_E: 0.459 arcsec\n"
     ]
    },
    {
     "name": "stdout",
     "output_type": "stream",
     "text": [
      "sigma_e: 150.69 km/s\n",
      "theta_E: 0.375 arcsec\n"
     ]
    },
    {
     "name": "stdout",
     "output_type": "stream",
     "text": [
      "sigma_e: 131.62 km/s\n",
      "theta_E: 0.379 arcsec\n"
     ]
    },
    {
     "name": "stdout",
     "output_type": "stream",
     "text": [
      "sigma_e: 133.06 km/s\n",
      "theta_E: 0.375 arcsec\n"
     ]
    },
    {
     "name": "stdout",
     "output_type": "stream",
     "text": [
      "sigma_e: 131.79 km/s\n"
     ]
    },
    {
     "name": "stdout",
     "output_type": "stream",
     "text": [
      "theta_E: 0.489 arcsec\n"
     ]
    },
    {
     "name": "stdout",
     "output_type": "stream",
     "text": [
      "sigma_e: 153.49 km/s\n",
      "theta_E: 0.512 arcsec\n"
     ]
    },
    {
     "name": "stdout",
     "output_type": "stream",
     "text": [
      "sigma_e: 158.81 km/s\n",
      "theta_E: 0.462 arcsec\n"
     ]
    },
    {
     "name": "stdout",
     "output_type": "stream",
     "text": [
      "sigma_e: 145.44 km/s\n",
      "theta_E: 0.475 arcsec\n"
     ]
    },
    {
     "name": "stdout",
     "output_type": "stream",
     "text": [
      "sigma_e: 149.58 km/s\n",
      "theta_E: 0.488 arcsec\n"
     ]
    },
    {
     "name": "stdout",
     "output_type": "stream",
     "text": [
      "sigma_e: 153.32 km/s\n",
      "theta_E: 0.558 arcsec\n"
     ]
    },
    {
     "name": "stdout",
     "output_type": "stream",
     "text": [
      "sigma_e: 166.60 km/s\n",
      "theta_E: 0.539 arcsec\n"
     ]
    },
    {
     "name": "stdout",
     "output_type": "stream",
     "text": [
      "sigma_e: 163.86 km/s\n",
      "theta_E: 0.585 arcsec\n"
     ]
    },
    {
     "name": "stdout",
     "output_type": "stream",
     "text": [
      "sigma_e: 169.78 km/s\n",
      "theta_E: 0.475 arcsec\n"
     ]
    },
    {
     "name": "stdout",
     "output_type": "stream",
     "text": [
      "sigma_e: 149.60 km/s\n",
      "theta_E: 0.579 arcsec\n"
     ]
    },
    {
     "name": "stdout",
     "output_type": "stream",
     "text": [
      "sigma_e: 169.08 km/s\n"
     ]
    },
    {
     "name": "stdout",
     "output_type": "stream",
     "text": [
      "theta_E: 0.547 arcsec\n"
     ]
    },
    {
     "name": "stdout",
     "output_type": "stream",
     "text": [
      "sigma_e: 164.66 km/s\n",
      "theta_E: 0.479 arcsec\n"
     ]
    },
    {
     "name": "stdout",
     "output_type": "stream",
     "text": [
      "sigma_e: 149.56 km/s\n",
      "theta_E: 0.595 arcsec\n"
     ]
    },
    {
     "name": "stdout",
     "output_type": "stream",
     "text": [
      "sigma_e: 170.69 km/s\n",
      "theta_E: 0.538 arcsec\n"
     ]
    },
    {
     "name": "stdout",
     "output_type": "stream",
     "text": [
      "sigma_e: 163.27 km/s\n",
      "theta_E: 0.490 arcsec\n"
     ]
    },
    {
     "name": "stdout",
     "output_type": "stream",
     "text": [
      "sigma_e: 152.87 km/s\n",
      "theta_E: 0.470 arcsec\n"
     ]
    },
    {
     "name": "stdout",
     "output_type": "stream",
     "text": [
      "sigma_e: 146.63 km/s\n",
      "theta_E: 0.488 arcsec\n"
     ]
    },
    {
     "name": "stdout",
     "output_type": "stream",
     "text": [
      "sigma_e: 152.15 km/s\n",
      "theta_E: 0.570 arcsec\n"
     ]
    },
    {
     "name": "stdout",
     "output_type": "stream",
     "text": [
      "sigma_e: 167.91 km/s\n",
      "theta_E: 0.473 arcsec\n"
     ]
    },
    {
     "name": "stdout",
     "output_type": "stream",
     "text": [
      "sigma_e: 147.54 km/s\n",
      "theta_E: 0.476 arcsec\n"
     ]
    },
    {
     "name": "stdout",
     "output_type": "stream",
     "text": [
      "sigma_e: 148.59 km/s\n"
     ]
    },
    {
     "name": "stdout",
     "output_type": "stream",
     "text": [
      "theta_E: 0.605 arcsec\n"
     ]
    },
    {
     "name": "stdout",
     "output_type": "stream",
     "text": [
      "sigma_e: 164.50 km/s\n",
      "theta_E: 0.657 arcsec\n"
     ]
    },
    {
     "name": "stdout",
     "output_type": "stream",
     "text": [
      "sigma_e: 178.26 km/s\n",
      "theta_E: 0.680 arcsec\n"
     ]
    },
    {
     "name": "stdout",
     "output_type": "stream",
     "text": [
      "sigma_e: 182.82 km/s\n",
      "theta_E: 0.624 arcsec\n"
     ]
    },
    {
     "name": "stdout",
     "output_type": "stream",
     "text": [
      "sigma_e: 170.13 km/s\n",
      "theta_E: 0.627 arcsec\n"
     ]
    },
    {
     "name": "stdout",
     "output_type": "stream",
     "text": [
      "sigma_e: 170.99 km/s\n",
      "theta_E: 0.605 arcsec\n"
     ]
    },
    {
     "name": "stdout",
     "output_type": "stream",
     "text": [
      "sigma_e: 164.62 km/s\n",
      "theta_E: 0.764 arcsec\n"
     ]
    },
    {
     "name": "stdout",
     "output_type": "stream",
     "text": [
      "sigma_e: 194.47 km/s\n",
      "theta_E: 0.787 arcsec\n"
     ]
    },
    {
     "name": "stdout",
     "output_type": "stream",
     "text": [
      "sigma_e: 196.59 km/s\n",
      "theta_E: 0.651 arcsec\n"
     ]
    },
    {
     "name": "stdout",
     "output_type": "stream",
     "text": [
      "sigma_e: 176.89 km/s\n",
      "theta_E: 0.605 arcsec\n"
     ]
    },
    {
     "name": "stdout",
     "output_type": "stream",
     "text": [
      "sigma_e: 164.69 km/s\n"
     ]
    },
    {
     "name": "stdout",
     "output_type": "stream",
     "text": [
      "theta_E: 0.409 arcsec\n"
     ]
    },
    {
     "name": "stdout",
     "output_type": "stream",
     "text": [
      "sigma_e: 139.48 km/s\n",
      "theta_E: 0.494 arcsec\n"
     ]
    },
    {
     "name": "stdout",
     "output_type": "stream",
     "text": [
      "sigma_e: 156.76 km/s\n",
      "theta_E: 0.456 arcsec\n"
     ]
    },
    {
     "name": "stdout",
     "output_type": "stream",
     "text": [
      "sigma_e: 150.86 km/s\n",
      "theta_E: 0.458 arcsec\n"
     ]
    },
    {
     "name": "stdout",
     "output_type": "stream",
     "text": [
      "sigma_e: 151.35 km/s\n",
      "theta_E: 0.388 arcsec\n"
     ]
    },
    {
     "name": "stdout",
     "output_type": "stream",
     "text": [
      "sigma_e: 132.34 km/s\n",
      "theta_E: 0.392 arcsec\n"
     ]
    },
    {
     "name": "stdout",
     "output_type": "stream",
     "text": [
      "sigma_e: 133.96 km/s\n",
      "theta_E: 0.387 arcsec\n"
     ]
    },
    {
     "name": "stdout",
     "output_type": "stream",
     "text": [
      "sigma_e: 131.96 km/s\n",
      "theta_E: 0.405 arcsec\n"
     ]
    },
    {
     "name": "stdout",
     "output_type": "stream",
     "text": [
      "sigma_e: 138.45 km/s\n",
      "theta_E: 0.464 arcsec\n"
     ]
    },
    {
     "name": "stdout",
     "output_type": "stream",
     "text": [
      "sigma_e: 152.35 km/s\n",
      "theta_E: 0.422 arcsec\n"
     ]
    },
    {
     "name": "stdout",
     "output_type": "stream",
     "text": [
      "sigma_e: 143.18 km/s\n"
     ]
    },
    {
     "name": "stdout",
     "output_type": "stream",
     "text": [
      "theta_E: 1.013 arcsec\n"
     ]
    },
    {
     "name": "stdout",
     "output_type": "stream",
     "text": [
      "sigma_e: 220.45 km/s\n",
      "theta_E: 1.222 arcsec\n"
     ]
    },
    {
     "name": "stdout",
     "output_type": "stream",
     "text": [
      "sigma_e: 243.37 km/s\n",
      "theta_E: 0.932 arcsec\n"
     ]
    },
    {
     "name": "stdout",
     "output_type": "stream",
     "text": [
      "sigma_e: 203.54 km/s\n",
      "theta_E: 0.976 arcsec\n"
     ]
    },
    {
     "name": "stdout",
     "output_type": "stream",
     "text": [
      "sigma_e: 213.43 km/s\n",
      "theta_E: 1.027 arcsec\n"
     ]
    },
    {
     "name": "stdout",
     "output_type": "stream",
     "text": [
      "sigma_e: 222.87 km/s\n",
      "theta_E: 1.060 arcsec\n"
     ]
    },
    {
     "name": "stdout",
     "output_type": "stream",
     "text": [
      "sigma_e: 227.92 km/s\n",
      "theta_E: 1.030 arcsec\n"
     ]
    },
    {
     "name": "stdout",
     "output_type": "stream",
     "text": [
      "sigma_e: 223.34 km/s\n",
      "theta_E: 1.159 arcsec\n"
     ]
    },
    {
     "name": "stdout",
     "output_type": "stream",
     "text": [
      "sigma_e: 238.67 km/s\n",
      "theta_E: 1.184 arcsec\n"
     ]
    },
    {
     "name": "stdout",
     "output_type": "stream",
     "text": [
      "sigma_e: 240.65 km/s\n",
      "theta_E: 0.932 arcsec\n"
     ]
    },
    {
     "name": "stdout",
     "output_type": "stream",
     "text": [
      "sigma_e: 203.54 km/s\n"
     ]
    },
    {
     "name": "stdout",
     "output_type": "stream",
     "text": [
      "theta_E: 0.565 arcsec\n"
     ]
    },
    {
     "name": "stdout",
     "output_type": "stream",
     "text": [
      "sigma_e: 163.27 km/s\n",
      "theta_E: 0.569 arcsec\n"
     ]
    },
    {
     "name": "stdout",
     "output_type": "stream",
     "text": [
      "sigma_e: 164.44 km/s\n",
      "theta_E: 0.650 arcsec\n"
     ]
    },
    {
     "name": "stdout",
     "output_type": "stream",
     "text": [
      "sigma_e: 179.04 km/s\n",
      "theta_E: 0.573 arcsec\n"
     ]
    },
    {
     "name": "stdout",
     "output_type": "stream",
     "text": [
      "sigma_e: 165.31 km/s\n",
      "theta_E: 0.566 arcsec\n"
     ]
    },
    {
     "name": "stdout",
     "output_type": "stream",
     "text": [
      "sigma_e: 163.44 km/s\n",
      "theta_E: 0.664 arcsec\n"
     ]
    },
    {
     "name": "stdout",
     "output_type": "stream",
     "text": [
      "sigma_e: 180.70 km/s\n",
      "theta_E: 0.563 arcsec\n"
     ]
    },
    {
     "name": "stdout",
     "output_type": "stream",
     "text": [
      "sigma_e: 162.79 km/s\n",
      "theta_E: 0.655 arcsec\n"
     ]
    },
    {
     "name": "stdout",
     "output_type": "stream",
     "text": [
      "sigma_e: 179.65 km/s\n",
      "theta_E: 0.659 arcsec\n"
     ]
    },
    {
     "name": "stdout",
     "output_type": "stream",
     "text": [
      "sigma_e: 180.10 km/s\n",
      "theta_E: 0.582 arcsec\n"
     ]
    },
    {
     "name": "stdout",
     "output_type": "stream",
     "text": [
      "sigma_e: 167.46 km/s\n"
     ]
    },
    {
     "name": "stdout",
     "output_type": "stream",
     "text": [
      "theta_E: 0.847 arcsec\n"
     ]
    },
    {
     "name": "stdout",
     "output_type": "stream",
     "text": [
      "sigma_e: 203.79 km/s\n",
      "theta_E: 0.786 arcsec\n"
     ]
    },
    {
     "name": "stdout",
     "output_type": "stream",
     "text": [
      "sigma_e: 194.31 km/s\n",
      "theta_E: 0.763 arcsec\n"
     ]
    },
    {
     "name": "stdout",
     "output_type": "stream",
     "text": [
      "sigma_e: 189.49 km/s\n",
      "theta_E: 0.789 arcsec\n"
     ]
    },
    {
     "name": "stdout",
     "output_type": "stream",
     "text": [
      "sigma_e: 194.88 km/s\n",
      "theta_E: 0.763 arcsec\n"
     ]
    },
    {
     "name": "stdout",
     "output_type": "stream",
     "text": [
      "sigma_e: 189.31 km/s\n",
      "theta_E: 0.832 arcsec\n"
     ]
    },
    {
     "name": "stdout",
     "output_type": "stream",
     "text": [
      "sigma_e: 201.82 km/s\n",
      "theta_E: 0.896 arcsec\n"
     ]
    },
    {
     "name": "stdout",
     "output_type": "stream",
     "text": [
      "sigma_e: 209.06 km/s\n",
      "theta_E: 0.857 arcsec\n"
     ]
    },
    {
     "name": "stdout",
     "output_type": "stream",
     "text": [
      "sigma_e: 205.08 km/s\n",
      "theta_E: 0.808 arcsec\n"
     ]
    },
    {
     "name": "stdout",
     "output_type": "stream",
     "text": [
      "sigma_e: 198.13 km/s\n",
      "theta_E: 0.780 arcsec\n"
     ]
    },
    {
     "name": "stdout",
     "output_type": "stream",
     "text": [
      "sigma_e: 193.09 km/s\n"
     ]
    },
    {
     "name": "stdout",
     "output_type": "stream",
     "text": [
      "theta_E: 0.496 arcsec\n"
     ]
    },
    {
     "name": "stdout",
     "output_type": "stream",
     "text": [
      "sigma_e: 156.19 km/s\n",
      "theta_E: 0.502 arcsec\n"
     ]
    },
    {
     "name": "stdout",
     "output_type": "stream",
     "text": [
      "sigma_e: 157.33 km/s\n",
      "theta_E: 0.540 arcsec\n"
     ]
    },
    {
     "name": "stdout",
     "output_type": "stream",
     "text": [
      "sigma_e: 162.66 km/s\n",
      "theta_E: 0.450 arcsec\n"
     ]
    },
    {
     "name": "stdout",
     "output_type": "stream",
     "text": [
      "sigma_e: 145.15 km/s\n",
      "theta_E: 0.466 arcsec\n"
     ]
    },
    {
     "name": "stdout",
     "output_type": "stream",
     "text": [
      "sigma_e: 149.71 km/s\n",
      "theta_E: 0.449 arcsec\n"
     ]
    },
    {
     "name": "stdout",
     "output_type": "stream",
     "text": [
      "sigma_e: 144.70 km/s\n",
      "theta_E: 0.450 arcsec\n"
     ]
    },
    {
     "name": "stdout",
     "output_type": "stream",
     "text": [
      "sigma_e: 145.20 km/s\n",
      "theta_E: 0.451 arcsec\n"
     ]
    },
    {
     "name": "stdout",
     "output_type": "stream",
     "text": [
      "sigma_e: 145.40 km/s\n",
      "theta_E: 0.493 arcsec\n"
     ]
    },
    {
     "name": "stdout",
     "output_type": "stream",
     "text": [
      "sigma_e: 155.72 km/s\n",
      "theta_E: 0.541 arcsec\n"
     ]
    },
    {
     "name": "stdout",
     "output_type": "stream",
     "text": [
      "sigma_e: 162.80 km/s\n"
     ]
    },
    {
     "name": "stdout",
     "output_type": "stream",
     "text": [
      "theta_E: 0.648 arcsec\n"
     ]
    },
    {
     "name": "stdout",
     "output_type": "stream",
     "text": [
      "sigma_e: 176.50 km/s\n",
      "theta_E: 0.690 arcsec\n"
     ]
    },
    {
     "name": "stdout",
     "output_type": "stream",
     "text": [
      "sigma_e: 184.06 km/s\n",
      "theta_E: 0.644 arcsec\n"
     ]
    },
    {
     "name": "stdout",
     "output_type": "stream",
     "text": [
      "sigma_e: 175.48 km/s\n",
      "theta_E: 0.625 arcsec\n"
     ]
    },
    {
     "name": "stdout",
     "output_type": "stream",
     "text": [
      "sigma_e: 170.96 km/s\n",
      "theta_E: 0.641 arcsec\n"
     ]
    },
    {
     "name": "stdout",
     "output_type": "stream",
     "text": [
      "sigma_e: 174.91 km/s\n",
      "theta_E: 0.682 arcsec\n"
     ]
    },
    {
     "name": "stdout",
     "output_type": "stream",
     "text": [
      "sigma_e: 182.87 km/s\n",
      "theta_E: 0.634 arcsec\n"
     ]
    },
    {
     "name": "stdout",
     "output_type": "stream",
     "text": [
      "sigma_e: 173.32 km/s\n",
      "theta_E: 0.719 arcsec\n"
     ]
    },
    {
     "name": "stdout",
     "output_type": "stream",
     "text": [
      "sigma_e: 187.91 km/s\n",
      "theta_E: 0.742 arcsec\n"
     ]
    },
    {
     "name": "stdout",
     "output_type": "stream",
     "text": [
      "sigma_e: 190.37 km/s\n",
      "theta_E: 0.716 arcsec\n"
     ]
    },
    {
     "name": "stdout",
     "output_type": "stream",
     "text": [
      "sigma_e: 187.60 km/s\n"
     ]
    },
    {
     "name": "stdout",
     "output_type": "stream",
     "text": [
      "theta_E: 0.600 arcsec\n"
     ]
    },
    {
     "name": "stdout",
     "output_type": "stream",
     "text": [
      "sigma_e: 165.44 km/s\n",
      "theta_E: 0.693 arcsec\n"
     ]
    },
    {
     "name": "stdout",
     "output_type": "stream",
     "text": [
      "sigma_e: 184.88 km/s\n",
      "theta_E: 0.699 arcsec\n"
     ]
    },
    {
     "name": "stdout",
     "output_type": "stream",
     "text": [
      "sigma_e: 185.70 km/s\n",
      "theta_E: 0.612 arcsec\n"
     ]
    },
    {
     "name": "stdout",
     "output_type": "stream",
     "text": [
      "sigma_e: 168.76 km/s\n",
      "theta_E: 0.600 arcsec\n"
     ]
    },
    {
     "name": "stdout",
     "output_type": "stream",
     "text": [
      "sigma_e: 165.49 km/s\n",
      "theta_E: 0.762 arcsec\n"
     ]
    },
    {
     "name": "stdout",
     "output_type": "stream",
     "text": [
      "sigma_e: 192.40 km/s\n",
      "theta_E: 0.600 arcsec\n"
     ]
    },
    {
     "name": "stdout",
     "output_type": "stream",
     "text": [
      "sigma_e: 165.45 km/s\n",
      "theta_E: 0.682 arcsec\n"
     ]
    },
    {
     "name": "stdout",
     "output_type": "stream",
     "text": [
      "sigma_e: 183.19 km/s\n",
      "theta_E: 0.634 arcsec\n"
     ]
    },
    {
     "name": "stdout",
     "output_type": "stream",
     "text": [
      "sigma_e: 174.18 km/s\n",
      "theta_E: 0.620 arcsec\n"
     ]
    },
    {
     "name": "stdout",
     "output_type": "stream",
     "text": [
      "sigma_e: 170.85 km/s\n"
     ]
    },
    {
     "name": "stdout",
     "output_type": "stream",
     "text": [
      "theta_E: 0.838 arcsec\n"
     ]
    },
    {
     "name": "stdout",
     "output_type": "stream",
     "text": [
      "sigma_e: 201.28 km/s\n",
      "theta_E: 0.765 arcsec\n"
     ]
    },
    {
     "name": "stdout",
     "output_type": "stream",
     "text": [
      "sigma_e: 193.17 km/s\n",
      "theta_E: 0.713 arcsec\n"
     ]
    },
    {
     "name": "stdout",
     "output_type": "stream",
     "text": [
      "sigma_e: 183.47 km/s\n",
      "theta_E: 0.707 arcsec\n"
     ]
    },
    {
     "name": "stdout",
     "output_type": "stream",
     "text": [
      "sigma_e: 182.07 km/s\n",
      "theta_E: 0.798 arcsec\n"
     ]
    },
    {
     "name": "stdout",
     "output_type": "stream",
     "text": [
      "sigma_e: 197.26 km/s\n",
      "theta_E: 0.707 arcsec\n"
     ]
    },
    {
     "name": "stdout",
     "output_type": "stream",
     "text": [
      "sigma_e: 182.07 km/s\n",
      "theta_E: 0.779 arcsec\n"
     ]
    },
    {
     "name": "stdout",
     "output_type": "stream",
     "text": [
      "sigma_e: 195.01 km/s\n",
      "theta_E: 0.749 arcsec\n"
     ]
    },
    {
     "name": "stdout",
     "output_type": "stream",
     "text": [
      "sigma_e: 190.52 km/s\n",
      "theta_E: 0.757 arcsec\n"
     ]
    },
    {
     "name": "stdout",
     "output_type": "stream",
     "text": [
      "sigma_e: 191.87 km/s\n",
      "theta_E: 0.707 arcsec\n"
     ]
    },
    {
     "name": "stdout",
     "output_type": "stream",
     "text": [
      "sigma_e: 182.26 km/s\n"
     ]
    },
    {
     "name": "stdout",
     "output_type": "stream",
     "text": [
      "theta_E: 0.794 arcsec\n"
     ]
    },
    {
     "name": "stdout",
     "output_type": "stream",
     "text": [
      "sigma_e: 187.83 km/s\n",
      "theta_E: 0.817 arcsec\n"
     ]
    },
    {
     "name": "stdout",
     "output_type": "stream",
     "text": [
      "sigma_e: 193.97 km/s\n",
      "theta_E: 0.790 arcsec\n"
     ]
    },
    {
     "name": "stdout",
     "output_type": "stream",
     "text": [
      "sigma_e: 186.85 km/s\n",
      "theta_E: 0.893 arcsec\n"
     ]
    },
    {
     "name": "stdout",
     "output_type": "stream",
     "text": [
      "sigma_e: 208.95 km/s\n",
      "theta_E: 0.797 arcsec\n"
     ]
    },
    {
     "name": "stdout",
     "output_type": "stream",
     "text": [
      "sigma_e: 188.93 km/s\n",
      "theta_E: 0.795 arcsec\n"
     ]
    },
    {
     "name": "stdout",
     "output_type": "stream",
     "text": [
      "sigma_e: 188.14 km/s\n",
      "theta_E: 0.801 arcsec\n"
     ]
    },
    {
     "name": "stdout",
     "output_type": "stream",
     "text": [
      "sigma_e: 189.87 km/s\n",
      "theta_E: 0.966 arcsec\n"
     ]
    },
    {
     "name": "stdout",
     "output_type": "stream",
     "text": [
      "sigma_e: 218.56 km/s\n",
      "theta_E: 0.983 arcsec\n"
     ]
    },
    {
     "name": "stdout",
     "output_type": "stream",
     "text": [
      "sigma_e: 220.23 km/s\n",
      "theta_E: 0.812 arcsec\n"
     ]
    },
    {
     "name": "stdout",
     "output_type": "stream",
     "text": [
      "sigma_e: 192.77 km/s\n"
     ]
    },
    {
     "name": "stdout",
     "output_type": "stream",
     "text": [
      "theta_E: 0.532 arcsec\n"
     ]
    },
    {
     "name": "stdout",
     "output_type": "stream",
     "text": [
      "sigma_e: 162.22 km/s\n",
      "theta_E: 0.535 arcsec\n"
     ]
    },
    {
     "name": "stdout",
     "output_type": "stream",
     "text": [
      "sigma_e: 162.66 km/s\n",
      "theta_E: 0.420 arcsec\n"
     ]
    },
    {
     "name": "stdout",
     "output_type": "stream",
     "text": [
      "sigma_e: 138.06 km/s\n",
      "theta_E: 0.424 arcsec\n"
     ]
    },
    {
     "name": "stdout",
     "output_type": "stream",
     "text": [
      "sigma_e: 139.42 km/s\n",
      "theta_E: 0.420 arcsec\n"
     ]
    },
    {
     "name": "stdout",
     "output_type": "stream",
     "text": [
      "sigma_e: 137.83 km/s\n",
      "theta_E: 0.496 arcsec\n"
     ]
    },
    {
     "name": "stdout",
     "output_type": "stream",
     "text": [
      "sigma_e: 157.22 km/s\n",
      "theta_E: 0.432 arcsec\n"
     ]
    },
    {
     "name": "stdout",
     "output_type": "stream",
     "text": [
      "sigma_e: 142.15 km/s\n",
      "theta_E: 0.420 arcsec\n"
     ]
    },
    {
     "name": "stdout",
     "output_type": "stream",
     "text": [
      "sigma_e: 137.96 km/s\n",
      "theta_E: 0.457 arcsec\n"
     ]
    },
    {
     "name": "stdout",
     "output_type": "stream",
     "text": [
      "sigma_e: 149.09 km/s\n",
      "theta_E: 0.451 arcsec\n"
     ]
    },
    {
     "name": "stdout",
     "output_type": "stream",
     "text": [
      "sigma_e: 147.75 km/s\n"
     ]
    },
    {
     "name": "stdout",
     "output_type": "stream",
     "text": [
      "theta_E: 0.437 arcsec\n"
     ]
    },
    {
     "name": "stdout",
     "output_type": "stream",
     "text": [
      "sigma_e: 146.11 km/s\n",
      "theta_E: 0.492 arcsec\n"
     ]
    },
    {
     "name": "stdout",
     "output_type": "stream",
     "text": [
      "sigma_e: 154.92 km/s\n",
      "theta_E: 0.483 arcsec\n"
     ]
    },
    {
     "name": "stdout",
     "output_type": "stream",
     "text": [
      "sigma_e: 153.90 km/s\n",
      "theta_E: 0.431 arcsec\n"
     ]
    },
    {
     "name": "stdout",
     "output_type": "stream",
     "text": [
      "sigma_e: 144.72 km/s\n",
      "theta_E: 0.445 arcsec\n"
     ]
    },
    {
     "name": "stdout",
     "output_type": "stream",
     "text": [
      "sigma_e: 147.70 km/s\n",
      "theta_E: 0.470 arcsec\n"
     ]
    },
    {
     "name": "stdout",
     "output_type": "stream",
     "text": [
      "sigma_e: 152.17 km/s\n",
      "theta_E: 0.418 arcsec\n"
     ]
    },
    {
     "name": "stdout",
     "output_type": "stream",
     "text": [
      "sigma_e: 141.17 km/s\n",
      "theta_E: 0.413 arcsec\n"
     ]
    },
    {
     "name": "stdout",
     "output_type": "stream",
     "text": [
      "sigma_e: 139.93 km/s\n",
      "theta_E: 0.407 arcsec\n"
     ]
    },
    {
     "name": "stdout",
     "output_type": "stream",
     "text": [
      "sigma_e: 138.06 km/s\n",
      "theta_E: 0.465 arcsec\n"
     ]
    },
    {
     "name": "stdout",
     "output_type": "stream",
     "text": [
      "sigma_e: 151.34 km/s\n"
     ]
    },
    {
     "name": "stdout",
     "output_type": "stream",
     "text": [
      "theta_E: 0.608 arcsec\n"
     ]
    },
    {
     "name": "stdout",
     "output_type": "stream",
     "text": [
      "sigma_e: 168.16 km/s\n",
      "theta_E: 0.627 arcsec\n"
     ]
    },
    {
     "name": "stdout",
     "output_type": "stream",
     "text": [
      "sigma_e: 172.97 km/s\n",
      "theta_E: 0.700 arcsec\n"
     ]
    },
    {
     "name": "stdout",
     "output_type": "stream",
     "text": [
      "sigma_e: 185.97 km/s\n",
      "theta_E: 0.754 arcsec\n"
     ]
    },
    {
     "name": "stdout",
     "output_type": "stream",
     "text": [
      "sigma_e: 191.79 km/s\n",
      "theta_E: 0.667 arcsec\n"
     ]
    },
    {
     "name": "stdout",
     "output_type": "stream",
     "text": [
      "sigma_e: 181.03 km/s\n",
      "theta_E: 0.610 arcsec\n"
     ]
    },
    {
     "name": "stdout",
     "output_type": "stream",
     "text": [
      "sigma_e: 168.82 km/s\n",
      "theta_E: 0.623 arcsec\n"
     ]
    },
    {
     "name": "stdout",
     "output_type": "stream",
     "text": [
      "sigma_e: 172.10 km/s\n",
      "theta_E: 0.709 arcsec\n"
     ]
    },
    {
     "name": "stdout",
     "output_type": "stream",
     "text": [
      "sigma_e: 187.19 km/s\n",
      "theta_E: 0.685 arcsec\n"
     ]
    },
    {
     "name": "stdout",
     "output_type": "stream",
     "text": [
      "sigma_e: 183.94 km/s\n",
      "theta_E: 0.600 arcsec\n"
     ]
    },
    {
     "name": "stdout",
     "output_type": "stream",
     "text": [
      "sigma_e: 165.85 km/s\n"
     ]
    },
    {
     "name": "stdout",
     "output_type": "stream",
     "text": [
      "theta_E: 0.596 arcsec\n"
     ]
    },
    {
     "name": "stdout",
     "output_type": "stream",
     "text": [
      "sigma_e: 168.76 km/s\n",
      "theta_E: 0.609 arcsec\n"
     ]
    },
    {
     "name": "stdout",
     "output_type": "stream",
     "text": [
      "sigma_e: 171.39 km/s\n",
      "theta_E: 0.688 arcsec\n"
     ]
    },
    {
     "name": "stdout",
     "output_type": "stream",
     "text": [
      "sigma_e: 182.54 km/s\n",
      "theta_E: 0.562 arcsec\n"
     ]
    },
    {
     "name": "stdout",
     "output_type": "stream",
     "text": [
      "sigma_e: 159.85 km/s\n",
      "theta_E: 0.561 arcsec\n"
     ]
    },
    {
     "name": "stdout",
     "output_type": "stream",
     "text": [
      "sigma_e: 159.75 km/s\n",
      "theta_E: 0.677 arcsec\n"
     ]
    },
    {
     "name": "stdout",
     "output_type": "stream",
     "text": [
      "sigma_e: 181.47 km/s\n",
      "theta_E: 0.557 arcsec\n"
     ]
    },
    {
     "name": "stdout",
     "output_type": "stream",
     "text": [
      "sigma_e: 158.46 km/s\n",
      "theta_E: 0.568 arcsec\n"
     ]
    },
    {
     "name": "stdout",
     "output_type": "stream",
     "text": [
      "sigma_e: 161.72 km/s\n",
      "theta_E: 0.581 arcsec\n"
     ]
    },
    {
     "name": "stdout",
     "output_type": "stream",
     "text": [
      "sigma_e: 165.09 km/s\n",
      "theta_E: 0.564 arcsec\n"
     ]
    },
    {
     "name": "stdout",
     "output_type": "stream",
     "text": [
      "sigma_e: 160.67 km/s\n"
     ]
    },
    {
     "name": "stdout",
     "output_type": "stream",
     "text": [
      "theta_E: 0.625 arcsec\n"
     ]
    },
    {
     "name": "stdout",
     "output_type": "stream",
     "text": [
      "sigma_e: 171.54 km/s\n",
      "theta_E: 0.568 arcsec\n"
     ]
    },
    {
     "name": "stdout",
     "output_type": "stream",
     "text": [
      "sigma_e: 156.64 km/s\n",
      "theta_E: 0.540 arcsec\n"
     ]
    },
    {
     "name": "stdout",
     "output_type": "stream",
     "text": [
      "sigma_e: 146.98 km/s\n",
      "theta_E: 0.548 arcsec\n"
     ]
    },
    {
     "name": "stdout",
     "output_type": "stream",
     "text": [
      "sigma_e: 150.14 km/s\n",
      "theta_E: 0.737 arcsec\n"
     ]
    },
    {
     "name": "stdout",
     "output_type": "stream",
     "text": [
      "sigma_e: 188.08 km/s\n",
      "theta_E: 0.538 arcsec\n"
     ]
    },
    {
     "name": "stdout",
     "output_type": "stream",
     "text": [
      "sigma_e: 146.49 km/s\n",
      "theta_E: 0.536 arcsec\n"
     ]
    },
    {
     "name": "stdout",
     "output_type": "stream",
     "text": [
      "sigma_e: 145.74 km/s\n",
      "theta_E: 0.601 arcsec\n"
     ]
    },
    {
     "name": "stdout",
     "output_type": "stream",
     "text": [
      "sigma_e: 165.97 km/s\n",
      "theta_E: 0.551 arcsec\n"
     ]
    },
    {
     "name": "stdout",
     "output_type": "stream",
     "text": [
      "sigma_e: 151.14 km/s\n",
      "theta_E: 0.547 arcsec\n"
     ]
    },
    {
     "name": "stdout",
     "output_type": "stream",
     "text": [
      "sigma_e: 149.64 km/s\n"
     ]
    },
    {
     "name": "stdout",
     "output_type": "stream",
     "text": [
      "theta_E: 0.353 arcsec\n"
     ]
    },
    {
     "name": "stdout",
     "output_type": "stream",
     "text": [
      "sigma_e: 123.96 km/s\n",
      "theta_E: 0.454 arcsec\n"
     ]
    },
    {
     "name": "stdout",
     "output_type": "stream",
     "text": [
      "sigma_e: 150.57 km/s\n",
      "theta_E: 0.398 arcsec\n"
     ]
    },
    {
     "name": "stdout",
     "output_type": "stream",
     "text": [
      "sigma_e: 139.36 km/s\n",
      "theta_E: 0.378 arcsec\n"
     ]
    },
    {
     "name": "stdout",
     "output_type": "stream",
     "text": [
      "sigma_e: 133.56 km/s\n",
      "theta_E: 0.351 arcsec\n"
     ]
    },
    {
     "name": "stdout",
     "output_type": "stream",
     "text": [
      "sigma_e: 122.95 km/s\n",
      "theta_E: 0.352 arcsec\n"
     ]
    },
    {
     "name": "stdout",
     "output_type": "stream",
     "text": [
      "sigma_e: 123.63 km/s\n",
      "theta_E: 0.406 arcsec\n"
     ]
    },
    {
     "name": "stdout",
     "output_type": "stream",
     "text": [
      "sigma_e: 141.61 km/s\n",
      "theta_E: 0.485 arcsec\n"
     ]
    },
    {
     "name": "stdout",
     "output_type": "stream",
     "text": [
      "sigma_e: 154.32 km/s\n",
      "theta_E: 0.439 arcsec\n"
     ]
    },
    {
     "name": "stdout",
     "output_type": "stream",
     "text": [
      "sigma_e: 148.27 km/s\n",
      "theta_E: 0.418 arcsec\n"
     ]
    },
    {
     "name": "stdout",
     "output_type": "stream",
     "text": [
      "sigma_e: 144.31 km/s\n"
     ]
    },
    {
     "name": "stdout",
     "output_type": "stream",
     "text": [
      "theta_E: 0.376 arcsec\n"
     ]
    },
    {
     "name": "stdout",
     "output_type": "stream",
     "text": [
      "sigma_e: 133.58 km/s\n",
      "theta_E: 0.465 arcsec\n"
     ]
    },
    {
     "name": "stdout",
     "output_type": "stream",
     "text": [
      "sigma_e: 150.80 km/s\n",
      "theta_E: 0.385 arcsec\n"
     ]
    },
    {
     "name": "stdout",
     "output_type": "stream",
     "text": [
      "sigma_e: 136.47 km/s\n",
      "theta_E: 0.442 arcsec\n"
     ]
    },
    {
     "name": "stdout",
     "output_type": "stream",
     "text": [
      "sigma_e: 148.00 km/s\n",
      "theta_E: 0.404 arcsec\n"
     ]
    },
    {
     "name": "stdout",
     "output_type": "stream",
     "text": [
      "sigma_e: 141.21 km/s\n",
      "theta_E: 0.383 arcsec\n"
     ]
    },
    {
     "name": "stdout",
     "output_type": "stream",
     "text": [
      "sigma_e: 135.63 km/s\n",
      "theta_E: 0.419 arcsec\n"
     ]
    },
    {
     "name": "stdout",
     "output_type": "stream",
     "text": [
      "sigma_e: 144.37 km/s\n",
      "theta_E: 0.450 arcsec\n"
     ]
    },
    {
     "name": "stdout",
     "output_type": "stream",
     "text": [
      "sigma_e: 149.03 km/s\n",
      "theta_E: 0.369 arcsec\n"
     ]
    },
    {
     "name": "stdout",
     "output_type": "stream",
     "text": [
      "sigma_e: 131.16 km/s\n",
      "theta_E: 0.465 arcsec\n"
     ]
    },
    {
     "name": "stdout",
     "output_type": "stream",
     "text": [
      "sigma_e: 150.80 km/s\n"
     ]
    },
    {
     "name": "stdout",
     "output_type": "stream",
     "text": [
      "theta_E: 0.458 arcsec\n"
     ]
    },
    {
     "name": "stdout",
     "output_type": "stream",
     "text": [
      "sigma_e: 148.34 km/s\n",
      "theta_E: 0.448 arcsec\n"
     ]
    },
    {
     "name": "stdout",
     "output_type": "stream",
     "text": [
      "sigma_e: 145.60 km/s\n",
      "theta_E: 0.494 arcsec\n"
     ]
    },
    {
     "name": "stdout",
     "output_type": "stream",
     "text": [
      "sigma_e: 156.22 km/s\n",
      "theta_E: 0.447 arcsec\n"
     ]
    },
    {
     "name": "stdout",
     "output_type": "stream",
     "text": [
      "sigma_e: 145.38 km/s\n",
      "theta_E: 0.444 arcsec\n"
     ]
    },
    {
     "name": "stdout",
     "output_type": "stream",
     "text": [
      "sigma_e: 144.42 km/s\n",
      "theta_E: 0.439 arcsec\n"
     ]
    },
    {
     "name": "stdout",
     "output_type": "stream",
     "text": [
      "sigma_e: 142.76 km/s\n",
      "theta_E: 0.486 arcsec\n"
     ]
    },
    {
     "name": "stdout",
     "output_type": "stream",
     "text": [
      "sigma_e: 154.60 km/s\n",
      "theta_E: 0.436 arcsec\n"
     ]
    },
    {
     "name": "stdout",
     "output_type": "stream",
     "text": [
      "sigma_e: 142.02 km/s\n",
      "theta_E: 0.444 arcsec\n"
     ]
    },
    {
     "name": "stdout",
     "output_type": "stream",
     "text": [
      "sigma_e: 144.43 km/s\n",
      "theta_E: 0.470 arcsec\n"
     ]
    },
    {
     "name": "stdout",
     "output_type": "stream",
     "text": [
      "sigma_e: 151.35 km/s\n"
     ]
    },
    {
     "name": "stdout",
     "output_type": "stream",
     "text": [
      "theta_E: 0.780 arcsec\n"
     ]
    },
    {
     "name": "stdout",
     "output_type": "stream",
     "text": [
      "sigma_e: 191.16 km/s\n",
      "theta_E: 0.823 arcsec\n"
     ]
    },
    {
     "name": "stdout",
     "output_type": "stream",
     "text": [
      "sigma_e: 198.60 km/s\n",
      "theta_E: 0.921 arcsec\n"
     ]
    },
    {
     "name": "stdout",
     "output_type": "stream",
     "text": [
      "sigma_e: 210.62 km/s\n",
      "theta_E: 0.639 arcsec\n"
     ]
    },
    {
     "name": "stdout",
     "output_type": "stream",
     "text": [
      "sigma_e: 151.19 km/s\n",
      "theta_E: 0.874 arcsec\n"
     ]
    },
    {
     "name": "stdout",
     "output_type": "stream",
     "text": [
      "sigma_e: 206.07 km/s\n",
      "theta_E: 0.682 arcsec\n"
     ]
    },
    {
     "name": "stdout",
     "output_type": "stream",
     "text": [
      "sigma_e: 166.53 km/s\n",
      "theta_E: 0.656 arcsec\n"
     ]
    },
    {
     "name": "stdout",
     "output_type": "stream",
     "text": [
      "sigma_e: 157.48 km/s\n",
      "theta_E: 0.713 arcsec\n"
     ]
    },
    {
     "name": "stdout",
     "output_type": "stream",
     "text": [
      "sigma_e: 175.60 km/s\n",
      "theta_E: 0.835 arcsec\n"
     ]
    },
    {
     "name": "stdout",
     "output_type": "stream",
     "text": [
      "sigma_e: 200.45 km/s\n",
      "theta_E: 0.901 arcsec\n"
     ]
    },
    {
     "name": "stdout",
     "output_type": "stream",
     "text": [
      "sigma_e: 208.82 km/s\n"
     ]
    },
    {
     "name": "stdout",
     "output_type": "stream",
     "text": [
      "theta_E: 0.533 arcsec\n"
     ]
    },
    {
     "name": "stdout",
     "output_type": "stream",
     "text": [
      "sigma_e: 162.12 km/s\n",
      "theta_E: 0.485 arcsec\n"
     ]
    },
    {
     "name": "stdout",
     "output_type": "stream",
     "text": [
      "sigma_e: 149.98 km/s\n",
      "theta_E: 0.548 arcsec\n"
     ]
    },
    {
     "name": "stdout",
     "output_type": "stream",
     "text": [
      "sigma_e: 164.81 km/s\n",
      "theta_E: 0.482 arcsec\n"
     ]
    },
    {
     "name": "stdout",
     "output_type": "stream",
     "text": [
      "sigma_e: 148.85 km/s\n",
      "theta_E: 0.513 arcsec\n"
     ]
    },
    {
     "name": "stdout",
     "output_type": "stream",
     "text": [
      "sigma_e: 157.71 km/s\n",
      "theta_E: 0.568 arcsec\n"
     ]
    },
    {
     "name": "stdout",
     "output_type": "stream",
     "text": [
      "sigma_e: 168.06 km/s\n",
      "theta_E: 0.577 arcsec\n"
     ]
    },
    {
     "name": "stdout",
     "output_type": "stream",
     "text": [
      "sigma_e: 169.26 km/s\n",
      "theta_E: 0.528 arcsec\n"
     ]
    },
    {
     "name": "stdout",
     "output_type": "stream",
     "text": [
      "sigma_e: 161.04 km/s\n",
      "theta_E: 0.598 arcsec\n"
     ]
    },
    {
     "name": "stdout",
     "output_type": "stream",
     "text": [
      "sigma_e: 171.73 km/s\n",
      "theta_E: 0.501 arcsec\n"
     ]
    },
    {
     "name": "stdout",
     "output_type": "stream",
     "text": [
      "sigma_e: 154.56 km/s\n"
     ]
    },
    {
     "name": "stdout",
     "output_type": "stream",
     "text": [
      "theta_E: 0.449 arcsec\n"
     ]
    },
    {
     "name": "stdout",
     "output_type": "stream",
     "text": [
      "sigma_e: 149.63 km/s\n",
      "theta_E: 0.437 arcsec\n"
     ]
    },
    {
     "name": "stdout",
     "output_type": "stream",
     "text": [
      "sigma_e: 147.70 km/s\n",
      "theta_E: 0.410 arcsec\n"
     ]
    },
    {
     "name": "stdout",
     "output_type": "stream",
     "text": [
      "sigma_e: 142.25 km/s\n",
      "theta_E: 0.390 arcsec\n"
     ]
    },
    {
     "name": "stdout",
     "output_type": "stream",
     "text": [
      "sigma_e: 137.00 km/s\n",
      "theta_E: 0.417 arcsec\n"
     ]
    },
    {
     "name": "stdout",
     "output_type": "stream",
     "text": [
      "sigma_e: 143.92 km/s\n",
      "theta_E: 0.406 arcsec\n"
     ]
    },
    {
     "name": "stdout",
     "output_type": "stream",
     "text": [
      "sigma_e: 141.25 km/s\n",
      "theta_E: 0.391 arcsec\n"
     ]
    },
    {
     "name": "stdout",
     "output_type": "stream",
     "text": [
      "sigma_e: 137.26 km/s\n",
      "theta_E: 0.457 arcsec\n"
     ]
    },
    {
     "name": "stdout",
     "output_type": "stream",
     "text": [
      "sigma_e: 150.86 km/s\n",
      "theta_E: 0.404 arcsec\n"
     ]
    },
    {
     "name": "stdout",
     "output_type": "stream",
     "text": [
      "sigma_e: 140.80 km/s\n",
      "theta_E: 0.458 arcsec\n"
     ]
    },
    {
     "name": "stdout",
     "output_type": "stream",
     "text": [
      "sigma_e: 150.93 km/s\n"
     ]
    },
    {
     "name": "stdout",
     "output_type": "stream",
     "text": [
      "theta_E: 0.442 arcsec\n"
     ]
    },
    {
     "name": "stdout",
     "output_type": "stream",
     "text": [
      "sigma_e: 146.26 km/s\n",
      "theta_E: 0.462 arcsec\n"
     ]
    },
    {
     "name": "stdout",
     "output_type": "stream",
     "text": [
      "sigma_e: 150.49 km/s\n",
      "theta_E: 0.496 arcsec\n"
     ]
    },
    {
     "name": "stdout",
     "output_type": "stream",
     "text": [
      "sigma_e: 155.73 km/s\n",
      "theta_E: 0.455 arcsec\n"
     ]
    },
    {
     "name": "stdout",
     "output_type": "stream",
     "text": [
      "sigma_e: 149.17 km/s\n",
      "theta_E: 0.463 arcsec\n"
     ]
    },
    {
     "name": "stdout",
     "output_type": "stream",
     "text": [
      "sigma_e: 150.69 km/s\n",
      "theta_E: 0.483 arcsec\n"
     ]
    },
    {
     "name": "stdout",
     "output_type": "stream",
     "text": [
      "sigma_e: 154.02 km/s\n",
      "theta_E: 0.479 arcsec\n"
     ]
    },
    {
     "name": "stdout",
     "output_type": "stream",
     "text": [
      "sigma_e: 153.51 km/s\n",
      "theta_E: 0.453 arcsec\n"
     ]
    },
    {
     "name": "stdout",
     "output_type": "stream",
     "text": [
      "sigma_e: 148.85 km/s\n",
      "theta_E: 0.464 arcsec\n"
     ]
    },
    {
     "name": "stdout",
     "output_type": "stream",
     "text": [
      "sigma_e: 150.87 km/s\n",
      "theta_E: 0.436 arcsec\n"
     ]
    },
    {
     "name": "stdout",
     "output_type": "stream",
     "text": [
      "sigma_e: 144.69 km/s\n"
     ]
    },
    {
     "name": "stdout",
     "output_type": "stream",
     "text": [
      "theta_E: 0.457 arcsec\n"
     ]
    },
    {
     "name": "stdout",
     "output_type": "stream",
     "text": [
      "sigma_e: 148.45 km/s\n",
      "theta_E: 0.468 arcsec\n"
     ]
    },
    {
     "name": "stdout",
     "output_type": "stream",
     "text": [
      "sigma_e: 151.16 km/s\n",
      "theta_E: 0.439 arcsec\n"
     ]
    },
    {
     "name": "stdout",
     "output_type": "stream",
     "text": [
      "sigma_e: 143.41 km/s\n",
      "theta_E: 0.442 arcsec\n"
     ]
    },
    {
     "name": "stdout",
     "output_type": "stream",
     "text": [
      "sigma_e: 144.09 km/s\n",
      "theta_E: 0.453 arcsec\n"
     ]
    },
    {
     "name": "stdout",
     "output_type": "stream",
     "text": [
      "sigma_e: 147.23 km/s\n",
      "theta_E: 0.451 arcsec\n"
     ]
    },
    {
     "name": "stdout",
     "output_type": "stream",
     "text": [
      "sigma_e: 146.72 km/s\n",
      "theta_E: 0.456 arcsec\n"
     ]
    },
    {
     "name": "stdout",
     "output_type": "stream",
     "text": [
      "sigma_e: 148.04 km/s\n",
      "theta_E: 0.531 arcsec\n"
     ]
    },
    {
     "name": "stdout",
     "output_type": "stream",
     "text": [
      "sigma_e: 161.01 km/s\n",
      "theta_E: 0.490 arcsec\n"
     ]
    },
    {
     "name": "stdout",
     "output_type": "stream",
     "text": [
      "sigma_e: 155.42 km/s\n",
      "theta_E: 0.438 arcsec\n"
     ]
    },
    {
     "name": "stdout",
     "output_type": "stream",
     "text": [
      "sigma_e: 142.82 km/s\n"
     ]
    },
    {
     "name": "stdout",
     "output_type": "stream",
     "text": [
      "theta_E: 0.452 arcsec\n"
     ]
    },
    {
     "name": "stdout",
     "output_type": "stream",
     "text": [
      "sigma_e: 149.59 km/s\n",
      "theta_E: 0.450 arcsec\n"
     ]
    },
    {
     "name": "stdout",
     "output_type": "stream",
     "text": [
      "sigma_e: 149.16 km/s\n",
      "theta_E: 0.457 arcsec\n"
     ]
    },
    {
     "name": "stdout",
     "output_type": "stream",
     "text": [
      "sigma_e: 150.74 km/s\n",
      "theta_E: 0.439 arcsec\n"
     ]
    },
    {
     "name": "stdout",
     "output_type": "stream",
     "text": [
      "sigma_e: 146.75 km/s\n",
      "theta_E: 0.405 arcsec\n"
     ]
    },
    {
     "name": "stdout",
     "output_type": "stream",
     "text": [
      "sigma_e: 136.66 km/s\n",
      "theta_E: 0.401 arcsec\n"
     ]
    },
    {
     "name": "stdout",
     "output_type": "stream",
     "text": [
      "sigma_e: 135.10 km/s\n",
      "theta_E: 0.512 arcsec\n"
     ]
    },
    {
     "name": "stdout",
     "output_type": "stream",
     "text": [
      "sigma_e: 159.16 km/s\n",
      "theta_E: 0.503 arcsec\n"
     ]
    },
    {
     "name": "stdout",
     "output_type": "stream",
     "text": [
      "sigma_e: 158.03 km/s\n",
      "theta_E: 0.452 arcsec\n"
     ]
    },
    {
     "name": "stdout",
     "output_type": "stream",
     "text": [
      "sigma_e: 149.67 km/s\n",
      "theta_E: 0.462 arcsec\n"
     ]
    },
    {
     "name": "stdout",
     "output_type": "stream",
     "text": [
      "sigma_e: 151.71 km/s\n"
     ]
    },
    {
     "name": "stdout",
     "output_type": "stream",
     "text": [
      "theta_E: 0.535 arcsec\n"
     ]
    },
    {
     "name": "stdout",
     "output_type": "stream",
     "text": [
      "sigma_e: 163.21 km/s\n",
      "theta_E: 0.516 arcsec\n"
     ]
    },
    {
     "name": "stdout",
     "output_type": "stream",
     "text": [
      "sigma_e: 160.08 km/s\n",
      "theta_E: 0.439 arcsec\n"
     ]
    },
    {
     "name": "stdout",
     "output_type": "stream",
     "text": [
      "sigma_e: 139.53 km/s\n",
      "theta_E: 0.461 arcsec\n"
     ]
    },
    {
     "name": "stdout",
     "output_type": "stream",
     "text": [
      "sigma_e: 147.20 km/s\n",
      "theta_E: 0.458 arcsec\n"
     ]
    },
    {
     "name": "stdout",
     "output_type": "stream",
     "text": [
      "sigma_e: 146.24 km/s\n",
      "theta_E: 0.481 arcsec\n"
     ]
    },
    {
     "name": "stdout",
     "output_type": "stream",
     "text": [
      "sigma_e: 152.61 km/s\n",
      "theta_E: 0.562 arcsec\n"
     ]
    },
    {
     "name": "stdout",
     "output_type": "stream",
     "text": [
      "sigma_e: 166.77 km/s\n",
      "theta_E: 0.447 arcsec\n"
     ]
    },
    {
     "name": "stdout",
     "output_type": "stream",
     "text": [
      "sigma_e: 142.58 km/s\n",
      "theta_E: 0.453 arcsec\n"
     ]
    },
    {
     "name": "stdout",
     "output_type": "stream",
     "text": [
      "sigma_e: 144.66 km/s\n",
      "theta_E: 0.539 arcsec\n"
     ]
    },
    {
     "name": "stdout",
     "output_type": "stream",
     "text": [
      "sigma_e: 163.76 km/s\n"
     ]
    },
    {
     "name": "stdout",
     "output_type": "stream",
     "text": [
      "theta_E: 0.485 arcsec\n"
     ]
    },
    {
     "name": "stdout",
     "output_type": "stream",
     "text": [
      "sigma_e: 153.78 km/s\n",
      "theta_E: 0.478 arcsec\n"
     ]
    },
    {
     "name": "stdout",
     "output_type": "stream",
     "text": [
      "sigma_e: 152.13 km/s\n",
      "theta_E: 0.529 arcsec\n"
     ]
    },
    {
     "name": "stdout",
     "output_type": "stream",
     "text": [
      "sigma_e: 161.75 km/s\n",
      "theta_E: 0.463 arcsec\n"
     ]
    },
    {
     "name": "stdout",
     "output_type": "stream",
     "text": [
      "sigma_e: 147.98 km/s\n",
      "theta_E: 0.539 arcsec\n"
     ]
    },
    {
     "name": "stdout",
     "output_type": "stream",
     "text": [
      "sigma_e: 163.04 km/s\n",
      "theta_E: 0.555 arcsec\n"
     ]
    },
    {
     "name": "stdout",
     "output_type": "stream",
     "text": [
      "sigma_e: 164.97 km/s\n",
      "theta_E: 0.477 arcsec\n"
     ]
    },
    {
     "name": "stdout",
     "output_type": "stream",
     "text": [
      "sigma_e: 151.81 km/s\n",
      "theta_E: 0.487 arcsec\n"
     ]
    },
    {
     "name": "stdout",
     "output_type": "stream",
     "text": [
      "sigma_e: 154.26 km/s\n",
      "theta_E: 0.540 arcsec\n"
     ]
    },
    {
     "name": "stdout",
     "output_type": "stream",
     "text": [
      "sigma_e: 163.17 km/s\n",
      "theta_E: 0.497 arcsec\n"
     ]
    },
    {
     "name": "stdout",
     "output_type": "stream",
     "text": [
      "sigma_e: 156.32 km/s\n"
     ]
    },
    {
     "name": "stdout",
     "output_type": "stream",
     "text": [
      "theta_E: 0.478 arcsec\n"
     ]
    },
    {
     "name": "stdout",
     "output_type": "stream",
     "text": [
      "sigma_e: 150.75 km/s\n",
      "theta_E: 0.508 arcsec\n"
     ]
    },
    {
     "name": "stdout",
     "output_type": "stream",
     "text": [
      "sigma_e: 157.72 km/s\n",
      "theta_E: 0.505 arcsec\n"
     ]
    },
    {
     "name": "stdout",
     "output_type": "stream",
     "text": [
      "sigma_e: 157.11 km/s\n",
      "theta_E: 0.556 arcsec\n"
     ]
    },
    {
     "name": "stdout",
     "output_type": "stream",
     "text": [
      "sigma_e: 164.99 km/s\n",
      "theta_E: 0.557 arcsec\n"
     ]
    },
    {
     "name": "stdout",
     "output_type": "stream",
     "text": [
      "sigma_e: 165.06 km/s\n",
      "theta_E: 0.534 arcsec\n"
     ]
    },
    {
     "name": "stdout",
     "output_type": "stream",
     "text": [
      "sigma_e: 162.23 km/s\n",
      "theta_E: 0.501 arcsec\n"
     ]
    },
    {
     "name": "stdout",
     "output_type": "stream",
     "text": [
      "sigma_e: 156.41 km/s\n",
      "theta_E: 0.482 arcsec\n"
     ]
    },
    {
     "name": "stdout",
     "output_type": "stream",
     "text": [
      "sigma_e: 151.90 km/s\n",
      "theta_E: 0.537 arcsec\n"
     ]
    },
    {
     "name": "stdout",
     "output_type": "stream",
     "text": [
      "sigma_e: 162.60 km/s\n",
      "theta_E: 0.482 arcsec\n"
     ]
    },
    {
     "name": "stdout",
     "output_type": "stream",
     "text": [
      "sigma_e: 151.94 km/s\n"
     ]
    },
    {
     "name": "stdout",
     "output_type": "stream",
     "text": [
      "theta_E: 0.415 arcsec\n"
     ]
    },
    {
     "name": "stdout",
     "output_type": "stream",
     "text": [
      "sigma_e: 140.42 km/s\n",
      "theta_E: 0.466 arcsec\n"
     ]
    },
    {
     "name": "stdout",
     "output_type": "stream",
     "text": [
      "sigma_e: 151.32 km/s\n",
      "theta_E: 0.442 arcsec\n"
     ]
    },
    {
     "name": "stdout",
     "output_type": "stream",
     "text": [
      "sigma_e: 147.08 km/s\n",
      "theta_E: 0.442 arcsec\n"
     ]
    },
    {
     "name": "stdout",
     "output_type": "stream",
     "text": [
      "sigma_e: 146.99 km/s\n",
      "theta_E: 0.446 arcsec\n"
     ]
    },
    {
     "name": "stdout",
     "output_type": "stream",
     "text": [
      "sigma_e: 147.93 km/s\n",
      "theta_E: 0.412 arcsec\n"
     ]
    },
    {
     "name": "stdout",
     "output_type": "stream",
     "text": [
      "sigma_e: 139.61 km/s\n",
      "theta_E: 0.416 arcsec\n"
     ]
    },
    {
     "name": "stdout",
     "output_type": "stream",
     "text": [
      "sigma_e: 140.78 km/s\n",
      "theta_E: 0.472 arcsec\n"
     ]
    },
    {
     "name": "stdout",
     "output_type": "stream",
     "text": [
      "sigma_e: 152.18 km/s\n",
      "theta_E: 0.437 arcsec\n"
     ]
    },
    {
     "name": "stdout",
     "output_type": "stream",
     "text": [
      "sigma_e: 146.02 km/s\n",
      "theta_E: 0.411 arcsec\n"
     ]
    },
    {
     "name": "stdout",
     "output_type": "stream",
     "text": [
      "sigma_e: 139.17 km/s\n"
     ]
    },
    {
     "name": "stdout",
     "output_type": "stream",
     "text": [
      "theta_E: 0.440 arcsec\n"
     ]
    },
    {
     "name": "stdout",
     "output_type": "stream",
     "text": [
      "sigma_e: 148.69 km/s\n",
      "theta_E: 0.412 arcsec\n"
     ]
    },
    {
     "name": "stdout",
     "output_type": "stream",
     "text": [
      "sigma_e: 144.19 km/s\n",
      "theta_E: 0.350 arcsec\n"
     ]
    },
    {
     "name": "stdout",
     "output_type": "stream",
     "text": [
      "sigma_e: 126.50 km/s\n",
      "theta_E: 0.343 arcsec\n"
     ]
    },
    {
     "name": "stdout",
     "output_type": "stream",
     "text": [
      "sigma_e: 123.82 km/s\n",
      "theta_E: 0.373 arcsec\n"
     ]
    },
    {
     "name": "stdout",
     "output_type": "stream",
     "text": [
      "sigma_e: 134.43 km/s\n",
      "theta_E: 0.419 arcsec\n"
     ]
    },
    {
     "name": "stdout",
     "output_type": "stream",
     "text": [
      "sigma_e: 145.36 km/s\n",
      "theta_E: 0.381 arcsec\n"
     ]
    },
    {
     "name": "stdout",
     "output_type": "stream",
     "text": [
      "sigma_e: 136.82 km/s\n",
      "theta_E: 0.348 arcsec\n"
     ]
    },
    {
     "name": "stdout",
     "output_type": "stream",
     "text": [
      "sigma_e: 125.82 km/s\n",
      "theta_E: 0.345 arcsec\n"
     ]
    },
    {
     "name": "stdout",
     "output_type": "stream",
     "text": [
      "sigma_e: 124.68 km/s\n",
      "theta_E: 0.417 arcsec\n"
     ]
    },
    {
     "name": "stdout",
     "output_type": "stream",
     "text": [
      "sigma_e: 145.04 km/s\n"
     ]
    },
    {
     "name": "stdout",
     "output_type": "stream",
     "text": [
      "theta_E: 0.429 arcsec\n"
     ]
    },
    {
     "name": "stdout",
     "output_type": "stream",
     "text": [
      "sigma_e: 146.13 km/s\n",
      "theta_E: 0.383 arcsec\n"
     ]
    },
    {
     "name": "stdout",
     "output_type": "stream",
     "text": [
      "sigma_e: 136.80 km/s\n",
      "theta_E: 0.403 arcsec\n"
     ]
    },
    {
     "name": "stdout",
     "output_type": "stream",
     "text": [
      "sigma_e: 141.54 km/s\n",
      "theta_E: 0.413 arcsec\n"
     ]
    },
    {
     "name": "stdout",
     "output_type": "stream",
     "text": [
      "sigma_e: 143.47 km/s\n",
      "theta_E: 0.354 arcsec\n"
     ]
    },
    {
     "name": "stdout",
     "output_type": "stream",
     "text": [
      "sigma_e: 127.30 km/s\n",
      "theta_E: 0.443 arcsec\n"
     ]
    },
    {
     "name": "stdout",
     "output_type": "stream",
     "text": [
      "sigma_e: 148.05 km/s\n",
      "theta_E: 0.373 arcsec\n"
     ]
    },
    {
     "name": "stdout",
     "output_type": "stream",
     "text": [
      "sigma_e: 133.84 km/s\n",
      "theta_E: 0.354 arcsec\n"
     ]
    },
    {
     "name": "stdout",
     "output_type": "stream",
     "text": [
      "sigma_e: 127.14 km/s\n",
      "theta_E: 0.458 arcsec\n"
     ]
    },
    {
     "name": "stdout",
     "output_type": "stream",
     "text": [
      "sigma_e: 149.68 km/s\n",
      "theta_E: 0.380 arcsec\n"
     ]
    },
    {
     "name": "stdout",
     "output_type": "stream",
     "text": [
      "sigma_e: 136.00 km/s\n"
     ]
    },
    {
     "name": "stdout",
     "output_type": "stream",
     "text": [
      "theta_E: 0.531 arcsec\n"
     ]
    },
    {
     "name": "stdout",
     "output_type": "stream",
     "text": [
      "sigma_e: 154.90 km/s\n",
      "theta_E: 0.557 arcsec\n"
     ]
    },
    {
     "name": "stdout",
     "output_type": "stream",
     "text": [
      "sigma_e: 162.35 km/s\n",
      "theta_E: 0.603 arcsec\n"
     ]
    },
    {
     "name": "stdout",
     "output_type": "stream",
     "text": [
      "sigma_e: 172.48 km/s\n",
      "theta_E: 0.601 arcsec\n"
     ]
    },
    {
     "name": "stdout",
     "output_type": "stream",
     "text": [
      "sigma_e: 172.11 km/s\n",
      "theta_E: 0.524 arcsec\n"
     ]
    },
    {
     "name": "stdout",
     "output_type": "stream",
     "text": [
      "sigma_e: 152.46 km/s\n",
      "theta_E: 0.691 arcsec\n"
     ]
    },
    {
     "name": "stdout",
     "output_type": "stream",
     "text": [
      "sigma_e: 183.85 km/s\n",
      "theta_E: 0.543 arcsec\n"
     ]
    },
    {
     "name": "stdout",
     "output_type": "stream",
     "text": [
      "sigma_e: 158.46 km/s\n",
      "theta_E: 0.546 arcsec\n"
     ]
    },
    {
     "name": "stdout",
     "output_type": "stream",
     "text": [
      "sigma_e: 159.37 km/s\n",
      "theta_E: 0.560 arcsec\n"
     ]
    },
    {
     "name": "stdout",
     "output_type": "stream",
     "text": [
      "sigma_e: 163.21 km/s\n",
      "theta_E: 0.531 arcsec\n"
     ]
    },
    {
     "name": "stdout",
     "output_type": "stream",
     "text": [
      "sigma_e: 155.00 km/s\n"
     ]
    },
    {
     "name": "stdout",
     "output_type": "stream",
     "text": [
      "theta_E: 0.353 arcsec\n"
     ]
    },
    {
     "name": "stdout",
     "output_type": "stream",
     "text": [
      "sigma_e: 130.59 km/s\n",
      "theta_E: 0.352 arcsec\n"
     ]
    },
    {
     "name": "stdout",
     "output_type": "stream",
     "text": [
      "sigma_e: 130.16 km/s\n",
      "theta_E: 0.393 arcsec\n"
     ]
    },
    {
     "name": "stdout",
     "output_type": "stream",
     "text": [
      "sigma_e: 138.84 km/s\n",
      "theta_E: 0.362 arcsec\n"
     ]
    },
    {
     "name": "stdout",
     "output_type": "stream",
     "text": [
      "sigma_e: 132.94 km/s\n",
      "theta_E: 0.351 arcsec\n"
     ]
    },
    {
     "name": "stdout",
     "output_type": "stream",
     "text": [
      "sigma_e: 129.89 km/s\n",
      "theta_E: 0.381 arcsec\n"
     ]
    },
    {
     "name": "stdout",
     "output_type": "stream",
     "text": [
      "sigma_e: 136.90 km/s\n",
      "theta_E: 0.350 arcsec\n"
     ]
    },
    {
     "name": "stdout",
     "output_type": "stream",
     "text": [
      "sigma_e: 129.76 km/s\n",
      "theta_E: 0.372 arcsec\n"
     ]
    },
    {
     "name": "stdout",
     "output_type": "stream",
     "text": [
      "sigma_e: 135.25 km/s\n",
      "theta_E: 0.377 arcsec\n"
     ]
    },
    {
     "name": "stdout",
     "output_type": "stream",
     "text": [
      "sigma_e: 136.11 km/s\n",
      "theta_E: 0.385 arcsec\n"
     ]
    },
    {
     "name": "stdout",
     "output_type": "stream",
     "text": [
      "sigma_e: 137.61 km/s\n"
     ]
    },
    {
     "name": "stdout",
     "output_type": "stream",
     "text": [
      "theta_E: 0.430 arcsec\n"
     ]
    },
    {
     "name": "stdout",
     "output_type": "stream",
     "text": [
      "sigma_e: 142.35 km/s\n",
      "theta_E: 0.461 arcsec\n"
     ]
    },
    {
     "name": "stdout",
     "output_type": "stream",
     "text": [
      "sigma_e: 150.39 km/s\n",
      "theta_E: 0.535 arcsec\n"
     ]
    },
    {
     "name": "stdout",
     "output_type": "stream",
     "text": [
      "sigma_e: 161.98 km/s\n",
      "theta_E: 0.419 arcsec\n"
     ]
    },
    {
     "name": "stdout",
     "output_type": "stream",
     "text": [
      "sigma_e: 138.63 km/s\n",
      "theta_E: 0.495 arcsec\n"
     ]
    },
    {
     "name": "stdout",
     "output_type": "stream",
     "text": [
      "sigma_e: 156.99 km/s\n",
      "theta_E: 0.519 arcsec\n"
     ]
    },
    {
     "name": "stdout",
     "output_type": "stream",
     "text": [
      "sigma_e: 160.24 km/s\n",
      "theta_E: 0.517 arcsec\n"
     ]
    },
    {
     "name": "stdout",
     "output_type": "stream",
     "text": [
      "sigma_e: 160.03 km/s\n",
      "theta_E: 0.539 arcsec\n"
     ]
    },
    {
     "name": "stdout",
     "output_type": "stream",
     "text": [
      "sigma_e: 162.40 km/s\n",
      "theta_E: 0.544 arcsec\n"
     ]
    },
    {
     "name": "stdout",
     "output_type": "stream",
     "text": [
      "sigma_e: 162.94 km/s\n",
      "theta_E: 0.425 arcsec\n"
     ]
    },
    {
     "name": "stdout",
     "output_type": "stream",
     "text": [
      "sigma_e: 140.56 km/s\n"
     ]
    },
    {
     "name": "stdout",
     "output_type": "stream",
     "text": [
      "theta_E: 0.419 arcsec\n"
     ]
    },
    {
     "name": "stdout",
     "output_type": "stream",
     "text": [
      "sigma_e: 138.52 km/s\n",
      "theta_E: 0.452 arcsec\n"
     ]
    },
    {
     "name": "stdout",
     "output_type": "stream",
     "text": [
      "sigma_e: 148.36 km/s\n",
      "theta_E: 0.431 arcsec\n"
     ]
    },
    {
     "name": "stdout",
     "output_type": "stream",
     "text": [
      "sigma_e: 142.48 km/s\n",
      "theta_E: 0.404 arcsec\n"
     ]
    },
    {
     "name": "stdout",
     "output_type": "stream",
     "text": [
      "sigma_e: 132.94 km/s\n",
      "theta_E: 0.428 arcsec\n"
     ]
    },
    {
     "name": "stdout",
     "output_type": "stream",
     "text": [
      "sigma_e: 141.56 km/s\n",
      "theta_E: 0.406 arcsec\n"
     ]
    },
    {
     "name": "stdout",
     "output_type": "stream",
     "text": [
      "sigma_e: 133.60 km/s\n",
      "theta_E: 0.521 arcsec\n"
     ]
    },
    {
     "name": "stdout",
     "output_type": "stream",
     "text": [
      "sigma_e: 160.83 km/s\n",
      "theta_E: 0.412 arcsec\n"
     ]
    },
    {
     "name": "stdout",
     "output_type": "stream",
     "text": [
      "sigma_e: 136.21 km/s\n",
      "theta_E: 0.476 arcsec\n"
     ]
    },
    {
     "name": "stdout",
     "output_type": "stream",
     "text": [
      "sigma_e: 153.73 km/s\n",
      "theta_E: 0.404 arcsec\n"
     ]
    },
    {
     "name": "stdout",
     "output_type": "stream",
     "text": [
      "sigma_e: 132.83 km/s\n"
     ]
    },
    {
     "name": "stdout",
     "output_type": "stream",
     "text": [
      "theta_E: 0.624 arcsec\n"
     ]
    },
    {
     "name": "stdout",
     "output_type": "stream",
     "text": [
      "sigma_e: 169.63 km/s\n",
      "theta_E: 0.645 arcsec\n"
     ]
    },
    {
     "name": "stdout",
     "output_type": "stream",
     "text": [
      "sigma_e: 174.96 km/s\n",
      "theta_E: 0.773 arcsec\n"
     ]
    },
    {
     "name": "stdout",
     "output_type": "stream",
     "text": [
      "sigma_e: 193.51 km/s\n",
      "theta_E: 0.623 arcsec\n"
     ]
    },
    {
     "name": "stdout",
     "output_type": "stream",
     "text": [
      "sigma_e: 169.27 km/s\n",
      "theta_E: 0.771 arcsec\n"
     ]
    },
    {
     "name": "stdout",
     "output_type": "stream",
     "text": [
      "sigma_e: 193.32 km/s\n",
      "theta_E: 0.715 arcsec\n"
     ]
    },
    {
     "name": "stdout",
     "output_type": "stream",
     "text": [
      "sigma_e: 187.32 km/s\n",
      "theta_E: 0.632 arcsec\n"
     ]
    },
    {
     "name": "stdout",
     "output_type": "stream",
     "text": [
      "sigma_e: 171.72 km/s\n",
      "theta_E: 0.623 arcsec\n"
     ]
    },
    {
     "name": "stdout",
     "output_type": "stream",
     "text": [
      "sigma_e: 169.31 km/s\n",
      "theta_E: 0.655 arcsec\n"
     ]
    },
    {
     "name": "stdout",
     "output_type": "stream",
     "text": [
      "sigma_e: 177.10 km/s\n",
      "theta_E: 0.624 arcsec\n"
     ]
    },
    {
     "name": "stdout",
     "output_type": "stream",
     "text": [
      "sigma_e: 169.59 km/s\n"
     ]
    },
    {
     "name": "stdout",
     "output_type": "stream",
     "text": [
      "theta_E: 0.499 arcsec\n"
     ]
    },
    {
     "name": "stdout",
     "output_type": "stream",
     "text": [
      "sigma_e: 156.75 km/s\n",
      "theta_E: 0.498 arcsec\n"
     ]
    },
    {
     "name": "stdout",
     "output_type": "stream",
     "text": [
      "sigma_e: 156.60 km/s\n",
      "theta_E: 0.507 arcsec\n"
     ]
    },
    {
     "name": "stdout",
     "output_type": "stream",
     "text": [
      "sigma_e: 157.91 km/s\n",
      "theta_E: 0.504 arcsec\n"
     ]
    },
    {
     "name": "stdout",
     "output_type": "stream",
     "text": [
      "sigma_e: 157.53 km/s\n",
      "theta_E: 0.455 arcsec\n"
     ]
    },
    {
     "name": "stdout",
     "output_type": "stream",
     "text": [
      "sigma_e: 148.68 km/s\n",
      "theta_E: 0.426 arcsec\n"
     ]
    },
    {
     "name": "stdout",
     "output_type": "stream",
     "text": [
      "sigma_e: 140.28 km/s\n",
      "theta_E: 0.486 arcsec\n"
     ]
    },
    {
     "name": "stdout",
     "output_type": "stream",
     "text": [
      "sigma_e: 154.68 km/s\n",
      "theta_E: 0.463 arcsec\n"
     ]
    },
    {
     "name": "stdout",
     "output_type": "stream",
     "text": [
      "sigma_e: 150.30 km/s\n",
      "theta_E: 0.435 arcsec\n"
     ]
    },
    {
     "name": "stdout",
     "output_type": "stream",
     "text": [
      "sigma_e: 143.33 km/s\n",
      "theta_E: 0.419 arcsec\n"
     ]
    },
    {
     "name": "stdout",
     "output_type": "stream",
     "text": [
      "sigma_e: 138.10 km/s\n"
     ]
    },
    {
     "name": "stdout",
     "output_type": "stream",
     "text": [
      "theta_E: 0.445 arcsec\n"
     ]
    },
    {
     "name": "stdout",
     "output_type": "stream",
     "text": [
      "sigma_e: 148.72 km/s\n",
      "theta_E: 0.407 arcsec\n"
     ]
    },
    {
     "name": "stdout",
     "output_type": "stream",
     "text": [
      "sigma_e: 140.63 km/s\n",
      "theta_E: 0.446 arcsec\n"
     ]
    },
    {
     "name": "stdout",
     "output_type": "stream",
     "text": [
      "sigma_e: 148.88 km/s\n",
      "theta_E: 0.359 arcsec\n"
     ]
    },
    {
     "name": "stdout",
     "output_type": "stream",
     "text": [
      "sigma_e: 123.90 km/s\n",
      "theta_E: 0.358 arcsec\n"
     ]
    },
    {
     "name": "stdout",
     "output_type": "stream",
     "text": [
      "sigma_e: 123.15 km/s\n",
      "theta_E: 0.497 arcsec\n"
     ]
    },
    {
     "name": "stdout",
     "output_type": "stream",
     "text": [
      "sigma_e: 155.56 km/s\n",
      "theta_E: 0.498 arcsec\n"
     ]
    },
    {
     "name": "stdout",
     "output_type": "stream",
     "text": [
      "sigma_e: 155.72 km/s\n",
      "theta_E: 0.358 arcsec\n"
     ]
    },
    {
     "name": "stdout",
     "output_type": "stream",
     "text": [
      "sigma_e: 123.21 km/s\n",
      "theta_E: 0.392 arcsec\n"
     ]
    },
    {
     "name": "stdout",
     "output_type": "stream",
     "text": [
      "sigma_e: 136.25 km/s\n",
      "theta_E: 0.384 arcsec\n"
     ]
    },
    {
     "name": "stdout",
     "output_type": "stream",
     "text": [
      "sigma_e: 133.43 km/s\n"
     ]
    },
    {
     "name": "stdout",
     "output_type": "stream",
     "text": [
      "theta_E: 0.396 arcsec\n"
     ]
    },
    {
     "name": "stdout",
     "output_type": "stream",
     "text": [
      "sigma_e: 138.80 km/s\n",
      "theta_E: 0.381 arcsec\n"
     ]
    },
    {
     "name": "stdout",
     "output_type": "stream",
     "text": [
      "sigma_e: 134.43 km/s\n",
      "theta_E: 0.383 arcsec\n"
     ]
    },
    {
     "name": "stdout",
     "output_type": "stream",
     "text": [
      "sigma_e: 134.79 km/s\n",
      "theta_E: 0.390 arcsec\n"
     ]
    },
    {
     "name": "stdout",
     "output_type": "stream",
     "text": [
      "sigma_e: 136.89 km/s\n",
      "theta_E: 0.369 arcsec\n"
     ]
    },
    {
     "name": "stdout",
     "output_type": "stream",
     "text": [
      "sigma_e: 129.98 km/s\n",
      "theta_E: 0.413 arcsec\n"
     ]
    },
    {
     "name": "stdout",
     "output_type": "stream",
     "text": [
      "sigma_e: 142.90 km/s\n",
      "theta_E: 0.438 arcsec\n"
     ]
    },
    {
     "name": "stdout",
     "output_type": "stream",
     "text": [
      "sigma_e: 147.44 km/s\n",
      "theta_E: 0.472 arcsec\n"
     ]
    },
    {
     "name": "stdout",
     "output_type": "stream",
     "text": [
      "sigma_e: 151.81 km/s\n",
      "theta_E: 0.438 arcsec\n"
     ]
    },
    {
     "name": "stdout",
     "output_type": "stream",
     "text": [
      "sigma_e: 147.42 km/s\n",
      "theta_E: 0.371 arcsec\n"
     ]
    },
    {
     "name": "stdout",
     "output_type": "stream",
     "text": [
      "sigma_e: 130.62 km/s\n"
     ]
    },
    {
     "name": "stdout",
     "output_type": "stream",
     "text": [
      "theta_E: 0.451 arcsec\n"
     ]
    },
    {
     "name": "stdout",
     "output_type": "stream",
     "text": [
      "sigma_e: 149.24 km/s\n",
      "theta_E: 0.410 arcsec\n"
     ]
    },
    {
     "name": "stdout",
     "output_type": "stream",
     "text": [
      "sigma_e: 139.29 km/s\n",
      "theta_E: 0.413 arcsec\n"
     ]
    },
    {
     "name": "stdout",
     "output_type": "stream",
     "text": [
      "sigma_e: 140.17 km/s\n",
      "theta_E: 0.445 arcsec\n"
     ]
    },
    {
     "name": "stdout",
     "output_type": "stream",
     "text": [
      "sigma_e: 148.07 km/s\n",
      "theta_E: 0.409 arcsec\n"
     ]
    },
    {
     "name": "stdout",
     "output_type": "stream",
     "text": [
      "sigma_e: 138.86 km/s\n",
      "theta_E: 0.480 arcsec\n"
     ]
    },
    {
     "name": "stdout",
     "output_type": "stream",
     "text": [
      "sigma_e: 153.76 km/s\n",
      "theta_E: 0.485 arcsec\n"
     ]
    },
    {
     "name": "stdout",
     "output_type": "stream",
     "text": [
      "sigma_e: 154.41 km/s\n",
      "theta_E: 0.415 arcsec\n"
     ]
    },
    {
     "name": "stdout",
     "output_type": "stream",
     "text": [
      "sigma_e: 140.90 km/s\n",
      "theta_E: 0.419 arcsec\n"
     ]
    },
    {
     "name": "stdout",
     "output_type": "stream",
     "text": [
      "sigma_e: 141.84 km/s\n",
      "theta_E: 0.411 arcsec\n"
     ]
    },
    {
     "name": "stdout",
     "output_type": "stream",
     "text": [
      "sigma_e: 139.53 km/s\n"
     ]
    },
    {
     "name": "stdout",
     "output_type": "stream",
     "text": [
      "theta_E: 0.401 arcsec\n"
     ]
    },
    {
     "name": "stdout",
     "output_type": "stream",
     "text": [
      "sigma_e: 139.14 km/s\n",
      "theta_E: 0.426 arcsec\n"
     ]
    },
    {
     "name": "stdout",
     "output_type": "stream",
     "text": [
      "sigma_e: 144.98 km/s\n",
      "theta_E: 0.437 arcsec\n"
     ]
    },
    {
     "name": "stdout",
     "output_type": "stream",
     "text": [
      "sigma_e: 147.06 km/s\n",
      "theta_E: 0.453 arcsec\n"
     ]
    },
    {
     "name": "stdout",
     "output_type": "stream",
     "text": [
      "sigma_e: 149.40 km/s\n",
      "theta_E: 0.423 arcsec\n"
     ]
    },
    {
     "name": "stdout",
     "output_type": "stream",
     "text": [
      "sigma_e: 144.41 km/s\n",
      "theta_E: 0.385 arcsec\n"
     ]
    },
    {
     "name": "stdout",
     "output_type": "stream",
     "text": [
      "sigma_e: 134.24 km/s\n",
      "theta_E: 0.394 arcsec\n"
     ]
    },
    {
     "name": "stdout",
     "output_type": "stream",
     "text": [
      "sigma_e: 137.02 km/s\n",
      "theta_E: 0.385 arcsec\n"
     ]
    },
    {
     "name": "stdout",
     "output_type": "stream",
     "text": [
      "sigma_e: 134.31 km/s\n",
      "theta_E: 0.439 arcsec\n"
     ]
    },
    {
     "name": "stdout",
     "output_type": "stream",
     "text": [
      "sigma_e: 147.33 km/s\n",
      "theta_E: 0.403 arcsec\n"
     ]
    },
    {
     "name": "stdout",
     "output_type": "stream",
     "text": [
      "sigma_e: 139.64 km/s\n"
     ]
    },
    {
     "name": "stdout",
     "output_type": "stream",
     "text": [
      "theta_E: 0.528 arcsec\n"
     ]
    },
    {
     "name": "stdout",
     "output_type": "stream",
     "text": [
      "sigma_e: 158.28 km/s\n",
      "theta_E: 0.613 arcsec\n"
     ]
    },
    {
     "name": "stdout",
     "output_type": "stream",
     "text": [
      "sigma_e: 172.95 km/s\n",
      "theta_E: 0.605 arcsec\n"
     ]
    },
    {
     "name": "stdout",
     "output_type": "stream",
     "text": [
      "sigma_e: 172.07 km/s\n",
      "theta_E: 0.522 arcsec\n"
     ]
    },
    {
     "name": "stdout",
     "output_type": "stream",
     "text": [
      "sigma_e: 156.70 km/s\n",
      "theta_E: 0.586 arcsec\n"
     ]
    },
    {
     "name": "stdout",
     "output_type": "stream",
     "text": [
      "sigma_e: 169.52 km/s\n",
      "theta_E: 0.561 arcsec\n"
     ]
    },
    {
     "name": "stdout",
     "output_type": "stream",
     "text": [
      "sigma_e: 165.40 km/s\n",
      "theta_E: 0.616 arcsec\n"
     ]
    },
    {
     "name": "stdout",
     "output_type": "stream",
     "text": [
      "sigma_e: 173.23 km/s\n",
      "theta_E: 0.555 arcsec\n"
     ]
    },
    {
     "name": "stdout",
     "output_type": "stream",
     "text": [
      "sigma_e: 164.27 km/s\n",
      "theta_E: 0.524 arcsec\n"
     ]
    },
    {
     "name": "stdout",
     "output_type": "stream",
     "text": [
      "sigma_e: 157.08 km/s\n",
      "theta_E: 0.522 arcsec\n"
     ]
    },
    {
     "name": "stdout",
     "output_type": "stream",
     "text": [
      "sigma_e: 156.70 km/s\n"
     ]
    },
    {
     "name": "stdout",
     "output_type": "stream",
     "text": [
      "theta_E: 0.551 arcsec\n"
     ]
    },
    {
     "name": "stdout",
     "output_type": "stream",
     "text": [
      "sigma_e: 164.57 km/s\n",
      "theta_E: 0.537 arcsec\n"
     ]
    },
    {
     "name": "stdout",
     "output_type": "stream",
     "text": [
      "sigma_e: 162.84 km/s\n",
      "theta_E: 0.536 arcsec\n"
     ]
    },
    {
     "name": "stdout",
     "output_type": "stream",
     "text": [
      "sigma_e: 162.72 km/s\n",
      "theta_E: 0.520 arcsec\n"
     ]
    },
    {
     "name": "stdout",
     "output_type": "stream",
     "text": [
      "sigma_e: 160.63 km/s\n",
      "theta_E: 0.423 arcsec\n"
     ]
    },
    {
     "name": "stdout",
     "output_type": "stream",
     "text": [
      "sigma_e: 137.27 km/s\n",
      "theta_E: 0.520 arcsec\n"
     ]
    },
    {
     "name": "stdout",
     "output_type": "stream",
     "text": [
      "sigma_e: 160.62 km/s\n",
      "theta_E: 0.432 arcsec\n"
     ]
    },
    {
     "name": "stdout",
     "output_type": "stream",
     "text": [
      "sigma_e: 140.34 km/s\n",
      "theta_E: 0.466 arcsec\n"
     ]
    },
    {
     "name": "stdout",
     "output_type": "stream",
     "text": [
      "sigma_e: 150.34 km/s\n",
      "theta_E: 0.555 arcsec\n"
     ]
    },
    {
     "name": "stdout",
     "output_type": "stream",
     "text": [
      "sigma_e: 164.97 km/s\n",
      "theta_E: 0.423 arcsec\n"
     ]
    },
    {
     "name": "stdout",
     "output_type": "stream",
     "text": [
      "sigma_e: 137.12 km/s\n"
     ]
    },
    {
     "name": "stdout",
     "output_type": "stream",
     "text": [
      "theta_E: 0.466 arcsec\n"
     ]
    },
    {
     "name": "stdout",
     "output_type": "stream",
     "text": [
      "sigma_e: 149.71 km/s\n",
      "theta_E: 0.470 arcsec\n"
     ]
    },
    {
     "name": "stdout",
     "output_type": "stream",
     "text": [
      "sigma_e: 150.75 km/s\n",
      "theta_E: 0.465 arcsec\n"
     ]
    },
    {
     "name": "stdout",
     "output_type": "stream",
     "text": [
      "sigma_e: 149.41 km/s\n",
      "theta_E: 0.440 arcsec\n"
     ]
    },
    {
     "name": "stdout",
     "output_type": "stream",
     "text": [
      "sigma_e: 142.09 km/s\n",
      "theta_E: 0.529 arcsec\n"
     ]
    },
    {
     "name": "stdout",
     "output_type": "stream",
     "text": [
      "sigma_e: 161.06 km/s\n",
      "theta_E: 0.521 arcsec\n"
     ]
    },
    {
     "name": "stdout",
     "output_type": "stream",
     "text": [
      "sigma_e: 160.02 km/s\n",
      "theta_E: 0.456 arcsec\n"
     ]
    },
    {
     "name": "stdout",
     "output_type": "stream",
     "text": [
      "sigma_e: 147.10 km/s\n",
      "theta_E: 0.522 arcsec\n"
     ]
    },
    {
     "name": "stdout",
     "output_type": "stream",
     "text": [
      "sigma_e: 160.12 km/s\n",
      "theta_E: 0.536 arcsec\n"
     ]
    },
    {
     "name": "stdout",
     "output_type": "stream",
     "text": [
      "sigma_e: 161.89 km/s\n",
      "theta_E: 0.460 arcsec\n"
     ]
    },
    {
     "name": "stdout",
     "output_type": "stream",
     "text": [
      "sigma_e: 148.08 km/s\n"
     ]
    },
    {
     "name": "stdout",
     "output_type": "stream",
     "text": [
      "theta_E: 0.423 arcsec\n"
     ]
    },
    {
     "name": "stdout",
     "output_type": "stream",
     "text": [
      "sigma_e: 142.44 km/s\n",
      "theta_E: 0.412 arcsec\n"
     ]
    },
    {
     "name": "stdout",
     "output_type": "stream",
     "text": [
      "sigma_e: 139.02 km/s\n",
      "theta_E: 0.428 arcsec\n"
     ]
    },
    {
     "name": "stdout",
     "output_type": "stream",
     "text": [
      "sigma_e: 143.79 km/s\n",
      "theta_E: 0.444 arcsec\n"
     ]
    },
    {
     "name": "stdout",
     "output_type": "stream",
     "text": [
      "sigma_e: 147.70 km/s\n",
      "theta_E: 0.421 arcsec\n"
     ]
    },
    {
     "name": "stdout",
     "output_type": "stream",
     "text": [
      "sigma_e: 142.03 km/s\n",
      "theta_E: 0.441 arcsec\n"
     ]
    },
    {
     "name": "stdout",
     "output_type": "stream",
     "text": [
      "sigma_e: 147.02 km/s\n",
      "theta_E: 0.417 arcsec\n"
     ]
    },
    {
     "name": "stdout",
     "output_type": "stream",
     "text": [
      "sigma_e: 140.54 km/s\n",
      "theta_E: 0.426 arcsec\n"
     ]
    },
    {
     "name": "stdout",
     "output_type": "stream",
     "text": [
      "sigma_e: 143.32 km/s\n",
      "theta_E: 0.428 arcsec\n"
     ]
    },
    {
     "name": "stdout",
     "output_type": "stream",
     "text": [
      "sigma_e: 143.70 km/s\n",
      "theta_E: 0.418 arcsec\n"
     ]
    },
    {
     "name": "stdout",
     "output_type": "stream",
     "text": [
      "sigma_e: 141.01 km/s\n"
     ]
    },
    {
     "name": "stdout",
     "output_type": "stream",
     "text": [
      "theta_E: 0.416 arcsec\n"
     ]
    },
    {
     "name": "stdout",
     "output_type": "stream",
     "text": [
      "sigma_e: 144.15 km/s\n",
      "theta_E: 0.378 arcsec\n"
     ]
    },
    {
     "name": "stdout",
     "output_type": "stream",
     "text": [
      "sigma_e: 135.67 km/s\n",
      "theta_E: 0.448 arcsec\n"
     ]
    },
    {
     "name": "stdout",
     "output_type": "stream",
     "text": [
      "sigma_e: 148.90 km/s\n",
      "theta_E: 0.342 arcsec\n"
     ]
    },
    {
     "name": "stdout",
     "output_type": "stream",
     "text": [
      "sigma_e: 122.79 km/s\n",
      "theta_E: 0.462 arcsec\n"
     ]
    },
    {
     "name": "stdout",
     "output_type": "stream",
     "text": [
      "sigma_e: 150.40 km/s\n",
      "theta_E: 0.355 arcsec\n"
     ]
    },
    {
     "name": "stdout",
     "output_type": "stream",
     "text": [
      "sigma_e: 127.93 km/s\n",
      "theta_E: 0.392 arcsec\n"
     ]
    },
    {
     "name": "stdout",
     "output_type": "stream",
     "text": [
      "sigma_e: 139.23 km/s\n",
      "theta_E: 0.342 arcsec\n"
     ]
    },
    {
     "name": "stdout",
     "output_type": "stream",
     "text": [
      "sigma_e: 122.88 km/s\n",
      "theta_E: 0.371 arcsec\n"
     ]
    },
    {
     "name": "stdout",
     "output_type": "stream",
     "text": [
      "sigma_e: 133.40 km/s\n",
      "theta_E: 0.402 arcsec\n"
     ]
    },
    {
     "name": "stdout",
     "output_type": "stream",
     "text": [
      "sigma_e: 141.37 km/s\n"
     ]
    },
    {
     "name": "stdout",
     "output_type": "stream",
     "text": [
      "theta_E: 0.423 arcsec\n"
     ]
    },
    {
     "name": "stdout",
     "output_type": "stream",
     "text": [
      "sigma_e: 145.39 km/s\n",
      "theta_E: 0.350 arcsec\n"
     ]
    },
    {
     "name": "stdout",
     "output_type": "stream",
     "text": [
      "sigma_e: 124.71 km/s\n",
      "theta_E: 0.348 arcsec\n"
     ]
    },
    {
     "name": "stdout",
     "output_type": "stream",
     "text": [
      "sigma_e: 123.82 km/s\n",
      "theta_E: 0.422 arcsec\n"
     ]
    },
    {
     "name": "stdout",
     "output_type": "stream",
     "text": [
      "sigma_e: 145.22 km/s\n",
      "theta_E: 0.369 arcsec\n"
     ]
    },
    {
     "name": "stdout",
     "output_type": "stream",
     "text": [
      "sigma_e: 131.67 km/s\n",
      "theta_E: 0.347 arcsec\n"
     ]
    },
    {
     "name": "stdout",
     "output_type": "stream",
     "text": [
      "sigma_e: 123.33 km/s\n",
      "theta_E: 0.403 arcsec\n"
     ]
    },
    {
     "name": "stdout",
     "output_type": "stream",
     "text": [
      "sigma_e: 141.40 km/s\n",
      "theta_E: 0.361 arcsec\n"
     ]
    },
    {
     "name": "stdout",
     "output_type": "stream",
     "text": [
      "sigma_e: 129.06 km/s\n",
      "theta_E: 0.463 arcsec\n"
     ]
    },
    {
     "name": "stdout",
     "output_type": "stream",
     "text": [
      "sigma_e: 151.15 km/s\n",
      "theta_E: 0.358 arcsec\n"
     ]
    },
    {
     "name": "stdout",
     "output_type": "stream",
     "text": [
      "sigma_e: 127.81 km/s\n"
     ]
    },
    {
     "name": "stdout",
     "output_type": "stream",
     "text": [
      "theta_E: 0.376 arcsec\n"
     ]
    },
    {
     "name": "stdout",
     "output_type": "stream",
     "text": [
      "sigma_e: 131.55 km/s\n",
      "theta_E: 0.384 arcsec\n"
     ]
    },
    {
     "name": "stdout",
     "output_type": "stream",
     "text": [
      "sigma_e: 134.24 km/s\n",
      "theta_E: 0.441 arcsec\n"
     ]
    },
    {
     "name": "stdout",
     "output_type": "stream",
     "text": [
      "sigma_e: 147.74 km/s\n",
      "theta_E: 0.457 arcsec\n"
     ]
    },
    {
     "name": "stdout",
     "output_type": "stream",
     "text": [
      "sigma_e: 150.12 km/s\n",
      "theta_E: 0.448 arcsec\n"
     ]
    },
    {
     "name": "stdout",
     "output_type": "stream",
     "text": [
      "sigma_e: 148.86 km/s\n",
      "theta_E: 0.401 arcsec\n"
     ]
    },
    {
     "name": "stdout",
     "output_type": "stream",
     "text": [
      "sigma_e: 139.21 km/s\n",
      "theta_E: 0.427 arcsec\n"
     ]
    },
    {
     "name": "stdout",
     "output_type": "stream",
     "text": [
      "sigma_e: 145.21 km/s\n",
      "theta_E: 0.372 arcsec\n"
     ]
    },
    {
     "name": "stdout",
     "output_type": "stream",
     "text": [
      "sigma_e: 129.93 km/s\n",
      "theta_E: 0.456 arcsec\n"
     ]
    },
    {
     "name": "stdout",
     "output_type": "stream",
     "text": [
      "sigma_e: 150.02 km/s\n",
      "theta_E: 0.418 arcsec\n"
     ]
    },
    {
     "name": "stdout",
     "output_type": "stream",
     "text": [
      "sigma_e: 143.39 km/s\n"
     ]
    },
    {
     "name": "stdout",
     "output_type": "stream",
     "text": [
      "theta_E: 0.361 arcsec\n"
     ]
    },
    {
     "name": "stdout",
     "output_type": "stream",
     "text": [
      "sigma_e: 130.12 km/s\n",
      "theta_E: 0.358 arcsec\n"
     ]
    },
    {
     "name": "stdout",
     "output_type": "stream",
     "text": [
      "sigma_e: 129.21 km/s\n",
      "theta_E: 0.362 arcsec\n"
     ]
    },
    {
     "name": "stdout",
     "output_type": "stream",
     "text": [
      "sigma_e: 130.46 km/s\n",
      "theta_E: 0.388 arcsec\n"
     ]
    },
    {
     "name": "stdout",
     "output_type": "stream",
     "text": [
      "sigma_e: 138.04 km/s\n",
      "theta_E: 0.414 arcsec\n"
     ]
    },
    {
     "name": "stdout",
     "output_type": "stream",
     "text": [
      "sigma_e: 143.62 km/s\n",
      "theta_E: 0.347 arcsec\n"
     ]
    },
    {
     "name": "stdout",
     "output_type": "stream",
     "text": [
      "sigma_e: 124.79 km/s\n",
      "theta_E: 0.354 arcsec\n"
     ]
    },
    {
     "name": "stdout",
     "output_type": "stream",
     "text": [
      "sigma_e: 127.41 km/s\n",
      "theta_E: 0.350 arcsec\n"
     ]
    },
    {
     "name": "stdout",
     "output_type": "stream",
     "text": [
      "sigma_e: 126.17 km/s\n",
      "theta_E: 0.415 arcsec\n"
     ]
    },
    {
     "name": "stdout",
     "output_type": "stream",
     "text": [
      "sigma_e: 143.93 km/s\n",
      "theta_E: 0.365 arcsec\n"
     ]
    },
    {
     "name": "stdout",
     "output_type": "stream",
     "text": [
      "sigma_e: 131.38 km/s\n"
     ]
    },
    {
     "name": "stdout",
     "output_type": "stream",
     "text": [
      "theta_E: 0.449 arcsec\n"
     ]
    },
    {
     "name": "stdout",
     "output_type": "stream",
     "text": [
      "sigma_e: 148.65 km/s\n",
      "theta_E: 0.395 arcsec\n"
     ]
    },
    {
     "name": "stdout",
     "output_type": "stream",
     "text": [
      "sigma_e: 139.34 km/s\n",
      "theta_E: 0.419 arcsec\n"
     ]
    },
    {
     "name": "stdout",
     "output_type": "stream",
     "text": [
      "sigma_e: 144.39 km/s\n",
      "theta_E: 0.404 arcsec\n"
     ]
    },
    {
     "name": "stdout",
     "output_type": "stream",
     "text": [
      "sigma_e: 141.50 km/s\n",
      "theta_E: 0.398 arcsec\n"
     ]
    },
    {
     "name": "stdout",
     "output_type": "stream",
     "text": [
      "sigma_e: 140.04 km/s\n",
      "theta_E: 0.450 arcsec\n"
     ]
    },
    {
     "name": "stdout",
     "output_type": "stream",
     "text": [
      "sigma_e: 148.80 km/s\n",
      "theta_E: 0.412 arcsec\n"
     ]
    },
    {
     "name": "stdout",
     "output_type": "stream",
     "text": [
      "sigma_e: 143.10 km/s\n",
      "theta_E: 0.377 arcsec\n"
     ]
    },
    {
     "name": "stdout",
     "output_type": "stream",
     "text": [
      "sigma_e: 134.46 km/s\n",
      "theta_E: 0.405 arcsec\n"
     ]
    },
    {
     "name": "stdout",
     "output_type": "stream",
     "text": [
      "sigma_e: 141.67 km/s\n",
      "theta_E: 0.371 arcsec\n"
     ]
    },
    {
     "name": "stdout",
     "output_type": "stream",
     "text": [
      "sigma_e: 132.45 km/s\n"
     ]
    },
    {
     "name": "stdout",
     "output_type": "stream",
     "text": [
      "theta_E: 0.353 arcsec\n"
     ]
    },
    {
     "name": "stdout",
     "output_type": "stream",
     "text": [
      "sigma_e: 125.30 km/s\n",
      "theta_E: 0.427 arcsec\n"
     ]
    },
    {
     "name": "stdout",
     "output_type": "stream",
     "text": [
      "sigma_e: 145.79 km/s\n",
      "theta_E: 0.371 arcsec\n"
     ]
    },
    {
     "name": "stdout",
     "output_type": "stream",
     "text": [
      "sigma_e: 132.11 km/s\n",
      "theta_E: 0.349 arcsec\n"
     ]
    },
    {
     "name": "stdout",
     "output_type": "stream",
     "text": [
      "sigma_e: 123.87 km/s\n",
      "theta_E: 0.381 arcsec\n"
     ]
    },
    {
     "name": "stdout",
     "output_type": "stream",
     "text": [
      "sigma_e: 135.30 km/s\n",
      "theta_E: 0.362 arcsec\n"
     ]
    },
    {
     "name": "stdout",
     "output_type": "stream",
     "text": [
      "sigma_e: 129.11 km/s\n",
      "theta_E: 0.437 arcsec\n"
     ]
    },
    {
     "name": "stdout",
     "output_type": "stream",
     "text": [
      "sigma_e: 147.51 km/s\n",
      "theta_E: 0.444 arcsec\n"
     ]
    },
    {
     "name": "stdout",
     "output_type": "stream",
     "text": [
      "sigma_e: 148.42 km/s\n",
      "theta_E: 0.365 arcsec\n"
     ]
    },
    {
     "name": "stdout",
     "output_type": "stream",
     "text": [
      "sigma_e: 129.99 km/s\n",
      "theta_E: 0.350 arcsec\n"
     ]
    },
    {
     "name": "stdout",
     "output_type": "stream",
     "text": [
      "sigma_e: 124.10 km/s\n"
     ]
    },
    {
     "name": "stdout",
     "output_type": "stream",
     "text": [
      "theta_E: 0.412 arcsec\n"
     ]
    },
    {
     "name": "stdout",
     "output_type": "stream",
     "text": [
      "sigma_e: 141.41 km/s\n",
      "theta_E: 0.430 arcsec\n"
     ]
    },
    {
     "name": "stdout",
     "output_type": "stream",
     "text": [
      "sigma_e: 145.93 km/s\n",
      "theta_E: 0.477 arcsec\n"
     ]
    },
    {
     "name": "stdout",
     "output_type": "stream",
     "text": [
      "sigma_e: 153.81 km/s\n",
      "theta_E: 0.444 arcsec\n"
     ]
    },
    {
     "name": "stdout",
     "output_type": "stream",
     "text": [
      "sigma_e: 148.67 km/s\n",
      "theta_E: 0.375 arcsec\n"
     ]
    },
    {
     "name": "stdout",
     "output_type": "stream",
     "text": [
      "sigma_e: 129.10 km/s\n",
      "theta_E: 0.375 arcsec\n"
     ]
    },
    {
     "name": "stdout",
     "output_type": "stream",
     "text": [
      "sigma_e: 129.26 km/s\n",
      "theta_E: 0.370 arcsec\n"
     ]
    },
    {
     "name": "stdout",
     "output_type": "stream",
     "text": [
      "sigma_e: 127.27 km/s\n",
      "theta_E: 0.467 arcsec\n"
     ]
    },
    {
     "name": "stdout",
     "output_type": "stream",
     "text": [
      "sigma_e: 152.49 km/s\n",
      "theta_E: 0.382 arcsec\n"
     ]
    },
    {
     "name": "stdout",
     "output_type": "stream",
     "text": [
      "sigma_e: 131.88 km/s\n",
      "theta_E: 0.370 arcsec\n"
     ]
    },
    {
     "name": "stdout",
     "output_type": "stream",
     "text": [
      "sigma_e: 127.36 km/s\n"
     ]
    },
    {
     "name": "stdout",
     "output_type": "stream",
     "text": [
      "theta_E: 0.381 arcsec\n"
     ]
    },
    {
     "name": "stdout",
     "output_type": "stream",
     "text": [
      "sigma_e: 136.08 km/s\n",
      "theta_E: 0.383 arcsec\n"
     ]
    },
    {
     "name": "stdout",
     "output_type": "stream",
     "text": [
      "sigma_e: 136.47 km/s\n",
      "theta_E: 0.402 arcsec\n"
     ]
    },
    {
     "name": "stdout",
     "output_type": "stream",
     "text": [
      "sigma_e: 140.39 km/s\n",
      "theta_E: 0.373 arcsec\n"
     ]
    },
    {
     "name": "stdout",
     "output_type": "stream",
     "text": [
      "sigma_e: 133.83 km/s\n",
      "theta_E: 0.381 arcsec\n"
     ]
    },
    {
     "name": "stdout",
     "output_type": "stream",
     "text": [
      "sigma_e: 136.01 km/s\n",
      "theta_E: 0.407 arcsec\n"
     ]
    },
    {
     "name": "stdout",
     "output_type": "stream",
     "text": [
      "sigma_e: 141.38 km/s\n",
      "theta_E: 0.379 arcsec\n"
     ]
    },
    {
     "name": "stdout",
     "output_type": "stream",
     "text": [
      "sigma_e: 135.57 km/s\n",
      "theta_E: 0.404 arcsec\n"
     ]
    },
    {
     "name": "stdout",
     "output_type": "stream",
     "text": [
      "sigma_e: 140.84 km/s\n",
      "theta_E: 0.385 arcsec\n"
     ]
    },
    {
     "name": "stdout",
     "output_type": "stream",
     "text": [
      "sigma_e: 136.85 km/s\n",
      "theta_E: 0.374 arcsec\n"
     ]
    },
    {
     "name": "stdout",
     "output_type": "stream",
     "text": [
      "sigma_e: 134.08 km/s\n"
     ]
    },
    {
     "name": "stdout",
     "output_type": "stream",
     "text": [
      "theta_E: 0.352 arcsec\n"
     ]
    },
    {
     "name": "stdout",
     "output_type": "stream",
     "text": [
      "sigma_e: 129.24 km/s\n",
      "theta_E: 0.366 arcsec\n"
     ]
    },
    {
     "name": "stdout",
     "output_type": "stream",
     "text": [
      "sigma_e: 133.65 km/s\n",
      "theta_E: 0.405 arcsec\n"
     ]
    },
    {
     "name": "stdout",
     "output_type": "stream",
     "text": [
      "sigma_e: 141.56 km/s\n",
      "theta_E: 0.410 arcsec\n"
     ]
    },
    {
     "name": "stdout",
     "output_type": "stream",
     "text": [
      "sigma_e: 142.20 km/s\n",
      "theta_E: 0.396 arcsec\n"
     ]
    },
    {
     "name": "stdout",
     "output_type": "stream",
     "text": [
      "sigma_e: 140.00 km/s\n",
      "theta_E: 0.372 arcsec\n"
     ]
    },
    {
     "name": "stdout",
     "output_type": "stream",
     "text": [
      "sigma_e: 135.14 km/s\n",
      "theta_E: 0.396 arcsec\n"
     ]
    },
    {
     "name": "stdout",
     "output_type": "stream",
     "text": [
      "sigma_e: 140.14 km/s\n",
      "theta_E: 0.408 arcsec\n"
     ]
    },
    {
     "name": "stdout",
     "output_type": "stream",
     "text": [
      "sigma_e: 141.95 km/s\n",
      "theta_E: 0.424 arcsec\n"
     ]
    },
    {
     "name": "stdout",
     "output_type": "stream",
     "text": [
      "sigma_e: 144.07 km/s\n",
      "theta_E: 0.368 arcsec\n"
     ]
    },
    {
     "name": "stdout",
     "output_type": "stream",
     "text": [
      "sigma_e: 133.95 km/s\n"
     ]
    },
    {
     "name": "stdout",
     "output_type": "stream",
     "text": [
      "theta_E: 0.519 arcsec\n"
     ]
    },
    {
     "name": "stdout",
     "output_type": "stream",
     "text": [
      "sigma_e: 159.82 km/s\n",
      "theta_E: 0.546 arcsec\n"
     ]
    },
    {
     "name": "stdout",
     "output_type": "stream",
     "text": [
      "sigma_e: 164.27 km/s\n",
      "theta_E: 0.479 arcsec\n"
     ]
    },
    {
     "name": "stdout",
     "output_type": "stream",
     "text": [
      "sigma_e: 150.41 km/s\n",
      "theta_E: 0.450 arcsec\n"
     ]
    },
    {
     "name": "stdout",
     "output_type": "stream",
     "text": [
      "sigma_e: 141.05 km/s\n",
      "theta_E: 0.474 arcsec\n"
     ]
    },
    {
     "name": "stdout",
     "output_type": "stream",
     "text": [
      "sigma_e: 148.77 km/s\n",
      "theta_E: 0.457 arcsec\n"
     ]
    },
    {
     "name": "stdout",
     "output_type": "stream",
     "text": [
      "sigma_e: 143.41 km/s\n",
      "theta_E: 0.517 arcsec\n"
     ]
    },
    {
     "name": "stdout",
     "output_type": "stream",
     "text": [
      "sigma_e: 159.29 km/s\n",
      "theta_E: 0.565 arcsec\n"
     ]
    },
    {
     "name": "stdout",
     "output_type": "stream",
     "text": [
      "sigma_e: 166.79 km/s\n",
      "theta_E: 0.578 arcsec\n"
     ]
    },
    {
     "name": "stdout",
     "output_type": "stream",
     "text": [
      "sigma_e: 168.37 km/s\n",
      "theta_E: 0.589 arcsec\n"
     ]
    },
    {
     "name": "stdout",
     "output_type": "stream",
     "text": [
      "sigma_e: 169.51 km/s\n"
     ]
    },
    {
     "name": "stdout",
     "output_type": "stream",
     "text": [
      "theta_E: 0.384 arcsec\n"
     ]
    },
    {
     "name": "stdout",
     "output_type": "stream",
     "text": [
      "sigma_e: 137.42 km/s\n",
      "theta_E: 0.404 arcsec\n"
     ]
    },
    {
     "name": "stdout",
     "output_type": "stream",
     "text": [
      "sigma_e: 141.58 km/s\n",
      "theta_E: 0.442 arcsec\n"
     ]
    },
    {
     "name": "stdout",
     "output_type": "stream",
     "text": [
      "sigma_e: 147.09 km/s\n",
      "theta_E: 0.394 arcsec\n"
     ]
    },
    {
     "name": "stdout",
     "output_type": "stream",
     "text": [
      "sigma_e: 139.49 km/s\n",
      "theta_E: 0.377 arcsec\n"
     ]
    },
    {
     "name": "stdout",
     "output_type": "stream",
     "text": [
      "sigma_e: 135.60 km/s\n",
      "theta_E: 0.336 arcsec\n"
     ]
    },
    {
     "name": "stdout",
     "output_type": "stream",
     "text": [
      "sigma_e: 121.78 km/s\n",
      "theta_E: 0.406 arcsec\n"
     ]
    },
    {
     "name": "stdout",
     "output_type": "stream",
     "text": [
      "sigma_e: 141.97 km/s\n",
      "theta_E: 0.351 arcsec\n"
     ]
    },
    {
     "name": "stdout",
     "output_type": "stream",
     "text": [
      "sigma_e: 127.88 km/s\n",
      "theta_E: 0.355 arcsec\n"
     ]
    },
    {
     "name": "stdout",
     "output_type": "stream",
     "text": [
      "sigma_e: 129.10 km/s\n",
      "theta_E: 0.444 arcsec\n"
     ]
    },
    {
     "name": "stdout",
     "output_type": "stream",
     "text": [
      "sigma_e: 147.26 km/s\n"
     ]
    },
    {
     "name": "stdout",
     "output_type": "stream",
     "text": [
      "theta_E: 0.419 arcsec\n"
     ]
    },
    {
     "name": "stdout",
     "output_type": "stream",
     "text": [
      "sigma_e: 144.16 km/s\n",
      "theta_E: 0.364 arcsec\n"
     ]
    },
    {
     "name": "stdout",
     "output_type": "stream",
     "text": [
      "sigma_e: 129.09 km/s\n",
      "theta_E: 0.368 arcsec\n"
     ]
    },
    {
     "name": "stdout",
     "output_type": "stream",
     "text": [
      "sigma_e: 130.34 km/s\n",
      "theta_E: 0.366 arcsec\n"
     ]
    },
    {
     "name": "stdout",
     "output_type": "stream",
     "text": [
      "sigma_e: 129.68 km/s\n",
      "theta_E: 0.366 arcsec\n"
     ]
    },
    {
     "name": "stdout",
     "output_type": "stream",
     "text": [
      "sigma_e: 129.81 km/s\n",
      "theta_E: 0.365 arcsec\n"
     ]
    },
    {
     "name": "stdout",
     "output_type": "stream",
     "text": [
      "sigma_e: 129.32 km/s\n",
      "theta_E: 0.388 arcsec\n"
     ]
    },
    {
     "name": "stdout",
     "output_type": "stream",
     "text": [
      "sigma_e: 136.91 km/s\n",
      "theta_E: 0.364 arcsec\n"
     ]
    },
    {
     "name": "stdout",
     "output_type": "stream",
     "text": [
      "sigma_e: 128.85 km/s\n",
      "theta_E: 0.455 arcsec\n"
     ]
    },
    {
     "name": "stdout",
     "output_type": "stream",
     "text": [
      "sigma_e: 149.61 km/s\n",
      "theta_E: 0.418 arcsec\n"
     ]
    },
    {
     "name": "stdout",
     "output_type": "stream",
     "text": [
      "sigma_e: 143.99 km/s\n"
     ]
    },
    {
     "name": "stdout",
     "output_type": "stream",
     "text": [
      "theta_E: 0.412 arcsec\n"
     ]
    },
    {
     "name": "stdout",
     "output_type": "stream",
     "text": [
      "sigma_e: 141.67 km/s\n",
      "theta_E: 0.444 arcsec\n"
     ]
    },
    {
     "name": "stdout",
     "output_type": "stream",
     "text": [
      "sigma_e: 146.83 km/s\n",
      "theta_E: 0.427 arcsec\n"
     ]
    },
    {
     "name": "stdout",
     "output_type": "stream",
     "text": [
      "sigma_e: 144.29 km/s\n",
      "theta_E: 0.442 arcsec\n"
     ]
    },
    {
     "name": "stdout",
     "output_type": "stream",
     "text": [
      "sigma_e: 146.67 km/s\n",
      "theta_E: 0.393 arcsec\n"
     ]
    },
    {
     "name": "stdout",
     "output_type": "stream",
     "text": [
      "sigma_e: 137.02 km/s\n",
      "theta_E: 0.408 arcsec\n"
     ]
    },
    {
     "name": "stdout",
     "output_type": "stream",
     "text": [
      "sigma_e: 140.69 km/s\n",
      "theta_E: 0.448 arcsec\n"
     ]
    },
    {
     "name": "stdout",
     "output_type": "stream",
     "text": [
      "sigma_e: 147.33 km/s\n",
      "theta_E: 0.440 arcsec\n"
     ]
    },
    {
     "name": "stdout",
     "output_type": "stream",
     "text": [
      "sigma_e: 146.36 km/s\n",
      "theta_E: 0.439 arcsec\n"
     ]
    },
    {
     "name": "stdout",
     "output_type": "stream",
     "text": [
      "sigma_e: 146.30 km/s\n",
      "theta_E: 0.393 arcsec\n"
     ]
    },
    {
     "name": "stdout",
     "output_type": "stream",
     "text": [
      "sigma_e: 136.91 km/s\n"
     ]
    },
    {
     "name": "stdout",
     "output_type": "stream",
     "text": [
      "theta_E: 0.445 arcsec\n"
     ]
    },
    {
     "name": "stdout",
     "output_type": "stream",
     "text": [
      "sigma_e: 148.64 km/s\n",
      "theta_E: 0.387 arcsec\n"
     ]
    },
    {
     "name": "stdout",
     "output_type": "stream",
     "text": [
      "sigma_e: 137.63 km/s\n",
      "theta_E: 0.452 arcsec\n"
     ]
    },
    {
     "name": "stdout",
     "output_type": "stream",
     "text": [
      "sigma_e: 149.54 km/s\n",
      "theta_E: 0.357 arcsec\n"
     ]
    },
    {
     "name": "stdout",
     "output_type": "stream",
     "text": [
      "sigma_e: 127.71 km/s\n",
      "theta_E: 0.415 arcsec\n"
     ]
    },
    {
     "name": "stdout",
     "output_type": "stream",
     "text": [
      "sigma_e: 143.79 km/s\n",
      "theta_E: 0.415 arcsec\n"
     ]
    },
    {
     "name": "stdout",
     "output_type": "stream",
     "text": [
      "sigma_e: 143.93 km/s\n",
      "theta_E: 0.379 arcsec\n"
     ]
    },
    {
     "name": "stdout",
     "output_type": "stream",
     "text": [
      "sigma_e: 135.23 km/s\n",
      "theta_E: 0.461 arcsec\n"
     ]
    },
    {
     "name": "stdout",
     "output_type": "stream",
     "text": [
      "sigma_e: 150.63 km/s\n",
      "theta_E: 0.349 arcsec\n"
     ]
    },
    {
     "name": "stdout",
     "output_type": "stream",
     "text": [
      "sigma_e: 124.42 km/s\n",
      "theta_E: 0.369 arcsec\n"
     ]
    },
    {
     "name": "stdout",
     "output_type": "stream",
     "text": [
      "sigma_e: 131.99 km/s\n"
     ]
    },
    {
     "name": "stdout",
     "output_type": "stream",
     "text": [
      "theta_E: 0.400 arcsec\n"
     ]
    },
    {
     "name": "stdout",
     "output_type": "stream",
     "text": [
      "sigma_e: 130.24 km/s\n",
      "theta_E: 0.471 arcsec\n"
     ]
    },
    {
     "name": "stdout",
     "output_type": "stream",
     "text": [
      "sigma_e: 152.35 km/s\n",
      "theta_E: 0.467 arcsec\n"
     ]
    },
    {
     "name": "stdout",
     "output_type": "stream",
     "text": [
      "sigma_e: 151.52 km/s\n",
      "theta_E: 0.533 arcsec\n"
     ]
    },
    {
     "name": "stdout",
     "output_type": "stream",
     "text": [
      "sigma_e: 162.64 km/s\n",
      "theta_E: 0.402 arcsec\n"
     ]
    },
    {
     "name": "stdout",
     "output_type": "stream",
     "text": [
      "sigma_e: 131.18 km/s\n",
      "theta_E: 0.556 arcsec\n"
     ]
    },
    {
     "name": "stdout",
     "output_type": "stream",
     "text": [
      "sigma_e: 165.02 km/s\n",
      "theta_E: 0.528 arcsec\n"
     ]
    },
    {
     "name": "stdout",
     "output_type": "stream",
     "text": [
      "sigma_e: 161.97 km/s\n",
      "theta_E: 0.509 arcsec\n"
     ]
    },
    {
     "name": "stdout",
     "output_type": "stream",
     "text": [
      "sigma_e: 159.48 km/s\n",
      "theta_E: 0.401 arcsec\n"
     ]
    },
    {
     "name": "stdout",
     "output_type": "stream",
     "text": [
      "sigma_e: 130.80 km/s\n",
      "theta_E: 0.400 arcsec\n"
     ]
    },
    {
     "name": "stdout",
     "output_type": "stream",
     "text": [
      "sigma_e: 130.47 km/s\n"
     ]
    },
    {
     "name": "stdout",
     "output_type": "stream",
     "text": [
      "theta_E: 0.362 arcsec\n"
     ]
    },
    {
     "name": "stdout",
     "output_type": "stream",
     "text": [
      "sigma_e: 122.57 km/s\n",
      "theta_E: 0.496 arcsec\n"
     ]
    },
    {
     "name": "stdout",
     "output_type": "stream",
     "text": [
      "sigma_e: 156.21 km/s\n",
      "theta_E: 0.494 arcsec\n"
     ]
    },
    {
     "name": "stdout",
     "output_type": "stream",
     "text": [
      "sigma_e: 155.98 km/s\n",
      "theta_E: 0.503 arcsec\n"
     ]
    },
    {
     "name": "stdout",
     "output_type": "stream",
     "text": [
      "sigma_e: 157.02 km/s\n",
      "theta_E: 0.388 arcsec\n"
     ]
    },
    {
     "name": "stdout",
     "output_type": "stream",
     "text": [
      "sigma_e: 132.94 km/s\n",
      "theta_E: 0.455 arcsec\n"
     ]
    },
    {
     "name": "stdout",
     "output_type": "stream",
     "text": [
      "sigma_e: 150.37 km/s\n",
      "theta_E: 0.504 arcsec\n"
     ]
    },
    {
     "name": "stdout",
     "output_type": "stream",
     "text": [
      "sigma_e: 157.10 km/s\n",
      "theta_E: 0.490 arcsec\n"
     ]
    },
    {
     "name": "stdout",
     "output_type": "stream",
     "text": [
      "sigma_e: 155.58 km/s\n",
      "theta_E: 0.424 arcsec\n"
     ]
    },
    {
     "name": "stdout",
     "output_type": "stream",
     "text": [
      "sigma_e: 143.55 km/s\n",
      "theta_E: 0.460 arcsec\n"
     ]
    },
    {
     "name": "stdout",
     "output_type": "stream",
     "text": [
      "sigma_e: 151.14 km/s\n"
     ]
    },
    {
     "name": "stdout",
     "output_type": "stream",
     "text": [
      "theta_E: 0.349 arcsec\n"
     ]
    },
    {
     "name": "stdout",
     "output_type": "stream",
     "text": [
      "sigma_e: 126.39 km/s\n",
      "theta_E: 0.416 arcsec\n"
     ]
    },
    {
     "name": "stdout",
     "output_type": "stream",
     "text": [
      "sigma_e: 143.80 km/s\n",
      "theta_E: 0.440 arcsec\n"
     ]
    },
    {
     "name": "stdout",
     "output_type": "stream",
     "text": [
      "sigma_e: 147.20 km/s\n",
      "theta_E: 0.341 arcsec\n"
     ]
    },
    {
     "name": "stdout",
     "output_type": "stream",
     "text": [
      "sigma_e: 123.22 km/s\n",
      "theta_E: 0.457 arcsec\n"
     ]
    },
    {
     "name": "stdout",
     "output_type": "stream",
     "text": [
      "sigma_e: 149.13 km/s\n",
      "theta_E: 0.357 arcsec\n"
     ]
    },
    {
     "name": "stdout",
     "output_type": "stream",
     "text": [
      "sigma_e: 129.18 km/s\n",
      "theta_E: 0.348 arcsec\n"
     ]
    },
    {
     "name": "stdout",
     "output_type": "stream",
     "text": [
      "sigma_e: 125.82 km/s\n",
      "theta_E: 0.381 arcsec\n"
     ]
    },
    {
     "name": "stdout",
     "output_type": "stream",
     "text": [
      "sigma_e: 136.37 km/s\n",
      "theta_E: 0.439 arcsec\n"
     ]
    },
    {
     "name": "stdout",
     "output_type": "stream",
     "text": [
      "sigma_e: 147.12 km/s\n",
      "theta_E: 0.455 arcsec\n"
     ]
    },
    {
     "name": "stdout",
     "output_type": "stream",
     "text": [
      "sigma_e: 148.96 km/s\n"
     ]
    }
   ],
   "source": [
    "rerun_prolate = True\n",
    "\n",
    "if rerun_prolate:\n",
    "\n",
    "    data_prolate, peak_mge_den_prolate, sigma_mge_den_prolate, peak_mge_lum_prolate, sigma_mge_lum_prolate = get_sigma_e_dist(cat_prolate, 0, 10, save_mge=1)\n",
    "    np.save('./tng_kin_prolate.npy', data_prolate)\n",
    "\n",
    "    with h5py.File('./tng_kin_mge_prolate.hdf5', 'w') as f:\n",
    "        f.create_dataset(name='peak_den', data = peak_mge_den_prolate)\n",
    "        f.create_dataset(name='sigma_den', data = sigma_mge_den_prolate)\n",
    "        f.create_dataset(name='peak_lum', data = peak_mge_lum_prolate)\n",
    "        f.create_dataset(name='sigma_lum', data = sigma_mge_lum_prolate)"
   ]
  },
  {
   "cell_type": "code",
   "execution_count": null,
   "id": "b474e9f6",
   "metadata": {
    "papermill": {
     "duration": 0.051691,
     "end_time": "2025-09-16T19:02:39.466325",
     "exception": false,
     "start_time": "2025-09-16T19:02:39.414634",
     "status": "completed"
    },
    "tags": []
   },
   "outputs": [],
   "source": []
  }
 ],
 "metadata": {
  "kernelspec": {
   "display_name": "python(koholint)",
   "language": "python",
   "name": "koholint"
  },
  "language_info": {
   "codemirror_mode": {
    "name": "ipython",
    "version": 3
   },
   "file_extension": ".py",
   "mimetype": "text/x-python",
   "name": "python",
   "nbconvert_exporter": "python",
   "pygments_lexer": "ipython3",
   "version": "3.12.2"
  },
  "papermill": {
   "default_parameters": {},
   "duration": 2943.54756,
   "end_time": "2025-09-16T19:02:40.131080",
   "environment_variables": {},
   "exception": null,
   "input_path": "make_kin_mock_data_axisymmetric_tng.ipynb",
   "output_path": "make_kin_mock_data_axisymmetric_tng.ipynb",
   "parameters": {},
   "start_time": "2025-09-16T18:13:36.583520",
   "version": "2.6.0"
  }
 },
 "nbformat": 4,
 "nbformat_minor": 5
}