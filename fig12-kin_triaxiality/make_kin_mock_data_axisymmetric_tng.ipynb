{
 "cells": [
  {
   "cell_type": "markdown",
   "id": "dba5f08e",
   "metadata": {
    "papermill": {
     "duration": 0.003118,
     "end_time": "2025-08-31T05:16:25.112437",
     "exception": false,
     "start_time": "2025-08-31T05:16:25.109319",
     "status": "completed"
    },
    "tags": []
   },
   "source": [
    "# Create mock kinematics data for axisymmetric ETG sample\n",
    "\n",
    "Xiangyu Huang\n"
   ]
  },
  {
   "cell_type": "code",
   "execution_count": 1,
   "id": "5ac4f42e",
   "metadata": {
    "execution": {
     "iopub.execute_input": "2025-08-31T05:16:25.120129Z",
     "iopub.status.busy": "2025-08-31T05:16:25.119736Z",
     "iopub.status.idle": "2025-08-31T05:16:26.058516Z",
     "shell.execute_reply": "2025-08-31T05:16:26.058103Z"
    },
    "papermill": {
     "duration": 0.944458,
     "end_time": "2025-08-31T05:16:26.059725",
     "exception": false,
     "start_time": "2025-08-31T05:16:25.115267",
     "status": "completed"
    },
    "tags": []
   },
   "outputs": [],
   "source": [
    "import numpy as np\n",
    "\n",
    "import pandas as pd\n",
    "import corner\n",
    "from copy import deepcopy\n",
    "import h5py\n"
   ]
  },
  {
   "cell_type": "code",
   "execution_count": 2,
   "id": "6b7aab68",
   "metadata": {
    "execution": {
     "iopub.execute_input": "2025-08-31T05:16:26.064013Z",
     "iopub.status.busy": "2025-08-31T05:16:26.063820Z",
     "iopub.status.idle": "2025-08-31T05:16:26.401220Z",
     "shell.execute_reply": "2025-08-31T05:16:26.400933Z"
    },
    "papermill": {
     "duration": 0.3409,
     "end_time": "2025-08-31T05:16:26.402495",
     "exception": false,
     "start_time": "2025-08-31T05:16:26.061595",
     "status": "completed"
    },
    "tags": []
   },
   "outputs": [],
   "source": [
    "from deproject.Profiles.SIS_truncated_physical import SIS_truncated_physical\n",
    "from deproject.Util.orientation import Inclination, Sphere_random_point\n",
    "from deproject.Profiles.Jaffe import Jaffe\n",
    "from deproject.Cosmo.default_cosmo import get_default_lens_cosmo\n",
    "from deproject.MGE_analysis.mge_proj import MGE_Proj\n",
    "from deproject.MGE_analysis.intr_mge import Intr_MGE\n",
    "from deproject.MGE_analysis.mge_misc import sum_gaussian_components\n",
    "\n",
    "from jampy.jam_axi_proj import jam_axi_proj\n",
    "from jampy.mge_half_light_isophote import mge_half_light_isophote\n",
    "\n",
    "from plotbin.plot_velfield import plot_velfield\n",
    "\n",
    "from mgefit.mge_fit_1d import mge_fit_1d\n",
    "\n",
    "from lenstronomy.Analysis.lens_profile import LensProfileAnalysis"
   ]
  },
  {
   "cell_type": "markdown",
   "id": "774180ed",
   "metadata": {
    "papermill": {
     "duration": 0.001576,
     "end_time": "2025-08-31T05:16:26.405914",
     "exception": false,
     "start_time": "2025-08-31T05:16:26.404338",
     "status": "completed"
    },
    "tags": []
   },
   "source": [
    "## Calculation\n",
    "\n",
    "We use the truncated SIS profile as the mass density profile and Jaffe profile as the stellar tracer."
   ]
  },
  {
   "cell_type": "code",
   "execution_count": 3,
   "id": "95784605",
   "metadata": {
    "execution": {
     "iopub.execute_input": "2025-08-31T05:16:26.409712Z",
     "iopub.status.busy": "2025-08-31T05:16:26.409602Z",
     "iopub.status.idle": "2025-08-31T05:16:26.411986Z",
     "shell.execute_reply": "2025-08-31T05:16:26.411748Z"
    },
    "papermill": {
     "duration": 0.005417,
     "end_time": "2025-08-31T05:16:26.412888",
     "exception": false,
     "start_time": "2025-08-31T05:16:26.407471",
     "status": "completed"
    },
    "tags": []
   },
   "outputs": [],
   "source": [
    "def get_truncsis_intr_mge(sigma_v, rc_kpc, r_sym, qintr, plot_mge=0, fignum=1):\n",
    "    \"\"\"get the amplitude and dispersion of the MGE describing the INTRINSIC mass density/stellar light profile along the symmetry axis \n",
    "\n",
    "    Args:\n",
    "        sigma_v (_type_): sigma_sph of the truncated SIS profile\n",
    "        rc_kpc (_type_): truncation radius in kpc\n",
    "        r_sym (_type_): coordinate along the symmetry axis\n",
    "        qintr (_type_): intrinsic axis ratio. If oblate, qintr < 1; if prolate, qintr > 1\n",
    "        plot_mge (int, optional): _description_. Defaults to 0.\n",
    "        fignum (int, optional): _description_. Defaults to 1.\n",
    "\n",
    "    Returns:\n",
    "        _type_: amplitude in M_sun/pc^3\n",
    "        _type_: dispersion in pc\n",
    "    \"\"\"\n",
    "    sis_profile = SIS_truncated_physical(sigma_v=sigma_v, rc = rc_kpc)\n",
    "    intr_mge = Intr_MGE(profile=sis_profile, qintr=qintr, r_sym=r_sym)\n",
    "    peak, sigma = intr_mge.MGE_param(kwargs_mge={'ngauss': 20, 'inner_slope': 3, 'outer_slope':1}, plot_mge=plot_mge, fignum=fignum)\n",
    "\n",
    "    peak = peak / 1e9 # convert to [M_sun/pc^3]\n",
    "    sigma = sigma * 1e3 # convert to [pc]\n",
    "\n",
    "    return peak, sigma"
   ]
  },
  {
   "cell_type": "code",
   "execution_count": 4,
   "id": "49cda1dd",
   "metadata": {
    "execution": {
     "iopub.execute_input": "2025-08-31T05:16:26.461737Z",
     "iopub.status.busy": "2025-08-31T05:16:26.461443Z",
     "iopub.status.idle": "2025-08-31T05:16:26.471292Z",
     "shell.execute_reply": "2025-08-31T05:16:26.470611Z"
    },
    "papermill": {
     "duration": 0.03652,
     "end_time": "2025-08-31T05:16:26.473588",
     "exception": false,
     "start_time": "2025-08-31T05:16:26.437068",
     "status": "completed"
    },
    "tags": []
   },
   "outputs": [],
   "source": [
    "def get_proj_mge(mge_proj, distance, inc):\n",
    "    \"\"\"get projected MGE\n",
    "\n",
    "    Args:\n",
    "        mge_proj (_type_): MGE_proj instance\n",
    "        distance (_type_): angular diameter distance in Mpc, used to convert the dispersion to arcsec\n",
    "        inc (_type_): inclination angle [rad]\n",
    "\n",
    "    Returns:\n",
    "        _type_: peak of the projected MGE [M_sun/pc^3]\n",
    "        _type_: sigma of the projected MGE [arcsec]\n",
    "        _type_: projected axis ratio \n",
    "    \"\"\"\n",
    "    surf = mge_proj.surf(inc=inc)\n",
    "    qobs = mge_proj.qobs(inc=inc)\n",
    "\n",
    "    qobs = np.full_like(surf, qobs)\n",
    "\n",
    "    pc = distance * np.pi / 0.648 # convert to arcsec\n",
    "    sigma_intr = mge_proj.sigma\n",
    "    sigma = sigma_intr / pc\n",
    "\n",
    "    return surf, sigma, qobs"
   ]
  },
  {
   "cell_type": "code",
   "execution_count": 5,
   "id": "8b87c322",
   "metadata": {
    "execution": {
     "iopub.execute_input": "2025-08-31T05:16:26.484078Z",
     "iopub.status.busy": "2025-08-31T05:16:26.483736Z",
     "iopub.status.idle": "2025-08-31T05:16:26.495820Z",
     "shell.execute_reply": "2025-08-31T05:16:26.495133Z"
    },
    "papermill": {
     "duration": 0.020002,
     "end_time": "2025-08-31T05:16:26.498180",
     "exception": false,
     "start_time": "2025-08-31T05:16:26.478178",
     "status": "completed"
    },
    "tags": []
   },
   "outputs": [],
   "source": [
    "def get_jaffe_intr_mge(m_star, rs_kpc, qintr, plot_mge=0, fignum=1):\n",
    "\n",
    "    jaffe_profile = Jaffe(rs=rs_kpc, rho0=1e5)\n",
    "\n",
    "    r_sym = np.geomspace(0.001, 10 * rs_kpc, 300)\n",
    "\n",
    "    intr_mge = Intr_MGE(profile=jaffe_profile, qintr=qintr, r_sym=r_sym)\n",
    "\n",
    "    peak, sigma = intr_mge.MGE_param(kwargs_mge = {'ngauss': 20}, plot_mge=plot_mge, fignum=fignum)\n",
    "\n",
    "    peak = peak / 1e9 # convert to [M_sun/pc^3]\n",
    "    sigma = sigma * 1e3 # convert to [pc]\n",
    "\n",
    "    mtot = intr_mge.MGE_mass_sph()\n",
    "    peak = m_star / mtot * peak # rescale to desired input stellar mass\n",
    "\n",
    "    return peak, sigma"
   ]
  },
  {
   "cell_type": "code",
   "execution_count": 6,
   "id": "07d0aa20",
   "metadata": {
    "execution": {
     "iopub.execute_input": "2025-08-31T05:16:26.507632Z",
     "iopub.status.busy": "2025-08-31T05:16:26.507438Z",
     "iopub.status.idle": "2025-08-31T05:16:26.514585Z",
     "shell.execute_reply": "2025-08-31T05:16:26.514031Z"
    },
    "papermill": {
     "duration": 0.013561,
     "end_time": "2025-08-31T05:16:26.516629",
     "exception": false,
     "start_time": "2025-08-31T05:16:26.503068",
     "status": "completed"
    },
    "tags": []
   },
   "outputs": [],
   "source": [
    "def get_sigma_e(surf_lum, sigma_lum, qobs_lum, jam, xbin, ybin, plot_velmap=0, plot_sample_points=0, fignum=1):\n",
    "    \"\"\"calculate velocity dispersion within the half-light radius from a jam model\n",
    "\n",
    "    Args:\n",
    "        surf_lum (_type_): peak of surface luminosity MGE \n",
    "        sigma_lum (_type_): sigma of surface luminocity MGE\n",
    "        qobs_lum (_type_): array of the projected axis raio of the surface luminosity MGEs\n",
    "        jam (_type_): jam model, a jampy.jam_axi_proj instance\n",
    "        xbin (_type_): x coordinate to sample the velocity dispersion\n",
    "        ybin (_type_): y coordinate to sample the velocity dispersion\n",
    "        plot_velmap (int, optional): whether to plot the velocity dispersion map. Defaults to 0.\n",
    "        plot_sample_points (int, optional): whether to plot the xy coordinates within the half-light radius. Defaults to 0.\n",
    "        fignum (int, optional): _description_. Defaults to 1.\n",
    "\n",
    "    Raises:\n",
    "        ValueError: _description_\n",
    "\n",
    "    Returns:\n",
    "        _type_: _description_\n",
    "    \"\"\"\n",
    "    ifu_dim = int(np.sqrt(len(xbin)))\n",
    "    if np.all(qobs_lum <= 1):\n",
    "        flux = jam.flux\n",
    "    elif np.all(qobs_lum > 1):\n",
    "        flux = np.reshape(jam.flux, (ifu_dim, ifu_dim)).T \n",
    "        flux = flux.flatten()\n",
    "    else:\n",
    "        raise ValueError('Apparent axis ratio must be constant with radius!')\n",
    "    \n",
    "    reff, reff_maj, eps_e, lum_tot = mge_half_light_isophote(surf_lum, sigma_lum, qobs_lum)\n",
    "\n",
    "    w = xbin**2 + ybin**2 < reff**2\n",
    "\n",
    "    model = jam.model\n",
    "\n",
    "    sig_e = np.sqrt((flux[w]*model[w]**2).sum()/flux[w].sum())\n",
    "\n",
    "    if plot_velmap:\n",
    "        plt.figure(fignum)\n",
    "        plot_velfield(xbin, ybin, model, flux=flux, nodots=1, colorbar=1)\n",
    "        ax = plt.gca()\n",
    "        if plot_sample_points:\n",
    "            ax.plot(xbin[w], ybin[w], ',')\n",
    "        ax.set_xlabel('arcsec')\n",
    "        ax.set_ylabel('arcsec')\n",
    "    return sig_e\n"
   ]
  },
  {
   "cell_type": "code",
   "execution_count": 7,
   "id": "4f6eae9e",
   "metadata": {
    "execution": {
     "iopub.execute_input": "2025-08-31T05:16:26.524054Z",
     "iopub.status.busy": "2025-08-31T05:16:26.523925Z",
     "iopub.status.idle": "2025-08-31T05:16:26.579874Z",
     "shell.execute_reply": "2025-08-31T05:16:26.579161Z"
    },
    "papermill": {
     "duration": 0.061889,
     "end_time": "2025-08-31T05:16:26.582266",
     "exception": false,
     "start_time": "2025-08-31T05:16:26.520377",
     "status": "completed"
    },
    "tags": []
   },
   "outputs": [],
   "source": [
    "def get_sigma_e_dist(catalog, oblate, single_proj, save_mge=0):\n",
    "    \"\"\"calculate velocity dispersion distribution under many projections\n",
    "\n",
    "    Args:\n",
    "        catalog (_type_): _description_\n",
    "        oblate (_type_): True if intrinsic shape is oblate; False if intrinsic shape is prolate\n",
    "        single_proj (_type_): number of projections for a single halo\n",
    "        save_mge (int, optional): whether to return the MGE components. Defaults to 0.\n",
    "\n",
    "    Returns:\n",
    "        _type_: _description_\n",
    "    \"\"\"\n",
    "    # set up a cosmology and lens_source configuration\n",
    "    lens_cosmo = get_default_lens_cosmo()\n",
    "    distance = lens_cosmo.Dd\n",
    "    sigma_crit = lens_cosmo.Sigma_crit / 1e12 # [M_sun/pc^2]\n",
    "\n",
    "    num_galaxy = len(catalog)\n",
    "    num_proj = num_galaxy * single_proj\n",
    "    sigma_e_all = np.zeros(num_proj)\n",
    "    qobs_all = np.zeros(num_proj)\n",
    "    theta_e_all = np.zeros(num_proj)\n",
    "\n",
    "    if save_mge:\n",
    "        peak_mge_den_all = np.zeros(shape=(num_proj, 20))\n",
    "        sigma_mge_den_all = np.zeros_like(peak_mge_den_all)\n",
    "        peak_mge_lum_all = np.zeros(shape=(num_proj, 20))\n",
    "        sigma_mge_lum_all = np.zeros_like(peak_mge_lum_all)\n",
    "\n",
    "    # access catalog info\n",
    "    sigma_rm_all = catalog['sigma_random_los'].values\n",
    "    Re_kpc_all = catalog['Re'].values\n",
    "    if oblate:\n",
    "        qintr_all = catalog['xi_new'].values\n",
    "    else:\n",
    "        qintr_all = 1/catalog['zeta_new'].values\n",
    "    # compute rc_kpc for truncated sis profile\n",
    "    theta_e_sis_all = lens_cosmo.sis_sigma_v2theta_E(sigma_rm_all)\n",
    "    theta_e_sis_kpc_all = lens_cosmo.arcsec2Mpc_lens(theta_e_sis_all) * 1e3\n",
    "    rc_kpc_all = theta_e_sis_kpc_all * 200\n",
    "\n",
    "    # compute effective radius in arcsec\n",
    "    Re_arcsec_all = lens_cosmo.Mpc2arcsec_lens(Re_kpc_all / 1e3)\n",
    "\n",
    "    # sample inclination angle uniformly on a sphere\n",
    "    theta_all, phi_all = Sphere_random_point(num_proj)\n",
    "    inc_all = Inclination(oblate=oblate, theta=theta_all, phi=phi_all, deg=0)\n",
    "    inc_deg_all = Inclination(oblate=oblate, theta=theta_all, phi=phi_all, deg=1)\n",
    "\n",
    "    for i in range(num_galaxy):\n",
    "\n",
    "        sigma_rm = sigma_rm_all[i]\n",
    "        rs_kpc = Re_kpc_all[i] / 0.763 \n",
    "        qintr = qintr_all[i]\n",
    "        rc_kpc = rc_kpc_all[i]\n",
    "        theta_e_sis = theta_e_sis_all[i]\n",
    "        Re_arcsec = Re_arcsec_all[i]\n",
    "\n",
    "        # intrinsic MGE component of density and luminosity\n",
    "        r_sym = np.geomspace(0.01, 5 * rc_kpc, 300)\n",
    "        r_fine = np.geomspace(0.01, 10 * theta_e_sis, 100)\n",
    "        peak_den, sigma_den = get_truncsis_intr_mge(sigma_rm, rc_kpc, r_sym, qintr)\n",
    "        peak_lum, sigma_lum = get_jaffe_intr_mge(1e11, rs_kpc, qintr)\n",
    "\n",
    "        beta = np.zeros_like(peak_lum)\n",
    "\n",
    "        # project each single_proj times\n",
    "        mge_proj_den = MGE_Proj(peak_den, sigma_den, qintr)\n",
    "        mge_proj_lum = MGE_Proj(peak_lum, sigma_lum, qintr)\n",
    "\n",
    "        # make a grid\n",
    "        xx = np.linspace(-4 * theta_e_sis, 4 * theta_e_sis, 100)  # avoid (x,y)=(0,0)\n",
    "        xbin, ybin = map(np.ravel, np.meshgrid(xx, xx))\n",
    "\n",
    "        for j in range(single_proj):\n",
    "            \n",
    "            inc = inc_all[single_proj*i + j]\n",
    "            inc_deg = inc_deg_all[single_proj*i + j]\n",
    "            peak_surf_den, sigma_surf_den, qobs_den = get_proj_mge(mge_proj_den, distance, inc)\n",
    "            peak_surf_lum, sigma_surf_lum, qobs_lum = get_proj_mge(mge_proj_lum, distance, inc)\n",
    "\n",
    "            # save the mge\n",
    "            if save_mge:\n",
    "                peak_mge_den_all[single_proj*i + j, :len(peak_surf_den)] =  peak_surf_den\n",
    "                sigma_mge_den_all[single_proj*i + j, :len(sigma_surf_den)] = sigma_surf_den\n",
    "                peak_mge_lum_all[single_proj*i + j, :len(peak_surf_lum)] = peak_surf_lum\n",
    "                sigma_mge_lum_all[single_proj*i + j, :len(sigma_surf_lum)] = sigma_surf_lum\n",
    "\n",
    "            # compute observed axis ratio \n",
    "            Qobs = mge_proj_den.qobs(inc=inc)\n",
    "            qobs_all[single_proj*i + j] = Qobs\n",
    "\n",
    "            # compute einstein radius from the radial profile\n",
    "            surf_den_circ = sum_gaussian_components(r_fine/np.sqrt(Qobs), peak_surf_den, sigma_surf_den) # circularized surface density profile\n",
    "            theta_e_jam = LensProfileAnalysis.effective_einstein_radius_from_radial_profile(r_fine, surf_den_circ/sigma_crit)\n",
    "            theta_e_all[single_proj*i + j] = theta_e_jam\n",
    "            print(f\"theta_E: {theta_e_jam:.3f} arcsec\")\n",
    "\n",
    "            # jam prediction of LoS velocity dispersion\n",
    "            jam = jam_axi_proj(peak_surf_lum, sigma_surf_lum, qobs_lum, peak_surf_den, sigma_surf_den, qobs_den, inc_deg, 0, distance, xbin, ybin, plot=0, beta=beta, align='sph')\n",
    "            sigma_e = get_sigma_e(peak_surf_lum, sigma_surf_lum, qobs_lum, jam, xbin, ybin)\n",
    "            print(f\"sigma_e: {sigma_e:.2f} km/s\")\n",
    "            sigma_e_all[single_proj*i + j] = sigma_e\n",
    "\n",
    "    data = np.vstack([theta_e_all, qobs_all, sigma_e_all, inc_deg_all, theta_all, phi_all])\n",
    "\n",
    "    if save_mge:\n",
    "        return data, peak_mge_den_all, sigma_mge_den_all, peak_mge_lum_all, sigma_mge_lum_all\n",
    "    else:\n",
    "        return data"
   ]
  },
  {
   "cell_type": "markdown",
   "id": "278720af",
   "metadata": {
    "papermill": {
     "duration": 0.008857,
     "end_time": "2025-08-31T05:16:26.595886",
     "exception": false,
     "start_time": "2025-08-31T05:16:26.587029",
     "status": "completed"
    },
    "tags": []
   },
   "source": [
    "## Access data\n",
    "\n",
    "Data is axisymmetric shape catalog, which is modified from the original triaxial TNG ETG catalog. For the oblate sample with $T < 0.5$, we take $b/a \\rightarrow 1$, $c/a \\rightarrow (1 + b/a) * c/a / 2$ (preserving total volumn of the ellipsoid). For the prolate sample with $T > 0.5$, we take $b/a = c/a \\rightarrow (b/a + c/a) / 2$."
   ]
  },
  {
   "cell_type": "code",
   "execution_count": 8,
   "id": "3e2ab03e",
   "metadata": {
    "execution": {
     "iopub.execute_input": "2025-08-31T05:16:26.612554Z",
     "iopub.status.busy": "2025-08-31T05:16:26.612224Z",
     "iopub.status.idle": "2025-08-31T05:16:26.741825Z",
     "shell.execute_reply": "2025-08-31T05:16:26.741000Z"
    },
    "papermill": {
     "duration": 0.137995,
     "end_time": "2025-08-31T05:16:26.744740",
     "exception": false,
     "start_time": "2025-08-31T05:16:26.606745",
     "status": "completed"
    },
    "tags": []
   },
   "outputs": [],
   "source": [
    "cat_oblate = pd.read_pickle('./axisym_tng_catalog/oblate_catalog.pkl')\n",
    "cat_prolate = pd.read_pickle('./axisym_tng_catalog/prolate_catalog.pkl')"
   ]
  },
  {
   "cell_type": "markdown",
   "id": "8f65d66e",
   "metadata": {
    "papermill": {
     "duration": 0.001665,
     "end_time": "2025-08-31T05:16:26.751519",
     "exception": false,
     "start_time": "2025-08-31T05:16:26.749854",
     "status": "completed"
    },
    "tags": []
   },
   "source": [
    "## Mock data for oblate TNG100 ETG"
   ]
  },
  {
   "cell_type": "code",
   "execution_count": 9,
   "id": "7d0f8af8",
   "metadata": {
    "execution": {
     "iopub.execute_input": "2025-08-31T05:16:26.759671Z",
     "iopub.status.busy": "2025-08-31T05:16:26.759439Z",
     "iopub.status.idle": "2025-08-31T05:32:13.607635Z",
     "shell.execute_reply": "2025-08-31T05:32:13.607368Z"
    },
    "papermill": {
     "duration": 946.854149,
     "end_time": "2025-08-31T05:32:13.608356",
     "exception": false,
     "start_time": "2025-08-31T05:16:26.754207",
     "status": "completed"
    },
    "tags": []
   },
   "outputs": [
    {
     "name": "stdout",
     "output_type": "stream",
     "text": [
      "theta_E: 0.520 arcsec\n"
     ]
    },
    {
     "name": "stdout",
     "output_type": "stream",
     "text": [
      "jam_axi_proj(align='sph', moment='zz') -- elapsed time sec: 0.78\n",
      "analytic_los=0 logistic=0 constant_anisotropy=1\n",
      "No PSF/pixel convolution because sigmapsf=0 pixsize=0\n",
      "inc=19.0; beta[0]=0.0; kappa=1.00; M/L=1.00; BH=0.0; chi2/DOF=nan\n",
      "Total mass MGE (MSun): 2.071e+13\n",
      "\n",
      "sigma_e: 148.17 km/s\n",
      "theta_E: 0.525 arcsec\n"
     ]
    },
    {
     "name": "stdout",
     "output_type": "stream",
     "text": [
      "jam_axi_proj(align='sph', moment='zz') -- elapsed time sec: 0.82\n",
      "analytic_los=0 logistic=0 constant_anisotropy=1\n",
      "No PSF/pixel convolution because sigmapsf=0 pixsize=0\n",
      "inc=22.9; beta[0]=0.0; kappa=1.00; M/L=1.00; BH=0.0; chi2/DOF=nan\n",
      "Total mass MGE (MSun): 2.071e+13\n",
      "\n",
      "sigma_e: 149.73 km/s\n",
      "theta_E: 0.522 arcsec\n"
     ]
    },
    {
     "name": "stdout",
     "output_type": "stream",
     "text": [
      "jam_axi_proj(align='sph', moment='zz') -- elapsed time sec: 0.80\n",
      "analytic_los=0 logistic=0 constant_anisotropy=1\n",
      "No PSF/pixel convolution because sigmapsf=0 pixsize=0\n",
      "inc=21.2; beta[0]=0.0; kappa=1.00; M/L=1.00; BH=0.0; chi2/DOF=nan\n",
      "Total mass MGE (MSun): 2.071e+13\n",
      "\n",
      "sigma_e: 149.02 km/s\n",
      "theta_E: 0.580 arcsec\n"
     ]
    },
    {
     "name": "stdout",
     "output_type": "stream",
     "text": [
      "jam_axi_proj(align='sph', moment='zz') -- elapsed time sec: 0.82\n",
      "analytic_los=0 logistic=0 constant_anisotropy=1\n",
      "No PSF/pixel convolution because sigmapsf=0 pixsize=0\n",
      "inc=47.5; beta[0]=0.0; kappa=1.00; M/L=1.00; BH=0.0; chi2/DOF=nan\n",
      "Total mass MGE (MSun): 2.071e+13\n",
      "\n",
      "sigma_e: 161.88 km/s\n",
      "theta_E: 0.684 arcsec\n"
     ]
    },
    {
     "name": "stdout",
     "output_type": "stream",
     "text": [
      "jam_axi_proj(align='sph', moment='zz') -- elapsed time sec: 0.81\n",
      "analytic_los=0 logistic=0 constant_anisotropy=1\n",
      "No PSF/pixel convolution because sigmapsf=0 pixsize=0\n",
      "inc=74.6; beta[0]=0.0; kappa=1.00; M/L=1.00; BH=0.0; chi2/DOF=nan\n",
      "Total mass MGE (MSun): 2.071e+13\n",
      "\n",
      "sigma_e: 171.62 km/s\n",
      "theta_E: 0.533 arcsec\n"
     ]
    },
    {
     "name": "stdout",
     "output_type": "stream",
     "text": [
      "jam_axi_proj(align='sph', moment='zz') -- elapsed time sec: 0.80\n",
      "analytic_los=0 logistic=0 constant_anisotropy=1\n",
      "No PSF/pixel convolution because sigmapsf=0 pixsize=0\n",
      "inc=28.0; beta[0]=0.0; kappa=1.00; M/L=1.00; BH=0.0; chi2/DOF=nan\n",
      "Total mass MGE (MSun): 2.071e+13\n",
      "\n",
      "sigma_e: 152.04 km/s\n",
      "theta_E: 0.671 arcsec\n"
     ]
    },
    {
     "name": "stdout",
     "output_type": "stream",
     "text": [
      "jam_axi_proj(align='sph', moment='zz') -- elapsed time sec: 0.83\n",
      "analytic_los=0 logistic=0 constant_anisotropy=1\n",
      "No PSF/pixel convolution because sigmapsf=0 pixsize=0\n",
      "inc=71.2; beta[0]=0.0; kappa=1.00; M/L=1.00; BH=0.0; chi2/DOF=nan\n",
      "Total mass MGE (MSun): 2.071e+13\n",
      "\n",
      "sigma_e: 170.90 km/s\n",
      "theta_E: 0.632 arcsec\n"
     ]
    },
    {
     "name": "stdout",
     "output_type": "stream",
     "text": [
      "jam_axi_proj(align='sph', moment='zz') -- elapsed time sec: 0.82\n",
      "analytic_los=0 logistic=0 constant_anisotropy=1\n",
      "No PSF/pixel convolution because sigmapsf=0 pixsize=0\n",
      "inc=61.8; beta[0]=0.0; kappa=1.00; M/L=1.00; BH=0.0; chi2/DOF=nan\n",
      "Total mass MGE (MSun): 2.071e+13\n",
      "\n",
      "sigma_e: 168.07 km/s\n",
      "theta_E: 0.688 arcsec\n"
     ]
    },
    {
     "name": "stdout",
     "output_type": "stream",
     "text": [
      "jam_axi_proj(align='sph', moment='zz') -- elapsed time sec: 0.82\n",
      "analytic_los=0 logistic=0 constant_anisotropy=1\n",
      "No PSF/pixel convolution because sigmapsf=0 pixsize=0\n",
      "inc=75.7; beta[0]=0.0; kappa=1.00; M/L=1.00; BH=0.0; chi2/DOF=nan\n",
      "Total mass MGE (MSun): 2.071e+13\n",
      "\n",
      "sigma_e: 171.84 km/s\n",
      "theta_E: 0.706 arcsec\n"
     ]
    },
    {
     "name": "stdout",
     "output_type": "stream",
     "text": [
      "jam_axi_proj(align='sph', moment='zz') -- elapsed time sec: 0.81\n",
      "analytic_los=0 logistic=0 constant_anisotropy=1\n",
      "No PSF/pixel convolution because sigmapsf=0 pixsize=0\n",
      "inc=81.6; beta[0]=0.0; kappa=1.00; M/L=1.00; BH=0.0; chi2/DOF=nan\n",
      "Total mass MGE (MSun): 2.071e+13\n",
      "\n",
      "sigma_e: 172.65 km/s\n"
     ]
    },
    {
     "name": "stdout",
     "output_type": "stream",
     "text": [
      "theta_E: 0.381 arcsec\n"
     ]
    },
    {
     "name": "stdout",
     "output_type": "stream",
     "text": [
      "jam_axi_proj(align='sph', moment='zz') -- elapsed time sec: 0.76\n",
      "analytic_los=0 logistic=0 constant_anisotropy=1\n",
      "No PSF/pixel convolution because sigmapsf=0 pixsize=0\n",
      "inc=62.3; beta[0]=0.0; kappa=1.00; M/L=1.00; BH=0.0; chi2/DOF=nan\n",
      "Total mass MGE (MSun): 7.549e+12\n",
      "\n",
      "sigma_e: 130.50 km/s\n",
      "theta_E: 0.427 arcsec\n"
     ]
    },
    {
     "name": "stdout",
     "output_type": "stream",
     "text": [
      "jam_axi_proj(align='sph', moment='zz') -- elapsed time sec: 0.78\n",
      "analytic_los=0 logistic=0 constant_anisotropy=1\n",
      "No PSF/pixel convolution because sigmapsf=0 pixsize=0\n",
      "inc=84.1; beta[0]=0.0; kappa=1.00; M/L=1.00; BH=0.0; chi2/DOF=nan\n",
      "Total mass MGE (MSun): 7.549e+12\n",
      "\n",
      "sigma_e: 134.12 km/s\n",
      "theta_E: 0.363 arcsec\n"
     ]
    },
    {
     "name": "stdout",
     "output_type": "stream",
     "text": [
      "jam_axi_proj(align='sph', moment='zz') -- elapsed time sec: 0.78\n",
      "analytic_los=0 logistic=0 constant_anisotropy=1\n",
      "No PSF/pixel convolution because sigmapsf=0 pixsize=0\n",
      "inc=54.8; beta[0]=0.0; kappa=1.00; M/L=1.00; BH=0.0; chi2/DOF=nan\n",
      "Total mass MGE (MSun): 7.549e+12\n",
      "\n",
      "sigma_e: 128.13 km/s\n",
      "theta_E: 0.387 arcsec\n"
     ]
    },
    {
     "name": "stdout",
     "output_type": "stream",
     "text": [
      "jam_axi_proj(align='sph', moment='zz') -- elapsed time sec: 0.78\n",
      "analytic_los=0 logistic=0 constant_anisotropy=1\n",
      "No PSF/pixel convolution because sigmapsf=0 pixsize=0\n",
      "inc=64.8; beta[0]=0.0; kappa=1.00; M/L=1.00; BH=0.0; chi2/DOF=nan\n",
      "Total mass MGE (MSun): 7.549e+12\n",
      "\n",
      "sigma_e: 131.19 km/s\n",
      "theta_E: 0.413 arcsec\n"
     ]
    },
    {
     "name": "stdout",
     "output_type": "stream",
     "text": [
      "jam_axi_proj(align='sph', moment='zz') -- elapsed time sec: 0.79\n",
      "analytic_los=0 logistic=0 constant_anisotropy=1\n",
      "No PSF/pixel convolution because sigmapsf=0 pixsize=0\n",
      "inc=75.7; beta[0]=0.0; kappa=1.00; M/L=1.00; BH=0.0; chi2/DOF=nan\n",
      "Total mass MGE (MSun): 7.549e+12\n",
      "\n",
      "sigma_e: 133.34 km/s\n",
      "theta_E: 0.399 arcsec\n"
     ]
    },
    {
     "name": "stdout",
     "output_type": "stream",
     "text": [
      "jam_axi_proj(align='sph', moment='zz') -- elapsed time sec: 0.79\n",
      "analytic_los=0 logistic=0 constant_anisotropy=1\n",
      "No PSF/pixel convolution because sigmapsf=0 pixsize=0\n",
      "inc=69.9; beta[0]=0.0; kappa=1.00; M/L=1.00; BH=0.0; chi2/DOF=nan\n",
      "Total mass MGE (MSun): 7.549e+12\n",
      "\n",
      "sigma_e: 132.34 km/s\n",
      "theta_E: 0.382 arcsec\n"
     ]
    },
    {
     "name": "stdout",
     "output_type": "stream",
     "text": [
      "jam_axi_proj(align='sph', moment='zz') -- elapsed time sec: 0.79\n",
      "analytic_los=0 logistic=0 constant_anisotropy=1\n",
      "No PSF/pixel convolution because sigmapsf=0 pixsize=0\n",
      "inc=62.9; beta[0]=0.0; kappa=1.00; M/L=1.00; BH=0.0; chi2/DOF=nan\n",
      "Total mass MGE (MSun): 7.549e+12\n",
      "\n",
      "sigma_e: 130.68 km/s\n",
      "theta_E: 0.389 arcsec\n"
     ]
    },
    {
     "name": "stdout",
     "output_type": "stream",
     "text": [
      "jam_axi_proj(align='sph', moment='zz') -- elapsed time sec: 0.79\n",
      "analytic_los=0 logistic=0 constant_anisotropy=1\n",
      "No PSF/pixel convolution because sigmapsf=0 pixsize=0\n",
      "inc=65.7; beta[0]=0.0; kappa=1.00; M/L=1.00; BH=0.0; chi2/DOF=nan\n",
      "Total mass MGE (MSun): 7.549e+12\n",
      "\n",
      "sigma_e: 131.42 km/s\n",
      "theta_E: 0.410 arcsec\n"
     ]
    },
    {
     "name": "stdout",
     "output_type": "stream",
     "text": [
      "jam_axi_proj(align='sph', moment='zz') -- elapsed time sec: 0.80\n",
      "analytic_los=0 logistic=0 constant_anisotropy=1\n",
      "No PSF/pixel convolution because sigmapsf=0 pixsize=0\n",
      "inc=74.1; beta[0]=0.0; kappa=1.00; M/L=1.00; BH=0.0; chi2/DOF=nan\n",
      "Total mass MGE (MSun): 7.549e+12\n",
      "\n",
      "sigma_e: 133.10 km/s\n",
      "theta_E: 0.346 arcsec\n"
     ]
    },
    {
     "name": "stdout",
     "output_type": "stream",
     "text": [
      "jam_axi_proj(align='sph', moment='zz') -- elapsed time sec: 0.78\n",
      "analytic_los=0 logistic=0 constant_anisotropy=1\n",
      "No PSF/pixel convolution because sigmapsf=0 pixsize=0\n",
      "inc=46.4; beta[0]=0.0; kappa=1.00; M/L=1.00; BH=0.0; chi2/DOF=nan\n",
      "Total mass MGE (MSun): 7.549e+12\n",
      "\n",
      "sigma_e: 124.84 km/s\n"
     ]
    },
    {
     "name": "stdout",
     "output_type": "stream",
     "text": [
      "theta_E: 0.592 arcsec\n"
     ]
    },
    {
     "name": "stdout",
     "output_type": "stream",
     "text": [
      "jam_axi_proj(align='sph', moment='zz') -- elapsed time sec: 0.77\n",
      "analytic_los=0 logistic=0 constant_anisotropy=1\n",
      "No PSF/pixel convolution because sigmapsf=0 pixsize=0\n",
      "inc=44.5; beta[0]=0.0; kappa=1.00; M/L=1.00; BH=0.0; chi2/DOF=nan\n",
      "Total mass MGE (MSun): 2.244e+13\n",
      "\n",
      "sigma_e: 162.31 km/s\n",
      "theta_E: 0.609 arcsec\n"
     ]
    },
    {
     "name": "stdout",
     "output_type": "stream",
     "text": [
      "jam_axi_proj(align='sph', moment='zz') -- elapsed time sec: 0.80\n",
      "analytic_los=0 logistic=0 constant_anisotropy=1\n",
      "No PSF/pixel convolution because sigmapsf=0 pixsize=0\n",
      "inc=49.4; beta[0]=0.0; kappa=1.00; M/L=1.00; BH=0.0; chi2/DOF=nan\n",
      "Total mass MGE (MSun): 2.244e+13\n",
      "\n",
      "sigma_e: 165.01 km/s\n",
      "theta_E: 0.637 arcsec\n"
     ]
    },
    {
     "name": "stdout",
     "output_type": "stream",
     "text": [
      "jam_axi_proj(align='sph', moment='zz') -- elapsed time sec: 0.79\n",
      "analytic_los=0 logistic=0 constant_anisotropy=1\n",
      "No PSF/pixel convolution because sigmapsf=0 pixsize=0\n",
      "inc=56.9; beta[0]=0.0; kappa=1.00; M/L=1.00; BH=0.0; chi2/DOF=nan\n",
      "Total mass MGE (MSun): 2.244e+13\n",
      "\n",
      "sigma_e: 168.68 km/s\n",
      "theta_E: 0.567 arcsec\n"
     ]
    },
    {
     "name": "stdout",
     "output_type": "stream",
     "text": [
      "jam_axi_proj(align='sph', moment='zz') -- elapsed time sec: 0.79\n",
      "analytic_los=0 logistic=0 constant_anisotropy=1\n",
      "No PSF/pixel convolution because sigmapsf=0 pixsize=0\n",
      "inc=35.3; beta[0]=0.0; kappa=1.00; M/L=1.00; BH=0.0; chi2/DOF=nan\n",
      "Total mass MGE (MSun): 2.244e+13\n",
      "\n",
      "sigma_e: 156.97 km/s\n",
      "theta_E: 0.645 arcsec\n"
     ]
    },
    {
     "name": "stdout",
     "output_type": "stream",
     "text": [
      "jam_axi_proj(align='sph', moment='zz') -- elapsed time sec: 0.79\n",
      "analytic_los=0 logistic=0 constant_anisotropy=1\n",
      "No PSF/pixel convolution because sigmapsf=0 pixsize=0\n",
      "inc=59.0; beta[0]=0.0; kappa=1.00; M/L=1.00; BH=0.0; chi2/DOF=nan\n",
      "Total mass MGE (MSun): 2.244e+13\n",
      "\n",
      "sigma_e: 169.59 km/s\n",
      "theta_E: 0.533 arcsec\n"
     ]
    },
    {
     "name": "stdout",
     "output_type": "stream",
     "text": [
      "jam_axi_proj(align='sph', moment='zz') -- elapsed time sec: 0.78\n",
      "analytic_los=0 logistic=0 constant_anisotropy=1\n",
      "No PSF/pixel convolution because sigmapsf=0 pixsize=0\n",
      "inc=13.1; beta[0]=0.0; kappa=1.00; M/L=1.00; BH=0.0; chi2/DOF=nan\n",
      "Total mass MGE (MSun): 2.244e+13\n",
      "\n",
      "sigma_e: 146.35 km/s\n",
      "theta_E: 0.730 arcsec\n"
     ]
    },
    {
     "name": "stdout",
     "output_type": "stream",
     "text": [
      "jam_axi_proj(align='sph', moment='zz') -- elapsed time sec: 0.82\n",
      "analytic_los=0 logistic=0 constant_anisotropy=1\n",
      "No PSF/pixel convolution because sigmapsf=0 pixsize=0\n",
      "inc=79.3; beta[0]=0.0; kappa=1.00; M/L=1.00; BH=0.0; chi2/DOF=nan\n",
      "Total mass MGE (MSun): 2.244e+13\n",
      "\n",
      "sigma_e: 175.24 km/s\n",
      "theta_E: 0.529 arcsec\n"
     ]
    },
    {
     "name": "stdout",
     "output_type": "stream",
     "text": [
      "jam_axi_proj(align='sph', moment='zz') -- elapsed time sec: 0.78\n",
      "analytic_los=0 logistic=0 constant_anisotropy=1\n",
      "No PSF/pixel convolution because sigmapsf=0 pixsize=0\n",
      "inc=8.03; beta[0]=0.0; kappa=1.00; M/L=1.00; BH=0.0; chi2/DOF=nan\n",
      "Total mass MGE (MSun): 2.244e+13\n",
      "\n",
      "sigma_e: 145.06 km/s\n",
      "theta_E: 0.596 arcsec\n"
     ]
    },
    {
     "name": "stdout",
     "output_type": "stream",
     "text": [
      "jam_axi_proj(align='sph', moment='zz') -- elapsed time sec: 0.80\n",
      "analytic_los=0 logistic=0 constant_anisotropy=1\n",
      "No PSF/pixel convolution because sigmapsf=0 pixsize=0\n",
      "inc=45.6; beta[0]=0.0; kappa=1.00; M/L=1.00; BH=0.0; chi2/DOF=nan\n",
      "Total mass MGE (MSun): 2.244e+13\n",
      "\n",
      "sigma_e: 162.92 km/s\n",
      "theta_E: 0.727 arcsec\n"
     ]
    },
    {
     "name": "stdout",
     "output_type": "stream",
     "text": [
      "jam_axi_proj(align='sph', moment='zz') -- elapsed time sec: 0.81\n",
      "analytic_los=0 logistic=0 constant_anisotropy=1\n",
      "No PSF/pixel convolution because sigmapsf=0 pixsize=0\n",
      "inc=78.5; beta[0]=0.0; kappa=1.00; M/L=1.00; BH=0.0; chi2/DOF=nan\n",
      "Total mass MGE (MSun): 2.244e+13\n",
      "\n",
      "sigma_e: 175.13 km/s\n"
     ]
    },
    {
     "name": "stdout",
     "output_type": "stream",
     "text": [
      "theta_E: 0.436 arcsec\n"
     ]
    },
    {
     "name": "stdout",
     "output_type": "stream",
     "text": [
      "jam_axi_proj(align='sph', moment='zz') -- elapsed time sec: 0.76\n",
      "analytic_los=0 logistic=0 constant_anisotropy=1\n",
      "No PSF/pixel convolution because sigmapsf=0 pixsize=0\n",
      "inc=70.9; beta[0]=0.0; kappa=1.00; M/L=1.00; BH=0.0; chi2/DOF=nan\n",
      "Total mass MGE (MSun): 8.888e+12\n",
      "\n",
      "sigma_e: 138.40 km/s\n",
      "theta_E: 0.350 arcsec\n"
     ]
    },
    {
     "name": "stdout",
     "output_type": "stream",
     "text": [
      "jam_axi_proj(align='sph', moment='zz') -- elapsed time sec: 0.83\n",
      "analytic_los=0 logistic=0 constant_anisotropy=1\n",
      "No PSF/pixel convolution because sigmapsf=0 pixsize=0\n",
      "inc=26.6; beta[0]=0.0; kappa=1.00; M/L=1.00; BH=0.0; chi2/DOF=nan\n",
      "Total mass MGE (MSun): 8.888e+12\n",
      "\n",
      "sigma_e: 122.67 km/s\n",
      "theta_E: 0.348 arcsec\n"
     ]
    },
    {
     "name": "stdout",
     "output_type": "stream",
     "text": [
      "jam_axi_proj(align='sph', moment='zz') -- elapsed time sec: 0.78\n",
      "analytic_los=0 logistic=0 constant_anisotropy=1\n",
      "No PSF/pixel convolution because sigmapsf=0 pixsize=0\n",
      "inc=24.1; beta[0]=0.0; kappa=1.00; M/L=1.00; BH=0.0; chi2/DOF=nan\n",
      "Total mass MGE (MSun): 8.888e+12\n",
      "\n",
      "sigma_e: 121.74 km/s\n",
      "theta_E: 0.359 arcsec\n"
     ]
    },
    {
     "name": "stdout",
     "output_type": "stream",
     "text": [
      "jam_axi_proj(align='sph', moment='zz') -- elapsed time sec: 0.81\n",
      "analytic_los=0 logistic=0 constant_anisotropy=1\n",
      "No PSF/pixel convolution because sigmapsf=0 pixsize=0\n",
      "inc=34.2; beta[0]=0.0; kappa=1.00; M/L=1.00; BH=0.0; chi2/DOF=nan\n",
      "Total mass MGE (MSun): 8.888e+12\n",
      "\n",
      "sigma_e: 125.70 km/s\n",
      "theta_E: 0.431 arcsec\n"
     ]
    },
    {
     "name": "stdout",
     "output_type": "stream",
     "text": [
      "jam_axi_proj(align='sph', moment='zz') -- elapsed time sec: 0.78\n",
      "analytic_los=0 logistic=0 constant_anisotropy=1\n",
      "No PSF/pixel convolution because sigmapsf=0 pixsize=0\n",
      "inc=68.7; beta[0]=0.0; kappa=1.00; M/L=1.00; BH=0.0; chi2/DOF=nan\n",
      "Total mass MGE (MSun): 8.888e+12\n",
      "\n",
      "sigma_e: 137.96 km/s\n",
      "theta_E: 0.349 arcsec\n"
     ]
    },
    {
     "name": "stdout",
     "output_type": "stream",
     "text": [
      "jam_axi_proj(align='sph', moment='zz') -- elapsed time sec: 0.77\n",
      "analytic_los=0 logistic=0 constant_anisotropy=1\n",
      "No PSF/pixel convolution because sigmapsf=0 pixsize=0\n",
      "inc=25.3; beta[0]=0.0; kappa=1.00; M/L=1.00; BH=0.0; chi2/DOF=nan\n",
      "Total mass MGE (MSun): 8.888e+12\n",
      "\n",
      "sigma_e: 122.19 km/s\n",
      "theta_E: 0.451 arcsec\n"
     ]
    },
    {
     "name": "stdout",
     "output_type": "stream",
     "text": [
      "jam_axi_proj(align='sph', moment='zz') -- elapsed time sec: 0.78\n",
      "analytic_los=0 logistic=0 constant_anisotropy=1\n",
      "No PSF/pixel convolution because sigmapsf=0 pixsize=0\n",
      "inc=77.6; beta[0]=0.0; kappa=1.00; M/L=1.00; BH=0.0; chi2/DOF=nan\n",
      "Total mass MGE (MSun): 8.888e+12\n",
      "\n",
      "sigma_e: 139.44 km/s\n",
      "theta_E: 0.342 arcsec\n"
     ]
    },
    {
     "name": "stdout",
     "output_type": "stream",
     "text": [
      "jam_axi_proj(align='sph', moment='zz') -- elapsed time sec: 0.77\n",
      "analytic_los=0 logistic=0 constant_anisotropy=1\n",
      "No PSF/pixel convolution because sigmapsf=0 pixsize=0\n",
      "inc=16.8; beta[0]=0.0; kappa=1.00; M/L=1.00; BH=0.0; chi2/DOF=nan\n",
      "Total mass MGE (MSun): 8.888e+12\n",
      "\n",
      "sigma_e: 119.43 km/s\n",
      "theta_E: 0.351 arcsec\n"
     ]
    },
    {
     "name": "stdout",
     "output_type": "stream",
     "text": [
      "jam_axi_proj(align='sph', moment='zz') -- elapsed time sec: 0.78\n",
      "analytic_los=0 logistic=0 constant_anisotropy=1\n",
      "No PSF/pixel convolution because sigmapsf=0 pixsize=0\n",
      "inc=27.8; beta[0]=0.0; kappa=1.00; M/L=1.00; BH=0.0; chi2/DOF=nan\n",
      "Total mass MGE (MSun): 8.888e+12\n",
      "\n",
      "sigma_e: 123.13 km/s\n",
      "theta_E: 0.462 arcsec\n"
     ]
    },
    {
     "name": "stdout",
     "output_type": "stream",
     "text": [
      "jam_axi_proj(align='sph', moment='zz') -- elapsed time sec: 0.78\n",
      "analytic_los=0 logistic=0 constant_anisotropy=1\n",
      "No PSF/pixel convolution because sigmapsf=0 pixsize=0\n",
      "inc=85.5; beta[0]=0.0; kappa=1.00; M/L=1.00; BH=0.0; chi2/DOF=nan\n",
      "Total mass MGE (MSun): 8.888e+12\n",
      "\n",
      "sigma_e: 140.07 km/s\n"
     ]
    },
    {
     "name": "stdout",
     "output_type": "stream",
     "text": [
      "theta_E: 0.783 arcsec\n"
     ]
    },
    {
     "name": "stdout",
     "output_type": "stream",
     "text": [
      "jam_axi_proj(align='sph', moment='zz') -- elapsed time sec: 0.77\n",
      "analytic_los=0 logistic=0 constant_anisotropy=1\n",
      "No PSF/pixel convolution because sigmapsf=0 pixsize=0\n",
      "inc=46.2; beta[0]=0.0; kappa=1.00; M/L=1.00; BH=0.0; chi2/DOF=nan\n",
      "Total mass MGE (MSun): 3.657e+13\n",
      "\n",
      "sigma_e: 187.55 km/s\n",
      "theta_E: 0.928 arcsec\n"
     ]
    },
    {
     "name": "stdout",
     "output_type": "stream",
     "text": [
      "jam_axi_proj(align='sph', moment='zz') -- elapsed time sec: 0.82\n",
      "analytic_los=0 logistic=0 constant_anisotropy=1\n",
      "No PSF/pixel convolution because sigmapsf=0 pixsize=0\n",
      "inc=81.5; beta[0]=0.0; kappa=1.00; M/L=1.00; BH=0.0; chi2/DOF=nan\n",
      "Total mass MGE (MSun): 3.657e+13\n",
      "\n",
      "sigma_e: 199.77 km/s\n",
      "theta_E: 0.885 arcsec\n"
     ]
    },
    {
     "name": "stdout",
     "output_type": "stream",
     "text": [
      "jam_axi_proj(align='sph', moment='zz') -- elapsed time sec: 0.81\n",
      "analytic_los=0 logistic=0 constant_anisotropy=1\n",
      "No PSF/pixel convolution because sigmapsf=0 pixsize=0\n",
      "inc=69.6; beta[0]=0.0; kappa=1.00; M/L=1.00; BH=0.0; chi2/DOF=nan\n",
      "Total mass MGE (MSun): 3.657e+13\n",
      "\n",
      "sigma_e: 197.50 km/s\n",
      "theta_E: 0.826 arcsec\n"
     ]
    },
    {
     "name": "stdout",
     "output_type": "stream",
     "text": [
      "jam_axi_proj(align='sph', moment='zz') -- elapsed time sec: 0.79\n",
      "analytic_los=0 logistic=0 constant_anisotropy=1\n",
      "No PSF/pixel convolution because sigmapsf=0 pixsize=0\n",
      "inc=56.7; beta[0]=0.0; kappa=1.00; M/L=1.00; BH=0.0; chi2/DOF=nan\n",
      "Total mass MGE (MSun): 3.657e+13\n",
      "\n",
      "sigma_e: 192.80 km/s\n",
      "theta_E: 0.939 arcsec\n"
     ]
    },
    {
     "name": "stdout",
     "output_type": "stream",
     "text": [
      "jam_axi_proj(align='sph', moment='zz') -- elapsed time sec: 0.82\n",
      "analytic_los=0 logistic=0 constant_anisotropy=1\n",
      "No PSF/pixel convolution because sigmapsf=0 pixsize=0\n",
      "inc=87.5; beta[0]=0.0; kappa=1.00; M/L=1.00; BH=0.0; chi2/DOF=nan\n",
      "Total mass MGE (MSun): 3.657e+13\n",
      "\n",
      "sigma_e: 200.20 km/s\n",
      "theta_E: 0.786 arcsec\n"
     ]
    },
    {
     "name": "stdout",
     "output_type": "stream",
     "text": [
      "jam_axi_proj(align='sph', moment='zz') -- elapsed time sec: 0.79\n",
      "analytic_los=0 logistic=0 constant_anisotropy=1\n",
      "No PSF/pixel convolution because sigmapsf=0 pixsize=0\n",
      "inc=47.2; beta[0]=0.0; kappa=1.00; M/L=1.00; BH=0.0; chi2/DOF=nan\n",
      "Total mass MGE (MSun): 3.657e+13\n",
      "\n",
      "sigma_e: 188.05 km/s\n",
      "theta_E: 0.896 arcsec\n"
     ]
    },
    {
     "name": "stdout",
     "output_type": "stream",
     "text": [
      "jam_axi_proj(align='sph', moment='zz') -- elapsed time sec: 0.81\n",
      "analytic_los=0 logistic=0 constant_anisotropy=1\n",
      "No PSF/pixel convolution because sigmapsf=0 pixsize=0\n",
      "inc=72.3; beta[0]=0.0; kappa=1.00; M/L=1.00; BH=0.0; chi2/DOF=nan\n",
      "Total mass MGE (MSun): 3.657e+13\n",
      "\n",
      "sigma_e: 198.17 km/s\n",
      "theta_E: 0.857 arcsec\n"
     ]
    },
    {
     "name": "stdout",
     "output_type": "stream",
     "text": [
      "jam_axi_proj(align='sph', moment='zz') -- elapsed time sec: 0.79\n",
      "analytic_los=0 logistic=0 constant_anisotropy=1\n",
      "No PSF/pixel convolution because sigmapsf=0 pixsize=0\n",
      "inc=63.7; beta[0]=0.0; kappa=1.00; M/L=1.00; BH=0.0; chi2/DOF=nan\n",
      "Total mass MGE (MSun): 3.657e+13\n",
      "\n",
      "sigma_e: 195.60 km/s\n",
      "theta_E: 0.910 arcsec\n"
     ]
    },
    {
     "name": "stdout",
     "output_type": "stream",
     "text": [
      "jam_axi_proj(align='sph', moment='zz') -- elapsed time sec: 0.82\n",
      "analytic_los=0 logistic=0 constant_anisotropy=1\n",
      "No PSF/pixel convolution because sigmapsf=0 pixsize=0\n",
      "inc=75.8; beta[0]=0.0; kappa=1.00; M/L=1.00; BH=0.0; chi2/DOF=nan\n",
      "Total mass MGE (MSun): 3.657e+13\n",
      "\n",
      "sigma_e: 198.92 km/s\n",
      "theta_E: 0.755 arcsec\n"
     ]
    },
    {
     "name": "stdout",
     "output_type": "stream",
     "text": [
      "jam_axi_proj(align='sph', moment='zz') -- elapsed time sec: 0.80\n",
      "analytic_los=0 logistic=0 constant_anisotropy=1\n",
      "No PSF/pixel convolution because sigmapsf=0 pixsize=0\n",
      "inc=38.2; beta[0]=0.0; kappa=1.00; M/L=1.00; BH=0.0; chi2/DOF=nan\n",
      "Total mass MGE (MSun): 3.657e+13\n",
      "\n",
      "sigma_e: 183.10 km/s\n"
     ]
    },
    {
     "name": "stdout",
     "output_type": "stream",
     "text": [
      "theta_E: 0.526 arcsec\n"
     ]
    },
    {
     "name": "stdout",
     "output_type": "stream",
     "text": [
      "jam_axi_proj(align='sph', moment='zz') -- elapsed time sec: 0.77\n",
      "analytic_los=0 logistic=0 constant_anisotropy=1\n",
      "No PSF/pixel convolution because sigmapsf=0 pixsize=0\n",
      "inc=87.0; beta[0]=0.0; kappa=1.00; M/L=1.00; BH=0.0; chi2/DOF=nan\n",
      "Total mass MGE (MSun): 1.096e+13\n",
      "\n",
      "sigma_e: 146.30 km/s\n",
      "theta_E: 0.528 arcsec\n"
     ]
    },
    {
     "name": "stdout",
     "output_type": "stream",
     "text": [
      "jam_axi_proj(align='sph', moment='zz') -- elapsed time sec: 0.80\n",
      "analytic_los=0 logistic=0 constant_anisotropy=1\n",
      "No PSF/pixel convolution because sigmapsf=0 pixsize=0\n",
      "inc=90.0; beta[0]=0.0; kappa=1.00; M/L=1.00; BH=0.0; chi2/DOF=nan\n",
      "Total mass MGE (MSun): 1.096e+13\n",
      "\n",
      "sigma_e: 146.35 km/s\n",
      "theta_E: 0.459 arcsec\n"
     ]
    },
    {
     "name": "stdout",
     "output_type": "stream",
     "text": [
      "jam_axi_proj(align='sph', moment='zz') -- elapsed time sec: 0.80\n",
      "analytic_los=0 logistic=0 constant_anisotropy=1\n",
      "No PSF/pixel convolution because sigmapsf=0 pixsize=0\n",
      "inc=63.4; beta[0]=0.0; kappa=1.00; M/L=1.00; BH=0.0; chi2/DOF=nan\n",
      "Total mass MGE (MSun): 1.096e+13\n",
      "\n",
      "sigma_e: 142.30 km/s\n",
      "theta_E: 0.511 arcsec\n"
     ]
    },
    {
     "name": "stdout",
     "output_type": "stream",
     "text": [
      "jam_axi_proj(align='sph', moment='zz') -- elapsed time sec: 0.79\n",
      "analytic_los=0 logistic=0 constant_anisotropy=1\n",
      "No PSF/pixel convolution because sigmapsf=0 pixsize=0\n",
      "inc=78.8; beta[0]=0.0; kappa=1.00; M/L=1.00; BH=0.0; chi2/DOF=nan\n",
      "Total mass MGE (MSun): 1.096e+13\n",
      "\n",
      "sigma_e: 145.70 km/s\n",
      "theta_E: 0.469 arcsec\n"
     ]
    },
    {
     "name": "stdout",
     "output_type": "stream",
     "text": [
      "jam_axi_proj(align='sph', moment='zz') -- elapsed time sec: 0.81\n",
      "analytic_los=0 logistic=0 constant_anisotropy=1\n",
      "No PSF/pixel convolution because sigmapsf=0 pixsize=0\n",
      "inc=66.3; beta[0]=0.0; kappa=1.00; M/L=1.00; BH=0.0; chi2/DOF=nan\n",
      "Total mass MGE (MSun): 1.096e+13\n",
      "\n",
      "sigma_e: 143.22 km/s\n",
      "theta_E: 0.490 arcsec\n"
     ]
    },
    {
     "name": "stdout",
     "output_type": "stream",
     "text": [
      "jam_axi_proj(align='sph', moment='zz') -- elapsed time sec: 0.79\n",
      "analytic_los=0 logistic=0 constant_anisotropy=1\n",
      "No PSF/pixel convolution because sigmapsf=0 pixsize=0\n",
      "inc=72.2; beta[0]=0.0; kappa=1.00; M/L=1.00; BH=0.0; chi2/DOF=nan\n",
      "Total mass MGE (MSun): 1.096e+13\n",
      "\n",
      "sigma_e: 144.63 km/s\n",
      "theta_E: 0.364 arcsec\n"
     ]
    },
    {
     "name": "stdout",
     "output_type": "stream",
     "text": [
      "jam_axi_proj(align='sph', moment='zz') -- elapsed time sec: 0.80\n",
      "analytic_los=0 logistic=0 constant_anisotropy=1\n",
      "No PSF/pixel convolution because sigmapsf=0 pixsize=0\n",
      "inc=17.2; beta[0]=0.0; kappa=1.00; M/L=1.00; BH=0.0; chi2/DOF=nan\n",
      "Total mass MGE (MSun): 1.096e+13\n",
      "\n",
      "sigma_e: 120.52 km/s\n",
      "theta_E: 0.517 arcsec\n"
     ]
    },
    {
     "name": "stdout",
     "output_type": "stream",
     "text": [
      "jam_axi_proj(align='sph', moment='zz') -- elapsed time sec: 0.79\n",
      "analytic_los=0 logistic=0 constant_anisotropy=1\n",
      "No PSF/pixel convolution because sigmapsf=0 pixsize=0\n",
      "inc=81.2; beta[0]=0.0; kappa=1.00; M/L=1.00; BH=0.0; chi2/DOF=nan\n",
      "Total mass MGE (MSun): 1.096e+13\n",
      "\n",
      "sigma_e: 145.95 km/s\n",
      "theta_E: 0.497 arcsec\n"
     ]
    },
    {
     "name": "stdout",
     "output_type": "stream",
     "text": [
      "jam_axi_proj(align='sph', moment='zz') -- elapsed time sec: 0.80\n",
      "analytic_los=0 logistic=0 constant_anisotropy=1\n",
      "No PSF/pixel convolution because sigmapsf=0 pixsize=0\n",
      "inc=74.4; beta[0]=0.0; kappa=1.00; M/L=1.00; BH=0.0; chi2/DOF=nan\n",
      "Total mass MGE (MSun): 1.096e+13\n",
      "\n",
      "sigma_e: 145.07 km/s\n",
      "theta_E: 0.365 arcsec\n"
     ]
    },
    {
     "name": "stdout",
     "output_type": "stream",
     "text": [
      "jam_axi_proj(align='sph', moment='zz') -- elapsed time sec: 0.78\n",
      "analytic_los=0 logistic=0 constant_anisotropy=1\n",
      "No PSF/pixel convolution because sigmapsf=0 pixsize=0\n",
      "inc=18.7; beta[0]=0.0; kappa=1.00; M/L=1.00; BH=0.0; chi2/DOF=nan\n",
      "Total mass MGE (MSun): 1.096e+13\n",
      "\n",
      "sigma_e: 121.10 km/s\n"
     ]
    },
    {
     "name": "stdout",
     "output_type": "stream",
     "text": [
      "theta_E: 0.525 arcsec\n"
     ]
    },
    {
     "name": "stdout",
     "output_type": "stream",
     "text": [
      "jam_axi_proj(align='sph', moment='zz') -- elapsed time sec: 0.77\n",
      "analytic_los=0 logistic=0 constant_anisotropy=1\n",
      "No PSF/pixel convolution because sigmapsf=0 pixsize=0\n",
      "inc=81.0; beta[0]=0.0; kappa=1.00; M/L=1.00; BH=0.0; chi2/DOF=nan\n",
      "Total mass MGE (MSun): 1.063e+13\n",
      "\n",
      "sigma_e: 140.50 km/s\n",
      "theta_E: 0.472 arcsec\n"
     ]
    },
    {
     "name": "stdout",
     "output_type": "stream",
     "text": [
      "jam_axi_proj(align='sph', moment='zz') -- elapsed time sec: 0.82\n",
      "analytic_los=0 logistic=0 constant_anisotropy=1\n",
      "No PSF/pixel convolution because sigmapsf=0 pixsize=0\n",
      "inc=71.3; beta[0]=0.0; kappa=1.00; M/L=1.00; BH=0.0; chi2/DOF=nan\n",
      "Total mass MGE (MSun): 1.063e+13\n",
      "\n",
      "sigma_e: 139.07 km/s\n",
      "theta_E: 0.326 arcsec\n"
     ]
    },
    {
     "name": "stdout",
     "output_type": "stream",
     "text": [
      "jam_axi_proj(align='sph', moment='zz') -- elapsed time sec: 0.80\n",
      "analytic_los=0 logistic=0 constant_anisotropy=1\n",
      "No PSF/pixel convolution because sigmapsf=0 pixsize=0\n",
      "inc=21.9; beta[0]=0.0; kappa=1.00; M/L=1.00; BH=0.0; chi2/DOF=nan\n",
      "Total mass MGE (MSun): 1.063e+13\n",
      "\n",
      "sigma_e: 109.19 km/s\n",
      "theta_E: 0.467 arcsec\n"
     ]
    },
    {
     "name": "stdout",
     "output_type": "stream",
     "text": [
      "jam_axi_proj(align='sph', moment='zz') -- elapsed time sec: 0.80\n",
      "analytic_los=0 logistic=0 constant_anisotropy=1\n",
      "No PSF/pixel convolution because sigmapsf=0 pixsize=0\n",
      "inc=70.4; beta[0]=0.0; kappa=1.00; M/L=1.00; BH=0.0; chi2/DOF=nan\n",
      "Total mass MGE (MSun): 1.063e+13\n",
      "\n",
      "sigma_e: 138.83 km/s\n",
      "theta_E: 0.449 arcsec\n"
     ]
    },
    {
     "name": "stdout",
     "output_type": "stream",
     "text": [
      "jam_axi_proj(align='sph', moment='zz') -- elapsed time sec: 0.81\n",
      "analytic_los=0 logistic=0 constant_anisotropy=1\n",
      "No PSF/pixel convolution because sigmapsf=0 pixsize=0\n",
      "inc=67.0; beta[0]=0.0; kappa=1.00; M/L=1.00; BH=0.0; chi2/DOF=nan\n",
      "Total mass MGE (MSun): 1.063e+13\n",
      "\n",
      "sigma_e: 137.87 km/s\n",
      "theta_E: 0.464 arcsec\n"
     ]
    },
    {
     "name": "stdout",
     "output_type": "stream",
     "text": [
      "jam_axi_proj(align='sph', moment='zz') -- elapsed time sec: 0.80\n",
      "analytic_los=0 logistic=0 constant_anisotropy=1\n",
      "No PSF/pixel convolution because sigmapsf=0 pixsize=0\n",
      "inc=69.9; beta[0]=0.0; kappa=1.00; M/L=1.00; BH=0.0; chi2/DOF=nan\n",
      "Total mass MGE (MSun): 1.063e+13\n",
      "\n",
      "sigma_e: 138.72 km/s\n",
      "theta_E: 0.370 arcsec\n"
     ]
    },
    {
     "name": "stdout",
     "output_type": "stream",
     "text": [
      "jam_axi_proj(align='sph', moment='zz') -- elapsed time sec: 0.81\n",
      "analytic_los=0 logistic=0 constant_anisotropy=1\n",
      "No PSF/pixel convolution because sigmapsf=0 pixsize=0\n",
      "inc=46.7; beta[0]=0.0; kappa=1.00; M/L=1.00; BH=0.0; chi2/DOF=nan\n",
      "Total mass MGE (MSun): 1.063e+13\n",
      "\n",
      "sigma_e: 127.18 km/s\n",
      "theta_E: 0.454 arcsec\n"
     ]
    },
    {
     "name": "stdout",
     "output_type": "stream",
     "text": [
      "jam_axi_proj(align='sph', moment='zz') -- elapsed time sec: 0.79\n",
      "analytic_los=0 logistic=0 constant_anisotropy=1\n",
      "No PSF/pixel convolution because sigmapsf=0 pixsize=0\n",
      "inc=68.0; beta[0]=0.0; kappa=1.00; M/L=1.00; BH=0.0; chi2/DOF=nan\n",
      "Total mass MGE (MSun): 1.063e+13\n",
      "\n",
      "sigma_e: 138.14 km/s\n",
      "theta_E: 0.536 arcsec\n"
     ]
    },
    {
     "name": "stdout",
     "output_type": "stream",
     "text": [
      "jam_axi_proj(align='sph', moment='zz') -- elapsed time sec: 0.80\n",
      "analytic_los=0 logistic=0 constant_anisotropy=1\n",
      "No PSF/pixel convolution because sigmapsf=0 pixsize=0\n",
      "inc=83.5; beta[0]=0.0; kappa=1.00; M/L=1.00; BH=0.0; chi2/DOF=nan\n",
      "Total mass MGE (MSun): 1.063e+13\n",
      "\n",
      "sigma_e: 140.63 km/s\n",
      "theta_E: 0.472 arcsec\n"
     ]
    },
    {
     "name": "stdout",
     "output_type": "stream",
     "text": [
      "jam_axi_proj(align='sph', moment='zz') -- elapsed time sec: 0.80\n",
      "analytic_los=0 logistic=0 constant_anisotropy=1\n",
      "No PSF/pixel convolution because sigmapsf=0 pixsize=0\n",
      "inc=71.3; beta[0]=0.0; kappa=1.00; M/L=1.00; BH=0.0; chi2/DOF=nan\n",
      "Total mass MGE (MSun): 1.063e+13\n",
      "\n",
      "sigma_e: 139.07 km/s\n"
     ]
    },
    {
     "name": "stdout",
     "output_type": "stream",
     "text": [
      "theta_E: 0.314 arcsec\n"
     ]
    },
    {
     "name": "stdout",
     "output_type": "stream",
     "text": [
      "jam_axi_proj(align='sph', moment='zz') -- elapsed time sec: 0.78\n",
      "analytic_los=0 logistic=0 constant_anisotropy=1\n",
      "No PSF/pixel convolution because sigmapsf=0 pixsize=0\n",
      "inc=49.2; beta[0]=0.0; kappa=1.00; M/L=1.00; BH=0.0; chi2/DOF=nan\n",
      "Total mass MGE (MSun): 7.175e+12\n",
      "\n",
      "sigma_e: 117.57 km/s\n",
      "theta_E: 0.278 arcsec\n"
     ]
    },
    {
     "name": "stdout",
     "output_type": "stream",
     "text": [
      "jam_axi_proj(align='sph', moment='zz') -- elapsed time sec: 0.81\n",
      "analytic_los=0 logistic=0 constant_anisotropy=1\n",
      "No PSF/pixel convolution because sigmapsf=0 pixsize=0\n",
      "inc=28.8; beta[0]=0.0; kappa=1.00; M/L=1.00; BH=0.0; chi2/DOF=nan\n",
      "Total mass MGE (MSun): 7.175e+12\n",
      "\n",
      "sigma_e: 104.68 km/s\n",
      "theta_E: 0.365 arcsec\n"
     ]
    },
    {
     "name": "stdout",
     "output_type": "stream",
     "text": [
      "jam_axi_proj(align='sph', moment='zz') -- elapsed time sec: 0.80\n",
      "analytic_los=0 logistic=0 constant_anisotropy=1\n",
      "No PSF/pixel convolution because sigmapsf=0 pixsize=0\n",
      "inc=65.5; beta[0]=0.0; kappa=1.00; M/L=1.00; BH=0.0; chi2/DOF=nan\n",
      "Total mass MGE (MSun): 7.175e+12\n",
      "\n",
      "sigma_e: 124.93 km/s\n",
      "theta_E: 0.297 arcsec\n"
     ]
    },
    {
     "name": "stdout",
     "output_type": "stream",
     "text": [
      "jam_axi_proj(align='sph', moment='zz') -- elapsed time sec: 0.80\n",
      "analytic_los=0 logistic=0 constant_anisotropy=1\n",
      "No PSF/pixel convolution because sigmapsf=0 pixsize=0\n",
      "inc=41.5; beta[0]=0.0; kappa=1.00; M/L=1.00; BH=0.0; chi2/DOF=nan\n",
      "Total mass MGE (MSun): 7.175e+12\n",
      "\n",
      "sigma_e: 112.91 km/s\n",
      "theta_E: 0.377 arcsec\n"
     ]
    },
    {
     "name": "stdout",
     "output_type": "stream",
     "text": [
      "jam_axi_proj(align='sph', moment='zz') -- elapsed time sec: 0.80\n",
      "analytic_los=0 logistic=0 constant_anisotropy=1\n",
      "No PSF/pixel convolution because sigmapsf=0 pixsize=0\n",
      "inc=68.5; beta[0]=0.0; kappa=1.00; M/L=1.00; BH=0.0; chi2/DOF=nan\n",
      "Total mass MGE (MSun): 7.175e+12\n",
      "\n",
      "sigma_e: 125.81 km/s\n",
      "theta_E: 0.280 arcsec\n"
     ]
    },
    {
     "name": "stdout",
     "output_type": "stream",
     "text": [
      "jam_axi_proj(align='sph', moment='zz') -- elapsed time sec: 0.80\n",
      "analytic_los=0 logistic=0 constant_anisotropy=1\n",
      "No PSF/pixel convolution because sigmapsf=0 pixsize=0\n",
      "inc=30.4; beta[0]=0.0; kappa=1.00; M/L=1.00; BH=0.0; chi2/DOF=nan\n",
      "Total mass MGE (MSun): 7.175e+12\n",
      "\n",
      "sigma_e: 105.72 km/s\n",
      "theta_E: 0.270 arcsec\n"
     ]
    },
    {
     "name": "stdout",
     "output_type": "stream",
     "text": [
      "jam_axi_proj(align='sph', moment='zz') -- elapsed time sec: 0.81\n",
      "analytic_los=0 logistic=0 constant_anisotropy=1\n",
      "No PSF/pixel convolution because sigmapsf=0 pixsize=0\n",
      "inc=20.3; beta[0]=0.0; kappa=1.00; M/L=1.00; BH=0.0; chi2/DOF=nan\n",
      "Total mass MGE (MSun): 7.175e+12\n",
      "\n",
      "sigma_e: 99.79 km/s\n",
      "theta_E: 0.281 arcsec\n"
     ]
    },
    {
     "name": "stdout",
     "output_type": "stream",
     "text": [
      "jam_axi_proj(align='sph', moment='zz') -- elapsed time sec: 0.80\n",
      "analytic_los=0 logistic=0 constant_anisotropy=1\n",
      "No PSF/pixel convolution because sigmapsf=0 pixsize=0\n",
      "inc=31.3; beta[0]=0.0; kappa=1.00; M/L=1.00; BH=0.0; chi2/DOF=nan\n",
      "Total mass MGE (MSun): 7.175e+12\n",
      "\n",
      "sigma_e: 106.27 km/s\n",
      "theta_E: 0.441 arcsec\n"
     ]
    },
    {
     "name": "stdout",
     "output_type": "stream",
     "text": [
      "jam_axi_proj(align='sph', moment='zz') -- elapsed time sec: 0.81\n",
      "analytic_los=0 logistic=0 constant_anisotropy=1\n",
      "No PSF/pixel convolution because sigmapsf=0 pixsize=0\n",
      "inc=85.3; beta[0]=0.0; kappa=1.00; M/L=1.00; BH=0.0; chi2/DOF=nan\n",
      "Total mass MGE (MSun): 7.175e+12\n",
      "\n",
      "sigma_e: 127.98 km/s\n",
      "theta_E: 0.388 arcsec\n"
     ]
    },
    {
     "name": "stdout",
     "output_type": "stream",
     "text": [
      "jam_axi_proj(align='sph', moment='zz') -- elapsed time sec: 0.80\n",
      "analytic_los=0 logistic=0 constant_anisotropy=1\n",
      "No PSF/pixel convolution because sigmapsf=0 pixsize=0\n",
      "inc=71.3; beta[0]=0.0; kappa=1.00; M/L=1.00; BH=0.0; chi2/DOF=nan\n",
      "Total mass MGE (MSun): 7.175e+12\n",
      "\n",
      "sigma_e: 126.42 km/s\n"
     ]
    },
    {
     "name": "stdout",
     "output_type": "stream",
     "text": [
      "theta_E: 0.612 arcsec\n"
     ]
    },
    {
     "name": "stdout",
     "output_type": "stream",
     "text": [
      "jam_axi_proj(align='sph', moment='zz') -- elapsed time sec: 0.80\n",
      "analytic_los=0 logistic=0 constant_anisotropy=1\n",
      "No PSF/pixel convolution because sigmapsf=0 pixsize=0\n",
      "inc=64.2; beta[0]=0.0; kappa=1.00; M/L=1.00; BH=0.0; chi2/DOF=nan\n",
      "Total mass MGE (MSun): 2.031e+13\n",
      "\n",
      "sigma_e: 162.76 km/s\n",
      "theta_E: 0.748 arcsec\n"
     ]
    },
    {
     "name": "stdout",
     "output_type": "stream",
     "text": [
      "jam_axi_proj(align='sph', moment='zz') -- elapsed time sec: 0.81\n",
      "analytic_los=0 logistic=0 constant_anisotropy=1\n",
      "No PSF/pixel convolution because sigmapsf=0 pixsize=0\n",
      "inc=87.5; beta[0]=0.0; kappa=1.00; M/L=1.00; BH=0.0; chi2/DOF=nan\n",
      "Total mass MGE (MSun): 2.031e+13\n",
      "\n",
      "sigma_e: 167.46 km/s\n",
      "theta_E: 0.513 arcsec\n"
     ]
    },
    {
     "name": "stdout",
     "output_type": "stream",
     "text": [
      "jam_axi_proj(align='sph', moment='zz') -- elapsed time sec: 0.80\n",
      "analytic_los=0 logistic=0 constant_anisotropy=1\n",
      "No PSF/pixel convolution because sigmapsf=0 pixsize=0\n",
      "inc=43.3; beta[0]=0.0; kappa=1.00; M/L=1.00; BH=0.0; chi2/DOF=nan\n",
      "Total mass MGE (MSun): 2.031e+13\n",
      "\n",
      "sigma_e: 149.18 km/s\n",
      "theta_E: 0.489 arcsec\n"
     ]
    },
    {
     "name": "stdout",
     "output_type": "stream",
     "text": [
      "jam_axi_proj(align='sph', moment='zz') -- elapsed time sec: 0.79\n",
      "analytic_los=0 logistic=0 constant_anisotropy=1\n",
      "No PSF/pixel convolution because sigmapsf=0 pixsize=0\n",
      "inc=34.9; beta[0]=0.0; kappa=1.00; M/L=1.00; BH=0.0; chi2/DOF=nan\n",
      "Total mass MGE (MSun): 2.031e+13\n",
      "\n",
      "sigma_e: 142.34 km/s\n",
      "theta_E: 0.523 arcsec\n"
     ]
    },
    {
     "name": "stdout",
     "output_type": "stream",
     "text": [
      "jam_axi_proj(align='sph', moment='zz') -- elapsed time sec: 0.81\n",
      "analytic_los=0 logistic=0 constant_anisotropy=1\n",
      "No PSF/pixel convolution because sigmapsf=0 pixsize=0\n",
      "inc=46.0; beta[0]=0.0; kappa=1.00; M/L=1.00; BH=0.0; chi2/DOF=nan\n",
      "Total mass MGE (MSun): 2.031e+13\n",
      "\n",
      "sigma_e: 151.36 km/s\n",
      "theta_E: 0.707 arcsec\n"
     ]
    },
    {
     "name": "stdout",
     "output_type": "stream",
     "text": [
      "jam_axi_proj(align='sph', moment='zz') -- elapsed time sec: 0.80\n",
      "analytic_los=0 logistic=0 constant_anisotropy=1\n",
      "No PSF/pixel convolution because sigmapsf=0 pixsize=0\n",
      "inc=78.4; beta[0]=0.0; kappa=1.00; M/L=1.00; BH=0.0; chi2/DOF=nan\n",
      "Total mass MGE (MSun): 2.031e+13\n",
      "\n",
      "sigma_e: 166.77 km/s\n",
      "theta_E: 0.455 arcsec\n"
     ]
    },
    {
     "name": "stdout",
     "output_type": "stream",
     "text": [
      "jam_axi_proj(align='sph', moment='zz') -- elapsed time sec: 0.81\n",
      "analytic_los=0 logistic=0 constant_anisotropy=1\n",
      "No PSF/pixel convolution because sigmapsf=0 pixsize=0\n",
      "inc=13.5; beta[0]=0.0; kappa=1.00; M/L=1.00; BH=0.0; chi2/DOF=nan\n",
      "Total mass MGE (MSun): 2.031e+13\n",
      "\n",
      "sigma_e: 127.27 km/s\n",
      "theta_E: 0.724 arcsec\n"
     ]
    },
    {
     "name": "stdout",
     "output_type": "stream",
     "text": [
      "jam_axi_proj(align='sph', moment='zz') -- elapsed time sec: 0.80\n",
      "analytic_los=0 logistic=0 constant_anisotropy=1\n",
      "No PSF/pixel convolution because sigmapsf=0 pixsize=0\n",
      "inc=81.3; beta[0]=0.0; kappa=1.00; M/L=1.00; BH=0.0; chi2/DOF=nan\n",
      "Total mass MGE (MSun): 2.031e+13\n",
      "\n",
      "sigma_e: 167.10 km/s\n",
      "theta_E: 0.580 arcsec\n"
     ]
    },
    {
     "name": "stdout",
     "output_type": "stream",
     "text": [
      "jam_axi_proj(align='sph', moment='zz') -- elapsed time sec: 0.82\n",
      "analytic_los=0 logistic=0 constant_anisotropy=1\n",
      "No PSF/pixel convolution because sigmapsf=0 pixsize=0\n",
      "inc=58.7; beta[0]=0.0; kappa=1.00; M/L=1.00; BH=0.0; chi2/DOF=nan\n",
      "Total mass MGE (MSun): 2.031e+13\n",
      "\n",
      "sigma_e: 160.00 km/s\n",
      "theta_E: 0.460 arcsec\n"
     ]
    },
    {
     "name": "stdout",
     "output_type": "stream",
     "text": [
      "jam_axi_proj(align='sph', moment='zz') -- elapsed time sec: 0.80\n",
      "analytic_los=0 logistic=0 constant_anisotropy=1\n",
      "No PSF/pixel convolution because sigmapsf=0 pixsize=0\n",
      "inc=18.0; beta[0]=0.0; kappa=1.00; M/L=1.00; BH=0.0; chi2/DOF=nan\n",
      "Total mass MGE (MSun): 2.031e+13\n",
      "\n",
      "sigma_e: 129.69 km/s\n"
     ]
    },
    {
     "name": "stdout",
     "output_type": "stream",
     "text": [
      "theta_E: 0.669 arcsec\n"
     ]
    },
    {
     "name": "stdout",
     "output_type": "stream",
     "text": [
      "jam_axi_proj(align='sph', moment='zz') -- elapsed time sec: 0.77\n",
      "analytic_los=0 logistic=0 constant_anisotropy=1\n",
      "No PSF/pixel convolution because sigmapsf=0 pixsize=0\n",
      "inc=83.5; beta[0]=0.0; kappa=1.00; M/L=1.00; BH=0.0; chi2/DOF=nan\n",
      "Total mass MGE (MSun): 1.796e+13\n",
      "\n",
      "sigma_e: 165.59 km/s\n",
      "theta_E: 0.498 arcsec\n"
     ]
    },
    {
     "name": "stdout",
     "output_type": "stream",
     "text": [
      "jam_axi_proj(align='sph', moment='zz') -- elapsed time sec: 0.81\n",
      "analytic_los=0 logistic=0 constant_anisotropy=1\n",
      "No PSF/pixel convolution because sigmapsf=0 pixsize=0\n",
      "inc=35.8; beta[0]=0.0; kappa=1.00; M/L=1.00; BH=0.0; chi2/DOF=nan\n",
      "Total mass MGE (MSun): 1.796e+13\n",
      "\n",
      "sigma_e: 146.67 km/s\n",
      "theta_E: 0.515 arcsec\n"
     ]
    },
    {
     "name": "stdout",
     "output_type": "stream",
     "text": [
      "jam_axi_proj(align='sph', moment='zz') -- elapsed time sec: 0.81\n",
      "analytic_los=0 logistic=0 constant_anisotropy=1\n",
      "No PSF/pixel convolution because sigmapsf=0 pixsize=0\n",
      "inc=42.6; beta[0]=0.0; kappa=1.00; M/L=1.00; BH=0.0; chi2/DOF=nan\n",
      "Total mass MGE (MSun): 1.796e+13\n",
      "\n",
      "sigma_e: 150.83 km/s\n",
      "theta_E: 0.662 arcsec\n"
     ]
    },
    {
     "name": "stdout",
     "output_type": "stream",
     "text": [
      "jam_axi_proj(align='sph', moment='zz') -- elapsed time sec: 0.80\n",
      "analytic_los=0 logistic=0 constant_anisotropy=1\n",
      "No PSF/pixel convolution because sigmapsf=0 pixsize=0\n",
      "inc=80.8; beta[0]=0.0; kappa=1.00; M/L=1.00; BH=0.0; chi2/DOF=nan\n",
      "Total mass MGE (MSun): 1.796e+13\n",
      "\n",
      "sigma_e: 165.32 km/s\n",
      "theta_E: 0.486 arcsec\n"
     ]
    },
    {
     "name": "stdout",
     "output_type": "stream",
     "text": [
      "jam_axi_proj(align='sph', moment='zz') -- elapsed time sec: 0.81\n",
      "analytic_los=0 logistic=0 constant_anisotropy=1\n",
      "No PSF/pixel convolution because sigmapsf=0 pixsize=0\n",
      "inc=29.6; beta[0]=0.0; kappa=1.00; M/L=1.00; BH=0.0; chi2/DOF=nan\n",
      "Total mass MGE (MSun): 1.796e+13\n",
      "\n",
      "sigma_e: 143.04 km/s\n",
      "theta_E: 0.667 arcsec\n"
     ]
    },
    {
     "name": "stdout",
     "output_type": "stream",
     "text": [
      "jam_axi_proj(align='sph', moment='zz') -- elapsed time sec: 0.80\n",
      "analytic_los=0 logistic=0 constant_anisotropy=1\n",
      "No PSF/pixel convolution because sigmapsf=0 pixsize=0\n",
      "inc=82.9; beta[0]=0.0; kappa=1.00; M/L=1.00; BH=0.0; chi2/DOF=nan\n",
      "Total mass MGE (MSun): 1.796e+13\n",
      "\n",
      "sigma_e: 165.54 km/s\n",
      "theta_E: 0.478 arcsec\n"
     ]
    },
    {
     "name": "stdout",
     "output_type": "stream",
     "text": [
      "jam_axi_proj(align='sph', moment='zz') -- elapsed time sec: 0.81\n",
      "analytic_los=0 logistic=0 constant_anisotropy=1\n",
      "No PSF/pixel convolution because sigmapsf=0 pixsize=0\n",
      "inc=24.9; beta[0]=0.0; kappa=1.00; M/L=1.00; BH=0.0; chi2/DOF=nan\n",
      "Total mass MGE (MSun): 1.796e+13\n",
      "\n",
      "sigma_e: 140.39 km/s\n",
      "theta_E: 0.588 arcsec\n"
     ]
    },
    {
     "name": "stdout",
     "output_type": "stream",
     "text": [
      "jam_axi_proj(align='sph', moment='zz') -- elapsed time sec: 0.80\n",
      "analytic_los=0 logistic=0 constant_anisotropy=1\n",
      "No PSF/pixel convolution because sigmapsf=0 pixsize=0\n",
      "inc=63.0; beta[0]=0.0; kappa=1.00; M/L=1.00; BH=0.0; chi2/DOF=nan\n",
      "Total mass MGE (MSun): 1.796e+13\n",
      "\n",
      "sigma_e: 161.13 km/s\n",
      "theta_E: 0.529 arcsec\n"
     ]
    },
    {
     "name": "stdout",
     "output_type": "stream",
     "text": [
      "jam_axi_proj(align='sph', moment='zz') -- elapsed time sec: 0.81\n",
      "analytic_los=0 logistic=0 constant_anisotropy=1\n",
      "No PSF/pixel convolution because sigmapsf=0 pixsize=0\n",
      "inc=47.4; beta[0]=0.0; kappa=1.00; M/L=1.00; BH=0.0; chi2/DOF=nan\n",
      "Total mass MGE (MSun): 1.796e+13\n",
      "\n",
      "sigma_e: 153.60 km/s\n",
      "theta_E: 0.652 arcsec\n"
     ]
    },
    {
     "name": "stdout",
     "output_type": "stream",
     "text": [
      "jam_axi_proj(align='sph', moment='zz') -- elapsed time sec: 0.80\n",
      "analytic_los=0 logistic=0 constant_anisotropy=1\n",
      "No PSF/pixel convolution because sigmapsf=0 pixsize=0\n",
      "inc=77.9; beta[0]=0.0; kappa=1.00; M/L=1.00; BH=0.0; chi2/DOF=nan\n",
      "Total mass MGE (MSun): 1.796e+13\n",
      "\n",
      "sigma_e: 164.98 km/s\n"
     ]
    },
    {
     "name": "stdout",
     "output_type": "stream",
     "text": [
      "theta_E: 0.323 arcsec\n"
     ]
    },
    {
     "name": "stdout",
     "output_type": "stream",
     "text": [
      "jam_axi_proj(align='sph', moment='zz') -- elapsed time sec: 0.77\n",
      "analytic_los=0 logistic=0 constant_anisotropy=1\n",
      "No PSF/pixel convolution because sigmapsf=0 pixsize=0\n",
      "inc=35.6; beta[0]=0.0; kappa=1.00; M/L=1.00; BH=0.0; chi2/DOF=nan\n",
      "Total mass MGE (MSun): 7.727e+12\n",
      "\n",
      "sigma_e: 118.24 km/s\n",
      "theta_E: 0.347 arcsec\n"
     ]
    },
    {
     "name": "stdout",
     "output_type": "stream",
     "text": [
      "jam_axi_proj(align='sph', moment='zz') -- elapsed time sec: 0.80\n",
      "analytic_los=0 logistic=0 constant_anisotropy=1\n",
      "No PSF/pixel convolution because sigmapsf=0 pixsize=0\n",
      "inc=48.8; beta[0]=0.0; kappa=1.00; M/L=1.00; BH=0.0; chi2/DOF=nan\n",
      "Total mass MGE (MSun): 7.727e+12\n",
      "\n",
      "sigma_e: 124.71 km/s\n",
      "theta_E: 0.442 arcsec\n"
     ]
    },
    {
     "name": "stdout",
     "output_type": "stream",
     "text": [
      "jam_axi_proj(align='sph', moment='zz') -- elapsed time sec: 0.79\n",
      "analytic_los=0 logistic=0 constant_anisotropy=1\n",
      "No PSF/pixel convolution because sigmapsf=0 pixsize=0\n",
      "inc=86.8; beta[0]=0.0; kappa=1.00; M/L=1.00; BH=0.0; chi2/DOF=nan\n",
      "Total mass MGE (MSun): 7.727e+12\n",
      "\n",
      "sigma_e: 134.08 km/s\n",
      "theta_E: 0.325 arcsec\n"
     ]
    },
    {
     "name": "stdout",
     "output_type": "stream",
     "text": [
      "jam_axi_proj(align='sph', moment='zz') -- elapsed time sec: 0.80\n",
      "analytic_los=0 logistic=0 constant_anisotropy=1\n",
      "No PSF/pixel convolution because sigmapsf=0 pixsize=0\n",
      "inc=36.8; beta[0]=0.0; kappa=1.00; M/L=1.00; BH=0.0; chi2/DOF=nan\n",
      "Total mass MGE (MSun): 7.727e+12\n",
      "\n",
      "sigma_e: 118.86 km/s\n",
      "theta_E: 0.335 arcsec\n"
     ]
    },
    {
     "name": "stdout",
     "output_type": "stream",
     "text": [
      "jam_axi_proj(align='sph', moment='zz') -- elapsed time sec: 0.81\n",
      "analytic_los=0 logistic=0 constant_anisotropy=1\n",
      "No PSF/pixel convolution because sigmapsf=0 pixsize=0\n",
      "inc=42.8; beta[0]=0.0; kappa=1.00; M/L=1.00; BH=0.0; chi2/DOF=nan\n",
      "Total mass MGE (MSun): 7.727e+12\n",
      "\n",
      "sigma_e: 121.85 km/s\n",
      "theta_E: 0.396 arcsec\n"
     ]
    },
    {
     "name": "stdout",
     "output_type": "stream",
     "text": [
      "jam_axi_proj(align='sph', moment='zz') -- elapsed time sec: 0.79\n",
      "analytic_los=0 logistic=0 constant_anisotropy=1\n",
      "No PSF/pixel convolution because sigmapsf=0 pixsize=0\n",
      "inc=67.4; beta[0]=0.0; kappa=1.00; M/L=1.00; BH=0.0; chi2/DOF=nan\n",
      "Total mass MGE (MSun): 7.727e+12\n",
      "\n",
      "sigma_e: 131.52 km/s\n",
      "theta_E: 0.440 arcsec\n"
     ]
    },
    {
     "name": "stdout",
     "output_type": "stream",
     "text": [
      "jam_axi_proj(align='sph', moment='zz') -- elapsed time sec: 0.80\n",
      "analytic_los=0 logistic=0 constant_anisotropy=1\n",
      "No PSF/pixel convolution because sigmapsf=0 pixsize=0\n",
      "inc=84.7; beta[0]=0.0; kappa=1.00; M/L=1.00; BH=0.0; chi2/DOF=nan\n",
      "Total mass MGE (MSun): 7.727e+12\n",
      "\n",
      "sigma_e: 133.99 km/s\n",
      "theta_E: 0.335 arcsec\n"
     ]
    },
    {
     "name": "stdout",
     "output_type": "stream",
     "text": [
      "jam_axi_proj(align='sph', moment='zz') -- elapsed time sec: 0.79\n",
      "analytic_los=0 logistic=0 constant_anisotropy=1\n",
      "No PSF/pixel convolution because sigmapsf=0 pixsize=0\n",
      "inc=43.0; beta[0]=0.0; kappa=1.00; M/L=1.00; BH=0.0; chi2/DOF=nan\n",
      "Total mass MGE (MSun): 7.727e+12\n",
      "\n",
      "sigma_e: 121.96 km/s\n",
      "theta_E: 0.315 arcsec\n"
     ]
    },
    {
     "name": "stdout",
     "output_type": "stream",
     "text": [
      "jam_axi_proj(align='sph', moment='zz') -- elapsed time sec: 0.81\n",
      "analytic_los=0 logistic=0 constant_anisotropy=1\n",
      "No PSF/pixel convolution because sigmapsf=0 pixsize=0\n",
      "inc=29.9; beta[0]=0.0; kappa=1.00; M/L=1.00; BH=0.0; chi2/DOF=nan\n",
      "Total mass MGE (MSun): 7.727e+12\n",
      "\n",
      "sigma_e: 115.41 km/s\n",
      "theta_E: 0.384 arcsec\n"
     ]
    },
    {
     "name": "stdout",
     "output_type": "stream",
     "text": [
      "jam_axi_proj(align='sph', moment='zz') -- elapsed time sec: 0.78\n",
      "analytic_los=0 logistic=0 constant_anisotropy=1\n",
      "No PSF/pixel convolution because sigmapsf=0 pixsize=0\n",
      "inc=63.4; beta[0]=0.0; kappa=1.00; M/L=1.00; BH=0.0; chi2/DOF=nan\n",
      "Total mass MGE (MSun): 7.727e+12\n",
      "\n",
      "sigma_e: 130.40 km/s\n"
     ]
    },
    {
     "name": "stdout",
     "output_type": "stream",
     "text": [
      "theta_E: 1.224 arcsec\n"
     ]
    },
    {
     "name": "stdout",
     "output_type": "stream",
     "text": [
      "jam_axi_proj(align='sph', moment='zz') -- elapsed time sec: 0.77\n",
      "analytic_los=0 logistic=0 constant_anisotropy=1\n",
      "No PSF/pixel convolution because sigmapsf=0 pixsize=0\n",
      "inc=81.9; beta[0]=0.0; kappa=1.00; M/L=1.00; BH=0.0; chi2/DOF=nan\n",
      "Total mass MGE (MSun): 5.731e+13\n",
      "\n",
      "sigma_e: 215.84 km/s\n",
      "theta_E: 0.795 arcsec\n"
     ]
    },
    {
     "name": "stdout",
     "output_type": "stream",
     "text": [
      "jam_axi_proj(align='sph', moment='zz') -- elapsed time sec: 0.79\n",
      "analytic_los=0 logistic=0 constant_anisotropy=1\n",
      "No PSF/pixel convolution because sigmapsf=0 pixsize=0\n",
      "inc=23.7; beta[0]=0.0; kappa=1.00; M/L=1.00; BH=0.0; chi2/DOF=nan\n",
      "Total mass MGE (MSun): 5.731e+13\n",
      "\n",
      "sigma_e: 173.70 km/s\n",
      "theta_E: 1.260 arcsec\n"
     ]
    },
    {
     "name": "stdout",
     "output_type": "stream",
     "text": [
      "jam_axi_proj(align='sph', moment='zz') -- elapsed time sec: 0.81\n",
      "analytic_los=0 logistic=0 constant_anisotropy=1\n",
      "No PSF/pixel convolution because sigmapsf=0 pixsize=0\n",
      "inc=88.9; beta[0]=0.0; kappa=1.00; M/L=1.00; BH=0.0; chi2/DOF=nan\n",
      "Total mass MGE (MSun): 5.731e+13\n",
      "\n",
      "sigma_e: 216.27 km/s\n",
      "theta_E: 1.061 arcsec\n"
     ]
    },
    {
     "name": "stdout",
     "output_type": "stream",
     "text": [
      "jam_axi_proj(align='sph', moment='zz') -- elapsed time sec: 0.79\n",
      "analytic_los=0 logistic=0 constant_anisotropy=1\n",
      "No PSF/pixel convolution because sigmapsf=0 pixsize=0\n",
      "inc=66.7; beta[0]=0.0; kappa=1.00; M/L=1.00; BH=0.0; chi2/DOF=nan\n",
      "Total mass MGE (MSun): 5.731e+13\n",
      "\n",
      "sigma_e: 211.64 km/s\n",
      "theta_E: 0.810 arcsec\n"
     ]
    },
    {
     "name": "stdout",
     "output_type": "stream",
     "text": [
      "jam_axi_proj(align='sph', moment='zz') -- elapsed time sec: 0.80\n",
      "analytic_los=0 logistic=0 constant_anisotropy=1\n",
      "No PSF/pixel convolution because sigmapsf=0 pixsize=0\n",
      "inc=28.9; beta[0]=0.0; kappa=1.00; M/L=1.00; BH=0.0; chi2/DOF=nan\n",
      "Total mass MGE (MSun): 5.731e+13\n",
      "\n",
      "sigma_e: 178.69 km/s\n",
      "theta_E: 0.775 arcsec\n"
     ]
    },
    {
     "name": "stdout",
     "output_type": "stream",
     "text": [
      "jam_axi_proj(align='sph', moment='zz') -- elapsed time sec: 0.79\n",
      "analytic_los=0 logistic=0 constant_anisotropy=1\n",
      "No PSF/pixel convolution because sigmapsf=0 pixsize=0\n",
      "inc=14.1; beta[0]=0.0; kappa=1.00; M/L=1.00; BH=0.0; chi2/DOF=nan\n",
      "Total mass MGE (MSun): 5.731e+13\n",
      "\n",
      "sigma_e: 166.17 km/s\n",
      "theta_E: 0.987 arcsec\n"
     ]
    },
    {
     "name": "stdout",
     "output_type": "stream",
     "text": [
      "jam_axi_proj(align='sph', moment='zz') -- elapsed time sec: 0.80\n",
      "analytic_los=0 logistic=0 constant_anisotropy=1\n",
      "No PSF/pixel convolution because sigmapsf=0 pixsize=0\n",
      "inc=59.2; beta[0]=0.0; kappa=1.00; M/L=1.00; BH=0.0; chi2/DOF=nan\n",
      "Total mass MGE (MSun): 5.731e+13\n",
      "\n",
      "sigma_e: 207.22 km/s\n",
      "theta_E: 0.828 arcsec\n"
     ]
    },
    {
     "name": "stdout",
     "output_type": "stream",
     "text": [
      "jam_axi_proj(align='sph', moment='zz') -- elapsed time sec: 0.80\n",
      "analytic_los=0 logistic=0 constant_anisotropy=1\n",
      "No PSF/pixel convolution because sigmapsf=0 pixsize=0\n",
      "inc=33.9; beta[0]=0.0; kappa=1.00; M/L=1.00; BH=0.0; chi2/DOF=nan\n",
      "Total mass MGE (MSun): 5.731e+13\n",
      "\n",
      "sigma_e: 183.82 km/s\n",
      "theta_E: 0.778 arcsec\n"
     ]
    },
    {
     "name": "stdout",
     "output_type": "stream",
     "text": [
      "jam_axi_proj(align='sph', moment='zz') -- elapsed time sec: 0.80\n",
      "analytic_los=0 logistic=0 constant_anisotropy=1\n",
      "No PSF/pixel convolution because sigmapsf=0 pixsize=0\n",
      "inc=16.0; beta[0]=0.0; kappa=1.00; M/L=1.00; BH=0.0; chi2/DOF=nan\n",
      "Total mass MGE (MSun): 5.731e+13\n",
      "\n",
      "sigma_e: 167.42 km/s\n",
      "theta_E: 1.108 arcsec\n"
     ]
    },
    {
     "name": "stdout",
     "output_type": "stream",
     "text": [
      "jam_axi_proj(align='sph', moment='zz') -- elapsed time sec: 0.79\n",
      "analytic_los=0 logistic=0 constant_anisotropy=1\n",
      "No PSF/pixel convolution because sigmapsf=0 pixsize=0\n",
      "inc=71.0; beta[0]=0.0; kappa=1.00; M/L=1.00; BH=0.0; chi2/DOF=nan\n",
      "Total mass MGE (MSun): 5.731e+13\n",
      "\n",
      "sigma_e: 213.32 km/s\n"
     ]
    },
    {
     "name": "stdout",
     "output_type": "stream",
     "text": [
      "theta_E: 0.405 arcsec\n"
     ]
    },
    {
     "name": "stdout",
     "output_type": "stream",
     "text": [
      "jam_axi_proj(align='sph', moment='zz') -- elapsed time sec: 0.76\n",
      "analytic_los=0 logistic=0 constant_anisotropy=1\n",
      "No PSF/pixel convolution because sigmapsf=0 pixsize=0\n",
      "inc=70.2; beta[0]=0.0; kappa=1.00; M/L=1.00; BH=0.0; chi2/DOF=nan\n",
      "Total mass MGE (MSun): 7.811e+12\n",
      "\n",
      "sigma_e: 135.32 km/s\n",
      "theta_E: 0.343 arcsec\n"
     ]
    },
    {
     "name": "stdout",
     "output_type": "stream",
     "text": [
      "jam_axi_proj(align='sph', moment='zz') -- elapsed time sec: 0.78\n",
      "analytic_los=0 logistic=0 constant_anisotropy=1\n",
      "No PSF/pixel convolution because sigmapsf=0 pixsize=0\n",
      "inc=23.8; beta[0]=0.0; kappa=1.00; M/L=1.00; BH=0.0; chi2/DOF=nan\n",
      "Total mass MGE (MSun): 7.811e+12\n",
      "\n",
      "sigma_e: 123.74 km/s\n",
      "theta_E: 0.412 arcsec\n"
     ]
    },
    {
     "name": "stdout",
     "output_type": "stream",
     "text": [
      "jam_axi_proj(align='sph', moment='zz') -- elapsed time sec: 0.77\n",
      "analytic_los=0 logistic=0 constant_anisotropy=1\n",
      "No PSF/pixel convolution because sigmapsf=0 pixsize=0\n",
      "inc=75.5; beta[0]=0.0; kappa=1.00; M/L=1.00; BH=0.0; chi2/DOF=nan\n",
      "Total mass MGE (MSun): 7.811e+12\n",
      "\n",
      "sigma_e: 136.03 km/s\n",
      "theta_E: 0.419 arcsec\n"
     ]
    },
    {
     "name": "stdout",
     "output_type": "stream",
     "text": [
      "jam_axi_proj(align='sph', moment='zz') -- elapsed time sec: 0.79\n",
      "analytic_los=0 logistic=0 constant_anisotropy=1\n",
      "No PSF/pixel convolution because sigmapsf=0 pixsize=0\n",
      "inc=82.6; beta[0]=0.0; kappa=1.00; M/L=1.00; BH=0.0; chi2/DOF=nan\n",
      "Total mass MGE (MSun): 7.811e+12\n",
      "\n",
      "sigma_e: 136.63 km/s\n",
      "theta_E: 0.360 arcsec\n"
     ]
    },
    {
     "name": "stdout",
     "output_type": "stream",
     "text": [
      "jam_axi_proj(align='sph', moment='zz') -- elapsed time sec: 0.78\n",
      "analytic_los=0 logistic=0 constant_anisotropy=1\n",
      "No PSF/pixel convolution because sigmapsf=0 pixsize=0\n",
      "inc=40.3; beta[0]=0.0; kappa=1.00; M/L=1.00; BH=0.0; chi2/DOF=nan\n",
      "Total mass MGE (MSun): 7.811e+12\n",
      "\n",
      "sigma_e: 128.16 km/s\n",
      "theta_E: 0.421 arcsec\n"
     ]
    },
    {
     "name": "stdout",
     "output_type": "stream",
     "text": [
      "jam_axi_proj(align='sph', moment='zz') -- elapsed time sec: 0.78\n",
      "analytic_los=0 logistic=0 constant_anisotropy=1\n",
      "No PSF/pixel convolution because sigmapsf=0 pixsize=0\n",
      "inc=85.8; beta[0]=0.0; kappa=1.00; M/L=1.00; BH=0.0; chi2/DOF=nan\n",
      "Total mass MGE (MSun): 7.811e+12\n",
      "\n",
      "sigma_e: 136.77 km/s\n",
      "theta_E: 0.337 arcsec\n"
     ]
    },
    {
     "name": "stdout",
     "output_type": "stream",
     "text": [
      "jam_axi_proj(align='sph', moment='zz') -- elapsed time sec: 0.78\n",
      "analytic_los=0 logistic=0 constant_anisotropy=1\n",
      "No PSF/pixel convolution because sigmapsf=0 pixsize=0\n",
      "inc=12.6; beta[0]=0.0; kappa=1.00; M/L=1.00; BH=0.0; chi2/DOF=nan\n",
      "Total mass MGE (MSun): 7.811e+12\n",
      "\n",
      "sigma_e: 121.63 km/s\n",
      "theta_E: 0.340 arcsec\n"
     ]
    },
    {
     "name": "stdout",
     "output_type": "stream",
     "text": [
      "jam_axi_proj(align='sph', moment='zz') -- elapsed time sec: 0.78\n",
      "analytic_los=0 logistic=0 constant_anisotropy=1\n",
      "No PSF/pixel convolution because sigmapsf=0 pixsize=0\n",
      "inc=19.1; beta[0]=0.0; kappa=1.00; M/L=1.00; BH=0.0; chi2/DOF=nan\n",
      "Total mass MGE (MSun): 7.811e+12\n",
      "\n",
      "sigma_e: 122.73 km/s\n",
      "theta_E: 0.421 arcsec\n"
     ]
    },
    {
     "name": "stdout",
     "output_type": "stream",
     "text": [
      "jam_axi_proj(align='sph', moment='zz') -- elapsed time sec: 0.78\n",
      "analytic_los=0 logistic=0 constant_anisotropy=1\n",
      "No PSF/pixel convolution because sigmapsf=0 pixsize=0\n",
      "inc=84.4; beta[0]=0.0; kappa=1.00; M/L=1.00; BH=0.0; chi2/DOF=nan\n",
      "Total mass MGE (MSun): 7.811e+12\n",
      "\n",
      "sigma_e: 136.72 km/s\n",
      "theta_E: 0.421 arcsec\n"
     ]
    },
    {
     "name": "stdout",
     "output_type": "stream",
     "text": [
      "jam_axi_proj(align='sph', moment='zz') -- elapsed time sec: 0.77\n",
      "analytic_los=0 logistic=0 constant_anisotropy=1\n",
      "No PSF/pixel convolution because sigmapsf=0 pixsize=0\n",
      "inc=84.3; beta[0]=0.0; kappa=1.00; M/L=1.00; BH=0.0; chi2/DOF=nan\n",
      "Total mass MGE (MSun): 7.811e+12\n",
      "\n",
      "sigma_e: 136.72 km/s\n"
     ]
    },
    {
     "name": "stdout",
     "output_type": "stream",
     "text": [
      "theta_E: 0.899 arcsec\n"
     ]
    },
    {
     "name": "stdout",
     "output_type": "stream",
     "text": [
      "jam_axi_proj(align='sph', moment='zz') -- elapsed time sec: 0.79\n",
      "analytic_los=0 logistic=0 constant_anisotropy=1\n",
      "No PSF/pixel convolution because sigmapsf=0 pixsize=0\n",
      "inc=83.4; beta[0]=0.0; kappa=1.00; M/L=1.00; BH=0.0; chi2/DOF=nan\n",
      "Total mass MGE (MSun): 3.238e+13\n",
      "\n",
      "sigma_e: 191.72 km/s\n",
      "theta_E: 0.897 arcsec\n"
     ]
    },
    {
     "name": "stdout",
     "output_type": "stream",
     "text": [
      "jam_axi_proj(align='sph', moment='zz') -- elapsed time sec: 0.81\n",
      "analytic_los=0 logistic=0 constant_anisotropy=1\n",
      "No PSF/pixel convolution because sigmapsf=0 pixsize=0\n",
      "inc=82.9; beta[0]=0.0; kappa=1.00; M/L=1.00; BH=0.0; chi2/DOF=nan\n",
      "Total mass MGE (MSun): 3.238e+13\n",
      "\n",
      "sigma_e: 191.68 km/s\n",
      "theta_E: 0.759 arcsec\n"
     ]
    },
    {
     "name": "stdout",
     "output_type": "stream",
     "text": [
      "jam_axi_proj(align='sph', moment='zz') -- elapsed time sec: 0.80\n",
      "analytic_los=0 logistic=0 constant_anisotropy=1\n",
      "No PSF/pixel convolution because sigmapsf=0 pixsize=0\n",
      "inc=56.9; beta[0]=0.0; kappa=1.00; M/L=1.00; BH=0.0; chi2/DOF=nan\n",
      "Total mass MGE (MSun): 3.238e+13\n",
      "\n",
      "sigma_e: 183.68 km/s\n",
      "theta_E: 0.738 arcsec\n"
     ]
    },
    {
     "name": "stdout",
     "output_type": "stream",
     "text": [
      "jam_axi_proj(align='sph', moment='zz') -- elapsed time sec: 0.79\n",
      "analytic_los=0 logistic=0 constant_anisotropy=1\n",
      "No PSF/pixel convolution because sigmapsf=0 pixsize=0\n",
      "inc=52.8; beta[0]=0.0; kappa=1.00; M/L=1.00; BH=0.0; chi2/DOF=nan\n",
      "Total mass MGE (MSun): 3.238e+13\n",
      "\n",
      "sigma_e: 181.38 km/s\n",
      "theta_E: 0.623 arcsec\n"
     ]
    },
    {
     "name": "stdout",
     "output_type": "stream",
     "text": [
      "jam_axi_proj(align='sph', moment='zz') -- elapsed time sec: 0.80\n",
      "analytic_los=0 logistic=0 constant_anisotropy=1\n",
      "No PSF/pixel convolution because sigmapsf=0 pixsize=0\n",
      "inc=5.98; beta[0]=0.0; kappa=1.00; M/L=1.00; BH=0.0; chi2/DOF=nan\n",
      "Total mass MGE (MSun): 3.238e+13\n",
      "\n",
      "sigma_e: 154.91 km/s\n",
      "theta_E: 0.793 arcsec\n"
     ]
    },
    {
     "name": "stdout",
     "output_type": "stream",
     "text": [
      "jam_axi_proj(align='sph', moment='zz') -- elapsed time sec: 0.80\n",
      "analytic_los=0 logistic=0 constant_anisotropy=1\n",
      "No PSF/pixel convolution because sigmapsf=0 pixsize=0\n",
      "inc=63.0; beta[0]=0.0; kappa=1.00; M/L=1.00; BH=0.0; chi2/DOF=nan\n",
      "Total mass MGE (MSun): 3.238e+13\n",
      "\n",
      "sigma_e: 186.61 km/s\n",
      "theta_E: 0.871 arcsec\n"
     ]
    },
    {
     "name": "stdout",
     "output_type": "stream",
     "text": [
      "jam_axi_proj(align='sph', moment='zz') -- elapsed time sec: 0.80\n",
      "analytic_los=0 logistic=0 constant_anisotropy=1\n",
      "No PSF/pixel convolution because sigmapsf=0 pixsize=0\n",
      "inc=76.8; beta[0]=0.0; kappa=1.00; M/L=1.00; BH=0.0; chi2/DOF=nan\n",
      "Total mass MGE (MSun): 3.238e+13\n",
      "\n",
      "sigma_e: 190.82 km/s\n",
      "theta_E: 0.877 arcsec\n"
     ]
    },
    {
     "name": "stdout",
     "output_type": "stream",
     "text": [
      "jam_axi_proj(align='sph', moment='zz') -- elapsed time sec: 0.81\n",
      "analytic_los=0 logistic=0 constant_anisotropy=1\n",
      "No PSF/pixel convolution because sigmapsf=0 pixsize=0\n",
      "inc=78.1; beta[0]=0.0; kappa=1.00; M/L=1.00; BH=0.0; chi2/DOF=nan\n",
      "Total mass MGE (MSun): 3.238e+13\n",
      "\n",
      "sigma_e: 191.04 km/s\n",
      "theta_E: 0.660 arcsec\n"
     ]
    },
    {
     "name": "stdout",
     "output_type": "stream",
     "text": [
      "jam_axi_proj(align='sph', moment='zz') -- elapsed time sec: 0.79\n",
      "analytic_los=0 logistic=0 constant_anisotropy=1\n",
      "No PSF/pixel convolution because sigmapsf=0 pixsize=0\n",
      "inc=31.5; beta[0]=0.0; kappa=1.00; M/L=1.00; BH=0.0; chi2/DOF=nan\n",
      "Total mass MGE (MSun): 3.238e+13\n",
      "\n",
      "sigma_e: 167.15 km/s\n",
      "theta_E: 0.818 arcsec\n"
     ]
    },
    {
     "name": "stdout",
     "output_type": "stream",
     "text": [
      "jam_axi_proj(align='sph', moment='zz') -- elapsed time sec: 0.81\n",
      "analytic_los=0 logistic=0 constant_anisotropy=1\n",
      "No PSF/pixel convolution because sigmapsf=0 pixsize=0\n",
      "inc=67.4; beta[0]=0.0; kappa=1.00; M/L=1.00; BH=0.0; chi2/DOF=nan\n",
      "Total mass MGE (MSun): 3.238e+13\n",
      "\n",
      "sigma_e: 188.30 km/s\n"
     ]
    },
    {
     "name": "stdout",
     "output_type": "stream",
     "text": [
      "theta_E: 1.671 arcsec\n"
     ]
    },
    {
     "name": "stdout",
     "output_type": "stream",
     "text": [
      "jam_axi_proj(align='sph', moment='zz') -- elapsed time sec: 0.80\n",
      "analytic_los=0 logistic=0 constant_anisotropy=1\n",
      "No PSF/pixel convolution because sigmapsf=0 pixsize=0\n",
      "inc=55.4; beta[0]=0.0; kappa=1.00; M/L=1.00; BH=0.0; chi2/DOF=nan\n",
      "Total mass MGE (MSun): 1.509e+14\n",
      "\n",
      "sigma_e: 273.66 km/s\n",
      "theta_E: 1.893 arcsec\n"
     ]
    },
    {
     "name": "stdout",
     "output_type": "stream",
     "text": [
      "jam_axi_proj(align='sph', moment='zz') -- elapsed time sec: 0.80\n",
      "analytic_los=0 logistic=0 constant_anisotropy=1\n",
      "No PSF/pixel convolution because sigmapsf=0 pixsize=0\n",
      "inc=81.2; beta[0]=0.0; kappa=1.00; M/L=1.00; BH=0.0; chi2/DOF=nan\n",
      "Total mass MGE (MSun): 1.509e+14\n",
      "\n",
      "sigma_e: 284.36 km/s\n",
      "theta_E: 1.559 arcsec\n"
     ]
    },
    {
     "name": "stdout",
     "output_type": "stream",
     "text": [
      "jam_axi_proj(align='sph', moment='zz') -- elapsed time sec: 0.81\n",
      "analytic_los=0 logistic=0 constant_anisotropy=1\n",
      "No PSF/pixel convolution because sigmapsf=0 pixsize=0\n",
      "inc=41.3; beta[0]=0.0; kappa=1.00; M/L=1.00; BH=0.0; chi2/DOF=nan\n",
      "Total mass MGE (MSun): 1.509e+14\n",
      "\n",
      "sigma_e: 263.11 km/s\n",
      "theta_E: 1.603 arcsec\n"
     ]
    },
    {
     "name": "stdout",
     "output_type": "stream",
     "text": [
      "jam_axi_proj(align='sph', moment='zz') -- elapsed time sec: 0.81\n",
      "analytic_los=0 logistic=0 constant_anisotropy=1\n",
      "No PSF/pixel convolution because sigmapsf=0 pixsize=0\n",
      "inc=47.4; beta[0]=0.0; kappa=1.00; M/L=1.00; BH=0.0; chi2/DOF=nan\n",
      "Total mass MGE (MSun): 1.509e+14\n",
      "\n",
      "sigma_e: 267.91 km/s\n",
      "theta_E: 1.848 arcsec\n"
     ]
    },
    {
     "name": "stdout",
     "output_type": "stream",
     "text": [
      "jam_axi_proj(align='sph', moment='zz') -- elapsed time sec: 0.81\n",
      "analytic_los=0 logistic=0 constant_anisotropy=1\n",
      "No PSF/pixel convolution because sigmapsf=0 pixsize=0\n",
      "inc=74.7; beta[0]=0.0; kappa=1.00; M/L=1.00; BH=0.0; chi2/DOF=nan\n",
      "Total mass MGE (MSun): 1.509e+14\n",
      "\n",
      "sigma_e: 282.89 km/s\n",
      "theta_E: 1.612 arcsec\n"
     ]
    },
    {
     "name": "stdout",
     "output_type": "stream",
     "text": [
      "jam_axi_proj(align='sph', moment='zz') -- elapsed time sec: 0.80\n",
      "analytic_los=0 logistic=0 constant_anisotropy=1\n",
      "No PSF/pixel convolution because sigmapsf=0 pixsize=0\n",
      "inc=48.5; beta[0]=0.0; kappa=1.00; M/L=1.00; BH=0.0; chi2/DOF=nan\n",
      "Total mass MGE (MSun): 1.509e+14\n",
      "\n",
      "sigma_e: 268.77 km/s\n",
      "theta_E: 1.873 arcsec\n"
     ]
    },
    {
     "name": "stdout",
     "output_type": "stream",
     "text": [
      "jam_axi_proj(align='sph', moment='zz') -- elapsed time sec: 0.81\n",
      "analytic_los=0 logistic=0 constant_anisotropy=1\n",
      "No PSF/pixel convolution because sigmapsf=0 pixsize=0\n",
      "inc=78.0; beta[0]=0.0; kappa=1.00; M/L=1.00; BH=0.0; chi2/DOF=nan\n",
      "Total mass MGE (MSun): 1.509e+14\n",
      "\n",
      "sigma_e: 283.74 km/s\n",
      "theta_E: 1.896 arcsec\n"
     ]
    },
    {
     "name": "stdout",
     "output_type": "stream",
     "text": [
      "jam_axi_proj(align='sph', moment='zz') -- elapsed time sec: 0.79\n",
      "analytic_los=0 logistic=0 constant_anisotropy=1\n",
      "No PSF/pixel convolution because sigmapsf=0 pixsize=0\n",
      "inc=81.9; beta[0]=0.0; kappa=1.00; M/L=1.00; BH=0.0; chi2/DOF=nan\n",
      "Total mass MGE (MSun): 1.509e+14\n",
      "\n",
      "sigma_e: 284.47 km/s\n",
      "theta_E: 1.587 arcsec\n"
     ]
    },
    {
     "name": "stdout",
     "output_type": "stream",
     "text": [
      "jam_axi_proj(align='sph', moment='zz') -- elapsed time sec: 0.81\n",
      "analytic_los=0 logistic=0 constant_anisotropy=1\n",
      "No PSF/pixel convolution because sigmapsf=0 pixsize=0\n",
      "inc=45.3; beta[0]=0.0; kappa=1.00; M/L=1.00; BH=0.0; chi2/DOF=nan\n",
      "Total mass MGE (MSun): 1.509e+14\n",
      "\n",
      "sigma_e: 266.32 km/s\n",
      "theta_E: 1.900 arcsec\n"
     ]
    },
    {
     "name": "stdout",
     "output_type": "stream",
     "text": [
      "jam_axi_proj(align='sph', moment='zz') -- elapsed time sec: 0.80\n",
      "analytic_los=0 logistic=0 constant_anisotropy=1\n",
      "No PSF/pixel convolution because sigmapsf=0 pixsize=0\n",
      "inc=82.7; beta[0]=0.0; kappa=1.00; M/L=1.00; BH=0.0; chi2/DOF=nan\n",
      "Total mass MGE (MSun): 1.509e+14\n",
      "\n",
      "sigma_e: 284.57 km/s\n"
     ]
    },
    {
     "name": "stdout",
     "output_type": "stream",
     "text": [
      "theta_E: 0.408 arcsec\n"
     ]
    },
    {
     "name": "stdout",
     "output_type": "stream",
     "text": [
      "jam_axi_proj(align='sph', moment='zz') -- elapsed time sec: 0.78\n",
      "analytic_los=0 logistic=0 constant_anisotropy=1\n",
      "No PSF/pixel convolution because sigmapsf=0 pixsize=0\n",
      "inc=34.5; beta[0]=0.0; kappa=1.00; M/L=1.00; BH=0.0; chi2/DOF=nan\n",
      "Total mass MGE (MSun): 1.474e+13\n",
      "\n",
      "sigma_e: 129.28 km/s\n",
      "theta_E: 0.568 arcsec\n"
     ]
    },
    {
     "name": "stdout",
     "output_type": "stream",
     "text": [
      "jam_axi_proj(align='sph', moment='zz') -- elapsed time sec: 0.80\n",
      "analytic_los=0 logistic=0 constant_anisotropy=1\n",
      "No PSF/pixel convolution because sigmapsf=0 pixsize=0\n",
      "inc=72.9; beta[0]=0.0; kappa=1.00; M/L=1.00; BH=0.0; chi2/DOF=nan\n",
      "Total mass MGE (MSun): 1.474e+13\n",
      "\n",
      "sigma_e: 152.22 km/s\n",
      "theta_E: 0.610 arcsec\n"
     ]
    },
    {
     "name": "stdout",
     "output_type": "stream",
     "text": [
      "jam_axi_proj(align='sph', moment='zz') -- elapsed time sec: 0.81\n",
      "analytic_los=0 logistic=0 constant_anisotropy=1\n",
      "No PSF/pixel convolution because sigmapsf=0 pixsize=0\n",
      "inc=79.6; beta[0]=0.0; kappa=1.00; M/L=1.00; BH=0.0; chi2/DOF=nan\n",
      "Total mass MGE (MSun): 1.474e+13\n",
      "\n",
      "sigma_e: 153.27 km/s\n",
      "theta_E: 0.459 arcsec\n"
     ]
    },
    {
     "name": "stdout",
     "output_type": "stream",
     "text": [
      "jam_axi_proj(align='sph', moment='zz') -- elapsed time sec: 0.79\n",
      "analytic_los=0 logistic=0 constant_anisotropy=1\n",
      "No PSF/pixel convolution because sigmapsf=0 pixsize=0\n",
      "inc=52.2; beta[0]=0.0; kappa=1.00; M/L=1.00; BH=0.0; chi2/DOF=nan\n",
      "Total mass MGE (MSun): 1.474e+13\n",
      "\n",
      "sigma_e: 142.75 km/s\n",
      "theta_E: 0.619 arcsec\n"
     ]
    },
    {
     "name": "stdout",
     "output_type": "stream",
     "text": [
      "jam_axi_proj(align='sph', moment='zz') -- elapsed time sec: 0.82\n",
      "analytic_los=0 logistic=0 constant_anisotropy=1\n",
      "No PSF/pixel convolution because sigmapsf=0 pixsize=0\n",
      "inc=81.1; beta[0]=0.0; kappa=1.00; M/L=1.00; BH=0.0; chi2/DOF=nan\n",
      "Total mass MGE (MSun): 1.474e+13\n",
      "\n",
      "sigma_e: 153.45 km/s\n",
      "theta_E: 0.397 arcsec\n"
     ]
    },
    {
     "name": "stdout",
     "output_type": "stream",
     "text": [
      "jam_axi_proj(align='sph', moment='zz') -- elapsed time sec: 0.80\n",
      "analytic_los=0 logistic=0 constant_anisotropy=1\n",
      "No PSF/pixel convolution because sigmapsf=0 pixsize=0\n",
      "inc=28.4; beta[0]=0.0; kappa=1.00; M/L=1.00; BH=0.0; chi2/DOF=nan\n",
      "Total mass MGE (MSun): 1.474e+13\n",
      "\n",
      "sigma_e: 124.47 km/s\n",
      "theta_E: 0.484 arcsec\n"
     ]
    },
    {
     "name": "stdout",
     "output_type": "stream",
     "text": [
      "jam_axi_proj(align='sph', moment='zz') -- elapsed time sec: 0.80\n",
      "analytic_los=0 logistic=0 constant_anisotropy=1\n",
      "No PSF/pixel convolution because sigmapsf=0 pixsize=0\n",
      "inc=58.0; beta[0]=0.0; kappa=1.00; M/L=1.00; BH=0.0; chi2/DOF=nan\n",
      "Total mass MGE (MSun): 1.474e+13\n",
      "\n",
      "sigma_e: 146.35 km/s\n",
      "theta_E: 0.620 arcsec\n"
     ]
    },
    {
     "name": "stdout",
     "output_type": "stream",
     "text": [
      "jam_axi_proj(align='sph', moment='zz') -- elapsed time sec: 0.81\n",
      "analytic_los=0 logistic=0 constant_anisotropy=1\n",
      "No PSF/pixel convolution because sigmapsf=0 pixsize=0\n",
      "inc=81.3; beta[0]=0.0; kappa=1.00; M/L=1.00; BH=0.0; chi2/DOF=nan\n",
      "Total mass MGE (MSun): 1.474e+13\n",
      "\n",
      "sigma_e: 153.45 km/s\n",
      "theta_E: 0.434 arcsec\n"
     ]
    },
    {
     "name": "stdout",
     "output_type": "stream",
     "text": [
      "jam_axi_proj(align='sph', moment='zz') -- elapsed time sec: 0.79\n",
      "analytic_los=0 logistic=0 constant_anisotropy=1\n",
      "No PSF/pixel convolution because sigmapsf=0 pixsize=0\n",
      "inc=44.7; beta[0]=0.0; kappa=1.00; M/L=1.00; BH=0.0; chi2/DOF=nan\n",
      "Total mass MGE (MSun): 1.474e+13\n",
      "\n",
      "sigma_e: 137.42 km/s\n",
      "theta_E: 0.640 arcsec\n"
     ]
    },
    {
     "name": "stdout",
     "output_type": "stream",
     "text": [
      "jam_axi_proj(align='sph', moment='zz') -- elapsed time sec: 0.81\n",
      "analytic_los=0 logistic=0 constant_anisotropy=1\n",
      "No PSF/pixel convolution because sigmapsf=0 pixsize=0\n",
      "inc=86.3; beta[0]=0.0; kappa=1.00; M/L=1.00; BH=0.0; chi2/DOF=nan\n",
      "Total mass MGE (MSun): 1.474e+13\n",
      "\n",
      "sigma_e: 153.74 km/s\n"
     ]
    },
    {
     "name": "stdout",
     "output_type": "stream",
     "text": [
      "theta_E: 0.732 arcsec\n"
     ]
    },
    {
     "name": "stdout",
     "output_type": "stream",
     "text": [
      "jam_axi_proj(align='sph', moment='zz') -- elapsed time sec: 0.80\n",
      "analytic_los=0 logistic=0 constant_anisotropy=1\n",
      "No PSF/pixel convolution because sigmapsf=0 pixsize=0\n",
      "inc=58.2; beta[0]=0.0; kappa=1.00; M/L=1.00; BH=0.0; chi2/DOF=nan\n",
      "Total mass MGE (MSun): 2.893e+13\n",
      "\n",
      "sigma_e: 183.45 km/s\n",
      "theta_E: 0.706 arcsec\n"
     ]
    },
    {
     "name": "stdout",
     "output_type": "stream",
     "text": [
      "jam_axi_proj(align='sph', moment='zz') -- elapsed time sec: 0.83\n",
      "analytic_los=0 logistic=0 constant_anisotropy=1\n",
      "No PSF/pixel convolution because sigmapsf=0 pixsize=0\n",
      "inc=52.2; beta[0]=0.0; kappa=1.00; M/L=1.00; BH=0.0; chi2/DOF=nan\n",
      "Total mass MGE (MSun): 2.893e+13\n",
      "\n",
      "sigma_e: 181.10 km/s\n",
      "theta_E: 0.824 arcsec\n"
     ]
    },
    {
     "name": "stdout",
     "output_type": "stream",
     "text": [
      "jam_axi_proj(align='sph', moment='zz') -- elapsed time sec: 0.83\n",
      "analytic_los=0 logistic=0 constant_anisotropy=1\n",
      "No PSF/pixel convolution because sigmapsf=0 pixsize=0\n",
      "inc=78.2; beta[0]=0.0; kappa=1.00; M/L=1.00; BH=0.0; chi2/DOF=nan\n",
      "Total mass MGE (MSun): 2.893e+13\n",
      "\n",
      "sigma_e: 188.11 km/s\n",
      "theta_E: 0.679 arcsec\n"
     ]
    },
    {
     "name": "stdout",
     "output_type": "stream",
     "text": [
      "jam_axi_proj(align='sph', moment='zz') -- elapsed time sec: 0.84\n",
      "analytic_los=0 logistic=0 constant_anisotropy=1\n",
      "No PSF/pixel convolution because sigmapsf=0 pixsize=0\n",
      "inc=45.1; beta[0]=0.0; kappa=1.00; M/L=1.00; BH=0.0; chi2/DOF=nan\n",
      "Total mass MGE (MSun): 2.893e+13\n",
      "\n",
      "sigma_e: 177.92 km/s\n",
      "theta_E: 0.687 arcsec\n"
     ]
    },
    {
     "name": "stdout",
     "output_type": "stream",
     "text": [
      "jam_axi_proj(align='sph', moment='zz') -- elapsed time sec: 0.82\n",
      "analytic_los=0 logistic=0 constant_anisotropy=1\n",
      "No PSF/pixel convolution because sigmapsf=0 pixsize=0\n",
      "inc=47.4; beta[0]=0.0; kappa=1.00; M/L=1.00; BH=0.0; chi2/DOF=nan\n",
      "Total mass MGE (MSun): 2.893e+13\n",
      "\n",
      "sigma_e: 178.96 km/s\n",
      "theta_E: 0.744 arcsec\n"
     ]
    },
    {
     "name": "stdout",
     "output_type": "stream",
     "text": [
      "jam_axi_proj(align='sph', moment='zz') -- elapsed time sec: 0.82\n",
      "analytic_los=0 logistic=0 constant_anisotropy=1\n",
      "No PSF/pixel convolution because sigmapsf=0 pixsize=0\n",
      "inc=60.7; beta[0]=0.0; kappa=1.00; M/L=1.00; BH=0.0; chi2/DOF=nan\n",
      "Total mass MGE (MSun): 2.893e+13\n",
      "\n",
      "sigma_e: 184.31 km/s\n",
      "theta_E: 0.788 arcsec\n"
     ]
    },
    {
     "name": "stdout",
     "output_type": "stream",
     "text": [
      "jam_axi_proj(align='sph', moment='zz') -- elapsed time sec: 0.83\n",
      "analytic_los=0 logistic=0 constant_anisotropy=1\n",
      "No PSF/pixel convolution because sigmapsf=0 pixsize=0\n",
      "inc=70.0; beta[0]=0.0; kappa=1.00; M/L=1.00; BH=0.0; chi2/DOF=nan\n",
      "Total mass MGE (MSun): 2.893e+13\n",
      "\n",
      "sigma_e: 186.79 km/s\n",
      "theta_E: 0.620 arcsec\n"
     ]
    },
    {
     "name": "stdout",
     "output_type": "stream",
     "text": [
      "jam_axi_proj(align='sph', moment='zz') -- elapsed time sec: 0.83\n",
      "analytic_los=0 logistic=0 constant_anisotropy=1\n",
      "No PSF/pixel convolution because sigmapsf=0 pixsize=0\n",
      "inc=21.6; beta[0]=0.0; kappa=1.00; M/L=1.00; BH=0.0; chi2/DOF=nan\n",
      "Total mass MGE (MSun): 2.893e+13\n",
      "\n",
      "sigma_e: 166.69 km/s\n",
      "theta_E: 0.735 arcsec\n"
     ]
    },
    {
     "name": "stdout",
     "output_type": "stream",
     "text": [
      "jam_axi_proj(align='sph', moment='zz') -- elapsed time sec: 0.82\n",
      "analytic_los=0 logistic=0 constant_anisotropy=1\n",
      "No PSF/pixel convolution because sigmapsf=0 pixsize=0\n",
      "inc=58.9; beta[0]=0.0; kappa=1.00; M/L=1.00; BH=0.0; chi2/DOF=nan\n",
      "Total mass MGE (MSun): 2.893e+13\n",
      "\n",
      "sigma_e: 183.72 km/s\n",
      "theta_E: 0.712 arcsec\n"
     ]
    },
    {
     "name": "stdout",
     "output_type": "stream",
     "text": [
      "jam_axi_proj(align='sph', moment='zz') -- elapsed time sec: 0.84\n",
      "analytic_los=0 logistic=0 constant_anisotropy=1\n",
      "No PSF/pixel convolution because sigmapsf=0 pixsize=0\n",
      "inc=53.7; beta[0]=0.0; kappa=1.00; M/L=1.00; BH=0.0; chi2/DOF=nan\n",
      "Total mass MGE (MSun): 2.893e+13\n",
      "\n",
      "sigma_e: 181.73 km/s\n"
     ]
    },
    {
     "name": "stdout",
     "output_type": "stream",
     "text": [
      "theta_E: 0.391 arcsec\n"
     ]
    },
    {
     "name": "stdout",
     "output_type": "stream",
     "text": [
      "jam_axi_proj(align='sph', moment='zz') -- elapsed time sec: 0.78\n",
      "analytic_los=0 logistic=0 constant_anisotropy=1\n",
      "No PSF/pixel convolution because sigmapsf=0 pixsize=0\n",
      "inc=66.3; beta[0]=0.0; kappa=1.00; M/L=1.00; BH=0.0; chi2/DOF=nan\n",
      "Total mass MGE (MSun): 7.739e+12\n",
      "\n",
      "sigma_e: 130.59 km/s\n",
      "theta_E: 0.424 arcsec\n"
     ]
    },
    {
     "name": "stdout",
     "output_type": "stream",
     "text": [
      "jam_axi_proj(align='sph', moment='zz') -- elapsed time sec: 0.79\n",
      "analytic_los=0 logistic=0 constant_anisotropy=1\n",
      "No PSF/pixel convolution because sigmapsf=0 pixsize=0\n",
      "inc=76.4; beta[0]=0.0; kappa=1.00; M/L=1.00; BH=0.0; chi2/DOF=nan\n",
      "Total mass MGE (MSun): 7.739e+12\n",
      "\n",
      "sigma_e: 132.66 km/s\n",
      "theta_E: 0.419 arcsec\n"
     ]
    },
    {
     "name": "stdout",
     "output_type": "stream",
     "text": [
      "jam_axi_proj(align='sph', moment='zz') -- elapsed time sec: 0.79\n",
      "analytic_los=0 logistic=0 constant_anisotropy=1\n",
      "No PSF/pixel convolution because sigmapsf=0 pixsize=0\n",
      "inc=74.8; beta[0]=0.0; kappa=1.00; M/L=1.00; BH=0.0; chi2/DOF=nan\n",
      "Total mass MGE (MSun): 7.739e+12\n",
      "\n",
      "sigma_e: 132.42 km/s\n",
      "theta_E: 0.443 arcsec\n"
     ]
    },
    {
     "name": "stdout",
     "output_type": "stream",
     "text": [
      "jam_axi_proj(align='sph', moment='zz') -- elapsed time sec: 0.81\n",
      "analytic_los=0 logistic=0 constant_anisotropy=1\n",
      "No PSF/pixel convolution because sigmapsf=0 pixsize=0\n",
      "inc=84.1; beta[0]=0.0; kappa=1.00; M/L=1.00; BH=0.0; chi2/DOF=nan\n",
      "Total mass MGE (MSun): 7.739e+12\n",
      "\n",
      "sigma_e: 133.40 km/s\n",
      "theta_E: 0.382 arcsec\n"
     ]
    },
    {
     "name": "stdout",
     "output_type": "stream",
     "text": [
      "jam_axi_proj(align='sph', moment='zz') -- elapsed time sec: 0.79\n",
      "analytic_los=0 logistic=0 constant_anisotropy=1\n",
      "No PSF/pixel convolution because sigmapsf=0 pixsize=0\n",
      "inc=63.3; beta[0]=0.0; kappa=1.00; M/L=1.00; BH=0.0; chi2/DOF=nan\n",
      "Total mass MGE (MSun): 7.739e+12\n",
      "\n",
      "sigma_e: 129.70 km/s\n",
      "theta_E: 0.445 arcsec\n"
     ]
    },
    {
     "name": "stdout",
     "output_type": "stream",
     "text": [
      "jam_axi_proj(align='sph', moment='zz') -- elapsed time sec: 0.80\n",
      "analytic_los=0 logistic=0 constant_anisotropy=1\n",
      "No PSF/pixel convolution because sigmapsf=0 pixsize=0\n",
      "inc=86.2; beta[0]=0.0; kappa=1.00; M/L=1.00; BH=0.0; chi2/DOF=nan\n",
      "Total mass MGE (MSun): 7.739e+12\n",
      "\n",
      "sigma_e: 133.49 km/s\n",
      "theta_E: 0.386 arcsec\n"
     ]
    },
    {
     "name": "stdout",
     "output_type": "stream",
     "text": [
      "jam_axi_proj(align='sph', moment='zz') -- elapsed time sec: 0.79\n",
      "analytic_los=0 logistic=0 constant_anisotropy=1\n",
      "No PSF/pixel convolution because sigmapsf=0 pixsize=0\n",
      "inc=64.7; beta[0]=0.0; kappa=1.00; M/L=1.00; BH=0.0; chi2/DOF=nan\n",
      "Total mass MGE (MSun): 7.739e+12\n",
      "\n",
      "sigma_e: 130.13 km/s\n",
      "theta_E: 0.311 arcsec\n"
     ]
    },
    {
     "name": "stdout",
     "output_type": "stream",
     "text": [
      "jam_axi_proj(align='sph', moment='zz') -- elapsed time sec: 0.81\n",
      "analytic_los=0 logistic=0 constant_anisotropy=1\n",
      "No PSF/pixel convolution because sigmapsf=0 pixsize=0\n",
      "inc=30.6; beta[0]=0.0; kappa=1.00; M/L=1.00; BH=0.0; chi2/DOF=nan\n",
      "Total mass MGE (MSun): 7.739e+12\n",
      "\n",
      "sigma_e: 114.25 km/s\n",
      "theta_E: 0.421 arcsec\n"
     ]
    },
    {
     "name": "stdout",
     "output_type": "stream",
     "text": [
      "jam_axi_proj(align='sph', moment='zz') -- elapsed time sec: 0.80\n",
      "analytic_los=0 logistic=0 constant_anisotropy=1\n",
      "No PSF/pixel convolution because sigmapsf=0 pixsize=0\n",
      "inc=75.4; beta[0]=0.0; kappa=1.00; M/L=1.00; BH=0.0; chi2/DOF=nan\n",
      "Total mass MGE (MSun): 7.739e+12\n",
      "\n",
      "sigma_e: 132.52 km/s\n",
      "theta_E: 0.294 arcsec\n"
     ]
    },
    {
     "name": "stdout",
     "output_type": "stream",
     "text": [
      "jam_axi_proj(align='sph', moment='zz') -- elapsed time sec: 0.81\n",
      "analytic_los=0 logistic=0 constant_anisotropy=1\n",
      "No PSF/pixel convolution because sigmapsf=0 pixsize=0\n",
      "inc=6.82; beta[0]=0.0; kappa=1.00; M/L=1.00; BH=0.0; chi2/DOF=nan\n",
      "Total mass MGE (MSun): 7.739e+12\n",
      "\n",
      "sigma_e: 105.35 km/s\n"
     ]
    },
    {
     "name": "stdout",
     "output_type": "stream",
     "text": [
      "theta_E: 0.587 arcsec\n"
     ]
    },
    {
     "name": "stdout",
     "output_type": "stream",
     "text": [
      "jam_axi_proj(align='sph', moment='zz') -- elapsed time sec: 0.79\n",
      "analytic_los=0 logistic=0 constant_anisotropy=1\n",
      "No PSF/pixel convolution because sigmapsf=0 pixsize=0\n",
      "inc=46.1; beta[0]=0.0; kappa=1.00; M/L=1.00; BH=0.0; chi2/DOF=nan\n",
      "Total mass MGE (MSun): 2.252e+13\n",
      "\n",
      "sigma_e: 160.76 km/s\n",
      "theta_E: 0.711 arcsec\n"
     ]
    },
    {
     "name": "stdout",
     "output_type": "stream",
     "text": [
      "jam_axi_proj(align='sph', moment='zz') -- elapsed time sec: 0.80\n",
      "analytic_los=0 logistic=0 constant_anisotropy=1\n",
      "No PSF/pixel convolution because sigmapsf=0 pixsize=0\n",
      "inc=73.4; beta[0]=0.0; kappa=1.00; M/L=1.00; BH=0.0; chi2/DOF=nan\n",
      "Total mass MGE (MSun): 2.252e+13\n",
      "\n",
      "sigma_e: 172.67 km/s\n",
      "theta_E: 0.698 arcsec\n"
     ]
    },
    {
     "name": "stdout",
     "output_type": "stream",
     "text": [
      "jam_axi_proj(align='sph', moment='zz') -- elapsed time sec: 0.80\n",
      "analytic_los=0 logistic=0 constant_anisotropy=1\n",
      "No PSF/pixel convolution because sigmapsf=0 pixsize=0\n",
      "inc=70.9; beta[0]=0.0; kappa=1.00; M/L=1.00; BH=0.0; chi2/DOF=nan\n",
      "Total mass MGE (MSun): 2.252e+13\n",
      "\n",
      "sigma_e: 172.00 km/s\n",
      "theta_E: 0.572 arcsec\n"
     ]
    },
    {
     "name": "stdout",
     "output_type": "stream",
     "text": [
      "jam_axi_proj(align='sph', moment='zz') -- elapsed time sec: 0.83\n",
      "analytic_los=0 logistic=0 constant_anisotropy=1\n",
      "No PSF/pixel convolution because sigmapsf=0 pixsize=0\n",
      "inc=41.3; beta[0]=0.0; kappa=1.00; M/L=1.00; BH=0.0; chi2/DOF=nan\n",
      "Total mass MGE (MSun): 2.252e+13\n",
      "\n",
      "sigma_e: 157.75 km/s\n",
      "theta_E: 0.566 arcsec\n"
     ]
    },
    {
     "name": "stdout",
     "output_type": "stream",
     "text": [
      "jam_axi_proj(align='sph', moment='zz') -- elapsed time sec: 0.82\n",
      "analytic_los=0 logistic=0 constant_anisotropy=1\n",
      "No PSF/pixel convolution because sigmapsf=0 pixsize=0\n",
      "inc=39.4; beta[0]=0.0; kappa=1.00; M/L=1.00; BH=0.0; chi2/DOF=nan\n",
      "Total mass MGE (MSun): 2.252e+13\n",
      "\n",
      "sigma_e: 156.49 km/s\n",
      "theta_E: 0.580 arcsec\n"
     ]
    },
    {
     "name": "stdout",
     "output_type": "stream",
     "text": [
      "jam_axi_proj(align='sph', moment='zz') -- elapsed time sec: 0.82\n",
      "analytic_los=0 logistic=0 constant_anisotropy=1\n",
      "No PSF/pixel convolution because sigmapsf=0 pixsize=0\n",
      "inc=43.9; beta[0]=0.0; kappa=1.00; M/L=1.00; BH=0.0; chi2/DOF=nan\n",
      "Total mass MGE (MSun): 2.252e+13\n",
      "\n",
      "sigma_e: 159.35 km/s\n",
      "theta_E: 0.670 arcsec\n"
     ]
    },
    {
     "name": "stdout",
     "output_type": "stream",
     "text": [
      "jam_axi_proj(align='sph', moment='zz') -- elapsed time sec: 0.81\n",
      "analytic_los=0 logistic=0 constant_anisotropy=1\n",
      "No PSF/pixel convolution because sigmapsf=0 pixsize=0\n",
      "inc=65.4; beta[0]=0.0; kappa=1.00; M/L=1.00; BH=0.0; chi2/DOF=nan\n",
      "Total mass MGE (MSun): 2.252e+13\n",
      "\n",
      "sigma_e: 170.38 km/s\n",
      "theta_E: 0.755 arcsec\n"
     ]
    },
    {
     "name": "stdout",
     "output_type": "stream",
     "text": [
      "jam_axi_proj(align='sph', moment='zz') -- elapsed time sec: 0.81\n",
      "analytic_los=0 logistic=0 constant_anisotropy=1\n",
      "No PSF/pixel convolution because sigmapsf=0 pixsize=0\n",
      "inc=85.6; beta[0]=0.0; kappa=1.00; M/L=1.00; BH=0.0; chi2/DOF=nan\n",
      "Total mass MGE (MSun): 2.252e+13\n",
      "\n",
      "sigma_e: 174.27 km/s\n",
      "theta_E: 0.653 arcsec\n"
     ]
    },
    {
     "name": "stdout",
     "output_type": "stream",
     "text": [
      "jam_axi_proj(align='sph', moment='zz') -- elapsed time sec: 0.81\n",
      "analytic_los=0 logistic=0 constant_anisotropy=1\n",
      "No PSF/pixel convolution because sigmapsf=0 pixsize=0\n",
      "inc=61.9; beta[0]=0.0; kappa=1.00; M/L=1.00; BH=0.0; chi2/DOF=nan\n",
      "Total mass MGE (MSun): 2.252e+13\n",
      "\n",
      "sigma_e: 169.01 km/s\n",
      "theta_E: 0.713 arcsec\n"
     ]
    },
    {
     "name": "stdout",
     "output_type": "stream",
     "text": [
      "jam_axi_proj(align='sph', moment='zz') -- elapsed time sec: 0.80\n",
      "analytic_los=0 logistic=0 constant_anisotropy=1\n",
      "No PSF/pixel convolution because sigmapsf=0 pixsize=0\n",
      "inc=73.8; beta[0]=0.0; kappa=1.00; M/L=1.00; BH=0.0; chi2/DOF=nan\n",
      "Total mass MGE (MSun): 2.252e+13\n",
      "\n",
      "sigma_e: 172.76 km/s\n"
     ]
    },
    {
     "name": "stdout",
     "output_type": "stream",
     "text": [
      "theta_E: 0.625 arcsec\n"
     ]
    },
    {
     "name": "stdout",
     "output_type": "stream",
     "text": [
      "jam_axi_proj(align='sph', moment='zz') -- elapsed time sec: 0.78\n",
      "analytic_los=0 logistic=0 constant_anisotropy=1\n",
      "No PSF/pixel convolution because sigmapsf=0 pixsize=0\n",
      "inc=19.1; beta[0]=0.0; kappa=1.00; M/L=1.00; BH=0.0; chi2/DOF=nan\n",
      "Total mass MGE (MSun): 2.711e+13\n",
      "\n",
      "sigma_e: 164.35 km/s\n",
      "theta_E: 0.657 arcsec\n"
     ]
    },
    {
     "name": "stdout",
     "output_type": "stream",
     "text": [
      "jam_axi_proj(align='sph', moment='zz') -- elapsed time sec: 0.81\n",
      "analytic_los=0 logistic=0 constant_anisotropy=1\n",
      "No PSF/pixel convolution because sigmapsf=0 pixsize=0\n",
      "inc=36.9; beta[0]=0.0; kappa=1.00; M/L=1.00; BH=0.0; chi2/DOF=nan\n",
      "Total mass MGE (MSun): 2.711e+13\n",
      "\n",
      "sigma_e: 171.53 km/s\n",
      "theta_E: 0.725 arcsec\n"
     ]
    },
    {
     "name": "stdout",
     "output_type": "stream",
     "text": [
      "jam_axi_proj(align='sph', moment='zz') -- elapsed time sec: 0.80\n",
      "analytic_los=0 logistic=0 constant_anisotropy=1\n",
      "No PSF/pixel convolution because sigmapsf=0 pixsize=0\n",
      "inc=59.5; beta[0]=0.0; kappa=1.00; M/L=1.00; BH=0.0; chi2/DOF=nan\n",
      "Total mass MGE (MSun): 2.711e+13\n",
      "\n",
      "sigma_e: 181.15 km/s\n",
      "theta_E: 0.636 arcsec\n"
     ]
    },
    {
     "name": "stdout",
     "output_type": "stream",
     "text": [
      "jam_axi_proj(align='sph', moment='zz') -- elapsed time sec: 0.82\n",
      "analytic_los=0 logistic=0 constant_anisotropy=1\n",
      "No PSF/pixel convolution because sigmapsf=0 pixsize=0\n",
      "inc=26.1; beta[0]=0.0; kappa=1.00; M/L=1.00; BH=0.0; chi2/DOF=nan\n",
      "Total mass MGE (MSun): 2.711e+13\n",
      "\n",
      "sigma_e: 166.89 km/s\n",
      "theta_E: 0.695 arcsec\n"
     ]
    },
    {
     "name": "stdout",
     "output_type": "stream",
     "text": [
      "jam_axi_proj(align='sph', moment='zz') -- elapsed time sec: 0.80\n",
      "analytic_los=0 logistic=0 constant_anisotropy=1\n",
      "No PSF/pixel convolution because sigmapsf=0 pixsize=0\n",
      "inc=50.5; beta[0]=0.0; kappa=1.00; M/L=1.00; BH=0.0; chi2/DOF=nan\n",
      "Total mass MGE (MSun): 2.711e+13\n",
      "\n",
      "sigma_e: 177.65 km/s\n",
      "theta_E: 0.671 arcsec\n"
     ]
    },
    {
     "name": "stdout",
     "output_type": "stream",
     "text": [
      "jam_axi_proj(align='sph', moment='zz') -- elapsed time sec: 0.82\n",
      "analytic_los=0 logistic=0 constant_anisotropy=1\n",
      "No PSF/pixel convolution because sigmapsf=0 pixsize=0\n",
      "inc=42.3; beta[0]=0.0; kappa=1.00; M/L=1.00; BH=0.0; chi2/DOF=nan\n",
      "Total mass MGE (MSun): 2.711e+13\n",
      "\n",
      "sigma_e: 173.98 km/s\n",
      "theta_E: 0.680 arcsec\n"
     ]
    },
    {
     "name": "stdout",
     "output_type": "stream",
     "text": [
      "jam_axi_proj(align='sph', moment='zz') -- elapsed time sec: 0.80\n",
      "analytic_los=0 logistic=0 constant_anisotropy=1\n",
      "No PSF/pixel convolution because sigmapsf=0 pixsize=0\n",
      "inc=45.6; beta[0]=0.0; kappa=1.00; M/L=1.00; BH=0.0; chi2/DOF=nan\n",
      "Total mass MGE (MSun): 2.711e+13\n",
      "\n",
      "sigma_e: 175.49 km/s\n",
      "theta_E: 0.793 arcsec\n"
     ]
    },
    {
     "name": "stdout",
     "output_type": "stream",
     "text": [
      "jam_axi_proj(align='sph', moment='zz') -- elapsed time sec: 0.81\n",
      "analytic_los=0 logistic=0 constant_anisotropy=1\n",
      "No PSF/pixel convolution because sigmapsf=0 pixsize=0\n",
      "inc=82.0; beta[0]=0.0; kappa=1.00; M/L=1.00; BH=0.0; chi2/DOF=nan\n",
      "Total mass MGE (MSun): 2.711e+13\n",
      "\n",
      "sigma_e: 186.12 km/s\n",
      "theta_E: 0.706 arcsec\n"
     ]
    },
    {
     "name": "stdout",
     "output_type": "stream",
     "text": [
      "jam_axi_proj(align='sph', moment='zz') -- elapsed time sec: 0.80\n",
      "analytic_los=0 logistic=0 constant_anisotropy=1\n",
      "No PSF/pixel convolution because sigmapsf=0 pixsize=0\n",
      "inc=53.8; beta[0]=0.0; kappa=1.00; M/L=1.00; BH=0.0; chi2/DOF=nan\n",
      "Total mass MGE (MSun): 2.711e+13\n",
      "\n",
      "sigma_e: 179.00 km/s\n",
      "theta_E: 0.798 arcsec\n"
     ]
    },
    {
     "name": "stdout",
     "output_type": "stream",
     "text": [
      "jam_axi_proj(align='sph', moment='zz') -- elapsed time sec: 0.81\n",
      "analytic_los=0 logistic=0 constant_anisotropy=1\n",
      "No PSF/pixel convolution because sigmapsf=0 pixsize=0\n",
      "inc=86.5; beta[0]=0.0; kappa=1.00; M/L=1.00; BH=0.0; chi2/DOF=nan\n",
      "Total mass MGE (MSun): 2.711e+13\n",
      "\n",
      "sigma_e: 186.43 km/s\n"
     ]
    },
    {
     "name": "stdout",
     "output_type": "stream",
     "text": [
      "theta_E: 0.459 arcsec\n"
     ]
    },
    {
     "name": "stdout",
     "output_type": "stream",
     "text": [
      "jam_axi_proj(align='sph', moment='zz') -- elapsed time sec: 0.78\n",
      "analytic_los=0 logistic=0 constant_anisotropy=1\n",
      "No PSF/pixel convolution because sigmapsf=0 pixsize=0\n",
      "inc=84.9; beta[0]=0.0; kappa=1.00; M/L=1.00; BH=0.0; chi2/DOF=nan\n",
      "Total mass MGE (MSun): 7.831e+12\n",
      "\n",
      "sigma_e: 131.50 km/s\n",
      "theta_E: 0.390 arcsec\n"
     ]
    },
    {
     "name": "stdout",
     "output_type": "stream",
     "text": [
      "jam_axi_proj(align='sph', moment='zz') -- elapsed time sec: 0.79\n",
      "analytic_los=0 logistic=0 constant_anisotropy=1\n",
      "No PSF/pixel convolution because sigmapsf=0 pixsize=0\n",
      "inc=67.4; beta[0]=0.0; kappa=1.00; M/L=1.00; BH=0.0; chi2/DOF=nan\n",
      "Total mass MGE (MSun): 7.831e+12\n",
      "\n",
      "sigma_e: 128.91 km/s\n",
      "theta_E: 0.296 arcsec\n"
     ]
    },
    {
     "name": "stdout",
     "output_type": "stream",
     "text": [
      "jam_axi_proj(align='sph', moment='zz') -- elapsed time sec: 0.77\n",
      "analytic_los=0 logistic=0 constant_anisotropy=1\n",
      "No PSF/pixel convolution because sigmapsf=0 pixsize=0\n",
      "inc=31.3; beta[0]=0.0; kappa=1.00; M/L=1.00; BH=0.0; chi2/DOF=nan\n",
      "Total mass MGE (MSun): 7.831e+12\n",
      "\n",
      "sigma_e: 109.40 km/s\n",
      "theta_E: 0.331 arcsec\n"
     ]
    },
    {
     "name": "stdout",
     "output_type": "stream",
     "text": [
      "jam_axi_proj(align='sph', moment='zz') -- elapsed time sec: 0.78\n",
      "analytic_los=0 logistic=0 constant_anisotropy=1\n",
      "No PSF/pixel convolution because sigmapsf=0 pixsize=0\n",
      "inc=49.9; beta[0]=0.0; kappa=1.00; M/L=1.00; BH=0.0; chi2/DOF=nan\n",
      "Total mass MGE (MSun): 7.831e+12\n",
      "\n",
      "sigma_e: 121.24 km/s\n",
      "theta_E: 0.301 arcsec\n"
     ]
    },
    {
     "name": "stdout",
     "output_type": "stream",
     "text": [
      "jam_axi_proj(align='sph', moment='zz') -- elapsed time sec: 0.78\n",
      "analytic_los=0 logistic=0 constant_anisotropy=1\n",
      "No PSF/pixel convolution because sigmapsf=0 pixsize=0\n",
      "inc=34.9; beta[0]=0.0; kappa=1.00; M/L=1.00; BH=0.0; chi2/DOF=nan\n",
      "Total mass MGE (MSun): 7.831e+12\n",
      "\n",
      "sigma_e: 111.75 km/s\n",
      "theta_E: 0.314 arcsec\n"
     ]
    },
    {
     "name": "stdout",
     "output_type": "stream",
     "text": [
      "jam_axi_proj(align='sph', moment='zz') -- elapsed time sec: 0.78\n",
      "analytic_los=0 logistic=0 constant_anisotropy=1\n",
      "No PSF/pixel convolution because sigmapsf=0 pixsize=0\n",
      "inc=42.0; beta[0]=0.0; kappa=1.00; M/L=1.00; BH=0.0; chi2/DOF=nan\n",
      "Total mass MGE (MSun): 7.831e+12\n",
      "\n",
      "sigma_e: 116.42 km/s\n",
      "theta_E: 0.340 arcsec\n"
     ]
    },
    {
     "name": "stdout",
     "output_type": "stream",
     "text": [
      "jam_axi_proj(align='sph', moment='zz') -- elapsed time sec: 0.80\n",
      "analytic_los=0 logistic=0 constant_anisotropy=1\n",
      "No PSF/pixel convolution because sigmapsf=0 pixsize=0\n",
      "inc=53.2; beta[0]=0.0; kappa=1.00; M/L=1.00; BH=0.0; chi2/DOF=nan\n",
      "Total mass MGE (MSun): 7.831e+12\n",
      "\n",
      "sigma_e: 123.01 km/s\n",
      "theta_E: 0.434 arcsec\n"
     ]
    },
    {
     "name": "stdout",
     "output_type": "stream",
     "text": [
      "jam_axi_proj(align='sph', moment='zz') -- elapsed time sec: 0.78\n",
      "analytic_los=0 logistic=0 constant_anisotropy=1\n",
      "No PSF/pixel convolution because sigmapsf=0 pixsize=0\n",
      "inc=77.5; beta[0]=0.0; kappa=1.00; M/L=1.00; BH=0.0; chi2/DOF=nan\n",
      "Total mass MGE (MSun): 7.831e+12\n",
      "\n",
      "sigma_e: 130.91 km/s\n",
      "theta_E: 0.398 arcsec\n"
     ]
    },
    {
     "name": "stdout",
     "output_type": "stream",
     "text": [
      "jam_axi_proj(align='sph', moment='zz') -- elapsed time sec: 0.82\n",
      "analytic_los=0 logistic=0 constant_anisotropy=1\n",
      "No PSF/pixel convolution because sigmapsf=0 pixsize=0\n",
      "inc=69.2; beta[0]=0.0; kappa=1.00; M/L=1.00; BH=0.0; chi2/DOF=nan\n",
      "Total mass MGE (MSun): 7.831e+12\n",
      "\n",
      "sigma_e: 129.40 km/s\n",
      "theta_E: 0.331 arcsec\n"
     ]
    },
    {
     "name": "stdout",
     "output_type": "stream",
     "text": [
      "jam_axi_proj(align='sph', moment='zz') -- elapsed time sec: 0.78\n",
      "analytic_los=0 logistic=0 constant_anisotropy=1\n",
      "No PSF/pixel convolution because sigmapsf=0 pixsize=0\n",
      "inc=49.9; beta[0]=0.0; kappa=1.00; M/L=1.00; BH=0.0; chi2/DOF=nan\n",
      "Total mass MGE (MSun): 7.831e+12\n",
      "\n",
      "sigma_e: 121.22 km/s\n"
     ]
    },
    {
     "name": "stdout",
     "output_type": "stream",
     "text": [
      "theta_E: 0.918 arcsec\n"
     ]
    },
    {
     "name": "stdout",
     "output_type": "stream",
     "text": [
      "jam_axi_proj(align='sph', moment='zz') -- elapsed time sec: 0.79\n",
      "analytic_los=0 logistic=0 constant_anisotropy=1\n",
      "No PSF/pixel convolution because sigmapsf=0 pixsize=0\n",
      "inc=37.6; beta[0]=0.0; kappa=1.00; M/L=1.00; BH=0.0; chi2/DOF=nan\n",
      "Total mass MGE (MSun): 6.084e+13\n",
      "\n",
      "sigma_e: 198.94 km/s\n",
      "theta_E: 1.226 arcsec\n"
     ]
    },
    {
     "name": "stdout",
     "output_type": "stream",
     "text": [
      "jam_axi_proj(align='sph', moment='zz') -- elapsed time sec: 0.82\n",
      "analytic_los=0 logistic=0 constant_anisotropy=1\n",
      "No PSF/pixel convolution because sigmapsf=0 pixsize=0\n",
      "inc=80.4; beta[0]=0.0; kappa=1.00; M/L=1.00; BH=0.0; chi2/DOF=nan\n",
      "Total mass MGE (MSun): 6.084e+13\n",
      "\n",
      "sigma_e: 223.80 km/s\n",
      "theta_E: 1.016 arcsec\n"
     ]
    },
    {
     "name": "stdout",
     "output_type": "stream",
     "text": [
      "jam_axi_proj(align='sph', moment='zz') -- elapsed time sec: 0.82\n",
      "analytic_los=0 logistic=0 constant_anisotropy=1\n",
      "No PSF/pixel convolution because sigmapsf=0 pixsize=0\n",
      "inc=54.6; beta[0]=0.0; kappa=1.00; M/L=1.00; BH=0.0; chi2/DOF=nan\n",
      "Total mass MGE (MSun): 6.084e+13\n",
      "\n",
      "sigma_e: 212.74 km/s\n",
      "theta_E: 0.941 arcsec\n"
     ]
    },
    {
     "name": "stdout",
     "output_type": "stream",
     "text": [
      "jam_axi_proj(align='sph', moment='zz') -- elapsed time sec: 0.80\n",
      "analytic_los=0 logistic=0 constant_anisotropy=1\n",
      "No PSF/pixel convolution because sigmapsf=0 pixsize=0\n",
      "inc=42.4; beta[0]=0.0; kappa=1.00; M/L=1.00; BH=0.0; chi2/DOF=nan\n",
      "Total mass MGE (MSun): 6.084e+13\n",
      "\n",
      "sigma_e: 203.13 km/s\n",
      "theta_E: 1.257 arcsec\n"
     ]
    },
    {
     "name": "stdout",
     "output_type": "stream",
     "text": [
      "jam_axi_proj(align='sph', moment='zz') -- elapsed time sec: 0.83\n",
      "analytic_los=0 logistic=0 constant_anisotropy=1\n",
      "No PSF/pixel convolution because sigmapsf=0 pixsize=0\n",
      "inc=87.6; beta[0]=0.0; kappa=1.00; M/L=1.00; BH=0.0; chi2/DOF=nan\n",
      "Total mass MGE (MSun): 6.084e+13\n",
      "\n",
      "sigma_e: 224.50 km/s\n",
      "theta_E: 1.228 arcsec\n"
     ]
    },
    {
     "name": "stdout",
     "output_type": "stream",
     "text": [
      "jam_axi_proj(align='sph', moment='zz') -- elapsed time sec: 0.83\n",
      "analytic_los=0 logistic=0 constant_anisotropy=1\n",
      "No PSF/pixel convolution because sigmapsf=0 pixsize=0\n",
      "inc=80.7; beta[0]=0.0; kappa=1.00; M/L=1.00; BH=0.0; chi2/DOF=nan\n",
      "Total mass MGE (MSun): 6.084e+13\n",
      "\n",
      "sigma_e: 223.85 km/s\n",
      "theta_E: 1.226 arcsec\n"
     ]
    },
    {
     "name": "stdout",
     "output_type": "stream",
     "text": [
      "jam_axi_proj(align='sph', moment='zz') -- elapsed time sec: 0.84\n",
      "analytic_los=0 logistic=0 constant_anisotropy=1\n",
      "No PSF/pixel convolution because sigmapsf=0 pixsize=0\n",
      "inc=80.4; beta[0]=0.0; kappa=1.00; M/L=1.00; BH=0.0; chi2/DOF=nan\n",
      "Total mass MGE (MSun): 6.084e+13\n",
      "\n",
      "sigma_e: 223.81 km/s\n",
      "theta_E: 0.857 arcsec\n"
     ]
    },
    {
     "name": "stdout",
     "output_type": "stream",
     "text": [
      "jam_axi_proj(align='sph', moment='zz') -- elapsed time sec: 0.81\n",
      "analytic_los=0 logistic=0 constant_anisotropy=1\n",
      "No PSF/pixel convolution because sigmapsf=0 pixsize=0\n",
      "inc=18.3; beta[0]=0.0; kappa=1.00; M/L=1.00; BH=0.0; chi2/DOF=nan\n",
      "Total mass MGE (MSun): 6.084e+13\n",
      "\n",
      "sigma_e: 183.71 km/s\n",
      "theta_E: 1.164 arcsec\n"
     ]
    },
    {
     "name": "stdout",
     "output_type": "stream",
     "text": [
      "jam_axi_proj(align='sph', moment='zz') -- elapsed time sec: 0.83\n",
      "analytic_los=0 logistic=0 constant_anisotropy=1\n",
      "No PSF/pixel convolution because sigmapsf=0 pixsize=0\n",
      "inc=72.5; beta[0]=0.0; kappa=1.00; M/L=1.00; BH=0.0; chi2/DOF=nan\n",
      "Total mass MGE (MSun): 6.084e+13\n",
      "\n",
      "sigma_e: 221.97 km/s\n",
      "theta_E: 1.193 arcsec\n"
     ]
    },
    {
     "name": "stdout",
     "output_type": "stream",
     "text": [
      "jam_axi_proj(align='sph', moment='zz') -- elapsed time sec: 0.82\n",
      "analytic_los=0 logistic=0 constant_anisotropy=1\n",
      "No PSF/pixel convolution because sigmapsf=0 pixsize=0\n",
      "inc=75.9; beta[0]=0.0; kappa=1.00; M/L=1.00; BH=0.0; chi2/DOF=nan\n",
      "Total mass MGE (MSun): 6.084e+13\n",
      "\n",
      "sigma_e: 222.91 km/s\n"
     ]
    },
    {
     "name": "stdout",
     "output_type": "stream",
     "text": [
      "theta_E: 0.548 arcsec\n"
     ]
    },
    {
     "name": "stdout",
     "output_type": "stream",
     "text": [
      "jam_axi_proj(align='sph', moment='zz') -- elapsed time sec: 0.75\n",
      "analytic_los=0 logistic=0 constant_anisotropy=1\n",
      "No PSF/pixel convolution because sigmapsf=0 pixsize=0\n",
      "inc=49.8; beta[0]=0.0; kappa=1.00; M/L=1.00; BH=0.0; chi2/DOF=nan\n",
      "Total mass MGE (MSun): 1.737e+13\n",
      "\n",
      "sigma_e: 157.32 km/s\n",
      "theta_E: 0.629 arcsec\n"
     ]
    },
    {
     "name": "stdout",
     "output_type": "stream",
     "text": [
      "jam_axi_proj(align='sph', moment='zz') -- elapsed time sec: 0.76\n",
      "analytic_los=0 logistic=0 constant_anisotropy=1\n",
      "No PSF/pixel convolution because sigmapsf=0 pixsize=0\n",
      "inc=77.4; beta[0]=0.0; kappa=1.00; M/L=1.00; BH=0.0; chi2/DOF=nan\n",
      "Total mass MGE (MSun): 1.737e+13\n",
      "\n",
      "sigma_e: 165.25 km/s\n",
      "theta_E: 0.578 arcsec\n"
     ]
    },
    {
     "name": "stdout",
     "output_type": "stream",
     "text": [
      "jam_axi_proj(align='sph', moment='zz') -- elapsed time sec: 0.77\n",
      "analytic_los=0 logistic=0 constant_anisotropy=1\n",
      "No PSF/pixel convolution because sigmapsf=0 pixsize=0\n",
      "inc=60.1; beta[0]=0.0; kappa=1.00; M/L=1.00; BH=0.0; chi2/DOF=nan\n",
      "Total mass MGE (MSun): 1.737e+13\n",
      "\n",
      "sigma_e: 161.19 km/s\n",
      "theta_E: 0.484 arcsec\n"
     ]
    },
    {
     "name": "stdout",
     "output_type": "stream",
     "text": [
      "jam_axi_proj(align='sph', moment='zz') -- elapsed time sec: 0.78\n",
      "analytic_los=0 logistic=0 constant_anisotropy=1\n",
      "No PSF/pixel convolution because sigmapsf=0 pixsize=0\n",
      "inc=8.78; beta[0]=0.0; kappa=1.00; M/L=1.00; BH=0.0; chi2/DOF=nan\n",
      "Total mass MGE (MSun): 1.737e+13\n",
      "\n",
      "sigma_e: 141.86 km/s\n",
      "theta_E: 0.631 arcsec\n"
     ]
    },
    {
     "name": "stdout",
     "output_type": "stream",
     "text": [
      "jam_axi_proj(align='sph', moment='zz') -- elapsed time sec: 0.75\n",
      "analytic_los=0 logistic=0 constant_anisotropy=1\n",
      "No PSF/pixel convolution because sigmapsf=0 pixsize=0\n",
      "inc=78.4; beta[0]=0.0; kappa=1.00; M/L=1.00; BH=0.0; chi2/DOF=nan\n",
      "Total mass MGE (MSun): 1.737e+13\n",
      "\n",
      "sigma_e: 165.37 km/s\n",
      "theta_E: 0.513 arcsec\n"
     ]
    },
    {
     "name": "stdout",
     "output_type": "stream",
     "text": [
      "jam_axi_proj(align='sph', moment='zz') -- elapsed time sec: 0.77\n",
      "analytic_los=0 logistic=0 constant_anisotropy=1\n",
      "No PSF/pixel convolution because sigmapsf=0 pixsize=0\n",
      "inc=34.2; beta[0]=0.0; kappa=1.00; M/L=1.00; BH=0.0; chi2/DOF=nan\n",
      "Total mass MGE (MSun): 1.737e+13\n",
      "\n",
      "sigma_e: 150.40 km/s\n",
      "theta_E: 0.487 arcsec\n"
     ]
    },
    {
     "name": "stdout",
     "output_type": "stream",
     "text": [
      "jam_axi_proj(align='sph', moment='zz') -- elapsed time sec: 0.78\n",
      "analytic_los=0 logistic=0 constant_anisotropy=1\n",
      "No PSF/pixel convolution because sigmapsf=0 pixsize=0\n",
      "inc=14.4; beta[0]=0.0; kappa=1.00; M/L=1.00; BH=0.0; chi2/DOF=nan\n",
      "Total mass MGE (MSun): 1.737e+13\n",
      "\n",
      "sigma_e: 143.03 km/s\n",
      "theta_E: 0.567 arcsec\n"
     ]
    },
    {
     "name": "stdout",
     "output_type": "stream",
     "text": [
      "jam_axi_proj(align='sph', moment='zz') -- elapsed time sec: 0.76\n",
      "analytic_los=0 logistic=0 constant_anisotropy=1\n",
      "No PSF/pixel convolution because sigmapsf=0 pixsize=0\n",
      "inc=56.3; beta[0]=0.0; kappa=1.00; M/L=1.00; BH=0.0; chi2/DOF=nan\n",
      "Total mass MGE (MSun): 1.737e+13\n",
      "\n",
      "sigma_e: 159.87 km/s\n",
      "theta_E: 0.631 arcsec\n"
     ]
    },
    {
     "name": "stdout",
     "output_type": "stream",
     "text": [
      "jam_axi_proj(align='sph', moment='zz') -- elapsed time sec: 0.76\n",
      "analytic_los=0 logistic=0 constant_anisotropy=1\n",
      "No PSF/pixel convolution because sigmapsf=0 pixsize=0\n",
      "inc=78.3; beta[0]=0.0; kappa=1.00; M/L=1.00; BH=0.0; chi2/DOF=nan\n",
      "Total mass MGE (MSun): 1.737e+13\n",
      "\n",
      "sigma_e: 165.36 km/s\n",
      "theta_E: 0.586 arcsec\n"
     ]
    },
    {
     "name": "stdout",
     "output_type": "stream",
     "text": [
      "jam_axi_proj(align='sph', moment='zz') -- elapsed time sec: 0.76\n",
      "analytic_los=0 logistic=0 constant_anisotropy=1\n",
      "No PSF/pixel convolution because sigmapsf=0 pixsize=0\n",
      "inc=62.6; beta[0]=0.0; kappa=1.00; M/L=1.00; BH=0.0; chi2/DOF=nan\n",
      "Total mass MGE (MSun): 1.737e+13\n",
      "\n",
      "sigma_e: 161.99 km/s\n"
     ]
    },
    {
     "name": "stdout",
     "output_type": "stream",
     "text": [
      "theta_E: 0.928 arcsec\n"
     ]
    },
    {
     "name": "stdout",
     "output_type": "stream",
     "text": [
      "jam_axi_proj(align='sph', moment='zz') -- elapsed time sec: 0.78\n",
      "analytic_los=0 logistic=0 constant_anisotropy=1\n",
      "No PSF/pixel convolution because sigmapsf=0 pixsize=0\n",
      "inc=77.3; beta[0]=0.0; kappa=1.00; M/L=1.00; BH=0.0; chi2/DOF=nan\n",
      "Total mass MGE (MSun): 3.725e+13\n",
      "\n",
      "sigma_e: 199.89 km/s\n",
      "theta_E: 0.913 arcsec\n"
     ]
    },
    {
     "name": "stdout",
     "output_type": "stream",
     "text": [
      "jam_axi_proj(align='sph', moment='zz') -- elapsed time sec: 0.80\n",
      "analytic_los=0 logistic=0 constant_anisotropy=1\n",
      "No PSF/pixel convolution because sigmapsf=0 pixsize=0\n",
      "inc=73.9; beta[0]=0.0; kappa=1.00; M/L=1.00; BH=0.0; chi2/DOF=nan\n",
      "Total mass MGE (MSun): 3.725e+13\n",
      "\n",
      "sigma_e: 199.22 km/s\n",
      "theta_E: 0.720 arcsec\n"
     ]
    },
    {
     "name": "stdout",
     "output_type": "stream",
     "text": [
      "jam_axi_proj(align='sph', moment='zz') -- elapsed time sec: 0.81\n",
      "analytic_los=0 logistic=0 constant_anisotropy=1\n",
      "No PSF/pixel convolution because sigmapsf=0 pixsize=0\n",
      "inc=24.9; beta[0]=0.0; kappa=1.00; M/L=1.00; BH=0.0; chi2/DOF=nan\n",
      "Total mass MGE (MSun): 3.725e+13\n",
      "\n",
      "sigma_e: 175.39 km/s\n",
      "theta_E: 0.853 arcsec\n"
     ]
    },
    {
     "name": "stdout",
     "output_type": "stream",
     "text": [
      "jam_axi_proj(align='sph', moment='zz') -- elapsed time sec: 0.80\n",
      "analytic_los=0 logistic=0 constant_anisotropy=1\n",
      "No PSF/pixel convolution because sigmapsf=0 pixsize=0\n",
      "inc=61.6; beta[0]=0.0; kappa=1.00; M/L=1.00; BH=0.0; chi2/DOF=nan\n",
      "Total mass MGE (MSun): 3.725e+13\n",
      "\n",
      "sigma_e: 195.31 km/s\n",
      "theta_E: 0.740 arcsec\n"
     ]
    },
    {
     "name": "stdout",
     "output_type": "stream",
     "text": [
      "jam_axi_proj(align='sph', moment='zz') -- elapsed time sec: 0.81\n",
      "analytic_los=0 logistic=0 constant_anisotropy=1\n",
      "No PSF/pixel convolution because sigmapsf=0 pixsize=0\n",
      "inc=33.1; beta[0]=0.0; kappa=1.00; M/L=1.00; BH=0.0; chi2/DOF=nan\n",
      "Total mass MGE (MSun): 3.725e+13\n",
      "\n",
      "sigma_e: 179.87 km/s\n",
      "theta_E: 0.939 arcsec\n"
     ]
    },
    {
     "name": "stdout",
     "output_type": "stream",
     "text": [
      "jam_axi_proj(align='sph', moment='zz') -- elapsed time sec: 0.81\n",
      "analytic_los=0 logistic=0 constant_anisotropy=1\n",
      "No PSF/pixel convolution because sigmapsf=0 pixsize=0\n",
      "inc=80.4; beta[0]=0.0; kappa=1.00; M/L=1.00; BH=0.0; chi2/DOF=nan\n",
      "Total mass MGE (MSun): 3.725e+13\n",
      "\n",
      "sigma_e: 200.37 km/s\n",
      "theta_E: 0.928 arcsec\n"
     ]
    },
    {
     "name": "stdout",
     "output_type": "stream",
     "text": [
      "jam_axi_proj(align='sph', moment='zz') -- elapsed time sec: 0.80\n",
      "analytic_los=0 logistic=0 constant_anisotropy=1\n",
      "No PSF/pixel convolution because sigmapsf=0 pixsize=0\n",
      "inc=77.3; beta[0]=0.0; kappa=1.00; M/L=1.00; BH=0.0; chi2/DOF=nan\n",
      "Total mass MGE (MSun): 3.725e+13\n",
      "\n",
      "sigma_e: 199.89 km/s\n",
      "theta_E: 0.850 arcsec\n"
     ]
    },
    {
     "name": "stdout",
     "output_type": "stream",
     "text": [
      "jam_axi_proj(align='sph', moment='zz') -- elapsed time sec: 0.82\n",
      "analytic_los=0 logistic=0 constant_anisotropy=1\n",
      "No PSF/pixel convolution because sigmapsf=0 pixsize=0\n",
      "inc=61.1; beta[0]=0.0; kappa=1.00; M/L=1.00; BH=0.0; chi2/DOF=nan\n",
      "Total mass MGE (MSun): 3.725e+13\n",
      "\n",
      "sigma_e: 195.08 km/s\n",
      "theta_E: 0.778 arcsec\n"
     ]
    },
    {
     "name": "stdout",
     "output_type": "stream",
     "text": [
      "jam_axi_proj(align='sph', moment='zz') -- elapsed time sec: 0.81\n",
      "analytic_los=0 logistic=0 constant_anisotropy=1\n",
      "No PSF/pixel convolution because sigmapsf=0 pixsize=0\n",
      "inc=45.0; beta[0]=0.0; kappa=1.00; M/L=1.00; BH=0.0; chi2/DOF=nan\n",
      "Total mass MGE (MSun): 3.725e+13\n",
      "\n",
      "sigma_e: 186.82 km/s\n",
      "theta_E: 0.733 arcsec\n"
     ]
    },
    {
     "name": "stdout",
     "output_type": "stream",
     "text": [
      "jam_axi_proj(align='sph', moment='zz') -- elapsed time sec: 0.81\n",
      "analytic_los=0 logistic=0 constant_anisotropy=1\n",
      "No PSF/pixel convolution because sigmapsf=0 pixsize=0\n",
      "inc=30.4; beta[0]=0.0; kappa=1.00; M/L=1.00; BH=0.0; chi2/DOF=nan\n",
      "Total mass MGE (MSun): 3.725e+13\n",
      "\n",
      "sigma_e: 178.35 km/s\n"
     ]
    },
    {
     "name": "stdout",
     "output_type": "stream",
     "text": [
      "theta_E: 0.308 arcsec\n"
     ]
    },
    {
     "name": "stdout",
     "output_type": "stream",
     "text": [
      "jam_axi_proj(align='sph', moment='zz') -- elapsed time sec: 0.76\n",
      "analytic_los=0 logistic=0 constant_anisotropy=1\n",
      "No PSF/pixel convolution because sigmapsf=0 pixsize=0\n",
      "inc=31.3; beta[0]=0.0; kappa=1.00; M/L=1.00; BH=0.0; chi2/DOF=nan\n",
      "Total mass MGE (MSun): 6.905e+12\n",
      "\n",
      "sigma_e: 114.82 km/s\n",
      "theta_E: 0.376 arcsec\n"
     ]
    },
    {
     "name": "stdout",
     "output_type": "stream",
     "text": [
      "jam_axi_proj(align='sph', moment='zz') -- elapsed time sec: 0.79\n",
      "analytic_los=0 logistic=0 constant_anisotropy=1\n",
      "No PSF/pixel convolution because sigmapsf=0 pixsize=0\n",
      "inc=67.3; beta[0]=0.0; kappa=1.00; M/L=1.00; BH=0.0; chi2/DOF=nan\n",
      "Total mass MGE (MSun): 6.905e+12\n",
      "\n",
      "sigma_e: 127.97 km/s\n",
      "theta_E: 0.318 arcsec\n"
     ]
    },
    {
     "name": "stdout",
     "output_type": "stream",
     "text": [
      "jam_axi_proj(align='sph', moment='zz') -- elapsed time sec: 0.80\n",
      "analytic_los=0 logistic=0 constant_anisotropy=1\n",
      "No PSF/pixel convolution because sigmapsf=0 pixsize=0\n",
      "inc=38.9; beta[0]=0.0; kappa=1.00; M/L=1.00; BH=0.0; chi2/DOF=nan\n",
      "Total mass MGE (MSun): 6.905e+12\n",
      "\n",
      "sigma_e: 118.01 km/s\n",
      "theta_E: 0.303 arcsec\n"
     ]
    },
    {
     "name": "stdout",
     "output_type": "stream",
     "text": [
      "jam_axi_proj(align='sph', moment='zz') -- elapsed time sec: 0.80\n",
      "analytic_los=0 logistic=0 constant_anisotropy=1\n",
      "No PSF/pixel convolution because sigmapsf=0 pixsize=0\n",
      "inc=26.7; beta[0]=0.0; kappa=1.00; M/L=1.00; BH=0.0; chi2/DOF=nan\n",
      "Total mass MGE (MSun): 6.905e+12\n",
      "\n",
      "sigma_e: 112.98 km/s\n",
      "theta_E: 0.326 arcsec\n"
     ]
    },
    {
     "name": "stdout",
     "output_type": "stream",
     "text": [
      "jam_axi_proj(align='sph', moment='zz') -- elapsed time sec: 0.79\n",
      "analytic_los=0 logistic=0 constant_anisotropy=1\n",
      "No PSF/pixel convolution because sigmapsf=0 pixsize=0\n",
      "inc=44.5; beta[0]=0.0; kappa=1.00; M/L=1.00; BH=0.0; chi2/DOF=nan\n",
      "Total mass MGE (MSun): 6.905e+12\n",
      "\n",
      "sigma_e: 120.42 km/s\n",
      "theta_E: 0.371 arcsec\n"
     ]
    },
    {
     "name": "stdout",
     "output_type": "stream",
     "text": [
      "jam_axi_proj(align='sph', moment='zz') -- elapsed time sec: 0.78\n",
      "analytic_los=0 logistic=0 constant_anisotropy=1\n",
      "No PSF/pixel convolution because sigmapsf=0 pixsize=0\n",
      "inc=65.3; beta[0]=0.0; kappa=1.00; M/L=1.00; BH=0.0; chi2/DOF=nan\n",
      "Total mass MGE (MSun): 6.905e+12\n",
      "\n",
      "sigma_e: 127.52 km/s\n",
      "theta_E: 0.347 arcsec\n"
     ]
    },
    {
     "name": "stdout",
     "output_type": "stream",
     "text": [
      "jam_axi_proj(align='sph', moment='zz') -- elapsed time sec: 0.80\n",
      "analytic_los=0 logistic=0 constant_anisotropy=1\n",
      "No PSF/pixel convolution because sigmapsf=0 pixsize=0\n",
      "inc=55.3; beta[0]=0.0; kappa=1.00; M/L=1.00; BH=0.0; chi2/DOF=nan\n",
      "Total mass MGE (MSun): 6.905e+12\n",
      "\n",
      "sigma_e: 124.56 km/s\n",
      "theta_E: 0.333 arcsec\n"
     ]
    },
    {
     "name": "stdout",
     "output_type": "stream",
     "text": [
      "jam_axi_proj(align='sph', moment='zz') -- elapsed time sec: 0.80\n",
      "analytic_los=0 logistic=0 constant_anisotropy=1\n",
      "No PSF/pixel convolution because sigmapsf=0 pixsize=0\n",
      "inc=48.0; beta[0]=0.0; kappa=1.00; M/L=1.00; BH=0.0; chi2/DOF=nan\n",
      "Total mass MGE (MSun): 6.905e+12\n",
      "\n",
      "sigma_e: 121.84 km/s\n",
      "theta_E: 0.307 arcsec\n"
     ]
    },
    {
     "name": "stdout",
     "output_type": "stream",
     "text": [
      "jam_axi_proj(align='sph', moment='zz') -- elapsed time sec: 0.78\n",
      "analytic_los=0 logistic=0 constant_anisotropy=1\n",
      "No PSF/pixel convolution because sigmapsf=0 pixsize=0\n",
      "inc=30.5; beta[0]=0.0; kappa=1.00; M/L=1.00; BH=0.0; chi2/DOF=nan\n",
      "Total mass MGE (MSun): 6.905e+12\n",
      "\n",
      "sigma_e: 114.47 km/s\n",
      "theta_E: 0.296 arcsec\n"
     ]
    },
    {
     "name": "stdout",
     "output_type": "stream",
     "text": [
      "jam_axi_proj(align='sph', moment='zz') -- elapsed time sec: 0.78\n",
      "analytic_los=0 logistic=0 constant_anisotropy=1\n",
      "No PSF/pixel convolution because sigmapsf=0 pixsize=0\n",
      "inc=17.8; beta[0]=0.0; kappa=1.00; M/L=1.00; BH=0.0; chi2/DOF=nan\n",
      "Total mass MGE (MSun): 6.905e+12\n",
      "\n",
      "sigma_e: 109.89 km/s\n"
     ]
    },
    {
     "name": "stdout",
     "output_type": "stream",
     "text": [
      "theta_E: 0.748 arcsec\n"
     ]
    },
    {
     "name": "stdout",
     "output_type": "stream",
     "text": [
      "jam_axi_proj(align='sph', moment='zz') -- elapsed time sec: 0.78\n",
      "analytic_los=0 logistic=0 constant_anisotropy=1\n",
      "No PSF/pixel convolution because sigmapsf=0 pixsize=0\n",
      "inc=57.2; beta[0]=0.0; kappa=1.00; M/L=1.00; BH=0.0; chi2/DOF=nan\n",
      "Total mass MGE (MSun): 2.984e+13\n",
      "\n",
      "sigma_e: 183.59 km/s\n",
      "theta_E: 0.845 arcsec\n"
     ]
    },
    {
     "name": "stdout",
     "output_type": "stream",
     "text": [
      "jam_axi_proj(align='sph', moment='zz') -- elapsed time sec: 0.78\n",
      "analytic_los=0 logistic=0 constant_anisotropy=1\n",
      "No PSF/pixel convolution because sigmapsf=0 pixsize=0\n",
      "inc=86.7; beta[0]=0.0; kappa=1.00; M/L=1.00; BH=0.0; chi2/DOF=nan\n",
      "Total mass MGE (MSun): 2.984e+13\n",
      "\n",
      "sigma_e: 190.31 km/s\n",
      "theta_E: 0.729 arcsec\n"
     ]
    },
    {
     "name": "stdout",
     "output_type": "stream",
     "text": [
      "jam_axi_proj(align='sph', moment='zz') -- elapsed time sec: 0.79\n",
      "analytic_los=0 logistic=0 constant_anisotropy=1\n",
      "No PSF/pixel convolution because sigmapsf=0 pixsize=0\n",
      "inc=52.2; beta[0]=0.0; kappa=1.00; M/L=1.00; BH=0.0; chi2/DOF=nan\n",
      "Total mass MGE (MSun): 2.984e+13\n",
      "\n",
      "sigma_e: 181.41 km/s\n",
      "theta_E: 0.702 arcsec\n"
     ]
    },
    {
     "name": "stdout",
     "output_type": "stream",
     "text": [
      "jam_axi_proj(align='sph', moment='zz') -- elapsed time sec: 0.78\n",
      "analytic_los=0 logistic=0 constant_anisotropy=1\n",
      "No PSF/pixel convolution because sigmapsf=0 pixsize=0\n",
      "inc=44.4; beta[0]=0.0; kappa=1.00; M/L=1.00; BH=0.0; chi2/DOF=nan\n",
      "Total mass MGE (MSun): 2.984e+13\n",
      "\n",
      "sigma_e: 177.61 km/s\n",
      "theta_E: 0.813 arcsec\n"
     ]
    },
    {
     "name": "stdout",
     "output_type": "stream",
     "text": [
      "jam_axi_proj(align='sph', moment='zz') -- elapsed time sec: 0.78\n",
      "analytic_los=0 logistic=0 constant_anisotropy=1\n",
      "No PSF/pixel convolution because sigmapsf=0 pixsize=0\n",
      "inc=73.6; beta[0]=0.0; kappa=1.00; M/L=1.00; BH=0.0; chi2/DOF=nan\n",
      "Total mass MGE (MSun): 2.984e+13\n",
      "\n",
      "sigma_e: 188.72 km/s\n",
      "theta_E: 0.664 arcsec\n"
     ]
    },
    {
     "name": "stdout",
     "output_type": "stream",
     "text": [
      "jam_axi_proj(align='sph', moment='zz') -- elapsed time sec: 0.79\n",
      "analytic_los=0 logistic=0 constant_anisotropy=1\n",
      "No PSF/pixel convolution because sigmapsf=0 pixsize=0\n",
      "inc=29.8; beta[0]=0.0; kappa=1.00; M/L=1.00; BH=0.0; chi2/DOF=nan\n",
      "Total mass MGE (MSun): 2.984e+13\n",
      "\n",
      "sigma_e: 170.14 km/s\n",
      "theta_E: 0.846 arcsec\n"
     ]
    },
    {
     "name": "stdout",
     "output_type": "stream",
     "text": [
      "jam_axi_proj(align='sph', moment='zz') -- elapsed time sec: 0.80\n",
      "analytic_los=0 logistic=0 constant_anisotropy=1\n",
      "No PSF/pixel convolution because sigmapsf=0 pixsize=0\n",
      "inc=87.8; beta[0]=0.0; kappa=1.00; M/L=1.00; BH=0.0; chi2/DOF=nan\n",
      "Total mass MGE (MSun): 2.984e+13\n",
      "\n",
      "sigma_e: 190.34 km/s\n",
      "theta_E: 0.705 arcsec\n"
     ]
    },
    {
     "name": "stdout",
     "output_type": "stream",
     "text": [
      "jam_axi_proj(align='sph', moment='zz') -- elapsed time sec: 0.79\n",
      "analytic_los=0 logistic=0 constant_anisotropy=1\n",
      "No PSF/pixel convolution because sigmapsf=0 pixsize=0\n",
      "inc=45.1; beta[0]=0.0; kappa=1.00; M/L=1.00; BH=0.0; chi2/DOF=nan\n",
      "Total mass MGE (MSun): 2.984e+13\n",
      "\n",
      "sigma_e: 177.99 km/s\n",
      "theta_E: 0.731 arcsec\n"
     ]
    },
    {
     "name": "stdout",
     "output_type": "stream",
     "text": [
      "jam_axi_proj(align='sph', moment='zz') -- elapsed time sec: 0.79\n",
      "analytic_los=0 logistic=0 constant_anisotropy=1\n",
      "No PSF/pixel convolution because sigmapsf=0 pixsize=0\n",
      "inc=52.6; beta[0]=0.0; kappa=1.00; M/L=1.00; BH=0.0; chi2/DOF=nan\n",
      "Total mass MGE (MSun): 2.984e+13\n",
      "\n",
      "sigma_e: 181.62 km/s\n",
      "theta_E: 0.715 arcsec\n"
     ]
    },
    {
     "name": "stdout",
     "output_type": "stream",
     "text": [
      "jam_axi_proj(align='sph', moment='zz') -- elapsed time sec: 0.79\n",
      "analytic_los=0 logistic=0 constant_anisotropy=1\n",
      "No PSF/pixel convolution because sigmapsf=0 pixsize=0\n",
      "inc=48.3; beta[0]=0.0; kappa=1.00; M/L=1.00; BH=0.0; chi2/DOF=nan\n",
      "Total mass MGE (MSun): 2.984e+13\n",
      "\n",
      "sigma_e: 179.57 km/s\n"
     ]
    },
    {
     "name": "stdout",
     "output_type": "stream",
     "text": [
      "theta_E: 0.468 arcsec\n"
     ]
    },
    {
     "name": "stdout",
     "output_type": "stream",
     "text": [
      "jam_axi_proj(align='sph', moment='zz') -- elapsed time sec: 0.76\n",
      "analytic_los=0 logistic=0 constant_anisotropy=1\n",
      "No PSF/pixel convolution because sigmapsf=0 pixsize=0\n",
      "inc=67.2; beta[0]=0.0; kappa=1.00; M/L=1.00; BH=0.0; chi2/DOF=nan\n",
      "Total mass MGE (MSun): 1.062e+13\n",
      "\n",
      "sigma_e: 143.80 km/s\n",
      "theta_E: 0.455 arcsec\n"
     ]
    },
    {
     "name": "stdout",
     "output_type": "stream",
     "text": [
      "jam_axi_proj(align='sph', moment='zz') -- elapsed time sec: 0.78\n",
      "analytic_los=0 logistic=0 constant_anisotropy=1\n",
      "No PSF/pixel convolution because sigmapsf=0 pixsize=0\n",
      "inc=62.5; beta[0]=0.0; kappa=1.00; M/L=1.00; BH=0.0; chi2/DOF=nan\n",
      "Total mass MGE (MSun): 1.062e+13\n",
      "\n",
      "sigma_e: 142.53 km/s\n",
      "theta_E: 0.472 arcsec\n"
     ]
    },
    {
     "name": "stdout",
     "output_type": "stream",
     "text": [
      "jam_axi_proj(align='sph', moment='zz') -- elapsed time sec: 0.79\n",
      "analytic_los=0 logistic=0 constant_anisotropy=1\n",
      "No PSF/pixel convolution because sigmapsf=0 pixsize=0\n",
      "inc=68.8; beta[0]=0.0; kappa=1.00; M/L=1.00; BH=0.0; chi2/DOF=nan\n",
      "Total mass MGE (MSun): 1.062e+13\n",
      "\n",
      "sigma_e: 144.17 km/s\n",
      "theta_E: 0.383 arcsec\n"
     ]
    },
    {
     "name": "stdout",
     "output_type": "stream",
     "text": [
      "jam_axi_proj(align='sph', moment='zz') -- elapsed time sec: 0.77\n",
      "analytic_los=0 logistic=0 constant_anisotropy=1\n",
      "No PSF/pixel convolution because sigmapsf=0 pixsize=0\n",
      "inc=27.2; beta[0]=0.0; kappa=1.00; M/L=1.00; BH=0.0; chi2/DOF=nan\n",
      "Total mass MGE (MSun): 1.062e+13\n",
      "\n",
      "sigma_e: 128.30 km/s\n",
      "theta_E: 0.405 arcsec\n"
     ]
    },
    {
     "name": "stdout",
     "output_type": "stream",
     "text": [
      "jam_axi_proj(align='sph', moment='zz') -- elapsed time sec: 0.77\n",
      "analytic_los=0 logistic=0 constant_anisotropy=1\n",
      "No PSF/pixel convolution because sigmapsf=0 pixsize=0\n",
      "inc=41.4; beta[0]=0.0; kappa=1.00; M/L=1.00; BH=0.0; chi2/DOF=nan\n",
      "Total mass MGE (MSun): 1.062e+13\n",
      "\n",
      "sigma_e: 134.46 km/s\n",
      "theta_E: 0.505 arcsec\n"
     ]
    },
    {
     "name": "stdout",
     "output_type": "stream",
     "text": [
      "jam_axi_proj(align='sph', moment='zz') -- elapsed time sec: 0.78\n",
      "analytic_los=0 logistic=0 constant_anisotropy=1\n",
      "No PSF/pixel convolution because sigmapsf=0 pixsize=0\n",
      "inc=84.7; beta[0]=0.0; kappa=1.00; M/L=1.00; BH=0.0; chi2/DOF=nan\n",
      "Total mass MGE (MSun): 1.062e+13\n",
      "\n",
      "sigma_e: 146.30 km/s\n",
      "theta_E: 0.428 arcsec\n"
     ]
    },
    {
     "name": "stdout",
     "output_type": "stream",
     "text": [
      "jam_axi_proj(align='sph', moment='zz') -- elapsed time sec: 0.76\n",
      "analytic_los=0 logistic=0 constant_anisotropy=1\n",
      "No PSF/pixel convolution because sigmapsf=0 pixsize=0\n",
      "inc=52.3; beta[0]=0.0; kappa=1.00; M/L=1.00; BH=0.0; chi2/DOF=nan\n",
      "Total mass MGE (MSun): 1.062e+13\n",
      "\n",
      "sigma_e: 139.05 km/s\n",
      "theta_E: 0.442 arcsec\n"
     ]
    },
    {
     "name": "stdout",
     "output_type": "stream",
     "text": [
      "jam_axi_proj(align='sph', moment='zz') -- elapsed time sec: 0.78\n",
      "analytic_los=0 logistic=0 constant_anisotropy=1\n",
      "No PSF/pixel convolution because sigmapsf=0 pixsize=0\n",
      "inc=57.8; beta[0]=0.0; kappa=1.00; M/L=1.00; BH=0.0; chi2/DOF=nan\n",
      "Total mass MGE (MSun): 1.062e+13\n",
      "\n",
      "sigma_e: 141.06 km/s\n",
      "theta_E: 0.488 arcsec\n"
     ]
    },
    {
     "name": "stdout",
     "output_type": "stream",
     "text": [
      "jam_axi_proj(align='sph', moment='zz') -- elapsed time sec: 0.79\n",
      "analytic_los=0 logistic=0 constant_anisotropy=1\n",
      "No PSF/pixel convolution because sigmapsf=0 pixsize=0\n",
      "inc=74.9; beta[0]=0.0; kappa=1.00; M/L=1.00; BH=0.0; chi2/DOF=nan\n",
      "Total mass MGE (MSun): 1.062e+13\n",
      "\n",
      "sigma_e: 145.31 km/s\n",
      "theta_E: 0.472 arcsec\n"
     ]
    },
    {
     "name": "stdout",
     "output_type": "stream",
     "text": [
      "jam_axi_proj(align='sph', moment='zz') -- elapsed time sec: 0.78\n",
      "analytic_los=0 logistic=0 constant_anisotropy=1\n",
      "No PSF/pixel convolution because sigmapsf=0 pixsize=0\n",
      "inc=69.0; beta[0]=0.0; kappa=1.00; M/L=1.00; BH=0.0; chi2/DOF=nan\n",
      "Total mass MGE (MSun): 1.062e+13\n",
      "\n",
      "sigma_e: 144.20 km/s\n"
     ]
    },
    {
     "name": "stdout",
     "output_type": "stream",
     "text": [
      "theta_E: 0.719 arcsec\n"
     ]
    },
    {
     "name": "stdout",
     "output_type": "stream",
     "text": [
      "jam_axi_proj(align='sph', moment='zz') -- elapsed time sec: 0.77\n",
      "analytic_los=0 logistic=0 constant_anisotropy=1\n",
      "No PSF/pixel convolution because sigmapsf=0 pixsize=0\n",
      "inc=35.2; beta[0]=0.0; kappa=1.00; M/L=1.00; BH=0.0; chi2/DOF=nan\n",
      "Total mass MGE (MSun): 3.624e+13\n",
      "\n",
      "sigma_e: 176.29 km/s\n",
      "theta_E: 0.873 arcsec\n"
     ]
    },
    {
     "name": "stdout",
     "output_type": "stream",
     "text": [
      "jam_axi_proj(align='sph', moment='zz') -- elapsed time sec: 0.82\n",
      "analytic_los=0 logistic=0 constant_anisotropy=1\n",
      "No PSF/pixel convolution because sigmapsf=0 pixsize=0\n",
      "inc=68.3; beta[0]=0.0; kappa=1.00; M/L=1.00; BH=0.0; chi2/DOF=nan\n",
      "Total mass MGE (MSun): 3.624e+13\n",
      "\n",
      "sigma_e: 194.74 km/s\n",
      "theta_E: 0.707 arcsec\n"
     ]
    },
    {
     "name": "stdout",
     "output_type": "stream",
     "text": [
      "jam_axi_proj(align='sph', moment='zz') -- elapsed time sec: 0.80\n",
      "analytic_los=0 logistic=0 constant_anisotropy=1\n",
      "No PSF/pixel convolution because sigmapsf=0 pixsize=0\n",
      "inc=30.7; beta[0]=0.0; kappa=1.00; M/L=1.00; BH=0.0; chi2/DOF=nan\n",
      "Total mass MGE (MSun): 3.624e+13\n",
      "\n",
      "sigma_e: 173.39 km/s\n",
      "theta_E: 0.821 arcsec\n"
     ]
    },
    {
     "name": "stdout",
     "output_type": "stream",
     "text": [
      "jam_axi_proj(align='sph', moment='zz') -- elapsed time sec: 0.80\n",
      "analytic_los=0 logistic=0 constant_anisotropy=1\n",
      "No PSF/pixel convolution because sigmapsf=0 pixsize=0\n",
      "inc=59.1; beta[0]=0.0; kappa=1.00; M/L=1.00; BH=0.0; chi2/DOF=nan\n",
      "Total mass MGE (MSun): 3.624e+13\n",
      "\n",
      "sigma_e: 190.99 km/s\n",
      "theta_E: 0.777 arcsec\n"
     ]
    },
    {
     "name": "stdout",
     "output_type": "stream",
     "text": [
      "jam_axi_proj(align='sph', moment='zz') -- elapsed time sec: 0.80\n",
      "analytic_los=0 logistic=0 constant_anisotropy=1\n",
      "No PSF/pixel convolution because sigmapsf=0 pixsize=0\n",
      "inc=50.4; beta[0]=0.0; kappa=1.00; M/L=1.00; BH=0.0; chi2/DOF=nan\n",
      "Total mass MGE (MSun): 3.624e+13\n",
      "\n",
      "sigma_e: 186.26 km/s\n",
      "theta_E: 0.800 arcsec\n"
     ]
    },
    {
     "name": "stdout",
     "output_type": "stream",
     "text": [
      "jam_axi_proj(align='sph', moment='zz') -- elapsed time sec: 0.79\n",
      "analytic_los=0 logistic=0 constant_anisotropy=1\n",
      "No PSF/pixel convolution because sigmapsf=0 pixsize=0\n",
      "inc=55.2; beta[0]=0.0; kappa=1.00; M/L=1.00; BH=0.0; chi2/DOF=nan\n",
      "Total mass MGE (MSun): 3.624e+13\n",
      "\n",
      "sigma_e: 188.99 km/s\n",
      "theta_E: 0.799 arcsec\n"
     ]
    },
    {
     "name": "stdout",
     "output_type": "stream",
     "text": [
      "jam_axi_proj(align='sph', moment='zz') -- elapsed time sec: 0.80\n",
      "analytic_los=0 logistic=0 constant_anisotropy=1\n",
      "No PSF/pixel convolution because sigmapsf=0 pixsize=0\n",
      "inc=55.0; beta[0]=0.0; kappa=1.00; M/L=1.00; BH=0.0; chi2/DOF=nan\n",
      "Total mass MGE (MSun): 3.624e+13\n",
      "\n",
      "sigma_e: 188.86 km/s\n",
      "theta_E: 0.954 arcsec\n"
     ]
    },
    {
     "name": "stdout",
     "output_type": "stream",
     "text": [
      "jam_axi_proj(align='sph', moment='zz') -- elapsed time sec: 0.82\n",
      "analytic_los=0 logistic=0 constant_anisotropy=1\n",
      "No PSF/pixel convolution because sigmapsf=0 pixsize=0\n",
      "inc=88.1; beta[0]=0.0; kappa=1.00; M/L=1.00; BH=0.0; chi2/DOF=nan\n",
      "Total mass MGE (MSun): 3.624e+13\n",
      "\n",
      "sigma_e: 198.09 km/s\n",
      "theta_E: 0.769 arcsec\n"
     ]
    },
    {
     "name": "stdout",
     "output_type": "stream",
     "text": [
      "jam_axi_proj(align='sph', moment='zz') -- elapsed time sec: 0.79\n",
      "analytic_los=0 logistic=0 constant_anisotropy=1\n",
      "No PSF/pixel convolution because sigmapsf=0 pixsize=0\n",
      "inc=48.6; beta[0]=0.0; kappa=1.00; M/L=1.00; BH=0.0; chi2/DOF=nan\n",
      "Total mass MGE (MSun): 3.624e+13\n",
      "\n",
      "sigma_e: 185.12 km/s\n",
      "theta_E: 0.816 arcsec\n"
     ]
    },
    {
     "name": "stdout",
     "output_type": "stream",
     "text": [
      "jam_axi_proj(align='sph', moment='zz') -- elapsed time sec: 0.81\n",
      "analytic_los=0 logistic=0 constant_anisotropy=1\n",
      "No PSF/pixel convolution because sigmapsf=0 pixsize=0\n",
      "inc=58.2; beta[0]=0.0; kappa=1.00; M/L=1.00; BH=0.0; chi2/DOF=nan\n",
      "Total mass MGE (MSun): 3.624e+13\n",
      "\n",
      "sigma_e: 190.56 km/s\n"
     ]
    },
    {
     "name": "stdout",
     "output_type": "stream",
     "text": [
      "theta_E: 0.939 arcsec\n"
     ]
    },
    {
     "name": "stdout",
     "output_type": "stream",
     "text": [
      "jam_axi_proj(align='sph', moment='zz') -- elapsed time sec: 0.76\n",
      "analytic_los=0 logistic=0 constant_anisotropy=1\n",
      "No PSF/pixel convolution because sigmapsf=0 pixsize=0\n",
      "inc=83.6; beta[0]=0.0; kappa=1.00; M/L=1.00; BH=0.0; chi2/DOF=nan\n",
      "Total mass MGE (MSun): 3.810e+13\n",
      "\n",
      "sigma_e: 202.84 km/s\n",
      "theta_E: 0.758 arcsec\n"
     ]
    },
    {
     "name": "stdout",
     "output_type": "stream",
     "text": [
      "jam_axi_proj(align='sph', moment='zz') -- elapsed time sec: 0.79\n",
      "analytic_los=0 logistic=0 constant_anisotropy=1\n",
      "No PSF/pixel convolution because sigmapsf=0 pixsize=0\n",
      "inc=24.1; beta[0]=0.0; kappa=1.00; M/L=1.00; BH=0.0; chi2/DOF=nan\n",
      "Total mass MGE (MSun): 3.810e+13\n",
      "\n",
      "sigma_e: 181.97 km/s\n",
      "theta_E: 0.862 arcsec\n"
     ]
    },
    {
     "name": "stdout",
     "output_type": "stream",
     "text": [
      "jam_axi_proj(align='sph', moment='zz') -- elapsed time sec: 0.78\n",
      "analytic_los=0 logistic=0 constant_anisotropy=1\n",
      "No PSF/pixel convolution because sigmapsf=0 pixsize=0\n",
      "inc=59.3; beta[0]=0.0; kappa=1.00; M/L=1.00; BH=0.0; chi2/DOF=nan\n",
      "Total mass MGE (MSun): 3.810e+13\n",
      "\n",
      "sigma_e: 197.44 km/s\n",
      "theta_E: 0.812 arcsec\n"
     ]
    },
    {
     "name": "stdout",
     "output_type": "stream",
     "text": [
      "jam_axi_proj(align='sph', moment='zz') -- elapsed time sec: 0.78\n",
      "analytic_los=0 logistic=0 constant_anisotropy=1\n",
      "No PSF/pixel convolution because sigmapsf=0 pixsize=0\n",
      "inc=45.7; beta[0]=0.0; kappa=1.00; M/L=1.00; BH=0.0; chi2/DOF=nan\n",
      "Total mass MGE (MSun): 3.810e+13\n",
      "\n",
      "sigma_e: 191.72 km/s\n",
      "theta_E: 0.743 arcsec\n"
     ]
    },
    {
     "name": "stdout",
     "output_type": "stream",
     "text": [
      "jam_axi_proj(align='sph', moment='zz') -- elapsed time sec: 0.79\n",
      "analytic_los=0 logistic=0 constant_anisotropy=1\n",
      "No PSF/pixel convolution because sigmapsf=0 pixsize=0\n",
      "inc=12.9; beta[0]=0.0; kappa=1.00; M/L=1.00; BH=0.0; chi2/DOF=nan\n",
      "Total mass MGE (MSun): 3.810e+13\n",
      "\n",
      "sigma_e: 178.35 km/s\n",
      "theta_E: 0.929 arcsec\n"
     ]
    },
    {
     "name": "stdout",
     "output_type": "stream",
     "text": [
      "jam_axi_proj(align='sph', moment='zz') -- elapsed time sec: 0.77\n",
      "analytic_los=0 logistic=0 constant_anisotropy=1\n",
      "No PSF/pixel convolution because sigmapsf=0 pixsize=0\n",
      "inc=78.5; beta[0]=0.0; kappa=1.00; M/L=1.00; BH=0.0; chi2/DOF=nan\n",
      "Total mass MGE (MSun): 3.810e+13\n",
      "\n",
      "sigma_e: 202.26 km/s\n",
      "theta_E: 0.794 arcsec\n"
     ]
    },
    {
     "name": "stdout",
     "output_type": "stream",
     "text": [
      "jam_axi_proj(align='sph', moment='zz') -- elapsed time sec: 0.79\n",
      "analytic_los=0 logistic=0 constant_anisotropy=1\n",
      "No PSF/pixel convolution because sigmapsf=0 pixsize=0\n",
      "inc=39.6; beta[0]=0.0; kappa=1.00; M/L=1.00; BH=0.0; chi2/DOF=nan\n",
      "Total mass MGE (MSun): 3.810e+13\n",
      "\n",
      "sigma_e: 188.85 km/s\n",
      "theta_E: 0.933 arcsec\n"
     ]
    },
    {
     "name": "stdout",
     "output_type": "stream",
     "text": [
      "jam_axi_proj(align='sph', moment='zz') -- elapsed time sec: 0.77\n",
      "analytic_los=0 logistic=0 constant_anisotropy=1\n",
      "No PSF/pixel convolution because sigmapsf=0 pixsize=0\n",
      "inc=80.4; beta[0]=0.0; kappa=1.00; M/L=1.00; BH=0.0; chi2/DOF=nan\n",
      "Total mass MGE (MSun): 3.810e+13\n",
      "\n",
      "sigma_e: 202.51 km/s\n",
      "theta_E: 0.737 arcsec\n"
     ]
    },
    {
     "name": "stdout",
     "output_type": "stream",
     "text": [
      "jam_axi_proj(align='sph', moment='zz') -- elapsed time sec: 0.79\n",
      "analytic_los=0 logistic=0 constant_anisotropy=1\n",
      "No PSF/pixel convolution because sigmapsf=0 pixsize=0\n",
      "inc=2.81; beta[0]=0.0; kappa=1.00; M/L=1.00; BH=0.0; chi2/DOF=nan\n",
      "Total mass MGE (MSun): 3.810e+13\n",
      "\n",
      "sigma_e: 176.89 km/s\n",
      "theta_E: 0.767 arcsec\n"
     ]
    },
    {
     "name": "stdout",
     "output_type": "stream",
     "text": [
      "jam_axi_proj(align='sph', moment='zz') -- elapsed time sec: 0.79\n",
      "analytic_los=0 logistic=0 constant_anisotropy=1\n",
      "No PSF/pixel convolution because sigmapsf=0 pixsize=0\n",
      "inc=28.9; beta[0]=0.0; kappa=1.00; M/L=1.00; BH=0.0; chi2/DOF=nan\n",
      "Total mass MGE (MSun): 3.810e+13\n",
      "\n",
      "sigma_e: 183.94 km/s\n"
     ]
    },
    {
     "name": "stdout",
     "output_type": "stream",
     "text": [
      "theta_E: 0.673 arcsec\n"
     ]
    },
    {
     "name": "stdout",
     "output_type": "stream",
     "text": [
      "jam_axi_proj(align='sph', moment='zz') -- elapsed time sec: 0.81\n",
      "analytic_los=0 logistic=0 constant_anisotropy=1\n",
      "No PSF/pixel convolution because sigmapsf=0 pixsize=0\n",
      "inc=89.5; beta[0]=0.0; kappa=1.00; M/L=1.00; BH=0.0; chi2/DOF=nan\n",
      "Total mass MGE (MSun): 1.643e+13\n",
      "\n",
      "sigma_e: 159.20 km/s\n",
      "theta_E: 0.433 arcsec\n"
     ]
    },
    {
     "name": "stdout",
     "output_type": "stream",
     "text": [
      "jam_axi_proj(align='sph', moment='zz') -- elapsed time sec: 0.79\n",
      "analytic_los=0 logistic=0 constant_anisotropy=1\n",
      "No PSF/pixel convolution because sigmapsf=0 pixsize=0\n",
      "inc=30.6; beta[0]=0.0; kappa=1.00; M/L=1.00; BH=0.0; chi2/DOF=nan\n",
      "Total mass MGE (MSun): 1.643e+13\n",
      "\n",
      "sigma_e: 132.55 km/s\n",
      "theta_E: 0.455 arcsec\n"
     ]
    },
    {
     "name": "stdout",
     "output_type": "stream",
     "text": [
      "jam_axi_proj(align='sph', moment='zz') -- elapsed time sec: 0.81\n",
      "analytic_los=0 logistic=0 constant_anisotropy=1\n",
      "No PSF/pixel convolution because sigmapsf=0 pixsize=0\n",
      "inc=40.4; beta[0]=0.0; kappa=1.00; M/L=1.00; BH=0.0; chi2/DOF=nan\n",
      "Total mass MGE (MSun): 1.643e+13\n",
      "\n",
      "sigma_e: 139.83 km/s\n",
      "theta_E: 0.444 arcsec\n"
     ]
    },
    {
     "name": "stdout",
     "output_type": "stream",
     "text": [
      "jam_axi_proj(align='sph', moment='zz') -- elapsed time sec: 0.79\n",
      "analytic_los=0 logistic=0 constant_anisotropy=1\n",
      "No PSF/pixel convolution because sigmapsf=0 pixsize=0\n",
      "inc=35.9; beta[0]=0.0; kappa=1.00; M/L=1.00; BH=0.0; chi2/DOF=nan\n",
      "Total mass MGE (MSun): 1.643e+13\n",
      "\n",
      "sigma_e: 136.50 km/s\n",
      "theta_E: 0.620 arcsec\n"
     ]
    },
    {
     "name": "stdout",
     "output_type": "stream",
     "text": [
      "jam_axi_proj(align='sph', moment='zz') -- elapsed time sec: 0.83\n",
      "analytic_los=0 logistic=0 constant_anisotropy=1\n",
      "No PSF/pixel convolution because sigmapsf=0 pixsize=0\n",
      "inc=75.7; beta[0]=0.0; kappa=1.00; M/L=1.00; BH=0.0; chi2/DOF=nan\n",
      "Total mass MGE (MSun): 1.643e+13\n",
      "\n",
      "sigma_e: 158.09 km/s\n",
      "theta_E: 0.673 arcsec\n"
     ]
    },
    {
     "name": "stdout",
     "output_type": "stream",
     "text": [
      "jam_axi_proj(align='sph', moment='zz') -- elapsed time sec: 0.81\n",
      "analytic_los=0 logistic=0 constant_anisotropy=1\n",
      "No PSF/pixel convolution because sigmapsf=0 pixsize=0\n",
      "inc=89.5; beta[0]=0.0; kappa=1.00; M/L=1.00; BH=0.0; chi2/DOF=nan\n",
      "Total mass MGE (MSun): 1.643e+13\n",
      "\n",
      "sigma_e: 159.20 km/s\n",
      "theta_E: 0.430 arcsec\n"
     ]
    },
    {
     "name": "stdout",
     "output_type": "stream",
     "text": [
      "jam_axi_proj(align='sph', moment='zz') -- elapsed time sec: 0.80\n",
      "analytic_los=0 logistic=0 constant_anisotropy=1\n",
      "No PSF/pixel convolution because sigmapsf=0 pixsize=0\n",
      "inc=29.0; beta[0]=0.0; kappa=1.00; M/L=1.00; BH=0.0; chi2/DOF=nan\n",
      "Total mass MGE (MSun): 1.643e+13\n",
      "\n",
      "sigma_e: 131.33 km/s\n",
      "theta_E: 0.451 arcsec\n"
     ]
    },
    {
     "name": "stdout",
     "output_type": "stream",
     "text": [
      "jam_axi_proj(align='sph', moment='zz') -- elapsed time sec: 0.79\n",
      "analytic_los=0 logistic=0 constant_anisotropy=1\n",
      "No PSF/pixel convolution because sigmapsf=0 pixsize=0\n",
      "inc=38.7; beta[0]=0.0; kappa=1.00; M/L=1.00; BH=0.0; chi2/DOF=nan\n",
      "Total mass MGE (MSun): 1.643e+13\n",
      "\n",
      "sigma_e: 138.59 km/s\n",
      "theta_E: 0.453 arcsec\n"
     ]
    },
    {
     "name": "stdout",
     "output_type": "stream",
     "text": [
      "jam_axi_proj(align='sph', moment='zz') -- elapsed time sec: 0.81\n",
      "analytic_los=0 logistic=0 constant_anisotropy=1\n",
      "No PSF/pixel convolution because sigmapsf=0 pixsize=0\n",
      "inc=39.7; beta[0]=0.0; kappa=1.00; M/L=1.00; BH=0.0; chi2/DOF=nan\n",
      "Total mass MGE (MSun): 1.643e+13\n",
      "\n",
      "sigma_e: 139.31 km/s\n",
      "theta_E: 0.591 arcsec\n"
     ]
    },
    {
     "name": "stdout",
     "output_type": "stream",
     "text": [
      "jam_axi_proj(align='sph', moment='zz') -- elapsed time sec: 0.83\n",
      "analytic_los=0 logistic=0 constant_anisotropy=1\n",
      "No PSF/pixel convolution because sigmapsf=0 pixsize=0\n",
      "inc=71.1; beta[0]=0.0; kappa=1.00; M/L=1.00; BH=0.0; chi2/DOF=nan\n",
      "Total mass MGE (MSun): 1.643e+13\n",
      "\n",
      "sigma_e: 157.08 km/s\n"
     ]
    },
    {
     "name": "stdout",
     "output_type": "stream",
     "text": [
      "theta_E: 0.444 arcsec\n"
     ]
    },
    {
     "name": "stdout",
     "output_type": "stream",
     "text": [
      "jam_axi_proj(align='sph', moment='zz') -- elapsed time sec: 0.75\n",
      "analytic_los=0 logistic=0 constant_anisotropy=1\n",
      "No PSF/pixel convolution because sigmapsf=0 pixsize=0\n",
      "inc=41.2; beta[0]=0.0; kappa=1.00; M/L=1.00; BH=0.0; chi2/DOF=nan\n",
      "Total mass MGE (MSun): 1.168e+13\n",
      "\n",
      "sigma_e: 142.18 km/s\n",
      "theta_E: 0.483 arcsec\n"
     ]
    },
    {
     "name": "stdout",
     "output_type": "stream",
     "text": [
      "jam_axi_proj(align='sph', moment='zz') -- elapsed time sec: 0.76\n",
      "analytic_los=0 logistic=0 constant_anisotropy=1\n",
      "No PSF/pixel convolution because sigmapsf=0 pixsize=0\n",
      "inc=62.6; beta[0]=0.0; kappa=1.00; M/L=1.00; BH=0.0; chi2/DOF=nan\n",
      "Total mass MGE (MSun): 1.168e+13\n",
      "\n",
      "sigma_e: 148.23 km/s\n",
      "theta_E: 0.514 arcsec\n"
     ]
    },
    {
     "name": "stdout",
     "output_type": "stream",
     "text": [
      "jam_axi_proj(align='sph', moment='zz') -- elapsed time sec: 0.78\n",
      "analytic_los=0 logistic=0 constant_anisotropy=1\n",
      "No PSF/pixel convolution because sigmapsf=0 pixsize=0\n",
      "inc=83.6; beta[0]=0.0; kappa=1.00; M/L=1.00; BH=0.0; chi2/DOF=nan\n",
      "Total mass MGE (MSun): 1.168e+13\n",
      "\n",
      "sigma_e: 151.19 km/s\n",
      "theta_E: 0.463 arcsec\n"
     ]
    },
    {
     "name": "stdout",
     "output_type": "stream",
     "text": [
      "jam_axi_proj(align='sph', moment='zz') -- elapsed time sec: 0.76\n",
      "analytic_los=0 logistic=0 constant_anisotropy=1\n",
      "No PSF/pixel convolution because sigmapsf=0 pixsize=0\n",
      "inc=52.2; beta[0]=0.0; kappa=1.00; M/L=1.00; BH=0.0; chi2/DOF=nan\n",
      "Total mass MGE (MSun): 1.168e+13\n",
      "\n",
      "sigma_e: 145.56 km/s\n",
      "theta_E: 0.417 arcsec\n"
     ]
    },
    {
     "name": "stdout",
     "output_type": "stream",
     "text": [
      "jam_axi_proj(align='sph', moment='zz') -- elapsed time sec: 0.78\n",
      "analytic_los=0 logistic=0 constant_anisotropy=1\n",
      "No PSF/pixel convolution because sigmapsf=0 pixsize=0\n",
      "inc=16.6; beta[0]=0.0; kappa=1.00; M/L=1.00; BH=0.0; chi2/DOF=nan\n",
      "Total mass MGE (MSun): 1.168e+13\n",
      "\n",
      "sigma_e: 135.33 km/s\n",
      "theta_E: 0.492 arcsec\n"
     ]
    },
    {
     "name": "stdout",
     "output_type": "stream",
     "text": [
      "jam_axi_proj(align='sph', moment='zz') -- elapsed time sec: 0.76\n",
      "analytic_los=0 logistic=0 constant_anisotropy=1\n",
      "No PSF/pixel convolution because sigmapsf=0 pixsize=0\n",
      "inc=67.4; beta[0]=0.0; kappa=1.00; M/L=1.00; BH=0.0; chi2/DOF=nan\n",
      "Total mass MGE (MSun): 1.168e+13\n",
      "\n",
      "sigma_e: 149.23 km/s\n",
      "theta_E: 0.422 arcsec\n"
     ]
    },
    {
     "name": "stdout",
     "output_type": "stream",
     "text": [
      "jam_axi_proj(align='sph', moment='zz') -- elapsed time sec: 0.77\n",
      "analytic_los=0 logistic=0 constant_anisotropy=1\n",
      "No PSF/pixel convolution because sigmapsf=0 pixsize=0\n",
      "inc=23.4; beta[0]=0.0; kappa=1.00; M/L=1.00; BH=0.0; chi2/DOF=nan\n",
      "Total mass MGE (MSun): 1.168e+13\n",
      "\n",
      "sigma_e: 136.86 km/s\n",
      "theta_E: 0.439 arcsec\n"
     ]
    },
    {
     "name": "stdout",
     "output_type": "stream",
     "text": [
      "jam_axi_proj(align='sph', moment='zz') -- elapsed time sec: 0.78\n",
      "analytic_los=0 logistic=0 constant_anisotropy=1\n",
      "No PSF/pixel convolution because sigmapsf=0 pixsize=0\n",
      "inc=37.6; beta[0]=0.0; kappa=1.00; M/L=1.00; BH=0.0; chi2/DOF=nan\n",
      "Total mass MGE (MSun): 1.168e+13\n",
      "\n",
      "sigma_e: 141.05 km/s\n",
      "theta_E: 0.486 arcsec\n"
     ]
    },
    {
     "name": "stdout",
     "output_type": "stream",
     "text": [
      "jam_axi_proj(align='sph', moment='zz') -- elapsed time sec: 0.76\n",
      "analytic_los=0 logistic=0 constant_anisotropy=1\n",
      "No PSF/pixel convolution because sigmapsf=0 pixsize=0\n",
      "inc=64.5; beta[0]=0.0; kappa=1.00; M/L=1.00; BH=0.0; chi2/DOF=nan\n",
      "Total mass MGE (MSun): 1.168e+13\n",
      "\n",
      "sigma_e: 148.64 km/s\n",
      "theta_E: 0.513 arcsec\n"
     ]
    },
    {
     "name": "stdout",
     "output_type": "stream",
     "text": [
      "jam_axi_proj(align='sph', moment='zz') -- elapsed time sec: 0.77\n",
      "analytic_los=0 logistic=0 constant_anisotropy=1\n",
      "No PSF/pixel convolution because sigmapsf=0 pixsize=0\n",
      "inc=82.3; beta[0]=0.0; kappa=1.00; M/L=1.00; BH=0.0; chi2/DOF=nan\n",
      "Total mass MGE (MSun): 1.168e+13\n",
      "\n",
      "sigma_e: 151.11 km/s\n"
     ]
    },
    {
     "name": "stdout",
     "output_type": "stream",
     "text": [
      "theta_E: 0.776 arcsec\n"
     ]
    },
    {
     "name": "stdout",
     "output_type": "stream",
     "text": [
      "jam_axi_proj(align='sph', moment='zz') -- elapsed time sec: 0.77\n",
      "analytic_los=0 logistic=0 constant_anisotropy=1\n",
      "No PSF/pixel convolution because sigmapsf=0 pixsize=0\n",
      "inc=82.8; beta[0]=0.0; kappa=1.00; M/L=1.00; BH=0.0; chi2/DOF=nan\n",
      "Total mass MGE (MSun): 2.384e+13\n",
      "\n",
      "sigma_e: 176.73 km/s\n",
      "theta_E: 0.787 arcsec\n"
     ]
    },
    {
     "name": "stdout",
     "output_type": "stream",
     "text": [
      "jam_axi_proj(align='sph', moment='zz') -- elapsed time sec: 0.80\n",
      "analytic_los=0 logistic=0 constant_anisotropy=1\n",
      "No PSF/pixel convolution because sigmapsf=0 pixsize=0\n",
      "inc=87.2; beta[0]=0.0; kappa=1.00; M/L=1.00; BH=0.0; chi2/DOF=nan\n",
      "Total mass MGE (MSun): 2.384e+13\n",
      "\n",
      "sigma_e: 177.03 km/s\n",
      "theta_E: 0.733 arcsec\n"
     ]
    },
    {
     "name": "stdout",
     "output_type": "stream",
     "text": [
      "jam_axi_proj(align='sph', moment='zz') -- elapsed time sec: 0.80\n",
      "analytic_los=0 logistic=0 constant_anisotropy=1\n",
      "No PSF/pixel convolution because sigmapsf=0 pixsize=0\n",
      "inc=73.5; beta[0]=0.0; kappa=1.00; M/L=1.00; BH=0.0; chi2/DOF=nan\n",
      "Total mass MGE (MSun): 2.384e+13\n",
      "\n",
      "sigma_e: 175.32 km/s\n",
      "theta_E: 0.563 arcsec\n"
     ]
    },
    {
     "name": "stdout",
     "output_type": "stream",
     "text": [
      "jam_axi_proj(align='sph', moment='zz') -- elapsed time sec: 0.85\n",
      "analytic_los=0 logistic=0 constant_anisotropy=1\n",
      "No PSF/pixel convolution because sigmapsf=0 pixsize=0\n",
      "inc=35.4; beta[0]=0.0; kappa=1.00; M/L=1.00; BH=0.0; chi2/DOF=nan\n",
      "Total mass MGE (MSun): 2.384e+13\n",
      "\n",
      "sigma_e: 154.97 km/s\n",
      "theta_E: 0.655 arcsec\n"
     ]
    },
    {
     "name": "stdout",
     "output_type": "stream",
     "text": [
      "jam_axi_proj(align='sph', moment='zz') -- elapsed time sec: 0.83\n",
      "analytic_los=0 logistic=0 constant_anisotropy=1\n",
      "No PSF/pixel convolution because sigmapsf=0 pixsize=0\n",
      "inc=59.5; beta[0]=0.0; kappa=1.00; M/L=1.00; BH=0.0; chi2/DOF=nan\n",
      "Total mass MGE (MSun): 2.384e+13\n",
      "\n",
      "sigma_e: 170.27 km/s\n",
      "theta_E: 0.669 arcsec\n"
     ]
    },
    {
     "name": "stdout",
     "output_type": "stream",
     "text": [
      "jam_axi_proj(align='sph', moment='zz') -- elapsed time sec: 0.86\n",
      "analytic_los=0 logistic=0 constant_anisotropy=1\n",
      "No PSF/pixel convolution because sigmapsf=0 pixsize=0\n",
      "inc=62.2; beta[0]=0.0; kappa=1.00; M/L=1.00; BH=0.0; chi2/DOF=nan\n",
      "Total mass MGE (MSun): 2.384e+13\n",
      "\n",
      "sigma_e: 171.49 km/s\n",
      "theta_E: 0.714 arcsec\n"
     ]
    },
    {
     "name": "stdout",
     "output_type": "stream",
     "text": [
      "jam_axi_proj(align='sph', moment='zz') -- elapsed time sec: 0.83\n",
      "analytic_los=0 logistic=0 constant_anisotropy=1\n",
      "No PSF/pixel convolution because sigmapsf=0 pixsize=0\n",
      "inc=70.2; beta[0]=0.0; kappa=1.00; M/L=1.00; BH=0.0; chi2/DOF=nan\n",
      "Total mass MGE (MSun): 2.384e+13\n",
      "\n",
      "sigma_e: 174.43 km/s\n",
      "theta_E: 0.787 arcsec\n"
     ]
    },
    {
     "name": "stdout",
     "output_type": "stream",
     "text": [
      "jam_axi_proj(align='sph', moment='zz') -- elapsed time sec: 0.81\n",
      "analytic_los=0 logistic=0 constant_anisotropy=1\n",
      "No PSF/pixel convolution because sigmapsf=0 pixsize=0\n",
      "inc=87.3; beta[0]=0.0; kappa=1.00; M/L=1.00; BH=0.0; chi2/DOF=nan\n",
      "Total mass MGE (MSun): 2.384e+13\n",
      "\n",
      "sigma_e: 177.03 km/s\n",
      "theta_E: 0.787 arcsec\n"
     ]
    },
    {
     "name": "stdout",
     "output_type": "stream",
     "text": [
      "jam_axi_proj(align='sph', moment='zz') -- elapsed time sec: 0.79\n",
      "analytic_los=0 logistic=0 constant_anisotropy=1\n",
      "No PSF/pixel convolution because sigmapsf=0 pixsize=0\n",
      "inc=87.4; beta[0]=0.0; kappa=1.00; M/L=1.00; BH=0.0; chi2/DOF=nan\n",
      "Total mass MGE (MSun): 2.384e+13\n",
      "\n",
      "sigma_e: 177.03 km/s\n",
      "theta_E: 0.542 arcsec\n"
     ]
    },
    {
     "name": "stdout",
     "output_type": "stream",
     "text": [
      "jam_axi_proj(align='sph', moment='zz') -- elapsed time sec: 0.81\n",
      "analytic_los=0 logistic=0 constant_anisotropy=1\n",
      "No PSF/pixel convolution because sigmapsf=0 pixsize=0\n",
      "inc=25.9; beta[0]=0.0; kappa=1.00; M/L=1.00; BH=0.0; chi2/DOF=nan\n",
      "Total mass MGE (MSun): 2.384e+13\n",
      "\n",
      "sigma_e: 148.49 km/s\n"
     ]
    },
    {
     "name": "stdout",
     "output_type": "stream",
     "text": [
      "theta_E: 0.459 arcsec\n"
     ]
    },
    {
     "name": "stdout",
     "output_type": "stream",
     "text": [
      "jam_axi_proj(align='sph', moment='zz') -- elapsed time sec: 0.77\n",
      "analytic_los=0 logistic=0 constant_anisotropy=1\n",
      "No PSF/pixel convolution because sigmapsf=0 pixsize=0\n",
      "inc=41.1; beta[0]=0.0; kappa=1.00; M/L=1.00; BH=0.0; chi2/DOF=nan\n",
      "Total mass MGE (MSun): 1.240e+13\n",
      "\n",
      "sigma_e: 144.69 km/s\n",
      "theta_E: 0.526 arcsec\n"
     ]
    },
    {
     "name": "stdout",
     "output_type": "stream",
     "text": [
      "jam_axi_proj(align='sph', moment='zz') -- elapsed time sec: 0.77\n",
      "analytic_los=0 logistic=0 constant_anisotropy=1\n",
      "No PSF/pixel convolution because sigmapsf=0 pixsize=0\n",
      "inc=81.0; beta[0]=0.0; kappa=1.00; M/L=1.00; BH=0.0; chi2/DOF=nan\n",
      "Total mass MGE (MSun): 1.240e+13\n",
      "\n",
      "sigma_e: 153.42 km/s\n",
      "theta_E: 0.473 arcsec\n"
     ]
    },
    {
     "name": "stdout",
     "output_type": "stream",
     "text": [
      "jam_axi_proj(align='sph', moment='zz') -- elapsed time sec: 0.76\n",
      "analytic_los=0 logistic=0 constant_anisotropy=1\n",
      "No PSF/pixel convolution because sigmapsf=0 pixsize=0\n",
      "inc=49.4; beta[0]=0.0; kappa=1.00; M/L=1.00; BH=0.0; chi2/DOF=nan\n",
      "Total mass MGE (MSun): 1.240e+13\n",
      "\n",
      "sigma_e: 147.22 km/s\n",
      "theta_E: 0.433 arcsec\n"
     ]
    },
    {
     "name": "stdout",
     "output_type": "stream",
     "text": [
      "jam_axi_proj(align='sph', moment='zz') -- elapsed time sec: 0.79\n",
      "analytic_los=0 logistic=0 constant_anisotropy=1\n",
      "No PSF/pixel convolution because sigmapsf=0 pixsize=0\n",
      "inc=18.7; beta[0]=0.0; kappa=1.00; M/L=1.00; BH=0.0; chi2/DOF=nan\n",
      "Total mass MGE (MSun): 1.240e+13\n",
      "\n",
      "sigma_e: 138.57 km/s\n",
      "theta_E: 0.516 arcsec\n"
     ]
    },
    {
     "name": "stdout",
     "output_type": "stream",
     "text": [
      "jam_axi_proj(align='sph', moment='zz') -- elapsed time sec: 0.75\n",
      "analytic_los=0 logistic=0 constant_anisotropy=1\n",
      "No PSF/pixel convolution because sigmapsf=0 pixsize=0\n",
      "inc=72.6; beta[0]=0.0; kappa=1.00; M/L=1.00; BH=0.0; chi2/DOF=nan\n",
      "Total mass MGE (MSun): 1.240e+13\n",
      "\n",
      "sigma_e: 152.51 km/s\n",
      "theta_E: 0.486 arcsec\n"
     ]
    },
    {
     "name": "stdout",
     "output_type": "stream",
     "text": [
      "jam_axi_proj(align='sph', moment='zz') -- elapsed time sec: 0.78\n",
      "analytic_los=0 logistic=0 constant_anisotropy=1\n",
      "No PSF/pixel convolution because sigmapsf=0 pixsize=0\n",
      "inc=56.6; beta[0]=0.0; kappa=1.00; M/L=1.00; BH=0.0; chi2/DOF=nan\n",
      "Total mass MGE (MSun): 1.240e+13\n",
      "\n",
      "sigma_e: 149.23 km/s\n",
      "theta_E: 0.455 arcsec\n"
     ]
    },
    {
     "name": "stdout",
     "output_type": "stream",
     "text": [
      "jam_axi_proj(align='sph', moment='zz') -- elapsed time sec: 0.78\n",
      "analytic_los=0 logistic=0 constant_anisotropy=1\n",
      "No PSF/pixel convolution because sigmapsf=0 pixsize=0\n",
      "inc=38.5; beta[0]=0.0; kappa=1.00; M/L=1.00; BH=0.0; chi2/DOF=nan\n",
      "Total mass MGE (MSun): 1.240e+13\n",
      "\n",
      "sigma_e: 143.89 km/s\n",
      "theta_E: 0.530 arcsec\n"
     ]
    },
    {
     "name": "stdout",
     "output_type": "stream",
     "text": [
      "jam_axi_proj(align='sph', moment='zz') -- elapsed time sec: 0.77\n",
      "analytic_los=0 logistic=0 constant_anisotropy=1\n",
      "No PSF/pixel convolution because sigmapsf=0 pixsize=0\n",
      "inc=86.5; beta[0]=0.0; kappa=1.00; M/L=1.00; BH=0.0; chi2/DOF=nan\n",
      "Total mass MGE (MSun): 1.240e+13\n",
      "\n",
      "sigma_e: 153.71 km/s\n",
      "theta_E: 0.451 arcsec\n"
     ]
    },
    {
     "name": "stdout",
     "output_type": "stream",
     "text": [
      "jam_axi_proj(align='sph', moment='zz') -- elapsed time sec: 0.78\n",
      "analytic_los=0 logistic=0 constant_anisotropy=1\n",
      "No PSF/pixel convolution because sigmapsf=0 pixsize=0\n",
      "inc=35.7; beta[0]=0.0; kappa=1.00; M/L=1.00; BH=0.0; chi2/DOF=nan\n",
      "Total mass MGE (MSun): 1.240e+13\n",
      "\n",
      "sigma_e: 143.05 km/s\n",
      "theta_E: 0.468 arcsec\n"
     ]
    },
    {
     "name": "stdout",
     "output_type": "stream",
     "text": [
      "jam_axi_proj(align='sph', moment='zz') -- elapsed time sec: 0.78\n",
      "analytic_los=0 logistic=0 constant_anisotropy=1\n",
      "No PSF/pixel convolution because sigmapsf=0 pixsize=0\n",
      "inc=46.5; beta[0]=0.0; kappa=1.00; M/L=1.00; BH=0.0; chi2/DOF=nan\n",
      "Total mass MGE (MSun): 1.240e+13\n",
      "\n",
      "sigma_e: 146.35 km/s\n"
     ]
    },
    {
     "name": "stdout",
     "output_type": "stream",
     "text": [
      "theta_E: 0.567 arcsec\n"
     ]
    },
    {
     "name": "stdout",
     "output_type": "stream",
     "text": [
      "jam_axi_proj(align='sph', moment='zz') -- elapsed time sec: 0.76\n",
      "analytic_los=0 logistic=0 constant_anisotropy=1\n",
      "No PSF/pixel convolution because sigmapsf=0 pixsize=0\n",
      "inc=74.6; beta[0]=0.0; kappa=1.00; M/L=1.00; BH=0.0; chi2/DOF=nan\n",
      "Total mass MGE (MSun): 1.442e+13\n",
      "\n",
      "sigma_e: 157.25 km/s\n",
      "theta_E: 0.463 arcsec\n"
     ]
    },
    {
     "name": "stdout",
     "output_type": "stream",
     "text": [
      "jam_axi_proj(align='sph', moment='zz') -- elapsed time sec: 0.79\n",
      "analytic_los=0 logistic=0 constant_anisotropy=1\n",
      "No PSF/pixel convolution because sigmapsf=0 pixsize=0\n",
      "inc=33.0; beta[0]=0.0; kappa=1.00; M/L=1.00; BH=0.0; chi2/DOF=nan\n",
      "Total mass MGE (MSun): 1.442e+13\n",
      "\n",
      "sigma_e: 142.66 km/s\n",
      "theta_E: 0.493 arcsec\n"
     ]
    },
    {
     "name": "stdout",
     "output_type": "stream",
     "text": [
      "jam_axi_proj(align='sph', moment='zz') -- elapsed time sec: 0.77\n",
      "analytic_los=0 logistic=0 constant_anisotropy=1\n",
      "No PSF/pixel convolution because sigmapsf=0 pixsize=0\n",
      "inc=47.8; beta[0]=0.0; kappa=1.00; M/L=1.00; BH=0.0; chi2/DOF=nan\n",
      "Total mass MGE (MSun): 1.442e+13\n",
      "\n",
      "sigma_e: 149.14 km/s\n",
      "theta_E: 0.527 arcsec\n"
     ]
    },
    {
     "name": "stdout",
     "output_type": "stream",
     "text": [
      "jam_axi_proj(align='sph', moment='zz') -- elapsed time sec: 0.79\n",
      "analytic_los=0 logistic=0 constant_anisotropy=1\n",
      "No PSF/pixel convolution because sigmapsf=0 pixsize=0\n",
      "inc=60.3; beta[0]=0.0; kappa=1.00; M/L=1.00; BH=0.0; chi2/DOF=nan\n",
      "Total mass MGE (MSun): 1.442e+13\n",
      "\n",
      "sigma_e: 153.81 km/s\n",
      "theta_E: 0.580 arcsec\n"
     ]
    },
    {
     "name": "stdout",
     "output_type": "stream",
     "text": [
      "jam_axi_proj(align='sph', moment='zz') -- elapsed time sec: 0.77\n",
      "analytic_los=0 logistic=0 constant_anisotropy=1\n",
      "No PSF/pixel convolution because sigmapsf=0 pixsize=0\n",
      "inc=80.5; beta[0]=0.0; kappa=1.00; M/L=1.00; BH=0.0; chi2/DOF=nan\n",
      "Total mass MGE (MSun): 1.442e+13\n",
      "\n",
      "sigma_e: 158.02 km/s\n",
      "theta_E: 0.438 arcsec\n"
     ]
    },
    {
     "name": "stdout",
     "output_type": "stream",
     "text": [
      "jam_axi_proj(align='sph', moment='zz') -- elapsed time sec: 0.79\n",
      "analytic_los=0 logistic=0 constant_anisotropy=1\n",
      "No PSF/pixel convolution because sigmapsf=0 pixsize=0\n",
      "inc=6.76; beta[0]=0.0; kappa=1.00; M/L=1.00; BH=0.0; chi2/DOF=nan\n",
      "Total mass MGE (MSun): 1.442e+13\n",
      "\n",
      "sigma_e: 134.58 km/s\n",
      "theta_E: 0.588 arcsec\n"
     ]
    },
    {
     "name": "stdout",
     "output_type": "stream",
     "text": [
      "jam_axi_proj(align='sph', moment='zz') -- elapsed time sec: 0.77\n",
      "analytic_los=0 logistic=0 constant_anisotropy=1\n",
      "No PSF/pixel convolution because sigmapsf=0 pixsize=0\n",
      "inc=87.4; beta[0]=0.0; kappa=1.00; M/L=1.00; BH=0.0; chi2/DOF=nan\n",
      "Total mass MGE (MSun): 1.442e+13\n",
      "\n",
      "sigma_e: 158.45 km/s\n",
      "theta_E: 0.467 arcsec\n"
     ]
    },
    {
     "name": "stdout",
     "output_type": "stream",
     "text": [
      "jam_axi_proj(align='sph', moment='zz') -- elapsed time sec: 0.80\n",
      "analytic_los=0 logistic=0 constant_anisotropy=1\n",
      "No PSF/pixel convolution because sigmapsf=0 pixsize=0\n",
      "inc=35.2; beta[0]=0.0; kappa=1.00; M/L=1.00; BH=0.0; chi2/DOF=nan\n",
      "Total mass MGE (MSun): 1.442e+13\n",
      "\n",
      "sigma_e: 143.65 km/s\n",
      "theta_E: 0.555 arcsec\n"
     ]
    },
    {
     "name": "stdout",
     "output_type": "stream",
     "text": [
      "jam_axi_proj(align='sph', moment='zz') -- elapsed time sec: 0.81\n",
      "analytic_los=0 logistic=0 constant_anisotropy=1\n",
      "No PSF/pixel convolution because sigmapsf=0 pixsize=0\n",
      "inc=70.1; beta[0]=0.0; kappa=1.00; M/L=1.00; BH=0.0; chi2/DOF=nan\n",
      "Total mass MGE (MSun): 1.442e+13\n",
      "\n",
      "sigma_e: 156.42 km/s\n",
      "theta_E: 0.446 arcsec\n"
     ]
    },
    {
     "name": "stdout",
     "output_type": "stream",
     "text": [
      "jam_axi_proj(align='sph', moment='zz') -- elapsed time sec: 0.78\n",
      "analytic_los=0 logistic=0 constant_anisotropy=1\n",
      "No PSF/pixel convolution because sigmapsf=0 pixsize=0\n",
      "inc=19.5; beta[0]=0.0; kappa=1.00; M/L=1.00; BH=0.0; chi2/DOF=nan\n",
      "Total mass MGE (MSun): 1.442e+13\n",
      "\n",
      "sigma_e: 137.47 km/s\n"
     ]
    },
    {
     "name": "stdout",
     "output_type": "stream",
     "text": [
      "theta_E: 0.317 arcsec\n"
     ]
    },
    {
     "name": "stdout",
     "output_type": "stream",
     "text": [
      "jam_axi_proj(align='sph', moment='zz') -- elapsed time sec: 0.79\n",
      "analytic_los=0 logistic=0 constant_anisotropy=1\n",
      "No PSF/pixel convolution because sigmapsf=0 pixsize=0\n",
      "inc=36.5; beta[0]=0.0; kappa=1.00; M/L=1.00; BH=0.0; chi2/DOF=nan\n",
      "Total mass MGE (MSun): 7.410e+12\n",
      "\n",
      "sigma_e: 118.62 km/s\n",
      "theta_E: 0.328 arcsec\n"
     ]
    },
    {
     "name": "stdout",
     "output_type": "stream",
     "text": [
      "jam_axi_proj(align='sph', moment='zz') -- elapsed time sec: 0.82\n",
      "analytic_los=0 logistic=0 constant_anisotropy=1\n",
      "No PSF/pixel convolution because sigmapsf=0 pixsize=0\n",
      "inc=43.4; beta[0]=0.0; kappa=1.00; M/L=1.00; BH=0.0; chi2/DOF=nan\n",
      "Total mass MGE (MSun): 7.410e+12\n",
      "\n",
      "sigma_e: 121.74 km/s\n",
      "theta_E: 0.410 arcsec\n"
     ]
    },
    {
     "name": "stdout",
     "output_type": "stream",
     "text": [
      "jam_axi_proj(align='sph', moment='zz') -- elapsed time sec: 0.79\n",
      "analytic_los=0 logistic=0 constant_anisotropy=1\n",
      "No PSF/pixel convolution because sigmapsf=0 pixsize=0\n",
      "inc=75.3; beta[0]=0.0; kappa=1.00; M/L=1.00; BH=0.0; chi2/DOF=nan\n",
      "Total mass MGE (MSun): 7.410e+12\n",
      "\n",
      "sigma_e: 131.72 km/s\n",
      "theta_E: 0.324 arcsec\n"
     ]
    },
    {
     "name": "stdout",
     "output_type": "stream",
     "text": [
      "jam_axi_proj(align='sph', moment='zz') -- elapsed time sec: 0.82\n",
      "analytic_los=0 logistic=0 constant_anisotropy=1\n",
      "No PSF/pixel convolution because sigmapsf=0 pixsize=0\n",
      "inc=40.7; beta[0]=0.0; kappa=1.00; M/L=1.00; BH=0.0; chi2/DOF=nan\n",
      "Total mass MGE (MSun): 7.410e+12\n",
      "\n",
      "sigma_e: 120.51 km/s\n",
      "theta_E: 0.364 arcsec\n"
     ]
    },
    {
     "name": "stdout",
     "output_type": "stream",
     "text": [
      "jam_axi_proj(align='sph', moment='zz') -- elapsed time sec: 0.80\n",
      "analytic_los=0 logistic=0 constant_anisotropy=1\n",
      "No PSF/pixel convolution because sigmapsf=0 pixsize=0\n",
      "inc=59.0; beta[0]=0.0; kappa=1.00; M/L=1.00; BH=0.0; chi2/DOF=nan\n",
      "Total mass MGE (MSun): 7.410e+12\n",
      "\n",
      "sigma_e: 127.83 km/s\n",
      "theta_E: 0.337 arcsec\n"
     ]
    },
    {
     "name": "stdout",
     "output_type": "stream",
     "text": [
      "jam_axi_proj(align='sph', moment='zz') -- elapsed time sec: 0.83\n",
      "analytic_los=0 logistic=0 constant_anisotropy=1\n",
      "No PSF/pixel convolution because sigmapsf=0 pixsize=0\n",
      "inc=47.7; beta[0]=0.0; kappa=1.00; M/L=1.00; BH=0.0; chi2/DOF=nan\n",
      "Total mass MGE (MSun): 7.410e+12\n",
      "\n",
      "sigma_e: 123.58 km/s\n",
      "theta_E: 0.421 arcsec\n"
     ]
    },
    {
     "name": "stdout",
     "output_type": "stream",
     "text": [
      "jam_axi_proj(align='sph', moment='zz') -- elapsed time sec: 0.79\n",
      "analytic_los=0 logistic=0 constant_anisotropy=1\n",
      "No PSF/pixel convolution because sigmapsf=0 pixsize=0\n",
      "inc=79.4; beta[0]=0.0; kappa=1.00; M/L=1.00; BH=0.0; chi2/DOF=nan\n",
      "Total mass MGE (MSun): 7.410e+12\n",
      "\n",
      "sigma_e: 132.25 km/s\n",
      "theta_E: 0.359 arcsec\n"
     ]
    },
    {
     "name": "stdout",
     "output_type": "stream",
     "text": [
      "jam_axi_proj(align='sph', moment='zz') -- elapsed time sec: 0.83\n",
      "analytic_los=0 logistic=0 constant_anisotropy=1\n",
      "No PSF/pixel convolution because sigmapsf=0 pixsize=0\n",
      "inc=57.2; beta[0]=0.0; kappa=1.00; M/L=1.00; BH=0.0; chi2/DOF=nan\n",
      "Total mass MGE (MSun): 7.410e+12\n",
      "\n",
      "sigma_e: 127.22 km/s\n",
      "theta_E: 0.413 arcsec\n"
     ]
    },
    {
     "name": "stdout",
     "output_type": "stream",
     "text": [
      "jam_axi_proj(align='sph', moment='zz') -- elapsed time sec: 0.79\n",
      "analytic_los=0 logistic=0 constant_anisotropy=1\n",
      "No PSF/pixel convolution because sigmapsf=0 pixsize=0\n",
      "inc=76.1; beta[0]=0.0; kappa=1.00; M/L=1.00; BH=0.0; chi2/DOF=nan\n",
      "Total mass MGE (MSun): 7.410e+12\n",
      "\n",
      "sigma_e: 131.84 km/s\n",
      "theta_E: 0.423 arcsec\n"
     ]
    },
    {
     "name": "stdout",
     "output_type": "stream",
     "text": [
      "jam_axi_proj(align='sph', moment='zz') -- elapsed time sec: 0.81\n",
      "analytic_los=0 logistic=0 constant_anisotropy=1\n",
      "No PSF/pixel convolution because sigmapsf=0 pixsize=0\n",
      "inc=80.3; beta[0]=0.0; kappa=1.00; M/L=1.00; BH=0.0; chi2/DOF=nan\n",
      "Total mass MGE (MSun): 7.410e+12\n",
      "\n",
      "sigma_e: 132.34 km/s\n"
     ]
    },
    {
     "name": "stdout",
     "output_type": "stream",
     "text": [
      "theta_E: 0.560 arcsec\n"
     ]
    },
    {
     "name": "stdout",
     "output_type": "stream",
     "text": [
      "jam_axi_proj(align='sph', moment='zz') -- elapsed time sec: 0.78\n",
      "analytic_los=0 logistic=0 constant_anisotropy=1\n",
      "No PSF/pixel convolution because sigmapsf=0 pixsize=0\n",
      "inc=48.4; beta[0]=0.0; kappa=1.00; M/L=1.00; BH=0.0; chi2/DOF=nan\n",
      "Total mass MGE (MSun): 1.946e+13\n",
      "\n",
      "sigma_e: 157.98 km/s\n",
      "theta_E: 0.666 arcsec\n"
     ]
    },
    {
     "name": "stdout",
     "output_type": "stream",
     "text": [
      "jam_axi_proj(align='sph', moment='zz') -- elapsed time sec: 0.80\n",
      "analytic_los=0 logistic=0 constant_anisotropy=1\n",
      "No PSF/pixel convolution because sigmapsf=0 pixsize=0\n",
      "inc=75.0; beta[0]=0.0; kappa=1.00; M/L=1.00; BH=0.0; chi2/DOF=nan\n",
      "Total mass MGE (MSun): 1.946e+13\n",
      "\n",
      "sigma_e: 167.93 km/s\n",
      "theta_E: 0.697 arcsec\n"
     ]
    },
    {
     "name": "stdout",
     "output_type": "stream",
     "text": [
      "jam_axi_proj(align='sph', moment='zz') -- elapsed time sec: 0.78\n",
      "analytic_los=0 logistic=0 constant_anisotropy=1\n",
      "No PSF/pixel convolution because sigmapsf=0 pixsize=0\n",
      "inc=86.4; beta[0]=0.0; kappa=1.00; M/L=1.00; BH=0.0; chi2/DOF=nan\n",
      "Total mass MGE (MSun): 1.946e+13\n",
      "\n",
      "sigma_e: 169.18 km/s\n",
      "theta_E: 0.581 arcsec\n"
     ]
    },
    {
     "name": "stdout",
     "output_type": "stream",
     "text": [
      "jam_axi_proj(align='sph', moment='zz') -- elapsed time sec: 0.86\n",
      "analytic_los=0 logistic=0 constant_anisotropy=1\n",
      "No PSF/pixel convolution because sigmapsf=0 pixsize=0\n",
      "inc=54.4; beta[0]=0.0; kappa=1.00; M/L=1.00; BH=0.0; chi2/DOF=nan\n",
      "Total mass MGE (MSun): 1.946e+13\n",
      "\n",
      "sigma_e: 161.06 km/s\n",
      "theta_E: 0.678 arcsec\n"
     ]
    },
    {
     "name": "stdout",
     "output_type": "stream",
     "text": [
      "jam_axi_proj(align='sph', moment='zz') -- elapsed time sec: 0.83\n",
      "analytic_los=0 logistic=0 constant_anisotropy=1\n",
      "No PSF/pixel convolution because sigmapsf=0 pixsize=0\n",
      "inc=78.6; beta[0]=0.0; kappa=1.00; M/L=1.00; BH=0.0; chi2/DOF=nan\n",
      "Total mass MGE (MSun): 1.946e+13\n",
      "\n",
      "sigma_e: 168.54 km/s\n",
      "theta_E: 0.523 arcsec\n"
     ]
    },
    {
     "name": "stdout",
     "output_type": "stream",
     "text": [
      "jam_axi_proj(align='sph', moment='zz') -- elapsed time sec: 0.80\n",
      "analytic_los=0 logistic=0 constant_anisotropy=1\n",
      "No PSF/pixel convolution because sigmapsf=0 pixsize=0\n",
      "inc=34.9; beta[0]=0.0; kappa=1.00; M/L=1.00; BH=0.0; chi2/DOF=nan\n",
      "Total mass MGE (MSun): 1.946e+13\n",
      "\n",
      "sigma_e: 150.29 km/s\n",
      "theta_E: 0.572 arcsec\n"
     ]
    },
    {
     "name": "stdout",
     "output_type": "stream",
     "text": [
      "jam_axi_proj(align='sph', moment='zz') -- elapsed time sec: 0.79\n",
      "analytic_los=0 logistic=0 constant_anisotropy=1\n",
      "No PSF/pixel convolution because sigmapsf=0 pixsize=0\n",
      "inc=51.9; beta[0]=0.0; kappa=1.00; M/L=1.00; BH=0.0; chi2/DOF=nan\n",
      "Total mass MGE (MSun): 1.946e+13\n",
      "\n",
      "sigma_e: 159.80 km/s\n",
      "theta_E: 0.593 arcsec\n"
     ]
    },
    {
     "name": "stdout",
     "output_type": "stream",
     "text": [
      "jam_axi_proj(align='sph', moment='zz') -- elapsed time sec: 0.81\n",
      "analytic_los=0 logistic=0 constant_anisotropy=1\n",
      "No PSF/pixel convolution because sigmapsf=0 pixsize=0\n",
      "inc=57.5; beta[0]=0.0; kappa=1.00; M/L=1.00; BH=0.0; chi2/DOF=nan\n",
      "Total mass MGE (MSun): 1.946e+13\n",
      "\n",
      "sigma_e: 162.45 km/s\n",
      "theta_E: 0.671 arcsec\n"
     ]
    },
    {
     "name": "stdout",
     "output_type": "stream",
     "text": [
      "jam_axi_proj(align='sph', moment='zz') -- elapsed time sec: 0.79\n",
      "analytic_los=0 logistic=0 constant_anisotropy=1\n",
      "No PSF/pixel convolution because sigmapsf=0 pixsize=0\n",
      "inc=76.4; beta[0]=0.0; kappa=1.00; M/L=1.00; BH=0.0; chi2/DOF=nan\n",
      "Total mass MGE (MSun): 1.946e+13\n",
      "\n",
      "sigma_e: 168.18 km/s\n",
      "theta_E: 0.507 arcsec\n"
     ]
    },
    {
     "name": "stdout",
     "output_type": "stream",
     "text": [
      "jam_axi_proj(align='sph', moment='zz') -- elapsed time sec: 0.80\n",
      "analytic_los=0 logistic=0 constant_anisotropy=1\n",
      "No PSF/pixel convolution because sigmapsf=0 pixsize=0\n",
      "inc=26.0; beta[0]=0.0; kappa=1.00; M/L=1.00; BH=0.0; chi2/DOF=nan\n",
      "Total mass MGE (MSun): 1.946e+13\n",
      "\n",
      "sigma_e: 145.38 km/s\n"
     ]
    },
    {
     "name": "stdout",
     "output_type": "stream",
     "text": [
      "theta_E: 0.575 arcsec\n"
     ]
    },
    {
     "name": "stdout",
     "output_type": "stream",
     "text": [
      "jam_axi_proj(align='sph', moment='zz') -- elapsed time sec: 0.77\n",
      "analytic_los=0 logistic=0 constant_anisotropy=1\n",
      "No PSF/pixel convolution because sigmapsf=0 pixsize=0\n",
      "inc=61.5; beta[0]=0.0; kappa=1.00; M/L=1.00; BH=0.0; chi2/DOF=nan\n",
      "Total mass MGE (MSun): 1.676e+13\n",
      "\n",
      "sigma_e: 161.26 km/s\n",
      "theta_E: 0.617 arcsec\n"
     ]
    },
    {
     "name": "stdout",
     "output_type": "stream",
     "text": [
      "jam_axi_proj(align='sph', moment='zz') -- elapsed time sec: 0.78\n",
      "analytic_los=0 logistic=0 constant_anisotropy=1\n",
      "No PSF/pixel convolution because sigmapsf=0 pixsize=0\n",
      "inc=79.4; beta[0]=0.0; kappa=1.00; M/L=1.00; BH=0.0; chi2/DOF=nan\n",
      "Total mass MGE (MSun): 1.676e+13\n",
      "\n",
      "sigma_e: 164.76 km/s\n",
      "theta_E: 0.522 arcsec\n"
     ]
    },
    {
     "name": "stdout",
     "output_type": "stream",
     "text": [
      "jam_axi_proj(align='sph', moment='zz') -- elapsed time sec: 0.77\n",
      "analytic_los=0 logistic=0 constant_anisotropy=1\n",
      "No PSF/pixel convolution because sigmapsf=0 pixsize=0\n",
      "inc=39.3; beta[0]=0.0; kappa=1.00; M/L=1.00; BH=0.0; chi2/DOF=nan\n",
      "Total mass MGE (MSun): 1.676e+13\n",
      "\n",
      "sigma_e: 153.34 km/s\n",
      "theta_E: 0.517 arcsec\n"
     ]
    },
    {
     "name": "stdout",
     "output_type": "stream",
     "text": [
      "jam_axi_proj(align='sph', moment='zz') -- elapsed time sec: 0.79\n",
      "analytic_los=0 logistic=0 constant_anisotropy=1\n",
      "No PSF/pixel convolution because sigmapsf=0 pixsize=0\n",
      "inc=36.9; beta[0]=0.0; kappa=1.00; M/L=1.00; BH=0.0; chi2/DOF=nan\n",
      "Total mass MGE (MSun): 1.676e+13\n",
      "\n",
      "sigma_e: 152.41 km/s\n",
      "theta_E: 0.602 arcsec\n"
     ]
    },
    {
     "name": "stdout",
     "output_type": "stream",
     "text": [
      "jam_axi_proj(align='sph', moment='zz') -- elapsed time sec: 0.77\n",
      "analytic_los=0 logistic=0 constant_anisotropy=1\n",
      "No PSF/pixel convolution because sigmapsf=0 pixsize=0\n",
      "inc=72.1; beta[0]=0.0; kappa=1.00; M/L=1.00; BH=0.0; chi2/DOF=nan\n",
      "Total mass MGE (MSun): 1.676e+13\n",
      "\n",
      "sigma_e: 163.72 km/s\n",
      "theta_E: 0.546 arcsec\n"
     ]
    },
    {
     "name": "stdout",
     "output_type": "stream",
     "text": [
      "jam_axi_proj(align='sph', moment='zz') -- elapsed time sec: 0.78\n",
      "analytic_los=0 logistic=0 constant_anisotropy=1\n",
      "No PSF/pixel convolution because sigmapsf=0 pixsize=0\n",
      "inc=50.3; beta[0]=0.0; kappa=1.00; M/L=1.00; BH=0.0; chi2/DOF=nan\n",
      "Total mass MGE (MSun): 1.676e+13\n",
      "\n",
      "sigma_e: 157.61 km/s\n",
      "theta_E: 0.582 arcsec\n"
     ]
    },
    {
     "name": "stdout",
     "output_type": "stream",
     "text": [
      "jam_axi_proj(align='sph', moment='zz') -- elapsed time sec: 0.77\n",
      "analytic_los=0 logistic=0 constant_anisotropy=1\n",
      "No PSF/pixel convolution because sigmapsf=0 pixsize=0\n",
      "inc=64.1; beta[0]=0.0; kappa=1.00; M/L=1.00; BH=0.0; chi2/DOF=nan\n",
      "Total mass MGE (MSun): 1.676e+13\n",
      "\n",
      "sigma_e: 161.97 km/s\n",
      "theta_E: 0.494 arcsec\n"
     ]
    },
    {
     "name": "stdout",
     "output_type": "stream",
     "text": [
      "jam_axi_proj(align='sph', moment='zz') -- elapsed time sec: 0.80\n",
      "analytic_los=0 logistic=0 constant_anisotropy=1\n",
      "No PSF/pixel convolution because sigmapsf=0 pixsize=0\n",
      "inc=20.2; beta[0]=0.0; kappa=1.00; M/L=1.00; BH=0.0; chi2/DOF=nan\n",
      "Total mass MGE (MSun): 1.676e+13\n",
      "\n",
      "sigma_e: 146.49 km/s\n",
      "theta_E: 0.573 arcsec\n"
     ]
    },
    {
     "name": "stdout",
     "output_type": "stream",
     "text": [
      "jam_axi_proj(align='sph', moment='zz') -- elapsed time sec: 0.77\n",
      "analytic_los=0 logistic=0 constant_anisotropy=1\n",
      "No PSF/pixel convolution because sigmapsf=0 pixsize=0\n",
      "inc=60.6; beta[0]=0.0; kappa=1.00; M/L=1.00; BH=0.0; chi2/DOF=nan\n",
      "Total mass MGE (MSun): 1.676e+13\n",
      "\n",
      "sigma_e: 161.00 km/s\n",
      "theta_E: 0.531 arcsec\n"
     ]
    },
    {
     "name": "stdout",
     "output_type": "stream",
     "text": [
      "jam_axi_proj(align='sph', moment='zz') -- elapsed time sec: 0.78\n",
      "analytic_los=0 logistic=0 constant_anisotropy=1\n",
      "No PSF/pixel convolution because sigmapsf=0 pixsize=0\n",
      "inc=43.8; beta[0]=0.0; kappa=1.00; M/L=1.00; BH=0.0; chi2/DOF=nan\n",
      "Total mass MGE (MSun): 1.676e+13\n",
      "\n",
      "sigma_e: 155.12 km/s\n"
     ]
    },
    {
     "name": "stdout",
     "output_type": "stream",
     "text": [
      "theta_E: 0.424 arcsec\n"
     ]
    },
    {
     "name": "stdout",
     "output_type": "stream",
     "text": [
      "jam_axi_proj(align='sph', moment='zz') -- elapsed time sec: 0.72\n",
      "analytic_los=0 logistic=0 constant_anisotropy=1\n",
      "No PSF/pixel convolution because sigmapsf=0 pixsize=0\n",
      "inc=56.2; beta[0]=0.0; kappa=1.00; M/L=1.00; BH=0.0; chi2/DOF=nan\n",
      "Total mass MGE (MSun): 9.337e+12\n",
      "\n",
      "sigma_e: 139.62 km/s\n",
      "theta_E: 0.409 arcsec\n"
     ]
    },
    {
     "name": "stdout",
     "output_type": "stream",
     "text": [
      "jam_axi_proj(align='sph', moment='zz') -- elapsed time sec: 0.74\n",
      "analytic_los=0 logistic=0 constant_anisotropy=1\n",
      "No PSF/pixel convolution because sigmapsf=0 pixsize=0\n",
      "inc=44.6; beta[0]=0.0; kappa=1.00; M/L=1.00; BH=0.0; chi2/DOF=nan\n",
      "Total mass MGE (MSun): 9.337e+12\n",
      "\n",
      "sigma_e: 137.16 km/s\n",
      "theta_E: 0.430 arcsec\n"
     ]
    },
    {
     "name": "stdout",
     "output_type": "stream",
     "text": [
      "jam_axi_proj(align='sph', moment='zz') -- elapsed time sec: 0.73\n",
      "analytic_los=0 logistic=0 constant_anisotropy=1\n",
      "No PSF/pixel convolution because sigmapsf=0 pixsize=0\n",
      "inc=60.9; beta[0]=0.0; kappa=1.00; M/L=1.00; BH=0.0; chi2/DOF=nan\n",
      "Total mass MGE (MSun): 9.337e+12\n",
      "\n",
      "sigma_e: 140.50 km/s\n",
      "theta_E: 0.401 arcsec\n"
     ]
    },
    {
     "name": "stdout",
     "output_type": "stream",
     "text": [
      "jam_axi_proj(align='sph', moment='zz') -- elapsed time sec: 0.75\n",
      "analytic_los=0 logistic=0 constant_anisotropy=1\n",
      "No PSF/pixel convolution because sigmapsf=0 pixsize=0\n",
      "inc=37.2; beta[0]=0.0; kappa=1.00; M/L=1.00; BH=0.0; chi2/DOF=nan\n",
      "Total mass MGE (MSun): 9.337e+12\n",
      "\n",
      "sigma_e: 135.50 km/s\n",
      "theta_E: 0.451 arcsec\n"
     ]
    },
    {
     "name": "stdout",
     "output_type": "stream",
     "text": [
      "jam_axi_proj(align='sph', moment='zz') -- elapsed time sec: 0.73\n",
      "analytic_los=0 logistic=0 constant_anisotropy=1\n",
      "No PSF/pixel convolution because sigmapsf=0 pixsize=0\n",
      "inc=82.8; beta[0]=0.0; kappa=1.00; M/L=1.00; BH=0.0; chi2/DOF=nan\n",
      "Total mass MGE (MSun): 9.337e+12\n",
      "\n",
      "sigma_e: 142.98 km/s\n",
      "theta_E: 0.381 arcsec\n"
     ]
    },
    {
     "name": "stdout",
     "output_type": "stream",
     "text": [
      "jam_axi_proj(align='sph', moment='zz') -- elapsed time sec: 0.76\n",
      "analytic_los=0 logistic=0 constant_anisotropy=1\n",
      "No PSF/pixel convolution because sigmapsf=0 pixsize=0\n",
      "inc=4.42; beta[0]=0.0; kappa=1.00; M/L=1.00; BH=0.0; chi2/DOF=nan\n",
      "Total mass MGE (MSun): 9.337e+12\n",
      "\n",
      "sigma_e: 130.41 km/s\n",
      "theta_E: 0.433 arcsec\n"
     ]
    },
    {
     "name": "stdout",
     "output_type": "stream",
     "text": [
      "jam_axi_proj(align='sph', moment='zz') -- elapsed time sec: 0.73\n",
      "analytic_los=0 logistic=0 constant_anisotropy=1\n",
      "No PSF/pixel convolution because sigmapsf=0 pixsize=0\n",
      "inc=63.9; beta[0]=0.0; kappa=1.00; M/L=1.00; BH=0.0; chi2/DOF=nan\n",
      "Total mass MGE (MSun): 9.337e+12\n",
      "\n",
      "sigma_e: 140.99 km/s\n",
      "theta_E: 0.449 arcsec\n"
     ]
    },
    {
     "name": "stdout",
     "output_type": "stream",
     "text": [
      "jam_axi_proj(align='sph', moment='zz') -- elapsed time sec: 0.74\n",
      "analytic_los=0 logistic=0 constant_anisotropy=1\n",
      "No PSF/pixel convolution because sigmapsf=0 pixsize=0\n",
      "inc=79.5; beta[0]=0.0; kappa=1.00; M/L=1.00; BH=0.0; chi2/DOF=nan\n",
      "Total mass MGE (MSun): 9.337e+12\n",
      "\n",
      "sigma_e: 142.80 km/s\n",
      "theta_E: 0.453 arcsec\n"
     ]
    },
    {
     "name": "stdout",
     "output_type": "stream",
     "text": [
      "jam_axi_proj(align='sph', moment='zz') -- elapsed time sec: 0.73\n",
      "analytic_los=0 logistic=0 constant_anisotropy=1\n",
      "No PSF/pixel convolution because sigmapsf=0 pixsize=0\n",
      "inc=89.9; beta[0]=0.0; kappa=1.00; M/L=1.00; BH=0.0; chi2/DOF=nan\n",
      "Total mass MGE (MSun): 9.337e+12\n",
      "\n",
      "sigma_e: 143.16 km/s\n",
      "theta_E: 0.433 arcsec\n"
     ]
    },
    {
     "name": "stdout",
     "output_type": "stream",
     "text": [
      "jam_axi_proj(align='sph', moment='zz') -- elapsed time sec: 0.74\n",
      "analytic_los=0 logistic=0 constant_anisotropy=1\n",
      "No PSF/pixel convolution because sigmapsf=0 pixsize=0\n",
      "inc=63.8; beta[0]=0.0; kappa=1.00; M/L=1.00; BH=0.0; chi2/DOF=nan\n",
      "Total mass MGE (MSun): 9.337e+12\n",
      "\n",
      "sigma_e: 140.98 km/s\n"
     ]
    },
    {
     "name": "stdout",
     "output_type": "stream",
     "text": [
      "theta_E: 0.397 arcsec\n"
     ]
    },
    {
     "name": "stdout",
     "output_type": "stream",
     "text": [
      "jam_axi_proj(align='sph', moment='zz') -- elapsed time sec: 0.79\n",
      "analytic_los=0 logistic=0 constant_anisotropy=1\n",
      "No PSF/pixel convolution because sigmapsf=0 pixsize=0\n",
      "inc=76.2; beta[0]=0.0; kappa=1.00; M/L=1.00; BH=0.0; chi2/DOF=nan\n",
      "Total mass MGE (MSun): 6.786e+12\n",
      "\n",
      "sigma_e: 127.25 km/s\n",
      "theta_E: 0.263 arcsec\n"
     ]
    },
    {
     "name": "stdout",
     "output_type": "stream",
     "text": [
      "jam_axi_proj(align='sph', moment='zz') -- elapsed time sec: 0.81\n",
      "analytic_los=0 logistic=0 constant_anisotropy=1\n",
      "No PSF/pixel convolution because sigmapsf=0 pixsize=0\n",
      "inc=2.99; beta[0]=0.0; kappa=1.00; M/L=1.00; BH=0.0; chi2/DOF=nan\n",
      "Total mass MGE (MSun): 6.786e+12\n",
      "\n",
      "sigma_e: 98.89 km/s\n",
      "theta_E: 0.319 arcsec\n"
     ]
    },
    {
     "name": "stdout",
     "output_type": "stream",
     "text": [
      "jam_axi_proj(align='sph', moment='zz') -- elapsed time sec: 0.79\n",
      "analytic_los=0 logistic=0 constant_anisotropy=1\n",
      "No PSF/pixel convolution because sigmapsf=0 pixsize=0\n",
      "inc=52.4; beta[0]=0.0; kappa=1.00; M/L=1.00; BH=0.0; chi2/DOF=nan\n",
      "Total mass MGE (MSun): 6.786e+12\n",
      "\n",
      "sigma_e: 119.82 km/s\n",
      "theta_E: 0.297 arcsec\n"
     ]
    },
    {
     "name": "stdout",
     "output_type": "stream",
     "text": [
      "jam_axi_proj(align='sph', moment='zz') -- elapsed time sec: 0.82\n",
      "analytic_los=0 logistic=0 constant_anisotropy=1\n",
      "No PSF/pixel convolution because sigmapsf=0 pixsize=0\n",
      "inc=41.9; beta[0]=0.0; kappa=1.00; M/L=1.00; BH=0.0; chi2/DOF=nan\n",
      "Total mass MGE (MSun): 6.786e+12\n",
      "\n",
      "sigma_e: 114.61 km/s\n",
      "theta_E: 0.379 arcsec\n"
     ]
    },
    {
     "name": "stdout",
     "output_type": "stream",
     "text": [
      "jam_axi_proj(align='sph', moment='zz') -- elapsed time sec: 0.79\n",
      "analytic_los=0 logistic=0 constant_anisotropy=1\n",
      "No PSF/pixel convolution because sigmapsf=0 pixsize=0\n",
      "inc=71.2; beta[0]=0.0; kappa=1.00; M/L=1.00; BH=0.0; chi2/DOF=nan\n",
      "Total mass MGE (MSun): 6.786e+12\n",
      "\n",
      "sigma_e: 126.30 km/s\n",
      "theta_E: 0.333 arcsec\n"
     ]
    },
    {
     "name": "stdout",
     "output_type": "stream",
     "text": [
      "jam_axi_proj(align='sph', moment='zz') -- elapsed time sec: 0.81\n",
      "analytic_los=0 logistic=0 constant_anisotropy=1\n",
      "No PSF/pixel convolution because sigmapsf=0 pixsize=0\n",
      "inc=57.3; beta[0]=0.0; kappa=1.00; M/L=1.00; BH=0.0; chi2/DOF=nan\n",
      "Total mass MGE (MSun): 6.786e+12\n",
      "\n",
      "sigma_e: 121.93 km/s\n",
      "theta_E: 0.403 arcsec\n"
     ]
    },
    {
     "name": "stdout",
     "output_type": "stream",
     "text": [
      "jam_axi_proj(align='sph', moment='zz') -- elapsed time sec: 0.79\n",
      "analytic_los=0 logistic=0 constant_anisotropy=1\n",
      "No PSF/pixel convolution because sigmapsf=0 pixsize=0\n",
      "inc=77.6; beta[0]=0.0; kappa=1.00; M/L=1.00; BH=0.0; chi2/DOF=nan\n",
      "Total mass MGE (MSun): 6.786e+12\n",
      "\n",
      "sigma_e: 127.46 km/s\n",
      "theta_E: 0.347 arcsec\n"
     ]
    },
    {
     "name": "stdout",
     "output_type": "stream",
     "text": [
      "jam_axi_proj(align='sph', moment='zz') -- elapsed time sec: 0.81\n",
      "analytic_los=0 logistic=0 constant_anisotropy=1\n",
      "No PSF/pixel convolution because sigmapsf=0 pixsize=0\n",
      "inc=62.0; beta[0]=0.0; kappa=1.00; M/L=1.00; BH=0.0; chi2/DOF=nan\n",
      "Total mass MGE (MSun): 6.786e+12\n",
      "\n",
      "sigma_e: 123.68 km/s\n",
      "theta_E: 0.427 arcsec\n"
     ]
    },
    {
     "name": "stdout",
     "output_type": "stream",
     "text": [
      "jam_axi_proj(align='sph', moment='zz') -- elapsed time sec: 0.79\n",
      "analytic_los=0 logistic=0 constant_anisotropy=1\n",
      "No PSF/pixel convolution because sigmapsf=0 pixsize=0\n",
      "inc=90.0; beta[0]=0.0; kappa=1.00; M/L=1.00; BH=0.0; chi2/DOF=nan\n",
      "Total mass MGE (MSun): 6.786e+12\n",
      "\n",
      "sigma_e: 128.20 km/s\n",
      "theta_E: 0.352 arcsec\n"
     ]
    },
    {
     "name": "stdout",
     "output_type": "stream",
     "text": [
      "jam_axi_proj(align='sph', moment='zz') -- elapsed time sec: 0.81\n",
      "analytic_los=0 logistic=0 constant_anisotropy=1\n",
      "No PSF/pixel convolution because sigmapsf=0 pixsize=0\n",
      "inc=63.6; beta[0]=0.0; kappa=1.00; M/L=1.00; BH=0.0; chi2/DOF=nan\n",
      "Total mass MGE (MSun): 6.786e+12\n",
      "\n",
      "sigma_e: 124.24 km/s\n"
     ]
    },
    {
     "name": "stdout",
     "output_type": "stream",
     "text": [
      "theta_E: 0.735 arcsec\n"
     ]
    },
    {
     "name": "stdout",
     "output_type": "stream",
     "text": [
      "jam_axi_proj(align='sph', moment='zz') -- elapsed time sec: 0.80\n",
      "analytic_los=0 logistic=0 constant_anisotropy=1\n",
      "No PSF/pixel convolution because sigmapsf=0 pixsize=0\n",
      "inc=72.8; beta[0]=0.0; kappa=1.00; M/L=1.00; BH=0.0; chi2/DOF=nan\n",
      "Total mass MGE (MSun): 2.429e+13\n",
      "\n",
      "sigma_e: 175.45 km/s\n",
      "theta_E: 0.667 arcsec\n"
     ]
    },
    {
     "name": "stdout",
     "output_type": "stream",
     "text": [
      "jam_axi_proj(align='sph', moment='zz') -- elapsed time sec: 0.82\n",
      "analytic_los=0 logistic=0 constant_anisotropy=1\n",
      "No PSF/pixel convolution because sigmapsf=0 pixsize=0\n",
      "inc=61.4; beta[0]=0.0; kappa=1.00; M/L=1.00; BH=0.0; chi2/DOF=nan\n",
      "Total mass MGE (MSun): 2.429e+13\n",
      "\n",
      "sigma_e: 171.30 km/s\n",
      "theta_E: 0.553 arcsec\n"
     ]
    },
    {
     "name": "stdout",
     "output_type": "stream",
     "text": [
      "jam_axi_proj(align='sph', moment='zz') -- elapsed time sec: 0.82\n",
      "analytic_los=0 logistic=0 constant_anisotropy=1\n",
      "No PSF/pixel convolution because sigmapsf=0 pixsize=0\n",
      "inc=32.5; beta[0]=0.0; kappa=1.00; M/L=1.00; BH=0.0; chi2/DOF=nan\n",
      "Total mass MGE (MSun): 2.429e+13\n",
      "\n",
      "sigma_e: 151.96 km/s\n",
      "theta_E: 0.629 arcsec\n"
     ]
    },
    {
     "name": "stdout",
     "output_type": "stream",
     "text": [
      "jam_axi_proj(align='sph', moment='zz') -- elapsed time sec: 0.82\n",
      "analytic_los=0 logistic=0 constant_anisotropy=1\n",
      "No PSF/pixel convolution because sigmapsf=0 pixsize=0\n",
      "inc=54.2; beta[0]=0.0; kappa=1.00; M/L=1.00; BH=0.0; chi2/DOF=nan\n",
      "Total mass MGE (MSun): 2.429e+13\n",
      "\n",
      "sigma_e: 167.36 km/s\n",
      "theta_E: 0.799 arcsec\n"
     ]
    },
    {
     "name": "stdout",
     "output_type": "stream",
     "text": [
      "jam_axi_proj(align='sph', moment='zz') -- elapsed time sec: 0.81\n",
      "analytic_los=0 logistic=0 constant_anisotropy=1\n",
      "No PSF/pixel convolution because sigmapsf=0 pixsize=0\n",
      "inc=86.7; beta[0]=0.0; kappa=1.00; M/L=1.00; BH=0.0; chi2/DOF=nan\n",
      "Total mass MGE (MSun): 2.429e+13\n",
      "\n",
      "sigma_e: 177.34 km/s\n",
      "theta_E: 0.776 arcsec\n"
     ]
    },
    {
     "name": "stdout",
     "output_type": "stream",
     "text": [
      "jam_axi_proj(align='sph', moment='zz') -- elapsed time sec: 0.83\n",
      "analytic_los=0 logistic=0 constant_anisotropy=1\n",
      "No PSF/pixel convolution because sigmapsf=0 pixsize=0\n",
      "inc=80.1; beta[0]=0.0; kappa=1.00; M/L=1.00; BH=0.0; chi2/DOF=nan\n",
      "Total mass MGE (MSun): 2.429e+13\n",
      "\n",
      "sigma_e: 176.79 km/s\n",
      "theta_E: 0.580 arcsec\n"
     ]
    },
    {
     "name": "stdout",
     "output_type": "stream",
     "text": [
      "jam_axi_proj(align='sph', moment='zz') -- elapsed time sec: 0.80\n",
      "analytic_los=0 logistic=0 constant_anisotropy=1\n",
      "No PSF/pixel convolution because sigmapsf=0 pixsize=0\n",
      "inc=42.1; beta[0]=0.0; kappa=1.00; M/L=1.00; BH=0.0; chi2/DOF=nan\n",
      "Total mass MGE (MSun): 2.429e+13\n",
      "\n",
      "sigma_e: 159.12 km/s\n",
      "theta_E: 0.525 arcsec\n"
     ]
    },
    {
     "name": "stdout",
     "output_type": "stream",
     "text": [
      "jam_axi_proj(align='sph', moment='zz') -- elapsed time sec: 0.82\n",
      "analytic_los=0 logistic=0 constant_anisotropy=1\n",
      "No PSF/pixel convolution because sigmapsf=0 pixsize=0\n",
      "inc=16.4; beta[0]=0.0; kappa=1.00; M/L=1.00; BH=0.0; chi2/DOF=nan\n",
      "Total mass MGE (MSun): 2.429e+13\n",
      "\n",
      "sigma_e: 141.57 km/s\n",
      "theta_E: 0.570 arcsec\n"
     ]
    },
    {
     "name": "stdout",
     "output_type": "stream",
     "text": [
      "jam_axi_proj(align='sph', moment='zz') -- elapsed time sec: 0.81\n",
      "analytic_los=0 logistic=0 constant_anisotropy=1\n",
      "No PSF/pixel convolution because sigmapsf=0 pixsize=0\n",
      "inc=39.1; beta[0]=0.0; kappa=1.00; M/L=1.00; BH=0.0; chi2/DOF=nan\n",
      "Total mass MGE (MSun): 2.429e+13\n",
      "\n",
      "sigma_e: 156.87 km/s\n",
      "theta_E: 0.697 arcsec\n"
     ]
    },
    {
     "name": "stdout",
     "output_type": "stream",
     "text": [
      "jam_axi_proj(align='sph', moment='zz') -- elapsed time sec: 0.81\n",
      "analytic_los=0 logistic=0 constant_anisotropy=1\n",
      "No PSF/pixel convolution because sigmapsf=0 pixsize=0\n",
      "inc=66.6; beta[0]=0.0; kappa=1.00; M/L=1.00; BH=0.0; chi2/DOF=nan\n",
      "Total mass MGE (MSun): 2.429e+13\n",
      "\n",
      "sigma_e: 173.51 km/s\n"
     ]
    },
    {
     "name": "stdout",
     "output_type": "stream",
     "text": [
      "theta_E: 0.472 arcsec\n"
     ]
    },
    {
     "name": "stdout",
     "output_type": "stream",
     "text": [
      "jam_axi_proj(align='sph', moment='zz') -- elapsed time sec: 0.77\n",
      "analytic_los=0 logistic=0 constant_anisotropy=1\n",
      "No PSF/pixel convolution because sigmapsf=0 pixsize=0\n",
      "inc=14.1; beta[0]=0.0; kappa=1.00; M/L=1.00; BH=0.0; chi2/DOF=nan\n",
      "Total mass MGE (MSun): 1.703e+13\n",
      "\n",
      "sigma_e: 139.51 km/s\n",
      "theta_E: 0.560 arcsec\n"
     ]
    },
    {
     "name": "stdout",
     "output_type": "stream",
     "text": [
      "jam_axi_proj(align='sph', moment='zz') -- elapsed time sec: 0.79\n",
      "analytic_los=0 logistic=0 constant_anisotropy=1\n",
      "No PSF/pixel convolution because sigmapsf=0 pixsize=0\n",
      "inc=57.5; beta[0]=0.0; kappa=1.00; M/L=1.00; BH=0.0; chi2/DOF=nan\n",
      "Total mass MGE (MSun): 1.703e+13\n",
      "\n",
      "sigma_e: 158.71 km/s\n",
      "theta_E: 0.640 arcsec\n"
     ]
    },
    {
     "name": "stdout",
     "output_type": "stream",
     "text": [
      "jam_axi_proj(align='sph', moment='zz') -- elapsed time sec: 0.77\n",
      "analytic_los=0 logistic=0 constant_anisotropy=1\n",
      "No PSF/pixel convolution because sigmapsf=0 pixsize=0\n",
      "inc=83.9; beta[0]=0.0; kappa=1.00; M/L=1.00; BH=0.0; chi2/DOF=nan\n",
      "Total mass MGE (MSun): 1.703e+13\n",
      "\n",
      "sigma_e: 164.70 km/s\n",
      "theta_E: 0.508 arcsec\n"
     ]
    },
    {
     "name": "stdout",
     "output_type": "stream",
     "text": [
      "jam_axi_proj(align='sph', moment='zz') -- elapsed time sec: 0.78\n",
      "analytic_los=0 logistic=0 constant_anisotropy=1\n",
      "No PSF/pixel convolution because sigmapsf=0 pixsize=0\n",
      "inc=38.9; beta[0]=0.0; kappa=1.00; M/L=1.00; BH=0.0; chi2/DOF=nan\n",
      "Total mass MGE (MSun): 1.703e+13\n",
      "\n",
      "sigma_e: 150.14 km/s\n",
      "theta_E: 0.528 arcsec\n"
     ]
    },
    {
     "name": "stdout",
     "output_type": "stream",
     "text": [
      "jam_axi_proj(align='sph', moment='zz') -- elapsed time sec: 0.78\n",
      "analytic_los=0 logistic=0 constant_anisotropy=1\n",
      "No PSF/pixel convolution because sigmapsf=0 pixsize=0\n",
      "inc=46.9; beta[0]=0.0; kappa=1.00; M/L=1.00; BH=0.0; chi2/DOF=nan\n",
      "Total mass MGE (MSun): 1.703e+13\n",
      "\n",
      "sigma_e: 154.06 km/s\n",
      "theta_E: 0.645 arcsec\n"
     ]
    },
    {
     "name": "stdout",
     "output_type": "stream",
     "text": [
      "jam_axi_proj(align='sph', moment='zz') -- elapsed time sec: 0.79\n",
      "analytic_los=0 logistic=0 constant_anisotropy=1\n",
      "No PSF/pixel convolution because sigmapsf=0 pixsize=0\n",
      "inc=90.0; beta[0]=0.0; kappa=1.00; M/L=1.00; BH=0.0; chi2/DOF=nan\n",
      "Total mass MGE (MSun): 1.703e+13\n",
      "\n",
      "sigma_e: 164.92 km/s\n",
      "theta_E: 0.604 arcsec\n"
     ]
    },
    {
     "name": "stdout",
     "output_type": "stream",
     "text": [
      "jam_axi_proj(align='sph', moment='zz') -- elapsed time sec: 0.79\n",
      "analytic_los=0 logistic=0 constant_anisotropy=1\n",
      "No PSF/pixel convolution because sigmapsf=0 pixsize=0\n",
      "inc=70.1; beta[0]=0.0; kappa=1.00; M/L=1.00; BH=0.0; chi2/DOF=nan\n",
      "Total mass MGE (MSun): 1.703e+13\n",
      "\n",
      "sigma_e: 162.65 km/s\n",
      "theta_E: 0.619 arcsec\n"
     ]
    },
    {
     "name": "stdout",
     "output_type": "stream",
     "text": [
      "jam_axi_proj(align='sph', moment='zz') -- elapsed time sec: 0.80\n",
      "analytic_los=0 logistic=0 constant_anisotropy=1\n",
      "No PSF/pixel convolution because sigmapsf=0 pixsize=0\n",
      "inc=74.7; beta[0]=0.0; kappa=1.00; M/L=1.00; BH=0.0; chi2/DOF=nan\n",
      "Total mass MGE (MSun): 1.703e+13\n",
      "\n",
      "sigma_e: 163.59 km/s\n",
      "theta_E: 0.554 arcsec\n"
     ]
    },
    {
     "name": "stdout",
     "output_type": "stream",
     "text": [
      "jam_axi_proj(align='sph', moment='zz') -- elapsed time sec: 0.78\n",
      "analytic_los=0 logistic=0 constant_anisotropy=1\n",
      "No PSF/pixel convolution because sigmapsf=0 pixsize=0\n",
      "inc=55.6; beta[0]=0.0; kappa=1.00; M/L=1.00; BH=0.0; chi2/DOF=nan\n",
      "Total mass MGE (MSun): 1.703e+13\n",
      "\n",
      "sigma_e: 157.93 km/s\n",
      "theta_E: 0.507 arcsec\n"
     ]
    },
    {
     "name": "stdout",
     "output_type": "stream",
     "text": [
      "jam_axi_proj(align='sph', moment='zz') -- elapsed time sec: 0.79\n",
      "analytic_los=0 logistic=0 constant_anisotropy=1\n",
      "No PSF/pixel convolution because sigmapsf=0 pixsize=0\n",
      "inc=38.2; beta[0]=0.0; kappa=1.00; M/L=1.00; BH=0.0; chi2/DOF=nan\n",
      "Total mass MGE (MSun): 1.703e+13\n",
      "\n",
      "sigma_e: 149.76 km/s\n"
     ]
    },
    {
     "name": "stdout",
     "output_type": "stream",
     "text": [
      "theta_E: 0.460 arcsec\n"
     ]
    },
    {
     "name": "stdout",
     "output_type": "stream",
     "text": [
      "jam_axi_proj(align='sph', moment='zz') -- elapsed time sec: 0.76\n",
      "analytic_los=0 logistic=0 constant_anisotropy=1\n",
      "No PSF/pixel convolution because sigmapsf=0 pixsize=0\n",
      "inc=53.8; beta[0]=0.0; kappa=1.00; M/L=1.00; BH=0.0; chi2/DOF=nan\n",
      "Total mass MGE (MSun): 1.168e+13\n",
      "\n",
      "sigma_e: 144.50 km/s\n",
      "theta_E: 0.427 arcsec\n"
     ]
    },
    {
     "name": "stdout",
     "output_type": "stream",
     "text": [
      "jam_axi_proj(align='sph', moment='zz') -- elapsed time sec: 0.77\n",
      "analytic_los=0 logistic=0 constant_anisotropy=1\n",
      "No PSF/pixel convolution because sigmapsf=0 pixsize=0\n",
      "inc=36.1; beta[0]=0.0; kappa=1.00; M/L=1.00; BH=0.0; chi2/DOF=nan\n",
      "Total mass MGE (MSun): 1.168e+13\n",
      "\n",
      "sigma_e: 137.99 km/s\n",
      "theta_E: 0.522 arcsec\n"
     ]
    },
    {
     "name": "stdout",
     "output_type": "stream",
     "text": [
      "jam_axi_proj(align='sph', moment='zz') -- elapsed time sec: 0.76\n",
      "analytic_los=0 logistic=0 constant_anisotropy=1\n",
      "No PSF/pixel convolution because sigmapsf=0 pixsize=0\n",
      "inc=84.4; beta[0]=0.0; kappa=1.00; M/L=1.00; BH=0.0; chi2/DOF=nan\n",
      "Total mass MGE (MSun): 1.168e+13\n",
      "\n",
      "sigma_e: 150.52 km/s\n",
      "theta_E: 0.517 arcsec\n"
     ]
    },
    {
     "name": "stdout",
     "output_type": "stream",
     "text": [
      "jam_axi_proj(align='sph', moment='zz') -- elapsed time sec: 0.78\n",
      "analytic_los=0 logistic=0 constant_anisotropy=1\n",
      "No PSF/pixel convolution because sigmapsf=0 pixsize=0\n",
      "inc=79.9; beta[0]=0.0; kappa=1.00; M/L=1.00; BH=0.0; chi2/DOF=nan\n",
      "Total mass MGE (MSun): 1.168e+13\n",
      "\n",
      "sigma_e: 150.20 km/s\n",
      "theta_E: 0.523 arcsec\n"
     ]
    },
    {
     "name": "stdout",
     "output_type": "stream",
     "text": [
      "jam_axi_proj(align='sph', moment='zz') -- elapsed time sec: 0.76\n",
      "analytic_los=0 logistic=0 constant_anisotropy=1\n",
      "No PSF/pixel convolution because sigmapsf=0 pixsize=0\n",
      "inc=85.5; beta[0]=0.0; kappa=1.00; M/L=1.00; BH=0.0; chi2/DOF=nan\n",
      "Total mass MGE (MSun): 1.168e+13\n",
      "\n",
      "sigma_e: 150.56 km/s\n",
      "theta_E: 0.419 arcsec\n"
     ]
    },
    {
     "name": "stdout",
     "output_type": "stream",
     "text": [
      "jam_axi_proj(align='sph', moment='zz') -- elapsed time sec: 0.78\n",
      "analytic_los=0 logistic=0 constant_anisotropy=1\n",
      "No PSF/pixel convolution because sigmapsf=0 pixsize=0\n",
      "inc=30.8; beta[0]=0.0; kappa=1.00; M/L=1.00; BH=0.0; chi2/DOF=nan\n",
      "Total mass MGE (MSun): 1.168e+13\n",
      "\n",
      "sigma_e: 136.02 km/s\n",
      "theta_E: 0.479 arcsec\n"
     ]
    },
    {
     "name": "stdout",
     "output_type": "stream",
     "text": [
      "jam_axi_proj(align='sph', moment='zz') -- elapsed time sec: 0.76\n",
      "analytic_los=0 logistic=0 constant_anisotropy=1\n",
      "No PSF/pixel convolution because sigmapsf=0 pixsize=0\n",
      "inc=62.0; beta[0]=0.0; kappa=1.00; M/L=1.00; BH=0.0; chi2/DOF=nan\n",
      "Total mass MGE (MSun): 1.168e+13\n",
      "\n",
      "sigma_e: 146.96 km/s\n",
      "theta_E: 0.433 arcsec\n"
     ]
    },
    {
     "name": "stdout",
     "output_type": "stream",
     "text": [
      "jam_axi_proj(align='sph', moment='zz') -- elapsed time sec: 0.78\n",
      "analytic_los=0 logistic=0 constant_anisotropy=1\n",
      "No PSF/pixel convolution because sigmapsf=0 pixsize=0\n",
      "inc=40.3; beta[0]=0.0; kappa=1.00; M/L=1.00; BH=0.0; chi2/DOF=nan\n",
      "Total mass MGE (MSun): 1.168e+13\n",
      "\n",
      "sigma_e: 139.60 km/s\n",
      "theta_E: 0.521 arcsec\n"
     ]
    },
    {
     "name": "stdout",
     "output_type": "stream",
     "text": [
      "jam_axi_proj(align='sph', moment='zz') -- elapsed time sec: 0.76\n",
      "analytic_los=0 logistic=0 constant_anisotropy=1\n",
      "No PSF/pixel convolution because sigmapsf=0 pixsize=0\n",
      "inc=83.1; beta[0]=0.0; kappa=1.00; M/L=1.00; BH=0.0; chi2/DOF=nan\n",
      "Total mass MGE (MSun): 1.168e+13\n",
      "\n",
      "sigma_e: 150.44 km/s\n",
      "theta_E: 0.404 arcsec\n"
     ]
    },
    {
     "name": "stdout",
     "output_type": "stream",
     "text": [
      "jam_axi_proj(align='sph', moment='zz') -- elapsed time sec: 0.78\n",
      "analytic_los=0 logistic=0 constant_anisotropy=1\n",
      "No PSF/pixel convolution because sigmapsf=0 pixsize=0\n",
      "inc=15.2; beta[0]=0.0; kappa=1.00; M/L=1.00; BH=0.0; chi2/DOF=nan\n",
      "Total mass MGE (MSun): 1.168e+13\n",
      "\n",
      "sigma_e: 131.25 km/s\n"
     ]
    },
    {
     "name": "stdout",
     "output_type": "stream",
     "text": [
      "theta_E: 0.431 arcsec\n"
     ]
    },
    {
     "name": "stdout",
     "output_type": "stream",
     "text": [
      "jam_axi_proj(align='sph', moment='zz') -- elapsed time sec: 0.77\n",
      "analytic_los=0 logistic=0 constant_anisotropy=1\n",
      "No PSF/pixel convolution because sigmapsf=0 pixsize=0\n",
      "inc=16.9; beta[0]=0.0; kappa=1.00; M/L=1.00; BH=0.0; chi2/DOF=nan\n",
      "Total mass MGE (MSun): 1.437e+13\n",
      "\n",
      "sigma_e: 133.05 km/s\n",
      "theta_E: 0.488 arcsec\n"
     ]
    },
    {
     "name": "stdout",
     "output_type": "stream",
     "text": [
      "jam_axi_proj(align='sph', moment='zz') -- elapsed time sec: 0.84\n",
      "analytic_los=0 logistic=0 constant_anisotropy=1\n",
      "No PSF/pixel convolution because sigmapsf=0 pixsize=0\n",
      "inc=49.6; beta[0]=0.0; kappa=1.00; M/L=1.00; BH=0.0; chi2/DOF=nan\n",
      "Total mass MGE (MSun): 1.437e+13\n",
      "\n",
      "sigma_e: 148.21 km/s\n",
      "theta_E: 0.581 arcsec\n"
     ]
    },
    {
     "name": "stdout",
     "output_type": "stream",
     "text": [
      "jam_axi_proj(align='sph', moment='zz') -- elapsed time sec: 0.78\n",
      "analytic_los=0 logistic=0 constant_anisotropy=1\n",
      "No PSF/pixel convolution because sigmapsf=0 pixsize=0\n",
      "inc=79.0; beta[0]=0.0; kappa=1.00; M/L=1.00; BH=0.0; chi2/DOF=nan\n",
      "Total mass MGE (MSun): 1.437e+13\n",
      "\n",
      "sigma_e: 157.07 km/s\n",
      "theta_E: 0.447 arcsec\n"
     ]
    },
    {
     "name": "stdout",
     "output_type": "stream",
     "text": [
      "jam_axi_proj(align='sph', moment='zz') -- elapsed time sec: 0.80\n",
      "analytic_los=0 logistic=0 constant_anisotropy=1\n",
      "No PSF/pixel convolution because sigmapsf=0 pixsize=0\n",
      "inc=30.6; beta[0]=0.0; kappa=1.00; M/L=1.00; BH=0.0; chi2/DOF=nan\n",
      "Total mass MGE (MSun): 1.437e+13\n",
      "\n",
      "sigma_e: 138.79 km/s\n",
      "theta_E: 0.486 arcsec\n"
     ]
    },
    {
     "name": "stdout",
     "output_type": "stream",
     "text": [
      "jam_axi_proj(align='sph', moment='zz') -- elapsed time sec: 0.77\n",
      "analytic_los=0 logistic=0 constant_anisotropy=1\n",
      "No PSF/pixel convolution because sigmapsf=0 pixsize=0\n",
      "inc=48.8; beta[0]=0.0; kappa=1.00; M/L=1.00; BH=0.0; chi2/DOF=nan\n",
      "Total mass MGE (MSun): 1.437e+13\n",
      "\n",
      "sigma_e: 147.82 km/s\n",
      "theta_E: 0.467 arcsec\n"
     ]
    },
    {
     "name": "stdout",
     "output_type": "stream",
     "text": [
      "jam_axi_proj(align='sph', moment='zz') -- elapsed time sec: 0.79\n",
      "analytic_los=0 logistic=0 constant_anisotropy=1\n",
      "No PSF/pixel convolution because sigmapsf=0 pixsize=0\n",
      "inc=40.8; beta[0]=0.0; kappa=1.00; M/L=1.00; BH=0.0; chi2/DOF=nan\n",
      "Total mass MGE (MSun): 1.437e+13\n",
      "\n",
      "sigma_e: 143.91 km/s\n",
      "theta_E: 0.583 arcsec\n"
     ]
    },
    {
     "name": "stdout",
     "output_type": "stream",
     "text": [
      "jam_axi_proj(align='sph', moment='zz') -- elapsed time sec: 0.78\n",
      "analytic_los=0 logistic=0 constant_anisotropy=1\n",
      "No PSF/pixel convolution because sigmapsf=0 pixsize=0\n",
      "inc=80.0; beta[0]=0.0; kappa=1.00; M/L=1.00; BH=0.0; chi2/DOF=nan\n",
      "Total mass MGE (MSun): 1.437e+13\n",
      "\n",
      "sigma_e: 157.17 km/s\n",
      "theta_E: 0.458 arcsec\n"
     ]
    },
    {
     "name": "stdout",
     "output_type": "stream",
     "text": [
      "jam_axi_proj(align='sph', moment='zz') -- elapsed time sec: 0.79\n",
      "analytic_los=0 logistic=0 constant_anisotropy=1\n",
      "No PSF/pixel convolution because sigmapsf=0 pixsize=0\n",
      "inc=36.9; beta[0]=0.0; kappa=1.00; M/L=1.00; BH=0.0; chi2/DOF=nan\n",
      "Total mass MGE (MSun): 1.437e+13\n",
      "\n",
      "sigma_e: 141.93 km/s\n",
      "theta_E: 0.588 arcsec\n"
     ]
    },
    {
     "name": "stdout",
     "output_type": "stream",
     "text": [
      "jam_axi_proj(align='sph', moment='zz') -- elapsed time sec: 0.78\n",
      "analytic_los=0 logistic=0 constant_anisotropy=1\n",
      "No PSF/pixel convolution because sigmapsf=0 pixsize=0\n",
      "inc=82.0; beta[0]=0.0; kappa=1.00; M/L=1.00; BH=0.0; chi2/DOF=nan\n",
      "Total mass MGE (MSun): 1.437e+13\n",
      "\n",
      "sigma_e: 157.37 km/s\n",
      "theta_E: 0.554 arcsec\n"
     ]
    },
    {
     "name": "stdout",
     "output_type": "stream",
     "text": [
      "jam_axi_proj(align='sph', moment='zz') -- elapsed time sec: 0.79\n",
      "analytic_los=0 logistic=0 constant_anisotropy=1\n",
      "No PSF/pixel convolution because sigmapsf=0 pixsize=0\n",
      "inc=70.0; beta[0]=0.0; kappa=1.00; M/L=1.00; BH=0.0; chi2/DOF=nan\n",
      "Total mass MGE (MSun): 1.437e+13\n",
      "\n",
      "sigma_e: 155.48 km/s\n"
     ]
    },
    {
     "name": "stdout",
     "output_type": "stream",
     "text": [
      "theta_E: 0.451 arcsec\n"
     ]
    },
    {
     "name": "stdout",
     "output_type": "stream",
     "text": [
      "jam_axi_proj(align='sph', moment='zz') -- elapsed time sec: 0.77\n",
      "analytic_los=0 logistic=0 constant_anisotropy=1\n",
      "No PSF/pixel convolution because sigmapsf=0 pixsize=0\n",
      "inc=64.8; beta[0]=0.0; kappa=1.00; M/L=1.00; BH=0.0; chi2/DOF=nan\n",
      "Total mass MGE (MSun): 1.021e+13\n",
      "\n",
      "sigma_e: 141.39 km/s\n",
      "theta_E: 0.376 arcsec\n"
     ]
    },
    {
     "name": "stdout",
     "output_type": "stream",
     "text": [
      "jam_axi_proj(align='sph', moment='zz') -- elapsed time sec: 0.80\n",
      "analytic_los=0 logistic=0 constant_anisotropy=1\n",
      "No PSF/pixel convolution because sigmapsf=0 pixsize=0\n",
      "inc=31.1; beta[0]=0.0; kappa=1.00; M/L=1.00; BH=0.0; chi2/DOF=nan\n",
      "Total mass MGE (MSun): 1.021e+13\n",
      "\n",
      "sigma_e: 127.41 km/s\n",
      "theta_E: 0.463 arcsec\n"
     ]
    },
    {
     "name": "stdout",
     "output_type": "stream",
     "text": [
      "jam_axi_proj(align='sph', moment='zz') -- elapsed time sec: 0.78\n",
      "analytic_los=0 logistic=0 constant_anisotropy=1\n",
      "No PSF/pixel convolution because sigmapsf=0 pixsize=0\n",
      "inc=69.0; beta[0]=0.0; kappa=1.00; M/L=1.00; BH=0.0; chi2/DOF=nan\n",
      "Total mass MGE (MSun): 1.021e+13\n",
      "\n",
      "sigma_e: 142.47 km/s\n",
      "theta_E: 0.375 arcsec\n"
     ]
    },
    {
     "name": "stdout",
     "output_type": "stream",
     "text": [
      "jam_axi_proj(align='sph', moment='zz') -- elapsed time sec: 0.80\n",
      "analytic_los=0 logistic=0 constant_anisotropy=1\n",
      "No PSF/pixel convolution because sigmapsf=0 pixsize=0\n",
      "inc=30.8; beta[0]=0.0; kappa=1.00; M/L=1.00; BH=0.0; chi2/DOF=nan\n",
      "Total mass MGE (MSun): 1.021e+13\n",
      "\n",
      "sigma_e: 127.25 km/s\n",
      "theta_E: 0.488 arcsec\n"
     ]
    },
    {
     "name": "stdout",
     "output_type": "stream",
     "text": [
      "jam_axi_proj(align='sph', moment='zz') -- elapsed time sec: 0.77\n",
      "analytic_los=0 logistic=0 constant_anisotropy=1\n",
      "No PSF/pixel convolution because sigmapsf=0 pixsize=0\n",
      "inc=78.5; beta[0]=0.0; kappa=1.00; M/L=1.00; BH=0.0; chi2/DOF=nan\n",
      "Total mass MGE (MSun): 1.021e+13\n",
      "\n",
      "sigma_e: 144.10 km/s\n",
      "theta_E: 0.379 arcsec\n"
     ]
    },
    {
     "name": "stdout",
     "output_type": "stream",
     "text": [
      "jam_axi_proj(align='sph', moment='zz') -- elapsed time sec: 0.85\n",
      "analytic_los=0 logistic=0 constant_anisotropy=1\n",
      "No PSF/pixel convolution because sigmapsf=0 pixsize=0\n",
      "inc=33.7; beta[0]=0.0; kappa=1.00; M/L=1.00; BH=0.0; chi2/DOF=nan\n",
      "Total mass MGE (MSun): 1.021e+13\n",
      "\n",
      "sigma_e: 128.57 km/s\n",
      "theta_E: 0.424 arcsec\n"
     ]
    },
    {
     "name": "stdout",
     "output_type": "stream",
     "text": [
      "jam_axi_proj(align='sph', moment='zz') -- elapsed time sec: 0.78\n",
      "analytic_los=0 logistic=0 constant_anisotropy=1\n",
      "No PSF/pixel convolution because sigmapsf=0 pixsize=0\n",
      "inc=55.3; beta[0]=0.0; kappa=1.00; M/L=1.00; BH=0.0; chi2/DOF=nan\n",
      "Total mass MGE (MSun): 1.021e+13\n",
      "\n",
      "sigma_e: 138.25 km/s\n",
      "theta_E: 0.464 arcsec\n"
     ]
    },
    {
     "name": "stdout",
     "output_type": "stream",
     "text": [
      "jam_axi_proj(align='sph', moment='zz') -- elapsed time sec: 0.79\n",
      "analytic_los=0 logistic=0 constant_anisotropy=1\n",
      "No PSF/pixel convolution because sigmapsf=0 pixsize=0\n",
      "inc=69.4; beta[0]=0.0; kappa=1.00; M/L=1.00; BH=0.0; chi2/DOF=nan\n",
      "Total mass MGE (MSun): 1.021e+13\n",
      "\n",
      "sigma_e: 142.57 km/s\n",
      "theta_E: 0.361 arcsec\n"
     ]
    },
    {
     "name": "stdout",
     "output_type": "stream",
     "text": [
      "jam_axi_proj(align='sph', moment='zz') -- elapsed time sec: 0.81\n",
      "analytic_los=0 logistic=0 constant_anisotropy=1\n",
      "No PSF/pixel convolution because sigmapsf=0 pixsize=0\n",
      "inc=17.1; beta[0]=0.0; kappa=1.00; M/L=1.00; BH=0.0; chi2/DOF=nan\n",
      "Total mass MGE (MSun): 1.021e+13\n",
      "\n",
      "sigma_e: 121.88 km/s\n",
      "theta_E: 0.426 arcsec\n"
     ]
    },
    {
     "name": "stdout",
     "output_type": "stream",
     "text": [
      "jam_axi_proj(align='sph', moment='zz') -- elapsed time sec: 0.80\n",
      "analytic_los=0 logistic=0 constant_anisotropy=1\n",
      "No PSF/pixel convolution because sigmapsf=0 pixsize=0\n",
      "inc=56.1; beta[0]=0.0; kappa=1.00; M/L=1.00; BH=0.0; chi2/DOF=nan\n",
      "Total mass MGE (MSun): 1.021e+13\n",
      "\n",
      "sigma_e: 138.54 km/s\n"
     ]
    },
    {
     "name": "stdout",
     "output_type": "stream",
     "text": [
      "theta_E: 0.462 arcsec\n"
     ]
    },
    {
     "name": "stdout",
     "output_type": "stream",
     "text": [
      "jam_axi_proj(align='sph', moment='zz') -- elapsed time sec: 0.79\n",
      "analytic_los=0 logistic=0 constant_anisotropy=1\n",
      "No PSF/pixel convolution because sigmapsf=0 pixsize=0\n",
      "inc=8.84; beta[0]=0.0; kappa=1.00; M/L=1.00; BH=0.0; chi2/DOF=nan\n",
      "Total mass MGE (MSun): 1.689e+13\n",
      "\n",
      "sigma_e: 135.77 km/s\n",
      "theta_E: 0.507 arcsec\n"
     ]
    },
    {
     "name": "stdout",
     "output_type": "stream",
     "text": [
      "jam_axi_proj(align='sph', moment='zz') -- elapsed time sec: 0.80\n",
      "analytic_los=0 logistic=0 constant_anisotropy=1\n",
      "No PSF/pixel convolution because sigmapsf=0 pixsize=0\n",
      "inc=41.2; beta[0]=0.0; kappa=1.00; M/L=1.00; BH=0.0; chi2/DOF=nan\n",
      "Total mass MGE (MSun): 1.689e+13\n",
      "\n",
      "sigma_e: 149.56 km/s\n",
      "theta_E: 0.588 arcsec\n"
     ]
    },
    {
     "name": "stdout",
     "output_type": "stream",
     "text": [
      "jam_axi_proj(align='sph', moment='zz') -- elapsed time sec: 0.78\n",
      "analytic_los=0 logistic=0 constant_anisotropy=1\n",
      "No PSF/pixel convolution because sigmapsf=0 pixsize=0\n",
      "inc=66.3; beta[0]=0.0; kappa=1.00; M/L=1.00; BH=0.0; chi2/DOF=nan\n",
      "Total mass MGE (MSun): 1.689e+13\n",
      "\n",
      "sigma_e: 160.34 km/s\n",
      "theta_E: 0.492 arcsec\n"
     ]
    },
    {
     "name": "stdout",
     "output_type": "stream",
     "text": [
      "jam_axi_proj(align='sph', moment='zz') -- elapsed time sec: 0.80\n",
      "analytic_los=0 logistic=0 constant_anisotropy=1\n",
      "No PSF/pixel convolution because sigmapsf=0 pixsize=0\n",
      "inc=34.5; beta[0]=0.0; kappa=1.00; M/L=1.00; BH=0.0; chi2/DOF=nan\n",
      "Total mass MGE (MSun): 1.689e+13\n",
      "\n",
      "sigma_e: 146.02 km/s\n",
      "theta_E: 0.490 arcsec\n"
     ]
    },
    {
     "name": "stdout",
     "output_type": "stream",
     "text": [
      "jam_axi_proj(align='sph', moment='zz') -- elapsed time sec: 0.79\n",
      "analytic_los=0 logistic=0 constant_anisotropy=1\n",
      "No PSF/pixel convolution because sigmapsf=0 pixsize=0\n",
      "inc=33.2; beta[0]=0.0; kappa=1.00; M/L=1.00; BH=0.0; chi2/DOF=nan\n",
      "Total mass MGE (MSun): 1.689e+13\n",
      "\n",
      "sigma_e: 145.30 km/s\n",
      "theta_E: 0.616 arcsec\n"
     ]
    },
    {
     "name": "stdout",
     "output_type": "stream",
     "text": [
      "jam_axi_proj(align='sph', moment='zz') -- elapsed time sec: 0.80\n",
      "analytic_los=0 logistic=0 constant_anisotropy=1\n",
      "No PSF/pixel convolution because sigmapsf=0 pixsize=0\n",
      "inc=74.2; beta[0]=0.0; kappa=1.00; M/L=1.00; BH=0.0; chi2/DOF=nan\n",
      "Total mass MGE (MSun): 1.689e+13\n",
      "\n",
      "sigma_e: 162.22 km/s\n",
      "theta_E: 0.646 arcsec\n"
     ]
    },
    {
     "name": "stdout",
     "output_type": "stream",
     "text": [
      "jam_axi_proj(align='sph', moment='zz') -- elapsed time sec: 0.83\n",
      "analytic_los=0 logistic=0 constant_anisotropy=1\n",
      "No PSF/pixel convolution because sigmapsf=0 pixsize=0\n",
      "inc=89.5; beta[0]=0.0; kappa=1.00; M/L=1.00; BH=0.0; chi2/DOF=nan\n",
      "Total mass MGE (MSun): 1.689e+13\n",
      "\n",
      "sigma_e: 163.62 km/s\n",
      "theta_E: 0.636 arcsec\n"
     ]
    },
    {
     "name": "stdout",
     "output_type": "stream",
     "text": [
      "jam_axi_proj(align='sph', moment='zz') -- elapsed time sec: 0.81\n",
      "analytic_los=0 logistic=0 constant_anisotropy=1\n",
      "No PSF/pixel convolution because sigmapsf=0 pixsize=0\n",
      "inc=81.3; beta[0]=0.0; kappa=1.00; M/L=1.00; BH=0.0; chi2/DOF=nan\n",
      "Total mass MGE (MSun): 1.689e+13\n",
      "\n",
      "sigma_e: 163.17 km/s\n",
      "theta_E: 0.556 arcsec\n"
     ]
    },
    {
     "name": "stdout",
     "output_type": "stream",
     "text": [
      "jam_axi_proj(align='sph', moment='zz') -- elapsed time sec: 0.78\n",
      "analytic_los=0 logistic=0 constant_anisotropy=1\n",
      "No PSF/pixel convolution because sigmapsf=0 pixsize=0\n",
      "inc=57.6; beta[0]=0.0; kappa=1.00; M/L=1.00; BH=0.0; chi2/DOF=nan\n",
      "Total mass MGE (MSun): 1.689e+13\n",
      "\n",
      "sigma_e: 157.31 km/s\n",
      "theta_E: 0.494 arcsec\n"
     ]
    },
    {
     "name": "stdout",
     "output_type": "stream",
     "text": [
      "jam_axi_proj(align='sph', moment='zz') -- elapsed time sec: 0.80\n",
      "analytic_los=0 logistic=0 constant_anisotropy=1\n",
      "No PSF/pixel convolution because sigmapsf=0 pixsize=0\n",
      "inc=35.5; beta[0]=0.0; kappa=1.00; M/L=1.00; BH=0.0; chi2/DOF=nan\n",
      "Total mass MGE (MSun): 1.689e+13\n",
      "\n",
      "sigma_e: 146.53 km/s\n"
     ]
    },
    {
     "name": "stdout",
     "output_type": "stream",
     "text": [
      "theta_E: 0.646 arcsec\n"
     ]
    },
    {
     "name": "stdout",
     "output_type": "stream",
     "text": [
      "jam_axi_proj(align='sph', moment='zz') -- elapsed time sec: 0.79\n",
      "analytic_los=0 logistic=0 constant_anisotropy=1\n",
      "No PSF/pixel convolution because sigmapsf=0 pixsize=0\n",
      "inc=67.3; beta[0]=0.0; kappa=1.00; M/L=1.00; BH=0.0; chi2/DOF=nan\n",
      "Total mass MGE (MSun): 2.042e+13\n",
      "\n",
      "sigma_e: 167.44 km/s\n",
      "theta_E: 0.722 arcsec\n"
     ]
    },
    {
     "name": "stdout",
     "output_type": "stream",
     "text": [
      "jam_axi_proj(align='sph', moment='zz') -- elapsed time sec: 0.81\n",
      "analytic_los=0 logistic=0 constant_anisotropy=1\n",
      "No PSF/pixel convolution because sigmapsf=0 pixsize=0\n",
      "inc=86.0; beta[0]=0.0; kappa=1.00; M/L=1.00; BH=0.0; chi2/DOF=nan\n",
      "Total mass MGE (MSun): 2.042e+13\n",
      "\n",
      "sigma_e: 170.75 km/s\n",
      "theta_E: 0.547 arcsec\n"
     ]
    },
    {
     "name": "stdout",
     "output_type": "stream",
     "text": [
      "jam_axi_proj(align='sph', moment='zz') -- elapsed time sec: 0.79\n",
      "analytic_los=0 logistic=0 constant_anisotropy=1\n",
      "No PSF/pixel convolution because sigmapsf=0 pixsize=0\n",
      "inc=43.2; beta[0]=0.0; kappa=1.00; M/L=1.00; BH=0.0; chi2/DOF=nan\n",
      "Total mass MGE (MSun): 2.042e+13\n",
      "\n",
      "sigma_e: 155.27 km/s\n",
      "theta_E: 0.573 arcsec\n"
     ]
    },
    {
     "name": "stdout",
     "output_type": "stream",
     "text": [
      "jam_axi_proj(align='sph', moment='zz') -- elapsed time sec: 0.82\n",
      "analytic_los=0 logistic=0 constant_anisotropy=1\n",
      "No PSF/pixel convolution because sigmapsf=0 pixsize=0\n",
      "inc=50.9; beta[0]=0.0; kappa=1.00; M/L=1.00; BH=0.0; chi2/DOF=nan\n",
      "Total mass MGE (MSun): 2.042e+13\n",
      "\n",
      "sigma_e: 159.97 km/s\n",
      "theta_E: 0.706 arcsec\n"
     ]
    },
    {
     "name": "stdout",
     "output_type": "stream",
     "text": [
      "jam_axi_proj(align='sph', moment='zz') -- elapsed time sec: 0.84\n",
      "analytic_los=0 logistic=0 constant_anisotropy=1\n",
      "No PSF/pixel convolution because sigmapsf=0 pixsize=0\n",
      "inc=80.2; beta[0]=0.0; kappa=1.00; M/L=1.00; BH=0.0; chi2/DOF=nan\n",
      "Total mass MGE (MSun): 2.042e+13\n",
      "\n",
      "sigma_e: 170.27 km/s\n",
      "theta_E: 0.515 arcsec\n"
     ]
    },
    {
     "name": "stdout",
     "output_type": "stream",
     "text": [
      "jam_axi_proj(align='sph', moment='zz') -- elapsed time sec: 0.81\n",
      "analytic_los=0 logistic=0 constant_anisotropy=1\n",
      "No PSF/pixel convolution because sigmapsf=0 pixsize=0\n",
      "inc=30.8; beta[0]=0.0; kappa=1.00; M/L=1.00; BH=0.0; chi2/DOF=nan\n",
      "Total mass MGE (MSun): 2.042e+13\n",
      "\n",
      "sigma_e: 147.18 km/s\n",
      "theta_E: 0.598 arcsec\n"
     ]
    },
    {
     "name": "stdout",
     "output_type": "stream",
     "text": [
      "jam_axi_proj(align='sph', moment='zz') -- elapsed time sec: 0.79\n",
      "analytic_los=0 logistic=0 constant_anisotropy=1\n",
      "No PSF/pixel convolution because sigmapsf=0 pixsize=0\n",
      "inc=57.1; beta[0]=0.0; kappa=1.00; M/L=1.00; BH=0.0; chi2/DOF=nan\n",
      "Total mass MGE (MSun): 2.042e+13\n",
      "\n",
      "sigma_e: 163.25 km/s\n",
      "theta_E: 0.724 arcsec\n"
     ]
    },
    {
     "name": "stdout",
     "output_type": "stream",
     "text": [
      "jam_axi_proj(align='sph', moment='zz') -- elapsed time sec: 0.82\n",
      "analytic_los=0 logistic=0 constant_anisotropy=1\n",
      "No PSF/pixel convolution because sigmapsf=0 pixsize=0\n",
      "inc=87.1; beta[0]=0.0; kappa=1.00; M/L=1.00; BH=0.0; chi2/DOF=nan\n",
      "Total mass MGE (MSun): 2.042e+13\n",
      "\n",
      "sigma_e: 170.79 km/s\n",
      "theta_E: 0.502 arcsec\n"
     ]
    },
    {
     "name": "stdout",
     "output_type": "stream",
     "text": [
      "jam_axi_proj(align='sph', moment='zz') -- elapsed time sec: 0.79\n",
      "analytic_los=0 logistic=0 constant_anisotropy=1\n",
      "No PSF/pixel convolution because sigmapsf=0 pixsize=0\n",
      "inc=22.9; beta[0]=0.0; kappa=1.00; M/L=1.00; BH=0.0; chi2/DOF=nan\n",
      "Total mass MGE (MSun): 2.042e+13\n",
      "\n",
      "sigma_e: 142.52 km/s\n",
      "theta_E: 0.627 arcsec\n"
     ]
    },
    {
     "name": "stdout",
     "output_type": "stream",
     "text": [
      "jam_axi_proj(align='sph', moment='zz') -- elapsed time sec: 0.81\n",
      "analytic_los=0 logistic=0 constant_anisotropy=1\n",
      "No PSF/pixel convolution because sigmapsf=0 pixsize=0\n",
      "inc=63.4; beta[0]=0.0; kappa=1.00; M/L=1.00; BH=0.0; chi2/DOF=nan\n",
      "Total mass MGE (MSun): 2.042e+13\n",
      "\n",
      "sigma_e: 166.02 km/s\n"
     ]
    },
    {
     "name": "stdout",
     "output_type": "stream",
     "text": [
      "theta_E: 0.425 arcsec\n"
     ]
    },
    {
     "name": "stdout",
     "output_type": "stream",
     "text": [
      "jam_axi_proj(align='sph', moment='zz') -- elapsed time sec: 0.77\n",
      "analytic_los=0 logistic=0 constant_anisotropy=1\n",
      "No PSF/pixel convolution because sigmapsf=0 pixsize=0\n",
      "inc=66.8; beta[0]=0.0; kappa=1.00; M/L=1.00; BH=0.0; chi2/DOF=nan\n",
      "Total mass MGE (MSun): 8.783e+12\n",
      "\n",
      "sigma_e: 138.09 km/s\n",
      "theta_E: 0.386 arcsec\n"
     ]
    },
    {
     "name": "stdout",
     "output_type": "stream",
     "text": [
      "jam_axi_proj(align='sph', moment='zz') -- elapsed time sec: 0.79\n",
      "analytic_los=0 logistic=0 constant_anisotropy=1\n",
      "No PSF/pixel convolution because sigmapsf=0 pixsize=0\n",
      "inc=47.6; beta[0]=0.0; kappa=1.00; M/L=1.00; BH=0.0; chi2/DOF=nan\n",
      "Total mass MGE (MSun): 8.783e+12\n",
      "\n",
      "sigma_e: 132.66 km/s\n",
      "theta_E: 0.363 arcsec\n"
     ]
    },
    {
     "name": "stdout",
     "output_type": "stream",
     "text": [
      "jam_axi_proj(align='sph', moment='zz') -- elapsed time sec: 0.76\n",
      "analytic_los=0 logistic=0 constant_anisotropy=1\n",
      "No PSF/pixel convolution because sigmapsf=0 pixsize=0\n",
      "inc=31.6; beta[0]=0.0; kappa=1.00; M/L=1.00; BH=0.0; chi2/DOF=nan\n",
      "Total mass MGE (MSun): 8.783e+12\n",
      "\n",
      "sigma_e: 127.12 km/s\n",
      "theta_E: 0.436 arcsec\n"
     ]
    },
    {
     "name": "stdout",
     "output_type": "stream",
     "text": [
      "jam_axi_proj(align='sph', moment='zz') -- elapsed time sec: 0.78\n",
      "analytic_los=0 logistic=0 constant_anisotropy=1\n",
      "No PSF/pixel convolution because sigmapsf=0 pixsize=0\n",
      "inc=72.4; beta[0]=0.0; kappa=1.00; M/L=1.00; BH=0.0; chi2/DOF=nan\n",
      "Total mass MGE (MSun): 8.783e+12\n",
      "\n",
      "sigma_e: 139.10 km/s\n",
      "theta_E: 0.386 arcsec\n"
     ]
    },
    {
     "name": "stdout",
     "output_type": "stream",
     "text": [
      "jam_axi_proj(align='sph', moment='zz') -- elapsed time sec: 0.78\n",
      "analytic_los=0 logistic=0 constant_anisotropy=1\n",
      "No PSF/pixel convolution because sigmapsf=0 pixsize=0\n",
      "inc=47.6; beta[0]=0.0; kappa=1.00; M/L=1.00; BH=0.0; chi2/DOF=nan\n",
      "Total mass MGE (MSun): 8.783e+12\n",
      "\n",
      "sigma_e: 132.66 km/s\n",
      "theta_E: 0.453 arcsec\n"
     ]
    },
    {
     "name": "stdout",
     "output_type": "stream",
     "text": [
      "jam_axi_proj(align='sph', moment='zz') -- elapsed time sec: 0.79\n",
      "analytic_los=0 logistic=0 constant_anisotropy=1\n",
      "No PSF/pixel convolution because sigmapsf=0 pixsize=0\n",
      "inc=85.8; beta[0]=0.0; kappa=1.00; M/L=1.00; BH=0.0; chi2/DOF=nan\n",
      "Total mass MGE (MSun): 8.783e+12\n",
      "\n",
      "sigma_e: 140.40 km/s\n",
      "theta_E: 0.356 arcsec\n"
     ]
    },
    {
     "name": "stdout",
     "output_type": "stream",
     "text": [
      "jam_axi_proj(align='sph', moment='zz') -- elapsed time sec: 0.76\n",
      "analytic_los=0 logistic=0 constant_anisotropy=1\n",
      "No PSF/pixel convolution because sigmapsf=0 pixsize=0\n",
      "inc=25.1; beta[0]=0.0; kappa=1.00; M/L=1.00; BH=0.0; chi2/DOF=nan\n",
      "Total mass MGE (MSun): 8.783e+12\n",
      "\n",
      "sigma_e: 125.05 km/s\n",
      "theta_E: 0.420 arcsec\n"
     ]
    },
    {
     "name": "stdout",
     "output_type": "stream",
     "text": [
      "jam_axi_proj(align='sph', moment='zz') -- elapsed time sec: 0.79\n",
      "analytic_los=0 logistic=0 constant_anisotropy=1\n",
      "No PSF/pixel convolution because sigmapsf=0 pixsize=0\n",
      "inc=64.8; beta[0]=0.0; kappa=1.00; M/L=1.00; BH=0.0; chi2/DOF=nan\n",
      "Total mass MGE (MSun): 8.783e+12\n",
      "\n",
      "sigma_e: 137.65 km/s\n",
      "theta_E: 0.374 arcsec\n"
     ]
    },
    {
     "name": "stdout",
     "output_type": "stream",
     "text": [
      "jam_axi_proj(align='sph', moment='zz') -- elapsed time sec: 0.77\n",
      "analytic_los=0 logistic=0 constant_anisotropy=1\n",
      "No PSF/pixel convolution because sigmapsf=0 pixsize=0\n",
      "inc=40.2; beta[0]=0.0; kappa=1.00; M/L=1.00; BH=0.0; chi2/DOF=nan\n",
      "Total mass MGE (MSun): 8.783e+12\n",
      "\n",
      "sigma_e: 130.10 km/s\n",
      "theta_E: 0.452 arcsec\n"
     ]
    },
    {
     "name": "stdout",
     "output_type": "stream",
     "text": [
      "jam_axi_proj(align='sph', moment='zz') -- elapsed time sec: 0.79\n",
      "analytic_los=0 logistic=0 constant_anisotropy=1\n",
      "No PSF/pixel convolution because sigmapsf=0 pixsize=0\n",
      "inc=84.3; beta[0]=0.0; kappa=1.00; M/L=1.00; BH=0.0; chi2/DOF=nan\n",
      "Total mass MGE (MSun): 8.783e+12\n",
      "\n",
      "sigma_e: 140.33 km/s\n"
     ]
    },
    {
     "name": "stdout",
     "output_type": "stream",
     "text": [
      "theta_E: 0.445 arcsec\n"
     ]
    },
    {
     "name": "stdout",
     "output_type": "stream",
     "text": [
      "jam_axi_proj(align='sph', moment='zz') -- elapsed time sec: 0.79\n",
      "analytic_los=0 logistic=0 constant_anisotropy=1\n",
      "No PSF/pixel convolution because sigmapsf=0 pixsize=0\n",
      "inc=56.7; beta[0]=0.0; kappa=1.00; M/L=1.00; BH=0.0; chi2/DOF=nan\n",
      "Total mass MGE (MSun): 1.128e+13\n",
      "\n",
      "sigma_e: 141.44 km/s\n",
      "theta_E: 0.483 arcsec\n"
     ]
    },
    {
     "name": "stdout",
     "output_type": "stream",
     "text": [
      "jam_axi_proj(align='sph', moment='zz') -- elapsed time sec: 0.82\n",
      "analytic_los=0 logistic=0 constant_anisotropy=1\n",
      "No PSF/pixel convolution because sigmapsf=0 pixsize=0\n",
      "inc=68.2; beta[0]=0.0; kappa=1.00; M/L=1.00; BH=0.0; chi2/DOF=nan\n",
      "Total mass MGE (MSun): 1.128e+13\n",
      "\n",
      "sigma_e: 145.29 km/s\n",
      "theta_E: 0.526 arcsec\n"
     ]
    },
    {
     "name": "stdout",
     "output_type": "stream",
     "text": [
      "jam_axi_proj(align='sph', moment='zz') -- elapsed time sec: 0.79\n",
      "analytic_los=0 logistic=0 constant_anisotropy=1\n",
      "No PSF/pixel convolution because sigmapsf=0 pixsize=0\n",
      "inc=82.8; beta[0]=0.0; kappa=1.00; M/L=1.00; BH=0.0; chi2/DOF=nan\n",
      "Total mass MGE (MSun): 1.128e+13\n",
      "\n",
      "sigma_e: 147.66 km/s\n",
      "theta_E: 0.496 arcsec\n"
     ]
    },
    {
     "name": "stdout",
     "output_type": "stream",
     "text": [
      "jam_axi_proj(align='sph', moment='zz') -- elapsed time sec: 0.81\n",
      "analytic_los=0 logistic=0 constant_anisotropy=1\n",
      "No PSF/pixel convolution because sigmapsf=0 pixsize=0\n",
      "inc=71.9; beta[0]=0.0; kappa=1.00; M/L=1.00; BH=0.0; chi2/DOF=nan\n",
      "Total mass MGE (MSun): 1.128e+13\n",
      "\n",
      "sigma_e: 146.17 km/s\n",
      "theta_E: 0.529 arcsec\n"
     ]
    },
    {
     "name": "stdout",
     "output_type": "stream",
     "text": [
      "jam_axi_proj(align='sph', moment='zz') -- elapsed time sec: 0.80\n",
      "analytic_los=0 logistic=0 constant_anisotropy=1\n",
      "No PSF/pixel convolution because sigmapsf=0 pixsize=0\n",
      "inc=84.4; beta[0]=0.0; kappa=1.00; M/L=1.00; BH=0.0; chi2/DOF=nan\n",
      "Total mass MGE (MSun): 1.128e+13\n",
      "\n",
      "sigma_e: 147.77 km/s\n",
      "theta_E: 0.397 arcsec\n"
     ]
    },
    {
     "name": "stdout",
     "output_type": "stream",
     "text": [
      "jam_axi_proj(align='sph', moment='zz') -- elapsed time sec: 0.87\n",
      "analytic_los=0 logistic=0 constant_anisotropy=1\n",
      "No PSF/pixel convolution because sigmapsf=0 pixsize=0\n",
      "inc=36.7; beta[0]=0.0; kappa=1.00; M/L=1.00; BH=0.0; chi2/DOF=nan\n",
      "Total mass MGE (MSun): 1.128e+13\n",
      "\n",
      "sigma_e: 131.78 km/s\n",
      "theta_E: 0.490 arcsec\n"
     ]
    },
    {
     "name": "stdout",
     "output_type": "stream",
     "text": [
      "jam_axi_proj(align='sph', moment='zz') -- elapsed time sec: 0.84\n",
      "analytic_los=0 logistic=0 constant_anisotropy=1\n",
      "No PSF/pixel convolution because sigmapsf=0 pixsize=0\n",
      "inc=70.1; beta[0]=0.0; kappa=1.00; M/L=1.00; BH=0.0; chi2/DOF=nan\n",
      "Total mass MGE (MSun): 1.128e+13\n",
      "\n",
      "sigma_e: 145.76 km/s\n",
      "theta_E: 0.481 arcsec\n"
     ]
    },
    {
     "name": "stdout",
     "output_type": "stream",
     "text": [
      "jam_axi_proj(align='sph', moment='zz') -- elapsed time sec: 0.82\n",
      "analytic_los=0 logistic=0 constant_anisotropy=1\n",
      "No PSF/pixel convolution because sigmapsf=0 pixsize=0\n",
      "inc=67.5; beta[0]=0.0; kappa=1.00; M/L=1.00; BH=0.0; chi2/DOF=nan\n",
      "Total mass MGE (MSun): 1.128e+13\n",
      "\n",
      "sigma_e: 145.12 km/s\n",
      "theta_E: 0.507 arcsec\n"
     ]
    },
    {
     "name": "stdout",
     "output_type": "stream",
     "text": [
      "jam_axi_proj(align='sph', moment='zz') -- elapsed time sec: 0.80\n",
      "analytic_los=0 logistic=0 constant_anisotropy=1\n",
      "No PSF/pixel convolution because sigmapsf=0 pixsize=0\n",
      "inc=75.4; beta[0]=0.0; kappa=1.00; M/L=1.00; BH=0.0; chi2/DOF=nan\n",
      "Total mass MGE (MSun): 1.128e+13\n",
      "\n",
      "sigma_e: 146.80 km/s\n",
      "theta_E: 0.526 arcsec\n"
     ]
    },
    {
     "name": "stdout",
     "output_type": "stream",
     "text": [
      "jam_axi_proj(align='sph', moment='zz') -- elapsed time sec: 0.81\n",
      "analytic_los=0 logistic=0 constant_anisotropy=1\n",
      "No PSF/pixel convolution because sigmapsf=0 pixsize=0\n",
      "inc=82.5; beta[0]=0.0; kappa=1.00; M/L=1.00; BH=0.0; chi2/DOF=nan\n",
      "Total mass MGE (MSun): 1.128e+13\n",
      "\n",
      "sigma_e: 147.63 km/s\n"
     ]
    },
    {
     "name": "stdout",
     "output_type": "stream",
     "text": [
      "theta_E: 0.416 arcsec\n"
     ]
    },
    {
     "name": "stdout",
     "output_type": "stream",
     "text": [
      "jam_axi_proj(align='sph', moment='zz') -- elapsed time sec: 0.72\n",
      "analytic_los=0 logistic=0 constant_anisotropy=1\n",
      "No PSF/pixel convolution because sigmapsf=0 pixsize=0\n",
      "inc=82.1; beta[0]=0.0; kappa=1.00; M/L=1.00; BH=0.0; chi2/DOF=nan\n",
      "Total mass MGE (MSun): 8.097e+12\n",
      "\n",
      "sigma_e: 138.08 km/s\n",
      "theta_E: 0.372 arcsec\n"
     ]
    },
    {
     "name": "stdout",
     "output_type": "stream",
     "text": [
      "jam_axi_proj(align='sph', moment='zz') -- elapsed time sec: 0.74\n",
      "analytic_los=0 logistic=0 constant_anisotropy=1\n",
      "No PSF/pixel convolution because sigmapsf=0 pixsize=0\n",
      "inc=29.7; beta[0]=0.0; kappa=1.00; M/L=1.00; BH=0.0; chi2/DOF=nan\n",
      "Total mass MGE (MSun): 8.097e+12\n",
      "\n",
      "sigma_e: 130.65 km/s\n",
      "theta_E: 0.408 arcsec\n"
     ]
    },
    {
     "name": "stdout",
     "output_type": "stream",
     "text": [
      "jam_axi_proj(align='sph', moment='zz') -- elapsed time sec: 0.73\n",
      "analytic_los=0 logistic=0 constant_anisotropy=1\n",
      "No PSF/pixel convolution because sigmapsf=0 pixsize=0\n",
      "inc=70.0; beta[0]=0.0; kappa=1.00; M/L=1.00; BH=0.0; chi2/DOF=nan\n",
      "Total mass MGE (MSun): 8.097e+12\n",
      "\n",
      "sigma_e: 137.19 km/s\n",
      "theta_E: 0.402 arcsec\n"
     ]
    },
    {
     "name": "stdout",
     "output_type": "stream",
     "text": [
      "jam_axi_proj(align='sph', moment='zz') -- elapsed time sec: 0.74\n",
      "analytic_los=0 logistic=0 constant_anisotropy=1\n",
      "No PSF/pixel convolution because sigmapsf=0 pixsize=0\n",
      "inc=63.1; beta[0]=0.0; kappa=1.00; M/L=1.00; BH=0.0; chi2/DOF=nan\n",
      "Total mass MGE (MSun): 8.097e+12\n",
      "\n",
      "sigma_e: 136.36 km/s\n",
      "theta_E: 0.396 arcsec\n"
     ]
    },
    {
     "name": "stdout",
     "output_type": "stream",
     "text": [
      "jam_axi_proj(align='sph', moment='zz') -- elapsed time sec: 0.73\n",
      "analytic_los=0 logistic=0 constant_anisotropy=1\n",
      "No PSF/pixel convolution because sigmapsf=0 pixsize=0\n",
      "inc=57.3; beta[0]=0.0; kappa=1.00; M/L=1.00; BH=0.0; chi2/DOF=nan\n",
      "Total mass MGE (MSun): 8.097e+12\n",
      "\n",
      "sigma_e: 135.49 km/s\n",
      "theta_E: 0.411 arcsec\n"
     ]
    },
    {
     "name": "stdout",
     "output_type": "stream",
     "text": [
      "jam_axi_proj(align='sph', moment='zz') -- elapsed time sec: 0.74\n",
      "analytic_los=0 logistic=0 constant_anisotropy=1\n",
      "No PSF/pixel convolution because sigmapsf=0 pixsize=0\n",
      "inc=73.9; beta[0]=0.0; kappa=1.00; M/L=1.00; BH=0.0; chi2/DOF=nan\n",
      "Total mass MGE (MSun): 8.097e+12\n",
      "\n",
      "sigma_e: 137.57 km/s\n",
      "theta_E: 0.368 arcsec\n"
     ]
    },
    {
     "name": "stdout",
     "output_type": "stream",
     "text": [
      "jam_axi_proj(align='sph', moment='zz') -- elapsed time sec: 0.73\n",
      "analytic_los=0 logistic=0 constant_anisotropy=1\n",
      "No PSF/pixel convolution because sigmapsf=0 pixsize=0\n",
      "inc=23.8; beta[0]=0.0; kappa=1.00; M/L=1.00; BH=0.0; chi2/DOF=nan\n",
      "Total mass MGE (MSun): 8.097e+12\n",
      "\n",
      "sigma_e: 129.71 km/s\n",
      "theta_E: 0.410 arcsec\n"
     ]
    },
    {
     "name": "stdout",
     "output_type": "stream",
     "text": [
      "jam_axi_proj(align='sph', moment='zz') -- elapsed time sec: 0.74\n",
      "analytic_los=0 logistic=0 constant_anisotropy=1\n",
      "No PSF/pixel convolution because sigmapsf=0 pixsize=0\n",
      "inc=71.7; beta[0]=0.0; kappa=1.00; M/L=1.00; BH=0.0; chi2/DOF=nan\n",
      "Total mass MGE (MSun): 8.097e+12\n",
      "\n",
      "sigma_e: 137.37 km/s\n",
      "theta_E: 0.374 arcsec\n"
     ]
    },
    {
     "name": "stdout",
     "output_type": "stream",
     "text": [
      "jam_axi_proj(align='sph', moment='zz') -- elapsed time sec: 0.73\n",
      "analytic_los=0 logistic=0 constant_anisotropy=1\n",
      "No PSF/pixel convolution because sigmapsf=0 pixsize=0\n",
      "inc=32.5; beta[0]=0.0; kappa=1.00; M/L=1.00; BH=0.0; chi2/DOF=nan\n",
      "Total mass MGE (MSun): 8.097e+12\n",
      "\n",
      "sigma_e: 131.12 km/s\n",
      "theta_E: 0.404 arcsec\n"
     ]
    },
    {
     "name": "stdout",
     "output_type": "stream",
     "text": [
      "jam_axi_proj(align='sph', moment='zz') -- elapsed time sec: 0.74\n",
      "analytic_los=0 logistic=0 constant_anisotropy=1\n",
      "No PSF/pixel convolution because sigmapsf=0 pixsize=0\n",
      "inc=65.5; beta[0]=0.0; kappa=1.00; M/L=1.00; BH=0.0; chi2/DOF=nan\n",
      "Total mass MGE (MSun): 8.097e+12\n",
      "\n",
      "sigma_e: 136.68 km/s\n"
     ]
    },
    {
     "name": "stdout",
     "output_type": "stream",
     "text": [
      "theta_E: 0.271 arcsec\n"
     ]
    },
    {
     "name": "stdout",
     "output_type": "stream",
     "text": [
      "jam_axi_proj(align='sph', moment='zz') -- elapsed time sec: 0.77\n",
      "analytic_los=0 logistic=0 constant_anisotropy=1\n",
      "No PSF/pixel convolution because sigmapsf=0 pixsize=0\n",
      "inc=18.8; beta[0]=0.0; kappa=1.00; M/L=1.00; BH=0.0; chi2/DOF=nan\n",
      "Total mass MGE (MSun): 6.812e+12\n",
      "\n",
      "sigma_e: 101.55 km/s\n",
      "theta_E: 0.292 arcsec\n"
     ]
    },
    {
     "name": "stdout",
     "output_type": "stream",
     "text": [
      "jam_axi_proj(align='sph', moment='zz') -- elapsed time sec: 0.80\n",
      "analytic_los=0 logistic=0 constant_anisotropy=1\n",
      "No PSF/pixel convolution because sigmapsf=0 pixsize=0\n",
      "inc=37.8; beta[0]=0.0; kappa=1.00; M/L=1.00; BH=0.0; chi2/DOF=nan\n",
      "Total mass MGE (MSun): 6.812e+12\n",
      "\n",
      "sigma_e: 111.75 km/s\n",
      "theta_E: 0.361 arcsec\n"
     ]
    },
    {
     "name": "stdout",
     "output_type": "stream",
     "text": [
      "jam_axi_proj(align='sph', moment='zz') -- elapsed time sec: 0.78\n",
      "analytic_los=0 logistic=0 constant_anisotropy=1\n",
      "No PSF/pixel convolution because sigmapsf=0 pixsize=0\n",
      "inc=65.9; beta[0]=0.0; kappa=1.00; M/L=1.00; BH=0.0; chi2/DOF=nan\n",
      "Total mass MGE (MSun): 6.812e+12\n",
      "\n",
      "sigma_e: 125.12 km/s\n",
      "theta_E: 0.390 arcsec\n"
     ]
    },
    {
     "name": "stdout",
     "output_type": "stream",
     "text": [
      "jam_axi_proj(align='sph', moment='zz') -- elapsed time sec: 0.79\n",
      "analytic_los=0 logistic=0 constant_anisotropy=1\n",
      "No PSF/pixel convolution because sigmapsf=0 pixsize=0\n",
      "inc=73.9; beta[0]=0.0; kappa=1.00; M/L=1.00; BH=0.0; chi2/DOF=nan\n",
      "Total mass MGE (MSun): 6.812e+12\n",
      "\n",
      "sigma_e: 126.98 km/s\n",
      "theta_E: 0.354 arcsec\n"
     ]
    },
    {
     "name": "stdout",
     "output_type": "stream",
     "text": [
      "jam_axi_proj(align='sph', moment='zz') -- elapsed time sec: 0.78\n",
      "analytic_los=0 logistic=0 constant_anisotropy=1\n",
      "No PSF/pixel convolution because sigmapsf=0 pixsize=0\n",
      "inc=63.6; beta[0]=0.0; kappa=1.00; M/L=1.00; BH=0.0; chi2/DOF=nan\n",
      "Total mass MGE (MSun): 6.812e+12\n",
      "\n",
      "sigma_e: 124.41 km/s\n",
      "theta_E: 0.276 arcsec\n"
     ]
    },
    {
     "name": "stdout",
     "output_type": "stream",
     "text": [
      "jam_axi_proj(align='sph', moment='zz') -- elapsed time sec: 0.79\n",
      "analytic_los=0 logistic=0 constant_anisotropy=1\n",
      "No PSF/pixel convolution because sigmapsf=0 pixsize=0\n",
      "inc=25.3; beta[0]=0.0; kappa=1.00; M/L=1.00; BH=0.0; chi2/DOF=nan\n",
      "Total mass MGE (MSun): 6.812e+12\n",
      "\n",
      "sigma_e: 104.65 km/s\n",
      "theta_E: 0.313 arcsec\n"
     ]
    },
    {
     "name": "stdout",
     "output_type": "stream",
     "text": [
      "jam_axi_proj(align='sph', moment='zz') -- elapsed time sec: 0.79\n",
      "analytic_los=0 logistic=0 constant_anisotropy=1\n",
      "No PSF/pixel convolution because sigmapsf=0 pixsize=0\n",
      "inc=49.1; beta[0]=0.0; kappa=1.00; M/L=1.00; BH=0.0; chi2/DOF=nan\n",
      "Total mass MGE (MSun): 6.812e+12\n",
      "\n",
      "sigma_e: 118.11 km/s\n",
      "theta_E: 0.426 arcsec\n"
     ]
    },
    {
     "name": "stdout",
     "output_type": "stream",
     "text": [
      "jam_axi_proj(align='sph', moment='zz') -- elapsed time sec: 0.79\n",
      "analytic_los=0 logistic=0 constant_anisotropy=1\n",
      "No PSF/pixel convolution because sigmapsf=0 pixsize=0\n",
      "inc=87.4; beta[0]=0.0; kappa=1.00; M/L=1.00; BH=0.0; chi2/DOF=nan\n",
      "Total mass MGE (MSun): 6.812e+12\n",
      "\n",
      "sigma_e: 128.13 km/s\n",
      "theta_E: 0.274 arcsec\n"
     ]
    },
    {
     "name": "stdout",
     "output_type": "stream",
     "text": [
      "jam_axi_proj(align='sph', moment='zz') -- elapsed time sec: 0.78\n",
      "analytic_los=0 logistic=0 constant_anisotropy=1\n",
      "No PSF/pixel convolution because sigmapsf=0 pixsize=0\n",
      "inc=22.6; beta[0]=0.0; kappa=1.00; M/L=1.00; BH=0.0; chi2/DOF=nan\n",
      "Total mass MGE (MSun): 6.812e+12\n",
      "\n",
      "sigma_e: 103.30 km/s\n",
      "theta_E: 0.286 arcsec\n"
     ]
    },
    {
     "name": "stdout",
     "output_type": "stream",
     "text": [
      "jam_axi_proj(align='sph', moment='zz') -- elapsed time sec: 0.80\n",
      "analytic_los=0 logistic=0 constant_anisotropy=1\n",
      "No PSF/pixel convolution because sigmapsf=0 pixsize=0\n",
      "inc=33.6; beta[0]=0.0; kappa=1.00; M/L=1.00; BH=0.0; chi2/DOF=nan\n",
      "Total mass MGE (MSun): 6.812e+12\n",
      "\n",
      "sigma_e: 109.33 km/s\n"
     ]
    },
    {
     "name": "stdout",
     "output_type": "stream",
     "text": [
      "theta_E: 0.408 arcsec\n"
     ]
    },
    {
     "name": "stdout",
     "output_type": "stream",
     "text": [
      "jam_axi_proj(align='sph', moment='zz') -- elapsed time sec: 0.79\n",
      "analytic_los=0 logistic=0 constant_anisotropy=1\n",
      "No PSF/pixel convolution because sigmapsf=0 pixsize=0\n",
      "inc=52.9; beta[0]=0.0; kappa=1.00; M/L=1.00; BH=0.0; chi2/DOF=nan\n",
      "Total mass MGE (MSun): 9.704e+12\n",
      "\n",
      "sigma_e: 135.73 km/s\n",
      "theta_E: 0.489 arcsec\n"
     ]
    },
    {
     "name": "stdout",
     "output_type": "stream",
     "text": [
      "jam_axi_proj(align='sph', moment='zz') -- elapsed time sec: 0.80\n",
      "analytic_los=0 logistic=0 constant_anisotropy=1\n",
      "No PSF/pixel convolution because sigmapsf=0 pixsize=0\n",
      "inc=89.9; beta[0]=0.0; kappa=1.00; M/L=1.00; BH=0.0; chi2/DOF=nan\n",
      "Total mass MGE (MSun): 9.704e+12\n",
      "\n",
      "sigma_e: 143.05 km/s\n",
      "theta_E: 0.390 arcsec\n"
     ]
    },
    {
     "name": "stdout",
     "output_type": "stream",
     "text": [
      "jam_axi_proj(align='sph', moment='zz') -- elapsed time sec: 0.83\n",
      "analytic_los=0 logistic=0 constant_anisotropy=1\n",
      "No PSF/pixel convolution because sigmapsf=0 pixsize=0\n",
      "inc=44.8; beta[0]=0.0; kappa=1.00; M/L=1.00; BH=0.0; chi2/DOF=nan\n",
      "Total mass MGE (MSun): 9.704e+12\n",
      "\n",
      "sigma_e: 132.27 km/s\n",
      "theta_E: 0.438 arcsec\n"
     ]
    },
    {
     "name": "stdout",
     "output_type": "stream",
     "text": [
      "jam_axi_proj(align='sph', moment='zz') -- elapsed time sec: 0.80\n",
      "analytic_los=0 logistic=0 constant_anisotropy=1\n",
      "No PSF/pixel convolution because sigmapsf=0 pixsize=0\n",
      "inc=64.2; beta[0]=0.0; kappa=1.00; M/L=1.00; BH=0.0; chi2/DOF=nan\n",
      "Total mass MGE (MSun): 9.704e+12\n",
      "\n",
      "sigma_e: 139.58 km/s\n",
      "theta_E: 0.487 arcsec\n"
     ]
    },
    {
     "name": "stdout",
     "output_type": "stream",
     "text": [
      "jam_axi_proj(align='sph', moment='zz') -- elapsed time sec: 0.78\n",
      "analytic_los=0 logistic=0 constant_anisotropy=1\n",
      "No PSF/pixel convolution because sigmapsf=0 pixsize=0\n",
      "inc=86.7; beta[0]=0.0; kappa=1.00; M/L=1.00; BH=0.0; chi2/DOF=nan\n",
      "Total mass MGE (MSun): 9.704e+12\n",
      "\n",
      "sigma_e: 143.00 km/s\n",
      "theta_E: 0.485 arcsec\n"
     ]
    },
    {
     "name": "stdout",
     "output_type": "stream",
     "text": [
      "jam_axi_proj(align='sph', moment='zz') -- elapsed time sec: 0.80\n",
      "analytic_los=0 logistic=0 constant_anisotropy=1\n",
      "No PSF/pixel convolution because sigmapsf=0 pixsize=0\n",
      "inc=83.8; beta[0]=0.0; kappa=1.00; M/L=1.00; BH=0.0; chi2/DOF=nan\n",
      "Total mass MGE (MSun): 9.704e+12\n",
      "\n",
      "sigma_e: 142.86 km/s\n",
      "theta_E: 0.360 arcsec\n"
     ]
    },
    {
     "name": "stdout",
     "output_type": "stream",
     "text": [
      "jam_axi_proj(align='sph', moment='zz') -- elapsed time sec: 0.79\n",
      "analytic_los=0 logistic=0 constant_anisotropy=1\n",
      "No PSF/pixel convolution because sigmapsf=0 pixsize=0\n",
      "inc=24.9; beta[0]=0.0; kappa=1.00; M/L=1.00; BH=0.0; chi2/DOF=nan\n",
      "Total mass MGE (MSun): 9.704e+12\n",
      "\n",
      "sigma_e: 123.55 km/s\n",
      "theta_E: 0.451 arcsec\n"
     ]
    },
    {
     "name": "stdout",
     "output_type": "stream",
     "text": [
      "jam_axi_proj(align='sph', moment='zz') -- elapsed time sec: 0.80\n",
      "analytic_los=0 logistic=0 constant_anisotropy=1\n",
      "No PSF/pixel convolution because sigmapsf=0 pixsize=0\n",
      "inc=68.7; beta[0]=0.0; kappa=1.00; M/L=1.00; BH=0.0; chi2/DOF=nan\n",
      "Total mass MGE (MSun): 9.704e+12\n",
      "\n",
      "sigma_e: 140.73 km/s\n",
      "theta_E: 0.423 arcsec\n"
     ]
    },
    {
     "name": "stdout",
     "output_type": "stream",
     "text": [
      "jam_axi_proj(align='sph', moment='zz') -- elapsed time sec: 0.79\n",
      "analytic_los=0 logistic=0 constant_anisotropy=1\n",
      "No PSF/pixel convolution because sigmapsf=0 pixsize=0\n",
      "inc=58.9; beta[0]=0.0; kappa=1.00; M/L=1.00; BH=0.0; chi2/DOF=nan\n",
      "Total mass MGE (MSun): 9.704e+12\n",
      "\n",
      "sigma_e: 137.93 km/s\n",
      "theta_E: 0.367 arcsec\n"
     ]
    },
    {
     "name": "stdout",
     "output_type": "stream",
     "text": [
      "jam_axi_proj(align='sph', moment='zz') -- elapsed time sec: 0.80\n",
      "analytic_los=0 logistic=0 constant_anisotropy=1\n",
      "No PSF/pixel convolution because sigmapsf=0 pixsize=0\n",
      "inc=31.4; beta[0]=0.0; kappa=1.00; M/L=1.00; BH=0.0; chi2/DOF=nan\n",
      "Total mass MGE (MSun): 9.704e+12\n",
      "\n",
      "sigma_e: 126.22 km/s\n"
     ]
    },
    {
     "name": "stdout",
     "output_type": "stream",
     "text": [
      "theta_E: 0.435 arcsec\n"
     ]
    },
    {
     "name": "stdout",
     "output_type": "stream",
     "text": [
      "jam_axi_proj(align='sph', moment='zz') -- elapsed time sec: 0.78\n",
      "analytic_los=0 logistic=0 constant_anisotropy=1\n",
      "No PSF/pixel convolution because sigmapsf=0 pixsize=0\n",
      "inc=74.2; beta[0]=0.0; kappa=1.00; M/L=1.00; BH=0.0; chi2/DOF=nan\n",
      "Total mass MGE (MSun): 8.414e+12\n",
      "\n",
      "sigma_e: 135.40 km/s\n",
      "theta_E: 0.379 arcsec\n"
     ]
    },
    {
     "name": "stdout",
     "output_type": "stream",
     "text": [
      "jam_axi_proj(align='sph', moment='zz') -- elapsed time sec: 0.79\n",
      "analytic_los=0 logistic=0 constant_anisotropy=1\n",
      "No PSF/pixel convolution because sigmapsf=0 pixsize=0\n",
      "inc=56.8; beta[0]=0.0; kappa=1.00; M/L=1.00; BH=0.0; chi2/DOF=nan\n",
      "Total mass MGE (MSun): 8.414e+12\n",
      "\n",
      "sigma_e: 130.34 km/s\n",
      "theta_E: 0.420 arcsec\n"
     ]
    },
    {
     "name": "stdout",
     "output_type": "stream",
     "text": [
      "jam_axi_proj(align='sph', moment='zz') -- elapsed time sec: 0.79\n",
      "analytic_los=0 logistic=0 constant_anisotropy=1\n",
      "No PSF/pixel convolution because sigmapsf=0 pixsize=0\n",
      "inc=69.8; beta[0]=0.0; kappa=1.00; M/L=1.00; BH=0.0; chi2/DOF=nan\n",
      "Total mass MGE (MSun): 8.414e+12\n",
      "\n",
      "sigma_e: 134.51 km/s\n",
      "theta_E: 0.412 arcsec\n"
     ]
    },
    {
     "name": "stdout",
     "output_type": "stream",
     "text": [
      "jam_axi_proj(align='sph', moment='zz') -- elapsed time sec: 0.81\n",
      "analytic_los=0 logistic=0 constant_anisotropy=1\n",
      "No PSF/pixel convolution because sigmapsf=0 pixsize=0\n",
      "inc=67.3; beta[0]=0.0; kappa=1.00; M/L=1.00; BH=0.0; chi2/DOF=nan\n",
      "Total mass MGE (MSun): 8.414e+12\n",
      "\n",
      "sigma_e: 133.91 km/s\n",
      "theta_E: 0.462 arcsec\n"
     ]
    },
    {
     "name": "stdout",
     "output_type": "stream",
     "text": [
      "jam_axi_proj(align='sph', moment='zz') -- elapsed time sec: 0.79\n",
      "analytic_los=0 logistic=0 constant_anisotropy=1\n",
      "No PSF/pixel convolution because sigmapsf=0 pixsize=0\n",
      "inc=84.8; beta[0]=0.0; kappa=1.00; M/L=1.00; BH=0.0; chi2/DOF=nan\n",
      "Total mass MGE (MSun): 8.414e+12\n",
      "\n",
      "sigma_e: 136.52 km/s\n",
      "theta_E: 0.422 arcsec\n"
     ]
    },
    {
     "name": "stdout",
     "output_type": "stream",
     "text": [
      "jam_axi_proj(align='sph', moment='zz') -- elapsed time sec: 0.80\n",
      "analytic_los=0 logistic=0 constant_anisotropy=1\n",
      "No PSF/pixel convolution because sigmapsf=0 pixsize=0\n",
      "inc=70.2; beta[0]=0.0; kappa=1.00; M/L=1.00; BH=0.0; chi2/DOF=nan\n",
      "Total mass MGE (MSun): 8.414e+12\n",
      "\n",
      "sigma_e: 134.60 km/s\n",
      "theta_E: 0.401 arcsec\n"
     ]
    },
    {
     "name": "stdout",
     "output_type": "stream",
     "text": [
      "jam_axi_proj(align='sph', moment='zz') -- elapsed time sec: 0.78\n",
      "analytic_los=0 logistic=0 constant_anisotropy=1\n",
      "No PSF/pixel convolution because sigmapsf=0 pixsize=0\n",
      "inc=63.9; beta[0]=0.0; kappa=1.00; M/L=1.00; BH=0.0; chi2/DOF=nan\n",
      "Total mass MGE (MSun): 8.414e+12\n",
      "\n",
      "sigma_e: 132.90 km/s\n",
      "theta_E: 0.409 arcsec\n"
     ]
    },
    {
     "name": "stdout",
     "output_type": "stream",
     "text": [
      "jam_axi_proj(align='sph', moment='zz') -- elapsed time sec: 0.81\n",
      "analytic_los=0 logistic=0 constant_anisotropy=1\n",
      "No PSF/pixel convolution because sigmapsf=0 pixsize=0\n",
      "inc=66.4; beta[0]=0.0; kappa=1.00; M/L=1.00; BH=0.0; chi2/DOF=nan\n",
      "Total mass MGE (MSun): 8.414e+12\n",
      "\n",
      "sigma_e: 133.65 km/s\n",
      "theta_E: 0.325 arcsec\n"
     ]
    },
    {
     "name": "stdout",
     "output_type": "stream",
     "text": [
      "jam_axi_proj(align='sph', moment='zz') -- elapsed time sec: 0.80\n",
      "analytic_los=0 logistic=0 constant_anisotropy=1\n",
      "No PSF/pixel convolution because sigmapsf=0 pixsize=0\n",
      "inc=29.6; beta[0]=0.0; kappa=1.00; M/L=1.00; BH=0.0; chi2/DOF=nan\n",
      "Total mass MGE (MSun): 8.414e+12\n",
      "\n",
      "sigma_e: 116.62 km/s\n",
      "theta_E: 0.390 arcsec\n"
     ]
    },
    {
     "name": "stdout",
     "output_type": "stream",
     "text": [
      "jam_axi_proj(align='sph', moment='zz') -- elapsed time sec: 0.79\n",
      "analytic_los=0 logistic=0 constant_anisotropy=1\n",
      "No PSF/pixel convolution because sigmapsf=0 pixsize=0\n",
      "inc=60.5; beta[0]=0.0; kappa=1.00; M/L=1.00; BH=0.0; chi2/DOF=nan\n",
      "Total mass MGE (MSun): 8.414e+12\n",
      "\n",
      "sigma_e: 131.75 km/s\n"
     ]
    },
    {
     "name": "stdout",
     "output_type": "stream",
     "text": [
      "theta_E: 0.397 arcsec\n"
     ]
    },
    {
     "name": "stdout",
     "output_type": "stream",
     "text": [
      "jam_axi_proj(align='sph', moment='zz') -- elapsed time sec: 0.76\n",
      "analytic_los=0 logistic=0 constant_anisotropy=1\n",
      "No PSF/pixel convolution because sigmapsf=0 pixsize=0\n",
      "inc=42.4; beta[0]=0.0; kappa=1.00; M/L=1.00; BH=0.0; chi2/DOF=nan\n",
      "Total mass MGE (MSun): 1.005e+13\n",
      "\n",
      "sigma_e: 132.58 km/s\n",
      "theta_E: 0.483 arcsec\n"
     ]
    },
    {
     "name": "stdout",
     "output_type": "stream",
     "text": [
      "jam_axi_proj(align='sph', moment='zz') -- elapsed time sec: 0.82\n",
      "analytic_los=0 logistic=0 constant_anisotropy=1\n",
      "No PSF/pixel convolution because sigmapsf=0 pixsize=0\n",
      "inc=79.7; beta[0]=0.0; kappa=1.00; M/L=1.00; BH=0.0; chi2/DOF=nan\n",
      "Total mass MGE (MSun): 1.005e+13\n",
      "\n",
      "sigma_e: 143.05 km/s\n",
      "theta_E: 0.436 arcsec\n"
     ]
    },
    {
     "name": "stdout",
     "output_type": "stream",
     "text": [
      "jam_axi_proj(align='sph', moment='zz') -- elapsed time sec: 0.76\n",
      "analytic_los=0 logistic=0 constant_anisotropy=1\n",
      "No PSF/pixel convolution because sigmapsf=0 pixsize=0\n",
      "inc=60.0; beta[0]=0.0; kappa=1.00; M/L=1.00; BH=0.0; chi2/DOF=nan\n",
      "Total mass MGE (MSun): 1.005e+13\n",
      "\n",
      "sigma_e: 139.12 km/s\n",
      "theta_E: 0.492 arcsec\n"
     ]
    },
    {
     "name": "stdout",
     "output_type": "stream",
     "text": [
      "jam_axi_proj(align='sph', moment='zz') -- elapsed time sec: 0.77\n",
      "analytic_los=0 logistic=0 constant_anisotropy=1\n",
      "No PSF/pixel convolution because sigmapsf=0 pixsize=0\n",
      "inc=87.9; beta[0]=0.0; kappa=1.00; M/L=1.00; BH=0.0; chi2/DOF=nan\n",
      "Total mass MGE (MSun): 1.005e+13\n",
      "\n",
      "sigma_e: 143.47 km/s\n",
      "theta_E: 0.493 arcsec\n"
     ]
    },
    {
     "name": "stdout",
     "output_type": "stream",
     "text": [
      "jam_axi_proj(align='sph', moment='zz') -- elapsed time sec: 0.76\n",
      "analytic_los=0 logistic=0 constant_anisotropy=1\n",
      "No PSF/pixel convolution because sigmapsf=0 pixsize=0\n",
      "inc=89.7; beta[0]=0.0; kappa=1.00; M/L=1.00; BH=0.0; chi2/DOF=nan\n",
      "Total mass MGE (MSun): 1.005e+13\n",
      "\n",
      "sigma_e: 143.49 km/s\n",
      "theta_E: 0.464 arcsec\n"
     ]
    },
    {
     "name": "stdout",
     "output_type": "stream",
     "text": [
      "jam_axi_proj(align='sph', moment='zz') -- elapsed time sec: 0.78\n",
      "analytic_los=0 logistic=0 constant_anisotropy=1\n",
      "No PSF/pixel convolution because sigmapsf=0 pixsize=0\n",
      "inc=70.6; beta[0]=0.0; kappa=1.00; M/L=1.00; BH=0.0; chi2/DOF=nan\n",
      "Total mass MGE (MSun): 1.005e+13\n",
      "\n",
      "sigma_e: 141.73 km/s\n",
      "theta_E: 0.452 arcsec\n"
     ]
    },
    {
     "name": "stdout",
     "output_type": "stream",
     "text": [
      "jam_axi_proj(align='sph', moment='zz') -- elapsed time sec: 0.77\n",
      "analytic_los=0 logistic=0 constant_anisotropy=1\n",
      "No PSF/pixel convolution because sigmapsf=0 pixsize=0\n",
      "inc=66.0; beta[0]=0.0; kappa=1.00; M/L=1.00; BH=0.0; chi2/DOF=nan\n",
      "Total mass MGE (MSun): 1.005e+13\n",
      "\n",
      "sigma_e: 140.71 km/s\n",
      "theta_E: 0.468 arcsec\n"
     ]
    },
    {
     "name": "stdout",
     "output_type": "stream",
     "text": [
      "jam_axi_proj(align='sph', moment='zz') -- elapsed time sec: 0.77\n",
      "analytic_los=0 logistic=0 constant_anisotropy=1\n",
      "No PSF/pixel convolution because sigmapsf=0 pixsize=0\n",
      "inc=72.4; beta[0]=0.0; kappa=1.00; M/L=1.00; BH=0.0; chi2/DOF=nan\n",
      "Total mass MGE (MSun): 1.005e+13\n",
      "\n",
      "sigma_e: 142.05 km/s\n",
      "theta_E: 0.493 arcsec\n"
     ]
    },
    {
     "name": "stdout",
     "output_type": "stream",
     "text": [
      "jam_axi_proj(align='sph', moment='zz') -- elapsed time sec: 0.76\n",
      "analytic_los=0 logistic=0 constant_anisotropy=1\n",
      "No PSF/pixel convolution because sigmapsf=0 pixsize=0\n",
      "inc=89.8; beta[0]=0.0; kappa=1.00; M/L=1.00; BH=0.0; chi2/DOF=nan\n",
      "Total mass MGE (MSun): 1.005e+13\n",
      "\n",
      "sigma_e: 143.49 km/s\n",
      "theta_E: 0.465 arcsec\n"
     ]
    },
    {
     "name": "stdout",
     "output_type": "stream",
     "text": [
      "jam_axi_proj(align='sph', moment='zz') -- elapsed time sec: 0.78\n",
      "analytic_los=0 logistic=0 constant_anisotropy=1\n",
      "No PSF/pixel convolution because sigmapsf=0 pixsize=0\n",
      "inc=71.1; beta[0]=0.0; kappa=1.00; M/L=1.00; BH=0.0; chi2/DOF=nan\n",
      "Total mass MGE (MSun): 1.005e+13\n",
      "\n",
      "sigma_e: 141.81 km/s\n"
     ]
    },
    {
     "name": "stdout",
     "output_type": "stream",
     "text": [
      "theta_E: 0.410 arcsec\n"
     ]
    },
    {
     "name": "stdout",
     "output_type": "stream",
     "text": [
      "jam_axi_proj(align='sph', moment='zz') -- elapsed time sec: 0.78\n",
      "analytic_los=0 logistic=0 constant_anisotropy=1\n",
      "No PSF/pixel convolution because sigmapsf=0 pixsize=0\n",
      "inc=48.3; beta[0]=0.0; kappa=1.00; M/L=1.00; BH=0.0; chi2/DOF=nan\n",
      "Total mass MGE (MSun): 1.082e+13\n",
      "\n",
      "sigma_e: 135.41 km/s\n",
      "theta_E: 0.357 arcsec\n"
     ]
    },
    {
     "name": "stdout",
     "output_type": "stream",
     "text": [
      "jam_axi_proj(align='sph', moment='zz') -- elapsed time sec: 0.79\n",
      "analytic_los=0 logistic=0 constant_anisotropy=1\n",
      "No PSF/pixel convolution because sigmapsf=0 pixsize=0\n",
      "inc=12.0; beta[0]=0.0; kappa=1.00; M/L=1.00; BH=0.0; chi2/DOF=nan\n",
      "Total mass MGE (MSun): 1.082e+13\n",
      "\n",
      "sigma_e: 118.10 km/s\n",
      "theta_E: 0.497 arcsec\n"
     ]
    },
    {
     "name": "stdout",
     "output_type": "stream",
     "text": [
      "jam_axi_proj(align='sph', moment='zz') -- elapsed time sec: 0.79\n",
      "analytic_los=0 logistic=0 constant_anisotropy=1\n",
      "No PSF/pixel convolution because sigmapsf=0 pixsize=0\n",
      "inc=75.1; beta[0]=0.0; kappa=1.00; M/L=1.00; BH=0.0; chi2/DOF=nan\n",
      "Total mass MGE (MSun): 1.082e+13\n",
      "\n",
      "sigma_e: 144.74 km/s\n",
      "theta_E: 0.522 arcsec\n"
     ]
    },
    {
     "name": "stdout",
     "output_type": "stream",
     "text": [
      "jam_axi_proj(align='sph', moment='zz') -- elapsed time sec: 0.80\n",
      "analytic_los=0 logistic=0 constant_anisotropy=1\n",
      "No PSF/pixel convolution because sigmapsf=0 pixsize=0\n",
      "inc=85.2; beta[0]=0.0; kappa=1.00; M/L=1.00; BH=0.0; chi2/DOF=nan\n",
      "Total mass MGE (MSun): 1.082e+13\n",
      "\n",
      "sigma_e: 145.77 km/s\n",
      "theta_E: 0.420 arcsec\n"
     ]
    },
    {
     "name": "stdout",
     "output_type": "stream",
     "text": [
      "jam_axi_proj(align='sph', moment='zz') -- elapsed time sec: 0.78\n",
      "analytic_los=0 logistic=0 constant_anisotropy=1\n",
      "No PSF/pixel convolution because sigmapsf=0 pixsize=0\n",
      "inc=52.0; beta[0]=0.0; kappa=1.00; M/L=1.00; BH=0.0; chi2/DOF=nan\n",
      "Total mass MGE (MSun): 1.082e+13\n",
      "\n",
      "sigma_e: 137.21 km/s\n",
      "theta_E: 0.513 arcsec\n"
     ]
    },
    {
     "name": "stdout",
     "output_type": "stream",
     "text": [
      "jam_axi_proj(align='sph', moment='zz') -- elapsed time sec: 0.80\n",
      "analytic_los=0 logistic=0 constant_anisotropy=1\n",
      "No PSF/pixel convolution because sigmapsf=0 pixsize=0\n",
      "inc=80.5; beta[0]=0.0; kappa=1.00; M/L=1.00; BH=0.0; chi2/DOF=nan\n",
      "Total mass MGE (MSun): 1.082e+13\n",
      "\n",
      "sigma_e: 145.45 km/s\n",
      "theta_E: 0.504 arcsec\n"
     ]
    },
    {
     "name": "stdout",
     "output_type": "stream",
     "text": [
      "jam_axi_proj(align='sph', moment='zz') -- elapsed time sec: 0.78\n",
      "analytic_los=0 logistic=0 constant_anisotropy=1\n",
      "No PSF/pixel convolution because sigmapsf=0 pixsize=0\n",
      "inc=77.6; beta[0]=0.0; kappa=1.00; M/L=1.00; BH=0.0; chi2/DOF=nan\n",
      "Total mass MGE (MSun): 1.082e+13\n",
      "\n",
      "sigma_e: 145.09 km/s\n",
      "theta_E: 0.474 arcsec\n"
     ]
    },
    {
     "name": "stdout",
     "output_type": "stream",
     "text": [
      "jam_axi_proj(align='sph', moment='zz') -- elapsed time sec: 0.81\n",
      "analytic_los=0 logistic=0 constant_anisotropy=1\n",
      "No PSF/pixel convolution because sigmapsf=0 pixsize=0\n",
      "inc=68.6; beta[0]=0.0; kappa=1.00; M/L=1.00; BH=0.0; chi2/DOF=nan\n",
      "Total mass MGE (MSun): 1.082e+13\n",
      "\n",
      "sigma_e: 143.36 km/s\n",
      "theta_E: 0.359 arcsec\n"
     ]
    },
    {
     "name": "stdout",
     "output_type": "stream",
     "text": [
      "jam_axi_proj(align='sph', moment='zz') -- elapsed time sec: 0.78\n",
      "analytic_los=0 logistic=0 constant_anisotropy=1\n",
      "No PSF/pixel convolution because sigmapsf=0 pixsize=0\n",
      "inc=14.9; beta[0]=0.0; kappa=1.00; M/L=1.00; BH=0.0; chi2/DOF=nan\n",
      "Total mass MGE (MSun): 1.082e+13\n",
      "\n",
      "sigma_e: 118.96 km/s\n",
      "theta_E: 0.457 arcsec\n"
     ]
    },
    {
     "name": "stdout",
     "output_type": "stream",
     "text": [
      "jam_axi_proj(align='sph', moment='zz') -- elapsed time sec: 0.80\n",
      "analytic_los=0 logistic=0 constant_anisotropy=1\n",
      "No PSF/pixel convolution because sigmapsf=0 pixsize=0\n",
      "inc=63.9; beta[0]=0.0; kappa=1.00; M/L=1.00; BH=0.0; chi2/DOF=nan\n",
      "Total mass MGE (MSun): 1.082e+13\n",
      "\n",
      "sigma_e: 141.99 km/s\n"
     ]
    },
    {
     "name": "stdout",
     "output_type": "stream",
     "text": [
      "theta_E: 0.511 arcsec\n"
     ]
    },
    {
     "name": "stdout",
     "output_type": "stream",
     "text": [
      "jam_axi_proj(align='sph', moment='zz') -- elapsed time sec: 0.80\n",
      "analytic_los=0 logistic=0 constant_anisotropy=1\n",
      "No PSF/pixel convolution because sigmapsf=0 pixsize=0\n",
      "inc=60.8; beta[0]=0.0; kappa=1.00; M/L=1.00; BH=0.0; chi2/DOF=nan\n",
      "Total mass MGE (MSun): 1.426e+13\n",
      "\n",
      "sigma_e: 150.53 km/s\n",
      "theta_E: 0.475 arcsec\n"
     ]
    },
    {
     "name": "stdout",
     "output_type": "stream",
     "text": [
      "jam_axi_proj(align='sph', moment='zz') -- elapsed time sec: 0.80\n",
      "analytic_los=0 logistic=0 constant_anisotropy=1\n",
      "No PSF/pixel convolution because sigmapsf=0 pixsize=0\n",
      "inc=50.7; beta[0]=0.0; kappa=1.00; M/L=1.00; BH=0.0; chi2/DOF=nan\n",
      "Total mass MGE (MSun): 1.426e+13\n",
      "\n",
      "sigma_e: 145.73 km/s\n",
      "theta_E: 0.411 arcsec\n"
     ]
    },
    {
     "name": "stdout",
     "output_type": "stream",
     "text": [
      "jam_axi_proj(align='sph', moment='zz') -- elapsed time sec: 0.83\n",
      "analytic_los=0 logistic=0 constant_anisotropy=1\n",
      "No PSF/pixel convolution because sigmapsf=0 pixsize=0\n",
      "inc=18.4; beta[0]=0.0; kappa=1.00; M/L=1.00; BH=0.0; chi2/DOF=nan\n",
      "Total mass MGE (MSun): 1.426e+13\n",
      "\n",
      "sigma_e: 127.40 km/s\n",
      "theta_E: 0.512 arcsec\n"
     ]
    },
    {
     "name": "stdout",
     "output_type": "stream",
     "text": [
      "jam_axi_proj(align='sph', moment='zz') -- elapsed time sec: 0.88\n",
      "analytic_los=0 logistic=0 constant_anisotropy=1\n",
      "No PSF/pixel convolution because sigmapsf=0 pixsize=0\n",
      "inc=60.8; beta[0]=0.0; kappa=1.00; M/L=1.00; BH=0.0; chi2/DOF=nan\n",
      "Total mass MGE (MSun): 1.426e+13\n",
      "\n",
      "sigma_e: 150.55 km/s\n",
      "theta_E: 0.606 arcsec\n"
     ]
    },
    {
     "name": "stdout",
     "output_type": "stream",
     "text": [
      "jam_axi_proj(align='sph', moment='zz') -- elapsed time sec: 0.79\n",
      "analytic_los=0 logistic=0 constant_anisotropy=1\n",
      "No PSF/pixel convolution because sigmapsf=0 pixsize=0\n",
      "inc=87.6; beta[0]=0.0; kappa=1.00; M/L=1.00; BH=0.0; chi2/DOF=nan\n",
      "Total mass MGE (MSun): 1.426e+13\n",
      "\n",
      "sigma_e: 155.92 km/s\n",
      "theta_E: 0.404 arcsec\n"
     ]
    },
    {
     "name": "stdout",
     "output_type": "stream",
     "text": [
      "jam_axi_proj(align='sph', moment='zz') -- elapsed time sec: 0.80\n",
      "analytic_los=0 logistic=0 constant_anisotropy=1\n",
      "No PSF/pixel convolution because sigmapsf=0 pixsize=0\n",
      "inc=8.07; beta[0]=0.0; kappa=1.00; M/L=1.00; BH=0.0; chi2/DOF=nan\n",
      "Total mass MGE (MSun): 1.426e+13\n",
      "\n",
      "sigma_e: 123.97 km/s\n",
      "theta_E: 0.563 arcsec\n"
     ]
    },
    {
     "name": "stdout",
     "output_type": "stream",
     "text": [
      "jam_axi_proj(align='sph', moment='zz') -- elapsed time sec: 0.83\n",
      "analytic_los=0 logistic=0 constant_anisotropy=1\n",
      "No PSF/pixel convolution because sigmapsf=0 pixsize=0\n",
      "inc=72.9; beta[0]=0.0; kappa=1.00; M/L=1.00; BH=0.0; chi2/DOF=nan\n",
      "Total mass MGE (MSun): 1.426e+13\n",
      "\n",
      "sigma_e: 154.30 km/s\n",
      "theta_E: 0.456 arcsec\n"
     ]
    },
    {
     "name": "stdout",
     "output_type": "stream",
     "text": [
      "jam_axi_proj(align='sph', moment='zz') -- elapsed time sec: 0.86\n",
      "analytic_los=0 logistic=0 constant_anisotropy=1\n",
      "No PSF/pixel convolution because sigmapsf=0 pixsize=0\n",
      "inc=44.3; beta[0]=0.0; kappa=1.00; M/L=1.00; BH=0.0; chi2/DOF=nan\n",
      "Total mass MGE (MSun): 1.426e+13\n",
      "\n",
      "sigma_e: 142.09 km/s\n",
      "theta_E: 0.482 arcsec\n"
     ]
    },
    {
     "name": "stdout",
     "output_type": "stream",
     "text": [
      "jam_axi_proj(align='sph', moment='zz') -- elapsed time sec: 0.79\n",
      "analytic_los=0 logistic=0 constant_anisotropy=1\n",
      "No PSF/pixel convolution because sigmapsf=0 pixsize=0\n",
      "inc=52.8; beta[0]=0.0; kappa=1.00; M/L=1.00; BH=0.0; chi2/DOF=nan\n",
      "Total mass MGE (MSun): 1.426e+13\n",
      "\n",
      "sigma_e: 146.85 km/s\n",
      "theta_E: 0.466 arcsec\n"
     ]
    },
    {
     "name": "stdout",
     "output_type": "stream",
     "text": [
      "jam_axi_proj(align='sph', moment='zz') -- elapsed time sec: 0.87\n",
      "analytic_los=0 logistic=0 constant_anisotropy=1\n",
      "No PSF/pixel convolution because sigmapsf=0 pixsize=0\n",
      "inc=47.9; beta[0]=0.0; kappa=1.00; M/L=1.00; BH=0.0; chi2/DOF=nan\n",
      "Total mass MGE (MSun): 1.426e+13\n",
      "\n",
      "sigma_e: 144.17 km/s\n"
     ]
    },
    {
     "name": "stdout",
     "output_type": "stream",
     "text": [
      "theta_E: 0.437 arcsec\n"
     ]
    },
    {
     "name": "stdout",
     "output_type": "stream",
     "text": [
      "jam_axi_proj(align='sph', moment='zz') -- elapsed time sec: 0.79\n",
      "analytic_los=0 logistic=0 constant_anisotropy=1\n",
      "No PSF/pixel convolution because sigmapsf=0 pixsize=0\n",
      "inc=83.1; beta[0]=0.0; kappa=1.00; M/L=1.00; BH=0.0; chi2/DOF=nan\n",
      "Total mass MGE (MSun): 7.905e+12\n",
      "\n",
      "sigma_e: 135.10 km/s\n",
      "theta_E: 0.320 arcsec\n"
     ]
    },
    {
     "name": "stdout",
     "output_type": "stream",
     "text": [
      "jam_axi_proj(align='sph', moment='zz') -- elapsed time sec: 0.78\n",
      "analytic_los=0 logistic=0 constant_anisotropy=1\n",
      "No PSF/pixel convolution because sigmapsf=0 pixsize=0\n",
      "inc=22.2; beta[0]=0.0; kappa=1.00; M/L=1.00; BH=0.0; chi2/DOF=nan\n",
      "Total mass MGE (MSun): 7.905e+12\n",
      "\n",
      "sigma_e: 115.38 km/s\n",
      "theta_E: 0.338 arcsec\n"
     ]
    },
    {
     "name": "stdout",
     "output_type": "stream",
     "text": [
      "jam_axi_proj(align='sph', moment='zz') -- elapsed time sec: 0.77\n",
      "analytic_los=0 logistic=0 constant_anisotropy=1\n",
      "No PSF/pixel convolution because sigmapsf=0 pixsize=0\n",
      "inc=37.3; beta[0]=0.0; kappa=1.00; M/L=1.00; BH=0.0; chi2/DOF=nan\n",
      "Total mass MGE (MSun): 7.905e+12\n",
      "\n",
      "sigma_e: 121.67 km/s\n",
      "theta_E: 0.434 arcsec\n"
     ]
    },
    {
     "name": "stdout",
     "output_type": "stream",
     "text": [
      "jam_axi_proj(align='sph', moment='zz') -- elapsed time sec: 0.81\n",
      "analytic_los=0 logistic=0 constant_anisotropy=1\n",
      "No PSF/pixel convolution because sigmapsf=0 pixsize=0\n",
      "inc=81.0; beta[0]=0.0; kappa=1.00; M/L=1.00; BH=0.0; chi2/DOF=nan\n",
      "Total mass MGE (MSun): 7.905e+12\n",
      "\n",
      "sigma_e: 134.93 km/s\n",
      "theta_E: 0.362 arcsec\n"
     ]
    },
    {
     "name": "stdout",
     "output_type": "stream",
     "text": [
      "jam_axi_proj(align='sph', moment='zz') -- elapsed time sec: 0.77\n",
      "analytic_los=0 logistic=0 constant_anisotropy=1\n",
      "No PSF/pixel convolution because sigmapsf=0 pixsize=0\n",
      "inc=50.9; beta[0]=0.0; kappa=1.00; M/L=1.00; BH=0.0; chi2/DOF=nan\n",
      "Total mass MGE (MSun): 7.905e+12\n",
      "\n",
      "sigma_e: 127.55 km/s\n",
      "theta_E: 0.328 arcsec\n"
     ]
    },
    {
     "name": "stdout",
     "output_type": "stream",
     "text": [
      "jam_axi_proj(align='sph', moment='zz') -- elapsed time sec: 0.78\n",
      "analytic_los=0 logistic=0 constant_anisotropy=1\n",
      "No PSF/pixel convolution because sigmapsf=0 pixsize=0\n",
      "inc=30.2; beta[0]=0.0; kappa=1.00; M/L=1.00; BH=0.0; chi2/DOF=nan\n",
      "Total mass MGE (MSun): 7.905e+12\n",
      "\n",
      "sigma_e: 118.58 km/s\n",
      "theta_E: 0.438 arcsec\n"
     ]
    },
    {
     "name": "stdout",
     "output_type": "stream",
     "text": [
      "jam_axi_proj(align='sph', moment='zz') -- elapsed time sec: 0.79\n",
      "analytic_los=0 logistic=0 constant_anisotropy=1\n",
      "No PSF/pixel convolution because sigmapsf=0 pixsize=0\n",
      "inc=83.7; beta[0]=0.0; kappa=1.00; M/L=1.00; BH=0.0; chi2/DOF=nan\n",
      "Total mass MGE (MSun): 7.905e+12\n",
      "\n",
      "sigma_e: 135.14 km/s\n",
      "theta_E: 0.435 arcsec\n"
     ]
    },
    {
     "name": "stdout",
     "output_type": "stream",
     "text": [
      "jam_axi_proj(align='sph', moment='zz') -- elapsed time sec: 0.81\n",
      "analytic_los=0 logistic=0 constant_anisotropy=1\n",
      "No PSF/pixel convolution because sigmapsf=0 pixsize=0\n",
      "inc=81.8; beta[0]=0.0; kappa=1.00; M/L=1.00; BH=0.0; chi2/DOF=nan\n",
      "Total mass MGE (MSun): 7.905e+12\n",
      "\n",
      "sigma_e: 135.00 km/s\n",
      "theta_E: 0.436 arcsec\n"
     ]
    },
    {
     "name": "stdout",
     "output_type": "stream",
     "text": [
      "jam_axi_proj(align='sph', moment='zz') -- elapsed time sec: 0.79\n",
      "analytic_los=0 logistic=0 constant_anisotropy=1\n",
      "No PSF/pixel convolution because sigmapsf=0 pixsize=0\n",
      "inc=82.4; beta[0]=0.0; kappa=1.00; M/L=1.00; BH=0.0; chi2/DOF=nan\n",
      "Total mass MGE (MSun): 7.905e+12\n",
      "\n",
      "sigma_e: 135.04 km/s\n",
      "theta_E: 0.398 arcsec\n"
     ]
    },
    {
     "name": "stdout",
     "output_type": "stream",
     "text": [
      "jam_axi_proj(align='sph', moment='zz') -- elapsed time sec: 0.81\n",
      "analytic_los=0 logistic=0 constant_anisotropy=1\n",
      "No PSF/pixel convolution because sigmapsf=0 pixsize=0\n",
      "inc=65.6; beta[0]=0.0; kappa=1.00; M/L=1.00; BH=0.0; chi2/DOF=nan\n",
      "Total mass MGE (MSun): 7.905e+12\n",
      "\n",
      "sigma_e: 132.40 km/s\n"
     ]
    },
    {
     "name": "stdout",
     "output_type": "stream",
     "text": [
      "theta_E: 0.384 arcsec\n"
     ]
    },
    {
     "name": "stdout",
     "output_type": "stream",
     "text": [
      "jam_axi_proj(align='sph', moment='zz') -- elapsed time sec: 0.78\n",
      "analytic_los=0 logistic=0 constant_anisotropy=1\n",
      "No PSF/pixel convolution because sigmapsf=0 pixsize=0\n",
      "inc=71.4; beta[0]=0.0; kappa=1.00; M/L=1.00; BH=0.0; chi2/DOF=nan\n",
      "Total mass MGE (MSun): 6.920e+12\n",
      "\n",
      "sigma_e: 127.38 km/s\n",
      "theta_E: 0.400 arcsec\n"
     ]
    },
    {
     "name": "stdout",
     "output_type": "stream",
     "text": [
      "jam_axi_proj(align='sph', moment='zz') -- elapsed time sec: 0.80\n",
      "analytic_los=0 logistic=0 constant_anisotropy=1\n",
      "No PSF/pixel convolution because sigmapsf=0 pixsize=0\n",
      "inc=75.7; beta[0]=0.0; kappa=1.00; M/L=1.00; BH=0.0; chi2/DOF=nan\n",
      "Total mass MGE (MSun): 6.920e+12\n",
      "\n",
      "sigma_e: 128.17 km/s\n",
      "theta_E: 0.273 arcsec\n"
     ]
    },
    {
     "name": "stdout",
     "output_type": "stream",
     "text": [
      "jam_axi_proj(align='sph', moment='zz') -- elapsed time sec: 0.78\n",
      "analytic_los=0 logistic=0 constant_anisotropy=1\n",
      "No PSF/pixel convolution because sigmapsf=0 pixsize=0\n",
      "inc=16.3; beta[0]=0.0; kappa=1.00; M/L=1.00; BH=0.0; chi2/DOF=nan\n",
      "Total mass MGE (MSun): 6.920e+12\n",
      "\n",
      "sigma_e: 102.39 km/s\n",
      "theta_E: 0.369 arcsec\n"
     ]
    },
    {
     "name": "stdout",
     "output_type": "stream",
     "text": [
      "jam_axi_proj(align='sph', moment='zz') -- elapsed time sec: 0.81\n",
      "analytic_los=0 logistic=0 constant_anisotropy=1\n",
      "No PSF/pixel convolution because sigmapsf=0 pixsize=0\n",
      "inc=66.9; beta[0]=0.0; kappa=1.00; M/L=1.00; BH=0.0; chi2/DOF=nan\n",
      "Total mass MGE (MSun): 6.920e+12\n",
      "\n",
      "sigma_e: 126.31 km/s\n",
      "theta_E: 0.416 arcsec\n"
     ]
    },
    {
     "name": "stdout",
     "output_type": "stream",
     "text": [
      "jam_axi_proj(align='sph', moment='zz') -- elapsed time sec: 0.79\n",
      "analytic_los=0 logistic=0 constant_anisotropy=1\n",
      "No PSF/pixel convolution because sigmapsf=0 pixsize=0\n",
      "inc=80.9; beta[0]=0.0; kappa=1.00; M/L=1.00; BH=0.0; chi2/DOF=nan\n",
      "Total mass MGE (MSun): 6.920e+12\n",
      "\n",
      "sigma_e: 128.74 km/s\n",
      "theta_E: 0.426 arcsec\n"
     ]
    },
    {
     "name": "stdout",
     "output_type": "stream",
     "text": [
      "jam_axi_proj(align='sph', moment='zz') -- elapsed time sec: 0.82\n",
      "analytic_los=0 logistic=0 constant_anisotropy=1\n",
      "No PSF/pixel convolution because sigmapsf=0 pixsize=0\n",
      "inc=85.5; beta[0]=0.0; kappa=1.00; M/L=1.00; BH=0.0; chi2/DOF=nan\n",
      "Total mass MGE (MSun): 6.920e+12\n",
      "\n",
      "sigma_e: 129.02 km/s\n",
      "theta_E: 0.396 arcsec\n"
     ]
    },
    {
     "name": "stdout",
     "output_type": "stream",
     "text": [
      "jam_axi_proj(align='sph', moment='zz') -- elapsed time sec: 0.79\n",
      "analytic_los=0 logistic=0 constant_anisotropy=1\n",
      "No PSF/pixel convolution because sigmapsf=0 pixsize=0\n",
      "inc=74.8; beta[0]=0.0; kappa=1.00; M/L=1.00; BH=0.0; chi2/DOF=nan\n",
      "Total mass MGE (MSun): 6.920e+12\n",
      "\n",
      "sigma_e: 128.02 km/s\n",
      "theta_E: 0.424 arcsec\n"
     ]
    },
    {
     "name": "stdout",
     "output_type": "stream",
     "text": [
      "jam_axi_proj(align='sph', moment='zz') -- elapsed time sec: 0.81\n",
      "analytic_los=0 logistic=0 constant_anisotropy=1\n",
      "No PSF/pixel convolution because sigmapsf=0 pixsize=0\n",
      "inc=84.3; beta[0]=0.0; kappa=1.00; M/L=1.00; BH=0.0; chi2/DOF=nan\n",
      "Total mass MGE (MSun): 6.920e+12\n",
      "\n",
      "sigma_e: 128.95 km/s\n",
      "theta_E: 0.352 arcsec\n"
     ]
    },
    {
     "name": "stdout",
     "output_type": "stream",
     "text": [
      "jam_axi_proj(align='sph', moment='zz') -- elapsed time sec: 0.79\n",
      "analytic_los=0 logistic=0 constant_anisotropy=1\n",
      "No PSF/pixel convolution because sigmapsf=0 pixsize=0\n",
      "inc=62.0; beta[0]=0.0; kappa=1.00; M/L=1.00; BH=0.0; chi2/DOF=nan\n",
      "Total mass MGE (MSun): 6.920e+12\n",
      "\n",
      "sigma_e: 124.76 km/s\n",
      "theta_E: 0.417 arcsec\n"
     ]
    },
    {
     "name": "stdout",
     "output_type": "stream",
     "text": [
      "jam_axi_proj(align='sph', moment='zz') -- elapsed time sec: 0.81\n",
      "analytic_los=0 logistic=0 constant_anisotropy=1\n",
      "No PSF/pixel convolution because sigmapsf=0 pixsize=0\n",
      "inc=81.4; beta[0]=0.0; kappa=1.00; M/L=1.00; BH=0.0; chi2/DOF=nan\n",
      "Total mass MGE (MSun): 6.920e+12\n",
      "\n",
      "sigma_e: 128.79 km/s\n"
     ]
    },
    {
     "name": "stdout",
     "output_type": "stream",
     "text": [
      "theta_E: 0.417 arcsec\n"
     ]
    },
    {
     "name": "stdout",
     "output_type": "stream",
     "text": [
      "jam_axi_proj(align='sph', moment='zz') -- elapsed time sec: 0.77\n",
      "analytic_los=0 logistic=0 constant_anisotropy=1\n",
      "No PSF/pixel convolution because sigmapsf=0 pixsize=0\n",
      "inc=87.4; beta[0]=0.0; kappa=1.00; M/L=1.00; BH=0.0; chi2/DOF=nan\n",
      "Total mass MGE (MSun): 7.168e+12\n",
      "\n",
      "sigma_e: 132.70 km/s\n",
      "theta_E: 0.326 arcsec\n"
     ]
    },
    {
     "name": "stdout",
     "output_type": "stream",
     "text": [
      "jam_axi_proj(align='sph', moment='zz') -- elapsed time sec: 0.79\n",
      "analytic_los=0 logistic=0 constant_anisotropy=1\n",
      "No PSF/pixel convolution because sigmapsf=0 pixsize=0\n",
      "inc=38.2; beta[0]=0.0; kappa=1.00; M/L=1.00; BH=0.0; chi2/DOF=nan\n",
      "Total mass MGE (MSun): 7.168e+12\n",
      "\n",
      "sigma_e: 120.45 km/s\n",
      "theta_E: 0.416 arcsec\n"
     ]
    },
    {
     "name": "stdout",
     "output_type": "stream",
     "text": [
      "jam_axi_proj(align='sph', moment='zz') -- elapsed time sec: 0.77\n",
      "analytic_los=0 logistic=0 constant_anisotropy=1\n",
      "No PSF/pixel convolution because sigmapsf=0 pixsize=0\n",
      "inc=87.3; beta[0]=0.0; kappa=1.00; M/L=1.00; BH=0.0; chi2/DOF=nan\n",
      "Total mass MGE (MSun): 7.168e+12\n",
      "\n",
      "sigma_e: 132.70 km/s\n",
      "theta_E: 0.304 arcsec\n"
     ]
    },
    {
     "name": "stdout",
     "output_type": "stream",
     "text": [
      "jam_axi_proj(align='sph', moment='zz') -- elapsed time sec: 0.78\n",
      "analytic_los=0 logistic=0 constant_anisotropy=1\n",
      "No PSF/pixel convolution because sigmapsf=0 pixsize=0\n",
      "inc=14.9; beta[0]=0.0; kappa=1.00; M/L=1.00; BH=0.0; chi2/DOF=nan\n",
      "Total mass MGE (MSun): 7.168e+12\n",
      "\n",
      "sigma_e: 112.26 km/s\n",
      "theta_E: 0.416 arcsec\n"
     ]
    },
    {
     "name": "stdout",
     "output_type": "stream",
     "text": [
      "jam_axi_proj(align='sph', moment='zz') -- elapsed time sec: 0.77\n",
      "analytic_los=0 logistic=0 constant_anisotropy=1\n",
      "No PSF/pixel convolution because sigmapsf=0 pixsize=0\n",
      "inc=87.3; beta[0]=0.0; kappa=1.00; M/L=1.00; BH=0.0; chi2/DOF=nan\n",
      "Total mass MGE (MSun): 7.168e+12\n",
      "\n",
      "sigma_e: 132.70 km/s\n",
      "theta_E: 0.415 arcsec\n"
     ]
    },
    {
     "name": "stdout",
     "output_type": "stream",
     "text": [
      "jam_axi_proj(align='sph', moment='zz') -- elapsed time sec: 0.78\n",
      "analytic_los=0 logistic=0 constant_anisotropy=1\n",
      "No PSF/pixel convolution because sigmapsf=0 pixsize=0\n",
      "inc=85.5; beta[0]=0.0; kappa=1.00; M/L=1.00; BH=0.0; chi2/DOF=nan\n",
      "Total mass MGE (MSun): 7.168e+12\n",
      "\n",
      "sigma_e: 132.64 km/s\n",
      "theta_E: 0.412 arcsec\n"
     ]
    },
    {
     "name": "stdout",
     "output_type": "stream",
     "text": [
      "jam_axi_proj(align='sph', moment='zz') -- elapsed time sec: 0.77\n",
      "analytic_los=0 logistic=0 constant_anisotropy=1\n",
      "No PSF/pixel convolution because sigmapsf=0 pixsize=0\n",
      "inc=81.8; beta[0]=0.0; kappa=1.00; M/L=1.00; BH=0.0; chi2/DOF=nan\n",
      "Total mass MGE (MSun): 7.168e+12\n",
      "\n",
      "sigma_e: 132.42 km/s\n",
      "theta_E: 0.337 arcsec\n"
     ]
    },
    {
     "name": "stdout",
     "output_type": "stream",
     "text": [
      "jam_axi_proj(align='sph', moment='zz') -- elapsed time sec: 0.78\n",
      "analytic_los=0 logistic=0 constant_anisotropy=1\n",
      "No PSF/pixel convolution because sigmapsf=0 pixsize=0\n",
      "inc=45.2; beta[0]=0.0; kappa=1.00; M/L=1.00; BH=0.0; chi2/DOF=nan\n",
      "Total mass MGE (MSun): 7.168e+12\n",
      "\n",
      "sigma_e: 123.27 km/s\n",
      "theta_E: 0.316 arcsec\n"
     ]
    },
    {
     "name": "stdout",
     "output_type": "stream",
     "text": [
      "jam_axi_proj(align='sph', moment='zz') -- elapsed time sec: 0.77\n",
      "analytic_los=0 logistic=0 constant_anisotropy=1\n",
      "No PSF/pixel convolution because sigmapsf=0 pixsize=0\n",
      "inc=30.3; beta[0]=0.0; kappa=1.00; M/L=1.00; BH=0.0; chi2/DOF=nan\n",
      "Total mass MGE (MSun): 7.168e+12\n",
      "\n",
      "sigma_e: 117.27 km/s\n",
      "theta_E: 0.402 arcsec\n"
     ]
    },
    {
     "name": "stdout",
     "output_type": "stream",
     "text": [
      "jam_axi_proj(align='sph', moment='zz') -- elapsed time sec: 0.78\n",
      "analytic_los=0 logistic=0 constant_anisotropy=1\n",
      "No PSF/pixel convolution because sigmapsf=0 pixsize=0\n",
      "inc=75.8; beta[0]=0.0; kappa=1.00; M/L=1.00; BH=0.0; chi2/DOF=nan\n",
      "Total mass MGE (MSun): 7.168e+12\n",
      "\n",
      "sigma_e: 131.81 km/s\n"
     ]
    },
    {
     "name": "stdout",
     "output_type": "stream",
     "text": [
      "theta_E: 0.369 arcsec\n"
     ]
    },
    {
     "name": "stdout",
     "output_type": "stream",
     "text": [
      "jam_axi_proj(align='sph', moment='zz') -- elapsed time sec: 0.80\n",
      "analytic_los=0 logistic=0 constant_anisotropy=1\n",
      "No PSF/pixel convolution because sigmapsf=0 pixsize=0\n",
      "inc=5.51; beta[0]=0.0; kappa=1.00; M/L=1.00; BH=0.0; chi2/DOF=nan\n",
      "Total mass MGE (MSun): 1.205e+13\n",
      "\n",
      "sigma_e: 117.92 km/s\n",
      "theta_E: 0.456 arcsec\n"
     ]
    },
    {
     "name": "stdout",
     "output_type": "stream",
     "text": [
      "jam_axi_proj(align='sph', moment='zz') -- elapsed time sec: 0.81\n",
      "analytic_los=0 logistic=0 constant_anisotropy=1\n",
      "No PSF/pixel convolution because sigmapsf=0 pixsize=0\n",
      "inc=57.2; beta[0]=0.0; kappa=1.00; M/L=1.00; BH=0.0; chi2/DOF=nan\n",
      "Total mass MGE (MSun): 1.205e+13\n",
      "\n",
      "sigma_e: 142.70 km/s\n",
      "theta_E: 0.502 arcsec\n"
     ]
    },
    {
     "name": "stdout",
     "output_type": "stream",
     "text": [
      "jam_axi_proj(align='sph', moment='zz') -- elapsed time sec: 0.80\n",
      "analytic_los=0 logistic=0 constant_anisotropy=1\n",
      "No PSF/pixel convolution because sigmapsf=0 pixsize=0\n",
      "inc=69.2; beta[0]=0.0; kappa=1.00; M/L=1.00; BH=0.0; chi2/DOF=nan\n",
      "Total mass MGE (MSun): 1.205e+13\n",
      "\n",
      "sigma_e: 146.95 km/s\n",
      "theta_E: 0.503 arcsec\n"
     ]
    },
    {
     "name": "stdout",
     "output_type": "stream",
     "text": [
      "jam_axi_proj(align='sph', moment='zz') -- elapsed time sec: 0.81\n",
      "analytic_los=0 logistic=0 constant_anisotropy=1\n",
      "No PSF/pixel convolution because sigmapsf=0 pixsize=0\n",
      "inc=69.4; beta[0]=0.0; kappa=1.00; M/L=1.00; BH=0.0; chi2/DOF=nan\n",
      "Total mass MGE (MSun): 1.205e+13\n",
      "\n",
      "sigma_e: 147.01 km/s\n",
      "theta_E: 0.494 arcsec\n"
     ]
    },
    {
     "name": "stdout",
     "output_type": "stream",
     "text": [
      "jam_axi_proj(align='sph', moment='zz') -- elapsed time sec: 0.79\n",
      "analytic_los=0 logistic=0 constant_anisotropy=1\n",
      "No PSF/pixel convolution because sigmapsf=0 pixsize=0\n",
      "inc=67.2; beta[0]=0.0; kappa=1.00; M/L=1.00; BH=0.0; chi2/DOF=nan\n",
      "Total mass MGE (MSun): 1.205e+13\n",
      "\n",
      "sigma_e: 146.41 km/s\n",
      "theta_E: 0.544 arcsec\n"
     ]
    },
    {
     "name": "stdout",
     "output_type": "stream",
     "text": [
      "jam_axi_proj(align='sph', moment='zz') -- elapsed time sec: 0.80\n",
      "analytic_los=0 logistic=0 constant_anisotropy=1\n",
      "No PSF/pixel convolution because sigmapsf=0 pixsize=0\n",
      "inc=80.4; beta[0]=0.0; kappa=1.00; M/L=1.00; BH=0.0; chi2/DOF=nan\n",
      "Total mass MGE (MSun): 1.205e+13\n",
      "\n",
      "sigma_e: 148.95 km/s\n",
      "theta_E: 0.557 arcsec\n"
     ]
    },
    {
     "name": "stdout",
     "output_type": "stream",
     "text": [
      "jam_axi_proj(align='sph', moment='zz') -- elapsed time sec: 0.80\n",
      "analytic_los=0 logistic=0 constant_anisotropy=1\n",
      "No PSF/pixel convolution because sigmapsf=0 pixsize=0\n",
      "inc=87.0; beta[0]=0.0; kappa=1.00; M/L=1.00; BH=0.0; chi2/DOF=nan\n",
      "Total mass MGE (MSun): 1.205e+13\n",
      "\n",
      "sigma_e: 149.40 km/s\n",
      "theta_E: 0.409 arcsec\n"
     ]
    },
    {
     "name": "stdout",
     "output_type": "stream",
     "text": [
      "jam_axi_proj(align='sph', moment='zz') -- elapsed time sec: 0.81\n",
      "analytic_los=0 logistic=0 constant_anisotropy=1\n",
      "No PSF/pixel convolution because sigmapsf=0 pixsize=0\n",
      "inc=40.7; beta[0]=0.0; kappa=1.00; M/L=1.00; BH=0.0; chi2/DOF=nan\n",
      "Total mass MGE (MSun): 1.205e+13\n",
      "\n",
      "sigma_e: 133.89 km/s\n",
      "theta_E: 0.396 arcsec\n"
     ]
    },
    {
     "name": "stdout",
     "output_type": "stream",
     "text": [
      "jam_axi_proj(align='sph', moment='zz') -- elapsed time sec: 0.83\n",
      "analytic_los=0 logistic=0 constant_anisotropy=1\n",
      "No PSF/pixel convolution because sigmapsf=0 pixsize=0\n",
      "inc=33.8; beta[0]=0.0; kappa=1.00; M/L=1.00; BH=0.0; chi2/DOF=nan\n",
      "Total mass MGE (MSun): 1.205e+13\n",
      "\n",
      "sigma_e: 129.83 km/s\n",
      "theta_E: 0.451 arcsec\n"
     ]
    },
    {
     "name": "stdout",
     "output_type": "stream",
     "text": [
      "jam_axi_proj(align='sph', moment='zz') -- elapsed time sec: 0.86\n",
      "analytic_los=0 logistic=0 constant_anisotropy=1\n",
      "No PSF/pixel convolution because sigmapsf=0 pixsize=0\n",
      "inc=55.7; beta[0]=0.0; kappa=1.00; M/L=1.00; BH=0.0; chi2/DOF=nan\n",
      "Total mass MGE (MSun): 1.205e+13\n",
      "\n",
      "sigma_e: 142.02 km/s\n"
     ]
    },
    {
     "name": "stdout",
     "output_type": "stream",
     "text": [
      "theta_E: 0.367 arcsec\n"
     ]
    },
    {
     "name": "stdout",
     "output_type": "stream",
     "text": [
      "jam_axi_proj(align='sph', moment='zz') -- elapsed time sec: 0.76\n",
      "analytic_los=0 logistic=0 constant_anisotropy=1\n",
      "No PSF/pixel convolution because sigmapsf=0 pixsize=0\n",
      "inc=42.6; beta[0]=0.0; kappa=1.00; M/L=1.00; BH=0.0; chi2/DOF=nan\n",
      "Total mass MGE (MSun): 8.973e+12\n",
      "\n",
      "sigma_e: 127.61 km/s\n",
      "theta_E: 0.466 arcsec\n"
     ]
    },
    {
     "name": "stdout",
     "output_type": "stream",
     "text": [
      "jam_axi_proj(align='sph', moment='zz') -- elapsed time sec: 0.80\n",
      "analytic_los=0 logistic=0 constant_anisotropy=1\n",
      "No PSF/pixel convolution because sigmapsf=0 pixsize=0\n",
      "inc=82.7; beta[0]=0.0; kappa=1.00; M/L=1.00; BH=0.0; chi2/DOF=nan\n",
      "Total mass MGE (MSun): 8.973e+12\n",
      "\n",
      "sigma_e: 139.22 km/s\n",
      "theta_E: 0.343 arcsec\n"
     ]
    },
    {
     "name": "stdout",
     "output_type": "stream",
     "text": [
      "jam_axi_proj(align='sph', moment='zz') -- elapsed time sec: 0.77\n",
      "analytic_los=0 logistic=0 constant_anisotropy=1\n",
      "No PSF/pixel convolution because sigmapsf=0 pixsize=0\n",
      "inc=25.5; beta[0]=0.0; kappa=1.00; M/L=1.00; BH=0.0; chi2/DOF=nan\n",
      "Total mass MGE (MSun): 8.973e+12\n",
      "\n",
      "sigma_e: 119.75 km/s\n",
      "theta_E: 0.349 arcsec\n"
     ]
    },
    {
     "name": "stdout",
     "output_type": "stream",
     "text": [
      "jam_axi_proj(align='sph', moment='zz') -- elapsed time sec: 0.78\n",
      "analytic_los=0 logistic=0 constant_anisotropy=1\n",
      "No PSF/pixel convolution because sigmapsf=0 pixsize=0\n",
      "inc=30.8; beta[0]=0.0; kappa=1.00; M/L=1.00; BH=0.0; chi2/DOF=nan\n",
      "Total mass MGE (MSun): 8.973e+12\n",
      "\n",
      "sigma_e: 122.05 km/s\n",
      "theta_E: 0.443 arcsec\n"
     ]
    },
    {
     "name": "stdout",
     "output_type": "stream",
     "text": [
      "jam_axi_proj(align='sph', moment='zz') -- elapsed time sec: 0.79\n",
      "analytic_los=0 logistic=0 constant_anisotropy=1\n",
      "No PSF/pixel convolution because sigmapsf=0 pixsize=0\n",
      "inc=72.5; beta[0]=0.0; kappa=1.00; M/L=1.00; BH=0.0; chi2/DOF=nan\n",
      "Total mass MGE (MSun): 8.973e+12\n",
      "\n",
      "sigma_e: 137.96 km/s\n",
      "theta_E: 0.457 arcsec\n"
     ]
    },
    {
     "name": "stdout",
     "output_type": "stream",
     "text": [
      "jam_axi_proj(align='sph', moment='zz') -- elapsed time sec: 0.81\n",
      "analytic_los=0 logistic=0 constant_anisotropy=1\n",
      "No PSF/pixel convolution because sigmapsf=0 pixsize=0\n",
      "inc=78.0; beta[0]=0.0; kappa=1.00; M/L=1.00; BH=0.0; chi2/DOF=nan\n",
      "Total mass MGE (MSun): 8.973e+12\n",
      "\n",
      "sigma_e: 138.77 km/s\n",
      "theta_E: 0.407 arcsec\n"
     ]
    },
    {
     "name": "stdout",
     "output_type": "stream",
     "text": [
      "jam_axi_proj(align='sph', moment='zz') -- elapsed time sec: 0.79\n",
      "analytic_los=0 logistic=0 constant_anisotropy=1\n",
      "No PSF/pixel convolution because sigmapsf=0 pixsize=0\n",
      "inc=59.6; beta[0]=0.0; kappa=1.00; M/L=1.00; BH=0.0; chi2/DOF=nan\n",
      "Total mass MGE (MSun): 8.973e+12\n",
      "\n",
      "sigma_e: 134.61 km/s\n",
      "theta_E: 0.455 arcsec\n"
     ]
    },
    {
     "name": "stdout",
     "output_type": "stream",
     "text": [
      "jam_axi_proj(align='sph', moment='zz') -- elapsed time sec: 0.81\n",
      "analytic_los=0 logistic=0 constant_anisotropy=1\n",
      "No PSF/pixel convolution because sigmapsf=0 pixsize=0\n",
      "inc=77.0; beta[0]=0.0; kappa=1.00; M/L=1.00; BH=0.0; chi2/DOF=nan\n",
      "Total mass MGE (MSun): 8.973e+12\n",
      "\n",
      "sigma_e: 138.66 km/s\n",
      "theta_E: 0.402 arcsec\n"
     ]
    },
    {
     "name": "stdout",
     "output_type": "stream",
     "text": [
      "jam_axi_proj(align='sph', moment='zz') -- elapsed time sec: 0.79\n",
      "analytic_los=0 logistic=0 constant_anisotropy=1\n",
      "No PSF/pixel convolution because sigmapsf=0 pixsize=0\n",
      "inc=57.8; beta[0]=0.0; kappa=1.00; M/L=1.00; BH=0.0; chi2/DOF=nan\n",
      "Total mass MGE (MSun): 8.973e+12\n",
      "\n",
      "sigma_e: 134.01 km/s\n",
      "theta_E: 0.332 arcsec\n"
     ]
    },
    {
     "name": "stdout",
     "output_type": "stream",
     "text": [
      "jam_axi_proj(align='sph', moment='zz') -- elapsed time sec: 0.79\n",
      "analytic_los=0 logistic=0 constant_anisotropy=1\n",
      "No PSF/pixel convolution because sigmapsf=0 pixsize=0\n",
      "inc=10.5; beta[0]=0.0; kappa=1.00; M/L=1.00; BH=0.0; chi2/DOF=nan\n",
      "Total mass MGE (MSun): 8.973e+12\n",
      "\n",
      "sigma_e: 114.88 km/s\n"
     ]
    },
    {
     "name": "stdout",
     "output_type": "stream",
     "text": [
      "theta_E: 0.313 arcsec\n"
     ]
    },
    {
     "name": "stdout",
     "output_type": "stream",
     "text": [
      "jam_axi_proj(align='sph', moment='zz') -- elapsed time sec: 0.77\n",
      "analytic_los=0 logistic=0 constant_anisotropy=1\n",
      "No PSF/pixel convolution because sigmapsf=0 pixsize=0\n",
      "inc=35.4; beta[0]=0.0; kappa=1.00; M/L=1.00; BH=0.0; chi2/DOF=nan\n",
      "Total mass MGE (MSun): 7.013e+12\n",
      "\n",
      "sigma_e: 116.71 km/s\n",
      "theta_E: 0.416 arcsec\n"
     ]
    },
    {
     "name": "stdout",
     "output_type": "stream",
     "text": [
      "jam_axi_proj(align='sph', moment='zz') -- elapsed time sec: 0.81\n",
      "analytic_los=0 logistic=0 constant_anisotropy=1\n",
      "No PSF/pixel convolution because sigmapsf=0 pixsize=0\n",
      "inc=86.2; beta[0]=0.0; kappa=1.00; M/L=1.00; BH=0.0; chi2/DOF=nan\n",
      "Total mass MGE (MSun): 7.013e+12\n",
      "\n",
      "sigma_e: 131.12 km/s\n",
      "theta_E: 0.344 arcsec\n"
     ]
    },
    {
     "name": "stdout",
     "output_type": "stream",
     "text": [
      "jam_axi_proj(align='sph', moment='zz') -- elapsed time sec: 0.77\n",
      "analytic_los=0 logistic=0 constant_anisotropy=1\n",
      "No PSF/pixel convolution because sigmapsf=0 pixsize=0\n",
      "inc=53.2; beta[0]=0.0; kappa=1.00; M/L=1.00; BH=0.0; chi2/DOF=nan\n",
      "Total mass MGE (MSun): 7.013e+12\n",
      "\n",
      "sigma_e: 124.33 km/s\n",
      "theta_E: 0.399 arcsec\n"
     ]
    },
    {
     "name": "stdout",
     "output_type": "stream",
     "text": [
      "jam_axi_proj(align='sph', moment='zz') -- elapsed time sec: 0.80\n",
      "analytic_los=0 logistic=0 constant_anisotropy=1\n",
      "No PSF/pixel convolution because sigmapsf=0 pixsize=0\n",
      "inc=75.6; beta[0]=0.0; kappa=1.00; M/L=1.00; BH=0.0; chi2/DOF=nan\n",
      "Total mass MGE (MSun): 7.013e+12\n",
      "\n",
      "sigma_e: 130.23 km/s\n",
      "theta_E: 0.294 arcsec\n"
     ]
    },
    {
     "name": "stdout",
     "output_type": "stream",
     "text": [
      "jam_axi_proj(align='sph', moment='zz') -- elapsed time sec: 0.78\n",
      "analytic_los=0 logistic=0 constant_anisotropy=1\n",
      "No PSF/pixel convolution because sigmapsf=0 pixsize=0\n",
      "inc=14.6; beta[0]=0.0; kappa=1.00; M/L=1.00; BH=0.0; chi2/DOF=nan\n",
      "Total mass MGE (MSun): 7.013e+12\n",
      "\n",
      "sigma_e: 108.84 km/s\n",
      "theta_E: 0.407 arcsec\n"
     ]
    },
    {
     "name": "stdout",
     "output_type": "stream",
     "text": [
      "jam_axi_proj(align='sph', moment='zz') -- elapsed time sec: 0.80\n",
      "analytic_los=0 logistic=0 constant_anisotropy=1\n",
      "No PSF/pixel convolution because sigmapsf=0 pixsize=0\n",
      "inc=79.8; beta[0]=0.0; kappa=1.00; M/L=1.00; BH=0.0; chi2/DOF=nan\n",
      "Total mass MGE (MSun): 7.013e+12\n",
      "\n",
      "sigma_e: 130.69 km/s\n",
      "theta_E: 0.330 arcsec\n"
     ]
    },
    {
     "name": "stdout",
     "output_type": "stream",
     "text": [
      "jam_axi_proj(align='sph', moment='zz') -- elapsed time sec: 0.77\n",
      "analytic_los=0 logistic=0 constant_anisotropy=1\n",
      "No PSF/pixel convolution because sigmapsf=0 pixsize=0\n",
      "inc=46.0; beta[0]=0.0; kappa=1.00; M/L=1.00; BH=0.0; chi2/DOF=nan\n",
      "Total mass MGE (MSun): 7.013e+12\n",
      "\n",
      "sigma_e: 121.40 km/s\n",
      "theta_E: 0.322 arcsec\n"
     ]
    },
    {
     "name": "stdout",
     "output_type": "stream",
     "text": [
      "jam_axi_proj(align='sph', moment='zz') -- elapsed time sec: 0.81\n",
      "analytic_los=0 logistic=0 constant_anisotropy=1\n",
      "No PSF/pixel convolution because sigmapsf=0 pixsize=0\n",
      "inc=41.6; beta[0]=0.0; kappa=1.00; M/L=1.00; BH=0.0; chi2/DOF=nan\n",
      "Total mass MGE (MSun): 7.013e+12\n",
      "\n",
      "sigma_e: 119.46 km/s\n",
      "theta_E: 0.295 arcsec\n"
     ]
    },
    {
     "name": "stdout",
     "output_type": "stream",
     "text": [
      "jam_axi_proj(align='sph', moment='zz') -- elapsed time sec: 0.78\n",
      "analytic_los=0 logistic=0 constant_anisotropy=1\n",
      "No PSF/pixel convolution because sigmapsf=0 pixsize=0\n",
      "inc=16.6; beta[0]=0.0; kappa=1.00; M/L=1.00; BH=0.0; chi2/DOF=nan\n",
      "Total mass MGE (MSun): 7.013e+12\n",
      "\n",
      "sigma_e: 109.37 km/s\n",
      "theta_E: 0.402 arcsec\n"
     ]
    },
    {
     "name": "stdout",
     "output_type": "stream",
     "text": [
      "jam_axi_proj(align='sph', moment='zz') -- elapsed time sec: 0.80\n",
      "analytic_los=0 logistic=0 constant_anisotropy=1\n",
      "No PSF/pixel convolution because sigmapsf=0 pixsize=0\n",
      "inc=77.2; beta[0]=0.0; kappa=1.00; M/L=1.00; BH=0.0; chi2/DOF=nan\n",
      "Total mass MGE (MSun): 7.013e+12\n",
      "\n",
      "sigma_e: 130.44 km/s\n"
     ]
    },
    {
     "name": "stdout",
     "output_type": "stream",
     "text": [
      "theta_E: 0.491 arcsec\n"
     ]
    },
    {
     "name": "stdout",
     "output_type": "stream",
     "text": [
      "jam_axi_proj(align='sph', moment='zz') -- elapsed time sec: 0.80\n",
      "analytic_los=0 logistic=0 constant_anisotropy=1\n",
      "No PSF/pixel convolution because sigmapsf=0 pixsize=0\n",
      "inc=56.9; beta[0]=0.0; kappa=1.00; M/L=1.00; BH=0.0; chi2/DOF=nan\n",
      "Total mass MGE (MSun): 1.371e+13\n",
      "\n",
      "sigma_e: 148.34 km/s\n",
      "theta_E: 0.539 arcsec\n"
     ]
    },
    {
     "name": "stdout",
     "output_type": "stream",
     "text": [
      "jam_axi_proj(align='sph', moment='zz') -- elapsed time sec: 0.81\n",
      "analytic_los=0 logistic=0 constant_anisotropy=1\n",
      "No PSF/pixel convolution because sigmapsf=0 pixsize=0\n",
      "inc=69.7; beta[0]=0.0; kappa=1.00; M/L=1.00; BH=0.0; chi2/DOF=nan\n",
      "Total mass MGE (MSun): 1.371e+13\n",
      "\n",
      "sigma_e: 152.71 km/s\n",
      "theta_E: 0.499 arcsec\n"
     ]
    },
    {
     "name": "stdout",
     "output_type": "stream",
     "text": [
      "jam_axi_proj(align='sph', moment='zz') -- elapsed time sec: 0.80\n",
      "analytic_los=0 logistic=0 constant_anisotropy=1\n",
      "No PSF/pixel convolution because sigmapsf=0 pixsize=0\n",
      "inc=59.0; beta[0]=0.0; kappa=1.00; M/L=1.00; BH=0.0; chi2/DOF=nan\n",
      "Total mass MGE (MSun): 1.371e+13\n",
      "\n",
      "sigma_e: 149.21 km/s\n",
      "theta_E: 0.475 arcsec\n"
     ]
    },
    {
     "name": "stdout",
     "output_type": "stream",
     "text": [
      "jam_axi_proj(align='sph', moment='zz') -- elapsed time sec: 0.81\n",
      "analytic_los=0 logistic=0 constant_anisotropy=1\n",
      "No PSF/pixel convolution because sigmapsf=0 pixsize=0\n",
      "inc=51.9; beta[0]=0.0; kappa=1.00; M/L=1.00; BH=0.0; chi2/DOF=nan\n",
      "Total mass MGE (MSun): 1.371e+13\n",
      "\n",
      "sigma_e: 146.02 km/s\n",
      "theta_E: 0.590 arcsec\n"
     ]
    },
    {
     "name": "stdout",
     "output_type": "stream",
     "text": [
      "jam_axi_proj(align='sph', moment='zz') -- elapsed time sec: 0.79\n",
      "analytic_los=0 logistic=0 constant_anisotropy=1\n",
      "No PSF/pixel convolution because sigmapsf=0 pixsize=0\n",
      "inc=89.8; beta[0]=0.0; kappa=1.00; M/L=1.00; BH=0.0; chi2/DOF=nan\n",
      "Total mass MGE (MSun): 1.371e+13\n",
      "\n",
      "sigma_e: 155.11 km/s\n",
      "theta_E: 0.529 arcsec\n"
     ]
    },
    {
     "name": "stdout",
     "output_type": "stream",
     "text": [
      "jam_axi_proj(align='sph', moment='zz') -- elapsed time sec: 0.81\n",
      "analytic_los=0 logistic=0 constant_anisotropy=1\n",
      "No PSF/pixel convolution because sigmapsf=0 pixsize=0\n",
      "inc=67.0; beta[0]=0.0; kappa=1.00; M/L=1.00; BH=0.0; chi2/DOF=nan\n",
      "Total mass MGE (MSun): 1.371e+13\n",
      "\n",
      "sigma_e: 152.01 km/s\n",
      "theta_E: 0.465 arcsec\n"
     ]
    },
    {
     "name": "stdout",
     "output_type": "stream",
     "text": [
      "jam_axi_proj(align='sph', moment='zz') -- elapsed time sec: 0.79\n",
      "analytic_los=0 logistic=0 constant_anisotropy=1\n",
      "No PSF/pixel convolution because sigmapsf=0 pixsize=0\n",
      "inc=48.5; beta[0]=0.0; kappa=1.00; M/L=1.00; BH=0.0; chi2/DOF=nan\n",
      "Total mass MGE (MSun): 1.371e+13\n",
      "\n",
      "sigma_e: 144.32 km/s\n",
      "theta_E: 0.473 arcsec\n"
     ]
    },
    {
     "name": "stdout",
     "output_type": "stream",
     "text": [
      "jam_axi_proj(align='sph', moment='zz') -- elapsed time sec: 0.81\n",
      "analytic_los=0 logistic=0 constant_anisotropy=1\n",
      "No PSF/pixel convolution because sigmapsf=0 pixsize=0\n",
      "inc=51.1; beta[0]=0.0; kappa=1.00; M/L=1.00; BH=0.0; chi2/DOF=nan\n",
      "Total mass MGE (MSun): 1.371e+13\n",
      "\n",
      "sigma_e: 145.64 km/s\n",
      "theta_E: 0.585 arcsec\n"
     ]
    },
    {
     "name": "stdout",
     "output_type": "stream",
     "text": [
      "jam_axi_proj(align='sph', moment='zz') -- elapsed time sec: 0.79\n",
      "analytic_los=0 logistic=0 constant_anisotropy=1\n",
      "No PSF/pixel convolution because sigmapsf=0 pixsize=0\n",
      "inc=84.5; beta[0]=0.0; kappa=1.00; M/L=1.00; BH=0.0; chi2/DOF=nan\n",
      "Total mass MGE (MSun): 1.371e+13\n",
      "\n",
      "sigma_e: 154.96 km/s\n",
      "theta_E: 0.580 arcsec\n"
     ]
    },
    {
     "name": "stdout",
     "output_type": "stream",
     "text": [
      "jam_axi_proj(align='sph', moment='zz') -- elapsed time sec: 0.81\n",
      "analytic_los=0 logistic=0 constant_anisotropy=1\n",
      "No PSF/pixel convolution because sigmapsf=0 pixsize=0\n",
      "inc=81.8; beta[0]=0.0; kappa=1.00; M/L=1.00; BH=0.0; chi2/DOF=nan\n",
      "Total mass MGE (MSun): 1.371e+13\n",
      "\n",
      "sigma_e: 154.74 km/s\n"
     ]
    },
    {
     "name": "stdout",
     "output_type": "stream",
     "text": [
      "theta_E: 0.318 arcsec\n"
     ]
    },
    {
     "name": "stdout",
     "output_type": "stream",
     "text": [
      "jam_axi_proj(align='sph', moment='zz') -- elapsed time sec: 0.78\n",
      "analytic_los=0 logistic=0 constant_anisotropy=1\n",
      "No PSF/pixel convolution because sigmapsf=0 pixsize=0\n",
      "inc=8.90; beta[0]=0.0; kappa=1.00; M/L=1.00; BH=0.0; chi2/DOF=nan\n",
      "Total mass MGE (MSun): 1.128e+13\n",
      "\n",
      "sigma_e: 102.32 km/s\n",
      "theta_E: 0.351 arcsec\n"
     ]
    },
    {
     "name": "stdout",
     "output_type": "stream",
     "text": [
      "jam_axi_proj(align='sph', moment='zz') -- elapsed time sec: 0.80\n",
      "analytic_los=0 logistic=0 constant_anisotropy=1\n",
      "No PSF/pixel convolution because sigmapsf=0 pixsize=0\n",
      "inc=37.7; beta[0]=0.0; kappa=1.00; M/L=1.00; BH=0.0; chi2/DOF=nan\n",
      "Total mass MGE (MSun): 1.128e+13\n",
      "\n",
      "sigma_e: 120.85 km/s\n",
      "theta_E: 0.352 arcsec\n"
     ]
    },
    {
     "name": "stdout",
     "output_type": "stream",
     "text": [
      "jam_axi_proj(align='sph', moment='zz') -- elapsed time sec: 0.79\n",
      "analytic_los=0 logistic=0 constant_anisotropy=1\n",
      "No PSF/pixel convolution because sigmapsf=0 pixsize=0\n",
      "inc=38.0; beta[0]=0.0; kappa=1.00; M/L=1.00; BH=0.0; chi2/DOF=nan\n",
      "Total mass MGE (MSun): 1.128e+13\n",
      "\n",
      "sigma_e: 121.13 km/s\n",
      "theta_E: 0.430 arcsec\n"
     ]
    },
    {
     "name": "stdout",
     "output_type": "stream",
     "text": [
      "jam_axi_proj(align='sph', moment='zz') -- elapsed time sec: 0.80\n",
      "analytic_los=0 logistic=0 constant_anisotropy=1\n",
      "No PSF/pixel convolution because sigmapsf=0 pixsize=0\n",
      "inc=61.8; beta[0]=0.0; kappa=1.00; M/L=1.00; BH=0.0; chi2/DOF=nan\n",
      "Total mass MGE (MSun): 1.128e+13\n",
      "\n",
      "sigma_e: 137.24 km/s\n",
      "theta_E: 0.571 arcsec\n"
     ]
    },
    {
     "name": "stdout",
     "output_type": "stream",
     "text": [
      "jam_axi_proj(align='sph', moment='zz') -- elapsed time sec: 0.80\n",
      "analytic_los=0 logistic=0 constant_anisotropy=1\n",
      "No PSF/pixel convolution because sigmapsf=0 pixsize=0\n",
      "inc=87.6; beta[0]=0.0; kappa=1.00; M/L=1.00; BH=0.0; chi2/DOF=nan\n",
      "Total mass MGE (MSun): 1.128e+13\n",
      "\n",
      "sigma_e: 142.34 km/s\n",
      "theta_E: 0.471 arcsec\n"
     ]
    },
    {
     "name": "stdout",
     "output_type": "stream",
     "text": [
      "jam_axi_proj(align='sph', moment='zz') -- elapsed time sec: 0.82\n",
      "analytic_los=0 logistic=0 constant_anisotropy=1\n",
      "No PSF/pixel convolution because sigmapsf=0 pixsize=0\n",
      "inc=69.4; beta[0]=0.0; kappa=1.00; M/L=1.00; BH=0.0; chi2/DOF=nan\n",
      "Total mass MGE (MSun): 1.128e+13\n",
      "\n",
      "sigma_e: 140.14 km/s\n",
      "theta_E: 0.543 arcsec\n"
     ]
    },
    {
     "name": "stdout",
     "output_type": "stream",
     "text": [
      "jam_axi_proj(align='sph', moment='zz') -- elapsed time sec: 0.80\n",
      "analytic_los=0 logistic=0 constant_anisotropy=1\n",
      "No PSF/pixel convolution because sigmapsf=0 pixsize=0\n",
      "inc=80.8; beta[0]=0.0; kappa=1.00; M/L=1.00; BH=0.0; chi2/DOF=nan\n",
      "Total mass MGE (MSun): 1.128e+13\n",
      "\n",
      "sigma_e: 142.10 km/s\n",
      "theta_E: 0.569 arcsec\n"
     ]
    },
    {
     "name": "stdout",
     "output_type": "stream",
     "text": [
      "jam_axi_proj(align='sph', moment='zz') -- elapsed time sec: 0.82\n",
      "analytic_los=0 logistic=0 constant_anisotropy=1\n",
      "No PSF/pixel convolution because sigmapsf=0 pixsize=0\n",
      "inc=86.6; beta[0]=0.0; kappa=1.00; M/L=1.00; BH=0.0; chi2/DOF=nan\n",
      "Total mass MGE (MSun): 1.128e+13\n",
      "\n",
      "sigma_e: 142.32 km/s\n",
      "theta_E: 0.475 arcsec\n"
     ]
    },
    {
     "name": "stdout",
     "output_type": "stream",
     "text": [
      "jam_axi_proj(align='sph', moment='zz') -- elapsed time sec: 0.80\n",
      "analytic_los=0 logistic=0 constant_anisotropy=1\n",
      "No PSF/pixel convolution because sigmapsf=0 pixsize=0\n",
      "inc=70.1; beta[0]=0.0; kappa=1.00; M/L=1.00; BH=0.0; chi2/DOF=nan\n",
      "Total mass MGE (MSun): 1.128e+13\n",
      "\n",
      "sigma_e: 140.36 km/s\n",
      "theta_E: 0.445 arcsec\n"
     ]
    },
    {
     "name": "stdout",
     "output_type": "stream",
     "text": [
      "jam_axi_proj(align='sph', moment='zz') -- elapsed time sec: 0.80\n",
      "analytic_los=0 logistic=0 constant_anisotropy=1\n",
      "No PSF/pixel convolution because sigmapsf=0 pixsize=0\n",
      "inc=64.8; beta[0]=0.0; kappa=1.00; M/L=1.00; BH=0.0; chi2/DOF=nan\n",
      "Total mass MGE (MSun): 1.128e+13\n",
      "\n",
      "sigma_e: 138.52 km/s\n"
     ]
    },
    {
     "name": "stdout",
     "output_type": "stream",
     "text": [
      "theta_E: 0.618 arcsec\n"
     ]
    },
    {
     "name": "stdout",
     "output_type": "stream",
     "text": [
      "jam_axi_proj(align='sph', moment='zz') -- elapsed time sec: 0.78\n",
      "analytic_los=0 logistic=0 constant_anisotropy=1\n",
      "No PSF/pixel convolution because sigmapsf=0 pixsize=0\n",
      "inc=46.1; beta[0]=0.0; kappa=1.00; M/L=1.00; BH=0.0; chi2/DOF=nan\n",
      "Total mass MGE (MSun): 2.397e+13\n",
      "\n",
      "sigma_e: 166.23 km/s\n",
      "theta_E: 0.725 arcsec\n"
     ]
    },
    {
     "name": "stdout",
     "output_type": "stream",
     "text": [
      "jam_axi_proj(align='sph', moment='zz') -- elapsed time sec: 0.81\n",
      "analytic_los=0 logistic=0 constant_anisotropy=1\n",
      "No PSF/pixel convolution because sigmapsf=0 pixsize=0\n",
      "inc=71.9; beta[0]=0.0; kappa=1.00; M/L=1.00; BH=0.0; chi2/DOF=nan\n",
      "Total mass MGE (MSun): 2.397e+13\n",
      "\n",
      "sigma_e: 177.12 km/s\n",
      "theta_E: 0.573 arcsec\n"
     ]
    },
    {
     "name": "stdout",
     "output_type": "stream",
     "text": [
      "jam_axi_proj(align='sph', moment='zz') -- elapsed time sec: 0.80\n",
      "analytic_los=0 logistic=0 constant_anisotropy=1\n",
      "No PSF/pixel convolution because sigmapsf=0 pixsize=0\n",
      "inc=28.5; beta[0]=0.0; kappa=1.00; M/L=1.00; BH=0.0; chi2/DOF=nan\n",
      "Total mass MGE (MSun): 2.397e+13\n",
      "\n",
      "sigma_e: 156.11 km/s\n",
      "theta_E: 0.577 arcsec\n"
     ]
    },
    {
     "name": "stdout",
     "output_type": "stream",
     "text": [
      "jam_axi_proj(align='sph', moment='zz') -- elapsed time sec: 0.81\n",
      "analytic_los=0 logistic=0 constant_anisotropy=1\n",
      "No PSF/pixel convolution because sigmapsf=0 pixsize=0\n",
      "inc=31.0; beta[0]=0.0; kappa=1.00; M/L=1.00; BH=0.0; chi2/DOF=nan\n",
      "Total mass MGE (MSun): 2.397e+13\n",
      "\n",
      "sigma_e: 157.48 km/s\n",
      "theta_E: 0.590 arcsec\n"
     ]
    },
    {
     "name": "stdout",
     "output_type": "stream",
     "text": [
      "jam_axi_proj(align='sph', moment='zz') -- elapsed time sec: 0.80\n",
      "analytic_los=0 logistic=0 constant_anisotropy=1\n",
      "No PSF/pixel convolution because sigmapsf=0 pixsize=0\n",
      "inc=36.4; beta[0]=0.0; kappa=1.00; M/L=1.00; BH=0.0; chi2/DOF=nan\n",
      "Total mass MGE (MSun): 2.397e+13\n",
      "\n",
      "sigma_e: 160.61 km/s\n",
      "theta_E: 0.705 arcsec\n"
     ]
    },
    {
     "name": "stdout",
     "output_type": "stream",
     "text": [
      "jam_axi_proj(align='sph', moment='zz') -- elapsed time sec: 0.80\n",
      "analytic_los=0 logistic=0 constant_anisotropy=1\n",
      "No PSF/pixel convolution because sigmapsf=0 pixsize=0\n",
      "inc=67.4; beta[0]=0.0; kappa=1.00; M/L=1.00; BH=0.0; chi2/DOF=nan\n",
      "Total mass MGE (MSun): 2.397e+13\n",
      "\n",
      "sigma_e: 175.87 km/s\n",
      "theta_E: 0.612 arcsec\n"
     ]
    },
    {
     "name": "stdout",
     "output_type": "stream",
     "text": [
      "jam_axi_proj(align='sph', moment='zz') -- elapsed time sec: 0.79\n",
      "analytic_los=0 logistic=0 constant_anisotropy=1\n",
      "No PSF/pixel convolution because sigmapsf=0 pixsize=0\n",
      "inc=44.0; beta[0]=0.0; kappa=1.00; M/L=1.00; BH=0.0; chi2/DOF=nan\n",
      "Total mass MGE (MSun): 2.397e+13\n",
      "\n",
      "sigma_e: 165.09 km/s\n",
      "theta_E: 0.581 arcsec\n"
     ]
    },
    {
     "name": "stdout",
     "output_type": "stream",
     "text": [
      "jam_axi_proj(align='sph', moment='zz') -- elapsed time sec: 0.81\n",
      "analytic_los=0 logistic=0 constant_anisotropy=1\n",
      "No PSF/pixel convolution because sigmapsf=0 pixsize=0\n",
      "inc=32.4; beta[0]=0.0; kappa=1.00; M/L=1.00; BH=0.0; chi2/DOF=nan\n",
      "Total mass MGE (MSun): 2.397e+13\n",
      "\n",
      "sigma_e: 158.32 km/s\n",
      "theta_E: 0.695 arcsec\n"
     ]
    },
    {
     "name": "stdout",
     "output_type": "stream",
     "text": [
      "jam_axi_proj(align='sph', moment='zz') -- elapsed time sec: 0.78\n",
      "analytic_los=0 logistic=0 constant_anisotropy=1\n",
      "No PSF/pixel convolution because sigmapsf=0 pixsize=0\n",
      "inc=65.1; beta[0]=0.0; kappa=1.00; M/L=1.00; BH=0.0; chi2/DOF=nan\n",
      "Total mass MGE (MSun): 2.397e+13\n",
      "\n",
      "sigma_e: 175.11 km/s\n",
      "theta_E: 0.641 arcsec\n"
     ]
    },
    {
     "name": "stdout",
     "output_type": "stream",
     "text": [
      "jam_axi_proj(align='sph', moment='zz') -- elapsed time sec: 0.80\n",
      "analytic_los=0 logistic=0 constant_anisotropy=1\n",
      "No PSF/pixel convolution because sigmapsf=0 pixsize=0\n",
      "inc=52.4; beta[0]=0.0; kappa=1.00; M/L=1.00; BH=0.0; chi2/DOF=nan\n",
      "Total mass MGE (MSun): 2.397e+13\n",
      "\n",
      "sigma_e: 169.64 km/s\n"
     ]
    },
    {
     "name": "stdout",
     "output_type": "stream",
     "text": [
      "theta_E: 0.383 arcsec\n"
     ]
    },
    {
     "name": "stdout",
     "output_type": "stream",
     "text": [
      "jam_axi_proj(align='sph', moment='zz') -- elapsed time sec: 0.78\n",
      "analytic_los=0 logistic=0 constant_anisotropy=1\n",
      "No PSF/pixel convolution because sigmapsf=0 pixsize=0\n",
      "inc=32.6; beta[0]=0.0; kappa=1.00; M/L=1.00; BH=0.0; chi2/DOF=nan\n",
      "Total mass MGE (MSun): 1.269e+13\n",
      "\n",
      "sigma_e: 125.01 km/s\n",
      "theta_E: 0.480 arcsec\n"
     ]
    },
    {
     "name": "stdout",
     "output_type": "stream",
     "text": [
      "jam_axi_proj(align='sph', moment='zz') -- elapsed time sec: 0.81\n",
      "analytic_los=0 logistic=0 constant_anisotropy=1\n",
      "No PSF/pixel convolution because sigmapsf=0 pixsize=0\n",
      "inc=63.7; beta[0]=0.0; kappa=1.00; M/L=1.00; BH=0.0; chi2/DOF=nan\n",
      "Total mass MGE (MSun): 1.269e+13\n",
      "\n",
      "sigma_e: 144.47 km/s\n",
      "theta_E: 0.419 arcsec\n"
     ]
    },
    {
     "name": "stdout",
     "output_type": "stream",
     "text": [
      "jam_axi_proj(align='sph', moment='zz') -- elapsed time sec: 0.79\n",
      "analytic_los=0 logistic=0 constant_anisotropy=1\n",
      "No PSF/pixel convolution because sigmapsf=0 pixsize=0\n",
      "inc=47.8; beta[0]=0.0; kappa=1.00; M/L=1.00; BH=0.0; chi2/DOF=nan\n",
      "Total mass MGE (MSun): 1.269e+13\n",
      "\n",
      "sigma_e: 135.88 km/s\n",
      "theta_E: 0.532 arcsec\n"
     ]
    },
    {
     "name": "stdout",
     "output_type": "stream",
     "text": [
      "jam_axi_proj(align='sph', moment='zz') -- elapsed time sec: 0.80\n",
      "analytic_los=0 logistic=0 constant_anisotropy=1\n",
      "No PSF/pixel convolution because sigmapsf=0 pixsize=0\n",
      "inc=73.5; beta[0]=0.0; kappa=1.00; M/L=1.00; BH=0.0; chi2/DOF=nan\n",
      "Total mass MGE (MSun): 1.269e+13\n",
      "\n",
      "sigma_e: 147.42 km/s\n",
      "theta_E: 0.590 arcsec\n"
     ]
    },
    {
     "name": "stdout",
     "output_type": "stream",
     "text": [
      "jam_axi_proj(align='sph', moment='zz') -- elapsed time sec: 0.78\n",
      "analytic_los=0 logistic=0 constant_anisotropy=1\n",
      "No PSF/pixel convolution because sigmapsf=0 pixsize=0\n",
      "inc=87.6; beta[0]=0.0; kappa=1.00; M/L=1.00; BH=0.0; chi2/DOF=nan\n",
      "Total mass MGE (MSun): 1.269e+13\n",
      "\n",
      "sigma_e: 148.85 km/s\n",
      "theta_E: 0.576 arcsec\n"
     ]
    },
    {
     "name": "stdout",
     "output_type": "stream",
     "text": [
      "jam_axi_proj(align='sph', moment='zz') -- elapsed time sec: 0.79\n",
      "analytic_los=0 logistic=0 constant_anisotropy=1\n",
      "No PSF/pixel convolution because sigmapsf=0 pixsize=0\n",
      "inc=82.4; beta[0]=0.0; kappa=1.00; M/L=1.00; BH=0.0; chi2/DOF=nan\n",
      "Total mass MGE (MSun): 1.269e+13\n",
      "\n",
      "sigma_e: 148.62 km/s\n",
      "theta_E: 0.586 arcsec\n"
     ]
    },
    {
     "name": "stdout",
     "output_type": "stream",
     "text": [
      "jam_axi_proj(align='sph', moment='zz') -- elapsed time sec: 0.77\n",
      "analytic_los=0 logistic=0 constant_anisotropy=1\n",
      "No PSF/pixel convolution because sigmapsf=0 pixsize=0\n",
      "inc=85.9; beta[0]=0.0; kappa=1.00; M/L=1.00; BH=0.0; chi2/DOF=nan\n",
      "Total mass MGE (MSun): 1.269e+13\n",
      "\n",
      "sigma_e: 148.83 km/s\n",
      "theta_E: 0.448 arcsec\n"
     ]
    },
    {
     "name": "stdout",
     "output_type": "stream",
     "text": [
      "jam_axi_proj(align='sph', moment='zz') -- elapsed time sec: 0.88\n",
      "analytic_los=0 logistic=0 constant_anisotropy=1\n",
      "No PSF/pixel convolution because sigmapsf=0 pixsize=0\n",
      "inc=56.3; beta[0]=0.0; kappa=1.00; M/L=1.00; BH=0.0; chi2/DOF=nan\n",
      "Total mass MGE (MSun): 1.269e+13\n",
      "\n",
      "sigma_e: 141.02 km/s\n",
      "theta_E: 0.452 arcsec\n"
     ]
    },
    {
     "name": "stdout",
     "output_type": "stream",
     "text": [
      "jam_axi_proj(align='sph', moment='zz') -- elapsed time sec: 0.84\n",
      "analytic_los=0 logistic=0 constant_anisotropy=1\n",
      "No PSF/pixel convolution because sigmapsf=0 pixsize=0\n",
      "inc=57.3; beta[0]=0.0; kappa=1.00; M/L=1.00; BH=0.0; chi2/DOF=nan\n",
      "Total mass MGE (MSun): 1.269e+13\n",
      "\n",
      "sigma_e: 141.54 km/s\n",
      "theta_E: 0.363 arcsec\n"
     ]
    },
    {
     "name": "stdout",
     "output_type": "stream",
     "text": [
      "jam_axi_proj(align='sph', moment='zz') -- elapsed time sec: 0.80\n",
      "analytic_los=0 logistic=0 constant_anisotropy=1\n",
      "No PSF/pixel convolution because sigmapsf=0 pixsize=0\n",
      "inc=16.9; beta[0]=0.0; kappa=1.00; M/L=1.00; BH=0.0; chi2/DOF=nan\n",
      "Total mass MGE (MSun): 1.269e+13\n",
      "\n",
      "sigma_e: 115.07 km/s\n"
     ]
    }
   ],
   "source": [
    "rerun_oblate = True\n",
    "\n",
    "if rerun_oblate:\n",
    "\n",
    "    data_oblate, peak_mge_den, sigma_mge_den, peak_mge_lum, sigma_mge_lum = get_sigma_e_dist(cat_oblate, 1, 10, save_mge=1)\n",
    "    np.save('./tng_kin_oblate.npy', data_oblate)\n",
    "\n",
    "    with h5py.File('./tng_kin_mge_oblate.hdf5', 'w') as f:\n",
    "        f.create_dataset(name='peak_den', data = peak_mge_den)\n",
    "        f.create_dataset(name='sigma_den', data = sigma_mge_den)\n",
    "        f.create_dataset(name='peak_lum', data = peak_mge_lum)\n",
    "        f.create_dataset(name='sigma_lum', data = sigma_mge_lum)"
   ]
  },
  {
   "cell_type": "markdown",
   "id": "1bb9df4c",
   "metadata": {
    "papermill": {
     "duration": 0.022737,
     "end_time": "2025-08-31T05:32:13.659084",
     "exception": false,
     "start_time": "2025-08-31T05:32:13.636347",
     "status": "completed"
    },
    "tags": []
   },
   "source": [
    "## Mock data for prolate TNG100 ETG"
   ]
  },
  {
   "cell_type": "code",
   "execution_count": 10,
   "id": "9940cac6",
   "metadata": {
    "execution": {
     "iopub.execute_input": "2025-08-31T05:32:13.789581Z",
     "iopub.status.busy": "2025-08-31T05:32:13.789424Z",
     "iopub.status.idle": "2025-08-31T06:05:01.500199Z",
     "shell.execute_reply": "2025-08-31T06:05:01.499892Z"
    },
    "papermill": {
     "duration": 1967.739546,
     "end_time": "2025-08-31T06:05:01.500957",
     "exception": false,
     "start_time": "2025-08-31T05:32:13.761411",
     "status": "completed"
    },
    "tags": []
   },
   "outputs": [
    {
     "name": "stdout",
     "output_type": "stream",
     "text": [
      "theta_E: 0.498 arcsec\n"
     ]
    },
    {
     "name": "stdout",
     "output_type": "stream",
     "text": [
      "jam_axi_proj(align='sph', moment='zz') -- elapsed time sec: 0.92\n",
      "analytic_los=0 logistic=0 constant_anisotropy=1\n",
      "No PSF/pixel convolution because sigmapsf=0 pixsize=0\n",
      "inc=53.9; beta[0]=0.0; kappa=1.00; M/L=1.00; BH=0.0; chi2/DOF=nan\n",
      "Total mass MGE (MSun): 1.197e+13\n",
      "\n",
      "sigma_e: 156.23 km/s\n",
      "theta_E: 0.461 arcsec\n"
     ]
    },
    {
     "name": "stdout",
     "output_type": "stream",
     "text": [
      "jam_axi_proj(align='sph', moment='zz') -- elapsed time sec: 0.94\n",
      "analytic_los=0 logistic=0 constant_anisotropy=1\n",
      "No PSF/pixel convolution because sigmapsf=0 pixsize=0\n",
      "inc=74.7; beta[0]=0.0; kappa=1.00; M/L=1.00; BH=0.0; chi2/DOF=nan\n",
      "Total mass MGE (MSun): 1.197e+13\n",
      "\n",
      "sigma_e: 147.71 km/s\n",
      "theta_E: 0.553 arcsec\n"
     ]
    },
    {
     "name": "stdout",
     "output_type": "stream",
     "text": [
      "jam_axi_proj(align='sph', moment='zz') -- elapsed time sec: 0.88\n",
      "analytic_los=0 logistic=0 constant_anisotropy=1\n",
      "No PSF/pixel convolution because sigmapsf=0 pixsize=0\n",
      "inc=17.7; beta[0]=0.0; kappa=1.00; M/L=1.00; BH=0.0; chi2/DOF=nan\n",
      "Total mass MGE (MSun): 1.197e+13\n",
      "\n",
      "sigma_e: 164.28 km/s\n",
      "theta_E: 0.476 arcsec\n"
     ]
    },
    {
     "name": "stdout",
     "output_type": "stream",
     "text": [
      "jam_axi_proj(align='sph', moment='zz') -- elapsed time sec: 0.93\n",
      "analytic_los=0 logistic=0 constant_anisotropy=1\n",
      "No PSF/pixel convolution because sigmapsf=0 pixsize=0\n",
      "inc=65.5; beta[0]=0.0; kappa=1.00; M/L=1.00; BH=0.0; chi2/DOF=nan\n",
      "Total mass MGE (MSun): 1.197e+13\n",
      "\n",
      "sigma_e: 151.49 km/s\n",
      "theta_E: 0.496 arcsec\n"
     ]
    },
    {
     "name": "stdout",
     "output_type": "stream",
     "text": [
      "jam_axi_proj(align='sph', moment='zz') -- elapsed time sec: 0.92\n",
      "analytic_los=0 logistic=0 constant_anisotropy=1\n",
      "No PSF/pixel convolution because sigmapsf=0 pixsize=0\n",
      "inc=54.7; beta[0]=0.0; kappa=1.00; M/L=1.00; BH=0.0; chi2/DOF=nan\n",
      "Total mass MGE (MSun): 1.197e+13\n",
      "\n",
      "sigma_e: 155.93 km/s\n",
      "theta_E: 0.555 arcsec\n"
     ]
    },
    {
     "name": "stdout",
     "output_type": "stream",
     "text": [
      "jam_axi_proj(align='sph', moment='zz') -- elapsed time sec: 0.87\n",
      "analytic_los=0 logistic=0 constant_anisotropy=1\n",
      "No PSF/pixel convolution because sigmapsf=0 pixsize=0\n",
      "inc=15.2; beta[0]=0.0; kappa=1.00; M/L=1.00; BH=0.0; chi2/DOF=nan\n",
      "Total mass MGE (MSun): 1.197e+13\n",
      "\n",
      "sigma_e: 164.47 km/s\n",
      "theta_E: 0.557 arcsec\n"
     ]
    },
    {
     "name": "stdout",
     "output_type": "stream",
     "text": [
      "jam_axi_proj(align='sph', moment='zz') -- elapsed time sec: 0.86\n",
      "analytic_los=0 logistic=0 constant_anisotropy=1\n",
      "No PSF/pixel convolution because sigmapsf=0 pixsize=0\n",
      "inc=12.7; beta[0]=0.0; kappa=1.00; M/L=1.00; BH=0.0; chi2/DOF=nan\n",
      "Total mass MGE (MSun): 1.197e+13\n",
      "\n",
      "sigma_e: 164.63 km/s\n",
      "theta_E: 0.479 arcsec\n"
     ]
    },
    {
     "name": "stdout",
     "output_type": "stream",
     "text": [
      "jam_axi_proj(align='sph', moment='zz') -- elapsed time sec: 1.03\n",
      "analytic_los=0 logistic=0 constant_anisotropy=1\n",
      "No PSF/pixel convolution because sigmapsf=0 pixsize=0\n",
      "inc=63.5; beta[0]=0.0; kappa=1.00; M/L=1.00; BH=0.0; chi2/DOF=nan\n",
      "Total mass MGE (MSun): 1.197e+13\n",
      "\n",
      "sigma_e: 152.33 km/s\n",
      "theta_E: 0.451 arcsec\n"
     ]
    },
    {
     "name": "stdout",
     "output_type": "stream",
     "text": [
      "jam_axi_proj(align='sph', moment='zz') -- elapsed time sec: 0.94\n",
      "analytic_los=0 logistic=0 constant_anisotropy=1\n",
      "No PSF/pixel convolution because sigmapsf=0 pixsize=0\n",
      "inc=87.7; beta[0]=0.0; kappa=1.00; M/L=1.00; BH=0.0; chi2/DOF=nan\n",
      "Total mass MGE (MSun): 1.197e+13\n",
      "\n",
      "sigma_e: 144.51 km/s\n",
      "theta_E: 0.553 arcsec\n"
     ]
    },
    {
     "name": "stdout",
     "output_type": "stream",
     "text": [
      "jam_axi_proj(align='sph', moment='zz') -- elapsed time sec: 0.89\n",
      "analytic_los=0 logistic=0 constant_anisotropy=1\n",
      "No PSF/pixel convolution because sigmapsf=0 pixsize=0\n",
      "inc=17.9; beta[0]=0.0; kappa=1.00; M/L=1.00; BH=0.0; chi2/DOF=nan\n",
      "Total mass MGE (MSun): 1.197e+13\n",
      "\n",
      "sigma_e: 164.27 km/s\n"
     ]
    },
    {
     "name": "stdout",
     "output_type": "stream",
     "text": [
      "theta_E: 0.453 arcsec\n"
     ]
    },
    {
     "name": "stdout",
     "output_type": "stream",
     "text": [
      "jam_axi_proj(align='sph', moment='zz') -- elapsed time sec: 0.91\n",
      "analytic_los=0 logistic=0 constant_anisotropy=1\n",
      "No PSF/pixel convolution because sigmapsf=0 pixsize=0\n",
      "inc=36.3; beta[0]=0.0; kappa=1.00; M/L=1.00; BH=0.0; chi2/DOF=nan\n",
      "Total mass MGE (MSun): 8.299e+12\n",
      "\n",
      "sigma_e: 149.74 km/s\n",
      "theta_E: 0.371 arcsec\n"
     ]
    },
    {
     "name": "stdout",
     "output_type": "stream",
     "text": [
      "jam_axi_proj(align='sph', moment='zz') -- elapsed time sec: 1.06\n",
      "analytic_los=0 logistic=0 constant_anisotropy=1\n",
      "No PSF/pixel convolution because sigmapsf=0 pixsize=0\n",
      "inc=81.3; beta[0]=0.0; kappa=1.00; M/L=1.00; BH=0.0; chi2/DOF=nan\n",
      "Total mass MGE (MSun): 8.299e+12\n",
      "\n",
      "sigma_e: 129.77 km/s\n",
      "theta_E: 0.407 arcsec\n"
     ]
    },
    {
     "name": "stdout",
     "output_type": "stream",
     "text": [
      "jam_axi_proj(align='sph', moment='zz') -- elapsed time sec: 0.96\n",
      "analytic_los=0 logistic=0 constant_anisotropy=1\n",
      "No PSF/pixel convolution because sigmapsf=0 pixsize=0\n",
      "inc=59.6; beta[0]=0.0; kappa=1.00; M/L=1.00; BH=0.0; chi2/DOF=nan\n",
      "Total mass MGE (MSun): 8.299e+12\n",
      "\n",
      "sigma_e: 141.09 km/s\n",
      "theta_E: 0.375 arcsec\n"
     ]
    },
    {
     "name": "stdout",
     "output_type": "stream",
     "text": [
      "jam_axi_proj(align='sph', moment='zz') -- elapsed time sec: 0.98\n",
      "analytic_los=0 logistic=0 constant_anisotropy=1\n",
      "No PSF/pixel convolution because sigmapsf=0 pixsize=0\n",
      "inc=78.0; beta[0]=0.0; kappa=1.00; M/L=1.00; BH=0.0; chi2/DOF=nan\n",
      "Total mass MGE (MSun): 8.299e+12\n",
      "\n",
      "sigma_e: 131.10 km/s\n",
      "theta_E: 0.385 arcsec\n"
     ]
    },
    {
     "name": "stdout",
     "output_type": "stream",
     "text": [
      "jam_axi_proj(align='sph', moment='zz') -- elapsed time sec: 0.99\n",
      "analytic_los=0 logistic=0 constant_anisotropy=1\n",
      "No PSF/pixel convolution because sigmapsf=0 pixsize=0\n",
      "inc=71.3; beta[0]=0.0; kappa=1.00; M/L=1.00; BH=0.0; chi2/DOF=nan\n",
      "Total mass MGE (MSun): 8.299e+12\n",
      "\n",
      "sigma_e: 134.55 km/s\n",
      "theta_E: 0.460 arcsec\n"
     ]
    },
    {
     "name": "stdout",
     "output_type": "stream",
     "text": [
      "jam_axi_proj(align='sph', moment='zz') -- elapsed time sec: 0.90\n",
      "analytic_los=0 logistic=0 constant_anisotropy=1\n",
      "No PSF/pixel convolution because sigmapsf=0 pixsize=0\n",
      "inc=31.8; beta[0]=0.0; kappa=1.00; M/L=1.00; BH=0.0; chi2/DOF=nan\n",
      "Total mass MGE (MSun): 8.299e+12\n",
      "\n",
      "sigma_e: 150.70 km/s\n",
      "theta_E: 0.367 arcsec\n"
     ]
    },
    {
     "name": "stdout",
     "output_type": "stream",
     "text": [
      "jam_axi_proj(align='sph', moment='zz') -- elapsed time sec: 0.99\n",
      "analytic_los=0 logistic=0 constant_anisotropy=1\n",
      "No PSF/pixel convolution because sigmapsf=0 pixsize=0\n",
      "inc=88.4; beta[0]=0.0; kappa=1.00; M/L=1.00; BH=0.0; chi2/DOF=nan\n",
      "Total mass MGE (MSun): 8.299e+12\n",
      "\n",
      "sigma_e: 128.19 km/s\n",
      "theta_E: 0.469 arcsec\n"
     ]
    },
    {
     "name": "stdout",
     "output_type": "stream",
     "text": [
      "jam_axi_proj(align='sph', moment='zz') -- elapsed time sec: 0.97\n",
      "analytic_los=0 logistic=0 constant_anisotropy=1\n",
      "No PSF/pixel convolution because sigmapsf=0 pixsize=0\n",
      "inc=25.1; beta[0]=0.0; kappa=1.00; M/L=1.00; BH=0.0; chi2/DOF=nan\n",
      "Total mass MGE (MSun): 8.299e+12\n",
      "\n",
      "sigma_e: 151.85 km/s\n",
      "theta_E: 0.378 arcsec\n"
     ]
    },
    {
     "name": "stdout",
     "output_type": "stream",
     "text": [
      "jam_axi_proj(align='sph', moment='zz') -- elapsed time sec: 1.05\n",
      "analytic_los=0 logistic=0 constant_anisotropy=1\n",
      "No PSF/pixel convolution because sigmapsf=0 pixsize=0\n",
      "inc=75.6; beta[0]=0.0; kappa=1.00; M/L=1.00; BH=0.0; chi2/DOF=nan\n",
      "Total mass MGE (MSun): 8.299e+12\n",
      "\n",
      "sigma_e: 132.29 km/s\n",
      "theta_E: 0.368 arcsec\n"
     ]
    },
    {
     "name": "stdout",
     "output_type": "stream",
     "text": [
      "jam_axi_proj(align='sph', moment='zz') -- elapsed time sec: 1.01\n",
      "analytic_los=0 logistic=0 constant_anisotropy=1\n",
      "No PSF/pixel convolution because sigmapsf=0 pixsize=0\n",
      "inc=86.1; beta[0]=0.0; kappa=1.00; M/L=1.00; BH=0.0; chi2/DOF=nan\n",
      "Total mass MGE (MSun): 8.299e+12\n",
      "\n",
      "sigma_e: 128.48 km/s\n"
     ]
    },
    {
     "name": "stdout",
     "output_type": "stream",
     "text": [
      "theta_E: 0.468 arcsec\n"
     ]
    },
    {
     "name": "stdout",
     "output_type": "stream",
     "text": [
      "jam_axi_proj(align='sph', moment='zz') -- elapsed time sec: 0.99\n",
      "analytic_los=0 logistic=0 constant_anisotropy=1\n",
      "No PSF/pixel convolution because sigmapsf=0 pixsize=0\n",
      "inc=70.2; beta[0]=0.0; kappa=1.00; M/L=1.00; BH=0.0; chi2/DOF=nan\n",
      "Total mass MGE (MSun): 1.213e+13\n",
      "\n",
      "sigma_e: 148.32 km/s\n",
      "theta_E: 0.546 arcsec\n"
     ]
    },
    {
     "name": "stdout",
     "output_type": "stream",
     "text": [
      "jam_axi_proj(align='sph', moment='zz') -- elapsed time sec: 0.94\n",
      "analytic_los=0 logistic=0 constant_anisotropy=1\n",
      "No PSF/pixel convolution because sigmapsf=0 pixsize=0\n",
      "inc=42.1; beta[0]=0.0; kappa=1.00; M/L=1.00; BH=0.0; chi2/DOF=nan\n",
      "Total mass MGE (MSun): 1.213e+13\n",
      "\n",
      "sigma_e: 164.95 km/s\n",
      "theta_E: 0.440 arcsec\n"
     ]
    },
    {
     "name": "stdout",
     "output_type": "stream",
     "text": [
      "jam_axi_proj(align='sph', moment='zz') -- elapsed time sec: 0.99\n",
      "analytic_los=0 logistic=0 constant_anisotropy=1\n",
      "No PSF/pixel convolution because sigmapsf=0 pixsize=0\n",
      "inc=87.4; beta[0]=0.0; kappa=1.00; M/L=1.00; BH=0.0; chi2/DOF=nan\n",
      "Total mass MGE (MSun): 1.213e+13\n",
      "\n",
      "sigma_e: 138.74 km/s\n",
      "theta_E: 0.495 arcsec\n"
     ]
    },
    {
     "name": "stdout",
     "output_type": "stream",
     "text": [
      "jam_axi_proj(align='sph', moment='zz') -- elapsed time sec: 0.99\n",
      "analytic_los=0 logistic=0 constant_anisotropy=1\n",
      "No PSF/pixel convolution because sigmapsf=0 pixsize=0\n",
      "inc=60.4; beta[0]=0.0; kappa=1.00; M/L=1.00; BH=0.0; chi2/DOF=nan\n",
      "Total mass MGE (MSun): 1.213e+13\n",
      "\n",
      "sigma_e: 155.50 km/s\n",
      "theta_E: 0.455 arcsec\n"
     ]
    },
    {
     "name": "stdout",
     "output_type": "stream",
     "text": [
      "jam_axi_proj(align='sph', moment='zz') -- elapsed time sec: 1.03\n",
      "analytic_los=0 logistic=0 constant_anisotropy=1\n",
      "No PSF/pixel convolution because sigmapsf=0 pixsize=0\n",
      "inc=75.9; beta[0]=0.0; kappa=1.00; M/L=1.00; BH=0.0; chi2/DOF=nan\n",
      "Total mass MGE (MSun): 1.213e+13\n",
      "\n",
      "sigma_e: 144.14 km/s\n",
      "theta_E: 0.471 arcsec\n"
     ]
    },
    {
     "name": "stdout",
     "output_type": "stream",
     "text": [
      "jam_axi_proj(align='sph', moment='zz') -- elapsed time sec: 1.03\n",
      "analytic_los=0 logistic=0 constant_anisotropy=1\n",
      "No PSF/pixel convolution because sigmapsf=0 pixsize=0\n",
      "inc=69.3; beta[0]=0.0; kappa=1.00; M/L=1.00; BH=0.0; chi2/DOF=nan\n",
      "Total mass MGE (MSun): 1.213e+13\n",
      "\n",
      "sigma_e: 149.00 km/s\n",
      "theta_E: 0.510 arcsec\n"
     ]
    },
    {
     "name": "stdout",
     "output_type": "stream",
     "text": [
      "jam_axi_proj(align='sph', moment='zz') -- elapsed time sec: 0.95\n",
      "analytic_los=0 logistic=0 constant_anisotropy=1\n",
      "No PSF/pixel convolution because sigmapsf=0 pixsize=0\n",
      "inc=55.2; beta[0]=0.0; kappa=1.00; M/L=1.00; BH=0.0; chi2/DOF=nan\n",
      "Total mass MGE (MSun): 1.213e+13\n",
      "\n",
      "sigma_e: 158.82 km/s\n",
      "theta_E: 0.456 arcsec\n"
     ]
    },
    {
     "name": "stdout",
     "output_type": "stream",
     "text": [
      "jam_axi_proj(align='sph', moment='zz') -- elapsed time sec: 1.04\n",
      "analytic_los=0 logistic=0 constant_anisotropy=1\n",
      "No PSF/pixel convolution because sigmapsf=0 pixsize=0\n",
      "inc=75.5; beta[0]=0.0; kappa=1.00; M/L=1.00; BH=0.0; chi2/DOF=nan\n",
      "Total mass MGE (MSun): 1.213e+13\n",
      "\n",
      "sigma_e: 144.36 km/s\n",
      "theta_E: 0.500 arcsec\n"
     ]
    },
    {
     "name": "stdout",
     "output_type": "stream",
     "text": [
      "jam_axi_proj(align='sph', moment='zz') -- elapsed time sec: 1.00\n",
      "analytic_los=0 logistic=0 constant_anisotropy=1\n",
      "No PSF/pixel convolution because sigmapsf=0 pixsize=0\n",
      "inc=58.9; beta[0]=0.0; kappa=1.00; M/L=1.00; BH=0.0; chi2/DOF=nan\n",
      "Total mass MGE (MSun): 1.213e+13\n",
      "\n",
      "sigma_e: 156.52 km/s\n",
      "theta_E: 0.450 arcsec\n"
     ]
    },
    {
     "name": "stdout",
     "output_type": "stream",
     "text": [
      "jam_axi_proj(align='sph', moment='zz') -- elapsed time sec: 1.01\n",
      "analytic_los=0 logistic=0 constant_anisotropy=1\n",
      "No PSF/pixel convolution because sigmapsf=0 pixsize=0\n",
      "inc=78.6; beta[0]=0.0; kappa=1.00; M/L=1.00; BH=0.0; chi2/DOF=nan\n",
      "Total mass MGE (MSun): 1.213e+13\n",
      "\n",
      "sigma_e: 142.36 km/s\n"
     ]
    },
    {
     "name": "stdout",
     "output_type": "stream",
     "text": [
      "theta_E: 0.542 arcsec\n"
     ]
    },
    {
     "name": "stdout",
     "output_type": "stream",
     "text": [
      "jam_axi_proj(align='sph', moment='zz') -- elapsed time sec: 0.93\n",
      "analytic_los=0 logistic=0 constant_anisotropy=1\n",
      "No PSF/pixel convolution because sigmapsf=0 pixsize=0\n",
      "inc=49.2; beta[0]=0.0; kappa=1.00; M/L=1.00; BH=0.0; chi2/DOF=nan\n",
      "Total mass MGE (MSun): 1.198e+13\n",
      "\n",
      "sigma_e: 164.50 km/s\n",
      "theta_E: 0.483 arcsec\n"
     ]
    },
    {
     "name": "stdout",
     "output_type": "stream",
     "text": [
      "jam_axi_proj(align='sph', moment='zz') -- elapsed time sec: 0.96\n",
      "analytic_los=0 logistic=0 constant_anisotropy=1\n",
      "No PSF/pixel convolution because sigmapsf=0 pixsize=0\n",
      "inc=65.6; beta[0]=0.0; kappa=1.00; M/L=1.00; BH=0.0; chi2/DOF=nan\n",
      "Total mass MGE (MSun): 1.198e+13\n",
      "\n",
      "sigma_e: 150.85 km/s\n",
      "theta_E: 0.605 arcsec\n"
     ]
    },
    {
     "name": "stdout",
     "output_type": "stream",
     "text": [
      "jam_axi_proj(align='sph', moment='zz') -- elapsed time sec: 0.94\n",
      "analytic_los=0 logistic=0 constant_anisotropy=1\n",
      "No PSF/pixel convolution because sigmapsf=0 pixsize=0\n",
      "inc=26.6; beta[0]=0.0; kappa=1.00; M/L=1.00; BH=0.0; chi2/DOF=nan\n",
      "Total mass MGE (MSun): 1.198e+13\n",
      "\n",
      "sigma_e: 172.91 km/s\n",
      "theta_E: 0.425 arcsec\n"
     ]
    },
    {
     "name": "stdout",
     "output_type": "stream",
     "text": [
      "jam_axi_proj(align='sph', moment='zz') -- elapsed time sec: 0.94\n",
      "analytic_los=0 logistic=0 constant_anisotropy=1\n",
      "No PSF/pixel convolution because sigmapsf=0 pixsize=0\n",
      "inc=88.8; beta[0]=0.0; kappa=1.00; M/L=1.00; BH=0.0; chi2/DOF=nan\n",
      "Total mass MGE (MSun): 1.198e+13\n",
      "\n",
      "sigma_e: 130.16 km/s\n",
      "theta_E: 0.548 arcsec\n"
     ]
    },
    {
     "name": "stdout",
     "output_type": "stream",
     "text": [
      "jam_axi_proj(align='sph', moment='zz') -- elapsed time sec: 0.94\n",
      "analytic_los=0 logistic=0 constant_anisotropy=1\n",
      "No PSF/pixel convolution because sigmapsf=0 pixsize=0\n",
      "inc=47.6; beta[0]=0.0; kappa=1.00; M/L=1.00; BH=0.0; chi2/DOF=nan\n",
      "Total mass MGE (MSun): 1.198e+13\n",
      "\n",
      "sigma_e: 165.42 km/s\n",
      "theta_E: 0.603 arcsec\n"
     ]
    },
    {
     "name": "stdout",
     "output_type": "stream",
     "text": [
      "jam_axi_proj(align='sph', moment='zz') -- elapsed time sec: 0.94\n",
      "analytic_los=0 logistic=0 constant_anisotropy=1\n",
      "No PSF/pixel convolution because sigmapsf=0 pixsize=0\n",
      "inc=27.6; beta[0]=0.0; kappa=1.00; M/L=1.00; BH=0.0; chi2/DOF=nan\n",
      "Total mass MGE (MSun): 1.198e+13\n",
      "\n",
      "sigma_e: 172.71 km/s\n",
      "theta_E: 0.451 arcsec\n"
     ]
    },
    {
     "name": "stdout",
     "output_type": "stream",
     "text": [
      "jam_axi_proj(align='sph', moment='zz') -- elapsed time sec: 1.00\n",
      "analytic_los=0 logistic=0 constant_anisotropy=1\n",
      "No PSF/pixel convolution because sigmapsf=0 pixsize=0\n",
      "inc=74.7; beta[0]=0.0; kappa=1.00; M/L=1.00; BH=0.0; chi2/DOF=nan\n",
      "Total mass MGE (MSun): 1.198e+13\n",
      "\n",
      "sigma_e: 140.64 km/s\n",
      "theta_E: 0.468 arcsec\n"
     ]
    },
    {
     "name": "stdout",
     "output_type": "stream",
     "text": [
      "jam_axi_proj(align='sph', moment='zz') -- elapsed time sec: 1.00\n",
      "analytic_los=0 logistic=0 constant_anisotropy=1\n",
      "No PSF/pixel convolution because sigmapsf=0 pixsize=0\n",
      "inc=69.7; beta[0]=0.0; kappa=1.00; M/L=1.00; BH=0.0; chi2/DOF=nan\n",
      "Total mass MGE (MSun): 1.198e+13\n",
      "\n",
      "sigma_e: 146.28 km/s\n",
      "theta_E: 0.433 arcsec\n"
     ]
    },
    {
     "name": "stdout",
     "output_type": "stream",
     "text": [
      "jam_axi_proj(align='sph', moment='zz') -- elapsed time sec: 0.92\n",
      "analytic_los=0 logistic=0 constant_anisotropy=1\n",
      "No PSF/pixel convolution because sigmapsf=0 pixsize=0\n",
      "inc=81.6; beta[0]=0.0; kappa=1.00; M/L=1.00; BH=0.0; chi2/DOF=nan\n",
      "Total mass MGE (MSun): 1.198e+13\n",
      "\n",
      "sigma_e: 133.72 km/s\n",
      "theta_E: 0.600 arcsec\n"
     ]
    },
    {
     "name": "stdout",
     "output_type": "stream",
     "text": [
      "jam_axi_proj(align='sph', moment='zz') -- elapsed time sec: 0.98\n",
      "analytic_los=0 logistic=0 constant_anisotropy=1\n",
      "No PSF/pixel convolution because sigmapsf=0 pixsize=0\n",
      "inc=28.8; beta[0]=0.0; kappa=1.00; M/L=1.00; BH=0.0; chi2/DOF=nan\n",
      "Total mass MGE (MSun): 1.198e+13\n",
      "\n",
      "sigma_e: 172.44 km/s\n"
     ]
    },
    {
     "name": "stdout",
     "output_type": "stream",
     "text": [
      "theta_E: 0.538 arcsec\n"
     ]
    },
    {
     "name": "stdout",
     "output_type": "stream",
     "text": [
      "jam_axi_proj(align='sph', moment='zz') -- elapsed time sec: 0.97\n",
      "analytic_los=0 logistic=0 constant_anisotropy=1\n",
      "No PSF/pixel convolution because sigmapsf=0 pixsize=0\n",
      "inc=78.1; beta[0]=0.0; kappa=1.00; M/L=1.00; BH=0.0; chi2/DOF=nan\n",
      "Total mass MGE (MSun): 1.662e+13\n",
      "\n",
      "sigma_e: 158.55 km/s\n",
      "theta_E: 0.588 arcsec\n"
     ]
    },
    {
     "name": "stdout",
     "output_type": "stream",
     "text": [
      "jam_axi_proj(align='sph', moment='zz') -- elapsed time sec: 0.92\n",
      "analytic_los=0 logistic=0 constant_anisotropy=1\n",
      "No PSF/pixel convolution because sigmapsf=0 pixsize=0\n",
      "inc=54.5; beta[0]=0.0; kappa=1.00; M/L=1.00; BH=0.0; chi2/DOF=nan\n",
      "Total mass MGE (MSun): 1.662e+13\n",
      "\n",
      "sigma_e: 170.19 km/s\n",
      "theta_E: 0.609 arcsec\n"
     ]
    },
    {
     "name": "stdout",
     "output_type": "stream",
     "text": [
      "jam_axi_proj(align='sph', moment='zz') -- elapsed time sec: 0.93\n",
      "analytic_los=0 logistic=0 constant_anisotropy=1\n",
      "No PSF/pixel convolution because sigmapsf=0 pixsize=0\n",
      "inc=45.9; beta[0]=0.0; kappa=1.00; M/L=1.00; BH=0.0; chi2/DOF=nan\n",
      "Total mass MGE (MSun): 1.662e+13\n",
      "\n",
      "sigma_e: 173.65 km/s\n",
      "theta_E: 0.645 arcsec\n"
     ]
    },
    {
     "name": "stdout",
     "output_type": "stream",
     "text": [
      "jam_axi_proj(align='sph', moment='zz') -- elapsed time sec: 0.91\n",
      "analytic_los=0 logistic=0 constant_anisotropy=1\n",
      "No PSF/pixel convolution because sigmapsf=0 pixsize=0\n",
      "inc=28.7; beta[0]=0.0; kappa=1.00; M/L=1.00; BH=0.0; chi2/DOF=nan\n",
      "Total mass MGE (MSun): 1.662e+13\n",
      "\n",
      "sigma_e: 178.17 km/s\n",
      "theta_E: 0.530 arcsec\n"
     ]
    },
    {
     "name": "stdout",
     "output_type": "stream",
     "text": [
      "jam_axi_proj(align='sph', moment='zz') -- elapsed time sec: 0.98\n",
      "analytic_los=0 logistic=0 constant_anisotropy=1\n",
      "No PSF/pixel convolution because sigmapsf=0 pixsize=0\n",
      "inc=85.3; beta[0]=0.0; kappa=1.00; M/L=1.00; BH=0.0; chi2/DOF=nan\n",
      "Total mass MGE (MSun): 1.662e+13\n",
      "\n",
      "sigma_e: 156.40 km/s\n",
      "theta_E: 0.559 arcsec\n"
     ]
    },
    {
     "name": "stdout",
     "output_type": "stream",
     "text": [
      "jam_axi_proj(align='sph', moment='zz') -- elapsed time sec: 0.94\n",
      "analytic_los=0 logistic=0 constant_anisotropy=1\n",
      "No PSF/pixel convolution because sigmapsf=0 pixsize=0\n",
      "inc=66.8; beta[0]=0.0; kappa=1.00; M/L=1.00; BH=0.0; chi2/DOF=nan\n",
      "Total mass MGE (MSun): 1.662e+13\n",
      "\n",
      "sigma_e: 164.03 km/s\n",
      "theta_E: 0.599 arcsec\n"
     ]
    },
    {
     "name": "stdout",
     "output_type": "stream",
     "text": [
      "jam_axi_proj(align='sph', moment='zz') -- elapsed time sec: 0.93\n",
      "analytic_los=0 logistic=0 constant_anisotropy=1\n",
      "No PSF/pixel convolution because sigmapsf=0 pixsize=0\n",
      "inc=50.3; beta[0]=0.0; kappa=1.00; M/L=1.00; BH=0.0; chi2/DOF=nan\n",
      "Total mass MGE (MSun): 1.662e+13\n",
      "\n",
      "sigma_e: 171.96 km/s\n",
      "theta_E: 0.666 arcsec\n"
     ]
    },
    {
     "name": "stdout",
     "output_type": "stream",
     "text": [
      "jam_axi_proj(align='sph', moment='zz') -- elapsed time sec: 0.86\n",
      "analytic_los=0 logistic=0 constant_anisotropy=1\n",
      "No PSF/pixel convolution because sigmapsf=0 pixsize=0\n",
      "inc=11.5; beta[0]=0.0; kappa=1.00; M/L=1.00; BH=0.0; chi2/DOF=nan\n",
      "Total mass MGE (MSun): 1.662e+13\n",
      "\n",
      "sigma_e: 180.23 km/s\n",
      "theta_E: 0.545 arcsec\n"
     ]
    },
    {
     "name": "stdout",
     "output_type": "stream",
     "text": [
      "jam_axi_proj(align='sph', moment='zz') -- elapsed time sec: 0.98\n",
      "analytic_los=0 logistic=0 constant_anisotropy=1\n",
      "No PSF/pixel convolution because sigmapsf=0 pixsize=0\n",
      "inc=73.6; beta[0]=0.0; kappa=1.00; M/L=1.00; BH=0.0; chi2/DOF=nan\n",
      "Total mass MGE (MSun): 1.662e+13\n",
      "\n",
      "sigma_e: 160.56 km/s\n",
      "theta_E: 0.610 arcsec\n"
     ]
    },
    {
     "name": "stdout",
     "output_type": "stream",
     "text": [
      "jam_axi_proj(align='sph', moment='zz') -- elapsed time sec: 0.95\n",
      "analytic_los=0 logistic=0 constant_anisotropy=1\n",
      "No PSF/pixel convolution because sigmapsf=0 pixsize=0\n",
      "inc=45.6; beta[0]=0.0; kappa=1.00; M/L=1.00; BH=0.0; chi2/DOF=nan\n",
      "Total mass MGE (MSun): 1.662e+13\n",
      "\n",
      "sigma_e: 173.74 km/s\n"
     ]
    },
    {
     "name": "stdout",
     "output_type": "stream",
     "text": [
      "theta_E: 0.816 arcsec\n"
     ]
    },
    {
     "name": "stdout",
     "output_type": "stream",
     "text": [
      "jam_axi_proj(align='sph', moment='zz') -- elapsed time sec: 0.91\n",
      "analytic_los=0 logistic=0 constant_anisotropy=1\n",
      "No PSF/pixel convolution because sigmapsf=0 pixsize=0\n",
      "inc=49.3; beta[0]=0.0; kappa=1.00; M/L=1.00; BH=0.0; chi2/DOF=nan\n",
      "Total mass MGE (MSun): 3.054e+13\n",
      "\n",
      "sigma_e: 200.47 km/s\n",
      "theta_E: 0.839 arcsec\n"
     ]
    },
    {
     "name": "stdout",
     "output_type": "stream",
     "text": [
      "jam_axi_proj(align='sph', moment='zz') -- elapsed time sec: 0.92\n",
      "analytic_los=0 logistic=0 constant_anisotropy=1\n",
      "No PSF/pixel convolution because sigmapsf=0 pixsize=0\n",
      "inc=41.9; beta[0]=0.0; kappa=1.00; M/L=1.00; BH=0.0; chi2/DOF=nan\n",
      "Total mass MGE (MSun): 3.054e+13\n",
      "\n",
      "sigma_e: 203.40 km/s\n",
      "theta_E: 0.722 arcsec\n"
     ]
    },
    {
     "name": "stdout",
     "output_type": "stream",
     "text": [
      "jam_axi_proj(align='sph', moment='zz') -- elapsed time sec: 1.08\n",
      "analytic_los=0 logistic=0 constant_anisotropy=1\n",
      "No PSF/pixel convolution because sigmapsf=0 pixsize=0\n",
      "inc=85.5; beta[0]=0.0; kappa=1.00; M/L=1.00; BH=0.0; chi2/DOF=nan\n",
      "Total mass MGE (MSun): 3.054e+13\n",
      "\n",
      "sigma_e: 182.09 km/s\n",
      "theta_E: 0.775 arcsec\n"
     ]
    },
    {
     "name": "stdout",
     "output_type": "stream",
     "text": [
      "jam_axi_proj(align='sph', moment='zz') -- elapsed time sec: 0.96\n",
      "analytic_los=0 logistic=0 constant_anisotropy=1\n",
      "No PSF/pixel convolution because sigmapsf=0 pixsize=0\n",
      "inc=61.7; beta[0]=0.0; kappa=1.00; M/L=1.00; BH=0.0; chi2/DOF=nan\n",
      "Total mass MGE (MSun): 3.054e+13\n",
      "\n",
      "sigma_e: 193.91 km/s\n",
      "theta_E: 0.885 arcsec\n"
     ]
    },
    {
     "name": "stdout",
     "output_type": "stream",
     "text": [
      "jam_axi_proj(align='sph', moment='zz') -- elapsed time sec: 0.89\n",
      "analytic_los=0 logistic=0 constant_anisotropy=1\n",
      "No PSF/pixel convolution because sigmapsf=0 pixsize=0\n",
      "inc=23.3; beta[0]=0.0; kappa=1.00; M/L=1.00; BH=0.0; chi2/DOF=nan\n",
      "Total mass MGE (MSun): 3.054e+13\n",
      "\n",
      "sigma_e: 208.13 km/s\n",
      "theta_E: 0.887 arcsec\n"
     ]
    },
    {
     "name": "stdout",
     "output_type": "stream",
     "text": [
      "jam_axi_proj(align='sph', moment='zz') -- elapsed time sec: 0.90\n",
      "analytic_los=0 logistic=0 constant_anisotropy=1\n",
      "No PSF/pixel convolution because sigmapsf=0 pixsize=0\n",
      "inc=22.3; beta[0]=0.0; kappa=1.00; M/L=1.00; BH=0.0; chi2/DOF=nan\n",
      "Total mass MGE (MSun): 3.054e+13\n",
      "\n",
      "sigma_e: 208.30 km/s\n",
      "theta_E: 0.775 arcsec\n"
     ]
    },
    {
     "name": "stdout",
     "output_type": "stream",
     "text": [
      "jam_axi_proj(align='sph', moment='zz') -- elapsed time sec: 0.97\n",
      "analytic_los=0 logistic=0 constant_anisotropy=1\n",
      "No PSF/pixel convolution because sigmapsf=0 pixsize=0\n",
      "inc=61.8; beta[0]=0.0; kappa=1.00; M/L=1.00; BH=0.0; chi2/DOF=nan\n",
      "Total mass MGE (MSun): 3.054e+13\n",
      "\n",
      "sigma_e: 193.77 km/s\n",
      "theta_E: 0.787 arcsec\n"
     ]
    },
    {
     "name": "stdout",
     "output_type": "stream",
     "text": [
      "jam_axi_proj(align='sph', moment='zz') -- elapsed time sec: 0.94\n",
      "analytic_los=0 logistic=0 constant_anisotropy=1\n",
      "No PSF/pixel convolution because sigmapsf=0 pixsize=0\n",
      "inc=58.1; beta[0]=0.0; kappa=1.00; M/L=1.00; BH=0.0; chi2/DOF=nan\n",
      "Total mass MGE (MSun): 3.054e+13\n",
      "\n",
      "sigma_e: 195.95 km/s\n",
      "theta_E: 0.867 arcsec\n"
     ]
    },
    {
     "name": "stdout",
     "output_type": "stream",
     "text": [
      "jam_axi_proj(align='sph', moment='zz') -- elapsed time sec: 0.89\n",
      "analytic_los=0 logistic=0 constant_anisotropy=1\n",
      "No PSF/pixel convolution because sigmapsf=0 pixsize=0\n",
      "inc=31.9; beta[0]=0.0; kappa=1.00; M/L=1.00; BH=0.0; chi2/DOF=nan\n",
      "Total mass MGE (MSun): 3.054e+13\n",
      "\n",
      "sigma_e: 206.33 km/s\n",
      "theta_E: 0.790 arcsec\n"
     ]
    },
    {
     "name": "stdout",
     "output_type": "stream",
     "text": [
      "jam_axi_proj(align='sph', moment='zz') -- elapsed time sec: 0.94\n",
      "analytic_los=0 logistic=0 constant_anisotropy=1\n",
      "No PSF/pixel convolution because sigmapsf=0 pixsize=0\n",
      "inc=57.3; beta[0]=0.0; kappa=1.00; M/L=1.00; BH=0.0; chi2/DOF=nan\n",
      "Total mass MGE (MSun): 3.054e+13\n",
      "\n",
      "sigma_e: 196.38 km/s\n"
     ]
    },
    {
     "name": "stdout",
     "output_type": "stream",
     "text": [
      "theta_E: 0.711 arcsec\n"
     ]
    },
    {
     "name": "stdout",
     "output_type": "stream",
     "text": [
      "jam_axi_proj(align='sph', moment='zz') -- elapsed time sec: 0.88\n",
      "analytic_los=0 logistic=0 constant_anisotropy=1\n",
      "No PSF/pixel convolution because sigmapsf=0 pixsize=0\n",
      "inc=35.2; beta[0]=0.0; kappa=1.00; M/L=1.00; BH=0.0; chi2/DOF=nan\n",
      "Total mass MGE (MSun): 2.038e+13\n",
      "\n",
      "sigma_e: 187.04 km/s\n",
      "theta_E: 0.617 arcsec\n"
     ]
    },
    {
     "name": "stdout",
     "output_type": "stream",
     "text": [
      "jam_axi_proj(align='sph', moment='zz') -- elapsed time sec: 0.99\n",
      "analytic_los=0 logistic=0 constant_anisotropy=1\n",
      "No PSF/pixel convolution because sigmapsf=0 pixsize=0\n",
      "inc=67.7; beta[0]=0.0; kappa=1.00; M/L=1.00; BH=0.0; chi2/DOF=nan\n",
      "Total mass MGE (MSun): 2.038e+13\n",
      "\n",
      "sigma_e: 171.06 km/s\n",
      "theta_E: 0.647 arcsec\n"
     ]
    },
    {
     "name": "stdout",
     "output_type": "stream",
     "text": [
      "jam_axi_proj(align='sph', moment='zz') -- elapsed time sec: 0.92\n",
      "analytic_los=0 logistic=0 constant_anisotropy=1\n",
      "No PSF/pixel convolution because sigmapsf=0 pixsize=0\n",
      "inc=57.7; beta[0]=0.0; kappa=1.00; M/L=1.00; BH=0.0; chi2/DOF=nan\n",
      "Total mass MGE (MSun): 2.038e+13\n",
      "\n",
      "sigma_e: 177.54 km/s\n",
      "theta_E: 0.607 arcsec\n"
     ]
    },
    {
     "name": "stdout",
     "output_type": "stream",
     "text": [
      "jam_axi_proj(align='sph', moment='zz') -- elapsed time sec: 1.01\n",
      "analytic_los=0 logistic=0 constant_anisotropy=1\n",
      "No PSF/pixel convolution because sigmapsf=0 pixsize=0\n",
      "inc=71.4; beta[0]=0.0; kappa=1.00; M/L=1.00; BH=0.0; chi2/DOF=nan\n",
      "Total mass MGE (MSun): 2.038e+13\n",
      "\n",
      "sigma_e: 168.71 km/s\n",
      "theta_E: 0.647 arcsec\n"
     ]
    },
    {
     "name": "stdout",
     "output_type": "stream",
     "text": [
      "jam_axi_proj(align='sph', moment='zz') -- elapsed time sec: 0.92\n",
      "analytic_los=0 logistic=0 constant_anisotropy=1\n",
      "No PSF/pixel convolution because sigmapsf=0 pixsize=0\n",
      "inc=57.6; beta[0]=0.0; kappa=1.00; M/L=1.00; BH=0.0; chi2/DOF=nan\n",
      "Total mass MGE (MSun): 2.038e+13\n",
      "\n",
      "sigma_e: 177.59 km/s\n",
      "theta_E: 0.603 arcsec\n"
     ]
    },
    {
     "name": "stdout",
     "output_type": "stream",
     "text": [
      "jam_axi_proj(align='sph', moment='zz') -- elapsed time sec: 0.98\n",
      "analytic_los=0 logistic=0 constant_anisotropy=1\n",
      "No PSF/pixel convolution because sigmapsf=0 pixsize=0\n",
      "inc=73.0; beta[0]=0.0; kappa=1.00; M/L=1.00; BH=0.0; chi2/DOF=nan\n",
      "Total mass MGE (MSun): 2.038e+13\n",
      "\n",
      "sigma_e: 167.69 km/s\n",
      "theta_E: 0.671 arcsec\n"
     ]
    },
    {
     "name": "stdout",
     "output_type": "stream",
     "text": [
      "jam_axi_proj(align='sph', moment='zz') -- elapsed time sec: 0.96\n",
      "analytic_los=0 logistic=0 constant_anisotropy=1\n",
      "No PSF/pixel convolution because sigmapsf=0 pixsize=0\n",
      "inc=49.7; beta[0]=0.0; kappa=1.00; M/L=1.00; BH=0.0; chi2/DOF=nan\n",
      "Total mass MGE (MSun): 2.038e+13\n",
      "\n",
      "sigma_e: 181.77 km/s\n",
      "theta_E: 0.582 arcsec\n"
     ]
    },
    {
     "name": "stdout",
     "output_type": "stream",
     "text": [
      "jam_axi_proj(align='sph', moment='zz') -- elapsed time sec: 1.03\n",
      "analytic_los=0 logistic=0 constant_anisotropy=1\n",
      "No PSF/pixel convolution because sigmapsf=0 pixsize=0\n",
      "inc=86.5; beta[0]=0.0; kappa=1.00; M/L=1.00; BH=0.0; chi2/DOF=nan\n",
      "Total mass MGE (MSun): 2.038e+13\n",
      "\n",
      "sigma_e: 161.68 km/s\n",
      "theta_E: 0.733 arcsec\n"
     ]
    },
    {
     "name": "stdout",
     "output_type": "stream",
     "text": [
      "jam_axi_proj(align='sph', moment='zz') -- elapsed time sec: 0.87\n",
      "analytic_los=0 logistic=0 constant_anisotropy=1\n",
      "No PSF/pixel convolution because sigmapsf=0 pixsize=0\n",
      "inc=24.8; beta[0]=0.0; kappa=1.00; M/L=1.00; BH=0.0; chi2/DOF=nan\n",
      "Total mass MGE (MSun): 2.038e+13\n",
      "\n",
      "sigma_e: 189.35 km/s\n",
      "theta_E: 0.588 arcsec\n"
     ]
    },
    {
     "name": "stdout",
     "output_type": "stream",
     "text": [
      "jam_axi_proj(align='sph', moment='zz') -- elapsed time sec: 0.99\n",
      "analytic_los=0 logistic=0 constant_anisotropy=1\n",
      "No PSF/pixel convolution because sigmapsf=0 pixsize=0\n",
      "inc=81.0; beta[0]=0.0; kappa=1.00; M/L=1.00; BH=0.0; chi2/DOF=nan\n",
      "Total mass MGE (MSun): 2.038e+13\n",
      "\n",
      "sigma_e: 163.35 km/s\n"
     ]
    },
    {
     "name": "stdout",
     "output_type": "stream",
     "text": [
      "theta_E: 1.202 arcsec\n"
     ]
    },
    {
     "name": "stdout",
     "output_type": "stream",
     "text": [
      "jam_axi_proj(align='sph', moment='zz') -- elapsed time sec: 0.95\n",
      "analytic_los=0 logistic=0 constant_anisotropy=1\n",
      "No PSF/pixel convolution because sigmapsf=0 pixsize=0\n",
      "inc=88.8; beta[0]=0.0; kappa=1.00; M/L=1.00; BH=0.0; chi2/DOF=nan\n",
      "Total mass MGE (MSun): 8.262e+13\n",
      "\n",
      "sigma_e: 237.18 km/s\n",
      "theta_E: 1.202 arcsec\n"
     ]
    },
    {
     "name": "stdout",
     "output_type": "stream",
     "text": [
      "jam_axi_proj(align='sph', moment='zz') -- elapsed time sec: 0.99\n",
      "analytic_los=0 logistic=0 constant_anisotropy=1\n",
      "No PSF/pixel convolution because sigmapsf=0 pixsize=0\n",
      "inc=88.8; beta[0]=0.0; kappa=1.00; M/L=1.00; BH=0.0; chi2/DOF=nan\n",
      "Total mass MGE (MSun): 8.262e+13\n",
      "\n",
      "sigma_e: 237.18 km/s\n",
      "theta_E: 1.460 arcsec\n"
     ]
    },
    {
     "name": "stdout",
     "output_type": "stream",
     "text": [
      "jam_axi_proj(align='sph', moment='zz') -- elapsed time sec: 0.90\n",
      "analytic_los=0 logistic=0 constant_anisotropy=1\n",
      "No PSF/pixel convolution because sigmapsf=0 pixsize=0\n",
      "inc=6.65; beta[0]=0.0; kappa=1.00; M/L=1.00; BH=0.0; chi2/DOF=nan\n",
      "Total mass MGE (MSun): 8.262e+13\n",
      "\n",
      "sigma_e: 266.33 km/s\n",
      "theta_E: 1.306 arcsec\n"
     ]
    },
    {
     "name": "stdout",
     "output_type": "stream",
     "text": [
      "jam_axi_proj(align='sph', moment='zz') -- elapsed time sec: 0.96\n",
      "analytic_los=0 logistic=0 constant_anisotropy=1\n",
      "No PSF/pixel convolution because sigmapsf=0 pixsize=0\n",
      "inc=54.9; beta[0]=0.0; kappa=1.00; M/L=1.00; BH=0.0; chi2/DOF=nan\n",
      "Total mass MGE (MSun): 8.262e+13\n",
      "\n",
      "sigma_e: 252.95 km/s\n",
      "theta_E: 1.229 arcsec\n"
     ]
    },
    {
     "name": "stdout",
     "output_type": "stream",
     "text": [
      "jam_axi_proj(align='sph', moment='zz') -- elapsed time sec: 1.00\n",
      "analytic_los=0 logistic=0 constant_anisotropy=1\n",
      "No PSF/pixel convolution because sigmapsf=0 pixsize=0\n",
      "inc=73.8; beta[0]=0.0; kappa=1.00; M/L=1.00; BH=0.0; chi2/DOF=nan\n",
      "Total mass MGE (MSun): 8.262e+13\n",
      "\n",
      "sigma_e: 241.98 km/s\n",
      "theta_E: 1.451 arcsec\n"
     ]
    },
    {
     "name": "stdout",
     "output_type": "stream",
     "text": [
      "jam_axi_proj(align='sph', moment='zz') -- elapsed time sec: 0.90\n",
      "analytic_los=0 logistic=0 constant_anisotropy=1\n",
      "No PSF/pixel convolution because sigmapsf=0 pixsize=0\n",
      "inc=13.8; beta[0]=0.0; kappa=1.00; M/L=1.00; BH=0.0; chi2/DOF=nan\n",
      "Total mass MGE (MSun): 8.262e+13\n",
      "\n",
      "sigma_e: 265.81 km/s\n",
      "theta_E: 1.338 arcsec\n"
     ]
    },
    {
     "name": "stdout",
     "output_type": "stream",
     "text": [
      "jam_axi_proj(align='sph', moment='zz') -- elapsed time sec: 0.96\n",
      "analytic_los=0 logistic=0 constant_anisotropy=1\n",
      "No PSF/pixel convolution because sigmapsf=0 pixsize=0\n",
      "inc=47.9; beta[0]=0.0; kappa=1.00; M/L=1.00; BH=0.0; chi2/DOF=nan\n",
      "Total mass MGE (MSun): 8.262e+13\n",
      "\n",
      "sigma_e: 256.52 km/s\n",
      "theta_E: 1.257 arcsec\n"
     ]
    },
    {
     "name": "stdout",
     "output_type": "stream",
     "text": [
      "jam_axi_proj(align='sph', moment='zz') -- elapsed time sec: 0.97\n",
      "analytic_los=0 logistic=0 constant_anisotropy=1\n",
      "No PSF/pixel convolution because sigmapsf=0 pixsize=0\n",
      "inc=66.0; beta[0]=0.0; kappa=1.00; M/L=1.00; BH=0.0; chi2/DOF=nan\n",
      "Total mass MGE (MSun): 8.262e+13\n",
      "\n",
      "sigma_e: 246.48 km/s\n",
      "theta_E: 1.371 arcsec\n"
     ]
    },
    {
     "name": "stdout",
     "output_type": "stream",
     "text": [
      "jam_axi_proj(align='sph', moment='zz') -- elapsed time sec: 1.01\n",
      "analytic_los=0 logistic=0 constant_anisotropy=1\n",
      "No PSF/pixel convolution because sigmapsf=0 pixsize=0\n",
      "inc=40.4; beta[0]=0.0; kappa=1.00; M/L=1.00; BH=0.0; chi2/DOF=nan\n",
      "Total mass MGE (MSun): 8.262e+13\n",
      "\n",
      "sigma_e: 259.69 km/s\n",
      "theta_E: 1.411 arcsec\n"
     ]
    },
    {
     "name": "stdout",
     "output_type": "stream",
     "text": [
      "jam_axi_proj(align='sph', moment='zz') -- elapsed time sec: 0.92\n",
      "analytic_los=0 logistic=0 constant_anisotropy=1\n",
      "No PSF/pixel convolution because sigmapsf=0 pixsize=0\n",
      "inc=29.8; beta[0]=0.0; kappa=1.00; M/L=1.00; BH=0.0; chi2/DOF=nan\n",
      "Total mass MGE (MSun): 8.262e+13\n",
      "\n",
      "sigma_e: 262.99 km/s\n"
     ]
    },
    {
     "name": "stdout",
     "output_type": "stream",
     "text": [
      "theta_E: 1.318 arcsec\n"
     ]
    },
    {
     "name": "stdout",
     "output_type": "stream",
     "text": [
      "jam_axi_proj(align='sph', moment='zz') -- elapsed time sec: 0.88\n",
      "analytic_los=0 logistic=0 constant_anisotropy=1\n",
      "No PSF/pixel convolution because sigmapsf=0 pixsize=0\n",
      "inc=19.8; beta[0]=0.0; kappa=1.00; M/L=1.00; BH=0.0; chi2/DOF=nan\n",
      "Total mass MGE (MSun): 6.382e+13\n",
      "\n",
      "sigma_e: 253.82 km/s\n",
      "theta_E: 1.168 arcsec\n"
     ]
    },
    {
     "name": "stdout",
     "output_type": "stream",
     "text": [
      "jam_axi_proj(align='sph', moment='zz') -- elapsed time sec: 0.97\n",
      "analytic_los=0 logistic=0 constant_anisotropy=1\n",
      "No PSF/pixel convolution because sigmapsf=0 pixsize=0\n",
      "inc=54.1; beta[0]=0.0; kappa=1.00; M/L=1.00; BH=0.0; chi2/DOF=nan\n",
      "Total mass MGE (MSun): 6.382e+13\n",
      "\n",
      "sigma_e: 239.71 km/s\n",
      "theta_E: 1.131 arcsec\n"
     ]
    },
    {
     "name": "stdout",
     "output_type": "stream",
     "text": [
      "jam_axi_proj(align='sph', moment='zz') -- elapsed time sec: 0.98\n",
      "analytic_los=0 logistic=0 constant_anisotropy=1\n",
      "No PSF/pixel convolution because sigmapsf=0 pixsize=0\n",
      "inc=60.9; beta[0]=0.0; kappa=1.00; M/L=1.00; BH=0.0; chi2/DOF=nan\n",
      "Total mass MGE (MSun): 6.382e+13\n",
      "\n",
      "sigma_e: 234.53 km/s\n",
      "theta_E: 1.124 arcsec\n"
     ]
    },
    {
     "name": "stdout",
     "output_type": "stream",
     "text": [
      "jam_axi_proj(align='sph', moment='zz') -- elapsed time sec: 0.98\n",
      "analytic_los=0 logistic=0 constant_anisotropy=1\n",
      "No PSF/pixel convolution because sigmapsf=0 pixsize=0\n",
      "inc=62.1; beta[0]=0.0; kappa=1.00; M/L=1.00; BH=0.0; chi2/DOF=nan\n",
      "Total mass MGE (MSun): 6.382e+13\n",
      "\n",
      "sigma_e: 233.46 km/s\n",
      "theta_E: 1.323 arcsec\n"
     ]
    },
    {
     "name": "stdout",
     "output_type": "stream",
     "text": [
      "jam_axi_proj(align='sph', moment='zz') -- elapsed time sec: 0.91\n",
      "analytic_los=0 logistic=0 constant_anisotropy=1\n",
      "No PSF/pixel convolution because sigmapsf=0 pixsize=0\n",
      "inc=17.9; beta[0]=0.0; kappa=1.00; M/L=1.00; BH=0.0; chi2/DOF=nan\n",
      "Total mass MGE (MSun): 6.382e+13\n",
      "\n",
      "sigma_e: 254.13 km/s\n",
      "theta_E: 1.123 arcsec\n"
     ]
    },
    {
     "name": "stdout",
     "output_type": "stream",
     "text": [
      "jam_axi_proj(align='sph', moment='zz') -- elapsed time sec: 1.06\n",
      "analytic_los=0 logistic=0 constant_anisotropy=1\n",
      "No PSF/pixel convolution because sigmapsf=0 pixsize=0\n",
      "inc=62.4; beta[0]=0.0; kappa=1.00; M/L=1.00; BH=0.0; chi2/DOF=nan\n",
      "Total mass MGE (MSun): 6.382e+13\n",
      "\n",
      "sigma_e: 233.21 km/s\n",
      "theta_E: 1.069 arcsec\n"
     ]
    },
    {
     "name": "stdout",
     "output_type": "stream",
     "text": [
      "jam_axi_proj(align='sph', moment='zz') -- elapsed time sec: 1.00\n",
      "analytic_los=0 logistic=0 constant_anisotropy=1\n",
      "No PSF/pixel convolution because sigmapsf=0 pixsize=0\n",
      "inc=73.6; beta[0]=0.0; kappa=1.00; M/L=1.00; BH=0.0; chi2/DOF=nan\n",
      "Total mass MGE (MSun): 6.382e+13\n",
      "\n",
      "sigma_e: 223.47 km/s\n",
      "theta_E: 1.171 arcsec\n"
     ]
    },
    {
     "name": "stdout",
     "output_type": "stream",
     "text": [
      "jam_axi_proj(align='sph', moment='zz') -- elapsed time sec: 0.95\n",
      "analytic_los=0 logistic=0 constant_anisotropy=1\n",
      "No PSF/pixel convolution because sigmapsf=0 pixsize=0\n",
      "inc=53.7; beta[0]=0.0; kappa=1.00; M/L=1.00; BH=0.0; chi2/DOF=nan\n",
      "Total mass MGE (MSun): 6.382e+13\n",
      "\n",
      "sigma_e: 240.03 km/s\n",
      "theta_E: 1.241 arcsec\n"
     ]
    },
    {
     "name": "stdout",
     "output_type": "stream",
     "text": [
      "jam_axi_proj(align='sph', moment='zz') -- elapsed time sec: 0.94\n",
      "analytic_los=0 logistic=0 constant_anisotropy=1\n",
      "No PSF/pixel convolution because sigmapsf=0 pixsize=0\n",
      "inc=40.3; beta[0]=0.0; kappa=1.00; M/L=1.00; BH=0.0; chi2/DOF=nan\n",
      "Total mass MGE (MSun): 6.382e+13\n",
      "\n",
      "sigma_e: 247.70 km/s\n",
      "theta_E: 1.117 arcsec\n"
     ]
    },
    {
     "name": "stdout",
     "output_type": "stream",
     "text": [
      "jam_axi_proj(align='sph', moment='zz') -- elapsed time sec: 1.05\n",
      "analytic_los=0 logistic=0 constant_anisotropy=1\n",
      "No PSF/pixel convolution because sigmapsf=0 pixsize=0\n",
      "inc=63.6; beta[0]=0.0; kappa=1.00; M/L=1.00; BH=0.0; chi2/DOF=nan\n",
      "Total mass MGE (MSun): 6.382e+13\n",
      "\n",
      "sigma_e: 232.15 km/s\n"
     ]
    },
    {
     "name": "stdout",
     "output_type": "stream",
     "text": [
      "theta_E: 0.576 arcsec\n"
     ]
    },
    {
     "name": "stdout",
     "output_type": "stream",
     "text": [
      "jam_axi_proj(align='sph', moment='zz') -- elapsed time sec: 0.90\n",
      "analytic_los=0 logistic=0 constant_anisotropy=1\n",
      "No PSF/pixel convolution because sigmapsf=0 pixsize=0\n",
      "inc=65.3; beta[0]=0.0; kappa=1.00; M/L=1.00; BH=0.0; chi2/DOF=nan\n",
      "Total mass MGE (MSun): 1.743e+13\n",
      "\n",
      "sigma_e: 167.29 km/s\n",
      "theta_E: 0.619 arcsec\n"
     ]
    },
    {
     "name": "stdout",
     "output_type": "stream",
     "text": [
      "jam_axi_proj(align='sph', moment='zz') -- elapsed time sec: 0.86\n",
      "analytic_los=0 logistic=0 constant_anisotropy=1\n",
      "No PSF/pixel convolution because sigmapsf=0 pixsize=0\n",
      "inc=40.6; beta[0]=0.0; kappa=1.00; M/L=1.00; BH=0.0; chi2/DOF=nan\n",
      "Total mass MGE (MSun): 1.743e+13\n",
      "\n",
      "sigma_e: 174.56 km/s\n",
      "theta_E: 0.562 arcsec\n"
     ]
    },
    {
     "name": "stdout",
     "output_type": "stream",
     "text": [
      "jam_axi_proj(align='sph', moment='zz') -- elapsed time sec: 0.93\n",
      "analytic_los=0 logistic=0 constant_anisotropy=1\n",
      "No PSF/pixel convolution because sigmapsf=0 pixsize=0\n",
      "inc=75.5; beta[0]=0.0; kappa=1.00; M/L=1.00; BH=0.0; chi2/DOF=nan\n",
      "Total mass MGE (MSun): 1.743e+13\n",
      "\n",
      "sigma_e: 164.18 km/s\n",
      "theta_E: 0.562 arcsec\n"
     ]
    },
    {
     "name": "stdout",
     "output_type": "stream",
     "text": [
      "jam_axi_proj(align='sph', moment='zz') -- elapsed time sec: 0.92\n",
      "analytic_los=0 logistic=0 constant_anisotropy=1\n",
      "No PSF/pixel convolution because sigmapsf=0 pixsize=0\n",
      "inc=75.4; beta[0]=0.0; kappa=1.00; M/L=1.00; BH=0.0; chi2/DOF=nan\n",
      "Total mass MGE (MSun): 1.743e+13\n",
      "\n",
      "sigma_e: 164.21 km/s\n",
      "theta_E: 0.558 arcsec\n"
     ]
    },
    {
     "name": "stdout",
     "output_type": "stream",
     "text": [
      "jam_axi_proj(align='sph', moment='zz') -- elapsed time sec: 0.96\n",
      "analytic_los=0 logistic=0 constant_anisotropy=1\n",
      "No PSF/pixel convolution because sigmapsf=0 pixsize=0\n",
      "inc=79.6; beta[0]=0.0; kappa=1.00; M/L=1.00; BH=0.0; chi2/DOF=nan\n",
      "Total mass MGE (MSun): 1.743e+13\n",
      "\n",
      "sigma_e: 163.22 km/s\n",
      "theta_E: 0.584 arcsec\n"
     ]
    },
    {
     "name": "stdout",
     "output_type": "stream",
     "text": [
      "jam_axi_proj(align='sph', moment='zz') -- elapsed time sec: 0.90\n",
      "analytic_los=0 logistic=0 constant_anisotropy=1\n",
      "No PSF/pixel convolution because sigmapsf=0 pixsize=0\n",
      "inc=60.7; beta[0]=0.0; kappa=1.00; M/L=1.00; BH=0.0; chi2/DOF=nan\n",
      "Total mass MGE (MSun): 1.743e+13\n",
      "\n",
      "sigma_e: 168.82 km/s\n",
      "theta_E: 0.640 arcsec\n"
     ]
    },
    {
     "name": "stdout",
     "output_type": "stream",
     "text": [
      "jam_axi_proj(align='sph', moment='zz') -- elapsed time sec: 0.85\n",
      "analytic_los=0 logistic=0 constant_anisotropy=1\n",
      "No PSF/pixel convolution because sigmapsf=0 pixsize=0\n",
      "inc=26.8; beta[0]=0.0; kappa=1.00; M/L=1.00; BH=0.0; chi2/DOF=nan\n",
      "Total mass MGE (MSun): 1.743e+13\n",
      "\n",
      "sigma_e: 177.02 km/s\n",
      "theta_E: 0.642 arcsec\n"
     ]
    },
    {
     "name": "stdout",
     "output_type": "stream",
     "text": [
      "jam_axi_proj(align='sph', moment='zz') -- elapsed time sec: 0.84\n",
      "analytic_los=0 logistic=0 constant_anisotropy=1\n",
      "No PSF/pixel convolution because sigmapsf=0 pixsize=0\n",
      "inc=24.4; beta[0]=0.0; kappa=1.00; M/L=1.00; BH=0.0; chi2/DOF=nan\n",
      "Total mass MGE (MSun): 1.743e+13\n",
      "\n",
      "sigma_e: 177.32 km/s\n",
      "theta_E: 0.558 arcsec\n"
     ]
    },
    {
     "name": "stdout",
     "output_type": "stream",
     "text": [
      "jam_axi_proj(align='sph', moment='zz') -- elapsed time sec: 0.96\n",
      "analytic_los=0 logistic=0 constant_anisotropy=1\n",
      "No PSF/pixel convolution because sigmapsf=0 pixsize=0\n",
      "inc=80.1; beta[0]=0.0; kappa=1.00; M/L=1.00; BH=0.0; chi2/DOF=nan\n",
      "Total mass MGE (MSun): 1.743e+13\n",
      "\n",
      "sigma_e: 163.13 km/s\n",
      "theta_E: 0.613 arcsec\n"
     ]
    },
    {
     "name": "stdout",
     "output_type": "stream",
     "text": [
      "jam_axi_proj(align='sph', moment='zz') -- elapsed time sec: 0.88\n",
      "analytic_los=0 logistic=0 constant_anisotropy=1\n",
      "No PSF/pixel convolution because sigmapsf=0 pixsize=0\n",
      "inc=44.6; beta[0]=0.0; kappa=1.00; M/L=1.00; BH=0.0; chi2/DOF=nan\n",
      "Total mass MGE (MSun): 1.743e+13\n",
      "\n",
      "sigma_e: 173.62 km/s\n"
     ]
    },
    {
     "name": "stdout",
     "output_type": "stream",
     "text": [
      "theta_E: 0.581 arcsec\n"
     ]
    },
    {
     "name": "stdout",
     "output_type": "stream",
     "text": [
      "jam_axi_proj(align='sph', moment='zz') -- elapsed time sec: 0.87\n",
      "analytic_los=0 logistic=0 constant_anisotropy=1\n",
      "No PSF/pixel convolution because sigmapsf=0 pixsize=0\n",
      "inc=33.6; beta[0]=0.0; kappa=1.00; M/L=1.00; BH=0.0; chi2/DOF=nan\n",
      "Total mass MGE (MSun): 1.421e+13\n",
      "\n",
      "sigma_e: 168.89 km/s\n",
      "theta_E: 0.574 arcsec\n"
     ]
    },
    {
     "name": "stdout",
     "output_type": "stream",
     "text": [
      "jam_axi_proj(align='sph', moment='zz') -- elapsed time sec: 0.90\n",
      "analytic_los=0 logistic=0 constant_anisotropy=1\n",
      "No PSF/pixel convolution because sigmapsf=0 pixsize=0\n",
      "inc=37.7; beta[0]=0.0; kappa=1.00; M/L=1.00; BH=0.0; chi2/DOF=nan\n",
      "Total mass MGE (MSun): 1.421e+13\n",
      "\n",
      "sigma_e: 167.99 km/s\n",
      "theta_E: 0.539 arcsec\n"
     ]
    },
    {
     "name": "stdout",
     "output_type": "stream",
     "text": [
      "jam_axi_proj(align='sph', moment='zz') -- elapsed time sec: 0.95\n",
      "analytic_los=0 logistic=0 constant_anisotropy=1\n",
      "No PSF/pixel convolution because sigmapsf=0 pixsize=0\n",
      "inc=55.4; beta[0]=0.0; kappa=1.00; M/L=1.00; BH=0.0; chi2/DOF=nan\n",
      "Total mass MGE (MSun): 1.421e+13\n",
      "\n",
      "sigma_e: 162.41 km/s\n",
      "theta_E: 0.587 arcsec\n"
     ]
    },
    {
     "name": "stdout",
     "output_type": "stream",
     "text": [
      "jam_axi_proj(align='sph', moment='zz') -- elapsed time sec: 0.88\n",
      "analytic_los=0 logistic=0 constant_anisotropy=1\n",
      "No PSF/pixel convolution because sigmapsf=0 pixsize=0\n",
      "inc=29.4; beta[0]=0.0; kappa=1.00; M/L=1.00; BH=0.0; chi2/DOF=nan\n",
      "Total mass MGE (MSun): 1.421e+13\n",
      "\n",
      "sigma_e: 169.66 km/s\n",
      "theta_E: 0.528 arcsec\n"
     ]
    },
    {
     "name": "stdout",
     "output_type": "stream",
     "text": [
      "jam_axi_proj(align='sph', moment='zz') -- elapsed time sec: 0.92\n",
      "analytic_los=0 logistic=0 constant_anisotropy=1\n",
      "No PSF/pixel convolution because sigmapsf=0 pixsize=0\n",
      "inc=60.8; beta[0]=0.0; kappa=1.00; M/L=1.00; BH=0.0; chi2/DOF=nan\n",
      "Total mass MGE (MSun): 1.421e+13\n",
      "\n",
      "sigma_e: 160.17 km/s\n",
      "theta_E: 0.510 arcsec\n"
     ]
    },
    {
     "name": "stdout",
     "output_type": "stream",
     "text": [
      "jam_axi_proj(align='sph', moment='zz') -- elapsed time sec: 0.93\n",
      "analytic_los=0 logistic=0 constant_anisotropy=1\n",
      "No PSF/pixel convolution because sigmapsf=0 pixsize=0\n",
      "inc=70.4; beta[0]=0.0; kappa=1.00; M/L=1.00; BH=0.0; chi2/DOF=nan\n",
      "Total mass MGE (MSun): 1.421e+13\n",
      "\n",
      "sigma_e: 156.02 km/s\n",
      "theta_E: 0.523 arcsec\n"
     ]
    },
    {
     "name": "stdout",
     "output_type": "stream",
     "text": [
      "jam_axi_proj(align='sph', moment='zz') -- elapsed time sec: 0.91\n",
      "analytic_los=0 logistic=0 constant_anisotropy=1\n",
      "No PSF/pixel convolution because sigmapsf=0 pixsize=0\n",
      "inc=63.6; beta[0]=0.0; kappa=1.00; M/L=1.00; BH=0.0; chi2/DOF=nan\n",
      "Total mass MGE (MSun): 1.421e+13\n",
      "\n",
      "sigma_e: 158.98 km/s\n",
      "theta_E: 0.551 arcsec\n"
     ]
    },
    {
     "name": "stdout",
     "output_type": "stream",
     "text": [
      "jam_axi_proj(align='sph', moment='zz') -- elapsed time sec: 0.90\n",
      "analytic_los=0 logistic=0 constant_anisotropy=1\n",
      "No PSF/pixel convolution because sigmapsf=0 pixsize=0\n",
      "inc=49.6; beta[0]=0.0; kappa=1.00; M/L=1.00; BH=0.0; chi2/DOF=nan\n",
      "Total mass MGE (MSun): 1.421e+13\n",
      "\n",
      "sigma_e: 164.52 km/s\n",
      "theta_E: 0.510 arcsec\n"
     ]
    },
    {
     "name": "stdout",
     "output_type": "stream",
     "text": [
      "jam_axi_proj(align='sph', moment='zz') -- elapsed time sec: 0.94\n",
      "analytic_los=0 logistic=0 constant_anisotropy=1\n",
      "No PSF/pixel convolution because sigmapsf=0 pixsize=0\n",
      "inc=70.2; beta[0]=0.0; kappa=1.00; M/L=1.00; BH=0.0; chi2/DOF=nan\n",
      "Total mass MGE (MSun): 1.421e+13\n",
      "\n",
      "sigma_e: 156.12 km/s\n",
      "theta_E: 0.520 arcsec\n"
     ]
    },
    {
     "name": "stdout",
     "output_type": "stream",
     "text": [
      "jam_axi_proj(align='sph', moment='zz') -- elapsed time sec: 0.93\n",
      "analytic_los=0 logistic=0 constant_anisotropy=1\n",
      "No PSF/pixel convolution because sigmapsf=0 pixsize=0\n",
      "inc=65.0; beta[0]=0.0; kappa=1.00; M/L=1.00; BH=0.0; chi2/DOF=nan\n",
      "Total mass MGE (MSun): 1.421e+13\n",
      "\n",
      "sigma_e: 158.37 km/s\n"
     ]
    },
    {
     "name": "stdout",
     "output_type": "stream",
     "text": [
      "theta_E: 0.472 arcsec\n"
     ]
    },
    {
     "name": "stdout",
     "output_type": "stream",
     "text": [
      "jam_axi_proj(align='sph', moment='zz') -- elapsed time sec: 0.87\n",
      "analytic_los=0 logistic=0 constant_anisotropy=1\n",
      "No PSF/pixel convolution because sigmapsf=0 pixsize=0\n",
      "inc=28.3; beta[0]=0.0; kappa=1.00; M/L=1.00; BH=0.0; chi2/DOF=nan\n",
      "Total mass MGE (MSun): 8.266e+12\n",
      "\n",
      "sigma_e: 150.98 km/s\n",
      "theta_E: 0.426 arcsec\n"
     ]
    },
    {
     "name": "stdout",
     "output_type": "stream",
     "text": [
      "jam_axi_proj(align='sph', moment='zz') -- elapsed time sec: 0.96\n",
      "analytic_los=0 logistic=0 constant_anisotropy=1\n",
      "No PSF/pixel convolution because sigmapsf=0 pixsize=0\n",
      "inc=52.0; beta[0]=0.0; kappa=1.00; M/L=1.00; BH=0.0; chi2/DOF=nan\n",
      "Total mass MGE (MSun): 8.266e+12\n",
      "\n",
      "sigma_e: 143.78 km/s\n",
      "theta_E: 0.450 arcsec\n"
     ]
    },
    {
     "name": "stdout",
     "output_type": "stream",
     "text": [
      "jam_axi_proj(align='sph', moment='zz') -- elapsed time sec: 0.93\n",
      "analytic_los=0 logistic=0 constant_anisotropy=1\n",
      "No PSF/pixel convolution because sigmapsf=0 pixsize=0\n",
      "inc=40.7; beta[0]=0.0; kappa=1.00; M/L=1.00; BH=0.0; chi2/DOF=nan\n",
      "Total mass MGE (MSun): 8.266e+12\n",
      "\n",
      "sigma_e: 148.10 km/s\n",
      "theta_E: 0.468 arcsec\n"
     ]
    },
    {
     "name": "stdout",
     "output_type": "stream",
     "text": [
      "jam_axi_proj(align='sph', moment='zz') -- elapsed time sec: 0.91\n",
      "analytic_los=0 logistic=0 constant_anisotropy=1\n",
      "No PSF/pixel convolution because sigmapsf=0 pixsize=0\n",
      "inc=30.8; beta[0]=0.0; kappa=1.00; M/L=1.00; BH=0.0; chi2/DOF=nan\n",
      "Total mass MGE (MSun): 8.266e+12\n",
      "\n",
      "sigma_e: 150.53 km/s\n",
      "theta_E: 0.436 arcsec\n"
     ]
    },
    {
     "name": "stdout",
     "output_type": "stream",
     "text": [
      "jam_axi_proj(align='sph', moment='zz') -- elapsed time sec: 0.95\n",
      "analytic_los=0 logistic=0 constant_anisotropy=1\n",
      "No PSF/pixel convolution because sigmapsf=0 pixsize=0\n",
      "inc=47.7; beta[0]=0.0; kappa=1.00; M/L=1.00; BH=0.0; chi2/DOF=nan\n",
      "Total mass MGE (MSun): 8.266e+12\n",
      "\n",
      "sigma_e: 145.64 km/s\n",
      "theta_E: 0.423 arcsec\n"
     ]
    },
    {
     "name": "stdout",
     "output_type": "stream",
     "text": [
      "jam_axi_proj(align='sph', moment='zz') -- elapsed time sec: 0.95\n",
      "analytic_los=0 logistic=0 constant_anisotropy=1\n",
      "No PSF/pixel convolution because sigmapsf=0 pixsize=0\n",
      "inc=53.6; beta[0]=0.0; kappa=1.00; M/L=1.00; BH=0.0; chi2/DOF=nan\n",
      "Total mass MGE (MSun): 8.266e+12\n",
      "\n",
      "sigma_e: 143.00 km/s\n",
      "theta_E: 0.366 arcsec\n"
     ]
    },
    {
     "name": "stdout",
     "output_type": "stream",
     "text": [
      "jam_axi_proj(align='sph', moment='zz') -- elapsed time sec: 0.92\n",
      "analytic_los=0 logistic=0 constant_anisotropy=1\n",
      "No PSF/pixel convolution because sigmapsf=0 pixsize=0\n",
      "inc=82.7; beta[0]=0.0; kappa=1.00; M/L=1.00; BH=0.0; chi2/DOF=nan\n",
      "Total mass MGE (MSun): 8.266e+12\n",
      "\n",
      "sigma_e: 125.31 km/s\n",
      "theta_E: 0.370 arcsec\n"
     ]
    },
    {
     "name": "stdout",
     "output_type": "stream",
     "text": [
      "jam_axi_proj(align='sph', moment='zz') -- elapsed time sec: 0.91\n",
      "analytic_los=0 logistic=0 constant_anisotropy=1\n",
      "No PSF/pixel convolution because sigmapsf=0 pixsize=0\n",
      "inc=79.5; beta[0]=0.0; kappa=1.00; M/L=1.00; BH=0.0; chi2/DOF=nan\n",
      "Total mass MGE (MSun): 8.266e+12\n",
      "\n",
      "sigma_e: 126.76 km/s\n",
      "theta_E: 0.419 arcsec\n"
     ]
    },
    {
     "name": "stdout",
     "output_type": "stream",
     "text": [
      "jam_axi_proj(align='sph', moment='zz') -- elapsed time sec: 0.93\n",
      "analytic_los=0 logistic=0 constant_anisotropy=1\n",
      "No PSF/pixel convolution because sigmapsf=0 pixsize=0\n",
      "inc=55.2; beta[0]=0.0; kappa=1.00; M/L=1.00; BH=0.0; chi2/DOF=nan\n",
      "Total mass MGE (MSun): 8.266e+12\n",
      "\n",
      "sigma_e: 142.21 km/s\n",
      "theta_E: 0.418 arcsec\n"
     ]
    },
    {
     "name": "stdout",
     "output_type": "stream",
     "text": [
      "jam_axi_proj(align='sph', moment='zz') -- elapsed time sec: 0.94\n",
      "analytic_los=0 logistic=0 constant_anisotropy=1\n",
      "No PSF/pixel convolution because sigmapsf=0 pixsize=0\n",
      "inc=55.8; beta[0]=0.0; kappa=1.00; M/L=1.00; BH=0.0; chi2/DOF=nan\n",
      "Total mass MGE (MSun): 8.266e+12\n",
      "\n",
      "sigma_e: 141.68 km/s\n"
     ]
    },
    {
     "name": "stdout",
     "output_type": "stream",
     "text": [
      "theta_E: 0.377 arcsec\n"
     ]
    },
    {
     "name": "stdout",
     "output_type": "stream",
     "text": [
      "jam_axi_proj(align='sph', moment='zz') -- elapsed time sec: 0.93\n",
      "analytic_los=0 logistic=0 constant_anisotropy=1\n",
      "No PSF/pixel convolution because sigmapsf=0 pixsize=0\n",
      "inc=77.6; beta[0]=0.0; kappa=1.00; M/L=1.00; BH=0.0; chi2/DOF=nan\n",
      "Total mass MGE (MSun): 8.204e+12\n",
      "\n",
      "sigma_e: 133.02 km/s\n",
      "theta_E: 0.381 arcsec\n"
     ]
    },
    {
     "name": "stdout",
     "output_type": "stream",
     "text": [
      "jam_axi_proj(align='sph', moment='zz') -- elapsed time sec: 0.98\n",
      "analytic_los=0 logistic=0 constant_anisotropy=1\n",
      "No PSF/pixel convolution because sigmapsf=0 pixsize=0\n",
      "inc=74.4; beta[0]=0.0; kappa=1.00; M/L=1.00; BH=0.0; chi2/DOF=nan\n",
      "Total mass MGE (MSun): 8.204e+12\n",
      "\n",
      "sigma_e: 134.14 km/s\n",
      "theta_E: 0.440 arcsec\n"
     ]
    },
    {
     "name": "stdout",
     "output_type": "stream",
     "text": [
      "jam_axi_proj(align='sph', moment='zz') -- elapsed time sec: 0.89\n",
      "analytic_los=0 logistic=0 constant_anisotropy=1\n",
      "No PSF/pixel convolution because sigmapsf=0 pixsize=0\n",
      "inc=36.2; beta[0]=0.0; kappa=1.00; M/L=1.00; BH=0.0; chi2/DOF=nan\n",
      "Total mass MGE (MSun): 8.204e+12\n",
      "\n",
      "sigma_e: 147.37 km/s\n",
      "theta_E: 0.432 arcsec\n"
     ]
    },
    {
     "name": "stdout",
     "output_type": "stream",
     "text": [
      "jam_axi_proj(align='sph', moment='zz') -- elapsed time sec: 0.89\n",
      "analytic_los=0 logistic=0 constant_anisotropy=1\n",
      "No PSF/pixel convolution because sigmapsf=0 pixsize=0\n",
      "inc=41.8; beta[0]=0.0; kappa=1.00; M/L=1.00; BH=0.0; chi2/DOF=nan\n",
      "Total mass MGE (MSun): 8.204e+12\n",
      "\n",
      "sigma_e: 146.08 km/s\n",
      "theta_E: 0.410 arcsec\n"
     ]
    },
    {
     "name": "stdout",
     "output_type": "stream",
     "text": [
      "jam_axi_proj(align='sph', moment='zz') -- elapsed time sec: 0.92\n",
      "analytic_los=0 logistic=0 constant_anisotropy=1\n",
      "No PSF/pixel convolution because sigmapsf=0 pixsize=0\n",
      "inc=55.1; beta[0]=0.0; kappa=1.00; M/L=1.00; BH=0.0; chi2/DOF=nan\n",
      "Total mass MGE (MSun): 8.204e+12\n",
      "\n",
      "sigma_e: 141.95 km/s\n",
      "theta_E: 0.418 arcsec\n"
     ]
    },
    {
     "name": "stdout",
     "output_type": "stream",
     "text": [
      "jam_axi_proj(align='sph', moment='zz') -- elapsed time sec: 0.89\n",
      "analytic_los=0 logistic=0 constant_anisotropy=1\n",
      "No PSF/pixel convolution because sigmapsf=0 pixsize=0\n",
      "inc=50.5; beta[0]=0.0; kappa=1.00; M/L=1.00; BH=0.0; chi2/DOF=nan\n",
      "Total mass MGE (MSun): 8.204e+12\n",
      "\n",
      "sigma_e: 143.57 km/s\n",
      "theta_E: 0.454 arcsec\n"
     ]
    },
    {
     "name": "stdout",
     "output_type": "stream",
     "text": [
      "jam_axi_proj(align='sph', moment='zz') -- elapsed time sec: 0.88\n",
      "analytic_los=0 logistic=0 constant_anisotropy=1\n",
      "No PSF/pixel convolution because sigmapsf=0 pixsize=0\n",
      "inc=24.7; beta[0]=0.0; kappa=1.00; M/L=1.00; BH=0.0; chi2/DOF=nan\n",
      "Total mass MGE (MSun): 8.204e+12\n",
      "\n",
      "sigma_e: 149.22 km/s\n",
      "theta_E: 0.464 arcsec\n"
     ]
    },
    {
     "name": "stdout",
     "output_type": "stream",
     "text": [
      "jam_axi_proj(align='sph', moment='zz') -- elapsed time sec: 0.85\n",
      "analytic_los=0 logistic=0 constant_anisotropy=1\n",
      "No PSF/pixel convolution because sigmapsf=0 pixsize=0\n",
      "inc=10.5; beta[0]=0.0; kappa=1.00; M/L=1.00; BH=0.0; chi2/DOF=nan\n",
      "Total mass MGE (MSun): 8.204e+12\n",
      "\n",
      "sigma_e: 150.44 km/s\n",
      "theta_E: 0.410 arcsec\n"
     ]
    },
    {
     "name": "stdout",
     "output_type": "stream",
     "text": [
      "jam_axi_proj(align='sph', moment='zz') -- elapsed time sec: 0.92\n",
      "analytic_los=0 logistic=0 constant_anisotropy=1\n",
      "No PSF/pixel convolution because sigmapsf=0 pixsize=0\n",
      "inc=55.2; beta[0]=0.0; kappa=1.00; M/L=1.00; BH=0.0; chi2/DOF=nan\n",
      "Total mass MGE (MSun): 8.204e+12\n",
      "\n",
      "sigma_e: 141.91 km/s\n",
      "theta_E: 0.465 arcsec\n"
     ]
    },
    {
     "name": "stdout",
     "output_type": "stream",
     "text": [
      "jam_axi_proj(align='sph', moment='zz') -- elapsed time sec: 0.85\n",
      "analytic_los=0 logistic=0 constant_anisotropy=1\n",
      "No PSF/pixel convolution because sigmapsf=0 pixsize=0\n",
      "inc=8.59; beta[0]=0.0; kappa=1.00; M/L=1.00; BH=0.0; chi2/DOF=nan\n",
      "Total mass MGE (MSun): 8.204e+12\n",
      "\n",
      "sigma_e: 150.52 km/s\n"
     ]
    },
    {
     "name": "stdout",
     "output_type": "stream",
     "text": [
      "theta_E: 0.462 arcsec\n"
     ]
    },
    {
     "name": "stdout",
     "output_type": "stream",
     "text": [
      "jam_axi_proj(align='sph', moment='zz') -- elapsed time sec: 0.88\n",
      "analytic_los=0 logistic=0 constant_anisotropy=1\n",
      "No PSF/pixel convolution because sigmapsf=0 pixsize=0\n",
      "inc=84.0; beta[0]=0.0; kappa=1.00; M/L=1.00; BH=0.0; chi2/DOF=nan\n",
      "Total mass MGE (MSun): 1.209e+13\n",
      "\n",
      "sigma_e: 148.12 km/s\n",
      "theta_E: 0.473 arcsec\n"
     ]
    },
    {
     "name": "stdout",
     "output_type": "stream",
     "text": [
      "jam_axi_proj(align='sph', moment='zz') -- elapsed time sec: 0.90\n",
      "analytic_los=0 logistic=0 constant_anisotropy=1\n",
      "No PSF/pixel convolution because sigmapsf=0 pixsize=0\n",
      "inc=70.1; beta[0]=0.0; kappa=1.00; M/L=1.00; BH=0.0; chi2/DOF=nan\n",
      "Total mass MGE (MSun): 1.209e+13\n",
      "\n",
      "sigma_e: 150.94 km/s\n",
      "theta_E: 0.507 arcsec\n"
     ]
    },
    {
     "name": "stdout",
     "output_type": "stream",
     "text": [
      "jam_axi_proj(align='sph', moment='zz') -- elapsed time sec: 0.86\n",
      "analytic_los=0 logistic=0 constant_anisotropy=1\n",
      "No PSF/pixel convolution because sigmapsf=0 pixsize=0\n",
      "inc=45.7; beta[0]=0.0; kappa=1.00; M/L=1.00; BH=0.0; chi2/DOF=nan\n",
      "Total mass MGE (MSun): 1.209e+13\n",
      "\n",
      "sigma_e: 157.71 km/s\n",
      "theta_E: 0.500 arcsec\n"
     ]
    },
    {
     "name": "stdout",
     "output_type": "stream",
     "text": [
      "jam_axi_proj(align='sph', moment='zz') -- elapsed time sec: 0.88\n",
      "analytic_los=0 logistic=0 constant_anisotropy=1\n",
      "No PSF/pixel convolution because sigmapsf=0 pixsize=0\n",
      "inc=50.5; beta[0]=0.0; kappa=1.00; M/L=1.00; BH=0.0; chi2/DOF=nan\n",
      "Total mass MGE (MSun): 1.209e+13\n",
      "\n",
      "sigma_e: 156.58 km/s\n",
      "theta_E: 0.484 arcsec\n"
     ]
    },
    {
     "name": "stdout",
     "output_type": "stream",
     "text": [
      "jam_axi_proj(align='sph', moment='zz') -- elapsed time sec: 0.90\n",
      "analytic_los=0 logistic=0 constant_anisotropy=1\n",
      "No PSF/pixel convolution because sigmapsf=0 pixsize=0\n",
      "inc=61.7; beta[0]=0.0; kappa=1.00; M/L=1.00; BH=0.0; chi2/DOF=nan\n",
      "Total mass MGE (MSun): 1.209e+13\n",
      "\n",
      "sigma_e: 153.40 km/s\n",
      "theta_E: 0.509 arcsec\n"
     ]
    },
    {
     "name": "stdout",
     "output_type": "stream",
     "text": [
      "jam_axi_proj(align='sph', moment='zz') -- elapsed time sec: 0.84\n",
      "analytic_los=0 logistic=0 constant_anisotropy=1\n",
      "No PSF/pixel convolution because sigmapsf=0 pixsize=0\n",
      "inc=44.1; beta[0]=0.0; kappa=1.00; M/L=1.00; BH=0.0; chi2/DOF=nan\n",
      "Total mass MGE (MSun): 1.209e+13\n",
      "\n",
      "sigma_e: 158.07 km/s\n",
      "theta_E: 0.466 arcsec\n"
     ]
    },
    {
     "name": "stdout",
     "output_type": "stream",
     "text": [
      "jam_axi_proj(align='sph', moment='zz') -- elapsed time sec: 0.90\n",
      "analytic_los=0 logistic=0 constant_anisotropy=1\n",
      "No PSF/pixel convolution because sigmapsf=0 pixsize=0\n",
      "inc=77.0; beta[0]=0.0; kappa=1.00; M/L=1.00; BH=0.0; chi2/DOF=nan\n",
      "Total mass MGE (MSun): 1.209e+13\n",
      "\n",
      "sigma_e: 149.26 km/s\n",
      "theta_E: 0.488 arcsec\n"
     ]
    },
    {
     "name": "stdout",
     "output_type": "stream",
     "text": [
      "jam_axi_proj(align='sph', moment='zz') -- elapsed time sec: 0.88\n",
      "analytic_los=0 logistic=0 constant_anisotropy=1\n",
      "No PSF/pixel convolution because sigmapsf=0 pixsize=0\n",
      "inc=58.7; beta[0]=0.0; kappa=1.00; M/L=1.00; BH=0.0; chi2/DOF=nan\n",
      "Total mass MGE (MSun): 1.209e+13\n",
      "\n",
      "sigma_e: 154.26 km/s\n",
      "theta_E: 0.531 arcsec\n"
     ]
    },
    {
     "name": "stdout",
     "output_type": "stream",
     "text": [
      "jam_axi_proj(align='sph', moment='zz') -- elapsed time sec: 0.84\n",
      "analytic_los=0 logistic=0 constant_anisotropy=1\n",
      "No PSF/pixel convolution because sigmapsf=0 pixsize=0\n",
      "inc=26.7; beta[0]=0.0; kappa=1.00; M/L=1.00; BH=0.0; chi2/DOF=nan\n",
      "Total mass MGE (MSun): 1.209e+13\n",
      "\n",
      "sigma_e: 161.04 km/s\n",
      "theta_E: 0.487 arcsec\n"
     ]
    },
    {
     "name": "stdout",
     "output_type": "stream",
     "text": [
      "jam_axi_proj(align='sph', moment='zz') -- elapsed time sec: 0.91\n",
      "analytic_los=0 logistic=0 constant_anisotropy=1\n",
      "No PSF/pixel convolution because sigmapsf=0 pixsize=0\n",
      "inc=59.3; beta[0]=0.0; kappa=1.00; M/L=1.00; BH=0.0; chi2/DOF=nan\n",
      "Total mass MGE (MSun): 1.209e+13\n",
      "\n",
      "sigma_e: 154.09 km/s\n"
     ]
    },
    {
     "name": "stdout",
     "output_type": "stream",
     "text": [
      "theta_E: 0.386 arcsec\n"
     ]
    },
    {
     "name": "stdout",
     "output_type": "stream",
     "text": [
      "jam_axi_proj(align='sph', moment='zz') -- elapsed time sec: 0.93\n",
      "analytic_los=0 logistic=0 constant_anisotropy=1\n",
      "No PSF/pixel convolution because sigmapsf=0 pixsize=0\n",
      "inc=67.1; beta[0]=0.0; kappa=1.00; M/L=1.00; BH=0.0; chi2/DOF=nan\n",
      "Total mass MGE (MSun): 8.017e+12\n",
      "\n",
      "sigma_e: 135.93 km/s\n",
      "theta_E: 0.395 arcsec\n"
     ]
    },
    {
     "name": "stdout",
     "output_type": "stream",
     "text": [
      "jam_axi_proj(align='sph', moment='zz') -- elapsed time sec: 0.95\n",
      "analytic_los=0 logistic=0 constant_anisotropy=1\n",
      "No PSF/pixel convolution because sigmapsf=0 pixsize=0\n",
      "inc=61.9; beta[0]=0.0; kappa=1.00; M/L=1.00; BH=0.0; chi2/DOF=nan\n",
      "Total mass MGE (MSun): 8.017e+12\n",
      "\n",
      "sigma_e: 138.62 km/s\n",
      "theta_E: 0.459 arcsec\n"
     ]
    },
    {
     "name": "stdout",
     "output_type": "stream",
     "text": [
      "jam_axi_proj(align='sph', moment='zz') -- elapsed time sec: 0.89\n",
      "analytic_los=0 logistic=0 constant_anisotropy=1\n",
      "No PSF/pixel convolution because sigmapsf=0 pixsize=0\n",
      "inc=24.0; beta[0]=0.0; kappa=1.00; M/L=1.00; BH=0.0; chi2/DOF=nan\n",
      "Total mass MGE (MSun): 8.017e+12\n",
      "\n",
      "sigma_e: 150.20 km/s\n",
      "theta_E: 0.388 arcsec\n"
     ]
    },
    {
     "name": "stdout",
     "output_type": "stream",
     "text": [
      "jam_axi_proj(align='sph', moment='zz') -- elapsed time sec: 0.95\n",
      "analytic_los=0 logistic=0 constant_anisotropy=1\n",
      "No PSF/pixel convolution because sigmapsf=0 pixsize=0\n",
      "inc=65.7; beta[0]=0.0; kappa=1.00; M/L=1.00; BH=0.0; chi2/DOF=nan\n",
      "Total mass MGE (MSun): 8.017e+12\n",
      "\n",
      "sigma_e: 136.65 km/s\n",
      "theta_E: 0.400 arcsec\n"
     ]
    },
    {
     "name": "stdout",
     "output_type": "stream",
     "text": [
      "jam_axi_proj(align='sph', moment='zz') -- elapsed time sec: 0.94\n",
      "analytic_los=0 logistic=0 constant_anisotropy=1\n",
      "No PSF/pixel convolution because sigmapsf=0 pixsize=0\n",
      "inc=59.3; beta[0]=0.0; kappa=1.00; M/L=1.00; BH=0.0; chi2/DOF=nan\n",
      "Total mass MGE (MSun): 8.017e+12\n",
      "\n",
      "sigma_e: 139.91 km/s\n",
      "theta_E: 0.434 arcsec\n"
     ]
    },
    {
     "name": "stdout",
     "output_type": "stream",
     "text": [
      "jam_axi_proj(align='sph', moment='zz') -- elapsed time sec: 0.91\n",
      "analytic_los=0 logistic=0 constant_anisotropy=1\n",
      "No PSF/pixel convolution because sigmapsf=0 pixsize=0\n",
      "inc=41.6; beta[0]=0.0; kappa=1.00; M/L=1.00; BH=0.0; chi2/DOF=nan\n",
      "Total mass MGE (MSun): 8.017e+12\n",
      "\n",
      "sigma_e: 146.69 km/s\n",
      "theta_E: 0.370 arcsec\n"
     ]
    },
    {
     "name": "stdout",
     "output_type": "stream",
     "text": [
      "jam_axi_proj(align='sph', moment='zz') -- elapsed time sec: 1.00\n",
      "analytic_los=0 logistic=0 constant_anisotropy=1\n",
      "No PSF/pixel convolution because sigmapsf=0 pixsize=0\n",
      "inc=77.8; beta[0]=0.0; kappa=1.00; M/L=1.00; BH=0.0; chi2/DOF=nan\n",
      "Total mass MGE (MSun): 8.017e+12\n",
      "\n",
      "sigma_e: 130.66 km/s\n",
      "theta_E: 0.457 arcsec\n"
     ]
    },
    {
     "name": "stdout",
     "output_type": "stream",
     "text": [
      "jam_axi_proj(align='sph', moment='zz') -- elapsed time sec: 0.90\n",
      "analytic_los=0 logistic=0 constant_anisotropy=1\n",
      "No PSF/pixel convolution because sigmapsf=0 pixsize=0\n",
      "inc=26.0; beta[0]=0.0; kappa=1.00; M/L=1.00; BH=0.0; chi2/DOF=nan\n",
      "Total mass MGE (MSun): 8.017e+12\n",
      "\n",
      "sigma_e: 149.91 km/s\n",
      "theta_E: 0.362 arcsec\n"
     ]
    },
    {
     "name": "stdout",
     "output_type": "stream",
     "text": [
      "jam_axi_proj(align='sph', moment='zz') -- elapsed time sec: 0.98\n",
      "analytic_los=0 logistic=0 constant_anisotropy=1\n",
      "No PSF/pixel convolution because sigmapsf=0 pixsize=0\n",
      "inc=89.6; beta[0]=0.0; kappa=1.00; M/L=1.00; BH=0.0; chi2/DOF=nan\n",
      "Total mass MGE (MSun): 8.017e+12\n",
      "\n",
      "sigma_e: 127.80 km/s\n",
      "theta_E: 0.373 arcsec\n"
     ]
    },
    {
     "name": "stdout",
     "output_type": "stream",
     "text": [
      "jam_axi_proj(align='sph', moment='zz') -- elapsed time sec: 1.00\n",
      "analytic_los=0 logistic=0 constant_anisotropy=1\n",
      "No PSF/pixel convolution because sigmapsf=0 pixsize=0\n",
      "inc=75.3; beta[0]=0.0; kappa=1.00; M/L=1.00; BH=0.0; chi2/DOF=nan\n",
      "Total mass MGE (MSun): 8.017e+12\n",
      "\n",
      "sigma_e: 131.75 km/s\n"
     ]
    },
    {
     "name": "stdout",
     "output_type": "stream",
     "text": [
      "theta_E: 0.365 arcsec\n"
     ]
    },
    {
     "name": "stdout",
     "output_type": "stream",
     "text": [
      "jam_axi_proj(align='sph', moment='zz') -- elapsed time sec: 0.95\n",
      "analytic_los=0 logistic=0 constant_anisotropy=1\n",
      "No PSF/pixel convolution because sigmapsf=0 pixsize=0\n",
      "inc=81.3; beta[0]=0.0; kappa=1.00; M/L=1.00; BH=0.0; chi2/DOF=nan\n",
      "Total mass MGE (MSun): 7.899e+12\n",
      "\n",
      "sigma_e: 129.85 km/s\n",
      "theta_E: 0.420 arcsec\n"
     ]
    },
    {
     "name": "stdout",
     "output_type": "stream",
     "text": [
      "jam_axi_proj(align='sph', moment='zz') -- elapsed time sec: 0.92\n",
      "analytic_los=0 logistic=0 constant_anisotropy=1\n",
      "No PSF/pixel convolution because sigmapsf=0 pixsize=0\n",
      "inc=45.7; beta[0]=0.0; kappa=1.00; M/L=1.00; BH=0.0; chi2/DOF=nan\n",
      "Total mass MGE (MSun): 7.899e+12\n",
      "\n",
      "sigma_e: 144.04 km/s\n",
      "theta_E: 0.425 arcsec\n"
     ]
    },
    {
     "name": "stdout",
     "output_type": "stream",
     "text": [
      "jam_axi_proj(align='sph', moment='zz') -- elapsed time sec: 0.94\n",
      "analytic_los=0 logistic=0 constant_anisotropy=1\n",
      "No PSF/pixel convolution because sigmapsf=0 pixsize=0\n",
      "inc=42.4; beta[0]=0.0; kappa=1.00; M/L=1.00; BH=0.0; chi2/DOF=nan\n",
      "Total mass MGE (MSun): 7.899e+12\n",
      "\n",
      "sigma_e: 144.99 km/s\n",
      "theta_E: 0.436 arcsec\n"
     ]
    },
    {
     "name": "stdout",
     "output_type": "stream",
     "text": [
      "jam_axi_proj(align='sph', moment='zz') -- elapsed time sec: 0.89\n",
      "analytic_los=0 logistic=0 constant_anisotropy=1\n",
      "No PSF/pixel convolution because sigmapsf=0 pixsize=0\n",
      "inc=35.2; beta[0]=0.0; kappa=1.00; M/L=1.00; BH=0.0; chi2/DOF=nan\n",
      "Total mass MGE (MSun): 7.899e+12\n",
      "\n",
      "sigma_e: 146.66 km/s\n",
      "theta_E: 0.427 arcsec\n"
     ]
    },
    {
     "name": "stdout",
     "output_type": "stream",
     "text": [
      "jam_axi_proj(align='sph', moment='zz') -- elapsed time sec: 0.91\n",
      "analytic_los=0 logistic=0 constant_anisotropy=1\n",
      "No PSF/pixel convolution because sigmapsf=0 pixsize=0\n",
      "inc=41.4; beta[0]=0.0; kappa=1.00; M/L=1.00; BH=0.0; chi2/DOF=nan\n",
      "Total mass MGE (MSun): 7.899e+12\n",
      "\n",
      "sigma_e: 145.24 km/s\n",
      "theta_E: 0.398 arcsec\n"
     ]
    },
    {
     "name": "stdout",
     "output_type": "stream",
     "text": [
      "jam_axi_proj(align='sph', moment='zz') -- elapsed time sec: 0.93\n",
      "analytic_los=0 logistic=0 constant_anisotropy=1\n",
      "No PSF/pixel convolution because sigmapsf=0 pixsize=0\n",
      "inc=58.1; beta[0]=0.0; kappa=1.00; M/L=1.00; BH=0.0; chi2/DOF=nan\n",
      "Total mass MGE (MSun): 7.899e+12\n",
      "\n",
      "sigma_e: 139.47 km/s\n",
      "theta_E: 0.423 arcsec\n"
     ]
    },
    {
     "name": "stdout",
     "output_type": "stream",
     "text": [
      "jam_axi_proj(align='sph', moment='zz') -- elapsed time sec: 0.90\n",
      "analytic_los=0 logistic=0 constant_anisotropy=1\n",
      "No PSF/pixel convolution because sigmapsf=0 pixsize=0\n",
      "inc=43.8; beta[0]=0.0; kappa=1.00; M/L=1.00; BH=0.0; chi2/DOF=nan\n",
      "Total mass MGE (MSun): 7.899e+12\n",
      "\n",
      "sigma_e: 144.60 km/s\n",
      "theta_E: 0.379 arcsec\n"
     ]
    },
    {
     "name": "stdout",
     "output_type": "stream",
     "text": [
      "jam_axi_proj(align='sph', moment='zz') -- elapsed time sec: 0.94\n",
      "analytic_los=0 logistic=0 constant_anisotropy=1\n",
      "No PSF/pixel convolution because sigmapsf=0 pixsize=0\n",
      "inc=69.7; beta[0]=0.0; kappa=1.00; M/L=1.00; BH=0.0; chi2/DOF=nan\n",
      "Total mass MGE (MSun): 7.899e+12\n",
      "\n",
      "sigma_e: 134.30 km/s\n",
      "theta_E: 0.363 arcsec\n"
     ]
    },
    {
     "name": "stdout",
     "output_type": "stream",
     "text": [
      "jam_axi_proj(align='sph', moment='zz') -- elapsed time sec: 1.01\n",
      "analytic_los=0 logistic=0 constant_anisotropy=1\n",
      "No PSF/pixel convolution because sigmapsf=0 pixsize=0\n",
      "inc=85.8; beta[0]=0.0; kappa=1.00; M/L=1.00; BH=0.0; chi2/DOF=nan\n",
      "Total mass MGE (MSun): 7.899e+12\n",
      "\n",
      "sigma_e: 128.79 km/s\n",
      "theta_E: 0.370 arcsec\n"
     ]
    },
    {
     "name": "stdout",
     "output_type": "stream",
     "text": [
      "jam_axi_proj(align='sph', moment='zz') -- elapsed time sec: 0.96\n",
      "analytic_los=0 logistic=0 constant_anisotropy=1\n",
      "No PSF/pixel convolution because sigmapsf=0 pixsize=0\n",
      "inc=76.2; beta[0]=0.0; kappa=1.00; M/L=1.00; BH=0.0; chi2/DOF=nan\n",
      "Total mass MGE (MSun): 7.899e+12\n",
      "\n",
      "sigma_e: 131.55 km/s\n"
     ]
    },
    {
     "name": "stdout",
     "output_type": "stream",
     "text": [
      "theta_E: 0.511 arcsec\n"
     ]
    },
    {
     "name": "stdout",
     "output_type": "stream",
     "text": [
      "jam_axi_proj(align='sph', moment='zz') -- elapsed time sec: 0.77\n",
      "analytic_los=0 logistic=0 constant_anisotropy=1\n",
      "No PSF/pixel convolution because sigmapsf=0 pixsize=0\n",
      "inc=37.0; beta[0]=0.0; kappa=1.00; M/L=1.00; BH=0.0; chi2/DOF=nan\n",
      "Total mass MGE (MSun): 1.225e+13\n",
      "\n",
      "sigma_e: 157.96 km/s\n",
      "theta_E: 0.506 arcsec\n"
     ]
    },
    {
     "name": "stdout",
     "output_type": "stream",
     "text": [
      "jam_axi_proj(align='sph', moment='zz') -- elapsed time sec: 0.81\n",
      "analytic_los=0 logistic=0 constant_anisotropy=1\n",
      "No PSF/pixel convolution because sigmapsf=0 pixsize=0\n",
      "inc=42.4; beta[0]=0.0; kappa=1.00; M/L=1.00; BH=0.0; chi2/DOF=nan\n",
      "Total mass MGE (MSun): 1.225e+13\n",
      "\n",
      "sigma_e: 157.20 km/s\n",
      "theta_E: 0.523 arcsec\n"
     ]
    },
    {
     "name": "stdout",
     "output_type": "stream",
     "text": [
      "jam_axi_proj(align='sph', moment='zz') -- elapsed time sec: 0.80\n",
      "analytic_los=0 logistic=0 constant_anisotropy=1\n",
      "No PSF/pixel convolution because sigmapsf=0 pixsize=0\n",
      "inc=22.2; beta[0]=0.0; kappa=1.00; M/L=1.00; BH=0.0; chi2/DOF=nan\n",
      "Total mass MGE (MSun): 1.225e+13\n",
      "\n",
      "sigma_e: 159.51 km/s\n",
      "theta_E: 0.527 arcsec\n"
     ]
    },
    {
     "name": "stdout",
     "output_type": "stream",
     "text": [
      "jam_axi_proj(align='sph', moment='zz') -- elapsed time sec: 0.78\n",
      "analytic_los=0 logistic=0 constant_anisotropy=1\n",
      "No PSF/pixel convolution because sigmapsf=0 pixsize=0\n",
      "inc=14.0; beta[0]=0.0; kappa=1.00; M/L=1.00; BH=0.0; chi2/DOF=nan\n",
      "Total mass MGE (MSun): 1.225e+13\n",
      "\n",
      "sigma_e: 160.01 km/s\n",
      "theta_E: 0.472 arcsec\n"
     ]
    },
    {
     "name": "stdout",
     "output_type": "stream",
     "text": [
      "jam_axi_proj(align='sph', moment='zz') -- elapsed time sec: 0.85\n",
      "analytic_los=0 logistic=0 constant_anisotropy=1\n",
      "No PSF/pixel convolution because sigmapsf=0 pixsize=0\n",
      "inc=87.0; beta[0]=0.0; kappa=1.00; M/L=1.00; BH=0.0; chi2/DOF=nan\n",
      "Total mass MGE (MSun): 1.225e+13\n",
      "\n",
      "sigma_e: 150.68 km/s\n",
      "theta_E: 0.479 arcsec\n"
     ]
    },
    {
     "name": "stdout",
     "output_type": "stream",
     "text": [
      "jam_axi_proj(align='sph', moment='zz') -- elapsed time sec: 0.86\n",
      "analytic_los=0 logistic=0 constant_anisotropy=1\n",
      "No PSF/pixel convolution because sigmapsf=0 pixsize=0\n",
      "inc=71.2; beta[0]=0.0; kappa=1.00; M/L=1.00; BH=0.0; chi2/DOF=nan\n",
      "Total mass MGE (MSun): 1.225e+13\n",
      "\n",
      "sigma_e: 152.24 km/s\n",
      "theta_E: 0.479 arcsec\n"
     ]
    },
    {
     "name": "stdout",
     "output_type": "stream",
     "text": [
      "jam_axi_proj(align='sph', moment='zz') -- elapsed time sec: 0.87\n",
      "analytic_los=0 logistic=0 constant_anisotropy=1\n",
      "No PSF/pixel convolution because sigmapsf=0 pixsize=0\n",
      "inc=70.9; beta[0]=0.0; kappa=1.00; M/L=1.00; BH=0.0; chi2/DOF=nan\n",
      "Total mass MGE (MSun): 1.225e+13\n",
      "\n",
      "sigma_e: 152.28 km/s\n",
      "theta_E: 0.491 arcsec\n"
     ]
    },
    {
     "name": "stdout",
     "output_type": "stream",
     "text": [
      "jam_axi_proj(align='sph', moment='zz') -- elapsed time sec: 0.82\n",
      "analytic_los=0 logistic=0 constant_anisotropy=1\n",
      "No PSF/pixel convolution because sigmapsf=0 pixsize=0\n",
      "inc=57.5; beta[0]=0.0; kappa=1.00; M/L=1.00; BH=0.0; chi2/DOF=nan\n",
      "Total mass MGE (MSun): 1.225e+13\n",
      "\n",
      "sigma_e: 154.62 km/s\n",
      "theta_E: 0.475 arcsec\n"
     ]
    },
    {
     "name": "stdout",
     "output_type": "stream",
     "text": [
      "jam_axi_proj(align='sph', moment='zz') -- elapsed time sec: 0.84\n",
      "analytic_los=0 logistic=0 constant_anisotropy=1\n",
      "No PSF/pixel convolution because sigmapsf=0 pixsize=0\n",
      "inc=77.5; beta[0]=0.0; kappa=1.00; M/L=1.00; BH=0.0; chi2/DOF=nan\n",
      "Total mass MGE (MSun): 1.225e+13\n",
      "\n",
      "sigma_e: 151.39 km/s\n",
      "theta_E: 0.475 arcsec\n"
     ]
    },
    {
     "name": "stdout",
     "output_type": "stream",
     "text": [
      "jam_axi_proj(align='sph', moment='zz') -- elapsed time sec: 0.85\n",
      "analytic_los=0 logistic=0 constant_anisotropy=1\n",
      "No PSF/pixel convolution because sigmapsf=0 pixsize=0\n",
      "inc=77.8; beta[0]=0.0; kappa=1.00; M/L=1.00; BH=0.0; chi2/DOF=nan\n",
      "Total mass MGE (MSun): 1.225e+13\n",
      "\n",
      "sigma_e: 151.36 km/s\n"
     ]
    },
    {
     "name": "stdout",
     "output_type": "stream",
     "text": [
      "theta_E: 0.891 arcsec\n"
     ]
    },
    {
     "name": "stdout",
     "output_type": "stream",
     "text": [
      "jam_axi_proj(align='sph', moment='zz') -- elapsed time sec: 0.94\n",
      "analytic_los=0 logistic=0 constant_anisotropy=1\n",
      "No PSF/pixel convolution because sigmapsf=0 pixsize=0\n",
      "inc=47.5; beta[0]=0.0; kappa=1.00; M/L=1.00; BH=0.0; chi2/DOF=nan\n",
      "Total mass MGE (MSun): 3.558e+13\n",
      "\n",
      "sigma_e: 210.62 km/s\n",
      "theta_E: 0.799 arcsec\n"
     ]
    },
    {
     "name": "stdout",
     "output_type": "stream",
     "text": [
      "jam_axi_proj(align='sph', moment='zz') -- elapsed time sec: 1.02\n",
      "analytic_los=0 logistic=0 constant_anisotropy=1\n",
      "No PSF/pixel convolution because sigmapsf=0 pixsize=0\n",
      "inc=73.7; beta[0]=0.0; kappa=1.00; M/L=1.00; BH=0.0; chi2/DOF=nan\n",
      "Total mass MGE (MSun): 3.558e+13\n",
      "\n",
      "sigma_e: 195.21 km/s\n",
      "theta_E: 0.920 arcsec\n"
     ]
    },
    {
     "name": "stdout",
     "output_type": "stream",
     "text": [
      "jam_axi_proj(align='sph', moment='zz') -- elapsed time sec: 0.97\n",
      "analytic_los=0 logistic=0 constant_anisotropy=1\n",
      "No PSF/pixel convolution because sigmapsf=0 pixsize=0\n",
      "inc=39.2; beta[0]=0.0; kappa=1.00; M/L=1.00; BH=0.0; chi2/DOF=nan\n",
      "Total mass MGE (MSun): 3.558e+13\n",
      "\n",
      "sigma_e: 213.86 km/s\n",
      "theta_E: 0.784 arcsec\n"
     ]
    },
    {
     "name": "stdout",
     "output_type": "stream",
     "text": [
      "jam_axi_proj(align='sph', moment='zz') -- elapsed time sec: 1.01\n",
      "analytic_los=0 logistic=0 constant_anisotropy=1\n",
      "No PSF/pixel convolution because sigmapsf=0 pixsize=0\n",
      "inc=80.2; beta[0]=0.0; kappa=1.00; M/L=1.00; BH=0.0; chi2/DOF=nan\n",
      "Total mass MGE (MSun): 3.558e+13\n",
      "\n",
      "sigma_e: 191.83 km/s\n",
      "theta_E: 0.783 arcsec\n"
     ]
    },
    {
     "name": "stdout",
     "output_type": "stream",
     "text": [
      "jam_axi_proj(align='sph', moment='zz') -- elapsed time sec: 1.00\n",
      "analytic_los=0 logistic=0 constant_anisotropy=1\n",
      "No PSF/pixel convolution because sigmapsf=0 pixsize=0\n",
      "inc=80.7; beta[0]=0.0; kappa=1.00; M/L=1.00; BH=0.0; chi2/DOF=nan\n",
      "Total mass MGE (MSun): 3.558e+13\n",
      "\n",
      "sigma_e: 191.62 km/s\n",
      "theta_E: 0.930 arcsec\n"
     ]
    },
    {
     "name": "stdout",
     "output_type": "stream",
     "text": [
      "jam_axi_proj(align='sph', moment='zz') -- elapsed time sec: 0.93\n",
      "analytic_los=0 logistic=0 constant_anisotropy=1\n",
      "No PSF/pixel convolution because sigmapsf=0 pixsize=0\n",
      "inc=35.8; beta[0]=0.0; kappa=1.00; M/L=1.00; BH=0.0; chi2/DOF=nan\n",
      "Total mass MGE (MSun): 3.558e+13\n",
      "\n",
      "sigma_e: 214.93 km/s\n",
      "theta_E: 0.973 arcsec\n"
     ]
    },
    {
     "name": "stdout",
     "output_type": "stream",
     "text": [
      "jam_axi_proj(align='sph', moment='zz') -- elapsed time sec: 0.92\n",
      "analytic_los=0 logistic=0 constant_anisotropy=1\n",
      "No PSF/pixel convolution because sigmapsf=0 pixsize=0\n",
      "inc=17.7; beta[0]=0.0; kappa=1.00; M/L=1.00; BH=0.0; chi2/DOF=nan\n",
      "Total mass MGE (MSun): 3.558e+13\n",
      "\n",
      "sigma_e: 218.55 km/s\n",
      "theta_E: 0.907 arcsec\n"
     ]
    },
    {
     "name": "stdout",
     "output_type": "stream",
     "text": [
      "jam_axi_proj(align='sph', moment='zz') -- elapsed time sec: 0.95\n",
      "analytic_los=0 logistic=0 constant_anisotropy=1\n",
      "No PSF/pixel convolution because sigmapsf=0 pixsize=0\n",
      "inc=43.0; beta[0]=0.0; kappa=1.00; M/L=1.00; BH=0.0; chi2/DOF=nan\n",
      "Total mass MGE (MSun): 3.558e+13\n",
      "\n",
      "sigma_e: 212.50 km/s\n",
      "theta_E: 0.780 arcsec\n"
     ]
    },
    {
     "name": "stdout",
     "output_type": "stream",
     "text": [
      "jam_axi_proj(align='sph', moment='zz') -- elapsed time sec: 1.03\n",
      "analytic_los=0 logistic=0 constant_anisotropy=1\n",
      "No PSF/pixel convolution because sigmapsf=0 pixsize=0\n",
      "inc=82.8; beta[0]=0.0; kappa=1.00; M/L=1.00; BH=0.0; chi2/DOF=nan\n",
      "Total mass MGE (MSun): 3.558e+13\n",
      "\n",
      "sigma_e: 190.83 km/s\n",
      "theta_E: 0.836 arcsec\n"
     ]
    },
    {
     "name": "stdout",
     "output_type": "stream",
     "text": [
      "jam_axi_proj(align='sph', moment='zz') -- elapsed time sec: 0.99\n",
      "analytic_los=0 logistic=0 constant_anisotropy=1\n",
      "No PSF/pixel convolution because sigmapsf=0 pixsize=0\n",
      "inc=62.2; beta[0]=0.0; kappa=1.00; M/L=1.00; BH=0.0; chi2/DOF=nan\n",
      "Total mass MGE (MSun): 3.558e+13\n",
      "\n",
      "sigma_e: 202.53 km/s\n"
     ]
    },
    {
     "name": "stdout",
     "output_type": "stream",
     "text": [
      "theta_E: 0.800 arcsec\n"
     ]
    },
    {
     "name": "stdout",
     "output_type": "stream",
     "text": [
      "jam_axi_proj(align='sph', moment='zz') -- elapsed time sec: 0.91\n",
      "analytic_los=0 logistic=0 constant_anisotropy=1\n",
      "No PSF/pixel convolution because sigmapsf=0 pixsize=0\n",
      "inc=48.3; beta[0]=0.0; kappa=1.00; M/L=1.00; BH=0.0; chi2/DOF=nan\n",
      "Total mass MGE (MSun): 2.890e+13\n",
      "\n",
      "sigma_e: 198.26 km/s\n",
      "theta_E: 0.704 arcsec\n"
     ]
    },
    {
     "name": "stdout",
     "output_type": "stream",
     "text": [
      "jam_axi_proj(align='sph', moment='zz') -- elapsed time sec: 1.02\n",
      "analytic_los=0 logistic=0 constant_anisotropy=1\n",
      "No PSF/pixel convolution because sigmapsf=0 pixsize=0\n",
      "inc=81.4; beta[0]=0.0; kappa=1.00; M/L=1.00; BH=0.0; chi2/DOF=nan\n",
      "Total mass MGE (MSun): 2.890e+13\n",
      "\n",
      "sigma_e: 179.41 km/s\n",
      "theta_E: 0.698 arcsec\n"
     ]
    },
    {
     "name": "stdout",
     "output_type": "stream",
     "text": [
      "jam_axi_proj(align='sph', moment='zz') -- elapsed time sec: 1.04\n",
      "analytic_los=0 logistic=0 constant_anisotropy=1\n",
      "No PSF/pixel convolution because sigmapsf=0 pixsize=0\n",
      "inc=89.5; beta[0]=0.0; kappa=1.00; M/L=1.00; BH=0.0; chi2/DOF=nan\n",
      "Total mass MGE (MSun): 2.890e+13\n",
      "\n",
      "sigma_e: 177.70 km/s\n",
      "theta_E: 0.804 arcsec\n"
     ]
    },
    {
     "name": "stdout",
     "output_type": "stream",
     "text": [
      "jam_axi_proj(align='sph', moment='zz') -- elapsed time sec: 0.93\n",
      "analytic_los=0 logistic=0 constant_anisotropy=1\n",
      "No PSF/pixel convolution because sigmapsf=0 pixsize=0\n",
      "inc=47.0; beta[0]=0.0; kappa=1.00; M/L=1.00; BH=0.0; chi2/DOF=nan\n",
      "Total mass MGE (MSun): 2.890e+13\n",
      "\n",
      "sigma_e: 198.82 km/s\n",
      "theta_E: 0.704 arcsec\n"
     ]
    },
    {
     "name": "stdout",
     "output_type": "stream",
     "text": [
      "jam_axi_proj(align='sph', moment='zz') -- elapsed time sec: 1.00\n",
      "analytic_los=0 logistic=0 constant_anisotropy=1\n",
      "No PSF/pixel convolution because sigmapsf=0 pixsize=0\n",
      "inc=81.4; beta[0]=0.0; kappa=1.00; M/L=1.00; BH=0.0; chi2/DOF=nan\n",
      "Total mass MGE (MSun): 2.890e+13\n",
      "\n",
      "sigma_e: 179.41 km/s\n",
      "theta_E: 0.701 arcsec\n"
     ]
    },
    {
     "name": "stdout",
     "output_type": "stream",
     "text": [
      "jam_axi_proj(align='sph', moment='zz') -- elapsed time sec: 0.96\n",
      "analytic_los=0 logistic=0 constant_anisotropy=1\n",
      "No PSF/pixel convolution because sigmapsf=0 pixsize=0\n",
      "inc=83.8; beta[0]=0.0; kappa=1.00; M/L=1.00; BH=0.0; chi2/DOF=nan\n",
      "Total mass MGE (MSun): 2.890e+13\n",
      "\n",
      "sigma_e: 178.61 km/s\n",
      "theta_E: 0.772 arcsec\n"
     ]
    },
    {
     "name": "stdout",
     "output_type": "stream",
     "text": [
      "jam_axi_proj(align='sph', moment='zz') -- elapsed time sec: 0.95\n",
      "analytic_los=0 logistic=0 constant_anisotropy=1\n",
      "No PSF/pixel convolution because sigmapsf=0 pixsize=0\n",
      "inc=56.8; beta[0]=0.0; kappa=1.00; M/L=1.00; BH=0.0; chi2/DOF=nan\n",
      "Total mass MGE (MSun): 2.890e+13\n",
      "\n",
      "sigma_e: 193.93 km/s\n",
      "theta_E: 0.779 arcsec\n"
     ]
    },
    {
     "name": "stdout",
     "output_type": "stream",
     "text": [
      "jam_axi_proj(align='sph', moment='zz') -- elapsed time sec: 0.94\n",
      "analytic_los=0 logistic=0 constant_anisotropy=1\n",
      "No PSF/pixel convolution because sigmapsf=0 pixsize=0\n",
      "inc=54.5; beta[0]=0.0; kappa=1.00; M/L=1.00; BH=0.0; chi2/DOF=nan\n",
      "Total mass MGE (MSun): 2.890e+13\n",
      "\n",
      "sigma_e: 195.18 km/s\n",
      "theta_E: 0.730 arcsec\n"
     ]
    },
    {
     "name": "stdout",
     "output_type": "stream",
     "text": [
      "jam_axi_proj(align='sph', moment='zz') -- elapsed time sec: 0.97\n",
      "analytic_los=0 logistic=0 constant_anisotropy=1\n",
      "No PSF/pixel convolution because sigmapsf=0 pixsize=0\n",
      "inc=69.6; beta[0]=0.0; kappa=1.00; M/L=1.00; BH=0.0; chi2/DOF=nan\n",
      "Total mass MGE (MSun): 2.890e+13\n",
      "\n",
      "sigma_e: 185.94 km/s\n",
      "theta_E: 0.818 arcsec\n"
     ]
    },
    {
     "name": "stdout",
     "output_type": "stream",
     "text": [
      "jam_axi_proj(align='sph', moment='zz') -- elapsed time sec: 0.90\n",
      "analytic_los=0 logistic=0 constant_anisotropy=1\n",
      "No PSF/pixel convolution because sigmapsf=0 pixsize=0\n",
      "inc=42.7; beta[0]=0.0; kappa=1.00; M/L=1.00; BH=0.0; chi2/DOF=nan\n",
      "Total mass MGE (MSun): 2.890e+13\n",
      "\n",
      "sigma_e: 200.56 km/s\n"
     ]
    },
    {
     "name": "stdout",
     "output_type": "stream",
     "text": [
      "theta_E: 1.009 arcsec\n"
     ]
    },
    {
     "name": "stdout",
     "output_type": "stream",
     "text": [
      "jam_axi_proj(align='sph', moment='zz') -- elapsed time sec: 0.92\n",
      "analytic_los=0 logistic=0 constant_anisotropy=1\n",
      "No PSF/pixel convolution because sigmapsf=0 pixsize=0\n",
      "inc=49.5; beta[0]=0.0; kappa=1.00; M/L=1.00; BH=0.0; chi2/DOF=nan\n",
      "Total mass MGE (MSun): 4.771e+13\n",
      "\n",
      "sigma_e: 225.11 km/s\n",
      "theta_E: 1.029 arcsec\n"
     ]
    },
    {
     "name": "stdout",
     "output_type": "stream",
     "text": [
      "jam_axi_proj(align='sph', moment='zz') -- elapsed time sec: 0.95\n",
      "analytic_los=0 logistic=0 constant_anisotropy=1\n",
      "No PSF/pixel convolution because sigmapsf=0 pixsize=0\n",
      "inc=43.4; beta[0]=0.0; kappa=1.00; M/L=1.00; BH=0.0; chi2/DOF=nan\n",
      "Total mass MGE (MSun): 4.771e+13\n",
      "\n",
      "sigma_e: 227.24 km/s\n",
      "theta_E: 0.957 arcsec\n"
     ]
    },
    {
     "name": "stdout",
     "output_type": "stream",
     "text": [
      "jam_axi_proj(align='sph', moment='zz') -- elapsed time sec: 0.98\n",
      "analytic_los=0 logistic=0 constant_anisotropy=1\n",
      "No PSF/pixel convolution because sigmapsf=0 pixsize=0\n",
      "inc=65.1; beta[0]=0.0; kappa=1.00; M/L=1.00; BH=0.0; chi2/DOF=nan\n",
      "Total mass MGE (MSun): 4.771e+13\n",
      "\n",
      "sigma_e: 218.29 km/s\n",
      "theta_E: 0.966 arcsec\n"
     ]
    },
    {
     "name": "stdout",
     "output_type": "stream",
     "text": [
      "jam_axi_proj(align='sph', moment='zz') -- elapsed time sec: 0.96\n",
      "analytic_los=0 logistic=0 constant_anisotropy=1\n",
      "No PSF/pixel convolution because sigmapsf=0 pixsize=0\n",
      "inc=62.1; beta[0]=0.0; kappa=1.00; M/L=1.00; BH=0.0; chi2/DOF=nan\n",
      "Total mass MGE (MSun): 4.771e+13\n",
      "\n",
      "sigma_e: 219.68 km/s\n",
      "theta_E: 1.029 arcsec\n"
     ]
    },
    {
     "name": "stdout",
     "output_type": "stream",
     "text": [
      "jam_axi_proj(align='sph', moment='zz') -- elapsed time sec: 0.95\n",
      "analytic_los=0 logistic=0 constant_anisotropy=1\n",
      "No PSF/pixel convolution because sigmapsf=0 pixsize=0\n",
      "inc=43.4; beta[0]=0.0; kappa=1.00; M/L=1.00; BH=0.0; chi2/DOF=nan\n",
      "Total mass MGE (MSun): 4.771e+13\n",
      "\n",
      "sigma_e: 227.24 km/s\n",
      "theta_E: 0.915 arcsec\n"
     ]
    },
    {
     "name": "stdout",
     "output_type": "stream",
     "text": [
      "jam_axi_proj(align='sph', moment='zz') -- elapsed time sec: 1.02\n",
      "analytic_los=0 logistic=0 constant_anisotropy=1\n",
      "No PSF/pixel convolution because sigmapsf=0 pixsize=0\n",
      "inc=86.0; beta[0]=0.0; kappa=1.00; M/L=1.00; BH=0.0; chi2/DOF=nan\n",
      "Total mass MGE (MSun): 4.771e+13\n",
      "\n",
      "sigma_e: 210.98 km/s\n",
      "theta_E: 0.914 arcsec\n"
     ]
    },
    {
     "name": "stdout",
     "output_type": "stream",
     "text": [
      "jam_axi_proj(align='sph', moment='zz') -- elapsed time sec: 1.02\n",
      "analytic_los=0 logistic=0 constant_anisotropy=1\n",
      "No PSF/pixel convolution because sigmapsf=0 pixsize=0\n",
      "inc=89.3; beta[0]=0.0; kappa=1.00; M/L=1.00; BH=0.0; chi2/DOF=nan\n",
      "Total mass MGE (MSun): 4.771e+13\n",
      "\n",
      "sigma_e: 210.73 km/s\n",
      "theta_E: 0.923 arcsec\n"
     ]
    },
    {
     "name": "stdout",
     "output_type": "stream",
     "text": [
      "jam_axi_proj(align='sph', moment='zz') -- elapsed time sec: 1.01\n",
      "analytic_los=0 logistic=0 constant_anisotropy=1\n",
      "No PSF/pixel convolution because sigmapsf=0 pixsize=0\n",
      "inc=79.1; beta[0]=0.0; kappa=1.00; M/L=1.00; BH=0.0; chi2/DOF=nan\n",
      "Total mass MGE (MSun): 4.771e+13\n",
      "\n",
      "sigma_e: 212.52 km/s\n",
      "theta_E: 1.043 arcsec\n"
     ]
    },
    {
     "name": "stdout",
     "output_type": "stream",
     "text": [
      "jam_axi_proj(align='sph', moment='zz') -- elapsed time sec: 0.91\n",
      "analytic_los=0 logistic=0 constant_anisotropy=1\n",
      "No PSF/pixel convolution because sigmapsf=0 pixsize=0\n",
      "inc=38.8; beta[0]=0.0; kappa=1.00; M/L=1.00; BH=0.0; chi2/DOF=nan\n",
      "Total mass MGE (MSun): 4.771e+13\n",
      "\n",
      "sigma_e: 228.60 km/s\n",
      "theta_E: 1.048 arcsec\n"
     ]
    },
    {
     "name": "stdout",
     "output_type": "stream",
     "text": [
      "jam_axi_proj(align='sph', moment='zz') -- elapsed time sec: 0.89\n",
      "analytic_los=0 logistic=0 constant_anisotropy=1\n",
      "No PSF/pixel convolution because sigmapsf=0 pixsize=0\n",
      "inc=37.3; beta[0]=0.0; kappa=1.00; M/L=1.00; BH=0.0; chi2/DOF=nan\n",
      "Total mass MGE (MSun): 4.771e+13\n",
      "\n",
      "sigma_e: 229.00 km/s\n"
     ]
    },
    {
     "name": "stdout",
     "output_type": "stream",
     "text": [
      "theta_E: 1.147 arcsec\n"
     ]
    },
    {
     "name": "stdout",
     "output_type": "stream",
     "text": [
      "jam_axi_proj(align='sph', moment='zz') -- elapsed time sec: 0.77\n",
      "analytic_los=0 logistic=0 constant_anisotropy=1\n",
      "No PSF/pixel convolution because sigmapsf=0 pixsize=0\n",
      "inc=6.09; beta[0]=0.0; kappa=1.00; M/L=1.00; BH=0.0; chi2/DOF=nan\n",
      "Total mass MGE (MSun): 6.026e+13\n",
      "\n",
      "sigma_e: 235.23 km/s\n",
      "theta_E: 1.070 arcsec\n"
     ]
    },
    {
     "name": "stdout",
     "output_type": "stream",
     "text": [
      "jam_axi_proj(align='sph', moment='zz') -- elapsed time sec: 0.83\n",
      "analytic_los=0 logistic=0 constant_anisotropy=1\n",
      "No PSF/pixel convolution because sigmapsf=0 pixsize=0\n",
      "inc=87.6; beta[0]=0.0; kappa=1.00; M/L=1.00; BH=0.0; chi2/DOF=nan\n",
      "Total mass MGE (MSun): 6.026e+13\n",
      "\n",
      "sigma_e: 226.71 km/s\n",
      "theta_E: 1.106 arcsec\n"
     ]
    },
    {
     "name": "stdout",
     "output_type": "stream",
     "text": [
      "jam_axi_proj(align='sph', moment='zz') -- elapsed time sec: 0.82\n",
      "analytic_los=0 logistic=0 constant_anisotropy=1\n",
      "No PSF/pixel convolution because sigmapsf=0 pixsize=0\n",
      "inc=48.3; beta[0]=0.0; kappa=1.00; M/L=1.00; BH=0.0; chi2/DOF=nan\n",
      "Total mass MGE (MSun): 6.026e+13\n",
      "\n",
      "sigma_e: 231.26 km/s\n",
      "theta_E: 1.072 arcsec\n"
     ]
    },
    {
     "name": "stdout",
     "output_type": "stream",
     "text": [
      "jam_axi_proj(align='sph', moment='zz') -- elapsed time sec: 0.81\n",
      "analytic_los=0 logistic=0 constant_anisotropy=1\n",
      "No PSF/pixel convolution because sigmapsf=0 pixsize=0\n",
      "inc=80.1; beta[0]=0.0; kappa=1.00; M/L=1.00; BH=0.0; chi2/DOF=nan\n",
      "Total mass MGE (MSun): 6.026e+13\n",
      "\n",
      "sigma_e: 227.05 km/s\n",
      "theta_E: 1.071 arcsec\n"
     ]
    },
    {
     "name": "stdout",
     "output_type": "stream",
     "text": [
      "jam_axi_proj(align='sph', moment='zz') -- elapsed time sec: 0.83\n",
      "analytic_los=0 logistic=0 constant_anisotropy=1\n",
      "No PSF/pixel convolution because sigmapsf=0 pixsize=0\n",
      "inc=81.8; beta[0]=0.0; kappa=1.00; M/L=1.00; BH=0.0; chi2/DOF=nan\n",
      "Total mass MGE (MSun): 6.026e+13\n",
      "\n",
      "sigma_e: 226.94 km/s\n",
      "theta_E: 1.074 arcsec\n"
     ]
    },
    {
     "name": "stdout",
     "output_type": "stream",
     "text": [
      "jam_axi_proj(align='sph', moment='zz') -- elapsed time sec: 0.82\n",
      "analytic_los=0 logistic=0 constant_anisotropy=1\n",
      "No PSF/pixel convolution because sigmapsf=0 pixsize=0\n",
      "inc=76.4; beta[0]=0.0; kappa=1.00; M/L=1.00; BH=0.0; chi2/DOF=nan\n",
      "Total mass MGE (MSun): 6.026e+13\n",
      "\n",
      "sigma_e: 227.36 km/s\n",
      "theta_E: 1.099 arcsec\n"
     ]
    },
    {
     "name": "stdout",
     "output_type": "stream",
     "text": [
      "jam_axi_proj(align='sph', moment='zz') -- elapsed time sec: 0.82\n",
      "analytic_los=0 logistic=0 constant_anisotropy=1\n",
      "No PSF/pixel convolution because sigmapsf=0 pixsize=0\n",
      "inc=53.2; beta[0]=0.0; kappa=1.00; M/L=1.00; BH=0.0; chi2/DOF=nan\n",
      "Total mass MGE (MSun): 6.026e+13\n",
      "\n",
      "sigma_e: 230.51 km/s\n",
      "theta_E: 1.109 arcsec\n"
     ]
    },
    {
     "name": "stdout",
     "output_type": "stream",
     "text": [
      "jam_axi_proj(align='sph', moment='zz') -- elapsed time sec: 0.82\n",
      "analytic_los=0 logistic=0 constant_anisotropy=1\n",
      "No PSF/pixel convolution because sigmapsf=0 pixsize=0\n",
      "inc=46.0; beta[0]=0.0; kappa=1.00; M/L=1.00; BH=0.0; chi2/DOF=nan\n",
      "Total mass MGE (MSun): 6.026e+13\n",
      "\n",
      "sigma_e: 231.61 km/s\n",
      "theta_E: 1.143 arcsec\n"
     ]
    },
    {
     "name": "stdout",
     "output_type": "stream",
     "text": [
      "jam_axi_proj(align='sph', moment='zz') -- elapsed time sec: 0.80\n",
      "analytic_los=0 logistic=0 constant_anisotropy=1\n",
      "No PSF/pixel convolution because sigmapsf=0 pixsize=0\n",
      "inc=15.2; beta[0]=0.0; kappa=1.00; M/L=1.00; BH=0.0; chi2/DOF=nan\n",
      "Total mass MGE (MSun): 6.026e+13\n",
      "\n",
      "sigma_e: 234.87 km/s\n",
      "theta_E: 1.130 arcsec\n"
     ]
    },
    {
     "name": "stdout",
     "output_type": "stream",
     "text": [
      "jam_axi_proj(align='sph', moment='zz') -- elapsed time sec: 0.79\n",
      "analytic_los=0 logistic=0 constant_anisotropy=1\n",
      "No PSF/pixel convolution because sigmapsf=0 pixsize=0\n",
      "inc=29.8; beta[0]=0.0; kappa=1.00; M/L=1.00; BH=0.0; chi2/DOF=nan\n",
      "Total mass MGE (MSun): 6.026e+13\n",
      "\n",
      "sigma_e: 233.69 km/s\n"
     ]
    },
    {
     "name": "stdout",
     "output_type": "stream",
     "text": [
      "theta_E: 0.391 arcsec\n"
     ]
    },
    {
     "name": "stdout",
     "output_type": "stream",
     "text": [
      "jam_axi_proj(align='sph', moment='zz') -- elapsed time sec: 0.91\n",
      "analytic_los=0 logistic=0 constant_anisotropy=1\n",
      "No PSF/pixel convolution because sigmapsf=0 pixsize=0\n",
      "inc=71.4; beta[0]=0.0; kappa=1.00; M/L=1.00; BH=0.0; chi2/DOF=nan\n",
      "Total mass MGE (MSun): 8.449e+12\n",
      "\n",
      "sigma_e: 136.55 km/s\n",
      "theta_E: 0.413 arcsec\n"
     ]
    },
    {
     "name": "stdout",
     "output_type": "stream",
     "text": [
      "jam_axi_proj(align='sph', moment='zz') -- elapsed time sec: 0.93\n",
      "analytic_los=0 logistic=0 constant_anisotropy=1\n",
      "No PSF/pixel convolution because sigmapsf=0 pixsize=0\n",
      "inc=55.7; beta[0]=0.0; kappa=1.00; M/L=1.00; BH=0.0; chi2/DOF=nan\n",
      "Total mass MGE (MSun): 8.449e+12\n",
      "\n",
      "sigma_e: 142.24 km/s\n",
      "theta_E: 0.405 arcsec\n"
     ]
    },
    {
     "name": "stdout",
     "output_type": "stream",
     "text": [
      "jam_axi_proj(align='sph', moment='zz') -- elapsed time sec: 0.95\n",
      "analytic_los=0 logistic=0 constant_anisotropy=1\n",
      "No PSF/pixel convolution because sigmapsf=0 pixsize=0\n",
      "inc=61.2; beta[0]=0.0; kappa=1.00; M/L=1.00; BH=0.0; chi2/DOF=nan\n",
      "Total mass MGE (MSun): 8.449e+12\n",
      "\n",
      "sigma_e: 140.28 km/s\n",
      "theta_E: 0.379 arcsec\n"
     ]
    },
    {
     "name": "stdout",
     "output_type": "stream",
     "text": [
      "jam_axi_proj(align='sph', moment='zz') -- elapsed time sec: 0.95\n",
      "analytic_los=0 logistic=0 constant_anisotropy=1\n",
      "No PSF/pixel convolution because sigmapsf=0 pixsize=0\n",
      "inc=89.9; beta[0]=0.0; kappa=1.00; M/L=1.00; BH=0.0; chi2/DOF=nan\n",
      "Total mass MGE (MSun): 8.449e+12\n",
      "\n",
      "sigma_e: 132.68 km/s\n",
      "theta_E: 0.385 arcsec\n"
     ]
    },
    {
     "name": "stdout",
     "output_type": "stream",
     "text": [
      "jam_axi_proj(align='sph', moment='zz') -- elapsed time sec: 0.95\n",
      "analytic_los=0 logistic=0 constant_anisotropy=1\n",
      "No PSF/pixel convolution because sigmapsf=0 pixsize=0\n",
      "inc=77.5; beta[0]=0.0; kappa=1.00; M/L=1.00; BH=0.0; chi2/DOF=nan\n",
      "Total mass MGE (MSun): 8.449e+12\n",
      "\n",
      "sigma_e: 134.55 km/s\n",
      "theta_E: 0.384 arcsec\n"
     ]
    },
    {
     "name": "stdout",
     "output_type": "stream",
     "text": [
      "jam_axi_proj(align='sph', moment='zz') -- elapsed time sec: 0.94\n",
      "analytic_los=0 logistic=0 constant_anisotropy=1\n",
      "No PSF/pixel convolution because sigmapsf=0 pixsize=0\n",
      "inc=78.8; beta[0]=0.0; kappa=1.00; M/L=1.00; BH=0.0; chi2/DOF=nan\n",
      "Total mass MGE (MSun): 8.449e+12\n",
      "\n",
      "sigma_e: 134.22 km/s\n",
      "theta_E: 0.427 arcsec\n"
     ]
    },
    {
     "name": "stdout",
     "output_type": "stream",
     "text": [
      "jam_axi_proj(align='sph', moment='zz') -- elapsed time sec: 0.92\n",
      "analytic_los=0 logistic=0 constant_anisotropy=1\n",
      "No PSF/pixel convolution because sigmapsf=0 pixsize=0\n",
      "inc=47.1; beta[0]=0.0; kappa=1.00; M/L=1.00; BH=0.0; chi2/DOF=nan\n",
      "Total mass MGE (MSun): 8.449e+12\n",
      "\n",
      "sigma_e: 144.84 km/s\n",
      "theta_E: 0.384 arcsec\n"
     ]
    },
    {
     "name": "stdout",
     "output_type": "stream",
     "text": [
      "jam_axi_proj(align='sph', moment='zz') -- elapsed time sec: 0.95\n",
      "analytic_los=0 logistic=0 constant_anisotropy=1\n",
      "No PSF/pixel convolution because sigmapsf=0 pixsize=0\n",
      "inc=78.5; beta[0]=0.0; kappa=1.00; M/L=1.00; BH=0.0; chi2/DOF=nan\n",
      "Total mass MGE (MSun): 8.449e+12\n",
      "\n",
      "sigma_e: 134.28 km/s\n",
      "theta_E: 0.404 arcsec\n"
     ]
    },
    {
     "name": "stdout",
     "output_type": "stream",
     "text": [
      "jam_axi_proj(align='sph', moment='zz') -- elapsed time sec: 0.92\n",
      "analytic_los=0 logistic=0 constant_anisotropy=1\n",
      "No PSF/pixel convolution because sigmapsf=0 pixsize=0\n",
      "inc=61.6; beta[0]=0.0; kappa=1.00; M/L=1.00; BH=0.0; chi2/DOF=nan\n",
      "Total mass MGE (MSun): 8.449e+12\n",
      "\n",
      "sigma_e: 140.14 km/s\n",
      "theta_E: 0.380 arcsec\n"
     ]
    },
    {
     "name": "stdout",
     "output_type": "stream",
     "text": [
      "jam_axi_proj(align='sph', moment='zz') -- elapsed time sec: 0.94\n",
      "analytic_los=0 logistic=0 constant_anisotropy=1\n",
      "No PSF/pixel convolution because sigmapsf=0 pixsize=0\n",
      "inc=86.0; beta[0]=0.0; kappa=1.00; M/L=1.00; BH=0.0; chi2/DOF=nan\n",
      "Total mass MGE (MSun): 8.449e+12\n",
      "\n",
      "sigma_e: 132.89 km/s\n"
     ]
    },
    {
     "name": "stdout",
     "output_type": "stream",
     "text": [
      "theta_E: 0.842 arcsec\n"
     ]
    },
    {
     "name": "stdout",
     "output_type": "stream",
     "text": [
      "jam_axi_proj(align='sph', moment='zz') -- elapsed time sec: 0.98\n",
      "analytic_los=0 logistic=0 constant_anisotropy=1\n",
      "No PSF/pixel convolution because sigmapsf=0 pixsize=0\n",
      "inc=76.6; beta[0]=0.0; kappa=1.00; M/L=1.00; BH=0.0; chi2/DOF=nan\n",
      "Total mass MGE (MSun): 3.920e+13\n",
      "\n",
      "sigma_e: 200.30 km/s\n",
      "theta_E: 0.870 arcsec\n"
     ]
    },
    {
     "name": "stdout",
     "output_type": "stream",
     "text": [
      "jam_axi_proj(align='sph', moment='zz') -- elapsed time sec: 0.97\n",
      "analytic_los=0 logistic=0 constant_anisotropy=1\n",
      "No PSF/pixel convolution because sigmapsf=0 pixsize=0\n",
      "inc=63.9; beta[0]=0.0; kappa=1.00; M/L=1.00; BH=0.0; chi2/DOF=nan\n",
      "Total mass MGE (MSun): 3.920e+13\n",
      "\n",
      "sigma_e: 205.58 km/s\n",
      "theta_E: 0.965 arcsec\n"
     ]
    },
    {
     "name": "stdout",
     "output_type": "stream",
     "text": [
      "jam_axi_proj(align='sph', moment='zz') -- elapsed time sec: 0.89\n",
      "analytic_los=0 logistic=0 constant_anisotropy=1\n",
      "No PSF/pixel convolution because sigmapsf=0 pixsize=0\n",
      "inc=28.7; beta[0]=0.0; kappa=1.00; M/L=1.00; BH=0.0; chi2/DOF=nan\n",
      "Total mass MGE (MSun): 3.920e+13\n",
      "\n",
      "sigma_e: 217.57 km/s\n",
      "theta_E: 0.917 arcsec\n"
     ]
    },
    {
     "name": "stdout",
     "output_type": "stream",
     "text": [
      "jam_axi_proj(align='sph', moment='zz') -- elapsed time sec: 0.95\n",
      "analytic_los=0 logistic=0 constant_anisotropy=1\n",
      "No PSF/pixel convolution because sigmapsf=0 pixsize=0\n",
      "inc=47.7; beta[0]=0.0; kappa=1.00; M/L=1.00; BH=0.0; chi2/DOF=nan\n",
      "Total mass MGE (MSun): 3.920e+13\n",
      "\n",
      "sigma_e: 212.37 km/s\n",
      "theta_E: 0.853 arcsec\n"
     ]
    },
    {
     "name": "stdout",
     "output_type": "stream",
     "text": [
      "jam_axi_proj(align='sph', moment='zz') -- elapsed time sec: 0.98\n",
      "analytic_los=0 logistic=0 constant_anisotropy=1\n",
      "No PSF/pixel convolution because sigmapsf=0 pixsize=0\n",
      "inc=70.8; beta[0]=0.0; kappa=1.00; M/L=1.00; BH=0.0; chi2/DOF=nan\n",
      "Total mass MGE (MSun): 3.920e+13\n",
      "\n",
      "sigma_e: 202.53 km/s\n",
      "theta_E: 0.830 arcsec\n"
     ]
    },
    {
     "name": "stdout",
     "output_type": "stream",
     "text": [
      "jam_axi_proj(align='sph', moment='zz') -- elapsed time sec: 0.99\n",
      "analytic_los=0 logistic=0 constant_anisotropy=1\n",
      "No PSF/pixel convolution because sigmapsf=0 pixsize=0\n",
      "inc=88.6; beta[0]=0.0; kappa=1.00; M/L=1.00; BH=0.0; chi2/DOF=nan\n",
      "Total mass MGE (MSun): 3.920e+13\n",
      "\n",
      "sigma_e: 197.78 km/s\n",
      "theta_E: 0.919 arcsec\n"
     ]
    },
    {
     "name": "stdout",
     "output_type": "stream",
     "text": [
      "jam_axi_proj(align='sph', moment='zz') -- elapsed time sec: 0.95\n",
      "analytic_los=0 logistic=0 constant_anisotropy=1\n",
      "No PSF/pixel convolution because sigmapsf=0 pixsize=0\n",
      "inc=46.8; beta[0]=0.0; kappa=1.00; M/L=1.00; BH=0.0; chi2/DOF=nan\n",
      "Total mass MGE (MSun): 3.920e+13\n",
      "\n",
      "sigma_e: 212.68 km/s\n",
      "theta_E: 0.864 arcsec\n"
     ]
    },
    {
     "name": "stdout",
     "output_type": "stream",
     "text": [
      "jam_axi_proj(align='sph', moment='zz') -- elapsed time sec: 0.99\n",
      "analytic_los=0 logistic=0 constant_anisotropy=1\n",
      "No PSF/pixel convolution because sigmapsf=0 pixsize=0\n",
      "inc=66.5; beta[0]=0.0; kappa=1.00; M/L=1.00; BH=0.0; chi2/DOF=nan\n",
      "Total mass MGE (MSun): 3.920e+13\n",
      "\n",
      "sigma_e: 204.42 km/s\n",
      "theta_E: 0.988 arcsec\n"
     ]
    },
    {
     "name": "stdout",
     "output_type": "stream",
     "text": [
      "jam_axi_proj(align='sph', moment='zz') -- elapsed time sec: 0.86\n",
      "analytic_los=0 logistic=0 constant_anisotropy=1\n",
      "No PSF/pixel convolution because sigmapsf=0 pixsize=0\n",
      "inc=15.0; beta[0]=0.0; kappa=1.00; M/L=1.00; BH=0.0; chi2/DOF=nan\n",
      "Total mass MGE (MSun): 3.920e+13\n",
      "\n",
      "sigma_e: 219.46 km/s\n",
      "theta_E: 0.851 arcsec\n"
     ]
    },
    {
     "name": "stdout",
     "output_type": "stream",
     "text": [
      "jam_axi_proj(align='sph', moment='zz') -- elapsed time sec: 0.99\n",
      "analytic_los=0 logistic=0 constant_anisotropy=1\n",
      "No PSF/pixel convolution because sigmapsf=0 pixsize=0\n",
      "inc=71.6; beta[0]=0.0; kappa=1.00; M/L=1.00; BH=0.0; chi2/DOF=nan\n",
      "Total mass MGE (MSun): 3.920e+13\n",
      "\n",
      "sigma_e: 202.23 km/s\n"
     ]
    },
    {
     "name": "stdout",
     "output_type": "stream",
     "text": [
      "theta_E: 0.663 arcsec\n"
     ]
    },
    {
     "name": "stdout",
     "output_type": "stream",
     "text": [
      "jam_axi_proj(align='sph', moment='zz') -- elapsed time sec: 1.00\n",
      "analytic_los=0 logistic=0 constant_anisotropy=1\n",
      "No PSF/pixel convolution because sigmapsf=0 pixsize=0\n",
      "inc=49.8; beta[0]=0.0; kappa=1.00; M/L=1.00; BH=0.0; chi2/DOF=nan\n",
      "Total mass MGE (MSun): 1.998e+13\n",
      "\n",
      "sigma_e: 181.36 km/s\n",
      "theta_E: 0.680 arcsec\n"
     ]
    },
    {
     "name": "stdout",
     "output_type": "stream",
     "text": [
      "jam_axi_proj(align='sph', moment='zz') -- elapsed time sec: 0.97\n",
      "analytic_los=0 logistic=0 constant_anisotropy=1\n",
      "No PSF/pixel convolution because sigmapsf=0 pixsize=0\n",
      "inc=43.7; beta[0]=0.0; kappa=1.00; M/L=1.00; BH=0.0; chi2/DOF=nan\n",
      "Total mass MGE (MSun): 1.998e+13\n",
      "\n",
      "sigma_e: 183.89 km/s\n",
      "theta_E: 0.649 arcsec\n"
     ]
    },
    {
     "name": "stdout",
     "output_type": "stream",
     "text": [
      "jam_axi_proj(align='sph', moment='zz') -- elapsed time sec: 0.95\n",
      "analytic_los=0 logistic=0 constant_anisotropy=1\n",
      "No PSF/pixel convolution because sigmapsf=0 pixsize=0\n",
      "inc=54.7; beta[0]=0.0; kappa=1.00; M/L=1.00; BH=0.0; chi2/DOF=nan\n",
      "Total mass MGE (MSun): 1.998e+13\n",
      "\n",
      "sigma_e: 179.01 km/s\n",
      "theta_E: 0.580 arcsec\n"
     ]
    },
    {
     "name": "stdout",
     "output_type": "stream",
     "text": [
      "jam_axi_proj(align='sph', moment='zz') -- elapsed time sec: 0.99\n",
      "analytic_los=0 logistic=0 constant_anisotropy=1\n",
      "No PSF/pixel convolution because sigmapsf=0 pixsize=0\n",
      "inc=82.7; beta[0]=0.0; kappa=1.00; M/L=1.00; BH=0.0; chi2/DOF=nan\n",
      "Total mass MGE (MSun): 1.998e+13\n",
      "\n",
      "sigma_e: 163.44 km/s\n",
      "theta_E: 0.698 arcsec\n"
     ]
    },
    {
     "name": "stdout",
     "output_type": "stream",
     "text": [
      "jam_axi_proj(align='sph', moment='zz') -- elapsed time sec: 1.00\n",
      "analytic_los=0 logistic=0 constant_anisotropy=1\n",
      "No PSF/pixel convolution because sigmapsf=0 pixsize=0\n",
      "inc=37.1; beta[0]=0.0; kappa=1.00; M/L=1.00; BH=0.0; chi2/DOF=nan\n",
      "Total mass MGE (MSun): 1.998e+13\n",
      "\n",
      "sigma_e: 186.07 km/s\n",
      "theta_E: 0.611 arcsec\n"
     ]
    },
    {
     "name": "stdout",
     "output_type": "stream",
     "text": [
      "jam_axi_proj(align='sph', moment='zz') -- elapsed time sec: 0.99\n",
      "analytic_los=0 logistic=0 constant_anisotropy=1\n",
      "No PSF/pixel convolution because sigmapsf=0 pixsize=0\n",
      "inc=67.4; beta[0]=0.0; kappa=1.00; M/L=1.00; BH=0.0; chi2/DOF=nan\n",
      "Total mass MGE (MSun): 1.998e+13\n",
      "\n",
      "sigma_e: 171.54 km/s\n",
      "theta_E: 0.592 arcsec\n"
     ]
    },
    {
     "name": "stdout",
     "output_type": "stream",
     "text": [
      "jam_axi_proj(align='sph', moment='zz') -- elapsed time sec: 1.06\n",
      "analytic_los=0 logistic=0 constant_anisotropy=1\n",
      "No PSF/pixel convolution because sigmapsf=0 pixsize=0\n",
      "inc=75.3; beta[0]=0.0; kappa=1.00; M/L=1.00; BH=0.0; chi2/DOF=nan\n",
      "Total mass MGE (MSun): 1.998e+13\n",
      "\n",
      "sigma_e: 166.81 km/s\n",
      "theta_E: 0.723 arcsec\n"
     ]
    },
    {
     "name": "stdout",
     "output_type": "stream",
     "text": [
      "jam_axi_proj(align='sph', moment='zz') -- elapsed time sec: 0.92\n",
      "analytic_los=0 logistic=0 constant_anisotropy=1\n",
      "No PSF/pixel convolution because sigmapsf=0 pixsize=0\n",
      "inc=24.9; beta[0]=0.0; kappa=1.00; M/L=1.00; BH=0.0; chi2/DOF=nan\n",
      "Total mass MGE (MSun): 1.998e+13\n",
      "\n",
      "sigma_e: 188.80 km/s\n",
      "theta_E: 0.594 arcsec\n"
     ]
    },
    {
     "name": "stdout",
     "output_type": "stream",
     "text": [
      "jam_axi_proj(align='sph', moment='zz') -- elapsed time sec: 1.00\n",
      "analytic_los=0 logistic=0 constant_anisotropy=1\n",
      "No PSF/pixel convolution because sigmapsf=0 pixsize=0\n",
      "inc=74.5; beta[0]=0.0; kappa=1.00; M/L=1.00; BH=0.0; chi2/DOF=nan\n",
      "Total mass MGE (MSun): 1.998e+13\n",
      "\n",
      "sigma_e: 167.24 km/s\n",
      "theta_E: 0.691 arcsec\n"
     ]
    },
    {
     "name": "stdout",
     "output_type": "stream",
     "text": [
      "jam_axi_proj(align='sph', moment='zz') -- elapsed time sec: 0.93\n",
      "analytic_los=0 logistic=0 constant_anisotropy=1\n",
      "No PSF/pixel convolution because sigmapsf=0 pixsize=0\n",
      "inc=39.5; beta[0]=0.0; kappa=1.00; M/L=1.00; BH=0.0; chi2/DOF=nan\n",
      "Total mass MGE (MSun): 1.998e+13\n",
      "\n",
      "sigma_e: 185.31 km/s\n"
     ]
    },
    {
     "name": "stdout",
     "output_type": "stream",
     "text": [
      "theta_E: 0.935 arcsec\n"
     ]
    },
    {
     "name": "stdout",
     "output_type": "stream",
     "text": [
      "jam_axi_proj(align='sph', moment='zz') -- elapsed time sec: 0.91\n",
      "analytic_los=0 logistic=0 constant_anisotropy=1\n",
      "No PSF/pixel convolution because sigmapsf=0 pixsize=0\n",
      "inc=58.1; beta[0]=0.0; kappa=1.00; M/L=1.00; BH=0.0; chi2/DOF=nan\n",
      "Total mass MGE (MSun): 4.386e+13\n",
      "\n",
      "sigma_e: 213.52 km/s\n",
      "theta_E: 0.890 arcsec\n"
     ]
    },
    {
     "name": "stdout",
     "output_type": "stream",
     "text": [
      "jam_axi_proj(align='sph', moment='zz') -- elapsed time sec: 0.97\n",
      "analytic_los=0 logistic=0 constant_anisotropy=1\n",
      "No PSF/pixel convolution because sigmapsf=0 pixsize=0\n",
      "inc=83.3; beta[0]=0.0; kappa=1.00; M/L=1.00; BH=0.0; chi2/DOF=nan\n",
      "Total mass MGE (MSun): 4.386e+13\n",
      "\n",
      "sigma_e: 206.07 km/s\n",
      "theta_E: 0.920 arcsec\n"
     ]
    },
    {
     "name": "stdout",
     "output_type": "stream",
     "text": [
      "jam_axi_proj(align='sph', moment='zz') -- elapsed time sec: 0.94\n",
      "analytic_los=0 logistic=0 constant_anisotropy=1\n",
      "No PSF/pixel convolution because sigmapsf=0 pixsize=0\n",
      "inc=64.5; beta[0]=0.0; kappa=1.00; M/L=1.00; BH=0.0; chi2/DOF=nan\n",
      "Total mass MGE (MSun): 4.386e+13\n",
      "\n",
      "sigma_e: 211.23 km/s\n",
      "theta_E: 0.943 arcsec\n"
     ]
    },
    {
     "name": "stdout",
     "output_type": "stream",
     "text": [
      "jam_axi_proj(align='sph', moment='zz') -- elapsed time sec: 0.90\n",
      "analytic_los=0 logistic=0 constant_anisotropy=1\n",
      "No PSF/pixel convolution because sigmapsf=0 pixsize=0\n",
      "inc=54.7; beta[0]=0.0; kappa=1.00; M/L=1.00; BH=0.0; chi2/DOF=nan\n",
      "Total mass MGE (MSun): 4.386e+13\n",
      "\n",
      "sigma_e: 214.70 km/s\n",
      "theta_E: 1.028 arcsec\n"
     ]
    },
    {
     "name": "stdout",
     "output_type": "stream",
     "text": [
      "jam_axi_proj(align='sph', moment='zz') -- elapsed time sec: 0.83\n",
      "analytic_los=0 logistic=0 constant_anisotropy=1\n",
      "No PSF/pixel convolution because sigmapsf=0 pixsize=0\n",
      "inc=9.55; beta[0]=0.0; kappa=1.00; M/L=1.00; BH=0.0; chi2/DOF=nan\n",
      "Total mass MGE (MSun): 4.386e+13\n",
      "\n",
      "sigma_e: 223.52 km/s\n",
      "theta_E: 0.939 arcsec\n"
     ]
    },
    {
     "name": "stdout",
     "output_type": "stream",
     "text": [
      "jam_axi_proj(align='sph', moment='zz') -- elapsed time sec: 0.91\n",
      "analytic_los=0 logistic=0 constant_anisotropy=1\n",
      "No PSF/pixel convolution because sigmapsf=0 pixsize=0\n",
      "inc=56.3; beta[0]=0.0; kappa=1.00; M/L=1.00; BH=0.0; chi2/DOF=nan\n",
      "Total mass MGE (MSun): 4.386e+13\n",
      "\n",
      "sigma_e: 214.15 km/s\n",
      "theta_E: 0.890 arcsec\n"
     ]
    },
    {
     "name": "stdout",
     "output_type": "stream",
     "text": [
      "jam_axi_proj(align='sph', moment='zz') -- elapsed time sec: 0.99\n",
      "analytic_los=0 logistic=0 constant_anisotropy=1\n",
      "No PSF/pixel convolution because sigmapsf=0 pixsize=0\n",
      "inc=84.7; beta[0]=0.0; kappa=1.00; M/L=1.00; BH=0.0; chi2/DOF=nan\n",
      "Total mass MGE (MSun): 4.386e+13\n",
      "\n",
      "sigma_e: 205.86 km/s\n",
      "theta_E: 0.973 arcsec\n"
     ]
    },
    {
     "name": "stdout",
     "output_type": "stream",
     "text": [
      "jam_axi_proj(align='sph', moment='zz') -- elapsed time sec: 0.87\n",
      "analytic_los=0 logistic=0 constant_anisotropy=1\n",
      "No PSF/pixel convolution because sigmapsf=0 pixsize=0\n",
      "inc=42.8; beta[0]=0.0; kappa=1.00; M/L=1.00; BH=0.0; chi2/DOF=nan\n",
      "Total mass MGE (MSun): 4.386e+13\n",
      "\n",
      "sigma_e: 218.31 km/s\n",
      "theta_E: 0.920 arcsec\n"
     ]
    },
    {
     "name": "stdout",
     "output_type": "stream",
     "text": [
      "jam_axi_proj(align='sph', moment='zz') -- elapsed time sec: 0.93\n",
      "analytic_los=0 logistic=0 constant_anisotropy=1\n",
      "No PSF/pixel convolution because sigmapsf=0 pixsize=0\n",
      "inc=64.7; beta[0]=0.0; kappa=1.00; M/L=1.00; BH=0.0; chi2/DOF=nan\n",
      "Total mass MGE (MSun): 4.386e+13\n",
      "\n",
      "sigma_e: 211.18 km/s\n",
      "theta_E: 0.992 arcsec\n"
     ]
    },
    {
     "name": "stdout",
     "output_type": "stream",
     "text": [
      "jam_axi_proj(align='sph', moment='zz') -- elapsed time sec: 0.86\n",
      "analytic_los=0 logistic=0 constant_anisotropy=1\n",
      "No PSF/pixel convolution because sigmapsf=0 pixsize=0\n",
      "inc=34.4; beta[0]=0.0; kappa=1.00; M/L=1.00; BH=0.0; chi2/DOF=nan\n",
      "Total mass MGE (MSun): 4.386e+13\n",
      "\n",
      "sigma_e: 220.37 km/s\n"
     ]
    },
    {
     "name": "stdout",
     "output_type": "stream",
     "text": [
      "theta_E: 0.688 arcsec\n"
     ]
    },
    {
     "name": "stdout",
     "output_type": "stream",
     "text": [
      "jam_axi_proj(align='sph', moment='zz') -- elapsed time sec: 0.88\n",
      "analytic_los=0 logistic=0 constant_anisotropy=1\n",
      "No PSF/pixel convolution because sigmapsf=0 pixsize=0\n",
      "inc=21.8; beta[0]=0.0; kappa=1.00; M/L=1.00; BH=0.0; chi2/DOF=nan\n",
      "Total mass MGE (MSun): 1.836e+13\n",
      "\n",
      "sigma_e: 183.58 km/s\n",
      "theta_E: 0.582 arcsec\n"
     ]
    },
    {
     "name": "stdout",
     "output_type": "stream",
     "text": [
      "jam_axi_proj(align='sph', moment='zz') -- elapsed time sec: 0.94\n",
      "analytic_los=0 logistic=0 constant_anisotropy=1\n",
      "No PSF/pixel convolution because sigmapsf=0 pixsize=0\n",
      "inc=69.4; beta[0]=0.0; kappa=1.00; M/L=1.00; BH=0.0; chi2/DOF=nan\n",
      "Total mass MGE (MSun): 1.836e+13\n",
      "\n",
      "sigma_e: 166.75 km/s\n",
      "theta_E: 0.565 arcsec\n"
     ]
    },
    {
     "name": "stdout",
     "output_type": "stream",
     "text": [
      "jam_axi_proj(align='sph', moment='zz') -- elapsed time sec: 0.97\n",
      "analytic_los=0 logistic=0 constant_anisotropy=1\n",
      "No PSF/pixel convolution because sigmapsf=0 pixsize=0\n",
      "inc=78.5; beta[0]=0.0; kappa=1.00; M/L=1.00; BH=0.0; chi2/DOF=nan\n",
      "Total mass MGE (MSun): 1.836e+13\n",
      "\n",
      "sigma_e: 162.48 km/s\n",
      "theta_E: 0.679 arcsec\n"
     ]
    },
    {
     "name": "stdout",
     "output_type": "stream",
     "text": [
      "jam_axi_proj(align='sph', moment='zz') -- elapsed time sec: 0.91\n",
      "analytic_los=0 logistic=0 constant_anisotropy=1\n",
      "No PSF/pixel convolution because sigmapsf=0 pixsize=0\n",
      "inc=27.4; beta[0]=0.0; kappa=1.00; M/L=1.00; BH=0.0; chi2/DOF=nan\n",
      "Total mass MGE (MSun): 1.836e+13\n",
      "\n",
      "sigma_e: 182.74 km/s\n",
      "theta_E: 0.582 arcsec\n"
     ]
    },
    {
     "name": "stdout",
     "output_type": "stream",
     "text": [
      "jam_axi_proj(align='sph', moment='zz') -- elapsed time sec: 0.94\n",
      "analytic_los=0 logistic=0 constant_anisotropy=1\n",
      "No PSF/pixel convolution because sigmapsf=0 pixsize=0\n",
      "inc=69.5; beta[0]=0.0; kappa=1.00; M/L=1.00; BH=0.0; chi2/DOF=nan\n",
      "Total mass MGE (MSun): 1.836e+13\n",
      "\n",
      "sigma_e: 166.71 km/s\n",
      "theta_E: 0.569 arcsec\n"
     ]
    },
    {
     "name": "stdout",
     "output_type": "stream",
     "text": [
      "jam_axi_proj(align='sph', moment='zz') -- elapsed time sec: 0.95\n",
      "analytic_los=0 logistic=0 constant_anisotropy=1\n",
      "No PSF/pixel convolution because sigmapsf=0 pixsize=0\n",
      "inc=76.0; beta[0]=0.0; kappa=1.00; M/L=1.00; BH=0.0; chi2/DOF=nan\n",
      "Total mass MGE (MSun): 1.836e+13\n",
      "\n",
      "sigma_e: 163.49 km/s\n",
      "theta_E: 0.596 arcsec\n"
     ]
    },
    {
     "name": "stdout",
     "output_type": "stream",
     "text": [
      "jam_axi_proj(align='sph', moment='zz') -- elapsed time sec: 0.93\n",
      "analytic_los=0 logistic=0 constant_anisotropy=1\n",
      "No PSF/pixel convolution because sigmapsf=0 pixsize=0\n",
      "inc=63.5; beta[0]=0.0; kappa=1.00; M/L=1.00; BH=0.0; chi2/DOF=nan\n",
      "Total mass MGE (MSun): 1.836e+13\n",
      "\n",
      "sigma_e: 169.89 km/s\n",
      "theta_E: 0.645 arcsec\n"
     ]
    },
    {
     "name": "stdout",
     "output_type": "stream",
     "text": [
      "jam_axi_proj(align='sph', moment='zz') -- elapsed time sec: 0.92\n",
      "analytic_los=0 logistic=0 constant_anisotropy=1\n",
      "No PSF/pixel convolution because sigmapsf=0 pixsize=0\n",
      "inc=44.0; beta[0]=0.0; kappa=1.00; M/L=1.00; BH=0.0; chi2/DOF=nan\n",
      "Total mass MGE (MSun): 1.836e+13\n",
      "\n",
      "sigma_e: 178.55 km/s\n",
      "theta_E: 0.606 arcsec\n"
     ]
    },
    {
     "name": "stdout",
     "output_type": "stream",
     "text": [
      "jam_axi_proj(align='sph', moment='zz') -- elapsed time sec: 0.92\n",
      "analytic_los=0 logistic=0 constant_anisotropy=1\n",
      "No PSF/pixel convolution because sigmapsf=0 pixsize=0\n",
      "inc=59.4; beta[0]=0.0; kappa=1.00; M/L=1.00; BH=0.0; chi2/DOF=nan\n",
      "Total mass MGE (MSun): 1.836e+13\n",
      "\n",
      "sigma_e: 172.03 km/s\n",
      "theta_E: 0.583 arcsec\n"
     ]
    },
    {
     "name": "stdout",
     "output_type": "stream",
     "text": [
      "jam_axi_proj(align='sph', moment='zz') -- elapsed time sec: 0.95\n",
      "analytic_los=0 logistic=0 constant_anisotropy=1\n",
      "No PSF/pixel convolution because sigmapsf=0 pixsize=0\n",
      "inc=68.8; beta[0]=0.0; kappa=1.00; M/L=1.00; BH=0.0; chi2/DOF=nan\n",
      "Total mass MGE (MSun): 1.836e+13\n",
      "\n",
      "sigma_e: 167.04 km/s\n"
     ]
    },
    {
     "name": "stdout",
     "output_type": "stream",
     "text": [
      "theta_E: 1.596 arcsec\n"
     ]
    },
    {
     "name": "stdout",
     "output_type": "stream",
     "text": [
      "jam_axi_proj(align='sph', moment='zz') -- elapsed time sec: 0.96\n",
      "analytic_los=0 logistic=0 constant_anisotropy=1\n",
      "No PSF/pixel convolution because sigmapsf=0 pixsize=0\n",
      "inc=75.6; beta[0]=0.0; kappa=1.00; M/L=1.00; BH=0.0; chi2/DOF=nan\n",
      "Total mass MGE (MSun): 1.398e+14\n",
      "\n",
      "sigma_e: 274.44 km/s\n",
      "theta_E: 1.855 arcsec\n"
     ]
    },
    {
     "name": "stdout",
     "output_type": "stream",
     "text": [
      "jam_axi_proj(align='sph', moment='zz') -- elapsed time sec: 0.85\n",
      "analytic_los=0 logistic=0 constant_anisotropy=1\n",
      "No PSF/pixel convolution because sigmapsf=0 pixsize=0\n",
      "inc=23.4; beta[0]=0.0; kappa=1.00; M/L=1.00; BH=0.0; chi2/DOF=nan\n",
      "Total mass MGE (MSun): 1.398e+14\n",
      "\n",
      "sigma_e: 300.00 km/s\n",
      "theta_E: 1.817 arcsec\n"
     ]
    },
    {
     "name": "stdout",
     "output_type": "stream",
     "text": [
      "jam_axi_proj(align='sph', moment='zz') -- elapsed time sec: 0.88\n",
      "analytic_los=0 logistic=0 constant_anisotropy=1\n",
      "No PSF/pixel convolution because sigmapsf=0 pixsize=0\n",
      "inc=32.9; beta[0]=0.0; kappa=1.00; M/L=1.00; BH=0.0; chi2/DOF=nan\n",
      "Total mass MGE (MSun): 1.398e+14\n",
      "\n",
      "sigma_e: 297.47 km/s\n",
      "theta_E: 1.681 arcsec\n"
     ]
    },
    {
     "name": "stdout",
     "output_type": "stream",
     "text": [
      "jam_axi_proj(align='sph', moment='zz') -- elapsed time sec: 0.95\n",
      "analytic_los=0 logistic=0 constant_anisotropy=1\n",
      "No PSF/pixel convolution because sigmapsf=0 pixsize=0\n",
      "inc=58.0; beta[0]=0.0; kappa=1.00; M/L=1.00; BH=0.0; chi2/DOF=nan\n",
      "Total mass MGE (MSun): 1.398e+14\n",
      "\n",
      "sigma_e: 285.41 km/s\n",
      "theta_E: 1.849 arcsec\n"
     ]
    },
    {
     "name": "stdout",
     "output_type": "stream",
     "text": [
      "jam_axi_proj(align='sph', moment='zz') -- elapsed time sec: 0.86\n",
      "analytic_los=0 logistic=0 constant_anisotropy=1\n",
      "No PSF/pixel convolution because sigmapsf=0 pixsize=0\n",
      "inc=24.9; beta[0]=0.0; kappa=1.00; M/L=1.00; BH=0.0; chi2/DOF=nan\n",
      "Total mass MGE (MSun): 1.398e+14\n",
      "\n",
      "sigma_e: 299.69 km/s\n",
      "theta_E: 1.574 arcsec\n"
     ]
    },
    {
     "name": "stdout",
     "output_type": "stream",
     "text": [
      "jam_axi_proj(align='sph', moment='zz') -- elapsed time sec: 0.98\n",
      "analytic_los=0 logistic=0 constant_anisotropy=1\n",
      "No PSF/pixel convolution because sigmapsf=0 pixsize=0\n",
      "inc=83.9; beta[0]=0.0; kappa=1.00; M/L=1.00; BH=0.0; chi2/DOF=nan\n",
      "Total mass MGE (MSun): 1.398e+14\n",
      "\n",
      "sigma_e: 271.10 km/s\n",
      "theta_E: 1.709 arcsec\n"
     ]
    },
    {
     "name": "stdout",
     "output_type": "stream",
     "text": [
      "jam_axi_proj(align='sph', moment='zz') -- elapsed time sec: 0.95\n",
      "analytic_los=0 logistic=0 constant_anisotropy=1\n",
      "No PSF/pixel convolution because sigmapsf=0 pixsize=0\n",
      "inc=53.1; beta[0]=0.0; kappa=1.00; M/L=1.00; BH=0.0; chi2/DOF=nan\n",
      "Total mass MGE (MSun): 1.398e+14\n",
      "\n",
      "sigma_e: 288.41 km/s\n",
      "theta_E: 1.650 arcsec\n"
     ]
    },
    {
     "name": "stdout",
     "output_type": "stream",
     "text": [
      "jam_axi_proj(align='sph', moment='zz') -- elapsed time sec: 0.97\n",
      "analytic_los=0 logistic=0 constant_anisotropy=1\n",
      "No PSF/pixel convolution because sigmapsf=0 pixsize=0\n",
      "inc=63.6; beta[0]=0.0; kappa=1.00; M/L=1.00; BH=0.0; chi2/DOF=nan\n",
      "Total mass MGE (MSun): 1.398e+14\n",
      "\n",
      "sigma_e: 281.81 km/s\n",
      "theta_E: 1.858 arcsec\n"
     ]
    },
    {
     "name": "stdout",
     "output_type": "stream",
     "text": [
      "jam_axi_proj(align='sph', moment='zz') -- elapsed time sec: 0.86\n",
      "analytic_los=0 logistic=0 constant_anisotropy=1\n",
      "No PSF/pixel convolution because sigmapsf=0 pixsize=0\n",
      "inc=22.5; beta[0]=0.0; kappa=1.00; M/L=1.00; BH=0.0; chi2/DOF=nan\n",
      "Total mass MGE (MSun): 1.398e+14\n",
      "\n",
      "sigma_e: 300.23 km/s\n",
      "theta_E: 1.623 arcsec\n"
     ]
    },
    {
     "name": "stdout",
     "output_type": "stream",
     "text": [
      "jam_axi_proj(align='sph', moment='zz') -- elapsed time sec: 0.98\n",
      "analytic_los=0 logistic=0 constant_anisotropy=1\n",
      "No PSF/pixel convolution because sigmapsf=0 pixsize=0\n",
      "inc=69.0; beta[0]=0.0; kappa=1.00; M/L=1.00; BH=0.0; chi2/DOF=nan\n",
      "Total mass MGE (MSun): 1.398e+14\n",
      "\n",
      "sigma_e: 278.33 km/s\n"
     ]
    },
    {
     "name": "stdout",
     "output_type": "stream",
     "text": [
      "theta_E: 1.433 arcsec\n"
     ]
    },
    {
     "name": "stdout",
     "output_type": "stream",
     "text": [
      "jam_axi_proj(align='sph', moment='zz') -- elapsed time sec: 0.74\n",
      "analytic_los=0 logistic=0 constant_anisotropy=1\n",
      "No PSF/pixel convolution because sigmapsf=0 pixsize=0\n",
      "inc=45.3; beta[0]=0.0; kappa=1.00; M/L=1.00; BH=0.0; chi2/DOF=nan\n",
      "Total mass MGE (MSun): 1.009e+14\n",
      "\n",
      "sigma_e: 262.12 km/s\n",
      "theta_E: 1.395 arcsec\n"
     ]
    },
    {
     "name": "stdout",
     "output_type": "stream",
     "text": [
      "jam_axi_proj(align='sph', moment='zz') -- elapsed time sec: 0.77\n",
      "analytic_los=0 logistic=0 constant_anisotropy=1\n",
      "No PSF/pixel convolution because sigmapsf=0 pixsize=0\n",
      "inc=88.6; beta[0]=0.0; kappa=1.00; M/L=1.00; BH=0.0; chi2/DOF=nan\n",
      "Total mass MGE (MSun): 1.009e+14\n",
      "\n",
      "sigma_e: 258.19 km/s\n",
      "theta_E: 1.440 arcsec\n"
     ]
    },
    {
     "name": "stdout",
     "output_type": "stream",
     "text": [
      "jam_axi_proj(align='sph', moment='zz') -- elapsed time sec: 0.77\n",
      "analytic_los=0 logistic=0 constant_anisotropy=1\n",
      "No PSF/pixel convolution because sigmapsf=0 pixsize=0\n",
      "inc=39.7; beta[0]=0.0; kappa=1.00; M/L=1.00; BH=0.0; chi2/DOF=nan\n",
      "Total mass MGE (MSun): 1.009e+14\n",
      "\n",
      "sigma_e: 262.73 km/s\n",
      "theta_E: 1.399 arcsec\n"
     ]
    },
    {
     "name": "stdout",
     "output_type": "stream",
     "text": [
      "jam_axi_proj(align='sph', moment='zz') -- elapsed time sec: 0.78\n",
      "analytic_los=0 logistic=0 constant_anisotropy=1\n",
      "No PSF/pixel convolution because sigmapsf=0 pixsize=0\n",
      "inc=77.5; beta[0]=0.0; kappa=1.00; M/L=1.00; BH=0.0; chi2/DOF=nan\n",
      "Total mass MGE (MSun): 1.009e+14\n",
      "\n",
      "sigma_e: 258.60 km/s\n",
      "theta_E: 1.422 arcsec\n"
     ]
    },
    {
     "name": "stdout",
     "output_type": "stream",
     "text": [
      "jam_axi_proj(align='sph', moment='zz') -- elapsed time sec: 0.76\n",
      "analytic_los=0 logistic=0 constant_anisotropy=1\n",
      "No PSF/pixel convolution because sigmapsf=0 pixsize=0\n",
      "inc=53.8; beta[0]=0.0; kappa=1.00; M/L=1.00; BH=0.0; chi2/DOF=nan\n",
      "Total mass MGE (MSun): 1.009e+14\n",
      "\n",
      "sigma_e: 261.05 km/s\n",
      "theta_E: 1.429 arcsec\n"
     ]
    },
    {
     "name": "stdout",
     "output_type": "stream",
     "text": [
      "jam_axi_proj(align='sph', moment='zz') -- elapsed time sec: 0.77\n",
      "analytic_los=0 logistic=0 constant_anisotropy=1\n",
      "No PSF/pixel convolution because sigmapsf=0 pixsize=0\n",
      "inc=47.7; beta[0]=0.0; kappa=1.00; M/L=1.00; BH=0.0; chi2/DOF=nan\n",
      "Total mass MGE (MSun): 1.009e+14\n",
      "\n",
      "sigma_e: 261.81 km/s\n",
      "theta_E: 1.414 arcsec\n"
     ]
    },
    {
     "name": "stdout",
     "output_type": "stream",
     "text": [
      "jam_axi_proj(align='sph', moment='zz') -- elapsed time sec: 0.77\n",
      "analytic_los=0 logistic=0 constant_anisotropy=1\n",
      "No PSF/pixel convolution because sigmapsf=0 pixsize=0\n",
      "inc=60.6; beta[0]=0.0; kappa=1.00; M/L=1.00; BH=0.0; chi2/DOF=nan\n",
      "Total mass MGE (MSun): 1.009e+14\n",
      "\n",
      "sigma_e: 260.21 km/s\n",
      "theta_E: 1.435 arcsec\n"
     ]
    },
    {
     "name": "stdout",
     "output_type": "stream",
     "text": [
      "jam_axi_proj(align='sph', moment='zz') -- elapsed time sec: 0.77\n",
      "analytic_los=0 logistic=0 constant_anisotropy=1\n",
      "No PSF/pixel convolution because sigmapsf=0 pixsize=0\n",
      "inc=43.0; beta[0]=0.0; kappa=1.00; M/L=1.00; BH=0.0; chi2/DOF=nan\n",
      "Total mass MGE (MSun): 1.009e+14\n",
      "\n",
      "sigma_e: 262.38 km/s\n",
      "theta_E: 1.419 arcsec\n"
     ]
    },
    {
     "name": "stdout",
     "output_type": "stream",
     "text": [
      "jam_axi_proj(align='sph', moment='zz') -- elapsed time sec: 0.78\n",
      "analytic_los=0 logistic=0 constant_anisotropy=1\n",
      "No PSF/pixel convolution because sigmapsf=0 pixsize=0\n",
      "inc=56.2; beta[0]=0.0; kappa=1.00; M/L=1.00; BH=0.0; chi2/DOF=nan\n",
      "Total mass MGE (MSun): 1.009e+14\n",
      "\n",
      "sigma_e: 260.77 km/s\n",
      "theta_E: 1.396 arcsec\n"
     ]
    },
    {
     "name": "stdout",
     "output_type": "stream",
     "text": [
      "jam_axi_proj(align='sph', moment='zz') -- elapsed time sec: 0.76\n",
      "analytic_los=0 logistic=0 constant_anisotropy=1\n",
      "No PSF/pixel convolution because sigmapsf=0 pixsize=0\n",
      "inc=82.3; beta[0]=0.0; kappa=1.00; M/L=1.00; BH=0.0; chi2/DOF=nan\n",
      "Total mass MGE (MSun): 1.009e+14\n",
      "\n",
      "sigma_e: 258.34 km/s\n"
     ]
    },
    {
     "name": "stdout",
     "output_type": "stream",
     "text": [
      "theta_E: 0.502 arcsec\n"
     ]
    },
    {
     "name": "stdout",
     "output_type": "stream",
     "text": [
      "jam_axi_proj(align='sph', moment='zz') -- elapsed time sec: 0.90\n",
      "analytic_los=0 logistic=0 constant_anisotropy=1\n",
      "No PSF/pixel convolution because sigmapsf=0 pixsize=0\n",
      "inc=61.2; beta[0]=0.0; kappa=1.00; M/L=1.00; BH=0.0; chi2/DOF=nan\n",
      "Total mass MGE (MSun): 1.291e+13\n",
      "\n",
      "sigma_e: 156.48 km/s\n",
      "theta_E: 0.524 arcsec\n"
     ]
    },
    {
     "name": "stdout",
     "output_type": "stream",
     "text": [
      "jam_axi_proj(align='sph', moment='zz') -- elapsed time sec: 0.92\n",
      "analytic_los=0 logistic=0 constant_anisotropy=1\n",
      "No PSF/pixel convolution because sigmapsf=0 pixsize=0\n",
      "inc=50.0; beta[0]=0.0; kappa=1.00; M/L=1.00; BH=0.0; chi2/DOF=nan\n",
      "Total mass MGE (MSun): 1.291e+13\n",
      "\n",
      "sigma_e: 160.80 km/s\n",
      "theta_E: 0.472 arcsec\n"
     ]
    },
    {
     "name": "stdout",
     "output_type": "stream",
     "text": [
      "jam_axi_proj(align='sph', moment='zz') -- elapsed time sec: 0.95\n",
      "analytic_los=0 logistic=0 constant_anisotropy=1\n",
      "No PSF/pixel convolution because sigmapsf=0 pixsize=0\n",
      "inc=81.2; beta[0]=0.0; kappa=1.00; M/L=1.00; BH=0.0; chi2/DOF=nan\n",
      "Total mass MGE (MSun): 1.291e+13\n",
      "\n",
      "sigma_e: 148.75 km/s\n",
      "theta_E: 0.479 arcsec\n"
     ]
    },
    {
     "name": "stdout",
     "output_type": "stream",
     "text": [
      "jam_axi_proj(align='sph', moment='zz') -- elapsed time sec: 0.94\n",
      "analytic_los=0 logistic=0 constant_anisotropy=1\n",
      "No PSF/pixel convolution because sigmapsf=0 pixsize=0\n",
      "inc=74.8; beta[0]=0.0; kappa=1.00; M/L=1.00; BH=0.0; chi2/DOF=nan\n",
      "Total mass MGE (MSun): 1.291e+13\n",
      "\n",
      "sigma_e: 150.77 km/s\n",
      "theta_E: 0.522 arcsec\n"
     ]
    },
    {
     "name": "stdout",
     "output_type": "stream",
     "text": [
      "jam_axi_proj(align='sph', moment='zz') -- elapsed time sec: 0.97\n",
      "analytic_los=0 logistic=0 constant_anisotropy=1\n",
      "No PSF/pixel convolution because sigmapsf=0 pixsize=0\n",
      "inc=51.1; beta[0]=0.0; kappa=1.00; M/L=1.00; BH=0.0; chi2/DOF=nan\n",
      "Total mass MGE (MSun): 1.291e+13\n",
      "\n",
      "sigma_e: 160.42 km/s\n",
      "theta_E: 0.541 arcsec\n"
     ]
    },
    {
     "name": "stdout",
     "output_type": "stream",
     "text": [
      "jam_axi_proj(align='sph', moment='zz') -- elapsed time sec: 0.88\n",
      "analytic_los=0 logistic=0 constant_anisotropy=1\n",
      "No PSF/pixel convolution because sigmapsf=0 pixsize=0\n",
      "inc=41.0; beta[0]=0.0; kappa=1.00; M/L=1.00; BH=0.0; chi2/DOF=nan\n",
      "Total mass MGE (MSun): 1.291e+13\n",
      "\n",
      "sigma_e: 163.49 km/s\n",
      "theta_E: 0.471 arcsec\n"
     ]
    },
    {
     "name": "stdout",
     "output_type": "stream",
     "text": [
      "jam_axi_proj(align='sph', moment='zz') -- elapsed time sec: 0.94\n",
      "analytic_los=0 logistic=0 constant_anisotropy=1\n",
      "No PSF/pixel convolution because sigmapsf=0 pixsize=0\n",
      "inc=83.2; beta[0]=0.0; kappa=1.00; M/L=1.00; BH=0.0; chi2/DOF=nan\n",
      "Total mass MGE (MSun): 1.291e+13\n",
      "\n",
      "sigma_e: 148.31 km/s\n",
      "theta_E: 0.555 arcsec\n"
     ]
    },
    {
     "name": "stdout",
     "output_type": "stream",
     "text": [
      "jam_axi_proj(align='sph', moment='zz') -- elapsed time sec: 0.89\n",
      "analytic_los=0 logistic=0 constant_anisotropy=1\n",
      "No PSF/pixel convolution because sigmapsf=0 pixsize=0\n",
      "inc=33.1; beta[0]=0.0; kappa=1.00; M/L=1.00; BH=0.0; chi2/DOF=nan\n",
      "Total mass MGE (MSun): 1.291e+13\n",
      "\n",
      "sigma_e: 165.25 km/s\n",
      "theta_E: 0.516 arcsec\n"
     ]
    },
    {
     "name": "stdout",
     "output_type": "stream",
     "text": [
      "jam_axi_proj(align='sph', moment='zz') -- elapsed time sec: 0.90\n",
      "analytic_los=0 logistic=0 constant_anisotropy=1\n",
      "No PSF/pixel convolution because sigmapsf=0 pixsize=0\n",
      "inc=54.0; beta[0]=0.0; kappa=1.00; M/L=1.00; BH=0.0; chi2/DOF=nan\n",
      "Total mass MGE (MSun): 1.291e+13\n",
      "\n",
      "sigma_e: 159.31 km/s\n",
      "theta_E: 0.474 arcsec\n"
     ]
    },
    {
     "name": "stdout",
     "output_type": "stream",
     "text": [
      "jam_axi_proj(align='sph', moment='zz') -- elapsed time sec: 0.93\n",
      "analytic_los=0 logistic=0 constant_anisotropy=1\n",
      "No PSF/pixel convolution because sigmapsf=0 pixsize=0\n",
      "inc=79.7; beta[0]=0.0; kappa=1.00; M/L=1.00; BH=0.0; chi2/DOF=nan\n",
      "Total mass MGE (MSun): 1.291e+13\n",
      "\n",
      "sigma_e: 149.15 km/s\n"
     ]
    },
    {
     "name": "stdout",
     "output_type": "stream",
     "text": [
      "theta_E: 1.748 arcsec\n"
     ]
    },
    {
     "name": "stdout",
     "output_type": "stream",
     "text": [
      "jam_axi_proj(align='sph', moment='zz') -- elapsed time sec: 0.97\n",
      "analytic_los=0 logistic=0 constant_anisotropy=1\n",
      "No PSF/pixel convolution because sigmapsf=0 pixsize=0\n",
      "inc=76.6; beta[0]=0.0; kappa=1.00; M/L=1.00; BH=0.0; chi2/DOF=nan\n",
      "Total mass MGE (MSun): 1.725e+14\n",
      "\n",
      "sigma_e: 283.99 km/s\n",
      "theta_E: 1.760 arcsec\n"
     ]
    },
    {
     "name": "stdout",
     "output_type": "stream",
     "text": [
      "jam_axi_proj(align='sph', moment='zz') -- elapsed time sec: 1.01\n",
      "analytic_los=0 logistic=0 constant_anisotropy=1\n",
      "No PSF/pixel convolution because sigmapsf=0 pixsize=0\n",
      "inc=74.5; beta[0]=0.0; kappa=1.00; M/L=1.00; BH=0.0; chi2/DOF=nan\n",
      "Total mass MGE (MSun): 1.725e+14\n",
      "\n",
      "sigma_e: 285.75 km/s\n",
      "theta_E: 1.740 arcsec\n"
     ]
    },
    {
     "name": "stdout",
     "output_type": "stream",
     "text": [
      "jam_axi_proj(align='sph', moment='zz') -- elapsed time sec: 1.00\n",
      "analytic_los=0 logistic=0 constant_anisotropy=1\n",
      "No PSF/pixel convolution because sigmapsf=0 pixsize=0\n",
      "inc=78.3; beta[0]=0.0; kappa=1.00; M/L=1.00; BH=0.0; chi2/DOF=nan\n",
      "Total mass MGE (MSun): 1.725e+14\n",
      "\n",
      "sigma_e: 282.62 km/s\n",
      "theta_E: 1.754 arcsec\n"
     ]
    },
    {
     "name": "stdout",
     "output_type": "stream",
     "text": [
      "jam_axi_proj(align='sph', moment='zz') -- elapsed time sec: 0.98\n",
      "analytic_los=0 logistic=0 constant_anisotropy=1\n",
      "No PSF/pixel convolution because sigmapsf=0 pixsize=0\n",
      "inc=75.6; beta[0]=0.0; kappa=1.00; M/L=1.00; BH=0.0; chi2/DOF=nan\n",
      "Total mass MGE (MSun): 1.725e+14\n",
      "\n",
      "sigma_e: 284.83 km/s\n",
      "theta_E: 1.957 arcsec\n"
     ]
    },
    {
     "name": "stdout",
     "output_type": "stream",
     "text": [
      "jam_axi_proj(align='sph', moment='zz') -- elapsed time sec: 0.98\n",
      "analytic_los=0 logistic=0 constant_anisotropy=1\n",
      "No PSF/pixel convolution because sigmapsf=0 pixsize=0\n",
      "inc=49.3; beta[0]=0.0; kappa=1.00; M/L=1.00; BH=0.0; chi2/DOF=nan\n",
      "Total mass MGE (MSun): 1.725e+14\n",
      "\n",
      "sigma_e: 309.37 km/s\n",
      "theta_E: 2.175 arcsec\n"
     ]
    },
    {
     "name": "stdout",
     "output_type": "stream",
     "text": [
      "jam_axi_proj(align='sph', moment='zz') -- elapsed time sec: 0.89\n",
      "analytic_los=0 logistic=0 constant_anisotropy=1\n",
      "No PSF/pixel convolution because sigmapsf=0 pixsize=0\n",
      "inc=10.6; beta[0]=0.0; kappa=1.00; M/L=1.00; BH=0.0; chi2/DOF=nan\n",
      "Total mass MGE (MSun): 1.725e+14\n",
      "\n",
      "sigma_e: 324.25 km/s\n",
      "theta_E: 1.914 arcsec\n"
     ]
    },
    {
     "name": "stdout",
     "output_type": "stream",
     "text": [
      "jam_axi_proj(align='sph', moment='zz') -- elapsed time sec: 0.98\n",
      "analytic_los=0 logistic=0 constant_anisotropy=1\n",
      "No PSF/pixel convolution because sigmapsf=0 pixsize=0\n",
      "inc=54.5; beta[0]=0.0; kappa=1.00; M/L=1.00; BH=0.0; chi2/DOF=nan\n",
      "Total mass MGE (MSun): 1.725e+14\n",
      "\n",
      "sigma_e: 305.28 km/s\n",
      "theta_E: 2.120 arcsec\n"
     ]
    },
    {
     "name": "stdout",
     "output_type": "stream",
     "text": [
      "jam_axi_proj(align='sph', moment='zz') -- elapsed time sec: 0.91\n",
      "analytic_los=0 logistic=0 constant_anisotropy=1\n",
      "No PSF/pixel convolution because sigmapsf=0 pixsize=0\n",
      "inc=25.6; beta[0]=0.0; kappa=1.00; M/L=1.00; BH=0.0; chi2/DOF=nan\n",
      "Total mass MGE (MSun): 1.725e+14\n",
      "\n",
      "sigma_e: 321.29 km/s\n",
      "theta_E: 2.024 arcsec\n"
     ]
    },
    {
     "name": "stdout",
     "output_type": "stream",
     "text": [
      "jam_axi_proj(align='sph', moment='zz') -- elapsed time sec: 0.96\n",
      "analytic_los=0 logistic=0 constant_anisotropy=1\n",
      "No PSF/pixel convolution because sigmapsf=0 pixsize=0\n",
      "inc=40.9; beta[0]=0.0; kappa=1.00; M/L=1.00; BH=0.0; chi2/DOF=nan\n",
      "Total mass MGE (MSun): 1.725e+14\n",
      "\n",
      "sigma_e: 314.78 km/s\n",
      "theta_E: 1.767 arcsec\n"
     ]
    },
    {
     "name": "stdout",
     "output_type": "stream",
     "text": [
      "jam_axi_proj(align='sph', moment='zz') -- elapsed time sec: 0.98\n",
      "analytic_los=0 logistic=0 constant_anisotropy=1\n",
      "No PSF/pixel convolution because sigmapsf=0 pixsize=0\n",
      "inc=73.4; beta[0]=0.0; kappa=1.00; M/L=1.00; BH=0.0; chi2/DOF=nan\n",
      "Total mass MGE (MSun): 1.725e+14\n",
      "\n",
      "sigma_e: 286.81 km/s\n"
     ]
    },
    {
     "name": "stdout",
     "output_type": "stream",
     "text": [
      "theta_E: 1.378 arcsec\n"
     ]
    },
    {
     "name": "stdout",
     "output_type": "stream",
     "text": [
      "jam_axi_proj(align='sph', moment='zz') -- elapsed time sec: 0.87\n",
      "analytic_los=0 logistic=0 constant_anisotropy=1\n",
      "No PSF/pixel convolution because sigmapsf=0 pixsize=0\n",
      "inc=11.6; beta[0]=0.0; kappa=1.00; M/L=1.00; BH=0.0; chi2/DOF=nan\n",
      "Total mass MGE (MSun): 6.757e+13\n",
      "\n",
      "sigma_e: 259.33 km/s\n",
      "theta_E: 1.067 arcsec\n"
     ]
    },
    {
     "name": "stdout",
     "output_type": "stream",
     "text": [
      "jam_axi_proj(align='sph', moment='zz') -- elapsed time sec: 1.05\n",
      "analytic_los=0 logistic=0 constant_anisotropy=1\n",
      "No PSF/pixel convolution because sigmapsf=0 pixsize=0\n",
      "inc=83.7; beta[0]=0.0; kappa=1.00; M/L=1.00; BH=0.0; chi2/DOF=nan\n",
      "Total mass MGE (MSun): 6.757e+13\n",
      "\n",
      "sigma_e: 220.40 km/s\n",
      "theta_E: 1.189 arcsec\n"
     ]
    },
    {
     "name": "stdout",
     "output_type": "stream",
     "text": [
      "jam_axi_proj(align='sph', moment='zz') -- elapsed time sec: 1.02\n",
      "analytic_los=0 logistic=0 constant_anisotropy=1\n",
      "No PSF/pixel convolution because sigmapsf=0 pixsize=0\n",
      "inc=56.7; beta[0]=0.0; kappa=1.00; M/L=1.00; BH=0.0; chi2/DOF=nan\n",
      "Total mass MGE (MSun): 6.757e+13\n",
      "\n",
      "sigma_e: 241.96 km/s\n",
      "theta_E: 1.135 arcsec\n"
     ]
    },
    {
     "name": "stdout",
     "output_type": "stream",
     "text": [
      "jam_axi_proj(align='sph', moment='zz') -- elapsed time sec: 1.00\n",
      "analytic_los=0 logistic=0 constant_anisotropy=1\n",
      "No PSF/pixel convolution because sigmapsf=0 pixsize=0\n",
      "inc=66.2; beta[0]=0.0; kappa=1.00; M/L=1.00; BH=0.0; chi2/DOF=nan\n",
      "Total mass MGE (MSun): 6.757e+13\n",
      "\n",
      "sigma_e: 233.79 km/s\n",
      "theta_E: 1.180 arcsec\n"
     ]
    },
    {
     "name": "stdout",
     "output_type": "stream",
     "text": [
      "jam_axi_proj(align='sph', moment='zz') -- elapsed time sec: 1.02\n",
      "analytic_los=0 logistic=0 constant_anisotropy=1\n",
      "No PSF/pixel convolution because sigmapsf=0 pixsize=0\n",
      "inc=58.3; beta[0]=0.0; kappa=1.00; M/L=1.00; BH=0.0; chi2/DOF=nan\n",
      "Total mass MGE (MSun): 6.757e+13\n",
      "\n",
      "sigma_e: 240.66 km/s\n",
      "theta_E: 1.097 arcsec\n"
     ]
    },
    {
     "name": "stdout",
     "output_type": "stream",
     "text": [
      "jam_axi_proj(align='sph', moment='zz') -- elapsed time sec: 1.02\n",
      "analytic_los=0 logistic=0 constant_anisotropy=1\n",
      "No PSF/pixel convolution because sigmapsf=0 pixsize=0\n",
      "inc=74.1; beta[0]=0.0; kappa=1.00; M/L=1.00; BH=0.0; chi2/DOF=nan\n",
      "Total mass MGE (MSun): 6.757e+13\n",
      "\n",
      "sigma_e: 226.85 km/s\n",
      "theta_E: 1.064 arcsec\n"
     ]
    },
    {
     "name": "stdout",
     "output_type": "stream",
     "text": [
      "jam_axi_proj(align='sph', moment='zz') -- elapsed time sec: 1.07\n",
      "analytic_los=0 logistic=0 constant_anisotropy=1\n",
      "No PSF/pixel convolution because sigmapsf=0 pixsize=0\n",
      "inc=85.7; beta[0]=0.0; kappa=1.00; M/L=1.00; BH=0.0; chi2/DOF=nan\n",
      "Total mass MGE (MSun): 6.757e+13\n",
      "\n",
      "sigma_e: 219.66 km/s\n",
      "theta_E: 1.102 arcsec\n"
     ]
    },
    {
     "name": "stdout",
     "output_type": "stream",
     "text": [
      "jam_axi_proj(align='sph', moment='zz') -- elapsed time sec: 1.05\n",
      "analytic_los=0 logistic=0 constant_anisotropy=1\n",
      "No PSF/pixel convolution because sigmapsf=0 pixsize=0\n",
      "inc=73.0; beta[0]=0.0; kappa=1.00; M/L=1.00; BH=0.0; chi2/DOF=nan\n",
      "Total mass MGE (MSun): 6.757e+13\n",
      "\n",
      "sigma_e: 227.73 km/s\n",
      "theta_E: 1.372 arcsec\n"
     ]
    },
    {
     "name": "stdout",
     "output_type": "stream",
     "text": [
      "jam_axi_proj(align='sph', moment='zz') -- elapsed time sec: 0.90\n",
      "analytic_los=0 logistic=0 constant_anisotropy=1\n",
      "No PSF/pixel convolution because sigmapsf=0 pixsize=0\n",
      "inc=15.1; beta[0]=0.0; kappa=1.00; M/L=1.00; BH=0.0; chi2/DOF=nan\n",
      "Total mass MGE (MSun): 6.757e+13\n",
      "\n",
      "sigma_e: 258.95 km/s\n",
      "theta_E: 1.327 arcsec\n"
     ]
    },
    {
     "name": "stdout",
     "output_type": "stream",
     "text": [
      "jam_axi_proj(align='sph', moment='zz') -- elapsed time sec: 0.95\n",
      "analytic_los=0 logistic=0 constant_anisotropy=1\n",
      "No PSF/pixel convolution because sigmapsf=0 pixsize=0\n",
      "inc=30.0; beta[0]=0.0; kappa=1.00; M/L=1.00; BH=0.0; chi2/DOF=nan\n",
      "Total mass MGE (MSun): 6.757e+13\n",
      "\n",
      "sigma_e: 255.84 km/s\n"
     ]
    },
    {
     "name": "stdout",
     "output_type": "stream",
     "text": [
      "theta_E: 0.875 arcsec\n"
     ]
    },
    {
     "name": "stdout",
     "output_type": "stream",
     "text": [
      "jam_axi_proj(align='sph', moment='zz') -- elapsed time sec: 0.93\n",
      "analytic_los=0 logistic=0 constant_anisotropy=1\n",
      "No PSF/pixel convolution because sigmapsf=0 pixsize=0\n",
      "inc=78.3; beta[0]=0.0; kappa=1.00; M/L=1.00; BH=0.0; chi2/DOF=nan\n",
      "Total mass MGE (MSun): 4.258e+13\n",
      "\n",
      "sigma_e: 203.78 km/s\n",
      "theta_E: 1.030 arcsec\n"
     ]
    },
    {
     "name": "stdout",
     "output_type": "stream",
     "text": [
      "jam_axi_proj(align='sph', moment='zz') -- elapsed time sec: 0.85\n",
      "analytic_los=0 logistic=0 constant_anisotropy=1\n",
      "No PSF/pixel convolution because sigmapsf=0 pixsize=0\n",
      "inc=13.1; beta[0]=0.0; kappa=1.00; M/L=1.00; BH=0.0; chi2/DOF=nan\n",
      "Total mass MGE (MSun): 4.258e+13\n",
      "\n",
      "sigma_e: 223.83 km/s\n",
      "theta_E: 0.920 arcsec\n"
     ]
    },
    {
     "name": "stdout",
     "output_type": "stream",
     "text": [
      "jam_axi_proj(align='sph', moment='zz') -- elapsed time sec: 0.92\n",
      "analytic_los=0 logistic=0 constant_anisotropy=1\n",
      "No PSF/pixel convolution because sigmapsf=0 pixsize=0\n",
      "inc=59.4; beta[0]=0.0; kappa=1.00; M/L=1.00; BH=0.0; chi2/DOF=nan\n",
      "Total mass MGE (MSun): 4.258e+13\n",
      "\n",
      "sigma_e: 211.72 km/s\n",
      "theta_E: 0.945 arcsec\n"
     ]
    },
    {
     "name": "stdout",
     "output_type": "stream",
     "text": [
      "jam_axi_proj(align='sph', moment='zz') -- elapsed time sec: 0.92\n",
      "analytic_los=0 logistic=0 constant_anisotropy=1\n",
      "No PSF/pixel convolution because sigmapsf=0 pixsize=0\n",
      "inc=50.9; beta[0]=0.0; kappa=1.00; M/L=1.00; BH=0.0; chi2/DOF=nan\n",
      "Total mass MGE (MSun): 4.258e+13\n",
      "\n",
      "sigma_e: 215.28 km/s\n",
      "theta_E: 0.887 arcsec\n"
     ]
    },
    {
     "name": "stdout",
     "output_type": "stream",
     "text": [
      "jam_axi_proj(align='sph', moment='zz') -- elapsed time sec: 0.93\n",
      "analytic_los=0 logistic=0 constant_anisotropy=1\n",
      "No PSF/pixel convolution because sigmapsf=0 pixsize=0\n",
      "inc=72.0; beta[0]=0.0; kappa=1.00; M/L=1.00; BH=0.0; chi2/DOF=nan\n",
      "Total mass MGE (MSun): 4.258e+13\n",
      "\n",
      "sigma_e: 206.10 km/s\n",
      "theta_E: 1.010 arcsec\n"
     ]
    },
    {
     "name": "stdout",
     "output_type": "stream",
     "text": [
      "jam_axi_proj(align='sph', moment='zz') -- elapsed time sec: 0.86\n",
      "analytic_los=0 logistic=0 constant_anisotropy=1\n",
      "No PSF/pixel convolution because sigmapsf=0 pixsize=0\n",
      "inc=26.2; beta[0]=0.0; kappa=1.00; M/L=1.00; BH=0.0; chi2/DOF=nan\n",
      "Total mass MGE (MSun): 4.258e+13\n",
      "\n",
      "sigma_e: 222.21 km/s\n",
      "theta_E: 0.868 arcsec\n"
     ]
    },
    {
     "name": "stdout",
     "output_type": "stream",
     "text": [
      "jam_axi_proj(align='sph', moment='zz') -- elapsed time sec: 0.95\n",
      "analytic_los=0 logistic=0 constant_anisotropy=1\n",
      "No PSF/pixel convolution because sigmapsf=0 pixsize=0\n",
      "inc=85.0; beta[0]=0.0; kappa=1.00; M/L=1.00; BH=0.0; chi2/DOF=nan\n",
      "Total mass MGE (MSun): 4.258e+13\n",
      "\n",
      "sigma_e: 202.22 km/s\n",
      "theta_E: 1.005 arcsec\n"
     ]
    },
    {
     "name": "stdout",
     "output_type": "stream",
     "text": [
      "jam_axi_proj(align='sph', moment='zz') -- elapsed time sec: 0.87\n",
      "analytic_los=0 logistic=0 constant_anisotropy=1\n",
      "No PSF/pixel convolution because sigmapsf=0 pixsize=0\n",
      "inc=28.4; beta[0]=0.0; kappa=1.00; M/L=1.00; BH=0.0; chi2/DOF=nan\n",
      "Total mass MGE (MSun): 4.258e+13\n",
      "\n",
      "sigma_e: 221.80 km/s\n",
      "theta_E: 0.869 arcsec\n"
     ]
    },
    {
     "name": "stdout",
     "output_type": "stream",
     "text": [
      "jam_axi_proj(align='sph', moment='zz') -- elapsed time sec: 0.98\n",
      "analytic_los=0 logistic=0 constant_anisotropy=1\n",
      "No PSF/pixel convolution because sigmapsf=0 pixsize=0\n",
      "inc=83.7; beta[0]=0.0; kappa=1.00; M/L=1.00; BH=0.0; chi2/DOF=nan\n",
      "Total mass MGE (MSun): 4.258e+13\n",
      "\n",
      "sigma_e: 202.42 km/s\n",
      "theta_E: 0.903 arcsec\n"
     ]
    },
    {
     "name": "stdout",
     "output_type": "stream",
     "text": [
      "jam_axi_proj(align='sph', moment='zz') -- elapsed time sec: 0.93\n",
      "analytic_los=0 logistic=0 constant_anisotropy=1\n",
      "No PSF/pixel convolution because sigmapsf=0 pixsize=0\n",
      "inc=65.6; beta[0]=0.0; kappa=1.00; M/L=1.00; BH=0.0; chi2/DOF=nan\n",
      "Total mass MGE (MSun): 4.258e+13\n",
      "\n",
      "sigma_e: 208.91 km/s\n"
     ]
    },
    {
     "name": "stdout",
     "output_type": "stream",
     "text": [
      "theta_E: 0.538 arcsec\n"
     ]
    },
    {
     "name": "stdout",
     "output_type": "stream",
     "text": [
      "jam_axi_proj(align='sph', moment='zz') -- elapsed time sec: 1.00\n",
      "analytic_los=0 logistic=0 constant_anisotropy=1\n",
      "No PSF/pixel convolution because sigmapsf=0 pixsize=0\n",
      "inc=84.9; beta[0]=0.0; kappa=1.00; M/L=1.00; BH=0.0; chi2/DOF=nan\n",
      "Total mass MGE (MSun): 1.735e+13\n",
      "\n",
      "sigma_e: 156.25 km/s\n",
      "theta_E: 0.644 arcsec\n"
     ]
    },
    {
     "name": "stdout",
     "output_type": "stream",
     "text": [
      "jam_axi_proj(align='sph', moment='zz') -- elapsed time sec: 0.97\n",
      "analytic_los=0 logistic=0 constant_anisotropy=1\n",
      "No PSF/pixel convolution because sigmapsf=0 pixsize=0\n",
      "inc=40.3; beta[0]=0.0; kappa=1.00; M/L=1.00; BH=0.0; chi2/DOF=nan\n",
      "Total mass MGE (MSun): 1.735e+13\n",
      "\n",
      "sigma_e: 178.70 km/s\n",
      "theta_E: 0.665 arcsec\n"
     ]
    },
    {
     "name": "stdout",
     "output_type": "stream",
     "text": [
      "jam_axi_proj(align='sph', moment='zz') -- elapsed time sec: 0.91\n",
      "analytic_los=0 logistic=0 constant_anisotropy=1\n",
      "No PSF/pixel convolution because sigmapsf=0 pixsize=0\n",
      "inc=30.7; beta[0]=0.0; kappa=1.00; M/L=1.00; BH=0.0; chi2/DOF=nan\n",
      "Total mass MGE (MSun): 1.735e+13\n",
      "\n",
      "sigma_e: 181.27 km/s\n",
      "theta_E: 0.616 arcsec\n"
     ]
    },
    {
     "name": "stdout",
     "output_type": "stream",
     "text": [
      "jam_axi_proj(align='sph', moment='zz') -- elapsed time sec: 0.95\n",
      "analytic_los=0 logistic=0 constant_anisotropy=1\n",
      "No PSF/pixel convolution because sigmapsf=0 pixsize=0\n",
      "inc=50.8; beta[0]=0.0; kappa=1.00; M/L=1.00; BH=0.0; chi2/DOF=nan\n",
      "Total mass MGE (MSun): 1.735e+13\n",
      "\n",
      "sigma_e: 174.58 km/s\n",
      "theta_E: 0.631 arcsec\n"
     ]
    },
    {
     "name": "stdout",
     "output_type": "stream",
     "text": [
      "jam_axi_proj(align='sph', moment='zz') -- elapsed time sec: 1.00\n",
      "analytic_los=0 logistic=0 constant_anisotropy=1\n",
      "No PSF/pixel convolution because sigmapsf=0 pixsize=0\n",
      "inc=45.3; beta[0]=0.0; kappa=1.00; M/L=1.00; BH=0.0; chi2/DOF=nan\n",
      "Total mass MGE (MSun): 1.735e+13\n",
      "\n",
      "sigma_e: 176.90 km/s\n",
      "theta_E: 0.536 arcsec\n"
     ]
    },
    {
     "name": "stdout",
     "output_type": "stream",
     "text": [
      "jam_axi_proj(align='sph', moment='zz') -- elapsed time sec: 1.02\n",
      "analytic_los=0 logistic=0 constant_anisotropy=1\n",
      "No PSF/pixel convolution because sigmapsf=0 pixsize=0\n",
      "inc=87.6; beta[0]=0.0; kappa=1.00; M/L=1.00; BH=0.0; chi2/DOF=nan\n",
      "Total mass MGE (MSun): 1.735e+13\n",
      "\n",
      "sigma_e: 155.77 km/s\n",
      "theta_E: 0.536 arcsec\n"
     ]
    },
    {
     "name": "stdout",
     "output_type": "stream",
     "text": [
      "jam_axi_proj(align='sph', moment='zz') -- elapsed time sec: 1.00\n",
      "analytic_los=0 logistic=0 constant_anisotropy=1\n",
      "No PSF/pixel convolution because sigmapsf=0 pixsize=0\n",
      "inc=87.6; beta[0]=0.0; kappa=1.00; M/L=1.00; BH=0.0; chi2/DOF=nan\n",
      "Total mass MGE (MSun): 1.735e+13\n",
      "\n",
      "sigma_e: 155.77 km/s\n",
      "theta_E: 0.682 arcsec\n"
     ]
    },
    {
     "name": "stdout",
     "output_type": "stream",
     "text": [
      "jam_axi_proj(align='sph', moment='zz') -- elapsed time sec: 0.92\n",
      "analytic_los=0 logistic=0 constant_anisotropy=1\n",
      "No PSF/pixel convolution because sigmapsf=0 pixsize=0\n",
      "inc=21.2; beta[0]=0.0; kappa=1.00; M/L=1.00; BH=0.0; chi2/DOF=nan\n",
      "Total mass MGE (MSun): 1.735e+13\n",
      "\n",
      "sigma_e: 182.90 km/s\n",
      "theta_E: 0.565 arcsec\n"
     ]
    },
    {
     "name": "stdout",
     "output_type": "stream",
     "text": [
      "jam_axi_proj(align='sph', moment='zz') -- elapsed time sec: 0.98\n",
      "analytic_los=0 logistic=0 constant_anisotropy=1\n",
      "No PSF/pixel convolution because sigmapsf=0 pixsize=0\n",
      "inc=69.2; beta[0]=0.0; kappa=1.00; M/L=1.00; BH=0.0; chi2/DOF=nan\n",
      "Total mass MGE (MSun): 1.735e+13\n",
      "\n",
      "sigma_e: 163.98 km/s\n",
      "theta_E: 0.647 arcsec\n"
     ]
    },
    {
     "name": "stdout",
     "output_type": "stream",
     "text": [
      "jam_axi_proj(align='sph', moment='zz') -- elapsed time sec: 0.90\n",
      "analytic_los=0 logistic=0 constant_anisotropy=1\n",
      "No PSF/pixel convolution because sigmapsf=0 pixsize=0\n",
      "inc=38.9; beta[0]=0.0; kappa=1.00; M/L=1.00; BH=0.0; chi2/DOF=nan\n",
      "Total mass MGE (MSun): 1.735e+13\n",
      "\n",
      "sigma_e: 179.14 km/s\n"
     ]
    },
    {
     "name": "stdout",
     "output_type": "stream",
     "text": [
      "theta_E: 0.796 arcsec\n"
     ]
    },
    {
     "name": "stdout",
     "output_type": "stream",
     "text": [
      "jam_axi_proj(align='sph', moment='zz') -- elapsed time sec: 0.91\n",
      "analytic_los=0 logistic=0 constant_anisotropy=1\n",
      "No PSF/pixel convolution because sigmapsf=0 pixsize=0\n",
      "inc=89.2; beta[0]=0.0; kappa=1.00; M/L=1.00; BH=0.0; chi2/DOF=nan\n",
      "Total mass MGE (MSun): 3.649e+13\n",
      "\n",
      "sigma_e: 192.78 km/s\n",
      "theta_E: 0.797 arcsec\n"
     ]
    },
    {
     "name": "stdout",
     "output_type": "stream",
     "text": [
      "jam_axi_proj(align='sph', moment='zz') -- elapsed time sec: 0.94\n",
      "analytic_los=0 logistic=0 constant_anisotropy=1\n",
      "No PSF/pixel convolution because sigmapsf=0 pixsize=0\n",
      "inc=87.9; beta[0]=0.0; kappa=1.00; M/L=1.00; BH=0.0; chi2/DOF=nan\n",
      "Total mass MGE (MSun): 3.649e+13\n",
      "\n",
      "sigma_e: 192.85 km/s\n",
      "theta_E: 0.938 arcsec\n"
     ]
    },
    {
     "name": "stdout",
     "output_type": "stream",
     "text": [
      "jam_axi_proj(align='sph', moment='zz') -- elapsed time sec: 0.85\n",
      "analytic_los=0 logistic=0 constant_anisotropy=1\n",
      "No PSF/pixel convolution because sigmapsf=0 pixsize=0\n",
      "inc=29.3; beta[0]=0.0; kappa=1.00; M/L=1.00; BH=0.0; chi2/DOF=nan\n",
      "Total mass MGE (MSun): 3.649e+13\n",
      "\n",
      "sigma_e: 214.35 km/s\n",
      "theta_E: 0.797 arcsec\n"
     ]
    },
    {
     "name": "stdout",
     "output_type": "stream",
     "text": [
      "jam_axi_proj(align='sph', moment='zz') -- elapsed time sec: 0.94\n",
      "analytic_los=0 logistic=0 constant_anisotropy=1\n",
      "No PSF/pixel convolution because sigmapsf=0 pixsize=0\n",
      "inc=86.7; beta[0]=0.0; kappa=1.00; M/L=1.00; BH=0.0; chi2/DOF=nan\n",
      "Total mass MGE (MSun): 3.649e+13\n",
      "\n",
      "sigma_e: 192.96 km/s\n",
      "theta_E: 0.872 arcsec\n"
     ]
    },
    {
     "name": "stdout",
     "output_type": "stream",
     "text": [
      "jam_axi_proj(align='sph', moment='zz') -- elapsed time sec: 0.92\n",
      "analytic_los=0 logistic=0 constant_anisotropy=1\n",
      "No PSF/pixel convolution because sigmapsf=0 pixsize=0\n",
      "inc=53.0; beta[0]=0.0; kappa=1.00; M/L=1.00; BH=0.0; chi2/DOF=nan\n",
      "Total mass MGE (MSun): 3.649e+13\n",
      "\n",
      "sigma_e: 206.82 km/s\n",
      "theta_E: 0.858 arcsec\n"
     ]
    },
    {
     "name": "stdout",
     "output_type": "stream",
     "text": [
      "jam_axi_proj(align='sph', moment='zz') -- elapsed time sec: 0.91\n",
      "analytic_los=0 logistic=0 constant_anisotropy=1\n",
      "No PSF/pixel convolution because sigmapsf=0 pixsize=0\n",
      "inc=57.6; beta[0]=0.0; kappa=1.00; M/L=1.00; BH=0.0; chi2/DOF=nan\n",
      "Total mass MGE (MSun): 3.649e+13\n",
      "\n",
      "sigma_e: 204.72 km/s\n",
      "theta_E: 0.934 arcsec\n"
     ]
    },
    {
     "name": "stdout",
     "output_type": "stream",
     "text": [
      "jam_axi_proj(align='sph', moment='zz') -- elapsed time sec: 0.88\n",
      "analytic_los=0 logistic=0 constant_anisotropy=1\n",
      "No PSF/pixel convolution because sigmapsf=0 pixsize=0\n",
      "inc=30.8; beta[0]=0.0; kappa=1.00; M/L=1.00; BH=0.0; chi2/DOF=nan\n",
      "Total mass MGE (MSun): 3.649e+13\n",
      "\n",
      "sigma_e: 214.04 km/s\n",
      "theta_E: 0.864 arcsec\n"
     ]
    },
    {
     "name": "stdout",
     "output_type": "stream",
     "text": [
      "jam_axi_proj(align='sph', moment='zz') -- elapsed time sec: 0.91\n",
      "analytic_los=0 logistic=0 constant_anisotropy=1\n",
      "No PSF/pixel convolution because sigmapsf=0 pixsize=0\n",
      "inc=55.7; beta[0]=0.0; kappa=1.00; M/L=1.00; BH=0.0; chi2/DOF=nan\n",
      "Total mass MGE (MSun): 3.649e+13\n",
      "\n",
      "sigma_e: 205.61 km/s\n",
      "theta_E: 0.796 arcsec\n"
     ]
    },
    {
     "name": "stdout",
     "output_type": "stream",
     "text": [
      "jam_axi_proj(align='sph', moment='zz') -- elapsed time sec: 0.93\n",
      "analytic_los=0 logistic=0 constant_anisotropy=1\n",
      "No PSF/pixel convolution because sigmapsf=0 pixsize=0\n",
      "inc=89.3; beta[0]=0.0; kappa=1.00; M/L=1.00; BH=0.0; chi2/DOF=nan\n",
      "Total mass MGE (MSun): 3.649e+13\n",
      "\n",
      "sigma_e: 192.77 km/s\n",
      "theta_E: 0.859 arcsec\n"
     ]
    },
    {
     "name": "stdout",
     "output_type": "stream",
     "text": [
      "jam_axi_proj(align='sph', moment='zz') -- elapsed time sec: 0.91\n",
      "analytic_los=0 logistic=0 constant_anisotropy=1\n",
      "No PSF/pixel convolution because sigmapsf=0 pixsize=0\n",
      "inc=57.3; beta[0]=0.0; kappa=1.00; M/L=1.00; BH=0.0; chi2/DOF=nan\n",
      "Total mass MGE (MSun): 3.649e+13\n",
      "\n",
      "sigma_e: 204.83 km/s\n"
     ]
    },
    {
     "name": "stdout",
     "output_type": "stream",
     "text": [
      "theta_E: 0.636 arcsec\n"
     ]
    },
    {
     "name": "stdout",
     "output_type": "stream",
     "text": [
      "jam_axi_proj(align='sph', moment='zz') -- elapsed time sec: 0.92\n",
      "analytic_los=0 logistic=0 constant_anisotropy=1\n",
      "No PSF/pixel convolution because sigmapsf=0 pixsize=0\n",
      "inc=63.2; beta[0]=0.0; kappa=1.00; M/L=1.00; BH=0.0; chi2/DOF=nan\n",
      "Total mass MGE (MSun): 2.089e+13\n",
      "\n",
      "sigma_e: 174.94 km/s\n",
      "theta_E: 0.626 arcsec\n"
     ]
    },
    {
     "name": "stdout",
     "output_type": "stream",
     "text": [
      "jam_axi_proj(align='sph', moment='zz') -- elapsed time sec: 0.97\n",
      "analytic_los=0 logistic=0 constant_anisotropy=1\n",
      "No PSF/pixel convolution because sigmapsf=0 pixsize=0\n",
      "inc=67.4; beta[0]=0.0; kappa=1.00; M/L=1.00; BH=0.0; chi2/DOF=nan\n",
      "Total mass MGE (MSun): 2.089e+13\n",
      "\n",
      "sigma_e: 172.82 km/s\n",
      "theta_E: 0.688 arcsec\n"
     ]
    },
    {
     "name": "stdout",
     "output_type": "stream",
     "text": [
      "jam_axi_proj(align='sph', moment='zz') -- elapsed time sec: 0.90\n",
      "analytic_los=0 logistic=0 constant_anisotropy=1\n",
      "No PSF/pixel convolution because sigmapsf=0 pixsize=0\n",
      "inc=42.5; beta[0]=0.0; kappa=1.00; M/L=1.00; BH=0.0; chi2/DOF=nan\n",
      "Total mass MGE (MSun): 2.089e+13\n",
      "\n",
      "sigma_e: 183.65 km/s\n",
      "theta_E: 0.603 arcsec\n"
     ]
    },
    {
     "name": "stdout",
     "output_type": "stream",
     "text": [
      "jam_axi_proj(align='sph', moment='zz') -- elapsed time sec: 0.96\n",
      "analytic_los=0 logistic=0 constant_anisotropy=1\n",
      "No PSF/pixel convolution because sigmapsf=0 pixsize=0\n",
      "inc=80.3; beta[0]=0.0; kappa=1.00; M/L=1.00; BH=0.0; chi2/DOF=nan\n",
      "Total mass MGE (MSun): 2.089e+13\n",
      "\n",
      "sigma_e: 167.29 km/s\n",
      "theta_E: 0.598 arcsec\n"
     ]
    },
    {
     "name": "stdout",
     "output_type": "stream",
     "text": [
      "jam_axi_proj(align='sph', moment='zz') -- elapsed time sec: 0.98\n",
      "analytic_los=0 logistic=0 constant_anisotropy=1\n",
      "No PSF/pixel convolution because sigmapsf=0 pixsize=0\n",
      "inc=87.0; beta[0]=0.0; kappa=1.00; M/L=1.00; BH=0.0; chi2/DOF=nan\n",
      "Total mass MGE (MSun): 2.089e+13\n",
      "\n",
      "sigma_e: 165.84 km/s\n",
      "theta_E: 0.597 arcsec\n"
     ]
    },
    {
     "name": "stdout",
     "output_type": "stream",
     "text": [
      "jam_axi_proj(align='sph', moment='zz') -- elapsed time sec: 0.98\n",
      "analytic_los=0 logistic=0 constant_anisotropy=1\n",
      "No PSF/pixel convolution because sigmapsf=0 pixsize=0\n",
      "inc=89.0; beta[0]=0.0; kappa=1.00; M/L=1.00; BH=0.0; chi2/DOF=nan\n",
      "Total mass MGE (MSun): 2.089e+13\n",
      "\n",
      "sigma_e: 165.70 km/s\n",
      "theta_E: 0.652 arcsec\n"
     ]
    },
    {
     "name": "stdout",
     "output_type": "stream",
     "text": [
      "jam_axi_proj(align='sph', moment='zz') -- elapsed time sec: 0.91\n",
      "analytic_los=0 logistic=0 constant_anisotropy=1\n",
      "No PSF/pixel convolution because sigmapsf=0 pixsize=0\n",
      "inc=56.8; beta[0]=0.0; kappa=1.00; M/L=1.00; BH=0.0; chi2/DOF=nan\n",
      "Total mass MGE (MSun): 2.089e+13\n",
      "\n",
      "sigma_e: 178.03 km/s\n",
      "theta_E: 0.604 arcsec\n"
     ]
    },
    {
     "name": "stdout",
     "output_type": "stream",
     "text": [
      "jam_axi_proj(align='sph', moment='zz') -- elapsed time sec: 0.96\n",
      "analytic_los=0 logistic=0 constant_anisotropy=1\n",
      "No PSF/pixel convolution because sigmapsf=0 pixsize=0\n",
      "inc=79.6; beta[0]=0.0; kappa=1.00; M/L=1.00; BH=0.0; chi2/DOF=nan\n",
      "Total mass MGE (MSun): 2.089e+13\n",
      "\n",
      "sigma_e: 167.53 km/s\n",
      "theta_E: 0.651 arcsec\n"
     ]
    },
    {
     "name": "stdout",
     "output_type": "stream",
     "text": [
      "jam_axi_proj(align='sph', moment='zz') -- elapsed time sec: 0.91\n",
      "analytic_los=0 logistic=0 constant_anisotropy=1\n",
      "No PSF/pixel convolution because sigmapsf=0 pixsize=0\n",
      "inc=57.1; beta[0]=0.0; kappa=1.00; M/L=1.00; BH=0.0; chi2/DOF=nan\n",
      "Total mass MGE (MSun): 2.089e+13\n",
      "\n",
      "sigma_e: 177.91 km/s\n",
      "theta_E: 0.624 arcsec\n"
     ]
    },
    {
     "name": "stdout",
     "output_type": "stream",
     "text": [
      "jam_axi_proj(align='sph', moment='zz') -- elapsed time sec: 0.97\n",
      "analytic_los=0 logistic=0 constant_anisotropy=1\n",
      "No PSF/pixel convolution because sigmapsf=0 pixsize=0\n",
      "inc=68.2; beta[0]=0.0; kappa=1.00; M/L=1.00; BH=0.0; chi2/DOF=nan\n",
      "Total mass MGE (MSun): 2.089e+13\n",
      "\n",
      "sigma_e: 172.45 km/s\n"
     ]
    },
    {
     "name": "stdout",
     "output_type": "stream",
     "text": [
      "theta_E: 0.435 arcsec\n"
     ]
    },
    {
     "name": "stdout",
     "output_type": "stream",
     "text": [
      "jam_axi_proj(align='sph', moment='zz') -- elapsed time sec: 0.92\n",
      "analytic_los=0 logistic=0 constant_anisotropy=1\n",
      "No PSF/pixel convolution because sigmapsf=0 pixsize=0\n",
      "inc=66.7; beta[0]=0.0; kappa=1.00; M/L=1.00; BH=0.0; chi2/DOF=nan\n",
      "Total mass MGE (MSun): 1.010e+13\n",
      "\n",
      "sigma_e: 145.25 km/s\n",
      "theta_E: 0.464 arcsec\n"
     ]
    },
    {
     "name": "stdout",
     "output_type": "stream",
     "text": [
      "jam_axi_proj(align='sph', moment='zz') -- elapsed time sec: 0.91\n",
      "analytic_los=0 logistic=0 constant_anisotropy=1\n",
      "No PSF/pixel convolution because sigmapsf=0 pixsize=0\n",
      "inc=47.8; beta[0]=0.0; kappa=1.00; M/L=1.00; BH=0.0; chi2/DOF=nan\n",
      "Total mass MGE (MSun): 1.010e+13\n",
      "\n",
      "sigma_e: 151.54 km/s\n",
      "theta_E: 0.489 arcsec\n"
     ]
    },
    {
     "name": "stdout",
     "output_type": "stream",
     "text": [
      "jam_axi_proj(align='sph', moment='zz') -- elapsed time sec: 0.85\n",
      "analytic_los=0 logistic=0 constant_anisotropy=1\n",
      "No PSF/pixel convolution because sigmapsf=0 pixsize=0\n",
      "inc=30.5; beta[0]=0.0; kappa=1.00; M/L=1.00; BH=0.0; chi2/DOF=nan\n",
      "Total mass MGE (MSun): 1.010e+13\n",
      "\n",
      "sigma_e: 155.26 km/s\n",
      "theta_E: 0.421 arcsec\n"
     ]
    },
    {
     "name": "stdout",
     "output_type": "stream",
     "text": [
      "jam_axi_proj(align='sph', moment='zz') -- elapsed time sec: 0.95\n",
      "analytic_los=0 logistic=0 constant_anisotropy=1\n",
      "No PSF/pixel convolution because sigmapsf=0 pixsize=0\n",
      "inc=78.1; beta[0]=0.0; kappa=1.00; M/L=1.00; BH=0.0; chi2/DOF=nan\n",
      "Total mass MGE (MSun): 1.010e+13\n",
      "\n",
      "sigma_e: 141.57 km/s\n",
      "theta_E: 0.449 arcsec\n"
     ]
    },
    {
     "name": "stdout",
     "output_type": "stream",
     "text": [
      "jam_axi_proj(align='sph', moment='zz') -- elapsed time sec: 0.92\n",
      "analytic_los=0 logistic=0 constant_anisotropy=1\n",
      "No PSF/pixel convolution because sigmapsf=0 pixsize=0\n",
      "inc=57.2; beta[0]=0.0; kappa=1.00; M/L=1.00; BH=0.0; chi2/DOF=nan\n",
      "Total mass MGE (MSun): 1.010e+13\n",
      "\n",
      "sigma_e: 148.61 km/s\n",
      "theta_E: 0.425 arcsec\n"
     ]
    },
    {
     "name": "stdout",
     "output_type": "stream",
     "text": [
      "jam_axi_proj(align='sph', moment='zz') -- elapsed time sec: 0.95\n",
      "analytic_los=0 logistic=0 constant_anisotropy=1\n",
      "No PSF/pixel convolution because sigmapsf=0 pixsize=0\n",
      "inc=74.4; beta[0]=0.0; kappa=1.00; M/L=1.00; BH=0.0; chi2/DOF=nan\n",
      "Total mass MGE (MSun): 1.010e+13\n",
      "\n",
      "sigma_e: 142.66 km/s\n",
      "theta_E: 0.504 arcsec\n"
     ]
    },
    {
     "name": "stdout",
     "output_type": "stream",
     "text": [
      "jam_axi_proj(align='sph', moment='zz') -- elapsed time sec: 0.82\n",
      "analytic_los=0 logistic=0 constant_anisotropy=1\n",
      "No PSF/pixel convolution because sigmapsf=0 pixsize=0\n",
      "inc=13.8; beta[0]=0.0; kappa=1.00; M/L=1.00; BH=0.0; chi2/DOF=nan\n",
      "Total mass MGE (MSun): 1.010e+13\n",
      "\n",
      "sigma_e: 157.03 km/s\n",
      "theta_E: 0.417 arcsec\n"
     ]
    },
    {
     "name": "stdout",
     "output_type": "stream",
     "text": [
      "jam_axi_proj(align='sph', moment='zz') -- elapsed time sec: 0.94\n",
      "analytic_los=0 logistic=0 constant_anisotropy=1\n",
      "No PSF/pixel convolution because sigmapsf=0 pixsize=0\n",
      "inc=84.8; beta[0]=0.0; kappa=1.00; M/L=1.00; BH=0.0; chi2/DOF=nan\n",
      "Total mass MGE (MSun): 1.010e+13\n",
      "\n",
      "sigma_e: 140.26 km/s\n",
      "theta_E: 0.444 arcsec\n"
     ]
    },
    {
     "name": "stdout",
     "output_type": "stream",
     "text": [
      "jam_axi_proj(align='sph', moment='zz') -- elapsed time sec: 0.92\n",
      "analytic_los=0 logistic=0 constant_anisotropy=1\n",
      "No PSF/pixel convolution because sigmapsf=0 pixsize=0\n",
      "inc=60.3; beta[0]=0.0; kappa=1.00; M/L=1.00; BH=0.0; chi2/DOF=nan\n",
      "Total mass MGE (MSun): 1.010e+13\n",
      "\n",
      "sigma_e: 147.55 km/s\n",
      "theta_E: 0.418 arcsec\n"
     ]
    },
    {
     "name": "stdout",
     "output_type": "stream",
     "text": [
      "jam_axi_proj(align='sph', moment='zz') -- elapsed time sec: 0.97\n",
      "analytic_los=0 logistic=0 constant_anisotropy=1\n",
      "No PSF/pixel convolution because sigmapsf=0 pixsize=0\n",
      "inc=82.1; beta[0]=0.0; kappa=1.00; M/L=1.00; BH=0.0; chi2/DOF=nan\n",
      "Total mass MGE (MSun): 1.010e+13\n",
      "\n",
      "sigma_e: 140.69 km/s\n"
     ]
    },
    {
     "name": "stdout",
     "output_type": "stream",
     "text": [
      "theta_E: 0.432 arcsec\n"
     ]
    },
    {
     "name": "stdout",
     "output_type": "stream",
     "text": [
      "jam_axi_proj(align='sph', moment='zz') -- elapsed time sec: 0.97\n",
      "analytic_los=0 logistic=0 constant_anisotropy=1\n",
      "No PSF/pixel convolution because sigmapsf=0 pixsize=0\n",
      "inc=87.9; beta[0]=0.0; kappa=1.00; M/L=1.00; BH=0.0; chi2/DOF=nan\n",
      "Total mass MGE (MSun): 1.107e+13\n",
      "\n",
      "sigma_e: 141.32 km/s\n",
      "theta_E: 0.529 arcsec\n"
     ]
    },
    {
     "name": "stdout",
     "output_type": "stream",
     "text": [
      "jam_axi_proj(align='sph', moment='zz') -- elapsed time sec: 0.90\n",
      "analytic_los=0 logistic=0 constant_anisotropy=1\n",
      "No PSF/pixel convolution because sigmapsf=0 pixsize=0\n",
      "inc=24.2; beta[0]=0.0; kappa=1.00; M/L=1.00; BH=0.0; chi2/DOF=nan\n",
      "Total mass MGE (MSun): 1.107e+13\n",
      "\n",
      "sigma_e: 161.30 km/s\n",
      "theta_E: 0.527 arcsec\n"
     ]
    },
    {
     "name": "stdout",
     "output_type": "stream",
     "text": [
      "jam_axi_proj(align='sph', moment='zz') -- elapsed time sec: 0.87\n",
      "analytic_los=0 logistic=0 constant_anisotropy=1\n",
      "No PSF/pixel convolution because sigmapsf=0 pixsize=0\n",
      "inc=26.2; beta[0]=0.0; kappa=1.00; M/L=1.00; BH=0.0; chi2/DOF=nan\n",
      "Total mass MGE (MSun): 1.107e+13\n",
      "\n",
      "sigma_e: 161.02 km/s\n",
      "theta_E: 0.524 arcsec\n"
     ]
    },
    {
     "name": "stdout",
     "output_type": "stream",
     "text": [
      "jam_axi_proj(align='sph', moment='zz') -- elapsed time sec: 0.88\n",
      "analytic_los=0 logistic=0 constant_anisotropy=1\n",
      "No PSF/pixel convolution because sigmapsf=0 pixsize=0\n",
      "inc=28.7; beta[0]=0.0; kappa=1.00; M/L=1.00; BH=0.0; chi2/DOF=nan\n",
      "Total mass MGE (MSun): 1.107e+13\n",
      "\n",
      "sigma_e: 160.66 km/s\n",
      "theta_E: 0.490 arcsec\n"
     ]
    },
    {
     "name": "stdout",
     "output_type": "stream",
     "text": [
      "jam_axi_proj(align='sph', moment='zz') -- elapsed time sec: 0.94\n",
      "analytic_los=0 logistic=0 constant_anisotropy=1\n",
      "No PSF/pixel convolution because sigmapsf=0 pixsize=0\n",
      "inc=48.6; beta[0]=0.0; kappa=1.00; M/L=1.00; BH=0.0; chi2/DOF=nan\n",
      "Total mass MGE (MSun): 1.107e+13\n",
      "\n",
      "sigma_e: 155.79 km/s\n",
      "theta_E: 0.492 arcsec\n"
     ]
    },
    {
     "name": "stdout",
     "output_type": "stream",
     "text": [
      "jam_axi_proj(align='sph', moment='zz') -- elapsed time sec: 0.92\n",
      "analytic_los=0 logistic=0 constant_anisotropy=1\n",
      "No PSF/pixel convolution because sigmapsf=0 pixsize=0\n",
      "inc=47.5; beta[0]=0.0; kappa=1.00; M/L=1.00; BH=0.0; chi2/DOF=nan\n",
      "Total mass MGE (MSun): 1.107e+13\n",
      "\n",
      "sigma_e: 156.14 km/s\n",
      "theta_E: 0.460 arcsec\n"
     ]
    },
    {
     "name": "stdout",
     "output_type": "stream",
     "text": [
      "jam_axi_proj(align='sph', moment='zz') -- elapsed time sec: 0.93\n",
      "analytic_los=0 logistic=0 constant_anisotropy=1\n",
      "No PSF/pixel convolution because sigmapsf=0 pixsize=0\n",
      "inc=64.3; beta[0]=0.0; kappa=1.00; M/L=1.00; BH=0.0; chi2/DOF=nan\n",
      "Total mass MGE (MSun): 1.107e+13\n",
      "\n",
      "sigma_e: 149.35 km/s\n",
      "theta_E: 0.439 arcsec\n"
     ]
    },
    {
     "name": "stdout",
     "output_type": "stream",
     "text": [
      "jam_axi_proj(align='sph', moment='zz') -- elapsed time sec: 0.96\n",
      "analytic_los=0 logistic=0 constant_anisotropy=1\n",
      "No PSF/pixel convolution because sigmapsf=0 pixsize=0\n",
      "inc=77.1; beta[0]=0.0; kappa=1.00; M/L=1.00; BH=0.0; chi2/DOF=nan\n",
      "Total mass MGE (MSun): 1.107e+13\n",
      "\n",
      "sigma_e: 143.83 km/s\n",
      "theta_E: 0.452 arcsec\n"
     ]
    },
    {
     "name": "stdout",
     "output_type": "stream",
     "text": [
      "jam_axi_proj(align='sph', moment='zz') -- elapsed time sec: 0.92\n",
      "analytic_los=0 logistic=0 constant_anisotropy=1\n",
      "No PSF/pixel convolution because sigmapsf=0 pixsize=0\n",
      "inc=68.4; beta[0]=0.0; kappa=1.00; M/L=1.00; BH=0.0; chi2/DOF=nan\n",
      "Total mass MGE (MSun): 1.107e+13\n",
      "\n",
      "sigma_e: 147.49 km/s\n",
      "theta_E: 0.442 arcsec\n"
     ]
    },
    {
     "name": "stdout",
     "output_type": "stream",
     "text": [
      "jam_axi_proj(align='sph', moment='zz') -- elapsed time sec: 0.94\n",
      "analytic_los=0 logistic=0 constant_anisotropy=1\n",
      "No PSF/pixel convolution because sigmapsf=0 pixsize=0\n",
      "inc=75.0; beta[0]=0.0; kappa=1.00; M/L=1.00; BH=0.0; chi2/DOF=nan\n",
      "Total mass MGE (MSun): 1.107e+13\n",
      "\n",
      "sigma_e: 144.62 km/s\n"
     ]
    },
    {
     "name": "stdout",
     "output_type": "stream",
     "text": [
      "theta_E: 0.658 arcsec\n"
     ]
    },
    {
     "name": "stdout",
     "output_type": "stream",
     "text": [
      "jam_axi_proj(align='sph', moment='zz') -- elapsed time sec: 0.95\n",
      "analytic_los=0 logistic=0 constant_anisotropy=1\n",
      "No PSF/pixel convolution because sigmapsf=0 pixsize=0\n",
      "inc=73.8; beta[0]=0.0; kappa=1.00; M/L=1.00; BH=0.0; chi2/DOF=nan\n",
      "Total mass MGE (MSun): 2.431e+13\n",
      "\n",
      "sigma_e: 175.72 km/s\n",
      "theta_E: 0.637 arcsec\n"
     ]
    },
    {
     "name": "stdout",
     "output_type": "stream",
     "text": [
      "jam_axi_proj(align='sph', moment='zz') -- elapsed time sec: 1.05\n",
      "analytic_los=0 logistic=0 constant_anisotropy=1\n",
      "No PSF/pixel convolution because sigmapsf=0 pixsize=0\n",
      "inc=88.2; beta[0]=0.0; kappa=1.00; M/L=1.00; BH=0.0; chi2/DOF=nan\n",
      "Total mass MGE (MSun): 2.431e+13\n",
      "\n",
      "sigma_e: 169.97 km/s\n",
      "theta_E: 0.713 arcsec\n"
     ]
    },
    {
     "name": "stdout",
     "output_type": "stream",
     "text": [
      "jam_axi_proj(align='sph', moment='zz') -- elapsed time sec: 0.92\n",
      "analytic_los=0 logistic=0 constant_anisotropy=1\n",
      "No PSF/pixel convolution because sigmapsf=0 pixsize=0\n",
      "inc=55.6; beta[0]=0.0; kappa=1.00; M/L=1.00; BH=0.0; chi2/DOF=nan\n",
      "Total mass MGE (MSun): 2.431e+13\n",
      "\n",
      "sigma_e: 187.23 km/s\n",
      "theta_E: 0.741 arcsec\n"
     ]
    },
    {
     "name": "stdout",
     "output_type": "stream",
     "text": [
      "jam_axi_proj(align='sph', moment='zz') -- elapsed time sec: 0.94\n",
      "analytic_los=0 logistic=0 constant_anisotropy=1\n",
      "No PSF/pixel convolution because sigmapsf=0 pixsize=0\n",
      "inc=46.9; beta[0]=0.0; kappa=1.00; M/L=1.00; BH=0.0; chi2/DOF=nan\n",
      "Total mass MGE (MSun): 2.431e+13\n",
      "\n",
      "sigma_e: 191.60 km/s\n",
      "theta_E: 0.819 arcsec\n"
     ]
    },
    {
     "name": "stdout",
     "output_type": "stream",
     "text": [
      "jam_axi_proj(align='sph', moment='zz') -- elapsed time sec: 0.85\n",
      "analytic_los=0 logistic=0 constant_anisotropy=1\n",
      "No PSF/pixel convolution because sigmapsf=0 pixsize=0\n",
      "inc=9.37; beta[0]=0.0; kappa=1.00; M/L=1.00; BH=0.0; chi2/DOF=nan\n",
      "Total mass MGE (MSun): 2.431e+13\n",
      "\n",
      "sigma_e: 199.88 km/s\n",
      "theta_E: 0.643 arcsec\n"
     ]
    },
    {
     "name": "stdout",
     "output_type": "stream",
     "text": [
      "jam_axi_proj(align='sph', moment='zz') -- elapsed time sec: 0.97\n",
      "analytic_los=0 logistic=0 constant_anisotropy=1\n",
      "No PSF/pixel convolution because sigmapsf=0 pixsize=0\n",
      "inc=81.2; beta[0]=0.0; kappa=1.00; M/L=1.00; BH=0.0; chi2/DOF=nan\n",
      "Total mass MGE (MSun): 2.431e+13\n",
      "\n",
      "sigma_e: 171.82 km/s\n",
      "theta_E: 0.769 arcsec\n"
     ]
    },
    {
     "name": "stdout",
     "output_type": "stream",
     "text": [
      "jam_axi_proj(align='sph', moment='zz') -- elapsed time sec: 0.93\n",
      "analytic_los=0 logistic=0 constant_anisotropy=1\n",
      "No PSF/pixel convolution because sigmapsf=0 pixsize=0\n",
      "inc=37.3; beta[0]=0.0; kappa=1.00; M/L=1.00; BH=0.0; chi2/DOF=nan\n",
      "Total mass MGE (MSun): 2.431e+13\n",
      "\n",
      "sigma_e: 195.15 km/s\n",
      "theta_E: 0.642 arcsec\n"
     ]
    },
    {
     "name": "stdout",
     "output_type": "stream",
     "text": [
      "jam_axi_proj(align='sph', moment='zz') -- elapsed time sec: 0.98\n",
      "analytic_los=0 logistic=0 constant_anisotropy=1\n",
      "No PSF/pixel convolution because sigmapsf=0 pixsize=0\n",
      "inc=82.3; beta[0]=0.0; kappa=1.00; M/L=1.00; BH=0.0; chi2/DOF=nan\n",
      "Total mass MGE (MSun): 2.431e+13\n",
      "\n",
      "sigma_e: 171.39 km/s\n",
      "theta_E: 0.642 arcsec\n"
     ]
    },
    {
     "name": "stdout",
     "output_type": "stream",
     "text": [
      "jam_axi_proj(align='sph', moment='zz') -- elapsed time sec: 0.97\n",
      "analytic_los=0 logistic=0 constant_anisotropy=1\n",
      "No PSF/pixel convolution because sigmapsf=0 pixsize=0\n",
      "inc=81.8; beta[0]=0.0; kappa=1.00; M/L=1.00; BH=0.0; chi2/DOF=nan\n",
      "Total mass MGE (MSun): 2.431e+13\n",
      "\n",
      "sigma_e: 171.59 km/s\n",
      "theta_E: 0.650 arcsec\n"
     ]
    },
    {
     "name": "stdout",
     "output_type": "stream",
     "text": [
      "jam_axi_proj(align='sph', moment='zz') -- elapsed time sec: 0.97\n",
      "analytic_los=0 logistic=0 constant_anisotropy=1\n",
      "No PSF/pixel convolution because sigmapsf=0 pixsize=0\n",
      "inc=77.1; beta[0]=0.0; kappa=1.00; M/L=1.00; BH=0.0; chi2/DOF=nan\n",
      "Total mass MGE (MSun): 2.431e+13\n",
      "\n",
      "sigma_e: 173.80 km/s\n"
     ]
    },
    {
     "name": "stdout",
     "output_type": "stream",
     "text": [
      "theta_E: 0.584 arcsec\n"
     ]
    },
    {
     "name": "stdout",
     "output_type": "stream",
     "text": [
      "jam_axi_proj(align='sph', moment='zz') -- elapsed time sec: 0.93\n",
      "analytic_los=0 logistic=0 constant_anisotropy=1\n",
      "No PSF/pixel convolution because sigmapsf=0 pixsize=0\n",
      "inc=58.7; beta[0]=0.0; kappa=1.00; M/L=1.00; BH=0.0; chi2/DOF=nan\n",
      "Total mass MGE (MSun): 1.678e+13\n",
      "\n",
      "sigma_e: 169.13 km/s\n",
      "theta_E: 0.574 arcsec\n"
     ]
    },
    {
     "name": "stdout",
     "output_type": "stream",
     "text": [
      "jam_axi_proj(align='sph', moment='zz') -- elapsed time sec: 0.95\n",
      "analytic_los=0 logistic=0 constant_anisotropy=1\n",
      "No PSF/pixel convolution because sigmapsf=0 pixsize=0\n",
      "inc=62.3; beta[0]=0.0; kappa=1.00; M/L=1.00; BH=0.0; chi2/DOF=nan\n",
      "Total mass MGE (MSun): 1.678e+13\n",
      "\n",
      "sigma_e: 167.02 km/s\n",
      "theta_E: 0.679 arcsec\n"
     ]
    },
    {
     "name": "stdout",
     "output_type": "stream",
     "text": [
      "jam_axi_proj(align='sph', moment='zz') -- elapsed time sec: 0.87\n",
      "analytic_los=0 logistic=0 constant_anisotropy=1\n",
      "No PSF/pixel convolution because sigmapsf=0 pixsize=0\n",
      "inc=15.0; beta[0]=0.0; kappa=1.00; M/L=1.00; BH=0.0; chi2/DOF=nan\n",
      "Total mass MGE (MSun): 1.678e+13\n",
      "\n",
      "sigma_e: 182.34 km/s\n",
      "theta_E: 0.682 arcsec\n"
     ]
    },
    {
     "name": "stdout",
     "output_type": "stream",
     "text": [
      "jam_axi_proj(align='sph', moment='zz') -- elapsed time sec: 0.88\n",
      "analytic_los=0 logistic=0 constant_anisotropy=1\n",
      "No PSF/pixel convolution because sigmapsf=0 pixsize=0\n",
      "inc=12.3; beta[0]=0.0; kappa=1.00; M/L=1.00; BH=0.0; chi2/DOF=nan\n",
      "Total mass MGE (MSun): 1.678e+13\n",
      "\n",
      "sigma_e: 182.58 km/s\n",
      "theta_E: 0.634 arcsec\n"
     ]
    },
    {
     "name": "stdout",
     "output_type": "stream",
     "text": [
      "jam_axi_proj(align='sph', moment='zz') -- elapsed time sec: 0.94\n",
      "analytic_los=0 logistic=0 constant_anisotropy=1\n",
      "No PSF/pixel convolution because sigmapsf=0 pixsize=0\n",
      "inc=40.3; beta[0]=0.0; kappa=1.00; M/L=1.00; BH=0.0; chi2/DOF=nan\n",
      "Total mass MGE (MSun): 1.678e+13\n",
      "\n",
      "sigma_e: 177.44 km/s\n",
      "theta_E: 0.629 arcsec\n"
     ]
    },
    {
     "name": "stdout",
     "output_type": "stream",
     "text": [
      "jam_axi_proj(align='sph', moment='zz') -- elapsed time sec: 0.94\n",
      "analytic_los=0 logistic=0 constant_anisotropy=1\n",
      "No PSF/pixel convolution because sigmapsf=0 pixsize=0\n",
      "inc=42.2; beta[0]=0.0; kappa=1.00; M/L=1.00; BH=0.0; chi2/DOF=nan\n",
      "Total mass MGE (MSun): 1.678e+13\n",
      "\n",
      "sigma_e: 176.79 km/s\n",
      "theta_E: 0.527 arcsec\n"
     ]
    },
    {
     "name": "stdout",
     "output_type": "stream",
     "text": [
      "jam_axi_proj(align='sph', moment='zz') -- elapsed time sec: 1.02\n",
      "analytic_los=0 logistic=0 constant_anisotropy=1\n",
      "No PSF/pixel convolution because sigmapsf=0 pixsize=0\n",
      "inc=87.0; beta[0]=0.0; kappa=1.00; M/L=1.00; BH=0.0; chi2/DOF=nan\n",
      "Total mass MGE (MSun): 1.678e+13\n",
      "\n",
      "sigma_e: 154.39 km/s\n",
      "theta_E: 0.617 arcsec\n"
     ]
    },
    {
     "name": "stdout",
     "output_type": "stream",
     "text": [
      "jam_axi_proj(align='sph', moment='zz') -- elapsed time sec: 0.94\n",
      "analytic_los=0 logistic=0 constant_anisotropy=1\n",
      "No PSF/pixel convolution because sigmapsf=0 pixsize=0\n",
      "inc=46.8; beta[0]=0.0; kappa=1.00; M/L=1.00; BH=0.0; chi2/DOF=nan\n",
      "Total mass MGE (MSun): 1.678e+13\n",
      "\n",
      "sigma_e: 175.04 km/s\n",
      "theta_E: 0.538 arcsec\n"
     ]
    },
    {
     "name": "stdout",
     "output_type": "stream",
     "text": [
      "jam_axi_proj(align='sph', moment='zz') -- elapsed time sec: 0.98\n",
      "analytic_los=0 logistic=0 constant_anisotropy=1\n",
      "No PSF/pixel convolution because sigmapsf=0 pixsize=0\n",
      "inc=77.1; beta[0]=0.0; kappa=1.00; M/L=1.00; BH=0.0; chi2/DOF=nan\n",
      "Total mass MGE (MSun): 1.678e+13\n",
      "\n",
      "sigma_e: 157.97 km/s\n",
      "theta_E: 0.538 arcsec\n"
     ]
    },
    {
     "name": "stdout",
     "output_type": "stream",
     "text": [
      "jam_axi_proj(align='sph', moment='zz') -- elapsed time sec: 0.98\n",
      "analytic_los=0 logistic=0 constant_anisotropy=1\n",
      "No PSF/pixel convolution because sigmapsf=0 pixsize=0\n",
      "inc=77.4; beta[0]=0.0; kappa=1.00; M/L=1.00; BH=0.0; chi2/DOF=nan\n",
      "Total mass MGE (MSun): 1.678e+13\n",
      "\n",
      "sigma_e: 157.81 km/s\n"
     ]
    },
    {
     "name": "stdout",
     "output_type": "stream",
     "text": [
      "theta_E: 0.836 arcsec\n"
     ]
    },
    {
     "name": "stdout",
     "output_type": "stream",
     "text": [
      "jam_axi_proj(align='sph', moment='zz') -- elapsed time sec: 0.97\n",
      "analytic_los=0 logistic=0 constant_anisotropy=1\n",
      "No PSF/pixel convolution because sigmapsf=0 pixsize=0\n",
      "inc=53.1; beta[0]=0.0; kappa=1.00; M/L=1.00; BH=0.0; chi2/DOF=nan\n",
      "Total mass MGE (MSun): 3.330e+13\n",
      "\n",
      "sigma_e: 202.74 km/s\n",
      "theta_E: 0.883 arcsec\n"
     ]
    },
    {
     "name": "stdout",
     "output_type": "stream",
     "text": [
      "jam_axi_proj(align='sph', moment='zz') -- elapsed time sec: 1.01\n",
      "analytic_los=0 logistic=0 constant_anisotropy=1\n",
      "No PSF/pixel convolution because sigmapsf=0 pixsize=0\n",
      "inc=37.3; beta[0]=0.0; kappa=1.00; M/L=1.00; BH=0.0; chi2/DOF=nan\n",
      "Total mass MGE (MSun): 3.330e+13\n",
      "\n",
      "sigma_e: 208.64 km/s\n",
      "theta_E: 0.792 arcsec\n"
     ]
    },
    {
     "name": "stdout",
     "output_type": "stream",
     "text": [
      "jam_axi_proj(align='sph', moment='zz') -- elapsed time sec: 0.96\n",
      "analytic_los=0 logistic=0 constant_anisotropy=1\n",
      "No PSF/pixel convolution because sigmapsf=0 pixsize=0\n",
      "inc=67.5; beta[0]=0.0; kappa=1.00; M/L=1.00; BH=0.0; chi2/DOF=nan\n",
      "Total mass MGE (MSun): 3.330e+13\n",
      "\n",
      "sigma_e: 195.33 km/s\n",
      "theta_E: 0.811 arcsec\n"
     ]
    },
    {
     "name": "stdout",
     "output_type": "stream",
     "text": [
      "jam_axi_proj(align='sph', moment='zz') -- elapsed time sec: 0.95\n",
      "analytic_los=0 logistic=0 constant_anisotropy=1\n",
      "No PSF/pixel convolution because sigmapsf=0 pixsize=0\n",
      "inc=60.9; beta[0]=0.0; kappa=1.00; M/L=1.00; BH=0.0; chi2/DOF=nan\n",
      "Total mass MGE (MSun): 3.330e+13\n",
      "\n",
      "sigma_e: 198.84 km/s\n",
      "theta_E: 0.851 arcsec\n"
     ]
    },
    {
     "name": "stdout",
     "output_type": "stream",
     "text": [
      "jam_axi_proj(align='sph', moment='zz') -- elapsed time sec: 0.92\n",
      "analytic_los=0 logistic=0 constant_anisotropy=1\n",
      "No PSF/pixel convolution because sigmapsf=0 pixsize=0\n",
      "inc=48.1; beta[0]=0.0; kappa=1.00; M/L=1.00; BH=0.0; chi2/DOF=nan\n",
      "Total mass MGE (MSun): 3.330e+13\n",
      "\n",
      "sigma_e: 204.93 km/s\n",
      "theta_E: 0.759 arcsec\n"
     ]
    },
    {
     "name": "stdout",
     "output_type": "stream",
     "text": [
      "jam_axi_proj(align='sph', moment='zz') -- elapsed time sec: 0.98\n",
      "analytic_los=0 logistic=0 constant_anisotropy=1\n",
      "No PSF/pixel convolution because sigmapsf=0 pixsize=0\n",
      "inc=84.8; beta[0]=0.0; kappa=1.00; M/L=1.00; BH=0.0; chi2/DOF=nan\n",
      "Total mass MGE (MSun): 3.330e+13\n",
      "\n",
      "sigma_e: 188.11 km/s\n",
      "theta_E: 0.844 arcsec\n"
     ]
    },
    {
     "name": "stdout",
     "output_type": "stream",
     "text": [
      "jam_axi_proj(align='sph', moment='zz') -- elapsed time sec: 0.92\n",
      "analytic_los=0 logistic=0 constant_anisotropy=1\n",
      "No PSF/pixel convolution because sigmapsf=0 pixsize=0\n",
      "inc=50.5; beta[0]=0.0; kappa=1.00; M/L=1.00; BH=0.0; chi2/DOF=nan\n",
      "Total mass MGE (MSun): 3.330e+13\n",
      "\n",
      "sigma_e: 203.93 km/s\n",
      "theta_E: 0.769 arcsec\n"
     ]
    },
    {
     "name": "stdout",
     "output_type": "stream",
     "text": [
      "jam_axi_proj(align='sph', moment='zz') -- elapsed time sec: 0.95\n",
      "analytic_los=0 logistic=0 constant_anisotropy=1\n",
      "No PSF/pixel convolution because sigmapsf=0 pixsize=0\n",
      "inc=77.4; beta[0]=0.0; kappa=1.00; M/L=1.00; BH=0.0; chi2/DOF=nan\n",
      "Total mass MGE (MSun): 3.330e+13\n",
      "\n",
      "sigma_e: 190.47 km/s\n",
      "theta_E: 0.802 arcsec\n"
     ]
    },
    {
     "name": "stdout",
     "output_type": "stream",
     "text": [
      "jam_axi_proj(align='sph', moment='zz') -- elapsed time sec: 0.94\n",
      "analytic_los=0 logistic=0 constant_anisotropy=1\n",
      "No PSF/pixel convolution because sigmapsf=0 pixsize=0\n",
      "inc=63.9; beta[0]=0.0; kappa=1.00; M/L=1.00; BH=0.0; chi2/DOF=nan\n",
      "Total mass MGE (MSun): 3.330e+13\n",
      "\n",
      "sigma_e: 197.26 km/s\n",
      "theta_E: 0.855 arcsec\n"
     ]
    },
    {
     "name": "stdout",
     "output_type": "stream",
     "text": [
      "jam_axi_proj(align='sph', moment='zz') -- elapsed time sec: 0.92\n",
      "analytic_los=0 logistic=0 constant_anisotropy=1\n",
      "No PSF/pixel convolution because sigmapsf=0 pixsize=0\n",
      "inc=46.8; beta[0]=0.0; kappa=1.00; M/L=1.00; BH=0.0; chi2/DOF=nan\n",
      "Total mass MGE (MSun): 3.330e+13\n",
      "\n",
      "sigma_e: 205.42 km/s\n"
     ]
    },
    {
     "name": "stdout",
     "output_type": "stream",
     "text": [
      "theta_E: 0.950 arcsec\n"
     ]
    },
    {
     "name": "stdout",
     "output_type": "stream",
     "text": [
      "jam_axi_proj(align='sph', moment='zz') -- elapsed time sec: 0.92\n",
      "analytic_los=0 logistic=0 constant_anisotropy=1\n",
      "No PSF/pixel convolution because sigmapsf=0 pixsize=0\n",
      "inc=22.2; beta[0]=0.0; kappa=1.00; M/L=1.00; BH=0.0; chi2/DOF=nan\n",
      "Total mass MGE (MSun): 3.319e+13\n",
      "\n",
      "sigma_e: 215.97 km/s\n",
      "theta_E: 0.763 arcsec\n"
     ]
    },
    {
     "name": "stdout",
     "output_type": "stream",
     "text": [
      "jam_axi_proj(align='sph', moment='zz') -- elapsed time sec: 1.00\n",
      "analytic_los=0 logistic=0 constant_anisotropy=1\n",
      "No PSF/pixel convolution because sigmapsf=0 pixsize=0\n",
      "inc=75.4; beta[0]=0.0; kappa=1.00; M/L=1.00; BH=0.0; chi2/DOF=nan\n",
      "Total mass MGE (MSun): 3.319e+13\n",
      "\n",
      "sigma_e: 188.19 km/s\n",
      "theta_E: 0.970 arcsec\n"
     ]
    },
    {
     "name": "stdout",
     "output_type": "stream",
     "text": [
      "jam_axi_proj(align='sph', moment='zz') -- elapsed time sec: 0.89\n",
      "analytic_los=0 logistic=0 constant_anisotropy=1\n",
      "No PSF/pixel convolution because sigmapsf=0 pixsize=0\n",
      "inc=8.32; beta[0]=0.0; kappa=1.00; M/L=1.00; BH=0.0; chi2/DOF=nan\n",
      "Total mass MGE (MSun): 3.319e+13\n",
      "\n",
      "sigma_e: 217.52 km/s\n",
      "theta_E: 0.868 arcsec\n"
     ]
    },
    {
     "name": "stdout",
     "output_type": "stream",
     "text": [
      "jam_axi_proj(align='sph', moment='zz') -- elapsed time sec: 0.96\n",
      "analytic_los=0 logistic=0 constant_anisotropy=1\n",
      "No PSF/pixel convolution because sigmapsf=0 pixsize=0\n",
      "inc=48.1; beta[0]=0.0; kappa=1.00; M/L=1.00; BH=0.0; chi2/DOF=nan\n",
      "Total mass MGE (MSun): 3.319e+13\n",
      "\n",
      "sigma_e: 207.47 km/s\n",
      "theta_E: 0.741 arcsec\n"
     ]
    },
    {
     "name": "stdout",
     "output_type": "stream",
     "text": [
      "jam_axi_proj(align='sph', moment='zz') -- elapsed time sec: 1.04\n",
      "analytic_los=0 logistic=0 constant_anisotropy=1\n",
      "No PSF/pixel convolution because sigmapsf=0 pixsize=0\n",
      "inc=88.9; beta[0]=0.0; kappa=1.00; M/L=1.00; BH=0.0; chi2/DOF=nan\n",
      "Total mass MGE (MSun): 3.319e+13\n",
      "\n",
      "sigma_e: 182.30 km/s\n",
      "theta_E: 0.788 arcsec\n"
     ]
    },
    {
     "name": "stdout",
     "output_type": "stream",
     "text": [
      "jam_axi_proj(align='sph', moment='zz') -- elapsed time sec: 1.01\n",
      "analytic_los=0 logistic=0 constant_anisotropy=1\n",
      "No PSF/pixel convolution because sigmapsf=0 pixsize=0\n",
      "inc=67.9; beta[0]=0.0; kappa=1.00; M/L=1.00; BH=0.0; chi2/DOF=nan\n",
      "Total mass MGE (MSun): 3.319e+13\n",
      "\n",
      "sigma_e: 193.93 km/s\n",
      "theta_E: 0.962 arcsec\n"
     ]
    },
    {
     "name": "stdout",
     "output_type": "stream",
     "text": [
      "jam_axi_proj(align='sph', moment='zz') -- elapsed time sec: 0.90\n",
      "analytic_los=0 logistic=0 constant_anisotropy=1\n",
      "No PSF/pixel convolution because sigmapsf=0 pixsize=0\n",
      "inc=15.5; beta[0]=0.0; kappa=1.00; M/L=1.00; BH=0.0; chi2/DOF=nan\n",
      "Total mass MGE (MSun): 3.319e+13\n",
      "\n",
      "sigma_e: 216.90 km/s\n",
      "theta_E: 0.751 arcsec\n"
     ]
    },
    {
     "name": "stdout",
     "output_type": "stream",
     "text": [
      "jam_axi_proj(align='sph', moment='zz') -- elapsed time sec: 0.99\n",
      "analytic_los=0 logistic=0 constant_anisotropy=1\n",
      "No PSF/pixel convolution because sigmapsf=0 pixsize=0\n",
      "inc=80.2; beta[0]=0.0; kappa=1.00; M/L=1.00; BH=0.0; chi2/DOF=nan\n",
      "Total mass MGE (MSun): 3.319e+13\n",
      "\n",
      "sigma_e: 185.13 km/s\n",
      "theta_E: 0.961 arcsec\n"
     ]
    },
    {
     "name": "stdout",
     "output_type": "stream",
     "text": [
      "jam_axi_proj(align='sph', moment='zz') -- elapsed time sec: 0.90\n",
      "analytic_los=0 logistic=0 constant_anisotropy=1\n",
      "No PSF/pixel convolution because sigmapsf=0 pixsize=0\n",
      "inc=15.8; beta[0]=0.0; kappa=1.00; M/L=1.00; BH=0.0; chi2/DOF=nan\n",
      "Total mass MGE (MSun): 3.319e+13\n",
      "\n",
      "sigma_e: 216.85 km/s\n",
      "theta_E: 0.763 arcsec\n"
     ]
    },
    {
     "name": "stdout",
     "output_type": "stream",
     "text": [
      "jam_axi_proj(align='sph', moment='zz') -- elapsed time sec: 0.98\n",
      "analytic_los=0 logistic=0 constant_anisotropy=1\n",
      "No PSF/pixel convolution because sigmapsf=0 pixsize=0\n",
      "inc=75.3; beta[0]=0.0; kappa=1.00; M/L=1.00; BH=0.0; chi2/DOF=nan\n",
      "Total mass MGE (MSun): 3.319e+13\n",
      "\n",
      "sigma_e: 188.28 km/s\n"
     ]
    },
    {
     "name": "stdout",
     "output_type": "stream",
     "text": [
      "theta_E: 0.746 arcsec\n"
     ]
    },
    {
     "name": "stdout",
     "output_type": "stream",
     "text": [
      "jam_axi_proj(align='sph', moment='zz') -- elapsed time sec: 0.89\n",
      "analytic_los=0 logistic=0 constant_anisotropy=1\n",
      "No PSF/pixel convolution because sigmapsf=0 pixsize=0\n",
      "inc=30.6; beta[0]=0.0; kappa=1.00; M/L=1.00; BH=0.0; chi2/DOF=nan\n",
      "Total mass MGE (MSun): 2.145e+13\n",
      "\n",
      "sigma_e: 191.94 km/s\n",
      "theta_E: 0.624 arcsec\n"
     ]
    },
    {
     "name": "stdout",
     "output_type": "stream",
     "text": [
      "jam_axi_proj(align='sph', moment='zz') -- elapsed time sec: 0.98\n",
      "analytic_los=0 logistic=0 constant_anisotropy=1\n",
      "No PSF/pixel convolution because sigmapsf=0 pixsize=0\n",
      "inc=70.9; beta[0]=0.0; kappa=1.00; M/L=1.00; BH=0.0; chi2/DOF=nan\n",
      "Total mass MGE (MSun): 2.145e+13\n",
      "\n",
      "sigma_e: 171.32 km/s\n",
      "theta_E: 0.697 arcsec\n"
     ]
    },
    {
     "name": "stdout",
     "output_type": "stream",
     "text": [
      "jam_axi_proj(align='sph', moment='zz') -- elapsed time sec: 0.91\n",
      "analytic_los=0 logistic=0 constant_anisotropy=1\n",
      "No PSF/pixel convolution because sigmapsf=0 pixsize=0\n",
      "inc=48.1; beta[0]=0.0; kappa=1.00; M/L=1.00; BH=0.0; chi2/DOF=nan\n",
      "Total mass MGE (MSun): 2.145e+13\n",
      "\n",
      "sigma_e: 185.88 km/s\n",
      "theta_E: 0.602 arcsec\n"
     ]
    },
    {
     "name": "stdout",
     "output_type": "stream",
     "text": [
      "jam_axi_proj(align='sph', moment='zz') -- elapsed time sec: 1.12\n",
      "analytic_los=0 logistic=0 constant_anisotropy=1\n",
      "No PSF/pixel convolution because sigmapsf=0 pixsize=0\n",
      "inc=80.2; beta[0]=0.0; kappa=1.00; M/L=1.00; BH=0.0; chi2/DOF=nan\n",
      "Total mass MGE (MSun): 2.145e+13\n",
      "\n",
      "sigma_e: 165.46 km/s\n",
      "theta_E: 0.602 arcsec\n"
     ]
    },
    {
     "name": "stdout",
     "output_type": "stream",
     "text": [
      "jam_axi_proj(align='sph', moment='zz') -- elapsed time sec: 1.06\n",
      "analytic_los=0 logistic=0 constant_anisotropy=1\n",
      "No PSF/pixel convolution because sigmapsf=0 pixsize=0\n",
      "inc=80.5; beta[0]=0.0; kappa=1.00; M/L=1.00; BH=0.0; chi2/DOF=nan\n",
      "Total mass MGE (MSun): 2.145e+13\n",
      "\n",
      "sigma_e: 165.27 km/s\n",
      "theta_E: 0.613 arcsec\n"
     ]
    },
    {
     "name": "stdout",
     "output_type": "stream",
     "text": [
      "jam_axi_proj(align='sph', moment='zz') -- elapsed time sec: 1.01\n",
      "analytic_los=0 logistic=0 constant_anisotropy=1\n",
      "No PSF/pixel convolution because sigmapsf=0 pixsize=0\n",
      "inc=74.8; beta[0]=0.0; kappa=1.00; M/L=1.00; BH=0.0; chi2/DOF=nan\n",
      "Total mass MGE (MSun): 2.145e+13\n",
      "\n",
      "sigma_e: 168.63 km/s\n",
      "theta_E: 0.690 arcsec\n"
     ]
    },
    {
     "name": "stdout",
     "output_type": "stream",
     "text": [
      "jam_axi_proj(align='sph', moment='zz') -- elapsed time sec: 0.92\n",
      "analytic_los=0 logistic=0 constant_anisotropy=1\n",
      "No PSF/pixel convolution because sigmapsf=0 pixsize=0\n",
      "inc=50.4; beta[0]=0.0; kappa=1.00; M/L=1.00; BH=0.0; chi2/DOF=nan\n",
      "Total mass MGE (MSun): 2.145e+13\n",
      "\n",
      "sigma_e: 184.75 km/s\n",
      "theta_E: 0.684 arcsec\n"
     ]
    },
    {
     "name": "stdout",
     "output_type": "stream",
     "text": [
      "jam_axi_proj(align='sph', moment='zz') -- elapsed time sec: 0.94\n",
      "analytic_los=0 logistic=0 constant_anisotropy=1\n",
      "No PSF/pixel convolution because sigmapsf=0 pixsize=0\n",
      "inc=52.3; beta[0]=0.0; kappa=1.00; M/L=1.00; BH=0.0; chi2/DOF=nan\n",
      "Total mass MGE (MSun): 2.145e+13\n",
      "\n",
      "sigma_e: 183.77 km/s\n",
      "theta_E: 0.686 arcsec\n"
     ]
    },
    {
     "name": "stdout",
     "output_type": "stream",
     "text": [
      "jam_axi_proj(align='sph', moment='zz') -- elapsed time sec: 0.93\n",
      "analytic_los=0 logistic=0 constant_anisotropy=1\n",
      "No PSF/pixel convolution because sigmapsf=0 pixsize=0\n",
      "inc=51.6; beta[0]=0.0; kappa=1.00; M/L=1.00; BH=0.0; chi2/DOF=nan\n",
      "Total mass MGE (MSun): 2.145e+13\n",
      "\n",
      "sigma_e: 184.11 km/s\n",
      "theta_E: 0.617 arcsec\n"
     ]
    },
    {
     "name": "stdout",
     "output_type": "stream",
     "text": [
      "jam_axi_proj(align='sph', moment='zz') -- elapsed time sec: 1.03\n",
      "analytic_los=0 logistic=0 constant_anisotropy=1\n",
      "No PSF/pixel convolution because sigmapsf=0 pixsize=0\n",
      "inc=73.3; beta[0]=0.0; kappa=1.00; M/L=1.00; BH=0.0; chi2/DOF=nan\n",
      "Total mass MGE (MSun): 2.145e+13\n",
      "\n",
      "sigma_e: 169.66 km/s\n"
     ]
    },
    {
     "name": "stdout",
     "output_type": "stream",
     "text": [
      "theta_E: 0.333 arcsec\n"
     ]
    },
    {
     "name": "stdout",
     "output_type": "stream",
     "text": [
      "jam_axi_proj(align='sph', moment='zz') -- elapsed time sec: 0.95\n",
      "analytic_los=0 logistic=0 constant_anisotropy=1\n",
      "No PSF/pixel convolution because sigmapsf=0 pixsize=0\n",
      "inc=82.7; beta[0]=0.0; kappa=1.00; M/L=1.00; BH=0.0; chi2/DOF=nan\n",
      "Total mass MGE (MSun): 7.000e+12\n",
      "\n",
      "sigma_e: 119.70 km/s\n",
      "theta_E: 0.375 arcsec\n"
     ]
    },
    {
     "name": "stdout",
     "output_type": "stream",
     "text": [
      "jam_axi_proj(align='sph', moment='zz') -- elapsed time sec: 0.98\n",
      "analytic_los=0 logistic=0 constant_anisotropy=1\n",
      "No PSF/pixel convolution because sigmapsf=0 pixsize=0\n",
      "inc=61.4; beta[0]=0.0; kappa=1.00; M/L=1.00; BH=0.0; chi2/DOF=nan\n",
      "Total mass MGE (MSun): 7.000e+12\n",
      "\n",
      "sigma_e: 135.02 km/s\n",
      "theta_E: 0.423 arcsec\n"
     ]
    },
    {
     "name": "stdout",
     "output_type": "stream",
     "text": [
      "jam_axi_proj(align='sph', moment='zz') -- elapsed time sec: 0.92\n",
      "analytic_los=0 logistic=0 constant_anisotropy=1\n",
      "No PSF/pixel convolution because sigmapsf=0 pixsize=0\n",
      "inc=41.0; beta[0]=0.0; kappa=1.00; M/L=1.00; BH=0.0; chi2/DOF=nan\n",
      "Total mass MGE (MSun): 7.000e+12\n",
      "\n",
      "sigma_e: 145.37 km/s\n",
      "theta_E: 0.374 arcsec\n"
     ]
    },
    {
     "name": "stdout",
     "output_type": "stream",
     "text": [
      "jam_axi_proj(align='sph', moment='zz') -- elapsed time sec: 0.98\n",
      "analytic_los=0 logistic=0 constant_anisotropy=1\n",
      "No PSF/pixel convolution because sigmapsf=0 pixsize=0\n",
      "inc=61.7; beta[0]=0.0; kappa=1.00; M/L=1.00; BH=0.0; chi2/DOF=nan\n",
      "Total mass MGE (MSun): 7.000e+12\n",
      "\n",
      "sigma_e: 134.82 km/s\n",
      "theta_E: 0.448 arcsec\n"
     ]
    },
    {
     "name": "stdout",
     "output_type": "stream",
     "text": [
      "jam_axi_proj(align='sph', moment='zz') -- elapsed time sec: 0.90\n",
      "analytic_los=0 logistic=0 constant_anisotropy=1\n",
      "No PSF/pixel convolution because sigmapsf=0 pixsize=0\n",
      "inc=26.3; beta[0]=0.0; kappa=1.00; M/L=1.00; BH=0.0; chi2/DOF=nan\n",
      "Total mass MGE (MSun): 7.000e+12\n",
      "\n",
      "sigma_e: 148.86 km/s\n",
      "theta_E: 0.346 arcsec\n"
     ]
    },
    {
     "name": "stdout",
     "output_type": "stream",
     "text": [
      "jam_axi_proj(align='sph', moment='zz') -- elapsed time sec: 0.94\n",
      "analytic_los=0 logistic=0 constant_anisotropy=1\n",
      "No PSF/pixel convolution because sigmapsf=0 pixsize=0\n",
      "inc=73.9; beta[0]=0.0; kappa=1.00; M/L=1.00; BH=0.0; chi2/DOF=nan\n",
      "Total mass MGE (MSun): 7.000e+12\n",
      "\n",
      "sigma_e: 125.45 km/s\n",
      "theta_E: 0.356 arcsec\n"
     ]
    },
    {
     "name": "stdout",
     "output_type": "stream",
     "text": [
      "jam_axi_proj(align='sph', moment='zz') -- elapsed time sec: 0.99\n",
      "analytic_los=0 logistic=0 constant_anisotropy=1\n",
      "No PSF/pixel convolution because sigmapsf=0 pixsize=0\n",
      "inc=69.2; beta[0]=0.0; kappa=1.00; M/L=1.00; BH=0.0; chi2/DOF=nan\n",
      "Total mass MGE (MSun): 7.000e+12\n",
      "\n",
      "sigma_e: 129.18 km/s\n",
      "theta_E: 0.330 arcsec\n"
     ]
    },
    {
     "name": "stdout",
     "output_type": "stream",
     "text": [
      "jam_axi_proj(align='sph', moment='zz') -- elapsed time sec: 0.94\n",
      "analytic_los=0 logistic=0 constant_anisotropy=1\n",
      "No PSF/pixel convolution because sigmapsf=0 pixsize=0\n",
      "inc=86.0; beta[0]=0.0; kappa=1.00; M/L=1.00; BH=0.0; chi2/DOF=nan\n",
      "Total mass MGE (MSun): 7.000e+12\n",
      "\n",
      "sigma_e: 118.45 km/s\n",
      "theta_E: 0.363 arcsec\n"
     ]
    },
    {
     "name": "stdout",
     "output_type": "stream",
     "text": [
      "jam_axi_proj(align='sph', moment='zz') -- elapsed time sec: 1.00\n",
      "analytic_los=0 logistic=0 constant_anisotropy=1\n",
      "No PSF/pixel convolution because sigmapsf=0 pixsize=0\n",
      "inc=66.4; beta[0]=0.0; kappa=1.00; M/L=1.00; BH=0.0; chi2/DOF=nan\n",
      "Total mass MGE (MSun): 7.000e+12\n",
      "\n",
      "sigma_e: 131.38 km/s\n",
      "theta_E: 0.357 arcsec\n"
     ]
    },
    {
     "name": "stdout",
     "output_type": "stream",
     "text": [
      "jam_axi_proj(align='sph', moment='zz') -- elapsed time sec: 1.00\n",
      "analytic_los=0 logistic=0 constant_anisotropy=1\n",
      "No PSF/pixel convolution because sigmapsf=0 pixsize=0\n",
      "inc=69.1; beta[0]=0.0; kappa=1.00; M/L=1.00; BH=0.0; chi2/DOF=nan\n",
      "Total mass MGE (MSun): 7.000e+12\n",
      "\n",
      "sigma_e: 129.27 km/s\n"
     ]
    },
    {
     "name": "stdout",
     "output_type": "stream",
     "text": [
      "theta_E: 0.845 arcsec\n"
     ]
    },
    {
     "name": "stdout",
     "output_type": "stream",
     "text": [
      "jam_axi_proj(align='sph', moment='zz') -- elapsed time sec: 0.98\n",
      "analytic_los=0 logistic=0 constant_anisotropy=1\n",
      "No PSF/pixel convolution because sigmapsf=0 pixsize=0\n",
      "inc=82.3; beta[0]=0.0; kappa=1.00; M/L=1.00; BH=0.0; chi2/DOF=nan\n",
      "Total mass MGE (MSun): 4.166e+13\n",
      "\n",
      "sigma_e: 196.77 km/s\n",
      "theta_E: 0.853 arcsec\n"
     ]
    },
    {
     "name": "stdout",
     "output_type": "stream",
     "text": [
      "jam_axi_proj(align='sph', moment='zz') -- elapsed time sec: 0.99\n",
      "analytic_los=0 logistic=0 constant_anisotropy=1\n",
      "No PSF/pixel convolution because sigmapsf=0 pixsize=0\n",
      "inc=78.2; beta[0]=0.0; kappa=1.00; M/L=1.00; BH=0.0; chi2/DOF=nan\n",
      "Total mass MGE (MSun): 4.166e+13\n",
      "\n",
      "sigma_e: 198.73 km/s\n",
      "theta_E: 0.901 arcsec\n"
     ]
    },
    {
     "name": "stdout",
     "output_type": "stream",
     "text": [
      "jam_axi_proj(align='sph', moment='zz') -- elapsed time sec: 0.96\n",
      "analytic_los=0 logistic=0 constant_anisotropy=1\n",
      "No PSF/pixel convolution because sigmapsf=0 pixsize=0\n",
      "inc=63.3; beta[0]=0.0; kappa=1.00; M/L=1.00; BH=0.0; chi2/DOF=nan\n",
      "Total mass MGE (MSun): 4.166e+13\n",
      "\n",
      "sigma_e: 208.48 km/s\n",
      "theta_E: 0.848 arcsec\n"
     ]
    },
    {
     "name": "stdout",
     "output_type": "stream",
     "text": [
      "jam_axi_proj(align='sph', moment='zz') -- elapsed time sec: 0.98\n",
      "analytic_los=0 logistic=0 constant_anisotropy=1\n",
      "No PSF/pixel convolution because sigmapsf=0 pixsize=0\n",
      "inc=80.6; beta[0]=0.0; kappa=1.00; M/L=1.00; BH=0.0; chi2/DOF=nan\n",
      "Total mass MGE (MSun): 4.166e+13\n",
      "\n",
      "sigma_e: 197.47 km/s\n",
      "theta_E: 0.845 arcsec\n"
     ]
    },
    {
     "name": "stdout",
     "output_type": "stream",
     "text": [
      "jam_axi_proj(align='sph', moment='zz') -- elapsed time sec: 0.98\n",
      "analytic_los=0 logistic=0 constant_anisotropy=1\n",
      "No PSF/pixel convolution because sigmapsf=0 pixsize=0\n",
      "inc=82.4; beta[0]=0.0; kappa=1.00; M/L=1.00; BH=0.0; chi2/DOF=nan\n",
      "Total mass MGE (MSun): 4.166e+13\n",
      "\n",
      "sigma_e: 196.72 km/s\n",
      "theta_E: 0.999 arcsec\n"
     ]
    },
    {
     "name": "stdout",
     "output_type": "stream",
     "text": [
      "jam_axi_proj(align='sph', moment='zz') -- elapsed time sec: 0.92\n",
      "analytic_los=0 logistic=0 constant_anisotropy=1\n",
      "No PSF/pixel convolution because sigmapsf=0 pixsize=0\n",
      "inc=38.2; beta[0]=0.0; kappa=1.00; M/L=1.00; BH=0.0; chi2/DOF=nan\n",
      "Total mass MGE (MSun): 4.166e+13\n",
      "\n",
      "sigma_e: 221.86 km/s\n",
      "theta_E: 0.906 arcsec\n"
     ]
    },
    {
     "name": "stdout",
     "output_type": "stream",
     "text": [
      "jam_axi_proj(align='sph', moment='zz') -- elapsed time sec: 0.99\n",
      "analytic_los=0 logistic=0 constant_anisotropy=1\n",
      "No PSF/pixel convolution because sigmapsf=0 pixsize=0\n",
      "inc=62.0; beta[0]=0.0; kappa=1.00; M/L=1.00; BH=0.0; chi2/DOF=nan\n",
      "Total mass MGE (MSun): 4.166e+13\n",
      "\n",
      "sigma_e: 209.38 km/s\n",
      "theta_E: 0.922 arcsec\n"
     ]
    },
    {
     "name": "stdout",
     "output_type": "stream",
     "text": [
      "jam_axi_proj(align='sph', moment='zz') -- elapsed time sec: 1.01\n",
      "analytic_los=0 logistic=0 constant_anisotropy=1\n",
      "No PSF/pixel convolution because sigmapsf=0 pixsize=0\n",
      "inc=58.1; beta[0]=0.0; kappa=1.00; M/L=1.00; BH=0.0; chi2/DOF=nan\n",
      "Total mass MGE (MSun): 4.166e+13\n",
      "\n",
      "sigma_e: 211.96 km/s\n",
      "theta_E: 0.886 arcsec\n"
     ]
    },
    {
     "name": "stdout",
     "output_type": "stream",
     "text": [
      "jam_axi_proj(align='sph', moment='zz') -- elapsed time sec: 1.00\n",
      "analytic_los=0 logistic=0 constant_anisotropy=1\n",
      "No PSF/pixel convolution because sigmapsf=0 pixsize=0\n",
      "inc=67.4; beta[0]=0.0; kappa=1.00; M/L=1.00; BH=0.0; chi2/DOF=nan\n",
      "Total mass MGE (MSun): 4.166e+13\n",
      "\n",
      "sigma_e: 205.60 km/s\n",
      "theta_E: 0.850 arcsec\n"
     ]
    },
    {
     "name": "stdout",
     "output_type": "stream",
     "text": [
      "jam_axi_proj(align='sph', moment='zz') -- elapsed time sec: 1.05\n",
      "analytic_los=0 logistic=0 constant_anisotropy=1\n",
      "No PSF/pixel convolution because sigmapsf=0 pixsize=0\n",
      "inc=79.7; beta[0]=0.0; kappa=1.00; M/L=1.00; BH=0.0; chi2/DOF=nan\n",
      "Total mass MGE (MSun): 4.166e+13\n",
      "\n",
      "sigma_e: 197.87 km/s\n"
     ]
    },
    {
     "name": "stdout",
     "output_type": "stream",
     "text": [
      "theta_E: 0.370 arcsec\n"
     ]
    },
    {
     "name": "stdout",
     "output_type": "stream",
     "text": [
      "jam_axi_proj(align='sph', moment='zz') -- elapsed time sec: 0.99\n",
      "analytic_los=0 logistic=0 constant_anisotropy=1\n",
      "No PSF/pixel convolution because sigmapsf=0 pixsize=0\n",
      "inc=62.5; beta[0]=0.0; kappa=1.00; M/L=1.00; BH=0.0; chi2/DOF=nan\n",
      "Total mass MGE (MSun): 7.147e+12\n",
      "\n",
      "sigma_e: 134.41 km/s\n",
      "theta_E: 0.368 arcsec\n"
     ]
    },
    {
     "name": "stdout",
     "output_type": "stream",
     "text": [
      "jam_axi_proj(align='sph', moment='zz') -- elapsed time sec: 0.91\n",
      "analytic_los=0 logistic=0 constant_anisotropy=1\n",
      "No PSF/pixel convolution because sigmapsf=0 pixsize=0\n",
      "inc=64.3; beta[0]=0.0; kappa=1.00; M/L=1.00; BH=0.0; chi2/DOF=nan\n",
      "Total mass MGE (MSun): 7.147e+12\n",
      "\n",
      "sigma_e: 133.82 km/s\n",
      "theta_E: 0.359 arcsec\n"
     ]
    },
    {
     "name": "stdout",
     "output_type": "stream",
     "text": [
      "jam_axi_proj(align='sph', moment='zz') -- elapsed time sec: 0.90\n",
      "analytic_los=0 logistic=0 constant_anisotropy=1\n",
      "No PSF/pixel convolution because sigmapsf=0 pixsize=0\n",
      "inc=71.9; beta[0]=0.0; kappa=1.00; M/L=1.00; BH=0.0; chi2/DOF=nan\n",
      "Total mass MGE (MSun): 7.147e+12\n",
      "\n",
      "sigma_e: 131.26 km/s\n",
      "theta_E: 0.370 arcsec\n"
     ]
    },
    {
     "name": "stdout",
     "output_type": "stream",
     "text": [
      "jam_axi_proj(align='sph', moment='zz') -- elapsed time sec: 0.90\n",
      "analytic_los=0 logistic=0 constant_anisotropy=1\n",
      "No PSF/pixel convolution because sigmapsf=0 pixsize=0\n",
      "inc=62.2; beta[0]=0.0; kappa=1.00; M/L=1.00; BH=0.0; chi2/DOF=nan\n",
      "Total mass MGE (MSun): 7.147e+12\n",
      "\n",
      "sigma_e: 134.50 km/s\n",
      "theta_E: 0.363 arcsec\n"
     ]
    },
    {
     "name": "stdout",
     "output_type": "stream",
     "text": [
      "jam_axi_proj(align='sph', moment='zz') -- elapsed time sec: 0.89\n",
      "analytic_los=0 logistic=0 constant_anisotropy=1\n",
      "No PSF/pixel convolution because sigmapsf=0 pixsize=0\n",
      "inc=67.8; beta[0]=0.0; kappa=1.00; M/L=1.00; BH=0.0; chi2/DOF=nan\n",
      "Total mass MGE (MSun): 7.147e+12\n",
      "\n",
      "sigma_e: 132.63 km/s\n",
      "theta_E: 0.377 arcsec\n"
     ]
    },
    {
     "name": "stdout",
     "output_type": "stream",
     "text": [
      "jam_axi_proj(align='sph', moment='zz') -- elapsed time sec: 0.90\n",
      "analytic_los=0 logistic=0 constant_anisotropy=1\n",
      "No PSF/pixel convolution because sigmapsf=0 pixsize=0\n",
      "inc=57.4; beta[0]=0.0; kappa=1.00; M/L=1.00; BH=0.0; chi2/DOF=nan\n",
      "Total mass MGE (MSun): 7.147e+12\n",
      "\n",
      "sigma_e: 136.06 km/s\n",
      "theta_E: 0.349 arcsec\n"
     ]
    },
    {
     "name": "stdout",
     "output_type": "stream",
     "text": [
      "jam_axi_proj(align='sph', moment='zz') -- elapsed time sec: 0.94\n",
      "analytic_los=0 logistic=0 constant_anisotropy=1\n",
      "No PSF/pixel convolution because sigmapsf=0 pixsize=0\n",
      "inc=89.0; beta[0]=0.0; kappa=1.00; M/L=1.00; BH=0.0; chi2/DOF=nan\n",
      "Total mass MGE (MSun): 7.147e+12\n",
      "\n",
      "sigma_e: 127.92 km/s\n",
      "theta_E: 0.364 arcsec\n"
     ]
    },
    {
     "name": "stdout",
     "output_type": "stream",
     "text": [
      "jam_axi_proj(align='sph', moment='zz') -- elapsed time sec: 0.90\n",
      "analytic_los=0 logistic=0 constant_anisotropy=1\n",
      "No PSF/pixel convolution because sigmapsf=0 pixsize=0\n",
      "inc=66.9; beta[0]=0.0; kappa=1.00; M/L=1.00; BH=0.0; chi2/DOF=nan\n",
      "Total mass MGE (MSun): 7.147e+12\n",
      "\n",
      "sigma_e: 132.94 km/s\n",
      "theta_E: 0.351 arcsec\n"
     ]
    },
    {
     "name": "stdout",
     "output_type": "stream",
     "text": [
      "jam_axi_proj(align='sph', moment='zz') -- elapsed time sec: 0.90\n",
      "analytic_los=0 logistic=0 constant_anisotropy=1\n",
      "No PSF/pixel convolution because sigmapsf=0 pixsize=0\n",
      "inc=81.4; beta[0]=0.0; kappa=1.00; M/L=1.00; BH=0.0; chi2/DOF=nan\n",
      "Total mass MGE (MSun): 7.147e+12\n",
      "\n",
      "sigma_e: 128.77 km/s\n",
      "theta_E: 0.362 arcsec\n"
     ]
    },
    {
     "name": "stdout",
     "output_type": "stream",
     "text": [
      "jam_axi_proj(align='sph', moment='zz') -- elapsed time sec: 0.90\n",
      "analytic_los=0 logistic=0 constant_anisotropy=1\n",
      "No PSF/pixel convolution because sigmapsf=0 pixsize=0\n",
      "inc=69.1; beta[0]=0.0; kappa=1.00; M/L=1.00; BH=0.0; chi2/DOF=nan\n",
      "Total mass MGE (MSun): 7.147e+12\n",
      "\n",
      "sigma_e: 132.19 km/s\n"
     ]
    },
    {
     "name": "stdout",
     "output_type": "stream",
     "text": [
      "theta_E: 0.691 arcsec\n"
     ]
    },
    {
     "name": "stdout",
     "output_type": "stream",
     "text": [
      "jam_axi_proj(align='sph', moment='zz') -- elapsed time sec: 0.92\n",
      "analytic_los=0 logistic=0 constant_anisotropy=1\n",
      "No PSF/pixel convolution because sigmapsf=0 pixsize=0\n",
      "inc=67.1; beta[0]=0.0; kappa=1.00; M/L=1.00; BH=0.0; chi2/DOF=nan\n",
      "Total mass MGE (MSun): 2.517e+13\n",
      "\n",
      "sigma_e: 182.97 km/s\n",
      "theta_E: 0.674 arcsec\n"
     ]
    },
    {
     "name": "stdout",
     "output_type": "stream",
     "text": [
      "jam_axi_proj(align='sph', moment='zz') -- elapsed time sec: 0.95\n",
      "analytic_los=0 logistic=0 constant_anisotropy=1\n",
      "No PSF/pixel convolution because sigmapsf=0 pixsize=0\n",
      "inc=79.7; beta[0]=0.0; kappa=1.00; M/L=1.00; BH=0.0; chi2/DOF=nan\n",
      "Total mass MGE (MSun): 2.517e+13\n",
      "\n",
      "sigma_e: 179.50 km/s\n",
      "theta_E: 0.747 arcsec\n"
     ]
    },
    {
     "name": "stdout",
     "output_type": "stream",
     "text": [
      "jam_axi_proj(align='sph', moment='zz') -- elapsed time sec: 0.86\n",
      "analytic_los=0 logistic=0 constant_anisotropy=1\n",
      "No PSF/pixel convolution because sigmapsf=0 pixsize=0\n",
      "inc=38.2; beta[0]=0.0; kappa=1.00; M/L=1.00; BH=0.0; chi2/DOF=nan\n",
      "Total mass MGE (MSun): 2.517e+13\n",
      "\n",
      "sigma_e: 191.54 km/s\n",
      "theta_E: 0.774 arcsec\n"
     ]
    },
    {
     "name": "stdout",
     "output_type": "stream",
     "text": [
      "jam_axi_proj(align='sph', moment='zz') -- elapsed time sec: 0.83\n",
      "analytic_los=0 logistic=0 constant_anisotropy=1\n",
      "No PSF/pixel convolution because sigmapsf=0 pixsize=0\n",
      "inc=19.8; beta[0]=0.0; kappa=1.00; M/L=1.00; BH=0.0; chi2/DOF=nan\n",
      "Total mass MGE (MSun): 2.517e+13\n",
      "\n",
      "sigma_e: 194.44 km/s\n",
      "theta_E: 0.669 arcsec\n"
     ]
    },
    {
     "name": "stdout",
     "output_type": "stream",
     "text": [
      "jam_axi_proj(align='sph', moment='zz') -- elapsed time sec: 0.98\n",
      "analytic_los=0 logistic=0 constant_anisotropy=1\n",
      "No PSF/pixel convolution because sigmapsf=0 pixsize=0\n",
      "inc=89.5; beta[0]=0.0; kappa=1.00; M/L=1.00; BH=0.0; chi2/DOF=nan\n",
      "Total mass MGE (MSun): 2.517e+13\n",
      "\n",
      "sigma_e: 178.42 km/s\n",
      "theta_E: 0.749 arcsec\n"
     ]
    },
    {
     "name": "stdout",
     "output_type": "stream",
     "text": [
      "jam_axi_proj(align='sph', moment='zz') -- elapsed time sec: 0.85\n",
      "analytic_los=0 logistic=0 constant_anisotropy=1\n",
      "No PSF/pixel convolution because sigmapsf=0 pixsize=0\n",
      "inc=37.3; beta[0]=0.0; kappa=1.00; M/L=1.00; BH=0.0; chi2/DOF=nan\n",
      "Total mass MGE (MSun): 2.517e+13\n",
      "\n",
      "sigma_e: 191.73 km/s\n",
      "theta_E: 0.669 arcsec\n"
     ]
    },
    {
     "name": "stdout",
     "output_type": "stream",
     "text": [
      "jam_axi_proj(align='sph', moment='zz') -- elapsed time sec: 0.94\n",
      "analytic_los=0 logistic=0 constant_anisotropy=1\n",
      "No PSF/pixel convolution because sigmapsf=0 pixsize=0\n",
      "inc=87.4; beta[0]=0.0; kappa=1.00; M/L=1.00; BH=0.0; chi2/DOF=nan\n",
      "Total mass MGE (MSun): 2.517e+13\n",
      "\n",
      "sigma_e: 178.49 km/s\n",
      "theta_E: 0.742 arcsec\n"
     ]
    },
    {
     "name": "stdout",
     "output_type": "stream",
     "text": [
      "jam_axi_proj(align='sph', moment='zz') -- elapsed time sec: 0.87\n",
      "analytic_los=0 logistic=0 constant_anisotropy=1\n",
      "No PSF/pixel convolution because sigmapsf=0 pixsize=0\n",
      "inc=40.9; beta[0]=0.0; kappa=1.00; M/L=1.00; BH=0.0; chi2/DOF=nan\n",
      "Total mass MGE (MSun): 2.517e+13\n",
      "\n",
      "sigma_e: 190.93 km/s\n",
      "theta_E: 0.769 arcsec\n"
     ]
    },
    {
     "name": "stdout",
     "output_type": "stream",
     "text": [
      "jam_axi_proj(align='sph', moment='zz') -- elapsed time sec: 0.83\n",
      "analytic_los=0 logistic=0 constant_anisotropy=1\n",
      "No PSF/pixel convolution because sigmapsf=0 pixsize=0\n",
      "inc=24.2; beta[0]=0.0; kappa=1.00; M/L=1.00; BH=0.0; chi2/DOF=nan\n",
      "Total mass MGE (MSun): 2.517e+13\n",
      "\n",
      "sigma_e: 193.94 km/s\n",
      "theta_E: 0.698 arcsec\n"
     ]
    },
    {
     "name": "stdout",
     "output_type": "stream",
     "text": [
      "jam_axi_proj(align='sph', moment='zz') -- elapsed time sec: 0.91\n",
      "analytic_los=0 logistic=0 constant_anisotropy=1\n",
      "No PSF/pixel convolution because sigmapsf=0 pixsize=0\n",
      "inc=63.2; beta[0]=0.0; kappa=1.00; M/L=1.00; BH=0.0; chi2/DOF=nan\n",
      "Total mass MGE (MSun): 2.517e+13\n",
      "\n",
      "sigma_e: 184.26 km/s\n"
     ]
    },
    {
     "name": "stdout",
     "output_type": "stream",
     "text": [
      "theta_E: 1.243 arcsec\n"
     ]
    },
    {
     "name": "stdout",
     "output_type": "stream",
     "text": [
      "jam_axi_proj(align='sph', moment='zz') -- elapsed time sec: 0.99\n",
      "analytic_los=0 logistic=0 constant_anisotropy=1\n",
      "No PSF/pixel convolution because sigmapsf=0 pixsize=0\n",
      "inc=86.0; beta[0]=0.0; kappa=1.00; M/L=1.00; BH=0.0; chi2/DOF=nan\n",
      "Total mass MGE (MSun): 9.002e+13\n",
      "\n",
      "sigma_e: 238.59 km/s\n",
      "theta_E: 1.266 arcsec\n"
     ]
    },
    {
     "name": "stdout",
     "output_type": "stream",
     "text": [
      "jam_axi_proj(align='sph', moment='zz') -- elapsed time sec: 0.97\n",
      "analytic_los=0 logistic=0 constant_anisotropy=1\n",
      "No PSF/pixel convolution because sigmapsf=0 pixsize=0\n",
      "inc=76.3; beta[0]=0.0; kappa=1.00; M/L=1.00; BH=0.0; chi2/DOF=nan\n",
      "Total mass MGE (MSun): 9.002e+13\n",
      "\n",
      "sigma_e: 242.95 km/s\n",
      "theta_E: 1.339 arcsec\n"
     ]
    },
    {
     "name": "stdout",
     "output_type": "stream",
     "text": [
      "jam_axi_proj(align='sph', moment='zz') -- elapsed time sec: 0.95\n",
      "analytic_los=0 logistic=0 constant_anisotropy=1\n",
      "No PSF/pixel convolution because sigmapsf=0 pixsize=0\n",
      "inc=60.8; beta[0]=0.0; kappa=1.00; M/L=1.00; BH=0.0; chi2/DOF=nan\n",
      "Total mass MGE (MSun): 9.002e+13\n",
      "\n",
      "sigma_e: 254.62 km/s\n",
      "theta_E: 1.320 arcsec\n"
     ]
    },
    {
     "name": "stdout",
     "output_type": "stream",
     "text": [
      "jam_axi_proj(align='sph', moment='zz') -- elapsed time sec: 0.96\n",
      "analytic_los=0 logistic=0 constant_anisotropy=1\n",
      "No PSF/pixel convolution because sigmapsf=0 pixsize=0\n",
      "inc=64.3; beta[0]=0.0; kappa=1.00; M/L=1.00; BH=0.0; chi2/DOF=nan\n",
      "Total mass MGE (MSun): 9.002e+13\n",
      "\n",
      "sigma_e: 251.91 km/s\n",
      "theta_E: 1.500 arcsec\n"
     ]
    },
    {
     "name": "stdout",
     "output_type": "stream",
     "text": [
      "jam_axi_proj(align='sph', moment='zz') -- elapsed time sec: 0.90\n",
      "analytic_los=0 logistic=0 constant_anisotropy=1\n",
      "No PSF/pixel convolution because sigmapsf=0 pixsize=0\n",
      "inc=29.7; beta[0]=0.0; kappa=1.00; M/L=1.00; BH=0.0; chi2/DOF=nan\n",
      "Total mass MGE (MSun): 9.002e+13\n",
      "\n",
      "sigma_e: 270.75 km/s\n",
      "theta_E: 1.347 arcsec\n"
     ]
    },
    {
     "name": "stdout",
     "output_type": "stream",
     "text": [
      "jam_axi_proj(align='sph', moment='zz') -- elapsed time sec: 1.01\n",
      "analytic_los=0 logistic=0 constant_anisotropy=1\n",
      "No PSF/pixel convolution because sigmapsf=0 pixsize=0\n",
      "inc=59.5; beta[0]=0.0; kappa=1.00; M/L=1.00; BH=0.0; chi2/DOF=nan\n",
      "Total mass MGE (MSun): 9.002e+13\n",
      "\n",
      "sigma_e: 255.62 km/s\n",
      "theta_E: 1.535 arcsec\n"
     ]
    },
    {
     "name": "stdout",
     "output_type": "stream",
     "text": [
      "jam_axi_proj(align='sph', moment='zz') -- elapsed time sec: 0.93\n",
      "analytic_los=0 logistic=0 constant_anisotropy=1\n",
      "No PSF/pixel convolution because sigmapsf=0 pixsize=0\n",
      "inc=19.1; beta[0]=0.0; kappa=1.00; M/L=1.00; BH=0.0; chi2/DOF=nan\n",
      "Total mass MGE (MSun): 9.002e+13\n",
      "\n",
      "sigma_e: 273.13 km/s\n",
      "theta_E: 1.251 arcsec\n"
     ]
    },
    {
     "name": "stdout",
     "output_type": "stream",
     "text": [
      "jam_axi_proj(align='sph', moment='zz') -- elapsed time sec: 1.02\n",
      "analytic_los=0 logistic=0 constant_anisotropy=1\n",
      "No PSF/pixel convolution because sigmapsf=0 pixsize=0\n",
      "inc=81.5; beta[0]=0.0; kappa=1.00; M/L=1.00; BH=0.0; chi2/DOF=nan\n",
      "Total mass MGE (MSun): 9.002e+13\n",
      "\n",
      "sigma_e: 240.11 km/s\n",
      "theta_E: 1.245 arcsec\n"
     ]
    },
    {
     "name": "stdout",
     "output_type": "stream",
     "text": [
      "jam_axi_proj(align='sph', moment='zz') -- elapsed time sec: 1.06\n",
      "analytic_los=0 logistic=0 constant_anisotropy=1\n",
      "No PSF/pixel convolution because sigmapsf=0 pixsize=0\n",
      "inc=85.0; beta[0]=0.0; kappa=1.00; M/L=1.00; BH=0.0; chi2/DOF=nan\n",
      "Total mass MGE (MSun): 9.002e+13\n",
      "\n",
      "sigma_e: 238.83 km/s\n",
      "theta_E: 1.414 arcsec\n"
     ]
    },
    {
     "name": "stdout",
     "output_type": "stream",
     "text": [
      "jam_axi_proj(align='sph', moment='zz') -- elapsed time sec: 0.94\n",
      "analytic_los=0 logistic=0 constant_anisotropy=1\n",
      "No PSF/pixel convolution because sigmapsf=0 pixsize=0\n",
      "inc=47.6; beta[0]=0.0; kappa=1.00; M/L=1.00; BH=0.0; chi2/DOF=nan\n",
      "Total mass MGE (MSun): 9.002e+13\n",
      "\n",
      "sigma_e: 263.36 km/s\n"
     ]
    },
    {
     "name": "stdout",
     "output_type": "stream",
     "text": [
      "theta_E: 0.756 arcsec\n"
     ]
    },
    {
     "name": "stdout",
     "output_type": "stream",
     "text": [
      "jam_axi_proj(align='sph', moment='zz') -- elapsed time sec: 1.03\n",
      "analytic_los=0 logistic=0 constant_anisotropy=1\n",
      "No PSF/pixel convolution because sigmapsf=0 pixsize=0\n",
      "inc=81.2; beta[0]=0.0; kappa=1.00; M/L=1.00; BH=0.0; chi2/DOF=nan\n",
      "Total mass MGE (MSun): 3.365e+13\n",
      "\n",
      "sigma_e: 186.05 km/s\n",
      "theta_E: 0.890 arcsec\n"
     ]
    },
    {
     "name": "stdout",
     "output_type": "stream",
     "text": [
      "jam_axi_proj(align='sph', moment='zz') -- elapsed time sec: 1.00\n",
      "analytic_los=0 logistic=0 constant_anisotropy=1\n",
      "No PSF/pixel convolution because sigmapsf=0 pixsize=0\n",
      "inc=42.8; beta[0]=0.0; kappa=1.00; M/L=1.00; BH=0.0; chi2/DOF=nan\n",
      "Total mass MGE (MSun): 3.365e+13\n",
      "\n",
      "sigma_e: 210.25 km/s\n",
      "theta_E: 0.769 arcsec\n"
     ]
    },
    {
     "name": "stdout",
     "output_type": "stream",
     "text": [
      "jam_axi_proj(align='sph', moment='zz') -- elapsed time sec: 1.00\n",
      "analytic_los=0 logistic=0 constant_anisotropy=1\n",
      "No PSF/pixel convolution because sigmapsf=0 pixsize=0\n",
      "inc=75.7; beta[0]=0.0; kappa=1.00; M/L=1.00; BH=0.0; chi2/DOF=nan\n",
      "Total mass MGE (MSun): 3.365e+13\n",
      "\n",
      "sigma_e: 189.19 km/s\n",
      "theta_E: 0.968 arcsec\n"
     ]
    },
    {
     "name": "stdout",
     "output_type": "stream",
     "text": [
      "jam_axi_proj(align='sph', moment='zz') -- elapsed time sec: 0.89\n",
      "analytic_los=0 logistic=0 constant_anisotropy=1\n",
      "No PSF/pixel convolution because sigmapsf=0 pixsize=0\n",
      "inc=10.7; beta[0]=0.0; kappa=1.00; M/L=1.00; BH=0.0; chi2/DOF=nan\n",
      "Total mass MGE (MSun): 3.365e+13\n",
      "\n",
      "sigma_e: 217.45 km/s\n",
      "theta_E: 0.775 arcsec\n"
     ]
    },
    {
     "name": "stdout",
     "output_type": "stream",
     "text": [
      "jam_axi_proj(align='sph', moment='zz') -- elapsed time sec: 0.97\n",
      "analytic_los=0 logistic=0 constant_anisotropy=1\n",
      "No PSF/pixel convolution because sigmapsf=0 pixsize=0\n",
      "inc=73.4; beta[0]=0.0; kappa=1.00; M/L=1.00; BH=0.0; chi2/DOF=nan\n",
      "Total mass MGE (MSun): 3.365e+13\n",
      "\n",
      "sigma_e: 190.79 km/s\n",
      "theta_E: 0.929 arcsec\n"
     ]
    },
    {
     "name": "stdout",
     "output_type": "stream",
     "text": [
      "jam_axi_proj(align='sph', moment='zz') -- elapsed time sec: 0.93\n",
      "analytic_los=0 logistic=0 constant_anisotropy=1\n",
      "No PSF/pixel convolution because sigmapsf=0 pixsize=0\n",
      "inc=30.9; beta[0]=0.0; kappa=1.00; M/L=1.00; BH=0.0; chi2/DOF=nan\n",
      "Total mass MGE (MSun): 3.365e+13\n",
      "\n",
      "sigma_e: 214.23 km/s\n",
      "theta_E: 0.780 arcsec\n"
     ]
    },
    {
     "name": "stdout",
     "output_type": "stream",
     "text": [
      "jam_axi_proj(align='sph', moment='zz') -- elapsed time sec: 1.03\n",
      "analytic_los=0 logistic=0 constant_anisotropy=1\n",
      "No PSF/pixel convolution because sigmapsf=0 pixsize=0\n",
      "inc=71.9; beta[0]=0.0; kappa=1.00; M/L=1.00; BH=0.0; chi2/DOF=nan\n",
      "Total mass MGE (MSun): 3.365e+13\n",
      "\n",
      "sigma_e: 191.84 km/s\n",
      "theta_E: 0.963 arcsec\n"
     ]
    },
    {
     "name": "stdout",
     "output_type": "stream",
     "text": [
      "jam_axi_proj(align='sph', moment='zz') -- elapsed time sec: 0.90\n",
      "analytic_los=0 logistic=0 constant_anisotropy=1\n",
      "No PSF/pixel convolution because sigmapsf=0 pixsize=0\n",
      "inc=15.1; beta[0]=0.0; kappa=1.00; M/L=1.00; BH=0.0; chi2/DOF=nan\n",
      "Total mass MGE (MSun): 3.365e+13\n",
      "\n",
      "sigma_e: 217.03 km/s\n",
      "theta_E: 0.775 arcsec\n"
     ]
    },
    {
     "name": "stdout",
     "output_type": "stream",
     "text": [
      "jam_axi_proj(align='sph', moment='zz') -- elapsed time sec: 0.97\n",
      "analytic_los=0 logistic=0 constant_anisotropy=1\n",
      "No PSF/pixel convolution because sigmapsf=0 pixsize=0\n",
      "inc=73.5; beta[0]=0.0; kappa=1.00; M/L=1.00; BH=0.0; chi2/DOF=nan\n",
      "Total mass MGE (MSun): 3.365e+13\n",
      "\n",
      "sigma_e: 190.72 km/s\n",
      "theta_E: 0.777 arcsec\n"
     ]
    },
    {
     "name": "stdout",
     "output_type": "stream",
     "text": [
      "jam_axi_proj(align='sph', moment='zz') -- elapsed time sec: 0.98\n",
      "analytic_los=0 logistic=0 constant_anisotropy=1\n",
      "No PSF/pixel convolution because sigmapsf=0 pixsize=0\n",
      "inc=72.8; beta[0]=0.0; kappa=1.00; M/L=1.00; BH=0.0; chi2/DOF=nan\n",
      "Total mass MGE (MSun): 3.365e+13\n",
      "\n",
      "sigma_e: 191.23 km/s\n"
     ]
    },
    {
     "name": "stdout",
     "output_type": "stream",
     "text": [
      "theta_E: 1.053 arcsec\n"
     ]
    },
    {
     "name": "stdout",
     "output_type": "stream",
     "text": [
      "jam_axi_proj(align='sph', moment='zz') -- elapsed time sec: 0.85\n",
      "analytic_los=0 logistic=0 constant_anisotropy=1\n",
      "No PSF/pixel convolution because sigmapsf=0 pixsize=0\n",
      "inc=14.5; beta[0]=0.0; kappa=1.00; M/L=1.00; BH=0.0; chi2/DOF=nan\n",
      "Total mass MGE (MSun): 4.505e+13\n",
      "\n",
      "sigma_e: 226.43 km/s\n",
      "theta_E: 1.041 arcsec\n"
     ]
    },
    {
     "name": "stdout",
     "output_type": "stream",
     "text": [
      "jam_axi_proj(align='sph', moment='zz') -- elapsed time sec: 0.89\n",
      "analytic_los=0 logistic=0 constant_anisotropy=1\n",
      "No PSF/pixel convolution because sigmapsf=0 pixsize=0\n",
      "inc=23.1; beta[0]=0.0; kappa=1.00; M/L=1.00; BH=0.0; chi2/DOF=nan\n",
      "Total mass MGE (MSun): 4.505e+13\n",
      "\n",
      "sigma_e: 225.42 km/s\n",
      "theta_E: 0.894 arcsec\n"
     ]
    },
    {
     "name": "stdout",
     "output_type": "stream",
     "text": [
      "jam_axi_proj(align='sph', moment='zz') -- elapsed time sec: 0.96\n",
      "analytic_los=0 logistic=0 constant_anisotropy=1\n",
      "No PSF/pixel convolution because sigmapsf=0 pixsize=0\n",
      "inc=87.7; beta[0]=0.0; kappa=1.00; M/L=1.00; BH=0.0; chi2/DOF=nan\n",
      "Total mass MGE (MSun): 4.505e+13\n",
      "\n",
      "sigma_e: 205.50 km/s\n",
      "theta_E: 1.053 arcsec\n"
     ]
    },
    {
     "name": "stdout",
     "output_type": "stream",
     "text": [
      "jam_axi_proj(align='sph', moment='zz') -- elapsed time sec: 0.85\n",
      "analytic_los=0 logistic=0 constant_anisotropy=1\n",
      "No PSF/pixel convolution because sigmapsf=0 pixsize=0\n",
      "inc=14.9; beta[0]=0.0; kappa=1.00; M/L=1.00; BH=0.0; chi2/DOF=nan\n",
      "Total mass MGE (MSun): 4.505e+13\n",
      "\n",
      "sigma_e: 226.40 km/s\n",
      "theta_E: 0.920 arcsec\n"
     ]
    },
    {
     "name": "stdout",
     "output_type": "stream",
     "text": [
      "jam_axi_proj(align='sph', moment='zz') -- elapsed time sec: 0.93\n",
      "analytic_los=0 logistic=0 constant_anisotropy=1\n",
      "No PSF/pixel convolution because sigmapsf=0 pixsize=0\n",
      "inc=69.0; beta[0]=0.0; kappa=1.00; M/L=1.00; BH=0.0; chi2/DOF=nan\n",
      "Total mass MGE (MSun): 4.505e+13\n",
      "\n",
      "sigma_e: 210.65 km/s\n",
      "theta_E: 0.968 arcsec\n"
     ]
    },
    {
     "name": "stdout",
     "output_type": "stream",
     "text": [
      "jam_axi_proj(align='sph', moment='zz') -- elapsed time sec: 0.99\n",
      "analytic_los=0 logistic=0 constant_anisotropy=1\n",
      "No PSF/pixel convolution because sigmapsf=0 pixsize=0\n",
      "inc=51.8; beta[0]=0.0; kappa=1.00; M/L=1.00; BH=0.0; chi2/DOF=nan\n",
      "Total mass MGE (MSun): 4.505e+13\n",
      "\n",
      "sigma_e: 217.86 km/s\n",
      "theta_E: 0.902 arcsec\n"
     ]
    },
    {
     "name": "stdout",
     "output_type": "stream",
     "text": [
      "jam_axi_proj(align='sph', moment='zz') -- elapsed time sec: 0.99\n",
      "analytic_los=0 logistic=0 constant_anisotropy=1\n",
      "No PSF/pixel convolution because sigmapsf=0 pixsize=0\n",
      "inc=78.6; beta[0]=0.0; kappa=1.00; M/L=1.00; BH=0.0; chi2/DOF=nan\n",
      "Total mass MGE (MSun): 4.505e+13\n",
      "\n",
      "sigma_e: 207.18 km/s\n",
      "theta_E: 0.989 arcsec\n"
     ]
    },
    {
     "name": "stdout",
     "output_type": "stream",
     "text": [
      "jam_axi_proj(align='sph', moment='zz') -- elapsed time sec: 0.88\n",
      "analytic_los=0 logistic=0 constant_anisotropy=1\n",
      "No PSF/pixel convolution because sigmapsf=0 pixsize=0\n",
      "inc=44.5; beta[0]=0.0; kappa=1.00; M/L=1.00; BH=0.0; chi2/DOF=nan\n",
      "Total mass MGE (MSun): 4.505e+13\n",
      "\n",
      "sigma_e: 220.46 km/s\n",
      "theta_E: 0.923 arcsec\n"
     ]
    },
    {
     "name": "stdout",
     "output_type": "stream",
     "text": [
      "jam_axi_proj(align='sph', moment='zz') -- elapsed time sec: 0.92\n",
      "analytic_los=0 logistic=0 constant_anisotropy=1\n",
      "No PSF/pixel convolution because sigmapsf=0 pixsize=0\n",
      "inc=67.8; beta[0]=0.0; kappa=1.00; M/L=1.00; BH=0.0; chi2/DOF=nan\n",
      "Total mass MGE (MSun): 4.505e+13\n",
      "\n",
      "sigma_e: 211.16 km/s\n",
      "theta_E: 0.900 arcsec\n"
     ]
    },
    {
     "name": "stdout",
     "output_type": "stream",
     "text": [
      "jam_axi_proj(align='sph', moment='zz') -- elapsed time sec: 0.95\n",
      "analytic_los=0 logistic=0 constant_anisotropy=1\n",
      "No PSF/pixel convolution because sigmapsf=0 pixsize=0\n",
      "inc=79.6; beta[0]=0.0; kappa=1.00; M/L=1.00; BH=0.0; chi2/DOF=nan\n",
      "Total mass MGE (MSun): 4.505e+13\n",
      "\n",
      "sigma_e: 206.90 km/s\n"
     ]
    },
    {
     "name": "stdout",
     "output_type": "stream",
     "text": [
      "theta_E: 0.722 arcsec\n"
     ]
    },
    {
     "name": "stdout",
     "output_type": "stream",
     "text": [
      "jam_axi_proj(align='sph', moment='zz') -- elapsed time sec: 0.90\n",
      "analytic_los=0 logistic=0 constant_anisotropy=1\n",
      "No PSF/pixel convolution because sigmapsf=0 pixsize=0\n",
      "inc=23.6; beta[0]=0.0; kappa=1.00; M/L=1.00; BH=0.0; chi2/DOF=nan\n",
      "Total mass MGE (MSun): 1.879e+13\n",
      "\n",
      "sigma_e: 188.44 km/s\n",
      "theta_E: 0.680 arcsec\n"
     ]
    },
    {
     "name": "stdout",
     "output_type": "stream",
     "text": [
      "jam_axi_proj(align='sph', moment='zz') -- elapsed time sec: 0.93\n",
      "analytic_los=0 logistic=0 constant_anisotropy=1\n",
      "No PSF/pixel convolution because sigmapsf=0 pixsize=0\n",
      "inc=41.2; beta[0]=0.0; kappa=1.00; M/L=1.00; BH=0.0; chi2/DOF=nan\n",
      "Total mass MGE (MSun): 1.879e+13\n",
      "\n",
      "sigma_e: 183.74 km/s\n",
      "theta_E: 0.613 arcsec\n"
     ]
    },
    {
     "name": "stdout",
     "output_type": "stream",
     "text": [
      "jam_axi_proj(align='sph', moment='zz') -- elapsed time sec: 0.96\n",
      "analytic_los=0 logistic=0 constant_anisotropy=1\n",
      "No PSF/pixel convolution because sigmapsf=0 pixsize=0\n",
      "inc=61.3; beta[0]=0.0; kappa=1.00; M/L=1.00; BH=0.0; chi2/DOF=nan\n",
      "Total mass MGE (MSun): 1.879e+13\n",
      "\n",
      "sigma_e: 172.49 km/s\n",
      "theta_E: 0.635 arcsec\n"
     ]
    },
    {
     "name": "stdout",
     "output_type": "stream",
     "text": [
      "jam_axi_proj(align='sph', moment='zz') -- elapsed time sec: 0.99\n",
      "analytic_los=0 logistic=0 constant_anisotropy=1\n",
      "No PSF/pixel convolution because sigmapsf=0 pixsize=0\n",
      "inc=55.1; beta[0]=0.0; kappa=1.00; M/L=1.00; BH=0.0; chi2/DOF=nan\n",
      "Total mass MGE (MSun): 1.879e+13\n",
      "\n",
      "sigma_e: 176.79 km/s\n",
      "theta_E: 0.602 arcsec\n"
     ]
    },
    {
     "name": "stdout",
     "output_type": "stream",
     "text": [
      "jam_axi_proj(align='sph', moment='zz') -- elapsed time sec: 0.96\n",
      "analytic_los=0 logistic=0 constant_anisotropy=1\n",
      "No PSF/pixel convolution because sigmapsf=0 pixsize=0\n",
      "inc=64.7; beta[0]=0.0; kappa=1.00; M/L=1.00; BH=0.0; chi2/DOF=nan\n",
      "Total mass MGE (MSun): 1.879e+13\n",
      "\n",
      "sigma_e: 169.93 km/s\n",
      "theta_E: 0.551 arcsec\n"
     ]
    },
    {
     "name": "stdout",
     "output_type": "stream",
     "text": [
      "jam_axi_proj(align='sph', moment='zz') -- elapsed time sec: 0.97\n",
      "analytic_los=0 logistic=0 constant_anisotropy=1\n",
      "No PSF/pixel convolution because sigmapsf=0 pixsize=0\n",
      "inc=89.3; beta[0]=0.0; kappa=1.00; M/L=1.00; BH=0.0; chi2/DOF=nan\n",
      "Total mass MGE (MSun): 1.879e+13\n",
      "\n",
      "sigma_e: 155.30 km/s\n",
      "theta_E: 0.556 arcsec\n"
     ]
    },
    {
     "name": "stdout",
     "output_type": "stream",
     "text": [
      "jam_axi_proj(align='sph', moment='zz') -- elapsed time sec: 0.98\n",
      "analytic_los=0 logistic=0 constant_anisotropy=1\n",
      "No PSF/pixel convolution because sigmapsf=0 pixsize=0\n",
      "inc=82.7; beta[0]=0.0; kappa=1.00; M/L=1.00; BH=0.0; chi2/DOF=nan\n",
      "Total mass MGE (MSun): 1.879e+13\n",
      "\n",
      "sigma_e: 157.02 km/s\n",
      "theta_E: 0.725 arcsec\n"
     ]
    },
    {
     "name": "stdout",
     "output_type": "stream",
     "text": [
      "jam_axi_proj(align='sph', moment='zz') -- elapsed time sec: 0.89\n",
      "analytic_los=0 logistic=0 constant_anisotropy=1\n",
      "No PSF/pixel convolution because sigmapsf=0 pixsize=0\n",
      "inc=21.9; beta[0]=0.0; kappa=1.00; M/L=1.00; BH=0.0; chi2/DOF=nan\n",
      "Total mass MGE (MSun): 1.879e+13\n",
      "\n",
      "sigma_e: 188.70 km/s\n",
      "theta_E: 0.714 arcsec\n"
     ]
    },
    {
     "name": "stdout",
     "output_type": "stream",
     "text": [
      "jam_axi_proj(align='sph', moment='zz') -- elapsed time sec: 0.90\n",
      "analytic_los=0 logistic=0 constant_anisotropy=1\n",
      "No PSF/pixel convolution because sigmapsf=0 pixsize=0\n",
      "inc=27.9; beta[0]=0.0; kappa=1.00; M/L=1.00; BH=0.0; chi2/DOF=nan\n",
      "Total mass MGE (MSun): 1.879e+13\n",
      "\n",
      "sigma_e: 187.62 km/s\n",
      "theta_E: 0.572 arcsec\n"
     ]
    },
    {
     "name": "stdout",
     "output_type": "stream",
     "text": [
      "jam_axi_proj(align='sph', moment='zz') -- elapsed time sec: 1.00\n",
      "analytic_los=0 logistic=0 constant_anisotropy=1\n",
      "No PSF/pixel convolution because sigmapsf=0 pixsize=0\n",
      "inc=74.4; beta[0]=0.0; kappa=1.00; M/L=1.00; BH=0.0; chi2/DOF=nan\n",
      "Total mass MGE (MSun): 1.879e+13\n",
      "\n",
      "sigma_e: 162.27 km/s\n"
     ]
    },
    {
     "name": "stdout",
     "output_type": "stream",
     "text": [
      "theta_E: 0.748 arcsec\n"
     ]
    },
    {
     "name": "stdout",
     "output_type": "stream",
     "text": [
      "jam_axi_proj(align='sph', moment='zz') -- elapsed time sec: 0.81\n",
      "analytic_los=0 logistic=0 constant_anisotropy=1\n",
      "No PSF/pixel convolution because sigmapsf=0 pixsize=0\n",
      "inc=10.9; beta[0]=0.0; kappa=1.00; M/L=1.00; BH=0.0; chi2/DOF=nan\n",
      "Total mass MGE (MSun): 2.382e+13\n",
      "\n",
      "sigma_e: 190.69 km/s\n",
      "theta_E: 0.720 arcsec\n"
     ]
    },
    {
     "name": "stdout",
     "output_type": "stream",
     "text": [
      "jam_axi_proj(align='sph', moment='zz') -- elapsed time sec: 0.84\n",
      "analytic_los=0 logistic=0 constant_anisotropy=1\n",
      "No PSF/pixel convolution because sigmapsf=0 pixsize=0\n",
      "inc=37.7; beta[0]=0.0; kappa=1.00; M/L=1.00; BH=0.0; chi2/DOF=nan\n",
      "Total mass MGE (MSun): 2.382e+13\n",
      "\n",
      "sigma_e: 187.67 km/s\n",
      "theta_E: 0.689 arcsec\n"
     ]
    },
    {
     "name": "stdout",
     "output_type": "stream",
     "text": [
      "jam_axi_proj(align='sph', moment='zz') -- elapsed time sec: 0.87\n",
      "analytic_los=0 logistic=0 constant_anisotropy=1\n",
      "No PSF/pixel convolution because sigmapsf=0 pixsize=0\n",
      "inc=56.9; beta[0]=0.0; kappa=1.00; M/L=1.00; BH=0.0; chi2/DOF=nan\n",
      "Total mass MGE (MSun): 2.382e+13\n",
      "\n",
      "sigma_e: 183.34 km/s\n",
      "theta_E: 0.668 arcsec\n"
     ]
    },
    {
     "name": "stdout",
     "output_type": "stream",
     "text": [
      "jam_axi_proj(align='sph', moment='zz') -- elapsed time sec: 0.88\n",
      "analytic_los=0 logistic=0 constant_anisotropy=1\n",
      "No PSF/pixel convolution because sigmapsf=0 pixsize=0\n",
      "inc=71.0; beta[0]=0.0; kappa=1.00; M/L=1.00; BH=0.0; chi2/DOF=nan\n",
      "Total mass MGE (MSun): 2.382e+13\n",
      "\n",
      "sigma_e: 179.78 km/s\n",
      "theta_E: 0.663 arcsec\n"
     ]
    },
    {
     "name": "stdout",
     "output_type": "stream",
     "text": [
      "jam_axi_proj(align='sph', moment='zz') -- elapsed time sec: 0.89\n",
      "analytic_los=0 logistic=0 constant_anisotropy=1\n",
      "No PSF/pixel convolution because sigmapsf=0 pixsize=0\n",
      "inc=75.9; beta[0]=0.0; kappa=1.00; M/L=1.00; BH=0.0; chi2/DOF=nan\n",
      "Total mass MGE (MSun): 2.382e+13\n",
      "\n",
      "sigma_e: 178.74 km/s\n",
      "theta_E: 0.703 arcsec\n"
     ]
    },
    {
     "name": "stdout",
     "output_type": "stream",
     "text": [
      "jam_axi_proj(align='sph', moment='zz') -- elapsed time sec: 0.86\n",
      "analytic_los=0 logistic=0 constant_anisotropy=1\n",
      "No PSF/pixel convolution because sigmapsf=0 pixsize=0\n",
      "inc=48.2; beta[0]=0.0; kappa=1.00; M/L=1.00; BH=0.0; chi2/DOF=nan\n",
      "Total mass MGE (MSun): 2.382e+13\n",
      "\n",
      "sigma_e: 185.49 km/s\n",
      "theta_E: 0.713 arcsec\n"
     ]
    },
    {
     "name": "stdout",
     "output_type": "stream",
     "text": [
      "jam_axi_proj(align='sph', moment='zz') -- elapsed time sec: 0.87\n",
      "analytic_los=0 logistic=0 constant_anisotropy=1\n",
      "No PSF/pixel convolution because sigmapsf=0 pixsize=0\n",
      "inc=42.1; beta[0]=0.0; kappa=1.00; M/L=1.00; BH=0.0; chi2/DOF=nan\n",
      "Total mass MGE (MSun): 2.382e+13\n",
      "\n",
      "sigma_e: 186.84 km/s\n",
      "theta_E: 0.739 arcsec\n"
     ]
    },
    {
     "name": "stdout",
     "output_type": "stream",
     "text": [
      "jam_axi_proj(align='sph', moment='zz') -- elapsed time sec: 0.85\n",
      "analytic_los=0 logistic=0 constant_anisotropy=1\n",
      "No PSF/pixel convolution because sigmapsf=0 pixsize=0\n",
      "inc=22.7; beta[0]=0.0; kappa=1.00; M/L=1.00; BH=0.0; chi2/DOF=nan\n",
      "Total mass MGE (MSun): 2.382e+13\n",
      "\n",
      "sigma_e: 189.81 km/s\n",
      "theta_E: 0.666 arcsec\n"
     ]
    },
    {
     "name": "stdout",
     "output_type": "stream",
     "text": [
      "jam_axi_proj(align='sph', moment='zz') -- elapsed time sec: 0.92\n",
      "analytic_los=0 logistic=0 constant_anisotropy=1\n",
      "No PSF/pixel convolution because sigmapsf=0 pixsize=0\n",
      "inc=73.1; beta[0]=0.0; kappa=1.00; M/L=1.00; BH=0.0; chi2/DOF=nan\n",
      "Total mass MGE (MSun): 2.382e+13\n",
      "\n",
      "sigma_e: 179.30 km/s\n",
      "theta_E: 0.743 arcsec\n"
     ]
    },
    {
     "name": "stdout",
     "output_type": "stream",
     "text": [
      "jam_axi_proj(align='sph', moment='zz') -- elapsed time sec: 0.85\n",
      "analytic_los=0 logistic=0 constant_anisotropy=1\n",
      "No PSF/pixel convolution because sigmapsf=0 pixsize=0\n",
      "inc=18.0; beta[0]=0.0; kappa=1.00; M/L=1.00; BH=0.0; chi2/DOF=nan\n",
      "Total mass MGE (MSun): 2.382e+13\n",
      "\n",
      "sigma_e: 190.22 km/s\n"
     ]
    },
    {
     "name": "stdout",
     "output_type": "stream",
     "text": [
      "theta_E: 0.571 arcsec\n"
     ]
    },
    {
     "name": "stdout",
     "output_type": "stream",
     "text": [
      "jam_axi_proj(align='sph', moment='zz') -- elapsed time sec: 0.98\n",
      "analytic_los=0 logistic=0 constant_anisotropy=1\n",
      "No PSF/pixel convolution because sigmapsf=0 pixsize=0\n",
      "inc=71.9; beta[0]=0.0; kappa=1.00; M/L=1.00; BH=0.0; chi2/DOF=nan\n",
      "Total mass MGE (MSun): 1.821e+13\n",
      "\n",
      "sigma_e: 164.04 km/s\n",
      "theta_E: 0.548 arcsec\n"
     ]
    },
    {
     "name": "stdout",
     "output_type": "stream",
     "text": [
      "jam_axi_proj(align='sph', moment='zz') -- elapsed time sec: 1.07\n",
      "analytic_los=0 logistic=0 constant_anisotropy=1\n",
      "No PSF/pixel convolution because sigmapsf=0 pixsize=0\n",
      "inc=85.0; beta[0]=0.0; kappa=1.00; M/L=1.00; BH=0.0; chi2/DOF=nan\n",
      "Total mass MGE (MSun): 1.821e+13\n",
      "\n",
      "sigma_e: 157.13 km/s\n",
      "theta_E: 0.552 arcsec\n"
     ]
    },
    {
     "name": "stdout",
     "output_type": "stream",
     "text": [
      "jam_axi_proj(align='sph', moment='zz') -- elapsed time sec: 1.03\n",
      "analytic_los=0 logistic=0 constant_anisotropy=1\n",
      "No PSF/pixel convolution because sigmapsf=0 pixsize=0\n",
      "inc=81.8; beta[0]=0.0; kappa=1.00; M/L=1.00; BH=0.0; chi2/DOF=nan\n",
      "Total mass MGE (MSun): 1.821e+13\n",
      "\n",
      "sigma_e: 158.29 km/s\n",
      "theta_E: 0.579 arcsec\n"
     ]
    },
    {
     "name": "stdout",
     "output_type": "stream",
     "text": [
      "jam_axi_proj(align='sph', moment='zz') -- elapsed time sec: 1.00\n",
      "analytic_los=0 logistic=0 constant_anisotropy=1\n",
      "No PSF/pixel convolution because sigmapsf=0 pixsize=0\n",
      "inc=68.9; beta[0]=0.0; kappa=1.00; M/L=1.00; BH=0.0; chi2/DOF=nan\n",
      "Total mass MGE (MSun): 1.821e+13\n",
      "\n",
      "sigma_e: 166.13 km/s\n",
      "theta_E: 0.552 arcsec\n"
     ]
    },
    {
     "name": "stdout",
     "output_type": "stream",
     "text": [
      "jam_axi_proj(align='sph', moment='zz') -- elapsed time sec: 1.02\n",
      "analytic_los=0 logistic=0 constant_anisotropy=1\n",
      "No PSF/pixel convolution because sigmapsf=0 pixsize=0\n",
      "inc=81.3; beta[0]=0.0; kappa=1.00; M/L=1.00; BH=0.0; chi2/DOF=nan\n",
      "Total mass MGE (MSun): 1.821e+13\n",
      "\n",
      "sigma_e: 158.49 km/s\n",
      "theta_E: 0.627 arcsec\n"
     ]
    },
    {
     "name": "stdout",
     "output_type": "stream",
     "text": [
      "jam_axi_proj(align='sph', moment='zz') -- elapsed time sec: 0.95\n",
      "analytic_los=0 logistic=0 constant_anisotropy=1\n",
      "No PSF/pixel convolution because sigmapsf=0 pixsize=0\n",
      "inc=53.2; beta[0]=0.0; kappa=1.00; M/L=1.00; BH=0.0; chi2/DOF=nan\n",
      "Total mass MGE (MSun): 1.821e+13\n",
      "\n",
      "sigma_e: 176.23 km/s\n",
      "theta_E: 0.605 arcsec\n"
     ]
    },
    {
     "name": "stdout",
     "output_type": "stream",
     "text": [
      "jam_axi_proj(align='sph', moment='zz') -- elapsed time sec: 0.98\n",
      "analytic_los=0 logistic=0 constant_anisotropy=1\n",
      "No PSF/pixel convolution because sigmapsf=0 pixsize=0\n",
      "inc=60.3; beta[0]=0.0; kappa=1.00; M/L=1.00; BH=0.0; chi2/DOF=nan\n",
      "Total mass MGE (MSun): 1.821e+13\n",
      "\n",
      "sigma_e: 172.02 km/s\n",
      "theta_E: 0.633 arcsec\n"
     ]
    },
    {
     "name": "stdout",
     "output_type": "stream",
     "text": [
      "jam_axi_proj(align='sph', moment='zz') -- elapsed time sec: 0.97\n",
      "analytic_los=0 logistic=0 constant_anisotropy=1\n",
      "No PSF/pixel convolution because sigmapsf=0 pixsize=0\n",
      "inc=51.4; beta[0]=0.0; kappa=1.00; M/L=1.00; BH=0.0; chi2/DOF=nan\n",
      "Total mass MGE (MSun): 1.821e+13\n",
      "\n",
      "sigma_e: 177.23 km/s\n",
      "theta_E: 0.711 arcsec\n"
     ]
    },
    {
     "name": "stdout",
     "output_type": "stream",
     "text": [
      "jam_axi_proj(align='sph', moment='zz') -- elapsed time sec: 0.93\n",
      "analytic_los=0 logistic=0 constant_anisotropy=1\n",
      "No PSF/pixel convolution because sigmapsf=0 pixsize=0\n",
      "inc=17.2; beta[0]=0.0; kappa=1.00; M/L=1.00; BH=0.0; chi2/DOF=nan\n",
      "Total mass MGE (MSun): 1.821e+13\n",
      "\n",
      "sigma_e: 186.83 km/s\n",
      "theta_E: 0.567 arcsec\n"
     ]
    },
    {
     "name": "stdout",
     "output_type": "stream",
     "text": [
      "jam_axi_proj(align='sph', moment='zz') -- elapsed time sec: 1.05\n",
      "analytic_los=0 logistic=0 constant_anisotropy=1\n",
      "No PSF/pixel convolution because sigmapsf=0 pixsize=0\n",
      "inc=73.5; beta[0]=0.0; kappa=1.00; M/L=1.00; BH=0.0; chi2/DOF=nan\n",
      "Total mass MGE (MSun): 1.821e+13\n",
      "\n",
      "sigma_e: 162.99 km/s\n"
     ]
    },
    {
     "name": "stdout",
     "output_type": "stream",
     "text": [
      "theta_E: 0.594 arcsec\n"
     ]
    },
    {
     "name": "stdout",
     "output_type": "stream",
     "text": [
      "jam_axi_proj(align='sph', moment='zz') -- elapsed time sec: 1.04\n",
      "analytic_los=0 logistic=0 constant_anisotropy=1\n",
      "No PSF/pixel convolution because sigmapsf=0 pixsize=0\n",
      "inc=66.6; beta[0]=0.0; kappa=1.00; M/L=1.00; BH=0.0; chi2/DOF=nan\n",
      "Total mass MGE (MSun): 1.871e+13\n",
      "\n",
      "sigma_e: 169.13 km/s\n",
      "theta_E: 0.635 arcsec\n"
     ]
    },
    {
     "name": "stdout",
     "output_type": "stream",
     "text": [
      "jam_axi_proj(align='sph', moment='zz') -- elapsed time sec: 0.95\n",
      "analytic_los=0 logistic=0 constant_anisotropy=1\n",
      "No PSF/pixel convolution because sigmapsf=0 pixsize=0\n",
      "inc=51.6; beta[0]=0.0; kappa=1.00; M/L=1.00; BH=0.0; chi2/DOF=nan\n",
      "Total mass MGE (MSun): 1.871e+13\n",
      "\n",
      "sigma_e: 177.22 km/s\n",
      "theta_E: 0.568 arcsec\n"
     ]
    },
    {
     "name": "stdout",
     "output_type": "stream",
     "text": [
      "jam_axi_proj(align='sph', moment='zz') -- elapsed time sec: 0.99\n",
      "analytic_los=0 logistic=0 constant_anisotropy=1\n",
      "No PSF/pixel convolution because sigmapsf=0 pixsize=0\n",
      "inc=78.5; beta[0]=0.0; kappa=1.00; M/L=1.00; BH=0.0; chi2/DOF=nan\n",
      "Total mass MGE (MSun): 1.871e+13\n",
      "\n",
      "sigma_e: 162.63 km/s\n",
      "theta_E: 0.612 arcsec\n"
     ]
    },
    {
     "name": "stdout",
     "output_type": "stream",
     "text": [
      "jam_axi_proj(align='sph', moment='zz') -- elapsed time sec: 0.98\n",
      "analytic_los=0 logistic=0 constant_anisotropy=1\n",
      "No PSF/pixel convolution because sigmapsf=0 pixsize=0\n",
      "inc=59.7; beta[0]=0.0; kappa=1.00; M/L=1.00; BH=0.0; chi2/DOF=nan\n",
      "Total mass MGE (MSun): 1.871e+13\n",
      "\n",
      "sigma_e: 173.09 km/s\n",
      "theta_E: 0.561 arcsec\n"
     ]
    },
    {
     "name": "stdout",
     "output_type": "stream",
     "text": [
      "jam_axi_proj(align='sph', moment='zz') -- elapsed time sec: 0.99\n",
      "analytic_los=0 logistic=0 constant_anisotropy=1\n",
      "No PSF/pixel convolution because sigmapsf=0 pixsize=0\n",
      "inc=85.3; beta[0]=0.0; kappa=1.00; M/L=1.00; BH=0.0; chi2/DOF=nan\n",
      "Total mass MGE (MSun): 1.871e+13\n",
      "\n",
      "sigma_e: 160.36 km/s\n",
      "theta_E: 0.659 arcsec\n"
     ]
    },
    {
     "name": "stdout",
     "output_type": "stream",
     "text": [
      "jam_axi_proj(align='sph', moment='zz') -- elapsed time sec: 0.92\n",
      "analytic_los=0 logistic=0 constant_anisotropy=1\n",
      "No PSF/pixel convolution because sigmapsf=0 pixsize=0\n",
      "inc=42.4; beta[0]=0.0; kappa=1.00; M/L=1.00; BH=0.0; chi2/DOF=nan\n",
      "Total mass MGE (MSun): 1.871e+13\n",
      "\n",
      "sigma_e: 180.87 km/s\n",
      "theta_E: 0.642 arcsec\n"
     ]
    },
    {
     "name": "stdout",
     "output_type": "stream",
     "text": [
      "jam_axi_proj(align='sph', moment='zz') -- elapsed time sec: 0.96\n",
      "analytic_los=0 logistic=0 constant_anisotropy=1\n",
      "No PSF/pixel convolution because sigmapsf=0 pixsize=0\n",
      "inc=49.0; beta[0]=0.0; kappa=1.00; M/L=1.00; BH=0.0; chi2/DOF=nan\n",
      "Total mass MGE (MSun): 1.871e+13\n",
      "\n",
      "sigma_e: 178.37 km/s\n",
      "theta_E: 0.698 arcsec\n"
     ]
    },
    {
     "name": "stdout",
     "output_type": "stream",
     "text": [
      "jam_axi_proj(align='sph', moment='zz') -- elapsed time sec: 0.95\n",
      "analytic_los=0 logistic=0 constant_anisotropy=1\n",
      "No PSF/pixel convolution because sigmapsf=0 pixsize=0\n",
      "inc=24.3; beta[0]=0.0; kappa=1.00; M/L=1.00; BH=0.0; chi2/DOF=nan\n",
      "Total mass MGE (MSun): 1.871e+13\n",
      "\n",
      "sigma_e: 185.27 km/s\n",
      "theta_E: 0.644 arcsec\n"
     ]
    },
    {
     "name": "stdout",
     "output_type": "stream",
     "text": [
      "jam_axi_proj(align='sph', moment='zz') -- elapsed time sec: 1.01\n",
      "analytic_los=0 logistic=0 constant_anisotropy=1\n",
      "No PSF/pixel convolution because sigmapsf=0 pixsize=0\n",
      "inc=48.2; beta[0]=0.0; kappa=1.00; M/L=1.00; BH=0.0; chi2/DOF=nan\n",
      "Total mass MGE (MSun): 1.871e+13\n",
      "\n",
      "sigma_e: 178.69 km/s\n",
      "theta_E: 0.618 arcsec\n"
     ]
    },
    {
     "name": "stdout",
     "output_type": "stream",
     "text": [
      "jam_axi_proj(align='sph', moment='zz') -- elapsed time sec: 0.94\n",
      "analytic_los=0 logistic=0 constant_anisotropy=1\n",
      "No PSF/pixel convolution because sigmapsf=0 pixsize=0\n",
      "inc=57.8; beta[0]=0.0; kappa=1.00; M/L=1.00; BH=0.0; chi2/DOF=nan\n",
      "Total mass MGE (MSun): 1.871e+13\n",
      "\n",
      "sigma_e: 174.14 km/s\n"
     ]
    },
    {
     "name": "stdout",
     "output_type": "stream",
     "text": [
      "theta_E: 0.944 arcsec\n"
     ]
    },
    {
     "name": "stdout",
     "output_type": "stream",
     "text": [
      "jam_axi_proj(align='sph', moment='zz') -- elapsed time sec: 0.97\n",
      "analytic_los=0 logistic=0 constant_anisotropy=1\n",
      "No PSF/pixel convolution because sigmapsf=0 pixsize=0\n",
      "inc=74.8; beta[0]=0.0; kappa=1.00; M/L=1.00; BH=0.0; chi2/DOF=nan\n",
      "Total mass MGE (MSun): 5.028e+13\n",
      "\n",
      "sigma_e: 207.61 km/s\n",
      "theta_E: 0.918 arcsec\n"
     ]
    },
    {
     "name": "stdout",
     "output_type": "stream",
     "text": [
      "jam_axi_proj(align='sph', moment='zz') -- elapsed time sec: 1.00\n",
      "analytic_los=0 logistic=0 constant_anisotropy=1\n",
      "No PSF/pixel convolution because sigmapsf=0 pixsize=0\n",
      "inc=85.6; beta[0]=0.0; kappa=1.00; M/L=1.00; BH=0.0; chi2/DOF=nan\n",
      "Total mass MGE (MSun): 5.028e+13\n",
      "\n",
      "sigma_e: 201.38 km/s\n",
      "theta_E: 1.173 arcsec\n"
     ]
    },
    {
     "name": "stdout",
     "output_type": "stream",
     "text": [
      "jam_axi_proj(align='sph', moment='zz') -- elapsed time sec: 0.89\n",
      "analytic_los=0 logistic=0 constant_anisotropy=1\n",
      "No PSF/pixel convolution because sigmapsf=0 pixsize=0\n",
      "inc=18.6; beta[0]=0.0; kappa=1.00; M/L=1.00; BH=0.0; chi2/DOF=nan\n",
      "Total mass MGE (MSun): 5.028e+13\n",
      "\n",
      "sigma_e: 238.02 km/s\n",
      "theta_E: 0.922 arcsec\n"
     ]
    },
    {
     "name": "stdout",
     "output_type": "stream",
     "text": [
      "jam_axi_proj(align='sph', moment='zz') -- elapsed time sec: 1.04\n",
      "analytic_los=0 logistic=0 constant_anisotropy=1\n",
      "No PSF/pixel convolution because sigmapsf=0 pixsize=0\n",
      "inc=82.7; beta[0]=0.0; kappa=1.00; M/L=1.00; BH=0.0; chi2/DOF=nan\n",
      "Total mass MGE (MSun): 5.028e+13\n",
      "\n",
      "sigma_e: 202.48 km/s\n",
      "theta_E: 0.928 arcsec\n"
     ]
    },
    {
     "name": "stdout",
     "output_type": "stream",
     "text": [
      "jam_axi_proj(align='sph', moment='zz') -- elapsed time sec: 1.01\n",
      "analytic_los=0 logistic=0 constant_anisotropy=1\n",
      "No PSF/pixel convolution because sigmapsf=0 pixsize=0\n",
      "inc=80.1; beta[0]=0.0; kappa=1.00; M/L=1.00; BH=0.0; chi2/DOF=nan\n",
      "Total mass MGE (MSun): 5.028e+13\n",
      "\n",
      "sigma_e: 203.83 km/s\n",
      "theta_E: 0.934 arcsec\n"
     ]
    },
    {
     "name": "stdout",
     "output_type": "stream",
     "text": [
      "jam_axi_proj(align='sph', moment='zz') -- elapsed time sec: 1.00\n",
      "analytic_los=0 logistic=0 constant_anisotropy=1\n",
      "No PSF/pixel convolution because sigmapsf=0 pixsize=0\n",
      "inc=77.8; beta[0]=0.0; kappa=1.00; M/L=1.00; BH=0.0; chi2/DOF=nan\n",
      "Total mass MGE (MSun): 5.028e+13\n",
      "\n",
      "sigma_e: 205.28 km/s\n",
      "theta_E: 1.025 arcsec\n"
     ]
    },
    {
     "name": "stdout",
     "output_type": "stream",
     "text": [
      "jam_axi_proj(align='sph', moment='zz') -- elapsed time sec: 0.96\n",
      "analytic_los=0 logistic=0 constant_anisotropy=1\n",
      "No PSF/pixel convolution because sigmapsf=0 pixsize=0\n",
      "inc=56.5; beta[0]=0.0; kappa=1.00; M/L=1.00; BH=0.0; chi2/DOF=nan\n",
      "Total mass MGE (MSun): 5.028e+13\n",
      "\n",
      "sigma_e: 222.54 km/s\n",
      "theta_E: 0.916 arcsec\n"
     ]
    },
    {
     "name": "stdout",
     "output_type": "stream",
     "text": [
      "jam_axi_proj(align='sph', moment='zz') -- elapsed time sec: 1.01\n",
      "analytic_los=0 logistic=0 constant_anisotropy=1\n",
      "No PSF/pixel convolution because sigmapsf=0 pixsize=0\n",
      "inc=87.6; beta[0]=0.0; kappa=1.00; M/L=1.00; BH=0.0; chi2/DOF=nan\n",
      "Total mass MGE (MSun): 5.028e+13\n",
      "\n",
      "sigma_e: 200.92 km/s\n",
      "theta_E: 1.119 arcsec\n"
     ]
    },
    {
     "name": "stdout",
     "output_type": "stream",
     "text": [
      "jam_axi_proj(align='sph', moment='zz') -- elapsed time sec: 1.02\n",
      "analytic_los=0 logistic=0 constant_anisotropy=1\n",
      "No PSF/pixel convolution because sigmapsf=0 pixsize=0\n",
      "inc=36.0; beta[0]=0.0; kappa=1.00; M/L=1.00; BH=0.0; chi2/DOF=nan\n",
      "Total mass MGE (MSun): 5.028e+13\n",
      "\n",
      "sigma_e: 233.79 km/s\n",
      "theta_E: 1.113 arcsec\n"
     ]
    },
    {
     "name": "stdout",
     "output_type": "stream",
     "text": [
      "jam_axi_proj(align='sph', moment='zz') -- elapsed time sec: 1.00\n",
      "analytic_los=0 logistic=0 constant_anisotropy=1\n",
      "No PSF/pixel convolution because sigmapsf=0 pixsize=0\n",
      "inc=37.5; beta[0]=0.0; kappa=1.00; M/L=1.00; BH=0.0; chi2/DOF=nan\n",
      "Total mass MGE (MSun): 5.028e+13\n",
      "\n",
      "sigma_e: 233.24 km/s\n"
     ]
    },
    {
     "name": "stdout",
     "output_type": "stream",
     "text": [
      "theta_E: 0.749 arcsec\n"
     ]
    },
    {
     "name": "stdout",
     "output_type": "stream",
     "text": [
      "jam_axi_proj(align='sph', moment='zz') -- elapsed time sec: 0.87\n",
      "analytic_los=0 logistic=0 constant_anisotropy=1\n",
      "No PSF/pixel convolution because sigmapsf=0 pixsize=0\n",
      "inc=35.1; beta[0]=0.0; kappa=1.00; M/L=1.00; BH=0.0; chi2/DOF=nan\n",
      "Total mass MGE (MSun): 2.331e+13\n",
      "\n",
      "sigma_e: 192.08 km/s\n",
      "theta_E: 0.713 arcsec\n"
     ]
    },
    {
     "name": "stdout",
     "output_type": "stream",
     "text": [
      "jam_axi_proj(align='sph', moment='zz') -- elapsed time sec: 0.91\n",
      "analytic_los=0 logistic=0 constant_anisotropy=1\n",
      "No PSF/pixel convolution because sigmapsf=0 pixsize=0\n",
      "inc=49.0; beta[0]=0.0; kappa=1.00; M/L=1.00; BH=0.0; chi2/DOF=nan\n",
      "Total mass MGE (MSun): 2.331e+13\n",
      "\n",
      "sigma_e: 187.43 km/s\n",
      "theta_E: 0.658 arcsec\n"
     ]
    },
    {
     "name": "stdout",
     "output_type": "stream",
     "text": [
      "jam_axi_proj(align='sph', moment='zz') -- elapsed time sec: 0.93\n",
      "analytic_los=0 logistic=0 constant_anisotropy=1\n",
      "No PSF/pixel convolution because sigmapsf=0 pixsize=0\n",
      "inc=68.8; beta[0]=0.0; kappa=1.00; M/L=1.00; BH=0.0; chi2/DOF=nan\n",
      "Total mass MGE (MSun): 2.331e+13\n",
      "\n",
      "sigma_e: 177.32 km/s\n",
      "theta_E: 0.688 arcsec\n"
     ]
    },
    {
     "name": "stdout",
     "output_type": "stream",
     "text": [
      "jam_axi_proj(align='sph', moment='zz') -- elapsed time sec: 0.93\n",
      "analytic_los=0 logistic=0 constant_anisotropy=1\n",
      "No PSF/pixel convolution because sigmapsf=0 pixsize=0\n",
      "inc=57.8; beta[0]=0.0; kappa=1.00; M/L=1.00; BH=0.0; chi2/DOF=nan\n",
      "Total mass MGE (MSun): 2.331e+13\n",
      "\n",
      "sigma_e: 183.35 km/s\n",
      "theta_E: 0.676 arcsec\n"
     ]
    },
    {
     "name": "stdout",
     "output_type": "stream",
     "text": [
      "jam_axi_proj(align='sph', moment='zz') -- elapsed time sec: 0.95\n",
      "analytic_los=0 logistic=0 constant_anisotropy=1\n",
      "No PSF/pixel convolution because sigmapsf=0 pixsize=0\n",
      "inc=62.0; beta[0]=0.0; kappa=1.00; M/L=1.00; BH=0.0; chi2/DOF=nan\n",
      "Total mass MGE (MSun): 2.331e+13\n",
      "\n",
      "sigma_e: 181.06 km/s\n",
      "theta_E: 0.649 arcsec\n"
     ]
    },
    {
     "name": "stdout",
     "output_type": "stream",
     "text": [
      "jam_axi_proj(align='sph', moment='zz') -- elapsed time sec: 0.95\n",
      "analytic_los=0 logistic=0 constant_anisotropy=1\n",
      "No PSF/pixel convolution because sigmapsf=0 pixsize=0\n",
      "inc=72.4; beta[0]=0.0; kappa=1.00; M/L=1.00; BH=0.0; chi2/DOF=nan\n",
      "Total mass MGE (MSun): 2.331e+13\n",
      "\n",
      "sigma_e: 175.29 km/s\n",
      "theta_E: 0.672 arcsec\n"
     ]
    },
    {
     "name": "stdout",
     "output_type": "stream",
     "text": [
      "jam_axi_proj(align='sph', moment='zz') -- elapsed time sec: 0.93\n",
      "analytic_los=0 logistic=0 constant_anisotropy=1\n",
      "No PSF/pixel convolution because sigmapsf=0 pixsize=0\n",
      "inc=63.2; beta[0]=0.0; kappa=1.00; M/L=1.00; BH=0.0; chi2/DOF=nan\n",
      "Total mass MGE (MSun): 2.331e+13\n",
      "\n",
      "sigma_e: 180.43 km/s\n",
      "theta_E: 0.767 arcsec\n"
     ]
    },
    {
     "name": "stdout",
     "output_type": "stream",
     "text": [
      "jam_axi_proj(align='sph', moment='zz') -- elapsed time sec: 0.89\n",
      "analytic_los=0 logistic=0 constant_anisotropy=1\n",
      "No PSF/pixel convolution because sigmapsf=0 pixsize=0\n",
      "inc=26.6; beta[0]=0.0; kappa=1.00; M/L=1.00; BH=0.0; chi2/DOF=nan\n",
      "Total mass MGE (MSun): 2.331e+13\n",
      "\n",
      "sigma_e: 193.95 km/s\n",
      "theta_E: 0.690 arcsec\n"
     ]
    },
    {
     "name": "stdout",
     "output_type": "stream",
     "text": [
      "jam_axi_proj(align='sph', moment='zz') -- elapsed time sec: 0.91\n",
      "analytic_los=0 logistic=0 constant_anisotropy=1\n",
      "No PSF/pixel convolution because sigmapsf=0 pixsize=0\n",
      "inc=56.8; beta[0]=0.0; kappa=1.00; M/L=1.00; BH=0.0; chi2/DOF=nan\n",
      "Total mass MGE (MSun): 2.331e+13\n",
      "\n",
      "sigma_e: 183.83 km/s\n",
      "theta_E: 0.680 arcsec\n"
     ]
    },
    {
     "name": "stdout",
     "output_type": "stream",
     "text": [
      "jam_axi_proj(align='sph', moment='zz') -- elapsed time sec: 0.92\n",
      "analytic_los=0 logistic=0 constant_anisotropy=1\n",
      "No PSF/pixel convolution because sigmapsf=0 pixsize=0\n",
      "inc=60.5; beta[0]=0.0; kappa=1.00; M/L=1.00; BH=0.0; chi2/DOF=nan\n",
      "Total mass MGE (MSun): 2.331e+13\n",
      "\n",
      "sigma_e: 181.94 km/s\n"
     ]
    },
    {
     "name": "stdout",
     "output_type": "stream",
     "text": [
      "theta_E: 0.522 arcsec\n"
     ]
    },
    {
     "name": "stdout",
     "output_type": "stream",
     "text": [
      "jam_axi_proj(align='sph', moment='zz') -- elapsed time sec: 1.03\n",
      "analytic_los=0 logistic=0 constant_anisotropy=1\n",
      "No PSF/pixel convolution because sigmapsf=0 pixsize=0\n",
      "inc=80.7; beta[0]=0.0; kappa=1.00; M/L=1.00; BH=0.0; chi2/DOF=nan\n",
      "Total mass MGE (MSun): 1.628e+13\n",
      "\n",
      "sigma_e: 153.81 km/s\n",
      "theta_E: 0.668 arcsec\n"
     ]
    },
    {
     "name": "stdout",
     "output_type": "stream",
     "text": [
      "jam_axi_proj(align='sph', moment='zz') -- elapsed time sec: 0.91\n",
      "analytic_los=0 logistic=0 constant_anisotropy=1\n",
      "No PSF/pixel convolution because sigmapsf=0 pixsize=0\n",
      "inc=22.0; beta[0]=0.0; kappa=1.00; M/L=1.00; BH=0.0; chi2/DOF=nan\n",
      "Total mass MGE (MSun): 1.628e+13\n",
      "\n",
      "sigma_e: 181.34 km/s\n",
      "theta_E: 0.517 arcsec\n"
     ]
    },
    {
     "name": "stdout",
     "output_type": "stream",
     "text": [
      "jam_axi_proj(align='sph', moment='zz') -- elapsed time sec: 1.00\n",
      "analytic_los=0 logistic=0 constant_anisotropy=1\n",
      "No PSF/pixel convolution because sigmapsf=0 pixsize=0\n",
      "inc=84.3; beta[0]=0.0; kappa=1.00; M/L=1.00; BH=0.0; chi2/DOF=nan\n",
      "Total mass MGE (MSun): 1.628e+13\n",
      "\n",
      "sigma_e: 152.35 km/s\n",
      "theta_E: 0.646 arcsec\n"
     ]
    },
    {
     "name": "stdout",
     "output_type": "stream",
     "text": [
      "jam_axi_proj(align='sph', moment='zz') -- elapsed time sec: 0.91\n",
      "analytic_los=0 logistic=0 constant_anisotropy=1\n",
      "No PSF/pixel convolution because sigmapsf=0 pixsize=0\n",
      "inc=33.7; beta[0]=0.0; kappa=1.00; M/L=1.00; BH=0.0; chi2/DOF=nan\n",
      "Total mass MGE (MSun): 1.628e+13\n",
      "\n",
      "sigma_e: 179.03 km/s\n",
      "theta_E: 0.532 arcsec\n"
     ]
    },
    {
     "name": "stdout",
     "output_type": "stream",
     "text": [
      "jam_axi_proj(align='sph', moment='zz') -- elapsed time sec: 1.05\n",
      "analytic_los=0 logistic=0 constant_anisotropy=1\n",
      "No PSF/pixel convolution because sigmapsf=0 pixsize=0\n",
      "inc=75.0; beta[0]=0.0; kappa=1.00; M/L=1.00; BH=0.0; chi2/DOF=nan\n",
      "Total mass MGE (MSun): 1.628e+13\n",
      "\n",
      "sigma_e: 157.06 km/s\n",
      "theta_E: 0.664 arcsec\n"
     ]
    },
    {
     "name": "stdout",
     "output_type": "stream",
     "text": [
      "jam_axi_proj(align='sph', moment='zz') -- elapsed time sec: 0.90\n",
      "analytic_los=0 logistic=0 constant_anisotropy=1\n",
      "No PSF/pixel convolution because sigmapsf=0 pixsize=0\n",
      "inc=24.5; beta[0]=0.0; kappa=1.00; M/L=1.00; BH=0.0; chi2/DOF=nan\n",
      "Total mass MGE (MSun): 1.628e+13\n",
      "\n",
      "sigma_e: 180.95 km/s\n",
      "theta_E: 0.528 arcsec\n"
     ]
    },
    {
     "name": "stdout",
     "output_type": "stream",
     "text": [
      "jam_axi_proj(align='sph', moment='zz') -- elapsed time sec: 1.01\n",
      "analytic_los=0 logistic=0 constant_anisotropy=1\n",
      "No PSF/pixel convolution because sigmapsf=0 pixsize=0\n",
      "inc=77.0; beta[0]=0.0; kappa=1.00; M/L=1.00; BH=0.0; chi2/DOF=nan\n",
      "Total mass MGE (MSun): 1.628e+13\n",
      "\n",
      "sigma_e: 155.84 km/s\n",
      "theta_E: 0.517 arcsec\n"
     ]
    },
    {
     "name": "stdout",
     "output_type": "stream",
     "text": [
      "jam_axi_proj(align='sph', moment='zz') -- elapsed time sec: 1.00\n",
      "analytic_los=0 logistic=0 constant_anisotropy=1\n",
      "No PSF/pixel convolution because sigmapsf=0 pixsize=0\n",
      "inc=84.2; beta[0]=0.0; kappa=1.00; M/L=1.00; BH=0.0; chi2/DOF=nan\n",
      "Total mass MGE (MSun): 1.628e+13\n",
      "\n",
      "sigma_e: 152.38 km/s\n",
      "theta_E: 0.644 arcsec\n"
     ]
    },
    {
     "name": "stdout",
     "output_type": "stream",
     "text": [
      "jam_axi_proj(align='sph', moment='zz') -- elapsed time sec: 0.91\n",
      "analytic_los=0 logistic=0 constant_anisotropy=1\n",
      "No PSF/pixel convolution because sigmapsf=0 pixsize=0\n",
      "inc=34.8; beta[0]=0.0; kappa=1.00; M/L=1.00; BH=0.0; chi2/DOF=nan\n",
      "Total mass MGE (MSun): 1.628e+13\n",
      "\n",
      "sigma_e: 178.72 km/s\n",
      "theta_E: 0.517 arcsec\n"
     ]
    },
    {
     "name": "stdout",
     "output_type": "stream",
     "text": [
      "jam_axi_proj(align='sph', moment='zz') -- elapsed time sec: 1.00\n",
      "analytic_los=0 logistic=0 constant_anisotropy=1\n",
      "No PSF/pixel convolution because sigmapsf=0 pixsize=0\n",
      "inc=84.2; beta[0]=0.0; kappa=1.00; M/L=1.00; BH=0.0; chi2/DOF=nan\n",
      "Total mass MGE (MSun): 1.628e+13\n",
      "\n",
      "sigma_e: 152.38 km/s\n"
     ]
    },
    {
     "name": "stdout",
     "output_type": "stream",
     "text": [
      "theta_E: 0.464 arcsec\n"
     ]
    },
    {
     "name": "stdout",
     "output_type": "stream",
     "text": [
      "jam_axi_proj(align='sph', moment='zz') -- elapsed time sec: 0.91\n",
      "analytic_los=0 logistic=0 constant_anisotropy=1\n",
      "No PSF/pixel convolution because sigmapsf=0 pixsize=0\n",
      "inc=43.5; beta[0]=0.0; kappa=1.00; M/L=1.00; BH=0.0; chi2/DOF=nan\n",
      "Total mass MGE (MSun): 9.017e+12\n",
      "\n",
      "sigma_e: 151.87 km/s\n",
      "theta_E: 0.396 arcsec\n"
     ]
    },
    {
     "name": "stdout",
     "output_type": "stream",
     "text": [
      "jam_axi_proj(align='sph', moment='zz') -- elapsed time sec: 1.04\n",
      "analytic_los=0 logistic=0 constant_anisotropy=1\n",
      "No PSF/pixel convolution because sigmapsf=0 pixsize=0\n",
      "inc=73.6; beta[0]=0.0; kappa=1.00; M/L=1.00; BH=0.0; chi2/DOF=nan\n",
      "Total mass MGE (MSun): 9.017e+12\n",
      "\n",
      "sigma_e: 135.48 km/s\n",
      "theta_E: 0.504 arcsec\n"
     ]
    },
    {
     "name": "stdout",
     "output_type": "stream",
     "text": [
      "jam_axi_proj(align='sph', moment='zz') -- elapsed time sec: 0.89\n",
      "analytic_los=0 logistic=0 constant_anisotropy=1\n",
      "No PSF/pixel convolution because sigmapsf=0 pixsize=0\n",
      "inc=17.8; beta[0]=0.0; kappa=1.00; M/L=1.00; BH=0.0; chi2/DOF=nan\n",
      "Total mass MGE (MSun): 9.017e+12\n",
      "\n",
      "sigma_e: 157.20 km/s\n",
      "theta_E: 0.428 arcsec\n"
     ]
    },
    {
     "name": "stdout",
     "output_type": "stream",
     "text": [
      "jam_axi_proj(align='sph', moment='zz') -- elapsed time sec: 0.93\n",
      "analytic_los=0 logistic=0 constant_anisotropy=1\n",
      "No PSF/pixel convolution because sigmapsf=0 pixsize=0\n",
      "inc=59.1; beta[0]=0.0; kappa=1.00; M/L=1.00; BH=0.0; chi2/DOF=nan\n",
      "Total mass MGE (MSun): 9.017e+12\n",
      "\n",
      "sigma_e: 144.70 km/s\n",
      "theta_E: 0.381 arcsec\n"
     ]
    },
    {
     "name": "stdout",
     "output_type": "stream",
     "text": [
      "jam_axi_proj(align='sph', moment='zz') -- elapsed time sec: 0.94\n",
      "analytic_los=0 logistic=0 constant_anisotropy=1\n",
      "No PSF/pixel convolution because sigmapsf=0 pixsize=0\n",
      "inc=86.5; beta[0]=0.0; kappa=1.00; M/L=1.00; BH=0.0; chi2/DOF=nan\n",
      "Total mass MGE (MSun): 9.017e+12\n",
      "\n",
      "sigma_e: 129.64 km/s\n",
      "theta_E: 0.381 arcsec\n"
     ]
    },
    {
     "name": "stdout",
     "output_type": "stream",
     "text": [
      "jam_axi_proj(align='sph', moment='zz') -- elapsed time sec: 0.94\n",
      "analytic_los=0 logistic=0 constant_anisotropy=1\n",
      "No PSF/pixel convolution because sigmapsf=0 pixsize=0\n",
      "inc=86.4; beta[0]=0.0; kappa=1.00; M/L=1.00; BH=0.0; chi2/DOF=nan\n",
      "Total mass MGE (MSun): 9.017e+12\n",
      "\n",
      "sigma_e: 129.66 km/s\n",
      "theta_E: 0.478 arcsec\n"
     ]
    },
    {
     "name": "stdout",
     "output_type": "stream",
     "text": [
      "jam_axi_proj(align='sph', moment='zz') -- elapsed time sec: 0.89\n",
      "analytic_los=0 logistic=0 constant_anisotropy=1\n",
      "No PSF/pixel convolution because sigmapsf=0 pixsize=0\n",
      "inc=36.3; beta[0]=0.0; kappa=1.00; M/L=1.00; BH=0.0; chi2/DOF=nan\n",
      "Total mass MGE (MSun): 9.017e+12\n",
      "\n",
      "sigma_e: 154.00 km/s\n",
      "theta_E: 0.393 arcsec\n"
     ]
    },
    {
     "name": "stdout",
     "output_type": "stream",
     "text": [
      "jam_axi_proj(align='sph', moment='zz') -- elapsed time sec: 1.03\n",
      "analytic_los=0 logistic=0 constant_anisotropy=1\n",
      "No PSF/pixel convolution because sigmapsf=0 pixsize=0\n",
      "inc=75.7; beta[0]=0.0; kappa=1.00; M/L=1.00; BH=0.0; chi2/DOF=nan\n",
      "Total mass MGE (MSun): 9.017e+12\n",
      "\n",
      "sigma_e: 134.20 km/s\n",
      "theta_E: 0.501 arcsec\n"
     ]
    },
    {
     "name": "stdout",
     "output_type": "stream",
     "text": [
      "jam_axi_proj(align='sph', moment='zz') -- elapsed time sec: 0.89\n",
      "analytic_los=0 logistic=0 constant_anisotropy=1\n",
      "No PSF/pixel convolution because sigmapsf=0 pixsize=0\n",
      "inc=21.2; beta[0]=0.0; kappa=1.00; M/L=1.00; BH=0.0; chi2/DOF=nan\n",
      "Total mass MGE (MSun): 9.017e+12\n",
      "\n",
      "sigma_e: 156.79 km/s\n",
      "theta_E: 0.491 arcsec\n"
     ]
    },
    {
     "name": "stdout",
     "output_type": "stream",
     "text": [
      "jam_axi_proj(align='sph', moment='zz') -- elapsed time sec: 0.88\n",
      "analytic_los=0 logistic=0 constant_anisotropy=1\n",
      "No PSF/pixel convolution because sigmapsf=0 pixsize=0\n",
      "inc=28.6; beta[0]=0.0; kappa=1.00; M/L=1.00; BH=0.0; chi2/DOF=nan\n",
      "Total mass MGE (MSun): 9.017e+12\n",
      "\n",
      "sigma_e: 155.68 km/s\n"
     ]
    },
    {
     "name": "stdout",
     "output_type": "stream",
     "text": [
      "theta_E: 0.641 arcsec\n"
     ]
    },
    {
     "name": "stdout",
     "output_type": "stream",
     "text": [
      "jam_axi_proj(align='sph', moment='zz') -- elapsed time sec: 0.86\n",
      "analytic_los=0 logistic=0 constant_anisotropy=1\n",
      "No PSF/pixel convolution because sigmapsf=0 pixsize=0\n",
      "inc=51.3; beta[0]=0.0; kappa=1.00; M/L=1.00; BH=0.0; chi2/DOF=nan\n",
      "Total mass MGE (MSun): 2.011e+13\n",
      "\n",
      "sigma_e: 177.50 km/s\n",
      "theta_E: 0.611 arcsec\n"
     ]
    },
    {
     "name": "stdout",
     "output_type": "stream",
     "text": [
      "jam_axi_proj(align='sph', moment='zz') -- elapsed time sec: 0.94\n",
      "analytic_los=0 logistic=0 constant_anisotropy=1\n",
      "No PSF/pixel convolution because sigmapsf=0 pixsize=0\n",
      "inc=73.6; beta[0]=0.0; kappa=1.00; M/L=1.00; BH=0.0; chi2/DOF=nan\n",
      "Total mass MGE (MSun): 2.011e+13\n",
      "\n",
      "sigma_e: 172.37 km/s\n",
      "theta_E: 0.647 arcsec\n"
     ]
    },
    {
     "name": "stdout",
     "output_type": "stream",
     "text": [
      "jam_axi_proj(align='sph', moment='zz') -- elapsed time sec: 0.85\n",
      "analytic_los=0 logistic=0 constant_anisotropy=1\n",
      "No PSF/pixel convolution because sigmapsf=0 pixsize=0\n",
      "inc=47.4; beta[0]=0.0; kappa=1.00; M/L=1.00; BH=0.0; chi2/DOF=nan\n",
      "Total mass MGE (MSun): 2.011e+13\n",
      "\n",
      "sigma_e: 178.35 km/s\n",
      "theta_E: 0.654 arcsec\n"
     ]
    },
    {
     "name": "stdout",
     "output_type": "stream",
     "text": [
      "jam_axi_proj(align='sph', moment='zz') -- elapsed time sec: 0.84\n",
      "analytic_los=0 logistic=0 constant_anisotropy=1\n",
      "No PSF/pixel convolution because sigmapsf=0 pixsize=0\n",
      "inc=42.0; beta[0]=0.0; kappa=1.00; M/L=1.00; BH=0.0; chi2/DOF=nan\n",
      "Total mass MGE (MSun): 2.011e+13\n",
      "\n",
      "sigma_e: 179.41 km/s\n",
      "theta_E: 0.630 arcsec\n"
     ]
    },
    {
     "name": "stdout",
     "output_type": "stream",
     "text": [
      "jam_axi_proj(align='sph', moment='zz') -- elapsed time sec: 0.90\n",
      "analytic_los=0 logistic=0 constant_anisotropy=1\n",
      "No PSF/pixel convolution because sigmapsf=0 pixsize=0\n",
      "inc=58.5; beta[0]=0.0; kappa=1.00; M/L=1.00; BH=0.0; chi2/DOF=nan\n",
      "Total mass MGE (MSun): 2.011e+13\n",
      "\n",
      "sigma_e: 175.81 km/s\n",
      "theta_E: 0.608 arcsec\n"
     ]
    },
    {
     "name": "stdout",
     "output_type": "stream",
     "text": [
      "jam_axi_proj(align='sph', moment='zz') -- elapsed time sec: 0.88\n",
      "analytic_los=0 logistic=0 constant_anisotropy=1\n",
      "No PSF/pixel convolution because sigmapsf=0 pixsize=0\n",
      "inc=77.2; beta[0]=0.0; kappa=1.00; M/L=1.00; BH=0.0; chi2/DOF=nan\n",
      "Total mass MGE (MSun): 2.011e+13\n",
      "\n",
      "sigma_e: 171.75 km/s\n",
      "theta_E: 0.685 arcsec\n"
     ]
    },
    {
     "name": "stdout",
     "output_type": "stream",
     "text": [
      "jam_axi_proj(align='sph', moment='zz') -- elapsed time sec: 0.82\n",
      "analytic_los=0 logistic=0 constant_anisotropy=1\n",
      "No PSF/pixel convolution because sigmapsf=0 pixsize=0\n",
      "inc=13.4; beta[0]=0.0; kappa=1.00; M/L=1.00; BH=0.0; chi2/DOF=nan\n",
      "Total mass MGE (MSun): 2.011e+13\n",
      "\n",
      "sigma_e: 182.80 km/s\n",
      "theta_E: 0.648 arcsec\n"
     ]
    },
    {
     "name": "stdout",
     "output_type": "stream",
     "text": [
      "jam_axi_proj(align='sph', moment='zz') -- elapsed time sec: 0.84\n",
      "analytic_los=0 logistic=0 constant_anisotropy=1\n",
      "No PSF/pixel convolution because sigmapsf=0 pixsize=0\n",
      "inc=46.6; beta[0]=0.0; kappa=1.00; M/L=1.00; BH=0.0; chi2/DOF=nan\n",
      "Total mass MGE (MSun): 2.011e+13\n",
      "\n",
      "sigma_e: 178.51 km/s\n",
      "theta_E: 0.656 arcsec\n"
     ]
    },
    {
     "name": "stdout",
     "output_type": "stream",
     "text": [
      "jam_axi_proj(align='sph', moment='zz') -- elapsed time sec: 0.83\n",
      "analytic_los=0 logistic=0 constant_anisotropy=1\n",
      "No PSF/pixel convolution because sigmapsf=0 pixsize=0\n",
      "inc=40.7; beta[0]=0.0; kappa=1.00; M/L=1.00; BH=0.0; chi2/DOF=nan\n",
      "Total mass MGE (MSun): 2.011e+13\n",
      "\n",
      "sigma_e: 179.64 km/s\n",
      "theta_E: 0.629 arcsec\n"
     ]
    },
    {
     "name": "stdout",
     "output_type": "stream",
     "text": [
      "jam_axi_proj(align='sph', moment='zz') -- elapsed time sec: 0.87\n",
      "analytic_los=0 logistic=0 constant_anisotropy=1\n",
      "No PSF/pixel convolution because sigmapsf=0 pixsize=0\n",
      "inc=58.9; beta[0]=0.0; kappa=1.00; M/L=1.00; BH=0.0; chi2/DOF=nan\n",
      "Total mass MGE (MSun): 2.011e+13\n",
      "\n",
      "sigma_e: 175.72 km/s\n"
     ]
    },
    {
     "name": "stdout",
     "output_type": "stream",
     "text": [
      "theta_E: 0.409 arcsec\n"
     ]
    },
    {
     "name": "stdout",
     "output_type": "stream",
     "text": [
      "jam_axi_proj(align='sph', moment='zz') -- elapsed time sec: 0.82\n",
      "analytic_los=0 logistic=0 constant_anisotropy=1\n",
      "No PSF/pixel convolution because sigmapsf=0 pixsize=0\n",
      "inc=51.0; beta[0]=0.0; kappa=1.00; M/L=1.00; BH=0.0; chi2/DOF=nan\n",
      "Total mass MGE (MSun): 8.296e+12\n",
      "\n",
      "sigma_e: 141.50 km/s\n",
      "theta_E: 0.390 arcsec\n"
     ]
    },
    {
     "name": "stdout",
     "output_type": "stream",
     "text": [
      "jam_axi_proj(align='sph', moment='zz') -- elapsed time sec: 0.88\n",
      "analytic_los=0 logistic=0 constant_anisotropy=1\n",
      "No PSF/pixel convolution because sigmapsf=0 pixsize=0\n",
      "inc=75.3; beta[0]=0.0; kappa=1.00; M/L=1.00; BH=0.0; chi2/DOF=nan\n",
      "Total mass MGE (MSun): 8.296e+12\n",
      "\n",
      "sigma_e: 137.37 km/s\n",
      "theta_E: 0.397 arcsec\n"
     ]
    },
    {
     "name": "stdout",
     "output_type": "stream",
     "text": [
      "jam_axi_proj(align='sph', moment='zz') -- elapsed time sec: 0.85\n",
      "analytic_los=0 logistic=0 constant_anisotropy=1\n",
      "No PSF/pixel convolution because sigmapsf=0 pixsize=0\n",
      "inc=64.9; beta[0]=0.0; kappa=1.00; M/L=1.00; BH=0.0; chi2/DOF=nan\n",
      "Total mass MGE (MSun): 8.296e+12\n",
      "\n",
      "sigma_e: 139.00 km/s\n",
      "theta_E: 0.409 arcsec\n"
     ]
    },
    {
     "name": "stdout",
     "output_type": "stream",
     "text": [
      "jam_axi_proj(align='sph', moment='zz') -- elapsed time sec: 0.82\n",
      "analytic_los=0 logistic=0 constant_anisotropy=1\n",
      "No PSF/pixel convolution because sigmapsf=0 pixsize=0\n",
      "inc=50.4; beta[0]=0.0; kappa=1.00; M/L=1.00; BH=0.0; chi2/DOF=nan\n",
      "Total mass MGE (MSun): 8.296e+12\n",
      "\n",
      "sigma_e: 141.61 km/s\n",
      "theta_E: 0.386 arcsec\n"
     ]
    },
    {
     "name": "stdout",
     "output_type": "stream",
     "text": [
      "jam_axi_proj(align='sph', moment='zz') -- elapsed time sec: 0.86\n",
      "analytic_los=0 logistic=0 constant_anisotropy=1\n",
      "No PSF/pixel convolution because sigmapsf=0 pixsize=0\n",
      "inc=90.0; beta[0]=0.0; kappa=1.00; M/L=1.00; BH=0.0; chi2/DOF=nan\n",
      "Total mass MGE (MSun): 8.296e+12\n",
      "\n",
      "sigma_e: 136.30 km/s\n",
      "theta_E: 0.417 arcsec\n"
     ]
    },
    {
     "name": "stdout",
     "output_type": "stream",
     "text": [
      "jam_axi_proj(align='sph', moment='zz') -- elapsed time sec: 0.81\n",
      "analytic_los=0 logistic=0 constant_anisotropy=1\n",
      "No PSF/pixel convolution because sigmapsf=0 pixsize=0\n",
      "inc=42.1; beta[0]=0.0; kappa=1.00; M/L=1.00; BH=0.0; chi2/DOF=nan\n",
      "Total mass MGE (MSun): 8.296e+12\n",
      "\n",
      "sigma_e: 142.91 km/s\n",
      "theta_E: 0.413 arcsec\n"
     ]
    },
    {
     "name": "stdout",
     "output_type": "stream",
     "text": [
      "jam_axi_proj(align='sph', moment='zz') -- elapsed time sec: 0.81\n",
      "analytic_los=0 logistic=0 constant_anisotropy=1\n",
      "No PSF/pixel convolution because sigmapsf=0 pixsize=0\n",
      "inc=46.6; beta[0]=0.0; kappa=1.00; M/L=1.00; BH=0.0; chi2/DOF=nan\n",
      "Total mass MGE (MSun): 8.296e+12\n",
      "\n",
      "sigma_e: 142.22 km/s\n",
      "theta_E: 0.406 arcsec\n"
     ]
    },
    {
     "name": "stdout",
     "output_type": "stream",
     "text": [
      "jam_axi_proj(align='sph', moment='zz') -- elapsed time sec: 0.82\n",
      "analytic_los=0 logistic=0 constant_anisotropy=1\n",
      "No PSF/pixel convolution because sigmapsf=0 pixsize=0\n",
      "inc=53.9; beta[0]=0.0; kappa=1.00; M/L=1.00; BH=0.0; chi2/DOF=nan\n",
      "Total mass MGE (MSun): 8.296e+12\n",
      "\n",
      "sigma_e: 140.98 km/s\n",
      "theta_E: 0.428 arcsec\n"
     ]
    },
    {
     "name": "stdout",
     "output_type": "stream",
     "text": [
      "jam_axi_proj(align='sph', moment='zz') -- elapsed time sec: 0.80\n",
      "analytic_los=0 logistic=0 constant_anisotropy=1\n",
      "No PSF/pixel convolution because sigmapsf=0 pixsize=0\n",
      "inc=27.3; beta[0]=0.0; kappa=1.00; M/L=1.00; BH=0.0; chi2/DOF=nan\n",
      "Total mass MGE (MSun): 8.296e+12\n",
      "\n",
      "sigma_e: 144.65 km/s\n",
      "theta_E: 0.398 arcsec\n"
     ]
    },
    {
     "name": "stdout",
     "output_type": "stream",
     "text": [
      "jam_axi_proj(align='sph', moment='zz') -- elapsed time sec: 0.85\n",
      "analytic_los=0 logistic=0 constant_anisotropy=1\n",
      "No PSF/pixel convolution because sigmapsf=0 pixsize=0\n",
      "inc=64.0; beta[0]=0.0; kappa=1.00; M/L=1.00; BH=0.0; chi2/DOF=nan\n",
      "Total mass MGE (MSun): 8.296e+12\n",
      "\n",
      "sigma_e: 139.17 km/s\n"
     ]
    },
    {
     "name": "stdout",
     "output_type": "stream",
     "text": [
      "theta_E: 0.852 arcsec\n"
     ]
    },
    {
     "name": "stdout",
     "output_type": "stream",
     "text": [
      "jam_axi_proj(align='sph', moment='zz') -- elapsed time sec: 0.95\n",
      "analytic_los=0 logistic=0 constant_anisotropy=1\n",
      "No PSF/pixel convolution because sigmapsf=0 pixsize=0\n",
      "inc=47.1; beta[0]=0.0; kappa=1.00; M/L=1.00; BH=0.0; chi2/DOF=nan\n",
      "Total mass MGE (MSun): 3.211e+13\n",
      "\n",
      "sigma_e: 205.21 km/s\n",
      "theta_E: 0.877 arcsec\n"
     ]
    },
    {
     "name": "stdout",
     "output_type": "stream",
     "text": [
      "jam_axi_proj(align='sph', moment='zz') -- elapsed time sec: 0.93\n",
      "analytic_los=0 logistic=0 constant_anisotropy=1\n",
      "No PSF/pixel convolution because sigmapsf=0 pixsize=0\n",
      "inc=39.5; beta[0]=0.0; kappa=1.00; M/L=1.00; BH=0.0; chi2/DOF=nan\n",
      "Total mass MGE (MSun): 3.211e+13\n",
      "\n",
      "sigma_e: 208.34 km/s\n",
      "theta_E: 0.750 arcsec\n"
     ]
    },
    {
     "name": "stdout",
     "output_type": "stream",
     "text": [
      "jam_axi_proj(align='sph', moment='zz') -- elapsed time sec: 0.98\n",
      "analytic_los=0 logistic=0 constant_anisotropy=1\n",
      "No PSF/pixel convolution because sigmapsf=0 pixsize=0\n",
      "inc=76.6; beta[0]=0.0; kappa=1.00; M/L=1.00; BH=0.0; chi2/DOF=nan\n",
      "Total mass MGE (MSun): 3.211e+13\n",
      "\n",
      "sigma_e: 186.57 km/s\n",
      "theta_E: 0.889 arcsec\n"
     ]
    },
    {
     "name": "stdout",
     "output_type": "stream",
     "text": [
      "jam_axi_proj(align='sph', moment='zz') -- elapsed time sec: 0.91\n",
      "analytic_los=0 logistic=0 constant_anisotropy=1\n",
      "No PSF/pixel convolution because sigmapsf=0 pixsize=0\n",
      "inc=35.9; beta[0]=0.0; kappa=1.00; M/L=1.00; BH=0.0; chi2/DOF=nan\n",
      "Total mass MGE (MSun): 3.211e+13\n",
      "\n",
      "sigma_e: 209.53 km/s\n",
      "theta_E: 0.764 arcsec\n"
     ]
    },
    {
     "name": "stdout",
     "output_type": "stream",
     "text": [
      "jam_axi_proj(align='sph', moment='zz') -- elapsed time sec: 0.96\n",
      "analytic_los=0 logistic=0 constant_anisotropy=1\n",
      "No PSF/pixel convolution because sigmapsf=0 pixsize=0\n",
      "inc=71.3; beta[0]=0.0; kappa=1.00; M/L=1.00; BH=0.0; chi2/DOF=nan\n",
      "Total mass MGE (MSun): 3.211e+13\n",
      "\n",
      "sigma_e: 190.02 km/s\n",
      "theta_E: 0.848 arcsec\n"
     ]
    },
    {
     "name": "stdout",
     "output_type": "stream",
     "text": [
      "jam_axi_proj(align='sph', moment='zz') -- elapsed time sec: 0.94\n",
      "analytic_los=0 logistic=0 constant_anisotropy=1\n",
      "No PSF/pixel convolution because sigmapsf=0 pixsize=0\n",
      "inc=48.1; beta[0]=0.0; kappa=1.00; M/L=1.00; BH=0.0; chi2/DOF=nan\n",
      "Total mass MGE (MSun): 3.211e+13\n",
      "\n",
      "sigma_e: 204.73 km/s\n",
      "theta_E: 0.747 arcsec\n"
     ]
    },
    {
     "name": "stdout",
     "output_type": "stream",
     "text": [
      "jam_axi_proj(align='sph', moment='zz') -- elapsed time sec: 0.96\n",
      "analytic_los=0 logistic=0 constant_anisotropy=1\n",
      "No PSF/pixel convolution because sigmapsf=0 pixsize=0\n",
      "inc=77.7; beta[0]=0.0; kappa=1.00; M/L=1.00; BH=0.0; chi2/DOF=nan\n",
      "Total mass MGE (MSun): 3.211e+13\n",
      "\n",
      "sigma_e: 185.90 km/s\n",
      "theta_E: 0.737 arcsec\n"
     ]
    },
    {
     "name": "stdout",
     "output_type": "stream",
     "text": [
      "jam_axi_proj(align='sph', moment='zz') -- elapsed time sec: 1.00\n",
      "analytic_los=0 logistic=0 constant_anisotropy=1\n",
      "No PSF/pixel convolution because sigmapsf=0 pixsize=0\n",
      "inc=83.5; beta[0]=0.0; kappa=1.00; M/L=1.00; BH=0.0; chi2/DOF=nan\n",
      "Total mass MGE (MSun): 3.211e+13\n",
      "\n",
      "sigma_e: 183.28 km/s\n",
      "theta_E: 0.742 arcsec\n"
     ]
    },
    {
     "name": "stdout",
     "output_type": "stream",
     "text": [
      "jam_axi_proj(align='sph', moment='zz') -- elapsed time sec: 0.98\n",
      "analytic_los=0 logistic=0 constant_anisotropy=1\n",
      "No PSF/pixel convolution because sigmapsf=0 pixsize=0\n",
      "inc=80.2; beta[0]=0.0; kappa=1.00; M/L=1.00; BH=0.0; chi2/DOF=nan\n",
      "Total mass MGE (MSun): 3.211e+13\n",
      "\n",
      "sigma_e: 184.63 km/s\n",
      "theta_E: 0.839 arcsec\n"
     ]
    },
    {
     "name": "stdout",
     "output_type": "stream",
     "text": [
      "jam_axi_proj(align='sph', moment='zz') -- elapsed time sec: 0.91\n",
      "analytic_los=0 logistic=0 constant_anisotropy=1\n",
      "No PSF/pixel convolution because sigmapsf=0 pixsize=0\n",
      "inc=50.6; beta[0]=0.0; kappa=1.00; M/L=1.00; BH=0.0; chi2/DOF=nan\n",
      "Total mass MGE (MSun): 3.211e+13\n",
      "\n",
      "sigma_e: 203.44 km/s\n"
     ]
    },
    {
     "name": "stdout",
     "output_type": "stream",
     "text": [
      "theta_E: 0.440 arcsec\n"
     ]
    },
    {
     "name": "stdout",
     "output_type": "stream",
     "text": [
      "jam_axi_proj(align='sph', moment='zz') -- elapsed time sec: 0.93\n",
      "analytic_los=0 logistic=0 constant_anisotropy=1\n",
      "No PSF/pixel convolution because sigmapsf=0 pixsize=0\n",
      "inc=68.6; beta[0]=0.0; kappa=1.00; M/L=1.00; BH=0.0; chi2/DOF=nan\n",
      "Total mass MGE (MSun): 1.047e+13\n",
      "\n",
      "sigma_e: 147.04 km/s\n",
      "theta_E: 0.468 arcsec\n"
     ]
    },
    {
     "name": "stdout",
     "output_type": "stream",
     "text": [
      "jam_axi_proj(align='sph', moment='zz') -- elapsed time sec: 0.92\n",
      "analytic_los=0 logistic=0 constant_anisotropy=1\n",
      "No PSF/pixel convolution because sigmapsf=0 pixsize=0\n",
      "inc=50.1; beta[0]=0.0; kappa=1.00; M/L=1.00; BH=0.0; chi2/DOF=nan\n",
      "Total mass MGE (MSun): 1.047e+13\n",
      "\n",
      "sigma_e: 152.71 km/s\n",
      "theta_E: 0.510 arcsec\n"
     ]
    },
    {
     "name": "stdout",
     "output_type": "stream",
     "text": [
      "jam_axi_proj(align='sph', moment='zz') -- elapsed time sec: 0.83\n",
      "analytic_los=0 logistic=0 constant_anisotropy=1\n",
      "No PSF/pixel convolution because sigmapsf=0 pixsize=0\n",
      "inc=14.1; beta[0]=0.0; kappa=1.00; M/L=1.00; BH=0.0; chi2/DOF=nan\n",
      "Total mass MGE (MSun): 1.047e+13\n",
      "\n",
      "sigma_e: 158.33 km/s\n",
      "theta_E: 0.442 arcsec\n"
     ]
    },
    {
     "name": "stdout",
     "output_type": "stream",
     "text": [
      "jam_axi_proj(align='sph', moment='zz') -- elapsed time sec: 0.93\n",
      "analytic_los=0 logistic=0 constant_anisotropy=1\n",
      "No PSF/pixel convolution because sigmapsf=0 pixsize=0\n",
      "inc=67.2; beta[0]=0.0; kappa=1.00; M/L=1.00; BH=0.0; chi2/DOF=nan\n",
      "Total mass MGE (MSun): 1.047e+13\n",
      "\n",
      "sigma_e: 147.48 km/s\n",
      "theta_E: 0.462 arcsec\n"
     ]
    },
    {
     "name": "stdout",
     "output_type": "stream",
     "text": [
      "jam_axi_proj(align='sph', moment='zz') -- elapsed time sec: 0.92\n",
      "analytic_los=0 logistic=0 constant_anisotropy=1\n",
      "No PSF/pixel convolution because sigmapsf=0 pixsize=0\n",
      "inc=53.7; beta[0]=0.0; kappa=1.00; M/L=1.00; BH=0.0; chi2/DOF=nan\n",
      "Total mass MGE (MSun): 1.047e+13\n",
      "\n",
      "sigma_e: 151.72 km/s\n",
      "theta_E: 0.427 arcsec\n"
     ]
    },
    {
     "name": "stdout",
     "output_type": "stream",
     "text": [
      "jam_axi_proj(align='sph', moment='zz') -- elapsed time sec: 0.94\n",
      "analytic_los=0 logistic=0 constant_anisotropy=1\n",
      "No PSF/pixel convolution because sigmapsf=0 pixsize=0\n",
      "inc=82.3; beta[0]=0.0; kappa=1.00; M/L=1.00; BH=0.0; chi2/DOF=nan\n",
      "Total mass MGE (MSun): 1.047e+13\n",
      "\n",
      "sigma_e: 143.56 km/s\n",
      "theta_E: 0.444 arcsec\n"
     ]
    },
    {
     "name": "stdout",
     "output_type": "stream",
     "text": [
      "jam_axi_proj(align='sph', moment='zz') -- elapsed time sec: 0.93\n",
      "analytic_los=0 logistic=0 constant_anisotropy=1\n",
      "No PSF/pixel convolution because sigmapsf=0 pixsize=0\n",
      "inc=66.2; beta[0]=0.0; kappa=1.00; M/L=1.00; BH=0.0; chi2/DOF=nan\n",
      "Total mass MGE (MSun): 1.047e+13\n",
      "\n",
      "sigma_e: 147.79 km/s\n",
      "theta_E: 0.444 arcsec\n"
     ]
    },
    {
     "name": "stdout",
     "output_type": "stream",
     "text": [
      "jam_axi_proj(align='sph', moment='zz') -- elapsed time sec: 0.94\n",
      "analytic_los=0 logistic=0 constant_anisotropy=1\n",
      "No PSF/pixel convolution because sigmapsf=0 pixsize=0\n",
      "inc=65.9; beta[0]=0.0; kappa=1.00; M/L=1.00; BH=0.0; chi2/DOF=nan\n",
      "Total mass MGE (MSun): 1.047e+13\n",
      "\n",
      "sigma_e: 147.89 km/s\n",
      "theta_E: 0.470 arcsec\n"
     ]
    },
    {
     "name": "stdout",
     "output_type": "stream",
     "text": [
      "jam_axi_proj(align='sph', moment='zz') -- elapsed time sec: 0.90\n",
      "analytic_los=0 logistic=0 constant_anisotropy=1\n",
      "No PSF/pixel convolution because sigmapsf=0 pixsize=0\n",
      "inc=49.1; beta[0]=0.0; kappa=1.00; M/L=1.00; BH=0.0; chi2/DOF=nan\n",
      "Total mass MGE (MSun): 1.047e+13\n",
      "\n",
      "sigma_e: 152.97 km/s\n",
      "theta_E: 0.433 arcsec\n"
     ]
    },
    {
     "name": "stdout",
     "output_type": "stream",
     "text": [
      "jam_axi_proj(align='sph', moment='zz') -- elapsed time sec: 0.94\n",
      "analytic_los=0 logistic=0 constant_anisotropy=1\n",
      "No PSF/pixel convolution because sigmapsf=0 pixsize=0\n",
      "inc=75.1; beta[0]=0.0; kappa=1.00; M/L=1.00; BH=0.0; chi2/DOF=nan\n",
      "Total mass MGE (MSun): 1.047e+13\n",
      "\n",
      "sigma_e: 145.13 km/s\n"
     ]
    },
    {
     "name": "stdout",
     "output_type": "stream",
     "text": [
      "theta_E: 0.580 arcsec\n"
     ]
    },
    {
     "name": "stdout",
     "output_type": "stream",
     "text": [
      "jam_axi_proj(align='sph', moment='zz') -- elapsed time sec: 0.96\n",
      "analytic_los=0 logistic=0 constant_anisotropy=1\n",
      "No PSF/pixel convolution because sigmapsf=0 pixsize=0\n",
      "inc=68.3; beta[0]=0.0; kappa=1.00; M/L=1.00; BH=0.0; chi2/DOF=nan\n",
      "Total mass MGE (MSun): 1.802e+13\n",
      "\n",
      "sigma_e: 166.94 km/s\n",
      "theta_E: 0.562 arcsec\n"
     ]
    },
    {
     "name": "stdout",
     "output_type": "stream",
     "text": [
      "jam_axi_proj(align='sph', moment='zz') -- elapsed time sec: 0.95\n",
      "analytic_los=0 logistic=0 constant_anisotropy=1\n",
      "No PSF/pixel convolution because sigmapsf=0 pixsize=0\n",
      "inc=80.8; beta[0]=0.0; kappa=1.00; M/L=1.00; BH=0.0; chi2/DOF=nan\n",
      "Total mass MGE (MSun): 1.802e+13\n",
      "\n",
      "sigma_e: 162.52 km/s\n",
      "theta_E: 0.619 arcsec\n"
     ]
    },
    {
     "name": "stdout",
     "output_type": "stream",
     "text": [
      "jam_axi_proj(align='sph', moment='zz') -- elapsed time sec: 0.92\n",
      "analytic_los=0 logistic=0 constant_anisotropy=1\n",
      "No PSF/pixel convolution because sigmapsf=0 pixsize=0\n",
      "inc=49.5; beta[0]=0.0; kappa=1.00; M/L=1.00; BH=0.0; chi2/DOF=nan\n",
      "Total mass MGE (MSun): 1.802e+13\n",
      "\n",
      "sigma_e: 174.32 km/s\n",
      "theta_E: 0.586 arcsec\n"
     ]
    },
    {
     "name": "stdout",
     "output_type": "stream",
     "text": [
      "jam_axi_proj(align='sph', moment='zz') -- elapsed time sec: 0.98\n",
      "analytic_los=0 logistic=0 constant_anisotropy=1\n",
      "No PSF/pixel convolution because sigmapsf=0 pixsize=0\n",
      "inc=65.2; beta[0]=0.0; kappa=1.00; M/L=1.00; BH=0.0; chi2/DOF=nan\n",
      "Total mass MGE (MSun): 1.802e+13\n",
      "\n",
      "sigma_e: 168.23 km/s\n",
      "theta_E: 0.558 arcsec\n"
     ]
    },
    {
     "name": "stdout",
     "output_type": "stream",
     "text": [
      "jam_axi_proj(align='sph', moment='zz') -- elapsed time sec: 0.95\n",
      "analytic_los=0 logistic=0 constant_anisotropy=1\n",
      "No PSF/pixel convolution because sigmapsf=0 pixsize=0\n",
      "inc=89.9; beta[0]=0.0; kappa=1.00; M/L=1.00; BH=0.0; chi2/DOF=nan\n",
      "Total mass MGE (MSun): 1.802e+13\n",
      "\n",
      "sigma_e: 161.34 km/s\n",
      "theta_E: 0.676 arcsec\n"
     ]
    },
    {
     "name": "stdout",
     "output_type": "stream",
     "text": [
      "jam_axi_proj(align='sph', moment='zz') -- elapsed time sec: 0.88\n",
      "analytic_los=0 logistic=0 constant_anisotropy=1\n",
      "No PSF/pixel convolution because sigmapsf=0 pixsize=0\n",
      "inc=13.2; beta[0]=0.0; kappa=1.00; M/L=1.00; BH=0.0; chi2/DOF=nan\n",
      "Total mass MGE (MSun): 1.802e+13\n",
      "\n",
      "sigma_e: 181.31 km/s\n",
      "theta_E: 0.669 arcsec\n"
     ]
    },
    {
     "name": "stdout",
     "output_type": "stream",
     "text": [
      "jam_axi_proj(align='sph', moment='zz') -- elapsed time sec: 0.84\n",
      "analytic_los=0 logistic=0 constant_anisotropy=1\n",
      "No PSF/pixel convolution because sigmapsf=0 pixsize=0\n",
      "inc=20.5; beta[0]=0.0; kappa=1.00; M/L=1.00; BH=0.0; chi2/DOF=nan\n",
      "Total mass MGE (MSun): 1.802e+13\n",
      "\n",
      "sigma_e: 180.66 km/s\n",
      "theta_E: 0.564 arcsec\n"
     ]
    },
    {
     "name": "stdout",
     "output_type": "stream",
     "text": [
      "jam_axi_proj(align='sph', moment='zz') -- elapsed time sec: 0.92\n",
      "analytic_los=0 logistic=0 constant_anisotropy=1\n",
      "No PSF/pixel convolution because sigmapsf=0 pixsize=0\n",
      "inc=78.8; beta[0]=0.0; kappa=1.00; M/L=1.00; BH=0.0; chi2/DOF=nan\n",
      "Total mass MGE (MSun): 1.802e+13\n",
      "\n",
      "sigma_e: 163.04 km/s\n",
      "theta_E: 0.607 arcsec\n"
     ]
    },
    {
     "name": "stdout",
     "output_type": "stream",
     "text": [
      "jam_axi_proj(align='sph', moment='zz') -- elapsed time sec: 0.92\n",
      "analytic_los=0 logistic=0 constant_anisotropy=1\n",
      "No PSF/pixel convolution because sigmapsf=0 pixsize=0\n",
      "inc=54.9; beta[0]=0.0; kappa=1.00; M/L=1.00; BH=0.0; chi2/DOF=nan\n",
      "Total mass MGE (MSun): 1.802e+13\n",
      "\n",
      "sigma_e: 172.35 km/s\n",
      "theta_E: 0.659 arcsec\n"
     ]
    },
    {
     "name": "stdout",
     "output_type": "stream",
     "text": [
      "jam_axi_proj(align='sph', moment='zz') -- elapsed time sec: 0.86\n",
      "analytic_los=0 logistic=0 constant_anisotropy=1\n",
      "No PSF/pixel convolution because sigmapsf=0 pixsize=0\n",
      "inc=27.9; beta[0]=0.0; kappa=1.00; M/L=1.00; BH=0.0; chi2/DOF=nan\n",
      "Total mass MGE (MSun): 1.802e+13\n",
      "\n",
      "sigma_e: 179.67 km/s\n"
     ]
    },
    {
     "name": "stdout",
     "output_type": "stream",
     "text": [
      "theta_E: 0.378 arcsec\n"
     ]
    },
    {
     "name": "stdout",
     "output_type": "stream",
     "text": [
      "jam_axi_proj(align='sph', moment='zz') -- elapsed time sec: 0.97\n",
      "analytic_los=0 logistic=0 constant_anisotropy=1\n",
      "No PSF/pixel convolution because sigmapsf=0 pixsize=0\n",
      "inc=79.5; beta[0]=0.0; kappa=1.00; M/L=1.00; BH=0.0; chi2/DOF=nan\n",
      "Total mass MGE (MSun): 8.391e+12\n",
      "\n",
      "sigma_e: 132.59 km/s\n",
      "theta_E: 0.373 arcsec\n"
     ]
    },
    {
     "name": "stdout",
     "output_type": "stream",
     "text": [
      "jam_axi_proj(align='sph', moment='zz') -- elapsed time sec: 1.00\n",
      "analytic_los=0 logistic=0 constant_anisotropy=1\n",
      "No PSF/pixel convolution because sigmapsf=0 pixsize=0\n",
      "inc=89.0; beta[0]=0.0; kappa=1.00; M/L=1.00; BH=0.0; chi2/DOF=nan\n",
      "Total mass MGE (MSun): 8.391e+12\n",
      "\n",
      "sigma_e: 130.69 km/s\n",
      "theta_E: 0.436 arcsec\n"
     ]
    },
    {
     "name": "stdout",
     "output_type": "stream",
     "text": [
      "jam_axi_proj(align='sph', moment='zz') -- elapsed time sec: 0.91\n",
      "analytic_los=0 logistic=0 constant_anisotropy=1\n",
      "No PSF/pixel convolution because sigmapsf=0 pixsize=0\n",
      "inc=44.5; beta[0]=0.0; kappa=1.00; M/L=1.00; BH=0.0; chi2/DOF=nan\n",
      "Total mass MGE (MSun): 8.391e+12\n",
      "\n",
      "sigma_e: 147.22 km/s\n",
      "theta_E: 0.384 arcsec\n"
     ]
    },
    {
     "name": "stdout",
     "output_type": "stream",
     "text": [
      "jam_axi_proj(align='sph', moment='zz') -- elapsed time sec: 0.98\n",
      "analytic_los=0 logistic=0 constant_anisotropy=1\n",
      "No PSF/pixel convolution because sigmapsf=0 pixsize=0\n",
      "inc=74.2; beta[0]=0.0; kappa=1.00; M/L=1.00; BH=0.0; chi2/DOF=nan\n",
      "Total mass MGE (MSun): 8.391e+12\n",
      "\n",
      "sigma_e: 134.66 km/s\n",
      "theta_E: 0.461 arcsec\n"
     ]
    },
    {
     "name": "stdout",
     "output_type": "stream",
     "text": [
      "jam_axi_proj(align='sph', moment='zz') -- elapsed time sec: 0.88\n",
      "analytic_los=0 logistic=0 constant_anisotropy=1\n",
      "No PSF/pixel convolution because sigmapsf=0 pixsize=0\n",
      "inc=28.3; beta[0]=0.0; kappa=1.00; M/L=1.00; BH=0.0; chi2/DOF=nan\n",
      "Total mass MGE (MSun): 8.391e+12\n",
      "\n",
      "sigma_e: 150.83 km/s\n",
      "theta_E: 0.398 arcsec\n"
     ]
    },
    {
     "name": "stdout",
     "output_type": "stream",
     "text": [
      "jam_axi_proj(align='sph', moment='zz') -- elapsed time sec: 0.94\n",
      "analytic_los=0 logistic=0 constant_anisotropy=1\n",
      "No PSF/pixel convolution because sigmapsf=0 pixsize=0\n",
      "inc=65.3; beta[0]=0.0; kappa=1.00; M/L=1.00; BH=0.0; chi2/DOF=nan\n",
      "Total mass MGE (MSun): 8.391e+12\n",
      "\n",
      "sigma_e: 138.85 km/s\n",
      "theta_E: 0.451 arcsec\n"
     ]
    },
    {
     "name": "stdout",
     "output_type": "stream",
     "text": [
      "jam_axi_proj(align='sph', moment='zz') -- elapsed time sec: 0.97\n",
      "analytic_los=0 logistic=0 constant_anisotropy=1\n",
      "No PSF/pixel convolution because sigmapsf=0 pixsize=0\n",
      "inc=35.1; beta[0]=0.0; kappa=1.00; M/L=1.00; BH=0.0; chi2/DOF=nan\n",
      "Total mass MGE (MSun): 8.391e+12\n",
      "\n",
      "sigma_e: 149.57 km/s\n",
      "theta_E: 0.454 arcsec\n"
     ]
    },
    {
     "name": "stdout",
     "output_type": "stream",
     "text": [
      "jam_axi_proj(align='sph', moment='zz') -- elapsed time sec: 0.90\n",
      "analytic_los=0 logistic=0 constant_anisotropy=1\n",
      "No PSF/pixel convolution because sigmapsf=0 pixsize=0\n",
      "inc=33.1; beta[0]=0.0; kappa=1.00; M/L=1.00; BH=0.0; chi2/DOF=nan\n",
      "Total mass MGE (MSun): 8.391e+12\n",
      "\n",
      "sigma_e: 149.97 km/s\n",
      "theta_E: 0.446 arcsec\n"
     ]
    },
    {
     "name": "stdout",
     "output_type": "stream",
     "text": [
      "jam_axi_proj(align='sph', moment='zz') -- elapsed time sec: 0.90\n",
      "analytic_los=0 logistic=0 constant_anisotropy=1\n",
      "No PSF/pixel convolution because sigmapsf=0 pixsize=0\n",
      "inc=38.2; beta[0]=0.0; kappa=1.00; M/L=1.00; BH=0.0; chi2/DOF=nan\n",
      "Total mass MGE (MSun): 8.391e+12\n",
      "\n",
      "sigma_e: 148.87 km/s\n",
      "theta_E: 0.447 arcsec\n"
     ]
    },
    {
     "name": "stdout",
     "output_type": "stream",
     "text": [
      "jam_axi_proj(align='sph', moment='zz') -- elapsed time sec: 0.93\n",
      "analytic_los=0 logistic=0 constant_anisotropy=1\n",
      "No PSF/pixel convolution because sigmapsf=0 pixsize=0\n",
      "inc=37.8; beta[0]=0.0; kappa=1.00; M/L=1.00; BH=0.0; chi2/DOF=nan\n",
      "Total mass MGE (MSun): 8.391e+12\n",
      "\n",
      "sigma_e: 148.98 km/s\n"
     ]
    },
    {
     "name": "stdout",
     "output_type": "stream",
     "text": [
      "theta_E: 0.490 arcsec\n"
     ]
    },
    {
     "name": "stdout",
     "output_type": "stream",
     "text": [
      "jam_axi_proj(align='sph', moment='zz') -- elapsed time sec: 1.06\n",
      "analytic_los=0 logistic=0 constant_anisotropy=1\n",
      "No PSF/pixel convolution because sigmapsf=0 pixsize=0\n",
      "inc=67.2; beta[0]=0.0; kappa=1.00; M/L=1.00; BH=0.0; chi2/DOF=nan\n",
      "Total mass MGE (MSun): 1.290e+13\n",
      "\n",
      "sigma_e: 153.91 km/s\n",
      "theta_E: 0.529 arcsec\n"
     ]
    },
    {
     "name": "stdout",
     "output_type": "stream",
     "text": [
      "jam_axi_proj(align='sph', moment='zz') -- elapsed time sec: 1.00\n",
      "analytic_los=0 logistic=0 constant_anisotropy=1\n",
      "No PSF/pixel convolution because sigmapsf=0 pixsize=0\n",
      "inc=51.0; beta[0]=0.0; kappa=1.00; M/L=1.00; BH=0.0; chi2/DOF=nan\n",
      "Total mass MGE (MSun): 1.290e+13\n",
      "\n",
      "sigma_e: 162.23 km/s\n",
      "theta_E: 0.468 arcsec\n"
     ]
    },
    {
     "name": "stdout",
     "output_type": "stream",
     "text": [
      "jam_axi_proj(align='sph', moment='zz') -- elapsed time sec: 0.99\n",
      "analytic_los=0 logistic=0 constant_anisotropy=1\n",
      "No PSF/pixel convolution because sigmapsf=0 pixsize=0\n",
      "inc=79.6; beta[0]=0.0; kappa=1.00; M/L=1.00; BH=0.0; chi2/DOF=nan\n",
      "Total mass MGE (MSun): 1.290e+13\n",
      "\n",
      "sigma_e: 147.56 km/s\n",
      "theta_E: 0.561 arcsec\n"
     ]
    },
    {
     "name": "stdout",
     "output_type": "stream",
     "text": [
      "jam_axi_proj(align='sph', moment='zz') -- elapsed time sec: 0.92\n",
      "analytic_los=0 logistic=0 constant_anisotropy=1\n",
      "No PSF/pixel convolution because sigmapsf=0 pixsize=0\n",
      "inc=36.7; beta[0]=0.0; kappa=1.00; M/L=1.00; BH=0.0; chi2/DOF=nan\n",
      "Total mass MGE (MSun): 1.290e+13\n",
      "\n",
      "sigma_e: 167.00 km/s\n",
      "theta_E: 0.466 arcsec\n"
     ]
    },
    {
     "name": "stdout",
     "output_type": "stream",
     "text": [
      "jam_axi_proj(align='sph', moment='zz') -- elapsed time sec: 1.00\n",
      "analytic_los=0 logistic=0 constant_anisotropy=1\n",
      "No PSF/pixel convolution because sigmapsf=0 pixsize=0\n",
      "inc=81.2; beta[0]=0.0; kappa=1.00; M/L=1.00; BH=0.0; chi2/DOF=nan\n",
      "Total mass MGE (MSun): 1.290e+13\n",
      "\n",
      "sigma_e: 146.94 km/s\n",
      "theta_E: 0.551 arcsec\n"
     ]
    },
    {
     "name": "stdout",
     "output_type": "stream",
     "text": [
      "jam_axi_proj(align='sph', moment='zz') -- elapsed time sec: 0.92\n",
      "analytic_los=0 logistic=0 constant_anisotropy=1\n",
      "No PSF/pixel convolution because sigmapsf=0 pixsize=0\n",
      "inc=41.5; beta[0]=0.0; kappa=1.00; M/L=1.00; BH=0.0; chi2/DOF=nan\n",
      "Total mass MGE (MSun): 1.290e+13\n",
      "\n",
      "sigma_e: 165.68 km/s\n",
      "theta_E: 0.483 arcsec\n"
     ]
    },
    {
     "name": "stdout",
     "output_type": "stream",
     "text": [
      "jam_axi_proj(align='sph', moment='zz') -- elapsed time sec: 1.01\n",
      "analytic_los=0 logistic=0 constant_anisotropy=1\n",
      "No PSF/pixel convolution because sigmapsf=0 pixsize=0\n",
      "inc=70.8; beta[0]=0.0; kappa=1.00; M/L=1.00; BH=0.0; chi2/DOF=nan\n",
      "Total mass MGE (MSun): 1.290e+13\n",
      "\n",
      "sigma_e: 151.89 km/s\n",
      "theta_E: 0.467 arcsec\n"
     ]
    },
    {
     "name": "stdout",
     "output_type": "stream",
     "text": [
      "jam_axi_proj(align='sph', moment='zz') -- elapsed time sec: 1.05\n",
      "analytic_los=0 logistic=0 constant_anisotropy=1\n",
      "No PSF/pixel convolution because sigmapsf=0 pixsize=0\n",
      "inc=80.5; beta[0]=0.0; kappa=1.00; M/L=1.00; BH=0.0; chi2/DOF=nan\n",
      "Total mass MGE (MSun): 1.290e+13\n",
      "\n",
      "sigma_e: 147.20 km/s\n",
      "theta_E: 0.558 arcsec\n"
     ]
    },
    {
     "name": "stdout",
     "output_type": "stream",
     "text": [
      "jam_axi_proj(align='sph', moment='zz') -- elapsed time sec: 0.93\n",
      "analytic_los=0 logistic=0 constant_anisotropy=1\n",
      "No PSF/pixel convolution because sigmapsf=0 pixsize=0\n",
      "inc=38.4; beta[0]=0.0; kappa=1.00; M/L=1.00; BH=0.0; chi2/DOF=nan\n",
      "Total mass MGE (MSun): 1.290e+13\n",
      "\n",
      "sigma_e: 166.56 km/s\n",
      "theta_E: 0.533 arcsec\n"
     ]
    },
    {
     "name": "stdout",
     "output_type": "stream",
     "text": [
      "jam_axi_proj(align='sph', moment='zz') -- elapsed time sec: 0.95\n",
      "analytic_los=0 logistic=0 constant_anisotropy=1\n",
      "No PSF/pixel convolution because sigmapsf=0 pixsize=0\n",
      "inc=49.4; beta[0]=0.0; kappa=1.00; M/L=1.00; BH=0.0; chi2/DOF=nan\n",
      "Total mass MGE (MSun): 1.290e+13\n",
      "\n",
      "sigma_e: 162.89 km/s\n"
     ]
    },
    {
     "name": "stdout",
     "output_type": "stream",
     "text": [
      "theta_E: 0.574 arcsec\n"
     ]
    },
    {
     "name": "stdout",
     "output_type": "stream",
     "text": [
      "jam_axi_proj(align='sph', moment='zz') -- elapsed time sec: 0.89\n",
      "analytic_los=0 logistic=0 constant_anisotropy=1\n",
      "No PSF/pixel convolution because sigmapsf=0 pixsize=0\n",
      "inc=31.9; beta[0]=0.0; kappa=1.00; M/L=1.00; BH=0.0; chi2/DOF=nan\n",
      "Total mass MGE (MSun): 1.326e+13\n",
      "\n",
      "sigma_e: 168.42 km/s\n",
      "theta_E: 0.569 arcsec\n"
     ]
    },
    {
     "name": "stdout",
     "output_type": "stream",
     "text": [
      "jam_axi_proj(align='sph', moment='zz') -- elapsed time sec: 0.91\n",
      "analytic_los=0 logistic=0 constant_anisotropy=1\n",
      "No PSF/pixel convolution because sigmapsf=0 pixsize=0\n",
      "inc=34.8; beta[0]=0.0; kappa=1.00; M/L=1.00; BH=0.0; chi2/DOF=nan\n",
      "Total mass MGE (MSun): 1.326e+13\n",
      "\n",
      "sigma_e: 167.82 km/s\n",
      "theta_E: 0.476 arcsec\n"
     ]
    },
    {
     "name": "stdout",
     "output_type": "stream",
     "text": [
      "jam_axi_proj(align='sph', moment='zz') -- elapsed time sec: 0.97\n",
      "analytic_los=0 logistic=0 constant_anisotropy=1\n",
      "No PSF/pixel convolution because sigmapsf=0 pixsize=0\n",
      "inc=79.7; beta[0]=0.0; kappa=1.00; M/L=1.00; BH=0.0; chi2/DOF=nan\n",
      "Total mass MGE (MSun): 1.326e+13\n",
      "\n",
      "sigma_e: 148.68 km/s\n",
      "theta_E: 0.553 arcsec\n"
     ]
    },
    {
     "name": "stdout",
     "output_type": "stream",
     "text": [
      "jam_axi_proj(align='sph', moment='zz') -- elapsed time sec: 0.90\n",
      "analytic_los=0 logistic=0 constant_anisotropy=1\n",
      "No PSF/pixel convolution because sigmapsf=0 pixsize=0\n",
      "inc=42.7; beta[0]=0.0; kappa=1.00; M/L=1.00; BH=0.0; chi2/DOF=nan\n",
      "Total mass MGE (MSun): 1.326e+13\n",
      "\n",
      "sigma_e: 165.69 km/s\n",
      "theta_E: 0.590 arcsec\n"
     ]
    },
    {
     "name": "stdout",
     "output_type": "stream",
     "text": [
      "jam_axi_proj(align='sph', moment='zz') -- elapsed time sec: 0.86\n",
      "analytic_los=0 logistic=0 constant_anisotropy=1\n",
      "No PSF/pixel convolution because sigmapsf=0 pixsize=0\n",
      "inc=20.9; beta[0]=0.0; kappa=1.00; M/L=1.00; BH=0.0; chi2/DOF=nan\n",
      "Total mass MGE (MSun): 1.326e+13\n",
      "\n",
      "sigma_e: 170.19 km/s\n",
      "theta_E: 0.583 arcsec\n"
     ]
    },
    {
     "name": "stdout",
     "output_type": "stream",
     "text": [
      "jam_axi_proj(align='sph', moment='zz') -- elapsed time sec: 0.90\n",
      "analytic_los=0 logistic=0 constant_anisotropy=1\n",
      "No PSF/pixel convolution because sigmapsf=0 pixsize=0\n",
      "inc=26.1; beta[0]=0.0; kappa=1.00; M/L=1.00; BH=0.0; chi2/DOF=nan\n",
      "Total mass MGE (MSun): 1.326e+13\n",
      "\n",
      "sigma_e: 169.48 km/s\n",
      "theta_E: 0.472 arcsec\n"
     ]
    },
    {
     "name": "stdout",
     "output_type": "stream",
     "text": [
      "jam_axi_proj(align='sph', moment='zz') -- elapsed time sec: 0.98\n",
      "analytic_los=0 logistic=0 constant_anisotropy=1\n",
      "No PSF/pixel convolution because sigmapsf=0 pixsize=0\n",
      "inc=84.0; beta[0]=0.0; kappa=1.00; M/L=1.00; BH=0.0; chi2/DOF=nan\n",
      "Total mass MGE (MSun): 1.326e+13\n",
      "\n",
      "sigma_e: 147.36 km/s\n",
      "theta_E: 0.491 arcsec\n"
     ]
    },
    {
     "name": "stdout",
     "output_type": "stream",
     "text": [
      "jam_axi_proj(align='sph', moment='zz') -- elapsed time sec: 0.95\n",
      "analytic_los=0 logistic=0 constant_anisotropy=1\n",
      "No PSF/pixel convolution because sigmapsf=0 pixsize=0\n",
      "inc=70.2; beta[0]=0.0; kappa=1.00; M/L=1.00; BH=0.0; chi2/DOF=nan\n",
      "Total mass MGE (MSun): 1.326e+13\n",
      "\n",
      "sigma_e: 153.13 km/s\n",
      "theta_E: 0.484 arcsec\n"
     ]
    },
    {
     "name": "stdout",
     "output_type": "stream",
     "text": [
      "jam_axi_proj(align='sph', moment='zz') -- elapsed time sec: 0.95\n",
      "analytic_los=0 logistic=0 constant_anisotropy=1\n",
      "No PSF/pixel convolution because sigmapsf=0 pixsize=0\n",
      "inc=74.1; beta[0]=0.0; kappa=1.00; M/L=1.00; BH=0.0; chi2/DOF=nan\n",
      "Total mass MGE (MSun): 1.326e+13\n",
      "\n",
      "sigma_e: 151.12 km/s\n",
      "theta_E: 0.477 arcsec\n"
     ]
    },
    {
     "name": "stdout",
     "output_type": "stream",
     "text": [
      "jam_axi_proj(align='sph', moment='zz') -- elapsed time sec: 0.97\n",
      "analytic_los=0 logistic=0 constant_anisotropy=1\n",
      "No PSF/pixel convolution because sigmapsf=0 pixsize=0\n",
      "inc=79.0; beta[0]=0.0; kappa=1.00; M/L=1.00; BH=0.0; chi2/DOF=nan\n",
      "Total mass MGE (MSun): 1.326e+13\n",
      "\n",
      "sigma_e: 148.95 km/s\n"
     ]
    },
    {
     "name": "stdout",
     "output_type": "stream",
     "text": [
      "theta_E: 0.777 arcsec\n"
     ]
    },
    {
     "name": "stdout",
     "output_type": "stream",
     "text": [
      "jam_axi_proj(align='sph', moment='zz') -- elapsed time sec: 0.91\n",
      "analytic_los=0 logistic=0 constant_anisotropy=1\n",
      "No PSF/pixel convolution because sigmapsf=0 pixsize=0\n",
      "inc=24.7; beta[0]=0.0; kappa=1.00; M/L=1.00; BH=0.0; chi2/DOF=nan\n",
      "Total mass MGE (MSun): 2.233e+13\n",
      "\n",
      "sigma_e: 195.66 km/s\n",
      "theta_E: 0.789 arcsec\n"
     ]
    },
    {
     "name": "stdout",
     "output_type": "stream",
     "text": [
      "jam_axi_proj(align='sph', moment='zz') -- elapsed time sec: 0.93\n",
      "analytic_los=0 logistic=0 constant_anisotropy=1\n",
      "No PSF/pixel convolution because sigmapsf=0 pixsize=0\n",
      "inc=17.7; beta[0]=0.0; kappa=1.00; M/L=1.00; BH=0.0; chi2/DOF=nan\n",
      "Total mass MGE (MSun): 2.233e+13\n",
      "\n",
      "sigma_e: 196.71 km/s\n",
      "theta_E: 0.695 arcsec\n"
     ]
    },
    {
     "name": "stdout",
     "output_type": "stream",
     "text": [
      "jam_axi_proj(align='sph', moment='zz') -- elapsed time sec: 0.95\n",
      "analytic_los=0 logistic=0 constant_anisotropy=1\n",
      "No PSF/pixel convolution because sigmapsf=0 pixsize=0\n",
      "inc=53.5; beta[0]=0.0; kappa=1.00; M/L=1.00; BH=0.0; chi2/DOF=nan\n",
      "Total mass MGE (MSun): 2.233e+13\n",
      "\n",
      "sigma_e: 185.41 km/s\n",
      "theta_E: 0.701 arcsec\n"
     ]
    },
    {
     "name": "stdout",
     "output_type": "stream",
     "text": [
      "jam_axi_proj(align='sph', moment='zz') -- elapsed time sec: 0.97\n",
      "analytic_los=0 logistic=0 constant_anisotropy=1\n",
      "No PSF/pixel convolution because sigmapsf=0 pixsize=0\n",
      "inc=51.7; beta[0]=0.0; kappa=1.00; M/L=1.00; BH=0.0; chi2/DOF=nan\n",
      "Total mass MGE (MSun): 2.233e+13\n",
      "\n",
      "sigma_e: 186.41 km/s\n",
      "theta_E: 0.609 arcsec\n"
     ]
    },
    {
     "name": "stdout",
     "output_type": "stream",
     "text": [
      "jam_axi_proj(align='sph', moment='zz') -- elapsed time sec: 1.05\n",
      "analytic_los=0 logistic=0 constant_anisotropy=1\n",
      "No PSF/pixel convolution because sigmapsf=0 pixsize=0\n",
      "inc=83.6; beta[0]=0.0; kappa=1.00; M/L=1.00; BH=0.0; chi2/DOF=nan\n",
      "Total mass MGE (MSun): 2.233e+13\n",
      "\n",
      "sigma_e: 165.74 km/s\n",
      "theta_E: 0.665 arcsec\n"
     ]
    },
    {
     "name": "stdout",
     "output_type": "stream",
     "text": [
      "jam_axi_proj(align='sph', moment='zz') -- elapsed time sec: 0.97\n",
      "analytic_los=0 logistic=0 constant_anisotropy=1\n",
      "No PSF/pixel convolution because sigmapsf=0 pixsize=0\n",
      "inc=62.0; beta[0]=0.0; kappa=1.00; M/L=1.00; BH=0.0; chi2/DOF=nan\n",
      "Total mass MGE (MSun): 2.233e+13\n",
      "\n",
      "sigma_e: 179.92 km/s\n",
      "theta_E: 0.670 arcsec\n"
     ]
    },
    {
     "name": "stdout",
     "output_type": "stream",
     "text": [
      "jam_axi_proj(align='sph', moment='zz') -- elapsed time sec: 0.95\n",
      "analytic_los=0 logistic=0 constant_anisotropy=1\n",
      "No PSF/pixel convolution because sigmapsf=0 pixsize=0\n",
      "inc=60.6; beta[0]=0.0; kappa=1.00; M/L=1.00; BH=0.0; chi2/DOF=nan\n",
      "Total mass MGE (MSun): 2.233e+13\n",
      "\n",
      "sigma_e: 180.86 km/s\n",
      "theta_E: 0.762 arcsec\n"
     ]
    },
    {
     "name": "stdout",
     "output_type": "stream",
     "text": [
      "jam_axi_proj(align='sph', moment='zz') -- elapsed time sec: 1.01\n",
      "analytic_los=0 logistic=0 constant_anisotropy=1\n",
      "No PSF/pixel convolution because sigmapsf=0 pixsize=0\n",
      "inc=31.4; beta[0]=0.0; kappa=1.00; M/L=1.00; BH=0.0; chi2/DOF=nan\n",
      "Total mass MGE (MSun): 2.233e+13\n",
      "\n",
      "sigma_e: 194.25 km/s\n",
      "theta_E: 0.607 arcsec\n"
     ]
    },
    {
     "name": "stdout",
     "output_type": "stream",
     "text": [
      "jam_axi_proj(align='sph', moment='zz') -- elapsed time sec: 1.07\n",
      "analytic_los=0 logistic=0 constant_anisotropy=1\n",
      "No PSF/pixel convolution because sigmapsf=0 pixsize=0\n",
      "inc=84.8; beta[0]=0.0; kappa=1.00; M/L=1.00; BH=0.0; chi2/DOF=nan\n",
      "Total mass MGE (MSun): 2.233e+13\n",
      "\n",
      "sigma_e: 165.32 km/s\n",
      "theta_E: 0.674 arcsec\n"
     ]
    },
    {
     "name": "stdout",
     "output_type": "stream",
     "text": [
      "jam_axi_proj(align='sph', moment='zz') -- elapsed time sec: 0.97\n",
      "analytic_los=0 logistic=0 constant_anisotropy=1\n",
      "No PSF/pixel convolution because sigmapsf=0 pixsize=0\n",
      "inc=59.5; beta[0]=0.0; kappa=1.00; M/L=1.00; BH=0.0; chi2/DOF=nan\n",
      "Total mass MGE (MSun): 2.233e+13\n",
      "\n",
      "sigma_e: 181.69 km/s\n"
     ]
    },
    {
     "name": "stdout",
     "output_type": "stream",
     "text": [
      "theta_E: 0.481 arcsec\n"
     ]
    },
    {
     "name": "stdout",
     "output_type": "stream",
     "text": [
      "jam_axi_proj(align='sph', moment='zz') -- elapsed time sec: 0.92\n",
      "analytic_los=0 logistic=0 constant_anisotropy=1\n",
      "No PSF/pixel convolution because sigmapsf=0 pixsize=0\n",
      "inc=37.9; beta[0]=0.0; kappa=1.00; M/L=1.00; BH=0.0; chi2/DOF=nan\n",
      "Total mass MGE (MSun): 8.994e+12\n",
      "\n",
      "sigma_e: 155.03 km/s\n",
      "theta_E: 0.385 arcsec\n"
     ]
    },
    {
     "name": "stdout",
     "output_type": "stream",
     "text": [
      "jam_axi_proj(align='sph', moment='zz') -- elapsed time sec: 1.01\n",
      "analytic_los=0 logistic=0 constant_anisotropy=1\n",
      "No PSF/pixel convolution because sigmapsf=0 pixsize=0\n",
      "inc=79.0; beta[0]=0.0; kappa=1.00; M/L=1.00; BH=0.0; chi2/DOF=nan\n",
      "Total mass MGE (MSun): 8.994e+12\n",
      "\n",
      "sigma_e: 131.24 km/s\n",
      "theta_E: 0.399 arcsec\n"
     ]
    },
    {
     "name": "stdout",
     "output_type": "stream",
     "text": [
      "jam_axi_proj(align='sph', moment='zz') -- elapsed time sec: 1.03\n",
      "analytic_los=0 logistic=0 constant_anisotropy=1\n",
      "No PSF/pixel convolution because sigmapsf=0 pixsize=0\n",
      "inc=71.4; beta[0]=0.0; kappa=1.00; M/L=1.00; BH=0.0; chi2/DOF=nan\n",
      "Total mass MGE (MSun): 8.994e+12\n",
      "\n",
      "sigma_e: 136.51 km/s\n",
      "theta_E: 0.387 arcsec\n"
     ]
    },
    {
     "name": "stdout",
     "output_type": "stream",
     "text": [
      "jam_axi_proj(align='sph', moment='zz') -- elapsed time sec: 1.01\n",
      "analytic_los=0 logistic=0 constant_anisotropy=1\n",
      "No PSF/pixel convolution because sigmapsf=0 pixsize=0\n",
      "inc=77.6; beta[0]=0.0; kappa=1.00; M/L=1.00; BH=0.0; chi2/DOF=nan\n",
      "Total mass MGE (MSun): 8.994e+12\n",
      "\n",
      "sigma_e: 132.09 km/s\n",
      "theta_E: 0.444 arcsec\n"
     ]
    },
    {
     "name": "stdout",
     "output_type": "stream",
     "text": [
      "jam_axi_proj(align='sph', moment='zz') -- elapsed time sec: 0.97\n",
      "analytic_los=0 logistic=0 constant_anisotropy=1\n",
      "No PSF/pixel convolution because sigmapsf=0 pixsize=0\n",
      "inc=53.6; beta[0]=0.0; kappa=1.00; M/L=1.00; BH=0.0; chi2/DOF=nan\n",
      "Total mass MGE (MSun): 8.994e+12\n",
      "\n",
      "sigma_e: 148.58 km/s\n",
      "theta_E: 0.396 arcsec\n"
     ]
    },
    {
     "name": "stdout",
     "output_type": "stream",
     "text": [
      "jam_axi_proj(align='sph', moment='zz') -- elapsed time sec: 1.03\n",
      "analytic_los=0 logistic=0 constant_anisotropy=1\n",
      "No PSF/pixel convolution because sigmapsf=0 pixsize=0\n",
      "inc=72.9; beta[0]=0.0; kappa=1.00; M/L=1.00; BH=0.0; chi2/DOF=nan\n",
      "Total mass MGE (MSun): 8.994e+12\n",
      "\n",
      "sigma_e: 135.41 km/s\n",
      "theta_E: 0.387 arcsec\n"
     ]
    },
    {
     "name": "stdout",
     "output_type": "stream",
     "text": [
      "jam_axi_proj(align='sph', moment='zz') -- elapsed time sec: 0.99\n",
      "analytic_los=0 logistic=0 constant_anisotropy=1\n",
      "No PSF/pixel convolution because sigmapsf=0 pixsize=0\n",
      "inc=78.0; beta[0]=0.0; kappa=1.00; M/L=1.00; BH=0.0; chi2/DOF=nan\n",
      "Total mass MGE (MSun): 8.994e+12\n",
      "\n",
      "sigma_e: 131.85 km/s\n",
      "theta_E: 0.399 arcsec\n"
     ]
    },
    {
     "name": "stdout",
     "output_type": "stream",
     "text": [
      "jam_axi_proj(align='sph', moment='zz') -- elapsed time sec: 1.06\n",
      "analytic_los=0 logistic=0 constant_anisotropy=1\n",
      "No PSF/pixel convolution because sigmapsf=0 pixsize=0\n",
      "inc=71.5; beta[0]=0.0; kappa=1.00; M/L=1.00; BH=0.0; chi2/DOF=nan\n",
      "Total mass MGE (MSun): 8.994e+12\n",
      "\n",
      "sigma_e: 136.45 km/s\n",
      "theta_E: 0.397 arcsec\n"
     ]
    },
    {
     "name": "stdout",
     "output_type": "stream",
     "text": [
      "jam_axi_proj(align='sph', moment='zz') -- elapsed time sec: 1.01\n",
      "analytic_los=0 logistic=0 constant_anisotropy=1\n",
      "No PSF/pixel convolution because sigmapsf=0 pixsize=0\n",
      "inc=72.7; beta[0]=0.0; kappa=1.00; M/L=1.00; BH=0.0; chi2/DOF=nan\n",
      "Total mass MGE (MSun): 8.994e+12\n",
      "\n",
      "sigma_e: 135.58 km/s\n",
      "theta_E: 0.484 arcsec\n"
     ]
    },
    {
     "name": "stdout",
     "output_type": "stream",
     "text": [
      "jam_axi_proj(align='sph', moment='zz') -- elapsed time sec: 0.93\n",
      "analytic_los=0 logistic=0 constant_anisotropy=1\n",
      "No PSF/pixel convolution because sigmapsf=0 pixsize=0\n",
      "inc=36.3; beta[0]=0.0; kappa=1.00; M/L=1.00; BH=0.0; chi2/DOF=nan\n",
      "Total mass MGE (MSun): 8.994e+12\n",
      "\n",
      "sigma_e: 155.48 km/s\n"
     ]
    },
    {
     "name": "stdout",
     "output_type": "stream",
     "text": [
      "theta_E: 1.189 arcsec\n"
     ]
    },
    {
     "name": "stdout",
     "output_type": "stream",
     "text": [
      "jam_axi_proj(align='sph', moment='zz') -- elapsed time sec: 0.92\n",
      "analytic_los=0 logistic=0 constant_anisotropy=1\n",
      "No PSF/pixel convolution because sigmapsf=0 pixsize=0\n",
      "inc=24.0; beta[0]=0.0; kappa=1.00; M/L=1.00; BH=0.0; chi2/DOF=nan\n",
      "Total mass MGE (MSun): 5.241e+13\n",
      "\n",
      "sigma_e: 241.10 km/s\n",
      "theta_E: 0.940 arcsec\n"
     ]
    },
    {
     "name": "stdout",
     "output_type": "stream",
     "text": [
      "jam_axi_proj(align='sph', moment='zz') -- elapsed time sec: 1.07\n",
      "analytic_los=0 logistic=0 constant_anisotropy=1\n",
      "No PSF/pixel convolution because sigmapsf=0 pixsize=0\n",
      "inc=82.4; beta[0]=0.0; kappa=1.00; M/L=1.00; BH=0.0; chi2/DOF=nan\n",
      "Total mass MGE (MSun): 5.241e+13\n",
      "\n",
      "sigma_e: 205.52 km/s\n",
      "theta_E: 1.121 arcsec\n"
     ]
    },
    {
     "name": "stdout",
     "output_type": "stream",
     "text": [
      "jam_axi_proj(align='sph', moment='zz') -- elapsed time sec: 0.98\n",
      "analytic_los=0 logistic=0 constant_anisotropy=1\n",
      "No PSF/pixel convolution because sigmapsf=0 pixsize=0\n",
      "inc=41.9; beta[0]=0.0; kappa=1.00; M/L=1.00; BH=0.0; chi2/DOF=nan\n",
      "Total mass MGE (MSun): 5.241e+13\n",
      "\n",
      "sigma_e: 235.19 km/s\n",
      "theta_E: 0.942 arcsec\n"
     ]
    },
    {
     "name": "stdout",
     "output_type": "stream",
     "text": [
      "jam_axi_proj(align='sph', moment='zz') -- elapsed time sec: 1.06\n",
      "analytic_los=0 logistic=0 constant_anisotropy=1\n",
      "No PSF/pixel convolution because sigmapsf=0 pixsize=0\n",
      "inc=81.5; beta[0]=0.0; kappa=1.00; M/L=1.00; BH=0.0; chi2/DOF=nan\n",
      "Total mass MGE (MSun): 5.241e+13\n",
      "\n",
      "sigma_e: 205.98 km/s\n",
      "theta_E: 0.933 arcsec\n"
     ]
    },
    {
     "name": "stdout",
     "output_type": "stream",
     "text": [
      "jam_axi_proj(align='sph', moment='zz') -- elapsed time sec: 0.99\n",
      "analytic_los=0 logistic=0 constant_anisotropy=1\n",
      "No PSF/pixel convolution because sigmapsf=0 pixsize=0\n",
      "inc=88.6; beta[0]=0.0; kappa=1.00; M/L=1.00; BH=0.0; chi2/DOF=nan\n",
      "Total mass MGE (MSun): 5.241e+13\n",
      "\n",
      "sigma_e: 203.59 km/s\n",
      "theta_E: 1.053 arcsec\n"
     ]
    },
    {
     "name": "stdout",
     "output_type": "stream",
     "text": [
      "jam_axi_proj(align='sph', moment='zz') -- elapsed time sec: 0.97\n",
      "analytic_los=0 logistic=0 constant_anisotropy=1\n",
      "No PSF/pixel convolution because sigmapsf=0 pixsize=0\n",
      "inc=55.7; beta[0]=0.0; kappa=1.00; M/L=1.00; BH=0.0; chi2/DOF=nan\n",
      "Total mass MGE (MSun): 5.241e+13\n",
      "\n",
      "sigma_e: 226.90 km/s\n",
      "theta_E: 1.171 arcsec\n"
     ]
    },
    {
     "name": "stdout",
     "output_type": "stream",
     "text": [
      "jam_axi_proj(align='sph', moment='zz') -- elapsed time sec: 0.92\n",
      "analytic_los=0 logistic=0 constant_anisotropy=1\n",
      "No PSF/pixel convolution because sigmapsf=0 pixsize=0\n",
      "inc=29.8; beta[0]=0.0; kappa=1.00; M/L=1.00; BH=0.0; chi2/DOF=nan\n",
      "Total mass MGE (MSun): 5.241e+13\n",
      "\n",
      "sigma_e: 239.65 km/s\n",
      "theta_E: 1.027 arcsec\n"
     ]
    },
    {
     "name": "stdout",
     "output_type": "stream",
     "text": [
      "jam_axi_proj(align='sph', moment='zz') -- elapsed time sec: 0.99\n",
      "analytic_los=0 logistic=0 constant_anisotropy=1\n",
      "No PSF/pixel convolution because sigmapsf=0 pixsize=0\n",
      "inc=60.6; beta[0]=0.0; kappa=1.00; M/L=1.00; BH=0.0; chi2/DOF=nan\n",
      "Total mass MGE (MSun): 5.241e+13\n",
      "\n",
      "sigma_e: 222.99 km/s\n",
      "theta_E: 1.182 arcsec\n"
     ]
    },
    {
     "name": "stdout",
     "output_type": "stream",
     "text": [
      "jam_axi_proj(align='sph', moment='zz') -- elapsed time sec: 0.93\n",
      "analytic_los=0 logistic=0 constant_anisotropy=1\n",
      "No PSF/pixel convolution because sigmapsf=0 pixsize=0\n",
      "inc=26.7; beta[0]=0.0; kappa=1.00; M/L=1.00; BH=0.0; chi2/DOF=nan\n",
      "Total mass MGE (MSun): 5.241e+13\n",
      "\n",
      "sigma_e: 240.46 km/s\n",
      "theta_E: 1.183 arcsec\n"
     ]
    },
    {
     "name": "stdout",
     "output_type": "stream",
     "text": [
      "jam_axi_proj(align='sph', moment='zz') -- elapsed time sec: 0.99\n",
      "analytic_los=0 logistic=0 constant_anisotropy=1\n",
      "No PSF/pixel convolution because sigmapsf=0 pixsize=0\n",
      "inc=26.2; beta[0]=0.0; kappa=1.00; M/L=1.00; BH=0.0; chi2/DOF=nan\n",
      "Total mass MGE (MSun): 5.241e+13\n",
      "\n",
      "sigma_e: 240.57 km/s\n"
     ]
    },
    {
     "name": "stdout",
     "output_type": "stream",
     "text": [
      "theta_E: 0.667 arcsec\n"
     ]
    },
    {
     "name": "stdout",
     "output_type": "stream",
     "text": [
      "jam_axi_proj(align='sph', moment='zz') -- elapsed time sec: 0.86\n",
      "analytic_los=0 logistic=0 constant_anisotropy=1\n",
      "No PSF/pixel convolution because sigmapsf=0 pixsize=0\n",
      "inc=26.2; beta[0]=0.0; kappa=1.00; M/L=1.00; BH=0.0; chi2/DOF=nan\n",
      "Total mass MGE (MSun): 1.830e+13\n",
      "\n",
      "sigma_e: 180.97 km/s\n",
      "theta_E: 0.652 arcsec\n"
     ]
    },
    {
     "name": "stdout",
     "output_type": "stream",
     "text": [
      "jam_axi_proj(align='sph', moment='zz') -- elapsed time sec: 0.89\n",
      "analytic_los=0 logistic=0 constant_anisotropy=1\n",
      "No PSF/pixel convolution because sigmapsf=0 pixsize=0\n",
      "inc=35.1; beta[0]=0.0; kappa=1.00; M/L=1.00; BH=0.0; chi2/DOF=nan\n",
      "Total mass MGE (MSun): 1.830e+13\n",
      "\n",
      "sigma_e: 179.35 km/s\n",
      "theta_E: 0.676 arcsec\n"
     ]
    },
    {
     "name": "stdout",
     "output_type": "stream",
     "text": [
      "jam_axi_proj(align='sph', moment='zz') -- elapsed time sec: 0.86\n",
      "analytic_los=0 logistic=0 constant_anisotropy=1\n",
      "No PSF/pixel convolution because sigmapsf=0 pixsize=0\n",
      "inc=18.2; beta[0]=0.0; kappa=1.00; M/L=1.00; BH=0.0; chi2/DOF=nan\n",
      "Total mass MGE (MSun): 1.830e+13\n",
      "\n",
      "sigma_e: 181.92 km/s\n",
      "theta_E: 0.594 arcsec\n"
     ]
    },
    {
     "name": "stdout",
     "output_type": "stream",
     "text": [
      "jam_axi_proj(align='sph', moment='zz') -- elapsed time sec: 0.95\n",
      "analytic_los=0 logistic=0 constant_anisotropy=1\n",
      "No PSF/pixel convolution because sigmapsf=0 pixsize=0\n",
      "inc=63.2; beta[0]=0.0; kappa=1.00; M/L=1.00; BH=0.0; chi2/DOF=nan\n",
      "Total mass MGE (MSun): 1.830e+13\n",
      "\n",
      "sigma_e: 170.19 km/s\n",
      "theta_E: 0.604 arcsec\n"
     ]
    },
    {
     "name": "stdout",
     "output_type": "stream",
     "text": [
      "jam_axi_proj(align='sph', moment='zz') -- elapsed time sec: 0.92\n",
      "analytic_los=0 logistic=0 constant_anisotropy=1\n",
      "No PSF/pixel convolution because sigmapsf=0 pixsize=0\n",
      "inc=58.5; beta[0]=0.0; kappa=1.00; M/L=1.00; BH=0.0; chi2/DOF=nan\n",
      "Total mass MGE (MSun): 1.830e+13\n",
      "\n",
      "sigma_e: 172.09 km/s\n",
      "theta_E: 0.629 arcsec\n"
     ]
    },
    {
     "name": "stdout",
     "output_type": "stream",
     "text": [
      "jam_axi_proj(align='sph', moment='zz') -- elapsed time sec: 0.93\n",
      "analytic_los=0 logistic=0 constant_anisotropy=1\n",
      "No PSF/pixel convolution because sigmapsf=0 pixsize=0\n",
      "inc=47.0; beta[0]=0.0; kappa=1.00; M/L=1.00; BH=0.0; chi2/DOF=nan\n",
      "Total mass MGE (MSun): 1.830e+13\n",
      "\n",
      "sigma_e: 176.23 km/s\n",
      "theta_E: 0.623 arcsec\n"
     ]
    },
    {
     "name": "stdout",
     "output_type": "stream",
     "text": [
      "jam_axi_proj(align='sph', moment='zz') -- elapsed time sec: 0.95\n",
      "analytic_los=0 logistic=0 constant_anisotropy=1\n",
      "No PSF/pixel convolution because sigmapsf=0 pixsize=0\n",
      "inc=49.9; beta[0]=0.0; kappa=1.00; M/L=1.00; BH=0.0; chi2/DOF=nan\n",
      "Total mass MGE (MSun): 1.830e+13\n",
      "\n",
      "sigma_e: 175.28 km/s\n",
      "theta_E: 0.624 arcsec\n"
     ]
    },
    {
     "name": "stdout",
     "output_type": "stream",
     "text": [
      "jam_axi_proj(align='sph', moment='zz') -- elapsed time sec: 0.91\n",
      "analytic_los=0 logistic=0 constant_anisotropy=1\n",
      "No PSF/pixel convolution because sigmapsf=0 pixsize=0\n",
      "inc=49.2; beta[0]=0.0; kappa=1.00; M/L=1.00; BH=0.0; chi2/DOF=nan\n",
      "Total mass MGE (MSun): 1.830e+13\n",
      "\n",
      "sigma_e: 175.49 km/s\n",
      "theta_E: 0.572 arcsec\n"
     ]
    },
    {
     "name": "stdout",
     "output_type": "stream",
     "text": [
      "jam_axi_proj(align='sph', moment='zz') -- elapsed time sec: 0.96\n",
      "analytic_los=0 logistic=0 constant_anisotropy=1\n",
      "No PSF/pixel convolution because sigmapsf=0 pixsize=0\n",
      "inc=76.3; beta[0]=0.0; kappa=1.00; M/L=1.00; BH=0.0; chi2/DOF=nan\n",
      "Total mass MGE (MSun): 1.830e+13\n",
      "\n",
      "sigma_e: 165.05 km/s\n",
      "theta_E: 0.565 arcsec\n"
     ]
    },
    {
     "name": "stdout",
     "output_type": "stream",
     "text": [
      "jam_axi_proj(align='sph', moment='zz') -- elapsed time sec: 0.95\n",
      "analytic_los=0 logistic=0 constant_anisotropy=1\n",
      "No PSF/pixel convolution because sigmapsf=0 pixsize=0\n",
      "inc=82.4; beta[0]=0.0; kappa=1.00; M/L=1.00; BH=0.0; chi2/DOF=nan\n",
      "Total mass MGE (MSun): 1.830e+13\n",
      "\n",
      "sigma_e: 163.37 km/s\n"
     ]
    },
    {
     "name": "stdout",
     "output_type": "stream",
     "text": [
      "theta_E: 0.799 arcsec\n"
     ]
    },
    {
     "name": "stdout",
     "output_type": "stream",
     "text": [
      "jam_axi_proj(align='sph', moment='zz') -- elapsed time sec: 0.92\n",
      "analytic_los=0 logistic=0 constant_anisotropy=1\n",
      "No PSF/pixel convolution because sigmapsf=0 pixsize=0\n",
      "inc=63.5; beta[0]=0.0; kappa=1.00; M/L=1.00; BH=0.0; chi2/DOF=nan\n",
      "Total mass MGE (MSun): 3.303e+13\n",
      "\n",
      "sigma_e: 196.70 km/s\n",
      "theta_E: 0.761 arcsec\n"
     ]
    },
    {
     "name": "stdout",
     "output_type": "stream",
     "text": [
      "jam_axi_proj(align='sph', moment='zz') -- elapsed time sec: 0.93\n",
      "analytic_los=0 logistic=0 constant_anisotropy=1\n",
      "No PSF/pixel convolution because sigmapsf=0 pixsize=0\n",
      "inc=88.7; beta[0]=0.0; kappa=1.00; M/L=1.00; BH=0.0; chi2/DOF=nan\n",
      "Total mass MGE (MSun): 3.303e+13\n",
      "\n",
      "sigma_e: 189.01 km/s\n",
      "theta_E: 0.763 arcsec\n"
     ]
    },
    {
     "name": "stdout",
     "output_type": "stream",
     "text": [
      "jam_axi_proj(align='sph', moment='zz') -- elapsed time sec: 0.92\n",
      "analytic_los=0 logistic=0 constant_anisotropy=1\n",
      "No PSF/pixel convolution because sigmapsf=0 pixsize=0\n",
      "inc=85.6; beta[0]=0.0; kappa=1.00; M/L=1.00; BH=0.0; chi2/DOF=nan\n",
      "Total mass MGE (MSun): 3.303e+13\n",
      "\n",
      "sigma_e: 189.30 km/s\n",
      "theta_E: 0.802 arcsec\n"
     ]
    },
    {
     "name": "stdout",
     "output_type": "stream",
     "text": [
      "jam_axi_proj(align='sph', moment='zz') -- elapsed time sec: 0.95\n",
      "analytic_los=0 logistic=0 constant_anisotropy=1\n",
      "No PSF/pixel convolution because sigmapsf=0 pixsize=0\n",
      "inc=62.4; beta[0]=0.0; kappa=1.00; M/L=1.00; BH=0.0; chi2/DOF=nan\n",
      "Total mass MGE (MSun): 3.303e+13\n",
      "\n",
      "sigma_e: 197.18 km/s\n",
      "theta_E: 0.761 arcsec\n"
     ]
    },
    {
     "name": "stdout",
     "output_type": "stream",
     "text": [
      "jam_axi_proj(align='sph', moment='zz') -- elapsed time sec: 0.94\n",
      "analytic_los=0 logistic=0 constant_anisotropy=1\n",
      "No PSF/pixel convolution because sigmapsf=0 pixsize=0\n",
      "inc=90.0; beta[0]=0.0; kappa=1.00; M/L=1.00; BH=0.0; chi2/DOF=nan\n",
      "Total mass MGE (MSun): 3.303e+13\n",
      "\n",
      "sigma_e: 188.99 km/s\n",
      "theta_E: 0.769 arcsec\n"
     ]
    },
    {
     "name": "stdout",
     "output_type": "stream",
     "text": [
      "jam_axi_proj(align='sph', moment='zz') -- elapsed time sec: 0.93\n",
      "analytic_los=0 logistic=0 constant_anisotropy=1\n",
      "No PSF/pixel convolution because sigmapsf=0 pixsize=0\n",
      "inc=78.6; beta[0]=0.0; kappa=1.00; M/L=1.00; BH=0.0; chi2/DOF=nan\n",
      "Total mass MGE (MSun): 3.303e+13\n",
      "\n",
      "sigma_e: 190.85 km/s\n",
      "theta_E: 0.903 arcsec\n"
     ]
    },
    {
     "name": "stdout",
     "output_type": "stream",
     "text": [
      "jam_axi_proj(align='sph', moment='zz') -- elapsed time sec: 0.82\n",
      "analytic_los=0 logistic=0 constant_anisotropy=1\n",
      "No PSF/pixel convolution because sigmapsf=0 pixsize=0\n",
      "inc=17.9; beta[0]=0.0; kappa=1.00; M/L=1.00; BH=0.0; chi2/DOF=nan\n",
      "Total mass MGE (MSun): 3.303e+13\n",
      "\n",
      "sigma_e: 209.60 km/s\n",
      "theta_E: 0.859 arcsec\n"
     ]
    },
    {
     "name": "stdout",
     "output_type": "stream",
     "text": [
      "jam_axi_proj(align='sph', moment='zz') -- elapsed time sec: 0.89\n",
      "analytic_los=0 logistic=0 constant_anisotropy=1\n",
      "No PSF/pixel convolution because sigmapsf=0 pixsize=0\n",
      "inc=40.8; beta[0]=0.0; kappa=1.00; M/L=1.00; BH=0.0; chi2/DOF=nan\n",
      "Total mass MGE (MSun): 3.303e+13\n",
      "\n",
      "sigma_e: 205.27 km/s\n",
      "theta_E: 0.806 arcsec\n"
     ]
    },
    {
     "name": "stdout",
     "output_type": "stream",
     "text": [
      "jam_axi_proj(align='sph', moment='zz') -- elapsed time sec: 0.92\n",
      "analytic_los=0 logistic=0 constant_anisotropy=1\n",
      "No PSF/pixel convolution because sigmapsf=0 pixsize=0\n",
      "inc=60.8; beta[0]=0.0; kappa=1.00; M/L=1.00; BH=0.0; chi2/DOF=nan\n",
      "Total mass MGE (MSun): 3.303e+13\n",
      "\n",
      "sigma_e: 197.88 km/s\n",
      "theta_E: 0.893 arcsec\n"
     ]
    },
    {
     "name": "stdout",
     "output_type": "stream",
     "text": [
      "jam_axi_proj(align='sph', moment='zz') -- elapsed time sec: 0.93\n",
      "analytic_los=0 logistic=0 constant_anisotropy=1\n",
      "No PSF/pixel convolution because sigmapsf=0 pixsize=0\n",
      "inc=24.9; beta[0]=0.0; kappa=1.00; M/L=1.00; BH=0.0; chi2/DOF=nan\n",
      "Total mass MGE (MSun): 3.303e+13\n",
      "\n",
      "sigma_e: 208.71 km/s\n"
     ]
    },
    {
     "name": "stdout",
     "output_type": "stream",
     "text": [
      "theta_E: 0.488 arcsec\n"
     ]
    },
    {
     "name": "stdout",
     "output_type": "stream",
     "text": [
      "jam_axi_proj(align='sph', moment='zz') -- elapsed time sec: 0.90\n",
      "analytic_los=0 logistic=0 constant_anisotropy=1\n",
      "No PSF/pixel convolution because sigmapsf=0 pixsize=0\n",
      "inc=56.5; beta[0]=0.0; kappa=1.00; M/L=1.00; BH=0.0; chi2/DOF=nan\n",
      "Total mass MGE (MSun): 1.180e+13\n",
      "\n",
      "sigma_e: 154.71 km/s\n",
      "theta_E: 0.528 arcsec\n"
     ]
    },
    {
     "name": "stdout",
     "output_type": "stream",
     "text": [
      "jam_axi_proj(align='sph', moment='zz') -- elapsed time sec: 0.91\n",
      "analytic_los=0 logistic=0 constant_anisotropy=1\n",
      "No PSF/pixel convolution because sigmapsf=0 pixsize=0\n",
      "inc=33.1; beta[0]=0.0; kappa=1.00; M/L=1.00; BH=0.0; chi2/DOF=nan\n",
      "Total mass MGE (MSun): 1.180e+13\n",
      "\n",
      "sigma_e: 161.27 km/s\n",
      "theta_E: 0.539 arcsec\n"
     ]
    },
    {
     "name": "stdout",
     "output_type": "stream",
     "text": [
      "jam_axi_proj(align='sph', moment='zz') -- elapsed time sec: 0.84\n",
      "analytic_los=0 logistic=0 constant_anisotropy=1\n",
      "No PSF/pixel convolution because sigmapsf=0 pixsize=0\n",
      "inc=25.2; beta[0]=0.0; kappa=1.00; M/L=1.00; BH=0.0; chi2/DOF=nan\n",
      "Total mass MGE (MSun): 1.180e+13\n",
      "\n",
      "sigma_e: 162.48 km/s\n",
      "theta_E: 0.520 arcsec\n"
     ]
    },
    {
     "name": "stdout",
     "output_type": "stream",
     "text": [
      "jam_axi_proj(align='sph', moment='zz') -- elapsed time sec: 0.90\n",
      "analytic_los=0 logistic=0 constant_anisotropy=1\n",
      "No PSF/pixel convolution because sigmapsf=0 pixsize=0\n",
      "inc=38.3; beta[0]=0.0; kappa=1.00; M/L=1.00; BH=0.0; chi2/DOF=nan\n",
      "Total mass MGE (MSun): 1.180e+13\n",
      "\n",
      "sigma_e: 160.21 km/s\n",
      "theta_E: 0.530 arcsec\n"
     ]
    },
    {
     "name": "stdout",
     "output_type": "stream",
     "text": [
      "jam_axi_proj(align='sph', moment='zz') -- elapsed time sec: 0.85\n",
      "analytic_los=0 logistic=0 constant_anisotropy=1\n",
      "No PSF/pixel convolution because sigmapsf=0 pixsize=0\n",
      "inc=31.9; beta[0]=0.0; kappa=1.00; M/L=1.00; BH=0.0; chi2/DOF=nan\n",
      "Total mass MGE (MSun): 1.180e+13\n",
      "\n",
      "sigma_e: 161.48 km/s\n",
      "theta_E: 0.449 arcsec\n"
     ]
    },
    {
     "name": "stdout",
     "output_type": "stream",
     "text": [
      "jam_axi_proj(align='sph', moment='zz') -- elapsed time sec: 0.97\n",
      "analytic_los=0 logistic=0 constant_anisotropy=1\n",
      "No PSF/pixel convolution because sigmapsf=0 pixsize=0\n",
      "inc=89.3; beta[0]=0.0; kappa=1.00; M/L=1.00; BH=0.0; chi2/DOF=nan\n",
      "Total mass MGE (MSun): 1.180e+13\n",
      "\n",
      "sigma_e: 144.69 km/s\n",
      "theta_E: 0.540 arcsec\n"
     ]
    },
    {
     "name": "stdout",
     "output_type": "stream",
     "text": [
      "jam_axi_proj(align='sph', moment='zz') -- elapsed time sec: 0.84\n",
      "analytic_los=0 logistic=0 constant_anisotropy=1\n",
      "No PSF/pixel convolution because sigmapsf=0 pixsize=0\n",
      "inc=23.5; beta[0]=0.0; kappa=1.00; M/L=1.00; BH=0.0; chi2/DOF=nan\n",
      "Total mass MGE (MSun): 1.180e+13\n",
      "\n",
      "sigma_e: 162.71 km/s\n",
      "theta_E: 0.512 arcsec\n"
     ]
    },
    {
     "name": "stdout",
     "output_type": "stream",
     "text": [
      "jam_axi_proj(align='sph', moment='zz') -- elapsed time sec: 0.90\n",
      "analytic_los=0 logistic=0 constant_anisotropy=1\n",
      "No PSF/pixel convolution because sigmapsf=0 pixsize=0\n",
      "inc=43.5; beta[0]=0.0; kappa=1.00; M/L=1.00; BH=0.0; chi2/DOF=nan\n",
      "Total mass MGE (MSun): 1.180e+13\n",
      "\n",
      "sigma_e: 158.93 km/s\n",
      "theta_E: 0.484 arcsec\n"
     ]
    },
    {
     "name": "stdout",
     "output_type": "stream",
     "text": [
      "jam_axi_proj(align='sph', moment='zz') -- elapsed time sec: 0.91\n",
      "analytic_los=0 logistic=0 constant_anisotropy=1\n",
      "No PSF/pixel convolution because sigmapsf=0 pixsize=0\n",
      "inc=58.5; beta[0]=0.0; kappa=1.00; M/L=1.00; BH=0.0; chi2/DOF=nan\n",
      "Total mass MGE (MSun): 1.180e+13\n",
      "\n",
      "sigma_e: 153.98 km/s\n",
      "theta_E: 0.449 arcsec\n"
     ]
    },
    {
     "name": "stdout",
     "output_type": "stream",
     "text": [
      "jam_axi_proj(align='sph', moment='zz') -- elapsed time sec: 1.01\n",
      "analytic_los=0 logistic=0 constant_anisotropy=1\n",
      "No PSF/pixel convolution because sigmapsf=0 pixsize=0\n",
      "inc=86.0; beta[0]=0.0; kappa=1.00; M/L=1.00; BH=0.0; chi2/DOF=nan\n",
      "Total mass MGE (MSun): 1.180e+13\n",
      "\n",
      "sigma_e: 144.92 km/s\n"
     ]
    },
    {
     "name": "stdout",
     "output_type": "stream",
     "text": [
      "theta_E: 0.672 arcsec\n"
     ]
    },
    {
     "name": "stdout",
     "output_type": "stream",
     "text": [
      "jam_axi_proj(align='sph', moment='zz') -- elapsed time sec: 0.91\n",
      "analytic_los=0 logistic=0 constant_anisotropy=1\n",
      "No PSF/pixel convolution because sigmapsf=0 pixsize=0\n",
      "inc=57.6; beta[0]=0.0; kappa=1.00; M/L=1.00; BH=0.0; chi2/DOF=nan\n",
      "Total mass MGE (MSun): 2.248e+13\n",
      "\n",
      "sigma_e: 181.12 km/s\n",
      "theta_E: 0.686 arcsec\n"
     ]
    },
    {
     "name": "stdout",
     "output_type": "stream",
     "text": [
      "jam_axi_proj(align='sph', moment='zz') -- elapsed time sec: 0.92\n",
      "analytic_los=0 logistic=0 constant_anisotropy=1\n",
      "No PSF/pixel convolution because sigmapsf=0 pixsize=0\n",
      "inc=51.5; beta[0]=0.0; kappa=1.00; M/L=1.00; BH=0.0; chi2/DOF=nan\n",
      "Total mass MGE (MSun): 2.248e+13\n",
      "\n",
      "sigma_e: 183.51 km/s\n",
      "theta_E: 0.703 arcsec\n"
     ]
    },
    {
     "name": "stdout",
     "output_type": "stream",
     "text": [
      "jam_axi_proj(align='sph', moment='zz') -- elapsed time sec: 0.88\n",
      "analytic_los=0 logistic=0 constant_anisotropy=1\n",
      "No PSF/pixel convolution because sigmapsf=0 pixsize=0\n",
      "inc=44.4; beta[0]=0.0; kappa=1.00; M/L=1.00; BH=0.0; chi2/DOF=nan\n",
      "Total mass MGE (MSun): 2.248e+13\n",
      "\n",
      "sigma_e: 185.88 km/s\n",
      "theta_E: 0.630 arcsec\n"
     ]
    },
    {
     "name": "stdout",
     "output_type": "stream",
     "text": [
      "jam_axi_proj(align='sph', moment='zz') -- elapsed time sec: 0.94\n",
      "analytic_los=0 logistic=0 constant_anisotropy=1\n",
      "No PSF/pixel convolution because sigmapsf=0 pixsize=0\n",
      "inc=80.6; beta[0]=0.0; kappa=1.00; M/L=1.00; BH=0.0; chi2/DOF=nan\n",
      "Total mass MGE (MSun): 2.248e+13\n",
      "\n",
      "sigma_e: 172.22 km/s\n",
      "theta_E: 0.694 arcsec\n"
     ]
    },
    {
     "name": "stdout",
     "output_type": "stream",
     "text": [
      "jam_axi_proj(align='sph', moment='zz') -- elapsed time sec: 0.89\n",
      "analytic_los=0 logistic=0 constant_anisotropy=1\n",
      "No PSF/pixel convolution because sigmapsf=0 pixsize=0\n",
      "inc=48.4; beta[0]=0.0; kappa=1.00; M/L=1.00; BH=0.0; chi2/DOF=nan\n",
      "Total mass MGE (MSun): 2.248e+13\n",
      "\n",
      "sigma_e: 184.59 km/s\n",
      "theta_E: 0.705 arcsec\n"
     ]
    },
    {
     "name": "stdout",
     "output_type": "stream",
     "text": [
      "jam_axi_proj(align='sph', moment='zz') -- elapsed time sec: 0.89\n",
      "analytic_los=0 logistic=0 constant_anisotropy=1\n",
      "No PSF/pixel convolution because sigmapsf=0 pixsize=0\n",
      "inc=43.3; beta[0]=0.0; kappa=1.00; M/L=1.00; BH=0.0; chi2/DOF=nan\n",
      "Total mass MGE (MSun): 2.248e+13\n",
      "\n",
      "sigma_e: 186.20 km/s\n",
      "theta_E: 0.642 arcsec\n"
     ]
    },
    {
     "name": "stdout",
     "output_type": "stream",
     "text": [
      "jam_axi_proj(align='sph', moment='zz') -- elapsed time sec: 0.91\n",
      "analytic_los=0 logistic=0 constant_anisotropy=1\n",
      "No PSF/pixel convolution because sigmapsf=0 pixsize=0\n",
      "inc=71.6; beta[0]=0.0; kappa=1.00; M/L=1.00; BH=0.0; chi2/DOF=nan\n",
      "Total mass MGE (MSun): 2.248e+13\n",
      "\n",
      "sigma_e: 175.18 km/s\n",
      "theta_E: 0.676 arcsec\n"
     ]
    },
    {
     "name": "stdout",
     "output_type": "stream",
     "text": [
      "jam_axi_proj(align='sph', moment='zz') -- elapsed time sec: 0.90\n",
      "analytic_los=0 logistic=0 constant_anisotropy=1\n",
      "No PSF/pixel convolution because sigmapsf=0 pixsize=0\n",
      "inc=55.8; beta[0]=0.0; kappa=1.00; M/L=1.00; BH=0.0; chi2/DOF=nan\n",
      "Total mass MGE (MSun): 2.248e+13\n",
      "\n",
      "sigma_e: 181.83 km/s\n",
      "theta_E: 0.625 arcsec\n"
     ]
    },
    {
     "name": "stdout",
     "output_type": "stream",
     "text": [
      "jam_axi_proj(align='sph', moment='zz') -- elapsed time sec: 0.92\n",
      "analytic_los=0 logistic=0 constant_anisotropy=1\n",
      "No PSF/pixel convolution because sigmapsf=0 pixsize=0\n",
      "inc=87.9; beta[0]=0.0; kappa=1.00; M/L=1.00; BH=0.0; chi2/DOF=nan\n",
      "Total mass MGE (MSun): 2.248e+13\n",
      "\n",
      "sigma_e: 171.03 km/s\n",
      "theta_E: 0.726 arcsec\n"
     ]
    },
    {
     "name": "stdout",
     "output_type": "stream",
     "text": [
      "jam_axi_proj(align='sph', moment='zz') -- elapsed time sec: 0.85\n",
      "analytic_los=0 logistic=0 constant_anisotropy=1\n",
      "No PSF/pixel convolution because sigmapsf=0 pixsize=0\n",
      "inc=33.4; beta[0]=0.0; kappa=1.00; M/L=1.00; BH=0.0; chi2/DOF=nan\n",
      "Total mass MGE (MSun): 2.248e+13\n",
      "\n",
      "sigma_e: 188.67 km/s\n"
     ]
    },
    {
     "name": "stdout",
     "output_type": "stream",
     "text": [
      "theta_E: 0.705 arcsec\n"
     ]
    },
    {
     "name": "stdout",
     "output_type": "stream",
     "text": [
      "jam_axi_proj(align='sph', moment='zz') -- elapsed time sec: 0.92\n",
      "analytic_los=0 logistic=0 constant_anisotropy=1\n",
      "No PSF/pixel convolution because sigmapsf=0 pixsize=0\n",
      "inc=41.5; beta[0]=0.0; kappa=1.00; M/L=1.00; BH=0.0; chi2/DOF=nan\n",
      "Total mass MGE (MSun): 2.140e+13\n",
      "\n",
      "sigma_e: 186.59 km/s\n",
      "theta_E: 0.614 arcsec\n"
     ]
    },
    {
     "name": "stdout",
     "output_type": "stream",
     "text": [
      "jam_axi_proj(align='sph', moment='zz') -- elapsed time sec: 0.96\n",
      "analytic_los=0 logistic=0 constant_anisotropy=1\n",
      "No PSF/pixel convolution because sigmapsf=0 pixsize=0\n",
      "inc=75.7; beta[0]=0.0; kappa=1.00; M/L=1.00; BH=0.0; chi2/DOF=nan\n",
      "Total mass MGE (MSun): 2.140e+13\n",
      "\n",
      "sigma_e: 169.43 km/s\n",
      "theta_E: 0.671 arcsec\n"
     ]
    },
    {
     "name": "stdout",
     "output_type": "stream",
     "text": [
      "jam_axi_proj(align='sph', moment='zz') -- elapsed time sec: 0.92\n",
      "analytic_los=0 logistic=0 constant_anisotropy=1\n",
      "No PSF/pixel convolution because sigmapsf=0 pixsize=0\n",
      "inc=53.8; beta[0]=0.0; kappa=1.00; M/L=1.00; BH=0.0; chi2/DOF=nan\n",
      "Total mass MGE (MSun): 2.140e+13\n",
      "\n",
      "sigma_e: 181.54 km/s\n",
      "theta_E: 0.622 arcsec\n"
     ]
    },
    {
     "name": "stdout",
     "output_type": "stream",
     "text": [
      "jam_axi_proj(align='sph', moment='zz') -- elapsed time sec: 0.96\n",
      "analytic_los=0 logistic=0 constant_anisotropy=1\n",
      "No PSF/pixel convolution because sigmapsf=0 pixsize=0\n",
      "inc=72.1; beta[0]=0.0; kappa=1.00; M/L=1.00; BH=0.0; chi2/DOF=nan\n",
      "Total mass MGE (MSun): 2.140e+13\n",
      "\n",
      "sigma_e: 171.29 km/s\n",
      "theta_E: 0.704 arcsec\n"
     ]
    },
    {
     "name": "stdout",
     "output_type": "stream",
     "text": [
      "jam_axi_proj(align='sph', moment='zz') -- elapsed time sec: 0.92\n",
      "analytic_los=0 logistic=0 constant_anisotropy=1\n",
      "No PSF/pixel convolution because sigmapsf=0 pixsize=0\n",
      "inc=42.2; beta[0]=0.0; kappa=1.00; M/L=1.00; BH=0.0; chi2/DOF=nan\n",
      "Total mass MGE (MSun): 2.140e+13\n",
      "\n",
      "sigma_e: 186.36 km/s\n",
      "theta_E: 0.613 arcsec\n"
     ]
    },
    {
     "name": "stdout",
     "output_type": "stream",
     "text": [
      "jam_axi_proj(align='sph', moment='zz') -- elapsed time sec: 1.01\n",
      "analytic_los=0 logistic=0 constant_anisotropy=1\n",
      "No PSF/pixel convolution because sigmapsf=0 pixsize=0\n",
      "inc=76.5; beta[0]=0.0; kappa=1.00; M/L=1.00; BH=0.0; chi2/DOF=nan\n",
      "Total mass MGE (MSun): 2.140e+13\n",
      "\n",
      "sigma_e: 169.03 km/s\n",
      "theta_E: 0.601 arcsec\n"
     ]
    },
    {
     "name": "stdout",
     "output_type": "stream",
     "text": [
      "jam_axi_proj(align='sph', moment='zz') -- elapsed time sec: 0.96\n",
      "analytic_los=0 logistic=0 constant_anisotropy=1\n",
      "No PSF/pixel convolution because sigmapsf=0 pixsize=0\n",
      "inc=87.2; beta[0]=0.0; kappa=1.00; M/L=1.00; BH=0.0; chi2/DOF=nan\n",
      "Total mass MGE (MSun): 2.140e+13\n",
      "\n",
      "sigma_e: 165.60 km/s\n",
      "theta_E: 0.688 arcsec\n"
     ]
    },
    {
     "name": "stdout",
     "output_type": "stream",
     "text": [
      "jam_axi_proj(align='sph', moment='zz') -- elapsed time sec: 0.94\n",
      "analytic_los=0 logistic=0 constant_anisotropy=1\n",
      "No PSF/pixel convolution because sigmapsf=0 pixsize=0\n",
      "inc=48.1; beta[0]=0.0; kappa=1.00; M/L=1.00; BH=0.0; chi2/DOF=nan\n",
      "Total mass MGE (MSun): 2.140e+13\n",
      "\n",
      "sigma_e: 184.12 km/s\n",
      "theta_E: 0.673 arcsec\n"
     ]
    },
    {
     "name": "stdout",
     "output_type": "stream",
     "text": [
      "jam_axi_proj(align='sph', moment='zz') -- elapsed time sec: 0.95\n",
      "analytic_los=0 logistic=0 constant_anisotropy=1\n",
      "No PSF/pixel convolution because sigmapsf=0 pixsize=0\n",
      "inc=53.2; beta[0]=0.0; kappa=1.00; M/L=1.00; BH=0.0; chi2/DOF=nan\n",
      "Total mass MGE (MSun): 2.140e+13\n",
      "\n",
      "sigma_e: 181.83 km/s\n",
      "theta_E: 0.762 arcsec\n"
     ]
    },
    {
     "name": "stdout",
     "output_type": "stream",
     "text": [
      "jam_axi_proj(align='sph', moment='zz') -- elapsed time sec: 0.88\n",
      "analytic_los=0 logistic=0 constant_anisotropy=1\n",
      "No PSF/pixel convolution because sigmapsf=0 pixsize=0\n",
      "inc=5.69; beta[0]=0.0; kappa=1.00; M/L=1.00; BH=0.0; chi2/DOF=nan\n",
      "Total mass MGE (MSun): 2.140e+13\n",
      "\n",
      "sigma_e: 192.46 km/s\n"
     ]
    },
    {
     "name": "stdout",
     "output_type": "stream",
     "text": [
      "theta_E: 0.706 arcsec\n"
     ]
    },
    {
     "name": "stdout",
     "output_type": "stream",
     "text": [
      "jam_axi_proj(align='sph', moment='zz') -- elapsed time sec: 0.92\n",
      "analytic_los=0 logistic=0 constant_anisotropy=1\n",
      "No PSF/pixel convolution because sigmapsf=0 pixsize=0\n",
      "inc=84.6; beta[0]=0.0; kappa=1.00; M/L=1.00; BH=0.0; chi2/DOF=nan\n",
      "Total mass MGE (MSun): 2.819e+13\n",
      "\n",
      "sigma_e: 181.95 km/s\n",
      "theta_E: 0.707 arcsec\n"
     ]
    },
    {
     "name": "stdout",
     "output_type": "stream",
     "text": [
      "jam_axi_proj(align='sph', moment='zz') -- elapsed time sec: 0.91\n",
      "analytic_los=0 logistic=0 constant_anisotropy=1\n",
      "No PSF/pixel convolution because sigmapsf=0 pixsize=0\n",
      "inc=83.5; beta[0]=0.0; kappa=1.00; M/L=1.00; BH=0.0; chi2/DOF=nan\n",
      "Total mass MGE (MSun): 2.819e+13\n",
      "\n",
      "sigma_e: 182.13 km/s\n",
      "theta_E: 0.796 arcsec\n"
     ]
    },
    {
     "name": "stdout",
     "output_type": "stream",
     "text": [
      "jam_axi_proj(align='sph', moment='zz') -- elapsed time sec: 0.84\n",
      "analytic_los=0 logistic=0 constant_anisotropy=1\n",
      "No PSF/pixel convolution because sigmapsf=0 pixsize=0\n",
      "inc=38.6; beta[0]=0.0; kappa=1.00; M/L=1.00; BH=0.0; chi2/DOF=nan\n",
      "Total mass MGE (MSun): 2.819e+13\n",
      "\n",
      "sigma_e: 197.05 km/s\n",
      "theta_E: 0.710 arcsec\n"
     ]
    },
    {
     "name": "stdout",
     "output_type": "stream",
     "text": [
      "jam_axi_proj(align='sph', moment='zz') -- elapsed time sec: 0.93\n",
      "analytic_los=0 logistic=0 constant_anisotropy=1\n",
      "No PSF/pixel convolution because sigmapsf=0 pixsize=0\n",
      "inc=79.5; beta[0]=0.0; kappa=1.00; M/L=1.00; BH=0.0; chi2/DOF=nan\n",
      "Total mass MGE (MSun): 2.819e+13\n",
      "\n",
      "sigma_e: 182.96 km/s\n",
      "theta_E: 0.705 arcsec\n"
     ]
    },
    {
     "name": "stdout",
     "output_type": "stream",
     "text": [
      "jam_axi_proj(align='sph', moment='zz') -- elapsed time sec: 0.93\n",
      "analytic_los=0 logistic=0 constant_anisotropy=1\n",
      "No PSF/pixel convolution because sigmapsf=0 pixsize=0\n",
      "inc=88.4; beta[0]=0.0; kappa=1.00; M/L=1.00; BH=0.0; chi2/DOF=nan\n",
      "Total mass MGE (MSun): 2.819e+13\n",
      "\n",
      "sigma_e: 181.61 km/s\n",
      "theta_E: 0.760 arcsec\n"
     ]
    },
    {
     "name": "stdout",
     "output_type": "stream",
     "text": [
      "jam_axi_proj(align='sph', moment='zz') -- elapsed time sec: 0.90\n",
      "analytic_los=0 logistic=0 constant_anisotropy=1\n",
      "No PSF/pixel convolution because sigmapsf=0 pixsize=0\n",
      "inc=53.9; beta[0]=0.0; kappa=1.00; M/L=1.00; BH=0.0; chi2/DOF=nan\n",
      "Total mass MGE (MSun): 2.819e+13\n",
      "\n",
      "sigma_e: 192.34 km/s\n",
      "theta_E: 0.712 arcsec\n"
     ]
    },
    {
     "name": "stdout",
     "output_type": "stream",
     "text": [
      "jam_axi_proj(align='sph', moment='zz') -- elapsed time sec: 0.91\n",
      "analytic_los=0 logistic=0 constant_anisotropy=1\n",
      "No PSF/pixel convolution because sigmapsf=0 pixsize=0\n",
      "inc=78.5; beta[0]=0.0; kappa=1.00; M/L=1.00; BH=0.0; chi2/DOF=nan\n",
      "Total mass MGE (MSun): 2.819e+13\n",
      "\n",
      "sigma_e: 183.20 km/s\n",
      "theta_E: 0.791 arcsec\n"
     ]
    },
    {
     "name": "stdout",
     "output_type": "stream",
     "text": [
      "jam_axi_proj(align='sph', moment='zz') -- elapsed time sec: 0.88\n",
      "analytic_los=0 logistic=0 constant_anisotropy=1\n",
      "No PSF/pixel convolution because sigmapsf=0 pixsize=0\n",
      "inc=40.6; beta[0]=0.0; kappa=1.00; M/L=1.00; BH=0.0; chi2/DOF=nan\n",
      "Total mass MGE (MSun): 2.819e+13\n",
      "\n",
      "sigma_e: 196.57 km/s\n",
      "theta_E: 0.822 arcsec\n"
     ]
    },
    {
     "name": "stdout",
     "output_type": "stream",
     "text": [
      "jam_axi_proj(align='sph', moment='zz') -- elapsed time sec: 0.84\n",
      "analytic_los=0 logistic=0 constant_anisotropy=1\n",
      "No PSF/pixel convolution because sigmapsf=0 pixsize=0\n",
      "inc=23.9; beta[0]=0.0; kappa=1.00; M/L=1.00; BH=0.0; chi2/DOF=nan\n",
      "Total mass MGE (MSun): 2.819e+13\n",
      "\n",
      "sigma_e: 199.85 km/s\n",
      "theta_E: 0.805 arcsec\n"
     ]
    },
    {
     "name": "stdout",
     "output_type": "stream",
     "text": [
      "jam_axi_proj(align='sph', moment='zz') -- elapsed time sec: 0.87\n",
      "analytic_los=0 logistic=0 constant_anisotropy=1\n",
      "No PSF/pixel convolution because sigmapsf=0 pixsize=0\n",
      "inc=34.2; beta[0]=0.0; kappa=1.00; M/L=1.00; BH=0.0; chi2/DOF=nan\n",
      "Total mass MGE (MSun): 2.819e+13\n",
      "\n",
      "sigma_e: 198.06 km/s\n"
     ]
    },
    {
     "name": "stdout",
     "output_type": "stream",
     "text": [
      "theta_E: 0.810 arcsec\n"
     ]
    },
    {
     "name": "stdout",
     "output_type": "stream",
     "text": [
      "jam_axi_proj(align='sph', moment='zz') -- elapsed time sec: 1.00\n",
      "analytic_los=0 logistic=0 constant_anisotropy=1\n",
      "No PSF/pixel convolution because sigmapsf=0 pixsize=0\n",
      "inc=77.0; beta[0]=0.0; kappa=1.00; M/L=1.00; BH=0.0; chi2/DOF=nan\n",
      "Total mass MGE (MSun): 3.795e+13\n",
      "\n",
      "sigma_e: 192.26 km/s\n",
      "theta_E: 1.040 arcsec\n"
     ]
    },
    {
     "name": "stdout",
     "output_type": "stream",
     "text": [
      "jam_axi_proj(align='sph', moment='zz') -- elapsed time sec: 0.92\n",
      "analytic_los=0 logistic=0 constant_anisotropy=1\n",
      "No PSF/pixel convolution because sigmapsf=0 pixsize=0\n",
      "inc=12.4; beta[0]=0.0; kappa=1.00; M/L=1.00; BH=0.0; chi2/DOF=nan\n",
      "Total mass MGE (MSun): 3.795e+13\n",
      "\n",
      "sigma_e: 224.90 km/s\n",
      "theta_E: 1.035 arcsec\n"
     ]
    },
    {
     "name": "stdout",
     "output_type": "stream",
     "text": [
      "jam_axi_proj(align='sph', moment='zz') -- elapsed time sec: 0.90\n",
      "analytic_los=0 logistic=0 constant_anisotropy=1\n",
      "No PSF/pixel convolution because sigmapsf=0 pixsize=0\n",
      "inc=15.5; beta[0]=0.0; kappa=1.00; M/L=1.00; BH=0.0; chi2/DOF=nan\n",
      "Total mass MGE (MSun): 3.795e+13\n",
      "\n",
      "sigma_e: 224.57 km/s\n",
      "theta_E: 0.868 arcsec\n"
     ]
    },
    {
     "name": "stdout",
     "output_type": "stream",
     "text": [
      "jam_axi_proj(align='sph', moment='zz') -- elapsed time sec: 0.97\n",
      "analytic_los=0 logistic=0 constant_anisotropy=1\n",
      "No PSF/pixel convolution because sigmapsf=0 pixsize=0\n",
      "inc=62.1; beta[0]=0.0; kappa=1.00; M/L=1.00; BH=0.0; chi2/DOF=nan\n",
      "Total mass MGE (MSun): 3.795e+13\n",
      "\n",
      "sigma_e: 204.78 km/s\n",
      "theta_E: 0.869 arcsec\n"
     ]
    },
    {
     "name": "stdout",
     "output_type": "stream",
     "text": [
      "jam_axi_proj(align='sph', moment='zz') -- elapsed time sec: 0.95\n",
      "analytic_los=0 logistic=0 constant_anisotropy=1\n",
      "No PSF/pixel convolution because sigmapsf=0 pixsize=0\n",
      "inc=61.9; beta[0]=0.0; kappa=1.00; M/L=1.00; BH=0.0; chi2/DOF=nan\n",
      "Total mass MGE (MSun): 3.795e+13\n",
      "\n",
      "sigma_e: 204.95 km/s\n",
      "theta_E: 0.791 arcsec\n"
     ]
    },
    {
     "name": "stdout",
     "output_type": "stream",
     "text": [
      "jam_axi_proj(align='sph', moment='zz') -- elapsed time sec: 1.00\n",
      "analytic_los=0 logistic=0 constant_anisotropy=1\n",
      "No PSF/pixel convolution because sigmapsf=0 pixsize=0\n",
      "inc=87.5; beta[0]=0.0; kappa=1.00; M/L=1.00; BH=0.0; chi2/DOF=nan\n",
      "Total mass MGE (MSun): 3.795e+13\n",
      "\n",
      "sigma_e: 187.02 km/s\n",
      "theta_E: 0.801 arcsec\n"
     ]
    },
    {
     "name": "stdout",
     "output_type": "stream",
     "text": [
      "jam_axi_proj(align='sph', moment='zz') -- elapsed time sec: 1.01\n",
      "analytic_los=0 logistic=0 constant_anisotropy=1\n",
      "No PSF/pixel convolution because sigmapsf=0 pixsize=0\n",
      "inc=80.3; beta[0]=0.0; kappa=1.00; M/L=1.00; BH=0.0; chi2/DOF=nan\n",
      "Total mass MGE (MSun): 3.795e+13\n",
      "\n",
      "sigma_e: 189.99 km/s\n",
      "theta_E: 0.814 arcsec\n"
     ]
    },
    {
     "name": "stdout",
     "output_type": "stream",
     "text": [
      "jam_axi_proj(align='sph', moment='zz') -- elapsed time sec: 1.00\n",
      "analytic_los=0 logistic=0 constant_anisotropy=1\n",
      "No PSF/pixel convolution because sigmapsf=0 pixsize=0\n",
      "inc=75.7; beta[0]=0.0; kappa=1.00; M/L=1.00; BH=0.0; chi2/DOF=nan\n",
      "Total mass MGE (MSun): 3.795e+13\n",
      "\n",
      "sigma_e: 193.23 km/s\n",
      "theta_E: 0.971 arcsec\n"
     ]
    },
    {
     "name": "stdout",
     "output_type": "stream",
     "text": [
      "jam_axi_proj(align='sph', moment='zz') -- elapsed time sec: 0.94\n",
      "analytic_los=0 logistic=0 constant_anisotropy=1\n",
      "No PSF/pixel convolution because sigmapsf=0 pixsize=0\n",
      "inc=38.5; beta[0]=0.0; kappa=1.00; M/L=1.00; BH=0.0; chi2/DOF=nan\n",
      "Total mass MGE (MSun): 3.795e+13\n",
      "\n",
      "sigma_e: 219.07 km/s\n",
      "theta_E: 0.791 arcsec\n"
     ]
    },
    {
     "name": "stdout",
     "output_type": "stream",
     "text": [
      "jam_axi_proj(align='sph', moment='zz') -- elapsed time sec: 1.00\n",
      "analytic_los=0 logistic=0 constant_anisotropy=1\n",
      "No PSF/pixel convolution because sigmapsf=0 pixsize=0\n",
      "inc=87.3; beta[0]=0.0; kappa=1.00; M/L=1.00; BH=0.0; chi2/DOF=nan\n",
      "Total mass MGE (MSun): 3.795e+13\n",
      "\n",
      "sigma_e: 187.05 km/s\n"
     ]
    },
    {
     "name": "stdout",
     "output_type": "stream",
     "text": [
      "theta_E: 0.419 arcsec\n"
     ]
    },
    {
     "name": "stdout",
     "output_type": "stream",
     "text": [
      "jam_axi_proj(align='sph', moment='zz') -- elapsed time sec: 1.05\n",
      "analytic_los=0 logistic=0 constant_anisotropy=1\n",
      "No PSF/pixel convolution because sigmapsf=0 pixsize=0\n",
      "inc=82.9; beta[0]=0.0; kappa=1.00; M/L=1.00; BH=0.0; chi2/DOF=nan\n",
      "Total mass MGE (MSun): 1.067e+13\n",
      "\n",
      "sigma_e: 137.48 km/s\n",
      "theta_E: 0.448 arcsec\n"
     ]
    },
    {
     "name": "stdout",
     "output_type": "stream",
     "text": [
      "jam_axi_proj(align='sph', moment='zz') -- elapsed time sec: 1.02\n",
      "analytic_los=0 logistic=0 constant_anisotropy=1\n",
      "No PSF/pixel convolution because sigmapsf=0 pixsize=0\n",
      "inc=66.1; beta[0]=0.0; kappa=1.00; M/L=1.00; BH=0.0; chi2/DOF=nan\n",
      "Total mass MGE (MSun): 1.067e+13\n",
      "\n",
      "sigma_e: 146.89 km/s\n",
      "theta_E: 0.523 arcsec\n"
     ]
    },
    {
     "name": "stdout",
     "output_type": "stream",
     "text": [
      "jam_axi_proj(align='sph', moment='zz') -- elapsed time sec: 0.89\n",
      "analytic_los=0 logistic=0 constant_anisotropy=1\n",
      "No PSF/pixel convolution because sigmapsf=0 pixsize=0\n",
      "inc=33.3; beta[0]=0.0; kappa=1.00; M/L=1.00; BH=0.0; chi2/DOF=nan\n",
      "Total mass MGE (MSun): 1.067e+13\n",
      "\n",
      "sigma_e: 161.20 km/s\n",
      "theta_E: 0.488 arcsec\n"
     ]
    },
    {
     "name": "stdout",
     "output_type": "stream",
     "text": [
      "jam_axi_proj(align='sph', moment='zz') -- elapsed time sec: 0.95\n",
      "analytic_los=0 logistic=0 constant_anisotropy=1\n",
      "No PSF/pixel convolution because sigmapsf=0 pixsize=0\n",
      "inc=49.9; beta[0]=0.0; kappa=1.00; M/L=1.00; BH=0.0; chi2/DOF=nan\n",
      "Total mass MGE (MSun): 1.067e+13\n",
      "\n",
      "sigma_e: 155.81 km/s\n",
      "theta_E: 0.548 arcsec\n"
     ]
    },
    {
     "name": "stdout",
     "output_type": "stream",
     "text": [
      "jam_axi_proj(align='sph', moment='zz') -- elapsed time sec: 0.88\n",
      "analytic_los=0 logistic=0 constant_anisotropy=1\n",
      "No PSF/pixel convolution because sigmapsf=0 pixsize=0\n",
      "inc=14.5; beta[0]=0.0; kappa=1.00; M/L=1.00; BH=0.0; chi2/DOF=nan\n",
      "Total mass MGE (MSun): 1.067e+13\n",
      "\n",
      "sigma_e: 163.99 km/s\n",
      "theta_E: 0.438 arcsec\n"
     ]
    },
    {
     "name": "stdout",
     "output_type": "stream",
     "text": [
      "jam_axi_proj(align='sph', moment='zz') -- elapsed time sec: 1.04\n",
      "analytic_los=0 logistic=0 constant_anisotropy=1\n",
      "No PSF/pixel convolution because sigmapsf=0 pixsize=0\n",
      "inc=70.7; beta[0]=0.0; kappa=1.00; M/L=1.00; BH=0.0; chi2/DOF=nan\n",
      "Total mass MGE (MSun): 1.067e+13\n",
      "\n",
      "sigma_e: 143.95 km/s\n",
      "theta_E: 0.529 arcsec\n"
     ]
    },
    {
     "name": "stdout",
     "output_type": "stream",
     "text": [
      "jam_axi_proj(align='sph', moment='zz') -- elapsed time sec: 0.90\n",
      "analytic_los=0 logistic=0 constant_anisotropy=1\n",
      "No PSF/pixel convolution because sigmapsf=0 pixsize=0\n",
      "inc=30.1; beta[0]=0.0; kappa=1.00; M/L=1.00; BH=0.0; chi2/DOF=nan\n",
      "Total mass MGE (MSun): 1.067e+13\n",
      "\n",
      "sigma_e: 161.89 km/s\n",
      "theta_E: 0.526 arcsec\n"
     ]
    },
    {
     "name": "stdout",
     "output_type": "stream",
     "text": [
      "jam_axi_proj(align='sph', moment='zz') -- elapsed time sec: 0.91\n",
      "analytic_los=0 logistic=0 constant_anisotropy=1\n",
      "No PSF/pixel convolution because sigmapsf=0 pixsize=0\n",
      "inc=31.7; beta[0]=0.0; kappa=1.00; M/L=1.00; BH=0.0; chi2/DOF=nan\n",
      "Total mass MGE (MSun): 1.067e+13\n",
      "\n",
      "sigma_e: 161.56 km/s\n",
      "theta_E: 0.483 arcsec\n"
     ]
    },
    {
     "name": "stdout",
     "output_type": "stream",
     "text": [
      "jam_axi_proj(align='sph', moment='zz') -- elapsed time sec: 0.96\n",
      "analytic_los=0 logistic=0 constant_anisotropy=1\n",
      "No PSF/pixel convolution because sigmapsf=0 pixsize=0\n",
      "inc=52.0; beta[0]=0.0; kappa=1.00; M/L=1.00; BH=0.0; chi2/DOF=nan\n",
      "Total mass MGE (MSun): 1.067e+13\n",
      "\n",
      "sigma_e: 154.86 km/s\n",
      "theta_E: 0.418 arcsec\n"
     ]
    },
    {
     "name": "stdout",
     "output_type": "stream",
     "text": [
      "jam_axi_proj(align='sph', moment='zz') -- elapsed time sec: 1.04\n",
      "analytic_los=0 logistic=0 constant_anisotropy=1\n",
      "No PSF/pixel convolution because sigmapsf=0 pixsize=0\n",
      "inc=84.0; beta[0]=0.0; kappa=1.00; M/L=1.00; BH=0.0; chi2/DOF=nan\n",
      "Total mass MGE (MSun): 1.067e+13\n",
      "\n",
      "sigma_e: 137.15 km/s\n"
     ]
    },
    {
     "name": "stdout",
     "output_type": "stream",
     "text": [
      "theta_E: 0.454 arcsec\n"
     ]
    },
    {
     "name": "stdout",
     "output_type": "stream",
     "text": [
      "jam_axi_proj(align='sph', moment='zz') -- elapsed time sec: 0.88\n",
      "analytic_los=0 logistic=0 constant_anisotropy=1\n",
      "No PSF/pixel convolution because sigmapsf=0 pixsize=0\n",
      "inc=48.3; beta[0]=0.0; kappa=1.00; M/L=1.00; BH=0.0; chi2/DOF=nan\n",
      "Total mass MGE (MSun): 9.662e+12\n",
      "\n",
      "sigma_e: 149.48 km/s\n",
      "theta_E: 0.486 arcsec\n"
     ]
    },
    {
     "name": "stdout",
     "output_type": "stream",
     "text": [
      "jam_axi_proj(align='sph', moment='zz') -- elapsed time sec: 0.86\n",
      "analytic_los=0 logistic=0 constant_anisotropy=1\n",
      "No PSF/pixel convolution because sigmapsf=0 pixsize=0\n",
      "inc=24.6; beta[0]=0.0; kappa=1.00; M/L=1.00; BH=0.0; chi2/DOF=nan\n",
      "Total mass MGE (MSun): 9.662e+12\n",
      "\n",
      "sigma_e: 154.21 km/s\n",
      "theta_E: 0.489 arcsec\n"
     ]
    },
    {
     "name": "stdout",
     "output_type": "stream",
     "text": [
      "jam_axi_proj(align='sph', moment='zz') -- elapsed time sec: 0.85\n",
      "analytic_los=0 logistic=0 constant_anisotropy=1\n",
      "No PSF/pixel convolution because sigmapsf=0 pixsize=0\n",
      "inc=21.1; beta[0]=0.0; kappa=1.00; M/L=1.00; BH=0.0; chi2/DOF=nan\n",
      "Total mass MGE (MSun): 9.662e+12\n",
      "\n",
      "sigma_e: 154.59 km/s\n",
      "theta_E: 0.455 arcsec\n"
     ]
    },
    {
     "name": "stdout",
     "output_type": "stream",
     "text": [
      "jam_axi_proj(align='sph', moment='zz') -- elapsed time sec: 0.90\n",
      "analytic_los=0 logistic=0 constant_anisotropy=1\n",
      "No PSF/pixel convolution because sigmapsf=0 pixsize=0\n",
      "inc=47.8; beta[0]=0.0; kappa=1.00; M/L=1.00; BH=0.0; chi2/DOF=nan\n",
      "Total mass MGE (MSun): 9.662e+12\n",
      "\n",
      "sigma_e: 149.62 km/s\n",
      "theta_E: 0.440 arcsec\n"
     ]
    },
    {
     "name": "stdout",
     "output_type": "stream",
     "text": [
      "jam_axi_proj(align='sph', moment='zz') -- elapsed time sec: 0.89\n",
      "analytic_los=0 logistic=0 constant_anisotropy=1\n",
      "No PSF/pixel convolution because sigmapsf=0 pixsize=0\n",
      "inc=57.0; beta[0]=0.0; kappa=1.00; M/L=1.00; BH=0.0; chi2/DOF=nan\n",
      "Total mass MGE (MSun): 9.662e+12\n",
      "\n",
      "sigma_e: 146.74 km/s\n",
      "theta_E: 0.431 arcsec\n"
     ]
    },
    {
     "name": "stdout",
     "output_type": "stream",
     "text": [
      "jam_axi_proj(align='sph', moment='zz') -- elapsed time sec: 0.92\n",
      "analytic_los=0 logistic=0 constant_anisotropy=1\n",
      "No PSF/pixel convolution because sigmapsf=0 pixsize=0\n",
      "inc=62.5; beta[0]=0.0; kappa=1.00; M/L=1.00; BH=0.0; chi2/DOF=nan\n",
      "Total mass MGE (MSun): 9.662e+12\n",
      "\n",
      "sigma_e: 144.80 km/s\n",
      "theta_E: 0.453 arcsec\n"
     ]
    },
    {
     "name": "stdout",
     "output_type": "stream",
     "text": [
      "jam_axi_proj(align='sph', moment='zz') -- elapsed time sec: 0.89\n",
      "analytic_los=0 logistic=0 constant_anisotropy=1\n",
      "No PSF/pixel convolution because sigmapsf=0 pixsize=0\n",
      "inc=49.0; beta[0]=0.0; kappa=1.00; M/L=1.00; BH=0.0; chi2/DOF=nan\n",
      "Total mass MGE (MSun): 9.662e+12\n",
      "\n",
      "sigma_e: 149.29 km/s\n",
      "theta_E: 0.449 arcsec\n"
     ]
    },
    {
     "name": "stdout",
     "output_type": "stream",
     "text": [
      "jam_axi_proj(align='sph', moment='zz') -- elapsed time sec: 0.91\n",
      "analytic_los=0 logistic=0 constant_anisotropy=1\n",
      "No PSF/pixel convolution because sigmapsf=0 pixsize=0\n",
      "inc=51.4; beta[0]=0.0; kappa=1.00; M/L=1.00; BH=0.0; chi2/DOF=nan\n",
      "Total mass MGE (MSun): 9.662e+12\n",
      "\n",
      "sigma_e: 148.57 km/s\n",
      "theta_E: 0.450 arcsec\n"
     ]
    },
    {
     "name": "stdout",
     "output_type": "stream",
     "text": [
      "jam_axi_proj(align='sph', moment='zz') -- elapsed time sec: 0.89\n",
      "analytic_los=0 logistic=0 constant_anisotropy=1\n",
      "No PSF/pixel convolution because sigmapsf=0 pixsize=0\n",
      "inc=50.6; beta[0]=0.0; kappa=1.00; M/L=1.00; BH=0.0; chi2/DOF=nan\n",
      "Total mass MGE (MSun): 9.662e+12\n",
      "\n",
      "sigma_e: 148.80 km/s\n",
      "theta_E: 0.412 arcsec\n"
     ]
    },
    {
     "name": "stdout",
     "output_type": "stream",
     "text": [
      "jam_axi_proj(align='sph', moment='zz') -- elapsed time sec: 1.01\n",
      "analytic_los=0 logistic=0 constant_anisotropy=1\n",
      "No PSF/pixel convolution because sigmapsf=0 pixsize=0\n",
      "inc=77.3; beta[0]=0.0; kappa=1.00; M/L=1.00; BH=0.0; chi2/DOF=nan\n",
      "Total mass MGE (MSun): 9.662e+12\n",
      "\n",
      "sigma_e: 139.67 km/s\n"
     ]
    },
    {
     "name": "stdout",
     "output_type": "stream",
     "text": [
      "theta_E: 0.743 arcsec\n"
     ]
    },
    {
     "name": "stdout",
     "output_type": "stream",
     "text": [
      "jam_axi_proj(align='sph', moment='zz') -- elapsed time sec: 0.87\n",
      "analytic_los=0 logistic=0 constant_anisotropy=1\n",
      "No PSF/pixel convolution because sigmapsf=0 pixsize=0\n",
      "inc=22.5; beta[0]=0.0; kappa=1.00; M/L=1.00; BH=0.0; chi2/DOF=nan\n",
      "Total mass MGE (MSun): 2.134e+13\n",
      "\n",
      "sigma_e: 190.72 km/s\n",
      "theta_E: 0.690 arcsec\n"
     ]
    },
    {
     "name": "stdout",
     "output_type": "stream",
     "text": [
      "jam_axi_proj(align='sph', moment='zz') -- elapsed time sec: 0.91\n",
      "analytic_los=0 logistic=0 constant_anisotropy=1\n",
      "No PSF/pixel convolution because sigmapsf=0 pixsize=0\n",
      "inc=46.4; beta[0]=0.0; kappa=1.00; M/L=1.00; BH=0.0; chi2/DOF=nan\n",
      "Total mass MGE (MSun): 2.134e+13\n",
      "\n",
      "sigma_e: 184.65 km/s\n",
      "theta_E: 0.751 arcsec\n"
     ]
    },
    {
     "name": "stdout",
     "output_type": "stream",
     "text": [
      "jam_axi_proj(align='sph', moment='zz') -- elapsed time sec: 0.85\n",
      "analytic_los=0 logistic=0 constant_anisotropy=1\n",
      "No PSF/pixel convolution because sigmapsf=0 pixsize=0\n",
      "inc=16.6; beta[0]=0.0; kappa=1.00; M/L=1.00; BH=0.0; chi2/DOF=nan\n",
      "Total mass MGE (MSun): 2.134e+13\n",
      "\n",
      "sigma_e: 191.45 km/s\n",
      "theta_E: 0.756 arcsec\n"
     ]
    },
    {
     "name": "stdout",
     "output_type": "stream",
     "text": [
      "jam_axi_proj(align='sph', moment='zz') -- elapsed time sec: 0.86\n",
      "analytic_los=0 logistic=0 constant_anisotropy=1\n",
      "No PSF/pixel convolution because sigmapsf=0 pixsize=0\n",
      "inc=10.8; beta[0]=0.0; kappa=1.00; M/L=1.00; BH=0.0; chi2/DOF=nan\n",
      "Total mass MGE (MSun): 2.134e+13\n",
      "\n",
      "sigma_e: 191.94 km/s\n",
      "theta_E: 0.704 arcsec\n"
     ]
    },
    {
     "name": "stdout",
     "output_type": "stream",
     "text": [
      "jam_axi_proj(align='sph', moment='zz') -- elapsed time sec: 0.90\n",
      "analytic_los=0 logistic=0 constant_anisotropy=1\n",
      "No PSF/pixel convolution because sigmapsf=0 pixsize=0\n",
      "inc=41.3; beta[0]=0.0; kappa=1.00; M/L=1.00; BH=0.0; chi2/DOF=nan\n",
      "Total mass MGE (MSun): 2.134e+13\n",
      "\n",
      "sigma_e: 186.49 km/s\n",
      "theta_E: 0.649 arcsec\n"
     ]
    },
    {
     "name": "stdout",
     "output_type": "stream",
     "text": [
      "jam_axi_proj(align='sph', moment='zz') -- elapsed time sec: 0.96\n",
      "analytic_los=0 logistic=0 constant_anisotropy=1\n",
      "No PSF/pixel convolution because sigmapsf=0 pixsize=0\n",
      "inc=61.2; beta[0]=0.0; kappa=1.00; M/L=1.00; BH=0.0; chi2/DOF=nan\n",
      "Total mass MGE (MSun): 2.134e+13\n",
      "\n",
      "sigma_e: 177.64 km/s\n",
      "theta_E: 0.744 arcsec\n"
     ]
    },
    {
     "name": "stdout",
     "output_type": "stream",
     "text": [
      "jam_axi_proj(align='sph', moment='zz') -- elapsed time sec: 0.87\n",
      "analytic_los=0 logistic=0 constant_anisotropy=1\n",
      "No PSF/pixel convolution because sigmapsf=0 pixsize=0\n",
      "inc=21.4; beta[0]=0.0; kappa=1.00; M/L=1.00; BH=0.0; chi2/DOF=nan\n",
      "Total mass MGE (MSun): 2.134e+13\n",
      "\n",
      "sigma_e: 190.91 km/s\n",
      "theta_E: 0.622 arcsec\n"
     ]
    },
    {
     "name": "stdout",
     "output_type": "stream",
     "text": [
      "jam_axi_proj(align='sph', moment='zz') -- elapsed time sec: 0.98\n",
      "analytic_los=0 logistic=0 constant_anisotropy=1\n",
      "No PSF/pixel convolution because sigmapsf=0 pixsize=0\n",
      "inc=71.8; beta[0]=0.0; kappa=1.00; M/L=1.00; BH=0.0; chi2/DOF=nan\n",
      "Total mass MGE (MSun): 2.134e+13\n",
      "\n",
      "sigma_e: 171.78 km/s\n",
      "theta_E: 0.607 arcsec\n"
     ]
    },
    {
     "name": "stdout",
     "output_type": "stream",
     "text": [
      "jam_axi_proj(align='sph', moment='zz') -- elapsed time sec: 0.93\n",
      "analytic_los=0 logistic=0 constant_anisotropy=1\n",
      "No PSF/pixel convolution because sigmapsf=0 pixsize=0\n",
      "inc=79.8; beta[0]=0.0; kappa=1.00; M/L=1.00; BH=0.0; chi2/DOF=nan\n",
      "Total mass MGE (MSun): 2.134e+13\n",
      "\n",
      "sigma_e: 167.94 km/s\n",
      "theta_E: 0.707 arcsec\n"
     ]
    },
    {
     "name": "stdout",
     "output_type": "stream",
     "text": [
      "jam_axi_proj(align='sph', moment='zz') -- elapsed time sec: 0.97\n",
      "analytic_los=0 logistic=0 constant_anisotropy=1\n",
      "No PSF/pixel convolution because sigmapsf=0 pixsize=0\n",
      "inc=40.1; beta[0]=0.0; kappa=1.00; M/L=1.00; BH=0.0; chi2/DOF=nan\n",
      "Total mass MGE (MSun): 2.134e+13\n",
      "\n",
      "sigma_e: 186.84 km/s\n"
     ]
    },
    {
     "name": "stdout",
     "output_type": "stream",
     "text": [
      "theta_E: 0.575 arcsec\n"
     ]
    },
    {
     "name": "stdout",
     "output_type": "stream",
     "text": [
      "jam_axi_proj(align='sph', moment='zz') -- elapsed time sec: 0.94\n",
      "analytic_los=0 logistic=0 constant_anisotropy=1\n",
      "No PSF/pixel convolution because sigmapsf=0 pixsize=0\n",
      "inc=72.2; beta[0]=0.0; kappa=1.00; M/L=1.00; BH=0.0; chi2/DOF=nan\n",
      "Total mass MGE (MSun): 1.836e+13\n",
      "\n",
      "sigma_e: 163.79 km/s\n",
      "theta_E: 0.679 arcsec\n"
     ]
    },
    {
     "name": "stdout",
     "output_type": "stream",
     "text": [
      "jam_axi_proj(align='sph', moment='zz') -- elapsed time sec: 0.91\n",
      "analytic_los=0 logistic=0 constant_anisotropy=1\n",
      "No PSF/pixel convolution because sigmapsf=0 pixsize=0\n",
      "inc=28.7; beta[0]=0.0; kappa=1.00; M/L=1.00; BH=0.0; chi2/DOF=nan\n",
      "Total mass MGE (MSun): 1.836e+13\n",
      "\n",
      "sigma_e: 181.67 km/s\n",
      "theta_E: 0.568 arcsec\n"
     ]
    },
    {
     "name": "stdout",
     "output_type": "stream",
     "text": [
      "jam_axi_proj(align='sph', moment='zz') -- elapsed time sec: 0.96\n",
      "analytic_los=0 logistic=0 constant_anisotropy=1\n",
      "No PSF/pixel convolution because sigmapsf=0 pixsize=0\n",
      "inc=75.9; beta[0]=0.0; kappa=1.00; M/L=1.00; BH=0.0; chi2/DOF=nan\n",
      "Total mass MGE (MSun): 1.836e+13\n",
      "\n",
      "sigma_e: 161.81 km/s\n",
      "theta_E: 0.634 arcsec\n"
     ]
    },
    {
     "name": "stdout",
     "output_type": "stream",
     "text": [
      "jam_axi_proj(align='sph', moment='zz') -- elapsed time sec: 0.94\n",
      "analytic_los=0 logistic=0 constant_anisotropy=1\n",
      "No PSF/pixel convolution because sigmapsf=0 pixsize=0\n",
      "inc=48.7; beta[0]=0.0; kappa=1.00; M/L=1.00; BH=0.0; chi2/DOF=nan\n",
      "Total mass MGE (MSun): 1.836e+13\n",
      "\n",
      "sigma_e: 175.87 km/s\n",
      "theta_E: 0.568 arcsec\n"
     ]
    },
    {
     "name": "stdout",
     "output_type": "stream",
     "text": [
      "jam_axi_proj(align='sph', moment='zz') -- elapsed time sec: 0.95\n",
      "analytic_los=0 logistic=0 constant_anisotropy=1\n",
      "No PSF/pixel convolution because sigmapsf=0 pixsize=0\n",
      "inc=76.4; beta[0]=0.0; kappa=1.00; M/L=1.00; BH=0.0; chi2/DOF=nan\n",
      "Total mass MGE (MSun): 1.836e+13\n",
      "\n",
      "sigma_e: 161.61 km/s\n",
      "theta_E: 0.591 arcsec\n"
     ]
    },
    {
     "name": "stdout",
     "output_type": "stream",
     "text": [
      "jam_axi_proj(align='sph', moment='zz') -- elapsed time sec: 0.95\n",
      "analytic_los=0 logistic=0 constant_anisotropy=1\n",
      "No PSF/pixel convolution because sigmapsf=0 pixsize=0\n",
      "inc=65.2; beta[0]=0.0; kappa=1.00; M/L=1.00; BH=0.0; chi2/DOF=nan\n",
      "Total mass MGE (MSun): 1.836e+13\n",
      "\n",
      "sigma_e: 167.58 km/s\n",
      "theta_E: 0.602 arcsec\n"
     ]
    },
    {
     "name": "stdout",
     "output_type": "stream",
     "text": [
      "jam_axi_proj(align='sph', moment='zz') -- elapsed time sec: 0.97\n",
      "analytic_los=0 logistic=0 constant_anisotropy=1\n",
      "No PSF/pixel convolution because sigmapsf=0 pixsize=0\n",
      "inc=61.1; beta[0]=0.0; kappa=1.00; M/L=1.00; BH=0.0; chi2/DOF=nan\n",
      "Total mass MGE (MSun): 1.836e+13\n",
      "\n",
      "sigma_e: 169.92 km/s\n",
      "theta_E: 0.701 arcsec\n"
     ]
    },
    {
     "name": "stdout",
     "output_type": "stream",
     "text": [
      "jam_axi_proj(align='sph', moment='zz') -- elapsed time sec: 0.90\n",
      "analytic_los=0 logistic=0 constant_anisotropy=1\n",
      "No PSF/pixel convolution because sigmapsf=0 pixsize=0\n",
      "inc=11.2; beta[0]=0.0; kappa=1.00; M/L=1.00; BH=0.0; chi2/DOF=nan\n",
      "Total mass MGE (MSun): 1.836e+13\n",
      "\n",
      "sigma_e: 183.87 km/s\n",
      "theta_E: 0.565 arcsec\n"
     ]
    },
    {
     "name": "stdout",
     "output_type": "stream",
     "text": [
      "jam_axi_proj(align='sph', moment='zz') -- elapsed time sec: 0.94\n",
      "analytic_los=0 logistic=0 constant_anisotropy=1\n",
      "No PSF/pixel convolution because sigmapsf=0 pixsize=0\n",
      "inc=78.1; beta[0]=0.0; kappa=1.00; M/L=1.00; BH=0.0; chi2/DOF=nan\n",
      "Total mass MGE (MSun): 1.836e+13\n",
      "\n",
      "sigma_e: 160.84 km/s\n",
      "theta_E: 0.579 arcsec\n"
     ]
    },
    {
     "name": "stdout",
     "output_type": "stream",
     "text": [
      "jam_axi_proj(align='sph', moment='zz') -- elapsed time sec: 0.95\n",
      "analytic_los=0 logistic=0 constant_anisotropy=1\n",
      "No PSF/pixel convolution because sigmapsf=0 pixsize=0\n",
      "inc=70.4; beta[0]=0.0; kappa=1.00; M/L=1.00; BH=0.0; chi2/DOF=nan\n",
      "Total mass MGE (MSun): 1.836e+13\n",
      "\n",
      "sigma_e: 164.77 km/s\n"
     ]
    },
    {
     "name": "stdout",
     "output_type": "stream",
     "text": [
      "theta_E: 0.541 arcsec\n"
     ]
    },
    {
     "name": "stdout",
     "output_type": "stream",
     "text": [
      "jam_axi_proj(align='sph', moment='zz') -- elapsed time sec: 0.88\n",
      "analytic_los=0 logistic=0 constant_anisotropy=1\n",
      "No PSF/pixel convolution because sigmapsf=0 pixsize=0\n",
      "inc=83.8; beta[0]=0.0; kappa=1.00; M/L=1.00; BH=0.0; chi2/DOF=nan\n",
      "Total mass MGE (MSun): 1.844e+13\n",
      "\n",
      "sigma_e: 147.56 km/s\n",
      "theta_E: 0.538 arcsec\n"
     ]
    },
    {
     "name": "stdout",
     "output_type": "stream",
     "text": [
      "jam_axi_proj(align='sph', moment='zz') -- elapsed time sec: 0.89\n",
      "analytic_los=0 logistic=0 constant_anisotropy=1\n",
      "No PSF/pixel convolution because sigmapsf=0 pixsize=0\n",
      "inc=85.9; beta[0]=0.0; kappa=1.00; M/L=1.00; BH=0.0; chi2/DOF=nan\n",
      "Total mass MGE (MSun): 1.844e+13\n",
      "\n",
      "sigma_e: 146.56 km/s\n",
      "theta_E: 0.753 arcsec\n"
     ]
    },
    {
     "name": "stdout",
     "output_type": "stream",
     "text": [
      "jam_axi_proj(align='sph', moment='zz') -- elapsed time sec: 0.86\n",
      "analytic_los=0 logistic=0 constant_anisotropy=1\n",
      "No PSF/pixel convolution because sigmapsf=0 pixsize=0\n",
      "inc=14.2; beta[0]=0.0; kappa=1.00; M/L=1.00; BH=0.0; chi2/DOF=nan\n",
      "Total mass MGE (MSun): 1.844e+13\n",
      "\n",
      "sigma_e: 189.37 km/s\n",
      "theta_E: 0.597 arcsec\n"
     ]
    },
    {
     "name": "stdout",
     "output_type": "stream",
     "text": [
      "jam_axi_proj(align='sph', moment='zz') -- elapsed time sec: 0.97\n",
      "analytic_los=0 logistic=0 constant_anisotropy=1\n",
      "No PSF/pixel convolution because sigmapsf=0 pixsize=0\n",
      "inc=65.5; beta[0]=0.0; kappa=1.00; M/L=1.00; BH=0.0; chi2/DOF=nan\n",
      "Total mass MGE (MSun): 1.844e+13\n",
      "\n",
      "sigma_e: 164.84 km/s\n",
      "theta_E: 0.560 arcsec\n"
     ]
    },
    {
     "name": "stdout",
     "output_type": "stream",
     "text": [
      "jam_axi_proj(align='sph', moment='zz') -- elapsed time sec: 0.91\n",
      "analytic_los=0 logistic=0 constant_anisotropy=1\n",
      "No PSF/pixel convolution because sigmapsf=0 pixsize=0\n",
      "inc=75.7; beta[0]=0.0; kappa=1.00; M/L=1.00; BH=0.0; chi2/DOF=nan\n",
      "Total mass MGE (MSun): 1.844e+13\n",
      "\n",
      "sigma_e: 154.20 km/s\n",
      "theta_E: 0.637 arcsec\n"
     ]
    },
    {
     "name": "stdout",
     "output_type": "stream",
     "text": [
      "jam_axi_proj(align='sph', moment='zz') -- elapsed time sec: 0.93\n",
      "analytic_los=0 logistic=0 constant_anisotropy=1\n",
      "No PSF/pixel convolution because sigmapsf=0 pixsize=0\n",
      "inc=55.6; beta[0]=0.0; kappa=1.00; M/L=1.00; BH=0.0; chi2/DOF=nan\n",
      "Total mass MGE (MSun): 1.844e+13\n",
      "\n",
      "sigma_e: 173.83 km/s\n",
      "theta_E: 0.583 arcsec\n"
     ]
    },
    {
     "name": "stdout",
     "output_type": "stream",
     "text": [
      "jam_axi_proj(align='sph', moment='zz') -- elapsed time sec: 0.87\n",
      "analytic_los=0 logistic=0 constant_anisotropy=1\n",
      "No PSF/pixel convolution because sigmapsf=0 pixsize=0\n",
      "inc=69.0; beta[0]=0.0; kappa=1.00; M/L=1.00; BH=0.0; chi2/DOF=nan\n",
      "Total mass MGE (MSun): 1.844e+13\n",
      "\n",
      "sigma_e: 161.15 km/s\n",
      "theta_E: 0.588 arcsec\n"
     ]
    },
    {
     "name": "stdout",
     "output_type": "stream",
     "text": [
      "jam_axi_proj(align='sph', moment='zz') -- elapsed time sec: 0.90\n",
      "analytic_los=0 logistic=0 constant_anisotropy=1\n",
      "No PSF/pixel convolution because sigmapsf=0 pixsize=0\n",
      "inc=67.7; beta[0]=0.0; kappa=1.00; M/L=1.00; BH=0.0; chi2/DOF=nan\n",
      "Total mass MGE (MSun): 1.844e+13\n",
      "\n",
      "sigma_e: 162.57 km/s\n",
      "theta_E: 0.639 arcsec\n"
     ]
    },
    {
     "name": "stdout",
     "output_type": "stream",
     "text": [
      "jam_axi_proj(align='sph', moment='zz') -- elapsed time sec: 0.92\n",
      "analytic_los=0 logistic=0 constant_anisotropy=1\n",
      "No PSF/pixel convolution because sigmapsf=0 pixsize=0\n",
      "inc=54.9; beta[0]=0.0; kappa=1.00; M/L=1.00; BH=0.0; chi2/DOF=nan\n",
      "Total mass MGE (MSun): 1.844e+13\n",
      "\n",
      "sigma_e: 174.36 km/s\n",
      "theta_E: 0.583 arcsec\n"
     ]
    },
    {
     "name": "stdout",
     "output_type": "stream",
     "text": [
      "jam_axi_proj(align='sph', moment='zz') -- elapsed time sec: 0.89\n",
      "analytic_los=0 logistic=0 constant_anisotropy=1\n",
      "No PSF/pixel convolution because sigmapsf=0 pixsize=0\n",
      "inc=69.0; beta[0]=0.0; kappa=1.00; M/L=1.00; BH=0.0; chi2/DOF=nan\n",
      "Total mass MGE (MSun): 1.844e+13\n",
      "\n",
      "sigma_e: 161.24 km/s\n"
     ]
    },
    {
     "name": "stdout",
     "output_type": "stream",
     "text": [
      "theta_E: 0.355 arcsec\n"
     ]
    },
    {
     "name": "stdout",
     "output_type": "stream",
     "text": [
      "jam_axi_proj(align='sph', moment='zz') -- elapsed time sec: 0.99\n",
      "analytic_los=0 logistic=0 constant_anisotropy=1\n",
      "No PSF/pixel convolution because sigmapsf=0 pixsize=0\n",
      "inc=81.3; beta[0]=0.0; kappa=1.00; M/L=1.00; BH=0.0; chi2/DOF=nan\n",
      "Total mass MGE (MSun): 7.838e+12\n",
      "\n",
      "sigma_e: 124.99 km/s\n",
      "theta_E: 0.360 arcsec\n"
     ]
    },
    {
     "name": "stdout",
     "output_type": "stream",
     "text": [
      "jam_axi_proj(align='sph', moment='zz') -- elapsed time sec: 1.01\n",
      "analytic_los=0 logistic=0 constant_anisotropy=1\n",
      "No PSF/pixel convolution because sigmapsf=0 pixsize=0\n",
      "inc=77.9; beta[0]=0.0; kappa=1.00; M/L=1.00; BH=0.0; chi2/DOF=nan\n",
      "Total mass MGE (MSun): 7.838e+12\n",
      "\n",
      "sigma_e: 126.96 km/s\n",
      "theta_E: 0.384 arcsec\n"
     ]
    },
    {
     "name": "stdout",
     "output_type": "stream",
     "text": [
      "jam_axi_proj(align='sph', moment='zz') -- elapsed time sec: 1.03\n",
      "analytic_los=0 logistic=0 constant_anisotropy=1\n",
      "No PSF/pixel convolution because sigmapsf=0 pixsize=0\n",
      "inc=66.3; beta[0]=0.0; kappa=1.00; M/L=1.00; BH=0.0; chi2/DOF=nan\n",
      "Total mass MGE (MSun): 7.838e+12\n",
      "\n",
      "sigma_e: 135.49 km/s\n",
      "theta_E: 0.388 arcsec\n"
     ]
    },
    {
     "name": "stdout",
     "output_type": "stream",
     "text": [
      "jam_axi_proj(align='sph', moment='zz') -- elapsed time sec: 1.04\n",
      "analytic_los=0 logistic=0 constant_anisotropy=1\n",
      "No PSF/pixel convolution because sigmapsf=0 pixsize=0\n",
      "inc=64.9; beta[0]=0.0; kappa=1.00; M/L=1.00; BH=0.0; chi2/DOF=nan\n",
      "Total mass MGE (MSun): 7.838e+12\n",
      "\n",
      "sigma_e: 136.55 km/s\n",
      "theta_E: 0.362 arcsec\n"
     ]
    },
    {
     "name": "stdout",
     "output_type": "stream",
     "text": [
      "jam_axi_proj(align='sph', moment='zz') -- elapsed time sec: 0.99\n",
      "analytic_los=0 logistic=0 constant_anisotropy=1\n",
      "No PSF/pixel convolution because sigmapsf=0 pixsize=0\n",
      "inc=76.9; beta[0]=0.0; kappa=1.00; M/L=1.00; BH=0.0; chi2/DOF=nan\n",
      "Total mass MGE (MSun): 7.838e+12\n",
      "\n",
      "sigma_e: 127.68 km/s\n",
      "theta_E: 0.366 arcsec\n"
     ]
    },
    {
     "name": "stdout",
     "output_type": "stream",
     "text": [
      "jam_axi_proj(align='sph', moment='zz') -- elapsed time sec: 1.02\n",
      "analytic_los=0 logistic=0 constant_anisotropy=1\n",
      "No PSF/pixel convolution because sigmapsf=0 pixsize=0\n",
      "inc=74.3; beta[0]=0.0; kappa=1.00; M/L=1.00; BH=0.0; chi2/DOF=nan\n",
      "Total mass MGE (MSun): 7.838e+12\n",
      "\n",
      "sigma_e: 129.45 km/s\n",
      "theta_E: 0.377 arcsec\n"
     ]
    },
    {
     "name": "stdout",
     "output_type": "stream",
     "text": [
      "jam_axi_proj(align='sph', moment='zz') -- elapsed time sec: 1.03\n",
      "analytic_los=0 logistic=0 constant_anisotropy=1\n",
      "No PSF/pixel convolution because sigmapsf=0 pixsize=0\n",
      "inc=69.5; beta[0]=0.0; kappa=1.00; M/L=1.00; BH=0.0; chi2/DOF=nan\n",
      "Total mass MGE (MSun): 7.838e+12\n",
      "\n",
      "sigma_e: 133.10 km/s\n",
      "theta_E: 0.451 arcsec\n"
     ]
    },
    {
     "name": "stdout",
     "output_type": "stream",
     "text": [
      "jam_axi_proj(align='sph', moment='zz') -- elapsed time sec: 0.93\n",
      "analytic_los=0 logistic=0 constant_anisotropy=1\n",
      "No PSF/pixel convolution because sigmapsf=0 pixsize=0\n",
      "inc=37.6; beta[0]=0.0; kappa=1.00; M/L=1.00; BH=0.0; chi2/DOF=nan\n",
      "Total mass MGE (MSun): 7.838e+12\n",
      "\n",
      "sigma_e: 150.21 km/s\n",
      "theta_E: 0.416 arcsec\n"
     ]
    },
    {
     "name": "stdout",
     "output_type": "stream",
     "text": [
      "jam_axi_proj(align='sph', moment='zz') -- elapsed time sec: 0.96\n",
      "analytic_los=0 logistic=0 constant_anisotropy=1\n",
      "No PSF/pixel convolution because sigmapsf=0 pixsize=0\n",
      "inc=53.7; beta[0]=0.0; kappa=1.00; M/L=1.00; BH=0.0; chi2/DOF=nan\n",
      "Total mass MGE (MSun): 7.838e+12\n",
      "\n",
      "sigma_e: 143.75 km/s\n",
      "theta_E: 0.420 arcsec\n"
     ]
    },
    {
     "name": "stdout",
     "output_type": "stream",
     "text": [
      "jam_axi_proj(align='sph', moment='zz') -- elapsed time sec: 0.98\n",
      "analytic_los=0 logistic=0 constant_anisotropy=1\n",
      "No PSF/pixel convolution because sigmapsf=0 pixsize=0\n",
      "inc=51.8; beta[0]=0.0; kappa=1.00; M/L=1.00; BH=0.0; chi2/DOF=nan\n",
      "Total mass MGE (MSun): 7.838e+12\n",
      "\n",
      "sigma_e: 144.74 km/s\n"
     ]
    },
    {
     "name": "stdout",
     "output_type": "stream",
     "text": [
      "theta_E: 0.374 arcsec\n"
     ]
    },
    {
     "name": "stdout",
     "output_type": "stream",
     "text": [
      "jam_axi_proj(align='sph', moment='zz') -- elapsed time sec: 0.96\n",
      "analytic_los=0 logistic=0 constant_anisotropy=1\n",
      "No PSF/pixel convolution because sigmapsf=0 pixsize=0\n",
      "inc=74.8; beta[0]=0.0; kappa=1.00; M/L=1.00; BH=0.0; chi2/DOF=nan\n",
      "Total mass MGE (MSun): 7.994e+12\n",
      "\n",
      "sigma_e: 132.92 km/s\n",
      "theta_E: 0.398 arcsec\n"
     ]
    },
    {
     "name": "stdout",
     "output_type": "stream",
     "text": [
      "jam_axi_proj(align='sph', moment='zz') -- elapsed time sec: 0.94\n",
      "analytic_los=0 logistic=0 constant_anisotropy=1\n",
      "No PSF/pixel convolution because sigmapsf=0 pixsize=0\n",
      "inc=59.8; beta[0]=0.0; kappa=1.00; M/L=1.00; BH=0.0; chi2/DOF=nan\n",
      "Total mass MGE (MSun): 7.994e+12\n",
      "\n",
      "sigma_e: 139.70 km/s\n",
      "theta_E: 0.455 arcsec\n"
     ]
    },
    {
     "name": "stdout",
     "output_type": "stream",
     "text": [
      "jam_axi_proj(align='sph', moment='zz') -- elapsed time sec: 0.87\n",
      "analytic_los=0 logistic=0 constant_anisotropy=1\n",
      "No PSF/pixel convolution because sigmapsf=0 pixsize=0\n",
      "inc=21.8; beta[0]=0.0; kappa=1.00; M/L=1.00; BH=0.0; chi2/DOF=nan\n",
      "Total mass MGE (MSun): 7.994e+12\n",
      "\n",
      "sigma_e: 149.69 km/s\n",
      "theta_E: 0.376 arcsec\n"
     ]
    },
    {
     "name": "stdout",
     "output_type": "stream",
     "text": [
      "jam_axi_proj(align='sph', moment='zz') -- elapsed time sec: 1.00\n",
      "analytic_los=0 logistic=0 constant_anisotropy=1\n",
      "No PSF/pixel convolution because sigmapsf=0 pixsize=0\n",
      "inc=73.2; beta[0]=0.0; kappa=1.00; M/L=1.00; BH=0.0; chi2/DOF=nan\n",
      "Total mass MGE (MSun): 7.994e+12\n",
      "\n",
      "sigma_e: 133.62 km/s\n",
      "theta_E: 0.435 arcsec\n"
     ]
    },
    {
     "name": "stdout",
     "output_type": "stream",
     "text": [
      "jam_axi_proj(align='sph', moment='zz') -- elapsed time sec: 0.90\n",
      "analytic_los=0 logistic=0 constant_anisotropy=1\n",
      "No PSF/pixel convolution because sigmapsf=0 pixsize=0\n",
      "inc=38.1; beta[0]=0.0; kappa=1.00; M/L=1.00; BH=0.0; chi2/DOF=nan\n",
      "Total mass MGE (MSun): 7.994e+12\n",
      "\n",
      "sigma_e: 146.98 km/s\n",
      "theta_E: 0.378 arcsec\n"
     ]
    },
    {
     "name": "stdout",
     "output_type": "stream",
     "text": [
      "jam_axi_proj(align='sph', moment='zz') -- elapsed time sec: 0.97\n",
      "analytic_los=0 logistic=0 constant_anisotropy=1\n",
      "No PSF/pixel convolution because sigmapsf=0 pixsize=0\n",
      "inc=71.9; beta[0]=0.0; kappa=1.00; M/L=1.00; BH=0.0; chi2/DOF=nan\n",
      "Total mass MGE (MSun): 7.994e+12\n",
      "\n",
      "sigma_e: 134.17 km/s\n",
      "theta_E: 0.458 arcsec\n"
     ]
    },
    {
     "name": "stdout",
     "output_type": "stream",
     "text": [
      "jam_axi_proj(align='sph', moment='zz') -- elapsed time sec: 0.86\n",
      "analytic_los=0 logistic=0 constant_anisotropy=1\n",
      "No PSF/pixel convolution because sigmapsf=0 pixsize=0\n",
      "inc=18.3; beta[0]=0.0; kappa=1.00; M/L=1.00; BH=0.0; chi2/DOF=nan\n",
      "Total mass MGE (MSun): 7.994e+12\n",
      "\n",
      "sigma_e: 150.05 km/s\n",
      "theta_E: 0.392 arcsec\n"
     ]
    },
    {
     "name": "stdout",
     "output_type": "stream",
     "text": [
      "jam_axi_proj(align='sph', moment='zz') -- elapsed time sec: 1.02\n",
      "analytic_los=0 logistic=0 constant_anisotropy=1\n",
      "No PSF/pixel convolution because sigmapsf=0 pixsize=0\n",
      "inc=63.2; beta[0]=0.0; kappa=1.00; M/L=1.00; BH=0.0; chi2/DOF=nan\n",
      "Total mass MGE (MSun): 7.994e+12\n",
      "\n",
      "sigma_e: 138.21 km/s\n",
      "theta_E: 0.369 arcsec\n"
     ]
    },
    {
     "name": "stdout",
     "output_type": "stream",
     "text": [
      "jam_axi_proj(align='sph', moment='zz') -- elapsed time sec: 0.99\n",
      "analytic_los=0 logistic=0 constant_anisotropy=1\n",
      "No PSF/pixel convolution because sigmapsf=0 pixsize=0\n",
      "inc=79.4; beta[0]=0.0; kappa=1.00; M/L=1.00; BH=0.0; chi2/DOF=nan\n",
      "Total mass MGE (MSun): 7.994e+12\n",
      "\n",
      "sigma_e: 131.22 km/s\n",
      "theta_E: 0.432 arcsec\n"
     ]
    },
    {
     "name": "stdout",
     "output_type": "stream",
     "text": [
      "jam_axi_proj(align='sph', moment='zz') -- elapsed time sec: 0.92\n",
      "analytic_los=0 logistic=0 constant_anisotropy=1\n",
      "No PSF/pixel convolution because sigmapsf=0 pixsize=0\n",
      "inc=39.7; beta[0]=0.0; kappa=1.00; M/L=1.00; BH=0.0; chi2/DOF=nan\n",
      "Total mass MGE (MSun): 7.994e+12\n",
      "\n",
      "sigma_e: 146.61 km/s\n"
     ]
    },
    {
     "name": "stdout",
     "output_type": "stream",
     "text": [
      "theta_E: 0.440 arcsec\n"
     ]
    },
    {
     "name": "stdout",
     "output_type": "stream",
     "text": [
      "jam_axi_proj(align='sph', moment='zz') -- elapsed time sec: 0.94\n",
      "analytic_los=0 logistic=0 constant_anisotropy=1\n",
      "No PSF/pixel convolution because sigmapsf=0 pixsize=0\n",
      "inc=80.9; beta[0]=0.0; kappa=1.00; M/L=1.00; BH=0.0; chi2/DOF=nan\n",
      "Total mass MGE (MSun): 1.127e+13\n",
      "\n",
      "sigma_e: 143.26 km/s\n",
      "theta_E: 0.440 arcsec\n"
     ]
    },
    {
     "name": "stdout",
     "output_type": "stream",
     "text": [
      "jam_axi_proj(align='sph', moment='zz') -- elapsed time sec: 0.97\n",
      "analytic_los=0 logistic=0 constant_anisotropy=1\n",
      "No PSF/pixel convolution because sigmapsf=0 pixsize=0\n",
      "inc=81.2; beta[0]=0.0; kappa=1.00; M/L=1.00; BH=0.0; chi2/DOF=nan\n",
      "Total mass MGE (MSun): 1.127e+13\n",
      "\n",
      "sigma_e: 143.18 km/s\n",
      "theta_E: 0.467 arcsec\n"
     ]
    },
    {
     "name": "stdout",
     "output_type": "stream",
     "text": [
      "jam_axi_proj(align='sph', moment='zz') -- elapsed time sec: 0.92\n",
      "analytic_los=0 logistic=0 constant_anisotropy=1\n",
      "No PSF/pixel convolution because sigmapsf=0 pixsize=0\n",
      "inc=62.4; beta[0]=0.0; kappa=1.00; M/L=1.00; BH=0.0; chi2/DOF=nan\n",
      "Total mass MGE (MSun): 1.127e+13\n",
      "\n",
      "sigma_e: 150.66 km/s\n",
      "theta_E: 0.522 arcsec\n"
     ]
    },
    {
     "name": "stdout",
     "output_type": "stream",
     "text": [
      "jam_axi_proj(align='sph', moment='zz') -- elapsed time sec: 0.90\n",
      "analytic_los=0 logistic=0 constant_anisotropy=1\n",
      "No PSF/pixel convolution because sigmapsf=0 pixsize=0\n",
      "inc=32.3; beta[0]=0.0; kappa=1.00; M/L=1.00; BH=0.0; chi2/DOF=nan\n",
      "Total mass MGE (MSun): 1.127e+13\n",
      "\n",
      "sigma_e: 160.30 km/s\n",
      "theta_E: 0.501 arcsec\n"
     ]
    },
    {
     "name": "stdout",
     "output_type": "stream",
     "text": [
      "jam_axi_proj(align='sph', moment='zz') -- elapsed time sec: 0.89\n",
      "analytic_los=0 logistic=0 constant_anisotropy=1\n",
      "No PSF/pixel convolution because sigmapsf=0 pixsize=0\n",
      "inc=44.8; beta[0]=0.0; kappa=1.00; M/L=1.00; BH=0.0; chi2/DOF=nan\n",
      "Total mass MGE (MSun): 1.127e+13\n",
      "\n",
      "sigma_e: 157.33 km/s\n",
      "theta_E: 0.519 arcsec\n"
     ]
    },
    {
     "name": "stdout",
     "output_type": "stream",
     "text": [
      "jam_axi_proj(align='sph', moment='zz') -- elapsed time sec: 0.89\n",
      "analytic_los=0 logistic=0 constant_anisotropy=1\n",
      "No PSF/pixel convolution because sigmapsf=0 pixsize=0\n",
      "inc=34.3; beta[0]=0.0; kappa=1.00; M/L=1.00; BH=0.0; chi2/DOF=nan\n",
      "Total mass MGE (MSun): 1.127e+13\n",
      "\n",
      "sigma_e: 159.92 km/s\n",
      "theta_E: 0.486 arcsec\n"
     ]
    },
    {
     "name": "stdout",
     "output_type": "stream",
     "text": [
      "jam_axi_proj(align='sph', moment='zz') -- elapsed time sec: 0.94\n",
      "analytic_los=0 logistic=0 constant_anisotropy=1\n",
      "No PSF/pixel convolution because sigmapsf=0 pixsize=0\n",
      "inc=52.7; beta[0]=0.0; kappa=1.00; M/L=1.00; BH=0.0; chi2/DOF=nan\n",
      "Total mass MGE (MSun): 1.127e+13\n",
      "\n",
      "sigma_e: 154.66 km/s\n",
      "theta_E: 0.441 arcsec\n"
     ]
    },
    {
     "name": "stdout",
     "output_type": "stream",
     "text": [
      "jam_axi_proj(align='sph', moment='zz') -- elapsed time sec: 0.96\n",
      "analytic_los=0 logistic=0 constant_anisotropy=1\n",
      "No PSF/pixel convolution because sigmapsf=0 pixsize=0\n",
      "inc=79.7; beta[0]=0.0; kappa=1.00; M/L=1.00; BH=0.0; chi2/DOF=nan\n",
      "Total mass MGE (MSun): 1.127e+13\n",
      "\n",
      "sigma_e: 143.60 km/s\n",
      "theta_E: 0.479 arcsec\n"
     ]
    },
    {
     "name": "stdout",
     "output_type": "stream",
     "text": [
      "jam_axi_proj(align='sph', moment='zz') -- elapsed time sec: 0.91\n",
      "analytic_los=0 logistic=0 constant_anisotropy=1\n",
      "No PSF/pixel convolution because sigmapsf=0 pixsize=0\n",
      "inc=56.4; beta[0]=0.0; kappa=1.00; M/L=1.00; BH=0.0; chi2/DOF=nan\n",
      "Total mass MGE (MSun): 1.127e+13\n",
      "\n",
      "sigma_e: 153.20 km/s\n",
      "theta_E: 0.445 arcsec\n"
     ]
    },
    {
     "name": "stdout",
     "output_type": "stream",
     "text": [
      "jam_axi_proj(align='sph', moment='zz') -- elapsed time sec: 0.94\n",
      "analytic_los=0 logistic=0 constant_anisotropy=1\n",
      "No PSF/pixel convolution because sigmapsf=0 pixsize=0\n",
      "inc=75.8; beta[0]=0.0; kappa=1.00; M/L=1.00; BH=0.0; chi2/DOF=nan\n",
      "Total mass MGE (MSun): 1.127e+13\n",
      "\n",
      "sigma_e: 144.95 km/s\n"
     ]
    },
    {
     "name": "stdout",
     "output_type": "stream",
     "text": [
      "theta_E: 0.699 arcsec\n"
     ]
    },
    {
     "name": "stdout",
     "output_type": "stream",
     "text": [
      "jam_axi_proj(align='sph', moment='zz') -- elapsed time sec: 0.85\n",
      "analytic_los=0 logistic=0 constant_anisotropy=1\n",
      "No PSF/pixel convolution because sigmapsf=0 pixsize=0\n",
      "inc=71.5; beta[0]=0.0; kappa=1.00; M/L=1.00; BH=0.0; chi2/DOF=nan\n",
      "Total mass MGE (MSun): 2.722e+13\n",
      "\n",
      "sigma_e: 171.64 km/s\n",
      "theta_E: 0.704 arcsec\n"
     ]
    },
    {
     "name": "stdout",
     "output_type": "stream",
     "text": [
      "jam_axi_proj(align='sph', moment='zz') -- elapsed time sec: 0.86\n",
      "analytic_los=0 logistic=0 constant_anisotropy=1\n",
      "No PSF/pixel convolution because sigmapsf=0 pixsize=0\n",
      "inc=70.6; beta[0]=0.0; kappa=1.00; M/L=1.00; BH=0.0; chi2/DOF=nan\n",
      "Total mass MGE (MSun): 2.722e+13\n",
      "\n",
      "sigma_e: 173.16 km/s\n",
      "theta_E: 0.822 arcsec\n"
     ]
    },
    {
     "name": "stdout",
     "output_type": "stream",
     "text": [
      "jam_axi_proj(align='sph', moment='zz') -- elapsed time sec: 0.93\n",
      "analytic_los=0 logistic=0 constant_anisotropy=1\n",
      "No PSF/pixel convolution because sigmapsf=0 pixsize=0\n",
      "inc=50.7; beta[0]=0.0; kappa=1.00; M/L=1.00; BH=0.0; chi2/DOF=nan\n",
      "Total mass MGE (MSun): 2.722e+13\n",
      "\n",
      "sigma_e: 198.53 km/s\n",
      "theta_E: 0.871 arcsec\n"
     ]
    },
    {
     "name": "stdout",
     "output_type": "stream",
     "text": [
      "jam_axi_proj(align='sph', moment='zz') -- elapsed time sec: 0.94\n",
      "analytic_los=0 logistic=0 constant_anisotropy=1\n",
      "No PSF/pixel convolution because sigmapsf=0 pixsize=0\n",
      "inc=41.5; beta[0]=0.0; kappa=1.00; M/L=1.00; BH=0.0; chi2/DOF=nan\n",
      "Total mass MGE (MSun): 2.722e+13\n",
      "\n",
      "sigma_e: 205.65 km/s\n",
      "theta_E: 0.650 arcsec\n"
     ]
    },
    {
     "name": "stdout",
     "output_type": "stream",
     "text": [
      "jam_axi_proj(align='sph', moment='zz') -- elapsed time sec: 0.88\n",
      "analytic_los=0 logistic=0 constant_anisotropy=1\n",
      "No PSF/pixel convolution because sigmapsf=0 pixsize=0\n",
      "inc=82.3; beta[0]=0.0; kappa=1.00; M/L=1.00; BH=0.0; chi2/DOF=nan\n",
      "Total mass MGE (MSun): 2.722e+13\n",
      "\n",
      "sigma_e: 155.26 km/s\n",
      "theta_E: 0.649 arcsec\n"
     ]
    },
    {
     "name": "stdout",
     "output_type": "stream",
     "text": [
      "jam_axi_proj(align='sph', moment='zz') -- elapsed time sec: 0.89\n",
      "analytic_los=0 logistic=0 constant_anisotropy=1\n",
      "No PSF/pixel convolution because sigmapsf=0 pixsize=0\n",
      "inc=82.7; beta[0]=0.0; kappa=1.00; M/L=1.00; BH=0.0; chi2/DOF=nan\n",
      "Total mass MGE (MSun): 2.722e+13\n",
      "\n",
      "sigma_e: 154.84 km/s\n",
      "theta_E: 0.857 arcsec\n"
     ]
    },
    {
     "name": "stdout",
     "output_type": "stream",
     "text": [
      "jam_axi_proj(align='sph', moment='zz') -- elapsed time sec: 0.92\n",
      "analytic_los=0 logistic=0 constant_anisotropy=1\n",
      "No PSF/pixel convolution because sigmapsf=0 pixsize=0\n",
      "inc=44.2; beta[0]=0.0; kappa=1.00; M/L=1.00; BH=0.0; chi2/DOF=nan\n",
      "Total mass MGE (MSun): 2.722e+13\n",
      "\n",
      "sigma_e: 204.06 km/s\n",
      "theta_E: 0.948 arcsec\n"
     ]
    },
    {
     "name": "stdout",
     "output_type": "stream",
     "text": [
      "jam_axi_proj(align='sph', moment='zz') -- elapsed time sec: 0.90\n",
      "analytic_los=0 logistic=0 constant_anisotropy=1\n",
      "No PSF/pixel convolution because sigmapsf=0 pixsize=0\n",
      "inc=20.2; beta[0]=0.0; kappa=1.00; M/L=1.00; BH=0.0; chi2/DOF=nan\n",
      "Total mass MGE (MSun): 2.722e+13\n",
      "\n",
      "sigma_e: 212.76 km/s\n",
      "theta_E: 0.892 arcsec\n"
     ]
    },
    {
     "name": "stdout",
     "output_type": "stream",
     "text": [
      "jam_axi_proj(align='sph', moment='zz') -- elapsed time sec: 0.92\n",
      "analytic_los=0 logistic=0 constant_anisotropy=1\n",
      "No PSF/pixel convolution because sigmapsf=0 pixsize=0\n",
      "inc=36.8; beta[0]=0.0; kappa=1.00; M/L=1.00; BH=0.0; chi2/DOF=nan\n",
      "Total mass MGE (MSun): 2.722e+13\n",
      "\n",
      "sigma_e: 207.91 km/s\n",
      "theta_E: 0.651 arcsec\n"
     ]
    },
    {
     "name": "stdout",
     "output_type": "stream",
     "text": [
      "jam_axi_proj(align='sph', moment='zz') -- elapsed time sec: 0.88\n",
      "analytic_los=0 logistic=0 constant_anisotropy=1\n",
      "No PSF/pixel convolution because sigmapsf=0 pixsize=0\n",
      "inc=81.9; beta[0]=0.0; kappa=1.00; M/L=1.00; BH=0.0; chi2/DOF=nan\n",
      "Total mass MGE (MSun): 2.722e+13\n",
      "\n",
      "sigma_e: 155.81 km/s\n"
     ]
    },
    {
     "name": "stdout",
     "output_type": "stream",
     "text": [
      "theta_E: 0.477 arcsec\n"
     ]
    },
    {
     "name": "stdout",
     "output_type": "stream",
     "text": [
      "jam_axi_proj(align='sph', moment='zz') -- elapsed time sec: 1.00\n",
      "analytic_los=0 logistic=0 constant_anisotropy=1\n",
      "No PSF/pixel convolution because sigmapsf=0 pixsize=0\n",
      "inc=86.1; beta[0]=0.0; kappa=1.00; M/L=1.00; BH=0.0; chi2/DOF=nan\n",
      "Total mass MGE (MSun): 1.373e+13\n",
      "\n",
      "sigma_e: 147.45 km/s\n",
      "theta_E: 0.509 arcsec\n"
     ]
    },
    {
     "name": "stdout",
     "output_type": "stream",
     "text": [
      "jam_axi_proj(align='sph', moment='zz') -- elapsed time sec: 0.97\n",
      "analytic_los=0 logistic=0 constant_anisotropy=1\n",
      "No PSF/pixel convolution because sigmapsf=0 pixsize=0\n",
      "inc=66.2; beta[0]=0.0; kappa=1.00; M/L=1.00; BH=0.0; chi2/DOF=nan\n",
      "Total mass MGE (MSun): 1.373e+13\n",
      "\n",
      "sigma_e: 156.55 km/s\n",
      "theta_E: 0.545 arcsec\n"
     ]
    },
    {
     "name": "stdout",
     "output_type": "stream",
     "text": [
      "jam_axi_proj(align='sph', moment='zz') -- elapsed time sec: 0.93\n",
      "analytic_los=0 logistic=0 constant_anisotropy=1\n",
      "No PSF/pixel convolution because sigmapsf=0 pixsize=0\n",
      "inc=51.7; beta[0]=0.0; kappa=1.00; M/L=1.00; BH=0.0; chi2/DOF=nan\n",
      "Total mass MGE (MSun): 1.373e+13\n",
      "\n",
      "sigma_e: 164.25 km/s\n",
      "theta_E: 0.578 arcsec\n"
     ]
    },
    {
     "name": "stdout",
     "output_type": "stream",
     "text": [
      "jam_axi_proj(align='sph', moment='zz') -- elapsed time sec: 0.91\n",
      "analytic_los=0 logistic=0 constant_anisotropy=1\n",
      "No PSF/pixel convolution because sigmapsf=0 pixsize=0\n",
      "inc=37.2; beta[0]=0.0; kappa=1.00; M/L=1.00; BH=0.0; chi2/DOF=nan\n",
      "Total mass MGE (MSun): 1.373e+13\n",
      "\n",
      "sigma_e: 169.39 km/s\n",
      "theta_E: 0.617 arcsec\n"
     ]
    },
    {
     "name": "stdout",
     "output_type": "stream",
     "text": [
      "jam_axi_proj(align='sph', moment='zz') -- elapsed time sec: 0.86\n",
      "analytic_los=0 logistic=0 constant_anisotropy=1\n",
      "No PSF/pixel convolution because sigmapsf=0 pixsize=0\n",
      "inc=7.15; beta[0]=0.0; kappa=1.00; M/L=1.00; BH=0.0; chi2/DOF=nan\n",
      "Total mass MGE (MSun): 1.373e+13\n",
      "\n",
      "sigma_e: 173.58 km/s\n",
      "theta_E: 0.578 arcsec\n"
     ]
    },
    {
     "name": "stdout",
     "output_type": "stream",
     "text": [
      "jam_axi_proj(align='sph', moment='zz') -- elapsed time sec: 0.91\n",
      "analytic_los=0 logistic=0 constant_anisotropy=1\n",
      "No PSF/pixel convolution because sigmapsf=0 pixsize=0\n",
      "inc=37.3; beta[0]=0.0; kappa=1.00; M/L=1.00; BH=0.0; chi2/DOF=nan\n",
      "Total mass MGE (MSun): 1.373e+13\n",
      "\n",
      "sigma_e: 169.36 km/s\n",
      "theta_E: 0.478 arcsec\n"
     ]
    },
    {
     "name": "stdout",
     "output_type": "stream",
     "text": [
      "jam_axi_proj(align='sph', moment='zz') -- elapsed time sec: 1.01\n",
      "analytic_los=0 logistic=0 constant_anisotropy=1\n",
      "No PSF/pixel convolution because sigmapsf=0 pixsize=0\n",
      "inc=85.6; beta[0]=0.0; kappa=1.00; M/L=1.00; BH=0.0; chi2/DOF=nan\n",
      "Total mass MGE (MSun): 1.373e+13\n",
      "\n",
      "sigma_e: 147.54 km/s\n",
      "theta_E: 0.486 arcsec\n"
     ]
    },
    {
     "name": "stdout",
     "output_type": "stream",
     "text": [
      "jam_axi_proj(align='sph', moment='zz') -- elapsed time sec: 1.00\n",
      "analytic_los=0 logistic=0 constant_anisotropy=1\n",
      "No PSF/pixel convolution because sigmapsf=0 pixsize=0\n",
      "inc=77.9; beta[0]=0.0; kappa=1.00; M/L=1.00; BH=0.0; chi2/DOF=nan\n",
      "Total mass MGE (MSun): 1.373e+13\n",
      "\n",
      "sigma_e: 150.19 km/s\n",
      "theta_E: 0.487 arcsec\n"
     ]
    },
    {
     "name": "stdout",
     "output_type": "stream",
     "text": [
      "jam_axi_proj(align='sph', moment='zz') -- elapsed time sec: 0.97\n",
      "analytic_los=0 logistic=0 constant_anisotropy=1\n",
      "No PSF/pixel convolution because sigmapsf=0 pixsize=0\n",
      "inc=77.0; beta[0]=0.0; kappa=1.00; M/L=1.00; BH=0.0; chi2/DOF=nan\n",
      "Total mass MGE (MSun): 1.373e+13\n",
      "\n",
      "sigma_e: 150.60 km/s\n",
      "theta_E: 0.512 arcsec\n"
     ]
    },
    {
     "name": "stdout",
     "output_type": "stream",
     "text": [
      "jam_axi_proj(align='sph', moment='zz') -- elapsed time sec: 0.96\n",
      "analytic_los=0 logistic=0 constant_anisotropy=1\n",
      "No PSF/pixel convolution because sigmapsf=0 pixsize=0\n",
      "inc=64.7; beta[0]=0.0; kappa=1.00; M/L=1.00; BH=0.0; chi2/DOF=nan\n",
      "Total mass MGE (MSun): 1.373e+13\n",
      "\n",
      "sigma_e: 157.45 km/s\n"
     ]
    },
    {
     "name": "stdout",
     "output_type": "stream",
     "text": [
      "theta_E: 0.461 arcsec\n"
     ]
    },
    {
     "name": "stdout",
     "output_type": "stream",
     "text": [
      "jam_axi_proj(align='sph', moment='zz') -- elapsed time sec: 0.90\n",
      "analytic_los=0 logistic=0 constant_anisotropy=1\n",
      "No PSF/pixel convolution because sigmapsf=0 pixsize=0\n",
      "inc=31.8; beta[0]=0.0; kappa=1.00; M/L=1.00; BH=0.0; chi2/DOF=nan\n",
      "Total mass MGE (MSun): 7.937e+12\n",
      "\n",
      "sigma_e: 151.31 km/s\n",
      "theta_E: 0.474 arcsec\n"
     ]
    },
    {
     "name": "stdout",
     "output_type": "stream",
     "text": [
      "jam_axi_proj(align='sph', moment='zz') -- elapsed time sec: 0.88\n",
      "analytic_los=0 logistic=0 constant_anisotropy=1\n",
      "No PSF/pixel convolution because sigmapsf=0 pixsize=0\n",
      "inc=22.6; beta[0]=0.0; kappa=1.00; M/L=1.00; BH=0.0; chi2/DOF=nan\n",
      "Total mass MGE (MSun): 7.937e+12\n",
      "\n",
      "sigma_e: 152.89 km/s\n",
      "theta_E: 0.387 arcsec\n"
     ]
    },
    {
     "name": "stdout",
     "output_type": "stream",
     "text": [
      "jam_axi_proj(align='sph', moment='zz') -- elapsed time sec: 0.97\n",
      "analytic_los=0 logistic=0 constant_anisotropy=1\n",
      "No PSF/pixel convolution because sigmapsf=0 pixsize=0\n",
      "inc=66.1; beta[0]=0.0; kappa=1.00; M/L=1.00; BH=0.0; chi2/DOF=nan\n",
      "Total mass MGE (MSun): 7.937e+12\n",
      "\n",
      "sigma_e: 136.05 km/s\n",
      "theta_E: 0.354 arcsec\n"
     ]
    },
    {
     "name": "stdout",
     "output_type": "stream",
     "text": [
      "jam_axi_proj(align='sph', moment='zz') -- elapsed time sec: 0.97\n",
      "analytic_los=0 logistic=0 constant_anisotropy=1\n",
      "No PSF/pixel convolution because sigmapsf=0 pixsize=0\n",
      "inc=87.2; beta[0]=0.0; kappa=1.00; M/L=1.00; BH=0.0; chi2/DOF=nan\n",
      "Total mass MGE (MSun): 7.937e+12\n",
      "\n",
      "sigma_e: 124.22 km/s\n",
      "theta_E: 0.486 arcsec\n"
     ]
    },
    {
     "name": "stdout",
     "output_type": "stream",
     "text": [
      "jam_axi_proj(align='sph', moment='zz') -- elapsed time sec: 0.88\n",
      "analytic_los=0 logistic=0 constant_anisotropy=1\n",
      "No PSF/pixel convolution because sigmapsf=0 pixsize=0\n",
      "inc=6.52; beta[0]=0.0; kappa=1.00; M/L=1.00; BH=0.0; chi2/DOF=nan\n",
      "Total mass MGE (MSun): 7.937e+12\n",
      "\n",
      "sigma_e: 154.17 km/s\n",
      "theta_E: 0.359 arcsec\n"
     ]
    },
    {
     "name": "stdout",
     "output_type": "stream",
     "text": [
      "jam_axi_proj(align='sph', moment='zz') -- elapsed time sec: 0.97\n",
      "analytic_los=0 logistic=0 constant_anisotropy=1\n",
      "No PSF/pixel convolution because sigmapsf=0 pixsize=0\n",
      "inc=81.5; beta[0]=0.0; kappa=1.00; M/L=1.00; BH=0.0; chi2/DOF=nan\n",
      "Total mass MGE (MSun): 7.937e+12\n",
      "\n",
      "sigma_e: 126.09 km/s\n",
      "theta_E: 0.357 arcsec\n"
     ]
    },
    {
     "name": "stdout",
     "output_type": "stream",
     "text": [
      "jam_axi_proj(align='sph', moment='zz') -- elapsed time sec: 0.95\n",
      "analytic_los=0 logistic=0 constant_anisotropy=1\n",
      "No PSF/pixel convolution because sigmapsf=0 pixsize=0\n",
      "inc=83.7; beta[0]=0.0; kappa=1.00; M/L=1.00; BH=0.0; chi2/DOF=nan\n",
      "Total mass MGE (MSun): 7.937e+12\n",
      "\n",
      "sigma_e: 125.16 km/s\n",
      "theta_E: 0.375 arcsec\n"
     ]
    },
    {
     "name": "stdout",
     "output_type": "stream",
     "text": [
      "jam_axi_proj(align='sph', moment='zz') -- elapsed time sec: 1.05\n",
      "analytic_los=0 logistic=0 constant_anisotropy=1\n",
      "No PSF/pixel convolution because sigmapsf=0 pixsize=0\n",
      "inc=71.4; beta[0]=0.0; kappa=1.00; M/L=1.00; BH=0.0; chi2/DOF=nan\n",
      "Total mass MGE (MSun): 7.937e+12\n",
      "\n",
      "sigma_e: 132.34 km/s\n",
      "theta_E: 0.487 arcsec\n"
     ]
    },
    {
     "name": "stdout",
     "output_type": "stream",
     "text": [
      "jam_axi_proj(align='sph', moment='zz') -- elapsed time sec: 0.93\n",
      "analytic_los=0 logistic=0 constant_anisotropy=1\n",
      "No PSF/pixel convolution because sigmapsf=0 pixsize=0\n",
      "inc=3.79; beta[0]=0.0; kappa=1.00; M/L=1.00; BH=0.0; chi2/DOF=nan\n",
      "Total mass MGE (MSun): 7.937e+12\n",
      "\n",
      "sigma_e: 154.24 km/s\n",
      "theta_E: 0.354 arcsec\n"
     ]
    },
    {
     "name": "stdout",
     "output_type": "stream",
     "text": [
      "jam_axi_proj(align='sph', moment='zz') -- elapsed time sec: 0.98\n",
      "analytic_los=0 logistic=0 constant_anisotropy=1\n",
      "No PSF/pixel convolution because sigmapsf=0 pixsize=0\n",
      "inc=88.9; beta[0]=0.0; kappa=1.00; M/L=1.00; BH=0.0; chi2/DOF=nan\n",
      "Total mass MGE (MSun): 7.937e+12\n",
      "\n",
      "sigma_e: 124.02 km/s\n"
     ]
    },
    {
     "name": "stdout",
     "output_type": "stream",
     "text": [
      "theta_E: 0.449 arcsec\n"
     ]
    },
    {
     "name": "stdout",
     "output_type": "stream",
     "text": [
      "jam_axi_proj(align='sph', moment='zz') -- elapsed time sec: 0.86\n",
      "analytic_los=0 logistic=0 constant_anisotropy=1\n",
      "No PSF/pixel convolution because sigmapsf=0 pixsize=0\n",
      "inc=65.3; beta[0]=0.0; kappa=1.00; M/L=1.00; BH=0.0; chi2/DOF=nan\n",
      "Total mass MGE (MSun): 1.062e+13\n",
      "\n",
      "sigma_e: 147.89 km/s\n",
      "theta_E: 0.442 arcsec\n"
     ]
    },
    {
     "name": "stdout",
     "output_type": "stream",
     "text": [
      "jam_axi_proj(align='sph', moment='zz') -- elapsed time sec: 0.92\n",
      "analytic_los=0 logistic=0 constant_anisotropy=1\n",
      "No PSF/pixel convolution because sigmapsf=0 pixsize=0\n",
      "inc=72.6; beta[0]=0.0; kappa=1.00; M/L=1.00; BH=0.0; chi2/DOF=nan\n",
      "Total mass MGE (MSun): 1.062e+13\n",
      "\n",
      "sigma_e: 146.28 km/s\n",
      "theta_E: 0.435 arcsec\n"
     ]
    },
    {
     "name": "stdout",
     "output_type": "stream",
     "text": [
      "jam_axi_proj(align='sph', moment='zz') -- elapsed time sec: 0.90\n",
      "analytic_los=0 logistic=0 constant_anisotropy=1\n",
      "No PSF/pixel convolution because sigmapsf=0 pixsize=0\n",
      "inc=84.6; beta[0]=0.0; kappa=1.00; M/L=1.00; BH=0.0; chi2/DOF=nan\n",
      "Total mass MGE (MSun): 1.062e+13\n",
      "\n",
      "sigma_e: 144.51 km/s\n",
      "theta_E: 0.460 arcsec\n"
     ]
    },
    {
     "name": "stdout",
     "output_type": "stream",
     "text": [
      "jam_axi_proj(align='sph', moment='zz') -- elapsed time sec: 0.86\n",
      "analytic_los=0 logistic=0 constant_anisotropy=1\n",
      "No PSF/pixel convolution because sigmapsf=0 pixsize=0\n",
      "inc=55.5; beta[0]=0.0; kappa=1.00; M/L=1.00; BH=0.0; chi2/DOF=nan\n",
      "Total mass MGE (MSun): 1.062e+13\n",
      "\n",
      "sigma_e: 150.22 km/s\n",
      "theta_E: 0.477 arcsec\n"
     ]
    },
    {
     "name": "stdout",
     "output_type": "stream",
     "text": [
      "jam_axi_proj(align='sph', moment='zz') -- elapsed time sec: 0.84\n",
      "analytic_los=0 logistic=0 constant_anisotropy=1\n",
      "No PSF/pixel convolution because sigmapsf=0 pixsize=0\n",
      "inc=41.1; beta[0]=0.0; kappa=1.00; M/L=1.00; BH=0.0; chi2/DOF=nan\n",
      "Total mass MGE (MSun): 1.062e+13\n",
      "\n",
      "sigma_e: 153.18 km/s\n",
      "theta_E: 0.435 arcsec\n"
     ]
    },
    {
     "name": "stdout",
     "output_type": "stream",
     "text": [
      "jam_axi_proj(align='sph', moment='zz') -- elapsed time sec: 0.92\n",
      "analytic_los=0 logistic=0 constant_anisotropy=1\n",
      "No PSF/pixel convolution because sigmapsf=0 pixsize=0\n",
      "inc=84.6; beta[0]=0.0; kappa=1.00; M/L=1.00; BH=0.0; chi2/DOF=nan\n",
      "Total mass MGE (MSun): 1.062e+13\n",
      "\n",
      "sigma_e: 144.51 km/s\n",
      "theta_E: 0.455 arcsec\n"
     ]
    },
    {
     "name": "stdout",
     "output_type": "stream",
     "text": [
      "jam_axi_proj(align='sph', moment='zz') -- elapsed time sec: 0.84\n",
      "analytic_los=0 logistic=0 constant_anisotropy=1\n",
      "No PSF/pixel convolution because sigmapsf=0 pixsize=0\n",
      "inc=60.2; beta[0]=0.0; kappa=1.00; M/L=1.00; BH=0.0; chi2/DOF=nan\n",
      "Total mass MGE (MSun): 1.062e+13\n",
      "\n",
      "sigma_e: 149.11 km/s\n",
      "theta_E: 0.436 arcsec\n"
     ]
    },
    {
     "name": "stdout",
     "output_type": "stream",
     "text": [
      "jam_axi_proj(align='sph', moment='zz') -- elapsed time sec: 0.91\n",
      "analytic_los=0 logistic=0 constant_anisotropy=1\n",
      "No PSF/pixel convolution because sigmapsf=0 pixsize=0\n",
      "inc=83.6; beta[0]=0.0; kappa=1.00; M/L=1.00; BH=0.0; chi2/DOF=nan\n",
      "Total mass MGE (MSun): 1.062e+13\n",
      "\n",
      "sigma_e: 144.59 km/s\n",
      "theta_E: 0.435 arcsec\n"
     ]
    },
    {
     "name": "stdout",
     "output_type": "stream",
     "text": [
      "jam_axi_proj(align='sph', moment='zz') -- elapsed time sec: 0.93\n",
      "analytic_los=0 logistic=0 constant_anisotropy=1\n",
      "No PSF/pixel convolution because sigmapsf=0 pixsize=0\n",
      "inc=86.2; beta[0]=0.0; kappa=1.00; M/L=1.00; BH=0.0; chi2/DOF=nan\n",
      "Total mass MGE (MSun): 1.062e+13\n",
      "\n",
      "sigma_e: 144.40 km/s\n",
      "theta_E: 0.452 arcsec\n"
     ]
    },
    {
     "name": "stdout",
     "output_type": "stream",
     "text": [
      "jam_axi_proj(align='sph', moment='zz') -- elapsed time sec: 0.89\n",
      "analytic_los=0 logistic=0 constant_anisotropy=1\n",
      "No PSF/pixel convolution because sigmapsf=0 pixsize=0\n",
      "inc=62.8; beta[0]=0.0; kappa=1.00; M/L=1.00; BH=0.0; chi2/DOF=nan\n",
      "Total mass MGE (MSun): 1.062e+13\n",
      "\n",
      "sigma_e: 148.48 km/s\n"
     ]
    },
    {
     "name": "stdout",
     "output_type": "stream",
     "text": [
      "theta_E: 0.481 arcsec\n"
     ]
    },
    {
     "name": "stdout",
     "output_type": "stream",
     "text": [
      "jam_axi_proj(align='sph', moment='zz') -- elapsed time sec: 0.89\n",
      "analytic_los=0 logistic=0 constant_anisotropy=1\n",
      "No PSF/pixel convolution because sigmapsf=0 pixsize=0\n",
      "inc=53.4; beta[0]=0.0; kappa=1.00; M/L=1.00; BH=0.0; chi2/DOF=nan\n",
      "Total mass MGE (MSun): 1.122e+13\n",
      "\n",
      "sigma_e: 153.80 km/s\n",
      "theta_E: 0.494 arcsec\n"
     ]
    },
    {
     "name": "stdout",
     "output_type": "stream",
     "text": [
      "jam_axi_proj(align='sph', moment='zz') -- elapsed time sec: 0.89\n",
      "analytic_los=0 logistic=0 constant_anisotropy=1\n",
      "No PSF/pixel convolution because sigmapsf=0 pixsize=0\n",
      "inc=46.3; beta[0]=0.0; kappa=1.00; M/L=1.00; BH=0.0; chi2/DOF=nan\n",
      "Total mass MGE (MSun): 1.122e+13\n",
      "\n",
      "sigma_e: 156.06 km/s\n",
      "theta_E: 0.461 arcsec\n"
     ]
    },
    {
     "name": "stdout",
     "output_type": "stream",
     "text": [
      "jam_axi_proj(align='sph', moment='zz') -- elapsed time sec: 0.96\n",
      "analytic_los=0 logistic=0 constant_anisotropy=1\n",
      "No PSF/pixel convolution because sigmapsf=0 pixsize=0\n",
      "inc=65.1; beta[0]=0.0; kappa=1.00; M/L=1.00; BH=0.0; chi2/DOF=nan\n",
      "Total mass MGE (MSun): 1.122e+13\n",
      "\n",
      "sigma_e: 149.46 km/s\n",
      "theta_E: 0.472 arcsec\n"
     ]
    },
    {
     "name": "stdout",
     "output_type": "stream",
     "text": [
      "jam_axi_proj(align='sph', moment='zz') -- elapsed time sec: 0.93\n",
      "analytic_los=0 logistic=0 constant_anisotropy=1\n",
      "No PSF/pixel convolution because sigmapsf=0 pixsize=0\n",
      "inc=58.7; beta[0]=0.0; kappa=1.00; M/L=1.00; BH=0.0; chi2/DOF=nan\n",
      "Total mass MGE (MSun): 1.122e+13\n",
      "\n",
      "sigma_e: 151.94 km/s\n",
      "theta_E: 0.452 arcsec\n"
     ]
    },
    {
     "name": "stdout",
     "output_type": "stream",
     "text": [
      "jam_axi_proj(align='sph', moment='zz') -- elapsed time sec: 0.90\n",
      "analytic_los=0 logistic=0 constant_anisotropy=1\n",
      "No PSF/pixel convolution because sigmapsf=0 pixsize=0\n",
      "inc=71.3; beta[0]=0.0; kappa=1.00; M/L=1.00; BH=0.0; chi2/DOF=nan\n",
      "Total mass MGE (MSun): 1.122e+13\n",
      "\n",
      "sigma_e: 146.98 km/s\n",
      "theta_E: 0.443 arcsec\n"
     ]
    },
    {
     "name": "stdout",
     "output_type": "stream",
     "text": [
      "jam_axi_proj(align='sph', moment='zz') -- elapsed time sec: 0.93\n",
      "analytic_los=0 logistic=0 constant_anisotropy=1\n",
      "No PSF/pixel convolution because sigmapsf=0 pixsize=0\n",
      "inc=78.6; beta[0]=0.0; kappa=1.00; M/L=1.00; BH=0.0; chi2/DOF=nan\n",
      "Total mass MGE (MSun): 1.122e+13\n",
      "\n",
      "sigma_e: 144.55 km/s\n",
      "theta_E: 0.463 arcsec\n"
     ]
    },
    {
     "name": "stdout",
     "output_type": "stream",
     "text": [
      "jam_axi_proj(align='sph', moment='zz') -- elapsed time sec: 0.89\n",
      "analytic_los=0 logistic=0 constant_anisotropy=1\n",
      "No PSF/pixel convolution because sigmapsf=0 pixsize=0\n",
      "inc=64.0; beta[0]=0.0; kappa=1.00; M/L=1.00; BH=0.0; chi2/DOF=nan\n",
      "Total mass MGE (MSun): 1.122e+13\n",
      "\n",
      "sigma_e: 149.87 km/s\n",
      "theta_E: 0.505 arcsec\n"
     ]
    },
    {
     "name": "stdout",
     "output_type": "stream",
     "text": [
      "jam_axi_proj(align='sph', moment='zz') -- elapsed time sec: 0.89\n",
      "analytic_los=0 logistic=0 constant_anisotropy=1\n",
      "No PSF/pixel convolution because sigmapsf=0 pixsize=0\n",
      "inc=39.7; beta[0]=0.0; kappa=1.00; M/L=1.00; BH=0.0; chi2/DOF=nan\n",
      "Total mass MGE (MSun): 1.122e+13\n",
      "\n",
      "sigma_e: 157.75 km/s\n",
      "theta_E: 0.452 arcsec\n"
     ]
    },
    {
     "name": "stdout",
     "output_type": "stream",
     "text": [
      "jam_axi_proj(align='sph', moment='zz') -- elapsed time sec: 0.90\n",
      "analytic_los=0 logistic=0 constant_anisotropy=1\n",
      "No PSF/pixel convolution because sigmapsf=0 pixsize=0\n",
      "inc=71.2; beta[0]=0.0; kappa=1.00; M/L=1.00; BH=0.0; chi2/DOF=nan\n",
      "Total mass MGE (MSun): 1.122e+13\n",
      "\n",
      "sigma_e: 147.01 km/s\n",
      "theta_E: 0.475 arcsec\n"
     ]
    },
    {
     "name": "stdout",
     "output_type": "stream",
     "text": [
      "jam_axi_proj(align='sph', moment='zz') -- elapsed time sec: 0.91\n",
      "analytic_los=0 logistic=0 constant_anisotropy=1\n",
      "No PSF/pixel convolution because sigmapsf=0 pixsize=0\n",
      "inc=56.8; beta[0]=0.0; kappa=1.00; M/L=1.00; BH=0.0; chi2/DOF=nan\n",
      "Total mass MGE (MSun): 1.122e+13\n",
      "\n",
      "sigma_e: 152.64 km/s\n"
     ]
    },
    {
     "name": "stdout",
     "output_type": "stream",
     "text": [
      "theta_E: 0.432 arcsec\n"
     ]
    },
    {
     "name": "stdout",
     "output_type": "stream",
     "text": [
      "jam_axi_proj(align='sph', moment='zz') -- elapsed time sec: 0.98\n",
      "analytic_los=0 logistic=0 constant_anisotropy=1\n",
      "No PSF/pixel convolution because sigmapsf=0 pixsize=0\n",
      "inc=63.4; beta[0]=0.0; kappa=1.00; M/L=1.00; BH=0.0; chi2/DOF=nan\n",
      "Total mass MGE (MSun): 9.610e+12\n",
      "\n",
      "sigma_e: 144.81 km/s\n",
      "theta_E: 0.499 arcsec\n"
     ]
    },
    {
     "name": "stdout",
     "output_type": "stream",
     "text": [
      "jam_axi_proj(align='sph', moment='zz') -- elapsed time sec: 0.91\n",
      "analytic_los=0 logistic=0 constant_anisotropy=1\n",
      "No PSF/pixel convolution because sigmapsf=0 pixsize=0\n",
      "inc=33.1; beta[0]=0.0; kappa=1.00; M/L=1.00; BH=0.0; chi2/DOF=nan\n",
      "Total mass MGE (MSun): 9.610e+12\n",
      "\n",
      "sigma_e: 157.59 km/s\n",
      "theta_E: 0.514 arcsec\n"
     ]
    },
    {
     "name": "stdout",
     "output_type": "stream",
     "text": [
      "jam_axi_proj(align='sph', moment='zz') -- elapsed time sec: 0.89\n",
      "analytic_los=0 logistic=0 constant_anisotropy=1\n",
      "No PSF/pixel convolution because sigmapsf=0 pixsize=0\n",
      "inc=23.4; beta[0]=0.0; kappa=1.00; M/L=1.00; BH=0.0; chi2/DOF=nan\n",
      "Total mass MGE (MSun): 9.610e+12\n",
      "\n",
      "sigma_e: 159.34 km/s\n",
      "theta_E: 0.451 arcsec\n"
     ]
    },
    {
     "name": "stdout",
     "output_type": "stream",
     "text": [
      "jam_axi_proj(align='sph', moment='zz') -- elapsed time sec: 0.96\n",
      "analytic_los=0 logistic=0 constant_anisotropy=1\n",
      "No PSF/pixel convolution because sigmapsf=0 pixsize=0\n",
      "inc=55.2; beta[0]=0.0; kappa=1.00; M/L=1.00; BH=0.0; chi2/DOF=nan\n",
      "Total mass MGE (MSun): 9.610e+12\n",
      "\n",
      "sigma_e: 149.58 km/s\n",
      "theta_E: 0.413 arcsec\n"
     ]
    },
    {
     "name": "stdout",
     "output_type": "stream",
     "text": [
      "jam_axi_proj(align='sph', moment='zz') -- elapsed time sec: 1.00\n",
      "analytic_los=0 logistic=0 constant_anisotropy=1\n",
      "No PSF/pixel convolution because sigmapsf=0 pixsize=0\n",
      "inc=71.6; beta[0]=0.0; kappa=1.00; M/L=1.00; BH=0.0; chi2/DOF=nan\n",
      "Total mass MGE (MSun): 9.610e+12\n",
      "\n",
      "sigma_e: 139.54 km/s\n",
      "theta_E: 0.441 arcsec\n"
     ]
    },
    {
     "name": "stdout",
     "output_type": "stream",
     "text": [
      "jam_axi_proj(align='sph', moment='zz') -- elapsed time sec: 1.04\n",
      "analytic_los=0 logistic=0 constant_anisotropy=1\n",
      "No PSF/pixel convolution because sigmapsf=0 pixsize=0\n",
      "inc=59.6; beta[0]=0.0; kappa=1.00; M/L=1.00; BH=0.0; chi2/DOF=nan\n",
      "Total mass MGE (MSun): 9.610e+12\n",
      "\n",
      "sigma_e: 147.16 km/s\n",
      "theta_E: 0.417 arcsec\n"
     ]
    },
    {
     "name": "stdout",
     "output_type": "stream",
     "text": [
      "jam_axi_proj(align='sph', moment='zz') -- elapsed time sec: 1.05\n",
      "analytic_los=0 logistic=0 constant_anisotropy=1\n",
      "No PSF/pixel convolution because sigmapsf=0 pixsize=0\n",
      "inc=69.9; beta[0]=0.0; kappa=1.00; M/L=1.00; BH=0.0; chi2/DOF=nan\n",
      "Total mass MGE (MSun): 9.610e+12\n",
      "\n",
      "sigma_e: 140.62 km/s\n",
      "theta_E: 0.484 arcsec\n"
     ]
    },
    {
     "name": "stdout",
     "output_type": "stream",
     "text": [
      "jam_axi_proj(align='sph', moment='zz') -- elapsed time sec: 0.94\n",
      "analytic_los=0 logistic=0 constant_anisotropy=1\n",
      "No PSF/pixel convolution because sigmapsf=0 pixsize=0\n",
      "inc=40.8; beta[0]=0.0; kappa=1.00; M/L=1.00; BH=0.0; chi2/DOF=nan\n",
      "Total mass MGE (MSun): 9.610e+12\n",
      "\n",
      "sigma_e: 155.54 km/s\n",
      "theta_E: 0.480 arcsec\n"
     ]
    },
    {
     "name": "stdout",
     "output_type": "stream",
     "text": [
      "jam_axi_proj(align='sph', moment='zz') -- elapsed time sec: 0.97\n",
      "analytic_los=0 logistic=0 constant_anisotropy=1\n",
      "No PSF/pixel convolution because sigmapsf=0 pixsize=0\n",
      "inc=43.1; beta[0]=0.0; kappa=1.00; M/L=1.00; BH=0.0; chi2/DOF=nan\n",
      "Total mass MGE (MSun): 9.610e+12\n",
      "\n",
      "sigma_e: 154.79 km/s\n",
      "theta_E: 0.395 arcsec\n"
     ]
    },
    {
     "name": "stdout",
     "output_type": "stream",
     "text": [
      "jam_axi_proj(align='sph', moment='zz') -- elapsed time sec: 1.02\n",
      "analytic_los=0 logistic=0 constant_anisotropy=1\n",
      "No PSF/pixel convolution because sigmapsf=0 pixsize=0\n",
      "inc=83.8; beta[0]=0.0; kappa=1.00; M/L=1.00; BH=0.0; chi2/DOF=nan\n",
      "Total mass MGE (MSun): 9.610e+12\n",
      "\n",
      "sigma_e: 133.09 km/s\n"
     ]
    },
    {
     "name": "stdout",
     "output_type": "stream",
     "text": [
      "theta_E: 0.456 arcsec\n"
     ]
    },
    {
     "name": "stdout",
     "output_type": "stream",
     "text": [
      "jam_axi_proj(align='sph', moment='zz') -- elapsed time sec: 1.03\n",
      "analytic_los=0 logistic=0 constant_anisotropy=1\n",
      "No PSF/pixel convolution because sigmapsf=0 pixsize=0\n",
      "inc=74.1; beta[0]=0.0; kappa=1.00; M/L=1.00; BH=0.0; chi2/DOF=nan\n",
      "Total mass MGE (MSun): 1.190e+13\n",
      "\n",
      "sigma_e: 145.47 km/s\n",
      "theta_E: 0.477 arcsec\n"
     ]
    },
    {
     "name": "stdout",
     "output_type": "stream",
     "text": [
      "jam_axi_proj(align='sph', moment='zz') -- elapsed time sec: 0.97\n",
      "analytic_los=0 logistic=0 constant_anisotropy=1\n",
      "No PSF/pixel convolution because sigmapsf=0 pixsize=0\n",
      "inc=64.7; beta[0]=0.0; kappa=1.00; M/L=1.00; BH=0.0; chi2/DOF=nan\n",
      "Total mass MGE (MSun): 1.190e+13\n",
      "\n",
      "sigma_e: 151.71 km/s\n",
      "theta_E: 0.513 arcsec\n"
     ]
    },
    {
     "name": "stdout",
     "output_type": "stream",
     "text": [
      "jam_axi_proj(align='sph', moment='zz') -- elapsed time sec: 0.94\n",
      "analytic_los=0 logistic=0 constant_anisotropy=1\n",
      "No PSF/pixel convolution because sigmapsf=0 pixsize=0\n",
      "inc=51.0; beta[0]=0.0; kappa=1.00; M/L=1.00; BH=0.0; chi2/DOF=nan\n",
      "Total mass MGE (MSun): 1.190e+13\n",
      "\n",
      "sigma_e: 159.62 km/s\n",
      "theta_E: 0.578 arcsec\n"
     ]
    },
    {
     "name": "stdout",
     "output_type": "stream",
     "text": [
      "jam_axi_proj(align='sph', moment='zz') -- elapsed time sec: 0.90\n",
      "analytic_los=0 logistic=0 constant_anisotropy=1\n",
      "No PSF/pixel convolution because sigmapsf=0 pixsize=0\n",
      "inc=17.0; beta[0]=0.0; kappa=1.00; M/L=1.00; BH=0.0; chi2/DOF=nan\n",
      "Total mass MGE (MSun): 1.190e+13\n",
      "\n",
      "sigma_e: 168.43 km/s\n",
      "theta_E: 0.454 arcsec\n"
     ]
    },
    {
     "name": "stdout",
     "output_type": "stream",
     "text": [
      "jam_axi_proj(align='sph', moment='zz') -- elapsed time sec: 1.01\n",
      "analytic_los=0 logistic=0 constant_anisotropy=1\n",
      "No PSF/pixel convolution because sigmapsf=0 pixsize=0\n",
      "inc=75.0; beta[0]=0.0; kappa=1.00; M/L=1.00; BH=0.0; chi2/DOF=nan\n",
      "Total mass MGE (MSun): 1.190e+13\n",
      "\n",
      "sigma_e: 144.91 km/s\n",
      "theta_E: 0.464 arcsec\n"
     ]
    },
    {
     "name": "stdout",
     "output_type": "stream",
     "text": [
      "jam_axi_proj(align='sph', moment='zz') -- elapsed time sec: 1.04\n",
      "analytic_los=0 logistic=0 constant_anisotropy=1\n",
      "No PSF/pixel convolution because sigmapsf=0 pixsize=0\n",
      "inc=70.3; beta[0]=0.0; kappa=1.00; M/L=1.00; BH=0.0; chi2/DOF=nan\n",
      "Total mass MGE (MSun): 1.190e+13\n",
      "\n",
      "sigma_e: 147.96 km/s\n",
      "theta_E: 0.575 arcsec\n"
     ]
    },
    {
     "name": "stdout",
     "output_type": "stream",
     "text": [
      "jam_axi_proj(align='sph', moment='zz') -- elapsed time sec: 0.91\n",
      "analytic_los=0 logistic=0 constant_anisotropy=1\n",
      "No PSF/pixel convolution because sigmapsf=0 pixsize=0\n",
      "inc=20.2; beta[0]=0.0; kappa=1.00; M/L=1.00; BH=0.0; chi2/DOF=nan\n",
      "Total mass MGE (MSun): 1.190e+13\n",
      "\n",
      "sigma_e: 168.08 km/s\n",
      "theta_E: 0.565 arcsec\n"
     ]
    },
    {
     "name": "stdout",
     "output_type": "stream",
     "text": [
      "jam_axi_proj(align='sph', moment='zz') -- elapsed time sec: 0.91\n",
      "analytic_los=0 logistic=0 constant_anisotropy=1\n",
      "No PSF/pixel convolution because sigmapsf=0 pixsize=0\n",
      "inc=26.9; beta[0]=0.0; kappa=1.00; M/L=1.00; BH=0.0; chi2/DOF=nan\n",
      "Total mass MGE (MSun): 1.190e+13\n",
      "\n",
      "sigma_e: 167.08 km/s\n",
      "theta_E: 0.459 arcsec\n"
     ]
    },
    {
     "name": "stdout",
     "output_type": "stream",
     "text": [
      "jam_axi_proj(align='sph', moment='zz') -- elapsed time sec: 1.00\n",
      "analytic_los=0 logistic=0 constant_anisotropy=1\n",
      "No PSF/pixel convolution because sigmapsf=0 pixsize=0\n",
      "inc=72.3; beta[0]=0.0; kappa=1.00; M/L=1.00; BH=0.0; chi2/DOF=nan\n",
      "Total mass MGE (MSun): 1.190e+13\n",
      "\n",
      "sigma_e: 146.65 km/s\n",
      "theta_E: 0.451 arcsec\n"
     ]
    },
    {
     "name": "stdout",
     "output_type": "stream",
     "text": [
      "jam_axi_proj(align='sph', moment='zz') -- elapsed time sec: 1.03\n",
      "analytic_los=0 logistic=0 constant_anisotropy=1\n",
      "No PSF/pixel convolution because sigmapsf=0 pixsize=0\n",
      "inc=76.4; beta[0]=0.0; kappa=1.00; M/L=1.00; BH=0.0; chi2/DOF=nan\n",
      "Total mass MGE (MSun): 1.190e+13\n",
      "\n",
      "sigma_e: 144.09 km/s\n"
     ]
    },
    {
     "name": "stdout",
     "output_type": "stream",
     "text": [
      "theta_E: 0.534 arcsec\n"
     ]
    },
    {
     "name": "stdout",
     "output_type": "stream",
     "text": [
      "jam_axi_proj(align='sph', moment='zz') -- elapsed time sec: 0.88\n",
      "analytic_los=0 logistic=0 constant_anisotropy=1\n",
      "No PSF/pixel convolution because sigmapsf=0 pixsize=0\n",
      "inc=36.2; beta[0]=0.0; kappa=1.00; M/L=1.00; BH=0.0; chi2/DOF=nan\n",
      "Total mass MGE (MSun): 1.223e+13\n",
      "\n",
      "sigma_e: 162.43 km/s\n",
      "theta_E: 0.525 arcsec\n"
     ]
    },
    {
     "name": "stdout",
     "output_type": "stream",
     "text": [
      "jam_axi_proj(align='sph', moment='zz') -- elapsed time sec: 0.90\n",
      "analytic_los=0 logistic=0 constant_anisotropy=1\n",
      "No PSF/pixel convolution because sigmapsf=0 pixsize=0\n",
      "inc=41.4; beta[0]=0.0; kappa=1.00; M/L=1.00; BH=0.0; chi2/DOF=nan\n",
      "Total mass MGE (MSun): 1.223e+13\n",
      "\n",
      "sigma_e: 161.22 km/s\n",
      "theta_E: 0.548 arcsec\n"
     ]
    },
    {
     "name": "stdout",
     "output_type": "stream",
     "text": [
      "jam_axi_proj(align='sph', moment='zz') -- elapsed time sec: 0.85\n",
      "analytic_los=0 logistic=0 constant_anisotropy=1\n",
      "No PSF/pixel convolution because sigmapsf=0 pixsize=0\n",
      "inc=26.3; beta[0]=0.0; kappa=1.00; M/L=1.00; BH=0.0; chi2/DOF=nan\n",
      "Total mass MGE (MSun): 1.223e+13\n",
      "\n",
      "sigma_e: 164.14 km/s\n",
      "theta_E: 0.467 arcsec\n"
     ]
    },
    {
     "name": "stdout",
     "output_type": "stream",
     "text": [
      "jam_axi_proj(align='sph', moment='zz') -- elapsed time sec: 0.95\n",
      "analytic_los=0 logistic=0 constant_anisotropy=1\n",
      "No PSF/pixel convolution because sigmapsf=0 pixsize=0\n",
      "inc=74.5; beta[0]=0.0; kappa=1.00; M/L=1.00; BH=0.0; chi2/DOF=nan\n",
      "Total mass MGE (MSun): 1.223e+13\n",
      "\n",
      "sigma_e: 149.25 km/s\n",
      "theta_E: 0.465 arcsec\n"
     ]
    },
    {
     "name": "stdout",
     "output_type": "stream",
     "text": [
      "jam_axi_proj(align='sph', moment='zz') -- elapsed time sec: 0.96\n",
      "analytic_los=0 logistic=0 constant_anisotropy=1\n",
      "No PSF/pixel convolution because sigmapsf=0 pixsize=0\n",
      "inc=76.4; beta[0]=0.0; kappa=1.00; M/L=1.00; BH=0.0; chi2/DOF=nan\n",
      "Total mass MGE (MSun): 1.223e+13\n",
      "\n",
      "sigma_e: 148.58 km/s\n",
      "theta_E: 0.497 arcsec\n"
     ]
    },
    {
     "name": "stdout",
     "output_type": "stream",
     "text": [
      "jam_axi_proj(align='sph', moment='zz') -- elapsed time sec: 0.93\n",
      "analytic_los=0 logistic=0 constant_anisotropy=1\n",
      "No PSF/pixel convolution because sigmapsf=0 pixsize=0\n",
      "inc=56.9; beta[0]=0.0; kappa=1.00; M/L=1.00; BH=0.0; chi2/DOF=nan\n",
      "Total mass MGE (MSun): 1.223e+13\n",
      "\n",
      "sigma_e: 156.25 km/s\n",
      "theta_E: 0.527 arcsec\n"
     ]
    },
    {
     "name": "stdout",
     "output_type": "stream",
     "text": [
      "jam_axi_proj(align='sph', moment='zz') -- elapsed time sec: 0.88\n",
      "analytic_los=0 logistic=0 constant_anisotropy=1\n",
      "No PSF/pixel convolution because sigmapsf=0 pixsize=0\n",
      "inc=40.3; beta[0]=0.0; kappa=1.00; M/L=1.00; BH=0.0; chi2/DOF=nan\n",
      "Total mass MGE (MSun): 1.223e+13\n",
      "\n",
      "sigma_e: 161.50 km/s\n",
      "theta_E: 0.478 arcsec\n"
     ]
    },
    {
     "name": "stdout",
     "output_type": "stream",
     "text": [
      "jam_axi_proj(align='sph', moment='zz') -- elapsed time sec: 0.98\n",
      "analytic_los=0 logistic=0 constant_anisotropy=1\n",
      "No PSF/pixel convolution because sigmapsf=0 pixsize=0\n",
      "inc=67.5; beta[0]=0.0; kappa=1.00; M/L=1.00; BH=0.0; chi2/DOF=nan\n",
      "Total mass MGE (MSun): 1.223e+13\n",
      "\n",
      "sigma_e: 151.98 km/s\n",
      "theta_E: 0.472 arcsec\n"
     ]
    },
    {
     "name": "stdout",
     "output_type": "stream",
     "text": [
      "jam_axi_proj(align='sph', moment='zz') -- elapsed time sec: 0.93\n",
      "analytic_los=0 logistic=0 constant_anisotropy=1\n",
      "No PSF/pixel convolution because sigmapsf=0 pixsize=0\n",
      "inc=70.7; beta[0]=0.0; kappa=1.00; M/L=1.00; BH=0.0; chi2/DOF=nan\n",
      "Total mass MGE (MSun): 1.223e+13\n",
      "\n",
      "sigma_e: 150.68 km/s\n",
      "theta_E: 0.460 arcsec\n"
     ]
    },
    {
     "name": "stdout",
     "output_type": "stream",
     "text": [
      "jam_axi_proj(align='sph', moment='zz') -- elapsed time sec: 0.96\n",
      "analytic_los=0 logistic=0 constant_anisotropy=1\n",
      "No PSF/pixel convolution because sigmapsf=0 pixsize=0\n",
      "inc=81.5; beta[0]=0.0; kappa=1.00; M/L=1.00; BH=0.0; chi2/DOF=nan\n",
      "Total mass MGE (MSun): 1.223e+13\n",
      "\n",
      "sigma_e: 147.14 km/s\n"
     ]
    },
    {
     "name": "stdout",
     "output_type": "stream",
     "text": [
      "theta_E: 0.480 arcsec\n"
     ]
    },
    {
     "name": "stdout",
     "output_type": "stream",
     "text": [
      "jam_axi_proj(align='sph', moment='zz') -- elapsed time sec: 0.93\n",
      "analytic_los=0 logistic=0 constant_anisotropy=1\n",
      "No PSF/pixel convolution because sigmapsf=0 pixsize=0\n",
      "inc=82.3; beta[0]=0.0; kappa=1.00; M/L=1.00; BH=0.0; chi2/DOF=nan\n",
      "Total mass MGE (MSun): 1.300e+13\n",
      "\n",
      "sigma_e: 151.29 km/s\n",
      "theta_E: 0.563 arcsec\n"
     ]
    },
    {
     "name": "stdout",
     "output_type": "stream",
     "text": [
      "jam_axi_proj(align='sph', moment='zz') -- elapsed time sec: 0.81\n",
      "analytic_los=0 logistic=0 constant_anisotropy=1\n",
      "No PSF/pixel convolution because sigmapsf=0 pixsize=0\n",
      "inc=11.8; beta[0]=0.0; kappa=1.00; M/L=1.00; BH=0.0; chi2/DOF=nan\n",
      "Total mass MGE (MSun): 1.300e+13\n",
      "\n",
      "sigma_e: 165.81 km/s\n",
      "theta_E: 0.489 arcsec\n"
     ]
    },
    {
     "name": "stdout",
     "output_type": "stream",
     "text": [
      "jam_axi_proj(align='sph', moment='zz') -- elapsed time sec: 0.90\n",
      "analytic_los=0 logistic=0 constant_anisotropy=1\n",
      "No PSF/pixel convolution because sigmapsf=0 pixsize=0\n",
      "inc=71.7; beta[0]=0.0; kappa=1.00; M/L=1.00; BH=0.0; chi2/DOF=nan\n",
      "Total mass MGE (MSun): 1.300e+13\n",
      "\n",
      "sigma_e: 153.60 km/s\n",
      "theta_E: 0.484 arcsec\n"
     ]
    },
    {
     "name": "stdout",
     "output_type": "stream",
     "text": [
      "jam_axi_proj(align='sph', moment='zz') -- elapsed time sec: 0.94\n",
      "analytic_los=0 logistic=0 constant_anisotropy=1\n",
      "No PSF/pixel convolution because sigmapsf=0 pixsize=0\n",
      "inc=76.3; beta[0]=0.0; kappa=1.00; M/L=1.00; BH=0.0; chi2/DOF=nan\n",
      "Total mass MGE (MSun): 1.300e+13\n",
      "\n",
      "sigma_e: 152.43 km/s\n",
      "theta_E: 0.508 arcsec\n"
     ]
    },
    {
     "name": "stdout",
     "output_type": "stream",
     "text": [
      "jam_axi_proj(align='sph', moment='zz') -- elapsed time sec: 0.87\n",
      "analytic_los=0 logistic=0 constant_anisotropy=1\n",
      "No PSF/pixel convolution because sigmapsf=0 pixsize=0\n",
      "inc=57.9; beta[0]=0.0; kappa=1.00; M/L=1.00; BH=0.0; chi2/DOF=nan\n",
      "Total mass MGE (MSun): 1.300e+13\n",
      "\n",
      "sigma_e: 157.75 km/s\n",
      "theta_E: 0.565 arcsec\n"
     ]
    },
    {
     "name": "stdout",
     "output_type": "stream",
     "text": [
      "jam_axi_proj(align='sph', moment='zz') -- elapsed time sec: 0.82\n",
      "analytic_los=0 logistic=0 constant_anisotropy=1\n",
      "No PSF/pixel convolution because sigmapsf=0 pixsize=0\n",
      "inc=8.48; beta[0]=0.0; kappa=1.00; M/L=1.00; BH=0.0; chi2/DOF=nan\n",
      "Total mass MGE (MSun): 1.300e+13\n",
      "\n",
      "sigma_e: 165.95 km/s\n",
      "theta_E: 0.504 arcsec\n"
     ]
    },
    {
     "name": "stdout",
     "output_type": "stream",
     "text": [
      "jam_axi_proj(align='sph', moment='zz') -- elapsed time sec: 0.89\n",
      "analytic_los=0 logistic=0 constant_anisotropy=1\n",
      "No PSF/pixel convolution because sigmapsf=0 pixsize=0\n",
      "inc=60.0; beta[0]=0.0; kappa=1.00; M/L=1.00; BH=0.0; chi2/DOF=nan\n",
      "Total mass MGE (MSun): 1.300e+13\n",
      "\n",
      "sigma_e: 157.10 km/s\n",
      "theta_E: 0.478 arcsec\n"
     ]
    },
    {
     "name": "stdout",
     "output_type": "stream",
     "text": [
      "jam_axi_proj(align='sph', moment='zz') -- elapsed time sec: 0.93\n",
      "analytic_los=0 logistic=0 constant_anisotropy=1\n",
      "No PSF/pixel convolution because sigmapsf=0 pixsize=0\n",
      "inc=87.6; beta[0]=0.0; kappa=1.00; M/L=1.00; BH=0.0; chi2/DOF=nan\n",
      "Total mass MGE (MSun): 1.300e+13\n",
      "\n",
      "sigma_e: 150.75 km/s\n",
      "theta_E: 0.524 arcsec\n"
     ]
    },
    {
     "name": "stdout",
     "output_type": "stream",
     "text": [
      "jam_axi_proj(align='sph', moment='zz') -- elapsed time sec: 0.85\n",
      "analytic_los=0 logistic=0 constant_anisotropy=1\n",
      "No PSF/pixel convolution because sigmapsf=0 pixsize=0\n",
      "inc=47.5; beta[0]=0.0; kappa=1.00; M/L=1.00; BH=0.0; chi2/DOF=nan\n",
      "Total mass MGE (MSun): 1.300e+13\n",
      "\n",
      "sigma_e: 160.63 km/s\n",
      "theta_E: 0.479 arcsec\n"
     ]
    },
    {
     "name": "stdout",
     "output_type": "stream",
     "text": [
      "jam_axi_proj(align='sph', moment='zz') -- elapsed time sec: 0.94\n",
      "analytic_los=0 logistic=0 constant_anisotropy=1\n",
      "No PSF/pixel convolution because sigmapsf=0 pixsize=0\n",
      "inc=84.7; beta[0]=0.0; kappa=1.00; M/L=1.00; BH=0.0; chi2/DOF=nan\n",
      "Total mass MGE (MSun): 1.300e+13\n",
      "\n",
      "sigma_e: 150.98 km/s\n"
     ]
    },
    {
     "name": "stdout",
     "output_type": "stream",
     "text": [
      "theta_E: 0.461 arcsec\n"
     ]
    },
    {
     "name": "stdout",
     "output_type": "stream",
     "text": [
      "jam_axi_proj(align='sph', moment='zz') -- elapsed time sec: 0.85\n",
      "analytic_los=0 logistic=0 constant_anisotropy=1\n",
      "No PSF/pixel convolution because sigmapsf=0 pixsize=0\n",
      "inc=42.4; beta[0]=0.0; kappa=1.00; M/L=1.00; BH=0.0; chi2/DOF=nan\n",
      "Total mass MGE (MSun): 9.721e+12\n",
      "\n",
      "sigma_e: 150.51 km/s\n",
      "theta_E: 0.412 arcsec\n"
     ]
    },
    {
     "name": "stdout",
     "output_type": "stream",
     "text": [
      "jam_axi_proj(align='sph', moment='zz') -- elapsed time sec: 0.94\n",
      "analytic_los=0 logistic=0 constant_anisotropy=1\n",
      "No PSF/pixel convolution because sigmapsf=0 pixsize=0\n",
      "inc=83.1; beta[0]=0.0; kappa=1.00; M/L=1.00; BH=0.0; chi2/DOF=nan\n",
      "Total mass MGE (MSun): 9.721e+12\n",
      "\n",
      "sigma_e: 139.59 km/s\n",
      "theta_E: 0.468 arcsec\n"
     ]
    },
    {
     "name": "stdout",
     "output_type": "stream",
     "text": [
      "jam_axi_proj(align='sph', moment='zz') -- elapsed time sec: 0.83\n",
      "analytic_los=0 logistic=0 constant_anisotropy=1\n",
      "No PSF/pixel convolution because sigmapsf=0 pixsize=0\n",
      "inc=36.9; beta[0]=0.0; kappa=1.00; M/L=1.00; BH=0.0; chi2/DOF=nan\n",
      "Total mass MGE (MSun): 9.721e+12\n",
      "\n",
      "sigma_e: 151.55 km/s\n",
      "theta_E: 0.414 arcsec\n"
     ]
    },
    {
     "name": "stdout",
     "output_type": "stream",
     "text": [
      "jam_axi_proj(align='sph', moment='zz') -- elapsed time sec: 0.98\n",
      "analytic_los=0 logistic=0 constant_anisotropy=1\n",
      "No PSF/pixel convolution because sigmapsf=0 pixsize=0\n",
      "inc=79.7; beta[0]=0.0; kappa=1.00; M/L=1.00; BH=0.0; chi2/DOF=nan\n",
      "Total mass MGE (MSun): 9.721e+12\n",
      "\n",
      "sigma_e: 140.15 km/s\n",
      "theta_E: 0.411 arcsec\n"
     ]
    },
    {
     "name": "stdout",
     "output_type": "stream",
     "text": [
      "jam_axi_proj(align='sph', moment='zz') -- elapsed time sec: 0.92\n",
      "analytic_los=0 logistic=0 constant_anisotropy=1\n",
      "No PSF/pixel convolution because sigmapsf=0 pixsize=0\n",
      "inc=88.4; beta[0]=0.0; kappa=1.00; M/L=1.00; BH=0.0; chi2/DOF=nan\n",
      "Total mass MGE (MSun): 9.721e+12\n",
      "\n",
      "sigma_e: 139.12 km/s\n",
      "theta_E: 0.428 arcsec\n"
     ]
    },
    {
     "name": "stdout",
     "output_type": "stream",
     "text": [
      "jam_axi_proj(align='sph', moment='zz') -- elapsed time sec: 0.90\n",
      "analytic_los=0 logistic=0 constant_anisotropy=1\n",
      "No PSF/pixel convolution because sigmapsf=0 pixsize=0\n",
      "inc=65.8; beta[0]=0.0; kappa=1.00; M/L=1.00; BH=0.0; chi2/DOF=nan\n",
      "Total mass MGE (MSun): 9.721e+12\n",
      "\n",
      "sigma_e: 143.93 km/s\n",
      "theta_E: 0.431 arcsec\n"
     ]
    },
    {
     "name": "stdout",
     "output_type": "stream",
     "text": [
      "jam_axi_proj(align='sph', moment='zz') -- elapsed time sec: 0.90\n",
      "analytic_los=0 logistic=0 constant_anisotropy=1\n",
      "No PSF/pixel convolution because sigmapsf=0 pixsize=0\n",
      "inc=63.5; beta[0]=0.0; kappa=1.00; M/L=1.00; BH=0.0; chi2/DOF=nan\n",
      "Total mass MGE (MSun): 9.721e+12\n",
      "\n",
      "sigma_e: 144.63 km/s\n",
      "theta_E: 0.442 arcsec\n"
     ]
    },
    {
     "name": "stdout",
     "output_type": "stream",
     "text": [
      "jam_axi_proj(align='sph', moment='zz') -- elapsed time sec: 0.91\n",
      "analytic_los=0 logistic=0 constant_anisotropy=1\n",
      "No PSF/pixel convolution because sigmapsf=0 pixsize=0\n",
      "inc=55.8; beta[0]=0.0; kappa=1.00; M/L=1.00; BH=0.0; chi2/DOF=nan\n",
      "Total mass MGE (MSun): 9.721e+12\n",
      "\n",
      "sigma_e: 146.99 km/s\n",
      "theta_E: 0.483 arcsec\n"
     ]
    },
    {
     "name": "stdout",
     "output_type": "stream",
     "text": [
      "jam_axi_proj(align='sph', moment='zz') -- elapsed time sec: 0.82\n",
      "analytic_los=0 logistic=0 constant_anisotropy=1\n",
      "No PSF/pixel convolution because sigmapsf=0 pixsize=0\n",
      "inc=22.1; beta[0]=0.0; kappa=1.00; M/L=1.00; BH=0.0; chi2/DOF=nan\n",
      "Total mass MGE (MSun): 9.721e+12\n",
      "\n",
      "sigma_e: 153.61 km/s\n",
      "theta_E: 0.435 arcsec\n"
     ]
    },
    {
     "name": "stdout",
     "output_type": "stream",
     "text": [
      "jam_axi_proj(align='sph', moment='zz') -- elapsed time sec: 0.89\n",
      "analytic_los=0 logistic=0 constant_anisotropy=1\n",
      "No PSF/pixel convolution because sigmapsf=0 pixsize=0\n",
      "inc=60.3; beta[0]=0.0; kappa=1.00; M/L=1.00; BH=0.0; chi2/DOF=nan\n",
      "Total mass MGE (MSun): 9.721e+12\n",
      "\n",
      "sigma_e: 145.64 km/s\n"
     ]
    },
    {
     "name": "stdout",
     "output_type": "stream",
     "text": [
      "theta_E: 0.346 arcsec\n"
     ]
    },
    {
     "name": "stdout",
     "output_type": "stream",
     "text": [
      "jam_axi_proj(align='sph', moment='zz') -- elapsed time sec: 0.97\n",
      "analytic_los=0 logistic=0 constant_anisotropy=1\n",
      "No PSF/pixel convolution because sigmapsf=0 pixsize=0\n",
      "inc=83.9; beta[0]=0.0; kappa=1.00; M/L=1.00; BH=0.0; chi2/DOF=nan\n",
      "Total mass MGE (MSun): 7.485e+12\n",
      "\n",
      "sigma_e: 124.84 km/s\n",
      "theta_E: 0.431 arcsec\n"
     ]
    },
    {
     "name": "stdout",
     "output_type": "stream",
     "text": [
      "jam_axi_proj(align='sph', moment='zz') -- elapsed time sec: 0.94\n",
      "analytic_los=0 logistic=0 constant_anisotropy=1\n",
      "No PSF/pixel convolution because sigmapsf=0 pixsize=0\n",
      "inc=41.4; beta[0]=0.0; kappa=1.00; M/L=1.00; BH=0.0; chi2/DOF=nan\n",
      "Total mass MGE (MSun): 7.485e+12\n",
      "\n",
      "sigma_e: 147.40 km/s\n",
      "theta_E: 0.348 arcsec\n"
     ]
    },
    {
     "name": "stdout",
     "output_type": "stream",
     "text": [
      "jam_axi_proj(align='sph', moment='zz') -- elapsed time sec: 0.96\n",
      "analytic_los=0 logistic=0 constant_anisotropy=1\n",
      "No PSF/pixel convolution because sigmapsf=0 pixsize=0\n",
      "inc=81.2; beta[0]=0.0; kappa=1.00; M/L=1.00; BH=0.0; chi2/DOF=nan\n",
      "Total mass MGE (MSun): 7.485e+12\n",
      "\n",
      "sigma_e: 125.93 km/s\n",
      "theta_E: 0.357 arcsec\n"
     ]
    },
    {
     "name": "stdout",
     "output_type": "stream",
     "text": [
      "jam_axi_proj(align='sph', moment='zz') -- elapsed time sec: 1.03\n",
      "analytic_los=0 logistic=0 constant_anisotropy=1\n",
      "No PSF/pixel convolution because sigmapsf=0 pixsize=0\n",
      "inc=75.3; beta[0]=0.0; kappa=1.00; M/L=1.00; BH=0.0; chi2/DOF=nan\n",
      "Total mass MGE (MSun): 7.485e+12\n",
      "\n",
      "sigma_e: 129.15 km/s\n",
      "theta_E: 0.451 arcsec\n"
     ]
    },
    {
     "name": "stdout",
     "output_type": "stream",
     "text": [
      "jam_axi_proj(align='sph', moment='zz') -- elapsed time sec: 0.91\n",
      "analytic_los=0 logistic=0 constant_anisotropy=1\n",
      "No PSF/pixel convolution because sigmapsf=0 pixsize=0\n",
      "inc=29.7; beta[0]=0.0; kappa=1.00; M/L=1.00; BH=0.0; chi2/DOF=nan\n",
      "Total mass MGE (MSun): 7.485e+12\n",
      "\n",
      "sigma_e: 150.18 km/s\n",
      "theta_E: 0.375 arcsec\n"
     ]
    },
    {
     "name": "stdout",
     "output_type": "stream",
     "text": [
      "jam_axi_proj(align='sph', moment='zz') -- elapsed time sec: 1.00\n",
      "analytic_los=0 logistic=0 constant_anisotropy=1\n",
      "No PSF/pixel convolution because sigmapsf=0 pixsize=0\n",
      "inc=66.5; beta[0]=0.0; kappa=1.00; M/L=1.00; BH=0.0; chi2/DOF=nan\n",
      "Total mass MGE (MSun): 7.485e+12\n",
      "\n",
      "sigma_e: 135.03 km/s\n",
      "theta_E: 0.445 arcsec\n"
     ]
    },
    {
     "name": "stdout",
     "output_type": "stream",
     "text": [
      "jam_axi_proj(align='sph', moment='zz') -- elapsed time sec: 0.94\n",
      "analytic_los=0 logistic=0 constant_anisotropy=1\n",
      "No PSF/pixel convolution because sigmapsf=0 pixsize=0\n",
      "inc=33.6; beta[0]=0.0; kappa=1.00; M/L=1.00; BH=0.0; chi2/DOF=nan\n",
      "Total mass MGE (MSun): 7.485e+12\n",
      "\n",
      "sigma_e: 149.42 km/s\n",
      "theta_E: 0.351 arcsec\n"
     ]
    },
    {
     "name": "stdout",
     "output_type": "stream",
     "text": [
      "jam_axi_proj(align='sph', moment='zz') -- elapsed time sec: 1.00\n",
      "analytic_los=0 logistic=0 constant_anisotropy=1\n",
      "No PSF/pixel convolution because sigmapsf=0 pixsize=0\n",
      "inc=78.8; beta[0]=0.0; kappa=1.00; M/L=1.00; BH=0.0; chi2/DOF=nan\n",
      "Total mass MGE (MSun): 7.485e+12\n",
      "\n",
      "sigma_e: 127.11 km/s\n",
      "theta_E: 0.415 arcsec\n"
     ]
    },
    {
     "name": "stdout",
     "output_type": "stream",
     "text": [
      "jam_axi_proj(align='sph', moment='zz') -- elapsed time sec: 0.94\n",
      "analytic_los=0 logistic=0 constant_anisotropy=1\n",
      "No PSF/pixel convolution because sigmapsf=0 pixsize=0\n",
      "inc=49.0; beta[0]=0.0; kappa=1.00; M/L=1.00; BH=0.0; chi2/DOF=nan\n",
      "Total mass MGE (MSun): 7.485e+12\n",
      "\n",
      "sigma_e: 144.69 km/s\n",
      "theta_E: 0.353 arcsec\n"
     ]
    },
    {
     "name": "stdout",
     "output_type": "stream",
     "text": [
      "jam_axi_proj(align='sph', moment='zz') -- elapsed time sec: 1.00\n",
      "analytic_los=0 logistic=0 constant_anisotropy=1\n",
      "No PSF/pixel convolution because sigmapsf=0 pixsize=0\n",
      "inc=77.6; beta[0]=0.0; kappa=1.00; M/L=1.00; BH=0.0; chi2/DOF=nan\n",
      "Total mass MGE (MSun): 7.485e+12\n",
      "\n",
      "sigma_e: 127.81 km/s\n"
     ]
    },
    {
     "name": "stdout",
     "output_type": "stream",
     "text": [
      "theta_E: 0.411 arcsec\n"
     ]
    },
    {
     "name": "stdout",
     "output_type": "stream",
     "text": [
      "jam_axi_proj(align='sph', moment='zz') -- elapsed time sec: 0.92\n",
      "analytic_los=0 logistic=0 constant_anisotropy=1\n",
      "No PSF/pixel convolution because sigmapsf=0 pixsize=0\n",
      "inc=47.7; beta[0]=0.0; kappa=1.00; M/L=1.00; BH=0.0; chi2/DOF=nan\n",
      "Total mass MGE (MSun): 7.582e+12\n",
      "\n",
      "sigma_e: 143.03 km/s\n",
      "theta_E: 0.410 arcsec\n"
     ]
    },
    {
     "name": "stdout",
     "output_type": "stream",
     "text": [
      "jam_axi_proj(align='sph', moment='zz') -- elapsed time sec: 0.93\n",
      "analytic_los=0 logistic=0 constant_anisotropy=1\n",
      "No PSF/pixel convolution because sigmapsf=0 pixsize=0\n",
      "inc=48.2; beta[0]=0.0; kappa=1.00; M/L=1.00; BH=0.0; chi2/DOF=nan\n",
      "Total mass MGE (MSun): 7.582e+12\n",
      "\n",
      "sigma_e: 142.86 km/s\n",
      "theta_E: 0.426 arcsec\n"
     ]
    },
    {
     "name": "stdout",
     "output_type": "stream",
     "text": [
      "jam_axi_proj(align='sph', moment='zz') -- elapsed time sec: 0.90\n",
      "analytic_los=0 logistic=0 constant_anisotropy=1\n",
      "No PSF/pixel convolution because sigmapsf=0 pixsize=0\n",
      "inc=39.1; beta[0]=0.0; kappa=1.00; M/L=1.00; BH=0.0; chi2/DOF=nan\n",
      "Total mass MGE (MSun): 7.582e+12\n",
      "\n",
      "sigma_e: 145.56 km/s\n",
      "theta_E: 0.356 arcsec\n"
     ]
    },
    {
     "name": "stdout",
     "output_type": "stream",
     "text": [
      "jam_axi_proj(align='sph', moment='zz') -- elapsed time sec: 1.02\n",
      "analytic_los=0 logistic=0 constant_anisotropy=1\n",
      "No PSF/pixel convolution because sigmapsf=0 pixsize=0\n",
      "inc=81.2; beta[0]=0.0; kappa=1.00; M/L=1.00; BH=0.0; chi2/DOF=nan\n",
      "Total mass MGE (MSun): 7.582e+12\n",
      "\n",
      "sigma_e: 128.10 km/s\n",
      "theta_E: 0.441 arcsec\n"
     ]
    },
    {
     "name": "stdout",
     "output_type": "stream",
     "text": [
      "jam_axi_proj(align='sph', moment='zz') -- elapsed time sec: 0.90\n",
      "analytic_los=0 logistic=0 constant_anisotropy=1\n",
      "No PSF/pixel convolution because sigmapsf=0 pixsize=0\n",
      "inc=28.3; beta[0]=0.0; kappa=1.00; M/L=1.00; BH=0.0; chi2/DOF=nan\n",
      "Total mass MGE (MSun): 7.582e+12\n",
      "\n",
      "sigma_e: 147.74 km/s\n",
      "theta_E: 0.370 arcsec\n"
     ]
    },
    {
     "name": "stdout",
     "output_type": "stream",
     "text": [
      "jam_axi_proj(align='sph', moment='zz') -- elapsed time sec: 1.06\n",
      "analytic_los=0 logistic=0 constant_anisotropy=1\n",
      "No PSF/pixel convolution because sigmapsf=0 pixsize=0\n",
      "inc=69.9; beta[0]=0.0; kappa=1.00; M/L=1.00; BH=0.0; chi2/DOF=nan\n",
      "Total mass MGE (MSun): 7.582e+12\n",
      "\n",
      "sigma_e: 133.02 km/s\n",
      "theta_E: 0.364 arcsec\n"
     ]
    },
    {
     "name": "stdout",
     "output_type": "stream",
     "text": [
      "jam_axi_proj(align='sph', moment='zz') -- elapsed time sec: 1.02\n",
      "analytic_los=0 logistic=0 constant_anisotropy=1\n",
      "No PSF/pixel convolution because sigmapsf=0 pixsize=0\n",
      "inc=74.0; beta[0]=0.0; kappa=1.00; M/L=1.00; BH=0.0; chi2/DOF=nan\n",
      "Total mass MGE (MSun): 7.582e+12\n",
      "\n",
      "sigma_e: 131.00 km/s\n",
      "theta_E: 0.352 arcsec\n"
     ]
    },
    {
     "name": "stdout",
     "output_type": "stream",
     "text": [
      "jam_axi_proj(align='sph', moment='zz') -- elapsed time sec: 1.05\n",
      "analytic_los=0 logistic=0 constant_anisotropy=1\n",
      "No PSF/pixel convolution because sigmapsf=0 pixsize=0\n",
      "inc=88.2; beta[0]=0.0; kappa=1.00; M/L=1.00; BH=0.0; chi2/DOF=nan\n",
      "Total mass MGE (MSun): 7.582e+12\n",
      "\n",
      "sigma_e: 126.66 km/s\n",
      "theta_E: 0.390 arcsec\n"
     ]
    },
    {
     "name": "stdout",
     "output_type": "stream",
     "text": [
      "jam_axi_proj(align='sph', moment='zz') -- elapsed time sec: 0.93\n",
      "analytic_los=0 logistic=0 constant_anisotropy=1\n",
      "No PSF/pixel convolution because sigmapsf=0 pixsize=0\n",
      "inc=58.6; beta[0]=0.0; kappa=1.00; M/L=1.00; BH=0.0; chi2/DOF=nan\n",
      "Total mass MGE (MSun): 7.582e+12\n",
      "\n",
      "sigma_e: 138.65 km/s\n",
      "theta_E: 0.430 arcsec\n"
     ]
    },
    {
     "name": "stdout",
     "output_type": "stream",
     "text": [
      "jam_axi_proj(align='sph', moment='zz') -- elapsed time sec: 0.91\n",
      "analytic_los=0 logistic=0 constant_anisotropy=1\n",
      "No PSF/pixel convolution because sigmapsf=0 pixsize=0\n",
      "inc=36.1; beta[0]=0.0; kappa=1.00; M/L=1.00; BH=0.0; chi2/DOF=nan\n",
      "Total mass MGE (MSun): 7.582e+12\n",
      "\n",
      "sigma_e: 146.25 km/s\n"
     ]
    },
    {
     "name": "stdout",
     "output_type": "stream",
     "text": [
      "theta_E: 0.546 arcsec\n"
     ]
    },
    {
     "name": "stdout",
     "output_type": "stream",
     "text": [
      "jam_axi_proj(align='sph', moment='zz') -- elapsed time sec: 1.01\n",
      "analytic_los=0 logistic=0 constant_anisotropy=1\n",
      "No PSF/pixel convolution because sigmapsf=0 pixsize=0\n",
      "inc=72.2; beta[0]=0.0; kappa=1.00; M/L=1.00; BH=0.0; chi2/DOF=nan\n",
      "Total mass MGE (MSun): 1.676e+13\n",
      "\n",
      "sigma_e: 159.47 km/s\n",
      "theta_E: 0.520 arcsec\n"
     ]
    },
    {
     "name": "stdout",
     "output_type": "stream",
     "text": [
      "jam_axi_proj(align='sph', moment='zz') -- elapsed time sec: 0.98\n",
      "analytic_los=0 logistic=0 constant_anisotropy=1\n",
      "No PSF/pixel convolution because sigmapsf=0 pixsize=0\n",
      "inc=88.8; beta[0]=0.0; kappa=1.00; M/L=1.00; BH=0.0; chi2/DOF=nan\n",
      "Total mass MGE (MSun): 1.676e+13\n",
      "\n",
      "sigma_e: 151.34 km/s\n",
      "theta_E: 0.525 arcsec\n"
     ]
    },
    {
     "name": "stdout",
     "output_type": "stream",
     "text": [
      "jam_axi_proj(align='sph', moment='zz') -- elapsed time sec: 0.96\n",
      "analytic_los=0 logistic=0 constant_anisotropy=1\n",
      "No PSF/pixel convolution because sigmapsf=0 pixsize=0\n",
      "inc=82.8; beta[0]=0.0; kappa=1.00; M/L=1.00; BH=0.0; chi2/DOF=nan\n",
      "Total mass MGE (MSun): 1.676e+13\n",
      "\n",
      "sigma_e: 152.88 km/s\n",
      "theta_E: 0.533 arcsec\n"
     ]
    },
    {
     "name": "stdout",
     "output_type": "stream",
     "text": [
      "jam_axi_proj(align='sph', moment='zz') -- elapsed time sec: 1.03\n",
      "analytic_los=0 logistic=0 constant_anisotropy=1\n",
      "No PSF/pixel convolution because sigmapsf=0 pixsize=0\n",
      "inc=77.8; beta[0]=0.0; kappa=1.00; M/L=1.00; BH=0.0; chi2/DOF=nan\n",
      "Total mass MGE (MSun): 1.676e+13\n",
      "\n",
      "sigma_e: 155.57 km/s\n",
      "theta_E: 0.545 arcsec\n"
     ]
    },
    {
     "name": "stdout",
     "output_type": "stream",
     "text": [
      "jam_axi_proj(align='sph', moment='zz') -- elapsed time sec: 1.04\n",
      "analytic_los=0 logistic=0 constant_anisotropy=1\n",
      "No PSF/pixel convolution because sigmapsf=0 pixsize=0\n",
      "inc=72.6; beta[0]=0.0; kappa=1.00; M/L=1.00; BH=0.0; chi2/DOF=nan\n",
      "Total mass MGE (MSun): 1.676e+13\n",
      "\n",
      "sigma_e: 159.19 km/s\n",
      "theta_E: 0.564 arcsec\n"
     ]
    },
    {
     "name": "stdout",
     "output_type": "stream",
     "text": [
      "jam_axi_proj(align='sph', moment='zz') -- elapsed time sec: 1.04\n",
      "analytic_los=0 logistic=0 constant_anisotropy=1\n",
      "No PSF/pixel convolution because sigmapsf=0 pixsize=0\n",
      "inc=66.1; beta[0]=0.0; kappa=1.00; M/L=1.00; BH=0.0; chi2/DOF=nan\n",
      "Total mass MGE (MSun): 1.676e+13\n",
      "\n",
      "sigma_e: 164.10 km/s\n",
      "theta_E: 0.689 arcsec\n"
     ]
    },
    {
     "name": "stdout",
     "output_type": "stream",
     "text": [
      "jam_axi_proj(align='sph', moment='zz') -- elapsed time sec: 0.93\n",
      "analytic_los=0 logistic=0 constant_anisotropy=1\n",
      "No PSF/pixel convolution because sigmapsf=0 pixsize=0\n",
      "inc=17.9; beta[0]=0.0; kappa=1.00; M/L=1.00; BH=0.0; chi2/DOF=nan\n",
      "Total mass MGE (MSun): 1.676e+13\n",
      "\n",
      "sigma_e: 183.66 km/s\n",
      "theta_E: 0.551 arcsec\n"
     ]
    },
    {
     "name": "stdout",
     "output_type": "stream",
     "text": [
      "jam_axi_proj(align='sph', moment='zz') -- elapsed time sec: 1.06\n",
      "analytic_los=0 logistic=0 constant_anisotropy=1\n",
      "No PSF/pixel convolution because sigmapsf=0 pixsize=0\n",
      "inc=70.5; beta[0]=0.0; kappa=1.00; M/L=1.00; BH=0.0; chi2/DOF=nan\n",
      "Total mass MGE (MSun): 1.676e+13\n",
      "\n",
      "sigma_e: 160.76 km/s\n",
      "theta_E: 0.566 arcsec\n"
     ]
    },
    {
     "name": "stdout",
     "output_type": "stream",
     "text": [
      "jam_axi_proj(align='sph', moment='zz') -- elapsed time sec: 1.00\n",
      "analytic_los=0 logistic=0 constant_anisotropy=1\n",
      "No PSF/pixel convolution because sigmapsf=0 pixsize=0\n",
      "inc=65.2; beta[0]=0.0; kappa=1.00; M/L=1.00; BH=0.0; chi2/DOF=nan\n",
      "Total mass MGE (MSun): 1.676e+13\n",
      "\n",
      "sigma_e: 164.75 km/s\n",
      "theta_E: 0.531 arcsec\n"
     ]
    },
    {
     "name": "stdout",
     "output_type": "stream",
     "text": [
      "jam_axi_proj(align='sph', moment='zz') -- elapsed time sec: 1.06\n",
      "analytic_los=0 logistic=0 constant_anisotropy=1\n",
      "No PSF/pixel convolution because sigmapsf=0 pixsize=0\n",
      "inc=79.2; beta[0]=0.0; kappa=1.00; M/L=1.00; BH=0.0; chi2/DOF=nan\n",
      "Total mass MGE (MSun): 1.676e+13\n",
      "\n",
      "sigma_e: 154.72 km/s\n"
     ]
    },
    {
     "name": "stdout",
     "output_type": "stream",
     "text": [
      "theta_E: 0.397 arcsec\n"
     ]
    },
    {
     "name": "stdout",
     "output_type": "stream",
     "text": [
      "jam_axi_proj(align='sph', moment='zz') -- elapsed time sec: 0.79\n",
      "analytic_los=0 logistic=0 constant_anisotropy=1\n",
      "No PSF/pixel convolution because sigmapsf=0 pixsize=0\n",
      "inc=21.5; beta[0]=0.0; kappa=1.00; M/L=1.00; BH=0.0; chi2/DOF=nan\n",
      "Total mass MGE (MSun): 6.900e+12\n",
      "\n",
      "sigma_e: 139.32 km/s\n",
      "theta_E: 0.350 arcsec\n"
     ]
    },
    {
     "name": "stdout",
     "output_type": "stream",
     "text": [
      "jam_axi_proj(align='sph', moment='zz') -- elapsed time sec: 0.90\n",
      "analytic_los=0 logistic=0 constant_anisotropy=1\n",
      "No PSF/pixel convolution because sigmapsf=0 pixsize=0\n",
      "inc=87.1; beta[0]=0.0; kappa=1.00; M/L=1.00; BH=0.0; chi2/DOF=nan\n",
      "Total mass MGE (MSun): 6.900e+12\n",
      "\n",
      "sigma_e: 129.70 km/s\n",
      "theta_E: 0.402 arcsec\n"
     ]
    },
    {
     "name": "stdout",
     "output_type": "stream",
     "text": [
      "jam_axi_proj(align='sph', moment='zz') -- elapsed time sec: 0.78\n",
      "analytic_los=0 logistic=0 constant_anisotropy=1\n",
      "No PSF/pixel convolution because sigmapsf=0 pixsize=0\n",
      "inc=6.06; beta[0]=0.0; kappa=1.00; M/L=1.00; BH=0.0; chi2/DOF=nan\n",
      "Total mass MGE (MSun): 6.900e+12\n",
      "\n",
      "sigma_e: 140.04 km/s\n",
      "theta_E: 0.381 arcsec\n"
     ]
    },
    {
     "name": "stdout",
     "output_type": "stream",
     "text": [
      "jam_axi_proj(align='sph', moment='zz') -- elapsed time sec: 0.84\n",
      "analytic_los=0 logistic=0 constant_anisotropy=1\n",
      "No PSF/pixel convolution because sigmapsf=0 pixsize=0\n",
      "inc=43.3; beta[0]=0.0; kappa=1.00; M/L=1.00; BH=0.0; chi2/DOF=nan\n",
      "Total mass MGE (MSun): 6.900e+12\n",
      "\n",
      "sigma_e: 136.78 km/s\n",
      "theta_E: 0.394 arcsec\n"
     ]
    },
    {
     "name": "stdout",
     "output_type": "stream",
     "text": [
      "jam_axi_proj(align='sph', moment='zz') -- elapsed time sec: 0.82\n",
      "analytic_los=0 logistic=0 constant_anisotropy=1\n",
      "No PSF/pixel convolution because sigmapsf=0 pixsize=0\n",
      "inc=26.4; beta[0]=0.0; kappa=1.00; M/L=1.00; BH=0.0; chi2/DOF=nan\n",
      "Total mass MGE (MSun): 6.900e+12\n",
      "\n",
      "sigma_e: 138.90 km/s\n",
      "theta_E: 0.350 arcsec\n"
     ]
    },
    {
     "name": "stdout",
     "output_type": "stream",
     "text": [
      "jam_axi_proj(align='sph', moment='zz') -- elapsed time sec: 0.90\n",
      "analytic_los=0 logistic=0 constant_anisotropy=1\n",
      "No PSF/pixel convolution because sigmapsf=0 pixsize=0\n",
      "inc=88.0; beta[0]=0.0; kappa=1.00; M/L=1.00; BH=0.0; chi2/DOF=nan\n",
      "Total mass MGE (MSun): 6.900e+12\n",
      "\n",
      "sigma_e: 129.67 km/s\n",
      "theta_E: 0.374 arcsec\n"
     ]
    },
    {
     "name": "stdout",
     "output_type": "stream",
     "text": [
      "jam_axi_proj(align='sph', moment='zz') -- elapsed time sec: 0.84\n",
      "analytic_los=0 logistic=0 constant_anisotropy=1\n",
      "No PSF/pixel convolution because sigmapsf=0 pixsize=0\n",
      "inc=50.0; beta[0]=0.0; kappa=1.00; M/L=1.00; BH=0.0; chi2/DOF=nan\n",
      "Total mass MGE (MSun): 6.900e+12\n",
      "\n",
      "sigma_e: 135.66 km/s\n",
      "theta_E: 0.352 arcsec\n"
     ]
    },
    {
     "name": "stdout",
     "output_type": "stream",
     "text": [
      "jam_axi_proj(align='sph', moment='zz') -- elapsed time sec: 0.91\n",
      "analytic_los=0 logistic=0 constant_anisotropy=1\n",
      "No PSF/pixel convolution because sigmapsf=0 pixsize=0\n",
      "inc=81.1; beta[0]=0.0; kappa=1.00; M/L=1.00; BH=0.0; chi2/DOF=nan\n",
      "Total mass MGE (MSun): 6.900e+12\n",
      "\n",
      "sigma_e: 130.12 km/s\n",
      "theta_E: 0.380 arcsec\n"
     ]
    },
    {
     "name": "stdout",
     "output_type": "stream",
     "text": [
      "jam_axi_proj(align='sph', moment='zz') -- elapsed time sec: 0.83\n",
      "analytic_los=0 logistic=0 constant_anisotropy=1\n",
      "No PSF/pixel convolution because sigmapsf=0 pixsize=0\n",
      "inc=43.5; beta[0]=0.0; kappa=1.00; M/L=1.00; BH=0.0; chi2/DOF=nan\n",
      "Total mass MGE (MSun): 6.900e+12\n",
      "\n",
      "sigma_e: 136.76 km/s\n",
      "theta_E: 0.359 arcsec\n"
     ]
    },
    {
     "name": "stdout",
     "output_type": "stream",
     "text": [
      "jam_axi_proj(align='sph', moment='zz') -- elapsed time sec: 0.91\n",
      "analytic_los=0 logistic=0 constant_anisotropy=1\n",
      "No PSF/pixel convolution because sigmapsf=0 pixsize=0\n",
      "inc=67.9; beta[0]=0.0; kappa=1.00; M/L=1.00; BH=0.0; chi2/DOF=nan\n",
      "Total mass MGE (MSun): 6.900e+12\n",
      "\n",
      "sigma_e: 132.15 km/s\n"
     ]
    },
    {
     "name": "stdout",
     "output_type": "stream",
     "text": [
      "theta_E: 0.457 arcsec\n"
     ]
    },
    {
     "name": "stdout",
     "output_type": "stream",
     "text": [
      "jam_axi_proj(align='sph', moment='zz') -- elapsed time sec: 0.94\n",
      "analytic_los=0 logistic=0 constant_anisotropy=1\n",
      "No PSF/pixel convolution because sigmapsf=0 pixsize=0\n",
      "inc=59.4; beta[0]=0.0; kappa=1.00; M/L=1.00; BH=0.0; chi2/DOF=nan\n",
      "Total mass MGE (MSun): 1.036e+13\n",
      "\n",
      "sigma_e: 149.61 km/s\n",
      "theta_E: 0.428 arcsec\n"
     ]
    },
    {
     "name": "stdout",
     "output_type": "stream",
     "text": [
      "jam_axi_proj(align='sph', moment='zz') -- elapsed time sec: 0.97\n",
      "analytic_los=0 logistic=0 constant_anisotropy=1\n",
      "No PSF/pixel convolution because sigmapsf=0 pixsize=0\n",
      "inc=72.6; beta[0]=0.0; kappa=1.00; M/L=1.00; BH=0.0; chi2/DOF=nan\n",
      "Total mass MGE (MSun): 1.036e+13\n",
      "\n",
      "sigma_e: 141.56 km/s\n",
      "theta_E: 0.454 arcsec\n"
     ]
    },
    {
     "name": "stdout",
     "output_type": "stream",
     "text": [
      "jam_axi_proj(align='sph', moment='zz') -- elapsed time sec: 0.93\n",
      "analytic_los=0 logistic=0 constant_anisotropy=1\n",
      "No PSF/pixel convolution because sigmapsf=0 pixsize=0\n",
      "inc=60.7; beta[0]=0.0; kappa=1.00; M/L=1.00; BH=0.0; chi2/DOF=nan\n",
      "Total mass MGE (MSun): 1.036e+13\n",
      "\n",
      "sigma_e: 148.90 km/s\n",
      "theta_E: 0.419 arcsec\n"
     ]
    },
    {
     "name": "stdout",
     "output_type": "stream",
     "text": [
      "jam_axi_proj(align='sph', moment='zz') -- elapsed time sec: 0.98\n",
      "analytic_los=0 logistic=0 constant_anisotropy=1\n",
      "No PSF/pixel convolution because sigmapsf=0 pixsize=0\n",
      "inc=77.7; beta[0]=0.0; kappa=1.00; M/L=1.00; BH=0.0; chi2/DOF=nan\n",
      "Total mass MGE (MSun): 1.036e+13\n",
      "\n",
      "sigma_e: 138.69 km/s\n",
      "theta_E: 0.522 arcsec\n"
     ]
    },
    {
     "name": "stdout",
     "output_type": "stream",
     "text": [
      "jam_axi_proj(align='sph', moment='zz') -- elapsed time sec: 0.88\n",
      "analytic_los=0 logistic=0 constant_anisotropy=1\n",
      "No PSF/pixel convolution because sigmapsf=0 pixsize=0\n",
      "inc=28.8; beta[0]=0.0; kappa=1.00; M/L=1.00; BH=0.0; chi2/DOF=nan\n",
      "Total mass MGE (MSun): 1.036e+13\n",
      "\n",
      "sigma_e: 160.53 km/s\n",
      "theta_E: 0.486 arcsec\n"
     ]
    },
    {
     "name": "stdout",
     "output_type": "stream",
     "text": [
      "jam_axi_proj(align='sph', moment='zz') -- elapsed time sec: 0.92\n",
      "analytic_los=0 logistic=0 constant_anisotropy=1\n",
      "No PSF/pixel convolution because sigmapsf=0 pixsize=0\n",
      "inc=47.3; beta[0]=0.0; kappa=1.00; M/L=1.00; BH=0.0; chi2/DOF=nan\n",
      "Total mass MGE (MSun): 1.036e+13\n",
      "\n",
      "sigma_e: 155.38 km/s\n",
      "theta_E: 0.419 arcsec\n"
     ]
    },
    {
     "name": "stdout",
     "output_type": "stream",
     "text": [
      "jam_axi_proj(align='sph', moment='zz') -- elapsed time sec: 0.96\n",
      "analytic_los=0 logistic=0 constant_anisotropy=1\n",
      "No PSF/pixel convolution because sigmapsf=0 pixsize=0\n",
      "inc=77.9; beta[0]=0.0; kappa=1.00; M/L=1.00; BH=0.0; chi2/DOF=nan\n",
      "Total mass MGE (MSun): 1.036e+13\n",
      "\n",
      "sigma_e: 138.62 km/s\n",
      "theta_E: 0.430 arcsec\n"
     ]
    },
    {
     "name": "stdout",
     "output_type": "stream",
     "text": [
      "jam_axi_proj(align='sph', moment='zz') -- elapsed time sec: 1.01\n",
      "analytic_los=0 logistic=0 constant_anisotropy=1\n",
      "No PSF/pixel convolution because sigmapsf=0 pixsize=0\n",
      "inc=71.5; beta[0]=0.0; kappa=1.00; M/L=1.00; BH=0.0; chi2/DOF=nan\n",
      "Total mass MGE (MSun): 1.036e+13\n",
      "\n",
      "sigma_e: 142.22 km/s\n",
      "theta_E: 0.458 arcsec\n"
     ]
    },
    {
     "name": "stdout",
     "output_type": "stream",
     "text": [
      "jam_axi_proj(align='sph', moment='zz') -- elapsed time sec: 0.92\n",
      "analytic_los=0 logistic=0 constant_anisotropy=1\n",
      "No PSF/pixel convolution because sigmapsf=0 pixsize=0\n",
      "inc=58.9; beta[0]=0.0; kappa=1.00; M/L=1.00; BH=0.0; chi2/DOF=nan\n",
      "Total mass MGE (MSun): 1.036e+13\n",
      "\n",
      "sigma_e: 149.89 km/s\n",
      "theta_E: 0.539 arcsec\n"
     ]
    },
    {
     "name": "stdout",
     "output_type": "stream",
     "text": [
      "jam_axi_proj(align='sph', moment='zz') -- elapsed time sec: 0.93\n",
      "analytic_los=0 logistic=0 constant_anisotropy=1\n",
      "No PSF/pixel convolution because sigmapsf=0 pixsize=0\n",
      "inc=14.2; beta[0]=0.0; kappa=1.00; M/L=1.00; BH=0.0; chi2/DOF=nan\n",
      "Total mass MGE (MSun): 1.036e+13\n",
      "\n",
      "sigma_e: 162.41 km/s\n"
     ]
    },
    {
     "name": "stdout",
     "output_type": "stream",
     "text": [
      "theta_E: 0.524 arcsec\n"
     ]
    },
    {
     "name": "stdout",
     "output_type": "stream",
     "text": [
      "jam_axi_proj(align='sph', moment='zz') -- elapsed time sec: 0.89\n",
      "analytic_los=0 logistic=0 constant_anisotropy=1\n",
      "No PSF/pixel convolution because sigmapsf=0 pixsize=0\n",
      "inc=30.2; beta[0]=0.0; kappa=1.00; M/L=1.00; BH=0.0; chi2/DOF=nan\n",
      "Total mass MGE (MSun): 1.024e+13\n",
      "\n",
      "sigma_e: 161.20 km/s\n",
      "theta_E: 0.423 arcsec\n"
     ]
    },
    {
     "name": "stdout",
     "output_type": "stream",
     "text": [
      "jam_axi_proj(align='sph', moment='zz') -- elapsed time sec: 1.03\n",
      "analytic_los=0 logistic=0 constant_anisotropy=1\n",
      "No PSF/pixel convolution because sigmapsf=0 pixsize=0\n",
      "inc=73.2; beta[0]=0.0; kappa=1.00; M/L=1.00; BH=0.0; chi2/DOF=nan\n",
      "Total mass MGE (MSun): 1.024e+13\n",
      "\n",
      "sigma_e: 139.94 km/s\n",
      "theta_E: 0.436 arcsec\n"
     ]
    },
    {
     "name": "stdout",
     "output_type": "stream",
     "text": [
      "jam_axi_proj(align='sph', moment='zz') -- elapsed time sec: 0.99\n",
      "analytic_los=0 logistic=0 constant_anisotropy=1\n",
      "No PSF/pixel convolution because sigmapsf=0 pixsize=0\n",
      "inc=67.7; beta[0]=0.0; kappa=1.00; M/L=1.00; BH=0.0; chi2/DOF=nan\n",
      "Total mass MGE (MSun): 1.024e+13\n",
      "\n",
      "sigma_e: 143.86 km/s\n",
      "theta_E: 0.546 arcsec\n"
     ]
    },
    {
     "name": "stdout",
     "output_type": "stream",
     "text": [
      "jam_axi_proj(align='sph', moment='zz') -- elapsed time sec: 0.90\n",
      "analytic_los=0 logistic=0 constant_anisotropy=1\n",
      "No PSF/pixel convolution because sigmapsf=0 pixsize=0\n",
      "inc=12.3; beta[0]=0.0; kappa=1.00; M/L=1.00; BH=0.0; chi2/DOF=nan\n",
      "Total mass MGE (MSun): 1.024e+13\n",
      "\n",
      "sigma_e: 163.52 km/s\n",
      "theta_E: 0.546 arcsec\n"
     ]
    },
    {
     "name": "stdout",
     "output_type": "stream",
     "text": [
      "jam_axi_proj(align='sph', moment='zz') -- elapsed time sec: 0.89\n",
      "analytic_los=0 logistic=0 constant_anisotropy=1\n",
      "No PSF/pixel convolution because sigmapsf=0 pixsize=0\n",
      "inc=12.8; beta[0]=0.0; kappa=1.00; M/L=1.00; BH=0.0; chi2/DOF=nan\n",
      "Total mass MGE (MSun): 1.024e+13\n",
      "\n",
      "sigma_e: 163.49 km/s\n",
      "theta_E: 0.441 arcsec\n"
     ]
    },
    {
     "name": "stdout",
     "output_type": "stream",
     "text": [
      "jam_axi_proj(align='sph', moment='zz') -- elapsed time sec: 1.05\n",
      "analytic_los=0 logistic=0 constant_anisotropy=1\n",
      "No PSF/pixel convolution because sigmapsf=0 pixsize=0\n",
      "inc=65.3; beta[0]=0.0; kappa=1.00; M/L=1.00; BH=0.0; chi2/DOF=nan\n",
      "Total mass MGE (MSun): 1.024e+13\n",
      "\n",
      "sigma_e: 145.56 km/s\n",
      "theta_E: 0.418 arcsec\n"
     ]
    },
    {
     "name": "stdout",
     "output_type": "stream",
     "text": [
      "jam_axi_proj(align='sph', moment='zz') -- elapsed time sec: 0.99\n",
      "analytic_los=0 logistic=0 constant_anisotropy=1\n",
      "No PSF/pixel convolution because sigmapsf=0 pixsize=0\n",
      "inc=76.0; beta[0]=0.0; kappa=1.00; M/L=1.00; BH=0.0; chi2/DOF=nan\n",
      "Total mass MGE (MSun): 1.024e+13\n",
      "\n",
      "sigma_e: 138.09 km/s\n",
      "theta_E: 0.410 arcsec\n"
     ]
    },
    {
     "name": "stdout",
     "output_type": "stream",
     "text": [
      "jam_axi_proj(align='sph', moment='zz') -- elapsed time sec: 0.99\n",
      "analytic_los=0 logistic=0 constant_anisotropy=1\n",
      "No PSF/pixel convolution because sigmapsf=0 pixsize=0\n",
      "inc=80.5; beta[0]=0.0; kappa=1.00; M/L=1.00; BH=0.0; chi2/DOF=nan\n",
      "Total mass MGE (MSun): 1.024e+13\n",
      "\n",
      "sigma_e: 135.43 km/s\n",
      "theta_E: 0.493 arcsec\n"
     ]
    },
    {
     "name": "stdout",
     "output_type": "stream",
     "text": [
      "jam_axi_proj(align='sph', moment='zz') -- elapsed time sec: 0.92\n",
      "analytic_los=0 logistic=0 constant_anisotropy=1\n",
      "No PSF/pixel convolution because sigmapsf=0 pixsize=0\n",
      "inc=45.3; beta[0]=0.0; kappa=1.00; M/L=1.00; BH=0.0; chi2/DOF=nan\n",
      "Total mass MGE (MSun): 1.024e+13\n",
      "\n",
      "sigma_e: 156.77 km/s\n",
      "theta_E: 0.434 arcsec\n"
     ]
    },
    {
     "name": "stdout",
     "output_type": "stream",
     "text": [
      "jam_axi_proj(align='sph', moment='zz') -- elapsed time sec: 1.03\n",
      "analytic_los=0 logistic=0 constant_anisotropy=1\n",
      "No PSF/pixel convolution because sigmapsf=0 pixsize=0\n",
      "inc=68.4; beta[0]=0.0; kappa=1.00; M/L=1.00; BH=0.0; chi2/DOF=nan\n",
      "Total mass MGE (MSun): 1.024e+13\n",
      "\n",
      "sigma_e: 143.38 km/s\n"
     ]
    },
    {
     "name": "stdout",
     "output_type": "stream",
     "text": [
      "theta_E: 0.692 arcsec\n"
     ]
    },
    {
     "name": "stdout",
     "output_type": "stream",
     "text": [
      "jam_axi_proj(align='sph', moment='zz') -- elapsed time sec: 0.93\n",
      "analytic_los=0 logistic=0 constant_anisotropy=1\n",
      "No PSF/pixel convolution because sigmapsf=0 pixsize=0\n",
      "inc=52.4; beta[0]=0.0; kappa=1.00; M/L=1.00; BH=0.0; chi2/DOF=nan\n",
      "Total mass MGE (MSun): 2.271e+13\n",
      "\n",
      "sigma_e: 183.97 km/s\n",
      "theta_E: 0.707 arcsec\n"
     ]
    },
    {
     "name": "stdout",
     "output_type": "stream",
     "text": [
      "jam_axi_proj(align='sph', moment='zz') -- elapsed time sec: 0.89\n",
      "analytic_los=0 logistic=0 constant_anisotropy=1\n",
      "No PSF/pixel convolution because sigmapsf=0 pixsize=0\n",
      "inc=46.6; beta[0]=0.0; kappa=1.00; M/L=1.00; BH=0.0; chi2/DOF=nan\n",
      "Total mass MGE (MSun): 2.271e+13\n",
      "\n",
      "sigma_e: 186.25 km/s\n",
      "theta_E: 0.671 arcsec\n"
     ]
    },
    {
     "name": "stdout",
     "output_type": "stream",
     "text": [
      "jam_axi_proj(align='sph', moment='zz') -- elapsed time sec: 0.92\n",
      "analytic_los=0 logistic=0 constant_anisotropy=1\n",
      "No PSF/pixel convolution because sigmapsf=0 pixsize=0\n",
      "inc=60.3; beta[0]=0.0; kappa=1.00; M/L=1.00; BH=0.0; chi2/DOF=nan\n",
      "Total mass MGE (MSun): 2.271e+13\n",
      "\n",
      "sigma_e: 180.37 km/s\n",
      "theta_E: 0.627 arcsec\n"
     ]
    },
    {
     "name": "stdout",
     "output_type": "stream",
     "text": [
      "jam_axi_proj(align='sph', moment='zz') -- elapsed time sec: 0.95\n",
      "analytic_los=0 logistic=0 constant_anisotropy=1\n",
      "No PSF/pixel convolution because sigmapsf=0 pixsize=0\n",
      "inc=81.9; beta[0]=0.0; kappa=1.00; M/L=1.00; BH=0.0; chi2/DOF=nan\n",
      "Total mass MGE (MSun): 2.271e+13\n",
      "\n",
      "sigma_e: 170.48 km/s\n",
      "theta_E: 0.732 arcsec\n"
     ]
    },
    {
     "name": "stdout",
     "output_type": "stream",
     "text": [
      "jam_axi_proj(align='sph', moment='zz') -- elapsed time sec: 0.87\n",
      "analytic_los=0 logistic=0 constant_anisotropy=1\n",
      "No PSF/pixel convolution because sigmapsf=0 pixsize=0\n",
      "inc=36.5; beta[0]=0.0; kappa=1.00; M/L=1.00; BH=0.0; chi2/DOF=nan\n",
      "Total mass MGE (MSun): 2.271e+13\n",
      "\n",
      "sigma_e: 189.39 km/s\n",
      "theta_E: 0.745 arcsec\n"
     ]
    },
    {
     "name": "stdout",
     "output_type": "stream",
     "text": [
      "jam_axi_proj(align='sph', moment='zz') -- elapsed time sec: 0.87\n",
      "analytic_los=0 logistic=0 constant_anisotropy=1\n",
      "No PSF/pixel convolution because sigmapsf=0 pixsize=0\n",
      "inc=30.1; beta[0]=0.0; kappa=1.00; M/L=1.00; BH=0.0; chi2/DOF=nan\n",
      "Total mass MGE (MSun): 2.271e+13\n",
      "\n",
      "sigma_e: 190.85 km/s\n",
      "theta_E: 0.764 arcsec\n"
     ]
    },
    {
     "name": "stdout",
     "output_type": "stream",
     "text": [
      "jam_axi_proj(align='sph', moment='zz') -- elapsed time sec: 0.84\n",
      "analytic_los=0 logistic=0 constant_anisotropy=1\n",
      "No PSF/pixel convolution because sigmapsf=0 pixsize=0\n",
      "inc=18.0; beta[0]=0.0; kappa=1.00; M/L=1.00; BH=0.0; chi2/DOF=nan\n",
      "Total mass MGE (MSun): 2.271e+13\n",
      "\n",
      "sigma_e: 192.77 km/s\n",
      "theta_E: 0.665 arcsec\n"
     ]
    },
    {
     "name": "stdout",
     "output_type": "stream",
     "text": [
      "jam_axi_proj(align='sph', moment='zz') -- elapsed time sec: 0.93\n",
      "analytic_los=0 logistic=0 constant_anisotropy=1\n",
      "No PSF/pixel convolution because sigmapsf=0 pixsize=0\n",
      "inc=62.5; beta[0]=0.0; kappa=1.00; M/L=1.00; BH=0.0; chi2/DOF=nan\n",
      "Total mass MGE (MSun): 2.271e+13\n",
      "\n",
      "sigma_e: 179.18 km/s\n",
      "theta_E: 0.703 arcsec\n"
     ]
    },
    {
     "name": "stdout",
     "output_type": "stream",
     "text": [
      "jam_axi_proj(align='sph', moment='zz') -- elapsed time sec: 0.90\n",
      "analytic_los=0 logistic=0 constant_anisotropy=1\n",
      "No PSF/pixel convolution because sigmapsf=0 pixsize=0\n",
      "inc=48.0; beta[0]=0.0; kappa=1.00; M/L=1.00; BH=0.0; chi2/DOF=nan\n",
      "Total mass MGE (MSun): 2.271e+13\n",
      "\n",
      "sigma_e: 185.72 km/s\n",
      "theta_E: 0.733 arcsec\n"
     ]
    },
    {
     "name": "stdout",
     "output_type": "stream",
     "text": [
      "jam_axi_proj(align='sph', moment='zz') -- elapsed time sec: 0.90\n",
      "analytic_los=0 logistic=0 constant_anisotropy=1\n",
      "No PSF/pixel convolution because sigmapsf=0 pixsize=0\n",
      "inc=36.0; beta[0]=0.0; kappa=1.00; M/L=1.00; BH=0.0; chi2/DOF=nan\n",
      "Total mass MGE (MSun): 2.271e+13\n",
      "\n",
      "sigma_e: 189.50 km/s\n"
     ]
    },
    {
     "name": "stdout",
     "output_type": "stream",
     "text": [
      "theta_E: 0.427 arcsec\n"
     ]
    },
    {
     "name": "stdout",
     "output_type": "stream",
     "text": [
      "jam_axi_proj(align='sph', moment='zz') -- elapsed time sec: 0.96\n",
      "analytic_los=0 logistic=0 constant_anisotropy=1\n",
      "No PSF/pixel convolution because sigmapsf=0 pixsize=0\n",
      "inc=75.3; beta[0]=0.0; kappa=1.00; M/L=1.00; BH=0.0; chi2/DOF=nan\n",
      "Total mass MGE (MSun): 1.045e+13\n",
      "\n",
      "sigma_e: 140.67 km/s\n",
      "theta_E: 0.421 arcsec\n"
     ]
    },
    {
     "name": "stdout",
     "output_type": "stream",
     "text": [
      "jam_axi_proj(align='sph', moment='zz') -- elapsed time sec: 0.99\n",
      "analytic_los=0 logistic=0 constant_anisotropy=1\n",
      "No PSF/pixel convolution because sigmapsf=0 pixsize=0\n",
      "inc=80.0; beta[0]=0.0; kappa=1.00; M/L=1.00; BH=0.0; chi2/DOF=nan\n",
      "Total mass MGE (MSun): 1.045e+13\n",
      "\n",
      "sigma_e: 138.53 km/s\n",
      "theta_E: 0.465 arcsec\n"
     ]
    },
    {
     "name": "stdout",
     "output_type": "stream",
     "text": [
      "jam_axi_proj(align='sph', moment='zz') -- elapsed time sec: 0.92\n",
      "analytic_los=0 logistic=0 constant_anisotropy=1\n",
      "No PSF/pixel convolution because sigmapsf=0 pixsize=0\n",
      "inc=55.7; beta[0]=0.0; kappa=1.00; M/L=1.00; BH=0.0; chi2/DOF=nan\n",
      "Total mass MGE (MSun): 1.045e+13\n",
      "\n",
      "sigma_e: 150.86 km/s\n",
      "theta_E: 0.416 arcsec\n"
     ]
    },
    {
     "name": "stdout",
     "output_type": "stream",
     "text": [
      "jam_axi_proj(align='sph', moment='zz') -- elapsed time sec: 1.04\n",
      "analytic_los=0 logistic=0 constant_anisotropy=1\n",
      "No PSF/pixel convolution because sigmapsf=0 pixsize=0\n",
      "inc=85.8; beta[0]=0.0; kappa=1.00; M/L=1.00; BH=0.0; chi2/DOF=nan\n",
      "Total mass MGE (MSun): 1.045e+13\n",
      "\n",
      "sigma_e: 136.93 km/s\n",
      "theta_E: 0.459 arcsec\n"
     ]
    },
    {
     "name": "stdout",
     "output_type": "stream",
     "text": [
      "jam_axi_proj(align='sph', moment='zz') -- elapsed time sec: 0.92\n",
      "analytic_los=0 logistic=0 constant_anisotropy=1\n",
      "No PSF/pixel convolution because sigmapsf=0 pixsize=0\n",
      "inc=58.8; beta[0]=0.0; kappa=1.00; M/L=1.00; BH=0.0; chi2/DOF=nan\n",
      "Total mass MGE (MSun): 1.045e+13\n",
      "\n",
      "sigma_e: 149.41 km/s\n",
      "theta_E: 0.432 arcsec\n"
     ]
    },
    {
     "name": "stdout",
     "output_type": "stream",
     "text": [
      "jam_axi_proj(align='sph', moment='zz') -- elapsed time sec: 0.98\n",
      "analytic_los=0 logistic=0 constant_anisotropy=1\n",
      "No PSF/pixel convolution because sigmapsf=0 pixsize=0\n",
      "inc=72.3; beta[0]=0.0; kappa=1.00; M/L=1.00; BH=0.0; chi2/DOF=nan\n",
      "Total mass MGE (MSun): 1.045e+13\n",
      "\n",
      "sigma_e: 142.17 km/s\n",
      "theta_E: 0.417 arcsec\n"
     ]
    },
    {
     "name": "stdout",
     "output_type": "stream",
     "text": [
      "jam_axi_proj(align='sph', moment='zz') -- elapsed time sec: 1.00\n",
      "analytic_los=0 logistic=0 constant_anisotropy=1\n",
      "No PSF/pixel convolution because sigmapsf=0 pixsize=0\n",
      "inc=84.2; beta[0]=0.0; kappa=1.00; M/L=1.00; BH=0.0; chi2/DOF=nan\n",
      "Total mass MGE (MSun): 1.045e+13\n",
      "\n",
      "sigma_e: 137.24 km/s\n",
      "theta_E: 0.490 arcsec\n"
     ]
    },
    {
     "name": "stdout",
     "output_type": "stream",
     "text": [
      "jam_axi_proj(align='sph', moment='zz') -- elapsed time sec: 0.93\n",
      "analytic_los=0 logistic=0 constant_anisotropy=1\n",
      "No PSF/pixel convolution because sigmapsf=0 pixsize=0\n",
      "inc=44.3; beta[0]=0.0; kappa=1.00; M/L=1.00; BH=0.0; chi2/DOF=nan\n",
      "Total mass MGE (MSun): 1.045e+13\n",
      "\n",
      "sigma_e: 155.33 km/s\n",
      "theta_E: 0.443 arcsec\n"
     ]
    },
    {
     "name": "stdout",
     "output_type": "stream",
     "text": [
      "jam_axi_proj(align='sph', moment='zz') -- elapsed time sec: 0.94\n",
      "analytic_los=0 logistic=0 constant_anisotropy=1\n",
      "No PSF/pixel convolution because sigmapsf=0 pixsize=0\n",
      "inc=66.4; beta[0]=0.0; kappa=1.00; M/L=1.00; BH=0.0; chi2/DOF=nan\n",
      "Total mass MGE (MSun): 1.045e+13\n",
      "\n",
      "sigma_e: 145.43 km/s\n",
      "theta_E: 0.471 arcsec\n"
     ]
    },
    {
     "name": "stdout",
     "output_type": "stream",
     "text": [
      "jam_axi_proj(align='sph', moment='zz') -- elapsed time sec: 0.93\n",
      "analytic_los=0 logistic=0 constant_anisotropy=1\n",
      "No PSF/pixel convolution because sigmapsf=0 pixsize=0\n",
      "inc=53.2; beta[0]=0.0; kappa=1.00; M/L=1.00; BH=0.0; chi2/DOF=nan\n",
      "Total mass MGE (MSun): 1.045e+13\n",
      "\n",
      "sigma_e: 151.94 km/s\n"
     ]
    },
    {
     "name": "stdout",
     "output_type": "stream",
     "text": [
      "theta_E: 0.359 arcsec\n"
     ]
    },
    {
     "name": "stdout",
     "output_type": "stream",
     "text": [
      "jam_axi_proj(align='sph', moment='zz') -- elapsed time sec: 0.95\n",
      "analytic_los=0 logistic=0 constant_anisotropy=1\n",
      "No PSF/pixel convolution because sigmapsf=0 pixsize=0\n",
      "inc=85.7; beta[0]=0.0; kappa=1.00; M/L=1.00; BH=0.0; chi2/DOF=nan\n",
      "Total mass MGE (MSun): 8.179e+12\n",
      "\n",
      "sigma_e: 123.77 km/s\n",
      "theta_E: 0.359 arcsec\n"
     ]
    },
    {
     "name": "stdout",
     "output_type": "stream",
     "text": [
      "jam_axi_proj(align='sph', moment='zz') -- elapsed time sec: 0.96\n",
      "analytic_los=0 logistic=0 constant_anisotropy=1\n",
      "No PSF/pixel convolution because sigmapsf=0 pixsize=0\n",
      "inc=86.1; beta[0]=0.0; kappa=1.00; M/L=1.00; BH=0.0; chi2/DOF=nan\n",
      "Total mass MGE (MSun): 8.179e+12\n",
      "\n",
      "sigma_e: 123.67 km/s\n",
      "theta_E: 0.414 arcsec\n"
     ]
    },
    {
     "name": "stdout",
     "output_type": "stream",
     "text": [
      "jam_axi_proj(align='sph', moment='zz') -- elapsed time sec: 0.95\n",
      "analytic_los=0 logistic=0 constant_anisotropy=1\n",
      "No PSF/pixel convolution because sigmapsf=0 pixsize=0\n",
      "inc=57.7; beta[0]=0.0; kappa=1.00; M/L=1.00; BH=0.0; chi2/DOF=nan\n",
      "Total mass MGE (MSun): 8.179e+12\n",
      "\n",
      "sigma_e: 142.37 km/s\n",
      "theta_E: 0.419 arcsec\n"
     ]
    },
    {
     "name": "stdout",
     "output_type": "stream",
     "text": [
      "jam_axi_proj(align='sph', moment='zz') -- elapsed time sec: 0.98\n",
      "analytic_los=0 logistic=0 constant_anisotropy=1\n",
      "No PSF/pixel convolution because sigmapsf=0 pixsize=0\n",
      "inc=55.7; beta[0]=0.0; kappa=1.00; M/L=1.00; BH=0.0; chi2/DOF=nan\n",
      "Total mass MGE (MSun): 8.179e+12\n",
      "\n",
      "sigma_e: 143.58 km/s\n",
      "theta_E: 0.405 arcsec\n"
     ]
    },
    {
     "name": "stdout",
     "output_type": "stream",
     "text": [
      "jam_axi_proj(align='sph', moment='zz') -- elapsed time sec: 0.97\n",
      "analytic_los=0 logistic=0 constant_anisotropy=1\n",
      "No PSF/pixel convolution because sigmapsf=0 pixsize=0\n",
      "inc=61.2; beta[0]=0.0; kappa=1.00; M/L=1.00; BH=0.0; chi2/DOF=nan\n",
      "Total mass MGE (MSun): 8.179e+12\n",
      "\n",
      "sigma_e: 140.07 km/s\n",
      "theta_E: 0.474 arcsec\n"
     ]
    },
    {
     "name": "stdout",
     "output_type": "stream",
     "text": [
      "jam_axi_proj(align='sph', moment='zz') -- elapsed time sec: 0.91\n",
      "analytic_los=0 logistic=0 constant_anisotropy=1\n",
      "No PSF/pixel convolution because sigmapsf=0 pixsize=0\n",
      "inc=30.4; beta[0]=0.0; kappa=1.00; M/L=1.00; BH=0.0; chi2/DOF=nan\n",
      "Total mass MGE (MSun): 8.179e+12\n",
      "\n",
      "sigma_e: 153.03 km/s\n",
      "theta_E: 0.482 arcsec\n"
     ]
    },
    {
     "name": "stdout",
     "output_type": "stream",
     "text": [
      "jam_axi_proj(align='sph', moment='zz') -- elapsed time sec: 0.88\n",
      "analytic_los=0 logistic=0 constant_anisotropy=1\n",
      "No PSF/pixel convolution because sigmapsf=0 pixsize=0\n",
      "inc=24.8; beta[0]=0.0; kappa=1.00; M/L=1.00; BH=0.0; chi2/DOF=nan\n",
      "Total mass MGE (MSun): 8.179e+12\n",
      "\n",
      "sigma_e: 154.00 km/s\n",
      "theta_E: 0.444 arcsec\n"
     ]
    },
    {
     "name": "stdout",
     "output_type": "stream",
     "text": [
      "jam_axi_proj(align='sph', moment='zz') -- elapsed time sec: 0.93\n",
      "analytic_los=0 logistic=0 constant_anisotropy=1\n",
      "No PSF/pixel convolution because sigmapsf=0 pixsize=0\n",
      "inc=45.4; beta[0]=0.0; kappa=1.00; M/L=1.00; BH=0.0; chi2/DOF=nan\n",
      "Total mass MGE (MSun): 8.179e+12\n",
      "\n",
      "sigma_e: 148.55 km/s\n",
      "theta_E: 0.369 arcsec\n"
     ]
    },
    {
     "name": "stdout",
     "output_type": "stream",
     "text": [
      "jam_axi_proj(align='sph', moment='zz') -- elapsed time sec: 0.94\n",
      "analytic_los=0 logistic=0 constant_anisotropy=1\n",
      "No PSF/pixel convolution because sigmapsf=0 pixsize=0\n",
      "inc=77.1; beta[0]=0.0; kappa=1.00; M/L=1.00; BH=0.0; chi2/DOF=nan\n",
      "Total mass MGE (MSun): 8.179e+12\n",
      "\n",
      "sigma_e: 128.17 km/s\n",
      "theta_E: 0.368 arcsec\n"
     ]
    },
    {
     "name": "stdout",
     "output_type": "stream",
     "text": [
      "jam_axi_proj(align='sph', moment='zz') -- elapsed time sec: 0.96\n",
      "analytic_los=0 logistic=0 constant_anisotropy=1\n",
      "No PSF/pixel convolution because sigmapsf=0 pixsize=0\n",
      "inc=77.8; beta[0]=0.0; kappa=1.00; M/L=1.00; BH=0.0; chi2/DOF=nan\n",
      "Total mass MGE (MSun): 8.179e+12\n",
      "\n",
      "sigma_e: 127.69 km/s\n"
     ]
    },
    {
     "name": "stdout",
     "output_type": "stream",
     "text": [
      "theta_E: 0.456 arcsec\n"
     ]
    },
    {
     "name": "stdout",
     "output_type": "stream",
     "text": [
      "jam_axi_proj(align='sph', moment='zz') -- elapsed time sec: 0.89\n",
      "analytic_los=0 logistic=0 constant_anisotropy=1\n",
      "No PSF/pixel convolution because sigmapsf=0 pixsize=0\n",
      "inc=27.9; beta[0]=0.0; kappa=1.00; M/L=1.00; BH=0.0; chi2/DOF=nan\n",
      "Total mass MGE (MSun): 8.216e+12\n",
      "\n",
      "sigma_e: 149.94 km/s\n",
      "theta_E: 0.400 arcsec\n"
     ]
    },
    {
     "name": "stdout",
     "output_type": "stream",
     "text": [
      "jam_axi_proj(align='sph', moment='zz') -- elapsed time sec: 0.93\n",
      "analytic_los=0 logistic=0 constant_anisotropy=1\n",
      "No PSF/pixel convolution because sigmapsf=0 pixsize=0\n",
      "inc=61.5; beta[0]=0.0; kappa=1.00; M/L=1.00; BH=0.0; chi2/DOF=nan\n",
      "Total mass MGE (MSun): 8.216e+12\n",
      "\n",
      "sigma_e: 139.81 km/s\n",
      "theta_E: 0.402 arcsec\n"
     ]
    },
    {
     "name": "stdout",
     "output_type": "stream",
     "text": [
      "jam_axi_proj(align='sph', moment='zz') -- elapsed time sec: 0.91\n",
      "analytic_los=0 logistic=0 constant_anisotropy=1\n",
      "No PSF/pixel convolution because sigmapsf=0 pixsize=0\n",
      "inc=60.8; beta[0]=0.0; kappa=1.00; M/L=1.00; BH=0.0; chi2/DOF=nan\n",
      "Total mass MGE (MSun): 8.216e+12\n",
      "\n",
      "sigma_e: 140.17 km/s\n",
      "theta_E: 0.440 arcsec\n"
     ]
    },
    {
     "name": "stdout",
     "output_type": "stream",
     "text": [
      "jam_axi_proj(align='sph', moment='zz') -- elapsed time sec: 0.91\n",
      "analytic_los=0 logistic=0 constant_anisotropy=1\n",
      "No PSF/pixel convolution because sigmapsf=0 pixsize=0\n",
      "inc=38.9; beta[0]=0.0; kappa=1.00; M/L=1.00; BH=0.0; chi2/DOF=nan\n",
      "Total mass MGE (MSun): 8.216e+12\n",
      "\n",
      "sigma_e: 147.79 km/s\n",
      "theta_E: 0.393 arcsec\n"
     ]
    },
    {
     "name": "stdout",
     "output_type": "stream",
     "text": [
      "jam_axi_proj(align='sph', moment='zz') -- elapsed time sec: 0.93\n",
      "analytic_los=0 logistic=0 constant_anisotropy=1\n",
      "No PSF/pixel convolution because sigmapsf=0 pixsize=0\n",
      "inc=65.6; beta[0]=0.0; kappa=1.00; M/L=1.00; BH=0.0; chi2/DOF=nan\n",
      "Total mass MGE (MSun): 8.216e+12\n",
      "\n",
      "sigma_e: 137.88 km/s\n",
      "theta_E: 0.381 arcsec\n"
     ]
    },
    {
     "name": "stdout",
     "output_type": "stream",
     "text": [
      "jam_axi_proj(align='sph', moment='zz') -- elapsed time sec: 1.00\n",
      "analytic_los=0 logistic=0 constant_anisotropy=1\n",
      "No PSF/pixel convolution because sigmapsf=0 pixsize=0\n",
      "inc=73.4; beta[0]=0.0; kappa=1.00; M/L=1.00; BH=0.0; chi2/DOF=nan\n",
      "Total mass MGE (MSun): 8.216e+12\n",
      "\n",
      "sigma_e: 134.27 km/s\n",
      "theta_E: 0.415 arcsec\n"
     ]
    },
    {
     "name": "stdout",
     "output_type": "stream",
     "text": [
      "jam_axi_proj(align='sph', moment='zz') -- elapsed time sec: 0.91\n",
      "analytic_los=0 logistic=0 constant_anisotropy=1\n",
      "No PSF/pixel convolution because sigmapsf=0 pixsize=0\n",
      "inc=53.4; beta[0]=0.0; kappa=1.00; M/L=1.00; BH=0.0; chi2/DOF=nan\n",
      "Total mass MGE (MSun): 8.216e+12\n",
      "\n",
      "sigma_e: 143.26 km/s\n",
      "theta_E: 0.378 arcsec\n"
     ]
    },
    {
     "name": "stdout",
     "output_type": "stream",
     "text": [
      "jam_axi_proj(align='sph', moment='zz') -- elapsed time sec: 0.95\n",
      "analytic_los=0 logistic=0 constant_anisotropy=1\n",
      "No PSF/pixel convolution because sigmapsf=0 pixsize=0\n",
      "inc=75.3; beta[0]=0.0; kappa=1.00; M/L=1.00; BH=0.0; chi2/DOF=nan\n",
      "Total mass MGE (MSun): 8.216e+12\n",
      "\n",
      "sigma_e: 133.42 km/s\n",
      "theta_E: 0.396 arcsec\n"
     ]
    },
    {
     "name": "stdout",
     "output_type": "stream",
     "text": [
      "jam_axi_proj(align='sph', moment='zz') -- elapsed time sec: 0.91\n",
      "analytic_los=0 logistic=0 constant_anisotropy=1\n",
      "No PSF/pixel convolution because sigmapsf=0 pixsize=0\n",
      "inc=64.1; beta[0]=0.0; kappa=1.00; M/L=1.00; BH=0.0; chi2/DOF=nan\n",
      "Total mass MGE (MSun): 8.216e+12\n",
      "\n",
      "sigma_e: 138.58 km/s\n",
      "theta_E: 0.457 arcsec\n"
     ]
    },
    {
     "name": "stdout",
     "output_type": "stream",
     "text": [
      "jam_axi_proj(align='sph', moment='zz') -- elapsed time sec: 0.91\n",
      "analytic_los=0 logistic=0 constant_anisotropy=1\n",
      "No PSF/pixel convolution because sigmapsf=0 pixsize=0\n",
      "inc=27.1; beta[0]=0.0; kappa=1.00; M/L=1.00; BH=0.0; chi2/DOF=nan\n",
      "Total mass MGE (MSun): 8.216e+12\n",
      "\n",
      "sigma_e: 150.05 km/s\n"
     ]
    },
    {
     "name": "stdout",
     "output_type": "stream",
     "text": [
      "theta_E: 0.473 arcsec\n"
     ]
    },
    {
     "name": "stdout",
     "output_type": "stream",
     "text": [
      "jam_axi_proj(align='sph', moment='zz') -- elapsed time sec: 0.87\n",
      "analytic_los=0 logistic=0 constant_anisotropy=1\n",
      "No PSF/pixel convolution because sigmapsf=0 pixsize=0\n",
      "inc=35.9; beta[0]=0.0; kappa=1.00; M/L=1.00; BH=0.0; chi2/DOF=nan\n",
      "Total mass MGE (MSun): 9.703e+12\n",
      "\n",
      "sigma_e: 152.92 km/s\n",
      "theta_E: 0.492 arcsec\n"
     ]
    },
    {
     "name": "stdout",
     "output_type": "stream",
     "text": [
      "jam_axi_proj(align='sph', moment='zz') -- elapsed time sec: 0.83\n",
      "analytic_los=0 logistic=0 constant_anisotropy=1\n",
      "No PSF/pixel convolution because sigmapsf=0 pixsize=0\n",
      "inc=18.5; beta[0]=0.0; kappa=1.00; M/L=1.00; BH=0.0; chi2/DOF=nan\n",
      "Total mass MGE (MSun): 9.703e+12\n",
      "\n",
      "sigma_e: 155.25 km/s\n",
      "theta_E: 0.416 arcsec\n"
     ]
    },
    {
     "name": "stdout",
     "output_type": "stream",
     "text": [
      "jam_axi_proj(align='sph', moment='zz') -- elapsed time sec: 0.93\n",
      "analytic_los=0 logistic=0 constant_anisotropy=1\n",
      "No PSF/pixel convolution because sigmapsf=0 pixsize=0\n",
      "inc=74.6; beta[0]=0.0; kappa=1.00; M/L=1.00; BH=0.0; chi2/DOF=nan\n",
      "Total mass MGE (MSun): 9.703e+12\n",
      "\n",
      "sigma_e: 141.09 km/s\n",
      "theta_E: 0.495 arcsec\n"
     ]
    },
    {
     "name": "stdout",
     "output_type": "stream",
     "text": [
      "jam_axi_proj(align='sph', moment='zz') -- elapsed time sec: 0.84\n",
      "analytic_los=0 logistic=0 constant_anisotropy=1\n",
      "No PSF/pixel convolution because sigmapsf=0 pixsize=0\n",
      "inc=13.1; beta[0]=0.0; kappa=1.00; M/L=1.00; BH=0.0; chi2/DOF=nan\n",
      "Total mass MGE (MSun): 9.703e+12\n",
      "\n",
      "sigma_e: 155.65 km/s\n",
      "theta_E: 0.442 arcsec\n"
     ]
    },
    {
     "name": "stdout",
     "output_type": "stream",
     "text": [
      "jam_axi_proj(align='sph', moment='zz') -- elapsed time sec: 0.90\n",
      "analytic_los=0 logistic=0 constant_anisotropy=1\n",
      "No PSF/pixel convolution because sigmapsf=0 pixsize=0\n",
      "inc=56.4; beta[0]=0.0; kappa=1.00; M/L=1.00; BH=0.0; chi2/DOF=nan\n",
      "Total mass MGE (MSun): 9.703e+12\n",
      "\n",
      "sigma_e: 147.46 km/s\n",
      "theta_E: 0.425 arcsec\n"
     ]
    },
    {
     "name": "stdout",
     "output_type": "stream",
     "text": [
      "jam_axi_proj(align='sph', moment='zz') -- elapsed time sec: 0.93\n",
      "analytic_los=0 logistic=0 constant_anisotropy=1\n",
      "No PSF/pixel convolution because sigmapsf=0 pixsize=0\n",
      "inc=67.6; beta[0]=0.0; kappa=1.00; M/L=1.00; BH=0.0; chi2/DOF=nan\n",
      "Total mass MGE (MSun): 9.703e+12\n",
      "\n",
      "sigma_e: 143.45 km/s\n",
      "theta_E: 0.456 arcsec\n"
     ]
    },
    {
     "name": "stdout",
     "output_type": "stream",
     "text": [
      "jam_axi_proj(align='sph', moment='zz') -- elapsed time sec: 0.89\n",
      "analytic_los=0 logistic=0 constant_anisotropy=1\n",
      "No PSF/pixel convolution because sigmapsf=0 pixsize=0\n",
      "inc=47.6; beta[0]=0.0; kappa=1.00; M/L=1.00; BH=0.0; chi2/DOF=nan\n",
      "Total mass MGE (MSun): 9.703e+12\n",
      "\n",
      "sigma_e: 150.18 km/s\n",
      "theta_E: 0.435 arcsec\n"
     ]
    },
    {
     "name": "stdout",
     "output_type": "stream",
     "text": [
      "jam_axi_proj(align='sph', moment='zz') -- elapsed time sec: 0.93\n",
      "analytic_los=0 logistic=0 constant_anisotropy=1\n",
      "No PSF/pixel convolution because sigmapsf=0 pixsize=0\n",
      "inc=60.5; beta[0]=0.0; kappa=1.00; M/L=1.00; BH=0.0; chi2/DOF=nan\n",
      "Total mass MGE (MSun): 9.703e+12\n",
      "\n",
      "sigma_e: 146.01 km/s\n",
      "theta_E: 0.409 arcsec\n"
     ]
    },
    {
     "name": "stdout",
     "output_type": "stream",
     "text": [
      "jam_axi_proj(align='sph', moment='zz') -- elapsed time sec: 0.93\n",
      "analytic_los=0 logistic=0 constant_anisotropy=1\n",
      "No PSF/pixel convolution because sigmapsf=0 pixsize=0\n",
      "inc=84.1; beta[0]=0.0; kappa=1.00; M/L=1.00; BH=0.0; chi2/DOF=nan\n",
      "Total mass MGE (MSun): 9.703e+12\n",
      "\n",
      "sigma_e: 138.84 km/s\n",
      "theta_E: 0.423 arcsec\n"
     ]
    },
    {
     "name": "stdout",
     "output_type": "stream",
     "text": [
      "jam_axi_proj(align='sph', moment='zz') -- elapsed time sec: 0.96\n",
      "analytic_los=0 logistic=0 constant_anisotropy=1\n",
      "No PSF/pixel convolution because sigmapsf=0 pixsize=0\n",
      "inc=69.1; beta[0]=0.0; kappa=1.00; M/L=1.00; BH=0.0; chi2/DOF=nan\n",
      "Total mass MGE (MSun): 9.703e+12\n",
      "\n",
      "sigma_e: 142.93 km/s\n"
     ]
    },
    {
     "name": "stdout",
     "output_type": "stream",
     "text": [
      "theta_E: 0.388 arcsec\n"
     ]
    },
    {
     "name": "stdout",
     "output_type": "stream",
     "text": [
      "jam_axi_proj(align='sph', moment='zz') -- elapsed time sec: 0.94\n",
      "analytic_los=0 logistic=0 constant_anisotropy=1\n",
      "No PSF/pixel convolution because sigmapsf=0 pixsize=0\n",
      "inc=81.5; beta[0]=0.0; kappa=1.00; M/L=1.00; BH=0.0; chi2/DOF=nan\n",
      "Total mass MGE (MSun): 8.708e+12\n",
      "\n",
      "sigma_e: 135.15 km/s\n",
      "theta_E: 0.412 arcsec\n"
     ]
    },
    {
     "name": "stdout",
     "output_type": "stream",
     "text": [
      "jam_axi_proj(align='sph', moment='zz') -- elapsed time sec: 0.91\n",
      "analytic_los=0 logistic=0 constant_anisotropy=1\n",
      "No PSF/pixel convolution because sigmapsf=0 pixsize=0\n",
      "inc=60.6; beta[0]=0.0; kappa=1.00; M/L=1.00; BH=0.0; chi2/DOF=nan\n",
      "Total mass MGE (MSun): 8.708e+12\n",
      "\n",
      "sigma_e: 141.94 km/s\n",
      "theta_E: 0.456 arcsec\n"
     ]
    },
    {
     "name": "stdout",
     "output_type": "stream",
     "text": [
      "jam_axi_proj(align='sph', moment='zz') -- elapsed time sec: 0.88\n",
      "analytic_los=0 logistic=0 constant_anisotropy=1\n",
      "No PSF/pixel convolution because sigmapsf=0 pixsize=0\n",
      "inc=30.7; beta[0]=0.0; kappa=1.00; M/L=1.00; BH=0.0; chi2/DOF=nan\n",
      "Total mass MGE (MSun): 8.708e+12\n",
      "\n",
      "sigma_e: 149.80 km/s\n",
      "theta_E: 0.446 arcsec\n"
     ]
    },
    {
     "name": "stdout",
     "output_type": "stream",
     "text": [
      "jam_axi_proj(align='sph', moment='zz') -- elapsed time sec: 0.92\n",
      "analytic_los=0 logistic=0 constant_anisotropy=1\n",
      "No PSF/pixel convolution because sigmapsf=0 pixsize=0\n",
      "inc=38.6; beta[0]=0.0; kappa=1.00; M/L=1.00; BH=0.0; chi2/DOF=nan\n",
      "Total mass MGE (MSun): 8.708e+12\n",
      "\n",
      "sigma_e: 148.37 km/s\n",
      "theta_E: 0.459 arcsec\n"
     ]
    },
    {
     "name": "stdout",
     "output_type": "stream",
     "text": [
      "jam_axi_proj(align='sph', moment='zz') -- elapsed time sec: 0.85\n",
      "analytic_los=0 logistic=0 constant_anisotropy=1\n",
      "No PSF/pixel convolution because sigmapsf=0 pixsize=0\n",
      "inc=27.3; beta[0]=0.0; kappa=1.00; M/L=1.00; BH=0.0; chi2/DOF=nan\n",
      "Total mass MGE (MSun): 8.708e+12\n",
      "\n",
      "sigma_e: 150.29 km/s\n",
      "theta_E: 0.406 arcsec\n"
     ]
    },
    {
     "name": "stdout",
     "output_type": "stream",
     "text": [
      "jam_axi_proj(align='sph', moment='zz') -- elapsed time sec: 0.92\n",
      "analytic_los=0 logistic=0 constant_anisotropy=1\n",
      "No PSF/pixel convolution because sigmapsf=0 pixsize=0\n",
      "inc=64.9; beta[0]=0.0; kappa=1.00; M/L=1.00; BH=0.0; chi2/DOF=nan\n",
      "Total mass MGE (MSun): 8.708e+12\n",
      "\n",
      "sigma_e: 140.41 km/s\n",
      "theta_E: 0.420 arcsec\n"
     ]
    },
    {
     "name": "stdout",
     "output_type": "stream",
     "text": [
      "jam_axi_proj(align='sph', moment='zz') -- elapsed time sec: 0.90\n",
      "analytic_los=0 logistic=0 constant_anisotropy=1\n",
      "No PSF/pixel convolution because sigmapsf=0 pixsize=0\n",
      "inc=55.7; beta[0]=0.0; kappa=1.00; M/L=1.00; BH=0.0; chi2/DOF=nan\n",
      "Total mass MGE (MSun): 8.708e+12\n",
      "\n",
      "sigma_e: 143.69 km/s\n",
      "theta_E: 0.385 arcsec\n"
     ]
    },
    {
     "name": "stdout",
     "output_type": "stream",
     "text": [
      "jam_axi_proj(align='sph', moment='zz') -- elapsed time sec: 0.93\n",
      "analytic_los=0 logistic=0 constant_anisotropy=1\n",
      "No PSF/pixel convolution because sigmapsf=0 pixsize=0\n",
      "inc=89.7; beta[0]=0.0; kappa=1.00; M/L=1.00; BH=0.0; chi2/DOF=nan\n",
      "Total mass MGE (MSun): 8.708e+12\n",
      "\n",
      "sigma_e: 134.23 km/s\n",
      "theta_E: 0.450 arcsec\n"
     ]
    },
    {
     "name": "stdout",
     "output_type": "stream",
     "text": [
      "jam_axi_proj(align='sph', moment='zz') -- elapsed time sec: 0.88\n",
      "analytic_los=0 logistic=0 constant_anisotropy=1\n",
      "No PSF/pixel convolution because sigmapsf=0 pixsize=0\n",
      "inc=35.1; beta[0]=0.0; kappa=1.00; M/L=1.00; BH=0.0; chi2/DOF=nan\n",
      "Total mass MGE (MSun): 8.708e+12\n",
      "\n",
      "sigma_e: 149.04 km/s\n",
      "theta_E: 0.463 arcsec\n"
     ]
    },
    {
     "name": "stdout",
     "output_type": "stream",
     "text": [
      "jam_axi_proj(align='sph', moment='zz') -- elapsed time sec: 0.88\n",
      "analytic_los=0 logistic=0 constant_anisotropy=1\n",
      "No PSF/pixel convolution because sigmapsf=0 pixsize=0\n",
      "inc=23.2; beta[0]=0.0; kappa=1.00; M/L=1.00; BH=0.0; chi2/DOF=nan\n",
      "Total mass MGE (MSun): 8.708e+12\n",
      "\n",
      "sigma_e: 150.78 km/s\n"
     ]
    },
    {
     "name": "stdout",
     "output_type": "stream",
     "text": [
      "theta_E: 0.560 arcsec\n"
     ]
    },
    {
     "name": "stdout",
     "output_type": "stream",
     "text": [
      "jam_axi_proj(align='sph', moment='zz') -- elapsed time sec: 0.89\n",
      "analytic_los=0 logistic=0 constant_anisotropy=1\n",
      "No PSF/pixel convolution because sigmapsf=0 pixsize=0\n",
      "inc=56.7; beta[0]=0.0; kappa=1.00; M/L=1.00; BH=0.0; chi2/DOF=nan\n",
      "Total mass MGE (MSun): 1.564e+13\n",
      "\n",
      "sigma_e: 165.34 km/s\n",
      "theta_E: 0.615 arcsec\n"
     ]
    },
    {
     "name": "stdout",
     "output_type": "stream",
     "text": [
      "jam_axi_proj(align='sph', moment='zz') -- elapsed time sec: 0.86\n",
      "analytic_los=0 logistic=0 constant_anisotropy=1\n",
      "No PSF/pixel convolution because sigmapsf=0 pixsize=0\n",
      "inc=22.5; beta[0]=0.0; kappa=1.00; M/L=1.00; BH=0.0; chi2/DOF=nan\n",
      "Total mass MGE (MSun): 1.564e+13\n",
      "\n",
      "sigma_e: 173.09 km/s\n",
      "theta_E: 0.523 arcsec\n"
     ]
    },
    {
     "name": "stdout",
     "output_type": "stream",
     "text": [
      "jam_axi_proj(align='sph', moment='zz') -- elapsed time sec: 0.92\n",
      "analytic_los=0 logistic=0 constant_anisotropy=1\n",
      "No PSF/pixel convolution because sigmapsf=0 pixsize=0\n",
      "inc=85.4; beta[0]=0.0; kappa=1.00; M/L=1.00; BH=0.0; chi2/DOF=nan\n",
      "Total mass MGE (MSun): 1.564e+13\n",
      "\n",
      "sigma_e: 156.95 km/s\n",
      "theta_E: 0.523 arcsec\n"
     ]
    },
    {
     "name": "stdout",
     "output_type": "stream",
     "text": [
      "jam_axi_proj(align='sph', moment='zz') -- elapsed time sec: 0.94\n",
      "analytic_los=0 logistic=0 constant_anisotropy=1\n",
      "No PSF/pixel convolution because sigmapsf=0 pixsize=0\n",
      "inc=86.2; beta[0]=0.0; kappa=1.00; M/L=1.00; BH=0.0; chi2/DOF=nan\n",
      "Total mass MGE (MSun): 1.564e+13\n",
      "\n",
      "sigma_e: 156.86 km/s\n",
      "theta_E: 0.567 arcsec\n"
     ]
    },
    {
     "name": "stdout",
     "output_type": "stream",
     "text": [
      "jam_axi_proj(align='sph', moment='zz') -- elapsed time sec: 0.88\n",
      "analytic_los=0 logistic=0 constant_anisotropy=1\n",
      "No PSF/pixel convolution because sigmapsf=0 pixsize=0\n",
      "inc=53.4; beta[0]=0.0; kappa=1.00; M/L=1.00; BH=0.0; chi2/DOF=nan\n",
      "Total mass MGE (MSun): 1.564e+13\n",
      "\n",
      "sigma_e: 166.48 km/s\n",
      "theta_E: 0.533 arcsec\n"
     ]
    },
    {
     "name": "stdout",
     "output_type": "stream",
     "text": [
      "jam_axi_proj(align='sph', moment='zz') -- elapsed time sec: 0.93\n",
      "analytic_los=0 logistic=0 constant_anisotropy=1\n",
      "No PSF/pixel convolution because sigmapsf=0 pixsize=0\n",
      "inc=73.4; beta[0]=0.0; kappa=1.00; M/L=1.00; BH=0.0; chi2/DOF=nan\n",
      "Total mass MGE (MSun): 1.564e+13\n",
      "\n",
      "sigma_e: 159.62 km/s\n",
      "theta_E: 0.545 arcsec\n"
     ]
    },
    {
     "name": "stdout",
     "output_type": "stream",
     "text": [
      "jam_axi_proj(align='sph', moment='zz') -- elapsed time sec: 0.90\n",
      "analytic_los=0 logistic=0 constant_anisotropy=1\n",
      "No PSF/pixel convolution because sigmapsf=0 pixsize=0\n",
      "inc=65.2; beta[0]=0.0; kappa=1.00; M/L=1.00; BH=0.0; chi2/DOF=nan\n",
      "Total mass MGE (MSun): 1.564e+13\n",
      "\n",
      "sigma_e: 162.35 km/s\n",
      "theta_E: 0.537 arcsec\n"
     ]
    },
    {
     "name": "stdout",
     "output_type": "stream",
     "text": [
      "jam_axi_proj(align='sph', moment='zz') -- elapsed time sec: 0.94\n",
      "analytic_los=0 logistic=0 constant_anisotropy=1\n",
      "No PSF/pixel convolution because sigmapsf=0 pixsize=0\n",
      "inc=70.4; beta[0]=0.0; kappa=1.00; M/L=1.00; BH=0.0; chi2/DOF=nan\n",
      "Total mass MGE (MSun): 1.564e+13\n",
      "\n",
      "sigma_e: 160.59 km/s\n",
      "theta_E: 0.529 arcsec\n"
     ]
    },
    {
     "name": "stdout",
     "output_type": "stream",
     "text": [
      "jam_axi_proj(align='sph', moment='zz') -- elapsed time sec: 0.91\n",
      "analytic_los=0 logistic=0 constant_anisotropy=1\n",
      "No PSF/pixel convolution because sigmapsf=0 pixsize=0\n",
      "inc=77.4; beta[0]=0.0; kappa=1.00; M/L=1.00; BH=0.0; chi2/DOF=nan\n",
      "Total mass MGE (MSun): 1.564e+13\n",
      "\n",
      "sigma_e: 158.49 km/s\n",
      "theta_E: 0.523 arcsec\n"
     ]
    },
    {
     "name": "stdout",
     "output_type": "stream",
     "text": [
      "jam_axi_proj(align='sph', moment='zz') -- elapsed time sec: 0.94\n",
      "analytic_los=0 logistic=0 constant_anisotropy=1\n",
      "No PSF/pixel convolution because sigmapsf=0 pixsize=0\n",
      "inc=87.6; beta[0]=0.0; kappa=1.00; M/L=1.00; BH=0.0; chi2/DOF=nan\n",
      "Total mass MGE (MSun): 1.564e+13\n",
      "\n",
      "sigma_e: 156.76 km/s\n"
     ]
    },
    {
     "name": "stdout",
     "output_type": "stream",
     "text": [
      "theta_E: 0.415 arcsec\n"
     ]
    },
    {
     "name": "stdout",
     "output_type": "stream",
     "text": [
      "jam_axi_proj(align='sph', moment='zz') -- elapsed time sec: 0.95\n",
      "analytic_los=0 logistic=0 constant_anisotropy=1\n",
      "No PSF/pixel convolution because sigmapsf=0 pixsize=0\n",
      "inc=89.3; beta[0]=0.0; kappa=1.00; M/L=1.00; BH=0.0; chi2/DOF=nan\n",
      "Total mass MGE (MSun): 1.082e+13\n",
      "\n",
      "sigma_e: 133.82 km/s\n",
      "theta_E: 0.449 arcsec\n"
     ]
    },
    {
     "name": "stdout",
     "output_type": "stream",
     "text": [
      "jam_axi_proj(align='sph', moment='zz') -- elapsed time sec: 0.98\n",
      "analytic_los=0 logistic=0 constant_anisotropy=1\n",
      "No PSF/pixel convolution because sigmapsf=0 pixsize=0\n",
      "inc=67.4; beta[0]=0.0; kappa=1.00; M/L=1.00; BH=0.0; chi2/DOF=nan\n",
      "Total mass MGE (MSun): 1.082e+13\n",
      "\n",
      "sigma_e: 145.56 km/s\n",
      "theta_E: 0.528 arcsec\n"
     ]
    },
    {
     "name": "stdout",
     "output_type": "stream",
     "text": [
      "jam_axi_proj(align='sph', moment='zz') -- elapsed time sec: 0.91\n",
      "analytic_los=0 logistic=0 constant_anisotropy=1\n",
      "No PSF/pixel convolution because sigmapsf=0 pixsize=0\n",
      "inc=36.8; beta[0]=0.0; kappa=1.00; M/L=1.00; BH=0.0; chi2/DOF=nan\n",
      "Total mass MGE (MSun): 1.082e+13\n",
      "\n",
      "sigma_e: 161.67 km/s\n",
      "theta_E: 0.442 arcsec\n"
     ]
    },
    {
     "name": "stdout",
     "output_type": "stream",
     "text": [
      "jam_axi_proj(align='sph', moment='zz') -- elapsed time sec: 0.99\n",
      "analytic_los=0 logistic=0 constant_anisotropy=1\n",
      "No PSF/pixel convolution because sigmapsf=0 pixsize=0\n",
      "inc=70.3; beta[0]=0.0; kappa=1.00; M/L=1.00; BH=0.0; chi2/DOF=nan\n",
      "Total mass MGE (MSun): 1.082e+13\n",
      "\n",
      "sigma_e: 143.46 km/s\n",
      "theta_E: 0.564 arcsec\n"
     ]
    },
    {
     "name": "stdout",
     "output_type": "stream",
     "text": [
      "jam_axi_proj(align='sph', moment='zz') -- elapsed time sec: 0.88\n",
      "analytic_los=0 logistic=0 constant_anisotropy=1\n",
      "No PSF/pixel convolution because sigmapsf=0 pixsize=0\n",
      "inc=10.8; beta[0]=0.0; kappa=1.00; M/L=1.00; BH=0.0; chi2/DOF=nan\n",
      "Total mass MGE (MSun): 1.082e+13\n",
      "\n",
      "sigma_e: 165.84 km/s\n",
      "theta_E: 0.478 arcsec\n"
     ]
    },
    {
     "name": "stdout",
     "output_type": "stream",
     "text": [
      "jam_axi_proj(align='sph', moment='zz') -- elapsed time sec: 0.97\n",
      "analytic_los=0 logistic=0 constant_anisotropy=1\n",
      "No PSF/pixel convolution because sigmapsf=0 pixsize=0\n",
      "inc=56.6; beta[0]=0.0; kappa=1.00; M/L=1.00; BH=0.0; chi2/DOF=nan\n",
      "Total mass MGE (MSun): 1.082e+13\n",
      "\n",
      "sigma_e: 153.15 km/s\n",
      "theta_E: 0.493 arcsec\n"
     ]
    },
    {
     "name": "stdout",
     "output_type": "stream",
     "text": [
      "jam_axi_proj(align='sph', moment='zz') -- elapsed time sec: 0.92\n",
      "analytic_los=0 logistic=0 constant_anisotropy=1\n",
      "No PSF/pixel convolution because sigmapsf=0 pixsize=0\n",
      "inc=51.3; beta[0]=0.0; kappa=1.00; M/L=1.00; BH=0.0; chi2/DOF=nan\n",
      "Total mass MGE (MSun): 1.082e+13\n",
      "\n",
      "sigma_e: 156.08 km/s\n",
      "theta_E: 0.509 arcsec\n"
     ]
    },
    {
     "name": "stdout",
     "output_type": "stream",
     "text": [
      "jam_axi_proj(align='sph', moment='zz') -- elapsed time sec: 0.93\n",
      "analytic_los=0 logistic=0 constant_anisotropy=1\n",
      "No PSF/pixel convolution because sigmapsf=0 pixsize=0\n",
      "inc=44.8; beta[0]=0.0; kappa=1.00; M/L=1.00; BH=0.0; chi2/DOF=nan\n",
      "Total mass MGE (MSun): 1.082e+13\n",
      "\n",
      "sigma_e: 158.96 km/s\n",
      "theta_E: 0.415 arcsec\n"
     ]
    },
    {
     "name": "stdout",
     "output_type": "stream",
     "text": [
      "jam_axi_proj(align='sph', moment='zz') -- elapsed time sec: 0.94\n",
      "analytic_los=0 logistic=0 constant_anisotropy=1\n",
      "No PSF/pixel convolution because sigmapsf=0 pixsize=0\n",
      "inc=88.9; beta[0]=0.0; kappa=1.00; M/L=1.00; BH=0.0; chi2/DOF=nan\n",
      "Total mass MGE (MSun): 1.082e+13\n",
      "\n",
      "sigma_e: 133.85 km/s\n",
      "theta_E: 0.430 arcsec\n"
     ]
    },
    {
     "name": "stdout",
     "output_type": "stream",
     "text": [
      "jam_axi_proj(align='sph', moment='zz') -- elapsed time sec: 0.97\n",
      "analytic_los=0 logistic=0 constant_anisotropy=1\n",
      "No PSF/pixel convolution because sigmapsf=0 pixsize=0\n",
      "inc=75.4; beta[0]=0.0; kappa=1.00; M/L=1.00; BH=0.0; chi2/DOF=nan\n",
      "Total mass MGE (MSun): 1.082e+13\n",
      "\n",
      "sigma_e: 139.71 km/s\n"
     ]
    },
    {
     "name": "stdout",
     "output_type": "stream",
     "text": [
      "theta_E: 0.515 arcsec\n"
     ]
    },
    {
     "name": "stdout",
     "output_type": "stream",
     "text": [
      "jam_axi_proj(align='sph', moment='zz') -- elapsed time sec: 0.88\n",
      "analytic_los=0 logistic=0 constant_anisotropy=1\n",
      "No PSF/pixel convolution because sigmapsf=0 pixsize=0\n",
      "inc=39.9; beta[0]=0.0; kappa=1.00; M/L=1.00; BH=0.0; chi2/DOF=nan\n",
      "Total mass MGE (MSun): 1.149e+13\n",
      "\n",
      "sigma_e: 159.28 km/s\n",
      "theta_E: 0.544 arcsec\n"
     ]
    },
    {
     "name": "stdout",
     "output_type": "stream",
     "text": [
      "jam_axi_proj(align='sph', moment='zz') -- elapsed time sec: 0.87\n",
      "analytic_los=0 logistic=0 constant_anisotropy=1\n",
      "No PSF/pixel convolution because sigmapsf=0 pixsize=0\n",
      "inc=18.8; beta[0]=0.0; kappa=1.00; M/L=1.00; BH=0.0; chi2/DOF=nan\n",
      "Total mass MGE (MSun): 1.149e+13\n",
      "\n",
      "sigma_e: 162.87 km/s\n",
      "theta_E: 0.440 arcsec\n"
     ]
    },
    {
     "name": "stdout",
     "output_type": "stream",
     "text": [
      "jam_axi_proj(align='sph', moment='zz') -- elapsed time sec: 1.01\n",
      "analytic_los=0 logistic=0 constant_anisotropy=1\n",
      "No PSF/pixel convolution because sigmapsf=0 pixsize=0\n",
      "inc=87.4; beta[0]=0.0; kappa=1.00; M/L=1.00; BH=0.0; chi2/DOF=nan\n",
      "Total mass MGE (MSun): 1.149e+13\n",
      "\n",
      "sigma_e: 142.21 km/s\n",
      "theta_E: 0.482 arcsec\n"
     ]
    },
    {
     "name": "stdout",
     "output_type": "stream",
     "text": [
      "jam_axi_proj(align='sph', moment='zz') -- elapsed time sec: 1.01\n",
      "analytic_los=0 logistic=0 constant_anisotropy=1\n",
      "No PSF/pixel convolution because sigmapsf=0 pixsize=0\n",
      "inc=57.1; beta[0]=0.0; kappa=1.00; M/L=1.00; BH=0.0; chi2/DOF=nan\n",
      "Total mass MGE (MSun): 1.149e+13\n",
      "\n",
      "sigma_e: 153.46 km/s\n",
      "theta_E: 0.440 arcsec\n"
     ]
    },
    {
     "name": "stdout",
     "output_type": "stream",
     "text": [
      "jam_axi_proj(align='sph', moment='zz') -- elapsed time sec: 0.95\n",
      "analytic_los=0 logistic=0 constant_anisotropy=1\n",
      "No PSF/pixel convolution because sigmapsf=0 pixsize=0\n",
      "inc=89.0; beta[0]=0.0; kappa=1.00; M/L=1.00; BH=0.0; chi2/DOF=nan\n",
      "Total mass MGE (MSun): 1.149e+13\n",
      "\n",
      "sigma_e: 142.11 km/s\n",
      "theta_E: 0.512 arcsec\n"
     ]
    },
    {
     "name": "stdout",
     "output_type": "stream",
     "text": [
      "jam_axi_proj(align='sph', moment='zz') -- elapsed time sec: 0.97\n",
      "analytic_los=0 logistic=0 constant_anisotropy=1\n",
      "No PSF/pixel convolution because sigmapsf=0 pixsize=0\n",
      "inc=41.7; beta[0]=0.0; kappa=1.00; M/L=1.00; BH=0.0; chi2/DOF=nan\n",
      "Total mass MGE (MSun): 1.149e+13\n",
      "\n",
      "sigma_e: 158.79 km/s\n",
      "theta_E: 0.519 arcsec\n"
     ]
    },
    {
     "name": "stdout",
     "output_type": "stream",
     "text": [
      "jam_axi_proj(align='sph', moment='zz') -- elapsed time sec: 0.89\n",
      "analytic_los=0 logistic=0 constant_anisotropy=1\n",
      "No PSF/pixel convolution because sigmapsf=0 pixsize=0\n",
      "inc=37.8; beta[0]=0.0; kappa=1.00; M/L=1.00; BH=0.0; chi2/DOF=nan\n",
      "Total mass MGE (MSun): 1.149e+13\n",
      "\n",
      "sigma_e: 159.77 km/s\n",
      "theta_E: 0.545 arcsec\n"
     ]
    },
    {
     "name": "stdout",
     "output_type": "stream",
     "text": [
      "jam_axi_proj(align='sph', moment='zz') -- elapsed time sec: 0.88\n",
      "analytic_los=0 logistic=0 constant_anisotropy=1\n",
      "No PSF/pixel convolution because sigmapsf=0 pixsize=0\n",
      "inc=18.6; beta[0]=0.0; kappa=1.00; M/L=1.00; BH=0.0; chi2/DOF=nan\n",
      "Total mass MGE (MSun): 1.149e+13\n",
      "\n",
      "sigma_e: 162.89 km/s\n",
      "theta_E: 0.503 arcsec\n"
     ]
    },
    {
     "name": "stdout",
     "output_type": "stream",
     "text": [
      "jam_axi_proj(align='sph', moment='zz') -- elapsed time sec: 0.89\n",
      "analytic_los=0 logistic=0 constant_anisotropy=1\n",
      "No PSF/pixel convolution because sigmapsf=0 pixsize=0\n",
      "inc=46.6; beta[0]=0.0; kappa=1.00; M/L=1.00; BH=0.0; chi2/DOF=nan\n",
      "Total mass MGE (MSun): 1.149e+13\n",
      "\n",
      "sigma_e: 157.37 km/s\n",
      "theta_E: 0.440 arcsec\n"
     ]
    },
    {
     "name": "stdout",
     "output_type": "stream",
     "text": [
      "jam_axi_proj(align='sph', moment='zz') -- elapsed time sec: 0.98\n",
      "analytic_los=0 logistic=0 constant_anisotropy=1\n",
      "No PSF/pixel convolution because sigmapsf=0 pixsize=0\n",
      "inc=87.3; beta[0]=0.0; kappa=1.00; M/L=1.00; BH=0.0; chi2/DOF=nan\n",
      "Total mass MGE (MSun): 1.149e+13\n",
      "\n",
      "sigma_e: 142.21 km/s\n"
     ]
    },
    {
     "name": "stdout",
     "output_type": "stream",
     "text": [
      "theta_E: 0.478 arcsec\n"
     ]
    },
    {
     "name": "stdout",
     "output_type": "stream",
     "text": [
      "jam_axi_proj(align='sph', moment='zz') -- elapsed time sec: 0.88\n",
      "analytic_los=0 logistic=0 constant_anisotropy=1\n",
      "No PSF/pixel convolution because sigmapsf=0 pixsize=0\n",
      "inc=35.7; beta[0]=0.0; kappa=1.00; M/L=1.00; BH=0.0; chi2/DOF=nan\n",
      "Total mass MGE (MSun): 9.875e+12\n",
      "\n",
      "sigma_e: 153.48 km/s\n",
      "theta_E: 0.479 arcsec\n"
     ]
    },
    {
     "name": "stdout",
     "output_type": "stream",
     "text": [
      "jam_axi_proj(align='sph', moment='zz') -- elapsed time sec: 0.89\n",
      "analytic_los=0 logistic=0 constant_anisotropy=1\n",
      "No PSF/pixel convolution because sigmapsf=0 pixsize=0\n",
      "inc=34.4; beta[0]=0.0; kappa=1.00; M/L=1.00; BH=0.0; chi2/DOF=nan\n",
      "Total mass MGE (MSun): 9.875e+12\n",
      "\n",
      "sigma_e: 153.72 km/s\n",
      "theta_E: 0.465 arcsec\n"
     ]
    },
    {
     "name": "stdout",
     "output_type": "stream",
     "text": [
      "jam_axi_proj(align='sph', moment='zz') -- elapsed time sec: 0.94\n",
      "analytic_los=0 logistic=0 constant_anisotropy=1\n",
      "No PSF/pixel convolution because sigmapsf=0 pixsize=0\n",
      "inc=44.3; beta[0]=0.0; kappa=1.00; M/L=1.00; BH=0.0; chi2/DOF=nan\n",
      "Total mass MGE (MSun): 9.875e+12\n",
      "\n",
      "sigma_e: 151.57 km/s\n",
      "theta_E: 0.424 arcsec\n"
     ]
    },
    {
     "name": "stdout",
     "output_type": "stream",
     "text": [
      "jam_axi_proj(align='sph', moment='zz') -- elapsed time sec: 1.04\n",
      "analytic_los=0 logistic=0 constant_anisotropy=1\n",
      "No PSF/pixel convolution because sigmapsf=0 pixsize=0\n",
      "inc=71.0; beta[0]=0.0; kappa=1.00; M/L=1.00; BH=0.0; chi2/DOF=nan\n",
      "Total mass MGE (MSun): 9.875e+12\n",
      "\n",
      "sigma_e: 142.75 km/s\n",
      "theta_E: 0.427 arcsec\n"
     ]
    },
    {
     "name": "stdout",
     "output_type": "stream",
     "text": [
      "jam_axi_proj(align='sph', moment='zz') -- elapsed time sec: 0.93\n",
      "analytic_los=0 logistic=0 constant_anisotropy=1\n",
      "No PSF/pixel convolution because sigmapsf=0 pixsize=0\n",
      "inc=68.9; beta[0]=0.0; kappa=1.00; M/L=1.00; BH=0.0; chi2/DOF=nan\n",
      "Total mass MGE (MSun): 9.875e+12\n",
      "\n",
      "sigma_e: 143.50 km/s\n",
      "theta_E: 0.419 arcsec\n"
     ]
    },
    {
     "name": "stdout",
     "output_type": "stream",
     "text": [
      "jam_axi_proj(align='sph', moment='zz') -- elapsed time sec: 0.93\n",
      "analytic_los=0 logistic=0 constant_anisotropy=1\n",
      "No PSF/pixel convolution because sigmapsf=0 pixsize=0\n",
      "inc=75.0; beta[0]=0.0; kappa=1.00; M/L=1.00; BH=0.0; chi2/DOF=nan\n",
      "Total mass MGE (MSun): 9.875e+12\n",
      "\n",
      "sigma_e: 141.42 km/s\n",
      "theta_E: 0.460 arcsec\n"
     ]
    },
    {
     "name": "stdout",
     "output_type": "stream",
     "text": [
      "jam_axi_proj(align='sph', moment='zz') -- elapsed time sec: 0.92\n",
      "analytic_los=0 logistic=0 constant_anisotropy=1\n",
      "No PSF/pixel convolution because sigmapsf=0 pixsize=0\n",
      "inc=47.7; beta[0]=0.0; kappa=1.00; M/L=1.00; BH=0.0; chi2/DOF=nan\n",
      "Total mass MGE (MSun): 9.875e+12\n",
      "\n",
      "sigma_e: 150.65 km/s\n",
      "theta_E: 0.485 arcsec\n"
     ]
    },
    {
     "name": "stdout",
     "output_type": "stream",
     "text": [
      "jam_axi_proj(align='sph', moment='zz') -- elapsed time sec: 0.88\n",
      "analytic_los=0 logistic=0 constant_anisotropy=1\n",
      "No PSF/pixel convolution because sigmapsf=0 pixsize=0\n",
      "inc=29.5; beta[0]=0.0; kappa=1.00; M/L=1.00; BH=0.0; chi2/DOF=nan\n",
      "Total mass MGE (MSun): 9.875e+12\n",
      "\n",
      "sigma_e: 154.51 km/s\n",
      "theta_E: 0.453 arcsec\n"
     ]
    },
    {
     "name": "stdout",
     "output_type": "stream",
     "text": [
      "jam_axi_proj(align='sph', moment='zz') -- elapsed time sec: 0.91\n",
      "analytic_los=0 logistic=0 constant_anisotropy=1\n",
      "No PSF/pixel convolution because sigmapsf=0 pixsize=0\n",
      "inc=52.0; beta[0]=0.0; kappa=1.00; M/L=1.00; BH=0.0; chi2/DOF=nan\n",
      "Total mass MGE (MSun): 9.875e+12\n",
      "\n",
      "sigma_e: 149.40 km/s\n",
      "theta_E: 0.412 arcsec\n"
     ]
    },
    {
     "name": "stdout",
     "output_type": "stream",
     "text": [
      "jam_axi_proj(align='sph', moment='zz') -- elapsed time sec: 0.93\n",
      "analytic_los=0 logistic=0 constant_anisotropy=1\n",
      "No PSF/pixel convolution because sigmapsf=0 pixsize=0\n",
      "inc=84.4; beta[0]=0.0; kappa=1.00; M/L=1.00; BH=0.0; chi2/DOF=nan\n",
      "Total mass MGE (MSun): 9.875e+12\n",
      "\n",
      "sigma_e: 139.25 km/s\n"
     ]
    },
    {
     "name": "stdout",
     "output_type": "stream",
     "text": [
      "theta_E: 0.352 arcsec\n"
     ]
    },
    {
     "name": "stdout",
     "output_type": "stream",
     "text": [
      "jam_axi_proj(align='sph', moment='zz') -- elapsed time sec: 0.99\n",
      "analytic_los=0 logistic=0 constant_anisotropy=1\n",
      "No PSF/pixel convolution because sigmapsf=0 pixsize=0\n",
      "inc=76.0; beta[0]=0.0; kappa=1.00; M/L=1.00; BH=0.0; chi2/DOF=nan\n",
      "Total mass MGE (MSun): 7.315e+12\n",
      "\n",
      "sigma_e: 127.01 km/s\n",
      "theta_E: 0.352 arcsec\n"
     ]
    },
    {
     "name": "stdout",
     "output_type": "stream",
     "text": [
      "jam_axi_proj(align='sph', moment='zz') -- elapsed time sec: 1.01\n",
      "analytic_los=0 logistic=0 constant_anisotropy=1\n",
      "No PSF/pixel convolution because sigmapsf=0 pixsize=0\n",
      "inc=75.9; beta[0]=0.0; kappa=1.00; M/L=1.00; BH=0.0; chi2/DOF=nan\n",
      "Total mass MGE (MSun): 7.315e+12\n",
      "\n",
      "sigma_e: 127.07 km/s\n",
      "theta_E: 0.413 arcsec\n"
     ]
    },
    {
     "name": "stdout",
     "output_type": "stream",
     "text": [
      "jam_axi_proj(align='sph', moment='zz') -- elapsed time sec: 0.92\n",
      "analytic_los=0 logistic=0 constant_anisotropy=1\n",
      "No PSF/pixel convolution because sigmapsf=0 pixsize=0\n",
      "inc=46.7; beta[0]=0.0; kappa=1.00; M/L=1.00; BH=0.0; chi2/DOF=nan\n",
      "Total mass MGE (MSun): 7.315e+12\n",
      "\n",
      "sigma_e: 143.61 km/s\n",
      "theta_E: 0.447 arcsec\n"
     ]
    },
    {
     "name": "stdout",
     "output_type": "stream",
     "text": [
      "jam_axi_proj(align='sph', moment='zz') -- elapsed time sec: 0.92\n",
      "analytic_los=0 logistic=0 constant_anisotropy=1\n",
      "No PSF/pixel convolution because sigmapsf=0 pixsize=0\n",
      "inc=27.1; beta[0]=0.0; kappa=1.00; M/L=1.00; BH=0.0; chi2/DOF=nan\n",
      "Total mass MGE (MSun): 7.315e+12\n",
      "\n",
      "sigma_e: 148.73 km/s\n",
      "theta_E: 0.414 arcsec\n"
     ]
    },
    {
     "name": "stdout",
     "output_type": "stream",
     "text": [
      "jam_axi_proj(align='sph', moment='zz') -- elapsed time sec: 0.97\n",
      "analytic_los=0 logistic=0 constant_anisotropy=1\n",
      "No PSF/pixel convolution because sigmapsf=0 pixsize=0\n",
      "inc=46.2; beta[0]=0.0; kappa=1.00; M/L=1.00; BH=0.0; chi2/DOF=nan\n",
      "Total mass MGE (MSun): 7.315e+12\n",
      "\n",
      "sigma_e: 143.82 km/s\n",
      "theta_E: 0.360 arcsec\n"
     ]
    },
    {
     "name": "stdout",
     "output_type": "stream",
     "text": [
      "jam_axi_proj(align='sph', moment='zz') -- elapsed time sec: 1.00\n",
      "analytic_los=0 logistic=0 constant_anisotropy=1\n",
      "No PSF/pixel convolution because sigmapsf=0 pixsize=0\n",
      "inc=71.3; beta[0]=0.0; kappa=1.00; M/L=1.00; BH=0.0; chi2/DOF=nan\n",
      "Total mass MGE (MSun): 7.315e+12\n",
      "\n",
      "sigma_e: 129.98 km/s\n",
      "theta_E: 0.341 arcsec\n"
     ]
    },
    {
     "name": "stdout",
     "output_type": "stream",
     "text": [
      "jam_axi_proj(align='sph', moment='zz') -- elapsed time sec: 0.98\n",
      "analytic_los=0 logistic=0 constant_anisotropy=1\n",
      "No PSF/pixel convolution because sigmapsf=0 pixsize=0\n",
      "inc=87.5; beta[0]=0.0; kappa=1.00; M/L=1.00; BH=0.0; chi2/DOF=nan\n",
      "Total mass MGE (MSun): 7.315e+12\n",
      "\n",
      "sigma_e: 122.40 km/s\n",
      "theta_E: 0.464 arcsec\n"
     ]
    },
    {
     "name": "stdout",
     "output_type": "stream",
     "text": [
      "jam_axi_proj(align='sph', moment='zz') -- elapsed time sec: 0.91\n",
      "analytic_los=0 logistic=0 constant_anisotropy=1\n",
      "No PSF/pixel convolution because sigmapsf=0 pixsize=0\n",
      "inc=5.66; beta[0]=0.0; kappa=1.00; M/L=1.00; BH=0.0; chi2/DOF=nan\n",
      "Total mass MGE (MSun): 7.315e+12\n",
      "\n",
      "sigma_e: 150.65 km/s\n",
      "theta_E: 0.342 arcsec\n"
     ]
    },
    {
     "name": "stdout",
     "output_type": "stream",
     "text": [
      "jam_axi_proj(align='sph', moment='zz') -- elapsed time sec: 0.99\n",
      "analytic_los=0 logistic=0 constant_anisotropy=1\n",
      "No PSF/pixel convolution because sigmapsf=0 pixsize=0\n",
      "inc=85.7; beta[0]=0.0; kappa=1.00; M/L=1.00; BH=0.0; chi2/DOF=nan\n",
      "Total mass MGE (MSun): 7.315e+12\n",
      "\n",
      "sigma_e: 122.74 km/s\n",
      "theta_E: 0.387 arcsec\n"
     ]
    },
    {
     "name": "stdout",
     "output_type": "stream",
     "text": [
      "jam_axi_proj(align='sph', moment='zz') -- elapsed time sec: 0.97\n",
      "analytic_los=0 logistic=0 constant_anisotropy=1\n",
      "No PSF/pixel convolution because sigmapsf=0 pixsize=0\n",
      "inc=58.6; beta[0]=0.0; kappa=1.00; M/L=1.00; BH=0.0; chi2/DOF=nan\n",
      "Total mass MGE (MSun): 7.315e+12\n",
      "\n",
      "sigma_e: 137.93 km/s\n"
     ]
    },
    {
     "name": "stdout",
     "output_type": "stream",
     "text": [
      "theta_E: 0.459 arcsec\n"
     ]
    },
    {
     "name": "stdout",
     "output_type": "stream",
     "text": [
      "jam_axi_proj(align='sph', moment='zz') -- elapsed time sec: 0.91\n",
      "analytic_los=0 logistic=0 constant_anisotropy=1\n",
      "No PSF/pixel convolution because sigmapsf=0 pixsize=0\n",
      "inc=24.5; beta[0]=0.0; kappa=1.00; M/L=1.00; BH=0.0; chi2/DOF=nan\n",
      "Total mass MGE (MSun): 7.600e+12\n",
      "\n",
      "sigma_e: 150.63 km/s\n",
      "theta_E: 0.470 arcsec\n"
     ]
    },
    {
     "name": "stdout",
     "output_type": "stream",
     "text": [
      "jam_axi_proj(align='sph', moment='zz') -- elapsed time sec: 0.89\n",
      "analytic_los=0 logistic=0 constant_anisotropy=1\n",
      "No PSF/pixel convolution because sigmapsf=0 pixsize=0\n",
      "inc=12.6; beta[0]=0.0; kappa=1.00; M/L=1.00; BH=0.0; chi2/DOF=nan\n",
      "Total mass MGE (MSun): 7.600e+12\n",
      "\n",
      "sigma_e: 151.84 km/s\n",
      "theta_E: 0.374 arcsec\n"
     ]
    },
    {
     "name": "stdout",
     "output_type": "stream",
     "text": [
      "jam_axi_proj(align='sph', moment='zz') -- elapsed time sec: 1.02\n",
      "analytic_los=0 logistic=0 constant_anisotropy=1\n",
      "No PSF/pixel convolution because sigmapsf=0 pixsize=0\n",
      "inc=68.0; beta[0]=0.0; kappa=1.00; M/L=1.00; BH=0.0; chi2/DOF=nan\n",
      "Total mass MGE (MSun): 7.600e+12\n",
      "\n",
      "sigma_e: 133.44 km/s\n",
      "theta_E: 0.402 arcsec\n"
     ]
    },
    {
     "name": "stdout",
     "output_type": "stream",
     "text": [
      "jam_axi_proj(align='sph', moment='zz') -- elapsed time sec: 1.04\n",
      "analytic_los=0 logistic=0 constant_anisotropy=1\n",
      "No PSF/pixel convolution because sigmapsf=0 pixsize=0\n",
      "inc=55.3; beta[0]=0.0; kappa=1.00; M/L=1.00; BH=0.0; chi2/DOF=nan\n",
      "Total mass MGE (MSun): 7.600e+12\n",
      "\n",
      "sigma_e: 141.14 km/s\n",
      "theta_E: 0.373 arcsec\n"
     ]
    },
    {
     "name": "stdout",
     "output_type": "stream",
     "text": [
      "jam_axi_proj(align='sph', moment='zz') -- elapsed time sec: 1.01\n",
      "analytic_los=0 logistic=0 constant_anisotropy=1\n",
      "No PSF/pixel convolution because sigmapsf=0 pixsize=0\n",
      "inc=68.2; beta[0]=0.0; kappa=1.00; M/L=1.00; BH=0.0; chi2/DOF=nan\n",
      "Total mass MGE (MSun): 7.600e+12\n",
      "\n",
      "sigma_e: 133.32 km/s\n",
      "theta_E: 0.381 arcsec\n"
     ]
    },
    {
     "name": "stdout",
     "output_type": "stream",
     "text": [
      "jam_axi_proj(align='sph', moment='zz') -- elapsed time sec: 1.00\n",
      "analytic_los=0 logistic=0 constant_anisotropy=1\n",
      "No PSF/pixel convolution because sigmapsf=0 pixsize=0\n",
      "inc=64.8; beta[0]=0.0; kappa=1.00; M/L=1.00; BH=0.0; chi2/DOF=nan\n",
      "Total mass MGE (MSun): 7.600e+12\n",
      "\n",
      "sigma_e: 135.54 km/s\n",
      "theta_E: 0.380 arcsec\n"
     ]
    },
    {
     "name": "stdout",
     "output_type": "stream",
     "text": [
      "jam_axi_proj(align='sph', moment='zz') -- elapsed time sec: 0.98\n",
      "analytic_los=0 logistic=0 constant_anisotropy=1\n",
      "No PSF/pixel convolution because sigmapsf=0 pixsize=0\n",
      "inc=65.0; beta[0]=0.0; kappa=1.00; M/L=1.00; BH=0.0; chi2/DOF=nan\n",
      "Total mass MGE (MSun): 7.600e+12\n",
      "\n",
      "sigma_e: 135.39 km/s\n",
      "theta_E: 0.395 arcsec\n"
     ]
    },
    {
     "name": "stdout",
     "output_type": "stream",
     "text": [
      "jam_axi_proj(align='sph', moment='zz') -- elapsed time sec: 0.97\n",
      "analytic_los=0 logistic=0 constant_anisotropy=1\n",
      "No PSF/pixel convolution because sigmapsf=0 pixsize=0\n",
      "inc=58.5; beta[0]=0.0; kappa=1.00; M/L=1.00; BH=0.0; chi2/DOF=nan\n",
      "Total mass MGE (MSun): 7.600e+12\n",
      "\n",
      "sigma_e: 139.37 km/s\n",
      "theta_E: 0.460 arcsec\n"
     ]
    },
    {
     "name": "stdout",
     "output_type": "stream",
     "text": [
      "jam_axi_proj(align='sph', moment='zz') -- elapsed time sec: 0.91\n",
      "analytic_los=0 logistic=0 constant_anisotropy=1\n",
      "No PSF/pixel convolution because sigmapsf=0 pixsize=0\n",
      "inc=23.4; beta[0]=0.0; kappa=1.00; M/L=1.00; BH=0.0; chi2/DOF=nan\n",
      "Total mass MGE (MSun): 7.600e+12\n",
      "\n",
      "sigma_e: 150.78 km/s\n",
      "theta_E: 0.385 arcsec\n"
     ]
    },
    {
     "name": "stdout",
     "output_type": "stream",
     "text": [
      "jam_axi_proj(align='sph', moment='zz') -- elapsed time sec: 0.99\n",
      "analytic_los=0 logistic=0 constant_anisotropy=1\n",
      "No PSF/pixel convolution because sigmapsf=0 pixsize=0\n",
      "inc=62.8; beta[0]=0.0; kappa=1.00; M/L=1.00; BH=0.0; chi2/DOF=nan\n",
      "Total mass MGE (MSun): 7.600e+12\n",
      "\n",
      "sigma_e: 136.83 km/s\n"
     ]
    },
    {
     "name": "stdout",
     "output_type": "stream",
     "text": [
      "theta_E: 0.398 arcsec\n"
     ]
    },
    {
     "name": "stdout",
     "output_type": "stream",
     "text": [
      "jam_axi_proj(align='sph', moment='zz') -- elapsed time sec: 0.95\n",
      "analytic_los=0 logistic=0 constant_anisotropy=1\n",
      "No PSF/pixel convolution because sigmapsf=0 pixsize=0\n",
      "inc=65.0; beta[0]=0.0; kappa=1.00; M/L=1.00; BH=0.0; chi2/DOF=nan\n",
      "Total mass MGE (MSun): 8.360e+12\n",
      "\n",
      "sigma_e: 138.36 km/s\n",
      "theta_E: 0.470 arcsec\n"
     ]
    },
    {
     "name": "stdout",
     "output_type": "stream",
     "text": [
      "jam_axi_proj(align='sph', moment='zz') -- elapsed time sec: 0.88\n",
      "analytic_los=0 logistic=0 constant_anisotropy=1\n",
      "No PSF/pixel convolution because sigmapsf=0 pixsize=0\n",
      "inc=22.3; beta[0]=0.0; kappa=1.00; M/L=1.00; BH=0.0; chi2/DOF=nan\n",
      "Total mass MGE (MSun): 8.360e+12\n",
      "\n",
      "sigma_e: 151.82 km/s\n",
      "theta_E: 0.433 arcsec\n"
     ]
    },
    {
     "name": "stdout",
     "output_type": "stream",
     "text": [
      "jam_axi_proj(align='sph', moment='zz') -- elapsed time sec: 0.90\n",
      "analytic_los=0 logistic=0 constant_anisotropy=1\n",
      "No PSF/pixel convolution because sigmapsf=0 pixsize=0\n",
      "inc=46.9; beta[0]=0.0; kappa=1.00; M/L=1.00; BH=0.0; chi2/DOF=nan\n",
      "Total mass MGE (MSun): 8.360e+12\n",
      "\n",
      "sigma_e: 146.45 km/s\n",
      "theta_E: 0.414 arcsec\n"
     ]
    },
    {
     "name": "stdout",
     "output_type": "stream",
     "text": [
      "jam_axi_proj(align='sph', moment='zz') -- elapsed time sec: 1.02\n",
      "analytic_los=0 logistic=0 constant_anisotropy=1\n",
      "No PSF/pixel convolution because sigmapsf=0 pixsize=0\n",
      "inc=56.7; beta[0]=0.0; kappa=1.00; M/L=1.00; BH=0.0; chi2/DOF=nan\n",
      "Total mass MGE (MSun): 8.360e+12\n",
      "\n",
      "sigma_e: 142.53 km/s\n",
      "theta_E: 0.443 arcsec\n"
     ]
    },
    {
     "name": "stdout",
     "output_type": "stream",
     "text": [
      "jam_axi_proj(align='sph', moment='zz') -- elapsed time sec: 0.90\n",
      "analytic_los=0 logistic=0 constant_anisotropy=1\n",
      "No PSF/pixel convolution because sigmapsf=0 pixsize=0\n",
      "inc=41.4; beta[0]=0.0; kappa=1.00; M/L=1.00; BH=0.0; chi2/DOF=nan\n",
      "Total mass MGE (MSun): 8.360e+12\n",
      "\n",
      "sigma_e: 148.14 km/s\n",
      "theta_E: 0.373 arcsec\n"
     ]
    },
    {
     "name": "stdout",
     "output_type": "stream",
     "text": [
      "jam_axi_proj(align='sph', moment='zz') -- elapsed time sec: 1.00\n",
      "analytic_los=0 logistic=0 constant_anisotropy=1\n",
      "No PSF/pixel convolution because sigmapsf=0 pixsize=0\n",
      "inc=82.8; beta[0]=0.0; kappa=1.00; M/L=1.00; BH=0.0; chi2/DOF=nan\n",
      "Total mass MGE (MSun): 8.360e+12\n",
      "\n",
      "sigma_e: 130.23 km/s\n",
      "theta_E: 0.379 arcsec\n"
     ]
    },
    {
     "name": "stdout",
     "output_type": "stream",
     "text": [
      "jam_axi_proj(align='sph', moment='zz') -- elapsed time sec: 0.99\n",
      "analytic_los=0 logistic=0 constant_anisotropy=1\n",
      "No PSF/pixel convolution because sigmapsf=0 pixsize=0\n",
      "inc=76.9; beta[0]=0.0; kappa=1.00; M/L=1.00; BH=0.0; chi2/DOF=nan\n",
      "Total mass MGE (MSun): 8.360e+12\n",
      "\n",
      "sigma_e: 132.38 km/s\n",
      "theta_E: 0.375 arcsec\n"
     ]
    },
    {
     "name": "stdout",
     "output_type": "stream",
     "text": [
      "jam_axi_proj(align='sph', moment='zz') -- elapsed time sec: 0.97\n",
      "analytic_los=0 logistic=0 constant_anisotropy=1\n",
      "No PSF/pixel convolution because sigmapsf=0 pixsize=0\n",
      "inc=80.0; beta[0]=0.0; kappa=1.00; M/L=1.00; BH=0.0; chi2/DOF=nan\n",
      "Total mass MGE (MSun): 8.360e+12\n",
      "\n",
      "sigma_e: 131.14 km/s\n",
      "theta_E: 0.371 arcsec\n"
     ]
    },
    {
     "name": "stdout",
     "output_type": "stream",
     "text": [
      "jam_axi_proj(align='sph', moment='zz') -- elapsed time sec: 0.96\n",
      "analytic_los=0 logistic=0 constant_anisotropy=1\n",
      "No PSF/pixel convolution because sigmapsf=0 pixsize=0\n",
      "inc=85.5; beta[0]=0.0; kappa=1.00; M/L=1.00; BH=0.0; chi2/DOF=nan\n",
      "Total mass MGE (MSun): 8.360e+12\n",
      "\n",
      "sigma_e: 129.60 km/s\n",
      "theta_E: 0.407 arcsec\n"
     ]
    },
    {
     "name": "stdout",
     "output_type": "stream",
     "text": [
      "jam_axi_proj(align='sph', moment='zz') -- elapsed time sec: 0.94\n",
      "analytic_los=0 logistic=0 constant_anisotropy=1\n",
      "No PSF/pixel convolution because sigmapsf=0 pixsize=0\n",
      "inc=60.1; beta[0]=0.0; kappa=1.00; M/L=1.00; BH=0.0; chi2/DOF=nan\n",
      "Total mass MGE (MSun): 8.360e+12\n",
      "\n",
      "sigma_e: 140.88 km/s\n"
     ]
    },
    {
     "name": "stdout",
     "output_type": "stream",
     "text": [
      "theta_E: 0.347 arcsec\n"
     ]
    },
    {
     "name": "stdout",
     "output_type": "stream",
     "text": [
      "jam_axi_proj(align='sph', moment='zz') -- elapsed time sec: 1.04\n",
      "analytic_los=0 logistic=0 constant_anisotropy=1\n",
      "No PSF/pixel convolution because sigmapsf=0 pixsize=0\n",
      "inc=81.8; beta[0]=0.0; kappa=1.00; M/L=1.00; BH=0.0; chi2/DOF=nan\n",
      "Total mass MGE (MSun): 7.375e+12\n",
      "\n",
      "sigma_e: 124.85 km/s\n",
      "theta_E: 0.441 arcsec\n"
     ]
    },
    {
     "name": "stdout",
     "output_type": "stream",
     "text": [
      "jam_axi_proj(align='sph', moment='zz') -- elapsed time sec: 0.94\n",
      "analytic_los=0 logistic=0 constant_anisotropy=1\n",
      "No PSF/pixel convolution because sigmapsf=0 pixsize=0\n",
      "inc=30.3; beta[0]=0.0; kappa=1.00; M/L=1.00; BH=0.0; chi2/DOF=nan\n",
      "Total mass MGE (MSun): 7.375e+12\n",
      "\n",
      "sigma_e: 147.88 km/s\n",
      "theta_E: 0.349 arcsec\n"
     ]
    },
    {
     "name": "stdout",
     "output_type": "stream",
     "text": [
      "jam_axi_proj(align='sph', moment='zz') -- elapsed time sec: 1.06\n",
      "analytic_los=0 logistic=0 constant_anisotropy=1\n",
      "No PSF/pixel convolution because sigmapsf=0 pixsize=0\n",
      "inc=79.9; beta[0]=0.0; kappa=1.00; M/L=1.00; BH=0.0; chi2/DOF=nan\n",
      "Total mass MGE (MSun): 7.375e+12\n",
      "\n",
      "sigma_e: 125.64 km/s\n",
      "theta_E: 0.348 arcsec\n"
     ]
    },
    {
     "name": "stdout",
     "output_type": "stream",
     "text": [
      "jam_axi_proj(align='sph', moment='zz') -- elapsed time sec: 1.07\n",
      "analytic_los=0 logistic=0 constant_anisotropy=1\n",
      "No PSF/pixel convolution because sigmapsf=0 pixsize=0\n",
      "inc=81.1; beta[0]=0.0; kappa=1.00; M/L=1.00; BH=0.0; chi2/DOF=nan\n",
      "Total mass MGE (MSun): 7.375e+12\n",
      "\n",
      "sigma_e: 125.14 km/s\n",
      "theta_E: 0.353 arcsec\n"
     ]
    },
    {
     "name": "stdout",
     "output_type": "stream",
     "text": [
      "jam_axi_proj(align='sph', moment='zz') -- elapsed time sec: 1.01\n",
      "analytic_los=0 logistic=0 constant_anisotropy=1\n",
      "No PSF/pixel convolution because sigmapsf=0 pixsize=0\n",
      "inc=76.9; beta[0]=0.0; kappa=1.00; M/L=1.00; BH=0.0; chi2/DOF=nan\n",
      "Total mass MGE (MSun): 7.375e+12\n",
      "\n",
      "sigma_e: 127.18 km/s\n",
      "theta_E: 0.419 arcsec\n"
     ]
    },
    {
     "name": "stdout",
     "output_type": "stream",
     "text": [
      "jam_axi_proj(align='sph', moment='zz') -- elapsed time sec: 0.92\n",
      "analytic_los=0 logistic=0 constant_anisotropy=1\n",
      "No PSF/pixel convolution because sigmapsf=0 pixsize=0\n",
      "inc=43.6; beta[0]=0.0; kappa=1.00; M/L=1.00; BH=0.0; chi2/DOF=nan\n",
      "Total mass MGE (MSun): 7.375e+12\n",
      "\n",
      "sigma_e: 144.52 km/s\n",
      "theta_E: 0.360 arcsec\n"
     ]
    },
    {
     "name": "stdout",
     "output_type": "stream",
     "text": [
      "jam_axi_proj(align='sph', moment='zz') -- elapsed time sec: 0.95\n",
      "analytic_los=0 logistic=0 constant_anisotropy=1\n",
      "No PSF/pixel convolution because sigmapsf=0 pixsize=0\n",
      "inc=72.5; beta[0]=0.0; kappa=1.00; M/L=1.00; BH=0.0; chi2/DOF=nan\n",
      "Total mass MGE (MSun): 7.375e+12\n",
      "\n",
      "sigma_e: 129.72 km/s\n",
      "theta_E: 0.393 arcsec\n"
     ]
    },
    {
     "name": "stdout",
     "output_type": "stream",
     "text": [
      "jam_axi_proj(align='sph', moment='zz') -- elapsed time sec: 0.93\n",
      "analytic_los=0 logistic=0 constant_anisotropy=1\n",
      "No PSF/pixel convolution because sigmapsf=0 pixsize=0\n",
      "inc=56.0; beta[0]=0.0; kappa=1.00; M/L=1.00; BH=0.0; chi2/DOF=nan\n",
      "Total mass MGE (MSun): 7.375e+12\n",
      "\n",
      "sigma_e: 139.40 km/s\n",
      "theta_E: 0.413 arcsec\n"
     ]
    },
    {
     "name": "stdout",
     "output_type": "stream",
     "text": [
      "jam_axi_proj(align='sph', moment='zz') -- elapsed time sec: 0.92\n",
      "analytic_los=0 logistic=0 constant_anisotropy=1\n",
      "No PSF/pixel convolution because sigmapsf=0 pixsize=0\n",
      "inc=46.5; beta[0]=0.0; kappa=1.00; M/L=1.00; BH=0.0; chi2/DOF=nan\n",
      "Total mass MGE (MSun): 7.375e+12\n",
      "\n",
      "sigma_e: 143.51 km/s\n",
      "theta_E: 0.420 arcsec\n"
     ]
    },
    {
     "name": "stdout",
     "output_type": "stream",
     "text": [
      "jam_axi_proj(align='sph', moment='zz') -- elapsed time sec: 0.94\n",
      "analytic_los=0 logistic=0 constant_anisotropy=1\n",
      "No PSF/pixel convolution because sigmapsf=0 pixsize=0\n",
      "inc=42.6; beta[0]=0.0; kappa=1.00; M/L=1.00; BH=0.0; chi2/DOF=nan\n",
      "Total mass MGE (MSun): 7.375e+12\n",
      "\n",
      "sigma_e: 144.83 km/s\n"
     ]
    },
    {
     "name": "stdout",
     "output_type": "stream",
     "text": [
      "theta_E: 0.453 arcsec\n"
     ]
    },
    {
     "name": "stdout",
     "output_type": "stream",
     "text": [
      "jam_axi_proj(align='sph', moment='zz') -- elapsed time sec: 0.84\n",
      "analytic_los=0 logistic=0 constant_anisotropy=1\n",
      "No PSF/pixel convolution because sigmapsf=0 pixsize=0\n",
      "inc=16.5; beta[0]=0.0; kappa=1.00; M/L=1.00; BH=0.0; chi2/DOF=nan\n",
      "Total mass MGE (MSun): 7.865e+12\n",
      "\n",
      "sigma_e: 149.11 km/s\n",
      "theta_E: 0.396 arcsec\n"
     ]
    },
    {
     "name": "stdout",
     "output_type": "stream",
     "text": [
      "jam_axi_proj(align='sph', moment='zz') -- elapsed time sec: 0.93\n",
      "analytic_los=0 logistic=0 constant_anisotropy=1\n",
      "No PSF/pixel convolution because sigmapsf=0 pixsize=0\n",
      "inc=58.7; beta[0]=0.0; kappa=1.00; M/L=1.00; BH=0.0; chi2/DOF=nan\n",
      "Total mass MGE (MSun): 7.865e+12\n",
      "\n",
      "sigma_e: 139.53 km/s\n",
      "theta_E: 0.376 arcsec\n"
     ]
    },
    {
     "name": "stdout",
     "output_type": "stream",
     "text": [
      "jam_axi_proj(align='sph', moment='zz') -- elapsed time sec: 0.94\n",
      "analytic_los=0 logistic=0 constant_anisotropy=1\n",
      "No PSF/pixel convolution because sigmapsf=0 pixsize=0\n",
      "inc=71.5; beta[0]=0.0; kappa=1.00; M/L=1.00; BH=0.0; chi2/DOF=nan\n",
      "Total mass MGE (MSun): 7.865e+12\n",
      "\n",
      "sigma_e: 134.12 km/s\n",
      "theta_E: 0.411 arcsec\n"
     ]
    },
    {
     "name": "stdout",
     "output_type": "stream",
     "text": [
      "jam_axi_proj(align='sph', moment='zz') -- elapsed time sec: 0.94\n",
      "analytic_los=0 logistic=0 constant_anisotropy=1\n",
      "No PSF/pixel convolution because sigmapsf=0 pixsize=0\n",
      "inc=49.7; beta[0]=0.0; kappa=1.00; M/L=1.00; BH=0.0; chi2/DOF=nan\n",
      "Total mass MGE (MSun): 7.865e+12\n",
      "\n",
      "sigma_e: 142.83 km/s\n",
      "theta_E: 0.371 arcsec\n"
     ]
    },
    {
     "name": "stdout",
     "output_type": "stream",
     "text": [
      "jam_axi_proj(align='sph', moment='zz') -- elapsed time sec: 0.95\n",
      "analytic_los=0 logistic=0 constant_anisotropy=1\n",
      "No PSF/pixel convolution because sigmapsf=0 pixsize=0\n",
      "inc=75.7; beta[0]=0.0; kappa=1.00; M/L=1.00; BH=0.0; chi2/DOF=nan\n",
      "Total mass MGE (MSun): 7.865e+12\n",
      "\n",
      "sigma_e: 132.43 km/s\n",
      "theta_E: 0.376 arcsec\n"
     ]
    },
    {
     "name": "stdout",
     "output_type": "stream",
     "text": [
      "jam_axi_proj(align='sph', moment='zz') -- elapsed time sec: 0.96\n",
      "analytic_los=0 logistic=0 constant_anisotropy=1\n",
      "No PSF/pixel convolution because sigmapsf=0 pixsize=0\n",
      "inc=71.6; beta[0]=0.0; kappa=1.00; M/L=1.00; BH=0.0; chi2/DOF=nan\n",
      "Total mass MGE (MSun): 7.865e+12\n",
      "\n",
      "sigma_e: 134.07 km/s\n",
      "theta_E: 0.454 arcsec\n"
     ]
    },
    {
     "name": "stdout",
     "output_type": "stream",
     "text": [
      "jam_axi_proj(align='sph', moment='zz') -- elapsed time sec: 0.84\n",
      "analytic_los=0 logistic=0 constant_anisotropy=1\n",
      "No PSF/pixel convolution because sigmapsf=0 pixsize=0\n",
      "inc=15.6; beta[0]=0.0; kappa=1.00; M/L=1.00; BH=0.0; chi2/DOF=nan\n",
      "Total mass MGE (MSun): 7.865e+12\n",
      "\n",
      "sigma_e: 149.17 km/s\n",
      "theta_E: 0.450 arcsec\n"
     ]
    },
    {
     "name": "stdout",
     "output_type": "stream",
     "text": [
      "jam_axi_proj(align='sph', moment='zz') -- elapsed time sec: 0.86\n",
      "analytic_los=0 logistic=0 constant_anisotropy=1\n",
      "No PSF/pixel convolution because sigmapsf=0 pixsize=0\n",
      "inc=20.5; beta[0]=0.0; kappa=1.00; M/L=1.00; BH=0.0; chi2/DOF=nan\n",
      "Total mass MGE (MSun): 7.865e+12\n",
      "\n",
      "sigma_e: 148.75 km/s\n",
      "theta_E: 0.392 arcsec\n"
     ]
    },
    {
     "name": "stdout",
     "output_type": "stream",
     "text": [
      "jam_axi_proj(align='sph', moment='zz') -- elapsed time sec: 0.93\n",
      "analytic_los=0 logistic=0 constant_anisotropy=1\n",
      "No PSF/pixel convolution because sigmapsf=0 pixsize=0\n",
      "inc=60.6; beta[0]=0.0; kappa=1.00; M/L=1.00; BH=0.0; chi2/DOF=nan\n",
      "Total mass MGE (MSun): 7.865e+12\n",
      "\n",
      "sigma_e: 138.74 km/s\n",
      "theta_E: 0.448 arcsec\n"
     ]
    },
    {
     "name": "stdout",
     "output_type": "stream",
     "text": [
      "jam_axi_proj(align='sph', moment='zz') -- elapsed time sec: 0.87\n",
      "analytic_los=0 logistic=0 constant_anisotropy=1\n",
      "No PSF/pixel convolution because sigmapsf=0 pixsize=0\n",
      "inc=22.5; beta[0]=0.0; kappa=1.00; M/L=1.00; BH=0.0; chi2/DOF=nan\n",
      "Total mass MGE (MSun): 7.865e+12\n",
      "\n",
      "sigma_e: 148.56 km/s\n"
     ]
    },
    {
     "name": "stdout",
     "output_type": "stream",
     "text": [
      "theta_E: 0.472 arcsec\n"
     ]
    },
    {
     "name": "stdout",
     "output_type": "stream",
     "text": [
      "jam_axi_proj(align='sph', moment='zz') -- elapsed time sec: 0.88\n",
      "analytic_los=0 logistic=0 constant_anisotropy=1\n",
      "No PSF/pixel convolution because sigmapsf=0 pixsize=0\n",
      "inc=9.08; beta[0]=0.0; kappa=1.00; M/L=1.00; BH=0.0; chi2/DOF=nan\n",
      "Total mass MGE (MSun): 7.658e+12\n",
      "\n",
      "sigma_e: 151.78 km/s\n",
      "theta_E: 0.434 arcsec\n"
     ]
    },
    {
     "name": "stdout",
     "output_type": "stream",
     "text": [
      "jam_axi_proj(align='sph', moment='zz') -- elapsed time sec: 0.90\n",
      "analytic_los=0 logistic=0 constant_anisotropy=1\n",
      "No PSF/pixel convolution because sigmapsf=0 pixsize=0\n",
      "inc=40.2; beta[0]=0.0; kappa=1.00; M/L=1.00; BH=0.0; chi2/DOF=nan\n",
      "Total mass MGE (MSun): 7.658e+12\n",
      "\n",
      "sigma_e: 147.03 km/s\n",
      "theta_E: 0.390 arcsec\n"
     ]
    },
    {
     "name": "stdout",
     "output_type": "stream",
     "text": [
      "jam_axi_proj(align='sph', moment='zz') -- elapsed time sec: 0.94\n",
      "analytic_los=0 logistic=0 constant_anisotropy=1\n",
      "No PSF/pixel convolution because sigmapsf=0 pixsize=0\n",
      "inc=61.3; beta[0]=0.0; kappa=1.00; M/L=1.00; BH=0.0; chi2/DOF=nan\n",
      "Total mass MGE (MSun): 7.658e+12\n",
      "\n",
      "sigma_e: 137.76 km/s\n",
      "theta_E: 0.473 arcsec\n"
     ]
    },
    {
     "name": "stdout",
     "output_type": "stream",
     "text": [
      "jam_axi_proj(align='sph', moment='zz') -- elapsed time sec: 0.89\n",
      "analytic_los=0 logistic=0 constant_anisotropy=1\n",
      "No PSF/pixel convolution because sigmapsf=0 pixsize=0\n",
      "inc=3.10; beta[0]=0.0; kappa=1.00; M/L=1.00; BH=0.0; chi2/DOF=nan\n",
      "Total mass MGE (MSun): 7.658e+12\n",
      "\n",
      "sigma_e: 151.99 km/s\n",
      "theta_E: 0.410 arcsec\n"
     ]
    },
    {
     "name": "stdout",
     "output_type": "stream",
     "text": [
      "jam_axi_proj(align='sph', moment='zz') -- elapsed time sec: 0.91\n",
      "analytic_los=0 logistic=0 constant_anisotropy=1\n",
      "No PSF/pixel convolution because sigmapsf=0 pixsize=0\n",
      "inc=52.3; beta[0]=0.0; kappa=1.00; M/L=1.00; BH=0.0; chi2/DOF=nan\n",
      "Total mass MGE (MSun): 7.658e+12\n",
      "\n",
      "sigma_e: 142.50 km/s\n",
      "theta_E: 0.357 arcsec\n"
     ]
    },
    {
     "name": "stdout",
     "output_type": "stream",
     "text": [
      "jam_axi_proj(align='sph', moment='zz') -- elapsed time sec: 0.99\n",
      "analytic_los=0 logistic=0 constant_anisotropy=1\n",
      "No PSF/pixel convolution because sigmapsf=0 pixsize=0\n",
      "inc=78.8; beta[0]=0.0; kappa=1.00; M/L=1.00; BH=0.0; chi2/DOF=nan\n",
      "Total mass MGE (MSun): 7.658e+12\n",
      "\n",
      "sigma_e: 126.99 km/s\n",
      "theta_E: 0.413 arcsec\n"
     ]
    },
    {
     "name": "stdout",
     "output_type": "stream",
     "text": [
      "jam_axi_proj(align='sph', moment='zz') -- elapsed time sec: 0.94\n",
      "analytic_los=0 logistic=0 constant_anisotropy=1\n",
      "No PSF/pixel convolution because sigmapsf=0 pixsize=0\n",
      "inc=50.9; beta[0]=0.0; kappa=1.00; M/L=1.00; BH=0.0; chi2/DOF=nan\n",
      "Total mass MGE (MSun): 7.658e+12\n",
      "\n",
      "sigma_e: 143.15 km/s\n",
      "theta_E: 0.406 arcsec\n"
     ]
    },
    {
     "name": "stdout",
     "output_type": "stream",
     "text": [
      "jam_axi_proj(align='sph', moment='zz') -- elapsed time sec: 0.93\n",
      "analytic_los=0 logistic=0 constant_anisotropy=1\n",
      "No PSF/pixel convolution because sigmapsf=0 pixsize=0\n",
      "inc=54.0; beta[0]=0.0; kappa=1.00; M/L=1.00; BH=0.0; chi2/DOF=nan\n",
      "Total mass MGE (MSun): 7.658e+12\n",
      "\n",
      "sigma_e: 141.73 km/s\n",
      "theta_E: 0.404 arcsec\n"
     ]
    },
    {
     "name": "stdout",
     "output_type": "stream",
     "text": [
      "jam_axi_proj(align='sph', moment='zz') -- elapsed time sec: 0.92\n",
      "analytic_los=0 logistic=0 constant_anisotropy=1\n",
      "No PSF/pixel convolution because sigmapsf=0 pixsize=0\n",
      "inc=54.7; beta[0]=0.0; kappa=1.00; M/L=1.00; BH=0.0; chi2/DOF=nan\n",
      "Total mass MGE (MSun): 7.658e+12\n",
      "\n",
      "sigma_e: 141.38 km/s\n",
      "theta_E: 0.353 arcsec\n"
     ]
    },
    {
     "name": "stdout",
     "output_type": "stream",
     "text": [
      "jam_axi_proj(align='sph', moment='zz') -- elapsed time sec: 0.98\n",
      "analytic_los=0 logistic=0 constant_anisotropy=1\n",
      "No PSF/pixel convolution because sigmapsf=0 pixsize=0\n",
      "inc=82.1; beta[0]=0.0; kappa=1.00; M/L=1.00; BH=0.0; chi2/DOF=nan\n",
      "Total mass MGE (MSun): 7.658e+12\n",
      "\n",
      "sigma_e: 125.47 km/s\n"
     ]
    },
    {
     "name": "stdout",
     "output_type": "stream",
     "text": [
      "theta_E: 0.436 arcsec\n"
     ]
    },
    {
     "name": "stdout",
     "output_type": "stream",
     "text": [
      "jam_axi_proj(align='sph', moment='zz') -- elapsed time sec: 0.91\n",
      "analytic_los=0 logistic=0 constant_anisotropy=1\n",
      "No PSF/pixel convolution because sigmapsf=0 pixsize=0\n",
      "inc=52.3; beta[0]=0.0; kappa=1.00; M/L=1.00; BH=0.0; chi2/DOF=nan\n",
      "Total mass MGE (MSun): 8.623e+12\n",
      "\n",
      "sigma_e: 147.02 km/s\n",
      "theta_E: 0.473 arcsec\n"
     ]
    },
    {
     "name": "stdout",
     "output_type": "stream",
     "text": [
      "jam_axi_proj(align='sph', moment='zz') -- elapsed time sec: 0.89\n",
      "analytic_los=0 logistic=0 constant_anisotropy=1\n",
      "No PSF/pixel convolution because sigmapsf=0 pixsize=0\n",
      "inc=34.6; beta[0]=0.0; kappa=1.00; M/L=1.00; BH=0.0; chi2/DOF=nan\n",
      "Total mass MGE (MSun): 8.623e+12\n",
      "\n",
      "sigma_e: 153.34 km/s\n",
      "theta_E: 0.438 arcsec\n"
     ]
    },
    {
     "name": "stdout",
     "output_type": "stream",
     "text": [
      "jam_axi_proj(align='sph', moment='zz') -- elapsed time sec: 0.91\n",
      "analytic_los=0 logistic=0 constant_anisotropy=1\n",
      "No PSF/pixel convolution because sigmapsf=0 pixsize=0\n",
      "inc=51.2; beta[0]=0.0; kappa=1.00; M/L=1.00; BH=0.0; chi2/DOF=nan\n",
      "Total mass MGE (MSun): 8.623e+12\n",
      "\n",
      "sigma_e: 147.55 km/s\n",
      "theta_E: 0.404 arcsec\n"
     ]
    },
    {
     "name": "stdout",
     "output_type": "stream",
     "text": [
      "jam_axi_proj(align='sph', moment='zz') -- elapsed time sec: 0.99\n",
      "analytic_los=0 logistic=0 constant_anisotropy=1\n",
      "No PSF/pixel convolution because sigmapsf=0 pixsize=0\n",
      "inc=65.8; beta[0]=0.0; kappa=1.00; M/L=1.00; BH=0.0; chi2/DOF=nan\n",
      "Total mass MGE (MSun): 8.623e+12\n",
      "\n",
      "sigma_e: 139.14 km/s\n",
      "theta_E: 0.404 arcsec\n"
     ]
    },
    {
     "name": "stdout",
     "output_type": "stream",
     "text": [
      "jam_axi_proj(align='sph', moment='zz') -- elapsed time sec: 1.00\n",
      "analytic_los=0 logistic=0 constant_anisotropy=1\n",
      "No PSF/pixel convolution because sigmapsf=0 pixsize=0\n",
      "inc=65.4; beta[0]=0.0; kappa=1.00; M/L=1.00; BH=0.0; chi2/DOF=nan\n",
      "Total mass MGE (MSun): 8.623e+12\n",
      "\n",
      "sigma_e: 139.36 km/s\n",
      "theta_E: 0.494 arcsec\n"
     ]
    },
    {
     "name": "stdout",
     "output_type": "stream",
     "text": [
      "jam_axi_proj(align='sph', moment='zz') -- elapsed time sec: 0.96\n",
      "analytic_los=0 logistic=0 constant_anisotropy=1\n",
      "No PSF/pixel convolution because sigmapsf=0 pixsize=0\n",
      "inc=19.7; beta[0]=0.0; kappa=1.00; M/L=1.00; BH=0.0; chi2/DOF=nan\n",
      "Total mass MGE (MSun): 8.623e+12\n",
      "\n",
      "sigma_e: 155.87 km/s\n",
      "theta_E: 0.465 arcsec\n"
     ]
    },
    {
     "name": "stdout",
     "output_type": "stream",
     "text": [
      "jam_axi_proj(align='sph', moment='zz') -- elapsed time sec: 0.94\n",
      "analytic_los=0 logistic=0 constant_anisotropy=1\n",
      "No PSF/pixel convolution because sigmapsf=0 pixsize=0\n",
      "inc=38.7; beta[0]=0.0; kappa=1.00; M/L=1.00; BH=0.0; chi2/DOF=nan\n",
      "Total mass MGE (MSun): 8.623e+12\n",
      "\n",
      "sigma_e: 152.26 km/s\n",
      "theta_E: 0.454 arcsec\n"
     ]
    },
    {
     "name": "stdout",
     "output_type": "stream",
     "text": [
      "jam_axi_proj(align='sph', moment='zz') -- elapsed time sec: 0.93\n",
      "analytic_los=0 logistic=0 constant_anisotropy=1\n",
      "No PSF/pixel convolution because sigmapsf=0 pixsize=0\n",
      "inc=44.3; beta[0]=0.0; kappa=1.00; M/L=1.00; BH=0.0; chi2/DOF=nan\n",
      "Total mass MGE (MSun): 8.623e+12\n",
      "\n",
      "sigma_e: 150.44 km/s\n",
      "theta_E: 0.472 arcsec\n"
     ]
    },
    {
     "name": "stdout",
     "output_type": "stream",
     "text": [
      "jam_axi_proj(align='sph', moment='zz') -- elapsed time sec: 0.93\n",
      "analytic_los=0 logistic=0 constant_anisotropy=1\n",
      "No PSF/pixel convolution because sigmapsf=0 pixsize=0\n",
      "inc=35.4; beta[0]=0.0; kappa=1.00; M/L=1.00; BH=0.0; chi2/DOF=nan\n",
      "Total mass MGE (MSun): 8.623e+12\n",
      "\n",
      "sigma_e: 153.12 km/s\n",
      "theta_E: 0.371 arcsec\n"
     ]
    },
    {
     "name": "stdout",
     "output_type": "stream",
     "text": [
      "jam_axi_proj(align='sph', moment='zz') -- elapsed time sec: 0.96\n",
      "analytic_los=0 logistic=0 constant_anisotropy=1\n",
      "No PSF/pixel convolution because sigmapsf=0 pixsize=0\n",
      "inc=86.3; beta[0]=0.0; kappa=1.00; M/L=1.00; BH=0.0; chi2/DOF=nan\n",
      "Total mass MGE (MSun): 8.623e+12\n",
      "\n",
      "sigma_e: 127.66 km/s\n"
     ]
    },
    {
     "name": "stdout",
     "output_type": "stream",
     "text": [
      "theta_E: 0.376 arcsec\n"
     ]
    },
    {
     "name": "stdout",
     "output_type": "stream",
     "text": [
      "jam_axi_proj(align='sph', moment='zz') -- elapsed time sec: 0.88\n",
      "analytic_los=0 logistic=0 constant_anisotropy=1\n",
      "No PSF/pixel convolution because sigmapsf=0 pixsize=0\n",
      "inc=78.4; beta[0]=0.0; kappa=1.00; M/L=1.00; BH=0.0; chi2/DOF=nan\n",
      "Total mass MGE (MSun): 7.814e+12\n",
      "\n",
      "sigma_e: 134.63 km/s\n",
      "theta_E: 0.385 arcsec\n"
     ]
    },
    {
     "name": "stdout",
     "output_type": "stream",
     "text": [
      "jam_axi_proj(align='sph', moment='zz') -- elapsed time sec: 0.86\n",
      "analytic_los=0 logistic=0 constant_anisotropy=1\n",
      "No PSF/pixel convolution because sigmapsf=0 pixsize=0\n",
      "inc=64.2; beta[0]=0.0; kappa=1.00; M/L=1.00; BH=0.0; chi2/DOF=nan\n",
      "Total mass MGE (MSun): 7.814e+12\n",
      "\n",
      "sigma_e: 137.05 km/s\n",
      "theta_E: 0.373 arcsec\n"
     ]
    },
    {
     "name": "stdout",
     "output_type": "stream",
     "text": [
      "jam_axi_proj(align='sph', moment='zz') -- elapsed time sec: 1.02\n",
      "analytic_los=0 logistic=0 constant_anisotropy=1\n",
      "No PSF/pixel convolution because sigmapsf=0 pixsize=0\n",
      "inc=87.6; beta[0]=0.0; kappa=1.00; M/L=1.00; BH=0.0; chi2/DOF=nan\n",
      "Total mass MGE (MSun): 7.814e+12\n",
      "\n",
      "sigma_e: 133.87 km/s\n",
      "theta_E: 0.373 arcsec\n"
     ]
    },
    {
     "name": "stdout",
     "output_type": "stream",
     "text": [
      "jam_axi_proj(align='sph', moment='zz') -- elapsed time sec: 0.98\n",
      "analytic_los=0 logistic=0 constant_anisotropy=1\n",
      "No PSF/pixel convolution because sigmapsf=0 pixsize=0\n",
      "inc=87.6; beta[0]=0.0; kappa=1.00; M/L=1.00; BH=0.0; chi2/DOF=nan\n",
      "Total mass MGE (MSun): 7.814e+12\n",
      "\n",
      "sigma_e: 133.87 km/s\n",
      "theta_E: 0.373 arcsec\n"
     ]
    },
    {
     "name": "stdout",
     "output_type": "stream",
     "text": [
      "jam_axi_proj(align='sph', moment='zz') -- elapsed time sec: 0.96\n",
      "analytic_los=0 logistic=0 constant_anisotropy=1\n",
      "No PSF/pixel convolution because sigmapsf=0 pixsize=0\n",
      "inc=88.0; beta[0]=0.0; kappa=1.00; M/L=1.00; BH=0.0; chi2/DOF=nan\n",
      "Total mass MGE (MSun): 7.814e+12\n",
      "\n",
      "sigma_e: 133.86 km/s\n",
      "theta_E: 0.374 arcsec\n"
     ]
    },
    {
     "name": "stdout",
     "output_type": "stream",
     "text": [
      "jam_axi_proj(align='sph', moment='zz') -- elapsed time sec: 0.94\n",
      "analytic_los=0 logistic=0 constant_anisotropy=1\n",
      "No PSF/pixel convolution because sigmapsf=0 pixsize=0\n",
      "inc=86.2; beta[0]=0.0; kappa=1.00; M/L=1.00; BH=0.0; chi2/DOF=nan\n",
      "Total mass MGE (MSun): 7.814e+12\n",
      "\n",
      "sigma_e: 133.92 km/s\n",
      "theta_E: 0.376 arcsec\n"
     ]
    },
    {
     "name": "stdout",
     "output_type": "stream",
     "text": [
      "jam_axi_proj(align='sph', moment='zz') -- elapsed time sec: 0.88\n",
      "analytic_los=0 logistic=0 constant_anisotropy=1\n",
      "No PSF/pixel convolution because sigmapsf=0 pixsize=0\n",
      "inc=78.1; beta[0]=0.0; kappa=1.00; M/L=1.00; BH=0.0; chi2/DOF=nan\n",
      "Total mass MGE (MSun): 7.814e+12\n",
      "\n",
      "sigma_e: 134.67 km/s\n",
      "theta_E: 0.417 arcsec\n"
     ]
    },
    {
     "name": "stdout",
     "output_type": "stream",
     "text": [
      "jam_axi_proj(align='sph', moment='zz') -- elapsed time sec: 0.82\n",
      "analytic_los=0 logistic=0 constant_anisotropy=1\n",
      "No PSF/pixel convolution because sigmapsf=0 pixsize=0\n",
      "inc=28.3; beta[0]=0.0; kappa=1.00; M/L=1.00; BH=0.0; chi2/DOF=nan\n",
      "Total mass MGE (MSun): 7.814e+12\n",
      "\n",
      "sigma_e: 142.94 km/s\n",
      "theta_E: 0.374 arcsec\n"
     ]
    },
    {
     "name": "stdout",
     "output_type": "stream",
     "text": [
      "jam_axi_proj(align='sph', moment='zz') -- elapsed time sec: 0.89\n",
      "analytic_los=0 logistic=0 constant_anisotropy=1\n",
      "No PSF/pixel convolution because sigmapsf=0 pixsize=0\n",
      "inc=82.5; beta[0]=0.0; kappa=1.00; M/L=1.00; BH=0.0; chi2/DOF=nan\n",
      "Total mass MGE (MSun): 7.814e+12\n",
      "\n",
      "sigma_e: 134.18 km/s\n",
      "theta_E: 0.375 arcsec\n"
     ]
    },
    {
     "name": "stdout",
     "output_type": "stream",
     "text": [
      "jam_axi_proj(align='sph', moment='zz') -- elapsed time sec: 0.94\n",
      "analytic_los=0 logistic=0 constant_anisotropy=1\n",
      "No PSF/pixel convolution because sigmapsf=0 pixsize=0\n",
      "inc=80.7; beta[0]=0.0; kappa=1.00; M/L=1.00; BH=0.0; chi2/DOF=nan\n",
      "Total mass MGE (MSun): 7.814e+12\n",
      "\n",
      "sigma_e: 134.36 km/s\n"
     ]
    },
    {
     "name": "stdout",
     "output_type": "stream",
     "text": [
      "theta_E: 0.354 arcsec\n"
     ]
    },
    {
     "name": "stdout",
     "output_type": "stream",
     "text": [
      "jam_axi_proj(align='sph', moment='zz') -- elapsed time sec: 0.93\n",
      "analytic_los=0 logistic=0 constant_anisotropy=1\n",
      "No PSF/pixel convolution because sigmapsf=0 pixsize=0\n",
      "inc=75.0; beta[0]=0.0; kappa=1.00; M/L=1.00; BH=0.0; chi2/DOF=nan\n",
      "Total mass MGE (MSun): 7.075e+12\n",
      "\n",
      "sigma_e: 129.91 km/s\n",
      "theta_E: 0.348 arcsec\n"
     ]
    },
    {
     "name": "stdout",
     "output_type": "stream",
     "text": [
      "jam_axi_proj(align='sph', moment='zz') -- elapsed time sec: 0.94\n",
      "analytic_los=0 logistic=0 constant_anisotropy=1\n",
      "No PSF/pixel convolution because sigmapsf=0 pixsize=0\n",
      "inc=83.3; beta[0]=0.0; kappa=1.00; M/L=1.00; BH=0.0; chi2/DOF=nan\n",
      "Total mass MGE (MSun): 7.075e+12\n",
      "\n",
      "sigma_e: 127.90 km/s\n",
      "theta_E: 0.394 arcsec\n"
     ]
    },
    {
     "name": "stdout",
     "output_type": "stream",
     "text": [
      "jam_axi_proj(align='sph', moment='zz') -- elapsed time sec: 0.91\n",
      "analytic_los=0 logistic=0 constant_anisotropy=1\n",
      "No PSF/pixel convolution because sigmapsf=0 pixsize=0\n",
      "inc=44.5; beta[0]=0.0; kappa=1.00; M/L=1.00; BH=0.0; chi2/DOF=nan\n",
      "Total mass MGE (MSun): 7.075e+12\n",
      "\n",
      "sigma_e: 139.68 km/s\n",
      "theta_E: 0.410 arcsec\n"
     ]
    },
    {
     "name": "stdout",
     "output_type": "stream",
     "text": [
      "jam_axi_proj(align='sph', moment='zz') -- elapsed time sec: 0.91\n",
      "analytic_los=0 logistic=0 constant_anisotropy=1\n",
      "No PSF/pixel convolution because sigmapsf=0 pixsize=0\n",
      "inc=31.5; beta[0]=0.0; kappa=1.00; M/L=1.00; BH=0.0; chi2/DOF=nan\n",
      "Total mass MGE (MSun): 7.075e+12\n",
      "\n",
      "sigma_e: 142.21 km/s\n",
      "theta_E: 0.426 arcsec\n"
     ]
    },
    {
     "name": "stdout",
     "output_type": "stream",
     "text": [
      "jam_axi_proj(align='sph', moment='zz') -- elapsed time sec: 0.90\n",
      "analytic_los=0 logistic=0 constant_anisotropy=1\n",
      "No PSF/pixel convolution because sigmapsf=0 pixsize=0\n",
      "inc=6.97; beta[0]=0.0; kappa=1.00; M/L=1.00; BH=0.0; chi2/DOF=nan\n",
      "Total mass MGE (MSun): 7.075e+12\n",
      "\n",
      "sigma_e: 144.34 km/s\n",
      "theta_E: 0.405 arcsec\n"
     ]
    },
    {
     "name": "stdout",
     "output_type": "stream",
     "text": [
      "jam_axi_proj(align='sph', moment='zz') -- elapsed time sec: 0.90\n",
      "analytic_los=0 logistic=0 constant_anisotropy=1\n",
      "No PSF/pixel convolution because sigmapsf=0 pixsize=0\n",
      "inc=35.8; beta[0]=0.0; kappa=1.00; M/L=1.00; BH=0.0; chi2/DOF=nan\n",
      "Total mass MGE (MSun): 7.075e+12\n",
      "\n",
      "sigma_e: 141.49 km/s\n",
      "theta_E: 0.369 arcsec\n"
     ]
    },
    {
     "name": "stdout",
     "output_type": "stream",
     "text": [
      "jam_axi_proj(align='sph', moment='zz') -- elapsed time sec: 0.92\n",
      "analytic_los=0 logistic=0 constant_anisotropy=1\n",
      "No PSF/pixel convolution because sigmapsf=0 pixsize=0\n",
      "inc=62.0; beta[0]=0.0; kappa=1.00; M/L=1.00; BH=0.0; chi2/DOF=nan\n",
      "Total mass MGE (MSun): 7.075e+12\n",
      "\n",
      "sigma_e: 134.33 km/s\n",
      "theta_E: 0.350 arcsec\n"
     ]
    },
    {
     "name": "stdout",
     "output_type": "stream",
     "text": [
      "jam_axi_proj(align='sph', moment='zz') -- elapsed time sec: 1.02\n",
      "analytic_los=0 logistic=0 constant_anisotropy=1\n",
      "No PSF/pixel convolution because sigmapsf=0 pixsize=0\n",
      "inc=79.3; beta[0]=0.0; kappa=1.00; M/L=1.00; BH=0.0; chi2/DOF=nan\n",
      "Total mass MGE (MSun): 7.075e+12\n",
      "\n",
      "sigma_e: 128.75 km/s\n",
      "theta_E: 0.369 arcsec\n"
     ]
    },
    {
     "name": "stdout",
     "output_type": "stream",
     "text": [
      "jam_axi_proj(align='sph', moment='zz') -- elapsed time sec: 0.92\n",
      "analytic_los=0 logistic=0 constant_anisotropy=1\n",
      "No PSF/pixel convolution because sigmapsf=0 pixsize=0\n",
      "inc=61.9; beta[0]=0.0; kappa=1.00; M/L=1.00; BH=0.0; chi2/DOF=nan\n",
      "Total mass MGE (MSun): 7.075e+12\n",
      "\n",
      "sigma_e: 134.36 km/s\n",
      "theta_E: 0.346 arcsec\n"
     ]
    },
    {
     "name": "stdout",
     "output_type": "stream",
     "text": [
      "jam_axi_proj(align='sph', moment='zz') -- elapsed time sec: 0.95\n",
      "analytic_los=0 logistic=0 constant_anisotropy=1\n",
      "No PSF/pixel convolution because sigmapsf=0 pixsize=0\n",
      "inc=89.5; beta[0]=0.0; kappa=1.00; M/L=1.00; BH=0.0; chi2/DOF=nan\n",
      "Total mass MGE (MSun): 7.075e+12\n",
      "\n",
      "sigma_e: 127.34 km/s\n"
     ]
    },
    {
     "name": "stdout",
     "output_type": "stream",
     "text": [
      "theta_E: 0.472 arcsec\n"
     ]
    },
    {
     "name": "stdout",
     "output_type": "stream",
     "text": [
      "jam_axi_proj(align='sph', moment='zz') -- elapsed time sec: 0.97\n",
      "analytic_los=0 logistic=0 constant_anisotropy=1\n",
      "No PSF/pixel convolution because sigmapsf=0 pixsize=0\n",
      "inc=71.3; beta[0]=0.0; kappa=1.00; M/L=1.00; BH=0.0; chi2/DOF=nan\n",
      "Total mass MGE (MSun): 1.246e+13\n",
      "\n",
      "sigma_e: 148.40 km/s\n",
      "theta_E: 0.569 arcsec\n"
     ]
    },
    {
     "name": "stdout",
     "output_type": "stream",
     "text": [
      "jam_axi_proj(align='sph', moment='zz') -- elapsed time sec: 0.88\n",
      "analytic_los=0 logistic=0 constant_anisotropy=1\n",
      "No PSF/pixel convolution because sigmapsf=0 pixsize=0\n",
      "inc=31.5; beta[0]=0.0; kappa=1.00; M/L=1.00; BH=0.0; chi2/DOF=nan\n",
      "Total mass MGE (MSun): 1.246e+13\n",
      "\n",
      "sigma_e: 167.33 km/s\n",
      "theta_E: 0.547 arcsec\n"
     ]
    },
    {
     "name": "stdout",
     "output_type": "stream",
     "text": [
      "jam_axi_proj(align='sph', moment='zz') -- elapsed time sec: 0.90\n",
      "analytic_los=0 logistic=0 constant_anisotropy=1\n",
      "No PSF/pixel convolution because sigmapsf=0 pixsize=0\n",
      "inc=42.0; beta[0]=0.0; kappa=1.00; M/L=1.00; BH=0.0; chi2/DOF=nan\n",
      "Total mass MGE (MSun): 1.246e+13\n",
      "\n",
      "sigma_e: 164.39 km/s\n",
      "theta_E: 0.453 arcsec\n"
     ]
    },
    {
     "name": "stdout",
     "output_type": "stream",
     "text": [
      "jam_axi_proj(align='sph', moment='zz') -- elapsed time sec: 1.01\n",
      "analytic_los=0 logistic=0 constant_anisotropy=1\n",
      "No PSF/pixel convolution because sigmapsf=0 pixsize=0\n",
      "inc=83.1; beta[0]=0.0; kappa=1.00; M/L=1.00; BH=0.0; chi2/DOF=nan\n",
      "Total mass MGE (MSun): 1.246e+13\n",
      "\n",
      "sigma_e: 141.99 km/s\n",
      "theta_E: 0.487 arcsec\n"
     ]
    },
    {
     "name": "stdout",
     "output_type": "stream",
     "text": [
      "jam_axi_proj(align='sph', moment='zz') -- elapsed time sec: 0.97\n",
      "analytic_los=0 logistic=0 constant_anisotropy=1\n",
      "No PSF/pixel convolution because sigmapsf=0 pixsize=0\n",
      "inc=65.1; beta[0]=0.0; kappa=1.00; M/L=1.00; BH=0.0; chi2/DOF=nan\n",
      "Total mass MGE (MSun): 1.246e+13\n",
      "\n",
      "sigma_e: 152.64 km/s\n",
      "theta_E: 0.580 arcsec\n"
     ]
    },
    {
     "name": "stdout",
     "output_type": "stream",
     "text": [
      "jam_axi_proj(align='sph', moment='zz') -- elapsed time sec: 0.88\n",
      "analytic_los=0 logistic=0 constant_anisotropy=1\n",
      "No PSF/pixel convolution because sigmapsf=0 pixsize=0\n",
      "inc=24.7; beta[0]=0.0; kappa=1.00; M/L=1.00; BH=0.0; chi2/DOF=nan\n",
      "Total mass MGE (MSun): 1.246e+13\n",
      "\n",
      "sigma_e: 168.67 km/s\n",
      "theta_E: 0.516 arcsec\n"
     ]
    },
    {
     "name": "stdout",
     "output_type": "stream",
     "text": [
      "jam_axi_proj(align='sph', moment='zz') -- elapsed time sec: 0.92\n",
      "analytic_los=0 logistic=0 constant_anisotropy=1\n",
      "No PSF/pixel convolution because sigmapsf=0 pixsize=0\n",
      "inc=54.3; beta[0]=0.0; kappa=1.00; M/L=1.00; BH=0.0; chi2/DOF=nan\n",
      "Total mass MGE (MSun): 1.246e+13\n",
      "\n",
      "sigma_e: 159.11 km/s\n",
      "theta_E: 0.552 arcsec\n"
     ]
    },
    {
     "name": "stdout",
     "output_type": "stream",
     "text": [
      "jam_axi_proj(align='sph', moment='zz') -- elapsed time sec: 0.92\n",
      "analytic_los=0 logistic=0 constant_anisotropy=1\n",
      "No PSF/pixel convolution because sigmapsf=0 pixsize=0\n",
      "inc=39.7; beta[0]=0.0; kappa=1.00; M/L=1.00; BH=0.0; chi2/DOF=nan\n",
      "Total mass MGE (MSun): 1.246e+13\n",
      "\n",
      "sigma_e: 165.19 km/s\n",
      "theta_E: 0.547 arcsec\n"
     ]
    },
    {
     "name": "stdout",
     "output_type": "stream",
     "text": [
      "jam_axi_proj(align='sph', moment='zz') -- elapsed time sec: 0.90\n",
      "analytic_los=0 logistic=0 constant_anisotropy=1\n",
      "No PSF/pixel convolution because sigmapsf=0 pixsize=0\n",
      "inc=41.9; beta[0]=0.0; kappa=1.00; M/L=1.00; BH=0.0; chi2/DOF=nan\n",
      "Total mass MGE (MSun): 1.246e+13\n",
      "\n",
      "sigma_e: 164.42 km/s\n",
      "theta_E: 0.463 arcsec\n"
     ]
    },
    {
     "name": "stdout",
     "output_type": "stream",
     "text": [
      "jam_axi_proj(align='sph', moment='zz') -- elapsed time sec: 1.05\n",
      "analytic_los=0 logistic=0 constant_anisotropy=1\n",
      "No PSF/pixel convolution because sigmapsf=0 pixsize=0\n",
      "inc=75.7; beta[0]=0.0; kappa=1.00; M/L=1.00; BH=0.0; chi2/DOF=nan\n",
      "Total mass MGE (MSun): 1.246e+13\n",
      "\n",
      "sigma_e: 145.57 km/s\n"
     ]
    },
    {
     "name": "stdout",
     "output_type": "stream",
     "text": [
      "theta_E: 0.334 arcsec\n"
     ]
    },
    {
     "name": "stdout",
     "output_type": "stream",
     "text": [
      "jam_axi_proj(align='sph', moment='zz') -- elapsed time sec: 0.95\n",
      "analytic_los=0 logistic=0 constant_anisotropy=1\n",
      "No PSF/pixel convolution because sigmapsf=0 pixsize=0\n",
      "inc=88.8; beta[0]=0.0; kappa=1.00; M/L=1.00; BH=0.0; chi2/DOF=nan\n",
      "Total mass MGE (MSun): 6.995e+12\n",
      "\n",
      "sigma_e: 121.09 km/s\n",
      "theta_E: 0.344 arcsec\n"
     ]
    },
    {
     "name": "stdout",
     "output_type": "stream",
     "text": [
      "jam_axi_proj(align='sph', moment='zz') -- elapsed time sec: 0.97\n",
      "analytic_los=0 logistic=0 constant_anisotropy=1\n",
      "No PSF/pixel convolution because sigmapsf=0 pixsize=0\n",
      "inc=76.6; beta[0]=0.0; kappa=1.00; M/L=1.00; BH=0.0; chi2/DOF=nan\n",
      "Total mass MGE (MSun): 6.995e+12\n",
      "\n",
      "sigma_e: 125.17 km/s\n",
      "theta_E: 0.400 arcsec\n"
     ]
    },
    {
     "name": "stdout",
     "output_type": "stream",
     "text": [
      "jam_axi_proj(align='sph', moment='zz') -- elapsed time sec: 0.91\n",
      "analytic_los=0 logistic=0 constant_anisotropy=1\n",
      "No PSF/pixel convolution because sigmapsf=0 pixsize=0\n",
      "inc=47.8; beta[0]=0.0; kappa=1.00; M/L=1.00; BH=0.0; chi2/DOF=nan\n",
      "Total mass MGE (MSun): 6.995e+12\n",
      "\n",
      "sigma_e: 140.73 km/s\n",
      "theta_E: 0.360 arcsec\n"
     ]
    },
    {
     "name": "stdout",
     "output_type": "stream",
     "text": [
      "jam_axi_proj(align='sph', moment='zz') -- elapsed time sec: 0.97\n",
      "analytic_los=0 logistic=0 constant_anisotropy=1\n",
      "No PSF/pixel convolution because sigmapsf=0 pixsize=0\n",
      "inc=67.1; beta[0]=0.0; kappa=1.00; M/L=1.00; BH=0.0; chi2/DOF=nan\n",
      "Total mass MGE (MSun): 6.995e+12\n",
      "\n",
      "sigma_e: 130.81 km/s\n",
      "theta_E: 0.442 arcsec\n"
     ]
    },
    {
     "name": "stdout",
     "output_type": "stream",
     "text": [
      "jam_axi_proj(align='sph', moment='zz') -- elapsed time sec: 0.89\n",
      "analytic_los=0 logistic=0 constant_anisotropy=1\n",
      "No PSF/pixel convolution because sigmapsf=0 pixsize=0\n",
      "inc=19.3; beta[0]=0.0; kappa=1.00; M/L=1.00; BH=0.0; chi2/DOF=nan\n",
      "Total mass MGE (MSun): 6.995e+12\n",
      "\n",
      "sigma_e: 147.06 km/s\n",
      "theta_E: 0.409 arcsec\n"
     ]
    },
    {
     "name": "stdout",
     "output_type": "stream",
     "text": [
      "jam_axi_proj(align='sph', moment='zz') -- elapsed time sec: 0.94\n",
      "analytic_los=0 logistic=0 constant_anisotropy=1\n",
      "No PSF/pixel convolution because sigmapsf=0 pixsize=0\n",
      "inc=42.7; beta[0]=0.0; kappa=1.00; M/L=1.00; BH=0.0; chi2/DOF=nan\n",
      "Total mass MGE (MSun): 6.995e+12\n",
      "\n",
      "sigma_e: 142.48 km/s\n",
      "theta_E: 0.359 arcsec\n"
     ]
    },
    {
     "name": "stdout",
     "output_type": "stream",
     "text": [
      "jam_axi_proj(align='sph', moment='zz') -- elapsed time sec: 1.00\n",
      "analytic_los=0 logistic=0 constant_anisotropy=1\n",
      "No PSF/pixel convolution because sigmapsf=0 pixsize=0\n",
      "inc=67.9; beta[0]=0.0; kappa=1.00; M/L=1.00; BH=0.0; chi2/DOF=nan\n",
      "Total mass MGE (MSun): 6.995e+12\n",
      "\n",
      "sigma_e: 130.34 km/s\n",
      "theta_E: 0.334 arcsec\n"
     ]
    },
    {
     "name": "stdout",
     "output_type": "stream",
     "text": [
      "jam_axi_proj(align='sph', moment='zz') -- elapsed time sec: 0.96\n",
      "analytic_los=0 logistic=0 constant_anisotropy=1\n",
      "No PSF/pixel convolution because sigmapsf=0 pixsize=0\n",
      "inc=89.1; beta[0]=0.0; kappa=1.00; M/L=1.00; BH=0.0; chi2/DOF=nan\n",
      "Total mass MGE (MSun): 6.995e+12\n",
      "\n",
      "sigma_e: 121.08 km/s\n",
      "theta_E: 0.432 arcsec\n"
     ]
    },
    {
     "name": "stdout",
     "output_type": "stream",
     "text": [
      "jam_axi_proj(align='sph', moment='zz') -- elapsed time sec: 0.90\n",
      "analytic_los=0 logistic=0 constant_anisotropy=1\n",
      "No PSF/pixel convolution because sigmapsf=0 pixsize=0\n",
      "inc=28.2; beta[0]=0.0; kappa=1.00; M/L=1.00; BH=0.0; chi2/DOF=nan\n",
      "Total mass MGE (MSun): 6.995e+12\n",
      "\n",
      "sigma_e: 145.91 km/s\n",
      "theta_E: 0.412 arcsec\n"
     ]
    },
    {
     "name": "stdout",
     "output_type": "stream",
     "text": [
      "jam_axi_proj(align='sph', moment='zz') -- elapsed time sec: 0.92\n",
      "analytic_los=0 logistic=0 constant_anisotropy=1\n",
      "No PSF/pixel convolution because sigmapsf=0 pixsize=0\n",
      "inc=41.0; beta[0]=0.0; kappa=1.00; M/L=1.00; BH=0.0; chi2/DOF=nan\n",
      "Total mass MGE (MSun): 6.995e+12\n",
      "\n",
      "sigma_e: 142.99 km/s\n"
     ]
    },
    {
     "name": "stdout",
     "output_type": "stream",
     "text": [
      "theta_E: 0.378 arcsec\n"
     ]
    },
    {
     "name": "stdout",
     "output_type": "stream",
     "text": [
      "jam_axi_proj(align='sph', moment='zz') -- elapsed time sec: 0.94\n",
      "analytic_los=0 logistic=0 constant_anisotropy=1\n",
      "No PSF/pixel convolution because sigmapsf=0 pixsize=0\n",
      "inc=71.6; beta[0]=0.0; kappa=1.00; M/L=1.00; BH=0.0; chi2/DOF=nan\n",
      "Total mass MGE (MSun): 7.998e+12\n",
      "\n",
      "sigma_e: 133.84 km/s\n",
      "theta_E: 0.375 arcsec\n"
     ]
    },
    {
     "name": "stdout",
     "output_type": "stream",
     "text": [
      "jam_axi_proj(align='sph', moment='zz') -- elapsed time sec: 0.95\n",
      "analytic_los=0 logistic=0 constant_anisotropy=1\n",
      "No PSF/pixel convolution because sigmapsf=0 pixsize=0\n",
      "inc=73.6; beta[0]=0.0; kappa=1.00; M/L=1.00; BH=0.0; chi2/DOF=nan\n",
      "Total mass MGE (MSun): 7.998e+12\n",
      "\n",
      "sigma_e: 132.92 km/s\n",
      "theta_E: 0.374 arcsec\n"
     ]
    },
    {
     "name": "stdout",
     "output_type": "stream",
     "text": [
      "jam_axi_proj(align='sph', moment='zz') -- elapsed time sec: 1.01\n",
      "analytic_los=0 logistic=0 constant_anisotropy=1\n",
      "No PSF/pixel convolution because sigmapsf=0 pixsize=0\n",
      "inc=74.1; beta[0]=0.0; kappa=1.00; M/L=1.00; BH=0.0; chi2/DOF=nan\n",
      "Total mass MGE (MSun): 7.998e+12\n",
      "\n",
      "sigma_e: 132.71 km/s\n",
      "theta_E: 0.438 arcsec\n"
     ]
    },
    {
     "name": "stdout",
     "output_type": "stream",
     "text": [
      "jam_axi_proj(align='sph', moment='zz') -- elapsed time sec: 0.95\n",
      "analytic_los=0 logistic=0 constant_anisotropy=1\n",
      "No PSF/pixel convolution because sigmapsf=0 pixsize=0\n",
      "inc=38.0; beta[0]=0.0; kappa=1.00; M/L=1.00; BH=0.0; chi2/DOF=nan\n",
      "Total mass MGE (MSun): 7.998e+12\n",
      "\n",
      "sigma_e: 147.26 km/s\n",
      "theta_E: 0.403 arcsec\n"
     ]
    },
    {
     "name": "stdout",
     "output_type": "stream",
     "text": [
      "jam_axi_proj(align='sph', moment='zz') -- elapsed time sec: 0.95\n",
      "analytic_los=0 logistic=0 constant_anisotropy=1\n",
      "No PSF/pixel convolution because sigmapsf=0 pixsize=0\n",
      "inc=57.4; beta[0]=0.0; kappa=1.00; M/L=1.00; BH=0.0; chi2/DOF=nan\n",
      "Total mass MGE (MSun): 7.998e+12\n",
      "\n",
      "sigma_e: 140.70 km/s\n",
      "theta_E: 0.431 arcsec\n"
     ]
    },
    {
     "name": "stdout",
     "output_type": "stream",
     "text": [
      "jam_axi_proj(align='sph', moment='zz') -- elapsed time sec: 0.90\n",
      "analytic_los=0 logistic=0 constant_anisotropy=1\n",
      "No PSF/pixel convolution because sigmapsf=0 pixsize=0\n",
      "inc=41.8; beta[0]=0.0; kappa=1.00; M/L=1.00; BH=0.0; chi2/DOF=nan\n",
      "Total mass MGE (MSun): 7.998e+12\n",
      "\n",
      "sigma_e: 146.30 km/s\n",
      "theta_E: 0.432 arcsec\n"
     ]
    },
    {
     "name": "stdout",
     "output_type": "stream",
     "text": [
      "jam_axi_proj(align='sph', moment='zz') -- elapsed time sec: 0.90\n",
      "analytic_los=0 logistic=0 constant_anisotropy=1\n",
      "No PSF/pixel convolution because sigmapsf=0 pixsize=0\n",
      "inc=41.2; beta[0]=0.0; kappa=1.00; M/L=1.00; BH=0.0; chi2/DOF=nan\n",
      "Total mass MGE (MSun): 7.998e+12\n",
      "\n",
      "sigma_e: 146.48 km/s\n",
      "theta_E: 0.364 arcsec\n"
     ]
    },
    {
     "name": "stdout",
     "output_type": "stream",
     "text": [
      "jam_axi_proj(align='sph', moment='zz') -- elapsed time sec: 0.97\n",
      "analytic_los=0 logistic=0 constant_anisotropy=1\n",
      "No PSF/pixel convolution because sigmapsf=0 pixsize=0\n",
      "inc=84.9; beta[0]=0.0; kappa=1.00; M/L=1.00; BH=0.0; chi2/DOF=nan\n",
      "Total mass MGE (MSun): 7.998e+12\n",
      "\n",
      "sigma_e: 129.03 km/s\n",
      "theta_E: 0.363 arcsec\n"
     ]
    },
    {
     "name": "stdout",
     "output_type": "stream",
     "text": [
      "jam_axi_proj(align='sph', moment='zz') -- elapsed time sec: 0.96\n",
      "analytic_los=0 logistic=0 constant_anisotropy=1\n",
      "No PSF/pixel convolution because sigmapsf=0 pixsize=0\n",
      "inc=86.5; beta[0]=0.0; kappa=1.00; M/L=1.00; BH=0.0; chi2/DOF=nan\n",
      "Total mass MGE (MSun): 7.998e+12\n",
      "\n",
      "sigma_e: 128.77 km/s\n",
      "theta_E: 0.463 arcsec\n"
     ]
    },
    {
     "name": "stdout",
     "output_type": "stream",
     "text": [
      "jam_axi_proj(align='sph', moment='zz') -- elapsed time sec: 0.87\n",
      "analytic_los=0 logistic=0 constant_anisotropy=1\n",
      "No PSF/pixel convolution because sigmapsf=0 pixsize=0\n",
      "inc=15.9; beta[0]=0.0; kappa=1.00; M/L=1.00; BH=0.0; chi2/DOF=nan\n",
      "Total mass MGE (MSun): 7.998e+12\n",
      "\n",
      "sigma_e: 150.61 km/s\n"
     ]
    },
    {
     "name": "stdout",
     "output_type": "stream",
     "text": [
      "theta_E: 0.431 arcsec\n"
     ]
    },
    {
     "name": "stdout",
     "output_type": "stream",
     "text": [
      "jam_axi_proj(align='sph', moment='zz') -- elapsed time sec: 0.81\n",
      "analytic_los=0 logistic=0 constant_anisotropy=1\n",
      "No PSF/pixel convolution because sigmapsf=0 pixsize=0\n",
      "inc=37.7; beta[0]=0.0; kappa=1.00; M/L=1.00; BH=0.0; chi2/DOF=nan\n",
      "Total mass MGE (MSun): 8.601e+12\n",
      "\n",
      "sigma_e: 144.97 km/s\n",
      "theta_E: 0.412 arcsec\n"
     ]
    },
    {
     "name": "stdout",
     "output_type": "stream",
     "text": [
      "jam_axi_proj(align='sph', moment='zz') -- elapsed time sec: 0.86\n",
      "analytic_los=0 logistic=0 constant_anisotropy=1\n",
      "No PSF/pixel convolution because sigmapsf=0 pixsize=0\n",
      "inc=56.1; beta[0]=0.0; kappa=1.00; M/L=1.00; BH=0.0; chi2/DOF=nan\n",
      "Total mass MGE (MSun): 8.601e+12\n",
      "\n",
      "sigma_e: 141.67 km/s\n",
      "theta_E: 0.391 arcsec\n"
     ]
    },
    {
     "name": "stdout",
     "output_type": "stream",
     "text": [
      "jam_axi_proj(align='sph', moment='zz') -- elapsed time sec: 0.87\n",
      "analytic_los=0 logistic=0 constant_anisotropy=1\n",
      "No PSF/pixel convolution because sigmapsf=0 pixsize=0\n",
      "inc=89.2; beta[0]=0.0; kappa=1.00; M/L=1.00; BH=0.0; chi2/DOF=nan\n",
      "Total mass MGE (MSun): 8.601e+12\n",
      "\n",
      "sigma_e: 136.61 km/s\n",
      "theta_E: 0.423 arcsec\n"
     ]
    },
    {
     "name": "stdout",
     "output_type": "stream",
     "text": [
      "jam_axi_proj(align='sph', moment='zz') -- elapsed time sec: 0.84\n",
      "analytic_los=0 logistic=0 constant_anisotropy=1\n",
      "No PSF/pixel convolution because sigmapsf=0 pixsize=0\n",
      "inc=45.4; beta[0]=0.0; kappa=1.00; M/L=1.00; BH=0.0; chi2/DOF=nan\n",
      "Total mass MGE (MSun): 8.601e+12\n",
      "\n",
      "sigma_e: 143.75 km/s\n",
      "theta_E: 0.438 arcsec\n"
     ]
    },
    {
     "name": "stdout",
     "output_type": "stream",
     "text": [
      "jam_axi_proj(align='sph', moment='zz') -- elapsed time sec: 0.79\n",
      "analytic_los=0 logistic=0 constant_anisotropy=1\n",
      "No PSF/pixel convolution because sigmapsf=0 pixsize=0\n",
      "inc=28.8; beta[0]=0.0; kappa=1.00; M/L=1.00; BH=0.0; chi2/DOF=nan\n",
      "Total mass MGE (MSun): 8.601e+12\n",
      "\n",
      "sigma_e: 146.12 km/s\n",
      "theta_E: 0.393 arcsec\n"
     ]
    },
    {
     "name": "stdout",
     "output_type": "stream",
     "text": [
      "jam_axi_proj(align='sph', moment='zz') -- elapsed time sec: 0.88\n",
      "analytic_los=0 logistic=0 constant_anisotropy=1\n",
      "No PSF/pixel convolution because sigmapsf=0 pixsize=0\n",
      "inc=81.6; beta[0]=0.0; kappa=1.00; M/L=1.00; BH=0.0; chi2/DOF=nan\n",
      "Total mass MGE (MSun): 8.601e+12\n",
      "\n",
      "sigma_e: 137.04 km/s\n",
      "theta_E: 0.392 arcsec\n"
     ]
    },
    {
     "name": "stdout",
     "output_type": "stream",
     "text": [
      "jam_axi_proj(align='sph', moment='zz') -- elapsed time sec: 0.87\n",
      "analytic_los=0 logistic=0 constant_anisotropy=1\n",
      "No PSF/pixel convolution because sigmapsf=0 pixsize=0\n",
      "inc=88.2; beta[0]=0.0; kappa=1.00; M/L=1.00; BH=0.0; chi2/DOF=nan\n",
      "Total mass MGE (MSun): 8.601e+12\n",
      "\n",
      "sigma_e: 136.62 km/s\n",
      "theta_E: 0.399 arcsec\n"
     ]
    },
    {
     "name": "stdout",
     "output_type": "stream",
     "text": [
      "jam_axi_proj(align='sph', moment='zz') -- elapsed time sec: 0.88\n",
      "analytic_los=0 logistic=0 constant_anisotropy=1\n",
      "No PSF/pixel convolution because sigmapsf=0 pixsize=0\n",
      "inc=71.3; beta[0]=0.0; kappa=1.00; M/L=1.00; BH=0.0; chi2/DOF=nan\n",
      "Total mass MGE (MSun): 8.601e+12\n",
      "\n",
      "sigma_e: 138.59 km/s\n",
      "theta_E: 0.392 arcsec\n"
     ]
    },
    {
     "name": "stdout",
     "output_type": "stream",
     "text": [
      "jam_axi_proj(align='sph', moment='zz') -- elapsed time sec: 0.87\n",
      "analytic_los=0 logistic=0 constant_anisotropy=1\n",
      "No PSF/pixel convolution because sigmapsf=0 pixsize=0\n",
      "inc=87.4; beta[0]=0.0; kappa=1.00; M/L=1.00; BH=0.0; chi2/DOF=nan\n",
      "Total mass MGE (MSun): 8.601e+12\n",
      "\n",
      "sigma_e: 136.65 km/s\n",
      "theta_E: 0.405 arcsec\n"
     ]
    },
    {
     "name": "stdout",
     "output_type": "stream",
     "text": [
      "jam_axi_proj(align='sph', moment='zz') -- elapsed time sec: 0.87\n",
      "analytic_los=0 logistic=0 constant_anisotropy=1\n",
      "No PSF/pixel convolution because sigmapsf=0 pixsize=0\n",
      "inc=63.3; beta[0]=0.0; kappa=1.00; M/L=1.00; BH=0.0; chi2/DOF=nan\n",
      "Total mass MGE (MSun): 8.601e+12\n",
      "\n",
      "sigma_e: 140.16 km/s\n"
     ]
    },
    {
     "name": "stdout",
     "output_type": "stream",
     "text": [
      "theta_E: 0.435 arcsec\n"
     ]
    },
    {
     "name": "stdout",
     "output_type": "stream",
     "text": [
      "jam_axi_proj(align='sph', moment='zz') -- elapsed time sec: 0.91\n",
      "analytic_los=0 logistic=0 constant_anisotropy=1\n",
      "No PSF/pixel convolution because sigmapsf=0 pixsize=0\n",
      "inc=38.0; beta[0]=0.0; kappa=1.00; M/L=1.00; BH=0.0; chi2/DOF=nan\n",
      "Total mass MGE (MSun): 7.577e+12\n",
      "\n",
      "sigma_e: 147.21 km/s\n",
      "theta_E: 0.355 arcsec\n"
     ]
    },
    {
     "name": "stdout",
     "output_type": "stream",
     "text": [
      "jam_axi_proj(align='sph', moment='zz') -- elapsed time sec: 1.02\n",
      "analytic_los=0 logistic=0 constant_anisotropy=1\n",
      "No PSF/pixel convolution because sigmapsf=0 pixsize=0\n",
      "inc=79.0; beta[0]=0.0; kappa=1.00; M/L=1.00; BH=0.0; chi2/DOF=nan\n",
      "Total mass MGE (MSun): 7.577e+12\n",
      "\n",
      "sigma_e: 127.10 km/s\n",
      "theta_E: 0.410 arcsec\n"
     ]
    },
    {
     "name": "stdout",
     "output_type": "stream",
     "text": [
      "jam_axi_proj(align='sph', moment='zz') -- elapsed time sec: 0.98\n",
      "analytic_los=0 logistic=0 constant_anisotropy=1\n",
      "No PSF/pixel convolution because sigmapsf=0 pixsize=0\n",
      "inc=50.6; beta[0]=0.0; kappa=1.00; M/L=1.00; BH=0.0; chi2/DOF=nan\n",
      "Total mass MGE (MSun): 7.577e+12\n",
      "\n",
      "sigma_e: 142.90 km/s\n",
      "theta_E: 0.454 arcsec\n"
     ]
    },
    {
     "name": "stdout",
     "output_type": "stream",
     "text": [
      "jam_axi_proj(align='sph', moment='zz') -- elapsed time sec: 1.00\n",
      "analytic_los=0 logistic=0 constant_anisotropy=1\n",
      "No PSF/pixel convolution because sigmapsf=0 pixsize=0\n",
      "inc=24.6; beta[0]=0.0; kappa=1.00; M/L=1.00; BH=0.0; chi2/DOF=nan\n",
      "Total mass MGE (MSun): 7.577e+12\n",
      "\n",
      "sigma_e: 149.84 km/s\n",
      "theta_E: 0.385 arcsec\n"
     ]
    },
    {
     "name": "stdout",
     "output_type": "stream",
     "text": [
      "jam_axi_proj(align='sph', moment='zz') -- elapsed time sec: 0.98\n",
      "analytic_los=0 logistic=0 constant_anisotropy=1\n",
      "No PSF/pixel convolution because sigmapsf=0 pixsize=0\n",
      "inc=62.1; beta[0]=0.0; kappa=1.00; M/L=1.00; BH=0.0; chi2/DOF=nan\n",
      "Total mass MGE (MSun): 7.577e+12\n",
      "\n",
      "sigma_e: 137.10 km/s\n",
      "theta_E: 0.358 arcsec\n"
     ]
    },
    {
     "name": "stdout",
     "output_type": "stream",
     "text": [
      "jam_axi_proj(align='sph', moment='zz') -- elapsed time sec: 1.04\n",
      "analytic_los=0 logistic=0 constant_anisotropy=1\n",
      "No PSF/pixel convolution because sigmapsf=0 pixsize=0\n",
      "inc=77.1; beta[0]=0.0; kappa=1.00; M/L=1.00; BH=0.0; chi2/DOF=nan\n",
      "Total mass MGE (MSun): 7.577e+12\n",
      "\n",
      "sigma_e: 128.07 km/s\n",
      "theta_E: 0.351 arcsec\n"
     ]
    },
    {
     "name": "stdout",
     "output_type": "stream",
     "text": [
      "jam_axi_proj(align='sph', moment='zz') -- elapsed time sec: 0.99\n",
      "analytic_los=0 logistic=0 constant_anisotropy=1\n",
      "No PSF/pixel convolution because sigmapsf=0 pixsize=0\n",
      "inc=83.5; beta[0]=0.0; kappa=1.00; M/L=1.00; BH=0.0; chi2/DOF=nan\n",
      "Total mass MGE (MSun): 7.577e+12\n",
      "\n",
      "sigma_e: 125.29 km/s\n",
      "theta_E: 0.348 arcsec\n"
     ]
    },
    {
     "name": "stdout",
     "output_type": "stream",
     "text": [
      "jam_axi_proj(align='sph', moment='zz') -- elapsed time sec: 1.01\n",
      "analytic_los=0 logistic=0 constant_anisotropy=1\n",
      "No PSF/pixel convolution because sigmapsf=0 pixsize=0\n",
      "inc=89.4; beta[0]=0.0; kappa=1.00; M/L=1.00; BH=0.0; chi2/DOF=nan\n",
      "Total mass MGE (MSun): 7.577e+12\n",
      "\n",
      "sigma_e: 124.22 km/s\n",
      "theta_E: 0.409 arcsec\n"
     ]
    },
    {
     "name": "stdout",
     "output_type": "stream",
     "text": [
      "jam_axi_proj(align='sph', moment='zz') -- elapsed time sec: 0.93\n",
      "analytic_los=0 logistic=0 constant_anisotropy=1\n",
      "No PSF/pixel convolution because sigmapsf=0 pixsize=0\n",
      "inc=51.0; beta[0]=0.0; kappa=1.00; M/L=1.00; BH=0.0; chi2/DOF=nan\n",
      "Total mass MGE (MSun): 7.577e+12\n",
      "\n",
      "sigma_e: 142.70 km/s\n",
      "theta_E: 0.443 arcsec\n"
     ]
    },
    {
     "name": "stdout",
     "output_type": "stream",
     "text": [
      "jam_axi_proj(align='sph', moment='zz') -- elapsed time sec: 0.92\n",
      "analytic_los=0 logistic=0 constant_anisotropy=1\n",
      "No PSF/pixel convolution because sigmapsf=0 pixsize=0\n",
      "inc=32.7; beta[0]=0.0; kappa=1.00; M/L=1.00; BH=0.0; chi2/DOF=nan\n",
      "Total mass MGE (MSun): 7.577e+12\n",
      "\n",
      "sigma_e: 148.45 km/s\n"
     ]
    },
    {
     "name": "stdout",
     "output_type": "stream",
     "text": [
      "theta_E: 0.498 arcsec\n"
     ]
    },
    {
     "name": "stdout",
     "output_type": "stream",
     "text": [
      "jam_axi_proj(align='sph', moment='zz') -- elapsed time sec: 0.93\n",
      "analytic_los=0 logistic=0 constant_anisotropy=1\n",
      "No PSF/pixel convolution because sigmapsf=0 pixsize=0\n",
      "inc=46.1; beta[0]=0.0; kappa=1.00; M/L=1.00; BH=0.0; chi2/DOF=nan\n",
      "Total mass MGE (MSun): 1.024e+13\n",
      "\n",
      "sigma_e: 157.61 km/s\n",
      "theta_E: 0.525 arcsec\n"
     ]
    },
    {
     "name": "stdout",
     "output_type": "stream",
     "text": [
      "jam_axi_proj(align='sph', moment='zz') -- elapsed time sec: 0.93\n",
      "analytic_los=0 logistic=0 constant_anisotropy=1\n",
      "No PSF/pixel convolution because sigmapsf=0 pixsize=0\n",
      "inc=34.9; beta[0]=0.0; kappa=1.00; M/L=1.00; BH=0.0; chi2/DOF=nan\n",
      "Total mass MGE (MSun): 1.024e+13\n",
      "\n",
      "sigma_e: 161.56 km/s\n",
      "theta_E: 0.550 arcsec\n"
     ]
    },
    {
     "name": "stdout",
     "output_type": "stream",
     "text": [
      "jam_axi_proj(align='sph', moment='zz') -- elapsed time sec: 0.88\n",
      "analytic_los=0 logistic=0 constant_anisotropy=1\n",
      "No PSF/pixel convolution because sigmapsf=0 pixsize=0\n",
      "inc=20.2; beta[0]=0.0; kappa=1.00; M/L=1.00; BH=0.0; chi2/DOF=nan\n",
      "Total mass MGE (MSun): 1.024e+13\n",
      "\n",
      "sigma_e: 164.39 km/s\n",
      "theta_E: 0.433 arcsec\n"
     ]
    },
    {
     "name": "stdout",
     "output_type": "stream",
     "text": [
      "jam_axi_proj(align='sph', moment='zz') -- elapsed time sec: 1.10\n",
      "analytic_los=0 logistic=0 constant_anisotropy=1\n",
      "No PSF/pixel convolution because sigmapsf=0 pixsize=0\n",
      "inc=68.8; beta[0]=0.0; kappa=1.00; M/L=1.00; BH=0.0; chi2/DOF=nan\n",
      "Total mass MGE (MSun): 1.024e+13\n",
      "\n",
      "sigma_e: 142.59 km/s\n",
      "theta_E: 0.464 arcsec\n"
     ]
    },
    {
     "name": "stdout",
     "output_type": "stream",
     "text": [
      "jam_axi_proj(align='sph', moment='zz') -- elapsed time sec: 0.94\n",
      "analytic_los=0 logistic=0 constant_anisotropy=1\n",
      "No PSF/pixel convolution because sigmapsf=0 pixsize=0\n",
      "inc=58.2; beta[0]=0.0; kappa=1.00; M/L=1.00; BH=0.0; chi2/DOF=nan\n",
      "Total mass MGE (MSun): 1.024e+13\n",
      "\n",
      "sigma_e: 150.79 km/s\n",
      "theta_E: 0.511 arcsec\n"
     ]
    },
    {
     "name": "stdout",
     "output_type": "stream",
     "text": [
      "jam_axi_proj(align='sph', moment='zz') -- elapsed time sec: 0.92\n",
      "analytic_los=0 logistic=0 constant_anisotropy=1\n",
      "No PSF/pixel convolution because sigmapsf=0 pixsize=0\n",
      "inc=40.9; beta[0]=0.0; kappa=1.00; M/L=1.00; BH=0.0; chi2/DOF=nan\n",
      "Total mass MGE (MSun): 1.024e+13\n",
      "\n",
      "sigma_e: 159.71 km/s\n",
      "theta_E: 0.487 arcsec\n"
     ]
    },
    {
     "name": "stdout",
     "output_type": "stream",
     "text": [
      "jam_axi_proj(align='sph', moment='zz') -- elapsed time sec: 0.92\n",
      "analytic_los=0 logistic=0 constant_anisotropy=1\n",
      "No PSF/pixel convolution because sigmapsf=0 pixsize=0\n",
      "inc=50.0; beta[0]=0.0; kappa=1.00; M/L=1.00; BH=0.0; chi2/DOF=nan\n",
      "Total mass MGE (MSun): 1.024e+13\n",
      "\n",
      "sigma_e: 155.76 km/s\n",
      "theta_E: 0.407 arcsec\n"
     ]
    },
    {
     "name": "stdout",
     "output_type": "stream",
     "text": [
      "jam_axi_proj(align='sph', moment='zz') -- elapsed time sec: 0.98\n",
      "analytic_los=0 logistic=0 constant_anisotropy=1\n",
      "No PSF/pixel convolution because sigmapsf=0 pixsize=0\n",
      "inc=80.8; beta[0]=0.0; kappa=1.00; M/L=1.00; BH=0.0; chi2/DOF=nan\n",
      "Total mass MGE (MSun): 1.024e+13\n",
      "\n",
      "sigma_e: 133.15 km/s\n",
      "theta_E: 0.554 arcsec\n"
     ]
    },
    {
     "name": "stdout",
     "output_type": "stream",
     "text": [
      "jam_axi_proj(align='sph', moment='zz') -- elapsed time sec: 0.88\n",
      "analytic_los=0 logistic=0 constant_anisotropy=1\n",
      "No PSF/pixel convolution because sigmapsf=0 pixsize=0\n",
      "inc=16.7; beta[0]=0.0; kappa=1.00; M/L=1.00; BH=0.0; chi2/DOF=nan\n",
      "Total mass MGE (MSun): 1.024e+13\n",
      "\n",
      "sigma_e: 164.83 km/s\n",
      "theta_E: 0.561 arcsec\n"
     ]
    },
    {
     "name": "stdout",
     "output_type": "stream",
     "text": [
      "jam_axi_proj(align='sph', moment='zz') -- elapsed time sec: 0.90\n",
      "analytic_los=0 logistic=0 constant_anisotropy=1\n",
      "No PSF/pixel convolution because sigmapsf=0 pixsize=0\n",
      "inc=7.17; beta[0]=0.0; kappa=1.00; M/L=1.00; BH=0.0; chi2/DOF=nan\n",
      "Total mass MGE (MSun): 1.024e+13\n",
      "\n",
      "sigma_e: 165.49 km/s\n"
     ]
    },
    {
     "name": "stdout",
     "output_type": "stream",
     "text": [
      "theta_E: 0.382 arcsec\n"
     ]
    },
    {
     "name": "stdout",
     "output_type": "stream",
     "text": [
      "jam_axi_proj(align='sph', moment='zz') -- elapsed time sec: 0.92\n",
      "analytic_los=0 logistic=0 constant_anisotropy=1\n",
      "No PSF/pixel convolution because sigmapsf=0 pixsize=0\n",
      "inc=73.1; beta[0]=0.0; kappa=1.00; M/L=1.00; BH=0.0; chi2/DOF=nan\n",
      "Total mass MGE (MSun): 8.426e+12\n",
      "\n",
      "sigma_e: 130.72 km/s\n",
      "theta_E: 0.437 arcsec\n"
     ]
    },
    {
     "name": "stdout",
     "output_type": "stream",
     "text": [
      "jam_axi_proj(align='sph', moment='zz') -- elapsed time sec: 0.94\n",
      "analytic_los=0 logistic=0 constant_anisotropy=1\n",
      "No PSF/pixel convolution because sigmapsf=0 pixsize=0\n",
      "inc=53.2; beta[0]=0.0; kappa=1.00; M/L=1.00; BH=0.0; chi2/DOF=nan\n",
      "Total mass MGE (MSun): 8.426e+12\n",
      "\n",
      "sigma_e: 146.74 km/s\n",
      "theta_E: 0.490 arcsec\n"
     ]
    },
    {
     "name": "stdout",
     "output_type": "stream",
     "text": [
      "jam_axi_proj(align='sph', moment='zz') -- elapsed time sec: 0.91\n",
      "analytic_los=0 logistic=0 constant_anisotropy=1\n",
      "No PSF/pixel convolution because sigmapsf=0 pixsize=0\n",
      "inc=30.9; beta[0]=0.0; kappa=1.00; M/L=1.00; BH=0.0; chi2/DOF=nan\n",
      "Total mass MGE (MSun): 8.426e+12\n",
      "\n",
      "sigma_e: 155.53 km/s\n",
      "theta_E: 0.444 arcsec\n"
     ]
    },
    {
     "name": "stdout",
     "output_type": "stream",
     "text": [
      "jam_axi_proj(align='sph', moment='zz') -- elapsed time sec: 0.98\n",
      "analytic_los=0 logistic=0 constant_anisotropy=1\n",
      "No PSF/pixel convolution because sigmapsf=0 pixsize=0\n",
      "inc=50.6; beta[0]=0.0; kappa=1.00; M/L=1.00; BH=0.0; chi2/DOF=nan\n",
      "Total mass MGE (MSun): 8.426e+12\n",
      "\n",
      "sigma_e: 148.32 km/s\n",
      "theta_E: 0.381 arcsec\n"
     ]
    },
    {
     "name": "stdout",
     "output_type": "stream",
     "text": [
      "jam_axi_proj(align='sph', moment='zz') -- elapsed time sec: 0.93\n",
      "analytic_los=0 logistic=0 constant_anisotropy=1\n",
      "No PSF/pixel convolution because sigmapsf=0 pixsize=0\n",
      "inc=73.7; beta[0]=0.0; kappa=1.00; M/L=1.00; BH=0.0; chi2/DOF=nan\n",
      "Total mass MGE (MSun): 8.426e+12\n",
      "\n",
      "sigma_e: 130.21 km/s\n",
      "theta_E: 0.497 arcsec\n"
     ]
    },
    {
     "name": "stdout",
     "output_type": "stream",
     "text": [
      "jam_axi_proj(align='sph', moment='zz') -- elapsed time sec: 0.93\n",
      "analytic_los=0 logistic=0 constant_anisotropy=1\n",
      "No PSF/pixel convolution because sigmapsf=0 pixsize=0\n",
      "inc=26.8; beta[0]=0.0; kappa=1.00; M/L=1.00; BH=0.0; chi2/DOF=nan\n",
      "Total mass MGE (MSun): 8.426e+12\n",
      "\n",
      "sigma_e: 156.31 km/s\n",
      "theta_E: 0.369 arcsec\n"
     ]
    },
    {
     "name": "stdout",
     "output_type": "stream",
     "text": [
      "jam_axi_proj(align='sph', moment='zz') -- elapsed time sec: 0.92\n",
      "analytic_los=0 logistic=0 constant_anisotropy=1\n",
      "No PSF/pixel convolution because sigmapsf=0 pixsize=0\n",
      "inc=79.1; beta[0]=0.0; kappa=1.00; M/L=1.00; BH=0.0; chi2/DOF=nan\n",
      "Total mass MGE (MSun): 8.426e+12\n",
      "\n",
      "sigma_e: 125.60 km/s\n",
      "theta_E: 0.416 arcsec\n"
     ]
    },
    {
     "name": "stdout",
     "output_type": "stream",
     "text": [
      "jam_axi_proj(align='sph', moment='zz') -- elapsed time sec: 1.00\n",
      "analytic_los=0 logistic=0 constant_anisotropy=1\n",
      "No PSF/pixel convolution because sigmapsf=0 pixsize=0\n",
      "inc=60.7; beta[0]=0.0; kappa=1.00; M/L=1.00; BH=0.0; chi2/DOF=nan\n",
      "Total mass MGE (MSun): 8.426e+12\n",
      "\n",
      "sigma_e: 141.54 km/s\n",
      "theta_E: 0.379 arcsec\n"
     ]
    },
    {
     "name": "stdout",
     "output_type": "stream",
     "text": [
      "jam_axi_proj(align='sph', moment='zz') -- elapsed time sec: 0.97\n",
      "analytic_los=0 logistic=0 constant_anisotropy=1\n",
      "No PSF/pixel convolution because sigmapsf=0 pixsize=0\n",
      "inc=74.5; beta[0]=0.0; kappa=1.00; M/L=1.00; BH=0.0; chi2/DOF=nan\n",
      "Total mass MGE (MSun): 8.426e+12\n",
      "\n",
      "sigma_e: 129.42 km/s\n",
      "theta_E: 0.398 arcsec\n"
     ]
    },
    {
     "name": "stdout",
     "output_type": "stream",
     "text": [
      "jam_axi_proj(align='sph', moment='zz') -- elapsed time sec: 0.96\n",
      "analytic_los=0 logistic=0 constant_anisotropy=1\n",
      "No PSF/pixel convolution because sigmapsf=0 pixsize=0\n",
      "inc=67.1; beta[0]=0.0; kappa=1.00; M/L=1.00; BH=0.0; chi2/DOF=nan\n",
      "Total mass MGE (MSun): 8.426e+12\n",
      "\n",
      "sigma_e: 136.24 km/s\n"
     ]
    },
    {
     "name": "stdout",
     "output_type": "stream",
     "text": [
      "theta_E: 0.401 arcsec\n"
     ]
    },
    {
     "name": "stdout",
     "output_type": "stream",
     "text": [
      "jam_axi_proj(align='sph', moment='zz') -- elapsed time sec: 0.94\n",
      "analytic_los=0 logistic=0 constant_anisotropy=1\n",
      "No PSF/pixel convolution because sigmapsf=0 pixsize=0\n",
      "inc=49.5; beta[0]=0.0; kappa=1.00; M/L=1.00; BH=0.0; chi2/DOF=nan\n",
      "Total mass MGE (MSun): 7.075e+12\n",
      "\n",
      "sigma_e: 140.93 km/s\n",
      "theta_E: 0.395 arcsec\n"
     ]
    },
    {
     "name": "stdout",
     "output_type": "stream",
     "text": [
      "jam_axi_proj(align='sph', moment='zz') -- elapsed time sec: 0.96\n",
      "analytic_los=0 logistic=0 constant_anisotropy=1\n",
      "No PSF/pixel convolution because sigmapsf=0 pixsize=0\n",
      "inc=52.0; beta[0]=0.0; kappa=1.00; M/L=1.00; BH=0.0; chi2/DOF=nan\n",
      "Total mass MGE (MSun): 7.075e+12\n",
      "\n",
      "sigma_e: 139.84 km/s\n",
      "theta_E: 0.340 arcsec\n"
     ]
    },
    {
     "name": "stdout",
     "output_type": "stream",
     "text": [
      "jam_axi_proj(align='sph', moment='zz') -- elapsed time sec: 0.94\n",
      "analytic_los=0 logistic=0 constant_anisotropy=1\n",
      "No PSF/pixel convolution because sigmapsf=0 pixsize=0\n",
      "inc=80.4; beta[0]=0.0; kappa=1.00; M/L=1.00; BH=0.0; chi2/DOF=nan\n",
      "Total mass MGE (MSun): 7.075e+12\n",
      "\n",
      "sigma_e: 122.79 km/s\n",
      "theta_E: 0.382 arcsec\n"
     ]
    },
    {
     "name": "stdout",
     "output_type": "stream",
     "text": [
      "jam_axi_proj(align='sph', moment='zz') -- elapsed time sec: 0.97\n",
      "analytic_los=0 logistic=0 constant_anisotropy=1\n",
      "No PSF/pixel convolution because sigmapsf=0 pixsize=0\n",
      "inc=58.0; beta[0]=0.0; kappa=1.00; M/L=1.00; BH=0.0; chi2/DOF=nan\n",
      "Total mass MGE (MSun): 7.075e+12\n",
      "\n",
      "sigma_e: 136.74 km/s\n",
      "theta_E: 0.335 arcsec\n"
     ]
    },
    {
     "name": "stdout",
     "output_type": "stream",
     "text": [
      "jam_axi_proj(align='sph', moment='zz') -- elapsed time sec: 0.93\n",
      "analytic_los=0 logistic=0 constant_anisotropy=1\n",
      "No PSF/pixel convolution because sigmapsf=0 pixsize=0\n",
      "inc=86.5; beta[0]=0.0; kappa=1.00; M/L=1.00; BH=0.0; chi2/DOF=nan\n",
      "Total mass MGE (MSun): 7.075e+12\n",
      "\n",
      "sigma_e: 120.69 km/s\n",
      "theta_E: 0.348 arcsec\n"
     ]
    },
    {
     "name": "stdout",
     "output_type": "stream",
     "text": [
      "jam_axi_proj(align='sph', moment='zz') -- elapsed time sec: 0.98\n",
      "analytic_los=0 logistic=0 constant_anisotropy=1\n",
      "No PSF/pixel convolution because sigmapsf=0 pixsize=0\n",
      "inc=74.6; beta[0]=0.0; kappa=1.00; M/L=1.00; BH=0.0; chi2/DOF=nan\n",
      "Total mass MGE (MSun): 7.075e+12\n",
      "\n",
      "sigma_e: 126.09 km/s\n",
      "theta_E: 0.446 arcsec\n"
     ]
    },
    {
     "name": "stdout",
     "output_type": "stream",
     "text": [
      "jam_axi_proj(align='sph', moment='zz') -- elapsed time sec: 0.88\n",
      "analytic_los=0 logistic=0 constant_anisotropy=1\n",
      "No PSF/pixel convolution because sigmapsf=0 pixsize=0\n",
      "inc=21.5; beta[0]=0.0; kappa=1.00; M/L=1.00; BH=0.0; chi2/DOF=nan\n",
      "Total mass MGE (MSun): 7.075e+12\n",
      "\n",
      "sigma_e: 147.97 km/s\n",
      "theta_E: 0.374 arcsec\n"
     ]
    },
    {
     "name": "stdout",
     "output_type": "stream",
     "text": [
      "jam_axi_proj(align='sph', moment='zz') -- elapsed time sec: 0.98\n",
      "analytic_los=0 logistic=0 constant_anisotropy=1\n",
      "No PSF/pixel convolution because sigmapsf=0 pixsize=0\n",
      "inc=61.7; beta[0]=0.0; kappa=1.00; M/L=1.00; BH=0.0; chi2/DOF=nan\n",
      "Total mass MGE (MSun): 7.075e+12\n",
      "\n",
      "sigma_e: 134.49 km/s\n",
      "theta_E: 0.439 arcsec\n"
     ]
    },
    {
     "name": "stdout",
     "output_type": "stream",
     "text": [
      "jam_axi_proj(align='sph', moment='zz') -- elapsed time sec: 0.89\n",
      "analytic_los=0 logistic=0 constant_anisotropy=1\n",
      "No PSF/pixel convolution because sigmapsf=0 pixsize=0\n",
      "inc=27.6; beta[0]=0.0; kappa=1.00; M/L=1.00; BH=0.0; chi2/DOF=nan\n",
      "Total mass MGE (MSun): 7.075e+12\n",
      "\n",
      "sigma_e: 147.10 km/s\n",
      "theta_E: 0.383 arcsec\n"
     ]
    },
    {
     "name": "stdout",
     "output_type": "stream",
     "text": [
      "jam_axi_proj(align='sph', moment='zz') -- elapsed time sec: 0.99\n",
      "analytic_los=0 logistic=0 constant_anisotropy=1\n",
      "No PSF/pixel convolution because sigmapsf=0 pixsize=0\n",
      "inc=57.7; beta[0]=0.0; kappa=1.00; M/L=1.00; BH=0.0; chi2/DOF=nan\n",
      "Total mass MGE (MSun): 7.075e+12\n",
      "\n",
      "sigma_e: 136.91 km/s\n"
     ]
    }
   ],
   "source": [
    "rerun_prolate = True\n",
    "\n",
    "if rerun_prolate:\n",
    "\n",
    "    data_prolate, peak_mge_den_prolate, sigma_mge_den_prolate, peak_mge_lum_prolate, sigma_mge_lum_prolate = get_sigma_e_dist(cat_prolate, 0, 10, save_mge=1)\n",
    "    np.save('./tng_kin_prolate.npy', data_prolate)\n",
    "\n",
    "    with h5py.File('./tng_kin_mge_prolate.hdf5', 'w') as f:\n",
    "        f.create_dataset(name='peak_den', data = peak_mge_den_prolate)\n",
    "        f.create_dataset(name='sigma_den', data = sigma_mge_den_prolate)\n",
    "        f.create_dataset(name='peak_lum', data = peak_mge_lum_prolate)\n",
    "        f.create_dataset(name='sigma_lum', data = sigma_mge_lum_prolate)"
   ]
  },
  {
   "cell_type": "code",
   "execution_count": null,
   "id": "b474e9f6",
   "metadata": {
    "papermill": {
     "duration": 0.045033,
     "end_time": "2025-08-31T06:05:01.607029",
     "exception": false,
     "start_time": "2025-08-31T06:05:01.561996",
     "status": "completed"
    },
    "tags": []
   },
   "outputs": [],
   "source": []
  }
 ],
 "metadata": {
  "kernelspec": {
   "display_name": "python(koholint)",
   "language": "python",
   "name": "koholint"
  },
  "language_info": {
   "codemirror_mode": {
    "name": "ipython",
    "version": 3
   },
   "file_extension": ".py",
   "mimetype": "text/x-python",
   "name": "python",
   "nbconvert_exporter": "python",
   "pygments_lexer": "ipython3",
   "version": "3.12.2"
  },
  "papermill": {
   "default_parameters": {},
   "duration": 2917.948431,
   "end_time": "2025-08-31T06:05:02.276331",
   "environment_variables": {},
   "exception": null,
   "input_path": "make_kin_mock_data_axisymmetric_tng.ipynb",
   "output_path": "make_kin_mock_data_axisymmetric_tng.ipynb",
   "parameters": {},
   "start_time": "2025-08-31T05:16:24.327900",
   "version": "2.6.0"
  }
 },
 "nbformat": 4,
 "nbformat_minor": 5
}