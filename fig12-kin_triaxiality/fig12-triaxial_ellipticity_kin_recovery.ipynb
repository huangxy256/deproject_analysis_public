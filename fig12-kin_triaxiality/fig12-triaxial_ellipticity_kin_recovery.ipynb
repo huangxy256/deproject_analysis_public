{
 "cells": [
  {
   "cell_type": "markdown",
   "id": "87327309",
   "metadata": {
    "papermill": {
     "duration": 0.002655,
     "end_time": "2025-09-01T04:58:09.873560",
     "exception": false,
     "start_time": "2025-09-01T04:58:09.870905",
     "status": "completed"
    },
    "tags": []
   },
   "source": [
    "# Recover axisymmetric kinematics model from projected imaging info for a sample of lens galaxies, with different inclination angle prior, and triaxial ellipticity\n",
    "\n",
    "Xiangyu Huang, 2024, Stony Brook\n",
    "\n",
    "In this notebook, we want to test the kinematics recovery for intrinsically axisymmetric galaxies. We generate the projected MGE with axisymmetric luminosity and density profiles. In the kinematics recovery, we consider the case when the luminosity profile is actually triaxial rather than axisymmetric, i.e. the luminosity profile has two intrinsic axis ratios and have different projected ellipticity than the density profile. We want to test whether this would bias the recovered velocity dispersion. "
   ]
  },
  {
   "cell_type": "code",
   "execution_count": 1,
   "id": "dd83b029",
   "metadata": {
    "execution": {
     "iopub.execute_input": "2025-09-01T04:58:09.879187Z",
     "iopub.status.busy": "2025-09-01T04:58:09.878863Z",
     "iopub.status.idle": "2025-09-01T04:58:10.256281Z",
     "shell.execute_reply": "2025-09-01T04:58:10.255788Z"
    },
    "papermill": {
     "duration": 0.38156,
     "end_time": "2025-09-01T04:58:10.257481",
     "exception": false,
     "start_time": "2025-09-01T04:58:09.875921",
     "status": "completed"
    },
    "tags": []
   },
   "outputs": [],
   "source": [
    "import numpy as np\n",
    "import matplotlib.pyplot as plt \n",
    "%matplotlib inline\n",
    "import pandas as pd\n",
    "from copy import deepcopy\n",
    "import h5py\n",
    "\n",
    "from cycler import cycler\n",
    "import matplotlib as mpl\n",
    "clist = ['#04B2D9', '#F2B33D', '#F29966', '#F2441D', '#0486C5']\n",
    "mpl.rcParams['axes.prop_cycle'] = cycler(color=clist)\n",
    "import matplotlib.patches as patches\n"
   ]
  },
  {
   "cell_type": "code",
   "execution_count": 2,
   "id": "b63887b2",
   "metadata": {
    "execution": {
     "iopub.execute_input": "2025-09-01T04:58:10.263331Z",
     "iopub.status.busy": "2025-09-01T04:58:10.263103Z",
     "iopub.status.idle": "2025-09-01T04:58:10.797292Z",
     "shell.execute_reply": "2025-09-01T04:58:10.796804Z"
    },
    "papermill": {
     "duration": 0.538117,
     "end_time": "2025-09-01T04:58:10.798374",
     "exception": false,
     "start_time": "2025-09-01T04:58:10.260257",
     "status": "completed"
    },
    "tags": []
   },
   "outputs": [],
   "source": [
    "from scipy.stats import gaussian_kde\n",
    "from scipy.interpolate import interp1d\n",
    "\n",
    "from deproject.Util.orientation import Isotropic_inclination\n",
    "from deproject.Util.ellipticity import Axis_ratio2ellipticity, Ellipticity2axis_ratio \n",
    "from deproject.projection import Projection\n",
    "from deproject.projection_axisymmetric import Projection_axisym\n",
    "from deproject.Util.random_var import Draw_from_pdf\n",
    "from deproject.Cosmo.default_cosmo import get_default_lens_cosmo\n",
    "\n",
    "from jampy.jam_axi_proj import jam_axi_proj\n",
    "from jampy.mge_half_light_isophote import mge_half_light_isophote"
   ]
  },
  {
   "cell_type": "markdown",
   "id": "40560b06",
   "metadata": {
    "papermill": {
     "duration": 0.005908,
     "end_time": "2025-09-01T04:58:10.831800",
     "exception": false,
     "start_time": "2025-09-01T04:58:10.825892",
     "status": "completed"
    },
    "tags": []
   },
   "source": [
    "## Calculate the triaxial ellipticity of the lens galaxy with the inclination angle in the mock data"
   ]
  },
  {
   "cell_type": "code",
   "execution_count": 3,
   "id": "e050a47d",
   "metadata": {
    "execution": {
     "iopub.execute_input": "2025-09-01T04:58:10.838111Z",
     "iopub.status.busy": "2025-09-01T04:58:10.837771Z",
     "iopub.status.idle": "2025-09-01T04:58:10.842661Z",
     "shell.execute_reply": "2025-09-01T04:58:10.841500Z"
    },
    "papermill": {
     "duration": 0.009961,
     "end_time": "2025-09-01T04:58:10.844190",
     "exception": false,
     "start_time": "2025-09-01T04:58:10.834229",
     "status": "completed"
    },
    "tags": []
   },
   "outputs": [],
   "source": [
    "oblate = False\n",
    "\n",
    "if oblate:\n",
    "    oblate_name = 'oblate'\n",
    "else:\n",
    "    oblate_name = 'prolate'"
   ]
  },
  {
   "cell_type": "code",
   "execution_count": 4,
   "id": "8d418f9f",
   "metadata": {
    "execution": {
     "iopub.execute_input": "2025-09-01T04:58:10.851413Z",
     "iopub.status.busy": "2025-09-01T04:58:10.851274Z",
     "iopub.status.idle": "2025-09-01T04:58:10.865309Z",
     "shell.execute_reply": "2025-09-01T04:58:10.864313Z"
    },
    "papermill": {
     "duration": 0.019258,
     "end_time": "2025-09-01T04:58:10.867351",
     "exception": false,
     "start_time": "2025-09-01T04:58:10.848093",
     "status": "completed"
    },
    "tags": []
   },
   "outputs": [],
   "source": [
    "rerun_calculation = True\n",
    "\n",
    "# load previously saved data\n",
    "if not rerun_calculation:\n",
    "    data = np.load('./triaxial_ellipticity_{}.npy' .format(oblate_name))\n",
    "    inc_tri_all, eobs_tri_all, vel_disp_tri_all = data\n",
    "\n",
    "    if oblate:\n",
    "        Qobs_tri_all = Ellipticity2axis_ratio(eobs_tri_all)\n",
    "    else:\n",
    "        Qobs_tri_all = 1/Ellipticity2axis_ratio(eobs_tri_all)\n"
   ]
  },
  {
   "cell_type": "code",
   "execution_count": 5,
   "id": "bc82a788",
   "metadata": {
    "execution": {
     "iopub.execute_input": "2025-09-01T04:58:10.876540Z",
     "iopub.status.busy": "2025-09-01T04:58:10.876344Z",
     "iopub.status.idle": "2025-09-01T04:58:11.048589Z",
     "shell.execute_reply": "2025-09-01T04:58:11.048195Z"
    },
    "papermill": {
     "duration": 0.176632,
     "end_time": "2025-09-01T04:58:11.049379",
     "exception": false,
     "start_time": "2025-09-01T04:58:10.872747",
     "status": "completed"
    },
    "tags": []
   },
   "outputs": [
    {
     "name": "stdout",
     "output_type": "stream",
     "text": [
      "(1260,)\n"
     ]
    },
    {
     "data": {
      "image/png": "[encoded data removed]",
      "text/plain": [
       "<Figure size 640x480 with 1 Axes>"
      ]
     },
     "metadata": {},
     "output_type": "display_data"
    }
   ],
   "source": [
    "data = np.load('./tng_kin_{}.npy' .format(oblate_name))\n",
    "data_copy = deepcopy(data)\n",
    "\n",
    "qobs_data = data_copy[1, :]\n",
    "theta_e_data = data_copy[0, :]\n",
    "inc_data = data_copy[3, :]\n",
    "sigma_e_data = data_copy[2, :]\n",
    "if oblate:\n",
    "    eobs_data = Axis_ratio2ellipticity(qobs_data)\n",
    "else:\n",
    "    eobs_data = -1 * Axis_ratio2ellipticity(qobs_data)\n",
    "print(eobs_data.shape)\n",
    "\n",
    "\n",
    "# read catalog for the intrinsic axis ratio\n",
    "cat = pd.read_pickle('./axisym_tng_catalog/{}_catalog.pkl' .format(oblate_name))\n",
    "zeta =  cat['zeta'].values\n",
    "xi = cat['xi'].values\n",
    "zeta = np.repeat(zeta, 10)\n",
    "xi = np.repeat(xi, 10)\n",
    "\n",
    "if rerun_calculation:\n",
    "    # reconstruct the projected ellipticity, assuming the galaxies are triaxial\n",
    "    theta_all, phi_all = data[4:] \n",
    "\n",
    "    projection = Projection(zeta=zeta, xi=xi, phi=phi_all, theta=theta_all)\n",
    "    Qobs_tri_all = projection.AxisRatio()\n",
    "    eobs_tri_all = Axis_ratio2ellipticity(Qobs_tri_all)\n",
    "\n",
    "    if not oblate:\n",
    "        Qobs_tri_all = 1/Qobs_tri_all\n",
    "\n",
    "\n",
    "# plot the distribution of ellipticity\n",
    "plt.figure()\n",
    "plt.hist(eobs_tri_all, density=True, histtype='step', lw = 2, label = 'triaxial, all', bins=20)\n",
    "plt.hist(eobs_data, density=True, histtype='step', lw = 2, label = 'data, all', bins=20)\n",
    "plt.xlabel('$e$')\n",
    "plt.ylabel('PDF')\n",
    "plt.legend()\n",
    "plt.show()"
   ]
  },
  {
   "cell_type": "markdown",
   "id": "b98e31a8",
   "metadata": {
    "papermill": {
     "duration": 0.002243,
     "end_time": "2025-09-01T04:58:11.054089",
     "exception": false,
     "start_time": "2025-09-01T04:58:11.051846",
     "status": "completed"
    },
    "tags": []
   },
   "source": [
    "## Draw inclination angle for the given ellipticity distribution"
   ]
  },
  {
   "cell_type": "code",
   "execution_count": 6,
   "id": "a98804e8",
   "metadata": {
    "execution": {
     "iopub.execute_input": "2025-09-01T04:58:11.059226Z",
     "iopub.status.busy": "2025-09-01T04:58:11.059075Z",
     "iopub.status.idle": "2025-09-01T04:58:11.174519Z",
     "shell.execute_reply": "2025-09-01T04:58:11.174057Z"
    },
    "papermill": {
     "duration": 0.119086,
     "end_time": "2025-09-01T04:58:11.175403",
     "exception": false,
     "start_time": "2025-09-01T04:58:11.056317",
     "status": "completed"
    },
    "tags": []
   },
   "outputs": [
    {
     "data": {
      "image/png": "[encoded data removed]",
      "text/plain": [
       "<Figure size 640x480 with 1 Axes>"
      ]
     },
     "metadata": {},
     "output_type": "display_data"
    }
   ],
   "source": [
    "# read catalog for the intrinsic axis ratio\n",
    "if oblate:\n",
    "    qintr = cat['xi_new'].values\n",
    "else:\n",
    "    qintr = 1/cat['zeta_new'].values\n",
    "\n",
    "kde = gaussian_kde(qintr)\n",
    "if oblate:\n",
    "    qintr_cdf = np.linspace(0, 1, 150)\n",
    "    qintr_plot = np.linspace(0, 1, 150)\n",
    "else:\n",
    "    qintr_cdf = np.linspace(0, 3, 150)\n",
    "    qintr_plot = np.linspace(0.5, 3, 150)\n",
    "\n",
    "qintr_kde = kde(qintr_cdf)\n",
    "qintr_rm = Draw_from_pdf(qintr_cdf, qintr_kde, 500, bins_hist=15)\n",
    "\n",
    "plt.figure()\n",
    "plt.hist(qintr, color = clist[4], density=True, bins=10, alpha = 0.3, label='original')\n",
    "plt.hist(qintr_rm, histtype='step', lw = 2, density=True, label='drawn from KDE', bins = 20)\n",
    "plt.plot(qintr_plot, kde(qintr_plot), lw = 2, marker = ' ', label = 'Gaussian KDE')\n",
    "plt.xlabel('$q$')\n",
    "plt.ylabel('PDF')\n",
    "plt.legend(loc='best', prop = {'size': 13})\n",
    "plt.show()"
   ]
  },
  {
   "cell_type": "code",
   "execution_count": 7,
   "id": "851fee39",
   "metadata": {
    "execution": {
     "iopub.execute_input": "2025-09-01T04:58:11.181986Z",
     "iopub.status.busy": "2025-09-01T04:58:11.181621Z",
     "iopub.status.idle": "2025-09-01T04:58:11.324892Z",
     "shell.execute_reply": "2025-09-01T04:58:11.324425Z"
    },
    "papermill": {
     "duration": 0.147746,
     "end_time": "2025-09-01T04:58:11.325947",
     "exception": false,
     "start_time": "2025-09-01T04:58:11.178201",
     "status": "completed"
    },
    "tags": []
   },
   "outputs": [
    {
     "data": {
      "image/png": "[encoded data removed]",
      "text/plain": [
       "<Figure size 640x480 with 2 Axes>"
      ]
     },
     "metadata": {},
     "output_type": "display_data"
    }
   ],
   "source": [
    "projection_axisym = Projection_axisym(qintr_rm)\n",
    "\n",
    "projection_axisym.Eobs_dist_iso_inc(plot_scatter=0, plot_2dhist=1, single_proj=1000, bins_2dhist_plot=[60, 30]) # test \n",
    "plt.show()"
   ]
  },
  {
   "cell_type": "code",
   "execution_count": 8,
   "id": "b23c0d99",
   "metadata": {
    "execution": {
     "iopub.execute_input": "2025-09-01T04:58:11.411486Z",
     "iopub.status.busy": "2025-09-01T04:58:11.411312Z",
     "iopub.status.idle": "2025-09-01T04:58:11.413648Z",
     "shell.execute_reply": "2025-09-01T04:58:11.413255Z"
    },
    "papermill": {
     "duration": 0.084712,
     "end_time": "2025-09-01T04:58:11.414724",
     "exception": false,
     "start_time": "2025-09-01T04:58:11.330012",
     "status": "completed"
    },
    "tags": []
   },
   "outputs": [],
   "source": [
    "# testing drawing P(i|e) from the P(i, e) histogram\n",
    "# kwargs_eobs_iso_inc = {'single_proj': 1000, 'plot_2dhist': 0, 'bins_2dhist_plot': [30, 30], 'plot_scatter': 0}\n",
    "# projection_axisym.Cond_pdf_inc_given_eobs(0.2, plot_1dpdf=1, bins_2dhist=[40, 30], normalize=0, **kwargs_eobs_iso_inc, quiet=1) # test"
   ]
  },
  {
   "cell_type": "markdown",
   "id": "b88626ee",
   "metadata": {
    "papermill": {
     "duration": 0.006378,
     "end_time": "2025-09-01T04:58:11.425446",
     "exception": false,
     "start_time": "2025-09-01T04:58:11.419068",
     "status": "completed"
    },
    "tags": []
   },
   "source": [
    "### Recovered inclination angle for the triaxial sample\n",
    "\n",
    "#### No lensing selection"
   ]
  },
  {
   "cell_type": "code",
   "execution_count": 9,
   "id": "4fdb60ca",
   "metadata": {
    "execution": {
     "iopub.execute_input": "2025-09-01T04:58:11.431897Z",
     "iopub.status.busy": "2025-09-01T04:58:11.431599Z",
     "iopub.status.idle": "2025-09-01T04:58:11.594715Z",
     "shell.execute_reply": "2025-09-01T04:58:11.594429Z"
    },
    "papermill": {
     "duration": 0.167499,
     "end_time": "2025-09-01T04:58:11.595657",
     "exception": false,
     "start_time": "2025-09-01T04:58:11.428158",
     "status": "completed"
    },
    "tags": []
   },
   "outputs": [
    {
     "name": "stdout",
     "output_type": "stream",
     "text": [
      "Ellipticity 0.4687 out of range!\n",
      "Ellipticity 0.5097 out of range!\n",
      "Ellipticity 0.4286 out of range!\n",
      "Ellipticity 0.5132 out of range!\n",
      "Ellipticity 0.4220 out of range!\n",
      "Ellipticity 0.4402 out of range!\n",
      "Ellipticity 0.4814 out of range!\n",
      "Ellipticity 0.5195 out of range!\n",
      "Ellipticity 0.5805 out of range!\n",
      "Ellipticity 0.4218 out of range!\n",
      "Ellipticity 0.4604 out of range!\n",
      "Ellipticity 0.4170 out of range!\n",
      "Ellipticity 0.4119 out of range!\n",
      "Ellipticity 0.4272 out of range!\n",
      "Ellipticity 0.4594 out of range!\n",
      "Ellipticity 0.4648 out of range!\n"
     ]
    },
    {
     "data": {
      "image/png": "[encoded data removed]",
      "text/plain": [
       "<Figure size 640x480 with 1 Axes>"
      ]
     },
     "metadata": {},
     "output_type": "display_data"
    }
   ],
   "source": [
    "if rerun_calculation:\n",
    "    inc_tri_all = projection_axisym.Recover_inclination(eobs_tri_all, bins_2dhist=[60, 30], qintr_min=0.05, single_proj=1000)\n",
    "\n",
    "# if ellipcitity is out of range, then use 90 degrees\n",
    "inc_tri_all = np.where(np.isfinite(inc_tri_all), inc_tri_all, np.pi/2)\n",
    "\n",
    "plt.figure()\n",
    "plt.hist(np.degrees(inc_tri_all), bins=20, label = 'recovered, triaxial', histtype='step', lw = 2, density=True)\n",
    "plt.hist(inc_data, bins = 20, label = 'mock data', histtype='step', lw = 2, density=True)\n",
    "plt.xlabel('$i$ [deg]')\n",
    "plt.ylabel('PDF')\n",
    "plt.title(r'$i$ sampled from $P(i|e)$, no selection')\n",
    "plt.legend()\n",
    "plt.show()"
   ]
  },
  {
   "cell_type": "markdown",
   "id": "aa704fec",
   "metadata": {
    "papermill": {
     "duration": 0.002893,
     "end_time": "2025-09-01T04:58:11.601681",
     "exception": false,
     "start_time": "2025-09-01T04:58:11.598788",
     "status": "completed"
    },
    "tags": []
   },
   "source": [
    "## Recover the kinematics with JAM"
   ]
  },
  {
   "cell_type": "code",
   "execution_count": 10,
   "id": "36096c75",
   "metadata": {
    "execution": {
     "iopub.execute_input": "2025-09-01T04:58:11.727701Z",
     "iopub.status.busy": "2025-09-01T04:58:11.727565Z",
     "iopub.status.idle": "2025-09-01T04:58:11.734095Z",
     "shell.execute_reply": "2025-09-01T04:58:11.733271Z"
    },
    "papermill": {
     "duration": 0.016215,
     "end_time": "2025-09-01T04:58:11.736156",
     "exception": false,
     "start_time": "2025-09-01T04:58:11.719941",
     "status": "completed"
    },
    "tags": []
   },
   "outputs": [
    {
     "name": "stdout",
     "output_type": "stream",
     "text": [
      "<KeysViewHDF5 ['peak_den', 'peak_lum', 'sigma_den', 'sigma_lum']>\n"
     ]
    }
   ],
   "source": [
    "# access projected MGE.\n",
    "with h5py.File('./tng_kin_mge_{}.hdf5' .format(oblate_name), 'r') as f:\n",
    "    print(f.keys())\n",
    "    peak_den = f['peak_den'][:]\n",
    "    peak_lum = f['peak_lum'][:]\n",
    "    sigma_den = f['sigma_den'][:]\n",
    "    sigma_lum = f['sigma_lum'][:]\n"
   ]
  },
  {
   "cell_type": "code",
   "execution_count": 11,
   "id": "2aa8a505",
   "metadata": {
    "execution": {
     "iopub.execute_input": "2025-09-01T04:58:11.745540Z",
     "iopub.status.busy": "2025-09-01T04:58:11.745421Z",
     "iopub.status.idle": "2025-09-01T04:58:11.790188Z",
     "shell.execute_reply": "2025-09-01T04:58:11.789734Z"
    },
    "papermill": {
     "duration": 0.050215,
     "end_time": "2025-09-01T04:58:11.791325",
     "exception": false,
     "start_time": "2025-09-01T04:58:11.741110",
     "status": "completed"
    },
    "tags": []
   },
   "outputs": [],
   "source": [
    "def get_sigma_e(surf_lum, sigma_lum, qobs_lum, jam, xbin, ybin):\n",
    "    \"\"\"calculate velocity dispersion within the half-light radius from a jam model\n",
    "\n",
    "    Args:\n",
    "        surf_lum (_type_): peak of surface luminosity MGE \n",
    "        sigma_lum (_type_): sigma of surface luminocity MGE\n",
    "        qobs_lum (_type_): array of the projected axis raio of the surface luminosity MGEs\n",
    "        jam (_type_): jam model, a jampy.jam_axi_proj instance\n",
    "        xbin (_type_): x coordinate to sample the velocity dispersion\n",
    "        ybin (_type_): y coordinate to sample the velocity dispersion\n",
    "        plot_velmap (int, optional): whether to plot the velocity dispersion map. Defaults to 0.\n",
    "        plot_sample_points (int, optional): whether to plot the xy coordinates within the half-light radius. Defaults to 0.\n",
    "        fignum (int, optional): _description_. Defaults to 1.\n",
    "\n",
    "    Raises:\n",
    "        ValueError: _description_\n",
    "\n",
    "    Returns:\n",
    "        _type_: _description_\n",
    "    \"\"\"\n",
    "    ifu_dim = int(np.sqrt(len(xbin)))\n",
    "    if np.all(qobs_lum <= 1):\n",
    "        flux = jam.flux\n",
    "        reff, reff_maj, eps_e, lum_tot = mge_half_light_isophote(surf_lum, sigma_lum, qobs_lum)\n",
    "    elif np.all(qobs_lum > 1):\n",
    "        flux = np.reshape(jam.flux, (ifu_dim, ifu_dim)).T  # for prolate rotate the flux map by 90 degrees to calculate the half-light radius\n",
    "        flux = flux.flatten() \n",
    "        reff, reff_maj, eps_e, lum_tot = mge_half_light_isophote(surf_lum, sigma_lum, 1/qobs_lum)\n",
    "    else:\n",
    "        raise ValueError('Apparent axis ratio must be constant with radius!')\n",
    "\n",
    "    w = xbin**2 + (ybin/(1 - eps_e))**2 < reff_maj**2\n",
    "\n",
    "    model = jam.model\n",
    "\n",
    "    sig_e = np.sqrt((flux[w]*model[w]**2).sum()/flux[w].sum())\n",
    "\n",
    "    return sig_e"
   ]
  },
  {
   "cell_type": "markdown",
   "id": "c48f35b1",
   "metadata": {
    "papermill": {
     "duration": 0.003316,
     "end_time": "2025-09-01T04:58:11.798663",
     "exception": false,
     "start_time": "2025-09-01T04:58:11.795347",
     "status": "completed"
    },
    "tags": []
   },
   "source": [
    "### Modify the MGE according to the ellipticity to preserve mass and luminosity\n",
    "\n",
    "When the ellipticity is changed from axisymmetric to triaxial, need to also modify the MGE such that the total mass and luminosity is preserved. In other words, the lens models are invariant. \n",
    "\n",
    "We change the shape of the mass/light profiles on the symmetry axis in projection. In MGE forms, the total luminosity is \n",
    "$$ \n",
    "L_k = 2 \\pi \\Sigma_{0k} \\sigma_{k}^2 Q_k,\n",
    "$$\n",
    "where $\\Sigma_{0k}$ and $\\sigma_{k}$ are the amplitude and dispersion of the MGE, and $Q_k$ is the apparent axis ratio in projection. When we use instead the \"triaxial\" apparent axis ratio in projection $Q^t_k$, we change the dispersion of the MGE\n",
    "$$\n",
    "\\sigma_k \\rightarrow \\sqrt{\\frac{Q_k}{Q^t_k}} \\sigma_k.\n",
    "$$\n"
   ]
  },
  {
   "cell_type": "code",
   "execution_count": 12,
   "id": "9c022f7c",
   "metadata": {
    "execution": {
     "iopub.execute_input": "2025-09-01T04:58:11.814411Z",
     "iopub.status.busy": "2025-09-01T04:58:11.814240Z",
     "iopub.status.idle": "2025-09-01T04:58:11.816645Z",
     "shell.execute_reply": "2025-09-01T04:58:11.816320Z"
    },
    "papermill": {
     "duration": 0.015527,
     "end_time": "2025-09-01T04:58:11.817273",
     "exception": false,
     "start_time": "2025-09-01T04:58:11.801746",
     "status": "completed"
    },
    "tags": []
   },
   "outputs": [],
   "source": [
    "coeff_all = np.sqrt(qobs_data / Qobs_tri_all)\n",
    "coeff_all = coeff_all[:, None]\n",
    "sigma_den_tri = coeff_all * sigma_den\n",
    "sigma_lum_tri = coeff_all * sigma_lum\n"
   ]
  },
  {
   "cell_type": "markdown",
   "id": "c354bb60",
   "metadata": {
    "papermill": {
     "duration": 0.002914,
     "end_time": "2025-09-01T04:58:11.823245",
     "exception": false,
     "start_time": "2025-09-01T04:58:11.820331",
     "status": "completed"
    },
    "tags": []
   },
   "source": [
    "#### Run Jampy on the NO lensing selected triaxial sample"
   ]
  },
  {
   "cell_type": "code",
   "execution_count": 13,
   "id": "e7e74a71",
   "metadata": {
    "execution": {
     "iopub.execute_input": "2025-09-01T04:58:11.868943Z",
     "iopub.status.busy": "2025-09-01T04:58:11.868800Z",
     "iopub.status.idle": "2025-09-01T04:58:11.883153Z",
     "shell.execute_reply": "2025-09-01T04:58:11.882693Z"
    },
    "papermill": {
     "duration": 0.058089,
     "end_time": "2025-09-01T04:58:11.884316",
     "exception": false,
     "start_time": "2025-09-01T04:58:11.826227",
     "status": "completed"
    },
    "tags": []
   },
   "outputs": [],
   "source": [
    "lens_cosmo = get_default_lens_cosmo()\n",
    "distance = lens_cosmo.Dd"
   ]
  },
  {
   "cell_type": "code",
   "execution_count": 14,
   "id": "61e4314e",
   "metadata": {
    "execution": {
     "iopub.execute_input": "2025-09-01T04:58:11.893086Z",
     "iopub.status.busy": "2025-09-01T04:58:11.892908Z",
     "iopub.status.idle": "2025-09-01T04:58:11.915511Z",
     "shell.execute_reply": "2025-09-01T04:58:11.915114Z"
    },
    "papermill": {
     "duration": 0.027478,
     "end_time": "2025-09-01T04:58:11.916405",
     "exception": false,
     "start_time": "2025-09-01T04:58:11.888927",
     "status": "completed"
    },
    "tags": []
   },
   "outputs": [],
   "source": [
    "def recover_vel_disp(peak_lum, sigma_lum, qobs_lum, peak_den, sigma_den, qobs_den, inclination, distance):\n",
    "    \"\"\"recover velocoty dispersion given light and mass MGE\n",
    "\n",
    "    Args:\n",
    "        peak_lum (_type_): amplitude of the MGE describing the luminosity profile [L_sun/arcsec^2]\n",
    "        sigma_lum (_type_): dispersion of the MGE describing the luminosity profile [arcsec]\n",
    "        qobs_lum (_type_): axis ratio of the MGE describing the luminosity profile, for prolate, np.all(qobs_lum) > 1\n",
    "        peak_den (_type_): amplitude of the MGE describing the density profile [M_sun/arcsec^2]\n",
    "        sigma_den (_type_): dispersion of the MGE describing the density profile [arcsec]\n",
    "        qobs_den (_type_): axis ratio of the MGE describing the density profile, for prolate, np.all(qobs_den) > 1\n",
    "        inclination (_type_): inclination angle \n",
    "        distance (_type_): angular diameter distance to the system [Mpc]\n",
    "\n",
    "    Returns:\n",
    "        _type_: recovered velocity dispersion\n",
    "    \"\"\"\n",
    "    vel_disp = np.zeros(len(peak_den))\n",
    "    inc_deg = np.degrees(inclination)\n",
    "    for i in range(len(peak_den)):\n",
    "        peak_lum_i = peak_lum[i]\n",
    "        sigma_lum_i = sigma_lum[i]\n",
    "        peak_den_i = peak_den[i]\n",
    "        sigma_den_i = sigma_den[i]\n",
    "        qobs_lum_i = qobs_lum[i]\n",
    "        qobs_den_i = qobs_den[i]\n",
    "        beta = np.zeros_like(peak_lum_i) # isotropic anisotropy\n",
    "\n",
    "        if qobs_lum_i > 1:\n",
    "            qobs_lum_i_apparent = 1 / qobs_lum_i # for Q>1, take the inverse to calculate reff\n",
    "        else:\n",
    "            qobs_lum_i_apparent = qobs_lum_i\n",
    "\n",
    "        # set up a grid to perform jam \n",
    "        reff = mge_half_light_isophote(peak_lum_i, sigma_lum_i, np.full_like(peak_lum_i, qobs_lum_i_apparent))[0]\n",
    "        xx = np.linspace(-2.5 * reff, 2.5 * reff, 100)  # avoid (x,y)=(0,0)\n",
    "        xbin, ybin = map(np.ravel, np.meshgrid(xx, xx))\n",
    "\n",
    "        # run jam\n",
    "        jam = jam_axi_proj(peak_lum_i, sigma_lum_i, np.full_like(peak_lum_i, qobs_lum_i), peak_den_i, sigma_den_i, np.full_like(peak_den_i, qobs_den_i), inc_deg[i], 0, distance, xbin, ybin, plot=0, beta=beta, align='sph')\n",
    "        # compute sigma_e\n",
    "        sigma_e = get_sigma_e(peak_lum_i, sigma_lum_i, np.full_like(peak_lum_i, qobs_lum_i), jam, xbin, ybin)\n",
    "        vel_disp[i] = sigma_e\n",
    "        print(f\"sigma_e: {sigma_e:.2f} km/s\")\n",
    "\n",
    "    return vel_disp"
   ]
  },
  {
   "cell_type": "code",
   "execution_count": 15,
   "id": "73ffb0c5",
   "metadata": {
    "execution": {
     "iopub.execute_input": "2025-09-01T04:58:11.923377Z",
     "iopub.status.busy": "2025-09-01T04:58:11.923221Z",
     "iopub.status.idle": "2025-09-01T05:18:31.494103Z",
     "shell.execute_reply": "2025-09-01T05:18:31.493779Z"
    },
    "papermill": {
     "duration": 1219.575418,
     "end_time": "2025-09-01T05:18:31.494914",
     "exception": false,
     "start_time": "2025-09-01T04:58:11.919496",
     "status": "completed"
    },
    "tags": []
   },
   "outputs": [
    {
     "name": "stdout",
     "output_type": "stream",
     "text": [
      "jam_axi_proj(align='sph', moment='zz') -- elapsed time sec: 0.94\n",
      "analytic_los=0 logistic=0 constant_anisotropy=1\n",
      "No PSF/pixel convolution because sigmapsf=0 pixsize=0\n",
      "inc=61.3; beta[0]=0.0; kappa=1.00; M/L=1.00; BH=0.0; chi2/DOF=nan\n",
      "Total mass MGE (MSun): 1.197e+13\n",
      "\n",
      "sigma_e: 157.25 km/s\n"
     ]
    },
    {
     "name": "stdout",
     "output_type": "stream",
     "text": [
      "jam_axi_proj(align='sph', moment='zz') -- elapsed time sec: 1.01\n",
      "analytic_los=0 logistic=0 constant_anisotropy=1\n",
      "No PSF/pixel convolution because sigmapsf=0 pixsize=0\n",
      "inc=76.7; beta[0]=0.0; kappa=1.00; M/L=1.00; BH=0.0; chi2/DOF=nan\n",
      "Total mass MGE (MSun): 1.197e+13\n",
      "\n",
      "sigma_e: 148.31 km/s\n"
     ]
    },
    {
     "name": "stdout",
     "output_type": "stream",
     "text": [
      "jam_axi_proj(align='sph', moment='zz') -- elapsed time sec: 0.88\n",
      "analytic_los=0 logistic=0 constant_anisotropy=1\n",
      "No PSF/pixel convolution because sigmapsf=0 pixsize=0\n",
      "inc=24.0; beta[0]=0.0; kappa=1.00; M/L=1.00; BH=0.0; chi2/DOF=nan\n",
      "Total mass MGE (MSun): 1.197e+13\n",
      "\n",
      "sigma_e: 164.89 km/s\n"
     ]
    },
    {
     "name": "stdout",
     "output_type": "stream",
     "text": [
      "jam_axi_proj(align='sph', moment='zz') -- elapsed time sec: 0.98\n",
      "analytic_los=0 logistic=0 constant_anisotropy=1\n",
      "No PSF/pixel convolution because sigmapsf=0 pixsize=0\n",
      "inc=66.4; beta[0]=0.0; kappa=1.00; M/L=1.00; BH=0.0; chi2/DOF=nan\n",
      "Total mass MGE (MSun): 1.197e+13\n",
      "\n",
      "sigma_e: 152.66 km/s\n"
     ]
    },
    {
     "name": "stdout",
     "output_type": "stream",
     "text": [
      "jam_axi_proj(align='sph', moment='zz') -- elapsed time sec: 0.91\n",
      "analytic_los=0 logistic=0 constant_anisotropy=1\n",
      "No PSF/pixel convolution because sigmapsf=0 pixsize=0\n",
      "inc=72.7; beta[0]=0.0; kappa=1.00; M/L=1.00; BH=0.0; chi2/DOF=nan\n",
      "Total mass MGE (MSun): 1.197e+13\n",
      "\n",
      "sigma_e: 155.57 km/s\n"
     ]
    },
    {
     "name": "stdout",
     "output_type": "stream",
     "text": [
      "jam_axi_proj(align='sph', moment='zz') -- elapsed time sec: 0.89\n",
      "analytic_los=0 logistic=0 constant_anisotropy=1\n",
      "No PSF/pixel convolution because sigmapsf=0 pixsize=0\n",
      "inc=32.8; beta[0]=0.0; kappa=1.00; M/L=1.00; BH=0.0; chi2/DOF=nan\n",
      "Total mass MGE (MSun): 1.197e+13\n",
      "\n",
      "sigma_e: 165.65 km/s\n"
     ]
    },
    {
     "name": "stdout",
     "output_type": "stream",
     "text": [
      "jam_axi_proj(align='sph', moment='zz') -- elapsed time sec: 0.93\n",
      "analytic_los=0 logistic=0 constant_anisotropy=1\n",
      "No PSF/pixel convolution because sigmapsf=0 pixsize=0\n",
      "inc=36.1; beta[0]=0.0; kappa=1.00; M/L=1.00; BH=0.0; chi2/DOF=nan\n",
      "Total mass MGE (MSun): 1.197e+13\n",
      "\n",
      "sigma_e: 166.71 km/s\n"
     ]
    },
    {
     "name": "stdout",
     "output_type": "stream",
     "text": [
      "jam_axi_proj(align='sph', moment='zz') -- elapsed time sec: 0.96\n",
      "analytic_los=0 logistic=0 constant_anisotropy=1\n",
      "No PSF/pixel convolution because sigmapsf=0 pixsize=0\n",
      "inc=78.1; beta[0]=0.0; kappa=1.00; M/L=1.00; BH=0.0; chi2/DOF=nan\n",
      "Total mass MGE (MSun): 1.197e+13\n",
      "\n",
      "sigma_e: 152.34 km/s\n"
     ]
    },
    {
     "name": "stdout",
     "output_type": "stream",
     "text": [
      "jam_axi_proj(align='sph', moment='zz') -- elapsed time sec: 0.99\n",
      "analytic_los=0 logistic=0 constant_anisotropy=1\n",
      "No PSF/pixel convolution because sigmapsf=0 pixsize=0\n",
      "inc=73.0; beta[0]=0.0; kappa=1.00; M/L=1.00; BH=0.0; chi2/DOF=nan\n",
      "Total mass MGE (MSun): 1.197e+13\n",
      "\n",
      "sigma_e: 147.12 km/s\n"
     ]
    },
    {
     "name": "stdout",
     "output_type": "stream",
     "text": [
      "jam_axi_proj(align='sph', moment='zz') -- elapsed time sec: 0.90\n",
      "analytic_los=0 logistic=0 constant_anisotropy=1\n",
      "No PSF/pixel convolution because sigmapsf=0 pixsize=0\n",
      "inc=23.4; beta[0]=0.0; kappa=1.00; M/L=1.00; BH=0.0; chi2/DOF=nan\n",
      "Total mass MGE (MSun): 1.197e+13\n",
      "\n",
      "sigma_e: 164.94 km/s\n"
     ]
    },
    {
     "name": "stdout",
     "output_type": "stream",
     "text": [
      "jam_axi_proj(align='sph', moment='zz') -- elapsed time sec: 0.98\n",
      "analytic_los=0 logistic=0 constant_anisotropy=1\n",
      "No PSF/pixel convolution because sigmapsf=0 pixsize=0\n",
      "inc=81.2; beta[0]=0.0; kappa=1.00; M/L=1.00; BH=0.0; chi2/DOF=nan\n",
      "Total mass MGE (MSun): 8.299e+12\n",
      "\n",
      "sigma_e: 145.69 km/s\n"
     ]
    },
    {
     "name": "stdout",
     "output_type": "stream",
     "text": [
      "jam_axi_proj(align='sph', moment='zz') -- elapsed time sec: 0.95\n",
      "analytic_los=0 logistic=0 constant_anisotropy=1\n",
      "No PSF/pixel convolution because sigmapsf=0 pixsize=0\n",
      "inc=79.0; beta[0]=0.0; kappa=1.00; M/L=1.00; BH=0.0; chi2/DOF=nan\n",
      "Total mass MGE (MSun): 8.299e+12\n",
      "\n",
      "sigma_e: 128.73 km/s\n"
     ]
    },
    {
     "name": "stdout",
     "output_type": "stream",
     "text": [
      "jam_axi_proj(align='sph', moment='zz') -- elapsed time sec: 0.98\n",
      "analytic_los=0 logistic=0 constant_anisotropy=1\n",
      "No PSF/pixel convolution because sigmapsf=0 pixsize=0\n",
      "inc=86.7; beta[0]=0.0; kappa=1.00; M/L=1.00; BH=0.0; chi2/DOF=nan\n",
      "Total mass MGE (MSun): 8.299e+12\n",
      "\n",
      "sigma_e: 136.00 km/s\n"
     ]
    },
    {
     "name": "stdout",
     "output_type": "stream",
     "text": [
      "jam_axi_proj(align='sph', moment='zz') -- elapsed time sec: 0.96\n",
      "analytic_los=0 logistic=0 constant_anisotropy=1\n",
      "No PSF/pixel convolution because sigmapsf=0 pixsize=0\n",
      "inc=84.1; beta[0]=0.0; kappa=1.00; M/L=1.00; BH=0.0; chi2/DOF=nan\n",
      "Total mass MGE (MSun): 8.299e+12\n",
      "\n",
      "sigma_e: 129.83 km/s\n"
     ]
    },
    {
     "name": "stdout",
     "output_type": "stream",
     "text": [
      "jam_axi_proj(align='sph', moment='zz') -- elapsed time sec: 0.98\n",
      "analytic_los=0 logistic=0 constant_anisotropy=1\n",
      "No PSF/pixel convolution because sigmapsf=0 pixsize=0\n",
      "inc=57.4; beta[0]=0.0; kappa=1.00; M/L=1.00; BH=0.0; chi2/DOF=nan\n",
      "Total mass MGE (MSun): 8.299e+12\n",
      "\n",
      "sigma_e: 139.07 km/s\n"
     ]
    },
    {
     "name": "stdout",
     "output_type": "stream",
     "text": [
      "jam_axi_proj(align='sph', moment='zz') -- elapsed time sec: 0.97\n",
      "analytic_los=0 logistic=0 constant_anisotropy=1\n",
      "No PSF/pixel convolution because sigmapsf=0 pixsize=0\n",
      "inc=85.3; beta[0]=0.0; kappa=1.00; M/L=1.00; BH=0.0; chi2/DOF=nan\n",
      "Total mass MGE (MSun): 8.299e+12\n",
      "\n",
      "sigma_e: 147.27 km/s\n"
     ]
    },
    {
     "name": "stdout",
     "output_type": "stream",
     "text": [
      "jam_axi_proj(align='sph', moment='zz') -- elapsed time sec: 0.96\n",
      "analytic_los=0 logistic=0 constant_anisotropy=1\n",
      "No PSF/pixel convolution because sigmapsf=0 pixsize=0\n",
      "inc=59.7; beta[0]=0.0; kappa=1.00; M/L=1.00; BH=0.0; chi2/DOF=nan\n",
      "Total mass MGE (MSun): 8.299e+12\n",
      "\n",
      "sigma_e: 135.52 km/s\n"
     ]
    },
    {
     "name": "stdout",
     "output_type": "stream",
     "text": [
      "jam_axi_proj(align='sph', moment='zz') -- elapsed time sec: 0.95\n",
      "analytic_los=0 logistic=0 constant_anisotropy=1\n",
      "No PSF/pixel convolution because sigmapsf=0 pixsize=0\n",
      "inc=70.8; beta[0]=0.0; kappa=1.00; M/L=1.00; BH=0.0; chi2/DOF=nan\n",
      "Total mass MGE (MSun): 8.299e+12\n",
      "\n",
      "sigma_e: 151.11 km/s\n"
     ]
    },
    {
     "name": "stdout",
     "output_type": "stream",
     "text": [
      "jam_axi_proj(align='sph', moment='zz') -- elapsed time sec: 0.96\n",
      "analytic_los=0 logistic=0 constant_anisotropy=1\n",
      "No PSF/pixel convolution because sigmapsf=0 pixsize=0\n",
      "inc=87.4; beta[0]=0.0; kappa=1.00; M/L=1.00; BH=0.0; chi2/DOF=nan\n",
      "Total mass MGE (MSun): 8.299e+12\n",
      "\n",
      "sigma_e: 133.89 km/s\n"
     ]
    },
    {
     "name": "stdout",
     "output_type": "stream",
     "text": [
      "jam_axi_proj(align='sph', moment='zz') -- elapsed time sec: 0.99\n",
      "analytic_los=0 logistic=0 constant_anisotropy=1\n",
      "No PSF/pixel convolution because sigmapsf=0 pixsize=0\n",
      "inc=84.6; beta[0]=0.0; kappa=1.00; M/L=1.00; BH=0.0; chi2/DOF=nan\n",
      "Total mass MGE (MSun): 8.299e+12\n",
      "\n",
      "sigma_e: 130.39 km/s\n"
     ]
    },
    {
     "name": "stdout",
     "output_type": "stream",
     "text": [
      "jam_axi_proj(align='sph', moment='zz') -- elapsed time sec: 1.01\n",
      "analytic_los=0 logistic=0 constant_anisotropy=1\n",
      "No PSF/pixel convolution because sigmapsf=0 pixsize=0\n",
      "inc=78.8; beta[0]=0.0; kappa=1.00; M/L=1.00; BH=0.0; chi2/DOF=nan\n",
      "Total mass MGE (MSun): 1.213e+13\n",
      "\n",
      "sigma_e: 149.96 km/s\n"
     ]
    },
    {
     "name": "stdout",
     "output_type": "stream",
     "text": [
      "jam_axi_proj(align='sph', moment='zz') -- elapsed time sec: 0.97\n",
      "analytic_los=0 logistic=0 constant_anisotropy=1\n",
      "No PSF/pixel convolution because sigmapsf=0 pixsize=0\n",
      "inc=67.7; beta[0]=0.0; kappa=1.00; M/L=1.00; BH=0.0; chi2/DOF=nan\n",
      "Total mass MGE (MSun): 1.213e+13\n",
      "\n",
      "sigma_e: 163.35 km/s\n"
     ]
    },
    {
     "name": "stdout",
     "output_type": "stream",
     "text": [
      "jam_axi_proj(align='sph', moment='zz') -- elapsed time sec: 0.94\n",
      "analytic_los=0 logistic=0 constant_anisotropy=1\n",
      "No PSF/pixel convolution because sigmapsf=0 pixsize=0\n",
      "inc=85.1; beta[0]=0.0; kappa=1.00; M/L=1.00; BH=0.0; chi2/DOF=nan\n",
      "Total mass MGE (MSun): 1.213e+13\n",
      "\n",
      "sigma_e: 136.36 km/s\n"
     ]
    },
    {
     "name": "stdout",
     "output_type": "stream",
     "text": [
      "jam_axi_proj(align='sph', moment='zz') -- elapsed time sec: 0.97\n",
      "analytic_los=0 logistic=0 constant_anisotropy=1\n",
      "No PSF/pixel convolution because sigmapsf=0 pixsize=0\n",
      "inc=87.3; beta[0]=0.0; kappa=1.00; M/L=1.00; BH=0.0; chi2/DOF=nan\n",
      "Total mass MGE (MSun): 1.213e+13\n",
      "\n",
      "sigma_e: 154.15 km/s\n"
     ]
    },
    {
     "name": "stdout",
     "output_type": "stream",
     "text": [
      "jam_axi_proj(align='sph', moment='zz') -- elapsed time sec: 1.04\n",
      "analytic_los=0 logistic=0 constant_anisotropy=1\n",
      "No PSF/pixel convolution because sigmapsf=0 pixsize=0\n",
      "inc=89.3; beta[0]=0.0; kappa=1.00; M/L=1.00; BH=0.0; chi2/DOF=nan\n",
      "Total mass MGE (MSun): 1.213e+13\n",
      "\n",
      "sigma_e: 147.26 km/s\n"
     ]
    },
    {
     "name": "stdout",
     "output_type": "stream",
     "text": [
      "jam_axi_proj(align='sph', moment='zz') -- elapsed time sec: 0.96\n",
      "analytic_los=0 logistic=0 constant_anisotropy=1\n",
      "No PSF/pixel convolution because sigmapsf=0 pixsize=0\n",
      "inc=76.1; beta[0]=0.0; kappa=1.00; M/L=1.00; BH=0.0; chi2/DOF=nan\n",
      "Total mass MGE (MSun): 1.213e+13\n",
      "\n",
      "sigma_e: 144.77 km/s\n"
     ]
    },
    {
     "name": "stdout",
     "output_type": "stream",
     "text": [
      "jam_axi_proj(align='sph', moment='zz') -- elapsed time sec: 1.07\n",
      "analytic_los=0 logistic=0 constant_anisotropy=1\n",
      "No PSF/pixel convolution because sigmapsf=0 pixsize=0\n",
      "inc=89.4; beta[0]=0.0; kappa=1.00; M/L=1.00; BH=0.0; chi2/DOF=nan\n",
      "Total mass MGE (MSun): 1.213e+13\n",
      "\n",
      "sigma_e: 151.85 km/s\n"
     ]
    },
    {
     "name": "stdout",
     "output_type": "stream",
     "text": [
      "jam_axi_proj(align='sph', moment='zz') -- elapsed time sec: 1.00\n",
      "analytic_los=0 logistic=0 constant_anisotropy=1\n",
      "No PSF/pixel convolution because sigmapsf=0 pixsize=0\n",
      "inc=78.6; beta[0]=0.0; kappa=1.00; M/L=1.00; BH=0.0; chi2/DOF=nan\n",
      "Total mass MGE (MSun): 1.213e+13\n",
      "\n",
      "sigma_e: 147.30 km/s\n"
     ]
    },
    {
     "name": "stdout",
     "output_type": "stream",
     "text": [
      "jam_axi_proj(align='sph', moment='zz') -- elapsed time sec: 1.00\n",
      "analytic_los=0 logistic=0 constant_anisotropy=1\n",
      "No PSF/pixel convolution because sigmapsf=0 pixsize=0\n",
      "inc=81.1; beta[0]=0.0; kappa=1.00; M/L=1.00; BH=0.0; chi2/DOF=nan\n",
      "Total mass MGE (MSun): 1.213e+13\n",
      "\n",
      "sigma_e: 149.44 km/s\n"
     ]
    },
    {
     "name": "stdout",
     "output_type": "stream",
     "text": [
      "jam_axi_proj(align='sph', moment='zz') -- elapsed time sec: 1.02\n",
      "analytic_los=0 logistic=0 constant_anisotropy=1\n",
      "No PSF/pixel convolution because sigmapsf=0 pixsize=0\n",
      "inc=87.0; beta[0]=0.0; kappa=1.00; M/L=1.00; BH=0.0; chi2/DOF=nan\n",
      "Total mass MGE (MSun): 1.213e+13\n",
      "\n",
      "sigma_e: 142.36 km/s\n"
     ]
    },
    {
     "name": "stdout",
     "output_type": "stream",
     "text": [
      "jam_axi_proj(align='sph', moment='zz') -- elapsed time sec: 0.96\n",
      "analytic_los=0 logistic=0 constant_anisotropy=1\n",
      "No PSF/pixel convolution because sigmapsf=0 pixsize=0\n",
      "inc=90.0; beta[0]=0.0; kappa=1.00; M/L=1.00; BH=0.0; chi2/DOF=nan\n",
      "Total mass MGE (MSun): 1.198e+13\n",
      "\n",
      "sigma_e: 141.08 km/s\n"
     ]
    },
    {
     "name": "stdout",
     "output_type": "stream",
     "text": [
      "jam_axi_proj(align='sph', moment='zz') -- elapsed time sec: 0.92\n",
      "analytic_los=0 logistic=0 constant_anisotropy=1\n",
      "No PSF/pixel convolution because sigmapsf=0 pixsize=0\n",
      "inc=90.0; beta[0]=0.0; kappa=1.00; M/L=1.00; BH=0.0; chi2/DOF=nan\n",
      "Total mass MGE (MSun): 1.198e+13\n",
      "\n",
      "sigma_e: 127.86 km/s\n"
     ]
    },
    {
     "name": "stdout",
     "output_type": "stream",
     "text": [
      "jam_axi_proj(align='sph', moment='zz') -- elapsed time sec: 0.92\n",
      "analytic_los=0 logistic=0 constant_anisotropy=1\n",
      "No PSF/pixel convolution because sigmapsf=0 pixsize=0\n",
      "inc=56.9; beta[0]=0.0; kappa=1.00; M/L=1.00; BH=0.0; chi2/DOF=nan\n",
      "Total mass MGE (MSun): 1.198e+13\n",
      "\n",
      "sigma_e: 173.42 km/s\n"
     ]
    },
    {
     "name": "stdout",
     "output_type": "stream",
     "text": [
      "jam_axi_proj(align='sph', moment='zz') -- elapsed time sec: 0.91\n",
      "analytic_los=0 logistic=0 constant_anisotropy=1\n",
      "No PSF/pixel convolution because sigmapsf=0 pixsize=0\n",
      "inc=90.0; beta[0]=0.0; kappa=1.00; M/L=1.00; BH=0.0; chi2/DOF=nan\n",
      "Total mass MGE (MSun): 1.198e+13\n",
      "\n",
      "sigma_e: 129.21 km/s\n"
     ]
    },
    {
     "name": "stdout",
     "output_type": "stream",
     "text": [
      "jam_axi_proj(align='sph', moment='zz') -- elapsed time sec: 0.97\n",
      "analytic_los=0 logistic=0 constant_anisotropy=1\n",
      "No PSF/pixel convolution because sigmapsf=0 pixsize=0\n",
      "inc=78.2; beta[0]=0.0; kappa=1.00; M/L=1.00; BH=0.0; chi2/DOF=nan\n",
      "Total mass MGE (MSun): 1.198e+13\n",
      "\n",
      "sigma_e: 158.31 km/s\n"
     ]
    },
    {
     "name": "stdout",
     "output_type": "stream",
     "text": [
      "jam_axi_proj(align='sph', moment='zz') -- elapsed time sec: 0.93\n",
      "analytic_los=0 logistic=0 constant_anisotropy=1\n",
      "No PSF/pixel convolution because sigmapsf=0 pixsize=0\n",
      "inc=81.3; beta[0]=0.0; kappa=1.00; M/L=1.00; BH=0.0; chi2/DOF=nan\n",
      "Total mass MGE (MSun): 1.198e+13\n",
      "\n",
      "sigma_e: 159.79 km/s\n"
     ]
    },
    {
     "name": "stdout",
     "output_type": "stream",
     "text": [
      "jam_axi_proj(align='sph', moment='zz') -- elapsed time sec: 0.93\n",
      "analytic_los=0 logistic=0 constant_anisotropy=1\n",
      "No PSF/pixel convolution because sigmapsf=0 pixsize=0\n",
      "inc=84.4; beta[0]=0.0; kappa=1.00; M/L=1.00; BH=0.0; chi2/DOF=nan\n",
      "Total mass MGE (MSun): 1.198e+13\n",
      "\n",
      "sigma_e: 135.68 km/s\n"
     ]
    },
    {
     "name": "stdout",
     "output_type": "stream",
     "text": [
      "jam_axi_proj(align='sph', moment='zz') -- elapsed time sec: 0.91\n",
      "analytic_los=0 logistic=0 constant_anisotropy=1\n",
      "No PSF/pixel convolution because sigmapsf=0 pixsize=0\n",
      "inc=90.0; beta[0]=0.0; kappa=1.00; M/L=1.00; BH=0.0; chi2/DOF=nan\n",
      "Total mass MGE (MSun): 1.198e+13\n",
      "\n",
      "sigma_e: 125.42 km/s\n"
     ]
    },
    {
     "name": "stdout",
     "output_type": "stream",
     "text": [
      "jam_axi_proj(align='sph', moment='zz') -- elapsed time sec: 0.97\n",
      "analytic_los=0 logistic=0 constant_anisotropy=1\n",
      "No PSF/pixel convolution because sigmapsf=0 pixsize=0\n",
      "inc=78.6; beta[0]=0.0; kappa=1.00; M/L=1.00; BH=0.0; chi2/DOF=nan\n",
      "Total mass MGE (MSun): 1.198e+13\n",
      "\n",
      "sigma_e: 140.55 km/s\n"
     ]
    },
    {
     "name": "stdout",
     "output_type": "stream",
     "text": [
      "jam_axi_proj(align='sph', moment='zz') -- elapsed time sec: 1.00\n",
      "analytic_los=0 logistic=0 constant_anisotropy=1\n",
      "No PSF/pixel convolution because sigmapsf=0 pixsize=0\n",
      "inc=88.5; beta[0]=0.0; kappa=1.00; M/L=1.00; BH=0.0; chi2/DOF=nan\n",
      "Total mass MGE (MSun): 1.198e+13\n",
      "\n",
      "sigma_e: 163.09 km/s\n"
     ]
    },
    {
     "name": "stdout",
     "output_type": "stream",
     "text": [
      "jam_axi_proj(align='sph', moment='zz') -- elapsed time sec: 0.98\n",
      "analytic_los=0 logistic=0 constant_anisotropy=1\n",
      "No PSF/pixel convolution because sigmapsf=0 pixsize=0\n",
      "inc=86.2; beta[0]=0.0; kappa=1.00; M/L=1.00; BH=0.0; chi2/DOF=nan\n",
      "Total mass MGE (MSun): 1.662e+13\n",
      "\n",
      "sigma_e: 160.52 km/s\n"
     ]
    },
    {
     "name": "stdout",
     "output_type": "stream",
     "text": [
      "jam_axi_proj(align='sph', moment='zz') -- elapsed time sec: 1.01\n",
      "analytic_los=0 logistic=0 constant_anisotropy=1\n",
      "No PSF/pixel convolution because sigmapsf=0 pixsize=0\n",
      "inc=80.6; beta[0]=0.0; kappa=1.00; M/L=1.00; BH=0.0; chi2/DOF=nan\n",
      "Total mass MGE (MSun): 1.662e+13\n",
      "\n",
      "sigma_e: 163.11 km/s\n"
     ]
    },
    {
     "name": "stdout",
     "output_type": "stream",
     "text": [
      "jam_axi_proj(align='sph', moment='zz') -- elapsed time sec: 1.04\n",
      "analytic_los=0 logistic=0 constant_anisotropy=1\n",
      "No PSF/pixel convolution because sigmapsf=0 pixsize=0\n",
      "inc=84.7; beta[0]=0.0; kappa=1.00; M/L=1.00; BH=0.0; chi2/DOF=nan\n",
      "Total mass MGE (MSun): 1.662e+13\n",
      "\n",
      "sigma_e: 168.67 km/s\n"
     ]
    },
    {
     "name": "stdout",
     "output_type": "stream",
     "text": [
      "jam_axi_proj(align='sph', moment='zz') -- elapsed time sec: 1.03\n",
      "analytic_los=0 logistic=0 constant_anisotropy=1\n",
      "No PSF/pixel convolution because sigmapsf=0 pixsize=0\n",
      "inc=80.4; beta[0]=0.0; kappa=1.00; M/L=1.00; BH=0.0; chi2/DOF=nan\n",
      "Total mass MGE (MSun): 1.662e+13\n",
      "\n",
      "sigma_e: 173.63 km/s\n"
     ]
    },
    {
     "name": "stdout",
     "output_type": "stream",
     "text": [
      "jam_axi_proj(align='sph', moment='zz') -- elapsed time sec: 0.94\n",
      "analytic_los=0 logistic=0 constant_anisotropy=1\n",
      "No PSF/pixel convolution because sigmapsf=0 pixsize=0\n",
      "inc=70.6; beta[0]=0.0; kappa=1.00; M/L=1.00; BH=0.0; chi2/DOF=nan\n",
      "Total mass MGE (MSun): 1.662e+13\n",
      "\n",
      "sigma_e: 161.12 km/s\n"
     ]
    },
    {
     "name": "stdout",
     "output_type": "stream",
     "text": [
      "jam_axi_proj(align='sph', moment='zz') -- elapsed time sec: 1.01\n",
      "analytic_los=0 logistic=0 constant_anisotropy=1\n",
      "No PSF/pixel convolution because sigmapsf=0 pixsize=0\n",
      "inc=82.3; beta[0]=0.0; kappa=1.00; M/L=1.00; BH=0.0; chi2/DOF=nan\n",
      "Total mass MGE (MSun): 1.662e+13\n",
      "\n",
      "sigma_e: 157.69 km/s\n"
     ]
    },
    {
     "name": "stdout",
     "output_type": "stream",
     "text": [
      "jam_axi_proj(align='sph', moment='zz') -- elapsed time sec: 0.82\n",
      "analytic_los=0 logistic=0 constant_anisotropy=1\n",
      "No PSF/pixel convolution because sigmapsf=0 pixsize=0\n",
      "inc=58.5; beta[0]=0.0; kappa=1.00; M/L=1.00; BH=0.0; chi2/DOF=nan\n",
      "Total mass MGE (MSun): 1.662e+13\n",
      "\n",
      "sigma_e: 171.22 km/s\n"
     ]
    },
    {
     "name": "stdout",
     "output_type": "stream",
     "text": [
      "jam_axi_proj(align='sph', moment='zz') -- elapsed time sec: 1.00\n",
      "analytic_los=0 logistic=0 constant_anisotropy=1\n",
      "No PSF/pixel convolution because sigmapsf=0 pixsize=0\n",
      "inc=68.4; beta[0]=0.0; kappa=1.00; M/L=1.00; BH=0.0; chi2/DOF=nan\n",
      "Total mass MGE (MSun): 1.662e+13\n",
      "\n",
      "sigma_e: 180.03 km/s\n"
     ]
    },
    {
     "name": "stdout",
     "output_type": "stream",
     "text": [
      "jam_axi_proj(align='sph', moment='zz') -- elapsed time sec: 0.98\n",
      "analytic_los=0 logistic=0 constant_anisotropy=1\n",
      "No PSF/pixel convolution because sigmapsf=0 pixsize=0\n",
      "inc=89.7; beta[0]=0.0; kappa=1.00; M/L=1.00; BH=0.0; chi2/DOF=nan\n",
      "Total mass MGE (MSun): 1.662e+13\n",
      "\n",
      "sigma_e: 160.12 km/s\n"
     ]
    },
    {
     "name": "stdout",
     "output_type": "stream",
     "text": [
      "jam_axi_proj(align='sph', moment='zz') -- elapsed time sec: 0.96\n",
      "analytic_los=0 logistic=0 constant_anisotropy=1\n",
      "No PSF/pixel convolution because sigmapsf=0 pixsize=0\n",
      "inc=77.3; beta[0]=0.0; kappa=1.00; M/L=1.00; BH=0.0; chi2/DOF=nan\n",
      "Total mass MGE (MSun): 1.662e+13\n",
      "\n",
      "sigma_e: 171.73 km/s\n"
     ]
    },
    {
     "name": "stdout",
     "output_type": "stream",
     "text": [
      "jam_axi_proj(align='sph', moment='zz') -- elapsed time sec: 0.94\n",
      "analytic_los=0 logistic=0 constant_anisotropy=1\n",
      "No PSF/pixel convolution because sigmapsf=0 pixsize=0\n",
      "inc=60.6; beta[0]=0.0; kappa=1.00; M/L=1.00; BH=0.0; chi2/DOF=nan\n",
      "Total mass MGE (MSun): 3.054e+13\n",
      "\n",
      "sigma_e: 200.76 km/s\n"
     ]
    },
    {
     "name": "stdout",
     "output_type": "stream",
     "text": [
      "jam_axi_proj(align='sph', moment='zz') -- elapsed time sec: 0.97\n",
      "analytic_los=0 logistic=0 constant_anisotropy=1\n",
      "No PSF/pixel convolution because sigmapsf=0 pixsize=0\n",
      "inc=62.4; beta[0]=0.0; kappa=1.00; M/L=1.00; BH=0.0; chi2/DOF=nan\n",
      "Total mass MGE (MSun): 3.054e+13\n",
      "\n",
      "sigma_e: 203.65 km/s\n"
     ]
    },
    {
     "name": "stdout",
     "output_type": "stream",
     "text": [
      "jam_axi_proj(align='sph', moment='zz') -- elapsed time sec: 1.06\n",
      "analytic_los=0 logistic=0 constant_anisotropy=1\n",
      "No PSF/pixel convolution because sigmapsf=0 pixsize=0\n",
      "inc=64.3; beta[0]=0.0; kappa=1.00; M/L=1.00; BH=0.0; chi2/DOF=nan\n",
      "Total mass MGE (MSun): 3.054e+13\n",
      "\n",
      "sigma_e: 188.27 km/s\n"
     ]
    },
    {
     "name": "stdout",
     "output_type": "stream",
     "text": [
      "jam_axi_proj(align='sph', moment='zz') -- elapsed time sec: 0.96\n",
      "analytic_los=0 logistic=0 constant_anisotropy=1\n",
      "No PSF/pixel convolution because sigmapsf=0 pixsize=0\n",
      "inc=76.6; beta[0]=0.0; kappa=1.00; M/L=1.00; BH=0.0; chi2/DOF=nan\n",
      "Total mass MGE (MSun): 3.054e+13\n",
      "\n",
      "sigma_e: 193.63 km/s\n"
     ]
    },
    {
     "name": "stdout",
     "output_type": "stream",
     "text": [
      "jam_axi_proj(align='sph', moment='zz') -- elapsed time sec: 0.86\n",
      "analytic_los=0 logistic=0 constant_anisotropy=1\n",
      "No PSF/pixel convolution because sigmapsf=0 pixsize=0\n",
      "inc=48.2; beta[0]=0.0; kappa=1.00; M/L=1.00; BH=0.0; chi2/DOF=nan\n",
      "Total mass MGE (MSun): 3.054e+13\n",
      "\n",
      "sigma_e: 208.83 km/s\n"
     ]
    },
    {
     "name": "stdout",
     "output_type": "stream",
     "text": [
      "jam_axi_proj(align='sph', moment='zz') -- elapsed time sec: 0.92\n",
      "analytic_los=0 logistic=0 constant_anisotropy=1\n",
      "No PSF/pixel convolution because sigmapsf=0 pixsize=0\n",
      "inc=38.5; beta[0]=0.0; kappa=1.00; M/L=1.00; BH=0.0; chi2/DOF=nan\n",
      "Total mass MGE (MSun): 3.054e+13\n",
      "\n",
      "sigma_e: 209.30 km/s\n"
     ]
    },
    {
     "name": "stdout",
     "output_type": "stream",
     "text": [
      "jam_axi_proj(align='sph', moment='zz') -- elapsed time sec: 0.98\n",
      "analytic_los=0 logistic=0 constant_anisotropy=1\n",
      "No PSF/pixel convolution because sigmapsf=0 pixsize=0\n",
      "inc=62.7; beta[0]=0.0; kappa=1.00; M/L=1.00; BH=0.0; chi2/DOF=nan\n",
      "Total mass MGE (MSun): 3.054e+13\n",
      "\n",
      "sigma_e: 195.65 km/s\n"
     ]
    },
    {
     "name": "stdout",
     "output_type": "stream",
     "text": [
      "jam_axi_proj(align='sph', moment='zz') -- elapsed time sec: 0.95\n",
      "analytic_los=0 logistic=0 constant_anisotropy=1\n",
      "No PSF/pixel convolution because sigmapsf=0 pixsize=0\n",
      "inc=78.1; beta[0]=0.0; kappa=1.00; M/L=1.00; BH=0.0; chi2/DOF=nan\n",
      "Total mass MGE (MSun): 3.054e+13\n",
      "\n",
      "sigma_e: 195.17 km/s\n"
     ]
    },
    {
     "name": "stdout",
     "output_type": "stream",
     "text": [
      "jam_axi_proj(align='sph', moment='zz') -- elapsed time sec: 0.95\n",
      "analytic_los=0 logistic=0 constant_anisotropy=1\n",
      "No PSF/pixel convolution because sigmapsf=0 pixsize=0\n",
      "inc=45.7; beta[0]=0.0; kappa=1.00; M/L=1.00; BH=0.0; chi2/DOF=nan\n",
      "Total mass MGE (MSun): 3.054e+13\n",
      "\n",
      "sigma_e: 208.41 km/s\n"
     ]
    },
    {
     "name": "stdout",
     "output_type": "stream",
     "text": [
      "jam_axi_proj(align='sph', moment='zz') -- elapsed time sec: 1.01\n",
      "analytic_los=0 logistic=0 constant_anisotropy=1\n",
      "No PSF/pixel convolution because sigmapsf=0 pixsize=0\n",
      "inc=65.2; beta[0]=0.0; kappa=1.00; M/L=1.00; BH=0.0; chi2/DOF=nan\n",
      "Total mass MGE (MSun): 3.054e+13\n",
      "\n",
      "sigma_e: 196.79 km/s\n"
     ]
    },
    {
     "name": "stdout",
     "output_type": "stream",
     "text": [
      "jam_axi_proj(align='sph', moment='zz') -- elapsed time sec: 0.90\n",
      "analytic_los=0 logistic=0 constant_anisotropy=1\n",
      "No PSF/pixel convolution because sigmapsf=0 pixsize=0\n",
      "inc=88.5; beta[0]=0.0; kappa=1.00; M/L=1.00; BH=0.0; chi2/DOF=nan\n",
      "Total mass MGE (MSun): 2.038e+13\n",
      "\n",
      "sigma_e: 185.36 km/s\n"
     ]
    },
    {
     "name": "stdout",
     "output_type": "stream",
     "text": [
      "jam_axi_proj(align='sph', moment='zz') -- elapsed time sec: 1.04\n",
      "analytic_los=0 logistic=0 constant_anisotropy=1\n",
      "No PSF/pixel convolution because sigmapsf=0 pixsize=0\n",
      "inc=88.0; beta[0]=0.0; kappa=1.00; M/L=1.00; BH=0.0; chi2/DOF=nan\n",
      "Total mass MGE (MSun): 2.038e+13\n",
      "\n",
      "sigma_e: 169.42 km/s\n"
     ]
    },
    {
     "name": "stdout",
     "output_type": "stream",
     "text": [
      "jam_axi_proj(align='sph', moment='zz') -- elapsed time sec: 1.01\n",
      "analytic_los=0 logistic=0 constant_anisotropy=1\n",
      "No PSF/pixel convolution because sigmapsf=0 pixsize=0\n",
      "inc=71.1; beta[0]=0.0; kappa=1.00; M/L=1.00; BH=0.0; chi2/DOF=nan\n",
      "Total mass MGE (MSun): 2.038e+13\n",
      "\n",
      "sigma_e: 175.88 km/s\n"
     ]
    },
    {
     "name": "stdout",
     "output_type": "stream",
     "text": [
      "jam_axi_proj(align='sph', moment='zz') -- elapsed time sec: 1.20\n",
      "analytic_los=0 logistic=0 constant_anisotropy=1\n",
      "No PSF/pixel convolution because sigmapsf=0 pixsize=0\n",
      "inc=85.5; beta[0]=0.0; kappa=1.00; M/L=1.00; BH=0.0; chi2/DOF=nan\n",
      "Total mass MGE (MSun): 2.038e+13\n",
      "\n",
      "sigma_e: 167.16 km/s\n"
     ]
    },
    {
     "name": "stdout",
     "output_type": "stream",
     "text": [
      "jam_axi_proj(align='sph', moment='zz') -- elapsed time sec: 0.95\n",
      "analytic_los=0 logistic=0 constant_anisotropy=1\n",
      "No PSF/pixel convolution because sigmapsf=0 pixsize=0\n",
      "inc=58.0; beta[0]=0.0; kappa=1.00; M/L=1.00; BH=0.0; chi2/DOF=nan\n",
      "Total mass MGE (MSun): 2.038e+13\n",
      "\n",
      "sigma_e: 179.67 km/s\n"
     ]
    },
    {
     "name": "stdout",
     "output_type": "stream",
     "text": [
      "jam_axi_proj(align='sph', moment='zz') -- elapsed time sec: 1.01\n",
      "analytic_los=0 logistic=0 constant_anisotropy=1\n",
      "No PSF/pixel convolution because sigmapsf=0 pixsize=0\n",
      "inc=87.8; beta[0]=0.0; kappa=1.00; M/L=1.00; BH=0.0; chi2/DOF=nan\n",
      "Total mass MGE (MSun): 2.038e+13\n",
      "\n",
      "sigma_e: 167.07 km/s\n"
     ]
    },
    {
     "name": "stdout",
     "output_type": "stream",
     "text": [
      "jam_axi_proj(align='sph', moment='zz') -- elapsed time sec: 0.89\n",
      "analytic_los=0 logistic=0 constant_anisotropy=1\n",
      "No PSF/pixel convolution because sigmapsf=0 pixsize=0\n",
      "inc=87.6; beta[0]=0.0; kappa=1.00; M/L=1.00; BH=0.0; chi2/DOF=nan\n",
      "Total mass MGE (MSun): 2.038e+13\n",
      "\n",
      "sigma_e: 180.09 km/s\n"
     ]
    },
    {
     "name": "stdout",
     "output_type": "stream",
     "text": [
      "jam_axi_proj(align='sph', moment='zz') -- elapsed time sec: 1.03\n",
      "analytic_los=0 logistic=0 constant_anisotropy=1\n",
      "No PSF/pixel convolution because sigmapsf=0 pixsize=0\n",
      "inc=75.4; beta[0]=0.0; kappa=1.00; M/L=1.00; BH=0.0; chi2/DOF=nan\n",
      "Total mass MGE (MSun): 2.038e+13\n",
      "\n",
      "sigma_e: 164.28 km/s\n"
     ]
    },
    {
     "name": "stdout",
     "output_type": "stream",
     "text": [
      "jam_axi_proj(align='sph', moment='zz') -- elapsed time sec: 0.92\n",
      "analytic_los=0 logistic=0 constant_anisotropy=1\n",
      "No PSF/pixel convolution because sigmapsf=0 pixsize=0\n",
      "inc=55.2; beta[0]=0.0; kappa=1.00; M/L=1.00; BH=0.0; chi2/DOF=nan\n",
      "Total mass MGE (MSun): 2.038e+13\n",
      "\n",
      "sigma_e: 191.13 km/s\n"
     ]
    },
    {
     "name": "stdout",
     "output_type": "stream",
     "text": [
      "jam_axi_proj(align='sph', moment='zz') -- elapsed time sec: 0.95\n",
      "analytic_los=0 logistic=0 constant_anisotropy=1\n",
      "No PSF/pixel convolution because sigmapsf=0 pixsize=0\n",
      "inc=75.9; beta[0]=0.0; kappa=1.00; M/L=1.00; BH=0.0; chi2/DOF=nan\n",
      "Total mass MGE (MSun): 2.038e+13\n",
      "\n",
      "sigma_e: 167.89 km/s\n"
     ]
    },
    {
     "name": "stdout",
     "output_type": "stream",
     "text": [
      "jam_axi_proj(align='sph', moment='zz') -- elapsed time sec: 1.04\n",
      "analytic_los=0 logistic=0 constant_anisotropy=1\n",
      "No PSF/pixel convolution because sigmapsf=0 pixsize=0\n",
      "inc=78.7; beta[0]=0.0; kappa=1.00; M/L=1.00; BH=0.0; chi2/DOF=nan\n",
      "Total mass MGE (MSun): 8.262e+13\n",
      "\n",
      "sigma_e: 239.14 km/s\n"
     ]
    },
    {
     "name": "stdout",
     "output_type": "stream",
     "text": [
      "jam_axi_proj(align='sph', moment='zz') -- elapsed time sec: 1.02\n",
      "analytic_los=0 logistic=0 constant_anisotropy=1\n",
      "No PSF/pixel convolution because sigmapsf=0 pixsize=0\n",
      "inc=79.7; beta[0]=0.0; kappa=1.00; M/L=1.00; BH=0.0; chi2/DOF=nan\n",
      "Total mass MGE (MSun): 8.262e+13\n",
      "\n",
      "sigma_e: 240.60 km/s\n"
     ]
    },
    {
     "name": "stdout",
     "output_type": "stream",
     "text": [
      "jam_axi_proj(align='sph', moment='zz') -- elapsed time sec: 0.94\n",
      "analytic_los=0 logistic=0 constant_anisotropy=1\n",
      "No PSF/pixel convolution because sigmapsf=0 pixsize=0\n",
      "inc=42.7; beta[0]=0.0; kappa=1.00; M/L=1.00; BH=0.0; chi2/DOF=nan\n",
      "Total mass MGE (MSun): 8.262e+13\n",
      "\n",
      "sigma_e: 268.63 km/s\n"
     ]
    },
    {
     "name": "stdout",
     "output_type": "stream",
     "text": [
      "jam_axi_proj(align='sph', moment='zz') -- elapsed time sec: 0.98\n",
      "analytic_los=0 logistic=0 constant_anisotropy=1\n",
      "No PSF/pixel convolution because sigmapsf=0 pixsize=0\n",
      "inc=84.3; beta[0]=0.0; kappa=1.00; M/L=1.00; BH=0.0; chi2/DOF=nan\n",
      "Total mass MGE (MSun): 8.262e+13\n",
      "\n",
      "sigma_e: 251.09 km/s\n"
     ]
    },
    {
     "name": "stdout",
     "output_type": "stream",
     "text": [
      "jam_axi_proj(align='sph', moment='zz') -- elapsed time sec: 0.98\n",
      "analytic_los=0 logistic=0 constant_anisotropy=1\n",
      "No PSF/pixel convolution because sigmapsf=0 pixsize=0\n",
      "inc=85.8; beta[0]=0.0; kappa=1.00; M/L=1.00; BH=0.0; chi2/DOF=nan\n",
      "Total mass MGE (MSun): 8.262e+13\n",
      "\n",
      "sigma_e: 243.33 km/s\n"
     ]
    },
    {
     "name": "stdout",
     "output_type": "stream",
     "text": [
      "jam_axi_proj(align='sph', moment='zz') -- elapsed time sec: 0.92\n",
      "analytic_los=0 logistic=0 constant_anisotropy=1\n",
      "No PSF/pixel convolution because sigmapsf=0 pixsize=0\n",
      "inc=48.9; beta[0]=0.0; kappa=1.00; M/L=1.00; BH=0.0; chi2/DOF=nan\n",
      "Total mass MGE (MSun): 8.262e+13\n",
      "\n",
      "sigma_e: 267.62 km/s\n"
     ]
    },
    {
     "name": "stdout",
     "output_type": "stream",
     "text": [
      "jam_axi_proj(align='sph', moment='zz') -- elapsed time sec: 0.98\n",
      "analytic_los=0 logistic=0 constant_anisotropy=1\n",
      "No PSF/pixel convolution because sigmapsf=0 pixsize=0\n",
      "inc=46.8; beta[0]=0.0; kappa=1.00; M/L=1.00; BH=0.0; chi2/DOF=nan\n",
      "Total mass MGE (MSun): 8.262e+13\n",
      "\n",
      "sigma_e: 257.88 km/s\n"
     ]
    },
    {
     "name": "stdout",
     "output_type": "stream",
     "text": [
      "jam_axi_proj(align='sph', moment='zz') -- elapsed time sec: 1.01\n",
      "analytic_los=0 logistic=0 constant_anisotropy=1\n",
      "No PSF/pixel convolution because sigmapsf=0 pixsize=0\n",
      "inc=62.6; beta[0]=0.0; kappa=1.00; M/L=1.00; BH=0.0; chi2/DOF=nan\n",
      "Total mass MGE (MSun): 8.262e+13\n",
      "\n",
      "sigma_e: 249.22 km/s\n"
     ]
    },
    {
     "name": "stdout",
     "output_type": "stream",
     "text": [
      "jam_axi_proj(align='sph', moment='zz') -- elapsed time sec: 0.98\n",
      "analytic_los=0 logistic=0 constant_anisotropy=1\n",
      "No PSF/pixel convolution because sigmapsf=0 pixsize=0\n",
      "inc=69.9; beta[0]=0.0; kappa=1.00; M/L=1.00; BH=0.0; chi2/DOF=nan\n",
      "Total mass MGE (MSun): 8.262e+13\n",
      "\n",
      "sigma_e: 258.69 km/s\n"
     ]
    },
    {
     "name": "stdout",
     "output_type": "stream",
     "text": [
      "jam_axi_proj(align='sph', moment='zz') -- elapsed time sec: 0.97\n",
      "analytic_los=0 logistic=0 constant_anisotropy=1\n",
      "No PSF/pixel convolution because sigmapsf=0 pixsize=0\n",
      "inc=42.0; beta[0]=0.0; kappa=1.00; M/L=1.00; BH=0.0; chi2/DOF=nan\n",
      "Total mass MGE (MSun): 8.262e+13\n",
      "\n",
      "sigma_e: 264.81 km/s\n"
     ]
    },
    {
     "name": "stdout",
     "output_type": "stream",
     "text": [
      "jam_axi_proj(align='sph', moment='zz') -- elapsed time sec: 0.99\n",
      "analytic_los=0 logistic=0 constant_anisotropy=1\n",
      "No PSF/pixel convolution because sigmapsf=0 pixsize=0\n",
      "inc=65.0; beta[0]=0.0; kappa=1.00; M/L=1.00; BH=0.0; chi2/DOF=nan\n",
      "Total mass MGE (MSun): 6.382e+13\n",
      "\n",
      "sigma_e: 254.39 km/s\n"
     ]
    },
    {
     "name": "stdout",
     "output_type": "stream",
     "text": [
      "jam_axi_proj(align='sph', moment='zz') -- elapsed time sec: 1.05\n",
      "analytic_los=0 logistic=0 constant_anisotropy=1\n",
      "No PSF/pixel convolution because sigmapsf=0 pixsize=0\n",
      "inc=82.8; beta[0]=0.0; kappa=1.00; M/L=1.00; BH=0.0; chi2/DOF=nan\n",
      "Total mass MGE (MSun): 6.382e+13\n",
      "\n",
      "sigma_e: 233.00 km/s\n"
     ]
    },
    {
     "name": "stdout",
     "output_type": "stream",
     "text": [
      "jam_axi_proj(align='sph', moment='zz') -- elapsed time sec: 1.04\n",
      "analytic_los=0 logistic=0 constant_anisotropy=1\n",
      "No PSF/pixel convolution because sigmapsf=0 pixsize=0\n",
      "inc=69.8; beta[0]=0.0; kappa=1.00; M/L=1.00; BH=0.0; chi2/DOF=nan\n",
      "Total mass MGE (MSun): 6.382e+13\n",
      "\n",
      "sigma_e: 233.55 km/s\n"
     ]
    },
    {
     "name": "stdout",
     "output_type": "stream",
     "text": [
      "jam_axi_proj(align='sph', moment='zz') -- elapsed time sec: 1.00\n",
      "analytic_los=0 logistic=0 constant_anisotropy=1\n",
      "No PSF/pixel convolution because sigmapsf=0 pixsize=0\n",
      "inc=77.5; beta[0]=0.0; kappa=1.00; M/L=1.00; BH=0.0; chi2/DOF=nan\n",
      "Total mass MGE (MSun): 6.382e+13\n",
      "\n",
      "sigma_e: 231.94 km/s\n"
     ]
    },
    {
     "name": "stdout",
     "output_type": "stream",
     "text": [
      "jam_axi_proj(align='sph', moment='zz') -- elapsed time sec: 0.97\n",
      "analytic_los=0 logistic=0 constant_anisotropy=1\n",
      "No PSF/pixel convolution because sigmapsf=0 pixsize=0\n",
      "inc=48.0; beta[0]=0.0; kappa=1.00; M/L=1.00; BH=0.0; chi2/DOF=nan\n",
      "Total mass MGE (MSun): 6.382e+13\n",
      "\n",
      "sigma_e: 257.47 km/s\n"
     ]
    },
    {
     "name": "stdout",
     "output_type": "stream",
     "text": [
      "jam_axi_proj(align='sph', moment='zz') -- elapsed time sec: 0.98\n",
      "analytic_los=0 logistic=0 constant_anisotropy=1\n",
      "No PSF/pixel convolution because sigmapsf=0 pixsize=0\n",
      "inc=82.8; beta[0]=0.0; kappa=1.00; M/L=1.00; BH=0.0; chi2/DOF=nan\n",
      "Total mass MGE (MSun): 6.382e+13\n",
      "\n",
      "sigma_e: 231.85 km/s\n"
     ]
    },
    {
     "name": "stdout",
     "output_type": "stream",
     "text": [
      "jam_axi_proj(align='sph', moment='zz') -- elapsed time sec: 1.02\n",
      "analytic_los=0 logistic=0 constant_anisotropy=1\n",
      "No PSF/pixel convolution because sigmapsf=0 pixsize=0\n",
      "inc=75.3; beta[0]=0.0; kappa=1.00; M/L=1.00; BH=0.0; chi2/DOF=nan\n",
      "Total mass MGE (MSun): 6.382e+13\n",
      "\n",
      "sigma_e: 223.98 km/s\n"
     ]
    },
    {
     "name": "stdout",
     "output_type": "stream",
     "text": [
      "jam_axi_proj(align='sph', moment='zz') -- elapsed time sec: 1.07\n",
      "analytic_los=0 logistic=0 constant_anisotropy=1\n",
      "No PSF/pixel convolution because sigmapsf=0 pixsize=0\n",
      "inc=65.8; beta[0]=0.0; kappa=1.00; M/L=1.00; BH=0.0; chi2/DOF=nan\n",
      "Total mass MGE (MSun): 6.382e+13\n",
      "\n",
      "sigma_e: 239.24 km/s\n"
     ]
    },
    {
     "name": "stdout",
     "output_type": "stream",
     "text": [
      "jam_axi_proj(align='sph', moment='zz') -- elapsed time sec: 1.01\n",
      "analytic_los=0 logistic=0 constant_anisotropy=1\n",
      "No PSF/pixel convolution because sigmapsf=0 pixsize=0\n",
      "inc=71.1; beta[0]=0.0; kappa=1.00; M/L=1.00; BH=0.0; chi2/DOF=nan\n",
      "Total mass MGE (MSun): 6.382e+13\n",
      "\n",
      "sigma_e: 245.08 km/s\n"
     ]
    },
    {
     "name": "stdout",
     "output_type": "stream",
     "text": [
      "jam_axi_proj(align='sph', moment='zz') -- elapsed time sec: 1.06\n",
      "analytic_los=0 logistic=0 constant_anisotropy=1\n",
      "No PSF/pixel convolution because sigmapsf=0 pixsize=0\n",
      "inc=83.6; beta[0]=0.0; kappa=1.00; M/L=1.00; BH=0.0; chi2/DOF=nan\n",
      "Total mass MGE (MSun): 6.382e+13\n",
      "\n",
      "sigma_e: 227.12 km/s\n"
     ]
    },
    {
     "name": "stdout",
     "output_type": "stream",
     "text": [
      "jam_axi_proj(align='sph', moment='zz') -- elapsed time sec: 0.96\n",
      "analytic_los=0 logistic=0 constant_anisotropy=1\n",
      "No PSF/pixel convolution because sigmapsf=0 pixsize=0\n",
      "inc=59.0; beta[0]=0.0; kappa=1.00; M/L=1.00; BH=0.0; chi2/DOF=nan\n",
      "Total mass MGE (MSun): 1.743e+13\n",
      "\n",
      "sigma_e: 169.30 km/s\n"
     ]
    },
    {
     "name": "stdout",
     "output_type": "stream",
     "text": [
      "jam_axi_proj(align='sph', moment='zz') -- elapsed time sec: 0.91\n",
      "analytic_los=0 logistic=0 constant_anisotropy=1\n",
      "No PSF/pixel convolution because sigmapsf=0 pixsize=0\n",
      "inc=39.4; beta[0]=0.0; kappa=1.00; M/L=1.00; BH=0.0; chi2/DOF=nan\n",
      "Total mass MGE (MSun): 1.743e+13\n",
      "\n",
      "sigma_e: 175.18 km/s\n"
     ]
    },
    {
     "name": "stdout",
     "output_type": "stream",
     "text": [
      "jam_axi_proj(align='sph', moment='zz') -- elapsed time sec: 0.96\n",
      "analytic_los=0 logistic=0 constant_anisotropy=1\n",
      "No PSF/pixel convolution because sigmapsf=0 pixsize=0\n",
      "inc=75.9; beta[0]=0.0; kappa=1.00; M/L=1.00; BH=0.0; chi2/DOF=nan\n",
      "Total mass MGE (MSun): 1.743e+13\n",
      "\n",
      "sigma_e: 165.03 km/s\n"
     ]
    },
    {
     "name": "stdout",
     "output_type": "stream",
     "text": [
      "jam_axi_proj(align='sph', moment='zz') -- elapsed time sec: 0.91\n",
      "analytic_los=0 logistic=0 constant_anisotropy=1\n",
      "No PSF/pixel convolution because sigmapsf=0 pixsize=0\n",
      "inc=85.3; beta[0]=0.0; kappa=1.00; M/L=1.00; BH=0.0; chi2/DOF=nan\n",
      "Total mass MGE (MSun): 1.743e+13\n",
      "\n",
      "sigma_e: 165.15 km/s\n"
     ]
    },
    {
     "name": "stdout",
     "output_type": "stream",
     "text": [
      "jam_axi_proj(align='sph', moment='zz') -- elapsed time sec: 0.89\n",
      "analytic_los=0 logistic=0 constant_anisotropy=1\n",
      "No PSF/pixel convolution because sigmapsf=0 pixsize=0\n",
      "inc=83.9; beta[0]=0.0; kappa=1.00; M/L=1.00; BH=0.0; chi2/DOF=nan\n",
      "Total mass MGE (MSun): 1.743e+13\n",
      "\n",
      "sigma_e: 164.75 km/s\n"
     ]
    },
    {
     "name": "stdout",
     "output_type": "stream",
     "text": [
      "jam_axi_proj(align='sph', moment='zz') -- elapsed time sec: 0.94\n",
      "analytic_los=0 logistic=0 constant_anisotropy=1\n",
      "No PSF/pixel convolution because sigmapsf=0 pixsize=0\n",
      "inc=43.9; beta[0]=0.0; kappa=1.00; M/L=1.00; BH=0.0; chi2/DOF=nan\n",
      "Total mass MGE (MSun): 1.743e+13\n",
      "\n",
      "sigma_e: 170.74 km/s\n"
     ]
    },
    {
     "name": "stdout",
     "output_type": "stream",
     "text": [
      "jam_axi_proj(align='sph', moment='zz') -- elapsed time sec: 0.91\n",
      "analytic_los=0 logistic=0 constant_anisotropy=1\n",
      "No PSF/pixel convolution because sigmapsf=0 pixsize=0\n",
      "inc=31.9; beta[0]=0.0; kappa=1.00; M/L=1.00; BH=0.0; chi2/DOF=nan\n",
      "Total mass MGE (MSun): 1.743e+13\n",
      "\n",
      "sigma_e: 177.96 km/s\n"
     ]
    },
    {
     "name": "stdout",
     "output_type": "stream",
     "text": [
      "jam_axi_proj(align='sph', moment='zz') -- elapsed time sec: 0.90\n",
      "analytic_los=0 logistic=0 constant_anisotropy=1\n",
      "No PSF/pixel convolution because sigmapsf=0 pixsize=0\n",
      "inc=67.9; beta[0]=0.0; kappa=1.00; M/L=1.00; BH=0.0; chi2/DOF=nan\n",
      "Total mass MGE (MSun): 1.743e+13\n",
      "\n",
      "sigma_e: 177.45 km/s\n"
     ]
    },
    {
     "name": "stdout",
     "output_type": "stream",
     "text": [
      "jam_axi_proj(align='sph', moment='zz') -- elapsed time sec: 0.96\n",
      "analytic_los=0 logistic=0 constant_anisotropy=1\n",
      "No PSF/pixel convolution because sigmapsf=0 pixsize=0\n",
      "inc=56.3; beta[0]=0.0; kappa=1.00; M/L=1.00; BH=0.0; chi2/DOF=nan\n",
      "Total mass MGE (MSun): 1.743e+13\n",
      "\n",
      "sigma_e: 166.61 km/s\n"
     ]
    },
    {
     "name": "stdout",
     "output_type": "stream",
     "text": [
      "jam_axi_proj(align='sph', moment='zz') -- elapsed time sec: 0.95\n",
      "analytic_los=0 logistic=0 constant_anisotropy=1\n",
      "No PSF/pixel convolution because sigmapsf=0 pixsize=0\n",
      "inc=68.2; beta[0]=0.0; kappa=1.00; M/L=1.00; BH=0.0; chi2/DOF=nan\n",
      "Total mass MGE (MSun): 1.743e+13\n",
      "\n",
      "sigma_e: 173.40 km/s\n"
     ]
    },
    {
     "name": "stdout",
     "output_type": "stream",
     "text": [
      "jam_axi_proj(align='sph', moment='zz') -- elapsed time sec: 0.92\n",
      "analytic_los=0 logistic=0 constant_anisotropy=1\n",
      "No PSF/pixel convolution because sigmapsf=0 pixsize=0\n",
      "inc=50.5; beta[0]=0.0; kappa=1.00; M/L=1.00; BH=0.0; chi2/DOF=nan\n",
      "Total mass MGE (MSun): 1.421e+13\n",
      "\n",
      "sigma_e: 170.73 km/s\n"
     ]
    },
    {
     "name": "stdout",
     "output_type": "stream",
     "text": [
      "jam_axi_proj(align='sph', moment='zz') -- elapsed time sec: 0.91\n",
      "analytic_los=0 logistic=0 constant_anisotropy=1\n",
      "No PSF/pixel convolution because sigmapsf=0 pixsize=0\n",
      "inc=66.5; beta[0]=0.0; kappa=1.00; M/L=1.00; BH=0.0; chi2/DOF=nan\n",
      "Total mass MGE (MSun): 1.421e+13\n",
      "\n",
      "sigma_e: 167.93 km/s\n"
     ]
    },
    {
     "name": "stdout",
     "output_type": "stream",
     "text": [
      "jam_axi_proj(align='sph', moment='zz') -- elapsed time sec: 0.91\n",
      "analytic_los=0 logistic=0 constant_anisotropy=1\n",
      "No PSF/pixel convolution because sigmapsf=0 pixsize=0\n",
      "inc=70.1; beta[0]=0.0; kappa=1.00; M/L=1.00; BH=0.0; chi2/DOF=nan\n",
      "Total mass MGE (MSun): 1.421e+13\n",
      "\n",
      "sigma_e: 162.43 km/s\n"
     ]
    },
    {
     "name": "stdout",
     "output_type": "stream",
     "text": [
      "jam_axi_proj(align='sph', moment='zz') -- elapsed time sec: 0.93\n",
      "analytic_los=0 logistic=0 constant_anisotropy=1\n",
      "No PSF/pixel convolution because sigmapsf=0 pixsize=0\n",
      "inc=58.3; beta[0]=0.0; kappa=1.00; M/L=1.00; BH=0.0; chi2/DOF=nan\n",
      "Total mass MGE (MSun): 1.421e+13\n",
      "\n",
      "sigma_e: 170.55 km/s\n"
     ]
    },
    {
     "name": "stdout",
     "output_type": "stream",
     "text": [
      "jam_axi_proj(align='sph', moment='zz') -- elapsed time sec: 0.99\n",
      "analytic_los=0 logistic=0 constant_anisotropy=1\n",
      "No PSF/pixel convolution because sigmapsf=0 pixsize=0\n",
      "inc=66.5; beta[0]=0.0; kappa=1.00; M/L=1.00; BH=0.0; chi2/DOF=nan\n",
      "Total mass MGE (MSun): 1.421e+13\n",
      "\n",
      "sigma_e: 160.73 km/s\n"
     ]
    },
    {
     "name": "stdout",
     "output_type": "stream",
     "text": [
      "jam_axi_proj(align='sph', moment='zz') -- elapsed time sec: 0.97\n",
      "analytic_los=0 logistic=0 constant_anisotropy=1\n",
      "No PSF/pixel convolution because sigmapsf=0 pixsize=0\n",
      "inc=74.2; beta[0]=0.0; kappa=1.00; M/L=1.00; BH=0.0; chi2/DOF=nan\n",
      "Total mass MGE (MSun): 1.421e+13\n",
      "\n",
      "sigma_e: 156.66 km/s\n"
     ]
    },
    {
     "name": "stdout",
     "output_type": "stream",
     "text": [
      "jam_axi_proj(align='sph', moment='zz') -- elapsed time sec: 0.93\n",
      "analytic_los=0 logistic=0 constant_anisotropy=1\n",
      "No PSF/pixel convolution because sigmapsf=0 pixsize=0\n",
      "inc=87.9; beta[0]=0.0; kappa=1.00; M/L=1.00; BH=0.0; chi2/DOF=nan\n",
      "Total mass MGE (MSun): 1.421e+13\n",
      "\n",
      "sigma_e: 158.22 km/s\n"
     ]
    },
    {
     "name": "stdout",
     "output_type": "stream",
     "text": [
      "jam_axi_proj(align='sph', moment='zz') -- elapsed time sec: 0.91\n",
      "analytic_los=0 logistic=0 constant_anisotropy=1\n",
      "No PSF/pixel convolution because sigmapsf=0 pixsize=0\n",
      "inc=84.2; beta[0]=0.0; kappa=1.00; M/L=1.00; BH=0.0; chi2/DOF=nan\n",
      "Total mass MGE (MSun): 1.421e+13\n",
      "\n",
      "sigma_e: 162.86 km/s\n"
     ]
    },
    {
     "name": "stdout",
     "output_type": "stream",
     "text": [
      "jam_axi_proj(align='sph', moment='zz') -- elapsed time sec: 0.96\n",
      "analytic_los=0 logistic=0 constant_anisotropy=1\n",
      "No PSF/pixel convolution because sigmapsf=0 pixsize=0\n",
      "inc=80.9; beta[0]=0.0; kappa=1.00; M/L=1.00; BH=0.0; chi2/DOF=nan\n",
      "Total mass MGE (MSun): 1.421e+13\n",
      "\n",
      "sigma_e: 155.68 km/s\n"
     ]
    },
    {
     "name": "stdout",
     "output_type": "stream",
     "text": [
      "jam_axi_proj(align='sph', moment='zz') -- elapsed time sec: 0.96\n",
      "analytic_los=0 logistic=0 constant_anisotropy=1\n",
      "No PSF/pixel convolution because sigmapsf=0 pixsize=0\n",
      "inc=67.5; beta[0]=0.0; kappa=1.00; M/L=1.00; BH=0.0; chi2/DOF=nan\n",
      "Total mass MGE (MSun): 1.421e+13\n",
      "\n",
      "sigma_e: 159.30 km/s\n"
     ]
    },
    {
     "name": "stdout",
     "output_type": "stream",
     "text": [
      "jam_axi_proj(align='sph', moment='zz') -- elapsed time sec: 0.99\n",
      "analytic_los=0 logistic=0 constant_anisotropy=1\n",
      "No PSF/pixel convolution because sigmapsf=0 pixsize=0\n",
      "inc=81.3; beta[0]=0.0; kappa=1.00; M/L=1.00; BH=0.0; chi2/DOF=nan\n",
      "Total mass MGE (MSun): 8.266e+12\n",
      "\n",
      "sigma_e: 148.73 km/s\n"
     ]
    },
    {
     "name": "stdout",
     "output_type": "stream",
     "text": [
      "jam_axi_proj(align='sph', moment='zz') -- elapsed time sec: 0.94\n",
      "analytic_los=0 logistic=0 constant_anisotropy=1\n",
      "No PSF/pixel convolution because sigmapsf=0 pixsize=0\n",
      "inc=82.5; beta[0]=0.0; kappa=1.00; M/L=1.00; BH=0.0; chi2/DOF=nan\n",
      "Total mass MGE (MSun): 8.266e+12\n",
      "\n",
      "sigma_e: 138.38 km/s\n"
     ]
    },
    {
     "name": "stdout",
     "output_type": "stream",
     "text": [
      "jam_axi_proj(align='sph', moment='zz') -- elapsed time sec: 0.99\n",
      "analytic_los=0 logistic=0 constant_anisotropy=1\n",
      "No PSF/pixel convolution because sigmapsf=0 pixsize=0\n",
      "inc=88.7; beta[0]=0.0; kappa=1.00; M/L=1.00; BH=0.0; chi2/DOF=nan\n",
      "Total mass MGE (MSun): 8.266e+12\n",
      "\n",
      "sigma_e: 144.21 km/s\n"
     ]
    },
    {
     "name": "stdout",
     "output_type": "stream",
     "text": [
      "jam_axi_proj(align='sph', moment='zz') -- elapsed time sec: 0.81\n",
      "analytic_los=0 logistic=0 constant_anisotropy=1\n",
      "No PSF/pixel convolution because sigmapsf=0 pixsize=0\n",
      "inc=52.8; beta[0]=0.0; kappa=1.00; M/L=1.00; BH=0.0; chi2/DOF=nan\n",
      "Total mass MGE (MSun): 8.266e+12\n",
      "\n",
      "sigma_e: 150.62 km/s\n"
     ]
    },
    {
     "name": "stdout",
     "output_type": "stream",
     "text": [
      "jam_axi_proj(align='sph', moment='zz') -- elapsed time sec: 0.93\n",
      "analytic_los=0 logistic=0 constant_anisotropy=1\n",
      "No PSF/pixel convolution because sigmapsf=0 pixsize=0\n",
      "inc=88.2; beta[0]=0.0; kappa=1.00; M/L=1.00; BH=0.0; chi2/DOF=nan\n",
      "Total mass MGE (MSun): 8.266e+12\n",
      "\n",
      "sigma_e: 138.02 km/s\n"
     ]
    },
    {
     "name": "stdout",
     "output_type": "stream",
     "text": [
      "jam_axi_proj(align='sph', moment='zz') -- elapsed time sec: 0.99\n",
      "analytic_los=0 logistic=0 constant_anisotropy=1\n",
      "No PSF/pixel convolution because sigmapsf=0 pixsize=0\n",
      "inc=79.7; beta[0]=0.0; kappa=1.00; M/L=1.00; BH=0.0; chi2/DOF=nan\n",
      "Total mass MGE (MSun): 8.266e+12\n",
      "\n",
      "sigma_e: 139.87 km/s\n"
     ]
    },
    {
     "name": "stdout",
     "output_type": "stream",
     "text": [
      "jam_axi_proj(align='sph', moment='zz') -- elapsed time sec: 0.98\n",
      "analytic_los=0 logistic=0 constant_anisotropy=1\n",
      "No PSF/pixel convolution because sigmapsf=0 pixsize=0\n",
      "inc=83.4; beta[0]=0.0; kappa=1.00; M/L=1.00; BH=0.0; chi2/DOF=nan\n",
      "Total mass MGE (MSun): 8.266e+12\n",
      "\n",
      "sigma_e: 131.10 km/s\n"
     ]
    },
    {
     "name": "stdout",
     "output_type": "stream",
     "text": [
      "jam_axi_proj(align='sph', moment='zz') -- elapsed time sec: 0.92\n",
      "analytic_los=0 logistic=0 constant_anisotropy=1\n",
      "No PSF/pixel convolution because sigmapsf=0 pixsize=0\n",
      "inc=86.5; beta[0]=0.0; kappa=1.00; M/L=1.00; BH=0.0; chi2/DOF=nan\n",
      "Total mass MGE (MSun): 8.266e+12\n",
      "\n",
      "sigma_e: 124.86 km/s\n"
     ]
    },
    {
     "name": "stdout",
     "output_type": "stream",
     "text": [
      "jam_axi_proj(align='sph', moment='zz') -- elapsed time sec: 0.95\n",
      "analytic_los=0 logistic=0 constant_anisotropy=1\n",
      "No PSF/pixel convolution because sigmapsf=0 pixsize=0\n",
      "inc=87.5; beta[0]=0.0; kappa=1.00; M/L=1.00; BH=0.0; chi2/DOF=nan\n",
      "Total mass MGE (MSun): 8.266e+12\n",
      "\n",
      "sigma_e: 137.01 km/s\n"
     ]
    },
    {
     "name": "stdout",
     "output_type": "stream",
     "text": [
      "jam_axi_proj(align='sph', moment='zz') -- elapsed time sec: 0.96\n",
      "analytic_los=0 logistic=0 constant_anisotropy=1\n",
      "No PSF/pixel convolution because sigmapsf=0 pixsize=0\n",
      "inc=75.4; beta[0]=0.0; kappa=1.00; M/L=1.00; BH=0.0; chi2/DOF=nan\n",
      "Total mass MGE (MSun): 8.266e+12\n",
      "\n",
      "sigma_e: 139.60 km/s\n"
     ]
    },
    {
     "name": "stdout",
     "output_type": "stream",
     "text": [
      "jam_axi_proj(align='sph', moment='zz') -- elapsed time sec: 0.96\n",
      "analytic_los=0 logistic=0 constant_anisotropy=1\n",
      "No PSF/pixel convolution because sigmapsf=0 pixsize=0\n",
      "inc=83.8; beta[0]=0.0; kappa=1.00; M/L=1.00; BH=0.0; chi2/DOF=nan\n",
      "Total mass MGE (MSun): 8.204e+12\n",
      "\n",
      "sigma_e: 130.49 km/s\n"
     ]
    },
    {
     "name": "stdout",
     "output_type": "stream",
     "text": [
      "jam_axi_proj(align='sph', moment='zz') -- elapsed time sec: 0.90\n",
      "analytic_los=0 logistic=0 constant_anisotropy=1\n",
      "No PSF/pixel convolution because sigmapsf=0 pixsize=0\n",
      "inc=61.9; beta[0]=0.0; kappa=1.00; M/L=1.00; BH=0.0; chi2/DOF=nan\n",
      "Total mass MGE (MSun): 8.204e+12\n",
      "\n",
      "sigma_e: 137.12 km/s\n"
     ]
    },
    {
     "name": "stdout",
     "output_type": "stream",
     "text": [
      "jam_axi_proj(align='sph', moment='zz') -- elapsed time sec: 1.01\n",
      "analytic_los=0 logistic=0 constant_anisotropy=1\n",
      "No PSF/pixel convolution because sigmapsf=0 pixsize=0\n",
      "inc=73.1; beta[0]=0.0; kappa=1.00; M/L=1.00; BH=0.0; chi2/DOF=nan\n",
      "Total mass MGE (MSun): 8.204e+12\n",
      "\n",
      "sigma_e: 144.67 km/s\n"
     ]
    },
    {
     "name": "stdout",
     "output_type": "stream",
     "text": [
      "jam_axi_proj(align='sph', moment='zz') -- elapsed time sec: 0.96\n",
      "analytic_los=0 logistic=0 constant_anisotropy=1\n",
      "No PSF/pixel convolution because sigmapsf=0 pixsize=0\n",
      "inc=84.6; beta[0]=0.0; kappa=1.00; M/L=1.00; BH=0.0; chi2/DOF=nan\n",
      "Total mass MGE (MSun): 8.204e+12\n",
      "\n",
      "sigma_e: 142.79 km/s\n"
     ]
    },
    {
     "name": "stdout",
     "output_type": "stream",
     "text": [
      "jam_axi_proj(align='sph', moment='zz') -- elapsed time sec: 0.99\n",
      "analytic_los=0 logistic=0 constant_anisotropy=1\n",
      "No PSF/pixel convolution because sigmapsf=0 pixsize=0\n",
      "inc=69.9; beta[0]=0.0; kappa=1.00; M/L=1.00; BH=0.0; chi2/DOF=nan\n",
      "Total mass MGE (MSun): 8.204e+12\n",
      "\n",
      "sigma_e: 141.02 km/s\n"
     ]
    },
    {
     "name": "stdout",
     "output_type": "stream",
     "text": [
      "jam_axi_proj(align='sph', moment='zz') -- elapsed time sec: 0.94\n",
      "analytic_los=0 logistic=0 constant_anisotropy=1\n",
      "No PSF/pixel convolution because sigmapsf=0 pixsize=0\n",
      "inc=63.6; beta[0]=0.0; kappa=1.00; M/L=1.00; BH=0.0; chi2/DOF=nan\n",
      "Total mass MGE (MSun): 8.204e+12\n",
      "\n",
      "sigma_e: 143.80 km/s\n"
     ]
    },
    {
     "name": "stdout",
     "output_type": "stream",
     "text": [
      "jam_axi_proj(align='sph', moment='zz') -- elapsed time sec: 0.95\n",
      "analytic_los=0 logistic=0 constant_anisotropy=1\n",
      "No PSF/pixel convolution because sigmapsf=0 pixsize=0\n",
      "inc=49.4; beta[0]=0.0; kappa=1.00; M/L=1.00; BH=0.0; chi2/DOF=nan\n",
      "Total mass MGE (MSun): 8.204e+12\n",
      "\n",
      "sigma_e: 151.00 km/s\n"
     ]
    },
    {
     "name": "stdout",
     "output_type": "stream",
     "text": [
      "jam_axi_proj(align='sph', moment='zz') -- elapsed time sec: 0.96\n",
      "analytic_los=0 logistic=0 constant_anisotropy=1\n",
      "No PSF/pixel convolution because sigmapsf=0 pixsize=0\n",
      "inc=68.3; beta[0]=0.0; kappa=1.00; M/L=1.00; BH=0.0; chi2/DOF=nan\n",
      "Total mass MGE (MSun): 8.204e+12\n",
      "\n",
      "sigma_e: 150.57 km/s\n"
     ]
    },
    {
     "name": "stdout",
     "output_type": "stream",
     "text": [
      "jam_axi_proj(align='sph', moment='zz') -- elapsed time sec: 1.04\n",
      "analytic_los=0 logistic=0 constant_anisotropy=1\n",
      "No PSF/pixel convolution because sigmapsf=0 pixsize=0\n",
      "inc=73.4; beta[0]=0.0; kappa=1.00; M/L=1.00; BH=0.0; chi2/DOF=nan\n",
      "Total mass MGE (MSun): 8.204e+12\n",
      "\n",
      "sigma_e: 139.81 km/s\n"
     ]
    },
    {
     "name": "stdout",
     "output_type": "stream",
     "text": [
      "jam_axi_proj(align='sph', moment='zz') -- elapsed time sec: 0.95\n",
      "analytic_los=0 logistic=0 constant_anisotropy=1\n",
      "No PSF/pixel convolution because sigmapsf=0 pixsize=0\n",
      "inc=82.0; beta[0]=0.0; kappa=1.00; M/L=1.00; BH=0.0; chi2/DOF=nan\n",
      "Total mass MGE (MSun): 8.204e+12\n",
      "\n",
      "sigma_e: 149.45 km/s\n"
     ]
    },
    {
     "name": "stdout",
     "output_type": "stream",
     "text": [
      "jam_axi_proj(align='sph', moment='zz') -- elapsed time sec: 0.97\n",
      "analytic_los=0 logistic=0 constant_anisotropy=1\n",
      "No PSF/pixel convolution because sigmapsf=0 pixsize=0\n",
      "inc=61.2; beta[0]=0.0; kappa=1.00; M/L=1.00; BH=0.0; chi2/DOF=nan\n",
      "Total mass MGE (MSun): 1.209e+13\n",
      "\n",
      "sigma_e: 151.27 km/s\n"
     ]
    },
    {
     "name": "stdout",
     "output_type": "stream",
     "text": [
      "jam_axi_proj(align='sph', moment='zz') -- elapsed time sec: 0.92\n",
      "analytic_los=0 logistic=0 constant_anisotropy=1\n",
      "No PSF/pixel convolution because sigmapsf=0 pixsize=0\n",
      "inc=85.6; beta[0]=0.0; kappa=1.00; M/L=1.00; BH=0.0; chi2/DOF=nan\n",
      "Total mass MGE (MSun): 1.209e+13\n",
      "\n",
      "sigma_e: 150.84 km/s\n"
     ]
    },
    {
     "name": "stdout",
     "output_type": "stream",
     "text": [
      "jam_axi_proj(align='sph', moment='zz') -- elapsed time sec: 0.96\n",
      "analytic_los=0 logistic=0 constant_anisotropy=1\n",
      "No PSF/pixel convolution because sigmapsf=0 pixsize=0\n",
      "inc=55.7; beta[0]=0.0; kappa=1.00; M/L=1.00; BH=0.0; chi2/DOF=nan\n",
      "Total mass MGE (MSun): 1.209e+13\n",
      "\n",
      "sigma_e: 159.56 km/s\n"
     ]
    },
    {
     "name": "stdout",
     "output_type": "stream",
     "text": [
      "jam_axi_proj(align='sph', moment='zz') -- elapsed time sec: 0.98\n",
      "analytic_los=0 logistic=0 constant_anisotropy=1\n",
      "No PSF/pixel convolution because sigmapsf=0 pixsize=0\n",
      "inc=65.2; beta[0]=0.0; kappa=1.00; M/L=1.00; BH=0.0; chi2/DOF=nan\n",
      "Total mass MGE (MSun): 1.209e+13\n",
      "\n",
      "sigma_e: 156.94 km/s\n"
     ]
    },
    {
     "name": "stdout",
     "output_type": "stream",
     "text": [
      "jam_axi_proj(align='sph', moment='zz') -- elapsed time sec: 0.82\n",
      "analytic_los=0 logistic=0 constant_anisotropy=1\n",
      "No PSF/pixel convolution because sigmapsf=0 pixsize=0\n",
      "inc=75.3; beta[0]=0.0; kappa=1.00; M/L=1.00; BH=0.0; chi2/DOF=nan\n",
      "Total mass MGE (MSun): 1.209e+13\n",
      "\n",
      "sigma_e: 153.53 km/s\n"
     ]
    },
    {
     "name": "stdout",
     "output_type": "stream",
     "text": [
      "jam_axi_proj(align='sph', moment='zz') -- elapsed time sec: 0.93\n",
      "analytic_los=0 logistic=0 constant_anisotropy=1\n",
      "No PSF/pixel convolution because sigmapsf=0 pixsize=0\n",
      "inc=58.7; beta[0]=0.0; kappa=1.00; M/L=1.00; BH=0.0; chi2/DOF=nan\n",
      "Total mass MGE (MSun): 1.209e+13\n",
      "\n",
      "sigma_e: 159.41 km/s\n"
     ]
    },
    {
     "name": "stdout",
     "output_type": "stream",
     "text": [
      "jam_axi_proj(align='sph', moment='zz') -- elapsed time sec: 0.91\n",
      "analytic_los=0 logistic=0 constant_anisotropy=1\n",
      "No PSF/pixel convolution because sigmapsf=0 pixsize=0\n",
      "inc=69.5; beta[0]=0.0; kappa=1.00; M/L=1.00; BH=0.0; chi2/DOF=nan\n",
      "Total mass MGE (MSun): 1.209e+13\n",
      "\n",
      "sigma_e: 151.15 km/s\n"
     ]
    },
    {
     "name": "stdout",
     "output_type": "stream",
     "text": [
      "jam_axi_proj(align='sph', moment='zz') -- elapsed time sec: 0.95\n",
      "analytic_los=0 logistic=0 constant_anisotropy=1\n",
      "No PSF/pixel convolution because sigmapsf=0 pixsize=0\n",
      "inc=62.4; beta[0]=0.0; kappa=1.00; M/L=1.00; BH=0.0; chi2/DOF=nan\n",
      "Total mass MGE (MSun): 1.209e+13\n",
      "\n",
      "sigma_e: 155.59 km/s\n"
     ]
    },
    {
     "name": "stdout",
     "output_type": "stream",
     "text": [
      "jam_axi_proj(align='sph', moment='zz') -- elapsed time sec: 0.91\n",
      "analytic_los=0 logistic=0 constant_anisotropy=1\n",
      "No PSF/pixel convolution because sigmapsf=0 pixsize=0\n",
      "inc=38.2; beta[0]=0.0; kappa=1.00; M/L=1.00; BH=0.0; chi2/DOF=nan\n",
      "Total mass MGE (MSun): 1.209e+13\n",
      "\n",
      "sigma_e: 162.96 km/s\n"
     ]
    },
    {
     "name": "stdout",
     "output_type": "stream",
     "text": [
      "jam_axi_proj(align='sph', moment='zz') -- elapsed time sec: 0.81\n",
      "analytic_los=0 logistic=0 constant_anisotropy=1\n",
      "No PSF/pixel convolution because sigmapsf=0 pixsize=0\n",
      "inc=49.8; beta[0]=0.0; kappa=1.00; M/L=1.00; BH=0.0; chi2/DOF=nan\n",
      "Total mass MGE (MSun): 1.209e+13\n",
      "\n",
      "sigma_e: 154.65 km/s\n"
     ]
    },
    {
     "name": "stdout",
     "output_type": "stream",
     "text": [
      "jam_axi_proj(align='sph', moment='zz') -- elapsed time sec: 0.94\n",
      "analytic_los=0 logistic=0 constant_anisotropy=1\n",
      "No PSF/pixel convolution because sigmapsf=0 pixsize=0\n",
      "inc=81.4; beta[0]=0.0; kappa=1.00; M/L=1.00; BH=0.0; chi2/DOF=nan\n",
      "Total mass MGE (MSun): 8.017e+12\n",
      "\n",
      "sigma_e: 129.34 km/s\n"
     ]
    },
    {
     "name": "stdout",
     "output_type": "stream",
     "text": [
      "jam_axi_proj(align='sph', moment='zz') -- elapsed time sec: 0.97\n",
      "analytic_los=0 logistic=0 constant_anisotropy=1\n",
      "No PSF/pixel convolution because sigmapsf=0 pixsize=0\n",
      "inc=80.4; beta[0]=0.0; kappa=1.00; M/L=1.00; BH=0.0; chi2/DOF=nan\n",
      "Total mass MGE (MSun): 8.017e+12\n",
      "\n",
      "sigma_e: 136.79 km/s\n"
     ]
    },
    {
     "name": "stdout",
     "output_type": "stream",
     "text": [
      "jam_axi_proj(align='sph', moment='zz') -- elapsed time sec: 0.98\n",
      "analytic_los=0 logistic=0 constant_anisotropy=1\n",
      "No PSF/pixel convolution because sigmapsf=0 pixsize=0\n",
      "inc=88.2; beta[0]=0.0; kappa=1.00; M/L=1.00; BH=0.0; chi2/DOF=nan\n",
      "Total mass MGE (MSun): 8.017e+12\n",
      "\n",
      "sigma_e: 147.30 km/s\n"
     ]
    },
    {
     "name": "stdout",
     "output_type": "stream",
     "text": [
      "jam_axi_proj(align='sph', moment='zz') -- elapsed time sec: 0.92\n",
      "analytic_los=0 logistic=0 constant_anisotropy=1\n",
      "No PSF/pixel convolution because sigmapsf=0 pixsize=0\n",
      "inc=51.9; beta[0]=0.0; kappa=1.00; M/L=1.00; BH=0.0; chi2/DOF=nan\n",
      "Total mass MGE (MSun): 8.017e+12\n",
      "\n",
      "sigma_e: 139.66 km/s\n"
     ]
    },
    {
     "name": "stdout",
     "output_type": "stream",
     "text": [
      "jam_axi_proj(align='sph', moment='zz') -- elapsed time sec: 0.98\n",
      "analytic_los=0 logistic=0 constant_anisotropy=1\n",
      "No PSF/pixel convolution because sigmapsf=0 pixsize=0\n",
      "inc=66.4; beta[0]=0.0; kappa=1.00; M/L=1.00; BH=0.0; chi2/DOF=nan\n",
      "Total mass MGE (MSun): 8.017e+12\n",
      "\n",
      "sigma_e: 140.06 km/s\n"
     ]
    },
    {
     "name": "stdout",
     "output_type": "stream",
     "text": [
      "jam_axi_proj(align='sph', moment='zz') -- elapsed time sec: 0.93\n",
      "analytic_los=0 logistic=0 constant_anisotropy=1\n",
      "No PSF/pixel convolution because sigmapsf=0 pixsize=0\n",
      "inc=74.5; beta[0]=0.0; kappa=1.00; M/L=1.00; BH=0.0; chi2/DOF=nan\n",
      "Total mass MGE (MSun): 8.017e+12\n",
      "\n",
      "sigma_e: 145.40 km/s\n"
     ]
    },
    {
     "name": "stdout",
     "output_type": "stream",
     "text": [
      "jam_axi_proj(align='sph', moment='zz') -- elapsed time sec: 0.90\n",
      "analytic_los=0 logistic=0 constant_anisotropy=1\n",
      "No PSF/pixel convolution because sigmapsf=0 pixsize=0\n",
      "inc=70.1; beta[0]=0.0; kappa=1.00; M/L=1.00; BH=0.0; chi2/DOF=nan\n",
      "Total mass MGE (MSun): 8.017e+12\n",
      "\n",
      "sigma_e: 134.70 km/s\n"
     ]
    },
    {
     "name": "stdout",
     "output_type": "stream",
     "text": [
      "jam_axi_proj(align='sph', moment='zz') -- elapsed time sec: 0.99\n",
      "analytic_los=0 logistic=0 constant_anisotropy=1\n",
      "No PSF/pixel convolution because sigmapsf=0 pixsize=0\n",
      "inc=76.3; beta[0]=0.0; kappa=1.00; M/L=1.00; BH=0.0; chi2/DOF=nan\n",
      "Total mass MGE (MSun): 8.017e+12\n",
      "\n",
      "sigma_e: 146.60 km/s\n"
     ]
    },
    {
     "name": "stdout",
     "output_type": "stream",
     "text": [
      "jam_axi_proj(align='sph', moment='zz') -- elapsed time sec: 0.93\n",
      "analytic_los=0 logistic=0 constant_anisotropy=1\n",
      "No PSF/pixel convolution because sigmapsf=0 pixsize=0\n",
      "inc=86.4; beta[0]=0.0; kappa=1.00; M/L=1.00; BH=0.0; chi2/DOF=nan\n",
      "Total mass MGE (MSun): 8.017e+12\n",
      "\n",
      "sigma_e: 132.11 km/s\n"
     ]
    },
    {
     "name": "stdout",
     "output_type": "stream",
     "text": [
      "jam_axi_proj(align='sph', moment='zz') -- elapsed time sec: 0.95\n",
      "analytic_los=0 logistic=0 constant_anisotropy=1\n",
      "No PSF/pixel convolution because sigmapsf=0 pixsize=0\n",
      "inc=58.4; beta[0]=0.0; kappa=1.00; M/L=1.00; BH=0.0; chi2/DOF=nan\n",
      "Total mass MGE (MSun): 8.017e+12\n",
      "\n",
      "sigma_e: 136.69 km/s\n"
     ]
    },
    {
     "name": "stdout",
     "output_type": "stream",
     "text": [
      "jam_axi_proj(align='sph', moment='zz') -- elapsed time sec: 0.97\n",
      "analytic_los=0 logistic=0 constant_anisotropy=1\n",
      "No PSF/pixel convolution because sigmapsf=0 pixsize=0\n",
      "inc=75.7; beta[0]=0.0; kappa=1.00; M/L=1.00; BH=0.0; chi2/DOF=nan\n",
      "Total mass MGE (MSun): 7.899e+12\n",
      "\n",
      "sigma_e: 133.38 km/s\n"
     ]
    },
    {
     "name": "stdout",
     "output_type": "stream",
     "text": [
      "jam_axi_proj(align='sph', moment='zz') -- elapsed time sec: 0.92\n",
      "analytic_los=0 logistic=0 constant_anisotropy=1\n",
      "No PSF/pixel convolution because sigmapsf=0 pixsize=0\n",
      "inc=71.7; beta[0]=0.0; kappa=1.00; M/L=1.00; BH=0.0; chi2/DOF=nan\n",
      "Total mass MGE (MSun): 7.899e+12\n",
      "\n",
      "sigma_e: 143.28 km/s\n"
     ]
    },
    {
     "name": "stdout",
     "output_type": "stream",
     "text": [
      "jam_axi_proj(align='sph', moment='zz') -- elapsed time sec: 0.95\n",
      "analytic_los=0 logistic=0 constant_anisotropy=1\n",
      "No PSF/pixel convolution because sigmapsf=0 pixsize=0\n",
      "inc=75.2; beta[0]=0.0; kappa=1.00; M/L=1.00; BH=0.0; chi2/DOF=nan\n",
      "Total mass MGE (MSun): 7.899e+12\n",
      "\n",
      "sigma_e: 143.48 km/s\n"
     ]
    },
    {
     "name": "stdout",
     "output_type": "stream",
     "text": [
      "jam_axi_proj(align='sph', moment='zz') -- elapsed time sec: 0.92\n",
      "analytic_los=0 logistic=0 constant_anisotropy=1\n",
      "No PSF/pixel convolution because sigmapsf=0 pixsize=0\n",
      "inc=35.7; beta[0]=0.0; kappa=1.00; M/L=1.00; BH=0.0; chi2/DOF=nan\n",
      "Total mass MGE (MSun): 7.899e+12\n",
      "\n",
      "sigma_e: 147.95 km/s\n"
     ]
    },
    {
     "name": "stdout",
     "output_type": "stream",
     "text": [
      "jam_axi_proj(align='sph', moment='zz') -- elapsed time sec: 0.93\n",
      "analytic_los=0 logistic=0 constant_anisotropy=1\n",
      "No PSF/pixel convolution because sigmapsf=0 pixsize=0\n",
      "inc=36.5; beta[0]=0.0; kappa=1.00; M/L=1.00; BH=0.0; chi2/DOF=nan\n",
      "Total mass MGE (MSun): 7.899e+12\n",
      "\n",
      "sigma_e: 146.24 km/s\n"
     ]
    },
    {
     "name": "stdout",
     "output_type": "stream",
     "text": [
      "jam_axi_proj(align='sph', moment='zz') -- elapsed time sec: 0.92\n",
      "analytic_los=0 logistic=0 constant_anisotropy=1\n",
      "No PSF/pixel convolution because sigmapsf=0 pixsize=0\n",
      "inc=64.7; beta[0]=0.0; kappa=1.00; M/L=1.00; BH=0.0; chi2/DOF=nan\n",
      "Total mass MGE (MSun): 7.899e+12\n",
      "\n",
      "sigma_e: 140.20 km/s\n"
     ]
    },
    {
     "name": "stdout",
     "output_type": "stream",
     "text": [
      "jam_axi_proj(align='sph', moment='zz') -- elapsed time sec: 0.98\n",
      "analytic_los=0 logistic=0 constant_anisotropy=1\n",
      "No PSF/pixel convolution because sigmapsf=0 pixsize=0\n",
      "inc=84.5; beta[0]=0.0; kappa=1.00; M/L=1.00; BH=0.0; chi2/DOF=nan\n",
      "Total mass MGE (MSun): 7.899e+12\n",
      "\n",
      "sigma_e: 141.85 km/s\n"
     ]
    },
    {
     "name": "stdout",
     "output_type": "stream",
     "text": [
      "jam_axi_proj(align='sph', moment='zz') -- elapsed time sec: 0.91\n",
      "analytic_los=0 logistic=0 constant_anisotropy=1\n",
      "No PSF/pixel convolution because sigmapsf=0 pixsize=0\n",
      "inc=63.8; beta[0]=0.0; kappa=1.00; M/L=1.00; BH=0.0; chi2/DOF=nan\n",
      "Total mass MGE (MSun): 7.899e+12\n",
      "\n",
      "sigma_e: 136.82 km/s\n"
     ]
    },
    {
     "name": "stdout",
     "output_type": "stream",
     "text": [
      "jam_axi_proj(align='sph', moment='zz') -- elapsed time sec: 0.97\n",
      "analytic_los=0 logistic=0 constant_anisotropy=1\n",
      "No PSF/pixel convolution because sigmapsf=0 pixsize=0\n",
      "inc=88.2; beta[0]=0.0; kappa=1.00; M/L=1.00; BH=0.0; chi2/DOF=nan\n",
      "Total mass MGE (MSun): 7.899e+12\n",
      "\n",
      "sigma_e: 129.04 km/s\n"
     ]
    },
    {
     "name": "stdout",
     "output_type": "stream",
     "text": [
      "jam_axi_proj(align='sph', moment='zz') -- elapsed time sec: 0.96\n",
      "analytic_los=0 logistic=0 constant_anisotropy=1\n",
      "No PSF/pixel convolution because sigmapsf=0 pixsize=0\n",
      "inc=54.1; beta[0]=0.0; kappa=1.00; M/L=1.00; BH=0.0; chi2/DOF=nan\n",
      "Total mass MGE (MSun): 7.899e+12\n",
      "\n",
      "sigma_e: 136.86 km/s\n"
     ]
    },
    {
     "name": "stdout",
     "output_type": "stream",
     "text": [
      "jam_axi_proj(align='sph', moment='zz') -- elapsed time sec: 0.98\n",
      "analytic_los=0 logistic=0 constant_anisotropy=1\n",
      "No PSF/pixel convolution because sigmapsf=0 pixsize=0\n",
      "inc=18.3; beta[0]=0.0; kappa=1.00; M/L=1.00; BH=0.0; chi2/DOF=nan\n",
      "Total mass MGE (MSun): 1.225e+13\n",
      "\n",
      "sigma_e: 158.80 km/s\n"
     ]
    },
    {
     "name": "stdout",
     "output_type": "stream",
     "text": [
      "jam_axi_proj(align='sph', moment='zz') -- elapsed time sec: 0.94\n",
      "analytic_los=0 logistic=0 constant_anisotropy=1\n",
      "No PSF/pixel convolution because sigmapsf=0 pixsize=0\n",
      "inc=38.2; beta[0]=0.0; kappa=1.00; M/L=1.00; BH=0.0; chi2/DOF=nan\n",
      "Total mass MGE (MSun): 1.225e+13\n",
      "\n",
      "sigma_e: 159.49 km/s\n"
     ]
    },
    {
     "name": "stdout",
     "output_type": "stream",
     "text": [
      "jam_axi_proj(align='sph', moment='zz') -- elapsed time sec: 0.91\n",
      "analytic_los=0 logistic=0 constant_anisotropy=1\n",
      "No PSF/pixel convolution because sigmapsf=0 pixsize=0\n",
      "inc=32.8; beta[0]=0.0; kappa=1.00; M/L=1.00; BH=0.0; chi2/DOF=nan\n",
      "Total mass MGE (MSun): 1.225e+13\n",
      "\n",
      "sigma_e: 160.79 km/s\n"
     ]
    },
    {
     "name": "stdout",
     "output_type": "stream",
     "text": [
      "jam_axi_proj(align='sph', moment='zz') -- elapsed time sec: 0.90\n",
      "analytic_los=0 logistic=0 constant_anisotropy=1\n",
      "No PSF/pixel convolution because sigmapsf=0 pixsize=0\n",
      "inc=26.7; beta[0]=0.0; kappa=1.00; M/L=1.00; BH=0.0; chi2/DOF=nan\n",
      "Total mass MGE (MSun): 1.225e+13\n",
      "\n",
      "sigma_e: 161.12 km/s\n"
     ]
    },
    {
     "name": "stdout",
     "output_type": "stream",
     "text": [
      "jam_axi_proj(align='sph', moment='zz') -- elapsed time sec: 0.91\n",
      "analytic_los=0 logistic=0 constant_anisotropy=1\n",
      "No PSF/pixel convolution because sigmapsf=0 pixsize=0\n",
      "inc=67.9; beta[0]=0.0; kappa=1.00; M/L=1.00; BH=0.0; chi2/DOF=nan\n",
      "Total mass MGE (MSun): 1.225e+13\n",
      "\n",
      "sigma_e: 152.34 km/s\n"
     ]
    },
    {
     "name": "stdout",
     "output_type": "stream",
     "text": [
      "jam_axi_proj(align='sph', moment='zz') -- elapsed time sec: 0.93\n",
      "analytic_los=0 logistic=0 constant_anisotropy=1\n",
      "No PSF/pixel convolution because sigmapsf=0 pixsize=0\n",
      "inc=53.4; beta[0]=0.0; kappa=1.00; M/L=1.00; BH=0.0; chi2/DOF=nan\n",
      "Total mass MGE (MSun): 1.225e+13\n",
      "\n",
      "sigma_e: 154.06 km/s\n"
     ]
    },
    {
     "name": "stdout",
     "output_type": "stream",
     "text": [
      "jam_axi_proj(align='sph', moment='zz') -- elapsed time sec: 0.82\n",
      "analytic_los=0 logistic=0 constant_anisotropy=1\n",
      "No PSF/pixel convolution because sigmapsf=0 pixsize=0\n",
      "inc=73.2; beta[0]=0.0; kappa=1.00; M/L=1.00; BH=0.0; chi2/DOF=nan\n",
      "Total mass MGE (MSun): 1.225e+13\n",
      "\n",
      "sigma_e: 152.93 km/s\n"
     ]
    },
    {
     "name": "stdout",
     "output_type": "stream",
     "text": [
      "jam_axi_proj(align='sph', moment='zz') -- elapsed time sec: 0.90\n",
      "analytic_los=0 logistic=0 constant_anisotropy=1\n",
      "No PSF/pixel convolution because sigmapsf=0 pixsize=0\n",
      "inc=57.6; beta[0]=0.0; kappa=1.00; M/L=1.00; BH=0.0; chi2/DOF=nan\n",
      "Total mass MGE (MSun): 1.225e+13\n",
      "\n",
      "sigma_e: 155.84 km/s\n"
     ]
    },
    {
     "name": "stdout",
     "output_type": "stream",
     "text": [
      "jam_axi_proj(align='sph', moment='zz') -- elapsed time sec: 0.95\n",
      "analytic_los=0 logistic=0 constant_anisotropy=1\n",
      "No PSF/pixel convolution because sigmapsf=0 pixsize=0\n",
      "inc=44.4; beta[0]=0.0; kappa=1.00; M/L=1.00; BH=0.0; chi2/DOF=nan\n",
      "Total mass MGE (MSun): 1.225e+13\n",
      "\n",
      "sigma_e: 154.56 km/s\n"
     ]
    },
    {
     "name": "stdout",
     "output_type": "stream",
     "text": [
      "jam_axi_proj(align='sph', moment='zz') -- elapsed time sec: 0.89\n",
      "analytic_los=0 logistic=0 constant_anisotropy=1\n",
      "No PSF/pixel convolution because sigmapsf=0 pixsize=0\n",
      "inc=71.5; beta[0]=0.0; kappa=1.00; M/L=1.00; BH=0.0; chi2/DOF=nan\n",
      "Total mass MGE (MSun): 1.225e+13\n",
      "\n",
      "sigma_e: 152.44 km/s\n"
     ]
    },
    {
     "name": "stdout",
     "output_type": "stream",
     "text": [
      "jam_axi_proj(align='sph', moment='zz') -- elapsed time sec: 1.03\n",
      "analytic_los=0 logistic=0 constant_anisotropy=1\n",
      "No PSF/pixel convolution because sigmapsf=0 pixsize=0\n",
      "inc=71.2; beta[0]=0.0; kappa=1.00; M/L=1.00; BH=0.0; chi2/DOF=nan\n",
      "Total mass MGE (MSun): 3.558e+13\n",
      "\n",
      "sigma_e: 206.92 km/s\n"
     ]
    },
    {
     "name": "stdout",
     "output_type": "stream",
     "text": [
      "jam_axi_proj(align='sph', moment='zz') -- elapsed time sec: 1.00\n",
      "analytic_los=0 logistic=0 constant_anisotropy=1\n",
      "No PSF/pixel convolution because sigmapsf=0 pixsize=0\n",
      "inc=72.1; beta[0]=0.0; kappa=1.00; M/L=1.00; BH=0.0; chi2/DOF=nan\n",
      "Total mass MGE (MSun): 3.558e+13\n",
      "\n",
      "sigma_e: 197.14 km/s\n"
     ]
    },
    {
     "name": "stdout",
     "output_type": "stream",
     "text": [
      "jam_axi_proj(align='sph', moment='zz') -- elapsed time sec: 0.92\n",
      "analytic_los=0 logistic=0 constant_anisotropy=1\n",
      "No PSF/pixel convolution because sigmapsf=0 pixsize=0\n",
      "inc=51.6; beta[0]=0.0; kappa=1.00; M/L=1.00; BH=0.0; chi2/DOF=nan\n",
      "Total mass MGE (MSun): 3.558e+13\n",
      "\n",
      "sigma_e: 213.13 km/s\n"
     ]
    },
    {
     "name": "stdout",
     "output_type": "stream",
     "text": [
      "jam_axi_proj(align='sph', moment='zz') -- elapsed time sec: 1.05\n",
      "analytic_los=0 logistic=0 constant_anisotropy=1\n",
      "No PSF/pixel convolution because sigmapsf=0 pixsize=0\n",
      "inc=76.2; beta[0]=0.0; kappa=1.00; M/L=1.00; BH=0.0; chi2/DOF=nan\n",
      "Total mass MGE (MSun): 3.558e+13\n",
      "\n",
      "sigma_e: 193.04 km/s\n"
     ]
    },
    {
     "name": "stdout",
     "output_type": "stream",
     "text": [
      "jam_axi_proj(align='sph', moment='zz') -- elapsed time sec: 1.06\n",
      "analytic_los=0 logistic=0 constant_anisotropy=1\n",
      "No PSF/pixel convolution because sigmapsf=0 pixsize=0\n",
      "inc=79.1; beta[0]=0.0; kappa=1.00; M/L=1.00; BH=0.0; chi2/DOF=nan\n",
      "Total mass MGE (MSun): 3.558e+13\n",
      "\n",
      "sigma_e: 192.44 km/s\n"
     ]
    },
    {
     "name": "stdout",
     "output_type": "stream",
     "text": [
      "jam_axi_proj(align='sph', moment='zz') -- elapsed time sec: 0.96\n",
      "analytic_los=0 logistic=0 constant_anisotropy=1\n",
      "No PSF/pixel convolution because sigmapsf=0 pixsize=0\n",
      "inc=51.6; beta[0]=0.0; kappa=1.00; M/L=1.00; BH=0.0; chi2/DOF=nan\n",
      "Total mass MGE (MSun): 3.558e+13\n",
      "\n",
      "sigma_e: 214.90 km/s\n"
     ]
    },
    {
     "name": "stdout",
     "output_type": "stream",
     "text": [
      "jam_axi_proj(align='sph', moment='zz') -- elapsed time sec: 0.98\n",
      "analytic_los=0 logistic=0 constant_anisotropy=1\n",
      "No PSF/pixel convolution because sigmapsf=0 pixsize=0\n",
      "inc=53.2; beta[0]=0.0; kappa=1.00; M/L=1.00; BH=0.0; chi2/DOF=nan\n",
      "Total mass MGE (MSun): 3.558e+13\n",
      "\n",
      "sigma_e: 219.83 km/s\n"
     ]
    },
    {
     "name": "stdout",
     "output_type": "stream",
     "text": [
      "jam_axi_proj(align='sph', moment='zz') -- elapsed time sec: 1.00\n",
      "analytic_los=0 logistic=0 constant_anisotropy=1\n",
      "No PSF/pixel convolution because sigmapsf=0 pixsize=0\n",
      "inc=74.6; beta[0]=0.0; kappa=1.00; M/L=1.00; BH=0.0; chi2/DOF=nan\n",
      "Total mass MGE (MSun): 3.558e+13\n",
      "\n",
      "sigma_e: 209.80 km/s\n"
     ]
    },
    {
     "name": "stdout",
     "output_type": "stream",
     "text": [
      "jam_axi_proj(align='sph', moment='zz') -- elapsed time sec: 1.02\n",
      "analytic_los=0 logistic=0 constant_anisotropy=1\n",
      "No PSF/pixel convolution because sigmapsf=0 pixsize=0\n",
      "inc=77.9; beta[0]=0.0; kappa=1.00; M/L=1.00; BH=0.0; chi2/DOF=nan\n",
      "Total mass MGE (MSun): 3.558e+13\n",
      "\n",
      "sigma_e: 193.56 km/s\n"
     ]
    },
    {
     "name": "stdout",
     "output_type": "stream",
     "text": [
      "jam_axi_proj(align='sph', moment='zz') -- elapsed time sec: 1.04\n",
      "analytic_los=0 logistic=0 constant_anisotropy=1\n",
      "No PSF/pixel convolution because sigmapsf=0 pixsize=0\n",
      "inc=82.0; beta[0]=0.0; kappa=1.00; M/L=1.00; BH=0.0; chi2/DOF=nan\n",
      "Total mass MGE (MSun): 3.558e+13\n",
      "\n",
      "sigma_e: 198.96 km/s\n"
     ]
    },
    {
     "name": "stdout",
     "output_type": "stream",
     "text": [
      "jam_axi_proj(align='sph', moment='zz') -- elapsed time sec: 1.00\n",
      "analytic_los=0 logistic=0 constant_anisotropy=1\n",
      "No PSF/pixel convolution because sigmapsf=0 pixsize=0\n",
      "inc=85.6; beta[0]=0.0; kappa=1.00; M/L=1.00; BH=0.0; chi2/DOF=nan\n",
      "Total mass MGE (MSun): 2.890e+13\n",
      "\n",
      "sigma_e: 191.01 km/s\n"
     ]
    },
    {
     "name": "stdout",
     "output_type": "stream",
     "text": [
      "jam_axi_proj(align='sph', moment='zz') -- elapsed time sec: 0.94\n",
      "analytic_los=0 logistic=0 constant_anisotropy=1\n",
      "No PSF/pixel convolution because sigmapsf=0 pixsize=0\n",
      "inc=70.8; beta[0]=0.0; kappa=1.00; M/L=1.00; BH=0.0; chi2/DOF=nan\n",
      "Total mass MGE (MSun): 2.890e+13\n",
      "\n",
      "sigma_e: 184.98 km/s\n"
     ]
    },
    {
     "name": "stdout",
     "output_type": "stream",
     "text": [
      "jam_axi_proj(align='sph', moment='zz') -- elapsed time sec: 1.02\n",
      "analytic_los=0 logistic=0 constant_anisotropy=1\n",
      "No PSF/pixel convolution because sigmapsf=0 pixsize=0\n",
      "inc=82.3; beta[0]=0.0; kappa=1.00; M/L=1.00; BH=0.0; chi2/DOF=nan\n",
      "Total mass MGE (MSun): 2.890e+13\n",
      "\n",
      "sigma_e: 180.52 km/s\n"
     ]
    },
    {
     "name": "stdout",
     "output_type": "stream",
     "text": [
      "jam_axi_proj(align='sph', moment='zz') -- elapsed time sec: 0.94\n",
      "analytic_los=0 logistic=0 constant_anisotropy=1\n",
      "No PSF/pixel convolution because sigmapsf=0 pixsize=0\n",
      "inc=79.8; beta[0]=0.0; kappa=1.00; M/L=1.00; BH=0.0; chi2/DOF=nan\n",
      "Total mass MGE (MSun): 2.890e+13\n",
      "\n",
      "sigma_e: 196.29 km/s\n"
     ]
    },
    {
     "name": "stdout",
     "output_type": "stream",
     "text": [
      "jam_axi_proj(align='sph', moment='zz') -- elapsed time sec: 0.98\n",
      "analytic_los=0 logistic=0 constant_anisotropy=1\n",
      "No PSF/pixel convolution because sigmapsf=0 pixsize=0\n",
      "inc=78.4; beta[0]=0.0; kappa=1.00; M/L=1.00; BH=0.0; chi2/DOF=nan\n",
      "Total mass MGE (MSun): 2.890e+13\n",
      "\n",
      "sigma_e: 177.82 km/s\n"
     ]
    },
    {
     "name": "stdout",
     "output_type": "stream",
     "text": [
      "jam_axi_proj(align='sph', moment='zz') -- elapsed time sec: 0.97\n",
      "analytic_los=0 logistic=0 constant_anisotropy=1\n",
      "No PSF/pixel convolution because sigmapsf=0 pixsize=0\n",
      "inc=58.8; beta[0]=0.0; kappa=1.00; M/L=1.00; BH=0.0; chi2/DOF=nan\n",
      "Total mass MGE (MSun): 2.890e+13\n",
      "\n",
      "sigma_e: 186.83 km/s\n"
     ]
    },
    {
     "name": "stdout",
     "output_type": "stream",
     "text": [
      "jam_axi_proj(align='sph', moment='zz') -- elapsed time sec: 0.98\n",
      "analytic_los=0 logistic=0 constant_anisotropy=1\n",
      "No PSF/pixel convolution because sigmapsf=0 pixsize=0\n",
      "inc=88.6; beta[0]=0.0; kappa=1.00; M/L=1.00; BH=0.0; chi2/DOF=nan\n",
      "Total mass MGE (MSun): 2.890e+13\n",
      "\n",
      "sigma_e: 186.31 km/s\n"
     ]
    },
    {
     "name": "stdout",
     "output_type": "stream",
     "text": [
      "jam_axi_proj(align='sph', moment='zz') -- elapsed time sec: 1.02\n",
      "analytic_los=0 logistic=0 constant_anisotropy=1\n",
      "No PSF/pixel convolution because sigmapsf=0 pixsize=0\n",
      "inc=72.4; beta[0]=0.0; kappa=1.00; M/L=1.00; BH=0.0; chi2/DOF=nan\n",
      "Total mass MGE (MSun): 2.890e+13\n",
      "\n",
      "sigma_e: 192.23 km/s\n"
     ]
    },
    {
     "name": "stdout",
     "output_type": "stream",
     "text": [
      "jam_axi_proj(align='sph', moment='zz') -- elapsed time sec: 0.97\n",
      "analytic_los=0 logistic=0 constant_anisotropy=1\n",
      "No PSF/pixel convolution because sigmapsf=0 pixsize=0\n",
      "inc=76.2; beta[0]=0.0; kappa=1.00; M/L=1.00; BH=0.0; chi2/DOF=nan\n",
      "Total mass MGE (MSun): 2.890e+13\n",
      "\n",
      "sigma_e: 187.09 km/s\n"
     ]
    },
    {
     "name": "stdout",
     "output_type": "stream",
     "text": [
      "jam_axi_proj(align='sph', moment='zz') -- elapsed time sec: 0.99\n",
      "analytic_los=0 logistic=0 constant_anisotropy=1\n",
      "No PSF/pixel convolution because sigmapsf=0 pixsize=0\n",
      "inc=69.1; beta[0]=0.0; kappa=1.00; M/L=1.00; BH=0.0; chi2/DOF=nan\n",
      "Total mass MGE (MSun): 2.890e+13\n",
      "\n",
      "sigma_e: 199.45 km/s\n"
     ]
    },
    {
     "name": "stdout",
     "output_type": "stream",
     "text": [
      "jam_axi_proj(align='sph', moment='zz') -- elapsed time sec: 0.97\n",
      "analytic_los=0 logistic=0 constant_anisotropy=1\n",
      "No PSF/pixel convolution because sigmapsf=0 pixsize=0\n",
      "inc=58.6; beta[0]=0.0; kappa=1.00; M/L=1.00; BH=0.0; chi2/DOF=nan\n",
      "Total mass MGE (MSun): 4.771e+13\n",
      "\n",
      "sigma_e: 223.48 km/s\n"
     ]
    },
    {
     "name": "stdout",
     "output_type": "stream",
     "text": [
      "jam_axi_proj(align='sph', moment='zz') -- elapsed time sec: 0.97\n",
      "analytic_los=0 logistic=0 constant_anisotropy=1\n",
      "No PSF/pixel convolution because sigmapsf=0 pixsize=0\n",
      "inc=63.0; beta[0]=0.0; kappa=1.00; M/L=1.00; BH=0.0; chi2/DOF=nan\n",
      "Total mass MGE (MSun): 4.771e+13\n",
      "\n",
      "sigma_e: 225.10 km/s\n"
     ]
    },
    {
     "name": "stdout",
     "output_type": "stream",
     "text": [
      "jam_axi_proj(align='sph', moment='zz') -- elapsed time sec: 1.04\n",
      "analytic_los=0 logistic=0 constant_anisotropy=1\n",
      "No PSF/pixel convolution because sigmapsf=0 pixsize=0\n",
      "inc=64.2; beta[0]=0.0; kappa=1.00; M/L=1.00; BH=0.0; chi2/DOF=nan\n",
      "Total mass MGE (MSun): 4.771e+13\n",
      "\n",
      "sigma_e: 217.07 km/s\n"
     ]
    },
    {
     "name": "stdout",
     "output_type": "stream",
     "text": [
      "jam_axi_proj(align='sph', moment='zz') -- elapsed time sec: 1.05\n",
      "analytic_los=0 logistic=0 constant_anisotropy=1\n",
      "No PSF/pixel convolution because sigmapsf=0 pixsize=0\n",
      "inc=74.3; beta[0]=0.0; kappa=1.00; M/L=1.00; BH=0.0; chi2/DOF=nan\n",
      "Total mass MGE (MSun): 4.771e+13\n",
      "\n",
      "sigma_e: 216.58 km/s\n"
     ]
    },
    {
     "name": "stdout",
     "output_type": "stream",
     "text": [
      "jam_axi_proj(align='sph', moment='zz') -- elapsed time sec: 0.96\n",
      "analytic_los=0 logistic=0 constant_anisotropy=1\n",
      "No PSF/pixel convolution because sigmapsf=0 pixsize=0\n",
      "inc=49.2; beta[0]=0.0; kappa=1.00; M/L=1.00; BH=0.0; chi2/DOF=nan\n",
      "Total mass MGE (MSun): 4.771e+13\n",
      "\n",
      "sigma_e: 226.50 km/s\n"
     ]
    },
    {
     "name": "stdout",
     "output_type": "stream",
     "text": [
      "jam_axi_proj(align='sph', moment='zz') -- elapsed time sec: 1.05\n",
      "analytic_los=0 logistic=0 constant_anisotropy=1\n",
      "No PSF/pixel convolution because sigmapsf=0 pixsize=0\n",
      "inc=61.6; beta[0]=0.0; kappa=1.00; M/L=1.00; BH=0.0; chi2/DOF=nan\n",
      "Total mass MGE (MSun): 4.771e+13\n",
      "\n",
      "sigma_e: 212.79 km/s\n"
     ]
    },
    {
     "name": "stdout",
     "output_type": "stream",
     "text": [
      "jam_axi_proj(align='sph', moment='zz') -- elapsed time sec: 1.05\n",
      "analytic_los=0 logistic=0 constant_anisotropy=1\n",
      "No PSF/pixel convolution because sigmapsf=0 pixsize=0\n",
      "inc=59.0; beta[0]=0.0; kappa=1.00; M/L=1.00; BH=0.0; chi2/DOF=nan\n",
      "Total mass MGE (MSun): 4.771e+13\n",
      "\n",
      "sigma_e: 213.25 km/s\n"
     ]
    },
    {
     "name": "stdout",
     "output_type": "stream",
     "text": [
      "jam_axi_proj(align='sph', moment='zz') -- elapsed time sec: 1.02\n",
      "analytic_los=0 logistic=0 constant_anisotropy=1\n",
      "No PSF/pixel convolution because sigmapsf=0 pixsize=0\n",
      "inc=82.0; beta[0]=0.0; kappa=1.00; M/L=1.00; BH=0.0; chi2/DOF=nan\n",
      "Total mass MGE (MSun): 4.771e+13\n",
      "\n",
      "sigma_e: 210.44 km/s\n"
     ]
    },
    {
     "name": "stdout",
     "output_type": "stream",
     "text": [
      "jam_axi_proj(align='sph', moment='zz') -- elapsed time sec: 0.97\n",
      "analytic_los=0 logistic=0 constant_anisotropy=1\n",
      "No PSF/pixel convolution because sigmapsf=0 pixsize=0\n",
      "inc=58.1; beta[0]=0.0; kappa=1.00; M/L=1.00; BH=0.0; chi2/DOF=nan\n",
      "Total mass MGE (MSun): 4.771e+13\n",
      "\n",
      "sigma_e: 227.19 km/s\n"
     ]
    },
    {
     "name": "stdout",
     "output_type": "stream",
     "text": [
      "jam_axi_proj(align='sph', moment='zz') -- elapsed time sec: 1.02\n",
      "analytic_los=0 logistic=0 constant_anisotropy=1\n",
      "No PSF/pixel convolution because sigmapsf=0 pixsize=0\n",
      "inc=31.3; beta[0]=0.0; kappa=1.00; M/L=1.00; BH=0.0; chi2/DOF=nan\n",
      "Total mass MGE (MSun): 4.771e+13\n",
      "\n",
      "sigma_e: 228.59 km/s\n"
     ]
    },
    {
     "name": "stdout",
     "output_type": "stream",
     "text": [
      "jam_axi_proj(align='sph', moment='zz') -- elapsed time sec: 0.87\n",
      "analytic_los=0 logistic=0 constant_anisotropy=1\n",
      "No PSF/pixel convolution because sigmapsf=0 pixsize=0\n",
      "inc=10.8; beta[0]=0.0; kappa=1.00; M/L=1.00; BH=0.0; chi2/DOF=nan\n",
      "Total mass MGE (MSun): 6.026e+13\n",
      "\n",
      "sigma_e: 235.87 km/s\n"
     ]
    },
    {
     "name": "stdout",
     "output_type": "stream",
     "text": [
      "jam_axi_proj(align='sph', moment='zz') -- elapsed time sec: 0.96\n",
      "analytic_los=0 logistic=0 constant_anisotropy=1\n",
      "No PSF/pixel convolution because sigmapsf=0 pixsize=0\n",
      "inc=36.1; beta[0]=0.0; kappa=1.00; M/L=1.00; BH=0.0; chi2/DOF=nan\n",
      "Total mass MGE (MSun): 6.026e+13\n",
      "\n",
      "sigma_e: 230.96 km/s\n"
     ]
    },
    {
     "name": "stdout",
     "output_type": "stream",
     "text": [
      "jam_axi_proj(align='sph', moment='zz') -- elapsed time sec: 0.94\n",
      "analytic_los=0 logistic=0 constant_anisotropy=1\n",
      "No PSF/pixel convolution because sigmapsf=0 pixsize=0\n",
      "inc=28.0; beta[0]=0.0; kappa=1.00; M/L=1.00; BH=0.0; chi2/DOF=nan\n",
      "Total mass MGE (MSun): 6.026e+13\n",
      "\n",
      "sigma_e: 233.72 km/s\n"
     ]
    },
    {
     "name": "stdout",
     "output_type": "stream",
     "text": [
      "jam_axi_proj(align='sph', moment='zz') -- elapsed time sec: 0.87\n",
      "analytic_los=0 logistic=0 constant_anisotropy=1\n",
      "No PSF/pixel convolution because sigmapsf=0 pixsize=0\n",
      "inc=48.3; beta[0]=0.0; kappa=1.00; M/L=1.00; BH=0.0; chi2/DOF=nan\n",
      "Total mass MGE (MSun): 6.026e+13\n",
      "\n",
      "sigma_e: 229.67 km/s\n"
     ]
    },
    {
     "name": "stdout",
     "output_type": "stream",
     "text": [
      "jam_axi_proj(align='sph', moment='zz') -- elapsed time sec: 0.97\n",
      "analytic_los=0 logistic=0 constant_anisotropy=1\n",
      "No PSF/pixel convolution because sigmapsf=0 pixsize=0\n",
      "inc=36.6; beta[0]=0.0; kappa=1.00; M/L=1.00; BH=0.0; chi2/DOF=nan\n",
      "Total mass MGE (MSun): 6.026e+13\n",
      "\n",
      "sigma_e: 231.23 km/s\n"
     ]
    },
    {
     "name": "stdout",
     "output_type": "stream",
     "text": [
      "jam_axi_proj(align='sph', moment='zz') -- elapsed time sec: 0.96\n",
      "analytic_los=0 logistic=0 constant_anisotropy=1\n",
      "No PSF/pixel convolution because sigmapsf=0 pixsize=0\n",
      "inc=39.0; beta[0]=0.0; kappa=1.00; M/L=1.00; BH=0.0; chi2/DOF=nan\n",
      "Total mass MGE (MSun): 6.026e+13\n",
      "\n",
      "sigma_e: 230.84 km/s\n"
     ]
    },
    {
     "name": "stdout",
     "output_type": "stream",
     "text": [
      "jam_axi_proj(align='sph', moment='zz') -- elapsed time sec: 0.88\n",
      "analytic_los=0 logistic=0 constant_anisotropy=1\n",
      "No PSF/pixel convolution because sigmapsf=0 pixsize=0\n",
      "inc=37.2; beta[0]=0.0; kappa=1.00; M/L=1.00; BH=0.0; chi2/DOF=nan\n",
      "Total mass MGE (MSun): 6.026e+13\n",
      "\n",
      "sigma_e: 232.56 km/s\n"
     ]
    },
    {
     "name": "stdout",
     "output_type": "stream",
     "text": [
      "jam_axi_proj(align='sph', moment='zz') -- elapsed time sec: 0.92\n",
      "analytic_los=0 logistic=0 constant_anisotropy=1\n",
      "No PSF/pixel convolution because sigmapsf=0 pixsize=0\n",
      "inc=29.4; beta[0]=0.0; kappa=1.00; M/L=1.00; BH=0.0; chi2/DOF=nan\n",
      "Total mass MGE (MSun): 6.026e+13\n",
      "\n",
      "sigma_e: 233.94 km/s\n"
     ]
    },
    {
     "name": "stdout",
     "output_type": "stream",
     "text": [
      "jam_axi_proj(align='sph', moment='zz') -- elapsed time sec: 0.81\n",
      "analytic_los=0 logistic=0 constant_anisotropy=1\n",
      "No PSF/pixel convolution because sigmapsf=0 pixsize=0\n",
      "inc=10.0; beta[0]=0.0; kappa=1.00; M/L=1.00; BH=0.0; chi2/DOF=nan\n",
      "Total mass MGE (MSun): 6.026e+13\n",
      "\n",
      "sigma_e: 234.67 km/s\n"
     ]
    },
    {
     "name": "stdout",
     "output_type": "stream",
     "text": [
      "jam_axi_proj(align='sph', moment='zz') -- elapsed time sec: 0.88\n",
      "analytic_los=0 logistic=0 constant_anisotropy=1\n",
      "No PSF/pixel convolution because sigmapsf=0 pixsize=0\n",
      "inc=20.4; beta[0]=0.0; kappa=1.00; M/L=1.00; BH=0.0; chi2/DOF=nan\n",
      "Total mass MGE (MSun): 6.026e+13\n",
      "\n",
      "sigma_e: 234.75 km/s\n"
     ]
    },
    {
     "name": "stdout",
     "output_type": "stream",
     "text": [
      "jam_axi_proj(align='sph', moment='zz') -- elapsed time sec: 1.02\n",
      "analytic_los=0 logistic=0 constant_anisotropy=1\n",
      "No PSF/pixel convolution because sigmapsf=0 pixsize=0\n",
      "inc=59.5; beta[0]=0.0; kappa=1.00; M/L=1.00; BH=0.0; chi2/DOF=nan\n",
      "Total mass MGE (MSun): 8.449e+12\n",
      "\n",
      "sigma_e: 139.65 km/s\n"
     ]
    },
    {
     "name": "stdout",
     "output_type": "stream",
     "text": [
      "jam_axi_proj(align='sph', moment='zz') -- elapsed time sec: 0.95\n",
      "analytic_los=0 logistic=0 constant_anisotropy=1\n",
      "No PSF/pixel convolution because sigmapsf=0 pixsize=0\n",
      "inc=63.3; beta[0]=0.0; kappa=1.00; M/L=1.00; BH=0.0; chi2/DOF=nan\n",
      "Total mass MGE (MSun): 8.449e+12\n",
      "\n",
      "sigma_e: 143.02 km/s\n"
     ]
    },
    {
     "name": "stdout",
     "output_type": "stream",
     "text": [
      "jam_axi_proj(align='sph', moment='zz') -- elapsed time sec: 0.92\n",
      "analytic_los=0 logistic=0 constant_anisotropy=1\n",
      "No PSF/pixel convolution because sigmapsf=0 pixsize=0\n",
      "inc=78.7; beta[0]=0.0; kappa=1.00; M/L=1.00; BH=0.0; chi2/DOF=nan\n",
      "Total mass MGE (MSun): 8.449e+12\n",
      "\n",
      "sigma_e: 139.88 km/s\n"
     ]
    },
    {
     "name": "stdout",
     "output_type": "stream",
     "text": [
      "jam_axi_proj(align='sph', moment='zz') -- elapsed time sec: 0.95\n",
      "analytic_los=0 logistic=0 constant_anisotropy=1\n",
      "No PSF/pixel convolution because sigmapsf=0 pixsize=0\n",
      "inc=86.5; beta[0]=0.0; kappa=1.00; M/L=1.00; BH=0.0; chi2/DOF=nan\n",
      "Total mass MGE (MSun): 8.449e+12\n",
      "\n",
      "sigma_e: 134.78 km/s\n"
     ]
    },
    {
     "name": "stdout",
     "output_type": "stream",
     "text": [
      "jam_axi_proj(align='sph', moment='zz') -- elapsed time sec: 0.97\n",
      "analytic_los=0 logistic=0 constant_anisotropy=1\n",
      "No PSF/pixel convolution because sigmapsf=0 pixsize=0\n",
      "inc=73.4; beta[0]=0.0; kappa=1.00; M/L=1.00; BH=0.0; chi2/DOF=nan\n",
      "Total mass MGE (MSun): 8.449e+12\n",
      "\n",
      "sigma_e: 136.14 km/s\n"
     ]
    },
    {
     "name": "stdout",
     "output_type": "stream",
     "text": [
      "jam_axi_proj(align='sph', moment='zz') -- elapsed time sec: 0.96\n",
      "analytic_los=0 logistic=0 constant_anisotropy=1\n",
      "No PSF/pixel convolution because sigmapsf=0 pixsize=0\n",
      "inc=66.4; beta[0]=0.0; kappa=1.00; M/L=1.00; BH=0.0; chi2/DOF=nan\n",
      "Total mass MGE (MSun): 8.449e+12\n",
      "\n",
      "sigma_e: 137.26 km/s\n"
     ]
    },
    {
     "name": "stdout",
     "output_type": "stream",
     "text": [
      "jam_axi_proj(align='sph', moment='zz') -- elapsed time sec: 0.92\n",
      "analytic_los=0 logistic=0 constant_anisotropy=1\n",
      "No PSF/pixel convolution because sigmapsf=0 pixsize=0\n",
      "inc=62.8; beta[0]=0.0; kappa=1.00; M/L=1.00; BH=0.0; chi2/DOF=nan\n",
      "Total mass MGE (MSun): 8.449e+12\n",
      "\n",
      "sigma_e: 145.24 km/s\n"
     ]
    },
    {
     "name": "stdout",
     "output_type": "stream",
     "text": [
      "jam_axi_proj(align='sph', moment='zz') -- elapsed time sec: 0.93\n",
      "analytic_los=0 logistic=0 constant_anisotropy=1\n",
      "No PSF/pixel convolution because sigmapsf=0 pixsize=0\n",
      "inc=77.0; beta[0]=0.0; kappa=1.00; M/L=1.00; BH=0.0; chi2/DOF=nan\n",
      "Total mass MGE (MSun): 8.449e+12\n",
      "\n",
      "sigma_e: 136.43 km/s\n"
     ]
    },
    {
     "name": "stdout",
     "output_type": "stream",
     "text": [
      "jam_axi_proj(align='sph', moment='zz') -- elapsed time sec: 0.99\n",
      "analytic_los=0 logistic=0 constant_anisotropy=1\n",
      "No PSF/pixel convolution because sigmapsf=0 pixsize=0\n",
      "inc=66.2; beta[0]=0.0; kappa=1.00; M/L=1.00; BH=0.0; chi2/DOF=nan\n",
      "Total mass MGE (MSun): 8.449e+12\n",
      "\n",
      "sigma_e: 140.97 km/s\n"
     ]
    },
    {
     "name": "stdout",
     "output_type": "stream",
     "text": [
      "jam_axi_proj(align='sph', moment='zz') -- elapsed time sec: 0.99\n",
      "analytic_los=0 logistic=0 constant_anisotropy=1\n",
      "No PSF/pixel convolution because sigmapsf=0 pixsize=0\n",
      "inc=81.8; beta[0]=0.0; kappa=1.00; M/L=1.00; BH=0.0; chi2/DOF=nan\n",
      "Total mass MGE (MSun): 8.449e+12\n",
      "\n",
      "sigma_e: 134.60 km/s\n"
     ]
    },
    {
     "name": "stdout",
     "output_type": "stream",
     "text": [
      "jam_axi_proj(align='sph', moment='zz') -- elapsed time sec: 0.98\n",
      "analytic_los=0 logistic=0 constant_anisotropy=1\n",
      "No PSF/pixel convolution because sigmapsf=0 pixsize=0\n",
      "inc=84.3; beta[0]=0.0; kappa=1.00; M/L=1.00; BH=0.0; chi2/DOF=nan\n",
      "Total mass MGE (MSun): 3.920e+13\n",
      "\n",
      "sigma_e: 201.38 km/s\n"
     ]
    },
    {
     "name": "stdout",
     "output_type": "stream",
     "text": [
      "jam_axi_proj(align='sph', moment='zz') -- elapsed time sec: 0.98\n",
      "analytic_los=0 logistic=0 constant_anisotropy=1\n",
      "No PSF/pixel convolution because sigmapsf=0 pixsize=0\n",
      "inc=69.7; beta[0]=0.0; kappa=1.00; M/L=1.00; BH=0.0; chi2/DOF=nan\n",
      "Total mass MGE (MSun): 3.920e+13\n",
      "\n",
      "sigma_e: 206.27 km/s\n"
     ]
    },
    {
     "name": "stdout",
     "output_type": "stream",
     "text": [
      "jam_axi_proj(align='sph', moment='zz') -- elapsed time sec: 0.92\n",
      "analytic_los=0 logistic=0 constant_anisotropy=1\n",
      "No PSF/pixel convolution because sigmapsf=0 pixsize=0\n",
      "inc=40.0; beta[0]=0.0; kappa=1.00; M/L=1.00; BH=0.0; chi2/DOF=nan\n",
      "Total mass MGE (MSun): 3.920e+13\n",
      "\n",
      "sigma_e: 218.62 km/s\n"
     ]
    },
    {
     "name": "stdout",
     "output_type": "stream",
     "text": [
      "jam_axi_proj(align='sph', moment='zz') -- elapsed time sec: 0.98\n",
      "analytic_los=0 logistic=0 constant_anisotropy=1\n",
      "No PSF/pixel convolution because sigmapsf=0 pixsize=0\n",
      "inc=50.0; beta[0]=0.0; kappa=1.00; M/L=1.00; BH=0.0; chi2/DOF=nan\n",
      "Total mass MGE (MSun): 3.920e+13\n",
      "\n",
      "sigma_e: 214.48 km/s\n"
     ]
    },
    {
     "name": "stdout",
     "output_type": "stream",
     "text": [
      "jam_axi_proj(align='sph', moment='zz') -- elapsed time sec: 1.00\n",
      "analytic_los=0 logistic=0 constant_anisotropy=1\n",
      "No PSF/pixel convolution because sigmapsf=0 pixsize=0\n",
      "inc=51.9; beta[0]=0.0; kappa=1.00; M/L=1.00; BH=0.0; chi2/DOF=nan\n",
      "Total mass MGE (MSun): 3.920e+13\n",
      "\n",
      "sigma_e: 207.69 km/s\n"
     ]
    },
    {
     "name": "stdout",
     "output_type": "stream",
     "text": [
      "jam_axi_proj(align='sph', moment='zz') -- elapsed time sec: 1.00\n",
      "analytic_los=0 logistic=0 constant_anisotropy=1\n",
      "No PSF/pixel convolution because sigmapsf=0 pixsize=0\n",
      "inc=79.8; beta[0]=0.0; kappa=1.00; M/L=1.00; BH=0.0; chi2/DOF=nan\n",
      "Total mass MGE (MSun): 3.920e+13\n",
      "\n",
      "sigma_e: 199.92 km/s\n"
     ]
    },
    {
     "name": "stdout",
     "output_type": "stream",
     "text": [
      "jam_axi_proj(align='sph', moment='zz') -- elapsed time sec: 0.99\n",
      "analytic_los=0 logistic=0 constant_anisotropy=1\n",
      "No PSF/pixel convolution because sigmapsf=0 pixsize=0\n",
      "inc=46.1; beta[0]=0.0; kappa=1.00; M/L=1.00; BH=0.0; chi2/DOF=nan\n",
      "Total mass MGE (MSun): 3.920e+13\n",
      "\n",
      "sigma_e: 215.14 km/s\n"
     ]
    },
    {
     "name": "stdout",
     "output_type": "stream",
     "text": [
      "jam_axi_proj(align='sph', moment='zz') -- elapsed time sec: 1.01\n",
      "analytic_los=0 logistic=0 constant_anisotropy=1\n",
      "No PSF/pixel convolution because sigmapsf=0 pixsize=0\n",
      "inc=48.5; beta[0]=0.0; kappa=1.00; M/L=1.00; BH=0.0; chi2/DOF=nan\n",
      "Total mass MGE (MSun): 3.920e+13\n",
      "\n",
      "sigma_e: 209.84 km/s\n"
     ]
    },
    {
     "name": "stdout",
     "output_type": "stream",
     "text": [
      "jam_axi_proj(align='sph', moment='zz') -- elapsed time sec: 0.99\n",
      "analytic_los=0 logistic=0 constant_anisotropy=1\n",
      "No PSF/pixel convolution because sigmapsf=0 pixsize=0\n",
      "inc=13.0; beta[0]=0.0; kappa=1.00; M/L=1.00; BH=0.0; chi2/DOF=nan\n",
      "Total mass MGE (MSun): 3.920e+13\n",
      "\n",
      "sigma_e: 219.99 km/s\n"
     ]
    },
    {
     "name": "stdout",
     "output_type": "stream",
     "text": [
      "jam_axi_proj(align='sph', moment='zz') -- elapsed time sec: 1.00\n",
      "analytic_los=0 logistic=0 constant_anisotropy=1\n",
      "No PSF/pixel convolution because sigmapsf=0 pixsize=0\n",
      "inc=59.2; beta[0]=0.0; kappa=1.00; M/L=1.00; BH=0.0; chi2/DOF=nan\n",
      "Total mass MGE (MSun): 3.920e+13\n",
      "\n",
      "sigma_e: 205.86 km/s\n"
     ]
    },
    {
     "name": "stdout",
     "output_type": "stream",
     "text": [
      "jam_axi_proj(align='sph', moment='zz') -- elapsed time sec: 0.99\n",
      "analytic_los=0 logistic=0 constant_anisotropy=1\n",
      "No PSF/pixel convolution because sigmapsf=0 pixsize=0\n",
      "inc=58.6; beta[0]=0.0; kappa=1.00; M/L=1.00; BH=0.0; chi2/DOF=nan\n",
      "Total mass MGE (MSun): 1.998e+13\n",
      "\n",
      "sigma_e: 181.83 km/s\n"
     ]
    },
    {
     "name": "stdout",
     "output_type": "stream",
     "text": [
      "jam_axi_proj(align='sph', moment='zz') -- elapsed time sec: 1.02\n",
      "analytic_los=0 logistic=0 constant_anisotropy=1\n",
      "No PSF/pixel convolution because sigmapsf=0 pixsize=0\n",
      "inc=63.1; beta[0]=0.0; kappa=1.00; M/L=1.00; BH=0.0; chi2/DOF=nan\n",
      "Total mass MGE (MSun): 1.998e+13\n",
      "\n",
      "sigma_e: 183.52 km/s\n"
     ]
    },
    {
     "name": "stdout",
     "output_type": "stream",
     "text": [
      "jam_axi_proj(align='sph', moment='zz') -- elapsed time sec: 1.07\n",
      "analytic_los=0 logistic=0 constant_anisotropy=1\n",
      "No PSF/pixel convolution because sigmapsf=0 pixsize=0\n",
      "inc=75.0; beta[0]=0.0; kappa=1.00; M/L=1.00; BH=0.0; chi2/DOF=nan\n",
      "Total mass MGE (MSun): 1.998e+13\n",
      "\n",
      "sigma_e: 175.93 km/s\n"
     ]
    },
    {
     "name": "stdout",
     "output_type": "stream",
     "text": [
      "jam_axi_proj(align='sph', moment='zz') -- elapsed time sec: 0.99\n",
      "analytic_los=0 logistic=0 constant_anisotropy=1\n",
      "No PSF/pixel convolution because sigmapsf=0 pixsize=0\n",
      "inc=80.8; beta[0]=0.0; kappa=1.00; M/L=1.00; BH=0.0; chi2/DOF=nan\n",
      "Total mass MGE (MSun): 1.998e+13\n",
      "\n",
      "sigma_e: 163.79 km/s\n"
     ]
    },
    {
     "name": "stdout",
     "output_type": "stream",
     "text": [
      "jam_axi_proj(align='sph', moment='zz') -- elapsed time sec: 0.99\n",
      "analytic_los=0 logistic=0 constant_anisotropy=1\n",
      "No PSF/pixel convolution because sigmapsf=0 pixsize=0\n",
      "inc=48.8; beta[0]=0.0; kappa=1.00; M/L=1.00; BH=0.0; chi2/DOF=nan\n",
      "Total mass MGE (MSun): 1.998e+13\n",
      "\n",
      "sigma_e: 186.49 km/s\n"
     ]
    },
    {
     "name": "stdout",
     "output_type": "stream",
     "text": [
      "jam_axi_proj(align='sph', moment='zz') -- elapsed time sec: 1.00\n",
      "analytic_los=0 logistic=0 constant_anisotropy=1\n",
      "No PSF/pixel convolution because sigmapsf=0 pixsize=0\n",
      "inc=76.1; beta[0]=0.0; kappa=1.00; M/L=1.00; BH=0.0; chi2/DOF=nan\n",
      "Total mass MGE (MSun): 1.998e+13\n",
      "\n",
      "sigma_e: 171.75 km/s\n"
     ]
    },
    {
     "name": "stdout",
     "output_type": "stream",
     "text": [
      "jam_axi_proj(align='sph', moment='zz') -- elapsed time sec: 1.01\n",
      "analytic_los=0 logistic=0 constant_anisotropy=1\n",
      "No PSF/pixel convolution because sigmapsf=0 pixsize=0\n",
      "inc=71.0; beta[0]=0.0; kappa=1.00; M/L=1.00; BH=0.0; chi2/DOF=nan\n",
      "Total mass MGE (MSun): 1.998e+13\n",
      "\n",
      "sigma_e: 169.30 km/s\n"
     ]
    },
    {
     "name": "stdout",
     "output_type": "stream",
     "text": [
      "jam_axi_proj(align='sph', moment='zz') -- elapsed time sec: 0.93\n",
      "analytic_los=0 logistic=0 constant_anisotropy=1\n",
      "No PSF/pixel convolution because sigmapsf=0 pixsize=0\n",
      "inc=32.6; beta[0]=0.0; kappa=1.00; M/L=1.00; BH=0.0; chi2/DOF=nan\n",
      "Total mass MGE (MSun): 1.998e+13\n",
      "\n",
      "sigma_e: 189.00 km/s\n"
     ]
    },
    {
     "name": "stdout",
     "output_type": "stream",
     "text": [
      "jam_axi_proj(align='sph', moment='zz') -- elapsed time sec: 1.00\n",
      "analytic_los=0 logistic=0 constant_anisotropy=1\n",
      "No PSF/pixel convolution because sigmapsf=0 pixsize=0\n",
      "inc=80.8; beta[0]=0.0; kappa=1.00; M/L=1.00; BH=0.0; chi2/DOF=nan\n",
      "Total mass MGE (MSun): 1.998e+13\n",
      "\n",
      "sigma_e: 166.01 km/s\n"
     ]
    },
    {
     "name": "stdout",
     "output_type": "stream",
     "text": [
      "jam_axi_proj(align='sph', moment='zz') -- elapsed time sec: 0.85\n",
      "analytic_los=0 logistic=0 constant_anisotropy=1\n",
      "No PSF/pixel convolution because sigmapsf=0 pixsize=0\n",
      "inc=84.6; beta[0]=0.0; kappa=1.00; M/L=1.00; BH=0.0; chi2/DOF=nan\n",
      "Total mass MGE (MSun): 1.998e+13\n",
      "\n",
      "sigma_e: 183.29 km/s\n"
     ]
    },
    {
     "name": "stdout",
     "output_type": "stream",
     "text": [
      "jam_axi_proj(align='sph', moment='zz') -- elapsed time sec: 0.93\n",
      "analytic_los=0 logistic=0 constant_anisotropy=1\n",
      "No PSF/pixel convolution because sigmapsf=0 pixsize=0\n",
      "inc=73.5; beta[0]=0.0; kappa=1.00; M/L=1.00; BH=0.0; chi2/DOF=nan\n",
      "Total mass MGE (MSun): 4.386e+13\n",
      "\n",
      "sigma_e: 213.52 km/s\n"
     ]
    },
    {
     "name": "stdout",
     "output_type": "stream",
     "text": [
      "jam_axi_proj(align='sph', moment='zz') -- elapsed time sec: 0.93\n",
      "analytic_los=0 logistic=0 constant_anisotropy=1\n",
      "No PSF/pixel convolution because sigmapsf=0 pixsize=0\n",
      "inc=67.3; beta[0]=0.0; kappa=1.00; M/L=1.00; BH=0.0; chi2/DOF=nan\n",
      "Total mass MGE (MSun): 4.386e+13\n",
      "\n",
      "sigma_e: 208.80 km/s\n"
     ]
    },
    {
     "name": "stdout",
     "output_type": "stream",
     "text": [
      "jam_axi_proj(align='sph', moment='zz') -- elapsed time sec: 0.96\n",
      "analytic_los=0 logistic=0 constant_anisotropy=1\n",
      "No PSF/pixel convolution because sigmapsf=0 pixsize=0\n",
      "inc=84.5; beta[0]=0.0; kappa=1.00; M/L=1.00; BH=0.0; chi2/DOF=nan\n",
      "Total mass MGE (MSun): 4.386e+13\n",
      "\n",
      "sigma_e: 210.87 km/s\n"
     ]
    },
    {
     "name": "stdout",
     "output_type": "stream",
     "text": [
      "jam_axi_proj(align='sph', moment='zz') -- elapsed time sec: 0.97\n",
      "analytic_los=0 logistic=0 constant_anisotropy=1\n",
      "No PSF/pixel convolution because sigmapsf=0 pixsize=0\n",
      "inc=89.2; beta[0]=0.0; kappa=1.00; M/L=1.00; BH=0.0; chi2/DOF=nan\n",
      "Total mass MGE (MSun): 4.386e+13\n",
      "\n",
      "sigma_e: 213.49 km/s\n"
     ]
    },
    {
     "name": "stdout",
     "output_type": "stream",
     "text": [
      "jam_axi_proj(align='sph', moment='zz') -- elapsed time sec: 1.00\n",
      "analytic_los=0 logistic=0 constant_anisotropy=1\n",
      "No PSF/pixel convolution because sigmapsf=0 pixsize=0\n",
      "inc=36.1; beta[0]=0.0; kappa=1.00; M/L=1.00; BH=0.0; chi2/DOF=nan\n",
      "Total mass MGE (MSun): 4.386e+13\n",
      "\n",
      "sigma_e: 226.87 km/s\n"
     ]
    },
    {
     "name": "stdout",
     "output_type": "stream",
     "text": [
      "jam_axi_proj(align='sph', moment='zz') -- elapsed time sec: 0.99\n",
      "analytic_los=0 logistic=0 constant_anisotropy=1\n",
      "No PSF/pixel convolution because sigmapsf=0 pixsize=0\n",
      "inc=57.3; beta[0]=0.0; kappa=1.00; M/L=1.00; BH=0.0; chi2/DOF=nan\n",
      "Total mass MGE (MSun): 4.386e+13\n",
      "\n",
      "sigma_e: 216.57 km/s\n"
     ]
    },
    {
     "name": "stdout",
     "output_type": "stream",
     "text": [
      "jam_axi_proj(align='sph', moment='zz') -- elapsed time sec: 0.96\n",
      "analytic_los=0 logistic=0 constant_anisotropy=1\n",
      "No PSF/pixel convolution because sigmapsf=0 pixsize=0\n",
      "inc=63.1; beta[0]=0.0; kappa=1.00; M/L=1.00; BH=0.0; chi2/DOF=nan\n",
      "Total mass MGE (MSun): 4.386e+13\n",
      "\n",
      "sigma_e: 208.99 km/s\n"
     ]
    },
    {
     "name": "stdout",
     "output_type": "stream",
     "text": [
      "jam_axi_proj(align='sph', moment='zz') -- elapsed time sec: 0.98\n",
      "analytic_los=0 logistic=0 constant_anisotropy=1\n",
      "No PSF/pixel convolution because sigmapsf=0 pixsize=0\n",
      "inc=55.6; beta[0]=0.0; kappa=1.00; M/L=1.00; BH=0.0; chi2/DOF=nan\n",
      "Total mass MGE (MSun): 4.386e+13\n",
      "\n",
      "sigma_e: 219.63 km/s\n"
     ]
    },
    {
     "name": "stdout",
     "output_type": "stream",
     "text": [
      "jam_axi_proj(align='sph', moment='zz') -- elapsed time sec: 1.00\n",
      "analytic_los=0 logistic=0 constant_anisotropy=1\n",
      "No PSF/pixel convolution because sigmapsf=0 pixsize=0\n",
      "inc=60.2; beta[0]=0.0; kappa=1.00; M/L=1.00; BH=0.0; chi2/DOF=nan\n",
      "Total mass MGE (MSun): 4.386e+13\n",
      "\n",
      "sigma_e: 213.72 km/s\n"
     ]
    },
    {
     "name": "stdout",
     "output_type": "stream",
     "text": [
      "jam_axi_proj(align='sph', moment='zz') -- elapsed time sec: 0.95\n",
      "analytic_los=0 logistic=0 constant_anisotropy=1\n",
      "No PSF/pixel convolution because sigmapsf=0 pixsize=0\n",
      "inc=28.0; beta[0]=0.0; kappa=1.00; M/L=1.00; BH=0.0; chi2/DOF=nan\n",
      "Total mass MGE (MSun): 4.386e+13\n",
      "\n",
      "sigma_e: 221.69 km/s\n"
     ]
    },
    {
     "name": "stdout",
     "output_type": "stream",
     "text": [
      "jam_axi_proj(align='sph', moment='zz') -- elapsed time sec: 0.92\n",
      "analytic_los=0 logistic=0 constant_anisotropy=1\n",
      "No PSF/pixel convolution because sigmapsf=0 pixsize=0\n",
      "inc=29.5; beta[0]=0.0; kappa=1.00; M/L=1.00; BH=0.0; chi2/DOF=nan\n",
      "Total mass MGE (MSun): 1.836e+13\n",
      "\n",
      "sigma_e: 184.30 km/s\n"
     ]
    },
    {
     "name": "stdout",
     "output_type": "stream",
     "text": [
      "jam_axi_proj(align='sph', moment='zz') -- elapsed time sec: 0.98\n",
      "analytic_los=0 logistic=0 constant_anisotropy=1\n",
      "No PSF/pixel convolution because sigmapsf=0 pixsize=0\n",
      "inc=73.4; beta[0]=0.0; kappa=1.00; M/L=1.00; BH=0.0; chi2/DOF=nan\n",
      "Total mass MGE (MSun): 1.836e+13\n",
      "\n",
      "sigma_e: 167.33 km/s\n"
     ]
    },
    {
     "name": "stdout",
     "output_type": "stream",
     "text": [
      "jam_axi_proj(align='sph', moment='zz') -- elapsed time sec: 0.98\n",
      "analytic_los=0 logistic=0 constant_anisotropy=1\n",
      "No PSF/pixel convolution because sigmapsf=0 pixsize=0\n",
      "inc=74.2; beta[0]=0.0; kappa=1.00; M/L=1.00; BH=0.0; chi2/DOF=nan\n",
      "Total mass MGE (MSun): 1.836e+13\n",
      "\n",
      "sigma_e: 164.71 km/s\n"
     ]
    },
    {
     "name": "stdout",
     "output_type": "stream",
     "text": [
      "jam_axi_proj(align='sph', moment='zz') -- elapsed time sec: 0.95\n",
      "analytic_los=0 logistic=0 constant_anisotropy=1\n",
      "No PSF/pixel convolution because sigmapsf=0 pixsize=0\n",
      "inc=39.7; beta[0]=0.0; kappa=1.00; M/L=1.00; BH=0.0; chi2/DOF=nan\n",
      "Total mass MGE (MSun): 1.836e+13\n",
      "\n",
      "sigma_e: 184.82 km/s\n"
     ]
    },
    {
     "name": "stdout",
     "output_type": "stream",
     "text": [
      "jam_axi_proj(align='sph', moment='zz') -- elapsed time sec: 1.06\n",
      "analytic_los=0 logistic=0 constant_anisotropy=1\n",
      "No PSF/pixel convolution because sigmapsf=0 pixsize=0\n",
      "inc=60.8; beta[0]=0.0; kappa=1.00; M/L=1.00; BH=0.0; chi2/DOF=nan\n",
      "Total mass MGE (MSun): 1.836e+13\n",
      "\n",
      "sigma_e: 170.03 km/s\n"
     ]
    },
    {
     "name": "stdout",
     "output_type": "stream",
     "text": [
      "jam_axi_proj(align='sph', moment='zz') -- elapsed time sec: 1.04\n",
      "analytic_los=0 logistic=0 constant_anisotropy=1\n",
      "No PSF/pixel convolution because sigmapsf=0 pixsize=0\n",
      "inc=69.8; beta[0]=0.0; kappa=1.00; M/L=1.00; BH=0.0; chi2/DOF=nan\n",
      "Total mass MGE (MSun): 1.836e+13\n",
      "\n",
      "sigma_e: 166.01 km/s\n"
     ]
    },
    {
     "name": "stdout",
     "output_type": "stream",
     "text": [
      "jam_axi_proj(align='sph', moment='zz') -- elapsed time sec: 0.96\n",
      "analytic_los=0 logistic=0 constant_anisotropy=1\n",
      "No PSF/pixel convolution because sigmapsf=0 pixsize=0\n",
      "inc=82.5; beta[0]=0.0; kappa=1.00; M/L=1.00; BH=0.0; chi2/DOF=nan\n",
      "Total mass MGE (MSun): 1.836e+13\n",
      "\n",
      "sigma_e: 169.03 km/s\n"
     ]
    },
    {
     "name": "stdout",
     "output_type": "stream",
     "text": [
      "jam_axi_proj(align='sph', moment='zz') -- elapsed time sec: 0.95\n",
      "analytic_los=0 logistic=0 constant_anisotropy=1\n",
      "No PSF/pixel convolution because sigmapsf=0 pixsize=0\n",
      "inc=61.4; beta[0]=0.0; kappa=1.00; M/L=1.00; BH=0.0; chi2/DOF=nan\n",
      "Total mass MGE (MSun): 1.836e+13\n",
      "\n",
      "sigma_e: 178.71 km/s\n"
     ]
    },
    {
     "name": "stdout",
     "output_type": "stream",
     "text": [
      "jam_axi_proj(align='sph', moment='zz') -- elapsed time sec: 0.97\n",
      "analytic_los=0 logistic=0 constant_anisotropy=1\n",
      "No PSF/pixel convolution because sigmapsf=0 pixsize=0\n",
      "inc=84.9; beta[0]=0.0; kappa=1.00; M/L=1.00; BH=0.0; chi2/DOF=nan\n",
      "Total mass MGE (MSun): 1.836e+13\n",
      "\n",
      "sigma_e: 170.63 km/s\n"
     ]
    },
    {
     "name": "stdout",
     "output_type": "stream",
     "text": [
      "jam_axi_proj(align='sph', moment='zz') -- elapsed time sec: 1.01\n",
      "analytic_los=0 logistic=0 constant_anisotropy=1\n",
      "No PSF/pixel convolution because sigmapsf=0 pixsize=0\n",
      "inc=70.3; beta[0]=0.0; kappa=1.00; M/L=1.00; BH=0.0; chi2/DOF=nan\n",
      "Total mass MGE (MSun): 1.836e+13\n",
      "\n",
      "sigma_e: 168.48 km/s\n"
     ]
    },
    {
     "name": "stdout",
     "output_type": "stream",
     "text": [
      "jam_axi_proj(align='sph', moment='zz') -- elapsed time sec: 1.03\n",
      "analytic_los=0 logistic=0 constant_anisotropy=1\n",
      "No PSF/pixel convolution because sigmapsf=0 pixsize=0\n",
      "inc=61.0; beta[0]=0.0; kappa=1.00; M/L=1.00; BH=0.0; chi2/DOF=nan\n",
      "Total mass MGE (MSun): 1.398e+14\n",
      "\n",
      "sigma_e: 281.04 km/s\n"
     ]
    },
    {
     "name": "stdout",
     "output_type": "stream",
     "text": [
      "jam_axi_proj(align='sph', moment='zz') -- elapsed time sec: 0.99\n",
      "analytic_los=0 logistic=0 constant_anisotropy=1\n",
      "No PSF/pixel convolution because sigmapsf=0 pixsize=0\n",
      "inc=46.9; beta[0]=0.0; kappa=1.00; M/L=1.00; BH=0.0; chi2/DOF=nan\n",
      "Total mass MGE (MSun): 1.398e+14\n",
      "\n",
      "sigma_e: 304.04 km/s\n"
     ]
    },
    {
     "name": "stdout",
     "output_type": "stream",
     "text": [
      "jam_axi_proj(align='sph', moment='zz') -- elapsed time sec: 0.98\n",
      "analytic_los=0 logistic=0 constant_anisotropy=1\n",
      "No PSF/pixel convolution because sigmapsf=0 pixsize=0\n",
      "inc=51.1; beta[0]=0.0; kappa=1.00; M/L=1.00; BH=0.0; chi2/DOF=nan\n",
      "Total mass MGE (MSun): 1.398e+14\n",
      "\n",
      "sigma_e: 300.67 km/s\n"
     ]
    },
    {
     "name": "stdout",
     "output_type": "stream",
     "text": [
      "jam_axi_proj(align='sph', moment='zz') -- elapsed time sec: 1.03\n",
      "analytic_los=0 logistic=0 constant_anisotropy=1\n",
      "No PSF/pixel convolution because sigmapsf=0 pixsize=0\n",
      "inc=60.4; beta[0]=0.0; kappa=1.00; M/L=1.00; BH=0.0; chi2/DOF=nan\n",
      "Total mass MGE (MSun): 1.398e+14\n",
      "\n",
      "sigma_e: 288.67 km/s\n"
     ]
    },
    {
     "name": "stdout",
     "output_type": "stream",
     "text": [
      "jam_axi_proj(align='sph', moment='zz') -- elapsed time sec: 0.92\n",
      "analytic_los=0 logistic=0 constant_anisotropy=1\n",
      "No PSF/pixel convolution because sigmapsf=0 pixsize=0\n",
      "inc=62.3; beta[0]=0.0; kappa=1.00; M/L=1.00; BH=0.0; chi2/DOF=nan\n",
      "Total mass MGE (MSun): 1.398e+14\n",
      "\n",
      "sigma_e: 301.08 km/s\n"
     ]
    },
    {
     "name": "stdout",
     "output_type": "stream",
     "text": [
      "jam_axi_proj(align='sph', moment='zz') -- elapsed time sec: 0.98\n",
      "analytic_los=0 logistic=0 constant_anisotropy=1\n",
      "No PSF/pixel convolution because sigmapsf=0 pixsize=0\n",
      "inc=79.7; beta[0]=0.0; kappa=1.00; M/L=1.00; BH=0.0; chi2/DOF=nan\n",
      "Total mass MGE (MSun): 1.398e+14\n",
      "\n",
      "sigma_e: 275.06 km/s\n"
     ]
    },
    {
     "name": "stdout",
     "output_type": "stream",
     "text": [
      "jam_axi_proj(align='sph', moment='zz') -- elapsed time sec: 0.99\n",
      "analytic_los=0 logistic=0 constant_anisotropy=1\n",
      "No PSF/pixel convolution because sigmapsf=0 pixsize=0\n",
      "inc=67.9; beta[0]=0.0; kappa=1.00; M/L=1.00; BH=0.0; chi2/DOF=nan\n",
      "Total mass MGE (MSun): 1.398e+14\n",
      "\n",
      "sigma_e: 288.86 km/s\n"
     ]
    },
    {
     "name": "stdout",
     "output_type": "stream",
     "text": [
      "jam_axi_proj(align='sph', moment='zz') -- elapsed time sec: 0.98\n",
      "analytic_los=0 logistic=0 constant_anisotropy=1\n",
      "No PSF/pixel convolution because sigmapsf=0 pixsize=0\n",
      "inc=77.6; beta[0]=0.0; kappa=1.00; M/L=1.00; BH=0.0; chi2/DOF=nan\n",
      "Total mass MGE (MSun): 1.398e+14\n",
      "\n",
      "sigma_e: 281.95 km/s\n"
     ]
    },
    {
     "name": "stdout",
     "output_type": "stream",
     "text": [
      "jam_axi_proj(align='sph', moment='zz') -- elapsed time sec: 0.84\n",
      "analytic_los=0 logistic=0 constant_anisotropy=1\n",
      "No PSF/pixel convolution because sigmapsf=0 pixsize=0\n",
      "inc=66.7; beta[0]=0.0; kappa=1.00; M/L=1.00; BH=0.0; chi2/DOF=nan\n",
      "Total mass MGE (MSun): 1.398e+14\n",
      "\n",
      "sigma_e: 300.43 km/s\n"
     ]
    },
    {
     "name": "stdout",
     "output_type": "stream",
     "text": [
      "jam_axi_proj(align='sph', moment='zz') -- elapsed time sec: 0.98\n",
      "analytic_los=0 logistic=0 constant_anisotropy=1\n",
      "No PSF/pixel convolution because sigmapsf=0 pixsize=0\n",
      "inc=54.8; beta[0]=0.0; kappa=1.00; M/L=1.00; BH=0.0; chi2/DOF=nan\n",
      "Total mass MGE (MSun): 1.398e+14\n",
      "\n",
      "sigma_e: 284.14 km/s\n"
     ]
    },
    {
     "name": "stdout",
     "output_type": "stream",
     "text": [
      "jam_axi_proj(align='sph', moment='zz') -- elapsed time sec: 0.91\n",
      "analytic_los=0 logistic=0 constant_anisotropy=1\n",
      "No PSF/pixel convolution because sigmapsf=0 pixsize=0\n",
      "inc=32.2; beta[0]=0.0; kappa=1.00; M/L=1.00; BH=0.0; chi2/DOF=nan\n",
      "Total mass MGE (MSun): 1.009e+14\n",
      "\n",
      "sigma_e: 265.44 km/s\n"
     ]
    },
    {
     "name": "stdout",
     "output_type": "stream",
     "text": [
      "jam_axi_proj(align='sph', moment='zz') -- elapsed time sec: 0.88\n",
      "analytic_los=0 logistic=0 constant_anisotropy=1\n",
      "No PSF/pixel convolution because sigmapsf=0 pixsize=0\n",
      "inc=44.0; beta[0]=0.0; kappa=1.00; M/L=1.00; BH=0.0; chi2/DOF=nan\n",
      "Total mass MGE (MSun): 1.009e+14\n",
      "\n",
      "sigma_e: 261.94 km/s\n"
     ]
    },
    {
     "name": "stdout",
     "output_type": "stream",
     "text": [
      "jam_axi_proj(align='sph', moment='zz') -- elapsed time sec: 0.88\n",
      "analytic_los=0 logistic=0 constant_anisotropy=1\n",
      "No PSF/pixel convolution because sigmapsf=0 pixsize=0\n",
      "inc=29.4; beta[0]=0.0; kappa=1.00; M/L=1.00; BH=0.0; chi2/DOF=nan\n",
      "Total mass MGE (MSun): 1.009e+14\n",
      "\n",
      "sigma_e: 265.70 km/s\n"
     ]
    },
    {
     "name": "stdout",
     "output_type": "stream",
     "text": [
      "jam_axi_proj(align='sph', moment='zz') -- elapsed time sec: 0.94\n",
      "analytic_los=0 logistic=0 constant_anisotropy=1\n",
      "No PSF/pixel convolution because sigmapsf=0 pixsize=0\n",
      "inc=33.4; beta[0]=0.0; kappa=1.00; M/L=1.00; BH=0.0; chi2/DOF=nan\n",
      "Total mass MGE (MSun): 1.009e+14\n",
      "\n",
      "sigma_e: 262.96 km/s\n"
     ]
    },
    {
     "name": "stdout",
     "output_type": "stream",
     "text": [
      "jam_axi_proj(align='sph', moment='zz') -- elapsed time sec: 0.91\n",
      "analytic_los=0 logistic=0 constant_anisotropy=1\n",
      "No PSF/pixel convolution because sigmapsf=0 pixsize=0\n",
      "inc=36.1; beta[0]=0.0; kappa=1.00; M/L=1.00; BH=0.0; chi2/DOF=nan\n",
      "Total mass MGE (MSun): 1.009e+14\n",
      "\n",
      "sigma_e: 264.79 km/s\n"
     ]
    },
    {
     "name": "stdout",
     "output_type": "stream",
     "text": [
      "jam_axi_proj(align='sph', moment='zz') -- elapsed time sec: 0.78\n",
      "analytic_los=0 logistic=0 constant_anisotropy=1\n",
      "No PSF/pixel convolution because sigmapsf=0 pixsize=0\n",
      "inc=29.7; beta[0]=0.0; kappa=1.00; M/L=1.00; BH=0.0; chi2/DOF=nan\n",
      "Total mass MGE (MSun): 1.009e+14\n",
      "\n",
      "sigma_e: 262.62 km/s\n"
     ]
    },
    {
     "name": "stdout",
     "output_type": "stream",
     "text": [
      "jam_axi_proj(align='sph', moment='zz') -- elapsed time sec: 0.89\n",
      "analytic_los=0 logistic=0 constant_anisotropy=1\n",
      "No PSF/pixel convolution because sigmapsf=0 pixsize=0\n",
      "inc=33.0; beta[0]=0.0; kappa=1.00; M/L=1.00; BH=0.0; chi2/DOF=nan\n",
      "Total mass MGE (MSun): 1.009e+14\n",
      "\n",
      "sigma_e: 262.97 km/s\n"
     ]
    },
    {
     "name": "stdout",
     "output_type": "stream",
     "text": [
      "jam_axi_proj(align='sph', moment='zz') -- elapsed time sec: 0.87\n",
      "analytic_los=0 logistic=0 constant_anisotropy=1\n",
      "No PSF/pixel convolution because sigmapsf=0 pixsize=0\n",
      "inc=17.7; beta[0]=0.0; kappa=1.00; M/L=1.00; BH=0.0; chi2/DOF=nan\n",
      "Total mass MGE (MSun): 1.009e+14\n",
      "\n",
      "sigma_e: 264.23 km/s\n"
     ]
    },
    {
     "name": "stdout",
     "output_type": "stream",
     "text": [
      "jam_axi_proj(align='sph', moment='zz') -- elapsed time sec: 0.86\n",
      "analytic_los=0 logistic=0 constant_anisotropy=1\n",
      "No PSF/pixel convolution because sigmapsf=0 pixsize=0\n",
      "inc=43.1; beta[0]=0.0; kappa=1.00; M/L=1.00; BH=0.0; chi2/DOF=nan\n",
      "Total mass MGE (MSun): 1.009e+14\n",
      "\n",
      "sigma_e: 263.45 km/s\n"
     ]
    },
    {
     "name": "stdout",
     "output_type": "stream",
     "text": [
      "jam_axi_proj(align='sph', moment='zz') -- elapsed time sec: 0.87\n",
      "analytic_los=0 logistic=0 constant_anisotropy=1\n",
      "No PSF/pixel convolution because sigmapsf=0 pixsize=0\n",
      "inc=37.7; beta[0]=0.0; kappa=1.00; M/L=1.00; BH=0.0; chi2/DOF=nan\n",
      "Total mass MGE (MSun): 1.009e+14\n",
      "\n",
      "sigma_e: 261.88 km/s\n"
     ]
    },
    {
     "name": "stdout",
     "output_type": "stream",
     "text": [
      "jam_axi_proj(align='sph', moment='zz') -- elapsed time sec: 0.93\n",
      "analytic_los=0 logistic=0 constant_anisotropy=1\n",
      "No PSF/pixel convolution because sigmapsf=0 pixsize=0\n",
      "inc=45.5; beta[0]=0.0; kappa=1.00; M/L=1.00; BH=0.0; chi2/DOF=nan\n",
      "Total mass MGE (MSun): 1.291e+13\n",
      "\n",
      "sigma_e: 158.77 km/s\n"
     ]
    },
    {
     "name": "stdout",
     "output_type": "stream",
     "text": [
      "jam_axi_proj(align='sph', moment='zz') -- elapsed time sec: 0.89\n",
      "analytic_los=0 logistic=0 constant_anisotropy=1\n",
      "No PSF/pixel convolution because sigmapsf=0 pixsize=0\n",
      "inc=52.5; beta[0]=0.0; kappa=1.00; M/L=1.00; BH=0.0; chi2/DOF=nan\n",
      "Total mass MGE (MSun): 1.291e+13\n",
      "\n",
      "sigma_e: 161.15 km/s\n"
     ]
    },
    {
     "name": "stdout",
     "output_type": "stream",
     "text": [
      "jam_axi_proj(align='sph', moment='zz') -- elapsed time sec: 0.94\n",
      "analytic_los=0 logistic=0 constant_anisotropy=1\n",
      "No PSF/pixel convolution because sigmapsf=0 pixsize=0\n",
      "inc=84.5; beta[0]=0.0; kappa=1.00; M/L=1.00; BH=0.0; chi2/DOF=nan\n",
      "Total mass MGE (MSun): 1.291e+13\n",
      "\n",
      "sigma_e: 151.25 km/s\n"
     ]
    },
    {
     "name": "stdout",
     "output_type": "stream",
     "text": [
      "jam_axi_proj(align='sph', moment='zz') -- elapsed time sec: 0.94\n",
      "analytic_los=0 logistic=0 constant_anisotropy=1\n",
      "No PSF/pixel convolution because sigmapsf=0 pixsize=0\n",
      "inc=58.3; beta[0]=0.0; kappa=1.00; M/L=1.00; BH=0.0; chi2/DOF=nan\n",
      "Total mass MGE (MSun): 1.291e+13\n",
      "\n",
      "sigma_e: 154.90 km/s\n"
     ]
    },
    {
     "name": "stdout",
     "output_type": "stream",
     "text": [
      "jam_axi_proj(align='sph', moment='zz') -- elapsed time sec: 1.00\n",
      "analytic_los=0 logistic=0 constant_anisotropy=1\n",
      "No PSF/pixel convolution because sigmapsf=0 pixsize=0\n",
      "inc=76.1; beta[0]=0.0; kappa=1.00; M/L=1.00; BH=0.0; chi2/DOF=nan\n",
      "Total mass MGE (MSun): 1.291e+13\n",
      "\n",
      "sigma_e: 157.60 km/s\n"
     ]
    },
    {
     "name": "stdout",
     "output_type": "stream",
     "text": [
      "jam_axi_proj(align='sph', moment='zz') -- elapsed time sec: 0.86\n",
      "analytic_los=0 logistic=0 constant_anisotropy=1\n",
      "No PSF/pixel convolution because sigmapsf=0 pixsize=0\n",
      "inc=76.6; beta[0]=0.0; kappa=1.00; M/L=1.00; BH=0.0; chi2/DOF=nan\n",
      "Total mass MGE (MSun): 1.291e+13\n",
      "\n",
      "sigma_e: 162.38 km/s\n"
     ]
    },
    {
     "name": "stdout",
     "output_type": "stream",
     "text": [
      "jam_axi_proj(align='sph', moment='zz') -- elapsed time sec: 0.93\n",
      "analytic_los=0 logistic=0 constant_anisotropy=1\n",
      "No PSF/pixel convolution because sigmapsf=0 pixsize=0\n",
      "inc=51.1; beta[0]=0.0; kappa=1.00; M/L=1.00; BH=0.0; chi2/DOF=nan\n",
      "Total mass MGE (MSun): 1.291e+13\n",
      "\n",
      "sigma_e: 154.09 km/s\n"
     ]
    },
    {
     "name": "stdout",
     "output_type": "stream",
     "text": [
      "jam_axi_proj(align='sph', moment='zz') -- elapsed time sec: 0.94\n",
      "analytic_los=0 logistic=0 constant_anisotropy=1\n",
      "No PSF/pixel convolution because sigmapsf=0 pixsize=0\n",
      "inc=50.0; beta[0]=0.0; kappa=1.00; M/L=1.00; BH=0.0; chi2/DOF=nan\n",
      "Total mass MGE (MSun): 1.291e+13\n",
      "\n",
      "sigma_e: 167.43 km/s\n"
     ]
    },
    {
     "name": "stdout",
     "output_type": "stream",
     "text": [
      "jam_axi_proj(align='sph', moment='zz') -- elapsed time sec: 0.96\n",
      "analytic_los=0 logistic=0 constant_anisotropy=1\n",
      "No PSF/pixel convolution because sigmapsf=0 pixsize=0\n",
      "inc=71.2; beta[0]=0.0; kappa=1.00; M/L=1.00; BH=0.0; chi2/DOF=nan\n",
      "Total mass MGE (MSun): 1.291e+13\n",
      "\n",
      "sigma_e: 158.14 km/s\n"
     ]
    },
    {
     "name": "stdout",
     "output_type": "stream",
     "text": [
      "jam_axi_proj(align='sph', moment='zz') -- elapsed time sec: 0.94\n",
      "analytic_los=0 logistic=0 constant_anisotropy=1\n",
      "No PSF/pixel convolution because sigmapsf=0 pixsize=0\n",
      "inc=74.8; beta[0]=0.0; kappa=1.00; M/L=1.00; BH=0.0; chi2/DOF=nan\n",
      "Total mass MGE (MSun): 1.291e+13\n",
      "\n",
      "sigma_e: 151.93 km/s\n"
     ]
    },
    {
     "name": "stdout",
     "output_type": "stream",
     "text": [
      "jam_axi_proj(align='sph', moment='zz') -- elapsed time sec: 1.05\n",
      "analytic_los=0 logistic=0 constant_anisotropy=1\n",
      "No PSF/pixel convolution because sigmapsf=0 pixsize=0\n",
      "inc=84.3; beta[0]=0.0; kappa=1.00; M/L=1.00; BH=0.0; chi2/DOF=nan\n",
      "Total mass MGE (MSun): 1.725e+14\n",
      "\n",
      "sigma_e: 284.73 km/s\n"
     ]
    },
    {
     "name": "stdout",
     "output_type": "stream",
     "text": [
      "jam_axi_proj(align='sph', moment='zz') -- elapsed time sec: 1.11\n",
      "analytic_los=0 logistic=0 constant_anisotropy=1\n",
      "No PSF/pixel convolution because sigmapsf=0 pixsize=0\n",
      "inc=66.8; beta[0]=0.0; kappa=1.00; M/L=1.00; BH=0.0; chi2/DOF=nan\n",
      "Total mass MGE (MSun): 1.725e+14\n",
      "\n",
      "sigma_e: 292.43 km/s\n"
     ]
    },
    {
     "name": "stdout",
     "output_type": "stream",
     "text": [
      "jam_axi_proj(align='sph', moment='zz') -- elapsed time sec: 1.00\n",
      "analytic_los=0 logistic=0 constant_anisotropy=1\n",
      "No PSF/pixel convolution because sigmapsf=0 pixsize=0\n",
      "inc=70.1; beta[0]=0.0; kappa=1.00; M/L=1.00; BH=0.0; chi2/DOF=nan\n",
      "Total mass MGE (MSun): 1.725e+14\n",
      "\n",
      "sigma_e: 290.72 km/s\n"
     ]
    },
    {
     "name": "stdout",
     "output_type": "stream",
     "text": [
      "jam_axi_proj(align='sph', moment='zz') -- elapsed time sec: 0.97\n",
      "analytic_los=0 logistic=0 constant_anisotropy=1\n",
      "No PSF/pixel convolution because sigmapsf=0 pixsize=0\n",
      "inc=63.5; beta[0]=0.0; kappa=1.00; M/L=1.00; BH=0.0; chi2/DOF=nan\n",
      "Total mass MGE (MSun): 1.725e+14\n",
      "\n",
      "sigma_e: 293.78 km/s\n"
     ]
    },
    {
     "name": "stdout",
     "output_type": "stream",
     "text": [
      "jam_axi_proj(align='sph', moment='zz') -- elapsed time sec: 1.01\n",
      "analytic_los=0 logistic=0 constant_anisotropy=1\n",
      "No PSF/pixel convolution because sigmapsf=0 pixsize=0\n",
      "inc=55.4; beta[0]=0.0; kappa=1.00; M/L=1.00; BH=0.0; chi2/DOF=nan\n",
      "Total mass MGE (MSun): 1.725e+14\n",
      "\n",
      "sigma_e: 312.44 km/s\n"
     ]
    },
    {
     "name": "stdout",
     "output_type": "stream",
     "text": [
      "jam_axi_proj(align='sph', moment='zz') -- elapsed time sec: 0.94\n",
      "analytic_los=0 logistic=0 constant_anisotropy=1\n",
      "No PSF/pixel convolution because sigmapsf=0 pixsize=0\n",
      "inc=59.4; beta[0]=0.0; kappa=1.00; M/L=1.00; BH=0.0; chi2/DOF=nan\n",
      "Total mass MGE (MSun): 1.725e+14\n",
      "\n",
      "sigma_e: 327.04 km/s\n"
     ]
    },
    {
     "name": "stdout",
     "output_type": "stream",
     "text": [
      "jam_axi_proj(align='sph', moment='zz') -- elapsed time sec: 0.97\n",
      "analytic_los=0 logistic=0 constant_anisotropy=1\n",
      "No PSF/pixel convolution because sigmapsf=0 pixsize=0\n",
      "inc=79.3; beta[0]=0.0; kappa=1.00; M/L=1.00; BH=0.0; chi2/DOF=nan\n",
      "Total mass MGE (MSun): 1.725e+14\n",
      "\n",
      "sigma_e: 303.42 km/s\n"
     ]
    },
    {
     "name": "stdout",
     "output_type": "stream",
     "text": [
      "jam_axi_proj(align='sph', moment='zz') -- elapsed time sec: 0.97\n",
      "analytic_los=0 logistic=0 constant_anisotropy=1\n",
      "No PSF/pixel convolution because sigmapsf=0 pixsize=0\n",
      "inc=30.2; beta[0]=0.0; kappa=1.00; M/L=1.00; BH=0.0; chi2/DOF=nan\n",
      "Total mass MGE (MSun): 1.725e+14\n",
      "\n",
      "sigma_e: 324.22 km/s\n"
     ]
    },
    {
     "name": "stdout",
     "output_type": "stream",
     "text": [
      "jam_axi_proj(align='sph', moment='zz') -- elapsed time sec: 0.99\n",
      "analytic_los=0 logistic=0 constant_anisotropy=1\n",
      "No PSF/pixel convolution because sigmapsf=0 pixsize=0\n",
      "inc=39.6; beta[0]=0.0; kappa=1.00; M/L=1.00; BH=0.0; chi2/DOF=nan\n",
      "Total mass MGE (MSun): 1.725e+14\n",
      "\n",
      "sigma_e: 316.76 km/s\n"
     ]
    },
    {
     "name": "stdout",
     "output_type": "stream",
     "text": [
      "jam_axi_proj(align='sph', moment='zz') -- elapsed time sec: 0.98\n",
      "analytic_los=0 logistic=0 constant_anisotropy=1\n",
      "No PSF/pixel convolution because sigmapsf=0 pixsize=0\n",
      "inc=75.2; beta[0]=0.0; kappa=1.00; M/L=1.00; BH=0.0; chi2/DOF=nan\n",
      "Total mass MGE (MSun): 1.725e+14\n",
      "\n",
      "sigma_e: 292.20 km/s\n"
     ]
    },
    {
     "name": "stdout",
     "output_type": "stream",
     "text": [
      "jam_axi_proj(align='sph', moment='zz') -- elapsed time sec: 0.98\n",
      "analytic_los=0 logistic=0 constant_anisotropy=1\n",
      "No PSF/pixel convolution because sigmapsf=0 pixsize=0\n",
      "inc=41.9; beta[0]=0.0; kappa=1.00; M/L=1.00; BH=0.0; chi2/DOF=nan\n",
      "Total mass MGE (MSun): 6.757e+13\n",
      "\n",
      "sigma_e: 262.35 km/s\n"
     ]
    },
    {
     "name": "stdout",
     "output_type": "stream",
     "text": [
      "jam_axi_proj(align='sph', moment='zz') -- elapsed time sec: 1.07\n",
      "analytic_los=0 logistic=0 constant_anisotropy=1\n",
      "No PSF/pixel convolution because sigmapsf=0 pixsize=0\n",
      "inc=70.6; beta[0]=0.0; kappa=1.00; M/L=1.00; BH=0.0; chi2/DOF=nan\n",
      "Total mass MGE (MSun): 6.757e+13\n",
      "\n",
      "sigma_e: 226.85 km/s\n"
     ]
    },
    {
     "name": "stdout",
     "output_type": "stream",
     "text": [
      "jam_axi_proj(align='sph', moment='zz') -- elapsed time sec: 1.12\n",
      "analytic_los=0 logistic=0 constant_anisotropy=1\n",
      "No PSF/pixel convolution because sigmapsf=0 pixsize=0\n",
      "inc=87.7; beta[0]=0.0; kappa=1.00; M/L=1.00; BH=0.0; chi2/DOF=nan\n",
      "Total mass MGE (MSun): 6.757e+13\n",
      "\n",
      "sigma_e: 237.05 km/s\n"
     ]
    },
    {
     "name": "stdout",
     "output_type": "stream",
     "text": [
      "jam_axi_proj(align='sph', moment='zz') -- elapsed time sec: 1.04\n",
      "analytic_los=0 logistic=0 constant_anisotropy=1\n",
      "No PSF/pixel convolution because sigmapsf=0 pixsize=0\n",
      "inc=66.7; beta[0]=0.0; kappa=1.00; M/L=1.00; BH=0.0; chi2/DOF=nan\n",
      "Total mass MGE (MSun): 6.757e+13\n",
      "\n",
      "sigma_e: 235.21 km/s\n"
     ]
    },
    {
     "name": "stdout",
     "output_type": "stream",
     "text": [
      "jam_axi_proj(align='sph', moment='zz') -- elapsed time sec: 1.06\n",
      "analytic_los=0 logistic=0 constant_anisotropy=1\n",
      "No PSF/pixel convolution because sigmapsf=0 pixsize=0\n",
      "inc=81.3; beta[0]=0.0; kappa=1.00; M/L=1.00; BH=0.0; chi2/DOF=nan\n",
      "Total mass MGE (MSun): 6.757e+13\n",
      "\n",
      "sigma_e: 234.91 km/s\n"
     ]
    },
    {
     "name": "stdout",
     "output_type": "stream",
     "text": [
      "jam_axi_proj(align='sph', moment='zz') -- elapsed time sec: 1.03\n",
      "analytic_los=0 logistic=0 constant_anisotropy=1\n",
      "No PSF/pixel convolution because sigmapsf=0 pixsize=0\n",
      "inc=69.8; beta[0]=0.0; kappa=1.00; M/L=1.00; BH=0.0; chi2/DOF=nan\n",
      "Total mass MGE (MSun): 6.757e+13\n",
      "\n",
      "sigma_e: 230.50 km/s\n"
     ]
    },
    {
     "name": "stdout",
     "output_type": "stream",
     "text": [
      "jam_axi_proj(align='sph', moment='zz') -- elapsed time sec: 1.10\n",
      "analytic_los=0 logistic=0 constant_anisotropy=1\n",
      "No PSF/pixel convolution because sigmapsf=0 pixsize=0\n",
      "inc=85.8; beta[0]=0.0; kappa=1.00; M/L=1.00; BH=0.0; chi2/DOF=nan\n",
      "Total mass MGE (MSun): 6.757e+13\n",
      "\n",
      "sigma_e: 221.04 km/s\n"
     ]
    },
    {
     "name": "stdout",
     "output_type": "stream",
     "text": [
      "jam_axi_proj(align='sph', moment='zz') -- elapsed time sec: 1.05\n",
      "analytic_los=0 logistic=0 constant_anisotropy=1\n",
      "No PSF/pixel convolution because sigmapsf=0 pixsize=0\n",
      "inc=84.5; beta[0]=0.0; kappa=1.00; M/L=1.00; BH=0.0; chi2/DOF=nan\n",
      "Total mass MGE (MSun): 6.757e+13\n",
      "\n",
      "sigma_e: 224.94 km/s\n"
     ]
    },
    {
     "name": "stdout",
     "output_type": "stream",
     "text": [
      "jam_axi_proj(align='sph', moment='zz') -- elapsed time sec: 0.94\n",
      "analytic_los=0 logistic=0 constant_anisotropy=1\n",
      "No PSF/pixel convolution because sigmapsf=0 pixsize=0\n",
      "inc=29.4; beta[0]=0.0; kappa=1.00; M/L=1.00; BH=0.0; chi2/DOF=nan\n",
      "Total mass MGE (MSun): 6.757e+13\n",
      "\n",
      "sigma_e: 260.13 km/s\n"
     ]
    },
    {
     "name": "stdout",
     "output_type": "stream",
     "text": [
      "jam_axi_proj(align='sph', moment='zz') -- elapsed time sec: 0.97\n",
      "analytic_los=0 logistic=0 constant_anisotropy=1\n",
      "No PSF/pixel convolution because sigmapsf=0 pixsize=0\n",
      "inc=78.9; beta[0]=0.0; kappa=1.00; M/L=1.00; BH=0.0; chi2/DOF=nan\n",
      "Total mass MGE (MSun): 6.757e+13\n",
      "\n",
      "sigma_e: 253.49 km/s\n"
     ]
    },
    {
     "name": "stdout",
     "output_type": "stream",
     "text": [
      "jam_axi_proj(align='sph', moment='zz') -- elapsed time sec: 0.98\n",
      "analytic_los=0 logistic=0 constant_anisotropy=1\n",
      "No PSF/pixel convolution because sigmapsf=0 pixsize=0\n",
      "inc=76.3; beta[0]=0.0; kappa=1.00; M/L=1.00; BH=0.0; chi2/DOF=nan\n",
      "Total mass MGE (MSun): 4.258e+13\n",
      "\n",
      "sigma_e: 204.70 km/s\n"
     ]
    },
    {
     "name": "stdout",
     "output_type": "stream",
     "text": [
      "jam_axi_proj(align='sph', moment='zz') -- elapsed time sec: 0.91\n",
      "analytic_los=0 logistic=0 constant_anisotropy=1\n",
      "No PSF/pixel convolution because sigmapsf=0 pixsize=0\n",
      "inc=42.5; beta[0]=0.0; kappa=1.00; M/L=1.00; BH=0.0; chi2/DOF=nan\n",
      "Total mass MGE (MSun): 4.258e+13\n",
      "\n",
      "sigma_e: 226.10 km/s\n"
     ]
    },
    {
     "name": "stdout",
     "output_type": "stream",
     "text": [
      "jam_axi_proj(align='sph', moment='zz') -- elapsed time sec: 0.96\n",
      "analytic_los=0 logistic=0 constant_anisotropy=1\n",
      "No PSF/pixel convolution because sigmapsf=0 pixsize=0\n",
      "inc=45.4; beta[0]=0.0; kappa=1.00; M/L=1.00; BH=0.0; chi2/DOF=nan\n",
      "Total mass MGE (MSun): 4.258e+13\n",
      "\n",
      "sigma_e: 214.91 km/s\n"
     ]
    },
    {
     "name": "stdout",
     "output_type": "stream",
     "text": [
      "jam_axi_proj(align='sph', moment='zz') -- elapsed time sec: 0.96\n",
      "analytic_los=0 logistic=0 constant_anisotropy=1\n",
      "No PSF/pixel convolution because sigmapsf=0 pixsize=0\n",
      "inc=80.7; beta[0]=0.0; kappa=1.00; M/L=1.00; BH=0.0; chi2/DOF=nan\n",
      "Total mass MGE (MSun): 4.258e+13\n",
      "\n",
      "sigma_e: 213.51 km/s\n"
     ]
    },
    {
     "name": "stdout",
     "output_type": "stream",
     "text": [
      "jam_axi_proj(align='sph', moment='zz') -- elapsed time sec: 0.97\n",
      "analytic_los=0 logistic=0 constant_anisotropy=1\n",
      "No PSF/pixel convolution because sigmapsf=0 pixsize=0\n",
      "inc=64.9; beta[0]=0.0; kappa=1.00; M/L=1.00; BH=0.0; chi2/DOF=nan\n",
      "Total mass MGE (MSun): 4.258e+13\n",
      "\n",
      "sigma_e: 208.83 km/s\n"
     ]
    },
    {
     "name": "stdout",
     "output_type": "stream",
     "text": [
      "jam_axi_proj(align='sph', moment='zz') -- elapsed time sec: 0.94\n",
      "analytic_los=0 logistic=0 constant_anisotropy=1\n",
      "No PSF/pixel convolution because sigmapsf=0 pixsize=0\n",
      "inc=21.1; beta[0]=0.0; kappa=1.00; M/L=1.00; BH=0.0; chi2/DOF=nan\n",
      "Total mass MGE (MSun): 4.258e+13\n",
      "\n",
      "sigma_e: 223.08 km/s\n"
     ]
    },
    {
     "name": "stdout",
     "output_type": "stream",
     "text": [
      "jam_axi_proj(align='sph', moment='zz') -- elapsed time sec: 0.98\n",
      "analytic_los=0 logistic=0 constant_anisotropy=1\n",
      "No PSF/pixel convolution because sigmapsf=0 pixsize=0\n",
      "inc=65.8; beta[0]=0.0; kappa=1.00; M/L=1.00; BH=0.0; chi2/DOF=nan\n",
      "Total mass MGE (MSun): 4.258e+13\n",
      "\n",
      "sigma_e: 206.42 km/s\n"
     ]
    },
    {
     "name": "stdout",
     "output_type": "stream",
     "text": [
      "jam_axi_proj(align='sph', moment='zz') -- elapsed time sec: 0.95\n",
      "analytic_los=0 logistic=0 constant_anisotropy=1\n",
      "No PSF/pixel convolution because sigmapsf=0 pixsize=0\n",
      "inc=40.0; beta[0]=0.0; kappa=1.00; M/L=1.00; BH=0.0; chi2/DOF=nan\n",
      "Total mass MGE (MSun): 4.258e+13\n",
      "\n",
      "sigma_e: 224.19 km/s\n"
     ]
    },
    {
     "name": "stdout",
     "output_type": "stream",
     "text": [
      "jam_axi_proj(align='sph', moment='zz') -- elapsed time sec: 0.97\n",
      "analytic_los=0 logistic=0 constant_anisotropy=1\n",
      "No PSF/pixel convolution because sigmapsf=0 pixsize=0\n",
      "inc=52.8; beta[0]=0.0; kappa=1.00; M/L=1.00; BH=0.0; chi2/DOF=nan\n",
      "Total mass MGE (MSun): 4.258e+13\n",
      "\n",
      "sigma_e: 208.53 km/s\n"
     ]
    },
    {
     "name": "stdout",
     "output_type": "stream",
     "text": [
      "jam_axi_proj(align='sph', moment='zz') -- elapsed time sec: 0.94\n",
      "analytic_los=0 logistic=0 constant_anisotropy=1\n",
      "No PSF/pixel convolution because sigmapsf=0 pixsize=0\n",
      "inc=64.9; beta[0]=0.0; kappa=1.00; M/L=1.00; BH=0.0; chi2/DOF=nan\n",
      "Total mass MGE (MSun): 4.258e+13\n",
      "\n",
      "sigma_e: 210.56 km/s\n"
     ]
    },
    {
     "name": "stdout",
     "output_type": "stream",
     "text": [
      "jam_axi_proj(align='sph', moment='zz') -- elapsed time sec: 1.02\n",
      "analytic_los=0 logistic=0 constant_anisotropy=1\n",
      "No PSF/pixel convolution because sigmapsf=0 pixsize=0\n",
      "inc=88.8; beta[0]=0.0; kappa=1.00; M/L=1.00; BH=0.0; chi2/DOF=nan\n",
      "Total mass MGE (MSun): 1.735e+13\n",
      "\n",
      "sigma_e: 153.67 km/s\n"
     ]
    },
    {
     "name": "stdout",
     "output_type": "stream",
     "text": [
      "jam_axi_proj(align='sph', moment='zz') -- elapsed time sec: 1.04\n",
      "analytic_los=0 logistic=0 constant_anisotropy=1\n",
      "No PSF/pixel convolution because sigmapsf=0 pixsize=0\n",
      "inc=73.0; beta[0]=0.0; kappa=1.00; M/L=1.00; BH=0.0; chi2/DOF=nan\n",
      "Total mass MGE (MSun): 1.735e+13\n",
      "\n",
      "sigma_e: 175.12 km/s\n"
     ]
    },
    {
     "name": "stdout",
     "output_type": "stream",
     "text": [
      "jam_axi_proj(align='sph', moment='zz') -- elapsed time sec: 1.06\n",
      "analytic_los=0 logistic=0 constant_anisotropy=1\n",
      "No PSF/pixel convolution because sigmapsf=0 pixsize=0\n",
      "inc=72.5; beta[0]=0.0; kappa=1.00; M/L=1.00; BH=0.0; chi2/DOF=nan\n",
      "Total mass MGE (MSun): 1.735e+13\n",
      "\n",
      "sigma_e: 178.28 km/s\n"
     ]
    },
    {
     "name": "stdout",
     "output_type": "stream",
     "text": [
      "jam_axi_proj(align='sph', moment='zz') -- elapsed time sec: 1.01\n",
      "analytic_los=0 logistic=0 constant_anisotropy=1\n",
      "No PSF/pixel convolution because sigmapsf=0 pixsize=0\n",
      "inc=82.8; beta[0]=0.0; kappa=1.00; M/L=1.00; BH=0.0; chi2/DOF=nan\n",
      "Total mass MGE (MSun): 1.735e+13\n",
      "\n",
      "sigma_e: 167.20 km/s\n"
     ]
    },
    {
     "name": "stdout",
     "output_type": "stream",
     "text": [
      "jam_axi_proj(align='sph', moment='zz') -- elapsed time sec: 0.95\n",
      "analytic_los=0 logistic=0 constant_anisotropy=1\n",
      "No PSF/pixel convolution because sigmapsf=0 pixsize=0\n",
      "inc=47.2; beta[0]=0.0; kappa=1.00; M/L=1.00; BH=0.0; chi2/DOF=nan\n",
      "Total mass MGE (MSun): 1.735e+13\n",
      "\n",
      "sigma_e: 177.90 km/s\n"
     ]
    },
    {
     "name": "stdout",
     "output_type": "stream",
     "text": [
      "jam_axi_proj(align='sph', moment='zz') -- elapsed time sec: 0.99\n",
      "analytic_los=0 logistic=0 constant_anisotropy=1\n",
      "No PSF/pixel convolution because sigmapsf=0 pixsize=0\n",
      "inc=77.1; beta[0]=0.0; kappa=1.00; M/L=1.00; BH=0.0; chi2/DOF=nan\n",
      "Total mass MGE (MSun): 1.735e+13\n",
      "\n",
      "sigma_e: 154.23 km/s\n"
     ]
    },
    {
     "name": "stdout",
     "output_type": "stream",
     "text": [
      "jam_axi_proj(align='sph', moment='zz') -- elapsed time sec: 1.03\n",
      "analytic_los=0 logistic=0 constant_anisotropy=1\n",
      "No PSF/pixel convolution because sigmapsf=0 pixsize=0\n",
      "inc=73.1; beta[0]=0.0; kappa=1.00; M/L=1.00; BH=0.0; chi2/DOF=nan\n",
      "Total mass MGE (MSun): 1.735e+13\n",
      "\n",
      "sigma_e: 159.42 km/s\n"
     ]
    },
    {
     "name": "stdout",
     "output_type": "stream",
     "text": [
      "jam_axi_proj(align='sph', moment='zz') -- elapsed time sec: 0.97\n",
      "analytic_los=0 logistic=0 constant_anisotropy=1\n",
      "No PSF/pixel convolution because sigmapsf=0 pixsize=0\n",
      "inc=63.3; beta[0]=0.0; kappa=1.00; M/L=1.00; BH=0.0; chi2/DOF=nan\n",
      "Total mass MGE (MSun): 1.735e+13\n",
      "\n",
      "sigma_e: 183.58 km/s\n"
     ]
    },
    {
     "name": "stdout",
     "output_type": "stream",
     "text": [
      "jam_axi_proj(align='sph', moment='zz') -- elapsed time sec: 1.10\n",
      "analytic_los=0 logistic=0 constant_anisotropy=1\n",
      "No PSF/pixel convolution because sigmapsf=0 pixsize=0\n",
      "inc=78.4; beta[0]=0.0; kappa=1.00; M/L=1.00; BH=0.0; chi2/DOF=nan\n",
      "Total mass MGE (MSun): 1.735e+13\n",
      "\n",
      "sigma_e: 160.65 km/s\n"
     ]
    },
    {
     "name": "stdout",
     "output_type": "stream",
     "text": [
      "jam_axi_proj(align='sph', moment='zz') -- elapsed time sec: 0.95\n",
      "analytic_los=0 logistic=0 constant_anisotropy=1\n",
      "No PSF/pixel convolution because sigmapsf=0 pixsize=0\n",
      "inc=58.1; beta[0]=0.0; kappa=1.00; M/L=1.00; BH=0.0; chi2/DOF=nan\n",
      "Total mass MGE (MSun): 1.735e+13\n",
      "\n",
      "sigma_e: 179.25 km/s\n"
     ]
    },
    {
     "name": "stdout",
     "output_type": "stream",
     "text": [
      "jam_axi_proj(align='sph', moment='zz') -- elapsed time sec: 0.99\n",
      "analytic_los=0 logistic=0 constant_anisotropy=1\n",
      "No PSF/pixel convolution because sigmapsf=0 pixsize=0\n",
      "inc=84.4; beta[0]=0.0; kappa=1.00; M/L=1.00; BH=0.0; chi2/DOF=nan\n",
      "Total mass MGE (MSun): 3.649e+13\n",
      "\n",
      "sigma_e: 194.56 km/s\n"
     ]
    },
    {
     "name": "stdout",
     "output_type": "stream",
     "text": [
      "jam_axi_proj(align='sph', moment='zz') -- elapsed time sec: 0.95\n",
      "analytic_los=0 logistic=0 constant_anisotropy=1\n",
      "No PSF/pixel convolution because sigmapsf=0 pixsize=0\n",
      "inc=83.1; beta[0]=0.0; kappa=1.00; M/L=1.00; BH=0.0; chi2/DOF=nan\n",
      "Total mass MGE (MSun): 3.649e+13\n",
      "\n",
      "sigma_e: 195.80 km/s\n"
     ]
    },
    {
     "name": "stdout",
     "output_type": "stream",
     "text": [
      "jam_axi_proj(align='sph', moment='zz') -- elapsed time sec: 0.92\n",
      "analytic_los=0 logistic=0 constant_anisotropy=1\n",
      "No PSF/pixel convolution because sigmapsf=0 pixsize=0\n",
      "inc=31.4; beta[0]=0.0; kappa=1.00; M/L=1.00; BH=0.0; chi2/DOF=nan\n",
      "Total mass MGE (MSun): 3.649e+13\n",
      "\n",
      "sigma_e: 215.16 km/s\n"
     ]
    },
    {
     "name": "stdout",
     "output_type": "stream",
     "text": [
      "jam_axi_proj(align='sph', moment='zz') -- elapsed time sec: 0.97\n",
      "analytic_los=0 logistic=0 constant_anisotropy=1\n",
      "No PSF/pixel convolution because sigmapsf=0 pixsize=0\n",
      "inc=78.4; beta[0]=0.0; kappa=1.00; M/L=1.00; BH=0.0; chi2/DOF=nan\n",
      "Total mass MGE (MSun): 3.649e+13\n",
      "\n",
      "sigma_e: 195.93 km/s\n"
     ]
    },
    {
     "name": "stdout",
     "output_type": "stream",
     "text": [
      "jam_axi_proj(align='sph', moment='zz') -- elapsed time sec: 0.99\n",
      "analytic_los=0 logistic=0 constant_anisotropy=1\n",
      "No PSF/pixel convolution because sigmapsf=0 pixsize=0\n",
      "inc=60.6; beta[0]=0.0; kappa=1.00; M/L=1.00; BH=0.0; chi2/DOF=nan\n",
      "Total mass MGE (MSun): 3.649e+13\n",
      "\n",
      "sigma_e: 207.98 km/s\n"
     ]
    },
    {
     "name": "stdout",
     "output_type": "stream",
     "text": [
      "jam_axi_proj(align='sph', moment='zz') -- elapsed time sec: 0.97\n",
      "analytic_los=0 logistic=0 constant_anisotropy=1\n",
      "No PSF/pixel convolution because sigmapsf=0 pixsize=0\n",
      "inc=64.4; beta[0]=0.0; kappa=1.00; M/L=1.00; BH=0.0; chi2/DOF=nan\n",
      "Total mass MGE (MSun): 3.649e+13\n",
      "\n",
      "sigma_e: 205.60 km/s\n"
     ]
    },
    {
     "name": "stdout",
     "output_type": "stream",
     "text": [
      "jam_axi_proj(align='sph', moment='zz') -- elapsed time sec: 0.94\n",
      "analytic_los=0 logistic=0 constant_anisotropy=1\n",
      "No PSF/pixel convolution because sigmapsf=0 pixsize=0\n",
      "inc=40.8; beta[0]=0.0; kappa=1.00; M/L=1.00; BH=0.0; chi2/DOF=nan\n",
      "Total mass MGE (MSun): 3.649e+13\n",
      "\n",
      "sigma_e: 214.91 km/s\n"
     ]
    },
    {
     "name": "stdout",
     "output_type": "stream",
     "text": [
      "jam_axi_proj(align='sph', moment='zz') -- elapsed time sec: 0.93\n",
      "analytic_los=0 logistic=0 constant_anisotropy=1\n",
      "No PSF/pixel convolution because sigmapsf=0 pixsize=0\n",
      "inc=64.0; beta[0]=0.0; kappa=1.00; M/L=1.00; BH=0.0; chi2/DOF=nan\n",
      "Total mass MGE (MSun): 3.649e+13\n",
      "\n",
      "sigma_e: 206.12 km/s\n"
     ]
    },
    {
     "name": "stdout",
     "output_type": "stream",
     "text": [
      "jam_axi_proj(align='sph', moment='zz') -- elapsed time sec: 1.07\n",
      "analytic_los=0 logistic=0 constant_anisotropy=1\n",
      "No PSF/pixel convolution because sigmapsf=0 pixsize=0\n",
      "inc=54.3; beta[0]=0.0; kappa=1.00; M/L=1.00; BH=0.0; chi2/DOF=nan\n",
      "Total mass MGE (MSun): 3.649e+13\n",
      "\n",
      "sigma_e: 200.91 km/s\n"
     ]
    },
    {
     "name": "stdout",
     "output_type": "stream",
     "text": [
      "jam_axi_proj(align='sph', moment='zz') -- elapsed time sec: 0.94\n",
      "analytic_los=0 logistic=0 constant_anisotropy=1\n",
      "No PSF/pixel convolution because sigmapsf=0 pixsize=0\n",
      "inc=72.8; beta[0]=0.0; kappa=1.00; M/L=1.00; BH=0.0; chi2/DOF=nan\n",
      "Total mass MGE (MSun): 3.649e+13\n",
      "\n",
      "sigma_e: 204.54 km/s\n"
     ]
    },
    {
     "name": "stdout",
     "output_type": "stream",
     "text": [
      "jam_axi_proj(align='sph', moment='zz') -- elapsed time sec: 1.06\n",
      "analytic_los=0 logistic=0 constant_anisotropy=1\n",
      "No PSF/pixel convolution because sigmapsf=0 pixsize=0\n",
      "inc=82.1; beta[0]=0.0; kappa=1.00; M/L=1.00; BH=0.0; chi2/DOF=nan\n",
      "Total mass MGE (MSun): 2.089e+13\n",
      "\n",
      "sigma_e: 172.96 km/s\n"
     ]
    },
    {
     "name": "stdout",
     "output_type": "stream",
     "text": [
      "jam_axi_proj(align='sph', moment='zz') -- elapsed time sec: 0.93\n",
      "analytic_los=0 logistic=0 constant_anisotropy=1\n",
      "No PSF/pixel convolution because sigmapsf=0 pixsize=0\n",
      "inc=48.6; beta[0]=0.0; kappa=1.00; M/L=1.00; BH=0.0; chi2/DOF=nan\n",
      "Total mass MGE (MSun): 2.089e+13\n",
      "\n",
      "sigma_e: 177.37 km/s\n"
     ]
    },
    {
     "name": "stdout",
     "output_type": "stream",
     "text": [
      "jam_axi_proj(align='sph', moment='zz') -- elapsed time sec: 0.89\n",
      "analytic_los=0 logistic=0 constant_anisotropy=1\n",
      "No PSF/pixel convolution because sigmapsf=0 pixsize=0\n",
      "inc=83.8; beta[0]=0.0; kappa=1.00; M/L=1.00; BH=0.0; chi2/DOF=nan\n",
      "Total mass MGE (MSun): 2.089e+13\n",
      "\n",
      "sigma_e: 182.43 km/s\n"
     ]
    },
    {
     "name": "stdout",
     "output_type": "stream",
     "text": [
      "jam_axi_proj(align='sph', moment='zz') -- elapsed time sec: 0.95\n",
      "analytic_los=0 logistic=0 constant_anisotropy=1\n",
      "No PSF/pixel convolution because sigmapsf=0 pixsize=0\n",
      "inc=64.0; beta[0]=0.0; kappa=1.00; M/L=1.00; BH=0.0; chi2/DOF=nan\n",
      "Total mass MGE (MSun): 2.089e+13\n",
      "\n",
      "sigma_e: 172.36 km/s\n"
     ]
    },
    {
     "name": "stdout",
     "output_type": "stream",
     "text": [
      "jam_axi_proj(align='sph', moment='zz') -- elapsed time sec: 0.92\n",
      "analytic_los=0 logistic=0 constant_anisotropy=1\n",
      "No PSF/pixel convolution because sigmapsf=0 pixsize=0\n",
      "inc=86.7; beta[0]=0.0; kappa=1.00; M/L=1.00; BH=0.0; chi2/DOF=nan\n",
      "Total mass MGE (MSun): 2.089e+13\n",
      "\n",
      "sigma_e: 169.72 km/s\n"
     ]
    },
    {
     "name": "stdout",
     "output_type": "stream",
     "text": [
      "jam_axi_proj(align='sph', moment='zz') -- elapsed time sec: 1.02\n",
      "analytic_los=0 logistic=0 constant_anisotropy=1\n",
      "No PSF/pixel convolution because sigmapsf=0 pixsize=0\n",
      "inc=78.5; beta[0]=0.0; kappa=1.00; M/L=1.00; BH=0.0; chi2/DOF=nan\n",
      "Total mass MGE (MSun): 2.089e+13\n",
      "\n",
      "sigma_e: 167.26 km/s\n"
     ]
    },
    {
     "name": "stdout",
     "output_type": "stream",
     "text": [
      "jam_axi_proj(align='sph', moment='zz') -- elapsed time sec: 1.02\n",
      "analytic_los=0 logistic=0 constant_anisotropy=1\n",
      "No PSF/pixel convolution because sigmapsf=0 pixsize=0\n",
      "inc=85.9; beta[0]=0.0; kappa=1.00; M/L=1.00; BH=0.0; chi2/DOF=nan\n",
      "Total mass MGE (MSun): 2.089e+13\n",
      "\n",
      "sigma_e: 174.48 km/s\n"
     ]
    },
    {
     "name": "stdout",
     "output_type": "stream",
     "text": [
      "jam_axi_proj(align='sph', moment='zz') -- elapsed time sec: 0.95\n",
      "analytic_los=0 logistic=0 constant_anisotropy=1\n",
      "No PSF/pixel convolution because sigmapsf=0 pixsize=0\n",
      "inc=58.8; beta[0]=0.0; kappa=1.00; M/L=1.00; BH=0.0; chi2/DOF=nan\n",
      "Total mass MGE (MSun): 2.089e+13\n",
      "\n",
      "sigma_e: 173.35 km/s\n"
     ]
    },
    {
     "name": "stdout",
     "output_type": "stream",
     "text": [
      "jam_axi_proj(align='sph', moment='zz') -- elapsed time sec: 1.01\n",
      "analytic_los=0 logistic=0 constant_anisotropy=1\n",
      "No PSF/pixel convolution because sigmapsf=0 pixsize=0\n",
      "inc=69.8; beta[0]=0.0; kappa=1.00; M/L=1.00; BH=0.0; chi2/DOF=nan\n",
      "Total mass MGE (MSun): 2.089e+13\n",
      "\n",
      "sigma_e: 176.99 km/s\n"
     ]
    },
    {
     "name": "stdout",
     "output_type": "stream",
     "text": [
      "jam_axi_proj(align='sph', moment='zz') -- elapsed time sec: 0.92\n",
      "analytic_los=0 logistic=0 constant_anisotropy=1\n",
      "No PSF/pixel convolution because sigmapsf=0 pixsize=0\n",
      "inc=53.6; beta[0]=0.0; kappa=1.00; M/L=1.00; BH=0.0; chi2/DOF=nan\n",
      "Total mass MGE (MSun): 2.089e+13\n",
      "\n",
      "sigma_e: 176.35 km/s\n"
     ]
    },
    {
     "name": "stdout",
     "output_type": "stream",
     "text": [
      "jam_axi_proj(align='sph', moment='zz') -- elapsed time sec: 0.96\n",
      "analytic_los=0 logistic=0 constant_anisotropy=1\n",
      "No PSF/pixel convolution because sigmapsf=0 pixsize=0\n",
      "inc=66.6; beta[0]=0.0; kappa=1.00; M/L=1.00; BH=0.0; chi2/DOF=nan\n",
      "Total mass MGE (MSun): 1.010e+13\n",
      "\n",
      "sigma_e: 146.42 km/s\n"
     ]
    },
    {
     "name": "stdout",
     "output_type": "stream",
     "text": [
      "jam_axi_proj(align='sph', moment='zz') -- elapsed time sec: 0.90\n",
      "analytic_los=0 logistic=0 constant_anisotropy=1\n",
      "No PSF/pixel convolution because sigmapsf=0 pixsize=0\n",
      "inc=71.8; beta[0]=0.0; kappa=1.00; M/L=1.00; BH=0.0; chi2/DOF=nan\n",
      "Total mass MGE (MSun): 1.010e+13\n",
      "\n",
      "sigma_e: 150.86 km/s\n"
     ]
    },
    {
     "name": "stdout",
     "output_type": "stream",
     "text": [
      "jam_axi_proj(align='sph', moment='zz') -- elapsed time sec: 0.90\n",
      "analytic_los=0 logistic=0 constant_anisotropy=1\n",
      "No PSF/pixel convolution because sigmapsf=0 pixsize=0\n",
      "inc=48.9; beta[0]=0.0; kappa=1.00; M/L=1.00; BH=0.0; chi2/DOF=nan\n",
      "Total mass MGE (MSun): 1.010e+13\n",
      "\n",
      "sigma_e: 155.79 km/s\n"
     ]
    },
    {
     "name": "stdout",
     "output_type": "stream",
     "text": [
      "jam_axi_proj(align='sph', moment='zz') -- elapsed time sec: 0.96\n",
      "analytic_los=0 logistic=0 constant_anisotropy=1\n",
      "No PSF/pixel convolution because sigmapsf=0 pixsize=0\n",
      "inc=61.9; beta[0]=0.0; kappa=1.00; M/L=1.00; BH=0.0; chi2/DOF=nan\n",
      "Total mass MGE (MSun): 1.010e+13\n",
      "\n",
      "sigma_e: 144.79 km/s\n"
     ]
    },
    {
     "name": "stdout",
     "output_type": "stream",
     "text": [
      "jam_axi_proj(align='sph', moment='zz') -- elapsed time sec: 0.94\n",
      "analytic_los=0 logistic=0 constant_anisotropy=1\n",
      "No PSF/pixel convolution because sigmapsf=0 pixsize=0\n",
      "inc=58.6; beta[0]=0.0; kappa=1.00; M/L=1.00; BH=0.0; chi2/DOF=nan\n",
      "Total mass MGE (MSun): 1.010e+13\n",
      "\n",
      "sigma_e: 149.56 km/s\n"
     ]
    },
    {
     "name": "stdout",
     "output_type": "stream",
     "text": [
      "jam_axi_proj(align='sph', moment='zz') -- elapsed time sec: 0.96\n",
      "analytic_los=0 logistic=0 constant_anisotropy=1\n",
      "No PSF/pixel convolution because sigmapsf=0 pixsize=0\n",
      "inc=87.0; beta[0]=0.0; kappa=1.00; M/L=1.00; BH=0.0; chi2/DOF=nan\n",
      "Total mass MGE (MSun): 1.010e+13\n",
      "\n",
      "sigma_e: 142.78 km/s\n"
     ]
    },
    {
     "name": "stdout",
     "output_type": "stream",
     "text": [
      "jam_axi_proj(align='sph', moment='zz') -- elapsed time sec: 0.82\n",
      "analytic_los=0 logistic=0 constant_anisotropy=1\n",
      "No PSF/pixel convolution because sigmapsf=0 pixsize=0\n",
      "inc=32.3; beta[0]=0.0; kappa=1.00; M/L=1.00; BH=0.0; chi2/DOF=nan\n",
      "Total mass MGE (MSun): 1.010e+13\n",
      "\n",
      "sigma_e: 157.27 km/s\n"
     ]
    },
    {
     "name": "stdout",
     "output_type": "stream",
     "text": [
      "jam_axi_proj(align='sph', moment='zz') -- elapsed time sec: 0.97\n",
      "analytic_los=0 logistic=0 constant_anisotropy=1\n",
      "No PSF/pixel convolution because sigmapsf=0 pixsize=0\n",
      "inc=78.6; beta[0]=0.0; kappa=1.00; M/L=1.00; BH=0.0; chi2/DOF=nan\n",
      "Total mass MGE (MSun): 1.010e+13\n",
      "\n",
      "sigma_e: 141.79 km/s\n"
     ]
    },
    {
     "name": "stdout",
     "output_type": "stream",
     "text": [
      "jam_axi_proj(align='sph', moment='zz') -- elapsed time sec: 0.94\n",
      "analytic_los=0 logistic=0 constant_anisotropy=1\n",
      "No PSF/pixel convolution because sigmapsf=0 pixsize=0\n",
      "inc=69.3; beta[0]=0.0; kappa=1.00; M/L=1.00; BH=0.0; chi2/DOF=nan\n",
      "Total mass MGE (MSun): 1.010e+13\n",
      "\n",
      "sigma_e: 147.76 km/s\n"
     ]
    },
    {
     "name": "stdout",
     "output_type": "stream",
     "text": [
      "jam_axi_proj(align='sph', moment='zz') -- elapsed time sec: 1.00\n",
      "analytic_los=0 logistic=0 constant_anisotropy=1\n",
      "No PSF/pixel convolution because sigmapsf=0 pixsize=0\n",
      "inc=63.2; beta[0]=0.0; kappa=1.00; M/L=1.00; BH=0.0; chi2/DOF=nan\n",
      "Total mass MGE (MSun): 1.010e+13\n",
      "\n",
      "sigma_e: 144.11 km/s\n"
     ]
    },
    {
     "name": "stdout",
     "output_type": "stream",
     "text": [
      "jam_axi_proj(align='sph', moment='zz') -- elapsed time sec: 0.96\n",
      "analytic_los=0 logistic=0 constant_anisotropy=1\n",
      "No PSF/pixel convolution because sigmapsf=0 pixsize=0\n",
      "inc=82.2; beta[0]=0.0; kappa=1.00; M/L=1.00; BH=0.0; chi2/DOF=nan\n",
      "Total mass MGE (MSun): 1.107e+13\n",
      "\n",
      "sigma_e: 144.38 km/s\n"
     ]
    },
    {
     "name": "stdout",
     "output_type": "stream",
     "text": [
      "jam_axi_proj(align='sph', moment='zz') -- elapsed time sec: 0.94\n",
      "analytic_los=0 logistic=0 constant_anisotropy=1\n",
      "No PSF/pixel convolution because sigmapsf=0 pixsize=0\n",
      "inc=62.9; beta[0]=0.0; kappa=1.00; M/L=1.00; BH=0.0; chi2/DOF=nan\n",
      "Total mass MGE (MSun): 1.107e+13\n",
      "\n",
      "sigma_e: 161.81 km/s\n"
     ]
    },
    {
     "name": "stdout",
     "output_type": "stream",
     "text": [
      "jam_axi_proj(align='sph', moment='zz') -- elapsed time sec: 0.92\n",
      "analytic_los=0 logistic=0 constant_anisotropy=1\n",
      "No PSF/pixel convolution because sigmapsf=0 pixsize=0\n",
      "inc=52.7; beta[0]=0.0; kappa=1.00; M/L=1.00; BH=0.0; chi2/DOF=nan\n",
      "Total mass MGE (MSun): 1.107e+13\n",
      "\n",
      "sigma_e: 161.89 km/s\n"
     ]
    },
    {
     "name": "stdout",
     "output_type": "stream",
     "text": [
      "jam_axi_proj(align='sph', moment='zz') -- elapsed time sec: 0.92\n",
      "analytic_los=0 logistic=0 constant_anisotropy=1\n",
      "No PSF/pixel convolution because sigmapsf=0 pixsize=0\n",
      "inc=56.0; beta[0]=0.0; kappa=1.00; M/L=1.00; BH=0.0; chi2/DOF=nan\n",
      "Total mass MGE (MSun): 1.107e+13\n",
      "\n",
      "sigma_e: 161.42 km/s\n"
     ]
    },
    {
     "name": "stdout",
     "output_type": "stream",
     "text": [
      "jam_axi_proj(align='sph', moment='zz') -- elapsed time sec: 0.94\n",
      "analytic_los=0 logistic=0 constant_anisotropy=1\n",
      "No PSF/pixel convolution because sigmapsf=0 pixsize=0\n",
      "inc=78.6; beta[0]=0.0; kappa=1.00; M/L=1.00; BH=0.0; chi2/DOF=nan\n",
      "Total mass MGE (MSun): 1.107e+13\n",
      "\n",
      "sigma_e: 154.02 km/s\n"
     ]
    },
    {
     "name": "stdout",
     "output_type": "stream",
     "text": [
      "jam_axi_proj(align='sph', moment='zz') -- elapsed time sec: 0.97\n",
      "analytic_los=0 logistic=0 constant_anisotropy=1\n",
      "No PSF/pixel convolution because sigmapsf=0 pixsize=0\n",
      "inc=53.9; beta[0]=0.0; kappa=1.00; M/L=1.00; BH=0.0; chi2/DOF=nan\n",
      "Total mass MGE (MSun): 1.107e+13\n",
      "\n",
      "sigma_e: 157.25 km/s\n"
     ]
    },
    {
     "name": "stdout",
     "output_type": "stream",
     "text": [
      "jam_axi_proj(align='sph', moment='zz') -- elapsed time sec: 1.03\n",
      "analytic_los=0 logistic=0 constant_anisotropy=1\n",
      "No PSF/pixel convolution because sigmapsf=0 pixsize=0\n",
      "inc=82.4; beta[0]=0.0; kappa=1.00; M/L=1.00; BH=0.0; chi2/DOF=nan\n",
      "Total mass MGE (MSun): 1.107e+13\n",
      "\n",
      "sigma_e: 146.40 km/s\n"
     ]
    },
    {
     "name": "stdout",
     "output_type": "stream",
     "text": [
      "jam_axi_proj(align='sph', moment='zz') -- elapsed time sec: 0.93\n",
      "analytic_los=0 logistic=0 constant_anisotropy=1\n",
      "No PSF/pixel convolution because sigmapsf=0 pixsize=0\n",
      "inc=87.1; beta[0]=0.0; kappa=1.00; M/L=1.00; BH=0.0; chi2/DOF=nan\n",
      "Total mass MGE (MSun): 1.107e+13\n",
      "\n",
      "sigma_e: 145.72 km/s\n"
     ]
    },
    {
     "name": "stdout",
     "output_type": "stream",
     "text": [
      "jam_axi_proj(align='sph', moment='zz') -- elapsed time sec: 1.05\n",
      "analytic_los=0 logistic=0 constant_anisotropy=1\n",
      "No PSF/pixel convolution because sigmapsf=0 pixsize=0\n",
      "inc=83.6; beta[0]=0.0; kappa=1.00; M/L=1.00; BH=0.0; chi2/DOF=nan\n",
      "Total mass MGE (MSun): 1.107e+13\n",
      "\n",
      "sigma_e: 144.77 km/s\n"
     ]
    },
    {
     "name": "stdout",
     "output_type": "stream",
     "text": [
      "jam_axi_proj(align='sph', moment='zz') -- elapsed time sec: 0.95\n",
      "analytic_los=0 logistic=0 constant_anisotropy=1\n",
      "No PSF/pixel convolution because sigmapsf=0 pixsize=0\n",
      "inc=74.2; beta[0]=0.0; kappa=1.00; M/L=1.00; BH=0.0; chi2/DOF=nan\n",
      "Total mass MGE (MSun): 1.107e+13\n",
      "\n",
      "sigma_e: 146.76 km/s\n"
     ]
    },
    {
     "name": "stdout",
     "output_type": "stream",
     "text": [
      "jam_axi_proj(align='sph', moment='zz') -- elapsed time sec: 1.03\n",
      "analytic_los=0 logistic=0 constant_anisotropy=1\n",
      "No PSF/pixel convolution because sigmapsf=0 pixsize=0\n",
      "inc=86.5; beta[0]=0.0; kappa=1.00; M/L=1.00; BH=0.0; chi2/DOF=nan\n",
      "Total mass MGE (MSun): 2.431e+13\n",
      "\n",
      "sigma_e: 169.44 km/s\n"
     ]
    },
    {
     "name": "stdout",
     "output_type": "stream",
     "text": [
      "jam_axi_proj(align='sph', moment='zz') -- elapsed time sec: 0.96\n",
      "analytic_los=0 logistic=0 constant_anisotropy=1\n",
      "No PSF/pixel convolution because sigmapsf=0 pixsize=0\n",
      "inc=81.5; beta[0]=0.0; kappa=1.00; M/L=1.00; BH=0.0; chi2/DOF=nan\n",
      "Total mass MGE (MSun): 2.431e+13\n",
      "\n",
      "sigma_e: 175.48 km/s\n"
     ]
    },
    {
     "name": "stdout",
     "output_type": "stream",
     "text": [
      "jam_axi_proj(align='sph', moment='zz') -- elapsed time sec: 0.97\n",
      "analytic_los=0 logistic=0 constant_anisotropy=1\n",
      "No PSF/pixel convolution because sigmapsf=0 pixsize=0\n",
      "inc=58.4; beta[0]=0.0; kappa=1.00; M/L=1.00; BH=0.0; chi2/DOF=nan\n",
      "Total mass MGE (MSun): 2.431e+13\n",
      "\n",
      "sigma_e: 188.68 km/s\n"
     ]
    },
    {
     "name": "stdout",
     "output_type": "stream",
     "text": [
      "jam_axi_proj(align='sph', moment='zz') -- elapsed time sec: 1.05\n",
      "analytic_los=0 logistic=0 constant_anisotropy=1\n",
      "No PSF/pixel convolution because sigmapsf=0 pixsize=0\n",
      "inc=82.1; beta[0]=0.0; kappa=1.00; M/L=1.00; BH=0.0; chi2/DOF=nan\n",
      "Total mass MGE (MSun): 2.431e+13\n",
      "\n",
      "sigma_e: 186.12 km/s\n"
     ]
    },
    {
     "name": "stdout",
     "output_type": "stream",
     "text": [
      "jam_axi_proj(align='sph', moment='zz') -- elapsed time sec: 1.04\n",
      "analytic_los=0 logistic=0 constant_anisotropy=1\n",
      "No PSF/pixel convolution because sigmapsf=0 pixsize=0\n",
      "inc=65.3; beta[0]=0.0; kappa=1.00; M/L=1.00; BH=0.0; chi2/DOF=nan\n",
      "Total mass MGE (MSun): 2.431e+13\n",
      "\n",
      "sigma_e: 200.82 km/s\n"
     ]
    },
    {
     "name": "stdout",
     "output_type": "stream",
     "text": [
      "jam_axi_proj(align='sph', moment='zz') -- elapsed time sec: 1.05\n",
      "analytic_los=0 logistic=0 constant_anisotropy=1\n",
      "No PSF/pixel convolution because sigmapsf=0 pixsize=0\n",
      "inc=70.6; beta[0]=0.0; kappa=1.00; M/L=1.00; BH=0.0; chi2/DOF=nan\n",
      "Total mass MGE (MSun): 2.431e+13\n",
      "\n",
      "sigma_e: 175.50 km/s\n"
     ]
    },
    {
     "name": "stdout",
     "output_type": "stream",
     "text": [
      "jam_axi_proj(align='sph', moment='zz') -- elapsed time sec: 1.03\n",
      "analytic_los=0 logistic=0 constant_anisotropy=1\n",
      "No PSF/pixel convolution because sigmapsf=0 pixsize=0\n",
      "inc=86.4; beta[0]=0.0; kappa=1.00; M/L=1.00; BH=0.0; chi2/DOF=nan\n",
      "Total mass MGE (MSun): 2.431e+13\n",
      "\n",
      "sigma_e: 189.86 km/s\n"
     ]
    },
    {
     "name": "stdout",
     "output_type": "stream",
     "text": [
      "jam_axi_proj(align='sph', moment='zz') -- elapsed time sec: 0.98\n",
      "analytic_los=0 logistic=0 constant_anisotropy=1\n",
      "No PSF/pixel convolution because sigmapsf=0 pixsize=0\n",
      "inc=77.8; beta[0]=0.0; kappa=1.00; M/L=1.00; BH=0.0; chi2/DOF=nan\n",
      "Total mass MGE (MSun): 2.431e+13\n",
      "\n",
      "sigma_e: 168.26 km/s\n"
     ]
    },
    {
     "name": "stdout",
     "output_type": "stream",
     "text": [
      "jam_axi_proj(align='sph', moment='zz') -- elapsed time sec: 1.06\n",
      "analytic_los=0 logistic=0 constant_anisotropy=1\n",
      "No PSF/pixel convolution because sigmapsf=0 pixsize=0\n",
      "inc=87.8; beta[0]=0.0; kappa=1.00; M/L=1.00; BH=0.0; chi2/DOF=nan\n",
      "Total mass MGE (MSun): 2.431e+13\n",
      "\n",
      "sigma_e: 168.15 km/s\n"
     ]
    },
    {
     "name": "stdout",
     "output_type": "stream",
     "text": [
      "jam_axi_proj(align='sph', moment='zz') -- elapsed time sec: 1.00\n",
      "analytic_los=0 logistic=0 constant_anisotropy=1\n",
      "No PSF/pixel convolution because sigmapsf=0 pixsize=0\n",
      "inc=83.5; beta[0]=0.0; kappa=1.00; M/L=1.00; BH=0.0; chi2/DOF=nan\n",
      "Total mass MGE (MSun): 2.431e+13\n",
      "\n",
      "sigma_e: 175.58 km/s\n"
     ]
    },
    {
     "name": "stdout",
     "output_type": "stream",
     "text": [
      "jam_axi_proj(align='sph', moment='zz') -- elapsed time sec: 1.07\n",
      "analytic_los=0 logistic=0 constant_anisotropy=1\n",
      "No PSF/pixel convolution because sigmapsf=0 pixsize=0\n",
      "inc=78.8; beta[0]=0.0; kappa=1.00; M/L=1.00; BH=0.0; chi2/DOF=nan\n",
      "Total mass MGE (MSun): 1.678e+13\n",
      "\n",
      "sigma_e: 165.45 km/s\n"
     ]
    },
    {
     "name": "stdout",
     "output_type": "stream",
     "text": [
      "jam_axi_proj(align='sph', moment='zz') -- elapsed time sec: 1.03\n",
      "analytic_los=0 logistic=0 constant_anisotropy=1\n",
      "No PSF/pixel convolution because sigmapsf=0 pixsize=0\n",
      "inc=61.3; beta[0]=0.0; kappa=1.00; M/L=1.00; BH=0.0; chi2/DOF=nan\n",
      "Total mass MGE (MSun): 1.678e+13\n",
      "\n",
      "sigma_e: 168.77 km/s\n"
     ]
    },
    {
     "name": "stdout",
     "output_type": "stream",
     "text": [
      "jam_axi_proj(align='sph', moment='zz') -- elapsed time sec: 0.98\n",
      "analytic_los=0 logistic=0 constant_anisotropy=1\n",
      "No PSF/pixel convolution because sigmapsf=0 pixsize=0\n",
      "inc=50.4; beta[0]=0.0; kappa=1.00; M/L=1.00; BH=0.0; chi2/DOF=nan\n",
      "Total mass MGE (MSun): 1.678e+13\n",
      "\n",
      "sigma_e: 184.42 km/s\n"
     ]
    },
    {
     "name": "stdout",
     "output_type": "stream",
     "text": [
      "jam_axi_proj(align='sph', moment='zz') -- elapsed time sec: 0.95\n",
      "analytic_los=0 logistic=0 constant_anisotropy=1\n",
      "No PSF/pixel convolution because sigmapsf=0 pixsize=0\n",
      "inc=60.1; beta[0]=0.0; kappa=1.00; M/L=1.00; BH=0.0; chi2/DOF=nan\n",
      "Total mass MGE (MSun): 1.678e+13\n",
      "\n",
      "sigma_e: 183.78 km/s\n"
     ]
    },
    {
     "name": "stdout",
     "output_type": "stream",
     "text": [
      "jam_axi_proj(align='sph', moment='zz') -- elapsed time sec: 1.03\n",
      "analytic_los=0 logistic=0 constant_anisotropy=1\n",
      "No PSF/pixel convolution because sigmapsf=0 pixsize=0\n",
      "inc=78.4; beta[0]=0.0; kappa=1.00; M/L=1.00; BH=0.0; chi2/DOF=nan\n",
      "Total mass MGE (MSun): 1.678e+13\n",
      "\n",
      "sigma_e: 173.53 km/s\n"
     ]
    },
    {
     "name": "stdout",
     "output_type": "stream",
     "text": [
      "jam_axi_proj(align='sph', moment='zz') -- elapsed time sec: 1.05\n",
      "analytic_los=0 logistic=0 constant_anisotropy=1\n",
      "No PSF/pixel convolution because sigmapsf=0 pixsize=0\n",
      "inc=77.7; beta[0]=0.0; kappa=1.00; M/L=1.00; BH=0.0; chi2/DOF=nan\n",
      "Total mass MGE (MSun): 1.678e+13\n",
      "\n",
      "sigma_e: 172.31 km/s\n"
     ]
    },
    {
     "name": "stdout",
     "output_type": "stream",
     "text": [
      "jam_axi_proj(align='sph', moment='zz') -- elapsed time sec: 1.05\n",
      "analytic_los=0 logistic=0 constant_anisotropy=1\n",
      "No PSF/pixel convolution because sigmapsf=0 pixsize=0\n",
      "inc=87.4; beta[0]=0.0; kappa=1.00; M/L=1.00; BH=0.0; chi2/DOF=nan\n",
      "Total mass MGE (MSun): 1.678e+13\n",
      "\n",
      "sigma_e: 153.54 km/s\n"
     ]
    },
    {
     "name": "stdout",
     "output_type": "stream",
     "text": [
      "jam_axi_proj(align='sph', moment='zz') -- elapsed time sec: 0.96\n",
      "analytic_los=0 logistic=0 constant_anisotropy=1\n",
      "No PSF/pixel convolution because sigmapsf=0 pixsize=0\n",
      "inc=79.7; beta[0]=0.0; kappa=1.00; M/L=1.00; BH=0.0; chi2/DOF=nan\n",
      "Total mass MGE (MSun): 1.678e+13\n",
      "\n",
      "sigma_e: 172.51 km/s\n"
     ]
    },
    {
     "name": "stdout",
     "output_type": "stream",
     "text": [
      "jam_axi_proj(align='sph', moment='zz') -- elapsed time sec: 0.96\n",
      "analytic_los=0 logistic=0 constant_anisotropy=1\n",
      "No PSF/pixel convolution because sigmapsf=0 pixsize=0\n",
      "inc=80.8; beta[0]=0.0; kappa=1.00; M/L=1.00; BH=0.0; chi2/DOF=nan\n",
      "Total mass MGE (MSun): 1.678e+13\n",
      "\n",
      "sigma_e: 160.86 km/s\n"
     ]
    },
    {
     "name": "stdout",
     "output_type": "stream",
     "text": [
      "jam_axi_proj(align='sph', moment='zz') -- elapsed time sec: 1.00\n",
      "analytic_los=0 logistic=0 constant_anisotropy=1\n",
      "No PSF/pixel convolution because sigmapsf=0 pixsize=0\n",
      "inc=59.6; beta[0]=0.0; kappa=1.00; M/L=1.00; BH=0.0; chi2/DOF=nan\n",
      "Total mass MGE (MSun): 1.678e+13\n",
      "\n",
      "sigma_e: 163.83 km/s\n"
     ]
    },
    {
     "name": "stdout",
     "output_type": "stream",
     "text": [
      "jam_axi_proj(align='sph', moment='zz') -- elapsed time sec: 0.97\n",
      "analytic_los=0 logistic=0 constant_anisotropy=1\n",
      "No PSF/pixel convolution because sigmapsf=0 pixsize=0\n",
      "inc=49.4; beta[0]=0.0; kappa=1.00; M/L=1.00; BH=0.0; chi2/DOF=nan\n",
      "Total mass MGE (MSun): 3.330e+13\n",
      "\n",
      "sigma_e: 204.56 km/s\n"
     ]
    },
    {
     "name": "stdout",
     "output_type": "stream",
     "text": [
      "jam_axi_proj(align='sph', moment='zz') -- elapsed time sec: 0.87\n",
      "analytic_los=0 logistic=0 constant_anisotropy=1\n",
      "No PSF/pixel convolution because sigmapsf=0 pixsize=0\n",
      "inc=83.8; beta[0]=0.0; kappa=1.00; M/L=1.00; BH=0.0; chi2/DOF=nan\n",
      "Total mass MGE (MSun): 3.330e+13\n",
      "\n",
      "sigma_e: 207.00 km/s\n"
     ]
    },
    {
     "name": "stdout",
     "output_type": "stream",
     "text": [
      "jam_axi_proj(align='sph', moment='zz') -- elapsed time sec: 1.01\n",
      "analytic_los=0 logistic=0 constant_anisotropy=1\n",
      "No PSF/pixel convolution because sigmapsf=0 pixsize=0\n",
      "inc=68.2; beta[0]=0.0; kappa=1.00; M/L=1.00; BH=0.0; chi2/DOF=nan\n",
      "Total mass MGE (MSun): 3.330e+13\n",
      "\n",
      "sigma_e: 196.42 km/s\n"
     ]
    },
    {
     "name": "stdout",
     "output_type": "stream",
     "text": [
      "jam_axi_proj(align='sph', moment='zz') -- elapsed time sec: 0.98\n",
      "analytic_los=0 logistic=0 constant_anisotropy=1\n",
      "No PSF/pixel convolution because sigmapsf=0 pixsize=0\n",
      "inc=85.2; beta[0]=0.0; kappa=1.00; M/L=1.00; BH=0.0; chi2/DOF=nan\n",
      "Total mass MGE (MSun): 3.330e+13\n",
      "\n",
      "sigma_e: 196.27 km/s\n"
     ]
    },
    {
     "name": "stdout",
     "output_type": "stream",
     "text": [
      "jam_axi_proj(align='sph', moment='zz') -- elapsed time sec: 0.97\n",
      "analytic_los=0 logistic=0 constant_anisotropy=1\n",
      "No PSF/pixel convolution because sigmapsf=0 pixsize=0\n",
      "inc=47.1; beta[0]=0.0; kappa=1.00; M/L=1.00; BH=0.0; chi2/DOF=nan\n",
      "Total mass MGE (MSun): 3.330e+13\n",
      "\n",
      "sigma_e: 205.97 km/s\n"
     ]
    },
    {
     "name": "stdout",
     "output_type": "stream",
     "text": [
      "jam_axi_proj(align='sph', moment='zz') -- elapsed time sec: 0.97\n",
      "analytic_los=0 logistic=0 constant_anisotropy=1\n",
      "No PSF/pixel convolution because sigmapsf=0 pixsize=0\n",
      "inc=75.6; beta[0]=0.0; kappa=1.00; M/L=1.00; BH=0.0; chi2/DOF=nan\n",
      "Total mass MGE (MSun): 3.330e+13\n",
      "\n",
      "sigma_e: 191.90 km/s\n"
     ]
    },
    {
     "name": "stdout",
     "output_type": "stream",
     "text": [
      "jam_axi_proj(align='sph', moment='zz') -- elapsed time sec: 0.97\n",
      "analytic_los=0 logistic=0 constant_anisotropy=1\n",
      "No PSF/pixel convolution because sigmapsf=0 pixsize=0\n",
      "inc=78.1; beta[0]=0.0; kappa=1.00; M/L=1.00; BH=0.0; chi2/DOF=nan\n",
      "Total mass MGE (MSun): 3.330e+13\n",
      "\n",
      "sigma_e: 202.22 km/s\n"
     ]
    },
    {
     "name": "stdout",
     "output_type": "stream",
     "text": [
      "jam_axi_proj(align='sph', moment='zz') -- elapsed time sec: 0.98\n",
      "analytic_los=0 logistic=0 constant_anisotropy=1\n",
      "No PSF/pixel convolution because sigmapsf=0 pixsize=0\n",
      "inc=75.5; beta[0]=0.0; kappa=1.00; M/L=1.00; BH=0.0; chi2/DOF=nan\n",
      "Total mass MGE (MSun): 3.330e+13\n",
      "\n",
      "sigma_e: 192.95 km/s\n"
     ]
    },
    {
     "name": "stdout",
     "output_type": "stream",
     "text": [
      "jam_axi_proj(align='sph', moment='zz') -- elapsed time sec: 1.00\n",
      "analytic_los=0 logistic=0 constant_anisotropy=1\n",
      "No PSF/pixel convolution because sigmapsf=0 pixsize=0\n",
      "inc=66.9; beta[0]=0.0; kappa=1.00; M/L=1.00; BH=0.0; chi2/DOF=nan\n",
      "Total mass MGE (MSun): 3.330e+13\n",
      "\n",
      "sigma_e: 198.17 km/s\n"
     ]
    },
    {
     "name": "stdout",
     "output_type": "stream",
     "text": [
      "jam_axi_proj(align='sph', moment='zz') -- elapsed time sec: 0.98\n",
      "analytic_los=0 logistic=0 constant_anisotropy=1\n",
      "No PSF/pixel convolution because sigmapsf=0 pixsize=0\n",
      "inc=73.4; beta[0]=0.0; kappa=1.00; M/L=1.00; BH=0.0; chi2/DOF=nan\n",
      "Total mass MGE (MSun): 3.330e+13\n",
      "\n",
      "sigma_e: 203.96 km/s\n"
     ]
    },
    {
     "name": "stdout",
     "output_type": "stream",
     "text": [
      "jam_axi_proj(align='sph', moment='zz') -- elapsed time sec: 1.00\n",
      "analytic_los=0 logistic=0 constant_anisotropy=1\n",
      "No PSF/pixel convolution because sigmapsf=0 pixsize=0\n",
      "inc=82.4; beta[0]=0.0; kappa=1.00; M/L=1.00; BH=0.0; chi2/DOF=nan\n",
      "Total mass MGE (MSun): 3.319e+13\n",
      "\n",
      "sigma_e: 213.26 km/s\n"
     ]
    },
    {
     "name": "stdout",
     "output_type": "stream",
     "text": [
      "jam_axi_proj(align='sph', moment='zz') -- elapsed time sec: 1.02\n",
      "analytic_los=0 logistic=0 constant_anisotropy=1\n",
      "No PSF/pixel convolution because sigmapsf=0 pixsize=0\n",
      "inc=85.9; beta[0]=0.0; kappa=1.00; M/L=1.00; BH=0.0; chi2/DOF=nan\n",
      "Total mass MGE (MSun): 3.319e+13\n",
      "\n",
      "sigma_e: 185.22 km/s\n"
     ]
    },
    {
     "name": "stdout",
     "output_type": "stream",
     "text": [
      "jam_axi_proj(align='sph', moment='zz') -- elapsed time sec: 0.99\n",
      "analytic_los=0 logistic=0 constant_anisotropy=1\n",
      "No PSF/pixel convolution because sigmapsf=0 pixsize=0\n",
      "inc=75.8; beta[0]=0.0; kappa=1.00; M/L=1.00; BH=0.0; chi2/DOF=nan\n",
      "Total mass MGE (MSun): 3.319e+13\n",
      "\n",
      "sigma_e: 217.07 km/s\n"
     ]
    },
    {
     "name": "stdout",
     "output_type": "stream",
     "text": [
      "jam_axi_proj(align='sph', moment='zz') -- elapsed time sec: 1.01\n",
      "analytic_los=0 logistic=0 constant_anisotropy=1\n",
      "No PSF/pixel convolution because sigmapsf=0 pixsize=0\n",
      "inc=48.3; beta[0]=0.0; kappa=1.00; M/L=1.00; BH=0.0; chi2/DOF=nan\n",
      "Total mass MGE (MSun): 3.319e+13\n",
      "\n",
      "sigma_e: 208.36 km/s\n"
     ]
    },
    {
     "name": "stdout",
     "output_type": "stream",
     "text": [
      "jam_axi_proj(align='sph', moment='zz') -- elapsed time sec: 1.01\n",
      "analytic_los=0 logistic=0 constant_anisotropy=1\n",
      "No PSF/pixel convolution because sigmapsf=0 pixsize=0\n",
      "inc=84.0; beta[0]=0.0; kappa=1.00; M/L=1.00; BH=0.0; chi2/DOF=nan\n",
      "Total mass MGE (MSun): 3.319e+13\n",
      "\n",
      "sigma_e: 183.41 km/s\n"
     ]
    },
    {
     "name": "stdout",
     "output_type": "stream",
     "text": [
      "jam_axi_proj(align='sph', moment='zz') -- elapsed time sec: 1.07\n",
      "analytic_los=0 logistic=0 constant_anisotropy=1\n",
      "No PSF/pixel convolution because sigmapsf=0 pixsize=0\n",
      "inc=83.9; beta[0]=0.0; kappa=1.00; M/L=1.00; BH=0.0; chi2/DOF=nan\n",
      "Total mass MGE (MSun): 3.319e+13\n",
      "\n",
      "sigma_e: 191.12 km/s\n"
     ]
    },
    {
     "name": "stdout",
     "output_type": "stream",
     "text": [
      "jam_axi_proj(align='sph', moment='zz') -- elapsed time sec: 0.98\n",
      "analytic_los=0 logistic=0 constant_anisotropy=1\n",
      "No PSF/pixel convolution because sigmapsf=0 pixsize=0\n",
      "inc=52.0; beta[0]=0.0; kappa=1.00; M/L=1.00; BH=0.0; chi2/DOF=nan\n",
      "Total mass MGE (MSun): 3.319e+13\n",
      "\n",
      "sigma_e: 219.33 km/s\n"
     ]
    },
    {
     "name": "stdout",
     "output_type": "stream",
     "text": [
      "jam_axi_proj(align='sph', moment='zz') -- elapsed time sec: 1.02\n",
      "analytic_los=0 logistic=0 constant_anisotropy=1\n",
      "No PSF/pixel convolution because sigmapsf=0 pixsize=0\n",
      "inc=84.2; beta[0]=0.0; kappa=1.00; M/L=1.00; BH=0.0; chi2/DOF=nan\n",
      "Total mass MGE (MSun): 3.319e+13\n",
      "\n",
      "sigma_e: 184.60 km/s\n"
     ]
    },
    {
     "name": "stdout",
     "output_type": "stream",
     "text": [
      "jam_axi_proj(align='sph', moment='zz') -- elapsed time sec: 0.98\n",
      "analytic_los=0 logistic=0 constant_anisotropy=1\n",
      "No PSF/pixel convolution because sigmapsf=0 pixsize=0\n",
      "inc=47.9; beta[0]=0.0; kappa=1.00; M/L=1.00; BH=0.0; chi2/DOF=nan\n",
      "Total mass MGE (MSun): 3.319e+13\n",
      "\n",
      "sigma_e: 219.69 km/s\n"
     ]
    },
    {
     "name": "stdout",
     "output_type": "stream",
     "text": [
      "jam_axi_proj(align='sph', moment='zz') -- elapsed time sec: 1.02\n",
      "analytic_los=0 logistic=0 constant_anisotropy=1\n",
      "No PSF/pixel convolution because sigmapsf=0 pixsize=0\n",
      "inc=81.5; beta[0]=0.0; kappa=1.00; M/L=1.00; BH=0.0; chi2/DOF=nan\n",
      "Total mass MGE (MSun): 3.319e+13\n",
      "\n",
      "sigma_e: 185.10 km/s\n"
     ]
    },
    {
     "name": "stdout",
     "output_type": "stream",
     "text": [
      "jam_axi_proj(align='sph', moment='zz') -- elapsed time sec: 0.93\n",
      "analytic_los=0 logistic=0 constant_anisotropy=1\n",
      "No PSF/pixel convolution because sigmapsf=0 pixsize=0\n",
      "inc=46.5; beta[0]=0.0; kappa=1.00; M/L=1.00; BH=0.0; chi2/DOF=nan\n",
      "Total mass MGE (MSun): 2.145e+13\n",
      "\n",
      "sigma_e: 192.69 km/s\n"
     ]
    },
    {
     "name": "stdout",
     "output_type": "stream",
     "text": [
      "jam_axi_proj(align='sph', moment='zz') -- elapsed time sec: 1.06\n",
      "analytic_los=0 logistic=0 constant_anisotropy=1\n",
      "No PSF/pixel convolution because sigmapsf=0 pixsize=0\n",
      "inc=79.3; beta[0]=0.0; kappa=1.00; M/L=1.00; BH=0.0; chi2/DOF=nan\n",
      "Total mass MGE (MSun): 2.145e+13\n",
      "\n",
      "sigma_e: 170.53 km/s\n"
     ]
    },
    {
     "name": "stdout",
     "output_type": "stream",
     "text": [
      "jam_axi_proj(align='sph', moment='zz') -- elapsed time sec: 1.01\n",
      "analytic_los=0 logistic=0 constant_anisotropy=1\n",
      "No PSF/pixel convolution because sigmapsf=0 pixsize=0\n",
      "inc=84.4; beta[0]=0.0; kappa=1.00; M/L=1.00; BH=0.0; chi2/DOF=nan\n",
      "Total mass MGE (MSun): 2.145e+13\n",
      "\n",
      "sigma_e: 177.80 km/s\n"
     ]
    },
    {
     "name": "stdout",
     "output_type": "stream",
     "text": [
      "jam_axi_proj(align='sph', moment='zz') -- elapsed time sec: 0.99\n",
      "analytic_los=0 logistic=0 constant_anisotropy=1\n",
      "No PSF/pixel convolution because sigmapsf=0 pixsize=0\n",
      "inc=85.7; beta[0]=0.0; kappa=1.00; M/L=1.00; BH=0.0; chi2/DOF=nan\n",
      "Total mass MGE (MSun): 2.145e+13\n",
      "\n",
      "sigma_e: 161.05 km/s\n"
     ]
    },
    {
     "name": "stdout",
     "output_type": "stream",
     "text": [
      "jam_axi_proj(align='sph', moment='zz') -- elapsed time sec: 1.02\n",
      "analytic_los=0 logistic=0 constant_anisotropy=1\n",
      "No PSF/pixel convolution because sigmapsf=0 pixsize=0\n",
      "inc=69.9; beta[0]=0.0; kappa=1.00; M/L=1.00; BH=0.0; chi2/DOF=nan\n",
      "Total mass MGE (MSun): 2.145e+13\n",
      "\n",
      "sigma_e: 170.72 km/s\n"
     ]
    },
    {
     "name": "stdout",
     "output_type": "stream",
     "text": [
      "jam_axi_proj(align='sph', moment='zz') -- elapsed time sec: 1.04\n",
      "analytic_los=0 logistic=0 constant_anisotropy=1\n",
      "No PSF/pixel convolution because sigmapsf=0 pixsize=0\n",
      "inc=77.4; beta[0]=0.0; kappa=1.00; M/L=1.00; BH=0.0; chi2/DOF=nan\n",
      "Total mass MGE (MSun): 2.145e+13\n",
      "\n",
      "sigma_e: 169.96 km/s\n"
     ]
    },
    {
     "name": "stdout",
     "output_type": "stream",
     "text": [
      "jam_axi_proj(align='sph', moment='zz') -- elapsed time sec: 1.01\n",
      "analytic_los=0 logistic=0 constant_anisotropy=1\n",
      "No PSF/pixel convolution because sigmapsf=0 pixsize=0\n",
      "inc=86.3; beta[0]=0.0; kappa=1.00; M/L=1.00; BH=0.0; chi2/DOF=nan\n",
      "Total mass MGE (MSun): 2.145e+13\n",
      "\n",
      "sigma_e: 176.54 km/s\n"
     ]
    },
    {
     "name": "stdout",
     "output_type": "stream",
     "text": [
      "jam_axi_proj(align='sph', moment='zz') -- elapsed time sec: 0.97\n",
      "analytic_los=0 logistic=0 constant_anisotropy=1\n",
      "No PSF/pixel convolution because sigmapsf=0 pixsize=0\n",
      "inc=51.8; beta[0]=0.0; kappa=1.00; M/L=1.00; BH=0.0; chi2/DOF=nan\n",
      "Total mass MGE (MSun): 2.145e+13\n",
      "\n",
      "sigma_e: 185.12 km/s\n"
     ]
    },
    {
     "name": "stdout",
     "output_type": "stream",
     "text": [
      "jam_axi_proj(align='sph', moment='zz') -- elapsed time sec: 0.95\n",
      "analytic_los=0 logistic=0 constant_anisotropy=1\n",
      "No PSF/pixel convolution because sigmapsf=0 pixsize=0\n",
      "inc=40.9; beta[0]=0.0; kappa=1.00; M/L=1.00; BH=0.0; chi2/DOF=nan\n",
      "Total mass MGE (MSun): 2.145e+13\n",
      "\n",
      "sigma_e: 185.24 km/s\n"
     ]
    },
    {
     "name": "stdout",
     "output_type": "stream",
     "text": [
      "jam_axi_proj(align='sph', moment='zz') -- elapsed time sec: 0.97\n",
      "analytic_los=0 logistic=0 constant_anisotropy=1\n",
      "No PSF/pixel convolution because sigmapsf=0 pixsize=0\n",
      "inc=61.5; beta[0]=0.0; kappa=1.00; M/L=1.00; BH=0.0; chi2/DOF=nan\n",
      "Total mass MGE (MSun): 2.145e+13\n",
      "\n",
      "sigma_e: 174.97 km/s\n"
     ]
    },
    {
     "name": "stdout",
     "output_type": "stream",
     "text": [
      "jam_axi_proj(align='sph', moment='zz') -- elapsed time sec: 1.01\n",
      "analytic_los=0 logistic=0 constant_anisotropy=1\n",
      "No PSF/pixel convolution because sigmapsf=0 pixsize=0\n",
      "inc=81.9; beta[0]=0.0; kappa=1.00; M/L=1.00; BH=0.0; chi2/DOF=nan\n",
      "Total mass MGE (MSun): 7.000e+12\n",
      "\n",
      "sigma_e: 125.38 km/s\n"
     ]
    },
    {
     "name": "stdout",
     "output_type": "stream",
     "text": [
      "jam_axi_proj(align='sph', moment='zz') -- elapsed time sec: 0.92\n",
      "analytic_los=0 logistic=0 constant_anisotropy=1\n",
      "No PSF/pixel convolution because sigmapsf=0 pixsize=0\n",
      "inc=90.0; beta[0]=0.0; kappa=1.00; M/L=1.00; BH=0.0; chi2/DOF=nan\n",
      "Total mass MGE (MSun): 7.000e+12\n",
      "\n",
      "sigma_e: 122.12 km/s\n"
     ]
    },
    {
     "name": "stdout",
     "output_type": "stream",
     "text": [
      "jam_axi_proj(align='sph', moment='zz') -- elapsed time sec: 0.92\n",
      "analytic_los=0 logistic=0 constant_anisotropy=1\n",
      "No PSF/pixel convolution because sigmapsf=0 pixsize=0\n",
      "inc=51.8; beta[0]=0.0; kappa=1.00; M/L=1.00; BH=0.0; chi2/DOF=nan\n",
      "Total mass MGE (MSun): 7.000e+12\n",
      "\n",
      "sigma_e: 144.97 km/s\n"
     ]
    },
    {
     "name": "stdout",
     "output_type": "stream",
     "text": [
      "jam_axi_proj(align='sph', moment='zz') -- elapsed time sec: 0.95\n",
      "analytic_los=0 logistic=0 constant_anisotropy=1\n",
      "No PSF/pixel convolution because sigmapsf=0 pixsize=0\n",
      "inc=86.6; beta[0]=0.0; kappa=1.00; M/L=1.00; BH=0.0; chi2/DOF=nan\n",
      "Total mass MGE (MSun): 7.000e+12\n",
      "\n",
      "sigma_e: 133.86 km/s\n"
     ]
    },
    {
     "name": "stdout",
     "output_type": "stream",
     "text": [
      "jam_axi_proj(align='sph', moment='zz') -- elapsed time sec: 0.97\n",
      "analytic_los=0 logistic=0 constant_anisotropy=1\n",
      "No PSF/pixel convolution because sigmapsf=0 pixsize=0\n",
      "inc=82.1; beta[0]=0.0; kappa=1.00; M/L=1.00; BH=0.0; chi2/DOF=nan\n",
      "Total mass MGE (MSun): 7.000e+12\n",
      "\n",
      "sigma_e: 143.03 km/s\n"
     ]
    },
    {
     "name": "stdout",
     "output_type": "stream",
     "text": [
      "jam_axi_proj(align='sph', moment='zz') -- elapsed time sec: 0.94\n",
      "analytic_los=0 logistic=0 constant_anisotropy=1\n",
      "No PSF/pixel convolution because sigmapsf=0 pixsize=0\n",
      "inc=76.1; beta[0]=0.0; kappa=1.00; M/L=1.00; BH=0.0; chi2/DOF=nan\n",
      "Total mass MGE (MSun): 7.000e+12\n",
      "\n",
      "sigma_e: 129.50 km/s\n"
     ]
    },
    {
     "name": "stdout",
     "output_type": "stream",
     "text": [
      "jam_axi_proj(align='sph', moment='zz') -- elapsed time sec: 0.94\n",
      "analytic_los=0 logistic=0 constant_anisotropy=1\n",
      "No PSF/pixel convolution because sigmapsf=0 pixsize=0\n",
      "inc=90.0; beta[0]=0.0; kappa=1.00; M/L=1.00; BH=0.0; chi2/DOF=nan\n",
      "Total mass MGE (MSun): 7.000e+12\n",
      "\n",
      "sigma_e: 117.33 km/s\n"
     ]
    },
    {
     "name": "stdout",
     "output_type": "stream",
     "text": [
      "jam_axi_proj(align='sph', moment='zz') -- elapsed time sec: 0.94\n",
      "analytic_los=0 logistic=0 constant_anisotropy=1\n",
      "No PSF/pixel convolution because sigmapsf=0 pixsize=0\n",
      "inc=79.9; beta[0]=0.0; kappa=1.00; M/L=1.00; BH=0.0; chi2/DOF=nan\n",
      "Total mass MGE (MSun): 7.000e+12\n",
      "\n",
      "sigma_e: 121.09 km/s\n"
     ]
    },
    {
     "name": "stdout",
     "output_type": "stream",
     "text": [
      "jam_axi_proj(align='sph', moment='zz') -- elapsed time sec: 0.98\n",
      "analytic_los=0 logistic=0 constant_anisotropy=1\n",
      "No PSF/pixel convolution because sigmapsf=0 pixsize=0\n",
      "inc=85.7; beta[0]=0.0; kappa=1.00; M/L=1.00; BH=0.0; chi2/DOF=nan\n",
      "Total mass MGE (MSun): 7.000e+12\n",
      "\n",
      "sigma_e: 130.69 km/s\n"
     ]
    },
    {
     "name": "stdout",
     "output_type": "stream",
     "text": [
      "jam_axi_proj(align='sph', moment='zz') -- elapsed time sec: 0.98\n",
      "analytic_los=0 logistic=0 constant_anisotropy=1\n",
      "No PSF/pixel convolution because sigmapsf=0 pixsize=0\n",
      "inc=89.6; beta[0]=0.0; kappa=1.00; M/L=1.00; BH=0.0; chi2/DOF=nan\n",
      "Total mass MGE (MSun): 7.000e+12\n",
      "\n",
      "sigma_e: 127.59 km/s\n"
     ]
    },
    {
     "name": "stdout",
     "output_type": "stream",
     "text": [
      "jam_axi_proj(align='sph', moment='zz') -- elapsed time sec: 1.06\n",
      "analytic_los=0 logistic=0 constant_anisotropy=1\n",
      "No PSF/pixel convolution because sigmapsf=0 pixsize=0\n",
      "inc=68.3; beta[0]=0.0; kappa=1.00; M/L=1.00; BH=0.0; chi2/DOF=nan\n",
      "Total mass MGE (MSun): 4.166e+13\n",
      "\n",
      "sigma_e: 202.20 km/s\n"
     ]
    },
    {
     "name": "stdout",
     "output_type": "stream",
     "text": [
      "jam_axi_proj(align='sph', moment='zz') -- elapsed time sec: 0.99\n",
      "analytic_los=0 logistic=0 constant_anisotropy=1\n",
      "No PSF/pixel convolution because sigmapsf=0 pixsize=0\n",
      "inc=80.8; beta[0]=0.0; kappa=1.00; M/L=1.00; BH=0.0; chi2/DOF=nan\n",
      "Total mass MGE (MSun): 4.166e+13\n",
      "\n",
      "sigma_e: 200.73 km/s\n"
     ]
    },
    {
     "name": "stdout",
     "output_type": "stream",
     "text": [
      "jam_axi_proj(align='sph', moment='zz') -- elapsed time sec: 0.99\n",
      "analytic_los=0 logistic=0 constant_anisotropy=1\n",
      "No PSF/pixel convolution because sigmapsf=0 pixsize=0\n",
      "inc=71.2; beta[0]=0.0; kappa=1.00; M/L=1.00; BH=0.0; chi2/DOF=nan\n",
      "Total mass MGE (MSun): 4.166e+13\n",
      "\n",
      "sigma_e: 208.74 km/s\n"
     ]
    },
    {
     "name": "stdout",
     "output_type": "stream",
     "text": [
      "jam_axi_proj(align='sph', moment='zz') -- elapsed time sec: 0.98\n",
      "analytic_los=0 logistic=0 constant_anisotropy=1\n",
      "No PSF/pixel convolution because sigmapsf=0 pixsize=0\n",
      "inc=87.9; beta[0]=0.0; kappa=1.00; M/L=1.00; BH=0.0; chi2/DOF=nan\n",
      "Total mass MGE (MSun): 4.166e+13\n",
      "\n",
      "sigma_e: 199.56 km/s\n"
     ]
    },
    {
     "name": "stdout",
     "output_type": "stream",
     "text": [
      "jam_axi_proj(align='sph', moment='zz') -- elapsed time sec: 1.06\n",
      "analytic_los=0 logistic=0 constant_anisotropy=1\n",
      "No PSF/pixel convolution because sigmapsf=0 pixsize=0\n",
      "inc=79.2; beta[0]=0.0; kappa=1.00; M/L=1.00; BH=0.0; chi2/DOF=nan\n",
      "Total mass MGE (MSun): 4.166e+13\n",
      "\n",
      "sigma_e: 199.80 km/s\n"
     ]
    },
    {
     "name": "stdout",
     "output_type": "stream",
     "text": [
      "jam_axi_proj(align='sph', moment='zz') -- elapsed time sec: 0.96\n",
      "analytic_los=0 logistic=0 constant_anisotropy=1\n",
      "No PSF/pixel convolution because sigmapsf=0 pixsize=0\n",
      "inc=64.0; beta[0]=0.0; kappa=1.00; M/L=1.00; BH=0.0; chi2/DOF=nan\n",
      "Total mass MGE (MSun): 4.166e+13\n",
      "\n",
      "sigma_e: 221.52 km/s\n"
     ]
    },
    {
     "name": "stdout",
     "output_type": "stream",
     "text": [
      "jam_axi_proj(align='sph', moment='zz') -- elapsed time sec: 1.01\n",
      "analytic_los=0 logistic=0 constant_anisotropy=1\n",
      "No PSF/pixel convolution because sigmapsf=0 pixsize=0\n",
      "inc=62.0; beta[0]=0.0; kappa=1.00; M/L=1.00; BH=0.0; chi2/DOF=nan\n",
      "Total mass MGE (MSun): 4.166e+13\n",
      "\n",
      "sigma_e: 211.67 km/s\n"
     ]
    },
    {
     "name": "stdout",
     "output_type": "stream",
     "text": [
      "jam_axi_proj(align='sph', moment='zz') -- elapsed time sec: 0.95\n",
      "analytic_los=0 logistic=0 constant_anisotropy=1\n",
      "No PSF/pixel convolution because sigmapsf=0 pixsize=0\n",
      "inc=74.4; beta[0]=0.0; kappa=1.00; M/L=1.00; BH=0.0; chi2/DOF=nan\n",
      "Total mass MGE (MSun): 4.166e+13\n",
      "\n",
      "sigma_e: 211.06 km/s\n"
     ]
    },
    {
     "name": "stdout",
     "output_type": "stream",
     "text": [
      "jam_axi_proj(align='sph', moment='zz') -- elapsed time sec: 1.01\n",
      "analytic_los=0 logistic=0 constant_anisotropy=1\n",
      "No PSF/pixel convolution because sigmapsf=0 pixsize=0\n",
      "inc=69.6; beta[0]=0.0; kappa=1.00; M/L=1.00; BH=0.0; chi2/DOF=nan\n",
      "Total mass MGE (MSun): 4.166e+13\n",
      "\n",
      "sigma_e: 207.18 km/s\n"
     ]
    },
    {
     "name": "stdout",
     "output_type": "stream",
     "text": [
      "jam_axi_proj(align='sph', moment='zz') -- elapsed time sec: 1.03\n",
      "analytic_los=0 logistic=0 constant_anisotropy=1\n",
      "No PSF/pixel convolution because sigmapsf=0 pixsize=0\n",
      "inc=71.8; beta[0]=0.0; kappa=1.00; M/L=1.00; BH=0.0; chi2/DOF=nan\n",
      "Total mass MGE (MSun): 4.166e+13\n",
      "\n",
      "sigma_e: 201.85 km/s\n"
     ]
    },
    {
     "name": "stdout",
     "output_type": "stream",
     "text": [
      "jam_axi_proj(align='sph', moment='zz') -- elapsed time sec: 0.95\n",
      "analytic_los=0 logistic=0 constant_anisotropy=1\n",
      "No PSF/pixel convolution because sigmapsf=0 pixsize=0\n",
      "inc=67.3; beta[0]=0.0; kappa=1.00; M/L=1.00; BH=0.0; chi2/DOF=nan\n",
      "Total mass MGE (MSun): 7.147e+12\n",
      "\n",
      "sigma_e: 135.10 km/s\n"
     ]
    },
    {
     "name": "stdout",
     "output_type": "stream",
     "text": [
      "jam_axi_proj(align='sph', moment='zz') -- elapsed time sec: 0.95\n",
      "analytic_los=0 logistic=0 constant_anisotropy=1\n",
      "No PSF/pixel convolution because sigmapsf=0 pixsize=0\n",
      "inc=64.0; beta[0]=0.0; kappa=1.00; M/L=1.00; BH=0.0; chi2/DOF=nan\n",
      "Total mass MGE (MSun): 7.147e+12\n",
      "\n",
      "sigma_e: 135.07 km/s\n"
     ]
    },
    {
     "name": "stdout",
     "output_type": "stream",
     "text": [
      "jam_axi_proj(align='sph', moment='zz') -- elapsed time sec: 0.92\n",
      "analytic_los=0 logistic=0 constant_anisotropy=1\n",
      "No PSF/pixel convolution because sigmapsf=0 pixsize=0\n",
      "inc=89.6; beta[0]=0.0; kappa=1.00; M/L=1.00; BH=0.0; chi2/DOF=nan\n",
      "Total mass MGE (MSun): 7.147e+12\n",
      "\n",
      "sigma_e: 131.77 km/s\n"
     ]
    },
    {
     "name": "stdout",
     "output_type": "stream",
     "text": [
      "jam_axi_proj(align='sph', moment='zz') -- elapsed time sec: 0.95\n",
      "analytic_los=0 logistic=0 constant_anisotropy=1\n",
      "No PSF/pixel convolution because sigmapsf=0 pixsize=0\n",
      "inc=55.4; beta[0]=0.0; kappa=1.00; M/L=1.00; BH=0.0; chi2/DOF=nan\n",
      "Total mass MGE (MSun): 7.147e+12\n",
      "\n",
      "sigma_e: 136.73 km/s\n"
     ]
    },
    {
     "name": "stdout",
     "output_type": "stream",
     "text": [
      "jam_axi_proj(align='sph', moment='zz') -- elapsed time sec: 0.92\n",
      "analytic_los=0 logistic=0 constant_anisotropy=1\n",
      "No PSF/pixel convolution because sigmapsf=0 pixsize=0\n",
      "inc=82.6; beta[0]=0.0; kappa=1.00; M/L=1.00; BH=0.0; chi2/DOF=nan\n",
      "Total mass MGE (MSun): 7.147e+12\n",
      "\n",
      "sigma_e: 132.81 km/s\n"
     ]
    },
    {
     "name": "stdout",
     "output_type": "stream",
     "text": [
      "jam_axi_proj(align='sph', moment='zz') -- elapsed time sec: 0.92\n",
      "analytic_los=0 logistic=0 constant_anisotropy=1\n",
      "No PSF/pixel convolution because sigmapsf=0 pixsize=0\n",
      "inc=80.4; beta[0]=0.0; kappa=1.00; M/L=1.00; BH=0.0; chi2/DOF=nan\n",
      "Total mass MGE (MSun): 7.147e+12\n",
      "\n",
      "sigma_e: 135.38 km/s\n"
     ]
    },
    {
     "name": "stdout",
     "output_type": "stream",
     "text": [
      "jam_axi_proj(align='sph', moment='zz') -- elapsed time sec: 0.95\n",
      "analytic_los=0 logistic=0 constant_anisotropy=1\n",
      "No PSF/pixel convolution because sigmapsf=0 pixsize=0\n",
      "inc=65.2; beta[0]=0.0; kappa=1.00; M/L=1.00; BH=0.0; chi2/DOF=nan\n",
      "Total mass MGE (MSun): 7.147e+12\n",
      "\n",
      "sigma_e: 131.37 km/s\n"
     ]
    },
    {
     "name": "stdout",
     "output_type": "stream",
     "text": [
      "jam_axi_proj(align='sph', moment='zz') -- elapsed time sec: 0.92\n",
      "analytic_los=0 logistic=0 constant_anisotropy=1\n",
      "No PSF/pixel convolution because sigmapsf=0 pixsize=0\n",
      "inc=83.1; beta[0]=0.0; kappa=1.00; M/L=1.00; BH=0.0; chi2/DOF=nan\n",
      "Total mass MGE (MSun): 7.147e+12\n",
      "\n",
      "sigma_e: 132.74 km/s\n"
     ]
    },
    {
     "name": "stdout",
     "output_type": "stream",
     "text": [
      "jam_axi_proj(align='sph', moment='zz') -- elapsed time sec: 0.92\n",
      "analytic_los=0 logistic=0 constant_anisotropy=1\n",
      "No PSF/pixel convolution because sigmapsf=0 pixsize=0\n",
      "inc=87.8; beta[0]=0.0; kappa=1.00; M/L=1.00; BH=0.0; chi2/DOF=nan\n",
      "Total mass MGE (MSun): 7.147e+12\n",
      "\n",
      "sigma_e: 129.81 km/s\n"
     ]
    },
    {
     "name": "stdout",
     "output_type": "stream",
     "text": [
      "jam_axi_proj(align='sph', moment='zz') -- elapsed time sec: 0.97\n",
      "analytic_los=0 logistic=0 constant_anisotropy=1\n",
      "No PSF/pixel convolution because sigmapsf=0 pixsize=0\n",
      "inc=59.6; beta[0]=0.0; kappa=1.00; M/L=1.00; BH=0.0; chi2/DOF=nan\n",
      "Total mass MGE (MSun): 7.147e+12\n",
      "\n",
      "sigma_e: 134.58 km/s\n"
     ]
    },
    {
     "name": "stdout",
     "output_type": "stream",
     "text": [
      "jam_axi_proj(align='sph', moment='zz') -- elapsed time sec: 0.99\n",
      "analytic_los=0 logistic=0 constant_anisotropy=1\n",
      "No PSF/pixel convolution because sigmapsf=0 pixsize=0\n",
      "inc=57.5; beta[0]=0.0; kappa=1.00; M/L=1.00; BH=0.0; chi2/DOF=nan\n",
      "Total mass MGE (MSun): 2.517e+13\n",
      "\n",
      "sigma_e: 185.50 km/s\n"
     ]
    },
    {
     "name": "stdout",
     "output_type": "stream",
     "text": [
      "jam_axi_proj(align='sph', moment='zz') -- elapsed time sec: 0.98\n",
      "analytic_los=0 logistic=0 constant_anisotropy=1\n",
      "No PSF/pixel convolution because sigmapsf=0 pixsize=0\n",
      "inc=63.9; beta[0]=0.0; kappa=1.00; M/L=1.00; BH=0.0; chi2/DOF=nan\n",
      "Total mass MGE (MSun): 2.517e+13\n",
      "\n",
      "sigma_e: 182.43 km/s\n"
     ]
    },
    {
     "name": "stdout",
     "output_type": "stream",
     "text": [
      "jam_axi_proj(align='sph', moment='zz') -- elapsed time sec: 0.77\n",
      "analytic_los=0 logistic=0 constant_anisotropy=1\n",
      "No PSF/pixel convolution because sigmapsf=0 pixsize=0\n",
      "inc=83.8; beta[0]=0.0; kappa=1.00; M/L=1.00; BH=0.0; chi2/DOF=nan\n",
      "Total mass MGE (MSun): 2.517e+13\n",
      "\n",
      "sigma_e: 189.58 km/s\n"
     ]
    },
    {
     "name": "stdout",
     "output_type": "stream",
     "text": [
      "jam_axi_proj(align='sph', moment='zz') -- elapsed time sec: 0.84\n",
      "analytic_los=0 logistic=0 constant_anisotropy=1\n",
      "No PSF/pixel convolution because sigmapsf=0 pixsize=0\n",
      "inc=58.6; beta[0]=0.0; kappa=1.00; M/L=1.00; BH=0.0; chi2/DOF=nan\n",
      "Total mass MGE (MSun): 2.517e+13\n",
      "\n",
      "sigma_e: 194.70 km/s\n"
     ]
    },
    {
     "name": "stdout",
     "output_type": "stream",
     "text": [
      "jam_axi_proj(align='sph', moment='zz') -- elapsed time sec: 0.95\n",
      "analytic_los=0 logistic=0 constant_anisotropy=1\n",
      "No PSF/pixel convolution because sigmapsf=0 pixsize=0\n",
      "inc=89.5; beta[0]=0.0; kappa=1.00; M/L=1.00; BH=0.0; chi2/DOF=nan\n",
      "Total mass MGE (MSun): 2.517e+13\n",
      "\n",
      "sigma_e: 179.79 km/s\n"
     ]
    },
    {
     "name": "stdout",
     "output_type": "stream",
     "text": [
      "jam_axi_proj(align='sph', moment='zz') -- elapsed time sec: 0.91\n",
      "analytic_los=0 logistic=0 constant_anisotropy=1\n",
      "No PSF/pixel convolution because sigmapsf=0 pixsize=0\n",
      "inc=25.6; beta[0]=0.0; kappa=1.00; M/L=1.00; BH=0.0; chi2/DOF=nan\n",
      "Total mass MGE (MSun): 2.517e+13\n",
      "\n",
      "sigma_e: 192.16 km/s\n"
     ]
    },
    {
     "name": "stdout",
     "output_type": "stream",
     "text": [
      "jam_axi_proj(align='sph', moment='zz') -- elapsed time sec: 0.98\n",
      "analytic_los=0 logistic=0 constant_anisotropy=1\n",
      "No PSF/pixel convolution because sigmapsf=0 pixsize=0\n",
      "inc=56.7; beta[0]=0.0; kappa=1.00; M/L=1.00; BH=0.0; chi2/DOF=nan\n",
      "Total mass MGE (MSun): 2.517e+13\n",
      "\n",
      "sigma_e: 182.57 km/s\n"
     ]
    },
    {
     "name": "stdout",
     "output_type": "stream",
     "text": [
      "jam_axi_proj(align='sph', moment='zz') -- elapsed time sec: 0.92\n",
      "analytic_los=0 logistic=0 constant_anisotropy=1\n",
      "No PSF/pixel convolution because sigmapsf=0 pixsize=0\n",
      "inc=32.7; beta[0]=0.0; kappa=1.00; M/L=1.00; BH=0.0; chi2/DOF=nan\n",
      "Total mass MGE (MSun): 2.517e+13\n",
      "\n",
      "sigma_e: 191.72 km/s\n"
     ]
    },
    {
     "name": "stdout",
     "output_type": "stream",
     "text": [
      "jam_axi_proj(align='sph', moment='zz') -- elapsed time sec: 0.93\n",
      "analytic_los=0 logistic=0 constant_anisotropy=1\n",
      "No PSF/pixel convolution because sigmapsf=0 pixsize=0\n",
      "inc=36.5; beta[0]=0.0; kappa=1.00; M/L=1.00; BH=0.0; chi2/DOF=nan\n",
      "Total mass MGE (MSun): 2.517e+13\n",
      "\n",
      "sigma_e: 195.57 km/s\n"
     ]
    },
    {
     "name": "stdout",
     "output_type": "stream",
     "text": [
      "jam_axi_proj(align='sph', moment='zz') -- elapsed time sec: 0.88\n",
      "analytic_los=0 logistic=0 constant_anisotropy=1\n",
      "No PSF/pixel convolution because sigmapsf=0 pixsize=0\n",
      "inc=75.8; beta[0]=0.0; kappa=1.00; M/L=1.00; BH=0.0; chi2/DOF=nan\n",
      "Total mass MGE (MSun): 2.517e+13\n",
      "\n",
      "sigma_e: 184.35 km/s\n"
     ]
    },
    {
     "name": "stdout",
     "output_type": "stream",
     "text": [
      "jam_axi_proj(align='sph', moment='zz') -- elapsed time sec: 1.04\n",
      "analytic_los=0 logistic=0 constant_anisotropy=1\n",
      "No PSF/pixel convolution because sigmapsf=0 pixsize=0\n",
      "inc=90.0; beta[0]=0.0; kappa=1.00; M/L=1.00; BH=0.0; chi2/DOF=nan\n",
      "Total mass MGE (MSun): 9.002e+13\n",
      "\n",
      "sigma_e: 240.81 km/s\n"
     ]
    },
    {
     "name": "stdout",
     "output_type": "stream",
     "text": [
      "jam_axi_proj(align='sph', moment='zz') -- elapsed time sec: 1.07\n",
      "analytic_los=0 logistic=0 constant_anisotropy=1\n",
      "No PSF/pixel convolution because sigmapsf=0 pixsize=0\n",
      "inc=71.4; beta[0]=0.0; kappa=1.00; M/L=1.00; BH=0.0; chi2/DOF=nan\n",
      "Total mass MGE (MSun): 9.002e+13\n",
      "\n",
      "sigma_e: 245.57 km/s\n"
     ]
    },
    {
     "name": "stdout",
     "output_type": "stream",
     "text": [
      "jam_axi_proj(align='sph', moment='zz') -- elapsed time sec: 0.93\n",
      "analytic_los=0 logistic=0 constant_anisotropy=1\n",
      "No PSF/pixel convolution because sigmapsf=0 pixsize=0\n",
      "inc=75.3; beta[0]=0.0; kappa=1.00; M/L=1.00; BH=0.0; chi2/DOF=nan\n",
      "Total mass MGE (MSun): 9.002e+13\n",
      "\n",
      "sigma_e: 255.04 km/s\n"
     ]
    },
    {
     "name": "stdout",
     "output_type": "stream",
     "text": [
      "jam_axi_proj(align='sph', moment='zz') -- elapsed time sec: 1.00\n",
      "analytic_los=0 logistic=0 constant_anisotropy=1\n",
      "No PSF/pixel convolution because sigmapsf=0 pixsize=0\n",
      "inc=76.9; beta[0]=0.0; kappa=1.00; M/L=1.00; BH=0.0; chi2/DOF=nan\n",
      "Total mass MGE (MSun): 9.002e+13\n",
      "\n",
      "sigma_e: 251.03 km/s\n"
     ]
    },
    {
     "name": "stdout",
     "output_type": "stream",
     "text": [
      "jam_axi_proj(align='sph', moment='zz') -- elapsed time sec: 0.96\n",
      "analytic_los=0 logistic=0 constant_anisotropy=1\n",
      "No PSF/pixel convolution because sigmapsf=0 pixsize=0\n",
      "inc=64.9; beta[0]=0.0; kappa=1.00; M/L=1.00; BH=0.0; chi2/DOF=nan\n",
      "Total mass MGE (MSun): 9.002e+13\n",
      "\n",
      "sigma_e: 271.27 km/s\n"
     ]
    },
    {
     "name": "stdout",
     "output_type": "stream",
     "text": [
      "jam_axi_proj(align='sph', moment='zz') -- elapsed time sec: 0.97\n",
      "analytic_los=0 logistic=0 constant_anisotropy=1\n",
      "No PSF/pixel convolution because sigmapsf=0 pixsize=0\n",
      "inc=59.7; beta[0]=0.0; kappa=1.00; M/L=1.00; BH=0.0; chi2/DOF=nan\n",
      "Total mass MGE (MSun): 9.002e+13\n",
      "\n",
      "sigma_e: 258.08 km/s\n"
     ]
    },
    {
     "name": "stdout",
     "output_type": "stream",
     "text": [
      "jam_axi_proj(align='sph', moment='zz') -- elapsed time sec: 0.93\n",
      "analytic_los=0 logistic=0 constant_anisotropy=1\n",
      "No PSF/pixel convolution because sigmapsf=0 pixsize=0\n",
      "inc=77.2; beta[0]=0.0; kappa=1.00; M/L=1.00; BH=0.0; chi2/DOF=nan\n",
      "Total mass MGE (MSun): 9.002e+13\n",
      "\n",
      "sigma_e: 272.91 km/s\n"
     ]
    },
    {
     "name": "stdout",
     "output_type": "stream",
     "text": [
      "jam_axi_proj(align='sph', moment='zz') -- elapsed time sec: 1.06\n",
      "analytic_los=0 logistic=0 constant_anisotropy=1\n",
      "No PSF/pixel convolution because sigmapsf=0 pixsize=0\n",
      "inc=71.3; beta[0]=0.0; kappa=1.00; M/L=1.00; BH=0.0; chi2/DOF=nan\n",
      "Total mass MGE (MSun): 9.002e+13\n",
      "\n",
      "sigma_e: 244.82 km/s\n"
     ]
    },
    {
     "name": "stdout",
     "output_type": "stream",
     "text": [
      "jam_axi_proj(align='sph', moment='zz') -- elapsed time sec: 0.98\n",
      "analytic_los=0 logistic=0 constant_anisotropy=1\n",
      "No PSF/pixel convolution because sigmapsf=0 pixsize=0\n",
      "inc=77.8; beta[0]=0.0; kappa=1.00; M/L=1.00; BH=0.0; chi2/DOF=nan\n",
      "Total mass MGE (MSun): 9.002e+13\n",
      "\n",
      "sigma_e: 244.49 km/s\n"
     ]
    },
    {
     "name": "stdout",
     "output_type": "stream",
     "text": [
      "jam_axi_proj(align='sph', moment='zz') -- elapsed time sec: 0.93\n",
      "analytic_los=0 logistic=0 constant_anisotropy=1\n",
      "No PSF/pixel convolution because sigmapsf=0 pixsize=0\n",
      "inc=47.8; beta[0]=0.0; kappa=1.00; M/L=1.00; BH=0.0; chi2/DOF=nan\n",
      "Total mass MGE (MSun): 9.002e+13\n",
      "\n",
      "sigma_e: 264.73 km/s\n"
     ]
    },
    {
     "name": "stdout",
     "output_type": "stream",
     "text": [
      "jam_axi_proj(align='sph', moment='zz') -- elapsed time sec: 1.04\n",
      "analytic_los=0 logistic=0 constant_anisotropy=1\n",
      "No PSF/pixel convolution because sigmapsf=0 pixsize=0\n",
      "inc=73.0; beta[0]=0.0; kappa=1.00; M/L=1.00; BH=0.0; chi2/DOF=nan\n",
      "Total mass MGE (MSun): 3.365e+13\n",
      "\n",
      "sigma_e: 190.00 km/s\n"
     ]
    },
    {
     "name": "stdout",
     "output_type": "stream",
     "text": [
      "jam_axi_proj(align='sph', moment='zz') -- elapsed time sec: 0.99\n",
      "analytic_los=0 logistic=0 constant_anisotropy=1\n",
      "No PSF/pixel convolution because sigmapsf=0 pixsize=0\n",
      "inc=54.3; beta[0]=0.0; kappa=1.00; M/L=1.00; BH=0.0; chi2/DOF=nan\n",
      "Total mass MGE (MSun): 3.365e+13\n",
      "\n",
      "sigma_e: 211.40 km/s\n"
     ]
    },
    {
     "name": "stdout",
     "output_type": "stream",
     "text": [
      "jam_axi_proj(align='sph', moment='zz') -- elapsed time sec: 0.99\n",
      "analytic_los=0 logistic=0 constant_anisotropy=1\n",
      "No PSF/pixel convolution because sigmapsf=0 pixsize=0\n",
      "inc=87.0; beta[0]=0.0; kappa=1.00; M/L=1.00; BH=0.0; chi2/DOF=nan\n",
      "Total mass MGE (MSun): 3.365e+13\n",
      "\n",
      "sigma_e: 190.61 km/s\n"
     ]
    },
    {
     "name": "stdout",
     "output_type": "stream",
     "text": [
      "jam_axi_proj(align='sph', moment='zz') -- elapsed time sec: 0.91\n",
      "analytic_los=0 logistic=0 constant_anisotropy=1\n",
      "No PSF/pixel convolution because sigmapsf=0 pixsize=0\n",
      "inc=26.6; beta[0]=0.0; kappa=1.00; M/L=1.00; BH=0.0; chi2/DOF=nan\n",
      "Total mass MGE (MSun): 3.365e+13\n",
      "\n",
      "sigma_e: 218.35 km/s\n"
     ]
    },
    {
     "name": "stdout",
     "output_type": "stream",
     "text": [
      "jam_axi_proj(align='sph', moment='zz') -- elapsed time sec: 1.03\n",
      "analytic_los=0 logistic=0 constant_anisotropy=1\n",
      "No PSF/pixel convolution because sigmapsf=0 pixsize=0\n",
      "inc=86.5; beta[0]=0.0; kappa=1.00; M/L=1.00; BH=0.0; chi2/DOF=nan\n",
      "Total mass MGE (MSun): 3.365e+13\n",
      "\n",
      "sigma_e: 190.58 km/s\n"
     ]
    },
    {
     "name": "stdout",
     "output_type": "stream",
     "text": [
      "jam_axi_proj(align='sph', moment='zz') -- elapsed time sec: 0.99\n",
      "analytic_los=0 logistic=0 constant_anisotropy=1\n",
      "No PSF/pixel convolution because sigmapsf=0 pixsize=0\n",
      "inc=39.8; beta[0]=0.0; kappa=1.00; M/L=1.00; BH=0.0; chi2/DOF=nan\n",
      "Total mass MGE (MSun): 3.365e+13\n",
      "\n",
      "sigma_e: 215.75 km/s\n"
     ]
    },
    {
     "name": "stdout",
     "output_type": "stream",
     "text": [
      "jam_axi_proj(align='sph', moment='zz') -- elapsed time sec: 1.10\n",
      "analytic_los=0 logistic=0 constant_anisotropy=1\n",
      "No PSF/pixel convolution because sigmapsf=0 pixsize=0\n",
      "inc=80.2; beta[0]=0.0; kappa=1.00; M/L=1.00; BH=0.0; chi2/DOF=nan\n",
      "Total mass MGE (MSun): 3.365e+13\n",
      "\n",
      "sigma_e: 191.08 km/s\n"
     ]
    },
    {
     "name": "stdout",
     "output_type": "stream",
     "text": [
      "jam_axi_proj(align='sph', moment='zz') -- elapsed time sec: 0.91\n",
      "analytic_los=0 logistic=0 constant_anisotropy=1\n",
      "No PSF/pixel convolution because sigmapsf=0 pixsize=0\n",
      "inc=34.0; beta[0]=0.0; kappa=1.00; M/L=1.00; BH=0.0; chi2/DOF=nan\n",
      "Total mass MGE (MSun): 3.365e+13\n",
      "\n",
      "sigma_e: 218.11 km/s\n"
     ]
    },
    {
     "name": "stdout",
     "output_type": "stream",
     "text": [
      "jam_axi_proj(align='sph', moment='zz') -- elapsed time sec: 1.06\n",
      "analytic_los=0 logistic=0 constant_anisotropy=1\n",
      "No PSF/pixel convolution because sigmapsf=0 pixsize=0\n",
      "inc=66.0; beta[0]=0.0; kappa=1.00; M/L=1.00; BH=0.0; chi2/DOF=nan\n",
      "Total mass MGE (MSun): 3.365e+13\n",
      "\n",
      "sigma_e: 194.39 km/s\n"
     ]
    },
    {
     "name": "stdout",
     "output_type": "stream",
     "text": [
      "jam_axi_proj(align='sph', moment='zz') -- elapsed time sec: 1.04\n",
      "analytic_los=0 logistic=0 constant_anisotropy=1\n",
      "No PSF/pixel convolution because sigmapsf=0 pixsize=0\n",
      "inc=75.6; beta[0]=0.0; kappa=1.00; M/L=1.00; BH=0.0; chi2/DOF=nan\n",
      "Total mass MGE (MSun): 3.365e+13\n",
      "\n",
      "sigma_e: 192.45 km/s\n"
     ]
    },
    {
     "name": "stdout",
     "output_type": "stream",
     "text": [
      "jam_axi_proj(align='sph', moment='zz') -- elapsed time sec: 1.01\n",
      "analytic_los=0 logistic=0 constant_anisotropy=1\n",
      "No PSF/pixel convolution because sigmapsf=0 pixsize=0\n",
      "inc=47.5; beta[0]=0.0; kappa=1.00; M/L=1.00; BH=0.0; chi2/DOF=nan\n",
      "Total mass MGE (MSun): 4.505e+13\n",
      "\n",
      "sigma_e: 229.06 km/s\n"
     ]
    },
    {
     "name": "stdout",
     "output_type": "stream",
     "text": [
      "jam_axi_proj(align='sph', moment='zz') -- elapsed time sec: 0.98\n",
      "analytic_los=0 logistic=0 constant_anisotropy=1\n",
      "No PSF/pixel convolution because sigmapsf=0 pixsize=0\n",
      "inc=47.1; beta[0]=0.0; kappa=1.00; M/L=1.00; BH=0.0; chi2/DOF=nan\n",
      "Total mass MGE (MSun): 4.505e+13\n",
      "\n",
      "sigma_e: 228.68 km/s\n"
     ]
    },
    {
     "name": "stdout",
     "output_type": "stream",
     "text": [
      "jam_axi_proj(align='sph', moment='zz') -- elapsed time sec: 0.89\n",
      "analytic_los=0 logistic=0 constant_anisotropy=1\n",
      "No PSF/pixel convolution because sigmapsf=0 pixsize=0\n",
      "inc=79.4; beta[0]=0.0; kappa=1.00; M/L=1.00; BH=0.0; chi2/DOF=nan\n",
      "Total mass MGE (MSun): 4.505e+13\n",
      "\n",
      "sigma_e: 208.32 km/s\n"
     ]
    },
    {
     "name": "stdout",
     "output_type": "stream",
     "text": [
      "jam_axi_proj(align='sph', moment='zz') -- elapsed time sec: 0.97\n",
      "analytic_los=0 logistic=0 constant_anisotropy=1\n",
      "No PSF/pixel convolution because sigmapsf=0 pixsize=0\n",
      "inc=45.7; beta[0]=0.0; kappa=1.00; M/L=1.00; BH=0.0; chi2/DOF=nan\n",
      "Total mass MGE (MSun): 4.505e+13\n",
      "\n",
      "sigma_e: 229.88 km/s\n"
     ]
    },
    {
     "name": "stdout",
     "output_type": "stream",
     "text": [
      "jam_axi_proj(align='sph', moment='zz') -- elapsed time sec: 0.97\n",
      "analytic_los=0 logistic=0 constant_anisotropy=1\n",
      "No PSF/pixel convolution because sigmapsf=0 pixsize=0\n",
      "inc=67.8; beta[0]=0.0; kappa=1.00; M/L=1.00; BH=0.0; chi2/DOF=nan\n",
      "Total mass MGE (MSun): 4.505e+13\n",
      "\n",
      "sigma_e: 212.42 km/s\n"
     ]
    },
    {
     "name": "stdout",
     "output_type": "stream",
     "text": [
      "jam_axi_proj(align='sph', moment='zz') -- elapsed time sec: 0.93\n",
      "analytic_los=0 logistic=0 constant_anisotropy=1\n",
      "No PSF/pixel convolution because sigmapsf=0 pixsize=0\n",
      "inc=60.9; beta[0]=0.0; kappa=1.00; M/L=1.00; BH=0.0; chi2/DOF=nan\n",
      "Total mass MGE (MSun): 4.505e+13\n",
      "\n",
      "sigma_e: 218.36 km/s\n"
     ]
    },
    {
     "name": "stdout",
     "output_type": "stream",
     "text": [
      "jam_axi_proj(align='sph', moment='zz') -- elapsed time sec: 0.96\n",
      "analytic_los=0 logistic=0 constant_anisotropy=1\n",
      "No PSF/pixel convolution because sigmapsf=0 pixsize=0\n",
      "inc=57.3; beta[0]=0.0; kappa=1.00; M/L=1.00; BH=0.0; chi2/DOF=nan\n",
      "Total mass MGE (MSun): 4.505e+13\n",
      "\n",
      "sigma_e: 211.16 km/s\n"
     ]
    },
    {
     "name": "stdout",
     "output_type": "stream",
     "text": [
      "jam_axi_proj(align='sph', moment='zz') -- elapsed time sec: 0.96\n",
      "analytic_los=0 logistic=0 constant_anisotropy=1\n",
      "No PSF/pixel convolution because sigmapsf=0 pixsize=0\n",
      "inc=49.2; beta[0]=0.0; kappa=1.00; M/L=1.00; BH=0.0; chi2/DOF=nan\n",
      "Total mass MGE (MSun): 4.505e+13\n",
      "\n",
      "sigma_e: 221.89 km/s\n"
     ]
    },
    {
     "name": "stdout",
     "output_type": "stream",
     "text": [
      "jam_axi_proj(align='sph', moment='zz') -- elapsed time sec: 0.98\n",
      "analytic_los=0 logistic=0 constant_anisotropy=1\n",
      "No PSF/pixel convolution because sigmapsf=0 pixsize=0\n",
      "inc=44.4; beta[0]=0.0; kappa=1.00; M/L=1.00; BH=0.0; chi2/DOF=nan\n",
      "Total mass MGE (MSun): 4.505e+13\n",
      "\n",
      "sigma_e: 215.04 km/s\n"
     ]
    },
    {
     "name": "stdout",
     "output_type": "stream",
     "text": [
      "jam_axi_proj(align='sph', moment='zz') -- elapsed time sec: 0.98\n",
      "analytic_los=0 logistic=0 constant_anisotropy=1\n",
      "No PSF/pixel convolution because sigmapsf=0 pixsize=0\n",
      "inc=65.5; beta[0]=0.0; kappa=1.00; M/L=1.00; BH=0.0; chi2/DOF=nan\n",
      "Total mass MGE (MSun): 4.505e+13\n",
      "\n",
      "sigma_e: 210.40 km/s\n"
     ]
    },
    {
     "name": "stdout",
     "output_type": "stream",
     "text": [
      "jam_axi_proj(align='sph', moment='zz') -- elapsed time sec: 0.82\n",
      "analytic_los=0 logistic=0 constant_anisotropy=1\n",
      "No PSF/pixel convolution because sigmapsf=0 pixsize=0\n",
      "inc=26.8; beta[0]=0.0; kappa=1.00; M/L=1.00; BH=0.0; chi2/DOF=nan\n",
      "Total mass MGE (MSun): 1.879e+13\n",
      "\n",
      "sigma_e: 187.79 km/s\n"
     ]
    },
    {
     "name": "stdout",
     "output_type": "stream",
     "text": [
      "jam_axi_proj(align='sph', moment='zz') -- elapsed time sec: 0.95\n",
      "analytic_los=0 logistic=0 constant_anisotropy=1\n",
      "No PSF/pixel convolution because sigmapsf=0 pixsize=0\n",
      "inc=83.7; beta[0]=0.0; kappa=1.00; M/L=1.00; BH=0.0; chi2/DOF=nan\n",
      "Total mass MGE (MSun): 1.879e+13\n",
      "\n",
      "sigma_e: 180.23 km/s\n"
     ]
    },
    {
     "name": "stdout",
     "output_type": "stream",
     "text": [
      "jam_axi_proj(align='sph', moment='zz') -- elapsed time sec: 1.11\n",
      "analytic_los=0 logistic=0 constant_anisotropy=1\n",
      "No PSF/pixel convolution because sigmapsf=0 pixsize=0\n",
      "inc=85.2; beta[0]=0.0; kappa=1.00; M/L=1.00; BH=0.0; chi2/DOF=nan\n",
      "Total mass MGE (MSun): 1.879e+13\n",
      "\n",
      "sigma_e: 168.88 km/s\n"
     ]
    },
    {
     "name": "stdout",
     "output_type": "stream",
     "text": [
      "jam_axi_proj(align='sph', moment='zz') -- elapsed time sec: 1.00\n",
      "analytic_los=0 logistic=0 constant_anisotropy=1\n",
      "No PSF/pixel convolution because sigmapsf=0 pixsize=0\n",
      "inc=73.2; beta[0]=0.0; kappa=1.00; M/L=1.00; BH=0.0; chi2/DOF=nan\n",
      "Total mass MGE (MSun): 1.879e+13\n",
      "\n",
      "sigma_e: 173.06 km/s\n"
     ]
    },
    {
     "name": "stdout",
     "output_type": "stream",
     "text": [
      "jam_axi_proj(align='sph', moment='zz') -- elapsed time sec: 0.95\n",
      "analytic_los=0 logistic=0 constant_anisotropy=1\n",
      "No PSF/pixel convolution because sigmapsf=0 pixsize=0\n",
      "inc=85.7; beta[0]=0.0; kappa=1.00; M/L=1.00; BH=0.0; chi2/DOF=nan\n",
      "Total mass MGE (MSun): 1.879e+13\n",
      "\n",
      "sigma_e: 169.20 km/s\n"
     ]
    },
    {
     "name": "stdout",
     "output_type": "stream",
     "text": [
      "jam_axi_proj(align='sph', moment='zz') -- elapsed time sec: 1.01\n",
      "analytic_los=0 logistic=0 constant_anisotropy=1\n",
      "No PSF/pixel convolution because sigmapsf=0 pixsize=0\n",
      "inc=75.3; beta[0]=0.0; kappa=1.00; M/L=1.00; BH=0.0; chi2/DOF=nan\n",
      "Total mass MGE (MSun): 1.879e+13\n",
      "\n",
      "sigma_e: 160.72 km/s\n"
     ]
    },
    {
     "name": "stdout",
     "output_type": "stream",
     "text": [
      "jam_axi_proj(align='sph', moment='zz') -- elapsed time sec: 1.01\n",
      "analytic_los=0 logistic=0 constant_anisotropy=1\n",
      "No PSF/pixel convolution because sigmapsf=0 pixsize=0\n",
      "inc=83.5; beta[0]=0.0; kappa=1.00; M/L=1.00; BH=0.0; chi2/DOF=nan\n",
      "Total mass MGE (MSun): 1.879e+13\n",
      "\n",
      "sigma_e: 158.43 km/s\n"
     ]
    },
    {
     "name": "stdout",
     "output_type": "stream",
     "text": [
      "jam_axi_proj(align='sph', moment='zz') -- elapsed time sec: 0.93\n",
      "analytic_los=0 logistic=0 constant_anisotropy=1\n",
      "No PSF/pixel convolution because sigmapsf=0 pixsize=0\n",
      "inc=57.4; beta[0]=0.0; kappa=1.00; M/L=1.00; BH=0.0; chi2/DOF=nan\n",
      "Total mass MGE (MSun): 1.879e+13\n",
      "\n",
      "sigma_e: 189.55 km/s\n"
     ]
    },
    {
     "name": "stdout",
     "output_type": "stream",
     "text": [
      "jam_axi_proj(align='sph', moment='zz') -- elapsed time sec: 0.87\n",
      "analytic_los=0 logistic=0 constant_anisotropy=1\n",
      "No PSF/pixel convolution because sigmapsf=0 pixsize=0\n",
      "inc=74.1; beta[0]=0.0; kappa=1.00; M/L=1.00; BH=0.0; chi2/DOF=nan\n",
      "Total mass MGE (MSun): 1.879e+13\n",
      "\n",
      "sigma_e: 186.53 km/s\n"
     ]
    },
    {
     "name": "stdout",
     "output_type": "stream",
     "text": [
      "jam_axi_proj(align='sph', moment='zz') -- elapsed time sec: 0.98\n",
      "analytic_los=0 logistic=0 constant_anisotropy=1\n",
      "No PSF/pixel convolution because sigmapsf=0 pixsize=0\n",
      "inc=83.1; beta[0]=0.0; kappa=1.00; M/L=1.00; BH=0.0; chi2/DOF=nan\n",
      "Total mass MGE (MSun): 1.879e+13\n",
      "\n",
      "sigma_e: 160.03 km/s\n"
     ]
    },
    {
     "name": "stdout",
     "output_type": "stream",
     "text": [
      "jam_axi_proj(align='sph', moment='zz') -- elapsed time sec: 1.04\n",
      "analytic_los=0 logistic=0 constant_anisotropy=1\n",
      "No PSF/pixel convolution because sigmapsf=0 pixsize=0\n",
      "inc=43.4; beta[0]=0.0; kappa=1.00; M/L=1.00; BH=0.0; chi2/DOF=nan\n",
      "Total mass MGE (MSun): 2.382e+13\n",
      "\n",
      "sigma_e: 193.64 km/s\n"
     ]
    },
    {
     "name": "stdout",
     "output_type": "stream",
     "text": [
      "jam_axi_proj(align='sph', moment='zz') -- elapsed time sec: 0.95\n",
      "analytic_los=0 logistic=0 constant_anisotropy=1\n",
      "No PSF/pixel convolution because sigmapsf=0 pixsize=0\n",
      "inc=54.8; beta[0]=0.0; kappa=1.00; M/L=1.00; BH=0.0; chi2/DOF=nan\n",
      "Total mass MGE (MSun): 2.382e+13\n",
      "\n",
      "sigma_e: 188.62 km/s\n"
     ]
    },
    {
     "name": "stdout",
     "output_type": "stream",
     "text": [
      "jam_axi_proj(align='sph', moment='zz') -- elapsed time sec: 0.92\n",
      "analytic_los=0 logistic=0 constant_anisotropy=1\n",
      "No PSF/pixel convolution because sigmapsf=0 pixsize=0\n",
      "inc=32.6; beta[0]=0.0; kappa=1.00; M/L=1.00; BH=0.0; chi2/DOF=nan\n",
      "Total mass MGE (MSun): 2.382e+13\n",
      "\n",
      "sigma_e: 184.63 km/s\n"
     ]
    },
    {
     "name": "stdout",
     "output_type": "stream",
     "text": [
      "jam_axi_proj(align='sph', moment='zz') -- elapsed time sec: 0.96\n",
      "analytic_los=0 logistic=0 constant_anisotropy=1\n",
      "No PSF/pixel convolution because sigmapsf=0 pixsize=0\n",
      "inc=56.3; beta[0]=0.0; kappa=1.00; M/L=1.00; BH=0.0; chi2/DOF=nan\n",
      "Total mass MGE (MSun): 2.382e+13\n",
      "\n",
      "sigma_e: 182.00 km/s\n"
     ]
    },
    {
     "name": "stdout",
     "output_type": "stream",
     "text": [
      "jam_axi_proj(align='sph', moment='zz') -- elapsed time sec: 1.01\n",
      "analytic_los=0 logistic=0 constant_anisotropy=1\n",
      "No PSF/pixel convolution because sigmapsf=0 pixsize=0\n",
      "inc=88.5; beta[0]=0.0; kappa=1.00; M/L=1.00; BH=0.0; chi2/DOF=nan\n",
      "Total mass MGE (MSun): 2.382e+13\n",
      "\n",
      "sigma_e: 178.56 km/s\n"
     ]
    },
    {
     "name": "stdout",
     "output_type": "stream",
     "text": [
      "jam_axi_proj(align='sph', moment='zz') -- elapsed time sec: 0.97\n",
      "analytic_los=0 logistic=0 constant_anisotropy=1\n",
      "No PSF/pixel convolution because sigmapsf=0 pixsize=0\n",
      "inc=60.3; beta[0]=0.0; kappa=1.00; M/L=1.00; BH=0.0; chi2/DOF=nan\n",
      "Total mass MGE (MSun): 2.382e+13\n",
      "\n",
      "sigma_e: 186.47 km/s\n"
     ]
    },
    {
     "name": "stdout",
     "output_type": "stream",
     "text": [
      "jam_axi_proj(align='sph', moment='zz') -- elapsed time sec: 0.88\n",
      "analytic_los=0 logistic=0 constant_anisotropy=1\n",
      "No PSF/pixel convolution because sigmapsf=0 pixsize=0\n",
      "inc=9.52; beta[0]=0.0; kappa=1.00; M/L=1.00; BH=0.0; chi2/DOF=nan\n",
      "Total mass MGE (MSun): 2.382e+13\n",
      "\n",
      "sigma_e: 186.17 km/s\n"
     ]
    },
    {
     "name": "stdout",
     "output_type": "stream",
     "text": [
      "jam_axi_proj(align='sph', moment='zz') -- elapsed time sec: 0.89\n",
      "analytic_los=0 logistic=0 constant_anisotropy=1\n",
      "No PSF/pixel convolution because sigmapsf=0 pixsize=0\n",
      "inc=76.4; beta[0]=0.0; kappa=1.00; M/L=1.00; BH=0.0; chi2/DOF=nan\n",
      "Total mass MGE (MSun): 2.382e+13\n",
      "\n",
      "sigma_e: 189.69 km/s\n"
     ]
    },
    {
     "name": "stdout",
     "output_type": "stream",
     "text": [
      "jam_axi_proj(align='sph', moment='zz') -- elapsed time sec: 0.88\n",
      "analytic_los=0 logistic=0 constant_anisotropy=1\n",
      "No PSF/pixel convolution because sigmapsf=0 pixsize=0\n",
      "inc=58.2; beta[0]=0.0; kappa=1.00; M/L=1.00; BH=0.0; chi2/DOF=nan\n",
      "Total mass MGE (MSun): 2.382e+13\n",
      "\n",
      "sigma_e: 181.06 km/s\n"
     ]
    },
    {
     "name": "stdout",
     "output_type": "stream",
     "text": [
      "jam_axi_proj(align='sph', moment='zz') -- elapsed time sec: 0.95\n",
      "analytic_los=0 logistic=0 constant_anisotropy=1\n",
      "No PSF/pixel convolution because sigmapsf=0 pixsize=0\n",
      "inc=42.5; beta[0]=0.0; kappa=1.00; M/L=1.00; BH=0.0; chi2/DOF=nan\n",
      "Total mass MGE (MSun): 2.382e+13\n",
      "\n",
      "sigma_e: 192.47 km/s\n"
     ]
    },
    {
     "name": "stdout",
     "output_type": "stream",
     "text": [
      "jam_axi_proj(align='sph', moment='zz') -- elapsed time sec: 1.03\n",
      "analytic_los=0 logistic=0 constant_anisotropy=1\n",
      "No PSF/pixel convolution because sigmapsf=0 pixsize=0\n",
      "inc=60.3; beta[0]=0.0; kappa=1.00; M/L=1.00; BH=0.0; chi2/DOF=nan\n",
      "Total mass MGE (MSun): 1.821e+13\n",
      "\n",
      "sigma_e: 168.76 km/s\n"
     ]
    },
    {
     "name": "stdout",
     "output_type": "stream",
     "text": [
      "jam_axi_proj(align='sph', moment='zz') -- elapsed time sec: 0.98\n",
      "analytic_los=0 logistic=0 constant_anisotropy=1\n",
      "No PSF/pixel convolution because sigmapsf=0 pixsize=0\n",
      "inc=81.3; beta[0]=0.0; kappa=1.00; M/L=1.00; BH=0.0; chi2/DOF=nan\n",
      "Total mass MGE (MSun): 1.821e+13\n",
      "\n",
      "sigma_e: 158.73 km/s\n"
     ]
    },
    {
     "name": "stdout",
     "output_type": "stream",
     "text": [
      "jam_axi_proj(align='sph', moment='zz') -- elapsed time sec: 0.98\n",
      "analytic_los=0 logistic=0 constant_anisotropy=1\n",
      "No PSF/pixel convolution because sigmapsf=0 pixsize=0\n",
      "inc=66.8; beta[0]=0.0; kappa=1.00; M/L=1.00; BH=0.0; chi2/DOF=nan\n",
      "Total mass MGE (MSun): 1.821e+13\n",
      "\n",
      "sigma_e: 164.60 km/s\n"
     ]
    },
    {
     "name": "stdout",
     "output_type": "stream",
     "text": [
      "jam_axi_proj(align='sph', moment='zz') -- elapsed time sec: 1.01\n",
      "analytic_los=0 logistic=0 constant_anisotropy=1\n",
      "No PSF/pixel convolution because sigmapsf=0 pixsize=0\n",
      "inc=86.5; beta[0]=0.0; kappa=1.00; M/L=1.00; BH=0.0; chi2/DOF=nan\n",
      "Total mass MGE (MSun): 1.821e+13\n",
      "\n",
      "sigma_e: 159.60 km/s\n"
     ]
    },
    {
     "name": "stdout",
     "output_type": "stream",
     "text": [
      "jam_axi_proj(align='sph', moment='zz') -- elapsed time sec: 0.98\n",
      "analytic_los=0 logistic=0 constant_anisotropy=1\n",
      "No PSF/pixel convolution because sigmapsf=0 pixsize=0\n",
      "inc=82.2; beta[0]=0.0; kappa=1.00; M/L=1.00; BH=0.0; chi2/DOF=nan\n",
      "Total mass MGE (MSun): 1.821e+13\n",
      "\n",
      "sigma_e: 162.73 km/s\n"
     ]
    },
    {
     "name": "stdout",
     "output_type": "stream",
     "text": [
      "jam_axi_proj(align='sph', moment='zz') -- elapsed time sec: 0.97\n",
      "analytic_los=0 logistic=0 constant_anisotropy=1\n",
      "No PSF/pixel convolution because sigmapsf=0 pixsize=0\n",
      "inc=81.0; beta[0]=0.0; kappa=1.00; M/L=1.00; BH=0.0; chi2/DOF=nan\n",
      "Total mass MGE (MSun): 1.821e+13\n",
      "\n",
      "sigma_e: 173.45 km/s\n"
     ]
    },
    {
     "name": "stdout",
     "output_type": "stream",
     "text": [
      "jam_axi_proj(align='sph', moment='zz') -- elapsed time sec: 1.00\n",
      "analytic_los=0 logistic=0 constant_anisotropy=1\n",
      "No PSF/pixel convolution because sigmapsf=0 pixsize=0\n",
      "inc=83.0; beta[0]=0.0; kappa=1.00; M/L=1.00; BH=0.0; chi2/DOF=nan\n",
      "Total mass MGE (MSun): 1.821e+13\n",
      "\n",
      "sigma_e: 170.77 km/s\n"
     ]
    },
    {
     "name": "stdout",
     "output_type": "stream",
     "text": [
      "jam_axi_proj(align='sph', moment='zz') -- elapsed time sec: 0.98\n",
      "analytic_los=0 logistic=0 constant_anisotropy=1\n",
      "No PSF/pixel convolution because sigmapsf=0 pixsize=0\n",
      "inc=51.1; beta[0]=0.0; kappa=1.00; M/L=1.00; BH=0.0; chi2/DOF=nan\n",
      "Total mass MGE (MSun): 1.821e+13\n",
      "\n",
      "sigma_e: 178.65 km/s\n"
     ]
    },
    {
     "name": "stdout",
     "output_type": "stream",
     "text": [
      "jam_axi_proj(align='sph', moment='zz') -- elapsed time sec: 0.99\n",
      "analytic_los=0 logistic=0 constant_anisotropy=1\n",
      "No PSF/pixel convolution because sigmapsf=0 pixsize=0\n",
      "inc=60.3; beta[0]=0.0; kappa=1.00; M/L=1.00; BH=0.0; chi2/DOF=nan\n",
      "Total mass MGE (MSun): 1.821e+13\n",
      "\n",
      "sigma_e: 188.11 km/s\n"
     ]
    },
    {
     "name": "stdout",
     "output_type": "stream",
     "text": [
      "jam_axi_proj(align='sph', moment='zz') -- elapsed time sec: 1.01\n",
      "analytic_los=0 logistic=0 constant_anisotropy=1\n",
      "No PSF/pixel convolution because sigmapsf=0 pixsize=0\n",
      "inc=85.2; beta[0]=0.0; kappa=1.00; M/L=1.00; BH=0.0; chi2/DOF=nan\n",
      "Total mass MGE (MSun): 1.821e+13\n",
      "\n",
      "sigma_e: 158.02 km/s\n"
     ]
    },
    {
     "name": "stdout",
     "output_type": "stream",
     "text": [
      "jam_axi_proj(align='sph', moment='zz') -- elapsed time sec: 1.01\n",
      "analytic_los=0 logistic=0 constant_anisotropy=1\n",
      "No PSF/pixel convolution because sigmapsf=0 pixsize=0\n",
      "inc=77.4; beta[0]=0.0; kappa=1.00; M/L=1.00; BH=0.0; chi2/DOF=nan\n",
      "Total mass MGE (MSun): 1.871e+13\n",
      "\n",
      "sigma_e: 168.87 km/s\n"
     ]
    },
    {
     "name": "stdout",
     "output_type": "stream",
     "text": [
      "jam_axi_proj(align='sph', moment='zz') -- elapsed time sec: 0.96\n",
      "analytic_los=0 logistic=0 constant_anisotropy=1\n",
      "No PSF/pixel convolution because sigmapsf=0 pixsize=0\n",
      "inc=60.7; beta[0]=0.0; kappa=1.00; M/L=1.00; BH=0.0; chi2/DOF=nan\n",
      "Total mass MGE (MSun): 1.871e+13\n",
      "\n",
      "sigma_e: 177.65 km/s\n"
     ]
    },
    {
     "name": "stdout",
     "output_type": "stream",
     "text": [
      "jam_axi_proj(align='sph', moment='zz') -- elapsed time sec: 1.03\n",
      "analytic_los=0 logistic=0 constant_anisotropy=1\n",
      "No PSF/pixel convolution because sigmapsf=0 pixsize=0\n",
      "inc=77.9; beta[0]=0.0; kappa=1.00; M/L=1.00; BH=0.0; chi2/DOF=nan\n",
      "Total mass MGE (MSun): 1.871e+13\n",
      "\n",
      "sigma_e: 163.63 km/s\n"
     ]
    },
    {
     "name": "stdout",
     "output_type": "stream",
     "text": [
      "jam_axi_proj(align='sph', moment='zz') -- elapsed time sec: 0.99\n",
      "analytic_los=0 logistic=0 constant_anisotropy=1\n",
      "No PSF/pixel convolution because sigmapsf=0 pixsize=0\n",
      "inc=74.0; beta[0]=0.0; kappa=1.00; M/L=1.00; BH=0.0; chi2/DOF=nan\n",
      "Total mass MGE (MSun): 1.871e+13\n",
      "\n",
      "sigma_e: 171.67 km/s\n"
     ]
    },
    {
     "name": "stdout",
     "output_type": "stream",
     "text": [
      "jam_axi_proj(align='sph', moment='zz') -- elapsed time sec: 1.05\n",
      "analytic_los=0 logistic=0 constant_anisotropy=1\n",
      "No PSF/pixel convolution because sigmapsf=0 pixsize=0\n",
      "inc=72.1; beta[0]=0.0; kappa=1.00; M/L=1.00; BH=0.0; chi2/DOF=nan\n",
      "Total mass MGE (MSun): 1.871e+13\n",
      "\n",
      "sigma_e: 164.18 km/s\n"
     ]
    },
    {
     "name": "stdout",
     "output_type": "stream",
     "text": [
      "jam_axi_proj(align='sph', moment='zz') -- elapsed time sec: 0.91\n",
      "analytic_los=0 logistic=0 constant_anisotropy=1\n",
      "No PSF/pixel convolution because sigmapsf=0 pixsize=0\n",
      "inc=67.2; beta[0]=0.0; kappa=1.00; M/L=1.00; BH=0.0; chi2/DOF=nan\n",
      "Total mass MGE (MSun): 1.871e+13\n",
      "\n",
      "sigma_e: 179.80 km/s\n"
     ]
    },
    {
     "name": "stdout",
     "output_type": "stream",
     "text": [
      "jam_axi_proj(align='sph', moment='zz') -- elapsed time sec: 0.98\n",
      "analytic_los=0 logistic=0 constant_anisotropy=1\n",
      "No PSF/pixel convolution because sigmapsf=0 pixsize=0\n",
      "inc=86.1; beta[0]=0.0; kappa=1.00; M/L=1.00; BH=0.0; chi2/DOF=nan\n",
      "Total mass MGE (MSun): 1.871e+13\n",
      "\n",
      "sigma_e: 176.06 km/s\n"
     ]
    },
    {
     "name": "stdout",
     "output_type": "stream",
     "text": [
      "jam_axi_proj(align='sph', moment='zz') -- elapsed time sec: 0.92\n",
      "analytic_los=0 logistic=0 constant_anisotropy=1\n",
      "No PSF/pixel convolution because sigmapsf=0 pixsize=0\n",
      "inc=25.3; beta[0]=0.0; kappa=1.00; M/L=1.00; BH=0.0; chi2/DOF=nan\n",
      "Total mass MGE (MSun): 1.871e+13\n",
      "\n",
      "sigma_e: 185.63 km/s\n"
     ]
    },
    {
     "name": "stdout",
     "output_type": "stream",
     "text": [
      "jam_axi_proj(align='sph', moment='zz') -- elapsed time sec: 1.01\n",
      "analytic_los=0 logistic=0 constant_anisotropy=1\n",
      "No PSF/pixel convolution because sigmapsf=0 pixsize=0\n",
      "inc=66.6; beta[0]=0.0; kappa=1.00; M/L=1.00; BH=0.0; chi2/DOF=nan\n",
      "Total mass MGE (MSun): 1.871e+13\n",
      "\n",
      "sigma_e: 177.83 km/s\n"
     ]
    },
    {
     "name": "stdout",
     "output_type": "stream",
     "text": [
      "jam_axi_proj(align='sph', moment='zz') -- elapsed time sec: 0.97\n",
      "analytic_los=0 logistic=0 constant_anisotropy=1\n",
      "No PSF/pixel convolution because sigmapsf=0 pixsize=0\n",
      "inc=81.6; beta[0]=0.0; kappa=1.00; M/L=1.00; BH=0.0; chi2/DOF=nan\n",
      "Total mass MGE (MSun): 1.871e+13\n",
      "\n",
      "sigma_e: 171.57 km/s\n"
     ]
    },
    {
     "name": "stdout",
     "output_type": "stream",
     "text": [
      "jam_axi_proj(align='sph', moment='zz') -- elapsed time sec: 0.95\n",
      "analytic_los=0 logistic=0 constant_anisotropy=1\n",
      "No PSF/pixel convolution because sigmapsf=0 pixsize=0\n",
      "inc=56.8; beta[0]=0.0; kappa=1.00; M/L=1.00; BH=0.0; chi2/DOF=nan\n",
      "Total mass MGE (MSun): 5.028e+13\n",
      "\n",
      "sigma_e: 216.61 km/s\n"
     ]
    },
    {
     "name": "stdout",
     "output_type": "stream",
     "text": [
      "jam_axi_proj(align='sph', moment='zz') -- elapsed time sec: 0.97\n",
      "analytic_los=0 logistic=0 constant_anisotropy=1\n",
      "No PSF/pixel convolution because sigmapsf=0 pixsize=0\n",
      "inc=84.0; beta[0]=0.0; kappa=1.00; M/L=1.00; BH=0.0; chi2/DOF=nan\n",
      "Total mass MGE (MSun): 5.028e+13\n",
      "\n",
      "sigma_e: 202.77 km/s\n"
     ]
    },
    {
     "name": "stdout",
     "output_type": "stream",
     "text": [
      "jam_axi_proj(align='sph', moment='zz') -- elapsed time sec: 0.94\n",
      "analytic_los=0 logistic=0 constant_anisotropy=1\n",
      "No PSF/pixel convolution because sigmapsf=0 pixsize=0\n",
      "inc=75.9; beta[0]=0.0; kappa=1.00; M/L=1.00; BH=0.0; chi2/DOF=nan\n",
      "Total mass MGE (MSun): 5.028e+13\n",
      "\n",
      "sigma_e: 237.78 km/s\n"
     ]
    },
    {
     "name": "stdout",
     "output_type": "stream",
     "text": [
      "jam_axi_proj(align='sph', moment='zz') -- elapsed time sec: 0.96\n",
      "analytic_los=0 logistic=0 constant_anisotropy=1\n",
      "No PSF/pixel convolution because sigmapsf=0 pixsize=0\n",
      "inc=71.3; beta[0]=0.0; kappa=1.00; M/L=1.00; BH=0.0; chi2/DOF=nan\n",
      "Total mass MGE (MSun): 5.028e+13\n",
      "\n",
      "sigma_e: 211.42 km/s\n"
     ]
    },
    {
     "name": "stdout",
     "output_type": "stream",
     "text": [
      "jam_axi_proj(align='sph', moment='zz') -- elapsed time sec: 1.00\n",
      "analytic_los=0 logistic=0 constant_anisotropy=1\n",
      "No PSF/pixel convolution because sigmapsf=0 pixsize=0\n",
      "inc=89.9; beta[0]=0.0; kappa=1.00; M/L=1.00; BH=0.0; chi2/DOF=nan\n",
      "Total mass MGE (MSun): 5.028e+13\n",
      "\n",
      "sigma_e: 202.56 km/s\n"
     ]
    },
    {
     "name": "stdout",
     "output_type": "stream",
     "text": [
      "jam_axi_proj(align='sph', moment='zz') -- elapsed time sec: 0.98\n",
      "analytic_los=0 logistic=0 constant_anisotropy=1\n",
      "No PSF/pixel convolution because sigmapsf=0 pixsize=0\n",
      "inc=80.4; beta[0]=0.0; kappa=1.00; M/L=1.00; BH=0.0; chi2/DOF=nan\n",
      "Total mass MGE (MSun): 5.028e+13\n",
      "\n",
      "sigma_e: 202.18 km/s\n"
     ]
    },
    {
     "name": "stdout",
     "output_type": "stream",
     "text": [
      "jam_axi_proj(align='sph', moment='zz') -- elapsed time sec: 0.99\n",
      "analytic_los=0 logistic=0 constant_anisotropy=1\n",
      "No PSF/pixel convolution because sigmapsf=0 pixsize=0\n",
      "inc=80.4; beta[0]=0.0; kappa=1.00; M/L=1.00; BH=0.0; chi2/DOF=nan\n",
      "Total mass MGE (MSun): 5.028e+13\n",
      "\n",
      "sigma_e: 220.80 km/s\n"
     ]
    },
    {
     "name": "stdout",
     "output_type": "stream",
     "text": [
      "jam_axi_proj(align='sph', moment='zz') -- elapsed time sec: 0.94\n",
      "analytic_los=0 logistic=0 constant_anisotropy=1\n",
      "No PSF/pixel convolution because sigmapsf=0 pixsize=0\n",
      "inc=62.6; beta[0]=0.0; kappa=1.00; M/L=1.00; BH=0.0; chi2/DOF=nan\n",
      "Total mass MGE (MSun): 5.028e+13\n",
      "\n",
      "sigma_e: 212.44 km/s\n"
     ]
    },
    {
     "name": "stdout",
     "output_type": "stream",
     "text": [
      "jam_axi_proj(align='sph', moment='zz') -- elapsed time sec: 0.94\n",
      "analytic_los=0 logistic=0 constant_anisotropy=1\n",
      "No PSF/pixel convolution because sigmapsf=0 pixsize=0\n",
      "inc=51.8; beta[0]=0.0; kappa=1.00; M/L=1.00; BH=0.0; chi2/DOF=nan\n",
      "Total mass MGE (MSun): 5.028e+13\n",
      "\n",
      "sigma_e: 236.44 km/s\n"
     ]
    },
    {
     "name": "stdout",
     "output_type": "stream",
     "text": [
      "jam_axi_proj(align='sph', moment='zz') -- elapsed time sec: 0.94\n",
      "analytic_los=0 logistic=0 constant_anisotropy=1\n",
      "No PSF/pixel convolution because sigmapsf=0 pixsize=0\n",
      "inc=51.5; beta[0]=0.0; kappa=1.00; M/L=1.00; BH=0.0; chi2/DOF=nan\n",
      "Total mass MGE (MSun): 5.028e+13\n",
      "\n",
      "sigma_e: 235.84 km/s\n"
     ]
    },
    {
     "name": "stdout",
     "output_type": "stream",
     "text": [
      "jam_axi_proj(align='sph', moment='zz') -- elapsed time sec: 1.00\n",
      "analytic_los=0 logistic=0 constant_anisotropy=1\n",
      "No PSF/pixel convolution because sigmapsf=0 pixsize=0\n",
      "inc=67.8; beta[0]=0.0; kappa=1.00; M/L=1.00; BH=0.0; chi2/DOF=nan\n",
      "Total mass MGE (MSun): 2.331e+13\n",
      "\n",
      "sigma_e: 191.30 km/s\n"
     ]
    },
    {
     "name": "stdout",
     "output_type": "stream",
     "text": [
      "jam_axi_proj(align='sph', moment='zz') -- elapsed time sec: 0.96\n",
      "analytic_los=0 logistic=0 constant_anisotropy=1\n",
      "No PSF/pixel convolution because sigmapsf=0 pixsize=0\n",
      "inc=60.0; beta[0]=0.0; kappa=1.00; M/L=1.00; BH=0.0; chi2/DOF=nan\n",
      "Total mass MGE (MSun): 2.331e+13\n",
      "\n",
      "sigma_e: 188.23 km/s\n"
     ]
    },
    {
     "name": "stdout",
     "output_type": "stream",
     "text": [
      "jam_axi_proj(align='sph', moment='zz') -- elapsed time sec: 1.00\n",
      "analytic_los=0 logistic=0 constant_anisotropy=1\n",
      "No PSF/pixel convolution because sigmapsf=0 pixsize=0\n",
      "inc=84.0; beta[0]=0.0; kappa=1.00; M/L=1.00; BH=0.0; chi2/DOF=nan\n",
      "Total mass MGE (MSun): 2.331e+13\n",
      "\n",
      "sigma_e: 172.46 km/s\n"
     ]
    },
    {
     "name": "stdout",
     "output_type": "stream",
     "text": [
      "jam_axi_proj(align='sph', moment='zz') -- elapsed time sec: 1.01\n",
      "analytic_los=0 logistic=0 constant_anisotropy=1\n",
      "No PSF/pixel convolution because sigmapsf=0 pixsize=0\n",
      "inc=79.8; beta[0]=0.0; kappa=1.00; M/L=1.00; BH=0.0; chi2/DOF=nan\n",
      "Total mass MGE (MSun): 2.331e+13\n",
      "\n",
      "sigma_e: 177.18 km/s\n"
     ]
    },
    {
     "name": "stdout",
     "output_type": "stream",
     "text": [
      "jam_axi_proj(align='sph', moment='zz') -- elapsed time sec: 0.97\n",
      "analytic_los=0 logistic=0 constant_anisotropy=1\n",
      "No PSF/pixel convolution because sigmapsf=0 pixsize=0\n",
      "inc=79.6; beta[0]=0.0; kappa=1.00; M/L=1.00; BH=0.0; chi2/DOF=nan\n",
      "Total mass MGE (MSun): 2.331e+13\n",
      "\n",
      "sigma_e: 179.44 km/s\n"
     ]
    },
    {
     "name": "stdout",
     "output_type": "stream",
     "text": [
      "jam_axi_proj(align='sph', moment='zz') -- elapsed time sec: 0.94\n",
      "analytic_los=0 logistic=0 constant_anisotropy=1\n",
      "No PSF/pixel convolution because sigmapsf=0 pixsize=0\n",
      "inc=60.5; beta[0]=0.0; kappa=1.00; M/L=1.00; BH=0.0; chi2/DOF=nan\n",
      "Total mass MGE (MSun): 2.331e+13\n",
      "\n",
      "sigma_e: 179.06 km/s\n"
     ]
    },
    {
     "name": "stdout",
     "output_type": "stream",
     "text": [
      "jam_axi_proj(align='sph', moment='zz') -- elapsed time sec: 1.01\n",
      "analytic_los=0 logistic=0 constant_anisotropy=1\n",
      "No PSF/pixel convolution because sigmapsf=0 pixsize=0\n",
      "inc=88.9; beta[0]=0.0; kappa=1.00; M/L=1.00; BH=0.0; chi2/DOF=nan\n",
      "Total mass MGE (MSun): 2.331e+13\n",
      "\n",
      "sigma_e: 175.19 km/s\n"
     ]
    },
    {
     "name": "stdout",
     "output_type": "stream",
     "text": [
      "jam_axi_proj(align='sph', moment='zz') -- elapsed time sec: 0.95\n",
      "analytic_los=0 logistic=0 constant_anisotropy=1\n",
      "No PSF/pixel convolution because sigmapsf=0 pixsize=0\n",
      "inc=54.6; beta[0]=0.0; kappa=1.00; M/L=1.00; BH=0.0; chi2/DOF=nan\n",
      "Total mass MGE (MSun): 2.331e+13\n",
      "\n",
      "sigma_e: 195.67 km/s\n"
     ]
    },
    {
     "name": "stdout",
     "output_type": "stream",
     "text": [
      "jam_axi_proj(align='sph', moment='zz') -- elapsed time sec: 0.94\n",
      "analytic_los=0 logistic=0 constant_anisotropy=1\n",
      "No PSF/pixel convolution because sigmapsf=0 pixsize=0\n",
      "inc=61.0; beta[0]=0.0; kappa=1.00; M/L=1.00; BH=0.0; chi2/DOF=nan\n",
      "Total mass MGE (MSun): 2.331e+13\n",
      "\n",
      "sigma_e: 184.67 km/s\n"
     ]
    },
    {
     "name": "stdout",
     "output_type": "stream",
     "text": [
      "jam_axi_proj(align='sph', moment='zz') -- elapsed time sec: 0.93\n",
      "analytic_los=0 logistic=0 constant_anisotropy=1\n",
      "No PSF/pixel convolution because sigmapsf=0 pixsize=0\n",
      "inc=47.8; beta[0]=0.0; kappa=1.00; M/L=1.00; BH=0.0; chi2/DOF=nan\n",
      "Total mass MGE (MSun): 2.331e+13\n",
      "\n",
      "sigma_e: 184.56 km/s\n"
     ]
    },
    {
     "name": "stdout",
     "output_type": "stream",
     "text": [
      "jam_axi_proj(align='sph', moment='zz') -- elapsed time sec: 0.99\n",
      "analytic_los=0 logistic=0 constant_anisotropy=1\n",
      "No PSF/pixel convolution because sigmapsf=0 pixsize=0\n",
      "inc=87.6; beta[0]=0.0; kappa=1.00; M/L=1.00; BH=0.0; chi2/DOF=nan\n",
      "Total mass MGE (MSun): 1.628e+13\n",
      "\n",
      "sigma_e: 154.34 km/s\n"
     ]
    },
    {
     "name": "stdout",
     "output_type": "stream",
     "text": [
      "jam_axi_proj(align='sph', moment='zz') -- elapsed time sec: 0.93\n",
      "analytic_los=0 logistic=0 constant_anisotropy=1\n",
      "No PSF/pixel convolution because sigmapsf=0 pixsize=0\n",
      "inc=49.1; beta[0]=0.0; kappa=1.00; M/L=1.00; BH=0.0; chi2/DOF=nan\n",
      "Total mass MGE (MSun): 1.628e+13\n",
      "\n",
      "sigma_e: 182.65 km/s\n"
     ]
    },
    {
     "name": "stdout",
     "output_type": "stream",
     "text": [
      "jam_axi_proj(align='sph', moment='zz') -- elapsed time sec: 1.08\n",
      "analytic_los=0 logistic=0 constant_anisotropy=1\n",
      "No PSF/pixel convolution because sigmapsf=0 pixsize=0\n",
      "inc=72.4; beta[0]=0.0; kappa=1.00; M/L=1.00; BH=0.0; chi2/DOF=nan\n",
      "Total mass MGE (MSun): 1.628e+13\n",
      "\n",
      "sigma_e: 157.61 km/s\n"
     ]
    },
    {
     "name": "stdout",
     "output_type": "stream",
     "text": [
      "jam_axi_proj(align='sph', moment='zz') -- elapsed time sec: 0.95\n",
      "analytic_los=0 logistic=0 constant_anisotropy=1\n",
      "No PSF/pixel convolution because sigmapsf=0 pixsize=0\n",
      "inc=62.8; beta[0]=0.0; kappa=1.00; M/L=1.00; BH=0.0; chi2/DOF=nan\n",
      "Total mass MGE (MSun): 1.628e+13\n",
      "\n",
      "sigma_e: 178.91 km/s\n"
     ]
    },
    {
     "name": "stdout",
     "output_type": "stream",
     "text": [
      "jam_axi_proj(align='sph', moment='zz') -- elapsed time sec: 0.98\n",
      "analytic_los=0 logistic=0 constant_anisotropy=1\n",
      "No PSF/pixel convolution because sigmapsf=0 pixsize=0\n",
      "inc=77.3; beta[0]=0.0; kappa=1.00; M/L=1.00; BH=0.0; chi2/DOF=nan\n",
      "Total mass MGE (MSun): 1.628e+13\n",
      "\n",
      "sigma_e: 157.55 km/s\n"
     ]
    },
    {
     "name": "stdout",
     "output_type": "stream",
     "text": [
      "jam_axi_proj(align='sph', moment='zz') -- elapsed time sec: 0.96\n",
      "analytic_los=0 logistic=0 constant_anisotropy=1\n",
      "No PSF/pixel convolution because sigmapsf=0 pixsize=0\n",
      "inc=58.0; beta[0]=0.0; kappa=1.00; M/L=1.00; BH=0.0; chi2/DOF=nan\n",
      "Total mass MGE (MSun): 1.628e+13\n",
      "\n",
      "sigma_e: 182.15 km/s\n"
     ]
    },
    {
     "name": "stdout",
     "output_type": "stream",
     "text": [
      "jam_axi_proj(align='sph', moment='zz') -- elapsed time sec: 1.01\n",
      "analytic_los=0 logistic=0 constant_anisotropy=1\n",
      "No PSF/pixel convolution because sigmapsf=0 pixsize=0\n",
      "inc=88.2; beta[0]=0.0; kappa=1.00; M/L=1.00; BH=0.0; chi2/DOF=nan\n",
      "Total mass MGE (MSun): 1.628e+13\n",
      "\n",
      "sigma_e: 158.40 km/s\n"
     ]
    },
    {
     "name": "stdout",
     "output_type": "stream",
     "text": [
      "jam_axi_proj(align='sph', moment='zz') -- elapsed time sec: 1.00\n",
      "analytic_los=0 logistic=0 constant_anisotropy=1\n",
      "No PSF/pixel convolution because sigmapsf=0 pixsize=0\n",
      "inc=89.4; beta[0]=0.0; kappa=1.00; M/L=1.00; BH=0.0; chi2/DOF=nan\n",
      "Total mass MGE (MSun): 1.628e+13\n",
      "\n",
      "sigma_e: 151.26 km/s\n"
     ]
    },
    {
     "name": "stdout",
     "output_type": "stream",
     "text": [
      "jam_axi_proj(align='sph', moment='zz') -- elapsed time sec: 0.93\n",
      "analytic_los=0 logistic=0 constant_anisotropy=1\n",
      "No PSF/pixel convolution because sigmapsf=0 pixsize=0\n",
      "inc=38.5; beta[0]=0.0; kappa=1.00; M/L=1.00; BH=0.0; chi2/DOF=nan\n",
      "Total mass MGE (MSun): 1.628e+13\n",
      "\n",
      "sigma_e: 179.44 km/s\n"
     ]
    },
    {
     "name": "stdout",
     "output_type": "stream",
     "text": [
      "jam_axi_proj(align='sph', moment='zz') -- elapsed time sec: 1.05\n",
      "analytic_los=0 logistic=0 constant_anisotropy=1\n",
      "No PSF/pixel convolution because sigmapsf=0 pixsize=0\n",
      "inc=69.3; beta[0]=0.0; kappa=1.00; M/L=1.00; BH=0.0; chi2/DOF=nan\n",
      "Total mass MGE (MSun): 1.628e+13\n",
      "\n",
      "sigma_e: 156.34 km/s\n"
     ]
    },
    {
     "name": "stdout",
     "output_type": "stream",
     "text": [
      "jam_axi_proj(align='sph', moment='zz') -- elapsed time sec: 0.89\n",
      "analytic_los=0 logistic=0 constant_anisotropy=1\n",
      "No PSF/pixel convolution because sigmapsf=0 pixsize=0\n",
      "inc=42.5; beta[0]=0.0; kappa=1.00; M/L=1.00; BH=0.0; chi2/DOF=nan\n",
      "Total mass MGE (MSun): 9.017e+12\n",
      "\n",
      "sigma_e: 151.67 km/s\n"
     ]
    },
    {
     "name": "stdout",
     "output_type": "stream",
     "text": [
      "jam_axi_proj(align='sph', moment='zz') -- elapsed time sec: 0.97\n",
      "analytic_los=0 logistic=0 constant_anisotropy=1\n",
      "No PSF/pixel convolution because sigmapsf=0 pixsize=0\n",
      "inc=79.7; beta[0]=0.0; kappa=1.00; M/L=1.00; BH=0.0; chi2/DOF=nan\n",
      "Total mass MGE (MSun): 9.017e+12\n",
      "\n",
      "sigma_e: 132.41 km/s\n"
     ]
    },
    {
     "name": "stdout",
     "output_type": "stream",
     "text": [
      "jam_axi_proj(align='sph', moment='zz') -- elapsed time sec: 0.91\n",
      "analytic_los=0 logistic=0 constant_anisotropy=1\n",
      "No PSF/pixel convolution because sigmapsf=0 pixsize=0\n",
      "inc=65.0; beta[0]=0.0; kappa=1.00; M/L=1.00; BH=0.0; chi2/DOF=nan\n",
      "Total mass MGE (MSun): 9.017e+12\n",
      "\n",
      "sigma_e: 157.62 km/s\n"
     ]
    },
    {
     "name": "stdout",
     "output_type": "stream",
     "text": [
      "jam_axi_proj(align='sph', moment='zz') -- elapsed time sec: 0.96\n",
      "analytic_los=0 logistic=0 constant_anisotropy=1\n",
      "No PSF/pixel convolution because sigmapsf=0 pixsize=0\n",
      "inc=64.1; beta[0]=0.0; kappa=1.00; M/L=1.00; BH=0.0; chi2/DOF=nan\n",
      "Total mass MGE (MSun): 9.017e+12\n",
      "\n",
      "sigma_e: 145.51 km/s\n"
     ]
    },
    {
     "name": "stdout",
     "output_type": "stream",
     "text": [
      "jam_axi_proj(align='sph', moment='zz') -- elapsed time sec: 0.96\n",
      "analytic_los=0 logistic=0 constant_anisotropy=1\n",
      "No PSF/pixel convolution because sigmapsf=0 pixsize=0\n",
      "inc=69.5; beta[0]=0.0; kappa=1.00; M/L=1.00; BH=0.0; chi2/DOF=nan\n",
      "Total mass MGE (MSun): 9.017e+12\n",
      "\n",
      "sigma_e: 136.22 km/s\n"
     ]
    },
    {
     "name": "stdout",
     "output_type": "stream",
     "text": [
      "jam_axi_proj(align='sph', moment='zz') -- elapsed time sec: 0.97\n",
      "analytic_los=0 logistic=0 constant_anisotropy=1\n",
      "No PSF/pixel convolution because sigmapsf=0 pixsize=0\n",
      "inc=78.8; beta[0]=0.0; kappa=1.00; M/L=1.00; BH=0.0; chi2/DOF=nan\n",
      "Total mass MGE (MSun): 9.017e+12\n",
      "\n",
      "sigma_e: 135.49 km/s\n"
     ]
    },
    {
     "name": "stdout",
     "output_type": "stream",
     "text": [
      "jam_axi_proj(align='sph', moment='zz') -- elapsed time sec: 0.95\n",
      "analytic_los=0 logistic=0 constant_anisotropy=1\n",
      "No PSF/pixel convolution because sigmapsf=0 pixsize=0\n",
      "inc=61.2; beta[0]=0.0; kappa=1.00; M/L=1.00; BH=0.0; chi2/DOF=nan\n",
      "Total mass MGE (MSun): 9.017e+12\n",
      "\n",
      "sigma_e: 154.18 km/s\n"
     ]
    },
    {
     "name": "stdout",
     "output_type": "stream",
     "text": [
      "jam_axi_proj(align='sph', moment='zz') -- elapsed time sec: 0.91\n",
      "analytic_los=0 logistic=0 constant_anisotropy=1\n",
      "No PSF/pixel convolution because sigmapsf=0 pixsize=0\n",
      "inc=88.7; beta[0]=0.0; kappa=1.00; M/L=1.00; BH=0.0; chi2/DOF=nan\n",
      "Total mass MGE (MSun): 9.017e+12\n",
      "\n",
      "sigma_e: 137.48 km/s\n"
     ]
    },
    {
     "name": "stdout",
     "output_type": "stream",
     "text": [
      "jam_axi_proj(align='sph', moment='zz') -- elapsed time sec: 0.92\n",
      "analytic_los=0 logistic=0 constant_anisotropy=1\n",
      "No PSF/pixel convolution because sigmapsf=0 pixsize=0\n",
      "inc=69.2; beta[0]=0.0; kappa=1.00; M/L=1.00; BH=0.0; chi2/DOF=nan\n",
      "Total mass MGE (MSun): 9.017e+12\n",
      "\n",
      "sigma_e: 156.56 km/s\n"
     ]
    },
    {
     "name": "stdout",
     "output_type": "stream",
     "text": [
      "jam_axi_proj(align='sph', moment='zz') -- elapsed time sec: 0.98\n",
      "analytic_los=0 logistic=0 constant_anisotropy=1\n",
      "No PSF/pixel convolution because sigmapsf=0 pixsize=0\n",
      "inc=89.4; beta[0]=0.0; kappa=1.00; M/L=1.00; BH=0.0; chi2/DOF=nan\n",
      "Total mass MGE (MSun): 9.017e+12\n",
      "\n",
      "sigma_e: 150.89 km/s\n"
     ]
    },
    {
     "name": "stdout",
     "output_type": "stream",
     "text": [
      "jam_axi_proj(align='sph', moment='zz') -- elapsed time sec: 1.01\n",
      "analytic_los=0 logistic=0 constant_anisotropy=1\n",
      "No PSF/pixel convolution because sigmapsf=0 pixsize=0\n",
      "inc=39.7; beta[0]=0.0; kappa=1.00; M/L=1.00; BH=0.0; chi2/DOF=nan\n",
      "Total mass MGE (MSun): 2.011e+13\n",
      "\n",
      "sigma_e: 179.71 km/s\n"
     ]
    },
    {
     "name": "stdout",
     "output_type": "stream",
     "text": [
      "jam_axi_proj(align='sph', moment='zz') -- elapsed time sec: 0.94\n",
      "analytic_los=0 logistic=0 constant_anisotropy=1\n",
      "No PSF/pixel convolution because sigmapsf=0 pixsize=0\n",
      "inc=70.2; beta[0]=0.0; kappa=1.00; M/L=1.00; BH=0.0; chi2/DOF=nan\n",
      "Total mass MGE (MSun): 2.011e+13\n",
      "\n",
      "sigma_e: 173.04 km/s\n"
     ]
    },
    {
     "name": "stdout",
     "output_type": "stream",
     "text": [
      "jam_axi_proj(align='sph', moment='zz') -- elapsed time sec: 0.95\n",
      "analytic_los=0 logistic=0 constant_anisotropy=1\n",
      "No PSF/pixel convolution because sigmapsf=0 pixsize=0\n",
      "inc=46.6; beta[0]=0.0; kappa=1.00; M/L=1.00; BH=0.0; chi2/DOF=nan\n",
      "Total mass MGE (MSun): 2.011e+13\n",
      "\n",
      "sigma_e: 179.45 km/s\n"
     ]
    },
    {
     "name": "stdout",
     "output_type": "stream",
     "text": [
      "jam_axi_proj(align='sph', moment='zz') -- elapsed time sec: 0.96\n",
      "analytic_los=0 logistic=0 constant_anisotropy=1\n",
      "No PSF/pixel convolution because sigmapsf=0 pixsize=0\n",
      "inc=39.4; beta[0]=0.0; kappa=1.00; M/L=1.00; BH=0.0; chi2/DOF=nan\n",
      "Total mass MGE (MSun): 2.011e+13\n",
      "\n",
      "sigma_e: 180.98 km/s\n"
     ]
    },
    {
     "name": "stdout",
     "output_type": "stream",
     "text": [
      "jam_axi_proj(align='sph', moment='zz') -- elapsed time sec: 0.98\n",
      "analytic_los=0 logistic=0 constant_anisotropy=1\n",
      "No PSF/pixel convolution because sigmapsf=0 pixsize=0\n",
      "inc=51.9; beta[0]=0.0; kappa=1.00; M/L=1.00; BH=0.0; chi2/DOF=nan\n",
      "Total mass MGE (MSun): 2.011e+13\n",
      "\n",
      "sigma_e: 177.16 km/s\n"
     ]
    },
    {
     "name": "stdout",
     "output_type": "stream",
     "text": [
      "jam_axi_proj(align='sph', moment='zz') -- elapsed time sec: 0.97\n",
      "analytic_los=0 logistic=0 constant_anisotropy=1\n",
      "No PSF/pixel convolution because sigmapsf=0 pixsize=0\n",
      "inc=56.6; beta[0]=0.0; kappa=1.00; M/L=1.00; BH=0.0; chi2/DOF=nan\n",
      "Total mass MGE (MSun): 2.011e+13\n",
      "\n",
      "sigma_e: 173.93 km/s\n"
     ]
    },
    {
     "name": "stdout",
     "output_type": "stream",
     "text": [
      "jam_axi_proj(align='sph', moment='zz') -- elapsed time sec: 0.89\n",
      "analytic_los=0 logistic=0 constant_anisotropy=1\n",
      "No PSF/pixel convolution because sigmapsf=0 pixsize=0\n",
      "inc=21.5; beta[0]=0.0; kappa=1.00; M/L=1.00; BH=0.0; chi2/DOF=nan\n",
      "Total mass MGE (MSun): 2.011e+13\n",
      "\n",
      "sigma_e: 183.27 km/s\n"
     ]
    },
    {
     "name": "stdout",
     "output_type": "stream",
     "text": [
      "jam_axi_proj(align='sph', moment='zz') -- elapsed time sec: 0.92\n",
      "analytic_los=0 logistic=0 constant_anisotropy=1\n",
      "No PSF/pixel convolution because sigmapsf=0 pixsize=0\n",
      "inc=49.6; beta[0]=0.0; kappa=1.00; M/L=1.00; BH=0.0; chi2/DOF=nan\n",
      "Total mass MGE (MSun): 2.011e+13\n",
      "\n",
      "sigma_e: 179.25 km/s\n"
     ]
    },
    {
     "name": "stdout",
     "output_type": "stream",
     "text": [
      "jam_axi_proj(align='sph', moment='zz') -- elapsed time sec: 0.91\n",
      "analytic_los=0 logistic=0 constant_anisotropy=1\n",
      "No PSF/pixel convolution because sigmapsf=0 pixsize=0\n",
      "inc=36.4; beta[0]=0.0; kappa=1.00; M/L=1.00; BH=0.0; chi2/DOF=nan\n",
      "Total mass MGE (MSun): 2.011e+13\n",
      "\n",
      "sigma_e: 180.44 km/s\n"
     ]
    },
    {
     "name": "stdout",
     "output_type": "stream",
     "text": [
      "jam_axi_proj(align='sph', moment='zz') -- elapsed time sec: 0.96\n",
      "analytic_los=0 logistic=0 constant_anisotropy=1\n",
      "No PSF/pixel convolution because sigmapsf=0 pixsize=0\n",
      "inc=55.7; beta[0]=0.0; kappa=1.00; M/L=1.00; BH=0.0; chi2/DOF=nan\n",
      "Total mass MGE (MSun): 2.011e+13\n",
      "\n",
      "sigma_e: 176.70 km/s\n"
     ]
    },
    {
     "name": "stdout",
     "output_type": "stream",
     "text": [
      "jam_axi_proj(align='sph', moment='zz') -- elapsed time sec: 0.91\n",
      "analytic_los=0 logistic=0 constant_anisotropy=1\n",
      "No PSF/pixel convolution because sigmapsf=0 pixsize=0\n",
      "inc=56.2; beta[0]=0.0; kappa=1.00; M/L=1.00; BH=0.0; chi2/DOF=nan\n",
      "Total mass MGE (MSun): 8.296e+12\n",
      "\n",
      "sigma_e: 142.77 km/s\n"
     ]
    },
    {
     "name": "stdout",
     "output_type": "stream",
     "text": [
      "jam_axi_proj(align='sph', moment='zz') -- elapsed time sec: 0.94\n",
      "analytic_los=0 logistic=0 constant_anisotropy=1\n",
      "No PSF/pixel convolution because sigmapsf=0 pixsize=0\n",
      "inc=52.8; beta[0]=0.0; kappa=1.00; M/L=1.00; BH=0.0; chi2/DOF=nan\n",
      "Total mass MGE (MSun): 8.296e+12\n",
      "\n",
      "sigma_e: 140.22 km/s\n"
     ]
    },
    {
     "name": "stdout",
     "output_type": "stream",
     "text": [
      "jam_axi_proj(align='sph', moment='zz') -- elapsed time sec: 0.93\n",
      "analytic_los=0 logistic=0 constant_anisotropy=1\n",
      "No PSF/pixel convolution because sigmapsf=0 pixsize=0\n",
      "inc=55.4; beta[0]=0.0; kappa=1.00; M/L=1.00; BH=0.0; chi2/DOF=nan\n",
      "Total mass MGE (MSun): 8.296e+12\n",
      "\n",
      "sigma_e: 140.99 km/s\n"
     ]
    },
    {
     "name": "stdout",
     "output_type": "stream",
     "text": [
      "jam_axi_proj(align='sph', moment='zz') -- elapsed time sec: 0.95\n",
      "analytic_los=0 logistic=0 constant_anisotropy=1\n",
      "No PSF/pixel convolution because sigmapsf=0 pixsize=0\n",
      "inc=48.5; beta[0]=0.0; kappa=1.00; M/L=1.00; BH=0.0; chi2/DOF=nan\n",
      "Total mass MGE (MSun): 8.296e+12\n",
      "\n",
      "sigma_e: 143.72 km/s\n"
     ]
    },
    {
     "name": "stdout",
     "output_type": "stream",
     "text": [
      "jam_axi_proj(align='sph', moment='zz') -- elapsed time sec: 0.91\n",
      "analytic_los=0 logistic=0 constant_anisotropy=1\n",
      "No PSF/pixel convolution because sigmapsf=0 pixsize=0\n",
      "inc=47.9; beta[0]=0.0; kappa=1.00; M/L=1.00; BH=0.0; chi2/DOF=nan\n",
      "Total mass MGE (MSun): 8.296e+12\n",
      "\n",
      "sigma_e: 139.00 km/s\n"
     ]
    },
    {
     "name": "stdout",
     "output_type": "stream",
     "text": [
      "jam_axi_proj(align='sph', moment='zz') -- elapsed time sec: 0.94\n",
      "analytic_los=0 logistic=0 constant_anisotropy=1\n",
      "No PSF/pixel convolution because sigmapsf=0 pixsize=0\n",
      "inc=46.8; beta[0]=0.0; kappa=1.00; M/L=1.00; BH=0.0; chi2/DOF=nan\n",
      "Total mass MGE (MSun): 8.296e+12\n",
      "\n",
      "sigma_e: 144.67 km/s\n"
     ]
    },
    {
     "name": "stdout",
     "output_type": "stream",
     "text": [
      "jam_axi_proj(align='sph', moment='zz') -- elapsed time sec: 0.93\n",
      "analytic_los=0 logistic=0 constant_anisotropy=1\n",
      "No PSF/pixel convolution because sigmapsf=0 pixsize=0\n",
      "inc=31.5; beta[0]=0.0; kappa=1.00; M/L=1.00; BH=0.0; chi2/DOF=nan\n",
      "Total mass MGE (MSun): 8.296e+12\n",
      "\n",
      "sigma_e: 143.59 km/s\n"
     ]
    },
    {
     "name": "stdout",
     "output_type": "stream",
     "text": [
      "jam_axi_proj(align='sph', moment='zz') -- elapsed time sec: 0.93\n",
      "analytic_los=0 logistic=0 constant_anisotropy=1\n",
      "No PSF/pixel convolution because sigmapsf=0 pixsize=0\n",
      "inc=44.9; beta[0]=0.0; kappa=1.00; M/L=1.00; BH=0.0; chi2/DOF=nan\n",
      "Total mass MGE (MSun): 8.296e+12\n",
      "\n",
      "sigma_e: 142.87 km/s\n"
     ]
    },
    {
     "name": "stdout",
     "output_type": "stream",
     "text": [
      "jam_axi_proj(align='sph', moment='zz') -- elapsed time sec: 0.85\n",
      "analytic_los=0 logistic=0 constant_anisotropy=1\n",
      "No PSF/pixel convolution because sigmapsf=0 pixsize=0\n",
      "inc=50.2; beta[0]=0.0; kappa=1.00; M/L=1.00; BH=0.0; chi2/DOF=nan\n",
      "Total mass MGE (MSun): 8.296e+12\n",
      "\n",
      "sigma_e: 145.53 km/s\n"
     ]
    },
    {
     "name": "stdout",
     "output_type": "stream",
     "text": [
      "jam_axi_proj(align='sph', moment='zz') -- elapsed time sec: 0.90\n",
      "analytic_los=0 logistic=0 constant_anisotropy=1\n",
      "No PSF/pixel convolution because sigmapsf=0 pixsize=0\n",
      "inc=52.0; beta[0]=0.0; kappa=1.00; M/L=1.00; BH=0.0; chi2/DOF=nan\n",
      "Total mass MGE (MSun): 8.296e+12\n",
      "\n",
      "sigma_e: 140.57 km/s\n"
     ]
    },
    {
     "name": "stdout",
     "output_type": "stream",
     "text": [
      "jam_axi_proj(align='sph', moment='zz') -- elapsed time sec: 1.02\n",
      "analytic_los=0 logistic=0 constant_anisotropy=1\n",
      "No PSF/pixel convolution because sigmapsf=0 pixsize=0\n",
      "inc=72.8; beta[0]=0.0; kappa=1.00; M/L=1.00; BH=0.0; chi2/DOF=nan\n",
      "Total mass MGE (MSun): 3.211e+13\n",
      "\n",
      "sigma_e: 200.67 km/s\n"
     ]
    },
    {
     "name": "stdout",
     "output_type": "stream",
     "text": [
      "jam_axi_proj(align='sph', moment='zz') -- elapsed time sec: 1.00\n",
      "analytic_los=0 logistic=0 constant_anisotropy=1\n",
      "No PSF/pixel convolution because sigmapsf=0 pixsize=0\n",
      "inc=78.2; beta[0]=0.0; kappa=1.00; M/L=1.00; BH=0.0; chi2/DOF=nan\n",
      "Total mass MGE (MSun): 3.211e+13\n",
      "\n",
      "sigma_e: 204.55 km/s\n"
     ]
    },
    {
     "name": "stdout",
     "output_type": "stream",
     "text": [
      "jam_axi_proj(align='sph', moment='zz') -- elapsed time sec: 1.04\n",
      "analytic_los=0 logistic=0 constant_anisotropy=1\n",
      "No PSF/pixel convolution because sigmapsf=0 pixsize=0\n",
      "inc=69.3; beta[0]=0.0; kappa=1.00; M/L=1.00; BH=0.0; chi2/DOF=nan\n",
      "Total mass MGE (MSun): 3.211e+13\n",
      "\n",
      "sigma_e: 190.50 km/s\n"
     ]
    },
    {
     "name": "stdout",
     "output_type": "stream",
     "text": [
      "jam_axi_proj(align='sph', moment='zz') -- elapsed time sec: 0.93\n",
      "analytic_los=0 logistic=0 constant_anisotropy=1\n",
      "No PSF/pixel convolution because sigmapsf=0 pixsize=0\n",
      "inc=52.8; beta[0]=0.0; kappa=1.00; M/L=1.00; BH=0.0; chi2/DOF=nan\n",
      "Total mass MGE (MSun): 3.211e+13\n",
      "\n",
      "sigma_e: 210.02 km/s\n"
     ]
    },
    {
     "name": "stdout",
     "output_type": "stream",
     "text": [
      "jam_axi_proj(align='sph', moment='zz') -- elapsed time sec: 0.96\n",
      "analytic_los=0 logistic=0 constant_anisotropy=1\n",
      "No PSF/pixel convolution because sigmapsf=0 pixsize=0\n",
      "inc=74.0; beta[0]=0.0; kappa=1.00; M/L=1.00; BH=0.0; chi2/DOF=nan\n",
      "Total mass MGE (MSun): 3.211e+13\n",
      "\n",
      "sigma_e: 192.61 km/s\n"
     ]
    },
    {
     "name": "stdout",
     "output_type": "stream",
     "text": [
      "jam_axi_proj(align='sph', moment='zz') -- elapsed time sec: 0.96\n",
      "analytic_los=0 logistic=0 constant_anisotropy=1\n",
      "No PSF/pixel convolution because sigmapsf=0 pixsize=0\n",
      "inc=44.5; beta[0]=0.0; kappa=1.00; M/L=1.00; BH=0.0; chi2/DOF=nan\n",
      "Total mass MGE (MSun): 3.211e+13\n",
      "\n",
      "sigma_e: 206.30 km/s\n"
     ]
    },
    {
     "name": "stdout",
     "output_type": "stream",
     "text": [
      "jam_axi_proj(align='sph', moment='zz') -- elapsed time sec: 0.98\n",
      "analytic_los=0 logistic=0 constant_anisotropy=1\n",
      "No PSF/pixel convolution because sigmapsf=0 pixsize=0\n",
      "inc=69.4; beta[0]=0.0; kappa=1.00; M/L=1.00; BH=0.0; chi2/DOF=nan\n",
      "Total mass MGE (MSun): 3.211e+13\n",
      "\n",
      "sigma_e: 190.80 km/s\n"
     ]
    },
    {
     "name": "stdout",
     "output_type": "stream",
     "text": [
      "jam_axi_proj(align='sph', moment='zz') -- elapsed time sec: 0.96\n",
      "analytic_los=0 logistic=0 constant_anisotropy=1\n",
      "No PSF/pixel convolution because sigmapsf=0 pixsize=0\n",
      "inc=86.8; beta[0]=0.0; kappa=1.00; M/L=1.00; BH=0.0; chi2/DOF=nan\n",
      "Total mass MGE (MSun): 3.211e+13\n",
      "\n",
      "sigma_e: 187.46 km/s\n"
     ]
    },
    {
     "name": "stdout",
     "output_type": "stream",
     "text": [
      "jam_axi_proj(align='sph', moment='zz') -- elapsed time sec: 1.04\n",
      "analytic_los=0 logistic=0 constant_anisotropy=1\n",
      "No PSF/pixel convolution because sigmapsf=0 pixsize=0\n",
      "inc=80.4; beta[0]=0.0; kappa=1.00; M/L=1.00; BH=0.0; chi2/DOF=nan\n",
      "Total mass MGE (MSun): 3.211e+13\n",
      "\n",
      "sigma_e: 181.82 km/s\n"
     ]
    },
    {
     "name": "stdout",
     "output_type": "stream",
     "text": [
      "jam_axi_proj(align='sph', moment='zz') -- elapsed time sec: 0.99\n",
      "analytic_los=0 logistic=0 constant_anisotropy=1\n",
      "No PSF/pixel convolution because sigmapsf=0 pixsize=0\n",
      "inc=51.5; beta[0]=0.0; kappa=1.00; M/L=1.00; BH=0.0; chi2/DOF=nan\n",
      "Total mass MGE (MSun): 3.211e+13\n",
      "\n",
      "sigma_e: 205.68 km/s\n"
     ]
    },
    {
     "name": "stdout",
     "output_type": "stream",
     "text": [
      "jam_axi_proj(align='sph', moment='zz') -- elapsed time sec: 0.98\n",
      "analytic_los=0 logistic=0 constant_anisotropy=1\n",
      "No PSF/pixel convolution because sigmapsf=0 pixsize=0\n",
      "inc=63.3; beta[0]=0.0; kappa=1.00; M/L=1.00; BH=0.0; chi2/DOF=nan\n",
      "Total mass MGE (MSun): 1.047e+13\n",
      "\n",
      "sigma_e: 147.85 km/s\n"
     ]
    },
    {
     "name": "stdout",
     "output_type": "stream",
     "text": [
      "jam_axi_proj(align='sph', moment='zz') -- elapsed time sec: 0.96\n",
      "analytic_los=0 logistic=0 constant_anisotropy=1\n",
      "No PSF/pixel convolution because sigmapsf=0 pixsize=0\n",
      "inc=58.1; beta[0]=0.0; kappa=1.00; M/L=1.00; BH=0.0; chi2/DOF=nan\n",
      "Total mass MGE (MSun): 1.047e+13\n",
      "\n",
      "sigma_e: 153.12 km/s\n"
     ]
    },
    {
     "name": "stdout",
     "output_type": "stream",
     "text": [
      "jam_axi_proj(align='sph', moment='zz') -- elapsed time sec: 0.99\n",
      "analytic_los=0 logistic=0 constant_anisotropy=1\n",
      "No PSF/pixel convolution because sigmapsf=0 pixsize=0\n",
      "inc=45.0; beta[0]=0.0; kappa=1.00; M/L=1.00; BH=0.0; chi2/DOF=nan\n",
      "Total mass MGE (MSun): 1.047e+13\n",
      "\n",
      "sigma_e: 160.04 km/s\n"
     ]
    },
    {
     "name": "stdout",
     "output_type": "stream",
     "text": [
      "jam_axi_proj(align='sph', moment='zz') -- elapsed time sec: 0.97\n",
      "analytic_los=0 logistic=0 constant_anisotropy=1\n",
      "No PSF/pixel convolution because sigmapsf=0 pixsize=0\n",
      "inc=48.5; beta[0]=0.0; kappa=1.00; M/L=1.00; BH=0.0; chi2/DOF=nan\n",
      "Total mass MGE (MSun): 1.047e+13\n",
      "\n",
      "sigma_e: 149.40 km/s\n"
     ]
    },
    {
     "name": "stdout",
     "output_type": "stream",
     "text": [
      "jam_axi_proj(align='sph', moment='zz') -- elapsed time sec: 0.90\n",
      "analytic_los=0 logistic=0 constant_anisotropy=1\n",
      "No PSF/pixel convolution because sigmapsf=0 pixsize=0\n",
      "inc=73.9; beta[0]=0.0; kappa=1.00; M/L=1.00; BH=0.0; chi2/DOF=nan\n",
      "Total mass MGE (MSun): 1.047e+13\n",
      "\n",
      "sigma_e: 150.45 km/s\n"
     ]
    },
    {
     "name": "stdout",
     "output_type": "stream",
     "text": [
      "jam_axi_proj(align='sph', moment='zz') -- elapsed time sec: 0.98\n",
      "analytic_los=0 logistic=0 constant_anisotropy=1\n",
      "No PSF/pixel convolution because sigmapsf=0 pixsize=0\n",
      "inc=55.1; beta[0]=0.0; kappa=1.00; M/L=1.00; BH=0.0; chi2/DOF=nan\n",
      "Total mass MGE (MSun): 1.047e+13\n",
      "\n",
      "sigma_e: 146.67 km/s\n"
     ]
    },
    {
     "name": "stdout",
     "output_type": "stream",
     "text": [
      "jam_axi_proj(align='sph', moment='zz') -- elapsed time sec: 1.02\n",
      "analytic_los=0 logistic=0 constant_anisotropy=1\n",
      "No PSF/pixel convolution because sigmapsf=0 pixsize=0\n",
      "inc=69.3; beta[0]=0.0; kappa=1.00; M/L=1.00; BH=0.0; chi2/DOF=nan\n",
      "Total mass MGE (MSun): 1.047e+13\n",
      "\n",
      "sigma_e: 147.20 km/s\n"
     ]
    },
    {
     "name": "stdout",
     "output_type": "stream",
     "text": [
      "jam_axi_proj(align='sph', moment='zz') -- elapsed time sec: 0.94\n",
      "analytic_los=0 logistic=0 constant_anisotropy=1\n",
      "No PSF/pixel convolution because sigmapsf=0 pixsize=0\n",
      "inc=62.0; beta[0]=0.0; kappa=1.00; M/L=1.00; BH=0.0; chi2/DOF=nan\n",
      "Total mass MGE (MSun): 1.047e+13\n",
      "\n",
      "sigma_e: 148.38 km/s\n"
     ]
    },
    {
     "name": "stdout",
     "output_type": "stream",
     "text": [
      "jam_axi_proj(align='sph', moment='zz') -- elapsed time sec: 0.96\n",
      "analytic_los=0 logistic=0 constant_anisotropy=1\n",
      "No PSF/pixel convolution because sigmapsf=0 pixsize=0\n",
      "inc=75.8; beta[0]=0.0; kappa=1.00; M/L=1.00; BH=0.0; chi2/DOF=nan\n",
      "Total mass MGE (MSun): 1.047e+13\n",
      "\n",
      "sigma_e: 151.22 km/s\n"
     ]
    },
    {
     "name": "stdout",
     "output_type": "stream",
     "text": [
      "jam_axi_proj(align='sph', moment='zz') -- elapsed time sec: 1.00\n",
      "analytic_los=0 logistic=0 constant_anisotropy=1\n",
      "No PSF/pixel convolution because sigmapsf=0 pixsize=0\n",
      "inc=75.5; beta[0]=0.0; kappa=1.00; M/L=1.00; BH=0.0; chi2/DOF=nan\n",
      "Total mass MGE (MSun): 1.047e+13\n",
      "\n",
      "sigma_e: 144.23 km/s\n"
     ]
    },
    {
     "name": "stdout",
     "output_type": "stream",
     "text": [
      "jam_axi_proj(align='sph', moment='zz') -- elapsed time sec: 1.02\n",
      "analytic_los=0 logistic=0 constant_anisotropy=1\n",
      "No PSF/pixel convolution because sigmapsf=0 pixsize=0\n",
      "inc=83.0; beta[0]=0.0; kappa=1.00; M/L=1.00; BH=0.0; chi2/DOF=nan\n",
      "Total mass MGE (MSun): 1.802e+13\n",
      "\n",
      "sigma_e: 165.25 km/s\n"
     ]
    },
    {
     "name": "stdout",
     "output_type": "stream",
     "text": [
      "jam_axi_proj(align='sph', moment='zz') -- elapsed time sec: 0.94\n",
      "analytic_los=0 logistic=0 constant_anisotropy=1\n",
      "No PSF/pixel convolution because sigmapsf=0 pixsize=0\n",
      "inc=63.7; beta[0]=0.0; kappa=1.00; M/L=1.00; BH=0.0; chi2/DOF=nan\n",
      "Total mass MGE (MSun): 1.802e+13\n",
      "\n",
      "sigma_e: 166.64 km/s\n"
     ]
    },
    {
     "name": "stdout",
     "output_type": "stream",
     "text": [
      "jam_axi_proj(align='sph', moment='zz') -- elapsed time sec: 0.91\n",
      "analytic_los=0 logistic=0 constant_anisotropy=1\n",
      "No PSF/pixel convolution because sigmapsf=0 pixsize=0\n",
      "inc=74.3; beta[0]=0.0; kappa=1.00; M/L=1.00; BH=0.0; chi2/DOF=nan\n",
      "Total mass MGE (MSun): 1.802e+13\n",
      "\n",
      "sigma_e: 173.61 km/s\n"
     ]
    },
    {
     "name": "stdout",
     "output_type": "stream",
     "text": [
      "jam_axi_proj(align='sph', moment='zz') -- elapsed time sec: 0.91\n",
      "analytic_los=0 logistic=0 constant_anisotropy=1\n",
      "No PSF/pixel convolution because sigmapsf=0 pixsize=0\n",
      "inc=59.6; beta[0]=0.0; kappa=1.00; M/L=1.00; BH=0.0; chi2/DOF=nan\n",
      "Total mass MGE (MSun): 1.802e+13\n",
      "\n",
      "sigma_e: 170.27 km/s\n"
     ]
    },
    {
     "name": "stdout",
     "output_type": "stream",
     "text": [
      "jam_axi_proj(align='sph', moment='zz') -- elapsed time sec: 1.00\n",
      "analytic_los=0 logistic=0 constant_anisotropy=1\n",
      "No PSF/pixel convolution because sigmapsf=0 pixsize=0\n",
      "inc=73.9; beta[0]=0.0; kappa=1.00; M/L=1.00; BH=0.0; chi2/DOF=nan\n",
      "Total mass MGE (MSun): 1.802e+13\n",
      "\n",
      "sigma_e: 162.69 km/s\n"
     ]
    },
    {
     "name": "stdout",
     "output_type": "stream",
     "text": [
      "jam_axi_proj(align='sph', moment='zz') -- elapsed time sec: 0.90\n",
      "analytic_los=0 logistic=0 constant_anisotropy=1\n",
      "No PSF/pixel convolution because sigmapsf=0 pixsize=0\n",
      "inc=58.1; beta[0]=0.0; kappa=1.00; M/L=1.00; BH=0.0; chi2/DOF=nan\n",
      "Total mass MGE (MSun): 1.802e+13\n",
      "\n",
      "sigma_e: 183.00 km/s\n"
     ]
    },
    {
     "name": "stdout",
     "output_type": "stream",
     "text": [
      "jam_axi_proj(align='sph', moment='zz') -- elapsed time sec: 0.99\n",
      "analytic_los=0 logistic=0 constant_anisotropy=1\n",
      "No PSF/pixel convolution because sigmapsf=0 pixsize=0\n",
      "inc=59.2; beta[0]=0.0; kappa=1.00; M/L=1.00; BH=0.0; chi2/DOF=nan\n",
      "Total mass MGE (MSun): 1.802e+13\n",
      "\n",
      "sigma_e: 182.28 km/s\n"
     ]
    },
    {
     "name": "stdout",
     "output_type": "stream",
     "text": [
      "jam_axi_proj(align='sph', moment='zz') -- elapsed time sec: 0.94\n",
      "analytic_los=0 logistic=0 constant_anisotropy=1\n",
      "No PSF/pixel convolution because sigmapsf=0 pixsize=0\n",
      "inc=73.2; beta[0]=0.0; kappa=1.00; M/L=1.00; BH=0.0; chi2/DOF=nan\n",
      "Total mass MGE (MSun): 1.802e+13\n",
      "\n",
      "sigma_e: 165.67 km/s\n"
     ]
    },
    {
     "name": "stdout",
     "output_type": "stream",
     "text": [
      "jam_axi_proj(align='sph', moment='zz') -- elapsed time sec: 0.95\n",
      "analytic_los=0 logistic=0 constant_anisotropy=1\n",
      "No PSF/pixel convolution because sigmapsf=0 pixsize=0\n",
      "inc=74.9; beta[0]=0.0; kappa=1.00; M/L=1.00; BH=0.0; chi2/DOF=nan\n",
      "Total mass MGE (MSun): 1.802e+13\n",
      "\n",
      "sigma_e: 171.52 km/s\n"
     ]
    },
    {
     "name": "stdout",
     "output_type": "stream",
     "text": [
      "jam_axi_proj(align='sph', moment='zz') -- elapsed time sec: 0.93\n",
      "analytic_los=0 logistic=0 constant_anisotropy=1\n",
      "No PSF/pixel convolution because sigmapsf=0 pixsize=0\n",
      "inc=27.6; beta[0]=0.0; kappa=1.00; M/L=1.00; BH=0.0; chi2/DOF=nan\n",
      "Total mass MGE (MSun): 1.802e+13\n",
      "\n",
      "sigma_e: 180.74 km/s\n"
     ]
    },
    {
     "name": "stdout",
     "output_type": "stream",
     "text": [
      "jam_axi_proj(align='sph', moment='zz') -- elapsed time sec: 0.93\n",
      "analytic_los=0 logistic=0 constant_anisotropy=1\n",
      "No PSF/pixel convolution because sigmapsf=0 pixsize=0\n",
      "inc=73.4; beta[0]=0.0; kappa=1.00; M/L=1.00; BH=0.0; chi2/DOF=nan\n",
      "Total mass MGE (MSun): 8.391e+12\n",
      "\n",
      "sigma_e: 136.01 km/s\n"
     ]
    },
    {
     "name": "stdout",
     "output_type": "stream",
     "text": [
      "jam_axi_proj(align='sph', moment='zz') -- elapsed time sec: 0.97\n",
      "analytic_los=0 logistic=0 constant_anisotropy=1\n",
      "No PSF/pixel convolution because sigmapsf=0 pixsize=0\n",
      "inc=75.2; beta[0]=0.0; kappa=1.00; M/L=1.00; BH=0.0; chi2/DOF=nan\n",
      "Total mass MGE (MSun): 8.391e+12\n",
      "\n",
      "sigma_e: 130.11 km/s\n"
     ]
    },
    {
     "name": "stdout",
     "output_type": "stream",
     "text": [
      "jam_axi_proj(align='sph', moment='zz') -- elapsed time sec: 0.96\n",
      "analytic_los=0 logistic=0 constant_anisotropy=1\n",
      "No PSF/pixel convolution because sigmapsf=0 pixsize=0\n",
      "inc=76.5; beta[0]=0.0; kappa=1.00; M/L=1.00; BH=0.0; chi2/DOF=nan\n",
      "Total mass MGE (MSun): 8.391e+12\n",
      "\n",
      "sigma_e: 145.15 km/s\n"
     ]
    },
    {
     "name": "stdout",
     "output_type": "stream",
     "text": [
      "jam_axi_proj(align='sph', moment='zz') -- elapsed time sec: 0.99\n",
      "analytic_los=0 logistic=0 constant_anisotropy=1\n",
      "No PSF/pixel convolution because sigmapsf=0 pixsize=0\n",
      "inc=64.9; beta[0]=0.0; kappa=1.00; M/L=1.00; BH=0.0; chi2/DOF=nan\n",
      "Total mass MGE (MSun): 8.391e+12\n",
      "\n",
      "sigma_e: 137.83 km/s\n"
     ]
    },
    {
     "name": "stdout",
     "output_type": "stream",
     "text": [
      "jam_axi_proj(align='sph', moment='zz') -- elapsed time sec: 1.04\n",
      "analytic_los=0 logistic=0 constant_anisotropy=1\n",
      "No PSF/pixel convolution because sigmapsf=0 pixsize=0\n",
      "inc=74.1; beta[0]=0.0; kappa=1.00; M/L=1.00; BH=0.0; chi2/DOF=nan\n",
      "Total mass MGE (MSun): 8.391e+12\n",
      "\n",
      "sigma_e: 148.32 km/s\n"
     ]
    },
    {
     "name": "stdout",
     "output_type": "stream",
     "text": [
      "jam_axi_proj(align='sph', moment='zz') -- elapsed time sec: 1.00\n",
      "analytic_los=0 logistic=0 constant_anisotropy=1\n",
      "No PSF/pixel convolution because sigmapsf=0 pixsize=0\n",
      "inc=86.7; beta[0]=0.0; kappa=1.00; M/L=1.00; BH=0.0; chi2/DOF=nan\n",
      "Total mass MGE (MSun): 8.391e+12\n",
      "\n",
      "sigma_e: 133.42 km/s\n"
     ]
    },
    {
     "name": "stdout",
     "output_type": "stream",
     "text": [
      "jam_axi_proj(align='sph', moment='zz') -- elapsed time sec: 1.00\n",
      "analytic_los=0 logistic=0 constant_anisotropy=1\n",
      "No PSF/pixel convolution because sigmapsf=0 pixsize=0\n",
      "inc=80.6; beta[0]=0.0; kappa=1.00; M/L=1.00; BH=0.0; chi2/DOF=nan\n",
      "Total mass MGE (MSun): 8.391e+12\n",
      "\n",
      "sigma_e: 146.76 km/s\n"
     ]
    },
    {
     "name": "stdout",
     "output_type": "stream",
     "text": [
      "jam_axi_proj(align='sph', moment='zz') -- elapsed time sec: 0.92\n",
      "analytic_los=0 logistic=0 constant_anisotropy=1\n",
      "No PSF/pixel convolution because sigmapsf=0 pixsize=0\n",
      "inc=71.4; beta[0]=0.0; kappa=1.00; M/L=1.00; BH=0.0; chi2/DOF=nan\n",
      "Total mass MGE (MSun): 8.391e+12\n",
      "\n",
      "sigma_e: 149.18 km/s\n"
     ]
    },
    {
     "name": "stdout",
     "output_type": "stream",
     "text": [
      "jam_axi_proj(align='sph', moment='zz') -- elapsed time sec: 0.94\n",
      "analytic_los=0 logistic=0 constant_anisotropy=1\n",
      "No PSF/pixel convolution because sigmapsf=0 pixsize=0\n",
      "inc=65.1; beta[0]=0.0; kappa=1.00; M/L=1.00; BH=0.0; chi2/DOF=nan\n",
      "Total mass MGE (MSun): 8.391e+12\n",
      "\n",
      "sigma_e: 148.56 km/s\n"
     ]
    },
    {
     "name": "stdout",
     "output_type": "stream",
     "text": [
      "jam_axi_proj(align='sph', moment='zz') -- elapsed time sec: 0.91\n",
      "analytic_los=0 logistic=0 constant_anisotropy=1\n",
      "No PSF/pixel convolution because sigmapsf=0 pixsize=0\n",
      "inc=89.5; beta[0]=0.0; kappa=1.00; M/L=1.00; BH=0.0; chi2/DOF=nan\n",
      "Total mass MGE (MSun): 8.391e+12\n",
      "\n",
      "sigma_e: 147.28 km/s\n"
     ]
    },
    {
     "name": "stdout",
     "output_type": "stream",
     "text": [
      "jam_axi_proj(align='sph', moment='zz') -- elapsed time sec: 1.00\n",
      "analytic_los=0 logistic=0 constant_anisotropy=1\n",
      "No PSF/pixel convolution because sigmapsf=0 pixsize=0\n",
      "inc=76.8; beta[0]=0.0; kappa=1.00; M/L=1.00; BH=0.0; chi2/DOF=nan\n",
      "Total mass MGE (MSun): 1.290e+13\n",
      "\n",
      "sigma_e: 153.79 km/s\n"
     ]
    },
    {
     "name": "stdout",
     "output_type": "stream",
     "text": [
      "jam_axi_proj(align='sph', moment='zz') -- elapsed time sec: 0.96\n",
      "analytic_los=0 logistic=0 constant_anisotropy=1\n",
      "No PSF/pixel convolution because sigmapsf=0 pixsize=0\n",
      "inc=67.6; beta[0]=0.0; kappa=1.00; M/L=1.00; BH=0.0; chi2/DOF=nan\n",
      "Total mass MGE (MSun): 1.290e+13\n",
      "\n",
      "sigma_e: 161.36 km/s\n"
     ]
    },
    {
     "name": "stdout",
     "output_type": "stream",
     "text": [
      "jam_axi_proj(align='sph', moment='zz') -- elapsed time sec: 1.00\n",
      "analytic_los=0 logistic=0 constant_anisotropy=1\n",
      "No PSF/pixel convolution because sigmapsf=0 pixsize=0\n",
      "inc=82.5; beta[0]=0.0; kappa=1.00; M/L=1.00; BH=0.0; chi2/DOF=nan\n",
      "Total mass MGE (MSun): 1.290e+13\n",
      "\n",
      "sigma_e: 149.18 km/s\n"
     ]
    },
    {
     "name": "stdout",
     "output_type": "stream",
     "text": [
      "jam_axi_proj(align='sph', moment='zz') -- elapsed time sec: 0.97\n",
      "analytic_los=0 logistic=0 constant_anisotropy=1\n",
      "No PSF/pixel convolution because sigmapsf=0 pixsize=0\n",
      "inc=55.3; beta[0]=0.0; kappa=1.00; M/L=1.00; BH=0.0; chi2/DOF=nan\n",
      "Total mass MGE (MSun): 1.290e+13\n",
      "\n",
      "sigma_e: 167.39 km/s\n"
     ]
    },
    {
     "name": "stdout",
     "output_type": "stream",
     "text": [
      "jam_axi_proj(align='sph', moment='zz') -- elapsed time sec: 1.06\n",
      "analytic_los=0 logistic=0 constant_anisotropy=1\n",
      "No PSF/pixel convolution because sigmapsf=0 pixsize=0\n",
      "inc=87.3; beta[0]=0.0; kappa=1.00; M/L=1.00; BH=0.0; chi2/DOF=nan\n",
      "Total mass MGE (MSun): 1.290e+13\n",
      "\n",
      "sigma_e: 147.01 km/s\n"
     ]
    },
    {
     "name": "stdout",
     "output_type": "stream",
     "text": [
      "jam_axi_proj(align='sph', moment='zz') -- elapsed time sec: 0.97\n",
      "analytic_los=0 logistic=0 constant_anisotropy=1\n",
      "No PSF/pixel convolution because sigmapsf=0 pixsize=0\n",
      "inc=73.9; beta[0]=0.0; kappa=1.00; M/L=1.00; BH=0.0; chi2/DOF=nan\n",
      "Total mass MGE (MSun): 1.290e+13\n",
      "\n",
      "sigma_e: 163.93 km/s\n"
     ]
    },
    {
     "name": "stdout",
     "output_type": "stream",
     "text": [
      "jam_axi_proj(align='sph', moment='zz') -- elapsed time sec: 1.06\n",
      "analytic_los=0 logistic=0 constant_anisotropy=1\n",
      "No PSF/pixel convolution because sigmapsf=0 pixsize=0\n",
      "inc=76.8; beta[0]=0.0; kappa=1.00; M/L=1.00; BH=0.0; chi2/DOF=nan\n",
      "Total mass MGE (MSun): 1.290e+13\n",
      "\n",
      "sigma_e: 151.50 km/s\n"
     ]
    },
    {
     "name": "stdout",
     "output_type": "stream",
     "text": [
      "jam_axi_proj(align='sph', moment='zz') -- elapsed time sec: 1.06\n",
      "analytic_los=0 logistic=0 constant_anisotropy=1\n",
      "No PSF/pixel convolution because sigmapsf=0 pixsize=0\n",
      "inc=89.9; beta[0]=0.0; kappa=1.00; M/L=1.00; BH=0.0; chi2/DOF=nan\n",
      "Total mass MGE (MSun): 1.290e+13\n",
      "\n",
      "sigma_e: 147.62 km/s\n"
     ]
    },
    {
     "name": "stdout",
     "output_type": "stream",
     "text": [
      "jam_axi_proj(align='sph', moment='zz') -- elapsed time sec: 0.95\n",
      "analytic_los=0 logistic=0 constant_anisotropy=1\n",
      "No PSF/pixel convolution because sigmapsf=0 pixsize=0\n",
      "inc=53.3; beta[0]=0.0; kappa=1.00; M/L=1.00; BH=0.0; chi2/DOF=nan\n",
      "Total mass MGE (MSun): 1.290e+13\n",
      "\n",
      "sigma_e: 166.57 km/s\n"
     ]
    },
    {
     "name": "stdout",
     "output_type": "stream",
     "text": [
      "jam_axi_proj(align='sph', moment='zz') -- elapsed time sec: 1.00\n",
      "analytic_los=0 logistic=0 constant_anisotropy=1\n",
      "No PSF/pixel convolution because sigmapsf=0 pixsize=0\n",
      "inc=60.7; beta[0]=0.0; kappa=1.00; M/L=1.00; BH=0.0; chi2/DOF=nan\n",
      "Total mass MGE (MSun): 1.290e+13\n",
      "\n",
      "sigma_e: 163.08 km/s\n"
     ]
    },
    {
     "name": "stdout",
     "output_type": "stream",
     "text": [
      "jam_axi_proj(align='sph', moment='zz') -- elapsed time sec: 0.96\n",
      "analytic_los=0 logistic=0 constant_anisotropy=1\n",
      "No PSF/pixel convolution because sigmapsf=0 pixsize=0\n",
      "inc=65.8; beta[0]=0.0; kappa=1.00; M/L=1.00; BH=0.0; chi2/DOF=nan\n",
      "Total mass MGE (MSun): 1.326e+13\n",
      "\n",
      "sigma_e: 168.17 km/s\n"
     ]
    },
    {
     "name": "stdout",
     "output_type": "stream",
     "text": [
      "jam_axi_proj(align='sph', moment='zz') -- elapsed time sec: 0.94\n",
      "analytic_los=0 logistic=0 constant_anisotropy=1\n",
      "No PSF/pixel convolution because sigmapsf=0 pixsize=0\n",
      "inc=50.2; beta[0]=0.0; kappa=1.00; M/L=1.00; BH=0.0; chi2/DOF=nan\n",
      "Total mass MGE (MSun): 1.326e+13\n",
      "\n",
      "sigma_e: 168.66 km/s\n"
     ]
    },
    {
     "name": "stdout",
     "output_type": "stream",
     "text": [
      "jam_axi_proj(align='sph', moment='zz') -- elapsed time sec: 1.02\n",
      "analytic_los=0 logistic=0 constant_anisotropy=1\n",
      "No PSF/pixel convolution because sigmapsf=0 pixsize=0\n",
      "inc=71.1; beta[0]=0.0; kappa=1.00; M/L=1.00; BH=0.0; chi2/DOF=nan\n",
      "Total mass MGE (MSun): 1.326e+13\n",
      "\n",
      "sigma_e: 151.81 km/s\n"
     ]
    },
    {
     "name": "stdout",
     "output_type": "stream",
     "text": [
      "jam_axi_proj(align='sph', moment='zz') -- elapsed time sec: 0.95\n",
      "analytic_los=0 logistic=0 constant_anisotropy=1\n",
      "No PSF/pixel convolution because sigmapsf=0 pixsize=0\n",
      "inc=49.9; beta[0]=0.0; kappa=1.00; M/L=1.00; BH=0.0; chi2/DOF=nan\n",
      "Total mass MGE (MSun): 1.326e+13\n",
      "\n",
      "sigma_e: 166.08 km/s\n"
     ]
    },
    {
     "name": "stdout",
     "output_type": "stream",
     "text": [
      "jam_axi_proj(align='sph', moment='zz') -- elapsed time sec: 1.06\n",
      "analytic_los=0 logistic=0 constant_anisotropy=1\n",
      "No PSF/pixel convolution because sigmapsf=0 pixsize=0\n",
      "inc=50.7; beta[0]=0.0; kappa=1.00; M/L=1.00; BH=0.0; chi2/DOF=nan\n",
      "Total mass MGE (MSun): 1.326e+13\n",
      "\n",
      "sigma_e: 172.24 km/s\n"
     ]
    },
    {
     "name": "stdout",
     "output_type": "stream",
     "text": [
      "jam_axi_proj(align='sph', moment='zz') -- elapsed time sec: 0.94\n",
      "analytic_los=0 logistic=0 constant_anisotropy=1\n",
      "No PSF/pixel convolution because sigmapsf=0 pixsize=0\n",
      "inc=52.4; beta[0]=0.0; kappa=1.00; M/L=1.00; BH=0.0; chi2/DOF=nan\n",
      "Total mass MGE (MSun): 1.326e+13\n",
      "\n",
      "sigma_e: 170.40 km/s\n"
     ]
    },
    {
     "name": "stdout",
     "output_type": "stream",
     "text": [
      "jam_axi_proj(align='sph', moment='zz') -- elapsed time sec: 0.96\n",
      "analytic_los=0 logistic=0 constant_anisotropy=1\n",
      "No PSF/pixel convolution because sigmapsf=0 pixsize=0\n",
      "inc=67.0; beta[0]=0.0; kappa=1.00; M/L=1.00; BH=0.0; chi2/DOF=nan\n",
      "Total mass MGE (MSun): 1.326e+13\n",
      "\n",
      "sigma_e: 152.26 km/s\n"
     ]
    },
    {
     "name": "stdout",
     "output_type": "stream",
     "text": [
      "jam_axi_proj(align='sph', moment='zz') -- elapsed time sec: 0.98\n",
      "analytic_los=0 logistic=0 constant_anisotropy=1\n",
      "No PSF/pixel convolution because sigmapsf=0 pixsize=0\n",
      "inc=54.6; beta[0]=0.0; kappa=1.00; M/L=1.00; BH=0.0; chi2/DOF=nan\n",
      "Total mass MGE (MSun): 1.326e+13\n",
      "\n",
      "sigma_e: 157.54 km/s\n"
     ]
    },
    {
     "name": "stdout",
     "output_type": "stream",
     "text": [
      "jam_axi_proj(align='sph', moment='zz') -- elapsed time sec: 0.98\n",
      "analytic_los=0 logistic=0 constant_anisotropy=1\n",
      "No PSF/pixel convolution because sigmapsf=0 pixsize=0\n",
      "inc=85.0; beta[0]=0.0; kappa=1.00; M/L=1.00; BH=0.0; chi2/DOF=nan\n",
      "Total mass MGE (MSun): 1.326e+13\n",
      "\n",
      "sigma_e: 151.13 km/s\n"
     ]
    },
    {
     "name": "stdout",
     "output_type": "stream",
     "text": [
      "jam_axi_proj(align='sph', moment='zz') -- elapsed time sec: 1.01\n",
      "analytic_los=0 logistic=0 constant_anisotropy=1\n",
      "No PSF/pixel convolution because sigmapsf=0 pixsize=0\n",
      "inc=84.5; beta[0]=0.0; kappa=1.00; M/L=1.00; BH=0.0; chi2/DOF=nan\n",
      "Total mass MGE (MSun): 1.326e+13\n",
      "\n",
      "sigma_e: 149.46 km/s\n"
     ]
    },
    {
     "name": "stdout",
     "output_type": "stream",
     "text": [
      "jam_axi_proj(align='sph', moment='zz') -- elapsed time sec: 0.91\n",
      "analytic_los=0 logistic=0 constant_anisotropy=1\n",
      "No PSF/pixel convolution because sigmapsf=0 pixsize=0\n",
      "inc=40.4; beta[0]=0.0; kappa=1.00; M/L=1.00; BH=0.0; chi2/DOF=nan\n",
      "Total mass MGE (MSun): 2.233e+13\n",
      "\n",
      "sigma_e: 196.15 km/s\n"
     ]
    },
    {
     "name": "stdout",
     "output_type": "stream",
     "text": [
      "jam_axi_proj(align='sph', moment='zz') -- elapsed time sec: 0.98\n",
      "analytic_los=0 logistic=0 constant_anisotropy=1\n",
      "No PSF/pixel convolution because sigmapsf=0 pixsize=0\n",
      "inc=37.0; beta[0]=0.0; kappa=1.00; M/L=1.00; BH=0.0; chi2/DOF=nan\n",
      "Total mass MGE (MSun): 2.233e+13\n",
      "\n",
      "sigma_e: 198.90 km/s\n"
     ]
    },
    {
     "name": "stdout",
     "output_type": "stream",
     "text": [
      "jam_axi_proj(align='sph', moment='zz') -- elapsed time sec: 1.03\n",
      "analytic_los=0 logistic=0 constant_anisotropy=1\n",
      "No PSF/pixel convolution because sigmapsf=0 pixsize=0\n",
      "inc=72.0; beta[0]=0.0; kappa=1.00; M/L=1.00; BH=0.0; chi2/DOF=nan\n",
      "Total mass MGE (MSun): 2.233e+13\n",
      "\n",
      "sigma_e: 184.02 km/s\n"
     ]
    },
    {
     "name": "stdout",
     "output_type": "stream",
     "text": [
      "jam_axi_proj(align='sph', moment='zz') -- elapsed time sec: 0.99\n",
      "analytic_los=0 logistic=0 constant_anisotropy=1\n",
      "No PSF/pixel convolution because sigmapsf=0 pixsize=0\n",
      "inc=63.8; beta[0]=0.0; kappa=1.00; M/L=1.00; BH=0.0; chi2/DOF=nan\n",
      "Total mass MGE (MSun): 2.233e+13\n",
      "\n",
      "sigma_e: 186.09 km/s\n"
     ]
    },
    {
     "name": "stdout",
     "output_type": "stream",
     "text": [
      "jam_axi_proj(align='sph', moment='zz') -- elapsed time sec: 1.00\n",
      "analytic_los=0 logistic=0 constant_anisotropy=1\n",
      "No PSF/pixel convolution because sigmapsf=0 pixsize=0\n",
      "inc=78.3; beta[0]=0.0; kappa=1.00; M/L=1.00; BH=0.0; chi2/DOF=nan\n",
      "Total mass MGE (MSun): 2.233e+13\n",
      "\n",
      "sigma_e: 168.54 km/s\n"
     ]
    },
    {
     "name": "stdout",
     "output_type": "stream",
     "text": [
      "jam_axi_proj(align='sph', moment='zz') -- elapsed time sec: 1.01\n",
      "analytic_los=0 logistic=0 constant_anisotropy=1\n",
      "No PSF/pixel convolution because sigmapsf=0 pixsize=0\n",
      "inc=73.2; beta[0]=0.0; kappa=1.00; M/L=1.00; BH=0.0; chi2/DOF=nan\n",
      "Total mass MGE (MSun): 2.233e+13\n",
      "\n",
      "sigma_e: 179.21 km/s\n"
     ]
    },
    {
     "name": "stdout",
     "output_type": "stream",
     "text": [
      "jam_axi_proj(align='sph', moment='zz') -- elapsed time sec: 0.99\n",
      "analytic_los=0 logistic=0 constant_anisotropy=1\n",
      "No PSF/pixel convolution because sigmapsf=0 pixsize=0\n",
      "inc=85.1; beta[0]=0.0; kappa=1.00; M/L=1.00; BH=0.0; chi2/DOF=nan\n",
      "Total mass MGE (MSun): 2.233e+13\n",
      "\n",
      "sigma_e: 179.01 km/s\n"
     ]
    },
    {
     "name": "stdout",
     "output_type": "stream",
     "text": [
      "jam_axi_proj(align='sph', moment='zz') -- elapsed time sec: 1.02\n",
      "analytic_los=0 logistic=0 constant_anisotropy=1\n",
      "No PSF/pixel convolution because sigmapsf=0 pixsize=0\n",
      "inc=70.7; beta[0]=0.0; kappa=1.00; M/L=1.00; BH=0.0; chi2/DOF=nan\n",
      "Total mass MGE (MSun): 2.233e+13\n",
      "\n",
      "sigma_e: 193.12 km/s\n"
     ]
    },
    {
     "name": "stdout",
     "output_type": "stream",
     "text": [
      "jam_axi_proj(align='sph', moment='zz') -- elapsed time sec: 0.99\n",
      "analytic_los=0 logistic=0 constant_anisotropy=1\n",
      "No PSF/pixel convolution because sigmapsf=0 pixsize=0\n",
      "inc=89.6; beta[0]=0.0; kappa=1.00; M/L=1.00; BH=0.0; chi2/DOF=nan\n",
      "Total mass MGE (MSun): 2.233e+13\n",
      "\n",
      "sigma_e: 166.76 km/s\n"
     ]
    },
    {
     "name": "stdout",
     "output_type": "stream",
     "text": [
      "jam_axi_proj(align='sph', moment='zz') -- elapsed time sec: 0.98\n",
      "analytic_los=0 logistic=0 constant_anisotropy=1\n",
      "No PSF/pixel convolution because sigmapsf=0 pixsize=0\n",
      "inc=71.9; beta[0]=0.0; kappa=1.00; M/L=1.00; BH=0.0; chi2/DOF=nan\n",
      "Total mass MGE (MSun): 2.233e+13\n",
      "\n",
      "sigma_e: 180.59 km/s\n"
     ]
    },
    {
     "name": "stdout",
     "output_type": "stream",
     "text": [
      "jam_axi_proj(align='sph', moment='zz') -- elapsed time sec: 1.01\n",
      "analytic_los=0 logistic=0 constant_anisotropy=1\n",
      "No PSF/pixel convolution because sigmapsf=0 pixsize=0\n",
      "inc=73.2; beta[0]=0.0; kappa=1.00; M/L=1.00; BH=0.0; chi2/DOF=nan\n",
      "Total mass MGE (MSun): 8.994e+12\n",
      "\n",
      "sigma_e: 151.09 km/s\n"
     ]
    },
    {
     "name": "stdout",
     "output_type": "stream",
     "text": [
      "jam_axi_proj(align='sph', moment='zz') -- elapsed time sec: 0.95\n",
      "analytic_los=0 logistic=0 constant_anisotropy=1\n",
      "No PSF/pixel convolution because sigmapsf=0 pixsize=0\n",
      "inc=78.6; beta[0]=0.0; kappa=1.00; M/L=1.00; BH=0.0; chi2/DOF=nan\n",
      "Total mass MGE (MSun): 8.994e+12\n",
      "\n",
      "sigma_e: 129.41 km/s\n"
     ]
    },
    {
     "name": "stdout",
     "output_type": "stream",
     "text": [
      "jam_axi_proj(align='sph', moment='zz') -- elapsed time sec: 1.00\n",
      "analytic_los=0 logistic=0 constant_anisotropy=1\n",
      "No PSF/pixel convolution because sigmapsf=0 pixsize=0\n",
      "inc=72.4; beta[0]=0.0; kappa=1.00; M/L=1.00; BH=0.0; chi2/DOF=nan\n",
      "Total mass MGE (MSun): 8.994e+12\n",
      "\n",
      "sigma_e: 135.44 km/s\n"
     ]
    },
    {
     "name": "stdout",
     "output_type": "stream",
     "text": [
      "jam_axi_proj(align='sph', moment='zz') -- elapsed time sec: 0.99\n",
      "analytic_los=0 logistic=0 constant_anisotropy=1\n",
      "No PSF/pixel convolution because sigmapsf=0 pixsize=0\n",
      "inc=76.2; beta[0]=0.0; kappa=1.00; M/L=1.00; BH=0.0; chi2/DOF=nan\n",
      "Total mass MGE (MSun): 8.994e+12\n",
      "\n",
      "sigma_e: 134.57 km/s\n"
     ]
    },
    {
     "name": "stdout",
     "output_type": "stream",
     "text": [
      "jam_axi_proj(align='sph', moment='zz') -- elapsed time sec: 0.95\n",
      "analytic_los=0 logistic=0 constant_anisotropy=1\n",
      "No PSF/pixel convolution because sigmapsf=0 pixsize=0\n",
      "inc=74.0; beta[0]=0.0; kappa=1.00; M/L=1.00; BH=0.0; chi2/DOF=nan\n",
      "Total mass MGE (MSun): 8.994e+12\n",
      "\n",
      "sigma_e: 147.21 km/s\n"
     ]
    },
    {
     "name": "stdout",
     "output_type": "stream",
     "text": [
      "jam_axi_proj(align='sph', moment='zz') -- elapsed time sec: 1.03\n",
      "analytic_los=0 logistic=0 constant_anisotropy=1\n",
      "No PSF/pixel convolution because sigmapsf=0 pixsize=0\n",
      "inc=82.0; beta[0]=0.0; kappa=1.00; M/L=1.00; BH=0.0; chi2/DOF=nan\n",
      "Total mass MGE (MSun): 8.994e+12\n",
      "\n",
      "sigma_e: 134.31 km/s\n"
     ]
    },
    {
     "name": "stdout",
     "output_type": "stream",
     "text": [
      "jam_axi_proj(align='sph', moment='zz') -- elapsed time sec: 1.00\n",
      "analytic_los=0 logistic=0 constant_anisotropy=1\n",
      "No PSF/pixel convolution because sigmapsf=0 pixsize=0\n",
      "inc=82.1; beta[0]=0.0; kappa=1.00; M/L=1.00; BH=0.0; chi2/DOF=nan\n",
      "Total mass MGE (MSun): 8.994e+12\n",
      "\n",
      "sigma_e: 134.94 km/s\n"
     ]
    },
    {
     "name": "stdout",
     "output_type": "stream",
     "text": [
      "jam_axi_proj(align='sph', moment='zz') -- elapsed time sec: 1.03\n",
      "analytic_los=0 logistic=0 constant_anisotropy=1\n",
      "No PSF/pixel convolution because sigmapsf=0 pixsize=0\n",
      "inc=74.4; beta[0]=0.0; kappa=1.00; M/L=1.00; BH=0.0; chi2/DOF=nan\n",
      "Total mass MGE (MSun): 8.994e+12\n",
      "\n",
      "sigma_e: 138.27 km/s\n"
     ]
    },
    {
     "name": "stdout",
     "output_type": "stream",
     "text": [
      "jam_axi_proj(align='sph', moment='zz') -- elapsed time sec: 1.05\n",
      "analytic_los=0 logistic=0 constant_anisotropy=1\n",
      "No PSF/pixel convolution because sigmapsf=0 pixsize=0\n",
      "inc=63.9; beta[0]=0.0; kappa=1.00; M/L=1.00; BH=0.0; chi2/DOF=nan\n",
      "Total mass MGE (MSun): 8.994e+12\n",
      "\n",
      "sigma_e: 140.04 km/s\n"
     ]
    },
    {
     "name": "stdout",
     "output_type": "stream",
     "text": [
      "jam_axi_proj(align='sph', moment='zz') -- elapsed time sec: 0.87\n",
      "analytic_los=0 logistic=0 constant_anisotropy=1\n",
      "No PSF/pixel convolution because sigmapsf=0 pixsize=0\n",
      "inc=83.8; beta[0]=0.0; kappa=1.00; M/L=1.00; BH=0.0; chi2/DOF=nan\n",
      "Total mass MGE (MSun): 8.994e+12\n",
      "\n",
      "sigma_e: 153.59 km/s\n"
     ]
    },
    {
     "name": "stdout",
     "output_type": "stream",
     "text": [
      "jam_axi_proj(align='sph', moment='zz') -- elapsed time sec: 0.95\n",
      "analytic_los=0 logistic=0 constant_anisotropy=1\n",
      "No PSF/pixel convolution because sigmapsf=0 pixsize=0\n",
      "inc=21.1; beta[0]=0.0; kappa=1.00; M/L=1.00; BH=0.0; chi2/DOF=nan\n",
      "Total mass MGE (MSun): 5.241e+13\n",
      "\n",
      "sigma_e: 242.44 km/s\n"
     ]
    },
    {
     "name": "stdout",
     "output_type": "stream",
     "text": [
      "jam_axi_proj(align='sph', moment='zz') -- elapsed time sec: 1.07\n",
      "analytic_los=0 logistic=0 constant_anisotropy=1\n",
      "No PSF/pixel convolution because sigmapsf=0 pixsize=0\n",
      "inc=79.7; beta[0]=0.0; kappa=1.00; M/L=1.00; BH=0.0; chi2/DOF=nan\n",
      "Total mass MGE (MSun): 5.241e+13\n",
      "\n",
      "sigma_e: 209.88 km/s\n"
     ]
    },
    {
     "name": "stdout",
     "output_type": "stream",
     "text": [
      "jam_axi_proj(align='sph', moment='zz') -- elapsed time sec: 0.95\n",
      "analytic_los=0 logistic=0 constant_anisotropy=1\n",
      "No PSF/pixel convolution because sigmapsf=0 pixsize=0\n",
      "inc=45.5; beta[0]=0.0; kappa=1.00; M/L=1.00; BH=0.0; chi2/DOF=nan\n",
      "Total mass MGE (MSun): 5.241e+13\n",
      "\n",
      "sigma_e: 236.94 km/s\n"
     ]
    },
    {
     "name": "stdout",
     "output_type": "stream",
     "text": [
      "jam_axi_proj(align='sph', moment='zz') -- elapsed time sec: 1.01\n",
      "analytic_los=0 logistic=0 constant_anisotropy=1\n",
      "No PSF/pixel convolution because sigmapsf=0 pixsize=0\n",
      "inc=81.8; beta[0]=0.0; kappa=1.00; M/L=1.00; BH=0.0; chi2/DOF=nan\n",
      "Total mass MGE (MSun): 5.241e+13\n",
      "\n",
      "sigma_e: 210.02 km/s\n"
     ]
    },
    {
     "name": "stdout",
     "output_type": "stream",
     "text": [
      "jam_axi_proj(align='sph', moment='zz') -- elapsed time sec: 1.02\n",
      "analytic_los=0 logistic=0 constant_anisotropy=1\n",
      "No PSF/pixel convolution because sigmapsf=0 pixsize=0\n",
      "inc=86.4; beta[0]=0.0; kappa=1.00; M/L=1.00; BH=0.0; chi2/DOF=nan\n",
      "Total mass MGE (MSun): 5.241e+13\n",
      "\n",
      "sigma_e: 207.61 km/s\n"
     ]
    },
    {
     "name": "stdout",
     "output_type": "stream",
     "text": [
      "jam_axi_proj(align='sph', moment='zz') -- elapsed time sec: 1.02\n",
      "analytic_los=0 logistic=0 constant_anisotropy=1\n",
      "No PSF/pixel convolution because sigmapsf=0 pixsize=0\n",
      "inc=74.2; beta[0]=0.0; kappa=1.00; M/L=1.00; BH=0.0; chi2/DOF=nan\n",
      "Total mass MGE (MSun): 5.241e+13\n",
      "\n",
      "sigma_e: 223.20 km/s\n"
     ]
    },
    {
     "name": "stdout",
     "output_type": "stream",
     "text": [
      "jam_axi_proj(align='sph', moment='zz') -- elapsed time sec: 0.95\n",
      "analytic_los=0 logistic=0 constant_anisotropy=1\n",
      "No PSF/pixel convolution because sigmapsf=0 pixsize=0\n",
      "inc=43.1; beta[0]=0.0; kappa=1.00; M/L=1.00; BH=0.0; chi2/DOF=nan\n",
      "Total mass MGE (MSun): 5.241e+13\n",
      "\n",
      "sigma_e: 241.78 km/s\n"
     ]
    },
    {
     "name": "stdout",
     "output_type": "stream",
     "text": [
      "jam_axi_proj(align='sph', moment='zz') -- elapsed time sec: 0.97\n",
      "analytic_los=0 logistic=0 constant_anisotropy=1\n",
      "No PSF/pixel convolution because sigmapsf=0 pixsize=0\n",
      "inc=65.2; beta[0]=0.0; kappa=1.00; M/L=1.00; BH=0.0; chi2/DOF=nan\n",
      "Total mass MGE (MSun): 5.241e+13\n",
      "\n",
      "sigma_e: 224.55 km/s\n"
     ]
    },
    {
     "name": "stdout",
     "output_type": "stream",
     "text": [
      "jam_axi_proj(align='sph', moment='zz') -- elapsed time sec: 0.91\n",
      "analytic_los=0 logistic=0 constant_anisotropy=1\n",
      "No PSF/pixel convolution because sigmapsf=0 pixsize=0\n",
      "inc=49.5; beta[0]=0.0; kappa=1.00; M/L=1.00; BH=0.0; chi2/DOF=nan\n",
      "Total mass MGE (MSun): 5.241e+13\n",
      "\n",
      "sigma_e: 241.45 km/s\n"
     ]
    },
    {
     "name": "stdout",
     "output_type": "stream",
     "text": [
      "jam_axi_proj(align='sph', moment='zz') -- elapsed time sec: 0.76\n",
      "analytic_los=0 logistic=0 constant_anisotropy=1\n",
      "No PSF/pixel convolution because sigmapsf=0 pixsize=0\n",
      "inc=32.7; beta[0]=0.0; kappa=1.00; M/L=1.00; BH=0.0; chi2/DOF=nan\n",
      "Total mass MGE (MSun): 5.241e+13\n",
      "\n",
      "sigma_e: 238.23 km/s\n"
     ]
    },
    {
     "name": "stdout",
     "output_type": "stream",
     "text": [
      "jam_axi_proj(align='sph', moment='zz') -- elapsed time sec: 0.91\n",
      "analytic_los=0 logistic=0 constant_anisotropy=1\n",
      "No PSF/pixel convolution because sigmapsf=0 pixsize=0\n",
      "inc=31.0; beta[0]=0.0; kappa=1.00; M/L=1.00; BH=0.0; chi2/DOF=nan\n",
      "Total mass MGE (MSun): 1.830e+13\n",
      "\n",
      "sigma_e: 181.45 km/s\n"
     ]
    },
    {
     "name": "stdout",
     "output_type": "stream",
     "text": [
      "jam_axi_proj(align='sph', moment='zz') -- elapsed time sec: 0.96\n",
      "analytic_los=0 logistic=0 constant_anisotropy=1\n",
      "No PSF/pixel convolution because sigmapsf=0 pixsize=0\n",
      "inc=34.6; beta[0]=0.0; kappa=1.00; M/L=1.00; BH=0.0; chi2/DOF=nan\n",
      "Total mass MGE (MSun): 1.830e+13\n",
      "\n",
      "sigma_e: 180.54 km/s\n"
     ]
    },
    {
     "name": "stdout",
     "output_type": "stream",
     "text": [
      "jam_axi_proj(align='sph', moment='zz') -- elapsed time sec: 0.83\n",
      "analytic_los=0 logistic=0 constant_anisotropy=1\n",
      "No PSF/pixel convolution because sigmapsf=0 pixsize=0\n",
      "inc=43.7; beta[0]=0.0; kappa=1.00; M/L=1.00; BH=0.0; chi2/DOF=nan\n",
      "Total mass MGE (MSun): 1.830e+13\n",
      "\n",
      "sigma_e: 182.21 km/s\n"
     ]
    },
    {
     "name": "stdout",
     "output_type": "stream",
     "text": [
      "jam_axi_proj(align='sph', moment='zz') -- elapsed time sec: 0.96\n",
      "analytic_los=0 logistic=0 constant_anisotropy=1\n",
      "No PSF/pixel convolution because sigmapsf=0 pixsize=0\n",
      "inc=66.6; beta[0]=0.0; kappa=1.00; M/L=1.00; BH=0.0; chi2/DOF=nan\n",
      "Total mass MGE (MSun): 1.830e+13\n",
      "\n",
      "sigma_e: 171.01 km/s\n"
     ]
    },
    {
     "name": "stdout",
     "output_type": "stream",
     "text": [
      "jam_axi_proj(align='sph', moment='zz') -- elapsed time sec: 0.93\n",
      "analytic_los=0 logistic=0 constant_anisotropy=1\n",
      "No PSF/pixel convolution because sigmapsf=0 pixsize=0\n",
      "inc=71.6; beta[0]=0.0; kappa=1.00; M/L=1.00; BH=0.0; chi2/DOF=nan\n",
      "Total mass MGE (MSun): 1.830e+13\n",
      "\n",
      "sigma_e: 171.89 km/s\n"
     ]
    },
    {
     "name": "stdout",
     "output_type": "stream",
     "text": [
      "jam_axi_proj(align='sph', moment='zz') -- elapsed time sec: 0.94\n",
      "analytic_los=0 logistic=0 constant_anisotropy=1\n",
      "No PSF/pixel convolution because sigmapsf=0 pixsize=0\n",
      "inc=58.2; beta[0]=0.0; kappa=1.00; M/L=1.00; BH=0.0; chi2/DOF=nan\n",
      "Total mass MGE (MSun): 1.830e+13\n",
      "\n",
      "sigma_e: 176.64 km/s\n"
     ]
    },
    {
     "name": "stdout",
     "output_type": "stream",
     "text": [
      "jam_axi_proj(align='sph', moment='zz') -- elapsed time sec: 0.97\n",
      "analytic_los=0 logistic=0 constant_anisotropy=1\n",
      "No PSF/pixel convolution because sigmapsf=0 pixsize=0\n",
      "inc=49.2; beta[0]=0.0; kappa=1.00; M/L=1.00; BH=0.0; chi2/DOF=nan\n",
      "Total mass MGE (MSun): 1.830e+13\n",
      "\n",
      "sigma_e: 176.69 km/s\n"
     ]
    },
    {
     "name": "stdout",
     "output_type": "stream",
     "text": [
      "jam_axi_proj(align='sph', moment='zz') -- elapsed time sec: 0.96\n",
      "analytic_los=0 logistic=0 constant_anisotropy=1\n",
      "No PSF/pixel convolution because sigmapsf=0 pixsize=0\n",
      "inc=47.5; beta[0]=0.0; kappa=1.00; M/L=1.00; BH=0.0; chi2/DOF=nan\n",
      "Total mass MGE (MSun): 1.830e+13\n",
      "\n",
      "sigma_e: 177.23 km/s\n"
     ]
    },
    {
     "name": "stdout",
     "output_type": "stream",
     "text": [
      "jam_axi_proj(align='sph', moment='zz') -- elapsed time sec: 0.99\n",
      "analytic_los=0 logistic=0 constant_anisotropy=1\n",
      "No PSF/pixel convolution because sigmapsf=0 pixsize=0\n",
      "inc=72.3; beta[0]=0.0; kappa=1.00; M/L=1.00; BH=0.0; chi2/DOF=nan\n",
      "Total mass MGE (MSun): 1.830e+13\n",
      "\n",
      "sigma_e: 166.91 km/s\n"
     ]
    },
    {
     "name": "stdout",
     "output_type": "stream",
     "text": [
      "jam_axi_proj(align='sph', moment='zz') -- elapsed time sec: 0.98\n",
      "analytic_los=0 logistic=0 constant_anisotropy=1\n",
      "No PSF/pixel convolution because sigmapsf=0 pixsize=0\n",
      "inc=68.1; beta[0]=0.0; kappa=1.00; M/L=1.00; BH=0.0; chi2/DOF=nan\n",
      "Total mass MGE (MSun): 1.830e+13\n",
      "\n",
      "sigma_e: 166.56 km/s\n"
     ]
    },
    {
     "name": "stdout",
     "output_type": "stream",
     "text": [
      "jam_axi_proj(align='sph', moment='zz') -- elapsed time sec: 0.94\n",
      "analytic_los=0 logistic=0 constant_anisotropy=1\n",
      "No PSF/pixel convolution because sigmapsf=0 pixsize=0\n",
      "inc=63.4; beta[0]=0.0; kappa=1.00; M/L=1.00; BH=0.0; chi2/DOF=nan\n",
      "Total mass MGE (MSun): 3.303e+13\n",
      "\n",
      "sigma_e: 198.40 km/s\n"
     ]
    },
    {
     "name": "stdout",
     "output_type": "stream",
     "text": [
      "jam_axi_proj(align='sph', moment='zz') -- elapsed time sec: 0.96\n",
      "analytic_los=0 logistic=0 constant_anisotropy=1\n",
      "No PSF/pixel convolution because sigmapsf=0 pixsize=0\n",
      "inc=84.5; beta[0]=0.0; kappa=1.00; M/L=1.00; BH=0.0; chi2/DOF=nan\n",
      "Total mass MGE (MSun): 3.303e+13\n",
      "\n",
      "sigma_e: 190.90 km/s\n"
     ]
    },
    {
     "name": "stdout",
     "output_type": "stream",
     "text": [
      "jam_axi_proj(align='sph', moment='zz') -- elapsed time sec: 0.98\n",
      "analytic_los=0 logistic=0 constant_anisotropy=1\n",
      "No PSF/pixel convolution because sigmapsf=0 pixsize=0\n",
      "inc=69.6; beta[0]=0.0; kappa=1.00; M/L=1.00; BH=0.0; chi2/DOF=nan\n",
      "Total mass MGE (MSun): 3.303e+13\n",
      "\n",
      "sigma_e: 192.72 km/s\n"
     ]
    },
    {
     "name": "stdout",
     "output_type": "stream",
     "text": [
      "jam_axi_proj(align='sph', moment='zz') -- elapsed time sec: 0.94\n",
      "analytic_los=0 logistic=0 constant_anisotropy=1\n",
      "No PSF/pixel convolution because sigmapsf=0 pixsize=0\n",
      "inc=64.5; beta[0]=0.0; kappa=1.00; M/L=1.00; BH=0.0; chi2/DOF=nan\n",
      "Total mass MGE (MSun): 3.303e+13\n",
      "\n",
      "sigma_e: 198.64 km/s\n"
     ]
    },
    {
     "name": "stdout",
     "output_type": "stream",
     "text": [
      "jam_axi_proj(align='sph', moment='zz') -- elapsed time sec: 0.98\n",
      "analytic_los=0 logistic=0 constant_anisotropy=1\n",
      "No PSF/pixel convolution because sigmapsf=0 pixsize=0\n",
      "inc=62.4; beta[0]=0.0; kappa=1.00; M/L=1.00; BH=0.0; chi2/DOF=nan\n",
      "Total mass MGE (MSun): 3.303e+13\n",
      "\n",
      "sigma_e: 193.96 km/s\n"
     ]
    },
    {
     "name": "stdout",
     "output_type": "stream",
     "text": [
      "jam_axi_proj(align='sph', moment='zz') -- elapsed time sec: 0.97\n",
      "analytic_los=0 logistic=0 constant_anisotropy=1\n",
      "No PSF/pixel convolution because sigmapsf=0 pixsize=0\n",
      "inc=59.7; beta[0]=0.0; kappa=1.00; M/L=1.00; BH=0.0; chi2/DOF=nan\n",
      "Total mass MGE (MSun): 3.303e+13\n",
      "\n",
      "sigma_e: 195.45 km/s\n"
     ]
    },
    {
     "name": "stdout",
     "output_type": "stream",
     "text": [
      "jam_axi_proj(align='sph', moment='zz') -- elapsed time sec: 0.92\n",
      "analytic_los=0 logistic=0 constant_anisotropy=1\n",
      "No PSF/pixel convolution because sigmapsf=0 pixsize=0\n",
      "inc=32.1; beta[0]=0.0; kappa=1.00; M/L=1.00; BH=0.0; chi2/DOF=nan\n",
      "Total mass MGE (MSun): 3.303e+13\n",
      "\n",
      "sigma_e: 211.21 km/s\n"
     ]
    },
    {
     "name": "stdout",
     "output_type": "stream",
     "text": [
      "jam_axi_proj(align='sph', moment='zz') -- elapsed time sec: 0.96\n",
      "analytic_los=0 logistic=0 constant_anisotropy=1\n",
      "No PSF/pixel convolution because sigmapsf=0 pixsize=0\n",
      "inc=45.5; beta[0]=0.0; kappa=1.00; M/L=1.00; BH=0.0; chi2/DOF=nan\n",
      "Total mass MGE (MSun): 3.303e+13\n",
      "\n",
      "sigma_e: 207.40 km/s\n"
     ]
    },
    {
     "name": "stdout",
     "output_type": "stream",
     "text": [
      "jam_axi_proj(align='sph', moment='zz') -- elapsed time sec: 0.90\n",
      "analytic_los=0 logistic=0 constant_anisotropy=1\n",
      "No PSF/pixel convolution because sigmapsf=0 pixsize=0\n",
      "inc=80.9; beta[0]=0.0; kappa=1.00; M/L=1.00; BH=0.0; chi2/DOF=nan\n",
      "Total mass MGE (MSun): 3.303e+13\n",
      "\n",
      "sigma_e: 197.70 km/s\n"
     ]
    },
    {
     "name": "stdout",
     "output_type": "stream",
     "text": [
      "jam_axi_proj(align='sph', moment='zz') -- elapsed time sec: 0.94\n",
      "analytic_los=0 logistic=0 constant_anisotropy=1\n",
      "No PSF/pixel convolution because sigmapsf=0 pixsize=0\n",
      "inc=23.3; beta[0]=0.0; kappa=1.00; M/L=1.00; BH=0.0; chi2/DOF=nan\n",
      "Total mass MGE (MSun): 3.303e+13\n",
      "\n",
      "sigma_e: 209.71 km/s\n"
     ]
    },
    {
     "name": "stdout",
     "output_type": "stream",
     "text": [
      "jam_axi_proj(align='sph', moment='zz') -- elapsed time sec: 0.94\n",
      "analytic_los=0 logistic=0 constant_anisotropy=1\n",
      "No PSF/pixel convolution because sigmapsf=0 pixsize=0\n",
      "inc=54.4; beta[0]=0.0; kappa=1.00; M/L=1.00; BH=0.0; chi2/DOF=nan\n",
      "Total mass MGE (MSun): 1.180e+13\n",
      "\n",
      "sigma_e: 156.52 km/s\n"
     ]
    },
    {
     "name": "stdout",
     "output_type": "stream",
     "text": [
      "jam_axi_proj(align='sph', moment='zz') -- elapsed time sec: 0.89\n",
      "analytic_los=0 logistic=0 constant_anisotropy=1\n",
      "No PSF/pixel convolution because sigmapsf=0 pixsize=0\n",
      "inc=48.9; beta[0]=0.0; kappa=1.00; M/L=1.00; BH=0.0; chi2/DOF=nan\n",
      "Total mass MGE (MSun): 1.180e+13\n",
      "\n",
      "sigma_e: 161.74 km/s\n"
     ]
    },
    {
     "name": "stdout",
     "output_type": "stream",
     "text": [
      "jam_axi_proj(align='sph', moment='zz') -- elapsed time sec: 0.96\n",
      "analytic_los=0 logistic=0 constant_anisotropy=1\n",
      "No PSF/pixel convolution because sigmapsf=0 pixsize=0\n",
      "inc=42.9; beta[0]=0.0; kappa=1.00; M/L=1.00; BH=0.0; chi2/DOF=nan\n",
      "Total mass MGE (MSun): 1.180e+13\n",
      "\n",
      "sigma_e: 164.85 km/s\n"
     ]
    },
    {
     "name": "stdout",
     "output_type": "stream",
     "text": [
      "jam_axi_proj(align='sph', moment='zz') -- elapsed time sec: 0.85\n",
      "analytic_los=0 logistic=0 constant_anisotropy=1\n",
      "No PSF/pixel convolution because sigmapsf=0 pixsize=0\n",
      "inc=56.0; beta[0]=0.0; kappa=1.00; M/L=1.00; BH=0.0; chi2/DOF=nan\n",
      "Total mass MGE (MSun): 1.180e+13\n",
      "\n",
      "sigma_e: 160.07 km/s\n"
     ]
    },
    {
     "name": "stdout",
     "output_type": "stream",
     "text": [
      "jam_axi_proj(align='sph', moment='zz') -- elapsed time sec: 0.94\n",
      "analytic_los=0 logistic=0 constant_anisotropy=1\n",
      "No PSF/pixel convolution because sigmapsf=0 pixsize=0\n",
      "inc=45.2; beta[0]=0.0; kappa=1.00; M/L=1.00; BH=0.0; chi2/DOF=nan\n",
      "Total mass MGE (MSun): 1.180e+13\n",
      "\n",
      "sigma_e: 163.77 km/s\n"
     ]
    },
    {
     "name": "stdout",
     "output_type": "stream",
     "text": [
      "jam_axi_proj(align='sph', moment='zz') -- elapsed time sec: 0.98\n",
      "analytic_los=0 logistic=0 constant_anisotropy=1\n",
      "No PSF/pixel convolution because sigmapsf=0 pixsize=0\n",
      "inc=77.7; beta[0]=0.0; kappa=1.00; M/L=1.00; BH=0.0; chi2/DOF=nan\n",
      "Total mass MGE (MSun): 1.180e+13\n",
      "\n",
      "sigma_e: 146.61 km/s\n"
     ]
    },
    {
     "name": "stdout",
     "output_type": "stream",
     "text": [
      "jam_axi_proj(align='sph', moment='zz') -- elapsed time sec: 0.91\n",
      "analytic_los=0 logistic=0 constant_anisotropy=1\n",
      "No PSF/pixel convolution because sigmapsf=0 pixsize=0\n",
      "inc=54.4; beta[0]=0.0; kappa=1.00; M/L=1.00; BH=0.0; chi2/DOF=nan\n",
      "Total mass MGE (MSun): 1.180e+13\n",
      "\n",
      "sigma_e: 164.01 km/s\n"
     ]
    },
    {
     "name": "stdout",
     "output_type": "stream",
     "text": [
      "jam_axi_proj(align='sph', moment='zz') -- elapsed time sec: 0.93\n",
      "analytic_los=0 logistic=0 constant_anisotropy=1\n",
      "No PSF/pixel convolution because sigmapsf=0 pixsize=0\n",
      "inc=53.6; beta[0]=0.0; kappa=1.00; M/L=1.00; BH=0.0; chi2/DOF=nan\n",
      "Total mass MGE (MSun): 1.180e+13\n",
      "\n",
      "sigma_e: 160.26 km/s\n"
     ]
    },
    {
     "name": "stdout",
     "output_type": "stream",
     "text": [
      "jam_axi_proj(align='sph', moment='zz') -- elapsed time sec: 0.93\n",
      "analytic_los=0 logistic=0 constant_anisotropy=1\n",
      "No PSF/pixel convolution because sigmapsf=0 pixsize=0\n",
      "inc=61.5; beta[0]=0.0; kappa=1.00; M/L=1.00; BH=0.0; chi2/DOF=nan\n",
      "Total mass MGE (MSun): 1.180e+13\n",
      "\n",
      "sigma_e: 154.97 km/s\n"
     ]
    },
    {
     "name": "stdout",
     "output_type": "stream",
     "text": [
      "jam_axi_proj(align='sph', moment='zz') -- elapsed time sec: 0.98\n",
      "analytic_los=0 logistic=0 constant_anisotropy=1\n",
      "No PSF/pixel convolution because sigmapsf=0 pixsize=0\n",
      "inc=71.2; beta[0]=0.0; kappa=1.00; M/L=1.00; BH=0.0; chi2/DOF=nan\n",
      "Total mass MGE (MSun): 1.180e+13\n",
      "\n",
      "sigma_e: 147.19 km/s\n"
     ]
    },
    {
     "name": "stdout",
     "output_type": "stream",
     "text": [
      "jam_axi_proj(align='sph', moment='zz') -- elapsed time sec: 0.97\n",
      "analytic_los=0 logistic=0 constant_anisotropy=1\n",
      "No PSF/pixel convolution because sigmapsf=0 pixsize=0\n",
      "inc=55.7; beta[0]=0.0; kappa=1.00; M/L=1.00; BH=0.0; chi2/DOF=nan\n",
      "Total mass MGE (MSun): 2.248e+13\n",
      "\n",
      "sigma_e: 183.08 km/s\n"
     ]
    },
    {
     "name": "stdout",
     "output_type": "stream",
     "text": [
      "jam_axi_proj(align='sph', moment='zz') -- elapsed time sec: 0.91\n",
      "analytic_los=0 logistic=0 constant_anisotropy=1\n",
      "No PSF/pixel convolution because sigmapsf=0 pixsize=0\n",
      "inc=75.4; beta[0]=0.0; kappa=1.00; M/L=1.00; BH=0.0; chi2/DOF=nan\n",
      "Total mass MGE (MSun): 2.248e+13\n",
      "\n",
      "sigma_e: 182.72 km/s\n"
     ]
    },
    {
     "name": "stdout",
     "output_type": "stream",
     "text": [
      "jam_axi_proj(align='sph', moment='zz') -- elapsed time sec: 0.92\n",
      "analytic_los=0 logistic=0 constant_anisotropy=1\n",
      "No PSF/pixel convolution because sigmapsf=0 pixsize=0\n",
      "inc=56.7; beta[0]=0.0; kappa=1.00; M/L=1.00; BH=0.0; chi2/DOF=nan\n",
      "Total mass MGE (MSun): 2.248e+13\n",
      "\n",
      "sigma_e: 186.40 km/s\n"
     ]
    },
    {
     "name": "stdout",
     "output_type": "stream",
     "text": [
      "jam_axi_proj(align='sph', moment='zz') -- elapsed time sec: 0.94\n",
      "analytic_los=0 logistic=0 constant_anisotropy=1\n",
      "No PSF/pixel convolution because sigmapsf=0 pixsize=0\n",
      "inc=66.7; beta[0]=0.0; kappa=1.00; M/L=1.00; BH=0.0; chi2/DOF=nan\n",
      "Total mass MGE (MSun): 2.248e+13\n",
      "\n",
      "sigma_e: 175.78 km/s\n"
     ]
    },
    {
     "name": "stdout",
     "output_type": "stream",
     "text": [
      "jam_axi_proj(align='sph', moment='zz') -- elapsed time sec: 0.96\n",
      "analytic_los=0 logistic=0 constant_anisotropy=1\n",
      "No PSF/pixel convolution because sigmapsf=0 pixsize=0\n",
      "inc=50.2; beta[0]=0.0; kappa=1.00; M/L=1.00; BH=0.0; chi2/DOF=nan\n",
      "Total mass MGE (MSun): 2.248e+13\n",
      "\n",
      "sigma_e: 186.52 km/s\n"
     ]
    },
    {
     "name": "stdout",
     "output_type": "stream",
     "text": [
      "jam_axi_proj(align='sph', moment='zz') -- elapsed time sec: 0.92\n",
      "analytic_los=0 logistic=0 constant_anisotropy=1\n",
      "No PSF/pixel convolution because sigmapsf=0 pixsize=0\n",
      "inc=50.3; beta[0]=0.0; kappa=1.00; M/L=1.00; BH=0.0; chi2/DOF=nan\n",
      "Total mass MGE (MSun): 2.248e+13\n",
      "\n",
      "sigma_e: 187.23 km/s\n"
     ]
    },
    {
     "name": "stdout",
     "output_type": "stream",
     "text": [
      "jam_axi_proj(align='sph', moment='zz') -- elapsed time sec: 0.95\n",
      "analytic_los=0 logistic=0 constant_anisotropy=1\n",
      "No PSF/pixel convolution because sigmapsf=0 pixsize=0\n",
      "inc=88.6; beta[0]=0.0; kappa=1.00; M/L=1.00; BH=0.0; chi2/DOF=nan\n",
      "Total mass MGE (MSun): 2.248e+13\n",
      "\n",
      "sigma_e: 175.68 km/s\n"
     ]
    },
    {
     "name": "stdout",
     "output_type": "stream",
     "text": [
      "jam_axi_proj(align='sph', moment='zz') -- elapsed time sec: 0.96\n",
      "analytic_los=0 logistic=0 constant_anisotropy=1\n",
      "No PSF/pixel convolution because sigmapsf=0 pixsize=0\n",
      "inc=53.8; beta[0]=0.0; kappa=1.00; M/L=1.00; BH=0.0; chi2/DOF=nan\n",
      "Total mass MGE (MSun): 2.248e+13\n",
      "\n",
      "sigma_e: 184.12 km/s\n"
     ]
    },
    {
     "name": "stdout",
     "output_type": "stream",
     "text": [
      "jam_axi_proj(align='sph', moment='zz') -- elapsed time sec: 0.95\n",
      "analytic_los=0 logistic=0 constant_anisotropy=1\n",
      "No PSF/pixel convolution because sigmapsf=0 pixsize=0\n",
      "inc=77.7; beta[0]=0.0; kappa=1.00; M/L=1.00; BH=0.0; chi2/DOF=nan\n",
      "Total mass MGE (MSun): 2.248e+13\n",
      "\n",
      "sigma_e: 173.44 km/s\n"
     ]
    },
    {
     "name": "stdout",
     "output_type": "stream",
     "text": [
      "jam_axi_proj(align='sph', moment='zz') -- elapsed time sec: 0.89\n",
      "analytic_los=0 logistic=0 constant_anisotropy=1\n",
      "No PSF/pixel convolution because sigmapsf=0 pixsize=0\n",
      "inc=46.5; beta[0]=0.0; kappa=1.00; M/L=1.00; BH=0.0; chi2/DOF=nan\n",
      "Total mass MGE (MSun): 2.248e+13\n",
      "\n",
      "sigma_e: 189.44 km/s\n"
     ]
    },
    {
     "name": "stdout",
     "output_type": "stream",
     "text": [
      "jam_axi_proj(align='sph', moment='zz') -- elapsed time sec: 0.92\n",
      "analytic_los=0 logistic=0 constant_anisotropy=1\n",
      "No PSF/pixel convolution because sigmapsf=0 pixsize=0\n",
      "inc=46.4; beta[0]=0.0; kappa=1.00; M/L=1.00; BH=0.0; chi2/DOF=nan\n",
      "Total mass MGE (MSun): 2.140e+13\n",
      "\n",
      "sigma_e: 187.25 km/s\n"
     ]
    },
    {
     "name": "stdout",
     "output_type": "stream",
     "text": [
      "jam_axi_proj(align='sph', moment='zz') -- elapsed time sec: 0.93\n",
      "analytic_los=0 logistic=0 constant_anisotropy=1\n",
      "No PSF/pixel convolution because sigmapsf=0 pixsize=0\n",
      "inc=79.8; beta[0]=0.0; kappa=1.00; M/L=1.00; BH=0.0; chi2/DOF=nan\n",
      "Total mass MGE (MSun): 2.140e+13\n",
      "\n",
      "sigma_e: 172.19 km/s\n"
     ]
    },
    {
     "name": "stdout",
     "output_type": "stream",
     "text": [
      "jam_axi_proj(align='sph', moment='zz') -- elapsed time sec: 0.98\n",
      "analytic_los=0 logistic=0 constant_anisotropy=1\n",
      "No PSF/pixel convolution because sigmapsf=0 pixsize=0\n",
      "inc=69.7; beta[0]=0.0; kappa=1.00; M/L=1.00; BH=0.0; chi2/DOF=nan\n",
      "Total mass MGE (MSun): 2.140e+13\n",
      "\n",
      "sigma_e: 180.58 km/s\n"
     ]
    },
    {
     "name": "stdout",
     "output_type": "stream",
     "text": [
      "jam_axi_proj(align='sph', moment='zz') -- elapsed time sec: 0.94\n",
      "analytic_los=0 logistic=0 constant_anisotropy=1\n",
      "No PSF/pixel convolution because sigmapsf=0 pixsize=0\n",
      "inc=80.6; beta[0]=0.0; kappa=1.00; M/L=1.00; BH=0.0; chi2/DOF=nan\n",
      "Total mass MGE (MSun): 2.140e+13\n",
      "\n",
      "sigma_e: 172.96 km/s\n"
     ]
    },
    {
     "name": "stdout",
     "output_type": "stream",
     "text": [
      "jam_axi_proj(align='sph', moment='zz') -- elapsed time sec: 0.93\n",
      "analytic_los=0 logistic=0 constant_anisotropy=1\n",
      "No PSF/pixel convolution because sigmapsf=0 pixsize=0\n",
      "inc=83.5; beta[0]=0.0; kappa=1.00; M/L=1.00; BH=0.0; chi2/DOF=nan\n",
      "Total mass MGE (MSun): 2.140e+13\n",
      "\n",
      "sigma_e: 184.14 km/s\n"
     ]
    },
    {
     "name": "stdout",
     "output_type": "stream",
     "text": [
      "jam_axi_proj(align='sph', moment='zz') -- elapsed time sec: 0.96\n",
      "analytic_los=0 logistic=0 constant_anisotropy=1\n",
      "No PSF/pixel convolution because sigmapsf=0 pixsize=0\n",
      "inc=77.4; beta[0]=0.0; kappa=1.00; M/L=1.00; BH=0.0; chi2/DOF=nan\n",
      "Total mass MGE (MSun): 2.140e+13\n",
      "\n",
      "sigma_e: 171.63 km/s\n"
     ]
    },
    {
     "name": "stdout",
     "output_type": "stream",
     "text": [
      "jam_axi_proj(align='sph', moment='zz') -- elapsed time sec: 1.00\n",
      "analytic_los=0 logistic=0 constant_anisotropy=1\n",
      "No PSF/pixel convolution because sigmapsf=0 pixsize=0\n",
      "inc=69.4; beta[0]=0.0; kappa=1.00; M/L=1.00; BH=0.0; chi2/DOF=nan\n",
      "Total mass MGE (MSun): 2.140e+13\n",
      "\n",
      "sigma_e: 170.23 km/s\n"
     ]
    },
    {
     "name": "stdout",
     "output_type": "stream",
     "text": [
      "jam_axi_proj(align='sph', moment='zz') -- elapsed time sec: 0.93\n",
      "analytic_los=0 logistic=0 constant_anisotropy=1\n",
      "No PSF/pixel convolution because sigmapsf=0 pixsize=0\n",
      "inc=72.0; beta[0]=0.0; kappa=1.00; M/L=1.00; BH=0.0; chi2/DOF=nan\n",
      "Total mass MGE (MSun): 2.140e+13\n",
      "\n",
      "sigma_e: 183.14 km/s\n"
     ]
    },
    {
     "name": "stdout",
     "output_type": "stream",
     "text": [
      "jam_axi_proj(align='sph', moment='zz') -- elapsed time sec: 0.93\n",
      "analytic_los=0 logistic=0 constant_anisotropy=1\n",
      "No PSF/pixel convolution because sigmapsf=0 pixsize=0\n",
      "inc=79.1; beta[0]=0.0; kappa=1.00; M/L=1.00; BH=0.0; chi2/DOF=nan\n",
      "Total mass MGE (MSun): 2.140e+13\n",
      "\n",
      "sigma_e: 180.30 km/s\n"
     ]
    },
    {
     "name": "stdout",
     "output_type": "stream",
     "text": [
      "jam_axi_proj(align='sph', moment='zz') -- elapsed time sec: 0.92\n",
      "analytic_los=0 logistic=0 constant_anisotropy=1\n",
      "No PSF/pixel convolution because sigmapsf=0 pixsize=0\n",
      "inc=53.3; beta[0]=0.0; kappa=1.00; M/L=1.00; BH=0.0; chi2/DOF=nan\n",
      "Total mass MGE (MSun): 2.140e+13\n",
      "\n",
      "sigma_e: 194.42 km/s\n"
     ]
    },
    {
     "name": "stdout",
     "output_type": "stream",
     "text": [
      "jam_axi_proj(align='sph', moment='zz') -- elapsed time sec: 0.95\n",
      "analytic_los=0 logistic=0 constant_anisotropy=1\n",
      "No PSF/pixel convolution because sigmapsf=0 pixsize=0\n",
      "inc=46.3; beta[0]=0.0; kappa=1.00; M/L=1.00; BH=0.0; chi2/DOF=nan\n",
      "Total mass MGE (MSun): 2.819e+13\n",
      "\n",
      "sigma_e: 187.79 km/s\n"
     ]
    },
    {
     "name": "stdout",
     "output_type": "stream",
     "text": [
      "jam_axi_proj(align='sph', moment='zz') -- elapsed time sec: 0.91\n",
      "analytic_los=0 logistic=0 constant_anisotropy=1\n",
      "No PSF/pixel convolution because sigmapsf=0 pixsize=0\n",
      "inc=64.0; beta[0]=0.0; kappa=1.00; M/L=1.00; BH=0.0; chi2/DOF=nan\n",
      "Total mass MGE (MSun): 2.819e+13\n",
      "\n",
      "sigma_e: 186.46 km/s\n"
     ]
    },
    {
     "name": "stdout",
     "output_type": "stream",
     "text": [
      "jam_axi_proj(align='sph', moment='zz') -- elapsed time sec: 0.98\n",
      "analytic_los=0 logistic=0 constant_anisotropy=1\n",
      "No PSF/pixel convolution because sigmapsf=0 pixsize=0\n",
      "inc=61.1; beta[0]=0.0; kappa=1.00; M/L=1.00; BH=0.0; chi2/DOF=nan\n",
      "Total mass MGE (MSun): 2.819e+13\n",
      "\n",
      "sigma_e: 198.69 km/s\n"
     ]
    },
    {
     "name": "stdout",
     "output_type": "stream",
     "text": [
      "jam_axi_proj(align='sph', moment='zz') -- elapsed time sec: 0.92\n",
      "analytic_los=0 logistic=0 constant_anisotropy=1\n",
      "No PSF/pixel convolution because sigmapsf=0 pixsize=0\n",
      "inc=68.4; beta[0]=0.0; kappa=1.00; M/L=1.00; BH=0.0; chi2/DOF=nan\n",
      "Total mass MGE (MSun): 2.819e+13\n",
      "\n",
      "sigma_e: 186.39 km/s\n"
     ]
    },
    {
     "name": "stdout",
     "output_type": "stream",
     "text": [
      "jam_axi_proj(align='sph', moment='zz') -- elapsed time sec: 0.90\n",
      "analytic_los=0 logistic=0 constant_anisotropy=1\n",
      "No PSF/pixel convolution because sigmapsf=0 pixsize=0\n",
      "inc=52.7; beta[0]=0.0; kappa=1.00; M/L=1.00; BH=0.0; chi2/DOF=nan\n",
      "Total mass MGE (MSun): 2.819e+13\n",
      "\n",
      "sigma_e: 186.79 km/s\n"
     ]
    },
    {
     "name": "stdout",
     "output_type": "stream",
     "text": [
      "jam_axi_proj(align='sph', moment='zz') -- elapsed time sec: 1.02\n",
      "analytic_los=0 logistic=0 constant_anisotropy=1\n",
      "No PSF/pixel convolution because sigmapsf=0 pixsize=0\n",
      "inc=58.4; beta[0]=0.0; kappa=1.00; M/L=1.00; BH=0.0; chi2/DOF=nan\n",
      "Total mass MGE (MSun): 2.819e+13\n",
      "\n",
      "sigma_e: 194.97 km/s\n"
     ]
    },
    {
     "name": "stdout",
     "output_type": "stream",
     "text": [
      "jam_axi_proj(align='sph', moment='zz') -- elapsed time sec: 0.98\n",
      "analytic_los=0 logistic=0 constant_anisotropy=1\n",
      "No PSF/pixel convolution because sigmapsf=0 pixsize=0\n",
      "inc=77.5; beta[0]=0.0; kappa=1.00; M/L=1.00; BH=0.0; chi2/DOF=nan\n",
      "Total mass MGE (MSun): 2.819e+13\n",
      "\n",
      "sigma_e: 183.55 km/s\n"
     ]
    },
    {
     "name": "stdout",
     "output_type": "stream",
     "text": [
      "jam_axi_proj(align='sph', moment='zz') -- elapsed time sec: 0.91\n",
      "analytic_los=0 logistic=0 constant_anisotropy=1\n",
      "No PSF/pixel convolution because sigmapsf=0 pixsize=0\n",
      "inc=29.9; beta[0]=0.0; kappa=1.00; M/L=1.00; BH=0.0; chi2/DOF=nan\n",
      "Total mass MGE (MSun): 2.819e+13\n",
      "\n",
      "sigma_e: 197.50 km/s\n"
     ]
    },
    {
     "name": "stdout",
     "output_type": "stream",
     "text": [
      "jam_axi_proj(align='sph', moment='zz') -- elapsed time sec: 0.91\n",
      "analytic_los=0 logistic=0 constant_anisotropy=1\n",
      "No PSF/pixel convolution because sigmapsf=0 pixsize=0\n",
      "inc=56.3; beta[0]=0.0; kappa=1.00; M/L=1.00; BH=0.0; chi2/DOF=nan\n",
      "Total mass MGE (MSun): 2.819e+13\n",
      "\n",
      "sigma_e: 202.10 km/s\n"
     ]
    },
    {
     "name": "stdout",
     "output_type": "stream",
     "text": [
      "jam_axi_proj(align='sph', moment='zz') -- elapsed time sec: 0.91\n",
      "analytic_los=0 logistic=0 constant_anisotropy=1\n",
      "No PSF/pixel convolution because sigmapsf=0 pixsize=0\n",
      "inc=46.8; beta[0]=0.0; kappa=1.00; M/L=1.00; BH=0.0; chi2/DOF=nan\n",
      "Total mass MGE (MSun): 2.819e+13\n",
      "\n",
      "sigma_e: 200.26 km/s\n"
     ]
    },
    {
     "name": "stdout",
     "output_type": "stream",
     "text": [
      "jam_axi_proj(align='sph', moment='zz') -- elapsed time sec: 1.00\n",
      "analytic_los=0 logistic=0 constant_anisotropy=1\n",
      "No PSF/pixel convolution because sigmapsf=0 pixsize=0\n",
      "inc=81.0; beta[0]=0.0; kappa=1.00; M/L=1.00; BH=0.0; chi2/DOF=nan\n",
      "Total mass MGE (MSun): 3.795e+13\n",
      "\n",
      "sigma_e: 192.26 km/s\n"
     ]
    },
    {
     "name": "stdout",
     "output_type": "stream",
     "text": [
      "jam_axi_proj(align='sph', moment='zz') -- elapsed time sec: 0.95\n",
      "analytic_los=0 logistic=0 constant_anisotropy=1\n",
      "No PSF/pixel convolution because sigmapsf=0 pixsize=0\n",
      "inc=37.5; beta[0]=0.0; kappa=1.00; M/L=1.00; BH=0.0; chi2/DOF=nan\n",
      "Total mass MGE (MSun): 3.795e+13\n",
      "\n",
      "sigma_e: 228.34 km/s\n"
     ]
    },
    {
     "name": "stdout",
     "output_type": "stream",
     "text": [
      "jam_axi_proj(align='sph', moment='zz') -- elapsed time sec: 0.83\n",
      "analytic_los=0 logistic=0 constant_anisotropy=1\n",
      "No PSF/pixel convolution because sigmapsf=0 pixsize=0\n",
      "inc=76.9; beta[0]=0.0; kappa=1.00; M/L=1.00; BH=0.0; chi2/DOF=nan\n",
      "Total mass MGE (MSun): 3.795e+13\n",
      "\n",
      "sigma_e: 224.09 km/s\n"
     ]
    },
    {
     "name": "stdout",
     "output_type": "stream",
     "text": [
      "jam_axi_proj(align='sph', moment='zz') -- elapsed time sec: 1.02\n",
      "analytic_los=0 logistic=0 constant_anisotropy=1\n",
      "No PSF/pixel convolution because sigmapsf=0 pixsize=0\n",
      "inc=89.6; beta[0]=0.0; kappa=1.00; M/L=1.00; BH=0.0; chi2/DOF=nan\n",
      "Total mass MGE (MSun): 3.795e+13\n",
      "\n",
      "sigma_e: 199.95 km/s\n"
     ]
    },
    {
     "name": "stdout",
     "output_type": "stream",
     "text": [
      "jam_axi_proj(align='sph', moment='zz') -- elapsed time sec: 1.03\n",
      "analytic_los=0 logistic=0 constant_anisotropy=1\n",
      "No PSF/pixel convolution because sigmapsf=0 pixsize=0\n",
      "inc=87.8; beta[0]=0.0; kappa=1.00; M/L=1.00; BH=0.0; chi2/DOF=nan\n",
      "Total mass MGE (MSun): 3.795e+13\n",
      "\n",
      "sigma_e: 201.54 km/s\n"
     ]
    },
    {
     "name": "stdout",
     "output_type": "stream",
     "text": [
      "jam_axi_proj(align='sph', moment='zz') -- elapsed time sec: 0.99\n",
      "analytic_los=0 logistic=0 constant_anisotropy=1\n",
      "No PSF/pixel convolution because sigmapsf=0 pixsize=0\n",
      "inc=78.8; beta[0]=0.0; kappa=1.00; M/L=1.00; BH=0.0; chi2/DOF=nan\n",
      "Total mass MGE (MSun): 3.795e+13\n",
      "\n",
      "sigma_e: 190.40 km/s\n"
     ]
    },
    {
     "name": "stdout",
     "output_type": "stream",
     "text": [
      "jam_axi_proj(align='sph', moment='zz') -- elapsed time sec: 1.00\n",
      "analytic_los=0 logistic=0 constant_anisotropy=1\n",
      "No PSF/pixel convolution because sigmapsf=0 pixsize=0\n",
      "inc=86.9; beta[0]=0.0; kappa=1.00; M/L=1.00; BH=0.0; chi2/DOF=nan\n",
      "Total mass MGE (MSun): 3.795e+13\n",
      "\n",
      "sigma_e: 190.11 km/s\n"
     ]
    },
    {
     "name": "stdout",
     "output_type": "stream",
     "text": [
      "jam_axi_proj(align='sph', moment='zz') -- elapsed time sec: 1.00\n",
      "analytic_los=0 logistic=0 constant_anisotropy=1\n",
      "No PSF/pixel convolution because sigmapsf=0 pixsize=0\n",
      "inc=81.4; beta[0]=0.0; kappa=1.00; M/L=1.00; BH=0.0; chi2/DOF=nan\n",
      "Total mass MGE (MSun): 3.795e+13\n",
      "\n",
      "sigma_e: 192.81 km/s\n"
     ]
    },
    {
     "name": "stdout",
     "output_type": "stream",
     "text": [
      "jam_axi_proj(align='sph', moment='zz') -- elapsed time sec: 0.95\n",
      "analytic_los=0 logistic=0 constant_anisotropy=1\n",
      "No PSF/pixel convolution because sigmapsf=0 pixsize=0\n",
      "inc=67.8; beta[0]=0.0; kappa=1.00; M/L=1.00; BH=0.0; chi2/DOF=nan\n",
      "Total mass MGE (MSun): 3.795e+13\n",
      "\n",
      "sigma_e: 217.96 km/s\n"
     ]
    },
    {
     "name": "stdout",
     "output_type": "stream",
     "text": [
      "jam_axi_proj(align='sph', moment='zz') -- elapsed time sec: 1.00\n",
      "analytic_los=0 logistic=0 constant_anisotropy=1\n",
      "No PSF/pixel convolution because sigmapsf=0 pixsize=0\n",
      "inc=86.1; beta[0]=0.0; kappa=1.00; M/L=1.00; BH=0.0; chi2/DOF=nan\n",
      "Total mass MGE (MSun): 3.795e+13\n",
      "\n",
      "sigma_e: 189.29 km/s\n"
     ]
    },
    {
     "name": "stdout",
     "output_type": "stream",
     "text": [
      "jam_axi_proj(align='sph', moment='zz') -- elapsed time sec: 0.97\n",
      "analytic_los=0 logistic=0 constant_anisotropy=1\n",
      "No PSF/pixel convolution because sigmapsf=0 pixsize=0\n",
      "inc=80.7; beta[0]=0.0; kappa=1.00; M/L=1.00; BH=0.0; chi2/DOF=nan\n",
      "Total mass MGE (MSun): 1.067e+13\n",
      "\n",
      "sigma_e: 134.77 km/s\n"
     ]
    },
    {
     "name": "stdout",
     "output_type": "stream",
     "text": [
      "jam_axi_proj(align='sph', moment='zz') -- elapsed time sec: 1.06\n",
      "analytic_los=0 logistic=0 constant_anisotropy=1\n",
      "No PSF/pixel convolution because sigmapsf=0 pixsize=0\n",
      "inc=85.5; beta[0]=0.0; kappa=1.00; M/L=1.00; BH=0.0; chi2/DOF=nan\n",
      "Total mass MGE (MSun): 1.067e+13\n",
      "\n",
      "sigma_e: 144.20 km/s\n"
     ]
    },
    {
     "name": "stdout",
     "output_type": "stream",
     "text": [
      "jam_axi_proj(align='sph', moment='zz') -- elapsed time sec: 0.95\n",
      "analytic_los=0 logistic=0 constant_anisotropy=1\n",
      "No PSF/pixel convolution because sigmapsf=0 pixsize=0\n",
      "inc=86.5; beta[0]=0.0; kappa=1.00; M/L=1.00; BH=0.0; chi2/DOF=nan\n",
      "Total mass MGE (MSun): 1.067e+13\n",
      "\n",
      "sigma_e: 158.51 km/s\n"
     ]
    },
    {
     "name": "stdout",
     "output_type": "stream",
     "text": [
      "jam_axi_proj(align='sph', moment='zz') -- elapsed time sec: 0.99\n",
      "analytic_los=0 logistic=0 constant_anisotropy=1\n",
      "No PSF/pixel convolution because sigmapsf=0 pixsize=0\n",
      "inc=66.7; beta[0]=0.0; kappa=1.00; M/L=1.00; BH=0.0; chi2/DOF=nan\n",
      "Total mass MGE (MSun): 1.067e+13\n",
      "\n",
      "sigma_e: 154.82 km/s\n"
     ]
    },
    {
     "name": "stdout",
     "output_type": "stream",
     "text": [
      "jam_axi_proj(align='sph', moment='zz') -- elapsed time sec: 0.95\n",
      "analytic_los=0 logistic=0 constant_anisotropy=1\n",
      "No PSF/pixel convolution because sigmapsf=0 pixsize=0\n",
      "inc=52.1; beta[0]=0.0; kappa=1.00; M/L=1.00; BH=0.0; chi2/DOF=nan\n",
      "Total mass MGE (MSun): 1.067e+13\n",
      "\n",
      "sigma_e: 166.06 km/s\n"
     ]
    },
    {
     "name": "stdout",
     "output_type": "stream",
     "text": [
      "jam_axi_proj(align='sph', moment='zz') -- elapsed time sec: 0.96\n",
      "analytic_los=0 logistic=0 constant_anisotropy=1\n",
      "No PSF/pixel convolution because sigmapsf=0 pixsize=0\n",
      "inc=85.9; beta[0]=0.0; kappa=1.00; M/L=1.00; BH=0.0; chi2/DOF=nan\n",
      "Total mass MGE (MSun): 1.067e+13\n",
      "\n",
      "sigma_e: 144.42 km/s\n"
     ]
    },
    {
     "name": "stdout",
     "output_type": "stream",
     "text": [
      "jam_axi_proj(align='sph', moment='zz') -- elapsed time sec: 0.79\n",
      "analytic_los=0 logistic=0 constant_anisotropy=1\n",
      "No PSF/pixel convolution because sigmapsf=0 pixsize=0\n",
      "inc=86.6; beta[0]=0.0; kappa=1.00; M/L=1.00; BH=0.0; chi2/DOF=nan\n",
      "Total mass MGE (MSun): 1.067e+13\n",
      "\n",
      "sigma_e: 160.12 km/s\n"
     ]
    },
    {
     "name": "stdout",
     "output_type": "stream",
     "text": [
      "jam_axi_proj(align='sph', moment='zz') -- elapsed time sec: 0.96\n",
      "analytic_los=0 logistic=0 constant_anisotropy=1\n",
      "No PSF/pixel convolution because sigmapsf=0 pixsize=0\n",
      "inc=78.9; beta[0]=0.0; kappa=1.00; M/L=1.00; BH=0.0; chi2/DOF=nan\n",
      "Total mass MGE (MSun): 1.067e+13\n",
      "\n",
      "sigma_e: 159.03 km/s\n"
     ]
    },
    {
     "name": "stdout",
     "output_type": "stream",
     "text": [
      "jam_axi_proj(align='sph', moment='zz') -- elapsed time sec: 0.99\n",
      "analytic_los=0 logistic=0 constant_anisotropy=1\n",
      "No PSF/pixel convolution because sigmapsf=0 pixsize=0\n",
      "inc=77.8; beta[0]=0.0; kappa=1.00; M/L=1.00; BH=0.0; chi2/DOF=nan\n",
      "Total mass MGE (MSun): 1.067e+13\n",
      "\n",
      "sigma_e: 149.58 km/s\n"
     ]
    },
    {
     "name": "stdout",
     "output_type": "stream",
     "text": [
      "jam_axi_proj(align='sph', moment='zz') -- elapsed time sec: 1.03\n",
      "analytic_los=0 logistic=0 constant_anisotropy=1\n",
      "No PSF/pixel convolution because sigmapsf=0 pixsize=0\n",
      "inc=80.2; beta[0]=0.0; kappa=1.00; M/L=1.00; BH=0.0; chi2/DOF=nan\n",
      "Total mass MGE (MSun): 1.067e+13\n",
      "\n",
      "sigma_e: 140.02 km/s\n"
     ]
    },
    {
     "name": "stdout",
     "output_type": "stream",
     "text": [
      "jam_axi_proj(align='sph', moment='zz') -- elapsed time sec: 0.89\n",
      "analytic_los=0 logistic=0 constant_anisotropy=1\n",
      "No PSF/pixel convolution because sigmapsf=0 pixsize=0\n",
      "inc=35.3; beta[0]=0.0; kappa=1.00; M/L=1.00; BH=0.0; chi2/DOF=nan\n",
      "Total mass MGE (MSun): 9.662e+12\n",
      "\n",
      "sigma_e: 150.40 km/s\n"
     ]
    },
    {
     "name": "stdout",
     "output_type": "stream",
     "text": [
      "jam_axi_proj(align='sph', moment='zz') -- elapsed time sec: 0.91\n",
      "analytic_los=0 logistic=0 constant_anisotropy=1\n",
      "No PSF/pixel convolution because sigmapsf=0 pixsize=0\n",
      "inc=52.7; beta[0]=0.0; kappa=1.00; M/L=1.00; BH=0.0; chi2/DOF=nan\n",
      "Total mass MGE (MSun): 9.662e+12\n",
      "\n",
      "sigma_e: 156.00 km/s\n"
     ]
    },
    {
     "name": "stdout",
     "output_type": "stream",
     "text": [
      "jam_axi_proj(align='sph', moment='zz') -- elapsed time sec: 0.90\n",
      "analytic_los=0 logistic=0 constant_anisotropy=1\n",
      "No PSF/pixel convolution because sigmapsf=0 pixsize=0\n",
      "inc=69.3; beta[0]=0.0; kappa=1.00; M/L=1.00; BH=0.0; chi2/DOF=nan\n",
      "Total mass MGE (MSun): 9.662e+12\n",
      "\n",
      "sigma_e: 154.83 km/s\n"
     ]
    },
    {
     "name": "stdout",
     "output_type": "stream",
     "text": [
      "jam_axi_proj(align='sph', moment='zz') -- elapsed time sec: 0.90\n",
      "analytic_los=0 logistic=0 constant_anisotropy=1\n",
      "No PSF/pixel convolution because sigmapsf=0 pixsize=0\n",
      "inc=36.5; beta[0]=0.0; kappa=1.00; M/L=1.00; BH=0.0; chi2/DOF=nan\n",
      "Total mass MGE (MSun): 9.662e+12\n",
      "\n",
      "sigma_e: 150.71 km/s\n"
     ]
    },
    {
     "name": "stdout",
     "output_type": "stream",
     "text": [
      "jam_axi_proj(align='sph', moment='zz') -- elapsed time sec: 0.88\n",
      "analytic_los=0 logistic=0 constant_anisotropy=1\n",
      "No PSF/pixel convolution because sigmapsf=0 pixsize=0\n",
      "inc=53.6; beta[0]=0.0; kappa=1.00; M/L=1.00; BH=0.0; chi2/DOF=nan\n",
      "Total mass MGE (MSun): 9.662e+12\n",
      "\n",
      "sigma_e: 148.11 km/s\n"
     ]
    },
    {
     "name": "stdout",
     "output_type": "stream",
     "text": [
      "jam_axi_proj(align='sph', moment='zz') -- elapsed time sec: 0.95\n",
      "analytic_los=0 logistic=0 constant_anisotropy=1\n",
      "No PSF/pixel convolution because sigmapsf=0 pixsize=0\n",
      "inc=52.9; beta[0]=0.0; kappa=1.00; M/L=1.00; BH=0.0; chi2/DOF=nan\n",
      "Total mass MGE (MSun): 9.662e+12\n",
      "\n",
      "sigma_e: 147.55 km/s\n"
     ]
    },
    {
     "name": "stdout",
     "output_type": "stream",
     "text": [
      "jam_axi_proj(align='sph', moment='zz') -- elapsed time sec: 0.92\n",
      "analytic_los=0 logistic=0 constant_anisotropy=1\n",
      "No PSF/pixel convolution because sigmapsf=0 pixsize=0\n",
      "inc=57.3; beta[0]=0.0; kappa=1.00; M/L=1.00; BH=0.0; chi2/DOF=nan\n",
      "Total mass MGE (MSun): 9.662e+12\n",
      "\n",
      "sigma_e: 150.56 km/s\n"
     ]
    },
    {
     "name": "stdout",
     "output_type": "stream",
     "text": [
      "jam_axi_proj(align='sph', moment='zz') -- elapsed time sec: 0.94\n",
      "analytic_los=0 logistic=0 constant_anisotropy=1\n",
      "No PSF/pixel convolution because sigmapsf=0 pixsize=0\n",
      "inc=65.1; beta[0]=0.0; kappa=1.00; M/L=1.00; BH=0.0; chi2/DOF=nan\n",
      "Total mass MGE (MSun): 9.662e+12\n",
      "\n",
      "sigma_e: 148.77 km/s\n"
     ]
    },
    {
     "name": "stdout",
     "output_type": "stream",
     "text": [
      "jam_axi_proj(align='sph', moment='zz') -- elapsed time sec: 0.91\n",
      "analytic_los=0 logistic=0 constant_anisotropy=1\n",
      "No PSF/pixel convolution because sigmapsf=0 pixsize=0\n",
      "inc=68.9; beta[0]=0.0; kappa=1.00; M/L=1.00; BH=0.0; chi2/DOF=nan\n",
      "Total mass MGE (MSun): 9.662e+12\n",
      "\n",
      "sigma_e: 148.63 km/s\n"
     ]
    },
    {
     "name": "stdout",
     "output_type": "stream",
     "text": [
      "jam_axi_proj(align='sph', moment='zz') -- elapsed time sec: 1.01\n",
      "analytic_los=0 logistic=0 constant_anisotropy=1\n",
      "No PSF/pixel convolution because sigmapsf=0 pixsize=0\n",
      "inc=72.4; beta[0]=0.0; kappa=1.00; M/L=1.00; BH=0.0; chi2/DOF=nan\n",
      "Total mass MGE (MSun): 9.662e+12\n",
      "\n",
      "sigma_e: 140.80 km/s\n"
     ]
    },
    {
     "name": "stdout",
     "output_type": "stream",
     "text": [
      "jam_axi_proj(align='sph', moment='zz') -- elapsed time sec: 0.99\n",
      "analytic_los=0 logistic=0 constant_anisotropy=1\n",
      "No PSF/pixel convolution because sigmapsf=0 pixsize=0\n",
      "inc=89.3; beta[0]=0.0; kappa=1.00; M/L=1.00; BH=0.0; chi2/DOF=nan\n",
      "Total mass MGE (MSun): 2.134e+13\n",
      "\n",
      "sigma_e: 187.11 km/s\n"
     ]
    },
    {
     "name": "stdout",
     "output_type": "stream",
     "text": [
      "jam_axi_proj(align='sph', moment='zz') -- elapsed time sec: 0.86\n",
      "analytic_los=0 logistic=0 constant_anisotropy=1\n",
      "No PSF/pixel convolution because sigmapsf=0 pixsize=0\n",
      "inc=40.1; beta[0]=0.0; kappa=1.00; M/L=1.00; BH=0.0; chi2/DOF=nan\n",
      "Total mass MGE (MSun): 2.134e+13\n",
      "\n",
      "sigma_e: 184.25 km/s\n"
     ]
    },
    {
     "name": "stdout",
     "output_type": "stream",
     "text": [
      "jam_axi_proj(align='sph', moment='zz') -- elapsed time sec: 0.99\n",
      "analytic_los=0 logistic=0 constant_anisotropy=1\n",
      "No PSF/pixel convolution because sigmapsf=0 pixsize=0\n",
      "inc=71.9; beta[0]=0.0; kappa=1.00; M/L=1.00; BH=0.0; chi2/DOF=nan\n",
      "Total mass MGE (MSun): 2.134e+13\n",
      "\n",
      "sigma_e: 190.24 km/s\n"
     ]
    },
    {
     "name": "stdout",
     "output_type": "stream",
     "text": [
      "jam_axi_proj(align='sph', moment='zz') -- elapsed time sec: 1.02\n",
      "analytic_los=0 logistic=0 constant_anisotropy=1\n",
      "No PSF/pixel convolution because sigmapsf=0 pixsize=0\n",
      "inc=83.2; beta[0]=0.0; kappa=1.00; M/L=1.00; BH=0.0; chi2/DOF=nan\n",
      "Total mass MGE (MSun): 2.134e+13\n",
      "\n",
      "sigma_e: 189.66 km/s\n"
     ]
    },
    {
     "name": "stdout",
     "output_type": "stream",
     "text": [
      "jam_axi_proj(align='sph', moment='zz') -- elapsed time sec: 0.95\n",
      "analytic_los=0 logistic=0 constant_anisotropy=1\n",
      "No PSF/pixel convolution because sigmapsf=0 pixsize=0\n",
      "inc=83.0; beta[0]=0.0; kappa=1.00; M/L=1.00; BH=0.0; chi2/DOF=nan\n",
      "Total mass MGE (MSun): 2.134e+13\n",
      "\n",
      "sigma_e: 183.47 km/s\n"
     ]
    },
    {
     "name": "stdout",
     "output_type": "stream",
     "text": [
      "jam_axi_proj(align='sph', moment='zz') -- elapsed time sec: 1.00\n",
      "analytic_los=0 logistic=0 constant_anisotropy=1\n",
      "No PSF/pixel convolution because sigmapsf=0 pixsize=0\n",
      "inc=66.1; beta[0]=0.0; kappa=1.00; M/L=1.00; BH=0.0; chi2/DOF=nan\n",
      "Total mass MGE (MSun): 2.134e+13\n",
      "\n",
      "sigma_e: 177.54 km/s\n"
     ]
    },
    {
     "name": "stdout",
     "output_type": "stream",
     "text": [
      "jam_axi_proj(align='sph', moment='zz') -- elapsed time sec: 0.97\n",
      "analytic_los=0 logistic=0 constant_anisotropy=1\n",
      "No PSF/pixel convolution because sigmapsf=0 pixsize=0\n",
      "inc=84.8; beta[0]=0.0; kappa=1.00; M/L=1.00; BH=0.0; chi2/DOF=nan\n",
      "Total mass MGE (MSun): 2.134e+13\n",
      "\n",
      "sigma_e: 187.39 km/s\n"
     ]
    },
    {
     "name": "stdout",
     "output_type": "stream",
     "text": [
      "jam_axi_proj(align='sph', moment='zz') -- elapsed time sec: 1.03\n",
      "analytic_los=0 logistic=0 constant_anisotropy=1\n",
      "No PSF/pixel convolution because sigmapsf=0 pixsize=0\n",
      "inc=84.9; beta[0]=0.0; kappa=1.00; M/L=1.00; BH=0.0; chi2/DOF=nan\n",
      "Total mass MGE (MSun): 2.134e+13\n",
      "\n",
      "sigma_e: 167.34 km/s\n"
     ]
    },
    {
     "name": "stdout",
     "output_type": "stream",
     "text": [
      "jam_axi_proj(align='sph', moment='zz') -- elapsed time sec: 0.95\n",
      "analytic_los=0 logistic=0 constant_anisotropy=1\n",
      "No PSF/pixel convolution because sigmapsf=0 pixsize=0\n",
      "inc=66.6; beta[0]=0.0; kappa=1.00; M/L=1.00; BH=0.0; chi2/DOF=nan\n",
      "Total mass MGE (MSun): 2.134e+13\n",
      "\n",
      "sigma_e: 172.68 km/s\n"
     ]
    },
    {
     "name": "stdout",
     "output_type": "stream",
     "text": [
      "jam_axi_proj(align='sph', moment='zz') -- elapsed time sec: 0.96\n",
      "analytic_los=0 logistic=0 constant_anisotropy=1\n",
      "No PSF/pixel convolution because sigmapsf=0 pixsize=0\n",
      "inc=30.4; beta[0]=0.0; kappa=1.00; M/L=1.00; BH=0.0; chi2/DOF=nan\n",
      "Total mass MGE (MSun): 2.134e+13\n",
      "\n",
      "sigma_e: 187.56 km/s\n"
     ]
    },
    {
     "name": "stdout",
     "output_type": "stream",
     "text": [
      "jam_axi_proj(align='sph', moment='zz') -- elapsed time sec: 0.96\n",
      "analytic_los=0 logistic=0 constant_anisotropy=1\n",
      "No PSF/pixel convolution because sigmapsf=0 pixsize=0\n",
      "inc=86.7; beta[0]=0.0; kappa=1.00; M/L=1.00; BH=0.0; chi2/DOF=nan\n",
      "Total mass MGE (MSun): 1.836e+13\n",
      "\n",
      "sigma_e: 161.92 km/s\n"
     ]
    },
    {
     "name": "stdout",
     "output_type": "stream",
     "text": [
      "jam_axi_proj(align='sph', moment='zz') -- elapsed time sec: 0.93\n",
      "analytic_los=0 logistic=0 constant_anisotropy=1\n",
      "No PSF/pixel convolution because sigmapsf=0 pixsize=0\n",
      "inc=63.0; beta[0]=0.0; kappa=1.00; M/L=1.00; BH=0.0; chi2/DOF=nan\n",
      "Total mass MGE (MSun): 1.836e+13\n",
      "\n",
      "sigma_e: 182.83 km/s\n"
     ]
    },
    {
     "name": "stdout",
     "output_type": "stream",
     "text": [
      "jam_axi_proj(align='sph', moment='zz') -- elapsed time sec: 0.96\n",
      "analytic_los=0 logistic=0 constant_anisotropy=1\n",
      "No PSF/pixel convolution because sigmapsf=0 pixsize=0\n",
      "inc=69.3; beta[0]=0.0; kappa=1.00; M/L=1.00; BH=0.0; chi2/DOF=nan\n",
      "Total mass MGE (MSun): 1.836e+13\n",
      "\n",
      "sigma_e: 166.25 km/s\n"
     ]
    },
    {
     "name": "stdout",
     "output_type": "stream",
     "text": [
      "jam_axi_proj(align='sph', moment='zz') -- elapsed time sec: 0.97\n",
      "analytic_los=0 logistic=0 constant_anisotropy=1\n",
      "No PSF/pixel convolution because sigmapsf=0 pixsize=0\n",
      "inc=67.2; beta[0]=0.0; kappa=1.00; M/L=1.00; BH=0.0; chi2/DOF=nan\n",
      "Total mass MGE (MSun): 1.836e+13\n",
      "\n",
      "sigma_e: 175.88 km/s\n"
     ]
    },
    {
     "name": "stdout",
     "output_type": "stream",
     "text": [
      "jam_axi_proj(align='sph', moment='zz') -- elapsed time sec: 0.96\n",
      "analytic_los=0 logistic=0 constant_anisotropy=1\n",
      "No PSF/pixel convolution because sigmapsf=0 pixsize=0\n",
      "inc=74.8; beta[0]=0.0; kappa=1.00; M/L=1.00; BH=0.0; chi2/DOF=nan\n",
      "Total mass MGE (MSun): 1.836e+13\n",
      "\n",
      "sigma_e: 160.35 km/s\n"
     ]
    },
    {
     "name": "stdout",
     "output_type": "stream",
     "text": [
      "jam_axi_proj(align='sph', moment='zz') -- elapsed time sec: 0.96\n",
      "analytic_los=0 logistic=0 constant_anisotropy=1\n",
      "No PSF/pixel convolution because sigmapsf=0 pixsize=0\n",
      "inc=86.8; beta[0]=0.0; kappa=1.00; M/L=1.00; BH=0.0; chi2/DOF=nan\n",
      "Total mass MGE (MSun): 1.836e+13\n",
      "\n",
      "sigma_e: 163.51 km/s\n"
     ]
    },
    {
     "name": "stdout",
     "output_type": "stream",
     "text": [
      "jam_axi_proj(align='sph', moment='zz') -- elapsed time sec: 1.03\n",
      "analytic_los=0 logistic=0 constant_anisotropy=1\n",
      "No PSF/pixel convolution because sigmapsf=0 pixsize=0\n",
      "inc=86.3; beta[0]=0.0; kappa=1.00; M/L=1.00; BH=0.0; chi2/DOF=nan\n",
      "Total mass MGE (MSun): 1.836e+13\n",
      "\n",
      "sigma_e: 166.08 km/s\n"
     ]
    },
    {
     "name": "stdout",
     "output_type": "stream",
     "text": [
      "jam_axi_proj(align='sph', moment='zz') -- elapsed time sec: 1.00\n",
      "analytic_los=0 logistic=0 constant_anisotropy=1\n",
      "No PSF/pixel convolution because sigmapsf=0 pixsize=0\n",
      "inc=82.3; beta[0]=0.0; kappa=1.00; M/L=1.00; BH=0.0; chi2/DOF=nan\n",
      "Total mass MGE (MSun): 1.836e+13\n",
      "\n",
      "sigma_e: 181.13 km/s\n"
     ]
    },
    {
     "name": "stdout",
     "output_type": "stream",
     "text": [
      "jam_axi_proj(align='sph', moment='zz') -- elapsed time sec: 0.95\n",
      "analytic_los=0 logistic=0 constant_anisotropy=1\n",
      "No PSF/pixel convolution because sigmapsf=0 pixsize=0\n",
      "inc=89.9; beta[0]=0.0; kappa=1.00; M/L=1.00; BH=0.0; chi2/DOF=nan\n",
      "Total mass MGE (MSun): 1.836e+13\n",
      "\n",
      "sigma_e: 164.08 km/s\n"
     ]
    },
    {
     "name": "stdout",
     "output_type": "stream",
     "text": [
      "jam_axi_proj(align='sph', moment='zz') -- elapsed time sec: 0.97\n",
      "analytic_los=0 logistic=0 constant_anisotropy=1\n",
      "No PSF/pixel convolution because sigmapsf=0 pixsize=0\n",
      "inc=87.5; beta[0]=0.0; kappa=1.00; M/L=1.00; BH=0.0; chi2/DOF=nan\n",
      "Total mass MGE (MSun): 1.836e+13\n",
      "\n",
      "sigma_e: 161.07 km/s\n"
     ]
    },
    {
     "name": "stdout",
     "output_type": "stream",
     "text": [
      "jam_axi_proj(align='sph', moment='zz') -- elapsed time sec: 0.91\n",
      "analytic_los=0 logistic=0 constant_anisotropy=1\n",
      "No PSF/pixel convolution because sigmapsf=0 pixsize=0\n",
      "inc=84.0; beta[0]=0.0; kappa=1.00; M/L=1.00; BH=0.0; chi2/DOF=nan\n",
      "Total mass MGE (MSun): 1.844e+13\n",
      "\n",
      "sigma_e: 150.83 km/s\n"
     ]
    },
    {
     "name": "stdout",
     "output_type": "stream",
     "text": [
      "jam_axi_proj(align='sph', moment='zz') -- elapsed time sec: 0.94\n",
      "analytic_los=0 logistic=0 constant_anisotropy=1\n",
      "No PSF/pixel convolution because sigmapsf=0 pixsize=0\n",
      "inc=76.7; beta[0]=0.0; kappa=1.00; M/L=1.00; BH=0.0; chi2/DOF=nan\n",
      "Total mass MGE (MSun): 1.844e+13\n",
      "\n",
      "sigma_e: 155.89 km/s\n"
     ]
    },
    {
     "name": "stdout",
     "output_type": "stream",
     "text": [
      "jam_axi_proj(align='sph', moment='zz') -- elapsed time sec: 0.96\n",
      "analytic_los=0 logistic=0 constant_anisotropy=1\n",
      "No PSF/pixel convolution because sigmapsf=0 pixsize=0\n",
      "inc=87.3; beta[0]=0.0; kappa=1.00; M/L=1.00; BH=0.0; chi2/DOF=nan\n",
      "Total mass MGE (MSun): 1.844e+13\n",
      "\n",
      "sigma_e: 183.34 km/s\n"
     ]
    },
    {
     "name": "stdout",
     "output_type": "stream",
     "text": [
      "jam_axi_proj(align='sph', moment='zz') -- elapsed time sec: 0.93\n",
      "analytic_los=0 logistic=0 constant_anisotropy=1\n",
      "No PSF/pixel convolution because sigmapsf=0 pixsize=0\n",
      "inc=88.2; beta[0]=0.0; kappa=1.00; M/L=1.00; BH=0.0; chi2/DOF=nan\n",
      "Total mass MGE (MSun): 1.844e+13\n",
      "\n",
      "sigma_e: 155.23 km/s\n"
     ]
    },
    {
     "name": "stdout",
     "output_type": "stream",
     "text": [
      "jam_axi_proj(align='sph', moment='zz') -- elapsed time sec: 0.97\n",
      "analytic_los=0 logistic=0 constant_anisotropy=1\n",
      "No PSF/pixel convolution because sigmapsf=0 pixsize=0\n",
      "inc=74.5; beta[0]=0.0; kappa=1.00; M/L=1.00; BH=0.0; chi2/DOF=nan\n",
      "Total mass MGE (MSun): 1.844e+13\n",
      "\n",
      "sigma_e: 163.21 km/s\n"
     ]
    },
    {
     "name": "stdout",
     "output_type": "stream",
     "text": [
      "jam_axi_proj(align='sph', moment='zz') -- elapsed time sec: 0.93\n",
      "analytic_los=0 logistic=0 constant_anisotropy=1\n",
      "No PSF/pixel convolution because sigmapsf=0 pixsize=0\n",
      "inc=85.2; beta[0]=0.0; kappa=1.00; M/L=1.00; BH=0.0; chi2/DOF=nan\n",
      "Total mass MGE (MSun): 1.844e+13\n",
      "\n",
      "sigma_e: 160.30 km/s\n"
     ]
    },
    {
     "name": "stdout",
     "output_type": "stream",
     "text": [
      "jam_axi_proj(align='sph', moment='zz') -- elapsed time sec: 0.95\n",
      "analytic_los=0 logistic=0 constant_anisotropy=1\n",
      "No PSF/pixel convolution because sigmapsf=0 pixsize=0\n",
      "inc=88.8; beta[0]=0.0; kappa=1.00; M/L=1.00; BH=0.0; chi2/DOF=nan\n",
      "Total mass MGE (MSun): 1.844e+13\n",
      "\n",
      "sigma_e: 166.55 km/s\n"
     ]
    },
    {
     "name": "stdout",
     "output_type": "stream",
     "text": [
      "jam_axi_proj(align='sph', moment='zz') -- elapsed time sec: 0.99\n",
      "analytic_los=0 logistic=0 constant_anisotropy=1\n",
      "No PSF/pixel convolution because sigmapsf=0 pixsize=0\n",
      "inc=80.8; beta[0]=0.0; kappa=1.00; M/L=1.00; BH=0.0; chi2/DOF=nan\n",
      "Total mass MGE (MSun): 1.844e+13\n",
      "\n",
      "sigma_e: 165.78 km/s\n"
     ]
    },
    {
     "name": "stdout",
     "output_type": "stream",
     "text": [
      "jam_axi_proj(align='sph', moment='zz') -- elapsed time sec: 0.93\n",
      "analytic_los=0 logistic=0 constant_anisotropy=1\n",
      "No PSF/pixel convolution because sigmapsf=0 pixsize=0\n",
      "inc=68.7; beta[0]=0.0; kappa=1.00; M/L=1.00; BH=0.0; chi2/DOF=nan\n",
      "Total mass MGE (MSun): 1.844e+13\n",
      "\n",
      "sigma_e: 176.14 km/s\n"
     ]
    },
    {
     "name": "stdout",
     "output_type": "stream",
     "text": [
      "jam_axi_proj(align='sph', moment='zz') -- elapsed time sec: 0.92\n",
      "analytic_los=0 logistic=0 constant_anisotropy=1\n",
      "No PSF/pixel convolution because sigmapsf=0 pixsize=0\n",
      "inc=90.0; beta[0]=0.0; kappa=1.00; M/L=1.00; BH=0.0; chi2/DOF=nan\n",
      "Total mass MGE (MSun): 1.844e+13\n",
      "\n",
      "sigma_e: 143.81 km/s\n"
     ]
    },
    {
     "name": "stdout",
     "output_type": "stream",
     "text": [
      "jam_axi_proj(align='sph', moment='zz') -- elapsed time sec: 0.93\n",
      "analytic_los=0 logistic=0 constant_anisotropy=1\n",
      "No PSF/pixel convolution because sigmapsf=0 pixsize=0\n",
      "inc=84.1; beta[0]=0.0; kappa=1.00; M/L=1.00; BH=0.0; chi2/DOF=nan\n",
      "Total mass MGE (MSun): 7.838e+12\n",
      "\n",
      "sigma_e: 122.04 km/s\n"
     ]
    },
    {
     "name": "stdout",
     "output_type": "stream",
     "text": [
      "jam_axi_proj(align='sph', moment='zz') -- elapsed time sec: 1.02\n",
      "analytic_los=0 logistic=0 constant_anisotropy=1\n",
      "No PSF/pixel convolution because sigmapsf=0 pixsize=0\n",
      "inc=86.9; beta[0]=0.0; kappa=1.00; M/L=1.00; BH=0.0; chi2/DOF=nan\n",
      "Total mass MGE (MSun): 7.838e+12\n",
      "\n",
      "sigma_e: 127.20 km/s\n"
     ]
    },
    {
     "name": "stdout",
     "output_type": "stream",
     "text": [
      "jam_axi_proj(align='sph', moment='zz') -- elapsed time sec: 0.99\n",
      "analytic_los=0 logistic=0 constant_anisotropy=1\n",
      "No PSF/pixel convolution because sigmapsf=0 pixsize=0\n",
      "inc=70.7; beta[0]=0.0; kappa=1.00; M/L=1.00; BH=0.0; chi2/DOF=nan\n",
      "Total mass MGE (MSun): 7.838e+12\n",
      "\n",
      "sigma_e: 137.04 km/s\n"
     ]
    },
    {
     "name": "stdout",
     "output_type": "stream",
     "text": [
      "jam_axi_proj(align='sph', moment='zz') -- elapsed time sec: 0.98\n",
      "analytic_los=0 logistic=0 constant_anisotropy=1\n",
      "No PSF/pixel convolution because sigmapsf=0 pixsize=0\n",
      "inc=85.5; beta[0]=0.0; kappa=1.00; M/L=1.00; BH=0.0; chi2/DOF=nan\n",
      "Total mass MGE (MSun): 7.838e+12\n",
      "\n",
      "sigma_e: 132.87 km/s\n"
     ]
    },
    {
     "name": "stdout",
     "output_type": "stream",
     "text": [
      "jam_axi_proj(align='sph', moment='zz') -- elapsed time sec: 0.95\n",
      "analytic_los=0 logistic=0 constant_anisotropy=1\n",
      "No PSF/pixel convolution because sigmapsf=0 pixsize=0\n",
      "inc=69.0; beta[0]=0.0; kappa=1.00; M/L=1.00; BH=0.0; chi2/DOF=nan\n",
      "Total mass MGE (MSun): 7.838e+12\n",
      "\n",
      "sigma_e: 133.21 km/s\n"
     ]
    },
    {
     "name": "stdout",
     "output_type": "stream",
     "text": [
      "jam_axi_proj(align='sph', moment='zz') -- elapsed time sec: 0.98\n",
      "analytic_los=0 logistic=0 constant_anisotropy=1\n",
      "No PSF/pixel convolution because sigmapsf=0 pixsize=0\n",
      "inc=89.0; beta[0]=0.0; kappa=1.00; M/L=1.00; BH=0.0; chi2/DOF=nan\n",
      "Total mass MGE (MSun): 7.838e+12\n",
      "\n",
      "sigma_e: 127.38 km/s\n"
     ]
    },
    {
     "name": "stdout",
     "output_type": "stream",
     "text": [
      "jam_axi_proj(align='sph', moment='zz') -- elapsed time sec: 0.93\n",
      "analytic_los=0 logistic=0 constant_anisotropy=1\n",
      "No PSF/pixel convolution because sigmapsf=0 pixsize=0\n",
      "inc=80.2; beta[0]=0.0; kappa=1.00; M/L=1.00; BH=0.0; chi2/DOF=nan\n",
      "Total mass MGE (MSun): 7.838e+12\n",
      "\n",
      "sigma_e: 135.09 km/s\n"
     ]
    },
    {
     "name": "stdout",
     "output_type": "stream",
     "text": [
      "jam_axi_proj(align='sph', moment='zz') -- elapsed time sec: 0.98\n",
      "analytic_los=0 logistic=0 constant_anisotropy=1\n",
      "No PSF/pixel convolution because sigmapsf=0 pixsize=0\n",
      "inc=86.0; beta[0]=0.0; kappa=1.00; M/L=1.00; BH=0.0; chi2/DOF=nan\n",
      "Total mass MGE (MSun): 7.838e+12\n",
      "\n",
      "sigma_e: 146.38 km/s\n"
     ]
    },
    {
     "name": "stdout",
     "output_type": "stream",
     "text": [
      "jam_axi_proj(align='sph', moment='zz') -- elapsed time sec: 0.92\n",
      "analytic_los=0 logistic=0 constant_anisotropy=1\n",
      "No PSF/pixel convolution because sigmapsf=0 pixsize=0\n",
      "inc=82.5; beta[0]=0.0; kappa=1.00; M/L=1.00; BH=0.0; chi2/DOF=nan\n",
      "Total mass MGE (MSun): 7.838e+12\n",
      "\n",
      "sigma_e: 131.92 km/s\n"
     ]
    },
    {
     "name": "stdout",
     "output_type": "stream",
     "text": [
      "jam_axi_proj(align='sph', moment='zz') -- elapsed time sec: 0.94\n",
      "analytic_los=0 logistic=0 constant_anisotropy=1\n",
      "No PSF/pixel convolution because sigmapsf=0 pixsize=0\n",
      "inc=78.9; beta[0]=0.0; kappa=1.00; M/L=1.00; BH=0.0; chi2/DOF=nan\n",
      "Total mass MGE (MSun): 7.838e+12\n",
      "\n",
      "sigma_e: 142.43 km/s\n"
     ]
    },
    {
     "name": "stdout",
     "output_type": "stream",
     "text": [
      "jam_axi_proj(align='sph', moment='zz') -- elapsed time sec: 0.98\n",
      "analytic_los=0 logistic=0 constant_anisotropy=1\n",
      "No PSF/pixel convolution because sigmapsf=0 pixsize=0\n",
      "inc=88.0; beta[0]=0.0; kappa=1.00; M/L=1.00; BH=0.0; chi2/DOF=nan\n",
      "Total mass MGE (MSun): 7.994e+12\n",
      "\n",
      "sigma_e: 132.98 km/s\n"
     ]
    },
    {
     "name": "stdout",
     "output_type": "stream",
     "text": [
      "jam_axi_proj(align='sph', moment='zz') -- elapsed time sec: 0.93\n",
      "analytic_los=0 logistic=0 constant_anisotropy=1\n",
      "No PSF/pixel convolution because sigmapsf=0 pixsize=0\n",
      "inc=75.7; beta[0]=0.0; kappa=1.00; M/L=1.00; BH=0.0; chi2/DOF=nan\n",
      "Total mass MGE (MSun): 7.994e+12\n",
      "\n",
      "sigma_e: 139.09 km/s\n"
     ]
    },
    {
     "name": "stdout",
     "output_type": "stream",
     "text": [
      "jam_axi_proj(align='sph', moment='zz') -- elapsed time sec: 0.95\n",
      "analytic_los=0 logistic=0 constant_anisotropy=1\n",
      "No PSF/pixel convolution because sigmapsf=0 pixsize=0\n",
      "inc=52.2; beta[0]=0.0; kappa=1.00; M/L=1.00; BH=0.0; chi2/DOF=nan\n",
      "Total mass MGE (MSun): 7.994e+12\n",
      "\n",
      "sigma_e: 151.18 km/s\n"
     ]
    },
    {
     "name": "stdout",
     "output_type": "stream",
     "text": [
      "jam_axi_proj(align='sph', moment='zz') -- elapsed time sec: 0.95\n",
      "analytic_los=0 logistic=0 constant_anisotropy=1\n",
      "No PSF/pixel convolution because sigmapsf=0 pixsize=0\n",
      "inc=60.1; beta[0]=0.0; kappa=1.00; M/L=1.00; BH=0.0; chi2/DOF=nan\n",
      "Total mass MGE (MSun): 7.994e+12\n",
      "\n",
      "sigma_e: 137.17 km/s\n"
     ]
    },
    {
     "name": "stdout",
     "output_type": "stream",
     "text": [
      "jam_axi_proj(align='sph', moment='zz') -- elapsed time sec: 0.94\n",
      "analytic_los=0 logistic=0 constant_anisotropy=1\n",
      "No PSF/pixel convolution because sigmapsf=0 pixsize=0\n",
      "inc=52.0; beta[0]=0.0; kappa=1.00; M/L=1.00; BH=0.0; chi2/DOF=nan\n",
      "Total mass MGE (MSun): 7.994e+12\n",
      "\n",
      "sigma_e: 148.04 km/s\n"
     ]
    },
    {
     "name": "stdout",
     "output_type": "stream",
     "text": [
      "jam_axi_proj(align='sph', moment='zz') -- elapsed time sec: 1.09\n",
      "analytic_los=0 logistic=0 constant_anisotropy=1\n",
      "No PSF/pixel convolution because sigmapsf=0 pixsize=0\n",
      "inc=82.4; beta[0]=0.0; kappa=1.00; M/L=1.00; BH=0.0; chi2/DOF=nan\n",
      "Total mass MGE (MSun): 7.994e+12\n",
      "\n",
      "sigma_e: 132.80 km/s\n"
     ]
    },
    {
     "name": "stdout",
     "output_type": "stream",
     "text": [
      "jam_axi_proj(align='sph', moment='zz') -- elapsed time sec: 0.91\n",
      "analytic_los=0 logistic=0 constant_anisotropy=1\n",
      "No PSF/pixel convolution because sigmapsf=0 pixsize=0\n",
      "inc=64.2; beta[0]=0.0; kappa=1.00; M/L=1.00; BH=0.0; chi2/DOF=nan\n",
      "Total mass MGE (MSun): 7.994e+12\n",
      "\n",
      "sigma_e: 150.33 km/s\n"
     ]
    },
    {
     "name": "stdout",
     "output_type": "stream",
     "text": [
      "jam_axi_proj(align='sph', moment='zz') -- elapsed time sec: 0.98\n",
      "analytic_los=0 logistic=0 constant_anisotropy=1\n",
      "No PSF/pixel convolution because sigmapsf=0 pixsize=0\n",
      "inc=75.0; beta[0]=0.0; kappa=1.00; M/L=1.00; BH=0.0; chi2/DOF=nan\n",
      "Total mass MGE (MSun): 7.994e+12\n",
      "\n",
      "sigma_e: 138.26 km/s\n"
     ]
    },
    {
     "name": "stdout",
     "output_type": "stream",
     "text": [
      "jam_axi_proj(align='sph', moment='zz') -- elapsed time sec: 1.02\n",
      "analytic_los=0 logistic=0 constant_anisotropy=1\n",
      "No PSF/pixel convolution because sigmapsf=0 pixsize=0\n",
      "inc=88.5; beta[0]=0.0; kappa=1.00; M/L=1.00; BH=0.0; chi2/DOF=nan\n",
      "Total mass MGE (MSun): 7.994e+12\n",
      "\n",
      "sigma_e: 130.37 km/s\n"
     ]
    },
    {
     "name": "stdout",
     "output_type": "stream",
     "text": [
      "jam_axi_proj(align='sph', moment='zz') -- elapsed time sec: 0.95\n",
      "analytic_los=0 logistic=0 constant_anisotropy=1\n",
      "No PSF/pixel convolution because sigmapsf=0 pixsize=0\n",
      "inc=62.3; beta[0]=0.0; kappa=1.00; M/L=1.00; BH=0.0; chi2/DOF=nan\n",
      "Total mass MGE (MSun): 7.994e+12\n",
      "\n",
      "sigma_e: 146.63 km/s\n"
     ]
    },
    {
     "name": "stdout",
     "output_type": "stream",
     "text": [
      "jam_axi_proj(align='sph', moment='zz') -- elapsed time sec: 1.00\n",
      "analytic_los=0 logistic=0 constant_anisotropy=1\n",
      "No PSF/pixel convolution because sigmapsf=0 pixsize=0\n",
      "inc=71.8; beta[0]=0.0; kappa=1.00; M/L=1.00; BH=0.0; chi2/DOF=nan\n",
      "Total mass MGE (MSun): 1.127e+13\n",
      "\n",
      "sigma_e: 145.63 km/s\n"
     ]
    },
    {
     "name": "stdout",
     "output_type": "stream",
     "text": [
      "jam_axi_proj(align='sph', moment='zz') -- elapsed time sec: 0.91\n",
      "analytic_los=0 logistic=0 constant_anisotropy=1\n",
      "No PSF/pixel convolution because sigmapsf=0 pixsize=0\n",
      "inc=80.3; beta[0]=0.0; kappa=1.00; M/L=1.00; BH=0.0; chi2/DOF=nan\n",
      "Total mass MGE (MSun): 1.127e+13\n",
      "\n",
      "sigma_e: 145.73 km/s\n"
     ]
    },
    {
     "name": "stdout",
     "output_type": "stream",
     "text": [
      "jam_axi_proj(align='sph', moment='zz') -- elapsed time sec: 0.94\n",
      "analytic_los=0 logistic=0 constant_anisotropy=1\n",
      "No PSF/pixel convolution because sigmapsf=0 pixsize=0\n",
      "inc=65.6; beta[0]=0.0; kappa=1.00; M/L=1.00; BH=0.0; chi2/DOF=nan\n",
      "Total mass MGE (MSun): 1.127e+13\n",
      "\n",
      "sigma_e: 151.69 km/s\n"
     ]
    },
    {
     "name": "stdout",
     "output_type": "stream",
     "text": [
      "jam_axi_proj(align='sph', moment='zz') -- elapsed time sec: 0.85\n",
      "analytic_los=0 logistic=0 constant_anisotropy=1\n",
      "No PSF/pixel convolution because sigmapsf=0 pixsize=0\n",
      "inc=61.5; beta[0]=0.0; kappa=1.00; M/L=1.00; BH=0.0; chi2/DOF=nan\n",
      "Total mass MGE (MSun): 1.127e+13\n",
      "\n",
      "sigma_e: 160.12 km/s\n"
     ]
    },
    {
     "name": "stdout",
     "output_type": "stream",
     "text": [
      "jam_axi_proj(align='sph', moment='zz') -- elapsed time sec: 0.95\n",
      "analytic_los=0 logistic=0 constant_anisotropy=1\n",
      "No PSF/pixel convolution because sigmapsf=0 pixsize=0\n",
      "inc=63.1; beta[0]=0.0; kappa=1.00; M/L=1.00; BH=0.0; chi2/DOF=nan\n",
      "Total mass MGE (MSun): 1.127e+13\n",
      "\n",
      "sigma_e: 157.49 km/s\n"
     ]
    },
    {
     "name": "stdout",
     "output_type": "stream",
     "text": [
      "jam_axi_proj(align='sph', moment='zz') -- elapsed time sec: 0.89\n",
      "analytic_los=0 logistic=0 constant_anisotropy=1\n",
      "No PSF/pixel convolution because sigmapsf=0 pixsize=0\n",
      "inc=38.8; beta[0]=0.0; kappa=1.00; M/L=1.00; BH=0.0; chi2/DOF=nan\n",
      "Total mass MGE (MSun): 1.127e+13\n",
      "\n",
      "sigma_e: 160.53 km/s\n"
     ]
    },
    {
     "name": "stdout",
     "output_type": "stream",
     "text": [
      "jam_axi_proj(align='sph', moment='zz') -- elapsed time sec: 0.92\n",
      "analytic_los=0 logistic=0 constant_anisotropy=1\n",
      "No PSF/pixel convolution because sigmapsf=0 pixsize=0\n",
      "inc=82.1; beta[0]=0.0; kappa=1.00; M/L=1.00; BH=0.0; chi2/DOF=nan\n",
      "Total mass MGE (MSun): 1.127e+13\n",
      "\n",
      "sigma_e: 153.00 km/s\n"
     ]
    },
    {
     "name": "stdout",
     "output_type": "stream",
     "text": [
      "jam_axi_proj(align='sph', moment='zz') -- elapsed time sec: 0.97\n",
      "analytic_los=0 logistic=0 constant_anisotropy=1\n",
      "No PSF/pixel convolution because sigmapsf=0 pixsize=0\n",
      "inc=73.8; beta[0]=0.0; kappa=1.00; M/L=1.00; BH=0.0; chi2/DOF=nan\n",
      "Total mass MGE (MSun): 1.127e+13\n",
      "\n",
      "sigma_e: 145.89 km/s\n"
     ]
    },
    {
     "name": "stdout",
     "output_type": "stream",
     "text": [
      "jam_axi_proj(align='sph', moment='zz') -- elapsed time sec: 0.92\n",
      "analytic_los=0 logistic=0 constant_anisotropy=1\n",
      "No PSF/pixel convolution because sigmapsf=0 pixsize=0\n",
      "inc=57.8; beta[0]=0.0; kappa=1.00; M/L=1.00; BH=0.0; chi2/DOF=nan\n",
      "Total mass MGE (MSun): 1.127e+13\n",
      "\n",
      "sigma_e: 154.41 km/s\n"
     ]
    },
    {
     "name": "stdout",
     "output_type": "stream",
     "text": [
      "jam_axi_proj(align='sph', moment='zz') -- elapsed time sec: 0.99\n",
      "analytic_los=0 logistic=0 constant_anisotropy=1\n",
      "No PSF/pixel convolution because sigmapsf=0 pixsize=0\n",
      "inc=76.9; beta[0]=0.0; kappa=1.00; M/L=1.00; BH=0.0; chi2/DOF=nan\n",
      "Total mass MGE (MSun): 1.127e+13\n",
      "\n",
      "sigma_e: 145.75 km/s\n"
     ]
    },
    {
     "name": "stdout",
     "output_type": "stream",
     "text": [
      "jam_axi_proj(align='sph', moment='zz') -- elapsed time sec: 1.02\n",
      "analytic_los=0 logistic=0 constant_anisotropy=1\n",
      "No PSF/pixel convolution because sigmapsf=0 pixsize=0\n",
      "inc=77.8; beta[0]=0.0; kappa=1.00; M/L=1.00; BH=0.0; chi2/DOF=nan\n",
      "Total mass MGE (MSun): 2.722e+13\n",
      "\n",
      "sigma_e: 181.91 km/s\n"
     ]
    },
    {
     "name": "stdout",
     "output_type": "stream",
     "text": [
      "jam_axi_proj(align='sph', moment='zz') -- elapsed time sec: 0.90\n",
      "analytic_los=0 logistic=0 constant_anisotropy=1\n",
      "No PSF/pixel convolution because sigmapsf=0 pixsize=0\n",
      "inc=90.0; beta[0]=0.0; kappa=1.00; M/L=1.00; BH=0.0; chi2/DOF=nan\n",
      "Total mass MGE (MSun): 2.722e+13\n",
      "\n",
      "sigma_e: 152.38 km/s\n"
     ]
    },
    {
     "name": "stdout",
     "output_type": "stream",
     "text": [
      "jam_axi_proj(align='sph', moment='zz') -- elapsed time sec: 0.89\n",
      "analytic_los=0 logistic=0 constant_anisotropy=1\n",
      "No PSF/pixel convolution because sigmapsf=0 pixsize=0\n",
      "inc=90.0; beta[0]=0.0; kappa=1.00; M/L=1.00; BH=0.0; chi2/DOF=nan\n",
      "Total mass MGE (MSun): 2.722e+13\n",
      "\n",
      "sigma_e: 154.04 km/s\n"
     ]
    },
    {
     "name": "stdout",
     "output_type": "stream",
     "text": [
      "jam_axi_proj(align='sph', moment='zz') -- elapsed time sec: 0.89\n",
      "analytic_los=0 logistic=0 constant_anisotropy=1\n",
      "No PSF/pixel convolution because sigmapsf=0 pixsize=0\n",
      "inc=34.8; beta[0]=0.0; kappa=1.00; M/L=1.00; BH=0.0; chi2/DOF=nan\n",
      "Total mass MGE (MSun): 2.722e+13\n",
      "\n",
      "sigma_e: 206.79 km/s\n"
     ]
    },
    {
     "name": "stdout",
     "output_type": "stream",
     "text": [
      "jam_axi_proj(align='sph', moment='zz') -- elapsed time sec: 0.93\n",
      "analytic_los=0 logistic=0 constant_anisotropy=1\n",
      "No PSF/pixel convolution because sigmapsf=0 pixsize=0\n",
      "inc=90.0; beta[0]=0.0; kappa=1.00; M/L=1.00; BH=0.0; chi2/DOF=nan\n",
      "Total mass MGE (MSun): 2.722e+13\n",
      "\n",
      "sigma_e: 159.75 km/s\n"
     ]
    },
    {
     "name": "stdout",
     "output_type": "stream",
     "text": [
      "jam_axi_proj(align='sph', moment='zz') -- elapsed time sec: 0.99\n",
      "analytic_los=0 logistic=0 constant_anisotropy=1\n",
      "No PSF/pixel convolution because sigmapsf=0 pixsize=0\n",
      "inc=71.9; beta[0]=0.0; kappa=1.00; M/L=1.00; BH=0.0; chi2/DOF=nan\n",
      "Total mass MGE (MSun): 2.722e+13\n",
      "\n",
      "sigma_e: 176.06 km/s\n"
     ]
    },
    {
     "name": "stdout",
     "output_type": "stream",
     "text": [
      "jam_axi_proj(align='sph', moment='zz') -- elapsed time sec: 0.94\n",
      "analytic_los=0 logistic=0 constant_anisotropy=1\n",
      "No PSF/pixel convolution because sigmapsf=0 pixsize=0\n",
      "inc=86.4; beta[0]=0.0; kappa=1.00; M/L=1.00; BH=0.0; chi2/DOF=nan\n",
      "Total mass MGE (MSun): 2.722e+13\n",
      "\n",
      "sigma_e: 192.47 km/s\n"
     ]
    },
    {
     "name": "stdout",
     "output_type": "stream",
     "text": [
      "jam_axi_proj(align='sph', moment='zz') -- elapsed time sec: 0.92\n",
      "analytic_los=0 logistic=0 constant_anisotropy=1\n",
      "No PSF/pixel convolution because sigmapsf=0 pixsize=0\n",
      "inc=90.0; beta[0]=0.0; kappa=1.00; M/L=1.00; BH=0.0; chi2/DOF=nan\n",
      "Total mass MGE (MSun): 2.722e+13\n",
      "\n",
      "sigma_e: 187.11 km/s\n"
     ]
    },
    {
     "name": "stdout",
     "output_type": "stream",
     "text": [
      "jam_axi_proj(align='sph', moment='zz') -- elapsed time sec: 0.91\n",
      "analytic_los=0 logistic=0 constant_anisotropy=1\n",
      "No PSF/pixel convolution because sigmapsf=0 pixsize=0\n",
      "inc=53.3; beta[0]=0.0; kappa=1.00; M/L=1.00; BH=0.0; chi2/DOF=nan\n",
      "Total mass MGE (MSun): 2.722e+13\n",
      "\n",
      "sigma_e: 209.33 km/s\n"
     ]
    },
    {
     "name": "stdout",
     "output_type": "stream",
     "text": [
      "jam_axi_proj(align='sph', moment='zz') -- elapsed time sec: 1.03\n",
      "analytic_los=0 logistic=0 constant_anisotropy=1\n",
      "No PSF/pixel convolution because sigmapsf=0 pixsize=0\n",
      "inc=81.8; beta[0]=0.0; kappa=1.00; M/L=1.00; BH=0.0; chi2/DOF=nan\n",
      "Total mass MGE (MSun): 2.722e+13\n",
      "\n",
      "sigma_e: 174.14 km/s\n"
     ]
    },
    {
     "name": "stdout",
     "output_type": "stream",
     "text": [
      "jam_axi_proj(align='sph', moment='zz') -- elapsed time sec: 1.04\n",
      "analytic_los=0 logistic=0 constant_anisotropy=1\n",
      "No PSF/pixel convolution because sigmapsf=0 pixsize=0\n",
      "inc=85.4; beta[0]=0.0; kappa=1.00; M/L=1.00; BH=0.0; chi2/DOF=nan\n",
      "Total mass MGE (MSun): 1.373e+13\n",
      "\n",
      "sigma_e: 148.27 km/s\n"
     ]
    },
    {
     "name": "stdout",
     "output_type": "stream",
     "text": [
      "jam_axi_proj(align='sph', moment='zz') -- elapsed time sec: 0.96\n",
      "analytic_los=0 logistic=0 constant_anisotropy=1\n",
      "No PSF/pixel convolution because sigmapsf=0 pixsize=0\n",
      "inc=75.1; beta[0]=0.0; kappa=1.00; M/L=1.00; BH=0.0; chi2/DOF=nan\n",
      "Total mass MGE (MSun): 1.373e+13\n",
      "\n",
      "sigma_e: 156.90 km/s\n"
     ]
    },
    {
     "name": "stdout",
     "output_type": "stream",
     "text": [
      "jam_axi_proj(align='sph', moment='zz') -- elapsed time sec: 1.04\n",
      "analytic_los=0 logistic=0 constant_anisotropy=1\n",
      "No PSF/pixel convolution because sigmapsf=0 pixsize=0\n",
      "inc=74.2; beta[0]=0.0; kappa=1.00; M/L=1.00; BH=0.0; chi2/DOF=nan\n",
      "Total mass MGE (MSun): 1.373e+13\n",
      "\n",
      "sigma_e: 161.49 km/s\n"
     ]
    },
    {
     "name": "stdout",
     "output_type": "stream",
     "text": [
      "jam_axi_proj(align='sph', moment='zz') -- elapsed time sec: 0.84\n",
      "analytic_los=0 logistic=0 constant_anisotropy=1\n",
      "No PSF/pixel convolution because sigmapsf=0 pixsize=0\n",
      "inc=69.8; beta[0]=0.0; kappa=1.00; M/L=1.00; BH=0.0; chi2/DOF=nan\n",
      "Total mass MGE (MSun): 1.373e+13\n",
      "\n",
      "sigma_e: 168.04 km/s\n"
     ]
    },
    {
     "name": "stdout",
     "output_type": "stream",
     "text": [
      "jam_axi_proj(align='sph', moment='zz') -- elapsed time sec: 0.95\n",
      "analytic_los=0 logistic=0 constant_anisotropy=1\n",
      "No PSF/pixel convolution because sigmapsf=0 pixsize=0\n",
      "inc=42.4; beta[0]=0.0; kappa=1.00; M/L=1.00; BH=0.0; chi2/DOF=nan\n",
      "Total mass MGE (MSun): 1.373e+13\n",
      "\n",
      "sigma_e: 176.17 km/s\n"
     ]
    },
    {
     "name": "stdout",
     "output_type": "stream",
     "text": [
      "jam_axi_proj(align='sph', moment='zz') -- elapsed time sec: 0.95\n",
      "analytic_los=0 logistic=0 constant_anisotropy=1\n",
      "No PSF/pixel convolution because sigmapsf=0 pixsize=0\n",
      "inc=36.3; beta[0]=0.0; kappa=1.00; M/L=1.00; BH=0.0; chi2/DOF=nan\n",
      "Total mass MGE (MSun): 1.373e+13\n",
      "\n",
      "sigma_e: 169.48 km/s\n"
     ]
    },
    {
     "name": "stdout",
     "output_type": "stream",
     "text": [
      "jam_axi_proj(align='sph', moment='zz') -- elapsed time sec: 0.99\n",
      "analytic_los=0 logistic=0 constant_anisotropy=1\n",
      "No PSF/pixel convolution because sigmapsf=0 pixsize=0\n",
      "inc=82.7; beta[0]=0.0; kappa=1.00; M/L=1.00; BH=0.0; chi2/DOF=nan\n",
      "Total mass MGE (MSun): 1.373e+13\n",
      "\n",
      "sigma_e: 150.75 km/s\n"
     ]
    },
    {
     "name": "stdout",
     "output_type": "stream",
     "text": [
      "jam_axi_proj(align='sph', moment='zz') -- elapsed time sec: 1.01\n",
      "analytic_los=0 logistic=0 constant_anisotropy=1\n",
      "No PSF/pixel convolution because sigmapsf=0 pixsize=0\n",
      "inc=79.4; beta[0]=0.0; kappa=1.00; M/L=1.00; BH=0.0; chi2/DOF=nan\n",
      "Total mass MGE (MSun): 1.373e+13\n",
      "\n",
      "sigma_e: 151.51 km/s\n"
     ]
    },
    {
     "name": "stdout",
     "output_type": "stream",
     "text": [
      "jam_axi_proj(align='sph', moment='zz') -- elapsed time sec: 0.96\n",
      "analytic_los=0 logistic=0 constant_anisotropy=1\n",
      "No PSF/pixel convolution because sigmapsf=0 pixsize=0\n",
      "inc=75.5; beta[0]=0.0; kappa=1.00; M/L=1.00; BH=0.0; chi2/DOF=nan\n",
      "Total mass MGE (MSun): 1.373e+13\n",
      "\n",
      "sigma_e: 153.49 km/s\n"
     ]
    },
    {
     "name": "stdout",
     "output_type": "stream",
     "text": [
      "jam_axi_proj(align='sph', moment='zz') -- elapsed time sec: 0.99\n",
      "analytic_los=0 logistic=0 constant_anisotropy=1\n",
      "No PSF/pixel convolution because sigmapsf=0 pixsize=0\n",
      "inc=77.7; beta[0]=0.0; kappa=1.00; M/L=1.00; BH=0.0; chi2/DOF=nan\n",
      "Total mass MGE (MSun): 1.373e+13\n",
      "\n",
      "sigma_e: 156.45 km/s\n"
     ]
    },
    {
     "name": "stdout",
     "output_type": "stream",
     "text": [
      "jam_axi_proj(align='sph', moment='zz') -- elapsed time sec: 0.91\n",
      "analytic_los=0 logistic=0 constant_anisotropy=1\n",
      "No PSF/pixel convolution because sigmapsf=0 pixsize=0\n",
      "inc=45.9; beta[0]=0.0; kappa=1.00; M/L=1.00; BH=0.0; chi2/DOF=nan\n",
      "Total mass MGE (MSun): 7.937e+12\n",
      "\n",
      "sigma_e: 151.63 km/s\n"
     ]
    },
    {
     "name": "stdout",
     "output_type": "stream",
     "text": [
      "jam_axi_proj(align='sph', moment='zz') -- elapsed time sec: 0.90\n",
      "analytic_los=0 logistic=0 constant_anisotropy=1\n",
      "No PSF/pixel convolution because sigmapsf=0 pixsize=0\n",
      "inc=56.4; beta[0]=0.0; kappa=1.00; M/L=1.00; BH=0.0; chi2/DOF=nan\n",
      "Total mass MGE (MSun): 7.937e+12\n",
      "\n",
      "sigma_e: 153.22 km/s\n"
     ]
    },
    {
     "name": "stdout",
     "output_type": "stream",
     "text": [
      "jam_axi_proj(align='sph', moment='zz') -- elapsed time sec: 0.93\n",
      "analytic_los=0 logistic=0 constant_anisotropy=1\n",
      "No PSF/pixel convolution because sigmapsf=0 pixsize=0\n",
      "inc=71.9; beta[0]=0.0; kappa=1.00; M/L=1.00; BH=0.0; chi2/DOF=nan\n",
      "Total mass MGE (MSun): 7.937e+12\n",
      "\n",
      "sigma_e: 137.57 km/s\n"
     ]
    },
    {
     "name": "stdout",
     "output_type": "stream",
     "text": [
      "jam_axi_proj(align='sph', moment='zz') -- elapsed time sec: 0.92\n",
      "analytic_los=0 logistic=0 constant_anisotropy=1\n",
      "No PSF/pixel convolution because sigmapsf=0 pixsize=0\n",
      "inc=90.0; beta[0]=0.0; kappa=1.00; M/L=1.00; BH=0.0; chi2/DOF=nan\n",
      "Total mass MGE (MSun): 7.937e+12\n",
      "\n",
      "sigma_e: 119.10 km/s\n"
     ]
    },
    {
     "name": "stdout",
     "output_type": "stream",
     "text": [
      "jam_axi_proj(align='sph', moment='zz') -- elapsed time sec: 0.99\n",
      "analytic_los=0 logistic=0 constant_anisotropy=1\n",
      "No PSF/pixel convolution because sigmapsf=0 pixsize=0\n",
      "inc=79.2; beta[0]=0.0; kappa=1.00; M/L=1.00; BH=0.0; chi2/DOF=nan\n",
      "Total mass MGE (MSun): 7.937e+12\n",
      "\n",
      "sigma_e: 151.91 km/s\n"
     ]
    },
    {
     "name": "stdout",
     "output_type": "stream",
     "text": [
      "jam_axi_proj(align='sph', moment='zz') -- elapsed time sec: 0.96\n",
      "analytic_los=0 logistic=0 constant_anisotropy=1\n",
      "No PSF/pixel convolution because sigmapsf=0 pixsize=0\n",
      "inc=76.6; beta[0]=0.0; kappa=1.00; M/L=1.00; BH=0.0; chi2/DOF=nan\n",
      "Total mass MGE (MSun): 7.937e+12\n",
      "\n",
      "sigma_e: 126.64 km/s\n"
     ]
    },
    {
     "name": "stdout",
     "output_type": "stream",
     "text": [
      "jam_axi_proj(align='sph', moment='zz') -- elapsed time sec: 0.99\n",
      "analytic_los=0 logistic=0 constant_anisotropy=1\n",
      "No PSF/pixel convolution because sigmapsf=0 pixsize=0\n",
      "inc=83.6; beta[0]=0.0; kappa=1.00; M/L=1.00; BH=0.0; chi2/DOF=nan\n",
      "Total mass MGE (MSun): 7.937e+12\n",
      "\n",
      "sigma_e: 128.12 km/s\n"
     ]
    },
    {
     "name": "stdout",
     "output_type": "stream",
     "text": [
      "jam_axi_proj(align='sph', moment='zz') -- elapsed time sec: 0.97\n",
      "analytic_los=0 logistic=0 constant_anisotropy=1\n",
      "No PSF/pixel convolution because sigmapsf=0 pixsize=0\n",
      "inc=73.5; beta[0]=0.0; kappa=1.00; M/L=1.00; BH=0.0; chi2/DOF=nan\n",
      "Total mass MGE (MSun): 7.937e+12\n",
      "\n",
      "sigma_e: 134.97 km/s\n"
     ]
    },
    {
     "name": "stdout",
     "output_type": "stream",
     "text": [
      "jam_axi_proj(align='sph', moment='zz') -- elapsed time sec: 0.97\n",
      "analytic_los=0 logistic=0 constant_anisotropy=1\n",
      "No PSF/pixel convolution because sigmapsf=0 pixsize=0\n",
      "inc=86.5; beta[0]=0.0; kappa=1.00; M/L=1.00; BH=0.0; chi2/DOF=nan\n",
      "Total mass MGE (MSun): 7.937e+12\n",
      "\n",
      "sigma_e: 151.60 km/s\n"
     ]
    },
    {
     "name": "stdout",
     "output_type": "stream",
     "text": [
      "jam_axi_proj(align='sph', moment='zz') -- elapsed time sec: 1.02\n",
      "analytic_los=0 logistic=0 constant_anisotropy=1\n",
      "No PSF/pixel convolution because sigmapsf=0 pixsize=0\n",
      "inc=67.7; beta[0]=0.0; kappa=1.00; M/L=1.00; BH=0.0; chi2/DOF=nan\n",
      "Total mass MGE (MSun): 7.937e+12\n",
      "\n",
      "sigma_e: 131.88 km/s\n"
     ]
    },
    {
     "name": "stdout",
     "output_type": "stream",
     "text": [
      "jam_axi_proj(align='sph', moment='zz') -- elapsed time sec: 0.95\n",
      "analytic_los=0 logistic=0 constant_anisotropy=1\n",
      "No PSF/pixel convolution because sigmapsf=0 pixsize=0\n",
      "inc=73.2; beta[0]=0.0; kappa=1.00; M/L=1.00; BH=0.0; chi2/DOF=nan\n",
      "Total mass MGE (MSun): 1.062e+13\n",
      "\n",
      "sigma_e: 148.07 km/s\n"
     ]
    },
    {
     "name": "stdout",
     "output_type": "stream",
     "text": [
      "jam_axi_proj(align='sph', moment='zz') -- elapsed time sec: 0.89\n",
      "analytic_los=0 logistic=0 constant_anisotropy=1\n",
      "No PSF/pixel convolution because sigmapsf=0 pixsize=0\n",
      "inc=52.5; beta[0]=0.0; kappa=1.00; M/L=1.00; BH=0.0; chi2/DOF=nan\n",
      "Total mass MGE (MSun): 1.062e+13\n",
      "\n",
      "sigma_e: 148.03 km/s\n"
     ]
    },
    {
     "name": "stdout",
     "output_type": "stream",
     "text": [
      "jam_axi_proj(align='sph', moment='zz') -- elapsed time sec: 0.96\n",
      "analytic_los=0 logistic=0 constant_anisotropy=1\n",
      "No PSF/pixel convolution because sigmapsf=0 pixsize=0\n",
      "inc=48.8; beta[0]=0.0; kappa=1.00; M/L=1.00; BH=0.0; chi2/DOF=nan\n",
      "Total mass MGE (MSun): 1.062e+13\n",
      "\n",
      "sigma_e: 148.39 km/s\n"
     ]
    },
    {
     "name": "stdout",
     "output_type": "stream",
     "text": [
      "jam_axi_proj(align='sph', moment='zz') -- elapsed time sec: 0.89\n",
      "analytic_los=0 logistic=0 constant_anisotropy=1\n",
      "No PSF/pixel convolution because sigmapsf=0 pixsize=0\n",
      "inc=65.3; beta[0]=0.0; kappa=1.00; M/L=1.00; BH=0.0; chi2/DOF=nan\n",
      "Total mass MGE (MSun): 1.062e+13\n",
      "\n",
      "sigma_e: 150.53 km/s\n"
     ]
    },
    {
     "name": "stdout",
     "output_type": "stream",
     "text": [
      "jam_axi_proj(align='sph', moment='zz') -- elapsed time sec: 0.89\n",
      "analytic_los=0 logistic=0 constant_anisotropy=1\n",
      "No PSF/pixel convolution because sigmapsf=0 pixsize=0\n",
      "inc=36.6; beta[0]=0.0; kappa=1.00; M/L=1.00; BH=0.0; chi2/DOF=nan\n",
      "Total mass MGE (MSun): 1.062e+13\n",
      "\n",
      "sigma_e: 153.76 km/s\n"
     ]
    },
    {
     "name": "stdout",
     "output_type": "stream",
     "text": [
      "jam_axi_proj(align='sph', moment='zz') -- elapsed time sec: 0.96\n",
      "analytic_los=0 logistic=0 constant_anisotropy=1\n",
      "No PSF/pixel convolution because sigmapsf=0 pixsize=0\n",
      "inc=49.7; beta[0]=0.0; kappa=1.00; M/L=1.00; BH=0.0; chi2/DOF=nan\n",
      "Total mass MGE (MSun): 1.062e+13\n",
      "\n",
      "sigma_e: 147.82 km/s\n"
     ]
    },
    {
     "name": "stdout",
     "output_type": "stream",
     "text": [
      "jam_axi_proj(align='sph', moment='zz') -- elapsed time sec: 0.92\n",
      "analytic_los=0 logistic=0 constant_anisotropy=1\n",
      "No PSF/pixel convolution because sigmapsf=0 pixsize=0\n",
      "inc=71.8; beta[0]=0.0; kappa=1.00; M/L=1.00; BH=0.0; chi2/DOF=nan\n",
      "Total mass MGE (MSun): 1.062e+13\n",
      "\n",
      "sigma_e: 149.24 km/s\n"
     ]
    },
    {
     "name": "stdout",
     "output_type": "stream",
     "text": [
      "jam_axi_proj(align='sph', moment='zz') -- elapsed time sec: 0.95\n",
      "analytic_los=0 logistic=0 constant_anisotropy=1\n",
      "No PSF/pixel convolution because sigmapsf=0 pixsize=0\n",
      "inc=88.6; beta[0]=0.0; kappa=1.00; M/L=1.00; BH=0.0; chi2/DOF=nan\n",
      "Total mass MGE (MSun): 1.062e+13\n",
      "\n",
      "sigma_e: 144.92 km/s\n"
     ]
    },
    {
     "name": "stdout",
     "output_type": "stream",
     "text": [
      "jam_axi_proj(align='sph', moment='zz') -- elapsed time sec: 0.96\n",
      "analytic_los=0 logistic=0 constant_anisotropy=1\n",
      "No PSF/pixel convolution because sigmapsf=0 pixsize=0\n",
      "inc=63.5; beta[0]=0.0; kappa=1.00; M/L=1.00; BH=0.0; chi2/DOF=nan\n",
      "Total mass MGE (MSun): 1.062e+13\n",
      "\n",
      "sigma_e: 146.82 km/s\n"
     ]
    },
    {
     "name": "stdout",
     "output_type": "stream",
     "text": [
      "jam_axi_proj(align='sph', moment='zz') -- elapsed time sec: 0.92\n",
      "analytic_los=0 logistic=0 constant_anisotropy=1\n",
      "No PSF/pixel convolution because sigmapsf=0 pixsize=0\n",
      "inc=76.8; beta[0]=0.0; kappa=1.00; M/L=1.00; BH=0.0; chi2/DOF=nan\n",
      "Total mass MGE (MSun): 1.062e+13\n",
      "\n",
      "sigma_e: 148.40 km/s\n"
     ]
    },
    {
     "name": "stdout",
     "output_type": "stream",
     "text": [
      "jam_axi_proj(align='sph', moment='zz') -- elapsed time sec: 0.95\n",
      "analytic_los=0 logistic=0 constant_anisotropy=1\n",
      "No PSF/pixel convolution because sigmapsf=0 pixsize=0\n",
      "inc=76.9; beta[0]=0.0; kappa=1.00; M/L=1.00; BH=0.0; chi2/DOF=nan\n",
      "Total mass MGE (MSun): 1.122e+13\n",
      "\n",
      "sigma_e: 152.34 km/s\n"
     ]
    },
    {
     "name": "stdout",
     "output_type": "stream",
     "text": [
      "jam_axi_proj(align='sph', moment='zz') -- elapsed time sec: 0.99\n",
      "analytic_los=0 logistic=0 constant_anisotropy=1\n",
      "No PSF/pixel convolution because sigmapsf=0 pixsize=0\n",
      "inc=53.3; beta[0]=0.0; kappa=1.00; M/L=1.00; BH=0.0; chi2/DOF=nan\n",
      "Total mass MGE (MSun): 1.122e+13\n",
      "\n",
      "sigma_e: 158.28 km/s\n"
     ]
    },
    {
     "name": "stdout",
     "output_type": "stream",
     "text": [
      "jam_axi_proj(align='sph', moment='zz') -- elapsed time sec: 0.91\n",
      "analytic_los=0 logistic=0 constant_anisotropy=1\n",
      "No PSF/pixel convolution because sigmapsf=0 pixsize=0\n",
      "inc=86.0; beta[0]=0.0; kappa=1.00; M/L=1.00; BH=0.0; chi2/DOF=nan\n",
      "Total mass MGE (MSun): 1.122e+13\n",
      "\n",
      "sigma_e: 149.05 km/s\n"
     ]
    },
    {
     "name": "stdout",
     "output_type": "stream",
     "text": [
      "jam_axi_proj(align='sph', moment='zz') -- elapsed time sec: 0.92\n",
      "analytic_los=0 logistic=0 constant_anisotropy=1\n",
      "No PSF/pixel convolution because sigmapsf=0 pixsize=0\n",
      "inc=78.2; beta[0]=0.0; kappa=1.00; M/L=1.00; BH=0.0; chi2/DOF=nan\n",
      "Total mass MGE (MSun): 1.122e+13\n",
      "\n",
      "sigma_e: 151.55 km/s\n"
     ]
    },
    {
     "name": "stdout",
     "output_type": "stream",
     "text": [
      "jam_axi_proj(align='sph', moment='zz') -- elapsed time sec: 1.00\n",
      "analytic_los=0 logistic=0 constant_anisotropy=1\n",
      "No PSF/pixel convolution because sigmapsf=0 pixsize=0\n",
      "inc=88.5; beta[0]=0.0; kappa=1.00; M/L=1.00; BH=0.0; chi2/DOF=nan\n",
      "Total mass MGE (MSun): 1.122e+13\n",
      "\n",
      "sigma_e: 145.29 km/s\n"
     ]
    },
    {
     "name": "stdout",
     "output_type": "stream",
     "text": [
      "jam_axi_proj(align='sph', moment='zz') -- elapsed time sec: 0.99\n",
      "analytic_los=0 logistic=0 constant_anisotropy=1\n",
      "No PSF/pixel convolution because sigmapsf=0 pixsize=0\n",
      "inc=86.0; beta[0]=0.0; kappa=1.00; M/L=1.00; BH=0.0; chi2/DOF=nan\n",
      "Total mass MGE (MSun): 1.122e+13\n",
      "\n",
      "sigma_e: 144.15 km/s\n"
     ]
    },
    {
     "name": "stdout",
     "output_type": "stream",
     "text": [
      "jam_axi_proj(align='sph', moment='zz') -- elapsed time sec: 0.92\n",
      "analytic_los=0 logistic=0 constant_anisotropy=1\n",
      "No PSF/pixel convolution because sigmapsf=0 pixsize=0\n",
      "inc=59.9; beta[0]=0.0; kappa=1.00; M/L=1.00; BH=0.0; chi2/DOF=nan\n",
      "Total mass MGE (MSun): 1.122e+13\n",
      "\n",
      "sigma_e: 151.85 km/s\n"
     ]
    },
    {
     "name": "stdout",
     "output_type": "stream",
     "text": [
      "jam_axi_proj(align='sph', moment='zz') -- elapsed time sec: 0.91\n",
      "analytic_los=0 logistic=0 constant_anisotropy=1\n",
      "No PSF/pixel convolution because sigmapsf=0 pixsize=0\n",
      "inc=82.7; beta[0]=0.0; kappa=1.00; M/L=1.00; BH=0.0; chi2/DOF=nan\n",
      "Total mass MGE (MSun): 1.122e+13\n",
      "\n",
      "sigma_e: 155.93 km/s\n"
     ]
    },
    {
     "name": "stdout",
     "output_type": "stream",
     "text": [
      "jam_axi_proj(align='sph', moment='zz') -- elapsed time sec: 0.93\n",
      "analytic_los=0 logistic=0 constant_anisotropy=1\n",
      "No PSF/pixel convolution because sigmapsf=0 pixsize=0\n",
      "inc=68.5; beta[0]=0.0; kappa=1.00; M/L=1.00; BH=0.0; chi2/DOF=nan\n",
      "Total mass MGE (MSun): 1.122e+13\n",
      "\n",
      "sigma_e: 148.99 km/s\n"
     ]
    },
    {
     "name": "stdout",
     "output_type": "stream",
     "text": [
      "jam_axi_proj(align='sph', moment='zz') -- elapsed time sec: 0.93\n",
      "analytic_los=0 logistic=0 constant_anisotropy=1\n",
      "No PSF/pixel convolution because sigmapsf=0 pixsize=0\n",
      "inc=71.8; beta[0]=0.0; kappa=1.00; M/L=1.00; BH=0.0; chi2/DOF=nan\n",
      "Total mass MGE (MSun): 1.122e+13\n",
      "\n",
      "sigma_e: 152.44 km/s\n"
     ]
    },
    {
     "name": "stdout",
     "output_type": "stream",
     "text": [
      "jam_axi_proj(align='sph', moment='zz') -- elapsed time sec: 1.02\n",
      "analytic_los=0 logistic=0 constant_anisotropy=1\n",
      "No PSF/pixel convolution because sigmapsf=0 pixsize=0\n",
      "inc=75.9; beta[0]=0.0; kappa=1.00; M/L=1.00; BH=0.0; chi2/DOF=nan\n",
      "Total mass MGE (MSun): 9.610e+12\n",
      "\n",
      "sigma_e: 143.80 km/s\n"
     ]
    },
    {
     "name": "stdout",
     "output_type": "stream",
     "text": [
      "jam_axi_proj(align='sph', moment='zz') -- elapsed time sec: 0.89\n",
      "analytic_los=0 logistic=0 constant_anisotropy=1\n",
      "No PSF/pixel convolution because sigmapsf=0 pixsize=0\n",
      "inc=37.8; beta[0]=0.0; kappa=1.00; M/L=1.00; BH=0.0; chi2/DOF=nan\n",
      "Total mass MGE (MSun): 9.610e+12\n",
      "\n",
      "sigma_e: 157.12 km/s\n"
     ]
    },
    {
     "name": "stdout",
     "output_type": "stream",
     "text": [
      "jam_axi_proj(align='sph', moment='zz') -- elapsed time sec: 0.92\n",
      "analytic_los=0 logistic=0 constant_anisotropy=1\n",
      "No PSF/pixel convolution because sigmapsf=0 pixsize=0\n",
      "inc=80.4; beta[0]=0.0; kappa=1.00; M/L=1.00; BH=0.0; chi2/DOF=nan\n",
      "Total mass MGE (MSun): 9.610e+12\n",
      "\n",
      "sigma_e: 158.15 km/s\n"
     ]
    },
    {
     "name": "stdout",
     "output_type": "stream",
     "text": [
      "jam_axi_proj(align='sph', moment='zz') -- elapsed time sec: 0.99\n",
      "analytic_los=0 logistic=0 constant_anisotropy=1\n",
      "No PSF/pixel convolution because sigmapsf=0 pixsize=0\n",
      "inc=78.9; beta[0]=0.0; kappa=1.00; M/L=1.00; BH=0.0; chi2/DOF=nan\n",
      "Total mass MGE (MSun): 9.610e+12\n",
      "\n",
      "sigma_e: 146.61 km/s\n"
     ]
    },
    {
     "name": "stdout",
     "output_type": "stream",
     "text": [
      "jam_axi_proj(align='sph', moment='zz') -- elapsed time sec: 0.96\n",
      "analytic_los=0 logistic=0 constant_anisotropy=1\n",
      "No PSF/pixel convolution because sigmapsf=0 pixsize=0\n",
      "inc=76.0; beta[0]=0.0; kappa=1.00; M/L=1.00; BH=0.0; chi2/DOF=nan\n",
      "Total mass MGE (MSun): 9.610e+12\n",
      "\n",
      "sigma_e: 141.29 km/s\n"
     ]
    },
    {
     "name": "stdout",
     "output_type": "stream",
     "text": [
      "jam_axi_proj(align='sph', moment='zz') -- elapsed time sec: 1.03\n",
      "analytic_los=0 logistic=0 constant_anisotropy=1\n",
      "No PSF/pixel convolution because sigmapsf=0 pixsize=0\n",
      "inc=79.9; beta[0]=0.0; kappa=1.00; M/L=1.00; BH=0.0; chi2/DOF=nan\n",
      "Total mass MGE (MSun): 9.610e+12\n",
      "\n",
      "sigma_e: 144.18 km/s\n"
     ]
    },
    {
     "name": "stdout",
     "output_type": "stream",
     "text": [
      "jam_axi_proj(align='sph', moment='zz') -- elapsed time sec: 1.01\n",
      "analytic_los=0 logistic=0 constant_anisotropy=1\n",
      "No PSF/pixel convolution because sigmapsf=0 pixsize=0\n",
      "inc=80.1; beta[0]=0.0; kappa=1.00; M/L=1.00; BH=0.0; chi2/DOF=nan\n",
      "Total mass MGE (MSun): 9.610e+12\n",
      "\n",
      "sigma_e: 140.73 km/s\n"
     ]
    },
    {
     "name": "stdout",
     "output_type": "stream",
     "text": [
      "jam_axi_proj(align='sph', moment='zz') -- elapsed time sec: 0.94\n",
      "analytic_los=0 logistic=0 constant_anisotropy=1\n",
      "No PSF/pixel convolution because sigmapsf=0 pixsize=0\n",
      "inc=50.0; beta[0]=0.0; kappa=1.00; M/L=1.00; BH=0.0; chi2/DOF=nan\n",
      "Total mass MGE (MSun): 9.610e+12\n",
      "\n",
      "sigma_e: 155.57 km/s\n"
     ]
    },
    {
     "name": "stdout",
     "output_type": "stream",
     "text": [
      "jam_axi_proj(align='sph', moment='zz') -- elapsed time sec: 0.96\n",
      "analytic_los=0 logistic=0 constant_anisotropy=1\n",
      "No PSF/pixel convolution because sigmapsf=0 pixsize=0\n",
      "inc=73.8; beta[0]=0.0; kappa=1.00; M/L=1.00; BH=0.0; chi2/DOF=nan\n",
      "Total mass MGE (MSun): 9.610e+12\n",
      "\n",
      "sigma_e: 152.34 km/s\n"
     ]
    },
    {
     "name": "stdout",
     "output_type": "stream",
     "text": [
      "jam_axi_proj(align='sph', moment='zz') -- elapsed time sec: 1.00\n",
      "analytic_los=0 logistic=0 constant_anisotropy=1\n",
      "No PSF/pixel convolution because sigmapsf=0 pixsize=0\n",
      "inc=72.6; beta[0]=0.0; kappa=1.00; M/L=1.00; BH=0.0; chi2/DOF=nan\n",
      "Total mass MGE (MSun): 9.610e+12\n",
      "\n",
      "sigma_e: 138.19 km/s\n"
     ]
    },
    {
     "name": "stdout",
     "output_type": "stream",
     "text": [
      "jam_axi_proj(align='sph', moment='zz') -- elapsed time sec: 1.04\n",
      "analytic_los=0 logistic=0 constant_anisotropy=1\n",
      "No PSF/pixel convolution because sigmapsf=0 pixsize=0\n",
      "inc=59.7; beta[0]=0.0; kappa=1.00; M/L=1.00; BH=0.0; chi2/DOF=nan\n",
      "Total mass MGE (MSun): 1.190e+13\n",
      "\n",
      "sigma_e: 150.96 km/s\n"
     ]
    },
    {
     "name": "stdout",
     "output_type": "stream",
     "text": [
      "jam_axi_proj(align='sph', moment='zz') -- elapsed time sec: 1.04\n",
      "analytic_los=0 logistic=0 constant_anisotropy=1\n",
      "No PSF/pixel convolution because sigmapsf=0 pixsize=0\n",
      "inc=84.7; beta[0]=0.0; kappa=1.00; M/L=1.00; BH=0.0; chi2/DOF=nan\n",
      "Total mass MGE (MSun): 1.190e+13\n",
      "\n",
      "sigma_e: 146.57 km/s\n"
     ]
    },
    {
     "name": "stdout",
     "output_type": "stream",
     "text": [
      "jam_axi_proj(align='sph', moment='zz') -- elapsed time sec: 0.99\n",
      "analytic_los=0 logistic=0 constant_anisotropy=1\n",
      "No PSF/pixel convolution because sigmapsf=0 pixsize=0\n",
      "inc=88.2; beta[0]=0.0; kappa=1.00; M/L=1.00; BH=0.0; chi2/DOF=nan\n",
      "Total mass MGE (MSun): 1.190e+13\n",
      "\n",
      "sigma_e: 152.51 km/s\n"
     ]
    },
    {
     "name": "stdout",
     "output_type": "stream",
     "text": [
      "jam_axi_proj(align='sph', moment='zz') -- elapsed time sec: 0.95\n",
      "analytic_los=0 logistic=0 constant_anisotropy=1\n",
      "No PSF/pixel convolution because sigmapsf=0 pixsize=0\n",
      "inc=89.5; beta[0]=0.0; kappa=1.00; M/L=1.00; BH=0.0; chi2/DOF=nan\n",
      "Total mass MGE (MSun): 1.190e+13\n",
      "\n",
      "sigma_e: 166.52 km/s\n"
     ]
    },
    {
     "name": "stdout",
     "output_type": "stream",
     "text": [
      "jam_axi_proj(align='sph', moment='zz') -- elapsed time sec: 0.97\n",
      "analytic_los=0 logistic=0 constant_anisotropy=1\n",
      "No PSF/pixel convolution because sigmapsf=0 pixsize=0\n",
      "inc=72.5; beta[0]=0.0; kappa=1.00; M/L=1.00; BH=0.0; chi2/DOF=nan\n",
      "Total mass MGE (MSun): 1.190e+13\n",
      "\n",
      "sigma_e: 144.28 km/s\n"
     ]
    },
    {
     "name": "stdout",
     "output_type": "stream",
     "text": [
      "jam_axi_proj(align='sph', moment='zz') -- elapsed time sec: 1.00\n",
      "analytic_los=0 logistic=0 constant_anisotropy=1\n",
      "No PSF/pixel convolution because sigmapsf=0 pixsize=0\n",
      "inc=86.2; beta[0]=0.0; kappa=1.00; M/L=1.00; BH=0.0; chi2/DOF=nan\n",
      "Total mass MGE (MSun): 1.190e+13\n",
      "\n",
      "sigma_e: 145.39 km/s\n"
     ]
    },
    {
     "name": "stdout",
     "output_type": "stream",
     "text": [
      "jam_axi_proj(align='sph', moment='zz') -- elapsed time sec: 0.94\n",
      "analytic_los=0 logistic=0 constant_anisotropy=1\n",
      "No PSF/pixel convolution because sigmapsf=0 pixsize=0\n",
      "inc=42.5; beta[0]=0.0; kappa=1.00; M/L=1.00; BH=0.0; chi2/DOF=nan\n",
      "Total mass MGE (MSun): 1.190e+13\n",
      "\n",
      "sigma_e: 169.66 km/s\n"
     ]
    },
    {
     "name": "stdout",
     "output_type": "stream",
     "text": [
      "jam_axi_proj(align='sph', moment='zz') -- elapsed time sec: 0.95\n",
      "analytic_los=0 logistic=0 constant_anisotropy=1\n",
      "No PSF/pixel convolution because sigmapsf=0 pixsize=0\n",
      "inc=56.2; beta[0]=0.0; kappa=1.00; M/L=1.00; BH=0.0; chi2/DOF=nan\n",
      "Total mass MGE (MSun): 1.190e+13\n",
      "\n",
      "sigma_e: 168.28 km/s\n"
     ]
    },
    {
     "name": "stdout",
     "output_type": "stream",
     "text": [
      "jam_axi_proj(align='sph', moment='zz') -- elapsed time sec: 0.96\n",
      "analytic_los=0 logistic=0 constant_anisotropy=1\n",
      "No PSF/pixel convolution because sigmapsf=0 pixsize=0\n",
      "inc=81.7; beta[0]=0.0; kappa=1.00; M/L=1.00; BH=0.0; chi2/DOF=nan\n",
      "Total mass MGE (MSun): 1.190e+13\n",
      "\n",
      "sigma_e: 147.98 km/s\n"
     ]
    },
    {
     "name": "stdout",
     "output_type": "stream",
     "text": [
      "jam_axi_proj(align='sph', moment='zz') -- elapsed time sec: 0.97\n",
      "analytic_los=0 logistic=0 constant_anisotropy=1\n",
      "No PSF/pixel convolution because sigmapsf=0 pixsize=0\n",
      "inc=82.8; beta[0]=0.0; kappa=1.00; M/L=1.00; BH=0.0; chi2/DOF=nan\n",
      "Total mass MGE (MSun): 1.190e+13\n",
      "\n",
      "sigma_e: 140.37 km/s\n"
     ]
    },
    {
     "name": "stdout",
     "output_type": "stream",
     "text": [
      "jam_axi_proj(align='sph', moment='zz') -- elapsed time sec: 0.93\n",
      "analytic_los=0 logistic=0 constant_anisotropy=1\n",
      "No PSF/pixel convolution because sigmapsf=0 pixsize=0\n",
      "inc=59.4; beta[0]=0.0; kappa=1.00; M/L=1.00; BH=0.0; chi2/DOF=nan\n",
      "Total mass MGE (MSun): 1.223e+13\n",
      "\n",
      "sigma_e: 162.76 km/s\n"
     ]
    },
    {
     "name": "stdout",
     "output_type": "stream",
     "text": [
      "jam_axi_proj(align='sph', moment='zz') -- elapsed time sec: 0.96\n",
      "analytic_los=0 logistic=0 constant_anisotropy=1\n",
      "No PSF/pixel convolution because sigmapsf=0 pixsize=0\n",
      "inc=45.8; beta[0]=0.0; kappa=1.00; M/L=1.00; BH=0.0; chi2/DOF=nan\n",
      "Total mass MGE (MSun): 1.223e+13\n",
      "\n",
      "sigma_e: 162.85 km/s\n"
     ]
    },
    {
     "name": "stdout",
     "output_type": "stream",
     "text": [
      "jam_axi_proj(align='sph', moment='zz') -- elapsed time sec: 0.93\n",
      "analytic_los=0 logistic=0 constant_anisotropy=1\n",
      "No PSF/pixel convolution because sigmapsf=0 pixsize=0\n",
      "inc=48.8; beta[0]=0.0; kappa=1.00; M/L=1.00; BH=0.0; chi2/DOF=nan\n",
      "Total mass MGE (MSun): 1.223e+13\n",
      "\n",
      "sigma_e: 165.32 km/s\n"
     ]
    },
    {
     "name": "stdout",
     "output_type": "stream",
     "text": [
      "jam_axi_proj(align='sph', moment='zz') -- elapsed time sec: 0.98\n",
      "analytic_los=0 logistic=0 constant_anisotropy=1\n",
      "No PSF/pixel convolution because sigmapsf=0 pixsize=0\n",
      "inc=57.2; beta[0]=0.0; kappa=1.00; M/L=1.00; BH=0.0; chi2/DOF=nan\n",
      "Total mass MGE (MSun): 1.223e+13\n",
      "\n",
      "sigma_e: 153.31 km/s\n"
     ]
    },
    {
     "name": "stdout",
     "output_type": "stream",
     "text": [
      "jam_axi_proj(align='sph', moment='zz') -- elapsed time sec: 0.96\n",
      "analytic_los=0 logistic=0 constant_anisotropy=1\n",
      "No PSF/pixel convolution because sigmapsf=0 pixsize=0\n",
      "inc=83.9; beta[0]=0.0; kappa=1.00; M/L=1.00; BH=0.0; chi2/DOF=nan\n",
      "Total mass MGE (MSun): 1.223e+13\n",
      "\n",
      "sigma_e: 149.44 km/s\n"
     ]
    },
    {
     "name": "stdout",
     "output_type": "stream",
     "text": [
      "jam_axi_proj(align='sph', moment='zz') -- elapsed time sec: 0.97\n",
      "analytic_los=0 logistic=0 constant_anisotropy=1\n",
      "No PSF/pixel convolution because sigmapsf=0 pixsize=0\n",
      "inc=65.8; beta[0]=0.0; kappa=1.00; M/L=1.00; BH=0.0; chi2/DOF=nan\n",
      "Total mass MGE (MSun): 1.223e+13\n",
      "\n",
      "sigma_e: 156.40 km/s\n"
     ]
    },
    {
     "name": "stdout",
     "output_type": "stream",
     "text": [
      "jam_axi_proj(align='sph', moment='zz') -- elapsed time sec: 0.91\n",
      "analytic_los=0 logistic=0 constant_anisotropy=1\n",
      "No PSF/pixel convolution because sigmapsf=0 pixsize=0\n",
      "inc=88.1; beta[0]=0.0; kappa=1.00; M/L=1.00; BH=0.0; chi2/DOF=nan\n",
      "Total mass MGE (MSun): 1.223e+13\n",
      "\n",
      "sigma_e: 159.91 km/s\n"
     ]
    },
    {
     "name": "stdout",
     "output_type": "stream",
     "text": [
      "jam_axi_proj(align='sph', moment='zz') -- elapsed time sec: 0.96\n",
      "analytic_los=0 logistic=0 constant_anisotropy=1\n",
      "No PSF/pixel convolution because sigmapsf=0 pixsize=0\n",
      "inc=88.6; beta[0]=0.0; kappa=1.00; M/L=1.00; BH=0.0; chi2/DOF=nan\n",
      "Total mass MGE (MSun): 1.223e+13\n",
      "\n",
      "sigma_e: 150.95 km/s\n"
     ]
    },
    {
     "name": "stdout",
     "output_type": "stream",
     "text": [
      "jam_axi_proj(align='sph', moment='zz') -- elapsed time sec: 0.97\n",
      "analytic_los=0 logistic=0 constant_anisotropy=1\n",
      "No PSF/pixel convolution because sigmapsf=0 pixsize=0\n",
      "inc=68.3; beta[0]=0.0; kappa=1.00; M/L=1.00; BH=0.0; chi2/DOF=nan\n",
      "Total mass MGE (MSun): 1.223e+13\n",
      "\n",
      "sigma_e: 152.36 km/s\n"
     ]
    },
    {
     "name": "stdout",
     "output_type": "stream",
     "text": [
      "jam_axi_proj(align='sph', moment='zz') -- elapsed time sec: 0.96\n",
      "analytic_los=0 logistic=0 constant_anisotropy=1\n",
      "No PSF/pixel convolution because sigmapsf=0 pixsize=0\n",
      "inc=72.9; beta[0]=0.0; kappa=1.00; M/L=1.00; BH=0.0; chi2/DOF=nan\n",
      "Total mass MGE (MSun): 1.223e+13\n",
      "\n",
      "sigma_e: 149.60 km/s\n"
     ]
    },
    {
     "name": "stdout",
     "output_type": "stream",
     "text": [
      "jam_axi_proj(align='sph', moment='zz') -- elapsed time sec: 0.95\n",
      "analytic_los=0 logistic=0 constant_anisotropy=1\n",
      "No PSF/pixel convolution because sigmapsf=0 pixsize=0\n",
      "inc=49.1; beta[0]=0.0; kappa=1.00; M/L=1.00; BH=0.0; chi2/DOF=nan\n",
      "Total mass MGE (MSun): 1.300e+13\n",
      "\n",
      "sigma_e: 155.33 km/s\n"
     ]
    },
    {
     "name": "stdout",
     "output_type": "stream",
     "text": [
      "jam_axi_proj(align='sph', moment='zz') -- elapsed time sec: 0.94\n",
      "analytic_los=0 logistic=0 constant_anisotropy=1\n",
      "No PSF/pixel convolution because sigmapsf=0 pixsize=0\n",
      "inc=46.1; beta[0]=0.0; kappa=1.00; M/L=1.00; BH=0.0; chi2/DOF=nan\n",
      "Total mass MGE (MSun): 1.300e+13\n",
      "\n",
      "sigma_e: 167.95 km/s\n"
     ]
    },
    {
     "name": "stdout",
     "output_type": "stream",
     "text": [
      "jam_axi_proj(align='sph', moment='zz') -- elapsed time sec: 0.95\n",
      "analytic_los=0 logistic=0 constant_anisotropy=1\n",
      "No PSF/pixel convolution because sigmapsf=0 pixsize=0\n",
      "inc=79.5; beta[0]=0.0; kappa=1.00; M/L=1.00; BH=0.0; chi2/DOF=nan\n",
      "Total mass MGE (MSun): 1.300e+13\n",
      "\n",
      "sigma_e: 154.01 km/s\n"
     ]
    },
    {
     "name": "stdout",
     "output_type": "stream",
     "text": [
      "jam_axi_proj(align='sph', moment='zz') -- elapsed time sec: 1.03\n",
      "analytic_los=0 logistic=0 constant_anisotropy=1\n",
      "No PSF/pixel convolution because sigmapsf=0 pixsize=0\n",
      "inc=60.2; beta[0]=0.0; kappa=1.00; M/L=1.00; BH=0.0; chi2/DOF=nan\n",
      "Total mass MGE (MSun): 1.300e+13\n",
      "\n",
      "sigma_e: 155.40 km/s\n"
     ]
    },
    {
     "name": "stdout",
     "output_type": "stream",
     "text": [
      "jam_axi_proj(align='sph', moment='zz') -- elapsed time sec: 0.95\n",
      "analytic_los=0 logistic=0 constant_anisotropy=1\n",
      "No PSF/pixel convolution because sigmapsf=0 pixsize=0\n",
      "inc=78.8; beta[0]=0.0; kappa=1.00; M/L=1.00; BH=0.0; chi2/DOF=nan\n",
      "Total mass MGE (MSun): 1.300e+13\n",
      "\n",
      "sigma_e: 156.62 km/s\n"
     ]
    },
    {
     "name": "stdout",
     "output_type": "stream",
     "text": [
      "jam_axi_proj(align='sph', moment='zz') -- elapsed time sec: 0.94\n",
      "analytic_los=0 logistic=0 constant_anisotropy=1\n",
      "No PSF/pixel convolution because sigmapsf=0 pixsize=0\n",
      "inc=51.4; beta[0]=0.0; kappa=1.00; M/L=1.00; BH=0.0; chi2/DOF=nan\n",
      "Total mass MGE (MSun): 1.300e+13\n",
      "\n",
      "sigma_e: 167.77 km/s\n"
     ]
    },
    {
     "name": "stdout",
     "output_type": "stream",
     "text": [
      "jam_axi_proj(align='sph', moment='zz') -- elapsed time sec: 0.99\n",
      "analytic_los=0 logistic=0 constant_anisotropy=1\n",
      "No PSF/pixel convolution because sigmapsf=0 pixsize=0\n",
      "inc=53.7; beta[0]=0.0; kappa=1.00; M/L=1.00; BH=0.0; chi2/DOF=nan\n",
      "Total mass MGE (MSun): 1.300e+13\n",
      "\n",
      "sigma_e: 159.51 km/s\n"
     ]
    },
    {
     "name": "stdout",
     "output_type": "stream",
     "text": [
      "jam_axi_proj(align='sph', moment='zz') -- elapsed time sec: 0.98\n",
      "analytic_los=0 logistic=0 constant_anisotropy=1\n",
      "No PSF/pixel convolution because sigmapsf=0 pixsize=0\n",
      "inc=69.9; beta[0]=0.0; kappa=1.00; M/L=1.00; BH=0.0; chi2/DOF=nan\n",
      "Total mass MGE (MSun): 1.300e+13\n",
      "\n",
      "sigma_e: 152.80 km/s\n"
     ]
    },
    {
     "name": "stdout",
     "output_type": "stream",
     "text": [
      "jam_axi_proj(align='sph', moment='zz') -- elapsed time sec: 0.90\n",
      "analytic_los=0 logistic=0 constant_anisotropy=1\n",
      "No PSF/pixel convolution because sigmapsf=0 pixsize=0\n",
      "inc=52.0; beta[0]=0.0; kappa=1.00; M/L=1.00; BH=0.0; chi2/DOF=nan\n",
      "Total mass MGE (MSun): 1.300e+13\n",
      "\n",
      "sigma_e: 160.75 km/s\n"
     ]
    },
    {
     "name": "stdout",
     "output_type": "stream",
     "text": [
      "jam_axi_proj(align='sph', moment='zz') -- elapsed time sec: 0.92\n",
      "analytic_los=0 logistic=0 constant_anisotropy=1\n",
      "No PSF/pixel convolution because sigmapsf=0 pixsize=0\n",
      "inc=72.3; beta[0]=0.0; kappa=1.00; M/L=1.00; BH=0.0; chi2/DOF=nan\n",
      "Total mass MGE (MSun): 1.300e+13\n",
      "\n",
      "sigma_e: 153.09 km/s\n"
     ]
    },
    {
     "name": "stdout",
     "output_type": "stream",
     "text": [
      "jam_axi_proj(align='sph', moment='zz') -- elapsed time sec: 0.97\n",
      "analytic_los=0 logistic=0 constant_anisotropy=1\n",
      "No PSF/pixel convolution because sigmapsf=0 pixsize=0\n",
      "inc=75.3; beta[0]=0.0; kappa=1.00; M/L=1.00; BH=0.0; chi2/DOF=nan\n",
      "Total mass MGE (MSun): 9.721e+12\n",
      "\n",
      "sigma_e: 149.13 km/s\n"
     ]
    },
    {
     "name": "stdout",
     "output_type": "stream",
     "text": [
      "jam_axi_proj(align='sph', moment='zz') -- elapsed time sec: 1.00\n",
      "analytic_los=0 logistic=0 constant_anisotropy=1\n",
      "No PSF/pixel convolution because sigmapsf=0 pixsize=0\n",
      "inc=66.6; beta[0]=0.0; kappa=1.00; M/L=1.00; BH=0.0; chi2/DOF=nan\n",
      "Total mass MGE (MSun): 9.721e+12\n",
      "\n",
      "sigma_e: 142.06 km/s\n"
     ]
    },
    {
     "name": "stdout",
     "output_type": "stream",
     "text": [
      "jam_axi_proj(align='sph', moment='zz') -- elapsed time sec: 0.84\n",
      "analytic_los=0 logistic=0 constant_anisotropy=1\n",
      "No PSF/pixel convolution because sigmapsf=0 pixsize=0\n",
      "inc=30.8; beta[0]=0.0; kappa=1.00; M/L=1.00; BH=0.0; chi2/DOF=nan\n",
      "Total mass MGE (MSun): 9.721e+12\n",
      "\n",
      "sigma_e: 151.72 km/s\n"
     ]
    },
    {
     "name": "stdout",
     "output_type": "stream",
     "text": [
      "jam_axi_proj(align='sph', moment='zz') -- elapsed time sec: 0.85\n",
      "analytic_los=0 logistic=0 constant_anisotropy=1\n",
      "No PSF/pixel convolution because sigmapsf=0 pixsize=0\n",
      "inc=88.4; beta[0]=0.0; kappa=1.00; M/L=1.00; BH=0.0; chi2/DOF=nan\n",
      "Total mass MGE (MSun): 9.721e+12\n",
      "\n",
      "sigma_e: 141.92 km/s\n"
     ]
    },
    {
     "name": "stdout",
     "output_type": "stream",
     "text": [
      "jam_axi_proj(align='sph', moment='zz') -- elapsed time sec: 1.00\n",
      "analytic_los=0 logistic=0 constant_anisotropy=1\n",
      "No PSF/pixel convolution because sigmapsf=0 pixsize=0\n",
      "inc=87.1; beta[0]=0.0; kappa=1.00; M/L=1.00; BH=0.0; chi2/DOF=nan\n",
      "Total mass MGE (MSun): 9.721e+12\n",
      "\n",
      "sigma_e: 138.56 km/s\n"
     ]
    },
    {
     "name": "stdout",
     "output_type": "stream",
     "text": [
      "jam_axi_proj(align='sph', moment='zz') -- elapsed time sec: 0.96\n",
      "analytic_los=0 logistic=0 constant_anisotropy=1\n",
      "No PSF/pixel convolution because sigmapsf=0 pixsize=0\n",
      "inc=82.4; beta[0]=0.0; kappa=1.00; M/L=1.00; BH=0.0; chi2/DOF=nan\n",
      "Total mass MGE (MSun): 9.721e+12\n",
      "\n",
      "sigma_e: 143.24 km/s\n"
     ]
    },
    {
     "name": "stdout",
     "output_type": "stream",
     "text": [
      "jam_axi_proj(align='sph', moment='zz') -- elapsed time sec: 0.95\n",
      "analytic_los=0 logistic=0 constant_anisotropy=1\n",
      "No PSF/pixel convolution because sigmapsf=0 pixsize=0\n",
      "inc=79.0; beta[0]=0.0; kappa=1.00; M/L=1.00; BH=0.0; chi2/DOF=nan\n",
      "Total mass MGE (MSun): 9.721e+12\n",
      "\n",
      "sigma_e: 143.48 km/s\n"
     ]
    },
    {
     "name": "stdout",
     "output_type": "stream",
     "text": [
      "jam_axi_proj(align='sph', moment='zz') -- elapsed time sec: 0.98\n",
      "analytic_los=0 logistic=0 constant_anisotropy=1\n",
      "No PSF/pixel convolution because sigmapsf=0 pixsize=0\n",
      "inc=75.5; beta[0]=0.0; kappa=1.00; M/L=1.00; BH=0.0; chi2/DOF=nan\n",
      "Total mass MGE (MSun): 9.721e+12\n",
      "\n",
      "sigma_e: 145.45 km/s\n"
     ]
    },
    {
     "name": "stdout",
     "output_type": "stream",
     "text": [
      "jam_axi_proj(align='sph', moment='zz') -- elapsed time sec: 0.92\n",
      "analytic_los=0 logistic=0 constant_anisotropy=1\n",
      "No PSF/pixel convolution because sigmapsf=0 pixsize=0\n",
      "inc=61.7; beta[0]=0.0; kappa=1.00; M/L=1.00; BH=0.0; chi2/DOF=nan\n",
      "Total mass MGE (MSun): 9.721e+12\n",
      "\n",
      "sigma_e: 154.89 km/s\n"
     ]
    },
    {
     "name": "stdout",
     "output_type": "stream",
     "text": [
      "jam_axi_proj(align='sph', moment='zz') -- elapsed time sec: 0.96\n",
      "analytic_los=0 logistic=0 constant_anisotropy=1\n",
      "No PSF/pixel convolution because sigmapsf=0 pixsize=0\n",
      "inc=84.4; beta[0]=0.0; kappa=1.00; M/L=1.00; BH=0.0; chi2/DOF=nan\n",
      "Total mass MGE (MSun): 9.721e+12\n",
      "\n",
      "sigma_e: 143.34 km/s\n"
     ]
    },
    {
     "name": "stdout",
     "output_type": "stream",
     "text": [
      "jam_axi_proj(align='sph', moment='zz') -- elapsed time sec: 0.95\n",
      "analytic_los=0 logistic=0 constant_anisotropy=1\n",
      "No PSF/pixel convolution because sigmapsf=0 pixsize=0\n",
      "inc=87.1; beta[0]=0.0; kappa=1.00; M/L=1.00; BH=0.0; chi2/DOF=nan\n",
      "Total mass MGE (MSun): 7.485e+12\n",
      "\n",
      "sigma_e: 120.23 km/s\n"
     ]
    },
    {
     "name": "stdout",
     "output_type": "stream",
     "text": [
      "jam_axi_proj(align='sph', moment='zz') -- elapsed time sec: 0.98\n",
      "analytic_los=0 logistic=0 constant_anisotropy=1\n",
      "No PSF/pixel convolution because sigmapsf=0 pixsize=0\n",
      "inc=79.6; beta[0]=0.0; kappa=1.00; M/L=1.00; BH=0.0; chi2/DOF=nan\n",
      "Total mass MGE (MSun): 7.485e+12\n",
      "\n",
      "sigma_e: 141.54 km/s\n"
     ]
    },
    {
     "name": "stdout",
     "output_type": "stream",
     "text": [
      "jam_axi_proj(align='sph', moment='zz') -- elapsed time sec: 0.95\n",
      "analytic_los=0 logistic=0 constant_anisotropy=1\n",
      "No PSF/pixel convolution because sigmapsf=0 pixsize=0\n",
      "inc=87.8; beta[0]=0.0; kappa=1.00; M/L=1.00; BH=0.0; chi2/DOF=nan\n",
      "Total mass MGE (MSun): 7.485e+12\n",
      "\n",
      "sigma_e: 120.26 km/s\n"
     ]
    },
    {
     "name": "stdout",
     "output_type": "stream",
     "text": [
      "jam_axi_proj(align='sph', moment='zz') -- elapsed time sec: 0.95\n",
      "analytic_los=0 logistic=0 constant_anisotropy=1\n",
      "No PSF/pixel convolution because sigmapsf=0 pixsize=0\n",
      "inc=81.6; beta[0]=0.0; kappa=1.00; M/L=1.00; BH=0.0; chi2/DOF=nan\n",
      "Total mass MGE (MSun): 7.485e+12\n",
      "\n",
      "sigma_e: 123.84 km/s\n"
     ]
    },
    {
     "name": "stdout",
     "output_type": "stream",
     "text": [
      "jam_axi_proj(align='sph', moment='zz') -- elapsed time sec: 1.04\n",
      "analytic_los=0 logistic=0 constant_anisotropy=1\n",
      "No PSF/pixel convolution because sigmapsf=0 pixsize=0\n",
      "inc=85.4; beta[0]=0.0; kappa=1.00; M/L=1.00; BH=0.0; chi2/DOF=nan\n",
      "Total mass MGE (MSun): 7.485e+12\n",
      "\n",
      "sigma_e: 145.39 km/s\n"
     ]
    },
    {
     "name": "stdout",
     "output_type": "stream",
     "text": [
      "jam_axi_proj(align='sph', moment='zz') -- elapsed time sec: 0.97\n",
      "analytic_los=0 logistic=0 constant_anisotropy=1\n",
      "No PSF/pixel convolution because sigmapsf=0 pixsize=0\n",
      "inc=85.0; beta[0]=0.0; kappa=1.00; M/L=1.00; BH=0.0; chi2/DOF=nan\n",
      "Total mass MGE (MSun): 7.485e+12\n",
      "\n",
      "sigma_e: 133.74 km/s\n"
     ]
    },
    {
     "name": "stdout",
     "output_type": "stream",
     "text": [
      "jam_axi_proj(align='sph', moment='zz') -- elapsed time sec: 1.01\n",
      "analytic_los=0 logistic=0 constant_anisotropy=1\n",
      "No PSF/pixel convolution because sigmapsf=0 pixsize=0\n",
      "inc=80.3; beta[0]=0.0; kappa=1.00; M/L=1.00; BH=0.0; chi2/DOF=nan\n",
      "Total mass MGE (MSun): 7.485e+12\n",
      "\n",
      "sigma_e: 144.85 km/s\n"
     ]
    },
    {
     "name": "stdout",
     "output_type": "stream",
     "text": [
      "jam_axi_proj(align='sph', moment='zz') -- elapsed time sec: 0.97\n",
      "analytic_los=0 logistic=0 constant_anisotropy=1\n",
      "No PSF/pixel convolution because sigmapsf=0 pixsize=0\n",
      "inc=79.7; beta[0]=0.0; kappa=1.00; M/L=1.00; BH=0.0; chi2/DOF=nan\n",
      "Total mass MGE (MSun): 7.485e+12\n",
      "\n",
      "sigma_e: 124.50 km/s\n"
     ]
    },
    {
     "name": "stdout",
     "output_type": "stream",
     "text": [
      "jam_axi_proj(align='sph', moment='zz') -- elapsed time sec: 0.94\n",
      "analytic_los=0 logistic=0 constant_anisotropy=1\n",
      "No PSF/pixel convolution because sigmapsf=0 pixsize=0\n",
      "inc=81.8; beta[0]=0.0; kappa=1.00; M/L=1.00; BH=0.0; chi2/DOF=nan\n",
      "Total mass MGE (MSun): 7.485e+12\n",
      "\n",
      "sigma_e: 142.13 km/s\n"
     ]
    },
    {
     "name": "stdout",
     "output_type": "stream",
     "text": [
      "jam_axi_proj(align='sph', moment='zz') -- elapsed time sec: 0.95\n",
      "analytic_los=0 logistic=0 constant_anisotropy=1\n",
      "No PSF/pixel convolution because sigmapsf=0 pixsize=0\n",
      "inc=79.3; beta[0]=0.0; kappa=1.00; M/L=1.00; BH=0.0; chi2/DOF=nan\n",
      "Total mass MGE (MSun): 7.485e+12\n",
      "\n",
      "sigma_e: 123.43 km/s\n"
     ]
    },
    {
     "name": "stdout",
     "output_type": "stream",
     "text": [
      "jam_axi_proj(align='sph', moment='zz') -- elapsed time sec: 0.95\n",
      "analytic_los=0 logistic=0 constant_anisotropy=1\n",
      "No PSF/pixel convolution because sigmapsf=0 pixsize=0\n",
      "inc=52.3; beta[0]=0.0; kappa=1.00; M/L=1.00; BH=0.0; chi2/DOF=nan\n",
      "Total mass MGE (MSun): 7.582e+12\n",
      "\n",
      "sigma_e: 143.86 km/s\n"
     ]
    },
    {
     "name": "stdout",
     "output_type": "stream",
     "text": [
      "jam_axi_proj(align='sph', moment='zz') -- elapsed time sec: 0.95\n",
      "analytic_los=0 logistic=0 constant_anisotropy=1\n",
      "No PSF/pixel convolution because sigmapsf=0 pixsize=0\n",
      "inc=60.9; beta[0]=0.0; kappa=1.00; M/L=1.00; BH=0.0; chi2/DOF=nan\n",
      "Total mass MGE (MSun): 7.582e+12\n",
      "\n",
      "sigma_e: 142.93 km/s\n"
     ]
    },
    {
     "name": "stdout",
     "output_type": "stream",
     "text": [
      "jam_axi_proj(align='sph', moment='zz') -- elapsed time sec: 1.02\n",
      "analytic_los=0 logistic=0 constant_anisotropy=1\n",
      "No PSF/pixel convolution because sigmapsf=0 pixsize=0\n",
      "inc=78.8; beta[0]=0.0; kappa=1.00; M/L=1.00; BH=0.0; chi2/DOF=nan\n",
      "Total mass MGE (MSun): 7.582e+12\n",
      "\n",
      "sigma_e: 139.64 km/s\n"
     ]
    },
    {
     "name": "stdout",
     "output_type": "stream",
     "text": [
      "jam_axi_proj(align='sph', moment='zz') -- elapsed time sec: 1.04\n",
      "analytic_los=0 logistic=0 constant_anisotropy=1\n",
      "No PSF/pixel convolution because sigmapsf=0 pixsize=0\n",
      "inc=85.6; beta[0]=0.0; kappa=1.00; M/L=1.00; BH=0.0; chi2/DOF=nan\n",
      "Total mass MGE (MSun): 7.582e+12\n",
      "\n",
      "sigma_e: 129.15 km/s\n"
     ]
    },
    {
     "name": "stdout",
     "output_type": "stream",
     "text": [
      "jam_axi_proj(align='sph', moment='zz') -- elapsed time sec: 0.95\n",
      "analytic_los=0 logistic=0 constant_anisotropy=1\n",
      "No PSF/pixel convolution because sigmapsf=0 pixsize=0\n",
      "inc=64.7; beta[0]=0.0; kappa=1.00; M/L=1.00; BH=0.0; chi2/DOF=nan\n",
      "Total mass MGE (MSun): 7.582e+12\n",
      "\n",
      "sigma_e: 147.66 km/s\n"
     ]
    },
    {
     "name": "stdout",
     "output_type": "stream",
     "text": [
      "jam_axi_proj(align='sph', moment='zz') -- elapsed time sec: 1.05\n",
      "analytic_los=0 logistic=0 constant_anisotropy=1\n",
      "No PSF/pixel convolution because sigmapsf=0 pixsize=0\n",
      "inc=69.7; beta[0]=0.0; kappa=1.00; M/L=1.00; BH=0.0; chi2/DOF=nan\n",
      "Total mass MGE (MSun): 7.582e+12\n",
      "\n",
      "sigma_e: 134.05 km/s\n"
     ]
    },
    {
     "name": "stdout",
     "output_type": "stream",
     "text": [
      "jam_axi_proj(align='sph', moment='zz') -- elapsed time sec: 0.92\n",
      "analytic_los=0 logistic=0 constant_anisotropy=1\n",
      "No PSF/pixel convolution because sigmapsf=0 pixsize=0\n",
      "inc=67.3; beta[0]=0.0; kappa=1.00; M/L=1.00; BH=0.0; chi2/DOF=nan\n",
      "Total mass MGE (MSun): 7.582e+12\n",
      "\n",
      "sigma_e: 134.02 km/s\n"
     ]
    },
    {
     "name": "stdout",
     "output_type": "stream",
     "text": [
      "jam_axi_proj(align='sph', moment='zz') -- elapsed time sec: 0.91\n",
      "analytic_los=0 logistic=0 constant_anisotropy=1\n",
      "No PSF/pixel convolution because sigmapsf=0 pixsize=0\n",
      "inc=79.6; beta[0]=0.0; kappa=1.00; M/L=1.00; BH=0.0; chi2/DOF=nan\n",
      "Total mass MGE (MSun): 7.582e+12\n",
      "\n",
      "sigma_e: 131.13 km/s\n"
     ]
    },
    {
     "name": "stdout",
     "output_type": "stream",
     "text": [
      "jam_axi_proj(align='sph', moment='zz') -- elapsed time sec: 0.99\n",
      "analytic_los=0 logistic=0 constant_anisotropy=1\n",
      "No PSF/pixel convolution because sigmapsf=0 pixsize=0\n",
      "inc=82.0; beta[0]=0.0; kappa=1.00; M/L=1.00; BH=0.0; chi2/DOF=nan\n",
      "Total mass MGE (MSun): 7.582e+12\n",
      "\n",
      "sigma_e: 133.96 km/s\n"
     ]
    },
    {
     "name": "stdout",
     "output_type": "stream",
     "text": [
      "jam_axi_proj(align='sph', moment='zz') -- elapsed time sec: 0.85\n",
      "analytic_los=0 logistic=0 constant_anisotropy=1\n",
      "No PSF/pixel convolution because sigmapsf=0 pixsize=0\n",
      "inc=32.3; beta[0]=0.0; kappa=1.00; M/L=1.00; BH=0.0; chi2/DOF=nan\n",
      "Total mass MGE (MSun): 7.582e+12\n",
      "\n",
      "sigma_e: 145.65 km/s\n"
     ]
    },
    {
     "name": "stdout",
     "output_type": "stream",
     "text": [
      "jam_axi_proj(align='sph', moment='zz') -- elapsed time sec: 0.94\n",
      "analytic_los=0 logistic=0 constant_anisotropy=1\n",
      "No PSF/pixel convolution because sigmapsf=0 pixsize=0\n",
      "inc=66.9; beta[0]=0.0; kappa=1.00; M/L=1.00; BH=0.0; chi2/DOF=nan\n",
      "Total mass MGE (MSun): 1.676e+13\n",
      "\n",
      "sigma_e: 163.82 km/s\n"
     ]
    },
    {
     "name": "stdout",
     "output_type": "stream",
     "text": [
      "jam_axi_proj(align='sph', moment='zz') -- elapsed time sec: 0.97\n",
      "analytic_los=0 logistic=0 constant_anisotropy=1\n",
      "No PSF/pixel convolution because sigmapsf=0 pixsize=0\n",
      "inc=78.0; beta[0]=0.0; kappa=1.00; M/L=1.00; BH=0.0; chi2/DOF=nan\n",
      "Total mass MGE (MSun): 1.676e+13\n",
      "\n",
      "sigma_e: 151.59 km/s\n"
     ]
    },
    {
     "name": "stdout",
     "output_type": "stream",
     "text": [
      "jam_axi_proj(align='sph', moment='zz') -- elapsed time sec: 0.98\n",
      "analytic_los=0 logistic=0 constant_anisotropy=1\n",
      "No PSF/pixel convolution because sigmapsf=0 pixsize=0\n",
      "inc=59.9; beta[0]=0.0; kappa=1.00; M/L=1.00; BH=0.0; chi2/DOF=nan\n",
      "Total mass MGE (MSun): 1.676e+13\n",
      "\n",
      "sigma_e: 161.80 km/s\n"
     ]
    },
    {
     "name": "stdout",
     "output_type": "stream",
     "text": [
      "jam_axi_proj(align='sph', moment='zz') -- elapsed time sec: 1.01\n",
      "analytic_los=0 logistic=0 constant_anisotropy=1\n",
      "No PSF/pixel convolution because sigmapsf=0 pixsize=0\n",
      "inc=86.1; beta[0]=0.0; kappa=1.00; M/L=1.00; BH=0.0; chi2/DOF=nan\n",
      "Total mass MGE (MSun): 1.676e+13\n",
      "\n",
      "sigma_e: 156.37 km/s\n"
     ]
    },
    {
     "name": "stdout",
     "output_type": "stream",
     "text": [
      "jam_axi_proj(align='sph', moment='zz') -- elapsed time sec: 0.98\n",
      "analytic_los=0 logistic=0 constant_anisotropy=1\n",
      "No PSF/pixel convolution because sigmapsf=0 pixsize=0\n",
      "inc=88.5; beta[0]=0.0; kappa=1.00; M/L=1.00; BH=0.0; chi2/DOF=nan\n",
      "Total mass MGE (MSun): 1.676e+13\n",
      "\n",
      "sigma_e: 156.70 km/s\n"
     ]
    },
    {
     "name": "stdout",
     "output_type": "stream",
     "text": [
      "jam_axi_proj(align='sph', moment='zz') -- elapsed time sec: 1.01\n",
      "analytic_los=0 logistic=0 constant_anisotropy=1\n",
      "No PSF/pixel convolution because sigmapsf=0 pixsize=0\n",
      "inc=86.6; beta[0]=0.0; kappa=1.00; M/L=1.00; BH=0.0; chi2/DOF=nan\n",
      "Total mass MGE (MSun): 1.676e+13\n",
      "\n",
      "sigma_e: 162.03 km/s\n"
     ]
    },
    {
     "name": "stdout",
     "output_type": "stream",
     "text": [
      "jam_axi_proj(align='sph', moment='zz') -- elapsed time sec: 0.98\n",
      "analytic_los=0 logistic=0 constant_anisotropy=1\n",
      "No PSF/pixel convolution because sigmapsf=0 pixsize=0\n",
      "inc=63.2; beta[0]=0.0; kappa=1.00; M/L=1.00; BH=0.0; chi2/DOF=nan\n",
      "Total mass MGE (MSun): 1.676e+13\n",
      "\n",
      "sigma_e: 183.97 km/s\n"
     ]
    },
    {
     "name": "stdout",
     "output_type": "stream",
     "text": [
      "jam_axi_proj(align='sph', moment='zz') -- elapsed time sec: 1.01\n",
      "analytic_los=0 logistic=0 constant_anisotropy=1\n",
      "No PSF/pixel convolution because sigmapsf=0 pixsize=0\n",
      "inc=60.4; beta[0]=0.0; kappa=1.00; M/L=1.00; BH=0.0; chi2/DOF=nan\n",
      "Total mass MGE (MSun): 1.676e+13\n",
      "\n",
      "sigma_e: 165.57 km/s\n"
     ]
    },
    {
     "name": "stdout",
     "output_type": "stream",
     "text": [
      "jam_axi_proj(align='sph', moment='zz') -- elapsed time sec: 0.97\n",
      "analytic_los=0 logistic=0 constant_anisotropy=1\n",
      "No PSF/pixel convolution because sigmapsf=0 pixsize=0\n",
      "inc=89.5; beta[0]=0.0; kappa=1.00; M/L=1.00; BH=0.0; chi2/DOF=nan\n",
      "Total mass MGE (MSun): 1.676e+13\n",
      "\n",
      "sigma_e: 156.36 km/s\n"
     ]
    },
    {
     "name": "stdout",
     "output_type": "stream",
     "text": [
      "jam_axi_proj(align='sph', moment='zz') -- elapsed time sec: 0.99\n",
      "analytic_los=0 logistic=0 constant_anisotropy=1\n",
      "No PSF/pixel convolution because sigmapsf=0 pixsize=0\n",
      "inc=83.5; beta[0]=0.0; kappa=1.00; M/L=1.00; BH=0.0; chi2/DOF=nan\n",
      "Total mass MGE (MSun): 1.676e+13\n",
      "\n",
      "sigma_e: 157.84 km/s\n"
     ]
    },
    {
     "name": "stdout",
     "output_type": "stream",
     "text": [
      "jam_axi_proj(align='sph', moment='zz') -- elapsed time sec: 0.87\n",
      "analytic_los=0 logistic=0 constant_anisotropy=1\n",
      "No PSF/pixel convolution because sigmapsf=0 pixsize=0\n",
      "inc=35.3; beta[0]=0.0; kappa=1.00; M/L=1.00; BH=0.0; chi2/DOF=nan\n",
      "Total mass MGE (MSun): 6.900e+12\n",
      "\n",
      "sigma_e: 140.23 km/s\n"
     ]
    },
    {
     "name": "stdout",
     "output_type": "stream",
     "text": [
      "jam_axi_proj(align='sph', moment='zz') -- elapsed time sec: 0.90\n",
      "analytic_los=0 logistic=0 constant_anisotropy=1\n",
      "No PSF/pixel convolution because sigmapsf=0 pixsize=0\n",
      "inc=71.3; beta[0]=0.0; kappa=1.00; M/L=1.00; BH=0.0; chi2/DOF=nan\n",
      "Total mass MGE (MSun): 6.900e+12\n",
      "\n",
      "sigma_e: 131.18 km/s\n"
     ]
    },
    {
     "name": "stdout",
     "output_type": "stream",
     "text": [
      "jam_axi_proj(align='sph', moment='zz') -- elapsed time sec: 0.92\n",
      "analytic_los=0 logistic=0 constant_anisotropy=1\n",
      "No PSF/pixel convolution because sigmapsf=0 pixsize=0\n",
      "inc=22.5; beta[0]=0.0; kappa=1.00; M/L=1.00; BH=0.0; chi2/DOF=nan\n",
      "Total mass MGE (MSun): 6.900e+12\n",
      "\n",
      "sigma_e: 141.01 km/s\n"
     ]
    },
    {
     "name": "stdout",
     "output_type": "stream",
     "text": [
      "jam_axi_proj(align='sph', moment='zz') -- elapsed time sec: 0.88\n",
      "analytic_los=0 logistic=0 constant_anisotropy=1\n",
      "No PSF/pixel convolution because sigmapsf=0 pixsize=0\n",
      "inc=44.7; beta[0]=0.0; kappa=1.00; M/L=1.00; BH=0.0; chi2/DOF=nan\n",
      "Total mass MGE (MSun): 6.900e+12\n",
      "\n",
      "sigma_e: 137.60 km/s\n"
     ]
    },
    {
     "name": "stdout",
     "output_type": "stream",
     "text": [
      "jam_axi_proj(align='sph', moment='zz') -- elapsed time sec: 0.85\n",
      "analytic_los=0 logistic=0 constant_anisotropy=1\n",
      "No PSF/pixel convolution because sigmapsf=0 pixsize=0\n",
      "inc=41.6; beta[0]=0.0; kappa=1.00; M/L=1.00; BH=0.0; chi2/DOF=nan\n",
      "Total mass MGE (MSun): 6.900e+12\n",
      "\n",
      "sigma_e: 139.58 km/s\n"
     ]
    },
    {
     "name": "stdout",
     "output_type": "stream",
     "text": [
      "jam_axi_proj(align='sph', moment='zz') -- elapsed time sec: 0.92\n",
      "analytic_los=0 logistic=0 constant_anisotropy=1\n",
      "No PSF/pixel convolution because sigmapsf=0 pixsize=0\n",
      "inc=60.6; beta[0]=0.0; kappa=1.00; M/L=1.00; BH=0.0; chi2/DOF=nan\n",
      "Total mass MGE (MSun): 6.900e+12\n",
      "\n",
      "sigma_e: 131.90 km/s\n"
     ]
    },
    {
     "name": "stdout",
     "output_type": "stream",
     "text": [
      "jam_axi_proj(align='sph', moment='zz') -- elapsed time sec: 0.93\n",
      "analytic_los=0 logistic=0 constant_anisotropy=1\n",
      "No PSF/pixel convolution because sigmapsf=0 pixsize=0\n",
      "inc=45.9; beta[0]=0.0; kappa=1.00; M/L=1.00; BH=0.0; chi2/DOF=nan\n",
      "Total mass MGE (MSun): 6.900e+12\n",
      "\n",
      "sigma_e: 137.07 km/s\n"
     ]
    },
    {
     "name": "stdout",
     "output_type": "stream",
     "text": [
      "jam_axi_proj(align='sph', moment='zz') -- elapsed time sec: 0.93\n",
      "analytic_los=0 logistic=0 constant_anisotropy=1\n",
      "No PSF/pixel convolution because sigmapsf=0 pixsize=0\n",
      "inc=57.7; beta[0]=0.0; kappa=1.00; M/L=1.00; BH=0.0; chi2/DOF=nan\n",
      "Total mass MGE (MSun): 6.900e+12\n",
      "\n",
      "sigma_e: 132.52 km/s\n"
     ]
    },
    {
     "name": "stdout",
     "output_type": "stream",
     "text": [
      "jam_axi_proj(align='sph', moment='zz') -- elapsed time sec: 0.90\n",
      "analytic_los=0 logistic=0 constant_anisotropy=1\n",
      "No PSF/pixel convolution because sigmapsf=0 pixsize=0\n",
      "inc=46.3; beta[0]=0.0; kappa=1.00; M/L=1.00; BH=0.0; chi2/DOF=nan\n",
      "Total mass MGE (MSun): 6.900e+12\n",
      "\n",
      "sigma_e: 137.61 km/s\n"
     ]
    },
    {
     "name": "stdout",
     "output_type": "stream",
     "text": [
      "jam_axi_proj(align='sph', moment='zz') -- elapsed time sec: 0.91\n",
      "analytic_los=0 logistic=0 constant_anisotropy=1\n",
      "No PSF/pixel convolution because sigmapsf=0 pixsize=0\n",
      "inc=60.0; beta[0]=0.0; kappa=1.00; M/L=1.00; BH=0.0; chi2/DOF=nan\n",
      "Total mass MGE (MSun): 6.900e+12\n",
      "\n",
      "sigma_e: 133.48 km/s\n"
     ]
    },
    {
     "name": "stdout",
     "output_type": "stream",
     "text": [
      "jam_axi_proj(align='sph', moment='zz') -- elapsed time sec: 0.96\n",
      "analytic_los=0 logistic=0 constant_anisotropy=1\n",
      "No PSF/pixel convolution because sigmapsf=0 pixsize=0\n",
      "inc=85.2; beta[0]=0.0; kappa=1.00; M/L=1.00; BH=0.0; chi2/DOF=nan\n",
      "Total mass MGE (MSun): 1.036e+13\n",
      "\n",
      "sigma_e: 147.42 km/s\n"
     ]
    },
    {
     "name": "stdout",
     "output_type": "stream",
     "text": [
      "jam_axi_proj(align='sph', moment='zz') -- elapsed time sec: 0.97\n",
      "analytic_los=0 logistic=0 constant_anisotropy=1\n",
      "No PSF/pixel convolution because sigmapsf=0 pixsize=0\n",
      "inc=82.9; beta[0]=0.0; kappa=1.00; M/L=1.00; BH=0.0; chi2/DOF=nan\n",
      "Total mass MGE (MSun): 1.036e+13\n",
      "\n",
      "sigma_e: 142.33 km/s\n"
     ]
    },
    {
     "name": "stdout",
     "output_type": "stream",
     "text": [
      "jam_axi_proj(align='sph', moment='zz') -- elapsed time sec: 0.99\n",
      "analytic_los=0 logistic=0 constant_anisotropy=1\n",
      "No PSF/pixel convolution because sigmapsf=0 pixsize=0\n",
      "inc=73.7; beta[0]=0.0; kappa=1.00; M/L=1.00; BH=0.0; chi2/DOF=nan\n",
      "Total mass MGE (MSun): 1.036e+13\n",
      "\n",
      "sigma_e: 146.26 km/s\n"
     ]
    },
    {
     "name": "stdout",
     "output_type": "stream",
     "text": [
      "jam_axi_proj(align='sph', moment='zz') -- elapsed time sec: 0.97\n",
      "analytic_los=0 logistic=0 constant_anisotropy=1\n",
      "No PSF/pixel convolution because sigmapsf=0 pixsize=0\n",
      "inc=82.7; beta[0]=0.0; kappa=1.00; M/L=1.00; BH=0.0; chi2/DOF=nan\n",
      "Total mass MGE (MSun): 1.036e+13\n",
      "\n",
      "sigma_e: 141.20 km/s\n"
     ]
    },
    {
     "name": "stdout",
     "output_type": "stream",
     "text": [
      "jam_axi_proj(align='sph', moment='zz') -- elapsed time sec: 0.94\n",
      "analytic_los=0 logistic=0 constant_anisotropy=1\n",
      "No PSF/pixel convolution because sigmapsf=0 pixsize=0\n",
      "inc=81.1; beta[0]=0.0; kappa=1.00; M/L=1.00; BH=0.0; chi2/DOF=nan\n",
      "Total mass MGE (MSun): 1.036e+13\n",
      "\n",
      "sigma_e: 158.75 km/s\n"
     ]
    },
    {
     "name": "stdout",
     "output_type": "stream",
     "text": [
      "jam_axi_proj(align='sph', moment='zz') -- elapsed time sec: 1.00\n",
      "analytic_los=0 logistic=0 constant_anisotropy=1\n",
      "No PSF/pixel convolution because sigmapsf=0 pixsize=0\n",
      "inc=74.4; beta[0]=0.0; kappa=1.00; M/L=1.00; BH=0.0; chi2/DOF=nan\n",
      "Total mass MGE (MSun): 1.036e+13\n",
      "\n",
      "sigma_e: 152.32 km/s\n"
     ]
    },
    {
     "name": "stdout",
     "output_type": "stream",
     "text": [
      "jam_axi_proj(align='sph', moment='zz') -- elapsed time sec: 0.98\n",
      "analytic_los=0 logistic=0 constant_anisotropy=1\n",
      "No PSF/pixel convolution because sigmapsf=0 pixsize=0\n",
      "inc=74.6; beta[0]=0.0; kappa=1.00; M/L=1.00; BH=0.0; chi2/DOF=nan\n",
      "Total mass MGE (MSun): 1.036e+13\n",
      "\n",
      "sigma_e: 139.02 km/s\n"
     ]
    },
    {
     "name": "stdout",
     "output_type": "stream",
     "text": [
      "jam_axi_proj(align='sph', moment='zz') -- elapsed time sec: 0.98\n",
      "analytic_los=0 logistic=0 constant_anisotropy=1\n",
      "No PSF/pixel convolution because sigmapsf=0 pixsize=0\n",
      "inc=84.1; beta[0]=0.0; kappa=1.00; M/L=1.00; BH=0.0; chi2/DOF=nan\n",
      "Total mass MGE (MSun): 1.036e+13\n",
      "\n",
      "sigma_e: 140.19 km/s\n"
     ]
    },
    {
     "name": "stdout",
     "output_type": "stream",
     "text": [
      "jam_axi_proj(align='sph', moment='zz') -- elapsed time sec: 0.93\n",
      "analytic_los=0 logistic=0 constant_anisotropy=1\n",
      "No PSF/pixel convolution because sigmapsf=0 pixsize=0\n",
      "inc=75.7; beta[0]=0.0; kappa=1.00; M/L=1.00; BH=0.0; chi2/DOF=nan\n",
      "Total mass MGE (MSun): 1.036e+13\n",
      "\n",
      "sigma_e: 149.19 km/s\n"
     ]
    },
    {
     "name": "stdout",
     "output_type": "stream",
     "text": [
      "jam_axi_proj(align='sph', moment='zz') -- elapsed time sec: 0.94\n",
      "analytic_los=0 logistic=0 constant_anisotropy=1\n",
      "No PSF/pixel convolution because sigmapsf=0 pixsize=0\n",
      "inc=42.9; beta[0]=0.0; kappa=1.00; M/L=1.00; BH=0.0; chi2/DOF=nan\n",
      "Total mass MGE (MSun): 1.036e+13\n",
      "\n",
      "sigma_e: 165.35 km/s\n"
     ]
    },
    {
     "name": "stdout",
     "output_type": "stream",
     "text": [
      "jam_axi_proj(align='sph', moment='zz') -- elapsed time sec: 1.03\n",
      "analytic_los=0 logistic=0 constant_anisotropy=1\n",
      "No PSF/pixel convolution because sigmapsf=0 pixsize=0\n",
      "inc=71.5; beta[0]=0.0; kappa=1.00; M/L=1.00; BH=0.0; chi2/DOF=nan\n",
      "Total mass MGE (MSun): 1.024e+13\n",
      "\n",
      "sigma_e: 159.09 km/s\n"
     ]
    },
    {
     "name": "stdout",
     "output_type": "stream",
     "text": [
      "jam_axi_proj(align='sph', moment='zz') -- elapsed time sec: 1.01\n",
      "analytic_los=0 logistic=0 constant_anisotropy=1\n",
      "No PSF/pixel convolution because sigmapsf=0 pixsize=0\n",
      "inc=87.2; beta[0]=0.0; kappa=1.00; M/L=1.00; BH=0.0; chi2/DOF=nan\n",
      "Total mass MGE (MSun): 1.024e+13\n",
      "\n",
      "sigma_e: 137.25 km/s\n"
     ]
    },
    {
     "name": "stdout",
     "output_type": "stream",
     "text": [
      "jam_axi_proj(align='sph', moment='zz') -- elapsed time sec: 0.98\n",
      "analytic_los=0 logistic=0 constant_anisotropy=1\n",
      "No PSF/pixel convolution because sigmapsf=0 pixsize=0\n",
      "inc=70.5; beta[0]=0.0; kappa=1.00; M/L=1.00; BH=0.0; chi2/DOF=nan\n",
      "Total mass MGE (MSun): 1.024e+13\n",
      "\n",
      "sigma_e: 146.12 km/s\n"
     ]
    },
    {
     "name": "stdout",
     "output_type": "stream",
     "text": [
      "jam_axi_proj(align='sph', moment='zz') -- elapsed time sec: 1.00\n",
      "analytic_los=0 logistic=0 constant_anisotropy=1\n",
      "No PSF/pixel convolution because sigmapsf=0 pixsize=0\n",
      "inc=87.3; beta[0]=0.0; kappa=1.00; M/L=1.00; BH=0.0; chi2/DOF=nan\n",
      "Total mass MGE (MSun): 1.024e+13\n",
      "\n",
      "sigma_e: 159.75 km/s\n"
     ]
    },
    {
     "name": "stdout",
     "output_type": "stream",
     "text": [
      "jam_axi_proj(align='sph', moment='zz') -- elapsed time sec: 1.02\n",
      "analytic_los=0 logistic=0 constant_anisotropy=1\n",
      "No PSF/pixel convolution because sigmapsf=0 pixsize=0\n",
      "inc=71.8; beta[0]=0.0; kappa=1.00; M/L=1.00; BH=0.0; chi2/DOF=nan\n",
      "Total mass MGE (MSun): 1.024e+13\n",
      "\n",
      "sigma_e: 161.66 km/s\n"
     ]
    },
    {
     "name": "stdout",
     "output_type": "stream",
     "text": [
      "jam_axi_proj(align='sph', moment='zz') -- elapsed time sec: 0.92\n",
      "analytic_los=0 logistic=0 constant_anisotropy=1\n",
      "No PSF/pixel convolution because sigmapsf=0 pixsize=0\n",
      "inc=86.6; beta[0]=0.0; kappa=1.00; M/L=1.00; BH=0.0; chi2/DOF=nan\n",
      "Total mass MGE (MSun): 1.024e+13\n",
      "\n",
      "sigma_e: 134.98 km/s\n"
     ]
    },
    {
     "name": "stdout",
     "output_type": "stream",
     "text": [
      "jam_axi_proj(align='sph', moment='zz') -- elapsed time sec: 1.03\n",
      "analytic_los=0 logistic=0 constant_anisotropy=1\n",
      "No PSF/pixel convolution because sigmapsf=0 pixsize=0\n",
      "inc=73.5; beta[0]=0.0; kappa=1.00; M/L=1.00; BH=0.0; chi2/DOF=nan\n",
      "Total mass MGE (MSun): 1.024e+13\n",
      "\n",
      "sigma_e: 138.59 km/s\n"
     ]
    },
    {
     "name": "stdout",
     "output_type": "stream",
     "text": [
      "jam_axi_proj(align='sph', moment='zz') -- elapsed time sec: 0.93\n",
      "analytic_los=0 logistic=0 constant_anisotropy=1\n",
      "No PSF/pixel convolution because sigmapsf=0 pixsize=0\n",
      "inc=90.0; beta[0]=0.0; kappa=1.00; M/L=1.00; BH=0.0; chi2/DOF=nan\n",
      "Total mass MGE (MSun): 1.024e+13\n",
      "\n",
      "sigma_e: 128.53 km/s\n"
     ]
    },
    {
     "name": "stdout",
     "output_type": "stream",
     "text": [
      "jam_axi_proj(align='sph', moment='zz') -- elapsed time sec: 0.95\n",
      "analytic_los=0 logistic=0 constant_anisotropy=1\n",
      "No PSF/pixel convolution because sigmapsf=0 pixsize=0\n",
      "inc=51.8; beta[0]=0.0; kappa=1.00; M/L=1.00; BH=0.0; chi2/DOF=nan\n",
      "Total mass MGE (MSun): 1.024e+13\n",
      "\n",
      "sigma_e: 157.40 km/s\n"
     ]
    },
    {
     "name": "stdout",
     "output_type": "stream",
     "text": [
      "jam_axi_proj(align='sph', moment='zz') -- elapsed time sec: 1.01\n",
      "analytic_los=0 logistic=0 constant_anisotropy=1\n",
      "No PSF/pixel convolution because sigmapsf=0 pixsize=0\n",
      "inc=80.9; beta[0]=0.0; kappa=1.00; M/L=1.00; BH=0.0; chi2/DOF=nan\n",
      "Total mass MGE (MSun): 1.024e+13\n",
      "\n",
      "sigma_e: 140.63 km/s\n"
     ]
    },
    {
     "name": "stdout",
     "output_type": "stream",
     "text": [
      "jam_axi_proj(align='sph', moment='zz') -- elapsed time sec: 0.92\n",
      "analytic_los=0 logistic=0 constant_anisotropy=1\n",
      "No PSF/pixel convolution because sigmapsf=0 pixsize=0\n",
      "inc=64.0; beta[0]=0.0; kappa=1.00; M/L=1.00; BH=0.0; chi2/DOF=nan\n",
      "Total mass MGE (MSun): 2.271e+13\n",
      "\n",
      "sigma_e: 184.67 km/s\n"
     ]
    },
    {
     "name": "stdout",
     "output_type": "stream",
     "text": [
      "jam_axi_proj(align='sph', moment='zz') -- elapsed time sec: 0.96\n",
      "analytic_los=0 logistic=0 constant_anisotropy=1\n",
      "No PSF/pixel convolution because sigmapsf=0 pixsize=0\n",
      "inc=76.6; beta[0]=0.0; kappa=1.00; M/L=1.00; BH=0.0; chi2/DOF=nan\n",
      "Total mass MGE (MSun): 2.271e+13\n",
      "\n",
      "sigma_e: 183.64 km/s\n"
     ]
    },
    {
     "name": "stdout",
     "output_type": "stream",
     "text": [
      "jam_axi_proj(align='sph', moment='zz') -- elapsed time sec: 0.95\n",
      "analytic_los=0 logistic=0 constant_anisotropy=1\n",
      "No PSF/pixel convolution because sigmapsf=0 pixsize=0\n",
      "inc=63.6; beta[0]=0.0; kappa=1.00; M/L=1.00; BH=0.0; chi2/DOF=nan\n",
      "Total mass MGE (MSun): 2.271e+13\n",
      "\n",
      "sigma_e: 181.89 km/s\n"
     ]
    },
    {
     "name": "stdout",
     "output_type": "stream",
     "text": [
      "jam_axi_proj(align='sph', moment='zz') -- elapsed time sec: 0.90\n",
      "analytic_los=0 logistic=0 constant_anisotropy=1\n",
      "No PSF/pixel convolution because sigmapsf=0 pixsize=0\n",
      "inc=86.3; beta[0]=0.0; kappa=1.00; M/L=1.00; BH=0.0; chi2/DOF=nan\n",
      "Total mass MGE (MSun): 2.271e+13\n",
      "\n",
      "sigma_e: 174.23 km/s\n"
     ]
    },
    {
     "name": "stdout",
     "output_type": "stream",
     "text": [
      "jam_axi_proj(align='sph', moment='zz') -- elapsed time sec: 0.95\n",
      "analytic_los=0 logistic=0 constant_anisotropy=1\n",
      "No PSF/pixel convolution because sigmapsf=0 pixsize=0\n",
      "inc=80.0; beta[0]=0.0; kappa=1.00; M/L=1.00; BH=0.0; chi2/DOF=nan\n",
      "Total mass MGE (MSun): 2.271e+13\n",
      "\n",
      "sigma_e: 186.66 km/s\n"
     ]
    },
    {
     "name": "stdout",
     "output_type": "stream",
     "text": [
      "jam_axi_proj(align='sph', moment='zz') -- elapsed time sec: 0.80\n",
      "analytic_los=0 logistic=0 constant_anisotropy=1\n",
      "No PSF/pixel convolution because sigmapsf=0 pixsize=0\n",
      "inc=54.7; beta[0]=0.0; kappa=1.00; M/L=1.00; BH=0.0; chi2/DOF=nan\n",
      "Total mass MGE (MSun): 2.271e+13\n",
      "\n",
      "sigma_e: 190.69 km/s\n"
     ]
    },
    {
     "name": "stdout",
     "output_type": "stream",
     "text": [
      "jam_axi_proj(align='sph', moment='zz') -- elapsed time sec: 0.89\n",
      "analytic_los=0 logistic=0 constant_anisotropy=1\n",
      "No PSF/pixel convolution because sigmapsf=0 pixsize=0\n",
      "inc=82.4; beta[0]=0.0; kappa=1.00; M/L=1.00; BH=0.0; chi2/DOF=nan\n",
      "Total mass MGE (MSun): 2.271e+13\n",
      "\n",
      "sigma_e: 192.26 km/s\n"
     ]
    },
    {
     "name": "stdout",
     "output_type": "stream",
     "text": [
      "jam_axi_proj(align='sph', moment='zz') -- elapsed time sec: 0.93\n",
      "analytic_los=0 logistic=0 constant_anisotropy=1\n",
      "No PSF/pixel convolution because sigmapsf=0 pixsize=0\n",
      "inc=50.5; beta[0]=0.0; kappa=1.00; M/L=1.00; BH=0.0; chi2/DOF=nan\n",
      "Total mass MGE (MSun): 2.271e+13\n",
      "\n",
      "sigma_e: 182.47 km/s\n"
     ]
    },
    {
     "name": "stdout",
     "output_type": "stream",
     "text": [
      "jam_axi_proj(align='sph', moment='zz') -- elapsed time sec: 0.91\n",
      "analytic_los=0 logistic=0 constant_anisotropy=1\n",
      "No PSF/pixel convolution because sigmapsf=0 pixsize=0\n",
      "inc=51.6; beta[0]=0.0; kappa=1.00; M/L=1.00; BH=0.0; chi2/DOF=nan\n",
      "Total mass MGE (MSun): 2.271e+13\n",
      "\n",
      "sigma_e: 187.43 km/s\n"
     ]
    },
    {
     "name": "stdout",
     "output_type": "stream",
     "text": [
      "jam_axi_proj(align='sph', moment='zz') -- elapsed time sec: 0.90\n",
      "analytic_los=0 logistic=0 constant_anisotropy=1\n",
      "No PSF/pixel convolution because sigmapsf=0 pixsize=0\n",
      "inc=33.4; beta[0]=0.0; kappa=1.00; M/L=1.00; BH=0.0; chi2/DOF=nan\n",
      "Total mass MGE (MSun): 2.271e+13\n",
      "\n",
      "sigma_e: 190.18 km/s\n"
     ]
    },
    {
     "name": "stdout",
     "output_type": "stream",
     "text": [
      "jam_axi_proj(align='sph', moment='zz') -- elapsed time sec: 0.93\n",
      "analytic_los=0 logistic=0 constant_anisotropy=1\n",
      "No PSF/pixel convolution because sigmapsf=0 pixsize=0\n",
      "inc=86.7; beta[0]=0.0; kappa=1.00; M/L=1.00; BH=0.0; chi2/DOF=nan\n",
      "Total mass MGE (MSun): 1.045e+13\n",
      "\n",
      "sigma_e: 142.88 km/s\n"
     ]
    },
    {
     "name": "stdout",
     "output_type": "stream",
     "text": [
      "jam_axi_proj(align='sph', moment='zz') -- elapsed time sec: 0.96\n",
      "analytic_los=0 logistic=0 constant_anisotropy=1\n",
      "No PSF/pixel convolution because sigmapsf=0 pixsize=0\n",
      "inc=82.3; beta[0]=0.0; kappa=1.00; M/L=1.00; BH=0.0; chi2/DOF=nan\n",
      "Total mass MGE (MSun): 1.045e+13\n",
      "\n",
      "sigma_e: 138.84 km/s\n"
     ]
    },
    {
     "name": "stdout",
     "output_type": "stream",
     "text": [
      "jam_axi_proj(align='sph', moment='zz') -- elapsed time sec: 0.92\n",
      "analytic_los=0 logistic=0 constant_anisotropy=1\n",
      "No PSF/pixel convolution because sigmapsf=0 pixsize=0\n",
      "inc=57.8; beta[0]=0.0; kappa=1.00; M/L=1.00; BH=0.0; chi2/DOF=nan\n",
      "Total mass MGE (MSun): 1.045e+13\n",
      "\n",
      "sigma_e: 152.21 km/s\n"
     ]
    },
    {
     "name": "stdout",
     "output_type": "stream",
     "text": [
      "jam_axi_proj(align='sph', moment='zz') -- elapsed time sec: 1.06\n",
      "analytic_los=0 logistic=0 constant_anisotropy=1\n",
      "No PSF/pixel convolution because sigmapsf=0 pixsize=0\n",
      "inc=72.8; beta[0]=0.0; kappa=1.00; M/L=1.00; BH=0.0; chi2/DOF=nan\n",
      "Total mass MGE (MSun): 1.045e+13\n",
      "\n",
      "sigma_e: 140.87 km/s\n"
     ]
    },
    {
     "name": "stdout",
     "output_type": "stream",
     "text": [
      "jam_axi_proj(align='sph', moment='zz') -- elapsed time sec: 0.97\n",
      "analytic_los=0 logistic=0 constant_anisotropy=1\n",
      "No PSF/pixel convolution because sigmapsf=0 pixsize=0\n",
      "inc=70.6; beta[0]=0.0; kappa=1.00; M/L=1.00; BH=0.0; chi2/DOF=nan\n",
      "Total mass MGE (MSun): 1.045e+13\n",
      "\n",
      "sigma_e: 149.39 km/s\n"
     ]
    },
    {
     "name": "stdout",
     "output_type": "stream",
     "text": [
      "jam_axi_proj(align='sph', moment='zz') -- elapsed time sec: 0.97\n",
      "analytic_los=0 logistic=0 constant_anisotropy=1\n",
      "No PSF/pixel convolution because sigmapsf=0 pixsize=0\n",
      "inc=89.2; beta[0]=0.0; kappa=1.00; M/L=1.00; BH=0.0; chi2/DOF=nan\n",
      "Total mass MGE (MSun): 1.045e+13\n",
      "\n",
      "sigma_e: 140.66 km/s\n"
     ]
    },
    {
     "name": "stdout",
     "output_type": "stream",
     "text": [
      "jam_axi_proj(align='sph', moment='zz') -- elapsed time sec: 1.07\n",
      "analytic_los=0 logistic=0 constant_anisotropy=1\n",
      "No PSF/pixel convolution because sigmapsf=0 pixsize=0\n",
      "inc=68.9; beta[0]=0.0; kappa=1.00; M/L=1.00; BH=0.0; chi2/DOF=nan\n",
      "Total mass MGE (MSun): 1.045e+13\n",
      "\n",
      "sigma_e: 142.30 km/s\n"
     ]
    },
    {
     "name": "stdout",
     "output_type": "stream",
     "text": [
      "jam_axi_proj(align='sph', moment='zz') -- elapsed time sec: 0.91\n",
      "analytic_los=0 logistic=0 constant_anisotropy=1\n",
      "No PSF/pixel convolution because sigmapsf=0 pixsize=0\n",
      "inc=81.5; beta[0]=0.0; kappa=1.00; M/L=1.00; BH=0.0; chi2/DOF=nan\n",
      "Total mass MGE (MSun): 1.045e+13\n",
      "\n",
      "sigma_e: 153.96 km/s\n"
     ]
    },
    {
     "name": "stdout",
     "output_type": "stream",
     "text": [
      "jam_axi_proj(align='sph', moment='zz') -- elapsed time sec: 0.94\n",
      "analytic_los=0 logistic=0 constant_anisotropy=1\n",
      "No PSF/pixel convolution because sigmapsf=0 pixsize=0\n",
      "inc=69.3; beta[0]=0.0; kappa=1.00; M/L=1.00; BH=0.0; chi2/DOF=nan\n",
      "Total mass MGE (MSun): 1.045e+13\n",
      "\n",
      "sigma_e: 147.07 km/s\n"
     ]
    },
    {
     "name": "stdout",
     "output_type": "stream",
     "text": [
      "jam_axi_proj(align='sph', moment='zz') -- elapsed time sec: 0.92\n",
      "analytic_los=0 logistic=0 constant_anisotropy=1\n",
      "No PSF/pixel convolution because sigmapsf=0 pixsize=0\n",
      "inc=87.6; beta[0]=0.0; kappa=1.00; M/L=1.00; BH=0.0; chi2/DOF=nan\n",
      "Total mass MGE (MSun): 1.045e+13\n",
      "\n",
      "sigma_e: 150.51 km/s\n"
     ]
    },
    {
     "name": "stdout",
     "output_type": "stream",
     "text": [
      "jam_axi_proj(align='sph', moment='zz') -- elapsed time sec: 0.94\n",
      "analytic_los=0 logistic=0 constant_anisotropy=1\n",
      "No PSF/pixel convolution because sigmapsf=0 pixsize=0\n",
      "inc=74.5; beta[0]=0.0; kappa=1.00; M/L=1.00; BH=0.0; chi2/DOF=nan\n",
      "Total mass MGE (MSun): 8.179e+12\n",
      "\n",
      "sigma_e: 127.51 km/s\n"
     ]
    },
    {
     "name": "stdout",
     "output_type": "stream",
     "text": [
      "jam_axi_proj(align='sph', moment='zz') -- elapsed time sec: 0.96\n",
      "analytic_los=0 logistic=0 constant_anisotropy=1\n",
      "No PSF/pixel convolution because sigmapsf=0 pixsize=0\n",
      "inc=84.3; beta[0]=0.0; kappa=1.00; M/L=1.00; BH=0.0; chi2/DOF=nan\n",
      "Total mass MGE (MSun): 8.179e+12\n",
      "\n",
      "sigma_e: 125.67 km/s\n"
     ]
    },
    {
     "name": "stdout",
     "output_type": "stream",
     "text": [
      "jam_axi_proj(align='sph', moment='zz') -- elapsed time sec: 1.01\n",
      "analytic_los=0 logistic=0 constant_anisotropy=1\n",
      "No PSF/pixel convolution because sigmapsf=0 pixsize=0\n",
      "inc=85.5; beta[0]=0.0; kappa=1.00; M/L=1.00; BH=0.0; chi2/DOF=nan\n",
      "Total mass MGE (MSun): 8.179e+12\n",
      "\n",
      "sigma_e: 139.55 km/s\n"
     ]
    },
    {
     "name": "stdout",
     "output_type": "stream",
     "text": [
      "jam_axi_proj(align='sph', moment='zz') -- elapsed time sec: 0.98\n",
      "analytic_los=0 logistic=0 constant_anisotropy=1\n",
      "No PSF/pixel convolution because sigmapsf=0 pixsize=0\n",
      "inc=74.1; beta[0]=0.0; kappa=1.00; M/L=1.00; BH=0.0; chi2/DOF=nan\n",
      "Total mass MGE (MSun): 8.179e+12\n",
      "\n",
      "sigma_e: 140.91 km/s\n"
     ]
    },
    {
     "name": "stdout",
     "output_type": "stream",
     "text": [
      "jam_axi_proj(align='sph', moment='zz') -- elapsed time sec: 0.96\n",
      "analytic_los=0 logistic=0 constant_anisotropy=1\n",
      "No PSF/pixel convolution because sigmapsf=0 pixsize=0\n",
      "inc=88.0; beta[0]=0.0; kappa=1.00; M/L=1.00; BH=0.0; chi2/DOF=nan\n",
      "Total mass MGE (MSun): 8.179e+12\n",
      "\n",
      "sigma_e: 138.15 km/s\n"
     ]
    },
    {
     "name": "stdout",
     "output_type": "stream",
     "text": [
      "jam_axi_proj(align='sph', moment='zz') -- elapsed time sec: 1.00\n",
      "analytic_los=0 logistic=0 constant_anisotropy=1\n",
      "No PSF/pixel convolution because sigmapsf=0 pixsize=0\n",
      "inc=51.5; beta[0]=0.0; kappa=1.00; M/L=1.00; BH=0.0; chi2/DOF=nan\n",
      "Total mass MGE (MSun): 8.179e+12\n",
      "\n",
      "sigma_e: 155.16 km/s\n"
     ]
    },
    {
     "name": "stdout",
     "output_type": "stream",
     "text": [
      "jam_axi_proj(align='sph', moment='zz') -- elapsed time sec: 0.90\n",
      "analytic_los=0 logistic=0 constant_anisotropy=1\n",
      "No PSF/pixel convolution because sigmapsf=0 pixsize=0\n",
      "inc=24.5; beta[0]=0.0; kappa=1.00; M/L=1.00; BH=0.0; chi2/DOF=nan\n",
      "Total mass MGE (MSun): 8.179e+12\n",
      "\n",
      "sigma_e: 154.63 km/s\n"
     ]
    },
    {
     "name": "stdout",
     "output_type": "stream",
     "text": [
      "jam_axi_proj(align='sph', moment='zz') -- elapsed time sec: 1.00\n",
      "analytic_los=0 logistic=0 constant_anisotropy=1\n",
      "No PSF/pixel convolution because sigmapsf=0 pixsize=0\n",
      "inc=86.9; beta[0]=0.0; kappa=1.00; M/L=1.00; BH=0.0; chi2/DOF=nan\n",
      "Total mass MGE (MSun): 8.179e+12\n",
      "\n",
      "sigma_e: 143.41 km/s\n"
     ]
    },
    {
     "name": "stdout",
     "output_type": "stream",
     "text": [
      "jam_axi_proj(align='sph', moment='zz') -- elapsed time sec: 0.97\n",
      "analytic_los=0 logistic=0 constant_anisotropy=1\n",
      "No PSF/pixel convolution because sigmapsf=0 pixsize=0\n",
      "inc=85.8; beta[0]=0.0; kappa=1.00; M/L=1.00; BH=0.0; chi2/DOF=nan\n",
      "Total mass MGE (MSun): 8.179e+12\n",
      "\n",
      "sigma_e: 129.23 km/s\n"
     ]
    },
    {
     "name": "stdout",
     "output_type": "stream",
     "text": [
      "jam_axi_proj(align='sph', moment='zz') -- elapsed time sec: 1.03\n",
      "analytic_los=0 logistic=0 constant_anisotropy=1\n",
      "No PSF/pixel convolution because sigmapsf=0 pixsize=0\n",
      "inc=71.7; beta[0]=0.0; kappa=1.00; M/L=1.00; BH=0.0; chi2/DOF=nan\n",
      "Total mass MGE (MSun): 8.179e+12\n",
      "\n",
      "sigma_e: 132.97 km/s\n"
     ]
    },
    {
     "name": "stdout",
     "output_type": "stream",
     "text": [
      "jam_axi_proj(align='sph', moment='zz') -- elapsed time sec: 0.91\n",
      "analytic_los=0 logistic=0 constant_anisotropy=1\n",
      "No PSF/pixel convolution because sigmapsf=0 pixsize=0\n",
      "inc=43.5; beta[0]=0.0; kappa=1.00; M/L=1.00; BH=0.0; chi2/DOF=nan\n",
      "Total mass MGE (MSun): 8.216e+12\n",
      "\n",
      "sigma_e: 151.13 km/s\n"
     ]
    },
    {
     "name": "stdout",
     "output_type": "stream",
     "text": [
      "jam_axi_proj(align='sph', moment='zz') -- elapsed time sec: 0.96\n",
      "analytic_los=0 logistic=0 constant_anisotropy=1\n",
      "No PSF/pixel convolution because sigmapsf=0 pixsize=0\n",
      "inc=86.3; beta[0]=0.0; kappa=1.00; M/L=1.00; BH=0.0; chi2/DOF=nan\n",
      "Total mass MGE (MSun): 8.216e+12\n",
      "\n",
      "sigma_e: 137.59 km/s\n"
     ]
    },
    {
     "name": "stdout",
     "output_type": "stream",
     "text": [
      "jam_axi_proj(align='sph', moment='zz') -- elapsed time sec: 0.96\n",
      "analytic_los=0 logistic=0 constant_anisotropy=1\n",
      "No PSF/pixel convolution because sigmapsf=0 pixsize=0\n",
      "inc=73.5; beta[0]=0.0; kappa=1.00; M/L=1.00; BH=0.0; chi2/DOF=nan\n",
      "Total mass MGE (MSun): 8.216e+12\n",
      "\n",
      "sigma_e: 139.74 km/s\n"
     ]
    },
    {
     "name": "stdout",
     "output_type": "stream",
     "text": [
      "jam_axi_proj(align='sph', moment='zz') -- elapsed time sec: 0.91\n",
      "analytic_los=0 logistic=0 constant_anisotropy=1\n",
      "No PSF/pixel convolution because sigmapsf=0 pixsize=0\n",
      "inc=65.4; beta[0]=0.0; kappa=1.00; M/L=1.00; BH=0.0; chi2/DOF=nan\n",
      "Total mass MGE (MSun): 8.216e+12\n",
      "\n",
      "sigma_e: 147.39 km/s\n"
     ]
    },
    {
     "name": "stdout",
     "output_type": "stream",
     "text": [
      "jam_axi_proj(align='sph', moment='zz') -- elapsed time sec: 0.98\n",
      "analytic_los=0 logistic=0 constant_anisotropy=1\n",
      "No PSF/pixel convolution because sigmapsf=0 pixsize=0\n",
      "inc=85.7; beta[0]=0.0; kappa=1.00; M/L=1.00; BH=0.0; chi2/DOF=nan\n",
      "Total mass MGE (MSun): 8.216e+12\n",
      "\n",
      "sigma_e: 136.08 km/s\n"
     ]
    },
    {
     "name": "stdout",
     "output_type": "stream",
     "text": [
      "jam_axi_proj(align='sph', moment='zz') -- elapsed time sec: 0.97\n",
      "analytic_los=0 logistic=0 constant_anisotropy=1\n",
      "No PSF/pixel convolution because sigmapsf=0 pixsize=0\n",
      "inc=78.9; beta[0]=0.0; kappa=1.00; M/L=1.00; BH=0.0; chi2/DOF=nan\n",
      "Total mass MGE (MSun): 8.216e+12\n",
      "\n",
      "sigma_e: 134.61 km/s\n"
     ]
    },
    {
     "name": "stdout",
     "output_type": "stream",
     "text": [
      "jam_axi_proj(align='sph', moment='zz') -- elapsed time sec: 0.92\n",
      "analytic_los=0 logistic=0 constant_anisotropy=1\n",
      "No PSF/pixel convolution because sigmapsf=0 pixsize=0\n",
      "inc=73.8; beta[0]=0.0; kappa=1.00; M/L=1.00; BH=0.0; chi2/DOF=nan\n",
      "Total mass MGE (MSun): 8.216e+12\n",
      "\n",
      "sigma_e: 142.49 km/s\n"
     ]
    },
    {
     "name": "stdout",
     "output_type": "stream",
     "text": [
      "jam_axi_proj(align='sph', moment='zz') -- elapsed time sec: 0.98\n",
      "analytic_los=0 logistic=0 constant_anisotropy=1\n",
      "No PSF/pixel convolution because sigmapsf=0 pixsize=0\n",
      "inc=80.5; beta[0]=0.0; kappa=1.00; M/L=1.00; BH=0.0; chi2/DOF=nan\n",
      "Total mass MGE (MSun): 8.216e+12\n",
      "\n",
      "sigma_e: 134.12 km/s\n"
     ]
    },
    {
     "name": "stdout",
     "output_type": "stream",
     "text": [
      "jam_axi_proj(align='sph', moment='zz') -- elapsed time sec: 0.98\n",
      "analytic_los=0 logistic=0 constant_anisotropy=1\n",
      "No PSF/pixel convolution because sigmapsf=0 pixsize=0\n",
      "inc=74.7; beta[0]=0.0; kappa=1.00; M/L=1.00; BH=0.0; chi2/DOF=nan\n",
      "Total mass MGE (MSun): 8.216e+12\n",
      "\n",
      "sigma_e: 137.60 km/s\n"
     ]
    },
    {
     "name": "stdout",
     "output_type": "stream",
     "text": [
      "jam_axi_proj(align='sph', moment='zz') -- elapsed time sec: 0.89\n",
      "analytic_los=0 logistic=0 constant_anisotropy=1\n",
      "No PSF/pixel convolution because sigmapsf=0 pixsize=0\n",
      "inc=37.4; beta[0]=0.0; kappa=1.00; M/L=1.00; BH=0.0; chi2/DOF=nan\n",
      "Total mass MGE (MSun): 8.216e+12\n",
      "\n",
      "sigma_e: 150.69 km/s\n"
     ]
    },
    {
     "name": "stdout",
     "output_type": "stream",
     "text": [
      "jam_axi_proj(align='sph', moment='zz') -- elapsed time sec: 0.94\n",
      "analytic_los=0 logistic=0 constant_anisotropy=1\n",
      "No PSF/pixel convolution because sigmapsf=0 pixsize=0\n",
      "inc=44.5; beta[0]=0.0; kappa=1.00; M/L=1.00; BH=0.0; chi2/DOF=nan\n",
      "Total mass MGE (MSun): 9.703e+12\n",
      "\n",
      "sigma_e: 154.13 km/s\n"
     ]
    },
    {
     "name": "stdout",
     "output_type": "stream",
     "text": [
      "jam_axi_proj(align='sph', moment='zz') -- elapsed time sec: 0.96\n",
      "analytic_los=0 logistic=0 constant_anisotropy=1\n",
      "No PSF/pixel convolution because sigmapsf=0 pixsize=0\n",
      "inc=55.6; beta[0]=0.0; kappa=1.00; M/L=1.00; BH=0.0; chi2/DOF=nan\n",
      "Total mass MGE (MSun): 9.703e+12\n",
      "\n",
      "sigma_e: 157.25 km/s\n"
     ]
    },
    {
     "name": "stdout",
     "output_type": "stream",
     "text": [
      "jam_axi_proj(align='sph', moment='zz') -- elapsed time sec: 0.96\n",
      "analytic_los=0 logistic=0 constant_anisotropy=1\n",
      "No PSF/pixel convolution because sigmapsf=0 pixsize=0\n",
      "inc=77.4; beta[0]=0.0; kappa=1.00; M/L=1.00; BH=0.0; chi2/DOF=nan\n",
      "Total mass MGE (MSun): 9.703e+12\n",
      "\n",
      "sigma_e: 141.90 km/s\n"
     ]
    },
    {
     "name": "stdout",
     "output_type": "stream",
     "text": [
      "jam_axi_proj(align='sph', moment='zz') -- elapsed time sec: 0.95\n",
      "analytic_los=0 logistic=0 constant_anisotropy=1\n",
      "No PSF/pixel convolution because sigmapsf=0 pixsize=0\n",
      "inc=71.2; beta[0]=0.0; kappa=1.00; M/L=1.00; BH=0.0; chi2/DOF=nan\n",
      "Total mass MGE (MSun): 9.703e+12\n",
      "\n",
      "sigma_e: 155.67 km/s\n"
     ]
    },
    {
     "name": "stdout",
     "output_type": "stream",
     "text": [
      "jam_axi_proj(align='sph', moment='zz') -- elapsed time sec: 0.91\n",
      "analytic_los=0 logistic=0 constant_anisotropy=1\n",
      "No PSF/pixel convolution because sigmapsf=0 pixsize=0\n",
      "inc=39.6; beta[0]=0.0; kappa=1.00; M/L=1.00; BH=0.0; chi2/DOF=nan\n",
      "Total mass MGE (MSun): 9.703e+12\n",
      "\n",
      "sigma_e: 148.35 km/s\n"
     ]
    },
    {
     "name": "stdout",
     "output_type": "stream",
     "text": [
      "jam_axi_proj(align='sph', moment='zz') -- elapsed time sec: 0.96\n",
      "analytic_los=0 logistic=0 constant_anisotropy=1\n",
      "No PSF/pixel convolution because sigmapsf=0 pixsize=0\n",
      "inc=82.4; beta[0]=0.0; kappa=1.00; M/L=1.00; BH=0.0; chi2/DOF=nan\n",
      "Total mass MGE (MSun): 9.703e+12\n",
      "\n",
      "sigma_e: 143.23 km/s\n"
     ]
    },
    {
     "name": "stdout",
     "output_type": "stream",
     "text": [
      "jam_axi_proj(align='sph', moment='zz') -- elapsed time sec: 0.98\n",
      "analytic_los=0 logistic=0 constant_anisotropy=1\n",
      "No PSF/pixel convolution because sigmapsf=0 pixsize=0\n",
      "inc=69.2; beta[0]=0.0; kappa=1.00; M/L=1.00; BH=0.0; chi2/DOF=nan\n",
      "Total mass MGE (MSun): 9.703e+12\n",
      "\n",
      "sigma_e: 149.29 km/s\n"
     ]
    },
    {
     "name": "stdout",
     "output_type": "stream",
     "text": [
      "jam_axi_proj(align='sph', moment='zz') -- elapsed time sec: 0.95\n",
      "analytic_los=0 logistic=0 constant_anisotropy=1\n",
      "No PSF/pixel convolution because sigmapsf=0 pixsize=0\n",
      "inc=77.8; beta[0]=0.0; kappa=1.00; M/L=1.00; BH=0.0; chi2/DOF=nan\n",
      "Total mass MGE (MSun): 9.703e+12\n",
      "\n",
      "sigma_e: 145.26 km/s\n"
     ]
    },
    {
     "name": "stdout",
     "output_type": "stream",
     "text": [
      "jam_axi_proj(align='sph', moment='zz') -- elapsed time sec: 1.06\n",
      "analytic_los=0 logistic=0 constant_anisotropy=1\n",
      "No PSF/pixel convolution because sigmapsf=0 pixsize=0\n",
      "inc=88.3; beta[0]=0.0; kappa=1.00; M/L=1.00; BH=0.0; chi2/DOF=nan\n",
      "Total mass MGE (MSun): 9.703e+12\n",
      "\n",
      "sigma_e: 137.42 km/s\n"
     ]
    },
    {
     "name": "stdout",
     "output_type": "stream",
     "text": [
      "jam_axi_proj(align='sph', moment='zz') -- elapsed time sec: 0.86\n",
      "analytic_los=0 logistic=0 constant_anisotropy=1\n",
      "No PSF/pixel convolution because sigmapsf=0 pixsize=0\n",
      "inc=71.9; beta[0]=0.0; kappa=1.00; M/L=1.00; BH=0.0; chi2/DOF=nan\n",
      "Total mass MGE (MSun): 9.703e+12\n",
      "\n",
      "sigma_e: 143.83 km/s\n"
     ]
    },
    {
     "name": "stdout",
     "output_type": "stream",
     "text": [
      "jam_axi_proj(align='sph', moment='zz') -- elapsed time sec: 0.93\n",
      "analytic_los=0 logistic=0 constant_anisotropy=1\n",
      "No PSF/pixel convolution because sigmapsf=0 pixsize=0\n",
      "inc=49.0; beta[0]=0.0; kappa=1.00; M/L=1.00; BH=0.0; chi2/DOF=nan\n",
      "Total mass MGE (MSun): 8.708e+12\n",
      "\n",
      "sigma_e: 139.77 km/s\n"
     ]
    },
    {
     "name": "stdout",
     "output_type": "stream",
     "text": [
      "jam_axi_proj(align='sph', moment='zz') -- elapsed time sec: 0.99\n",
      "analytic_los=0 logistic=0 constant_anisotropy=1\n",
      "No PSF/pixel convolution because sigmapsf=0 pixsize=0\n",
      "inc=80.9; beta[0]=0.0; kappa=1.00; M/L=1.00; BH=0.0; chi2/DOF=nan\n",
      "Total mass MGE (MSun): 8.708e+12\n",
      "\n",
      "sigma_e: 138.70 km/s\n"
     ]
    },
    {
     "name": "stdout",
     "output_type": "stream",
     "text": [
      "jam_axi_proj(align='sph', moment='zz') -- elapsed time sec: 0.96\n",
      "analytic_los=0 logistic=0 constant_anisotropy=1\n",
      "No PSF/pixel convolution because sigmapsf=0 pixsize=0\n",
      "inc=74.2; beta[0]=0.0; kappa=1.00; M/L=1.00; BH=0.0; chi2/DOF=nan\n",
      "Total mass MGE (MSun): 8.708e+12\n",
      "\n",
      "sigma_e: 148.15 km/s\n"
     ]
    },
    {
     "name": "stdout",
     "output_type": "stream",
     "text": [
      "jam_axi_proj(align='sph', moment='zz') -- elapsed time sec: 0.91\n",
      "analytic_los=0 logistic=0 constant_anisotropy=1\n",
      "No PSF/pixel convolution because sigmapsf=0 pixsize=0\n",
      "inc=59.8; beta[0]=0.0; kappa=1.00; M/L=1.00; BH=0.0; chi2/DOF=nan\n",
      "Total mass MGE (MSun): 8.708e+12\n",
      "\n",
      "sigma_e: 148.80 km/s\n"
     ]
    },
    {
     "name": "stdout",
     "output_type": "stream",
     "text": [
      "jam_axi_proj(align='sph', moment='zz') -- elapsed time sec: 0.95\n",
      "analytic_los=0 logistic=0 constant_anisotropy=1\n",
      "No PSF/pixel convolution because sigmapsf=0 pixsize=0\n",
      "inc=87.4; beta[0]=0.0; kappa=1.00; M/L=1.00; BH=0.0; chi2/DOF=nan\n",
      "Total mass MGE (MSun): 8.708e+12\n",
      "\n",
      "sigma_e: 148.33 km/s\n"
     ]
    },
    {
     "name": "stdout",
     "output_type": "stream",
     "text": [
      "jam_axi_proj(align='sph', moment='zz') -- elapsed time sec: 0.98\n",
      "analytic_los=0 logistic=0 constant_anisotropy=1\n",
      "No PSF/pixel convolution because sigmapsf=0 pixsize=0\n",
      "inc=79.7; beta[0]=0.0; kappa=1.00; M/L=1.00; BH=0.0; chi2/DOF=nan\n",
      "Total mass MGE (MSun): 8.708e+12\n",
      "\n",
      "sigma_e: 137.80 km/s\n"
     ]
    },
    {
     "name": "stdout",
     "output_type": "stream",
     "text": [
      "jam_axi_proj(align='sph', moment='zz') -- elapsed time sec: 0.85\n",
      "analytic_los=0 logistic=0 constant_anisotropy=1\n",
      "No PSF/pixel convolution because sigmapsf=0 pixsize=0\n",
      "inc=47.1; beta[0]=0.0; kappa=1.00; M/L=1.00; BH=0.0; chi2/DOF=nan\n",
      "Total mass MGE (MSun): 8.708e+12\n",
      "\n",
      "sigma_e: 144.28 km/s\n"
     ]
    },
    {
     "name": "stdout",
     "output_type": "stream",
     "text": [
      "jam_axi_proj(align='sph', moment='zz') -- elapsed time sec: 0.95\n",
      "analytic_los=0 logistic=0 constant_anisotropy=1\n",
      "No PSF/pixel convolution because sigmapsf=0 pixsize=0\n",
      "inc=45.4; beta[0]=0.0; kappa=1.00; M/L=1.00; BH=0.0; chi2/DOF=nan\n",
      "Total mass MGE (MSun): 8.708e+12\n",
      "\n",
      "sigma_e: 140.12 km/s\n"
     ]
    },
    {
     "name": "stdout",
     "output_type": "stream",
     "text": [
      "jam_axi_proj(align='sph', moment='zz') -- elapsed time sec: 0.95\n",
      "analytic_los=0 logistic=0 constant_anisotropy=1\n",
      "No PSF/pixel convolution because sigmapsf=0 pixsize=0\n",
      "inc=79.7; beta[0]=0.0; kappa=1.00; M/L=1.00; BH=0.0; chi2/DOF=nan\n",
      "Total mass MGE (MSun): 8.708e+12\n",
      "\n",
      "sigma_e: 146.78 km/s\n"
     ]
    },
    {
     "name": "stdout",
     "output_type": "stream",
     "text": [
      "jam_axi_proj(align='sph', moment='zz') -- elapsed time sec: 0.95\n",
      "analytic_los=0 logistic=0 constant_anisotropy=1\n",
      "No PSF/pixel convolution because sigmapsf=0 pixsize=0\n",
      "inc=65.8; beta[0]=0.0; kappa=1.00; M/L=1.00; BH=0.0; chi2/DOF=nan\n",
      "Total mass MGE (MSun): 8.708e+12\n",
      "\n",
      "sigma_e: 150.99 km/s\n"
     ]
    },
    {
     "name": "stdout",
     "output_type": "stream",
     "text": [
      "jam_axi_proj(align='sph', moment='zz') -- elapsed time sec: 0.97\n",
      "analytic_los=0 logistic=0 constant_anisotropy=1\n",
      "No PSF/pixel convolution because sigmapsf=0 pixsize=0\n",
      "inc=45.5; beta[0]=0.0; kappa=1.00; M/L=1.00; BH=0.0; chi2/DOF=nan\n",
      "Total mass MGE (MSun): 1.564e+13\n",
      "\n",
      "sigma_e: 168.55 km/s\n"
     ]
    },
    {
     "name": "stdout",
     "output_type": "stream",
     "text": [
      "jam_axi_proj(align='sph', moment='zz') -- elapsed time sec: 0.92\n",
      "analytic_los=0 logistic=0 constant_anisotropy=1\n",
      "No PSF/pixel convolution because sigmapsf=0 pixsize=0\n",
      "inc=41.8; beta[0]=0.0; kappa=1.00; M/L=1.00; BH=0.0; chi2/DOF=nan\n",
      "Total mass MGE (MSun): 1.564e+13\n",
      "\n",
      "sigma_e: 174.61 km/s\n"
     ]
    },
    {
     "name": "stdout",
     "output_type": "stream",
     "text": [
      "jam_axi_proj(align='sph', moment='zz') -- elapsed time sec: 0.95\n",
      "analytic_los=0 logistic=0 constant_anisotropy=1\n",
      "No PSF/pixel convolution because sigmapsf=0 pixsize=0\n",
      "inc=74.1; beta[0]=0.0; kappa=1.00; M/L=1.00; BH=0.0; chi2/DOF=nan\n",
      "Total mass MGE (MSun): 1.564e+13\n",
      "\n",
      "sigma_e: 159.34 km/s\n"
     ]
    },
    {
     "name": "stdout",
     "output_type": "stream",
     "text": [
      "jam_axi_proj(align='sph', moment='zz') -- elapsed time sec: 0.95\n",
      "analytic_los=0 logistic=0 constant_anisotropy=1\n",
      "No PSF/pixel convolution because sigmapsf=0 pixsize=0\n",
      "inc=71.6; beta[0]=0.0; kappa=1.00; M/L=1.00; BH=0.0; chi2/DOF=nan\n",
      "Total mass MGE (MSun): 1.564e+13\n",
      "\n",
      "sigma_e: 159.47 km/s\n"
     ]
    },
    {
     "name": "stdout",
     "output_type": "stream",
     "text": [
      "jam_axi_proj(align='sph', moment='zz') -- elapsed time sec: 0.91\n",
      "analytic_los=0 logistic=0 constant_anisotropy=1\n",
      "No PSF/pixel convolution because sigmapsf=0 pixsize=0\n",
      "inc=47.9; beta[0]=0.0; kappa=1.00; M/L=1.00; BH=0.0; chi2/DOF=nan\n",
      "Total mass MGE (MSun): 1.564e+13\n",
      "\n",
      "sigma_e: 168.56 km/s\n"
     ]
    },
    {
     "name": "stdout",
     "output_type": "stream",
     "text": [
      "jam_axi_proj(align='sph', moment='zz') -- elapsed time sec: 0.97\n",
      "analytic_los=0 logistic=0 constant_anisotropy=1\n",
      "No PSF/pixel convolution because sigmapsf=0 pixsize=0\n",
      "inc=62.2; beta[0]=0.0; kappa=1.00; M/L=1.00; BH=0.0; chi2/DOF=nan\n",
      "Total mass MGE (MSun): 1.564e+13\n",
      "\n",
      "sigma_e: 162.60 km/s\n"
     ]
    },
    {
     "name": "stdout",
     "output_type": "stream",
     "text": [
      "jam_axi_proj(align='sph', moment='zz') -- elapsed time sec: 0.89\n",
      "analytic_los=0 logistic=0 constant_anisotropy=1\n",
      "No PSF/pixel convolution because sigmapsf=0 pixsize=0\n",
      "inc=71.3; beta[0]=0.0; kappa=1.00; M/L=1.00; BH=0.0; chi2/DOF=nan\n",
      "Total mass MGE (MSun): 1.564e+13\n",
      "\n",
      "sigma_e: 163.30 km/s\n"
     ]
    },
    {
     "name": "stdout",
     "output_type": "stream",
     "text": [
      "jam_axi_proj(align='sph', moment='zz') -- elapsed time sec: 0.94\n",
      "analytic_los=0 logistic=0 constant_anisotropy=1\n",
      "No PSF/pixel convolution because sigmapsf=0 pixsize=0\n",
      "inc=62.8; beta[0]=0.0; kappa=1.00; M/L=1.00; BH=0.0; chi2/DOF=nan\n",
      "Total mass MGE (MSun): 1.564e+13\n",
      "\n",
      "sigma_e: 163.09 km/s\n"
     ]
    },
    {
     "name": "stdout",
     "output_type": "stream",
     "text": [
      "jam_axi_proj(align='sph', moment='zz') -- elapsed time sec: 0.99\n",
      "analytic_los=0 logistic=0 constant_anisotropy=1\n",
      "No PSF/pixel convolution because sigmapsf=0 pixsize=0\n",
      "inc=68.2; beta[0]=0.0; kappa=1.00; M/L=1.00; BH=0.0; chi2/DOF=nan\n",
      "Total mass MGE (MSun): 1.564e+13\n",
      "\n",
      "sigma_e: 161.03 km/s\n"
     ]
    },
    {
     "name": "stdout",
     "output_type": "stream",
     "text": [
      "jam_axi_proj(align='sph', moment='zz') -- elapsed time sec: 1.03\n",
      "analytic_los=0 logistic=0 constant_anisotropy=1\n",
      "No PSF/pixel convolution because sigmapsf=0 pixsize=0\n",
      "inc=67.8; beta[0]=0.0; kappa=1.00; M/L=1.00; BH=0.0; chi2/DOF=nan\n",
      "Total mass MGE (MSun): 1.564e+13\n",
      "\n",
      "sigma_e: 159.98 km/s\n"
     ]
    },
    {
     "name": "stdout",
     "output_type": "stream",
     "text": [
      "jam_axi_proj(align='sph', moment='zz') -- elapsed time sec: 1.02\n",
      "analytic_los=0 logistic=0 constant_anisotropy=1\n",
      "No PSF/pixel convolution because sigmapsf=0 pixsize=0\n",
      "inc=81.7; beta[0]=0.0; kappa=1.00; M/L=1.00; BH=0.0; chi2/DOF=nan\n",
      "Total mass MGE (MSun): 1.082e+13\n",
      "\n",
      "sigma_e: 138.88 km/s\n"
     ]
    },
    {
     "name": "stdout",
     "output_type": "stream",
     "text": [
      "jam_axi_proj(align='sph', moment='zz') -- elapsed time sec: 1.04\n",
      "analytic_los=0 logistic=0 constant_anisotropy=1\n",
      "No PSF/pixel convolution because sigmapsf=0 pixsize=0\n",
      "inc=64.5; beta[0]=0.0; kappa=1.00; M/L=1.00; BH=0.0; chi2/DOF=nan\n",
      "Total mass MGE (MSun): 1.082e+13\n",
      "\n",
      "sigma_e: 148.63 km/s\n"
     ]
    },
    {
     "name": "stdout",
     "output_type": "stream",
     "text": [
      "jam_axi_proj(align='sph', moment='zz') -- elapsed time sec: 0.92\n",
      "analytic_los=0 logistic=0 constant_anisotropy=1\n",
      "No PSF/pixel convolution because sigmapsf=0 pixsize=0\n",
      "inc=61.6; beta[0]=0.0; kappa=1.00; M/L=1.00; BH=0.0; chi2/DOF=nan\n",
      "Total mass MGE (MSun): 1.082e+13\n",
      "\n",
      "sigma_e: 161.73 km/s\n"
     ]
    },
    {
     "name": "stdout",
     "output_type": "stream",
     "text": [
      "jam_axi_proj(align='sph', moment='zz') -- elapsed time sec: 1.03\n",
      "analytic_los=0 logistic=0 constant_anisotropy=1\n",
      "No PSF/pixel convolution because sigmapsf=0 pixsize=0\n",
      "inc=87.9; beta[0]=0.0; kappa=1.00; M/L=1.00; BH=0.0; chi2/DOF=nan\n",
      "Total mass MGE (MSun): 1.082e+13\n",
      "\n",
      "sigma_e: 141.39 km/s\n"
     ]
    },
    {
     "name": "stdout",
     "output_type": "stream",
     "text": [
      "jam_axi_proj(align='sph', moment='zz') -- elapsed time sec: 0.91\n",
      "analytic_los=0 logistic=0 constant_anisotropy=1\n",
      "No PSF/pixel convolution because sigmapsf=0 pixsize=0\n",
      "inc=70.9; beta[0]=0.0; kappa=1.00; M/L=1.00; BH=0.0; chi2/DOF=nan\n",
      "Total mass MGE (MSun): 1.082e+13\n",
      "\n",
      "sigma_e: 166.14 km/s\n"
     ]
    },
    {
     "name": "stdout",
     "output_type": "stream",
     "text": [
      "jam_axi_proj(align='sph', moment='zz') -- elapsed time sec: 0.96\n",
      "analytic_los=0 logistic=0 constant_anisotropy=1\n",
      "No PSF/pixel convolution because sigmapsf=0 pixsize=0\n",
      "inc=82.6; beta[0]=0.0; kappa=1.00; M/L=1.00; BH=0.0; chi2/DOF=nan\n",
      "Total mass MGE (MSun): 1.082e+13\n",
      "\n",
      "sigma_e: 146.65 km/s\n"
     ]
    },
    {
     "name": "stdout",
     "output_type": "stream",
     "text": [
      "jam_axi_proj(align='sph', moment='zz') -- elapsed time sec: 1.01\n",
      "analytic_los=0 logistic=0 constant_anisotropy=1\n",
      "No PSF/pixel convolution because sigmapsf=0 pixsize=0\n",
      "inc=87.4; beta[0]=0.0; kappa=1.00; M/L=1.00; BH=0.0; chi2/DOF=nan\n",
      "Total mass MGE (MSun): 1.082e+13\n",
      "\n",
      "sigma_e: 148.93 km/s\n"
     ]
    },
    {
     "name": "stdout",
     "output_type": "stream",
     "text": [
      "jam_axi_proj(align='sph', moment='zz') -- elapsed time sec: 0.96\n",
      "analytic_los=0 logistic=0 constant_anisotropy=1\n",
      "No PSF/pixel convolution because sigmapsf=0 pixsize=0\n",
      "inc=77.5; beta[0]=0.0; kappa=1.00; M/L=1.00; BH=0.0; chi2/DOF=nan\n",
      "Total mass MGE (MSun): 1.082e+13\n",
      "\n",
      "sigma_e: 153.78 km/s\n"
     ]
    },
    {
     "name": "stdout",
     "output_type": "stream",
     "text": [
      "jam_axi_proj(align='sph', moment='zz') -- elapsed time sec: 1.01\n",
      "analytic_los=0 logistic=0 constant_anisotropy=1\n",
      "No PSF/pixel convolution because sigmapsf=0 pixsize=0\n",
      "inc=84.8; beta[0]=0.0; kappa=1.00; M/L=1.00; BH=0.0; chi2/DOF=nan\n",
      "Total mass MGE (MSun): 1.082e+13\n",
      "\n",
      "sigma_e: 139.70 km/s\n"
     ]
    },
    {
     "name": "stdout",
     "output_type": "stream",
     "text": [
      "jam_axi_proj(align='sph', moment='zz') -- elapsed time sec: 0.95\n",
      "analytic_los=0 logistic=0 constant_anisotropy=1\n",
      "No PSF/pixel convolution because sigmapsf=0 pixsize=0\n",
      "inc=88.1; beta[0]=0.0; kappa=1.00; M/L=1.00; BH=0.0; chi2/DOF=nan\n",
      "Total mass MGE (MSun): 1.082e+13\n",
      "\n",
      "sigma_e: 136.56 km/s\n"
     ]
    },
    {
     "name": "stdout",
     "output_type": "stream",
     "text": [
      "jam_axi_proj(align='sph', moment='zz') -- elapsed time sec: 0.97\n",
      "analytic_los=0 logistic=0 constant_anisotropy=1\n",
      "No PSF/pixel convolution because sigmapsf=0 pixsize=0\n",
      "inc=70.2; beta[0]=0.0; kappa=1.00; M/L=1.00; BH=0.0; chi2/DOF=nan\n",
      "Total mass MGE (MSun): 1.149e+13\n",
      "\n",
      "sigma_e: 157.99 km/s\n"
     ]
    },
    {
     "name": "stdout",
     "output_type": "stream",
     "text": [
      "jam_axi_proj(align='sph', moment='zz') -- elapsed time sec: 0.91\n",
      "analytic_los=0 logistic=0 constant_anisotropy=1\n",
      "No PSF/pixel convolution because sigmapsf=0 pixsize=0\n",
      "inc=48.7; beta[0]=0.0; kappa=1.00; M/L=1.00; BH=0.0; chi2/DOF=nan\n",
      "Total mass MGE (MSun): 1.149e+13\n",
      "\n",
      "sigma_e: 165.12 km/s\n"
     ]
    },
    {
     "name": "stdout",
     "output_type": "stream",
     "text": [
      "jam_axi_proj(align='sph', moment='zz') -- elapsed time sec: 0.96\n",
      "analytic_los=0 logistic=0 constant_anisotropy=1\n",
      "No PSF/pixel convolution because sigmapsf=0 pixsize=0\n",
      "inc=89.4; beta[0]=0.0; kappa=1.00; M/L=1.00; BH=0.0; chi2/DOF=nan\n",
      "Total mass MGE (MSun): 1.149e+13\n",
      "\n",
      "sigma_e: 144.37 km/s\n"
     ]
    },
    {
     "name": "stdout",
     "output_type": "stream",
     "text": [
      "jam_axi_proj(align='sph', moment='zz') -- elapsed time sec: 0.98\n",
      "analytic_los=0 logistic=0 constant_anisotropy=1\n",
      "No PSF/pixel convolution because sigmapsf=0 pixsize=0\n",
      "inc=64.8; beta[0]=0.0; kappa=1.00; M/L=1.00; BH=0.0; chi2/DOF=nan\n",
      "Total mass MGE (MSun): 1.149e+13\n",
      "\n",
      "sigma_e: 153.32 km/s\n"
     ]
    },
    {
     "name": "stdout",
     "output_type": "stream",
     "text": [
      "jam_axi_proj(align='sph', moment='zz') -- elapsed time sec: 0.94\n",
      "analytic_los=0 logistic=0 constant_anisotropy=1\n",
      "No PSF/pixel convolution because sigmapsf=0 pixsize=0\n",
      "inc=85.2; beta[0]=0.0; kappa=1.00; M/L=1.00; BH=0.0; chi2/DOF=nan\n",
      "Total mass MGE (MSun): 1.149e+13\n",
      "\n",
      "sigma_e: 145.62 km/s\n"
     ]
    },
    {
     "name": "stdout",
     "output_type": "stream",
     "text": [
      "jam_axi_proj(align='sph', moment='zz') -- elapsed time sec: 0.84\n",
      "analytic_los=0 logistic=0 constant_anisotropy=1\n",
      "No PSF/pixel convolution because sigmapsf=0 pixsize=0\n",
      "inc=51.6; beta[0]=0.0; kappa=1.00; M/L=1.00; BH=0.0; chi2/DOF=nan\n",
      "Total mass MGE (MSun): 1.149e+13\n",
      "\n",
      "sigma_e: 158.64 km/s\n"
     ]
    },
    {
     "name": "stdout",
     "output_type": "stream",
     "text": [
      "jam_axi_proj(align='sph', moment='zz') -- elapsed time sec: 0.93\n",
      "analytic_los=0 logistic=0 constant_anisotropy=1\n",
      "No PSF/pixel convolution because sigmapsf=0 pixsize=0\n",
      "inc=53.0; beta[0]=0.0; kappa=1.00; M/L=1.00; BH=0.0; chi2/DOF=nan\n",
      "Total mass MGE (MSun): 1.149e+13\n",
      "\n",
      "sigma_e: 161.38 km/s\n"
     ]
    },
    {
     "name": "stdout",
     "output_type": "stream",
     "text": [
      "jam_axi_proj(align='sph', moment='zz') -- elapsed time sec: 0.89\n",
      "analytic_los=0 logistic=0 constant_anisotropy=1\n",
      "No PSF/pixel convolution because sigmapsf=0 pixsize=0\n",
      "inc=88.4; beta[0]=0.0; kappa=1.00; M/L=1.00; BH=0.0; chi2/DOF=nan\n",
      "Total mass MGE (MSun): 1.149e+13\n",
      "\n",
      "sigma_e: 162.20 km/s\n"
     ]
    },
    {
     "name": "stdout",
     "output_type": "stream",
     "text": [
      "jam_axi_proj(align='sph', moment='zz') -- elapsed time sec: 0.89\n",
      "analytic_los=0 logistic=0 constant_anisotropy=1\n",
      "No PSF/pixel convolution because sigmapsf=0 pixsize=0\n",
      "inc=41.2; beta[0]=0.0; kappa=1.00; M/L=1.00; BH=0.0; chi2/DOF=nan\n",
      "Total mass MGE (MSun): 1.149e+13\n",
      "\n",
      "sigma_e: 158.55 km/s\n"
     ]
    },
    {
     "name": "stdout",
     "output_type": "stream",
     "text": [
      "jam_axi_proj(align='sph', moment='zz') -- elapsed time sec: 0.96\n",
      "analytic_los=0 logistic=0 constant_anisotropy=1\n",
      "No PSF/pixel convolution because sigmapsf=0 pixsize=0\n",
      "inc=75.1; beta[0]=0.0; kappa=1.00; M/L=1.00; BH=0.0; chi2/DOF=nan\n",
      "Total mass MGE (MSun): 1.149e+13\n",
      "\n",
      "sigma_e: 143.64 km/s\n"
     ]
    },
    {
     "name": "stdout",
     "output_type": "stream",
     "text": [
      "jam_axi_proj(align='sph', moment='zz') -- elapsed time sec: 0.93\n",
      "analytic_los=0 logistic=0 constant_anisotropy=1\n",
      "No PSF/pixel convolution because sigmapsf=0 pixsize=0\n",
      "inc=36.2; beta[0]=0.0; kappa=1.00; M/L=1.00; BH=0.0; chi2/DOF=nan\n",
      "Total mass MGE (MSun): 9.875e+12\n",
      "\n",
      "sigma_e: 154.70 km/s\n"
     ]
    },
    {
     "name": "stdout",
     "output_type": "stream",
     "text": [
      "jam_axi_proj(align='sph', moment='zz') -- elapsed time sec: 0.77\n",
      "analytic_los=0 logistic=0 constant_anisotropy=1\n",
      "No PSF/pixel convolution because sigmapsf=0 pixsize=0\n",
      "inc=89.2; beta[0]=0.0; kappa=1.00; M/L=1.00; BH=0.0; chi2/DOF=nan\n",
      "Total mass MGE (MSun): 9.875e+12\n",
      "\n",
      "sigma_e: 152.52 km/s\n"
     ]
    },
    {
     "name": "stdout",
     "output_type": "stream",
     "text": [
      "jam_axi_proj(align='sph', moment='zz') -- elapsed time sec: 0.92\n",
      "analytic_los=0 logistic=0 constant_anisotropy=1\n",
      "No PSF/pixel convolution because sigmapsf=0 pixsize=0\n",
      "inc=43.6; beta[0]=0.0; kappa=1.00; M/L=1.00; BH=0.0; chi2/DOF=nan\n",
      "Total mass MGE (MSun): 9.875e+12\n",
      "\n",
      "sigma_e: 153.01 km/s\n"
     ]
    },
    {
     "name": "stdout",
     "output_type": "stream",
     "text": [
      "jam_axi_proj(align='sph', moment='zz') -- elapsed time sec: 0.94\n",
      "analytic_los=0 logistic=0 constant_anisotropy=1\n",
      "No PSF/pixel convolution because sigmapsf=0 pixsize=0\n",
      "inc=70.3; beta[0]=0.0; kappa=1.00; M/L=1.00; BH=0.0; chi2/DOF=nan\n",
      "Total mass MGE (MSun): 9.875e+12\n",
      "\n",
      "sigma_e: 143.95 km/s\n"
     ]
    },
    {
     "name": "stdout",
     "output_type": "stream",
     "text": [
      "jam_axi_proj(align='sph', moment='zz') -- elapsed time sec: 0.93\n",
      "analytic_los=0 logistic=0 constant_anisotropy=1\n",
      "No PSF/pixel convolution because sigmapsf=0 pixsize=0\n",
      "inc=67.7; beta[0]=0.0; kappa=1.00; M/L=1.00; BH=0.0; chi2/DOF=nan\n",
      "Total mass MGE (MSun): 9.875e+12\n",
      "\n",
      "sigma_e: 144.85 km/s\n"
     ]
    },
    {
     "name": "stdout",
     "output_type": "stream",
     "text": [
      "jam_axi_proj(align='sph', moment='zz') -- elapsed time sec: 0.96\n",
      "analytic_los=0 logistic=0 constant_anisotropy=1\n",
      "No PSF/pixel convolution because sigmapsf=0 pixsize=0\n",
      "inc=70.5; beta[0]=0.0; kappa=1.00; M/L=1.00; BH=0.0; chi2/DOF=nan\n",
      "Total mass MGE (MSun): 9.875e+12\n",
      "\n",
      "sigma_e: 143.08 km/s\n"
     ]
    },
    {
     "name": "stdout",
     "output_type": "stream",
     "text": [
      "jam_axi_proj(align='sph', moment='zz') -- elapsed time sec: 0.92\n",
      "analytic_los=0 logistic=0 constant_anisotropy=1\n",
      "No PSF/pixel convolution because sigmapsf=0 pixsize=0\n",
      "inc=56.6; beta[0]=0.0; kappa=1.00; M/L=1.00; BH=0.0; chi2/DOF=nan\n",
      "Total mass MGE (MSun): 9.875e+12\n",
      "\n",
      "sigma_e: 151.45 km/s\n"
     ]
    },
    {
     "name": "stdout",
     "output_type": "stream",
     "text": [
      "jam_axi_proj(align='sph', moment='zz') -- elapsed time sec: 0.91\n",
      "analytic_los=0 logistic=0 constant_anisotropy=1\n",
      "No PSF/pixel convolution because sigmapsf=0 pixsize=0\n",
      "inc=35.2; beta[0]=0.0; kappa=1.00; M/L=1.00; BH=0.0; chi2/DOF=nan\n",
      "Total mass MGE (MSun): 9.875e+12\n",
      "\n",
      "sigma_e: 155.07 km/s\n"
     ]
    },
    {
     "name": "stdout",
     "output_type": "stream",
     "text": [
      "jam_axi_proj(align='sph', moment='zz') -- elapsed time sec: 0.92\n",
      "analytic_los=0 logistic=0 constant_anisotropy=1\n",
      "No PSF/pixel convolution because sigmapsf=0 pixsize=0\n",
      "inc=84.2; beta[0]=0.0; kappa=1.00; M/L=1.00; BH=0.0; chi2/DOF=nan\n",
      "Total mass MGE (MSun): 9.875e+12\n",
      "\n",
      "sigma_e: 148.24 km/s\n"
     ]
    },
    {
     "name": "stdout",
     "output_type": "stream",
     "text": [
      "jam_axi_proj(align='sph', moment='zz') -- elapsed time sec: 0.94\n",
      "analytic_los=0 logistic=0 constant_anisotropy=1\n",
      "No PSF/pixel convolution because sigmapsf=0 pixsize=0\n",
      "inc=59.2; beta[0]=0.0; kappa=1.00; M/L=1.00; BH=0.0; chi2/DOF=nan\n",
      "Total mass MGE (MSun): 9.875e+12\n",
      "\n",
      "sigma_e: 143.69 km/s\n"
     ]
    },
    {
     "name": "stdout",
     "output_type": "stream",
     "text": [
      "jam_axi_proj(align='sph', moment='zz') -- elapsed time sec: 0.93\n",
      "analytic_los=0 logistic=0 constant_anisotropy=1\n",
      "No PSF/pixel convolution because sigmapsf=0 pixsize=0\n",
      "inc=89.8; beta[0]=0.0; kappa=1.00; M/L=1.00; BH=0.0; chi2/DOF=nan\n",
      "Total mass MGE (MSun): 7.315e+12\n",
      "\n",
      "sigma_e: 119.43 km/s\n"
     ]
    },
    {
     "name": "stdout",
     "output_type": "stream",
     "text": [
      "jam_axi_proj(align='sph', moment='zz') -- elapsed time sec: 0.94\n",
      "analytic_los=0 logistic=0 constant_anisotropy=1\n",
      "No PSF/pixel convolution because sigmapsf=0 pixsize=0\n",
      "inc=89.6; beta[0]=0.0; kappa=1.00; M/L=1.00; BH=0.0; chi2/DOF=nan\n",
      "Total mass MGE (MSun): 7.315e+12\n",
      "\n",
      "sigma_e: 122.02 km/s\n"
     ]
    },
    {
     "name": "stdout",
     "output_type": "stream",
     "text": [
      "jam_axi_proj(align='sph', moment='zz') -- elapsed time sec: 0.98\n",
      "analytic_los=0 logistic=0 constant_anisotropy=1\n",
      "No PSF/pixel convolution because sigmapsf=0 pixsize=0\n",
      "inc=79.5; beta[0]=0.0; kappa=1.00; M/L=1.00; BH=0.0; chi2/DOF=nan\n",
      "Total mass MGE (MSun): 7.315e+12\n",
      "\n",
      "sigma_e: 140.76 km/s\n"
     ]
    },
    {
     "name": "stdout",
     "output_type": "stream",
     "text": [
      "jam_axi_proj(align='sph', moment='zz') -- elapsed time sec: 0.89\n",
      "analytic_los=0 logistic=0 constant_anisotropy=1\n",
      "No PSF/pixel convolution because sigmapsf=0 pixsize=0\n",
      "inc=46.0; beta[0]=0.0; kappa=1.00; M/L=1.00; BH=0.0; chi2/DOF=nan\n",
      "Total mass MGE (MSun): 7.315e+12\n",
      "\n",
      "sigma_e: 149.06 km/s\n"
     ]
    },
    {
     "name": "stdout",
     "output_type": "stream",
     "text": [
      "jam_axi_proj(align='sph', moment='zz') -- elapsed time sec: 1.00\n",
      "analytic_los=0 logistic=0 constant_anisotropy=1\n",
      "No PSF/pixel convolution because sigmapsf=0 pixsize=0\n",
      "inc=70.2; beta[0]=0.0; kappa=1.00; M/L=1.00; BH=0.0; chi2/DOF=nan\n",
      "Total mass MGE (MSun): 7.315e+12\n",
      "\n",
      "sigma_e: 139.82 km/s\n"
     ]
    },
    {
     "name": "stdout",
     "output_type": "stream",
     "text": [
      "jam_axi_proj(align='sph', moment='zz') -- elapsed time sec: 0.95\n",
      "analytic_los=0 logistic=0 constant_anisotropy=1\n",
      "No PSF/pixel convolution because sigmapsf=0 pixsize=0\n",
      "inc=75.2; beta[0]=0.0; kappa=1.00; M/L=1.00; BH=0.0; chi2/DOF=nan\n",
      "Total mass MGE (MSun): 7.315e+12\n",
      "\n",
      "sigma_e: 127.22 km/s\n"
     ]
    },
    {
     "name": "stdout",
     "output_type": "stream",
     "text": [
      "jam_axi_proj(align='sph', moment='zz') -- elapsed time sec: 0.98\n",
      "analytic_los=0 logistic=0 constant_anisotropy=1\n",
      "No PSF/pixel convolution because sigmapsf=0 pixsize=0\n",
      "inc=87.2; beta[0]=0.0; kappa=1.00; M/L=1.00; BH=0.0; chi2/DOF=nan\n",
      "Total mass MGE (MSun): 7.315e+12\n",
      "\n",
      "sigma_e: 124.67 km/s\n"
     ]
    },
    {
     "name": "stdout",
     "output_type": "stream",
     "text": [
      "jam_axi_proj(align='sph', moment='zz') -- elapsed time sec: 0.98\n",
      "analytic_los=0 logistic=0 constant_anisotropy=1\n",
      "No PSF/pixel convolution because sigmapsf=0 pixsize=0\n",
      "inc=78.5; beta[0]=0.0; kappa=1.00; M/L=1.00; BH=0.0; chi2/DOF=nan\n",
      "Total mass MGE (MSun): 7.315e+12\n",
      "\n",
      "sigma_e: 148.99 km/s\n"
     ]
    },
    {
     "name": "stdout",
     "output_type": "stream",
     "text": [
      "jam_axi_proj(align='sph', moment='zz') -- elapsed time sec: 1.00\n",
      "analytic_los=0 logistic=0 constant_anisotropy=1\n",
      "No PSF/pixel convolution because sigmapsf=0 pixsize=0\n",
      "inc=88.2; beta[0]=0.0; kappa=1.00; M/L=1.00; BH=0.0; chi2/DOF=nan\n",
      "Total mass MGE (MSun): 7.315e+12\n",
      "\n",
      "sigma_e: 123.66 km/s\n"
     ]
    },
    {
     "name": "stdout",
     "output_type": "stream",
     "text": [
      "jam_axi_proj(align='sph', moment='zz') -- elapsed time sec: 0.94\n",
      "analytic_los=0 logistic=0 constant_anisotropy=1\n",
      "No PSF/pixel convolution because sigmapsf=0 pixsize=0\n",
      "inc=88.1; beta[0]=0.0; kappa=1.00; M/L=1.00; BH=0.0; chi2/DOF=nan\n",
      "Total mass MGE (MSun): 7.315e+12\n",
      "\n",
      "sigma_e: 128.03 km/s\n"
     ]
    },
    {
     "name": "stdout",
     "output_type": "stream",
     "text": [
      "jam_axi_proj(align='sph', moment='zz') -- elapsed time sec: 0.93\n",
      "analytic_los=0 logistic=0 constant_anisotropy=1\n",
      "No PSF/pixel convolution because sigmapsf=0 pixsize=0\n",
      "inc=29.7; beta[0]=0.0; kappa=1.00; M/L=1.00; BH=0.0; chi2/DOF=nan\n",
      "Total mass MGE (MSun): 7.600e+12\n",
      "\n",
      "sigma_e: 151.06 km/s\n"
     ]
    },
    {
     "name": "stdout",
     "output_type": "stream",
     "text": [
      "jam_axi_proj(align='sph', moment='zz') -- elapsed time sec: 0.92\n",
      "analytic_los=0 logistic=0 constant_anisotropy=1\n",
      "No PSF/pixel convolution because sigmapsf=0 pixsize=0\n",
      "inc=50.4; beta[0]=0.0; kappa=1.00; M/L=1.00; BH=0.0; chi2/DOF=nan\n",
      "Total mass MGE (MSun): 7.600e+12\n",
      "\n",
      "sigma_e: 153.14 km/s\n"
     ]
    },
    {
     "name": "stdout",
     "output_type": "stream",
     "text": [
      "jam_axi_proj(align='sph', moment='zz') -- elapsed time sec: 1.02\n",
      "analytic_los=0 logistic=0 constant_anisotropy=1\n",
      "No PSF/pixel convolution because sigmapsf=0 pixsize=0\n",
      "inc=71.9; beta[0]=0.0; kappa=1.00; M/L=1.00; BH=0.0; chi2/DOF=nan\n",
      "Total mass MGE (MSun): 7.600e+12\n",
      "\n",
      "sigma_e: 134.77 km/s\n"
     ]
    },
    {
     "name": "stdout",
     "output_type": "stream",
     "text": [
      "jam_axi_proj(align='sph', moment='zz') -- elapsed time sec: 1.03\n",
      "analytic_los=0 logistic=0 constant_anisotropy=1\n",
      "No PSF/pixel convolution because sigmapsf=0 pixsize=0\n",
      "inc=82.8; beta[0]=0.0; kappa=1.00; M/L=1.00; BH=0.0; chi2/DOF=nan\n",
      "Total mass MGE (MSun): 7.600e+12\n",
      "\n",
      "sigma_e: 136.76 km/s\n"
     ]
    },
    {
     "name": "stdout",
     "output_type": "stream",
     "text": [
      "jam_axi_proj(align='sph', moment='zz') -- elapsed time sec: 1.05\n",
      "analytic_los=0 logistic=0 constant_anisotropy=1\n",
      "No PSF/pixel convolution because sigmapsf=0 pixsize=0\n",
      "inc=85.6; beta[0]=0.0; kappa=1.00; M/L=1.00; BH=0.0; chi2/DOF=nan\n",
      "Total mass MGE (MSun): 7.600e+12\n",
      "\n",
      "sigma_e: 132.71 km/s\n"
     ]
    },
    {
     "name": "stdout",
     "output_type": "stream",
     "text": [
      "jam_axi_proj(align='sph', moment='zz') -- elapsed time sec: 1.06\n",
      "analytic_los=0 logistic=0 constant_anisotropy=1\n",
      "No PSF/pixel convolution because sigmapsf=0 pixsize=0\n",
      "inc=85.3; beta[0]=0.0; kappa=1.00; M/L=1.00; BH=0.0; chi2/DOF=nan\n",
      "Total mass MGE (MSun): 7.600e+12\n",
      "\n",
      "sigma_e: 132.33 km/s\n"
     ]
    },
    {
     "name": "stdout",
     "output_type": "stream",
     "text": [
      "jam_axi_proj(align='sph', moment='zz') -- elapsed time sec: 0.99\n",
      "analytic_los=0 logistic=0 constant_anisotropy=1\n",
      "No PSF/pixel convolution because sigmapsf=0 pixsize=0\n",
      "inc=88.8; beta[0]=0.0; kappa=1.00; M/L=1.00; BH=0.0; chi2/DOF=nan\n",
      "Total mass MGE (MSun): 7.600e+12\n",
      "\n",
      "sigma_e: 134.34 km/s\n"
     ]
    },
    {
     "name": "stdout",
     "output_type": "stream",
     "text": [
      "jam_axi_proj(align='sph', moment='zz') -- elapsed time sec: 0.96\n",
      "analytic_los=0 logistic=0 constant_anisotropy=1\n",
      "No PSF/pixel convolution because sigmapsf=0 pixsize=0\n",
      "inc=67.8; beta[0]=0.0; kappa=1.00; M/L=1.00; BH=0.0; chi2/DOF=nan\n",
      "Total mass MGE (MSun): 7.600e+12\n",
      "\n",
      "sigma_e: 139.41 km/s\n"
     ]
    },
    {
     "name": "stdout",
     "output_type": "stream",
     "text": [
      "jam_axi_proj(align='sph', moment='zz') -- elapsed time sec: 1.00\n",
      "analytic_los=0 logistic=0 constant_anisotropy=1\n",
      "No PSF/pixel convolution because sigmapsf=0 pixsize=0\n",
      "inc=18.2; beta[0]=0.0; kappa=1.00; M/L=1.00; BH=0.0; chi2/DOF=nan\n",
      "Total mass MGE (MSun): 7.600e+12\n",
      "\n",
      "sigma_e: 150.87 km/s\n"
     ]
    },
    {
     "name": "stdout",
     "output_type": "stream",
     "text": [
      "jam_axi_proj(align='sph', moment='zz') -- elapsed time sec: 1.06\n",
      "analytic_los=0 logistic=0 constant_anisotropy=1\n",
      "No PSF/pixel convolution because sigmapsf=0 pixsize=0\n",
      "inc=74.9; beta[0]=0.0; kappa=1.00; M/L=1.00; BH=0.0; chi2/DOF=nan\n",
      "Total mass MGE (MSun): 7.600e+12\n",
      "\n",
      "sigma_e: 132.65 km/s\n"
     ]
    },
    {
     "name": "stdout",
     "output_type": "stream",
     "text": [
      "jam_axi_proj(align='sph', moment='zz') -- elapsed time sec: 1.00\n",
      "analytic_los=0 logistic=0 constant_anisotropy=1\n",
      "No PSF/pixel convolution because sigmapsf=0 pixsize=0\n",
      "inc=70.1; beta[0]=0.0; kappa=1.00; M/L=1.00; BH=0.0; chi2/DOF=nan\n",
      "Total mass MGE (MSun): 8.360e+12\n",
      "\n",
      "sigma_e: 138.90 km/s\n"
     ]
    },
    {
     "name": "stdout",
     "output_type": "stream",
     "text": [
      "jam_axi_proj(align='sph', moment='zz') -- elapsed time sec: 0.94\n",
      "analytic_los=0 logistic=0 constant_anisotropy=1\n",
      "No PSF/pixel convolution because sigmapsf=0 pixsize=0\n",
      "inc=75.7; beta[0]=0.0; kappa=1.00; M/L=1.00; BH=0.0; chi2/DOF=nan\n",
      "Total mass MGE (MSun): 8.360e+12\n",
      "\n",
      "sigma_e: 150.58 km/s\n"
     ]
    },
    {
     "name": "stdout",
     "output_type": "stream",
     "text": [
      "jam_axi_proj(align='sph', moment='zz') -- elapsed time sec: 0.93\n",
      "analytic_los=0 logistic=0 constant_anisotropy=1\n",
      "No PSF/pixel convolution because sigmapsf=0 pixsize=0\n",
      "inc=67.7; beta[0]=0.0; kappa=1.00; M/L=1.00; BH=0.0; chi2/DOF=nan\n",
      "Total mass MGE (MSun): 8.360e+12\n",
      "\n",
      "sigma_e: 145.90 km/s\n"
     ]
    },
    {
     "name": "stdout",
     "output_type": "stream",
     "text": [
      "jam_axi_proj(align='sph', moment='zz') -- elapsed time sec: 0.94\n",
      "analytic_los=0 logistic=0 constant_anisotropy=1\n",
      "No PSF/pixel convolution because sigmapsf=0 pixsize=0\n",
      "inc=84.4; beta[0]=0.0; kappa=1.00; M/L=1.00; BH=0.0; chi2/DOF=nan\n",
      "Total mass MGE (MSun): 8.360e+12\n",
      "\n",
      "sigma_e: 134.84 km/s\n"
     ]
    },
    {
     "name": "stdout",
     "output_type": "stream",
     "text": [
      "jam_axi_proj(align='sph', moment='zz') -- elapsed time sec: 1.02\n",
      "analytic_los=0 logistic=0 constant_anisotropy=1\n",
      "No PSF/pixel convolution because sigmapsf=0 pixsize=0\n",
      "inc=85.8; beta[0]=0.0; kappa=1.00; M/L=1.00; BH=0.0; chi2/DOF=nan\n",
      "Total mass MGE (MSun): 8.360e+12\n",
      "\n",
      "sigma_e: 141.76 km/s\n"
     ]
    },
    {
     "name": "stdout",
     "output_type": "stream",
     "text": [
      "jam_axi_proj(align='sph', moment='zz') -- elapsed time sec: 0.97\n",
      "analytic_los=0 logistic=0 constant_anisotropy=1\n",
      "No PSF/pixel convolution because sigmapsf=0 pixsize=0\n",
      "inc=72.6; beta[0]=0.0; kappa=1.00; M/L=1.00; BH=0.0; chi2/DOF=nan\n",
      "Total mass MGE (MSun): 8.360e+12\n",
      "\n",
      "sigma_e: 134.83 km/s\n"
     ]
    },
    {
     "name": "stdout",
     "output_type": "stream",
     "text": [
      "jam_axi_proj(align='sph', moment='zz') -- elapsed time sec: 0.99\n",
      "analytic_los=0 logistic=0 constant_anisotropy=1\n",
      "No PSF/pixel convolution because sigmapsf=0 pixsize=0\n",
      "inc=76.9; beta[0]=0.0; kappa=1.00; M/L=1.00; BH=0.0; chi2/DOF=nan\n",
      "Total mass MGE (MSun): 8.360e+12\n",
      "\n",
      "sigma_e: 129.24 km/s\n"
     ]
    },
    {
     "name": "stdout",
     "output_type": "stream",
     "text": [
      "jam_axi_proj(align='sph', moment='zz') -- elapsed time sec: 0.97\n",
      "analytic_los=0 logistic=0 constant_anisotropy=1\n",
      "No PSF/pixel convolution because sigmapsf=0 pixsize=0\n",
      "inc=75.5; beta[0]=0.0; kappa=1.00; M/L=1.00; BH=0.0; chi2/DOF=nan\n",
      "Total mass MGE (MSun): 8.360e+12\n",
      "\n",
      "sigma_e: 132.93 km/s\n"
     ]
    },
    {
     "name": "stdout",
     "output_type": "stream",
     "text": [
      "jam_axi_proj(align='sph', moment='zz') -- elapsed time sec: 0.99\n",
      "analytic_los=0 logistic=0 constant_anisotropy=1\n",
      "No PSF/pixel convolution because sigmapsf=0 pixsize=0\n",
      "inc=71.1; beta[0]=0.0; kappa=1.00; M/L=1.00; BH=0.0; chi2/DOF=nan\n",
      "Total mass MGE (MSun): 8.360e+12\n",
      "\n",
      "sigma_e: 134.59 km/s\n"
     ]
    },
    {
     "name": "stdout",
     "output_type": "stream",
     "text": [
      "jam_axi_proj(align='sph', moment='zz') -- elapsed time sec: 0.94\n",
      "analytic_los=0 logistic=0 constant_anisotropy=1\n",
      "No PSF/pixel convolution because sigmapsf=0 pixsize=0\n",
      "inc=86.9; beta[0]=0.0; kappa=1.00; M/L=1.00; BH=0.0; chi2/DOF=nan\n",
      "Total mass MGE (MSun): 8.360e+12\n",
      "\n",
      "sigma_e: 133.36 km/s\n"
     ]
    },
    {
     "name": "stdout",
     "output_type": "stream",
     "text": [
      "jam_axi_proj(align='sph', moment='zz') -- elapsed time sec: 0.96\n",
      "analytic_los=0 logistic=0 constant_anisotropy=1\n",
      "No PSF/pixel convolution because sigmapsf=0 pixsize=0\n",
      "inc=80.8; beta[0]=0.0; kappa=1.00; M/L=1.00; BH=0.0; chi2/DOF=nan\n",
      "Total mass MGE (MSun): 7.375e+12\n",
      "\n",
      "sigma_e: 126.49 km/s\n"
     ]
    },
    {
     "name": "stdout",
     "output_type": "stream",
     "text": [
      "jam_axi_proj(align='sph', moment='zz') -- elapsed time sec: 0.89\n",
      "analytic_los=0 logistic=0 constant_anisotropy=1\n",
      "No PSF/pixel convolution because sigmapsf=0 pixsize=0\n",
      "inc=21.8; beta[0]=0.0; kappa=1.00; M/L=1.00; BH=0.0; chi2/DOF=nan\n",
      "Total mass MGE (MSun): 7.375e+12\n",
      "\n",
      "sigma_e: 147.34 km/s\n"
     ]
    },
    {
     "name": "stdout",
     "output_type": "stream",
     "text": [
      "jam_axi_proj(align='sph', moment='zz') -- elapsed time sec: 0.97\n",
      "analytic_los=0 logistic=0 constant_anisotropy=1\n",
      "No PSF/pixel convolution because sigmapsf=0 pixsize=0\n",
      "inc=86.6; beta[0]=0.0; kappa=1.00; M/L=1.00; BH=0.0; chi2/DOF=nan\n",
      "Total mass MGE (MSun): 7.375e+12\n",
      "\n",
      "sigma_e: 124.17 km/s\n"
     ]
    },
    {
     "name": "stdout",
     "output_type": "stream",
     "text": [
      "jam_axi_proj(align='sph', moment='zz') -- elapsed time sec: 0.99\n",
      "analytic_los=0 logistic=0 constant_anisotropy=1\n",
      "No PSF/pixel convolution because sigmapsf=0 pixsize=0\n",
      "inc=81.4; beta[0]=0.0; kappa=1.00; M/L=1.00; BH=0.0; chi2/DOF=nan\n",
      "Total mass MGE (MSun): 7.375e+12\n",
      "\n",
      "sigma_e: 123.67 km/s\n"
     ]
    },
    {
     "name": "stdout",
     "output_type": "stream",
     "text": [
      "jam_axi_proj(align='sph', moment='zz') -- elapsed time sec: 0.99\n",
      "analytic_los=0 logistic=0 constant_anisotropy=1\n",
      "No PSF/pixel convolution because sigmapsf=0 pixsize=0\n",
      "inc=88.0; beta[0]=0.0; kappa=1.00; M/L=1.00; BH=0.0; chi2/DOF=nan\n",
      "Total mass MGE (MSun): 7.375e+12\n",
      "\n",
      "sigma_e: 128.00 km/s\n"
     ]
    },
    {
     "name": "stdout",
     "output_type": "stream",
     "text": [
      "jam_axi_proj(align='sph', moment='zz') -- elapsed time sec: 0.98\n",
      "analytic_los=0 logistic=0 constant_anisotropy=1\n",
      "No PSF/pixel convolution because sigmapsf=0 pixsize=0\n",
      "inc=73.0; beta[0]=0.0; kappa=1.00; M/L=1.00; BH=0.0; chi2/DOF=nan\n",
      "Total mass MGE (MSun): 7.375e+12\n",
      "\n",
      "sigma_e: 141.55 km/s\n"
     ]
    },
    {
     "name": "stdout",
     "output_type": "stream",
     "text": [
      "jam_axi_proj(align='sph', moment='zz') -- elapsed time sec: 0.97\n",
      "analytic_los=0 logistic=0 constant_anisotropy=1\n",
      "No PSF/pixel convolution because sigmapsf=0 pixsize=0\n",
      "inc=68.5; beta[0]=0.0; kappa=1.00; M/L=1.00; BH=0.0; chi2/DOF=nan\n",
      "Total mass MGE (MSun): 7.375e+12\n",
      "\n",
      "sigma_e: 132.70 km/s\n"
     ]
    },
    {
     "name": "stdout",
     "output_type": "stream",
     "text": [
      "jam_axi_proj(align='sph', moment='zz') -- elapsed time sec: 0.91\n",
      "analytic_los=0 logistic=0 constant_anisotropy=1\n",
      "No PSF/pixel convolution because sigmapsf=0 pixsize=0\n",
      "inc=81.8; beta[0]=0.0; kappa=1.00; M/L=1.00; BH=0.0; chi2/DOF=nan\n",
      "Total mass MGE (MSun): 7.375e+12\n",
      "\n",
      "sigma_e: 138.26 km/s\n"
     ]
    },
    {
     "name": "stdout",
     "output_type": "stream",
     "text": [
      "jam_axi_proj(align='sph', moment='zz') -- elapsed time sec: 0.92\n",
      "analytic_los=0 logistic=0 constant_anisotropy=1\n",
      "No PSF/pixel convolution because sigmapsf=0 pixsize=0\n",
      "inc=66.2; beta[0]=0.0; kappa=1.00; M/L=1.00; BH=0.0; chi2/DOF=nan\n",
      "Total mass MGE (MSun): 7.375e+12\n",
      "\n",
      "sigma_e: 142.80 km/s\n"
     ]
    },
    {
     "name": "stdout",
     "output_type": "stream",
     "text": [
      "jam_axi_proj(align='sph', moment='zz') -- elapsed time sec: 0.96\n",
      "analytic_los=0 logistic=0 constant_anisotropy=1\n",
      "No PSF/pixel convolution because sigmapsf=0 pixsize=0\n",
      "inc=79.9; beta[0]=0.0; kappa=1.00; M/L=1.00; BH=0.0; chi2/DOF=nan\n",
      "Total mass MGE (MSun): 7.375e+12\n",
      "\n",
      "sigma_e: 141.63 km/s\n"
     ]
    },
    {
     "name": "stdout",
     "output_type": "stream",
     "text": [
      "jam_axi_proj(align='sph', moment='zz') -- elapsed time sec: 0.94\n",
      "analytic_los=0 logistic=0 constant_anisotropy=1\n",
      "No PSF/pixel convolution because sigmapsf=0 pixsize=0\n",
      "inc=32.2; beta[0]=0.0; kappa=1.00; M/L=1.00; BH=0.0; chi2/DOF=nan\n",
      "Total mass MGE (MSun): 7.865e+12\n",
      "\n",
      "sigma_e: 150.69 km/s\n"
     ]
    },
    {
     "name": "stdout",
     "output_type": "stream",
     "text": [
      "jam_axi_proj(align='sph', moment='zz') -- elapsed time sec: 0.94\n",
      "analytic_los=0 logistic=0 constant_anisotropy=1\n",
      "No PSF/pixel convolution because sigmapsf=0 pixsize=0\n",
      "inc=72.0; beta[0]=0.0; kappa=1.00; M/L=1.00; BH=0.0; chi2/DOF=nan\n",
      "Total mass MGE (MSun): 7.865e+12\n",
      "\n",
      "sigma_e: 139.30 km/s\n"
     ]
    },
    {
     "name": "stdout",
     "output_type": "stream",
     "text": [
      "jam_axi_proj(align='sph', moment='zz') -- elapsed time sec: 0.95\n",
      "analytic_los=0 logistic=0 constant_anisotropy=1\n",
      "No PSF/pixel convolution because sigmapsf=0 pixsize=0\n",
      "inc=67.9; beta[0]=0.0; kappa=1.00; M/L=1.00; BH=0.0; chi2/DOF=nan\n",
      "Total mass MGE (MSun): 7.865e+12\n",
      "\n",
      "sigma_e: 136.03 km/s\n"
     ]
    },
    {
     "name": "stdout",
     "output_type": "stream",
     "text": [
      "jam_axi_proj(align='sph', moment='zz') -- elapsed time sec: 0.95\n",
      "analytic_los=0 logistic=0 constant_anisotropy=1\n",
      "No PSF/pixel convolution because sigmapsf=0 pixsize=0\n",
      "inc=69.7; beta[0]=0.0; kappa=1.00; M/L=1.00; BH=0.0; chi2/DOF=nan\n",
      "Total mass MGE (MSun): 7.865e+12\n",
      "\n",
      "sigma_e: 141.76 km/s\n"
     ]
    },
    {
     "name": "stdout",
     "output_type": "stream",
     "text": [
      "jam_axi_proj(align='sph', moment='zz') -- elapsed time sec: 0.95\n",
      "analytic_los=0 logistic=0 constant_anisotropy=1\n",
      "No PSF/pixel convolution because sigmapsf=0 pixsize=0\n",
      "inc=62.2; beta[0]=0.0; kappa=1.00; M/L=1.00; BH=0.0; chi2/DOF=nan\n",
      "Total mass MGE (MSun): 7.865e+12\n",
      "\n",
      "sigma_e: 135.84 km/s\n"
     ]
    },
    {
     "name": "stdout",
     "output_type": "stream",
     "text": [
      "jam_axi_proj(align='sph', moment='zz') -- elapsed time sec: 0.96\n",
      "analytic_los=0 logistic=0 constant_anisotropy=1\n",
      "No PSF/pixel convolution because sigmapsf=0 pixsize=0\n",
      "inc=59.5; beta[0]=0.0; kappa=1.00; M/L=1.00; BH=0.0; chi2/DOF=nan\n",
      "Total mass MGE (MSun): 7.865e+12\n",
      "\n",
      "sigma_e: 137.14 km/s\n"
     ]
    },
    {
     "name": "stdout",
     "output_type": "stream",
     "text": [
      "jam_axi_proj(align='sph', moment='zz') -- elapsed time sec: 0.91\n",
      "analytic_los=0 logistic=0 constant_anisotropy=1\n",
      "No PSF/pixel convolution because sigmapsf=0 pixsize=0\n",
      "inc=46.7; beta[0]=0.0; kappa=1.00; M/L=1.00; BH=0.0; chi2/DOF=nan\n",
      "Total mass MGE (MSun): 7.865e+12\n",
      "\n",
      "sigma_e: 150.52 km/s\n"
     ]
    },
    {
     "name": "stdout",
     "output_type": "stream",
     "text": [
      "jam_axi_proj(align='sph', moment='zz') -- elapsed time sec: 0.75\n",
      "analytic_los=0 logistic=0 constant_anisotropy=1\n",
      "No PSF/pixel convolution because sigmapsf=0 pixsize=0\n",
      "inc=73.6; beta[0]=0.0; kappa=1.00; M/L=1.00; BH=0.0; chi2/DOF=nan\n",
      "Total mass MGE (MSun): 7.865e+12\n",
      "\n",
      "sigma_e: 147.56 km/s\n"
     ]
    },
    {
     "name": "stdout",
     "output_type": "stream",
     "text": [
      "jam_axi_proj(align='sph', moment='zz') -- elapsed time sec: 0.92\n",
      "analytic_los=0 logistic=0 constant_anisotropy=1\n",
      "No PSF/pixel convolution because sigmapsf=0 pixsize=0\n",
      "inc=68.2; beta[0]=0.0; kappa=1.00; M/L=1.00; BH=0.0; chi2/DOF=nan\n",
      "Total mass MGE (MSun): 7.865e+12\n",
      "\n",
      "sigma_e: 139.02 km/s\n"
     ]
    },
    {
     "name": "stdout",
     "output_type": "stream",
     "text": [
      "jam_axi_proj(align='sph', moment='zz') -- elapsed time sec: 0.92\n",
      "analytic_los=0 logistic=0 constant_anisotropy=1\n",
      "No PSF/pixel convolution because sigmapsf=0 pixsize=0\n",
      "inc=43.5; beta[0]=0.0; kappa=1.00; M/L=1.00; BH=0.0; chi2/DOF=nan\n",
      "Total mass MGE (MSun): 7.865e+12\n",
      "\n",
      "sigma_e: 149.59 km/s\n"
     ]
    },
    {
     "name": "stdout",
     "output_type": "stream",
     "text": [
      "jam_axi_proj(align='sph', moment='zz') -- elapsed time sec: 0.92\n",
      "analytic_los=0 logistic=0 constant_anisotropy=1\n",
      "No PSF/pixel convolution because sigmapsf=0 pixsize=0\n",
      "inc=61.1; beta[0]=0.0; kappa=1.00; M/L=1.00; BH=0.0; chi2/DOF=nan\n",
      "Total mass MGE (MSun): 7.658e+12\n",
      "\n",
      "sigma_e: 152.91 km/s\n"
     ]
    },
    {
     "name": "stdout",
     "output_type": "stream",
     "text": [
      "jam_axi_proj(align='sph', moment='zz') -- elapsed time sec: 1.04\n",
      "analytic_los=0 logistic=0 constant_anisotropy=1\n",
      "No PSF/pixel convolution because sigmapsf=0 pixsize=0\n",
      "inc=71.6; beta[0]=0.0; kappa=1.00; M/L=1.00; BH=0.0; chi2/DOF=nan\n",
      "Total mass MGE (MSun): 7.658e+12\n",
      "\n",
      "sigma_e: 144.35 km/s\n"
     ]
    },
    {
     "name": "stdout",
     "output_type": "stream",
     "text": [
      "jam_axi_proj(align='sph', moment='zz') -- elapsed time sec: 0.95\n",
      "analytic_los=0 logistic=0 constant_anisotropy=1\n",
      "No PSF/pixel convolution because sigmapsf=0 pixsize=0\n",
      "inc=84.4; beta[0]=0.0; kappa=1.00; M/L=1.00; BH=0.0; chi2/DOF=nan\n",
      "Total mass MGE (MSun): 7.658e+12\n",
      "\n",
      "sigma_e: 133.35 km/s\n"
     ]
    },
    {
     "name": "stdout",
     "output_type": "stream",
     "text": [
      "jam_axi_proj(align='sph', moment='zz') -- elapsed time sec: 0.94\n",
      "analytic_los=0 logistic=0 constant_anisotropy=1\n",
      "No PSF/pixel convolution because sigmapsf=0 pixsize=0\n",
      "inc=48.9; beta[0]=0.0; kappa=1.00; M/L=1.00; BH=0.0; chi2/DOF=nan\n",
      "Total mass MGE (MSun): 7.658e+12\n",
      "\n",
      "sigma_e: 154.65 km/s\n"
     ]
    },
    {
     "name": "stdout",
     "output_type": "stream",
     "text": [
      "jam_axi_proj(align='sph', moment='zz') -- elapsed time sec: 0.99\n",
      "analytic_los=0 logistic=0 constant_anisotropy=1\n",
      "No PSF/pixel convolution because sigmapsf=0 pixsize=0\n",
      "inc=82.8; beta[0]=0.0; kappa=1.00; M/L=1.00; BH=0.0; chi2/DOF=nan\n",
      "Total mass MGE (MSun): 7.658e+12\n",
      "\n",
      "sigma_e: 137.95 km/s\n"
     ]
    },
    {
     "name": "stdout",
     "output_type": "stream",
     "text": [
      "jam_axi_proj(align='sph', moment='zz') -- elapsed time sec: 0.98\n",
      "analytic_los=0 logistic=0 constant_anisotropy=1\n",
      "No PSF/pixel convolution because sigmapsf=0 pixsize=0\n",
      "inc=84.7; beta[0]=0.0; kappa=1.00; M/L=1.00; BH=0.0; chi2/DOF=nan\n",
      "Total mass MGE (MSun): 7.658e+12\n",
      "\n",
      "sigma_e: 125.72 km/s\n"
     ]
    },
    {
     "name": "stdout",
     "output_type": "stream",
     "text": [
      "jam_axi_proj(align='sph', moment='zz') -- elapsed time sec: 0.96\n",
      "analytic_los=0 logistic=0 constant_anisotropy=1\n",
      "No PSF/pixel convolution because sigmapsf=0 pixsize=0\n",
      "inc=77.2; beta[0]=0.0; kappa=1.00; M/L=1.00; BH=0.0; chi2/DOF=nan\n",
      "Total mass MGE (MSun): 7.658e+12\n",
      "\n",
      "sigma_e: 140.48 km/s\n"
     ]
    },
    {
     "name": "stdout",
     "output_type": "stream",
     "text": [
      "jam_axi_proj(align='sph', moment='zz') -- elapsed time sec: 0.92\n",
      "analytic_los=0 logistic=0 constant_anisotropy=1\n",
      "No PSF/pixel convolution because sigmapsf=0 pixsize=0\n",
      "inc=62.6; beta[0]=0.0; kappa=1.00; M/L=1.00; BH=0.0; chi2/DOF=nan\n",
      "Total mass MGE (MSun): 7.658e+12\n",
      "\n",
      "sigma_e: 141.93 km/s\n"
     ]
    },
    {
     "name": "stdout",
     "output_type": "stream",
     "text": [
      "jam_axi_proj(align='sph', moment='zz') -- elapsed time sec: 0.98\n",
      "analytic_los=0 logistic=0 constant_anisotropy=1\n",
      "No PSF/pixel convolution because sigmapsf=0 pixsize=0\n",
      "inc=74.4; beta[0]=0.0; kappa=1.00; M/L=1.00; BH=0.0; chi2/DOF=nan\n",
      "Total mass MGE (MSun): 7.658e+12\n",
      "\n",
      "sigma_e: 139.05 km/s\n"
     ]
    },
    {
     "name": "stdout",
     "output_type": "stream",
     "text": [
      "jam_axi_proj(align='sph', moment='zz') -- elapsed time sec: 0.96\n",
      "analytic_los=0 logistic=0 constant_anisotropy=1\n",
      "No PSF/pixel convolution because sigmapsf=0 pixsize=0\n",
      "inc=83.7; beta[0]=0.0; kappa=1.00; M/L=1.00; BH=0.0; chi2/DOF=nan\n",
      "Total mass MGE (MSun): 7.658e+12\n",
      "\n",
      "sigma_e: 127.41 km/s\n"
     ]
    },
    {
     "name": "stdout",
     "output_type": "stream",
     "text": [
      "jam_axi_proj(align='sph', moment='zz') -- elapsed time sec: 0.99\n",
      "analytic_los=0 logistic=0 constant_anisotropy=1\n",
      "No PSF/pixel convolution because sigmapsf=0 pixsize=0\n",
      "inc=89.1; beta[0]=0.0; kappa=1.00; M/L=1.00; BH=0.0; chi2/DOF=nan\n",
      "Total mass MGE (MSun): 8.623e+12\n",
      "\n",
      "sigma_e: 140.20 km/s\n"
     ]
    },
    {
     "name": "stdout",
     "output_type": "stream",
     "text": [
      "jam_axi_proj(align='sph', moment='zz') -- elapsed time sec: 0.98\n",
      "analytic_los=0 logistic=0 constant_anisotropy=1\n",
      "No PSF/pixel convolution because sigmapsf=0 pixsize=0\n",
      "inc=74.7; beta[0]=0.0; kappa=1.00; M/L=1.00; BH=0.0; chi2/DOF=nan\n",
      "Total mass MGE (MSun): 8.623e+12\n",
      "\n",
      "sigma_e: 149.89 km/s\n"
     ]
    },
    {
     "name": "stdout",
     "output_type": "stream",
     "text": [
      "jam_axi_proj(align='sph', moment='zz') -- elapsed time sec: 0.93\n",
      "analytic_los=0 logistic=0 constant_anisotropy=1\n",
      "No PSF/pixel convolution because sigmapsf=0 pixsize=0\n",
      "inc=75.5; beta[0]=0.0; kappa=1.00; M/L=1.00; BH=0.0; chi2/DOF=nan\n",
      "Total mass MGE (MSun): 8.623e+12\n",
      "\n",
      "sigma_e: 139.26 km/s\n"
     ]
    },
    {
     "name": "stdout",
     "output_type": "stream",
     "text": [
      "jam_axi_proj(align='sph', moment='zz') -- elapsed time sec: 0.94\n",
      "analytic_los=0 logistic=0 constant_anisotropy=1\n",
      "No PSF/pixel convolution because sigmapsf=0 pixsize=0\n",
      "inc=57.4; beta[0]=0.0; kappa=1.00; M/L=1.00; BH=0.0; chi2/DOF=nan\n",
      "Total mass MGE (MSun): 8.623e+12\n",
      "\n",
      "sigma_e: 142.20 km/s\n"
     ]
    },
    {
     "name": "stdout",
     "output_type": "stream",
     "text": [
      "jam_axi_proj(align='sph', moment='zz') -- elapsed time sec: 0.95\n",
      "analytic_los=0 logistic=0 constant_anisotropy=1\n",
      "No PSF/pixel convolution because sigmapsf=0 pixsize=0\n",
      "inc=68.9; beta[0]=0.0; kappa=1.00; M/L=1.00; BH=0.0; chi2/DOF=nan\n",
      "Total mass MGE (MSun): 8.623e+12\n",
      "\n",
      "sigma_e: 140.73 km/s\n"
     ]
    },
    {
     "name": "stdout",
     "output_type": "stream",
     "text": [
      "jam_axi_proj(align='sph', moment='zz') -- elapsed time sec: 0.91\n",
      "analytic_los=0 logistic=0 constant_anisotropy=1\n",
      "No PSF/pixel convolution because sigmapsf=0 pixsize=0\n",
      "inc=77.3; beta[0]=0.0; kappa=1.00; M/L=1.00; BH=0.0; chi2/DOF=nan\n",
      "Total mass MGE (MSun): 8.623e+12\n",
      "\n",
      "sigma_e: 155.18 km/s\n"
     ]
    },
    {
     "name": "stdout",
     "output_type": "stream",
     "text": [
      "jam_axi_proj(align='sph', moment='zz') -- elapsed time sec: 0.83\n",
      "analytic_los=0 logistic=0 constant_anisotropy=1\n",
      "No PSF/pixel convolution because sigmapsf=0 pixsize=0\n",
      "inc=50.3; beta[0]=0.0; kappa=1.00; M/L=1.00; BH=0.0; chi2/DOF=nan\n",
      "Total mass MGE (MSun): 8.623e+12\n",
      "\n",
      "sigma_e: 151.50 km/s\n"
     ]
    },
    {
     "name": "stdout",
     "output_type": "stream",
     "text": [
      "jam_axi_proj(align='sph', moment='zz') -- elapsed time sec: 0.95\n",
      "analytic_los=0 logistic=0 constant_anisotropy=1\n",
      "No PSF/pixel convolution because sigmapsf=0 pixsize=0\n",
      "inc=84.2; beta[0]=0.0; kappa=1.00; M/L=1.00; BH=0.0; chi2/DOF=nan\n",
      "Total mass MGE (MSun): 8.623e+12\n",
      "\n",
      "sigma_e: 143.04 km/s\n"
     ]
    },
    {
     "name": "stdout",
     "output_type": "stream",
     "text": [
      "jam_axi_proj(align='sph', moment='zz') -- elapsed time sec: 0.97\n",
      "analytic_los=0 logistic=0 constant_anisotropy=1\n",
      "No PSF/pixel convolution because sigmapsf=0 pixsize=0\n",
      "inc=84.1; beta[0]=0.0; kappa=1.00; M/L=1.00; BH=0.0; chi2/DOF=nan\n",
      "Total mass MGE (MSun): 8.623e+12\n",
      "\n",
      "sigma_e: 146.36 km/s\n"
     ]
    },
    {
     "name": "stdout",
     "output_type": "stream",
     "text": [
      "jam_axi_proj(align='sph', moment='zz') -- elapsed time sec: 0.95\n",
      "analytic_los=0 logistic=0 constant_anisotropy=1\n",
      "No PSF/pixel convolution because sigmapsf=0 pixsize=0\n",
      "inc=85.0; beta[0]=0.0; kappa=1.00; M/L=1.00; BH=0.0; chi2/DOF=nan\n",
      "Total mass MGE (MSun): 8.623e+12\n",
      "\n",
      "sigma_e: 132.92 km/s\n"
     ]
    },
    {
     "name": "stdout",
     "output_type": "stream",
     "text": [
      "jam_axi_proj(align='sph', moment='zz') -- elapsed time sec: 0.83\n",
      "analytic_los=0 logistic=0 constant_anisotropy=1\n",
      "No PSF/pixel convolution because sigmapsf=0 pixsize=0\n",
      "inc=61.5; beta[0]=0.0; kappa=1.00; M/L=1.00; BH=0.0; chi2/DOF=nan\n",
      "Total mass MGE (MSun): 7.814e+12\n",
      "\n",
      "sigma_e: 136.03 km/s\n"
     ]
    },
    {
     "name": "stdout",
     "output_type": "stream",
     "text": [
      "jam_axi_proj(align='sph', moment='zz') -- elapsed time sec: 0.94\n",
      "analytic_los=0 logistic=0 constant_anisotropy=1\n",
      "No PSF/pixel convolution because sigmapsf=0 pixsize=0\n",
      "inc=43.8; beta[0]=0.0; kappa=1.00; M/L=1.00; BH=0.0; chi2/DOF=nan\n",
      "Total mass MGE (MSun): 7.814e+12\n",
      "\n",
      "sigma_e: 139.31 km/s\n"
     ]
    },
    {
     "name": "stdout",
     "output_type": "stream",
     "text": [
      "jam_axi_proj(align='sph', moment='zz') -- elapsed time sec: 0.95\n",
      "analytic_los=0 logistic=0 constant_anisotropy=1\n",
      "No PSF/pixel convolution because sigmapsf=0 pixsize=0\n",
      "inc=63.8; beta[0]=0.0; kappa=1.00; M/L=1.00; BH=0.0; chi2/DOF=nan\n",
      "Total mass MGE (MSun): 7.814e+12\n",
      "\n",
      "sigma_e: 136.11 km/s\n"
     ]
    },
    {
     "name": "stdout",
     "output_type": "stream",
     "text": [
      "jam_axi_proj(align='sph', moment='zz') -- elapsed time sec: 0.94\n",
      "analytic_los=0 logistic=0 constant_anisotropy=1\n",
      "No PSF/pixel convolution because sigmapsf=0 pixsize=0\n",
      "inc=46.0; beta[0]=0.0; kappa=1.00; M/L=1.00; BH=0.0; chi2/DOF=nan\n",
      "Total mass MGE (MSun): 7.814e+12\n",
      "\n",
      "sigma_e: 137.16 km/s\n"
     ]
    },
    {
     "name": "stdout",
     "output_type": "stream",
     "text": [
      "jam_axi_proj(align='sph', moment='zz') -- elapsed time sec: 0.94\n",
      "analytic_los=0 logistic=0 constant_anisotropy=1\n",
      "No PSF/pixel convolution because sigmapsf=0 pixsize=0\n",
      "inc=39.6; beta[0]=0.0; kappa=1.00; M/L=1.00; BH=0.0; chi2/DOF=nan\n",
      "Total mass MGE (MSun): 7.814e+12\n",
      "\n",
      "sigma_e: 137.39 km/s\n"
     ]
    },
    {
     "name": "stdout",
     "output_type": "stream",
     "text": [
      "jam_axi_proj(align='sph', moment='zz') -- elapsed time sec: 0.91\n",
      "analytic_los=0 logistic=0 constant_anisotropy=1\n",
      "No PSF/pixel convolution because sigmapsf=0 pixsize=0\n",
      "inc=68.7; beta[0]=0.0; kappa=1.00; M/L=1.00; BH=0.0; chi2/DOF=nan\n",
      "Total mass MGE (MSun): 7.814e+12\n",
      "\n",
      "sigma_e: 135.62 km/s\n"
     ]
    },
    {
     "name": "stdout",
     "output_type": "stream",
     "text": [
      "jam_axi_proj(align='sph', moment='zz') -- elapsed time sec: 0.89\n",
      "analytic_los=0 logistic=0 constant_anisotropy=1\n",
      "No PSF/pixel convolution because sigmapsf=0 pixsize=0\n",
      "inc=46.7; beta[0]=0.0; kappa=1.00; M/L=1.00; BH=0.0; chi2/DOF=nan\n",
      "Total mass MGE (MSun): 7.814e+12\n",
      "\n",
      "sigma_e: 136.81 km/s\n"
     ]
    },
    {
     "name": "stdout",
     "output_type": "stream",
     "text": [
      "jam_axi_proj(align='sph', moment='zz') -- elapsed time sec: 0.92\n",
      "analytic_los=0 logistic=0 constant_anisotropy=1\n",
      "No PSF/pixel convolution because sigmapsf=0 pixsize=0\n",
      "inc=51.6; beta[0]=0.0; kappa=1.00; M/L=1.00; BH=0.0; chi2/DOF=nan\n",
      "Total mass MGE (MSun): 7.814e+12\n",
      "\n",
      "sigma_e: 144.72 km/s\n"
     ]
    },
    {
     "name": "stdout",
     "output_type": "stream",
     "text": [
      "jam_axi_proj(align='sph', moment='zz') -- elapsed time sec: 0.92\n",
      "analytic_los=0 logistic=0 constant_anisotropy=1\n",
      "No PSF/pixel convolution because sigmapsf=0 pixsize=0\n",
      "inc=43.2; beta[0]=0.0; kappa=1.00; M/L=1.00; BH=0.0; chi2/DOF=nan\n",
      "Total mass MGE (MSun): 7.814e+12\n",
      "\n",
      "sigma_e: 137.46 km/s\n"
     ]
    },
    {
     "name": "stdout",
     "output_type": "stream",
     "text": [
      "jam_axi_proj(align='sph', moment='zz') -- elapsed time sec: 0.98\n",
      "analytic_los=0 logistic=0 constant_anisotropy=1\n",
      "No PSF/pixel convolution because sigmapsf=0 pixsize=0\n",
      "inc=48.6; beta[0]=0.0; kappa=1.00; M/L=1.00; BH=0.0; chi2/DOF=nan\n",
      "Total mass MGE (MSun): 7.814e+12\n",
      "\n",
      "sigma_e: 138.15 km/s\n"
     ]
    },
    {
     "name": "stdout",
     "output_type": "stream",
     "text": [
      "jam_axi_proj(align='sph', moment='zz') -- elapsed time sec: 0.92\n",
      "analytic_los=0 logistic=0 constant_anisotropy=1\n",
      "No PSF/pixel convolution because sigmapsf=0 pixsize=0\n",
      "inc=58.4; beta[0]=0.0; kappa=1.00; M/L=1.00; BH=0.0; chi2/DOF=nan\n",
      "Total mass MGE (MSun): 7.075e+12\n",
      "\n",
      "sigma_e: 132.85 km/s\n"
     ]
    },
    {
     "name": "stdout",
     "output_type": "stream",
     "text": [
      "jam_axi_proj(align='sph', moment='zz') -- elapsed time sec: 0.92\n",
      "analytic_los=0 logistic=0 constant_anisotropy=1\n",
      "No PSF/pixel convolution because sigmapsf=0 pixsize=0\n",
      "inc=56.1; beta[0]=0.0; kappa=1.00; M/L=1.00; BH=0.0; chi2/DOF=nan\n",
      "Total mass MGE (MSun): 7.075e+12\n",
      "\n",
      "sigma_e: 132.06 km/s\n"
     ]
    },
    {
     "name": "stdout",
     "output_type": "stream",
     "text": [
      "jam_axi_proj(align='sph', moment='zz') -- elapsed time sec: 0.97\n",
      "analytic_los=0 logistic=0 constant_anisotropy=1\n",
      "No PSF/pixel convolution because sigmapsf=0 pixsize=0\n",
      "inc=72.9; beta[0]=0.0; kappa=1.00; M/L=1.00; BH=0.0; chi2/DOF=nan\n",
      "Total mass MGE (MSun): 7.075e+12\n",
      "\n",
      "sigma_e: 138.08 km/s\n"
     ]
    },
    {
     "name": "stdout",
     "output_type": "stream",
     "text": [
      "jam_axi_proj(align='sph', moment='zz') -- elapsed time sec: 0.91\n",
      "analytic_los=0 logistic=0 constant_anisotropy=1\n",
      "No PSF/pixel convolution because sigmapsf=0 pixsize=0\n",
      "inc=32.7; beta[0]=0.0; kappa=1.00; M/L=1.00; BH=0.0; chi2/DOF=nan\n",
      "Total mass MGE (MSun): 7.075e+12\n",
      "\n",
      "sigma_e: 142.85 km/s\n"
     ]
    },
    {
     "name": "stdout",
     "output_type": "stream",
     "text": [
      "jam_axi_proj(align='sph', moment='zz') -- elapsed time sec: 0.91\n",
      "analytic_los=0 logistic=0 constant_anisotropy=1\n",
      "No PSF/pixel convolution because sigmapsf=0 pixsize=0\n",
      "inc=68.9; beta[0]=0.0; kappa=1.00; M/L=1.00; BH=0.0; chi2/DOF=nan\n",
      "Total mass MGE (MSun): 7.075e+12\n",
      "\n",
      "sigma_e: 144.84 km/s\n"
     ]
    },
    {
     "name": "stdout",
     "output_type": "stream",
     "text": [
      "jam_axi_proj(align='sph', moment='zz') -- elapsed time sec: 0.97\n",
      "analytic_los=0 logistic=0 constant_anisotropy=1\n",
      "No PSF/pixel convolution because sigmapsf=0 pixsize=0\n",
      "inc=68.0; beta[0]=0.0; kappa=1.00; M/L=1.00; BH=0.0; chi2/DOF=nan\n",
      "Total mass MGE (MSun): 7.075e+12\n",
      "\n",
      "sigma_e: 140.88 km/s\n"
     ]
    },
    {
     "name": "stdout",
     "output_type": "stream",
     "text": [
      "jam_axi_proj(align='sph', moment='zz') -- elapsed time sec: 0.98\n",
      "analytic_los=0 logistic=0 constant_anisotropy=1\n",
      "No PSF/pixel convolution because sigmapsf=0 pixsize=0\n",
      "inc=85.0; beta[0]=0.0; kappa=1.00; M/L=1.00; BH=0.0; chi2/DOF=nan\n",
      "Total mass MGE (MSun): 7.075e+12\n",
      "\n",
      "sigma_e: 132.40 km/s\n"
     ]
    },
    {
     "name": "stdout",
     "output_type": "stream",
     "text": [
      "jam_axi_proj(align='sph', moment='zz') -- elapsed time sec: 0.98\n",
      "analytic_los=0 logistic=0 constant_anisotropy=1\n",
      "No PSF/pixel convolution because sigmapsf=0 pixsize=0\n",
      "inc=79.9; beta[0]=0.0; kappa=1.00; M/L=1.00; BH=0.0; chi2/DOF=nan\n",
      "Total mass MGE (MSun): 7.075e+12\n",
      "\n",
      "sigma_e: 127.71 km/s\n"
     ]
    },
    {
     "name": "stdout",
     "output_type": "stream",
     "text": [
      "jam_axi_proj(align='sph', moment='zz') -- elapsed time sec: 0.95\n",
      "analytic_los=0 logistic=0 constant_anisotropy=1\n",
      "No PSF/pixel convolution because sigmapsf=0 pixsize=0\n",
      "inc=75.9; beta[0]=0.0; kappa=1.00; M/L=1.00; BH=0.0; chi2/DOF=nan\n",
      "Total mass MGE (MSun): 7.075e+12\n",
      "\n",
      "sigma_e: 133.75 km/s\n"
     ]
    },
    {
     "name": "stdout",
     "output_type": "stream",
     "text": [
      "jam_axi_proj(align='sph', moment='zz') -- elapsed time sec: 0.94\n",
      "analytic_los=0 logistic=0 constant_anisotropy=1\n",
      "No PSF/pixel convolution because sigmapsf=0 pixsize=0\n",
      "inc=58.5; beta[0]=0.0; kappa=1.00; M/L=1.00; BH=0.0; chi2/DOF=nan\n",
      "Total mass MGE (MSun): 7.075e+12\n",
      "\n",
      "sigma_e: 131.82 km/s\n"
     ]
    },
    {
     "name": "stdout",
     "output_type": "stream",
     "text": [
      "jam_axi_proj(align='sph', moment='zz') -- elapsed time sec: 0.98\n",
      "analytic_los=0 logistic=0 constant_anisotropy=1\n",
      "No PSF/pixel convolution because sigmapsf=0 pixsize=0\n",
      "inc=74.1; beta[0]=0.0; kappa=1.00; M/L=1.00; BH=0.0; chi2/DOF=nan\n",
      "Total mass MGE (MSun): 1.246e+13\n",
      "\n",
      "sigma_e: 148.90 km/s\n"
     ]
    },
    {
     "name": "stdout",
     "output_type": "stream",
     "text": [
      "jam_axi_proj(align='sph', moment='zz') -- elapsed time sec: 0.84\n",
      "analytic_los=0 logistic=0 constant_anisotropy=1\n",
      "No PSF/pixel convolution because sigmapsf=0 pixsize=0\n",
      "inc=84.8; beta[0]=0.0; kappa=1.00; M/L=1.00; BH=0.0; chi2/DOF=nan\n",
      "Total mass MGE (MSun): 1.246e+13\n",
      "\n",
      "sigma_e: 166.13 km/s\n"
     ]
    },
    {
     "name": "stdout",
     "output_type": "stream",
     "text": [
      "jam_axi_proj(align='sph', moment='zz') -- elapsed time sec: 0.89\n",
      "analytic_los=0 logistic=0 constant_anisotropy=1\n",
      "No PSF/pixel convolution because sigmapsf=0 pixsize=0\n",
      "inc=82.7; beta[0]=0.0; kappa=1.00; M/L=1.00; BH=0.0; chi2/DOF=nan\n",
      "Total mass MGE (MSun): 1.246e+13\n",
      "\n",
      "sigma_e: 162.82 km/s\n"
     ]
    },
    {
     "name": "stdout",
     "output_type": "stream",
     "text": [
      "jam_axi_proj(align='sph', moment='zz') -- elapsed time sec: 0.98\n",
      "analytic_los=0 logistic=0 constant_anisotropy=1\n",
      "No PSF/pixel convolution because sigmapsf=0 pixsize=0\n",
      "inc=80.8; beta[0]=0.0; kappa=1.00; M/L=1.00; BH=0.0; chi2/DOF=nan\n",
      "Total mass MGE (MSun): 1.246e+13\n",
      "\n",
      "sigma_e: 144.99 km/s\n"
     ]
    },
    {
     "name": "stdout",
     "output_type": "stream",
     "text": [
      "jam_axi_proj(align='sph', moment='zz') -- elapsed time sec: 0.97\n",
      "analytic_los=0 logistic=0 constant_anisotropy=1\n",
      "No PSF/pixel convolution because sigmapsf=0 pixsize=0\n",
      "inc=89.4; beta[0]=0.0; kappa=1.00; M/L=1.00; BH=0.0; chi2/DOF=nan\n",
      "Total mass MGE (MSun): 1.246e+13\n",
      "\n",
      "sigma_e: 151.64 km/s\n"
     ]
    },
    {
     "name": "stdout",
     "output_type": "stream",
     "text": [
      "jam_axi_proj(align='sph', moment='zz') -- elapsed time sec: 0.89\n",
      "analytic_los=0 logistic=0 constant_anisotropy=1\n",
      "No PSF/pixel convolution because sigmapsf=0 pixsize=0\n",
      "inc=62.6; beta[0]=0.0; kappa=1.00; M/L=1.00; BH=0.0; chi2/DOF=nan\n",
      "Total mass MGE (MSun): 1.246e+13\n",
      "\n",
      "sigma_e: 169.15 km/s\n"
     ]
    },
    {
     "name": "stdout",
     "output_type": "stream",
     "text": [
      "jam_axi_proj(align='sph', moment='zz') -- elapsed time sec: 0.94\n",
      "analytic_los=0 logistic=0 constant_anisotropy=1\n",
      "No PSF/pixel convolution because sigmapsf=0 pixsize=0\n",
      "inc=87.4; beta[0]=0.0; kappa=1.00; M/L=1.00; BH=0.0; chi2/DOF=nan\n",
      "Total mass MGE (MSun): 1.246e+13\n",
      "\n",
      "sigma_e: 156.97 km/s\n"
     ]
    },
    {
     "name": "stdout",
     "output_type": "stream",
     "text": [
      "jam_axi_proj(align='sph', moment='zz') -- elapsed time sec: 0.92\n",
      "analytic_los=0 logistic=0 constant_anisotropy=1\n",
      "No PSF/pixel convolution because sigmapsf=0 pixsize=0\n",
      "inc=46.9; beta[0]=0.0; kappa=1.00; M/L=1.00; BH=0.0; chi2/DOF=nan\n",
      "Total mass MGE (MSun): 1.246e+13\n",
      "\n",
      "sigma_e: 166.57 km/s\n"
     ]
    },
    {
     "name": "stdout",
     "output_type": "stream",
     "text": [
      "jam_axi_proj(align='sph', moment='zz') -- elapsed time sec: 0.90\n",
      "analytic_los=0 logistic=0 constant_anisotropy=1\n",
      "No PSF/pixel convolution because sigmapsf=0 pixsize=0\n",
      "inc=60.2; beta[0]=0.0; kappa=1.00; M/L=1.00; BH=0.0; chi2/DOF=nan\n",
      "Total mass MGE (MSun): 1.246e+13\n",
      "\n",
      "sigma_e: 164.49 km/s\n"
     ]
    },
    {
     "name": "stdout",
     "output_type": "stream",
     "text": [
      "jam_axi_proj(align='sph', moment='zz') -- elapsed time sec: 1.02\n",
      "analytic_los=0 logistic=0 constant_anisotropy=1\n",
      "No PSF/pixel convolution because sigmapsf=0 pixsize=0\n",
      "inc=90.0; beta[0]=0.0; kappa=1.00; M/L=1.00; BH=0.0; chi2/DOF=nan\n",
      "Total mass MGE (MSun): 1.246e+13\n",
      "\n",
      "sigma_e: 147.38 km/s\n"
     ]
    },
    {
     "name": "stdout",
     "output_type": "stream",
     "text": [
      "jam_axi_proj(align='sph', moment='zz') -- elapsed time sec: 0.93\n",
      "analytic_los=0 logistic=0 constant_anisotropy=1\n",
      "No PSF/pixel convolution because sigmapsf=0 pixsize=0\n",
      "inc=85.9; beta[0]=0.0; kappa=1.00; M/L=1.00; BH=0.0; chi2/DOF=nan\n",
      "Total mass MGE (MSun): 6.995e+12\n",
      "\n",
      "sigma_e: 119.31 km/s\n"
     ]
    },
    {
     "name": "stdout",
     "output_type": "stream",
     "text": [
      "jam_axi_proj(align='sph', moment='zz') -- elapsed time sec: 0.92\n",
      "analytic_los=0 logistic=0 constant_anisotropy=1\n",
      "No PSF/pixel convolution because sigmapsf=0 pixsize=0\n",
      "inc=86.8; beta[0]=0.0; kappa=1.00; M/L=1.00; BH=0.0; chi2/DOF=nan\n",
      "Total mass MGE (MSun): 6.995e+12\n",
      "\n",
      "sigma_e: 119.83 km/s\n"
     ]
    },
    {
     "name": "stdout",
     "output_type": "stream",
     "text": [
      "jam_axi_proj(align='sph', moment='zz') -- elapsed time sec: 0.94\n",
      "analytic_los=0 logistic=0 constant_anisotropy=1\n",
      "No PSF/pixel convolution because sigmapsf=0 pixsize=0\n",
      "inc=88.3; beta[0]=0.0; kappa=1.00; M/L=1.00; BH=0.0; chi2/DOF=nan\n",
      "Total mass MGE (MSun): 6.995e+12\n",
      "\n",
      "sigma_e: 131.14 km/s\n"
     ]
    },
    {
     "name": "stdout",
     "output_type": "stream",
     "text": [
      "jam_axi_proj(align='sph', moment='zz') -- elapsed time sec: 0.97\n",
      "analytic_los=0 logistic=0 constant_anisotropy=1\n",
      "No PSF/pixel convolution because sigmapsf=0 pixsize=0\n",
      "inc=83.5; beta[0]=0.0; kappa=1.00; M/L=1.00; BH=0.0; chi2/DOF=nan\n",
      "Total mass MGE (MSun): 6.995e+12\n",
      "\n",
      "sigma_e: 131.20 km/s\n"
     ]
    },
    {
     "name": "stdout",
     "output_type": "stream",
     "text": [
      "jam_axi_proj(align='sph', moment='zz') -- elapsed time sec: 1.00\n",
      "analytic_los=0 logistic=0 constant_anisotropy=1\n",
      "No PSF/pixel convolution because sigmapsf=0 pixsize=0\n",
      "inc=87.7; beta[0]=0.0; kappa=1.00; M/L=1.00; BH=0.0; chi2/DOF=nan\n",
      "Total mass MGE (MSun): 6.995e+12\n",
      "\n",
      "sigma_e: 142.88 km/s\n"
     ]
    },
    {
     "name": "stdout",
     "output_type": "stream",
     "text": [
      "jam_axi_proj(align='sph', moment='zz') -- elapsed time sec: 0.95\n",
      "analytic_los=0 logistic=0 constant_anisotropy=1\n",
      "No PSF/pixel convolution because sigmapsf=0 pixsize=0\n",
      "inc=59.9; beta[0]=0.0; kappa=1.00; M/L=1.00; BH=0.0; chi2/DOF=nan\n",
      "Total mass MGE (MSun): 6.995e+12\n",
      "\n",
      "sigma_e: 142.81 km/s\n"
     ]
    },
    {
     "name": "stdout",
     "output_type": "stream",
     "text": [
      "jam_axi_proj(align='sph', moment='zz') -- elapsed time sec: 0.94\n",
      "analytic_los=0 logistic=0 constant_anisotropy=1\n",
      "No PSF/pixel convolution because sigmapsf=0 pixsize=0\n",
      "inc=61.9; beta[0]=0.0; kappa=1.00; M/L=1.00; BH=0.0; chi2/DOF=nan\n",
      "Total mass MGE (MSun): 6.995e+12\n",
      "\n",
      "sigma_e: 133.46 km/s\n"
     ]
    },
    {
     "name": "stdout",
     "output_type": "stream",
     "text": [
      "jam_axi_proj(align='sph', moment='zz') -- elapsed time sec: 0.93\n",
      "analytic_los=0 logistic=0 constant_anisotropy=1\n",
      "No PSF/pixel convolution because sigmapsf=0 pixsize=0\n",
      "inc=81.3; beta[0]=0.0; kappa=1.00; M/L=1.00; BH=0.0; chi2/DOF=nan\n",
      "Total mass MGE (MSun): 6.995e+12\n",
      "\n",
      "sigma_e: 119.58 km/s\n"
     ]
    },
    {
     "name": "stdout",
     "output_type": "stream",
     "text": [
      "jam_axi_proj(align='sph', moment='zz') -- elapsed time sec: 0.91\n",
      "analytic_los=0 logistic=0 constant_anisotropy=1\n",
      "No PSF/pixel convolution because sigmapsf=0 pixsize=0\n",
      "inc=38.7; beta[0]=0.0; kappa=1.00; M/L=1.00; BH=0.0; chi2/DOF=nan\n",
      "Total mass MGE (MSun): 6.995e+12\n",
      "\n",
      "sigma_e: 146.96 km/s\n"
     ]
    },
    {
     "name": "stdout",
     "output_type": "stream",
     "text": [
      "jam_axi_proj(align='sph', moment='zz') -- elapsed time sec: 0.89\n",
      "analytic_los=0 logistic=0 constant_anisotropy=1\n",
      "No PSF/pixel convolution because sigmapsf=0 pixsize=0\n",
      "inc=31.3; beta[0]=0.0; kappa=1.00; M/L=1.00; BH=0.0; chi2/DOF=nan\n",
      "Total mass MGE (MSun): 6.995e+12\n",
      "\n",
      "sigma_e: 142.80 km/s\n"
     ]
    },
    {
     "name": "stdout",
     "output_type": "stream",
     "text": [
      "jam_axi_proj(align='sph', moment='zz') -- elapsed time sec: 0.94\n",
      "analytic_los=0 logistic=0 constant_anisotropy=1\n",
      "No PSF/pixel convolution because sigmapsf=0 pixsize=0\n",
      "inc=58.8; beta[0]=0.0; kappa=1.00; M/L=1.00; BH=0.0; chi2/DOF=nan\n",
      "Total mass MGE (MSun): 7.998e+12\n",
      "\n",
      "sigma_e: 137.47 km/s\n"
     ]
    },
    {
     "name": "stdout",
     "output_type": "stream",
     "text": [
      "jam_axi_proj(align='sph', moment='zz') -- elapsed time sec: 0.99\n",
      "analytic_los=0 logistic=0 constant_anisotropy=1\n",
      "No PSF/pixel convolution because sigmapsf=0 pixsize=0\n",
      "inc=75.6; beta[0]=0.0; kappa=1.00; M/L=1.00; BH=0.0; chi2/DOF=nan\n",
      "Total mass MGE (MSun): 7.998e+12\n",
      "\n",
      "sigma_e: 133.87 km/s\n"
     ]
    },
    {
     "name": "stdout",
     "output_type": "stream",
     "text": [
      "jam_axi_proj(align='sph', moment='zz') -- elapsed time sec: 0.98\n",
      "analytic_los=0 logistic=0 constant_anisotropy=1\n",
      "No PSF/pixel convolution because sigmapsf=0 pixsize=0\n",
      "inc=85.9; beta[0]=0.0; kappa=1.00; M/L=1.00; BH=0.0; chi2/DOF=nan\n",
      "Total mass MGE (MSun): 7.998e+12\n",
      "\n",
      "sigma_e: 129.42 km/s\n"
     ]
    },
    {
     "name": "stdout",
     "output_type": "stream",
     "text": [
      "jam_axi_proj(align='sph', moment='zz') -- elapsed time sec: 0.97\n",
      "analytic_los=0 logistic=0 constant_anisotropy=1\n",
      "No PSF/pixel convolution because sigmapsf=0 pixsize=0\n",
      "inc=85.4; beta[0]=0.0; kappa=1.00; M/L=1.00; BH=0.0; chi2/DOF=nan\n",
      "Total mass MGE (MSun): 7.998e+12\n",
      "\n",
      "sigma_e: 141.49 km/s\n"
     ]
    },
    {
     "name": "stdout",
     "output_type": "stream",
     "text": [
      "jam_axi_proj(align='sph', moment='zz') -- elapsed time sec: 0.97\n",
      "analytic_los=0 logistic=0 constant_anisotropy=1\n",
      "No PSF/pixel convolution because sigmapsf=0 pixsize=0\n",
      "inc=83.0; beta[0]=0.0; kappa=1.00; M/L=1.00; BH=0.0; chi2/DOF=nan\n",
      "Total mass MGE (MSun): 7.998e+12\n",
      "\n",
      "sigma_e: 133.74 km/s\n"
     ]
    },
    {
     "name": "stdout",
     "output_type": "stream",
     "text": [
      "jam_axi_proj(align='sph', moment='zz') -- elapsed time sec: 0.97\n",
      "analytic_los=0 logistic=0 constant_anisotropy=1\n",
      "No PSF/pixel convolution because sigmapsf=0 pixsize=0\n",
      "inc=79.3; beta[0]=0.0; kappa=1.00; M/L=1.00; BH=0.0; chi2/DOF=nan\n",
      "Total mass MGE (MSun): 7.998e+12\n",
      "\n",
      "sigma_e: 141.54 km/s\n"
     ]
    },
    {
     "name": "stdout",
     "output_type": "stream",
     "text": [
      "jam_axi_proj(align='sph', moment='zz') -- elapsed time sec: 0.95\n",
      "analytic_los=0 logistic=0 constant_anisotropy=1\n",
      "No PSF/pixel convolution because sigmapsf=0 pixsize=0\n",
      "inc=67.7; beta[0]=0.0; kappa=1.00; M/L=1.00; BH=0.0; chi2/DOF=nan\n",
      "Total mass MGE (MSun): 7.998e+12\n",
      "\n",
      "sigma_e: 145.64 km/s\n"
     ]
    },
    {
     "name": "stdout",
     "output_type": "stream",
     "text": [
      "jam_axi_proj(align='sph', moment='zz') -- elapsed time sec: 0.91\n",
      "analytic_los=0 logistic=0 constant_anisotropy=1\n",
      "No PSF/pixel convolution because sigmapsf=0 pixsize=0\n",
      "inc=77.0; beta[0]=0.0; kappa=1.00; M/L=1.00; BH=0.0; chi2/DOF=nan\n",
      "Total mass MGE (MSun): 7.998e+12\n",
      "\n",
      "sigma_e: 133.23 km/s\n"
     ]
    },
    {
     "name": "stdout",
     "output_type": "stream",
     "text": [
      "jam_axi_proj(align='sph', moment='zz') -- elapsed time sec: 0.92\n",
      "analytic_los=0 logistic=0 constant_anisotropy=1\n",
      "No PSF/pixel convolution because sigmapsf=0 pixsize=0\n",
      "inc=65.6; beta[0]=0.0; kappa=1.00; M/L=1.00; BH=0.0; chi2/DOF=nan\n",
      "Total mass MGE (MSun): 7.998e+12\n",
      "\n",
      "sigma_e: 134.05 km/s\n"
     ]
    },
    {
     "name": "stdout",
     "output_type": "stream",
     "text": [
      "jam_axi_proj(align='sph', moment='zz') -- elapsed time sec: 1.02\n",
      "analytic_los=0 logistic=0 constant_anisotropy=1\n",
      "No PSF/pixel convolution because sigmapsf=0 pixsize=0\n",
      "inc=88.6; beta[0]=0.0; kappa=1.00; M/L=1.00; BH=0.0; chi2/DOF=nan\n",
      "Total mass MGE (MSun): 7.998e+12\n",
      "\n",
      "sigma_e: 147.54 km/s\n"
     ]
    },
    {
     "name": "stdout",
     "output_type": "stream",
     "text": [
      "jam_axi_proj(align='sph', moment='zz') -- elapsed time sec: 0.93\n",
      "analytic_los=0 logistic=0 constant_anisotropy=1\n",
      "No PSF/pixel convolution because sigmapsf=0 pixsize=0\n",
      "inc=35.1; beta[0]=0.0; kappa=1.00; M/L=1.00; BH=0.0; chi2/DOF=nan\n",
      "Total mass MGE (MSun): 8.601e+12\n",
      "\n",
      "sigma_e: 147.40 km/s\n"
     ]
    },
    {
     "name": "stdout",
     "output_type": "stream",
     "text": [
      "jam_axi_proj(align='sph', moment='zz') -- elapsed time sec: 0.91\n",
      "analytic_los=0 logistic=0 constant_anisotropy=1\n",
      "No PSF/pixel convolution because sigmapsf=0 pixsize=0\n",
      "inc=58.8; beta[0]=0.0; kappa=1.00; M/L=1.00; BH=0.0; chi2/DOF=nan\n",
      "Total mass MGE (MSun): 8.601e+12\n",
      "\n",
      "sigma_e: 142.98 km/s\n"
     ]
    },
    {
     "name": "stdout",
     "output_type": "stream",
     "text": [
      "jam_axi_proj(align='sph', moment='zz') -- elapsed time sec: 0.91\n",
      "analytic_los=0 logistic=0 constant_anisotropy=1\n",
      "No PSF/pixel convolution because sigmapsf=0 pixsize=0\n",
      "inc=69.1; beta[0]=0.0; kappa=1.00; M/L=1.00; BH=0.0; chi2/DOF=nan\n",
      "Total mass MGE (MSun): 8.601e+12\n",
      "\n",
      "sigma_e: 138.60 km/s\n"
     ]
    },
    {
     "name": "stdout",
     "output_type": "stream",
     "text": [
      "jam_axi_proj(align='sph', moment='zz') -- elapsed time sec: 0.91\n",
      "analytic_los=0 logistic=0 constant_anisotropy=1\n",
      "No PSF/pixel convolution because sigmapsf=0 pixsize=0\n",
      "inc=42.4; beta[0]=0.0; kappa=1.00; M/L=1.00; BH=0.0; chi2/DOF=nan\n",
      "Total mass MGE (MSun): 8.601e+12\n",
      "\n",
      "sigma_e: 145.87 km/s\n"
     ]
    },
    {
     "name": "stdout",
     "output_type": "stream",
     "text": [
      "jam_axi_proj(align='sph', moment='zz') -- elapsed time sec: 0.86\n",
      "analytic_los=0 logistic=0 constant_anisotropy=1\n",
      "No PSF/pixel convolution because sigmapsf=0 pixsize=0\n",
      "inc=42.9; beta[0]=0.0; kappa=1.00; M/L=1.00; BH=0.0; chi2/DOF=nan\n",
      "Total mass MGE (MSun): 8.601e+12\n",
      "\n",
      "sigma_e: 147.35 km/s\n"
     ]
    },
    {
     "name": "stdout",
     "output_type": "stream",
     "text": [
      "jam_axi_proj(align='sph', moment='zz') -- elapsed time sec: 0.90\n",
      "analytic_los=0 logistic=0 constant_anisotropy=1\n",
      "No PSF/pixel convolution because sigmapsf=0 pixsize=0\n",
      "inc=66.1; beta[0]=0.0; kappa=1.00; M/L=1.00; BH=0.0; chi2/DOF=nan\n",
      "Total mass MGE (MSun): 8.601e+12\n",
      "\n",
      "sigma_e: 139.09 km/s\n"
     ]
    },
    {
     "name": "stdout",
     "output_type": "stream",
     "text": [
      "jam_axi_proj(align='sph', moment='zz') -- elapsed time sec: 0.91\n",
      "analytic_los=0 logistic=0 constant_anisotropy=1\n",
      "No PSF/pixel convolution because sigmapsf=0 pixsize=0\n",
      "inc=88.3; beta[0]=0.0; kappa=1.00; M/L=1.00; BH=0.0; chi2/DOF=nan\n",
      "Total mass MGE (MSun): 8.601e+12\n",
      "\n",
      "sigma_e: 137.73 km/s\n"
     ]
    },
    {
     "name": "stdout",
     "output_type": "stream",
     "text": [
      "jam_axi_proj(align='sph', moment='zz') -- elapsed time sec: 0.95\n",
      "analytic_los=0 logistic=0 constant_anisotropy=1\n",
      "No PSF/pixel convolution because sigmapsf=0 pixsize=0\n",
      "inc=45.3; beta[0]=0.0; kappa=1.00; M/L=1.00; BH=0.0; chi2/DOF=nan\n",
      "Total mass MGE (MSun): 8.601e+12\n",
      "\n",
      "sigma_e: 142.43 km/s\n"
     ]
    },
    {
     "name": "stdout",
     "output_type": "stream",
     "text": [
      "jam_axi_proj(align='sph', moment='zz') -- elapsed time sec: 0.91\n",
      "analytic_los=0 logistic=0 constant_anisotropy=1\n",
      "No PSF/pixel convolution because sigmapsf=0 pixsize=0\n",
      "inc=56.2; beta[0]=0.0; kappa=1.00; M/L=1.00; BH=0.0; chi2/DOF=nan\n",
      "Total mass MGE (MSun): 8.601e+12\n",
      "\n",
      "sigma_e: 139.73 km/s\n"
     ]
    },
    {
     "name": "stdout",
     "output_type": "stream",
     "text": [
      "jam_axi_proj(align='sph', moment='zz') -- elapsed time sec: 0.93\n",
      "analytic_los=0 logistic=0 constant_anisotropy=1\n",
      "No PSF/pixel convolution because sigmapsf=0 pixsize=0\n",
      "inc=45.4; beta[0]=0.0; kappa=1.00; M/L=1.00; BH=0.0; chi2/DOF=nan\n",
      "Total mass MGE (MSun): 8.601e+12\n",
      "\n",
      "sigma_e: 143.14 km/s\n"
     ]
    },
    {
     "name": "stdout",
     "output_type": "stream",
     "text": [
      "jam_axi_proj(align='sph', moment='zz') -- elapsed time sec: 1.03\n",
      "analytic_los=0 logistic=0 constant_anisotropy=1\n",
      "No PSF/pixel convolution because sigmapsf=0 pixsize=0\n",
      "inc=80.6; beta[0]=0.0; kappa=1.00; M/L=1.00; BH=0.0; chi2/DOF=nan\n",
      "Total mass MGE (MSun): 7.577e+12\n",
      "\n",
      "sigma_e: 143.05 km/s\n"
     ]
    },
    {
     "name": "stdout",
     "output_type": "stream",
     "text": [
      "jam_axi_proj(align='sph', moment='zz') -- elapsed time sec: 1.05\n",
      "analytic_los=0 logistic=0 constant_anisotropy=1\n",
      "No PSF/pixel convolution because sigmapsf=0 pixsize=0\n",
      "inc=75.7; beta[0]=0.0; kappa=1.00; M/L=1.00; BH=0.0; chi2/DOF=nan\n",
      "Total mass MGE (MSun): 7.577e+12\n",
      "\n",
      "sigma_e: 126.55 km/s\n"
     ]
    },
    {
     "name": "stdout",
     "output_type": "stream",
     "text": [
      "jam_axi_proj(align='sph', moment='zz') -- elapsed time sec: 0.89\n",
      "analytic_los=0 logistic=0 constant_anisotropy=1\n",
      "No PSF/pixel convolution because sigmapsf=0 pixsize=0\n",
      "inc=59.3; beta[0]=0.0; kappa=1.00; M/L=1.00; BH=0.0; chi2/DOF=nan\n",
      "Total mass MGE (MSun): 7.577e+12\n",
      "\n",
      "sigma_e: 142.47 km/s\n"
     ]
    },
    {
     "name": "stdout",
     "output_type": "stream",
     "text": [
      "jam_axi_proj(align='sph', moment='zz') -- elapsed time sec: 1.03\n",
      "analytic_los=0 logistic=0 constant_anisotropy=1\n",
      "No PSF/pixel convolution because sigmapsf=0 pixsize=0\n",
      "inc=88.5; beta[0]=0.0; kappa=1.00; M/L=1.00; BH=0.0; chi2/DOF=nan\n",
      "Total mass MGE (MSun): 7.577e+12\n",
      "\n",
      "sigma_e: 145.41 km/s\n"
     ]
    },
    {
     "name": "stdout",
     "output_type": "stream",
     "text": [
      "jam_axi_proj(align='sph', moment='zz') -- elapsed time sec: 0.98\n",
      "analytic_los=0 logistic=0 constant_anisotropy=1\n",
      "No PSF/pixel convolution because sigmapsf=0 pixsize=0\n",
      "inc=78.4; beta[0]=0.0; kappa=1.00; M/L=1.00; BH=0.0; chi2/DOF=nan\n",
      "Total mass MGE (MSun): 7.577e+12\n",
      "\n",
      "sigma_e: 133.80 km/s\n"
     ]
    },
    {
     "name": "stdout",
     "output_type": "stream",
     "text": [
      "jam_axi_proj(align='sph', moment='zz') -- elapsed time sec: 0.92\n",
      "analytic_los=0 logistic=0 constant_anisotropy=1\n",
      "No PSF/pixel convolution because sigmapsf=0 pixsize=0\n",
      "inc=85.1; beta[0]=0.0; kappa=1.00; M/L=1.00; BH=0.0; chi2/DOF=nan\n",
      "Total mass MGE (MSun): 7.577e+12\n",
      "\n",
      "sigma_e: 122.41 km/s\n"
     ]
    },
    {
     "name": "stdout",
     "output_type": "stream",
     "text": [
      "jam_axi_proj(align='sph', moment='zz') -- elapsed time sec: 1.00\n",
      "analytic_los=0 logistic=0 constant_anisotropy=1\n",
      "No PSF/pixel convolution because sigmapsf=0 pixsize=0\n",
      "inc=88.1; beta[0]=0.0; kappa=1.00; M/L=1.00; BH=0.0; chi2/DOF=nan\n",
      "Total mass MGE (MSun): 7.577e+12\n",
      "\n",
      "sigma_e: 123.12 km/s\n"
     ]
    },
    {
     "name": "stdout",
     "output_type": "stream",
     "text": [
      "jam_axi_proj(align='sph', moment='zz') -- elapsed time sec: 0.98\n",
      "analytic_los=0 logistic=0 constant_anisotropy=1\n",
      "No PSF/pixel convolution because sigmapsf=0 pixsize=0\n",
      "inc=86.0; beta[0]=0.0; kappa=1.00; M/L=1.00; BH=0.0; chi2/DOF=nan\n",
      "Total mass MGE (MSun): 7.577e+12\n",
      "\n",
      "sigma_e: 126.30 km/s\n"
     ]
    },
    {
     "name": "stdout",
     "output_type": "stream",
     "text": [
      "jam_axi_proj(align='sph', moment='zz') -- elapsed time sec: 0.89\n",
      "analytic_los=0 logistic=0 constant_anisotropy=1\n",
      "No PSF/pixel convolution because sigmapsf=0 pixsize=0\n",
      "inc=59.6; beta[0]=0.0; kappa=1.00; M/L=1.00; BH=0.0; chi2/DOF=nan\n",
      "Total mass MGE (MSun): 7.577e+12\n",
      "\n",
      "sigma_e: 142.31 km/s\n"
     ]
    },
    {
     "name": "stdout",
     "output_type": "stream",
     "text": [
      "jam_axi_proj(align='sph', moment='zz') -- elapsed time sec: 0.95\n",
      "analytic_los=0 logistic=0 constant_anisotropy=1\n",
      "No PSF/pixel convolution because sigmapsf=0 pixsize=0\n",
      "inc=66.3; beta[0]=0.0; kappa=1.00; M/L=1.00; BH=0.0; chi2/DOF=nan\n",
      "Total mass MGE (MSun): 7.577e+12\n",
      "\n",
      "sigma_e: 147.79 km/s\n"
     ]
    },
    {
     "name": "stdout",
     "output_type": "stream",
     "text": [
      "jam_axi_proj(align='sph', moment='zz') -- elapsed time sec: 0.97\n",
      "analytic_los=0 logistic=0 constant_anisotropy=1\n",
      "No PSF/pixel convolution because sigmapsf=0 pixsize=0\n",
      "inc=75.0; beta[0]=0.0; kappa=1.00; M/L=1.00; BH=0.0; chi2/DOF=nan\n",
      "Total mass MGE (MSun): 1.024e+13\n",
      "\n",
      "sigma_e: 149.86 km/s\n"
     ]
    },
    {
     "name": "stdout",
     "output_type": "stream",
     "text": [
      "jam_axi_proj(align='sph', moment='zz') -- elapsed time sec: 0.80\n",
      "analytic_los=0 logistic=0 constant_anisotropy=1\n",
      "No PSF/pixel convolution because sigmapsf=0 pixsize=0\n",
      "inc=83.6; beta[0]=0.0; kappa=1.00; M/L=1.00; BH=0.0; chi2/DOF=nan\n",
      "Total mass MGE (MSun): 1.024e+13\n",
      "\n",
      "sigma_e: 159.48 km/s\n"
     ]
    },
    {
     "name": "stdout",
     "output_type": "stream",
     "text": [
      "jam_axi_proj(align='sph', moment='zz') -- elapsed time sec: 1.00\n",
      "analytic_los=0 logistic=0 constant_anisotropy=1\n",
      "No PSF/pixel convolution because sigmapsf=0 pixsize=0\n",
      "inc=70.8; beta[0]=0.0; kappa=1.00; M/L=1.00; BH=0.0; chi2/DOF=nan\n",
      "Total mass MGE (MSun): 1.024e+13\n",
      "\n",
      "sigma_e: 162.64 km/s\n"
     ]
    },
    {
     "name": "stdout",
     "output_type": "stream",
     "text": [
      "jam_axi_proj(align='sph', moment='zz') -- elapsed time sec: 0.94\n",
      "analytic_los=0 logistic=0 constant_anisotropy=1\n",
      "No PSF/pixel convolution because sigmapsf=0 pixsize=0\n",
      "inc=82.1; beta[0]=0.0; kappa=1.00; M/L=1.00; BH=0.0; chi2/DOF=nan\n",
      "Total mass MGE (MSun): 1.024e+13\n",
      "\n",
      "sigma_e: 136.09 km/s\n"
     ]
    },
    {
     "name": "stdout",
     "output_type": "stream",
     "text": [
      "jam_axi_proj(align='sph', moment='zz') -- elapsed time sec: 0.98\n",
      "analytic_los=0 logistic=0 constant_anisotropy=1\n",
      "No PSF/pixel convolution because sigmapsf=0 pixsize=0\n",
      "inc=82.3; beta[0]=0.0; kappa=1.00; M/L=1.00; BH=0.0; chi2/DOF=nan\n",
      "Total mass MGE (MSun): 1.024e+13\n",
      "\n",
      "sigma_e: 143.71 km/s\n"
     ]
    },
    {
     "name": "stdout",
     "output_type": "stream",
     "text": [
      "jam_axi_proj(align='sph', moment='zz') -- elapsed time sec: 0.98\n",
      "analytic_los=0 logistic=0 constant_anisotropy=1\n",
      "No PSF/pixel convolution because sigmapsf=0 pixsize=0\n",
      "inc=84.9; beta[0]=0.0; kappa=1.00; M/L=1.00; BH=0.0; chi2/DOF=nan\n",
      "Total mass MGE (MSun): 1.024e+13\n",
      "\n",
      "sigma_e: 150.58 km/s\n"
     ]
    },
    {
     "name": "stdout",
     "output_type": "stream",
     "text": [
      "jam_axi_proj(align='sph', moment='zz') -- elapsed time sec: 0.97\n",
      "analytic_los=0 logistic=0 constant_anisotropy=1\n",
      "No PSF/pixel convolution because sigmapsf=0 pixsize=0\n",
      "inc=73.1; beta[0]=0.0; kappa=1.00; M/L=1.00; BH=0.0; chi2/DOF=nan\n",
      "Total mass MGE (MSun): 1.024e+13\n",
      "\n",
      "sigma_e: 153.29 km/s\n"
     ]
    },
    {
     "name": "stdout",
     "output_type": "stream",
     "text": [
      "jam_axi_proj(align='sph', moment='zz') -- elapsed time sec: 0.92\n",
      "analytic_los=0 logistic=0 constant_anisotropy=1\n",
      "No PSF/pixel convolution because sigmapsf=0 pixsize=0\n",
      "inc=90.0; beta[0]=0.0; kappa=1.00; M/L=1.00; BH=0.0; chi2/DOF=nan\n",
      "Total mass MGE (MSun): 1.024e+13\n",
      "\n",
      "sigma_e: 126.60 km/s\n"
     ]
    },
    {
     "name": "stdout",
     "output_type": "stream",
     "text": [
      "jam_axi_proj(align='sph', moment='zz') -- elapsed time sec: 0.96\n",
      "analytic_los=0 logistic=0 constant_anisotropy=1\n",
      "No PSF/pixel convolution because sigmapsf=0 pixsize=0\n",
      "inc=84.1; beta[0]=0.0; kappa=1.00; M/L=1.00; BH=0.0; chi2/DOF=nan\n",
      "Total mass MGE (MSun): 1.024e+13\n",
      "\n",
      "sigma_e: 162.67 km/s\n"
     ]
    },
    {
     "name": "stdout",
     "output_type": "stream",
     "text": [
      "jam_axi_proj(align='sph', moment='zz') -- elapsed time sec: 0.98\n",
      "analytic_los=0 logistic=0 constant_anisotropy=1\n",
      "No PSF/pixel convolution because sigmapsf=0 pixsize=0\n",
      "inc=69.0; beta[0]=0.0; kappa=1.00; M/L=1.00; BH=0.0; chi2/DOF=nan\n",
      "Total mass MGE (MSun): 1.024e+13\n",
      "\n",
      "sigma_e: 165.66 km/s\n"
     ]
    },
    {
     "name": "stdout",
     "output_type": "stream",
     "text": [
      "jam_axi_proj(align='sph', moment='zz') -- elapsed time sec: 0.98\n",
      "analytic_los=0 logistic=0 constant_anisotropy=1\n",
      "No PSF/pixel convolution because sigmapsf=0 pixsize=0\n",
      "inc=82.9; beta[0]=0.0; kappa=1.00; M/L=1.00; BH=0.0; chi2/DOF=nan\n",
      "Total mass MGE (MSun): 8.426e+12\n",
      "\n",
      "sigma_e: 131.16 km/s\n"
     ]
    },
    {
     "name": "stdout",
     "output_type": "stream",
     "text": [
      "jam_axi_proj(align='sph', moment='zz') -- elapsed time sec: 0.96\n",
      "analytic_los=0 logistic=0 constant_anisotropy=1\n",
      "No PSF/pixel convolution because sigmapsf=0 pixsize=0\n",
      "inc=74.9; beta[0]=0.0; kappa=1.00; M/L=1.00; BH=0.0; chi2/DOF=nan\n",
      "Total mass MGE (MSun): 8.426e+12\n",
      "\n",
      "sigma_e: 140.29 km/s\n"
     ]
    },
    {
     "name": "stdout",
     "output_type": "stream",
     "text": [
      "jam_axi_proj(align='sph', moment='zz') -- elapsed time sec: 1.01\n",
      "analytic_los=0 logistic=0 constant_anisotropy=1\n",
      "No PSF/pixel convolution because sigmapsf=0 pixsize=0\n",
      "inc=67.4; beta[0]=0.0; kappa=1.00; M/L=1.00; BH=0.0; chi2/DOF=nan\n",
      "Total mass MGE (MSun): 8.426e+12\n",
      "\n",
      "sigma_e: 154.18 km/s\n"
     ]
    },
    {
     "name": "stdout",
     "output_type": "stream",
     "text": [
      "jam_axi_proj(align='sph', moment='zz') -- elapsed time sec: 0.90\n",
      "analytic_los=0 logistic=0 constant_anisotropy=1\n",
      "No PSF/pixel convolution because sigmapsf=0 pixsize=0\n",
      "inc=64.5; beta[0]=0.0; kappa=1.00; M/L=1.00; BH=0.0; chi2/DOF=nan\n",
      "Total mass MGE (MSun): 8.426e+12\n",
      "\n",
      "sigma_e: 147.70 km/s\n"
     ]
    },
    {
     "name": "stdout",
     "output_type": "stream",
     "text": [
      "jam_axi_proj(align='sph', moment='zz') -- elapsed time sec: 1.00\n",
      "analytic_los=0 logistic=0 constant_anisotropy=1\n",
      "No PSF/pixel convolution because sigmapsf=0 pixsize=0\n",
      "inc=86.0; beta[0]=0.0; kappa=1.00; M/L=1.00; BH=0.0; chi2/DOF=nan\n",
      "Total mass MGE (MSun): 8.426e+12\n",
      "\n",
      "sigma_e: 132.50 km/s\n"
     ]
    },
    {
     "name": "stdout",
     "output_type": "stream",
     "text": [
      "jam_axi_proj(align='sph', moment='zz') -- elapsed time sec: 0.96\n",
      "analytic_los=0 logistic=0 constant_anisotropy=1\n",
      "No PSF/pixel convolution because sigmapsf=0 pixsize=0\n",
      "inc=84.8; beta[0]=0.0; kappa=1.00; M/L=1.00; BH=0.0; chi2/DOF=nan\n",
      "Total mass MGE (MSun): 8.426e+12\n",
      "\n",
      "sigma_e: 150.84 km/s\n"
     ]
    },
    {
     "name": "stdout",
     "output_type": "stream",
     "text": [
      "jam_axi_proj(align='sph', moment='zz') -- elapsed time sec: 0.92\n",
      "analytic_los=0 logistic=0 constant_anisotropy=1\n",
      "No PSF/pixel convolution because sigmapsf=0 pixsize=0\n",
      "inc=90.0; beta[0]=0.0; kappa=1.00; M/L=1.00; BH=0.0; chi2/DOF=nan\n",
      "Total mass MGE (MSun): 8.426e+12\n",
      "\n",
      "sigma_e: 117.47 km/s\n"
     ]
    },
    {
     "name": "stdout",
     "output_type": "stream",
     "text": [
      "jam_axi_proj(align='sph', moment='zz') -- elapsed time sec: 0.97\n",
      "analytic_los=0 logistic=0 constant_anisotropy=1\n",
      "No PSF/pixel convolution because sigmapsf=0 pixsize=0\n",
      "inc=87.0; beta[0]=0.0; kappa=1.00; M/L=1.00; BH=0.0; chi2/DOF=nan\n",
      "Total mass MGE (MSun): 8.426e+12\n",
      "\n",
      "sigma_e: 136.32 km/s\n"
     ]
    },
    {
     "name": "stdout",
     "output_type": "stream",
     "text": [
      "jam_axi_proj(align='sph', moment='zz') -- elapsed time sec: 0.92\n",
      "analytic_los=0 logistic=0 constant_anisotropy=1\n",
      "No PSF/pixel convolution because sigmapsf=0 pixsize=0\n",
      "inc=90.0; beta[0]=0.0; kappa=1.00; M/L=1.00; BH=0.0; chi2/DOF=nan\n",
      "Total mass MGE (MSun): 8.426e+12\n",
      "\n",
      "sigma_e: 118.23 km/s\n"
     ]
    },
    {
     "name": "stdout",
     "output_type": "stream",
     "text": [
      "jam_axi_proj(align='sph', moment='zz') -- elapsed time sec: 0.97\n",
      "analytic_los=0 logistic=0 constant_anisotropy=1\n",
      "No PSF/pixel convolution because sigmapsf=0 pixsize=0\n",
      "inc=75.4; beta[0]=0.0; kappa=1.00; M/L=1.00; BH=0.0; chi2/DOF=nan\n",
      "Total mass MGE (MSun): 8.426e+12\n",
      "\n",
      "sigma_e: 138.00 km/s\n"
     ]
    },
    {
     "name": "stdout",
     "output_type": "stream",
     "text": [
      "jam_axi_proj(align='sph', moment='zz') -- elapsed time sec: 0.91\n",
      "analytic_los=0 logistic=0 constant_anisotropy=1\n",
      "No PSF/pixel convolution because sigmapsf=0 pixsize=0\n",
      "inc=77.8; beta[0]=0.0; kappa=1.00; M/L=1.00; BH=0.0; chi2/DOF=nan\n",
      "Total mass MGE (MSun): 7.075e+12\n",
      "\n",
      "sigma_e: 139.58 km/s\n"
     ]
    },
    {
     "name": "stdout",
     "output_type": "stream",
     "text": [
      "jam_axi_proj(align='sph', moment='zz') -- elapsed time sec: 0.95\n",
      "analytic_los=0 logistic=0 constant_anisotropy=1\n",
      "No PSF/pixel convolution because sigmapsf=0 pixsize=0\n",
      "inc=81.1; beta[0]=0.0; kappa=1.00; M/L=1.00; BH=0.0; chi2/DOF=nan\n",
      "Total mass MGE (MSun): 7.075e+12\n",
      "\n",
      "sigma_e: 137.95 km/s\n"
     ]
    },
    {
     "name": "stdout",
     "output_type": "stream",
     "text": [
      "jam_axi_proj(align='sph', moment='zz') -- elapsed time sec: 1.00\n",
      "analytic_los=0 logistic=0 constant_anisotropy=1\n",
      "No PSF/pixel convolution because sigmapsf=0 pixsize=0\n",
      "inc=79.2; beta[0]=0.0; kappa=1.00; M/L=1.00; BH=0.0; chi2/DOF=nan\n",
      "Total mass MGE (MSun): 7.075e+12\n",
      "\n",
      "sigma_e: 125.95 km/s\n"
     ]
    },
    {
     "name": "stdout",
     "output_type": "stream",
     "text": [
      "jam_axi_proj(align='sph', moment='zz') -- elapsed time sec: 0.94\n",
      "analytic_los=0 logistic=0 constant_anisotropy=1\n",
      "No PSF/pixel convolution because sigmapsf=0 pixsize=0\n",
      "inc=84.6; beta[0]=0.0; kappa=1.00; M/L=1.00; BH=0.0; chi2/DOF=nan\n",
      "Total mass MGE (MSun): 7.075e+12\n",
      "\n",
      "sigma_e: 131.84 km/s\n"
     ]
    },
    {
     "name": "stdout",
     "output_type": "stream",
     "text": [
      "jam_axi_proj(align='sph', moment='zz') -- elapsed time sec: 0.96\n",
      "analytic_los=0 logistic=0 constant_anisotropy=1\n",
      "No PSF/pixel convolution because sigmapsf=0 pixsize=0\n",
      "inc=84.3; beta[0]=0.0; kappa=1.00; M/L=1.00; BH=0.0; chi2/DOF=nan\n",
      "Total mass MGE (MSun): 7.075e+12\n",
      "\n",
      "sigma_e: 120.30 km/s\n"
     ]
    },
    {
     "name": "stdout",
     "output_type": "stream",
     "text": [
      "jam_axi_proj(align='sph', moment='zz') -- elapsed time sec: 0.94\n",
      "analytic_los=0 logistic=0 constant_anisotropy=1\n",
      "No PSF/pixel convolution because sigmapsf=0 pixsize=0\n",
      "inc=81.5; beta[0]=0.0; kappa=1.00; M/L=1.00; BH=0.0; chi2/DOF=nan\n",
      "Total mass MGE (MSun): 7.075e+12\n",
      "\n",
      "sigma_e: 123.57 km/s\n"
     ]
    },
    {
     "name": "stdout",
     "output_type": "stream",
     "text": [
      "jam_axi_proj(align='sph', moment='zz') -- elapsed time sec: 0.85\n",
      "analytic_los=0 logistic=0 constant_anisotropy=1\n",
      "No PSF/pixel convolution because sigmapsf=0 pixsize=0\n",
      "inc=30.9; beta[0]=0.0; kappa=1.00; M/L=1.00; BH=0.0; chi2/DOF=nan\n",
      "Total mass MGE (MSun): 7.075e+12\n",
      "\n",
      "sigma_e: 148.16 km/s\n"
     ]
    },
    {
     "name": "stdout",
     "output_type": "stream",
     "text": [
      "jam_axi_proj(align='sph', moment='zz') -- elapsed time sec: 0.94\n",
      "analytic_los=0 logistic=0 constant_anisotropy=1\n",
      "No PSF/pixel convolution because sigmapsf=0 pixsize=0\n",
      "inc=86.9; beta[0]=0.0; kappa=1.00; M/L=1.00; BH=0.0; chi2/DOF=nan\n",
      "Total mass MGE (MSun): 7.075e+12\n",
      "\n",
      "sigma_e: 130.26 km/s\n"
     ]
    },
    {
     "name": "stdout",
     "output_type": "stream",
     "text": [
      "jam_axi_proj(align='sph', moment='zz') -- elapsed time sec: 0.95\n",
      "analytic_los=0 logistic=0 constant_anisotropy=1\n",
      "No PSF/pixel convolution because sigmapsf=0 pixsize=0\n",
      "inc=69.3; beta[0]=0.0; kappa=1.00; M/L=1.00; BH=0.0; chi2/DOF=nan\n",
      "Total mass MGE (MSun): 7.075e+12\n",
      "\n",
      "sigma_e: 146.55 km/s\n"
     ]
    },
    {
     "name": "stdout",
     "output_type": "stream",
     "text": [
      "jam_axi_proj(align='sph', moment='zz') -- elapsed time sec: 0.97\n",
      "analytic_los=0 logistic=0 constant_anisotropy=1\n",
      "No PSF/pixel convolution because sigmapsf=0 pixsize=0\n",
      "inc=73.2; beta[0]=0.0; kappa=1.00; M/L=1.00; BH=0.0; chi2/DOF=nan\n",
      "Total mass MGE (MSun): 7.075e+12\n",
      "\n",
      "sigma_e: 136.29 km/s\n"
     ]
    }
   ],
   "source": [
    "if rerun_calculation:\n",
    "    vel_disp_tri_all = recover_vel_disp(peak_lum, sigma_lum_tri, Qobs_tri_all, peak_den, sigma_den_tri, Qobs_tri_all, inc_tri_all, distance)\n",
    "\n",
    "mean_vel_disp_tri_all = np.mean(vel_disp_tri_all)"
   ]
  },
  {
   "cell_type": "markdown",
   "id": "1aa9129a",
   "metadata": {
    "papermill": {
     "duration": 0.034519,
     "end_time": "2025-09-01T05:18:31.611178",
     "exception": false,
     "start_time": "2025-09-01T05:18:31.576659",
     "status": "completed"
    },
    "tags": []
   },
   "source": [
    "## save data"
   ]
  },
  {
   "cell_type": "code",
   "execution_count": 16,
   "id": "52142032",
   "metadata": {
    "execution": {
     "iopub.execute_input": "2025-09-01T05:18:31.691394Z",
     "iopub.status.busy": "2025-09-01T05:18:31.691235Z",
     "iopub.status.idle": "2025-09-01T05:18:31.693577Z",
     "shell.execute_reply": "2025-09-01T05:18:31.693350Z"
    },
    "papermill": {
     "duration": 0.042383,
     "end_time": "2025-09-01T05:18:31.694110",
     "exception": false,
     "start_time": "2025-09-01T05:18:31.651727",
     "status": "completed"
    },
    "tags": []
   },
   "outputs": [],
   "source": [
    "if rerun_calculation:\n",
    "    data = np.array([inc_tri_all, eobs_tri_all, vel_disp_tri_all])\n",
    "    np.save('./triaxial_ellipticity_{}.npy' .format(oblate_name), data)\n",
    "\n",
    "    "
   ]
  },
  {
   "cell_type": "markdown",
   "id": "307a921a",
   "metadata": {
    "papermill": {
     "duration": 0.06641,
     "end_time": "2025-09-01T05:18:31.814351",
     "exception": false,
     "start_time": "2025-09-01T05:18:31.747941",
     "status": "completed"
    },
    "tags": []
   },
   "source": [
    "##### Compare with axisymmetric sample with NO lensing selection"
   ]
  },
  {
   "cell_type": "code",
   "execution_count": 17,
   "id": "3bd81bda",
   "metadata": {
    "execution": {
     "iopub.execute_input": "2025-09-01T05:18:31.880252Z",
     "iopub.status.busy": "2025-09-01T05:18:31.880080Z",
     "iopub.status.idle": "2025-09-01T05:18:31.882105Z",
     "shell.execute_reply": "2025-09-01T05:18:31.881881Z"
    },
    "papermill": {
     "duration": 0.03185,
     "end_time": "2025-09-01T05:18:31.882726",
     "exception": false,
     "start_time": "2025-09-01T05:18:31.850876",
     "status": "completed"
    },
    "tags": []
   },
   "outputs": [],
   "source": [
    "def percent_diff(a, b):\n",
    "    return np.abs(a-b) / np.mean([a, b]) * 100"
   ]
  },
  {
   "cell_type": "code",
   "execution_count": 18,
   "id": "73797362",
   "metadata": {
    "execution": {
     "iopub.execute_input": "2025-09-01T05:18:31.958350Z",
     "iopub.status.busy": "2025-09-01T05:18:31.958162Z",
     "iopub.status.idle": "2025-09-01T05:18:32.028699Z",
     "shell.execute_reply": "2025-09-01T05:18:32.028454Z"
    },
    "papermill": {
     "duration": 0.101359,
     "end_time": "2025-09-01T05:18:32.029488",
     "exception": false,
     "start_time": "2025-09-01T05:18:31.928129",
     "status": "completed"
    },
    "tags": []
   },
   "outputs": [
    {
     "data": {
      "image/png": "[encoded data removed]",
      "text/plain": [
       "<Figure size 640x480 with 1 Axes>"
      ]
     },
     "metadata": {},
     "output_type": "display_data"
    },
    {
     "name": "stdout",
     "output_type": "stream",
     "text": [
      "0.09802930540210138 %\n"
     ]
    }
   ],
   "source": [
    "mock_data = np.load('./tng_kin_{}.npy' .format(oblate_name))\n",
    "vel_disp_axi_all = mock_data[2, :]\n",
    "\n",
    "plt.figure()\n",
    "plt.hist(vel_disp_axi_all, density=True, lw=2, histtype='step', label = 'recovered, axi', bins=20, color=clist[0])\n",
    "# plt.hist(sigma_e_data, density=True, lw=2, histtype='step', label ='data', bins=20, color=clist[1])\n",
    "plt.hist(vel_disp_tri_all, density=True, lw=2, histtype='step', label = 'recovered, tri', bins=20, color=clist[2])\n",
    "plt.axvline(np.mean(vel_disp_axi_all), ls = '--', color = clist[0], marker = ' ', label = 'mean, data')\n",
    "plt.axvline(mean_vel_disp_tri_all, ls = '--', color = clist[2], marker = ' ', label = 'mean, triaxial')\n",
    "plt.xlabel(r'$\\sigma^P$ [km/s]')\n",
    "plt.ylabel('PDF')\n",
    "plt.legend()\n",
    "plt.show()\n",
    "\n",
    "print(percent_diff(mean_vel_disp_tri_all, np.mean(sigma_e_data)), '%')"
   ]
  },
  {
   "cell_type": "markdown",
   "id": "8f9bb73b",
   "metadata": {
    "papermill": {
     "duration": 0.029019,
     "end_time": "2025-09-01T05:18:32.088105",
     "exception": false,
     "start_time": "2025-09-01T05:18:32.059086",
     "status": "completed"
    },
    "tags": []
   },
   "source": [
    "## Test deprojected mass distribution"
   ]
  },
  {
   "cell_type": "code",
   "execution_count": 19,
   "id": "e015ae7c",
   "metadata": {
    "execution": {
     "iopub.execute_input": "2025-09-01T05:18:32.147072Z",
     "iopub.status.busy": "2025-09-01T05:18:32.146892Z",
     "iopub.status.idle": "2025-09-01T05:18:32.148891Z",
     "shell.execute_reply": "2025-09-01T05:18:32.148665Z"
    },
    "papermill": {
     "duration": 0.032223,
     "end_time": "2025-09-01T05:18:32.149622",
     "exception": false,
     "start_time": "2025-09-01T05:18:32.117399",
     "status": "completed"
    },
    "tags": []
   },
   "outputs": [],
   "source": [
    "def total_mass(peak_den, sigma_den, Qobs, distance):\n",
    "    pc = distance*np.pi/0.648\n",
    "    return np.sum(2 * np.pi * peak_den * (sigma_den*pc)**2 * Qobs)"
   ]
  },
  {
   "cell_type": "code",
   "execution_count": 20,
   "id": "b3ceaf61",
   "metadata": {
    "execution": {
     "iopub.execute_input": "2025-09-01T05:18:32.209482Z",
     "iopub.status.busy": "2025-09-01T05:18:32.209343Z",
     "iopub.status.idle": "2025-09-01T05:18:32.291055Z",
     "shell.execute_reply": "2025-09-01T05:18:32.290802Z"
    },
    "papermill": {
     "duration": 0.11202,
     "end_time": "2025-09-01T05:18:32.291805",
     "exception": false,
     "start_time": "2025-09-01T05:18:32.179785",
     "status": "completed"
    },
    "tags": []
   },
   "outputs": [
    {
     "data": {
      "image/png": "[encoded data removed]",
      "text/plain": [
       "<Figure size 640x480 with 1 Axes>"
      ]
     },
     "metadata": {},
     "output_type": "display_data"
    }
   ],
   "source": [
    "total_mass_tri_all = np.zeros_like(inc_tri_all)\n",
    "for i in range(len(total_mass_tri_all)):\n",
    "    total_mass_tri_all[i] = total_mass(peak_den[i], sigma_den_tri[i], Qobs_tri_all[i], distance)\n",
    "\n",
    "total_mass_axi_all = np.zeros_like(inc_data)\n",
    "for i in range(len(total_mass_axi_all)):\n",
    "    total_mass_axi_all[i] = total_mass(peak_den[i], sigma_den[i], qobs_data[i], distance)\n",
    "\n",
    "plt.figure()\n",
    "plt.hist(total_mass_tri_all, density=True, histtype='step', lw=2, label = 'MGE mass, tri', bins=20)\n",
    "plt.hist(total_mass_axi_all, density=True, histtype='step', lw=2, label = 'MGE mass, data', bins=20)\n",
    "plt.axvline(np.mean(total_mass_tri_all), lw=2, ls='--', label = 'mean, tri', color=clist[0], marker = ' ')\n",
    "plt.axvline(np.mean(total_mass_axi_all), lw=2, ls='--', label = 'mean, data', color=clist[1], marker = ' ')\n",
    "plt.xlabel('MGE mass [M_sun]')\n",
    "# plt.xscale('log')\n",
    "plt.ylabel('PDF')\n",
    "plt.legend()\n",
    "plt.show()"
   ]
  },
  {
   "cell_type": "code",
   "execution_count": null,
   "id": "c16692b4",
   "metadata": {
    "papermill": {
     "duration": 0.029661,
     "end_time": "2025-09-01T05:18:32.352404",
     "exception": false,
     "start_time": "2025-09-01T05:18:32.322743",
     "status": "completed"
    },
    "tags": []
   },
   "outputs": [],
   "source": []
  }
 ],
 "metadata": {
  "kernelspec": {
   "display_name": "python(koholint)",
   "language": "python",
   "name": "koholint"
  },
  "language_info": {
   "codemirror_mode": {
    "name": "ipython",
    "version": 3
   },
   "file_extension": ".py",
   "mimetype": "text/x-python",
   "name": "python",
   "nbconvert_exporter": "python",
   "pygments_lexer": "ipython3",
   "version": "3.12.2"
  },
  "papermill": {
   "default_parameters": {},
   "duration": 1223.637023,
   "end_time": "2025-09-01T05:18:32.801938",
   "environment_variables": {},
   "exception": null,
   "input_path": "fig12-triaxial_ellipticity_kin_recovery.ipynb",
   "output_path": "fig12-triaxial_ellipticity_kin_recovery.ipynb",
   "parameters": {},
   "start_time": "2025-09-01T04:58:09.164915",
   "version": "2.6.0"
  }
 },
 "nbformat": 4,
 "nbformat_minor": 5
}